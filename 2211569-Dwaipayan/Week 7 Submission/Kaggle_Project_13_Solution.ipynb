{
 "cells": [
  {
   "cell_type": "markdown",
   "metadata": {},
   "source": [
    "# Kaggle Project 13 - Binary Classification with Kidney Stone Data\n",
    "\n",
    "## Prepared By: Dwaipayan Mukherjee (2211569, AIA - AIML)"
   ]
  },
  {
   "cell_type": "markdown",
   "metadata": {},
   "source": [
    "## About the Project:\n",
    "\n",
    "The dataset for this competition (both train and test) was generated from a deep learning model trained on the Kidney Stone Prediction based on Urine Analysis dataset. Feature distributions are close to, but not exactly the same, as the original.\n",
    "\n",
    "The original dataset can be used to predict the presence of kidney stones based on urine analysis. The 79 urine specimens, were analyzed in an effort to determine if certain physical characteristics of the urine might be related to the formation of calcium oxalate crystals.\n",
    "\n",
    "The six physical characteristics of the urine are: \n",
    "\n",
    "1. specific gravity, the density of the urine relative to water; \n",
    "\n",
    "2. pH, the negative logarithm of the hydrogen ion; \n",
    "\n",
    "3. osmolarity (mOsm), a unit used in biology and medicine but not in physical chemistry. Osmolarity is proportional to the concentration of molecules in solution; \n",
    "\n",
    "4. conductivity (mMho milliMho). One Mho is one reciprocal Ohm. Conductivity is proportional to the concentration of charged ions in solution; \n",
    "\n",
    "5. urea concentration in millimoles per litre; and \n",
    "\n",
    "6. calcium concentration (CALC) in millimolesllitre."
   ]
  },
  {
   "cell_type": "markdown",
   "metadata": {},
   "source": [
    "## 1. Necessary Imports:\n",
    "\n",
    "Here I first import the basic libraries needed for working: NumPy, Pandas, and the visualization libraries matplotlib and seaborn."
   ]
  },
  {
   "cell_type": "code",
   "execution_count": 1,
   "metadata": {},
   "outputs": [],
   "source": [
    "import numpy as np\n",
    "import pandas as pd\n",
    "import matplotlib.pyplot as plt\n",
    "import seaborn as sns\n",
    "%matplotlib inline"
   ]
  },
  {
   "cell_type": "code",
   "execution_count": 38,
   "metadata": {},
   "outputs": [],
   "source": [
    "from collections import OrderedDict\n",
    "from sklearn.preprocessing import OrdinalEncoder, StandardScaler\n",
    "from sklearn.model_selection import GridSearchCV, StratifiedKFold\n",
    "from xgboost import XGBClassifier\n",
    "from sklearn.metrics import roc_curve, auc, RocCurveDisplay,roc_auc_score\n",
    "import lightgbm as lgbm\n",
    "from catboost import CatBoostClassifier\n",
    "from sklearn.ensemble import RandomForestClassifier"
   ]
  },
  {
   "cell_type": "code",
   "execution_count": null,
   "metadata": {},
   "outputs": [],
   "source": []
  },
  {
   "cell_type": "markdown",
   "metadata": {},
   "source": [
    "## 2. Loading the train, test, original and submission datasets as Pandas Dataframes:\n",
    "\n",
    "Since all the datasets are in csv format, and I want to load it as Pandas dataframes, I have used the `pd.read_csv()` method that reads the csv files as Pandas dataframes."
   ]
  },
  {
   "cell_type": "code",
   "execution_count": 3,
   "metadata": {},
   "outputs": [],
   "source": [
    "train = pd.read_csv('train.csv')\n",
    "test = pd.read_csv('test.csv')\n",
    "submission = pd.read_csv('sample_submission.csv')\n",
    "original = pd.read_csv('kindey stone urine analysis.csv')"
   ]
  },
  {
   "cell_type": "markdown",
   "metadata": {},
   "source": [
    "## 3. Understanding the data\n",
    "\n",
    "First I will look into the heads of the datasets: train, test, original and submissions. The `head()` allows us to look at the top 5 rows of the datasets. We can even put in a number in the parenthesis of `heads()` to view the number of rows mentioned. "
   ]
  },
  {
   "cell_type": "code",
   "execution_count": 4,
   "metadata": {},
   "outputs": [
    {
     "data": {
      "text/html": [
       "<div>\n",
       "<style scoped>\n",
       "    .dataframe tbody tr th:only-of-type {\n",
       "        vertical-align: middle;\n",
       "    }\n",
       "\n",
       "    .dataframe tbody tr th {\n",
       "        vertical-align: top;\n",
       "    }\n",
       "\n",
       "    .dataframe thead th {\n",
       "        text-align: right;\n",
       "    }\n",
       "</style>\n",
       "<table border=\"1\" class=\"dataframe\">\n",
       "  <thead>\n",
       "    <tr style=\"text-align: right;\">\n",
       "      <th></th>\n",
       "      <th>id</th>\n",
       "      <th>gravity</th>\n",
       "      <th>ph</th>\n",
       "      <th>osmo</th>\n",
       "      <th>cond</th>\n",
       "      <th>urea</th>\n",
       "      <th>calc</th>\n",
       "      <th>target</th>\n",
       "    </tr>\n",
       "  </thead>\n",
       "  <tbody>\n",
       "    <tr>\n",
       "      <th>0</th>\n",
       "      <td>0</td>\n",
       "      <td>1.013</td>\n",
       "      <td>6.19</td>\n",
       "      <td>443</td>\n",
       "      <td>14.8</td>\n",
       "      <td>124</td>\n",
       "      <td>1.45</td>\n",
       "      <td>0</td>\n",
       "    </tr>\n",
       "    <tr>\n",
       "      <th>1</th>\n",
       "      <td>1</td>\n",
       "      <td>1.025</td>\n",
       "      <td>5.40</td>\n",
       "      <td>703</td>\n",
       "      <td>23.6</td>\n",
       "      <td>394</td>\n",
       "      <td>4.18</td>\n",
       "      <td>0</td>\n",
       "    </tr>\n",
       "    <tr>\n",
       "      <th>2</th>\n",
       "      <td>2</td>\n",
       "      <td>1.009</td>\n",
       "      <td>6.13</td>\n",
       "      <td>371</td>\n",
       "      <td>24.5</td>\n",
       "      <td>159</td>\n",
       "      <td>9.04</td>\n",
       "      <td>0</td>\n",
       "    </tr>\n",
       "    <tr>\n",
       "      <th>3</th>\n",
       "      <td>3</td>\n",
       "      <td>1.021</td>\n",
       "      <td>4.91</td>\n",
       "      <td>442</td>\n",
       "      <td>20.8</td>\n",
       "      <td>398</td>\n",
       "      <td>6.63</td>\n",
       "      <td>1</td>\n",
       "    </tr>\n",
       "    <tr>\n",
       "      <th>4</th>\n",
       "      <td>4</td>\n",
       "      <td>1.021</td>\n",
       "      <td>5.53</td>\n",
       "      <td>874</td>\n",
       "      <td>17.8</td>\n",
       "      <td>385</td>\n",
       "      <td>2.21</td>\n",
       "      <td>1</td>\n",
       "    </tr>\n",
       "  </tbody>\n",
       "</table>\n",
       "</div>"
      ],
      "text/plain": [
       "   id  gravity    ph  osmo  cond  urea  calc  target\n",
       "0   0    1.013  6.19   443  14.8   124  1.45       0\n",
       "1   1    1.025  5.40   703  23.6   394  4.18       0\n",
       "2   2    1.009  6.13   371  24.5   159  9.04       0\n",
       "3   3    1.021  4.91   442  20.8   398  6.63       1\n",
       "4   4    1.021  5.53   874  17.8   385  2.21       1"
      ]
     },
     "execution_count": 4,
     "metadata": {},
     "output_type": "execute_result"
    }
   ],
   "source": [
    "train.head()"
   ]
  },
  {
   "cell_type": "code",
   "execution_count": 5,
   "metadata": {},
   "outputs": [
    {
     "data": {
      "text/html": [
       "<div>\n",
       "<style scoped>\n",
       "    .dataframe tbody tr th:only-of-type {\n",
       "        vertical-align: middle;\n",
       "    }\n",
       "\n",
       "    .dataframe tbody tr th {\n",
       "        vertical-align: top;\n",
       "    }\n",
       "\n",
       "    .dataframe thead th {\n",
       "        text-align: right;\n",
       "    }\n",
       "</style>\n",
       "<table border=\"1\" class=\"dataframe\">\n",
       "  <thead>\n",
       "    <tr style=\"text-align: right;\">\n",
       "      <th></th>\n",
       "      <th>id</th>\n",
       "      <th>gravity</th>\n",
       "      <th>ph</th>\n",
       "      <th>osmo</th>\n",
       "      <th>cond</th>\n",
       "      <th>urea</th>\n",
       "      <th>calc</th>\n",
       "    </tr>\n",
       "  </thead>\n",
       "  <tbody>\n",
       "    <tr>\n",
       "      <th>0</th>\n",
       "      <td>414</td>\n",
       "      <td>1.017</td>\n",
       "      <td>5.24</td>\n",
       "      <td>345</td>\n",
       "      <td>11.5</td>\n",
       "      <td>152</td>\n",
       "      <td>1.16</td>\n",
       "    </tr>\n",
       "    <tr>\n",
       "      <th>1</th>\n",
       "      <td>415</td>\n",
       "      <td>1.020</td>\n",
       "      <td>5.68</td>\n",
       "      <td>874</td>\n",
       "      <td>29.0</td>\n",
       "      <td>385</td>\n",
       "      <td>3.46</td>\n",
       "    </tr>\n",
       "    <tr>\n",
       "      <th>2</th>\n",
       "      <td>416</td>\n",
       "      <td>1.024</td>\n",
       "      <td>5.36</td>\n",
       "      <td>698</td>\n",
       "      <td>19.5</td>\n",
       "      <td>354</td>\n",
       "      <td>13.00</td>\n",
       "    </tr>\n",
       "    <tr>\n",
       "      <th>3</th>\n",
       "      <td>417</td>\n",
       "      <td>1.020</td>\n",
       "      <td>5.33</td>\n",
       "      <td>668</td>\n",
       "      <td>25.3</td>\n",
       "      <td>252</td>\n",
       "      <td>3.46</td>\n",
       "    </tr>\n",
       "    <tr>\n",
       "      <th>4</th>\n",
       "      <td>418</td>\n",
       "      <td>1.011</td>\n",
       "      <td>5.87</td>\n",
       "      <td>567</td>\n",
       "      <td>29.0</td>\n",
       "      <td>457</td>\n",
       "      <td>2.36</td>\n",
       "    </tr>\n",
       "  </tbody>\n",
       "</table>\n",
       "</div>"
      ],
      "text/plain": [
       "    id  gravity    ph  osmo  cond  urea   calc\n",
       "0  414    1.017  5.24   345  11.5   152   1.16\n",
       "1  415    1.020  5.68   874  29.0   385   3.46\n",
       "2  416    1.024  5.36   698  19.5   354  13.00\n",
       "3  417    1.020  5.33   668  25.3   252   3.46\n",
       "4  418    1.011  5.87   567  29.0   457   2.36"
      ]
     },
     "execution_count": 5,
     "metadata": {},
     "output_type": "execute_result"
    }
   ],
   "source": [
    "test.head()"
   ]
  },
  {
   "cell_type": "code",
   "execution_count": 6,
   "metadata": {},
   "outputs": [
    {
     "data": {
      "text/html": [
       "<div>\n",
       "<style scoped>\n",
       "    .dataframe tbody tr th:only-of-type {\n",
       "        vertical-align: middle;\n",
       "    }\n",
       "\n",
       "    .dataframe tbody tr th {\n",
       "        vertical-align: top;\n",
       "    }\n",
       "\n",
       "    .dataframe thead th {\n",
       "        text-align: right;\n",
       "    }\n",
       "</style>\n",
       "<table border=\"1\" class=\"dataframe\">\n",
       "  <thead>\n",
       "    <tr style=\"text-align: right;\">\n",
       "      <th></th>\n",
       "      <th>gravity</th>\n",
       "      <th>ph</th>\n",
       "      <th>osmo</th>\n",
       "      <th>cond</th>\n",
       "      <th>urea</th>\n",
       "      <th>calc</th>\n",
       "      <th>target</th>\n",
       "    </tr>\n",
       "  </thead>\n",
       "  <tbody>\n",
       "    <tr>\n",
       "      <th>0</th>\n",
       "      <td>1.021</td>\n",
       "      <td>4.91</td>\n",
       "      <td>725</td>\n",
       "      <td>14.0</td>\n",
       "      <td>443</td>\n",
       "      <td>2.45</td>\n",
       "      <td>0</td>\n",
       "    </tr>\n",
       "    <tr>\n",
       "      <th>1</th>\n",
       "      <td>1.017</td>\n",
       "      <td>5.74</td>\n",
       "      <td>577</td>\n",
       "      <td>20.0</td>\n",
       "      <td>296</td>\n",
       "      <td>4.49</td>\n",
       "      <td>0</td>\n",
       "    </tr>\n",
       "    <tr>\n",
       "      <th>2</th>\n",
       "      <td>1.008</td>\n",
       "      <td>7.20</td>\n",
       "      <td>321</td>\n",
       "      <td>14.9</td>\n",
       "      <td>101</td>\n",
       "      <td>2.36</td>\n",
       "      <td>0</td>\n",
       "    </tr>\n",
       "    <tr>\n",
       "      <th>3</th>\n",
       "      <td>1.011</td>\n",
       "      <td>5.51</td>\n",
       "      <td>408</td>\n",
       "      <td>12.6</td>\n",
       "      <td>224</td>\n",
       "      <td>2.15</td>\n",
       "      <td>0</td>\n",
       "    </tr>\n",
       "    <tr>\n",
       "      <th>4</th>\n",
       "      <td>1.005</td>\n",
       "      <td>6.52</td>\n",
       "      <td>187</td>\n",
       "      <td>7.5</td>\n",
       "      <td>91</td>\n",
       "      <td>1.16</td>\n",
       "      <td>0</td>\n",
       "    </tr>\n",
       "  </tbody>\n",
       "</table>\n",
       "</div>"
      ],
      "text/plain": [
       "   gravity    ph  osmo  cond  urea  calc  target\n",
       "0    1.021  4.91   725  14.0   443  2.45       0\n",
       "1    1.017  5.74   577  20.0   296  4.49       0\n",
       "2    1.008  7.20   321  14.9   101  2.36       0\n",
       "3    1.011  5.51   408  12.6   224  2.15       0\n",
       "4    1.005  6.52   187   7.5    91  1.16       0"
      ]
     },
     "execution_count": 6,
     "metadata": {},
     "output_type": "execute_result"
    }
   ],
   "source": [
    "original.head()"
   ]
  },
  {
   "cell_type": "markdown",
   "metadata": {},
   "source": [
    "The submission dataset gives us the format in which we have to present the final submission."
   ]
  },
  {
   "cell_type": "code",
   "execution_count": 7,
   "metadata": {},
   "outputs": [
    {
     "data": {
      "text/html": [
       "<div>\n",
       "<style scoped>\n",
       "    .dataframe tbody tr th:only-of-type {\n",
       "        vertical-align: middle;\n",
       "    }\n",
       "\n",
       "    .dataframe tbody tr th {\n",
       "        vertical-align: top;\n",
       "    }\n",
       "\n",
       "    .dataframe thead th {\n",
       "        text-align: right;\n",
       "    }\n",
       "</style>\n",
       "<table border=\"1\" class=\"dataframe\">\n",
       "  <thead>\n",
       "    <tr style=\"text-align: right;\">\n",
       "      <th></th>\n",
       "      <th>id</th>\n",
       "      <th>target</th>\n",
       "    </tr>\n",
       "  </thead>\n",
       "  <tbody>\n",
       "    <tr>\n",
       "      <th>0</th>\n",
       "      <td>414</td>\n",
       "      <td>0.5</td>\n",
       "    </tr>\n",
       "    <tr>\n",
       "      <th>1</th>\n",
       "      <td>415</td>\n",
       "      <td>0.5</td>\n",
       "    </tr>\n",
       "    <tr>\n",
       "      <th>2</th>\n",
       "      <td>416</td>\n",
       "      <td>0.5</td>\n",
       "    </tr>\n",
       "    <tr>\n",
       "      <th>3</th>\n",
       "      <td>417</td>\n",
       "      <td>0.5</td>\n",
       "    </tr>\n",
       "    <tr>\n",
       "      <th>4</th>\n",
       "      <td>418</td>\n",
       "      <td>0.5</td>\n",
       "    </tr>\n",
       "  </tbody>\n",
       "</table>\n",
       "</div>"
      ],
      "text/plain": [
       "    id  target\n",
       "0  414     0.5\n",
       "1  415     0.5\n",
       "2  416     0.5\n",
       "3  417     0.5\n",
       "4  418     0.5"
      ]
     },
     "execution_count": 7,
     "metadata": {},
     "output_type": "execute_result"
    }
   ],
   "source": [
    "submission.head()"
   ]
  },
  {
   "cell_type": "markdown",
   "metadata": {},
   "source": [
    "I will also check the shapes of the dataframes."
   ]
  },
  {
   "cell_type": "code",
   "execution_count": 8,
   "metadata": {},
   "outputs": [
    {
     "data": {
      "text/plain": [
       "(414, 8)"
      ]
     },
     "execution_count": 8,
     "metadata": {},
     "output_type": "execute_result"
    }
   ],
   "source": [
    "train.shape"
   ]
  },
  {
   "cell_type": "code",
   "execution_count": 9,
   "metadata": {},
   "outputs": [
    {
     "data": {
      "text/plain": [
       "(276, 7)"
      ]
     },
     "execution_count": 9,
     "metadata": {},
     "output_type": "execute_result"
    }
   ],
   "source": [
    "test.shape"
   ]
  },
  {
   "cell_type": "code",
   "execution_count": 10,
   "metadata": {},
   "outputs": [
    {
     "data": {
      "text/plain": [
       "(79, 7)"
      ]
     },
     "execution_count": 10,
     "metadata": {},
     "output_type": "execute_result"
    }
   ],
   "source": [
    "original.shape"
   ]
  },
  {
   "cell_type": "markdown",
   "metadata": {},
   "source": [
    "So, using the original 79 urine samples, the synthetic data of 414 urine samples have been made and saved as training data. There are 276 urine samples that act as the testing data. Note that the train data has 8 columns while the original and testing data only have 7 columns. This is because the original data does not have an `id` column which the train and test data have, and the test data does not have the target column (the one which we have to predict)."
   ]
  },
  {
   "cell_type": "markdown",
   "metadata": {},
   "source": [
    "The next step in understanding the dataset is viewing the information about the columns. To do this, we will use the `info()` on the train, test and original datasets. This will give us the datatypes of the different columns and the non-null counts."
   ]
  },
  {
   "cell_type": "code",
   "execution_count": 11,
   "metadata": {},
   "outputs": [
    {
     "name": "stdout",
     "output_type": "stream",
     "text": [
      "<class 'pandas.core.frame.DataFrame'>\n",
      "RangeIndex: 414 entries, 0 to 413\n",
      "Data columns (total 8 columns):\n",
      " #   Column   Non-Null Count  Dtype  \n",
      "---  ------   --------------  -----  \n",
      " 0   id       414 non-null    int64  \n",
      " 1   gravity  414 non-null    float64\n",
      " 2   ph       414 non-null    float64\n",
      " 3   osmo     414 non-null    int64  \n",
      " 4   cond     414 non-null    float64\n",
      " 5   urea     414 non-null    int64  \n",
      " 6   calc     414 non-null    float64\n",
      " 7   target   414 non-null    int64  \n",
      "dtypes: float64(4), int64(4)\n",
      "memory usage: 26.0 KB\n"
     ]
    }
   ],
   "source": [
    "train.info()"
   ]
  },
  {
   "cell_type": "code",
   "execution_count": 12,
   "metadata": {},
   "outputs": [
    {
     "name": "stdout",
     "output_type": "stream",
     "text": [
      "<class 'pandas.core.frame.DataFrame'>\n",
      "RangeIndex: 276 entries, 0 to 275\n",
      "Data columns (total 7 columns):\n",
      " #   Column   Non-Null Count  Dtype  \n",
      "---  ------   --------------  -----  \n",
      " 0   id       276 non-null    int64  \n",
      " 1   gravity  276 non-null    float64\n",
      " 2   ph       276 non-null    float64\n",
      " 3   osmo     276 non-null    int64  \n",
      " 4   cond     276 non-null    float64\n",
      " 5   urea     276 non-null    int64  \n",
      " 6   calc     276 non-null    float64\n",
      "dtypes: float64(4), int64(3)\n",
      "memory usage: 15.2 KB\n"
     ]
    }
   ],
   "source": [
    "test.info()"
   ]
  },
  {
   "cell_type": "code",
   "execution_count": 13,
   "metadata": {},
   "outputs": [
    {
     "name": "stdout",
     "output_type": "stream",
     "text": [
      "<class 'pandas.core.frame.DataFrame'>\n",
      "RangeIndex: 79 entries, 0 to 78\n",
      "Data columns (total 7 columns):\n",
      " #   Column   Non-Null Count  Dtype  \n",
      "---  ------   --------------  -----  \n",
      " 0   gravity  79 non-null     float64\n",
      " 1   ph       79 non-null     float64\n",
      " 2   osmo     79 non-null     int64  \n",
      " 3   cond     79 non-null     float64\n",
      " 4   urea     79 non-null     int64  \n",
      " 5   calc     79 non-null     float64\n",
      " 6   target   79 non-null     int64  \n",
      "dtypes: float64(4), int64(3)\n",
      "memory usage: 4.4 KB\n"
     ]
    }
   ],
   "source": [
    "original.info()"
   ]
  },
  {
   "cell_type": "markdown",
   "metadata": {},
   "source": [
    "Next, we will view the summary statistics like count, mean, standard deviation, minimum value, maximum value and the quantiles for each of the columns for each of the three datasets. We can do so using `describe()`. Note that `.T` is given at the end of the `describe()` command. This allows the summary statistics to be shown in a transpose manner."
   ]
  },
  {
   "cell_type": "code",
   "execution_count": 14,
   "metadata": {},
   "outputs": [
    {
     "data": {
      "text/html": [
       "<div>\n",
       "<style scoped>\n",
       "    .dataframe tbody tr th:only-of-type {\n",
       "        vertical-align: middle;\n",
       "    }\n",
       "\n",
       "    .dataframe tbody tr th {\n",
       "        vertical-align: top;\n",
       "    }\n",
       "\n",
       "    .dataframe thead th {\n",
       "        text-align: right;\n",
       "    }\n",
       "</style>\n",
       "<table border=\"1\" class=\"dataframe\">\n",
       "  <thead>\n",
       "    <tr style=\"text-align: right;\">\n",
       "      <th></th>\n",
       "      <th>count</th>\n",
       "      <th>mean</th>\n",
       "      <th>std</th>\n",
       "      <th>min</th>\n",
       "      <th>25%</th>\n",
       "      <th>50%</th>\n",
       "      <th>75%</th>\n",
       "      <th>max</th>\n",
       "    </tr>\n",
       "  </thead>\n",
       "  <tbody>\n",
       "    <tr>\n",
       "      <th>id</th>\n",
       "      <td>414.0</td>\n",
       "      <td>206.500000</td>\n",
       "      <td>119.655756</td>\n",
       "      <td>0.000</td>\n",
       "      <td>103.250</td>\n",
       "      <td>206.500</td>\n",
       "      <td>309.750</td>\n",
       "      <td>413.00</td>\n",
       "    </tr>\n",
       "    <tr>\n",
       "      <th>gravity</th>\n",
       "      <td>414.0</td>\n",
       "      <td>1.017894</td>\n",
       "      <td>0.006675</td>\n",
       "      <td>1.005</td>\n",
       "      <td>1.012</td>\n",
       "      <td>1.018</td>\n",
       "      <td>1.022</td>\n",
       "      <td>1.04</td>\n",
       "    </tr>\n",
       "    <tr>\n",
       "      <th>ph</th>\n",
       "      <td>414.0</td>\n",
       "      <td>5.955459</td>\n",
       "      <td>0.642260</td>\n",
       "      <td>4.760</td>\n",
       "      <td>5.530</td>\n",
       "      <td>5.740</td>\n",
       "      <td>6.280</td>\n",
       "      <td>7.94</td>\n",
       "    </tr>\n",
       "    <tr>\n",
       "      <th>osmo</th>\n",
       "      <td>414.0</td>\n",
       "      <td>651.545894</td>\n",
       "      <td>234.676567</td>\n",
       "      <td>187.000</td>\n",
       "      <td>455.250</td>\n",
       "      <td>679.500</td>\n",
       "      <td>840.000</td>\n",
       "      <td>1236.00</td>\n",
       "    </tr>\n",
       "    <tr>\n",
       "      <th>cond</th>\n",
       "      <td>414.0</td>\n",
       "      <td>21.437923</td>\n",
       "      <td>7.514750</td>\n",
       "      <td>5.100</td>\n",
       "      <td>15.500</td>\n",
       "      <td>22.200</td>\n",
       "      <td>27.600</td>\n",
       "      <td>38.00</td>\n",
       "    </tr>\n",
       "    <tr>\n",
       "      <th>urea</th>\n",
       "      <td>414.0</td>\n",
       "      <td>278.657005</td>\n",
       "      <td>136.442249</td>\n",
       "      <td>10.000</td>\n",
       "      <td>170.000</td>\n",
       "      <td>277.000</td>\n",
       "      <td>385.000</td>\n",
       "      <td>620.00</td>\n",
       "    </tr>\n",
       "    <tr>\n",
       "      <th>calc</th>\n",
       "      <td>414.0</td>\n",
       "      <td>4.114638</td>\n",
       "      <td>3.217641</td>\n",
       "      <td>0.170</td>\n",
       "      <td>1.450</td>\n",
       "      <td>3.130</td>\n",
       "      <td>6.630</td>\n",
       "      <td>14.34</td>\n",
       "    </tr>\n",
       "    <tr>\n",
       "      <th>target</th>\n",
       "      <td>414.0</td>\n",
       "      <td>0.444444</td>\n",
       "      <td>0.497505</td>\n",
       "      <td>0.000</td>\n",
       "      <td>0.000</td>\n",
       "      <td>0.000</td>\n",
       "      <td>1.000</td>\n",
       "      <td>1.00</td>\n",
       "    </tr>\n",
       "  </tbody>\n",
       "</table>\n",
       "</div>"
      ],
      "text/plain": [
       "         count        mean         std      min      25%      50%      75%  \\\n",
       "id       414.0  206.500000  119.655756    0.000  103.250  206.500  309.750   \n",
       "gravity  414.0    1.017894    0.006675    1.005    1.012    1.018    1.022   \n",
       "ph       414.0    5.955459    0.642260    4.760    5.530    5.740    6.280   \n",
       "osmo     414.0  651.545894  234.676567  187.000  455.250  679.500  840.000   \n",
       "cond     414.0   21.437923    7.514750    5.100   15.500   22.200   27.600   \n",
       "urea     414.0  278.657005  136.442249   10.000  170.000  277.000  385.000   \n",
       "calc     414.0    4.114638    3.217641    0.170    1.450    3.130    6.630   \n",
       "target   414.0    0.444444    0.497505    0.000    0.000    0.000    1.000   \n",
       "\n",
       "             max  \n",
       "id        413.00  \n",
       "gravity     1.04  \n",
       "ph          7.94  \n",
       "osmo     1236.00  \n",
       "cond       38.00  \n",
       "urea      620.00  \n",
       "calc       14.34  \n",
       "target      1.00  "
      ]
     },
     "execution_count": 14,
     "metadata": {},
     "output_type": "execute_result"
    }
   ],
   "source": [
    "train.describe().T"
   ]
  },
  {
   "cell_type": "code",
   "execution_count": 15,
   "metadata": {},
   "outputs": [
    {
     "data": {
      "text/html": [
       "<div>\n",
       "<style scoped>\n",
       "    .dataframe tbody tr th:only-of-type {\n",
       "        vertical-align: middle;\n",
       "    }\n",
       "\n",
       "    .dataframe tbody tr th {\n",
       "        vertical-align: top;\n",
       "    }\n",
       "\n",
       "    .dataframe thead th {\n",
       "        text-align: right;\n",
       "    }\n",
       "</style>\n",
       "<table border=\"1\" class=\"dataframe\">\n",
       "  <thead>\n",
       "    <tr style=\"text-align: right;\">\n",
       "      <th></th>\n",
       "      <th>count</th>\n",
       "      <th>mean</th>\n",
       "      <th>std</th>\n",
       "      <th>min</th>\n",
       "      <th>25%</th>\n",
       "      <th>50%</th>\n",
       "      <th>75%</th>\n",
       "      <th>max</th>\n",
       "    </tr>\n",
       "  </thead>\n",
       "  <tbody>\n",
       "    <tr>\n",
       "      <th>id</th>\n",
       "      <td>276.0</td>\n",
       "      <td>551.500000</td>\n",
       "      <td>79.818544</td>\n",
       "      <td>414.000</td>\n",
       "      <td>482.7500</td>\n",
       "      <td>551.500</td>\n",
       "      <td>620.25000</td>\n",
       "      <td>689.000</td>\n",
       "    </tr>\n",
       "    <tr>\n",
       "      <th>gravity</th>\n",
       "      <td>276.0</td>\n",
       "      <td>1.018330</td>\n",
       "      <td>0.006569</td>\n",
       "      <td>1.005</td>\n",
       "      <td>1.0140</td>\n",
       "      <td>1.019</td>\n",
       "      <td>1.02325</td>\n",
       "      <td>1.034</td>\n",
       "    </tr>\n",
       "    <tr>\n",
       "      <th>ph</th>\n",
       "      <td>276.0</td>\n",
       "      <td>5.939312</td>\n",
       "      <td>0.607143</td>\n",
       "      <td>4.900</td>\n",
       "      <td>5.5300</td>\n",
       "      <td>5.730</td>\n",
       "      <td>6.21000</td>\n",
       "      <td>7.940</td>\n",
       "    </tr>\n",
       "    <tr>\n",
       "      <th>osmo</th>\n",
       "      <td>276.0</td>\n",
       "      <td>654.891304</td>\n",
       "      <td>236.361932</td>\n",
       "      <td>187.000</td>\n",
       "      <td>456.0000</td>\n",
       "      <td>658.000</td>\n",
       "      <td>843.25000</td>\n",
       "      <td>1236.000</td>\n",
       "    </tr>\n",
       "    <tr>\n",
       "      <th>cond</th>\n",
       "      <td>276.0</td>\n",
       "      <td>21.886594</td>\n",
       "      <td>7.346069</td>\n",
       "      <td>5.100</td>\n",
       "      <td>17.4000</td>\n",
       "      <td>23.600</td>\n",
       "      <td>27.60000</td>\n",
       "      <td>38.000</td>\n",
       "    </tr>\n",
       "    <tr>\n",
       "      <th>urea</th>\n",
       "      <td>276.0</td>\n",
       "      <td>280.985507</td>\n",
       "      <td>134.877856</td>\n",
       "      <td>64.000</td>\n",
       "      <td>168.5000</td>\n",
       "      <td>282.000</td>\n",
       "      <td>385.00000</td>\n",
       "      <td>620.000</td>\n",
       "    </tr>\n",
       "    <tr>\n",
       "      <th>calc</th>\n",
       "      <td>276.0</td>\n",
       "      <td>4.076848</td>\n",
       "      <td>3.088524</td>\n",
       "      <td>0.170</td>\n",
       "      <td>1.5275</td>\n",
       "      <td>3.230</td>\n",
       "      <td>5.54000</td>\n",
       "      <td>14.340</td>\n",
       "    </tr>\n",
       "  </tbody>\n",
       "</table>\n",
       "</div>"
      ],
      "text/plain": [
       "         count        mean         std      min       25%      50%        75%  \\\n",
       "id       276.0  551.500000   79.818544  414.000  482.7500  551.500  620.25000   \n",
       "gravity  276.0    1.018330    0.006569    1.005    1.0140    1.019    1.02325   \n",
       "ph       276.0    5.939312    0.607143    4.900    5.5300    5.730    6.21000   \n",
       "osmo     276.0  654.891304  236.361932  187.000  456.0000  658.000  843.25000   \n",
       "cond     276.0   21.886594    7.346069    5.100   17.4000   23.600   27.60000   \n",
       "urea     276.0  280.985507  134.877856   64.000  168.5000  282.000  385.00000   \n",
       "calc     276.0    4.076848    3.088524    0.170    1.5275    3.230    5.54000   \n",
       "\n",
       "              max  \n",
       "id        689.000  \n",
       "gravity     1.034  \n",
       "ph          7.940  \n",
       "osmo     1236.000  \n",
       "cond       38.000  \n",
       "urea      620.000  \n",
       "calc       14.340  "
      ]
     },
     "execution_count": 15,
     "metadata": {},
     "output_type": "execute_result"
    }
   ],
   "source": [
    "test.describe().T"
   ]
  },
  {
   "cell_type": "code",
   "execution_count": 16,
   "metadata": {},
   "outputs": [
    {
     "data": {
      "text/html": [
       "<div>\n",
       "<style scoped>\n",
       "    .dataframe tbody tr th:only-of-type {\n",
       "        vertical-align: middle;\n",
       "    }\n",
       "\n",
       "    .dataframe tbody tr th {\n",
       "        vertical-align: top;\n",
       "    }\n",
       "\n",
       "    .dataframe thead th {\n",
       "        text-align: right;\n",
       "    }\n",
       "</style>\n",
       "<table border=\"1\" class=\"dataframe\">\n",
       "  <thead>\n",
       "    <tr style=\"text-align: right;\">\n",
       "      <th></th>\n",
       "      <th>count</th>\n",
       "      <th>mean</th>\n",
       "      <th>std</th>\n",
       "      <th>min</th>\n",
       "      <th>25%</th>\n",
       "      <th>50%</th>\n",
       "      <th>75%</th>\n",
       "      <th>max</th>\n",
       "    </tr>\n",
       "  </thead>\n",
       "  <tbody>\n",
       "    <tr>\n",
       "      <th>gravity</th>\n",
       "      <td>79.0</td>\n",
       "      <td>1.018114</td>\n",
       "      <td>0.007239</td>\n",
       "      <td>1.005</td>\n",
       "      <td>1.012</td>\n",
       "      <td>1.018</td>\n",
       "      <td>1.0235</td>\n",
       "      <td>1.04</td>\n",
       "    </tr>\n",
       "    <tr>\n",
       "      <th>ph</th>\n",
       "      <td>79.0</td>\n",
       "      <td>6.028481</td>\n",
       "      <td>0.724307</td>\n",
       "      <td>4.760</td>\n",
       "      <td>5.530</td>\n",
       "      <td>5.940</td>\n",
       "      <td>6.3850</td>\n",
       "      <td>7.94</td>\n",
       "    </tr>\n",
       "    <tr>\n",
       "      <th>osmo</th>\n",
       "      <td>79.0</td>\n",
       "      <td>612.848101</td>\n",
       "      <td>237.514755</td>\n",
       "      <td>187.000</td>\n",
       "      <td>413.000</td>\n",
       "      <td>594.000</td>\n",
       "      <td>792.0000</td>\n",
       "      <td>1236.00</td>\n",
       "    </tr>\n",
       "    <tr>\n",
       "      <th>cond</th>\n",
       "      <td>79.0</td>\n",
       "      <td>20.813924</td>\n",
       "      <td>7.938994</td>\n",
       "      <td>5.100</td>\n",
       "      <td>14.150</td>\n",
       "      <td>21.400</td>\n",
       "      <td>26.5500</td>\n",
       "      <td>38.00</td>\n",
       "    </tr>\n",
       "    <tr>\n",
       "      <th>urea</th>\n",
       "      <td>79.0</td>\n",
       "      <td>266.405063</td>\n",
       "      <td>131.254550</td>\n",
       "      <td>10.000</td>\n",
       "      <td>160.000</td>\n",
       "      <td>260.000</td>\n",
       "      <td>372.0000</td>\n",
       "      <td>620.00</td>\n",
       "    </tr>\n",
       "    <tr>\n",
       "      <th>calc</th>\n",
       "      <td>79.0</td>\n",
       "      <td>4.138987</td>\n",
       "      <td>3.260051</td>\n",
       "      <td>0.170</td>\n",
       "      <td>1.460</td>\n",
       "      <td>3.160</td>\n",
       "      <td>5.9300</td>\n",
       "      <td>14.34</td>\n",
       "    </tr>\n",
       "    <tr>\n",
       "      <th>target</th>\n",
       "      <td>79.0</td>\n",
       "      <td>0.430380</td>\n",
       "      <td>0.498293</td>\n",
       "      <td>0.000</td>\n",
       "      <td>0.000</td>\n",
       "      <td>0.000</td>\n",
       "      <td>1.0000</td>\n",
       "      <td>1.00</td>\n",
       "    </tr>\n",
       "  </tbody>\n",
       "</table>\n",
       "</div>"
      ],
      "text/plain": [
       "         count        mean         std      min      25%      50%       75%  \\\n",
       "gravity   79.0    1.018114    0.007239    1.005    1.012    1.018    1.0235   \n",
       "ph        79.0    6.028481    0.724307    4.760    5.530    5.940    6.3850   \n",
       "osmo      79.0  612.848101  237.514755  187.000  413.000  594.000  792.0000   \n",
       "cond      79.0   20.813924    7.938994    5.100   14.150   21.400   26.5500   \n",
       "urea      79.0  266.405063  131.254550   10.000  160.000  260.000  372.0000   \n",
       "calc      79.0    4.138987    3.260051    0.170    1.460    3.160    5.9300   \n",
       "target    79.0    0.430380    0.498293    0.000    0.000    0.000    1.0000   \n",
       "\n",
       "             max  \n",
       "gravity     1.04  \n",
       "ph          7.94  \n",
       "osmo     1236.00  \n",
       "cond       38.00  \n",
       "urea      620.00  \n",
       "calc       14.34  \n",
       "target      1.00  "
      ]
     },
     "execution_count": 16,
     "metadata": {},
     "output_type": "execute_result"
    }
   ],
   "source": [
    "original.describe().T"
   ]
  },
  {
   "cell_type": "markdown",
   "metadata": {},
   "source": [
    "## 4. Dealing with missing values:\n",
    "\n",
    "Here we need to check if there are any missing values in the three datasets. If there are any missing values, then we will need to deal with them."
   ]
  },
  {
   "cell_type": "markdown",
   "metadata": {},
   "source": [
    "### Looking for missing values\n",
    "\n",
    "In order to look for missing values, we use `.isna()` method. Now this method shows in boolean whether a value is missing or not in each of the columns. We can summarize this entire boolean matrix using the `sum()` method, so that it shows whether there are any missing values in each of the columns."
   ]
  },
  {
   "cell_type": "code",
   "execution_count": 17,
   "metadata": {},
   "outputs": [
    {
     "name": "stdout",
     "output_type": "stream",
     "text": [
      "\n",
      " Missing values in train data: \n",
      "\n",
      "id         0\n",
      "gravity    0\n",
      "ph         0\n",
      "osmo       0\n",
      "cond       0\n",
      "urea       0\n",
      "calc       0\n",
      "target     0\n",
      "dtype: int64\n",
      "\n",
      " Missing values in test data: \n",
      "\n",
      "id         0\n",
      "gravity    0\n",
      "ph         0\n",
      "osmo       0\n",
      "cond       0\n",
      "urea       0\n",
      "calc       0\n",
      "dtype: int64\n",
      "\n",
      " Missing values in original data: \n",
      "\n",
      "gravity    0\n",
      "ph         0\n",
      "osmo       0\n",
      "cond       0\n",
      "urea       0\n",
      "calc       0\n",
      "target     0\n",
      "dtype: int64\n"
     ]
    }
   ],
   "source": [
    "print(\"\\n Missing values in train data: \\n\")\n",
    "print(train.isna().sum())\n",
    "\n",
    "print(\"\\n Missing values in test data: \\n\")\n",
    "print(test.isna().sum())\n",
    "\n",
    "print(\"\\n Missing values in original data: \\n\")\n",
    "print(original.isna().sum())"
   ]
  },
  {
   "cell_type": "markdown",
   "metadata": {},
   "source": [
    "There are no missing values in the train, test or the original dataset. This is good news. So, we do not need to worry about dealing with any missing values. In case missing values were present, we would have to figure out imputations to deal with them, or if the missing values in a particular columns was too high, we might have to drop it."
   ]
  },
  {
   "cell_type": "markdown",
   "metadata": {},
   "source": [
    "## 5. Unique Values:\n",
    "\n",
    "We will check for unique values in the columns. \n",
    "\n",
    "### Unique Value Counts:\n",
    "\n",
    "In order to find the number of unique values, we use the `nunique()` method. I have used a `for-loop` on the names of the columns in each of the datasets, and then the number of unique values in each of the columns is found using the `nunique()` method."
   ]
  },
  {
   "cell_type": "code",
   "execution_count": 18,
   "metadata": {},
   "outputs": [
    {
     "name": "stdout",
     "output_type": "stream",
     "text": [
      "Unique Value Counts\n",
      "\n",
      "---------train----------\n",
      "\n",
      "id: 414\n",
      "gravity: 28\n",
      "ph: 71\n",
      "osmo: 80\n",
      "cond: 65\n",
      "urea: 73\n",
      "calc: 85\n",
      "target: 2\n",
      "\n",
      "---------test----------\n",
      "\n",
      "id: 276\n",
      "gravity: 27\n",
      "ph: 62\n",
      "osmo: 75\n",
      "cond: 58\n",
      "urea: 71\n",
      "calc: 74\n",
      "\n",
      "---------original----------\n",
      "\n",
      "gravity: 29\n",
      "ph: 70\n",
      "osmo: 77\n",
      "cond: 64\n",
      "urea: 73\n",
      "calc: 75\n",
      "target: 2\n"
     ]
    }
   ],
   "source": [
    "print(\"Unique Value Counts\")\n",
    "\n",
    "print(\"\\n---------train----------\\n\")\n",
    "for i in train.columns:\n",
    "    print(f'{i}: {train[i].nunique()}')\n",
    "\n",
    "print(\"\\n---------test----------\\n\")\n",
    "for i in test.columns:\n",
    "    print(f'{i}: {test[i].nunique()}')\n",
    "    \n",
    "print(\"\\n---------original----------\\n\")\n",
    "for i in original.columns:\n",
    "    print(f'{i}: {original[i].nunique()}')"
   ]
  },
  {
   "cell_type": "markdown",
   "metadata": {},
   "source": [
    "From this, we can understand that the only categorical column is the `target` column having only two values. All the other columns are continuous variables. This is necessary to understand for a meaningful exploratory data analysis."
   ]
  },
  {
   "cell_type": "markdown",
   "metadata": {},
   "source": [
    "## 6. Distribution of the `target` variable:\n",
    "\n",
    "It is very important to look at the distribution of the `target` variable in the training dataset. This informs us whether the training dataset is balanced or unbalanced. In case the training dataset is highly unbalanced, we might need to do some extra things to make it more balanced before training any model on it.\n",
    "\n",
    "The `value_counts()` method gives us the frequency of each unique value in a column. "
   ]
  },
  {
   "cell_type": "code",
   "execution_count": 19,
   "metadata": {},
   "outputs": [
    {
     "data": {
      "text/plain": [
       "0    230\n",
       "1    184\n",
       "Name: target, dtype: int64"
      ]
     },
     "execution_count": 19,
     "metadata": {},
     "output_type": "execute_result"
    }
   ],
   "source": [
    "train['target'].value_counts()"
   ]
  },
  {
   "cell_type": "markdown",
   "metadata": {},
   "source": [
    "So, its evident that the distribution is a bit unbalanced. However, this would not make much problem. Still, I will be using Stratified k-fold Cross Validation while training the data, so that this mild unbalance is taken care of."
   ]
  },
  {
   "cell_type": "markdown",
   "metadata": {},
   "source": [
    "## 7. Exploratory Data Analysis:\n",
    "\n",
    "In this section, we will use the visualization libraries to understand the data and the distributions of different columns in the data. This allows us to have a better understanding of the dataset as well as to make choices about the columns and the models that we would use to predict the test data.\n",
    "\n",
    "We will be doing a few exercises, namely:\n",
    "1. Distribution of the `target` in the train and the original dataset.\n",
    "2. Distribution of the other features in the datasets and the distribution of the `target` with respect to them.\n",
    "\n",
    "### 7.1 Distribution of the `target` variable in the train and the original dataset:\n",
    "\n",
    "Here, first we set up the colour palette. We use the `cubehelix_palette()` module from the `seaborn` library throughout this notebook.\n",
    "\n",
    "We divide the space for the pictures into two spaces column-wise using the `plt.subplots()` method and set the figure size to 14x5 using the `figsize` argument. The name of the figure is set using the `fig.suptitle()` method, along with the desired font size set using the `fontsize` argument.\n",
    "\n",
    "We show the distribution of the `target` column in the train and original datasets using pie charts. For this, we have first set the titles using the `set_title()` method, then we have used the `value_counts()` method on the target column of the train and original datasets and stored them in two variables `plot_data_train` and `plot_data_original` respectively. We have renamed the categories from 0 and 1 to Kidney Stone Absent and Kidney Stone Present. Lastly, we have done the pie charts using the `pie()` method."
   ]
  },
  {
   "cell_type": "code",
   "execution_count": 20,
   "metadata": {},
   "outputs": [
    {
     "data": {
      "text/plain": [
       "([<matplotlib.patches.Wedge at 0x1a992966a00>,\n",
       "  <matplotlib.patches.Wedge at 0x1a992966eb0>],\n",
       " [Text(-0.23867668382652718, 1.0737939469924256, '0: Kidney stone absent'),\n",
       "  Text(0.23867668382652682, -1.0737939469924258, '1: Kidney Stone present')],\n",
       " [Text(-0.13018728208719663, 0.5857057892685957, '57.0%'),\n",
       "  Text(0.13018728208719643, -0.5857057892685958, '43.0%')])"
      ]
     },
     "execution_count": 20,
     "metadata": {},
     "output_type": "execute_result"
    },
    {
     "data": {
      "image/png": "[encoded data removed]",
      "text/plain": [
       "<Figure size 1008x360 with 2 Axes>"
      ]
     },
     "metadata": {},
     "output_type": "display_data"
    }
   ],
   "source": [
    "## Setting up the color pallette\n",
    "colors = sns.cubehelix_palette()\n",
    "\n",
    "## Setting up the figure and axes\n",
    "fig, ax = plt.subplots(1, 2, figsize=(14, 5))\n",
    "\n",
    "## Setting up the figure title\n",
    "fig.suptitle(\"Target: Kidney Stone\", fontsize=14)\n",
    "\n",
    "## Pie chart showing the distribution of target in train and original datasets:\n",
    "ax[0].set_title('Train')\n",
    "ax[1].set_title('Original')\n",
    "plot_data_train = train['target'].value_counts()\n",
    "plot_data_original = original['target'].value_counts()\n",
    "plot_labels_train = plot_data_train.rename(index={0:'0: Kidney stone absent', 1:'1: Kidney Stone present'}).index\n",
    "plot_labels_original = plot_data_original.rename(index={0:'0: Kidney stone absent', 1:'1: Kidney Stone present'}).index\n",
    "ax[0].pie(plot_data_train, labels=plot_labels_train, autopct='%1.1f%%', colors=colors, wedgeprops = dict(edgecolor='black'))\n",
    "ax[1].pie(plot_data_original, labels=plot_labels_original, autopct='%1.1f%%', colors=colors, wedgeprops = dict(edgecolor='black'))"
   ]
  },
  {
   "cell_type": "markdown",
   "metadata": {},
   "source": [
    "We find that the distribution of the `target` column is more or less the same in both the train and the original datasets. This ensures us that the synthetically generated training data is representative of the original dataset. This implies that we can merge these two datasets to make a new and larger training dataset to train our models on. This will be done later on in the notebook. "
   ]
  },
  {
   "cell_type": "markdown",
   "metadata": {},
   "source": [
    "### 7.2 Distribution of the other features in the datasets and the distribution of the target with respect to them:\n",
    "\n",
    "We will first separate out the features from the datasets."
   ]
  },
  {
   "cell_type": "code",
   "execution_count": 21,
   "metadata": {},
   "outputs": [
    {
     "data": {
      "text/plain": [
       "['id', 'gravity', 'ph', 'osmo', 'cond', 'urea', 'calc', 'target']"
      ]
     },
     "execution_count": 21,
     "metadata": {},
     "output_type": "execute_result"
    }
   ],
   "source": [
    "features = [col for col in train.columns]\n",
    "features"
   ]
  },
  {
   "cell_type": "markdown",
   "metadata": {},
   "source": [
    "The `target` column is not a feature. So we drop it."
   ]
  },
  {
   "cell_type": "code",
   "execution_count": 22,
   "metadata": {},
   "outputs": [
    {
     "data": {
      "text/plain": [
       "['id', 'gravity', 'ph', 'osmo', 'cond', 'urea', 'calc']"
      ]
     },
     "execution_count": 22,
     "metadata": {},
     "output_type": "execute_result"
    }
   ],
   "source": [
    "features.remove('target')\n",
    "features"
   ]
  },
  {
   "cell_type": "markdown",
   "metadata": {},
   "source": [
    "The `id` feature is not present in the original dataset. Moreover, this column does not provide any signal towards the presence or absence of the stone in kidney. So we can remove it."
   ]
  },
  {
   "cell_type": "code",
   "execution_count": 23,
   "metadata": {},
   "outputs": [
    {
     "data": {
      "text/plain": [
       "['gravity', 'ph', 'osmo', 'cond', 'urea', 'calc']"
      ]
     },
     "execution_count": 23,
     "metadata": {},
     "output_type": "execute_result"
    }
   ],
   "source": [
    "features.remove('id')\n",
    "features"
   ]
  },
  {
   "cell_type": "markdown",
   "metadata": {},
   "source": [
    "Now we will dive into the EDA on these features.\n",
    "\n",
    "We use a `for-loop` to do the same set of code for each of the features. Fisrt we set the style using `sns.set_style()` method. We also divide the space for the pictures into two spaces column-wise using the `plt.subplots()` method and set the figure size to 24x5 using the `figsize` argument. The name of the figure is set using the `fig.suptitle()` method, along with the desired font size set using the `fontsize` argument.\n",
    "\n",
    "Next we plot the kernel density estimation plots using `kdeplot()` method of the `seaborn` library. Lastly, we use the `boxplot()` method to plot the boxplots in order to view the distribution of the `target` variable with respect to each of the features in the training dataset."
   ]
  },
  {
   "cell_type": "code",
   "execution_count": 24,
   "metadata": {},
   "outputs": [
    {
     "data": {
      "image/png": "[encoded data removed]",
      "text/plain": [
       "<Figure size 1728x360 with 2 Axes>"
      ]
     },
     "metadata": {},
     "output_type": "display_data"
    },
    {
     "data": {
      "image/png": "[encoded data removed]",
      "text/plain": [
       "<Figure size 1728x360 with 2 Axes>"
      ]
     },
     "metadata": {},
     "output_type": "display_data"
    },
    {
     "data": {
      "image/png": "[encoded data removed]",
      "text/plain": [
       "<Figure size 1728x360 with 2 Axes>"
      ]
     },
     "metadata": {},
     "output_type": "display_data"
    },
    {
     "data": {
      "image/png": "[encoded data removed]",
      "text/plain": [
       "<Figure size 1728x360 with 2 Axes>"
      ]
     },
     "metadata": {},
     "output_type": "display_data"
    },
    {
     "data": {
      "image/png": "[encoded data removed]",
      "text/plain": [
       "<Figure size 1728x360 with 2 Axes>"
      ]
     },
     "metadata": {},
     "output_type": "display_data"
    },
    {
     "data": {
      "image/png": "[encoded data removed]",
      "text/plain": [
       "<Figure size 1728x360 with 2 Axes>"
      ]
     },
     "metadata": {},
     "output_type": "display_data"
    }
   ],
   "source": [
    "for i in features:\n",
    "    \n",
    "    ## Setting the figure and axes\n",
    "    sns.set_style('darkgrid')\n",
    "    fig, ax = plt.subplots(1, 2, figsize = (24,5))\n",
    "    \n",
    "    ## Setting the figure title\n",
    "    fig.suptitle(i, fontsize = 16)\n",
    "    \n",
    "    ## train/test/original differences\n",
    "    sns.kdeplot(train[i], shade=True, color = colors[5], ax = ax[0], label = \"Train\", alpha = 0.1, linewidth = 3)\n",
    "    sns.kdeplot(test[i], shade=True, color = colors[3], ax = ax[0], label = \"Test\", alpha = 0.1, linewidth = 3)\n",
    "    sns.kdeplot(original[i], shade=True, color = colors[1], ax = ax[0], label = \"Original\", alpha = 0.1, linewidth = 3)\n",
    "    ax[0].set_xlabel('')\n",
    "    ax[0].set_ylabel('Density')\n",
    "    handles, labels = ax[0].get_legend_handles_labels()\n",
    "    ax[0].legend(handles, labels)\n",
    "    \n",
    "    \n",
    "    ## Boxplots\n",
    "    sns.boxplot(y=i, x='target', data = train, width = 0.3, ax=ax[1], palette = colors, linewidth = 3)\n",
    "    ax[1].set_xlabel('Kidney stone')\n",
    "    ax[1].set_ylabel('')"
   ]
  },
  {
   "cell_type": "markdown",
   "metadata": {},
   "source": [
    "We see that the distribution of each feature is quite different for the urine samples if a kidney stone is present or absent. This tells us that these features are good signals for predicting using urine samples if a kidney stone is present or not. "
   ]
  },
  {
   "cell_type": "markdown",
   "metadata": {},
   "source": [
    "## 8. Data Preparation:\n",
    "\n",
    "Here we prepare the data for training the models. There are a few steps that we will go through in this section:\n",
    "1. Getting rid of unnecessary `id` column, since this does not provide any signal towards the presence or absence of a Kidney stone.\n",
    "2. Merging the train and original data to form a more extensive training dataset.\n",
    "3. Separating the features and the target columns.\n",
    "\n",
    "### 8.1 Removing `id` column from train and test datasets:\n",
    "\n",
    "To drop a column from a pandas dataframe, we use the `drop()` method, along with the `axis=1` argument that informs the `drop()` method that a column has to be dropped and the `inplace=True` argument that informs the `drop()` method that the said column has to be permanently removed from the dataframe."
   ]
  },
  {
   "cell_type": "code",
   "execution_count": 25,
   "metadata": {},
   "outputs": [],
   "source": [
    "train.drop('id', axis=1, inplace=True)\n",
    "test.drop('id', axis=1, inplace=True)"
   ]
  },
  {
   "cell_type": "code",
   "execution_count": 26,
   "metadata": {},
   "outputs": [
    {
     "data": {
      "text/html": [
       "<div>\n",
       "<style scoped>\n",
       "    .dataframe tbody tr th:only-of-type {\n",
       "        vertical-align: middle;\n",
       "    }\n",
       "\n",
       "    .dataframe tbody tr th {\n",
       "        vertical-align: top;\n",
       "    }\n",
       "\n",
       "    .dataframe thead th {\n",
       "        text-align: right;\n",
       "    }\n",
       "</style>\n",
       "<table border=\"1\" class=\"dataframe\">\n",
       "  <thead>\n",
       "    <tr style=\"text-align: right;\">\n",
       "      <th></th>\n",
       "      <th>gravity</th>\n",
       "      <th>ph</th>\n",
       "      <th>osmo</th>\n",
       "      <th>cond</th>\n",
       "      <th>urea</th>\n",
       "      <th>calc</th>\n",
       "      <th>target</th>\n",
       "    </tr>\n",
       "  </thead>\n",
       "  <tbody>\n",
       "    <tr>\n",
       "      <th>0</th>\n",
       "      <td>1.013</td>\n",
       "      <td>6.19</td>\n",
       "      <td>443</td>\n",
       "      <td>14.8</td>\n",
       "      <td>124</td>\n",
       "      <td>1.45</td>\n",
       "      <td>0</td>\n",
       "    </tr>\n",
       "    <tr>\n",
       "      <th>1</th>\n",
       "      <td>1.025</td>\n",
       "      <td>5.40</td>\n",
       "      <td>703</td>\n",
       "      <td>23.6</td>\n",
       "      <td>394</td>\n",
       "      <td>4.18</td>\n",
       "      <td>0</td>\n",
       "    </tr>\n",
       "    <tr>\n",
       "      <th>2</th>\n",
       "      <td>1.009</td>\n",
       "      <td>6.13</td>\n",
       "      <td>371</td>\n",
       "      <td>24.5</td>\n",
       "      <td>159</td>\n",
       "      <td>9.04</td>\n",
       "      <td>0</td>\n",
       "    </tr>\n",
       "    <tr>\n",
       "      <th>3</th>\n",
       "      <td>1.021</td>\n",
       "      <td>4.91</td>\n",
       "      <td>442</td>\n",
       "      <td>20.8</td>\n",
       "      <td>398</td>\n",
       "      <td>6.63</td>\n",
       "      <td>1</td>\n",
       "    </tr>\n",
       "    <tr>\n",
       "      <th>4</th>\n",
       "      <td>1.021</td>\n",
       "      <td>5.53</td>\n",
       "      <td>874</td>\n",
       "      <td>17.8</td>\n",
       "      <td>385</td>\n",
       "      <td>2.21</td>\n",
       "      <td>1</td>\n",
       "    </tr>\n",
       "  </tbody>\n",
       "</table>\n",
       "</div>"
      ],
      "text/plain": [
       "   gravity    ph  osmo  cond  urea  calc  target\n",
       "0    1.013  6.19   443  14.8   124  1.45       0\n",
       "1    1.025  5.40   703  23.6   394  4.18       0\n",
       "2    1.009  6.13   371  24.5   159  9.04       0\n",
       "3    1.021  4.91   442  20.8   398  6.63       1\n",
       "4    1.021  5.53   874  17.8   385  2.21       1"
      ]
     },
     "execution_count": 26,
     "metadata": {},
     "output_type": "execute_result"
    }
   ],
   "source": [
    "train.head()"
   ]
  },
  {
   "cell_type": "code",
   "execution_count": 27,
   "metadata": {},
   "outputs": [
    {
     "data": {
      "text/html": [
       "<div>\n",
       "<style scoped>\n",
       "    .dataframe tbody tr th:only-of-type {\n",
       "        vertical-align: middle;\n",
       "    }\n",
       "\n",
       "    .dataframe tbody tr th {\n",
       "        vertical-align: top;\n",
       "    }\n",
       "\n",
       "    .dataframe thead th {\n",
       "        text-align: right;\n",
       "    }\n",
       "</style>\n",
       "<table border=\"1\" class=\"dataframe\">\n",
       "  <thead>\n",
       "    <tr style=\"text-align: right;\">\n",
       "      <th></th>\n",
       "      <th>gravity</th>\n",
       "      <th>ph</th>\n",
       "      <th>osmo</th>\n",
       "      <th>cond</th>\n",
       "      <th>urea</th>\n",
       "      <th>calc</th>\n",
       "    </tr>\n",
       "  </thead>\n",
       "  <tbody>\n",
       "    <tr>\n",
       "      <th>0</th>\n",
       "      <td>1.017</td>\n",
       "      <td>5.24</td>\n",
       "      <td>345</td>\n",
       "      <td>11.5</td>\n",
       "      <td>152</td>\n",
       "      <td>1.16</td>\n",
       "    </tr>\n",
       "    <tr>\n",
       "      <th>1</th>\n",
       "      <td>1.020</td>\n",
       "      <td>5.68</td>\n",
       "      <td>874</td>\n",
       "      <td>29.0</td>\n",
       "      <td>385</td>\n",
       "      <td>3.46</td>\n",
       "    </tr>\n",
       "    <tr>\n",
       "      <th>2</th>\n",
       "      <td>1.024</td>\n",
       "      <td>5.36</td>\n",
       "      <td>698</td>\n",
       "      <td>19.5</td>\n",
       "      <td>354</td>\n",
       "      <td>13.00</td>\n",
       "    </tr>\n",
       "    <tr>\n",
       "      <th>3</th>\n",
       "      <td>1.020</td>\n",
       "      <td>5.33</td>\n",
       "      <td>668</td>\n",
       "      <td>25.3</td>\n",
       "      <td>252</td>\n",
       "      <td>3.46</td>\n",
       "    </tr>\n",
       "    <tr>\n",
       "      <th>4</th>\n",
       "      <td>1.011</td>\n",
       "      <td>5.87</td>\n",
       "      <td>567</td>\n",
       "      <td>29.0</td>\n",
       "      <td>457</td>\n",
       "      <td>2.36</td>\n",
       "    </tr>\n",
       "  </tbody>\n",
       "</table>\n",
       "</div>"
      ],
      "text/plain": [
       "   gravity    ph  osmo  cond  urea   calc\n",
       "0    1.017  5.24   345  11.5   152   1.16\n",
       "1    1.020  5.68   874  29.0   385   3.46\n",
       "2    1.024  5.36   698  19.5   354  13.00\n",
       "3    1.020  5.33   668  25.3   252   3.46\n",
       "4    1.011  5.87   567  29.0   457   2.36"
      ]
     },
     "execution_count": 27,
     "metadata": {},
     "output_type": "execute_result"
    }
   ],
   "source": [
    "test.head()"
   ]
  },
  {
   "cell_type": "code",
   "execution_count": 28,
   "metadata": {},
   "outputs": [
    {
     "data": {
      "text/html": [
       "<div>\n",
       "<style scoped>\n",
       "    .dataframe tbody tr th:only-of-type {\n",
       "        vertical-align: middle;\n",
       "    }\n",
       "\n",
       "    .dataframe tbody tr th {\n",
       "        vertical-align: top;\n",
       "    }\n",
       "\n",
       "    .dataframe thead th {\n",
       "        text-align: right;\n",
       "    }\n",
       "</style>\n",
       "<table border=\"1\" class=\"dataframe\">\n",
       "  <thead>\n",
       "    <tr style=\"text-align: right;\">\n",
       "      <th></th>\n",
       "      <th>gravity</th>\n",
       "      <th>ph</th>\n",
       "      <th>osmo</th>\n",
       "      <th>cond</th>\n",
       "      <th>urea</th>\n",
       "      <th>calc</th>\n",
       "      <th>target</th>\n",
       "    </tr>\n",
       "  </thead>\n",
       "  <tbody>\n",
       "    <tr>\n",
       "      <th>0</th>\n",
       "      <td>1.021</td>\n",
       "      <td>4.91</td>\n",
       "      <td>725</td>\n",
       "      <td>14.0</td>\n",
       "      <td>443</td>\n",
       "      <td>2.45</td>\n",
       "      <td>0</td>\n",
       "    </tr>\n",
       "    <tr>\n",
       "      <th>1</th>\n",
       "      <td>1.017</td>\n",
       "      <td>5.74</td>\n",
       "      <td>577</td>\n",
       "      <td>20.0</td>\n",
       "      <td>296</td>\n",
       "      <td>4.49</td>\n",
       "      <td>0</td>\n",
       "    </tr>\n",
       "    <tr>\n",
       "      <th>2</th>\n",
       "      <td>1.008</td>\n",
       "      <td>7.20</td>\n",
       "      <td>321</td>\n",
       "      <td>14.9</td>\n",
       "      <td>101</td>\n",
       "      <td>2.36</td>\n",
       "      <td>0</td>\n",
       "    </tr>\n",
       "    <tr>\n",
       "      <th>3</th>\n",
       "      <td>1.011</td>\n",
       "      <td>5.51</td>\n",
       "      <td>408</td>\n",
       "      <td>12.6</td>\n",
       "      <td>224</td>\n",
       "      <td>2.15</td>\n",
       "      <td>0</td>\n",
       "    </tr>\n",
       "    <tr>\n",
       "      <th>4</th>\n",
       "      <td>1.005</td>\n",
       "      <td>6.52</td>\n",
       "      <td>187</td>\n",
       "      <td>7.5</td>\n",
       "      <td>91</td>\n",
       "      <td>1.16</td>\n",
       "      <td>0</td>\n",
       "    </tr>\n",
       "  </tbody>\n",
       "</table>\n",
       "</div>"
      ],
      "text/plain": [
       "   gravity    ph  osmo  cond  urea  calc  target\n",
       "0    1.021  4.91   725  14.0   443  2.45       0\n",
       "1    1.017  5.74   577  20.0   296  4.49       0\n",
       "2    1.008  7.20   321  14.9   101  2.36       0\n",
       "3    1.011  5.51   408  12.6   224  2.15       0\n",
       "4    1.005  6.52   187   7.5    91  1.16       0"
      ]
     },
     "execution_count": 28,
     "metadata": {},
     "output_type": "execute_result"
    }
   ],
   "source": [
    "original.head()"
   ]
  },
  {
   "cell_type": "markdown",
   "metadata": {},
   "source": [
    "### 8.2 Merging the `train` and `original` datasets:\n",
    "\n",
    "To merge the `train` and the `original` datasets, we use the `pd.concat()` method, along with the `axis=0` argument that informs the method to concat the two dataframes along the rows and the `ignore_index=False` argument that informs the method to ignore the index of the individual dataframes."
   ]
  },
  {
   "cell_type": "code",
   "execution_count": 29,
   "metadata": {},
   "outputs": [
    {
     "data": {
      "text/plain": [
       "(493, 7)"
      ]
     },
     "execution_count": 29,
     "metadata": {},
     "output_type": "execute_result"
    }
   ],
   "source": [
    "train_data = pd.concat([train, original], axis=0, ignore_index=True)\n",
    "train_data.shape"
   ]
  },
  {
   "cell_type": "code",
   "execution_count": 30,
   "metadata": {},
   "outputs": [
    {
     "data": {
      "text/html": [
       "<div>\n",
       "<style scoped>\n",
       "    .dataframe tbody tr th:only-of-type {\n",
       "        vertical-align: middle;\n",
       "    }\n",
       "\n",
       "    .dataframe tbody tr th {\n",
       "        vertical-align: top;\n",
       "    }\n",
       "\n",
       "    .dataframe thead th {\n",
       "        text-align: right;\n",
       "    }\n",
       "</style>\n",
       "<table border=\"1\" class=\"dataframe\">\n",
       "  <thead>\n",
       "    <tr style=\"text-align: right;\">\n",
       "      <th></th>\n",
       "      <th>gravity</th>\n",
       "      <th>ph</th>\n",
       "      <th>osmo</th>\n",
       "      <th>cond</th>\n",
       "      <th>urea</th>\n",
       "      <th>calc</th>\n",
       "      <th>target</th>\n",
       "    </tr>\n",
       "  </thead>\n",
       "  <tbody>\n",
       "    <tr>\n",
       "      <th>0</th>\n",
       "      <td>1.013</td>\n",
       "      <td>6.19</td>\n",
       "      <td>443</td>\n",
       "      <td>14.8</td>\n",
       "      <td>124</td>\n",
       "      <td>1.45</td>\n",
       "      <td>0</td>\n",
       "    </tr>\n",
       "    <tr>\n",
       "      <th>1</th>\n",
       "      <td>1.025</td>\n",
       "      <td>5.40</td>\n",
       "      <td>703</td>\n",
       "      <td>23.6</td>\n",
       "      <td>394</td>\n",
       "      <td>4.18</td>\n",
       "      <td>0</td>\n",
       "    </tr>\n",
       "    <tr>\n",
       "      <th>2</th>\n",
       "      <td>1.009</td>\n",
       "      <td>6.13</td>\n",
       "      <td>371</td>\n",
       "      <td>24.5</td>\n",
       "      <td>159</td>\n",
       "      <td>9.04</td>\n",
       "      <td>0</td>\n",
       "    </tr>\n",
       "    <tr>\n",
       "      <th>3</th>\n",
       "      <td>1.021</td>\n",
       "      <td>4.91</td>\n",
       "      <td>442</td>\n",
       "      <td>20.8</td>\n",
       "      <td>398</td>\n",
       "      <td>6.63</td>\n",
       "      <td>1</td>\n",
       "    </tr>\n",
       "    <tr>\n",
       "      <th>4</th>\n",
       "      <td>1.021</td>\n",
       "      <td>5.53</td>\n",
       "      <td>874</td>\n",
       "      <td>17.8</td>\n",
       "      <td>385</td>\n",
       "      <td>2.21</td>\n",
       "      <td>1</td>\n",
       "    </tr>\n",
       "  </tbody>\n",
       "</table>\n",
       "</div>"
      ],
      "text/plain": [
       "   gravity    ph  osmo  cond  urea  calc  target\n",
       "0    1.013  6.19   443  14.8   124  1.45       0\n",
       "1    1.025  5.40   703  23.6   394  4.18       0\n",
       "2    1.009  6.13   371  24.5   159  9.04       0\n",
       "3    1.021  4.91   442  20.8   398  6.63       1\n",
       "4    1.021  5.53   874  17.8   385  2.21       1"
      ]
     },
     "execution_count": 30,
     "metadata": {},
     "output_type": "execute_result"
    }
   ],
   "source": [
    "train_data.head()"
   ]
  },
  {
   "cell_type": "markdown",
   "metadata": {},
   "source": [
    "### 8.3 Separating the features and the target:\n",
    "\n",
    "We need to separate the features and the target columns in the training data to fit the models."
   ]
  },
  {
   "cell_type": "code",
   "execution_count": 31,
   "metadata": {},
   "outputs": [],
   "source": [
    "X = train_data.drop(['target'], axis=1)\n",
    "y = train_data['target']\n",
    "X_test = test.copy()"
   ]
  },
  {
   "cell_type": "markdown",
   "metadata": {},
   "source": [
    "## 9. Modeling:\n",
    "\n",
    "Here we will use the following three models to train and validate:\n",
    "1. Random Forest Classifier\n",
    "2. XGBoost Classifier\n",
    "3. Light GBM Classifier\n",
    "\n",
    "Note that the evaluation metric that we will use for each model will be **Area under the ROC Curve**. We will use a 5-fold Stratified Cross Validation strategy to train and evaluate each model.\n",
    "\n",
    "To make it easier to implement, I will create a function named `cross_validate()` to do the training and evaluation easily.\n",
    "\n",
    "**cross_validate() function:**\n",
    "\n",
    "This function takes in the features data, the target values and the model we want to train. So this function can be used for any model we would like to train.\n",
    "\n",
    "I have first set the fiure and axis to plot the AUC curve and the importances list. In this I have first set the style to darkgrid using `sns.set_style()` method. Next, I have used the `plt.subplots()` method to divide the figure space into two spaces row-wise: one for the ROC-AUC curve and the other for the Importances. I have also labeled the axes and titles using the `set_xlabel()`, `set_ylabel()` and `set_title()` methods.\n",
    "\n",
    "Next, I have initialized the Stratified K-fold CV using the `StratifiedKFold()` method. The argument `n_splits=5` informs the method that a 5-fold stratified cross-validation has to be performed and the `shuffle=True` argument allows for random sampling.\n",
    "\n",
    "Two lists are created named `cv_scores` and `model_importances` to store the cross-validation AUC scores and the feature importances. Then the data is split and the model is fitted. The cv_scores are calculated and stored.The feature importances are then converted into a Pandas dataframe which is then used to plot a horizontal bar graph."
   ]
  },
  {
   "cell_type": "code",
   "execution_count": 32,
   "metadata": {},
   "outputs": [],
   "source": [
    "def cross_validate(X, y, model):\n",
    "    \n",
    "    ## Figure, axes:\n",
    "    sns.set_style('darkgrid')\n",
    "    fig, ax = plt.subplots(2, 1, figsize=(8,12))\n",
    "    ax[0].set_title(\"ROC-AUC Curve\")\n",
    "    ax[0].set_xlabel(\"False Positive Rate\")\n",
    "    ax[0].set_ylabel(\"True Positive Rate\")\n",
    "    ax[1].set_title(\"Importances\")\n",
    "    \n",
    "    \n",
    "    skf = StratifiedKFold(n_splits = 5,\n",
    "                          shuffle = True,\n",
    "                          random_state = 1337)\n",
    "    cv_scores = []\n",
    "    model_importances = []\n",
    "    \n",
    "    for fold, (train_id, val_id) in enumerate(skf.split(X, y)):\n",
    "        X_train, X_valid = X.loc[train_id], X.loc[val_id]\n",
    "        y_train, y_valid = y.loc[train_id], y.loc[val_id]\n",
    "        \n",
    "        model.fit(X_train, y_train)\n",
    "        model_importances.append(model.feature_importances_)\n",
    "        \n",
    "        y_pred = model.predict_proba(X_valid)[:, 1]\n",
    "        auc_score = roc_auc_score(y_valid, y_pred)\n",
    "        cv_scores.append(auc_score)\n",
    "        fpr, tpr, thresholds = roc_curve(y_valid, y_pred)\n",
    "        roc_auc = auc(fpr, tpr)\n",
    "        display = RocCurveDisplay(fpr = fpr,\n",
    "                        tpr = tpr,\n",
    "                        roc_auc = roc_auc,\n",
    "                        estimator_name = 'model')\n",
    "        display.plot(ax = ax[0])\n",
    "        \n",
    "        print(f'Fold {fold} \\t auc: {auc_score}')\n",
    "        print('\\n-------------------------------\\n')\n",
    "    \n",
    "    df_importances = pd.DataFrame(model_importances,\n",
    "                                  columns = train.drop(['target'], axis=1).columns).apply(np.mean, axis=0).sort_values()\n",
    "    df_importances.plot(kind = 'barh',\n",
    "                        align = 'center',\n",
    "                        width = 0.4,\n",
    "                        ax = ax[1],\n",
    "                        color = 'blue',\n",
    "                        edgecolor = 'black')\n",
    "    \n",
    "    avg_auc = np.mean(cv_scores)\n",
    "    print(f\"Average AUC: {avg_auc}\")"
   ]
  },
  {
   "cell_type": "markdown",
   "metadata": {},
   "source": [
    "### 9.1 Random Forest Classifier:\n",
    "\n",
    "We initialize the Random Forest Classifier model using the `RandomForestClassifier()`. We pass the following arguments:\n",
    "* `n_estimators=200`, which initializes 200 trees in the forest;\n",
    "* `max_depth = 5`, argument informs the classifier that the maximum depth of a tree cannot exceed 5. \n",
    "* `random_state = 42`, random seed argument.  \n",
    "\n",
    "Then we pass the features, the target and the Random Forest Classifier model into the `cross_validate()` function."
   ]
  },
  {
   "cell_type": "code",
   "execution_count": 33,
   "metadata": {},
   "outputs": [
    {
     "name": "stdout",
     "output_type": "stream",
     "text": [
      "Fold 0 \t auc: 0.8152892561983471\n",
      "\n",
      "-------------------------------\n",
      "\n",
      "Fold 1 \t auc: 0.8495867768595042\n",
      "\n",
      "-------------------------------\n",
      "\n",
      "Fold 2 \t auc: 0.7962809917355372\n",
      "\n",
      "-------------------------------\n",
      "\n",
      "Fold 3 \t auc: 0.7369978858350951\n",
      "\n",
      "-------------------------------\n",
      "\n",
      "Fold 4 \t auc: 0.8367864693446089\n",
      "\n",
      "-------------------------------\n",
      "\n",
      "Average AUC: 0.8069882759946185\n"
     ]
    },
    {
     "data": {
      "image/png": "[encoded data removed]",
      "text/plain": [
       "<Figure size 576x864 with 2 Axes>"
      ]
     },
     "metadata": {},
     "output_type": "display_data"
    }
   ],
   "source": [
    "rf_model = RandomForestClassifier(n_estimators=400,\n",
    "                                  max_depth = 5,\n",
    "                                  random_state = 42)\n",
    "cross_validate(X, y, rf_model)"
   ]
  },
  {
   "cell_type": "markdown",
   "metadata": {},
   "source": [
    "### 9.2 XGBoost Classifier:\n",
    "\n",
    "Here I use the XGBoost Classifier model. I have first initialized the model using `XGBClassifier()`. I have used the following hyperparameters:\n",
    "\n",
    "| Hyperparameter | Definition | My Choice |\n",
    "|:--------------:|:----------:|:---------:|\n",
    "| `n_estimators` | The number of boosting rounds or trees to build | 400 |\n",
    "| `max_depth` | The maximum depth of each tree | 5 |\n",
    "| `learning_rate` | The step size shrinkage used to prevent overfitting | 0.1 |\n",
    "| `min_child_weight` | The minimum sum of weights of all observations required in a child | 5 |\n",
    "| `subsample` | Fraction of observations to be randomly sampled for each tree | 0.7 |\n",
    "| `colsample_bytree` | Fraction of columns to be randomly sampled for each tree | 0.25 |\n",
    "\n",
    "Then I have passed the features data, the target data and the model into the `cross_validate()` function for model training and evaluation."
   ]
  },
  {
   "cell_type": "code",
   "execution_count": 34,
   "metadata": {},
   "outputs": [
    {
     "name": "stdout",
     "output_type": "stream",
     "text": [
      "Fold 0 \t auc: 0.8066115702479338\n",
      "\n",
      "-------------------------------\n",
      "\n",
      "Fold 1 \t auc: 0.8\n",
      "\n",
      "-------------------------------\n",
      "\n",
      "Fold 2 \t auc: 0.7613636363636364\n",
      "\n",
      "-------------------------------\n",
      "\n",
      "Fold 3 \t auc: 0.7657505285412262\n",
      "\n",
      "-------------------------------\n",
      "\n",
      "Fold 4 \t auc: 0.8363636363636363\n",
      "\n",
      "-------------------------------\n",
      "\n",
      "Average AUC: 0.7940178743032865\n"
     ]
    },
    {
     "data": {
      "image/png": "[encoded data removed]",
      "text/plain": [
       "<Figure size 576x864 with 2 Axes>"
      ]
     },
     "metadata": {},
     "output_type": "display_data"
    }
   ],
   "source": [
    "xgb_model = XGBClassifier(n_estimators = 400,\n",
    "                          max_depth = 5,\n",
    "                          learning_rate = 0.1,\n",
    "                          min_child_weight = 5,\n",
    "                          subsample = 0.7,\n",
    "                          colsample_bytree = 0.25)\n",
    "\n",
    "cross_validate(X, y, xgb_model)"
   ]
  },
  {
   "cell_type": "markdown",
   "metadata": {},
   "source": [
    "### 9.3 Light GBM Classifier: \n",
    "\n",
    "Here I use the LGBM Classifier model, and so I have used `lgbm.LGBMClassifier()` to initialize the model. The following hyperparameters are used:\n",
    "\n",
    "| Hyperparameter | Definition | My Choice |\n",
    "|:--------------:|:----------:|:---------:|\n",
    "| `n_estimators` | Number of trees to build | 400 |\n",
    "| `learning_rate` | The step size shrinkage used to prevent overfitting | 0.1 |\n",
    "| `num_leaves` | The maximum number of leaves in each decision tree | 200 |\n",
    "| `max_depth` | The maximum depth of each tree | 5 |\n",
    "| `min_data_in_leaf` | The minimum number of samples required to be at a leaf node | 45 |\n",
    "| `lambda_l1` | L1 regularization term on the weights | 0.01 |\n",
    "| `lambda_l2` | L2 regularization term on the weights | 0.6 |\n",
    "| `min_gain_to_split` | The minimum gain required to make a further partition on a leaf node of the tree | 1.40 |\n",
    "| `bagging_fraction` | The fraction of observations to be randomly sampled for each tree | 0.7 |\n",
    "| `feature_fraction` | The fraction of features to be randomly sampled for each tree | 0.25 |\n",
    "\n",
    "Now I pass the features data, the target data and the model as arguments into the `cross_validate()` function for model training and evaluation."
   ]
  },
  {
   "cell_type": "code",
   "execution_count": 37,
   "metadata": {},
   "outputs": [
    {
     "name": "stdout",
     "output_type": "stream",
     "text": [
      "[LightGBM] [Warning] feature_fraction is set=0.25, colsample_bytree=1.0 will be ignored. Current value: feature_fraction=0.25\n",
      "[LightGBM] [Warning] min_data_in_leaf is set=45, min_child_samples=20 will be ignored. Current value: min_data_in_leaf=45\n",
      "[LightGBM] [Warning] min_gain_to_split is set=1.4, min_split_gain=0.0 will be ignored. Current value: min_gain_to_split=1.4\n",
      "[LightGBM] [Warning] lambda_l1 is set=0.01, reg_alpha=0.0 will be ignored. Current value: lambda_l1=0.01\n",
      "[LightGBM] [Warning] bagging_fraction is set=0.7, subsample=1.0 will be ignored. Current value: bagging_fraction=0.7\n",
      "[LightGBM] [Warning] lambda_l2 is set=0.6, reg_lambda=0.0 will be ignored. Current value: lambda_l2=0.6\n",
      "Fold 0 \t auc: 0.8107438016528926\n",
      "\n",
      "-------------------------------\n",
      "\n",
      "[LightGBM] [Warning] feature_fraction is set=0.25, colsample_bytree=1.0 will be ignored. Current value: feature_fraction=0.25\n",
      "[LightGBM] [Warning] min_data_in_leaf is set=45, min_child_samples=20 will be ignored. Current value: min_data_in_leaf=45\n",
      "[LightGBM] [Warning] min_gain_to_split is set=1.4, min_split_gain=0.0 will be ignored. Current value: min_gain_to_split=1.4\n",
      "[LightGBM] [Warning] lambda_l1 is set=0.01, reg_alpha=0.0 will be ignored. Current value: lambda_l1=0.01\n",
      "[LightGBM] [Warning] bagging_fraction is set=0.7, subsample=1.0 will be ignored. Current value: bagging_fraction=0.7\n",
      "[LightGBM] [Warning] lambda_l2 is set=0.6, reg_lambda=0.0 will be ignored. Current value: lambda_l2=0.6\n",
      "Fold 1 \t auc: 0.849793388429752\n",
      "\n",
      "-------------------------------\n",
      "\n",
      "[LightGBM] [Warning] feature_fraction is set=0.25, colsample_bytree=1.0 will be ignored. Current value: feature_fraction=0.25\n",
      "[LightGBM] [Warning] min_data_in_leaf is set=45, min_child_samples=20 will be ignored. Current value: min_data_in_leaf=45\n",
      "[LightGBM] [Warning] min_gain_to_split is set=1.4, min_split_gain=0.0 will be ignored. Current value: min_gain_to_split=1.4\n",
      "[LightGBM] [Warning] lambda_l1 is set=0.01, reg_alpha=0.0 will be ignored. Current value: lambda_l1=0.01\n",
      "[LightGBM] [Warning] bagging_fraction is set=0.7, subsample=1.0 will be ignored. Current value: bagging_fraction=0.7\n",
      "[LightGBM] [Warning] lambda_l2 is set=0.6, reg_lambda=0.0 will be ignored. Current value: lambda_l2=0.6\n",
      "Fold 2 \t auc: 0.7933884297520662\n",
      "\n",
      "-------------------------------\n",
      "\n",
      "[LightGBM] [Warning] feature_fraction is set=0.25, colsample_bytree=1.0 will be ignored. Current value: feature_fraction=0.25\n",
      "[LightGBM] [Warning] min_data_in_leaf is set=45, min_child_samples=20 will be ignored. Current value: min_data_in_leaf=45\n",
      "[LightGBM] [Warning] min_gain_to_split is set=1.4, min_split_gain=0.0 will be ignored. Current value: min_gain_to_split=1.4\n",
      "[LightGBM] [Warning] lambda_l1 is set=0.01, reg_alpha=0.0 will be ignored. Current value: lambda_l1=0.01\n",
      "[LightGBM] [Warning] bagging_fraction is set=0.7, subsample=1.0 will be ignored. Current value: bagging_fraction=0.7\n",
      "[LightGBM] [Warning] lambda_l2 is set=0.6, reg_lambda=0.0 will be ignored. Current value: lambda_l2=0.6\n",
      "Fold 3 \t auc: 0.7513742071881608\n",
      "\n",
      "-------------------------------\n",
      "\n",
      "[LightGBM] [Warning] feature_fraction is set=0.25, colsample_bytree=1.0 will be ignored. Current value: feature_fraction=0.25\n",
      "[LightGBM] [Warning] min_data_in_leaf is set=45, min_child_samples=20 will be ignored. Current value: min_data_in_leaf=45\n",
      "[LightGBM] [Warning] min_gain_to_split is set=1.4, min_split_gain=0.0 will be ignored. Current value: min_gain_to_split=1.4\n",
      "[LightGBM] [Warning] lambda_l1 is set=0.01, reg_alpha=0.0 will be ignored. Current value: lambda_l1=0.01\n",
      "[LightGBM] [Warning] bagging_fraction is set=0.7, subsample=1.0 will be ignored. Current value: bagging_fraction=0.7\n",
      "[LightGBM] [Warning] lambda_l2 is set=0.6, reg_lambda=0.0 will be ignored. Current value: lambda_l2=0.6\n",
      "Fold 4 \t auc: 0.8150105708245243\n",
      "\n",
      "-------------------------------\n",
      "\n",
      "Average AUC: 0.8040620795694793\n"
     ]
    },
    {
     "data": {
      "image/png": "[encoded data removed]",
      "text/plain": [
       "<Figure size 576x864 with 2 Axes>"
      ]
     },
     "metadata": {},
     "output_type": "display_data"
    }
   ],
   "source": [
    "lgbm_model = lgbm.LGBMClassifier(n_estimators = 400,\n",
    "                                 learning_rate = 0.1,\n",
    "                                 num_leaves = 200,\n",
    "                                 max_depth = 5,\n",
    "                                 min_data_in_leaf = 45,\n",
    "                                 lambda_l1 = 0.01,\n",
    "                                 lambda_l2 = 0.6,\n",
    "                                 min_gain_to_split = 1.40,\n",
    "                                 bagging_fraction = 0.7,\n",
    "                                 feature_fraction = 0.25)\n",
    "\n",
    "cross_validate(X, y, lgbm_model)"
   ]
  },
  {
   "cell_type": "markdown",
   "metadata": {},
   "source": [
    "**Summarizing the results:**\n",
    "\n",
    "Till now, I have trained three models and the results are as follows:\n",
    "\n",
    "| Model | Average AUC score (average of 5 folds) | Top 3 important features (in descending order of importance) |\n",
    "|:-----:|:-----------------:|:------------------------:|\n",
    "| Random Forest Classifier | 0.8069882759946185 | calc, urea, gravity |\n",
    "| XGBoost Classifier | 0.7940178743032865 | calc, urea, cond |\n",
    "| Light GBM Classifier | 0.8040620795694793 | calc, cond, urea |\n",
    "\n",
    "Since all three of the models show more or less similar average AUC score, I will use their mean for the prediction on the test set."
   ]
  },
  {
   "cell_type": "markdown",
   "metadata": {},
   "source": [
    "## 10. Final Prediction:\n",
    "\n",
    "In order to make final predictions on the test dataset, I will first train the three models on the entire training data."
   ]
  },
  {
   "cell_type": "code",
   "execution_count": 42,
   "metadata": {},
   "outputs": [
    {
     "data": {
      "text/plain": [
       "RandomForestClassifier(max_depth=5, n_estimators=400, random_state=42)"
      ]
     },
     "execution_count": 42,
     "metadata": {},
     "output_type": "execute_result"
    }
   ],
   "source": [
    "rf_model.fit(X, y)"
   ]
  },
  {
   "cell_type": "code",
   "execution_count": 43,
   "metadata": {},
   "outputs": [
    {
     "data": {
      "text/plain": [
       "XGBClassifier(base_score=None, booster=None, callbacks=None,\n",
       "              colsample_bylevel=None, colsample_bynode=None,\n",
       "              colsample_bytree=0.25, early_stopping_rounds=None,\n",
       "              enable_categorical=False, eval_metric=None, feature_types=None,\n",
       "              gamma=None, gpu_id=None, grow_policy=None, importance_type=None,\n",
       "              interaction_constraints=None, learning_rate=0.1, max_bin=None,\n",
       "              max_cat_threshold=None, max_cat_to_onehot=None,\n",
       "              max_delta_step=None, max_depth=5, max_leaves=None,\n",
       "              min_child_weight=5, missing=nan, monotone_constraints=None,\n",
       "              n_estimators=400, n_jobs=None, num_parallel_tree=None,\n",
       "              predictor=None, random_state=None, ...)"
      ]
     },
     "execution_count": 43,
     "metadata": {},
     "output_type": "execute_result"
    }
   ],
   "source": [
    "xgb_model.fit(X, y)"
   ]
  },
  {
   "cell_type": "code",
   "execution_count": 44,
   "metadata": {},
   "outputs": [
    {
     "data": {
      "text/plain": [
       "LGBMClassifier(bagging_fraction=0.7, feature_fraction=0.25, lambda_l1=0.01,\n",
       "               lambda_l2=0.6, max_depth=5, min_data_in_leaf=45,\n",
       "               min_gain_to_split=1.4, n_estimators=400, num_leaves=200)"
      ]
     },
     "execution_count": 44,
     "metadata": {},
     "output_type": "execute_result"
    }
   ],
   "source": [
    "lgbm_model.fit(X, y)"
   ]
  },
  {
   "cell_type": "code",
   "execution_count": 47,
   "metadata": {},
   "outputs": [],
   "source": [
    "final_pred = (rf_model.predict_proba(X_test)[:, 1] + xgb_model.predict_proba(X_test)[:, 1] + lgbm_model.predict_proba(X_test)[:, 1])/3"
   ]
  },
  {
   "cell_type": "code",
   "execution_count": 48,
   "metadata": {},
   "outputs": [
    {
     "data": {
      "text/html": [
       "<div>\n",
       "<style scoped>\n",
       "    .dataframe tbody tr th:only-of-type {\n",
       "        vertical-align: middle;\n",
       "    }\n",
       "\n",
       "    .dataframe tbody tr th {\n",
       "        vertical-align: top;\n",
       "    }\n",
       "\n",
       "    .dataframe thead th {\n",
       "        text-align: right;\n",
       "    }\n",
       "</style>\n",
       "<table border=\"1\" class=\"dataframe\">\n",
       "  <thead>\n",
       "    <tr style=\"text-align: right;\">\n",
       "      <th></th>\n",
       "      <th>id</th>\n",
       "      <th>target</th>\n",
       "    </tr>\n",
       "  </thead>\n",
       "  <tbody>\n",
       "    <tr>\n",
       "      <th>0</th>\n",
       "      <td>414</td>\n",
       "      <td>0.5</td>\n",
       "    </tr>\n",
       "    <tr>\n",
       "      <th>1</th>\n",
       "      <td>415</td>\n",
       "      <td>0.5</td>\n",
       "    </tr>\n",
       "    <tr>\n",
       "      <th>2</th>\n",
       "      <td>416</td>\n",
       "      <td>0.5</td>\n",
       "    </tr>\n",
       "    <tr>\n",
       "      <th>3</th>\n",
       "      <td>417</td>\n",
       "      <td>0.5</td>\n",
       "    </tr>\n",
       "    <tr>\n",
       "      <th>4</th>\n",
       "      <td>418</td>\n",
       "      <td>0.5</td>\n",
       "    </tr>\n",
       "  </tbody>\n",
       "</table>\n",
       "</div>"
      ],
      "text/plain": [
       "    id  target\n",
       "0  414     0.5\n",
       "1  415     0.5\n",
       "2  416     0.5\n",
       "3  417     0.5\n",
       "4  418     0.5"
      ]
     },
     "execution_count": 48,
     "metadata": {},
     "output_type": "execute_result"
    }
   ],
   "source": [
    "submission.head()"
   ]
  },
  {
   "cell_type": "code",
   "execution_count": 49,
   "metadata": {},
   "outputs": [
    {
     "data": {
      "text/html": [
       "<div>\n",
       "<style scoped>\n",
       "    .dataframe tbody tr th:only-of-type {\n",
       "        vertical-align: middle;\n",
       "    }\n",
       "\n",
       "    .dataframe tbody tr th {\n",
       "        vertical-align: top;\n",
       "    }\n",
       "\n",
       "    .dataframe thead th {\n",
       "        text-align: right;\n",
       "    }\n",
       "</style>\n",
       "<table border=\"1\" class=\"dataframe\">\n",
       "  <thead>\n",
       "    <tr style=\"text-align: right;\">\n",
       "      <th></th>\n",
       "      <th>id</th>\n",
       "      <th>target</th>\n",
       "    </tr>\n",
       "  </thead>\n",
       "  <tbody>\n",
       "    <tr>\n",
       "      <th>0</th>\n",
       "      <td>414</td>\n",
       "      <td>0.124424</td>\n",
       "    </tr>\n",
       "    <tr>\n",
       "      <th>1</th>\n",
       "      <td>415</td>\n",
       "      <td>0.456555</td>\n",
       "    </tr>\n",
       "    <tr>\n",
       "      <th>2</th>\n",
       "      <td>416</td>\n",
       "      <td>0.882620</td>\n",
       "    </tr>\n",
       "    <tr>\n",
       "      <th>3</th>\n",
       "      <td>417</td>\n",
       "      <td>0.364774</td>\n",
       "    </tr>\n",
       "    <tr>\n",
       "      <th>4</th>\n",
       "      <td>418</td>\n",
       "      <td>0.291721</td>\n",
       "    </tr>\n",
       "  </tbody>\n",
       "</table>\n",
       "</div>"
      ],
      "text/plain": [
       "    id    target\n",
       "0  414  0.124424\n",
       "1  415  0.456555\n",
       "2  416  0.882620\n",
       "3  417  0.364774\n",
       "4  418  0.291721"
      ]
     },
     "execution_count": 49,
     "metadata": {},
     "output_type": "execute_result"
    }
   ],
   "source": [
    "submission['target'] = final_pred\n",
    "submission.head()"
   ]
  },
  {
   "cell_type": "code",
   "execution_count": null,
   "metadata": {},
   "outputs": [],
   "source": []
  }
 ],
 "metadata": {
  "kernelspec": {
   "display_name": "Python 3",
   "language": "python",
   "name": "python3"
  },
  "language_info": {
   "codemirror_mode": {
    "name": "ipython",
    "version": 3
   },
   "file_extension": ".py",
   "mimetype": "text/x-python",
   "name": "python",
   "nbconvert_exporter": "python",
   "pygments_lexer": "ipython3",
   "version": "3.8.3"
  }
 },
 "nbformat": 4,
 "nbformat_minor": 4
}
