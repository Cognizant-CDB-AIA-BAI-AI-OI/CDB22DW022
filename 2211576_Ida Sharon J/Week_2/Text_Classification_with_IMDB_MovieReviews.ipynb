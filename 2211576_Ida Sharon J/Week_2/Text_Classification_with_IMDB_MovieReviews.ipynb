{
 "cells": [
  {
   "cell_type": "markdown",
   "metadata": {
    "_uuid": "471063453fe22a507db228edfc51d123286f92d0"
   },
   "source": [
    "# Text Classification with IMDB Movie Reviews from TensorFlow Docs\n",
    "\n",
    "\n",
    "This notebook classifies movie reviews as *positive* or *negative* using the text of the review. This is an example of *binary*—or two-class—classification, an important and widely applicable kind of machine learning problem. \n",
    "\n",
    "This notebook uses tf.keras, a high-level API to build and train models in TensorFlow. "
   ]
  },
  {
   "cell_type": "markdown",
   "metadata": {},
   "source": [
    "We have used IMDB dataset that contains the text of 50,000 movie reviews from the Internet Movie Database. "
   ]
  },
  {
   "cell_type": "code",
   "execution_count": 1,
   "metadata": {
    "_uuid": "f4e965aab7fdf6215ff3426116484b899b123d5b"
   },
   "outputs": [
    {
     "name": "stdout",
     "output_type": "stream",
     "text": [
      "1.12.0\n"
     ]
    }
   ],
   "source": [
    "from __future__ import absolute_import, division, print_function\n",
    "\n",
    "import tensorflow as tf\n",
    "from tensorflow import keras\n",
    "\n",
    "import numpy as np\n",
    "\n",
    "print(tf.__version__)"
   ]
  },
  {
   "cell_type": "markdown",
   "metadata": {
    "_uuid": "ef6a2761e1ac0381853cd6164d22fc338322e5f1"
   },
   "source": [
    "## Download the IMDB dataset\n",
    "\n",
    "The IMDB dataset comes packaged with TensorFlow. It has already been preprocessed such that the reviews (sequences of words) have been converted to sequences of integers, where each integer represents a specific word in a dictionary."
   ]
  },
  {
   "cell_type": "code",
   "execution_count": 2,
   "metadata": {
    "_uuid": "fc32852b5f489292602c949a76a9d6db92ad49b7"
   },
   "outputs": [
    {
     "name": "stdout",
     "output_type": "stream",
     "text": [
      "Downloading data from https://storage.googleapis.com/tensorflow/tf-keras-datasets/imdb.npz\n",
      "17465344/17464789 [==============================] - 0s 0us/step\n"
     ]
    }
   ],
   "source": [
    "imdb = keras.datasets.imdb\n",
    "\n",
    "(train_data, train_labels), (test_data, test_labels) = imdb.load_data(num_words=10000)"
   ]
  },
  {
   "cell_type": "markdown",
   "metadata": {
    "_uuid": "36ad7e030828c25dcfb311a199d8b0e4714851d4"
   },
   "source": [
    "The argument `num_words=10000` keeps the top 10,000 most frequently occurring words in the training data. The rare words are discarded to keep the size of the data manageable.\n",
    "\n",
    "## Explore the data \n",
    "\n",
    "The dataset comes preprocessed: each example is an array of integers representing the words of the movie review. Each label is an integer value of either 0 or 1, where 0 is a negative review, and 1 is a positive review."
   ]
  },
  {
   "cell_type": "code",
   "execution_count": 3,
   "metadata": {
    "_uuid": "fe9afd64bd9b8d3b09cf640d25b769c97af4b324"
   },
   "outputs": [
    {
     "name": "stdout",
     "output_type": "stream",
     "text": [
      "Training entries: 25000, labels: 25000\n"
     ]
    }
   ],
   "source": [
    "print(\"Training entries: {}, labels: {}\".format(len(train_data), len(train_labels)))"
   ]
  },
  {
   "cell_type": "markdown",
   "metadata": {
    "_uuid": "dbad3e2ae203bd5c672dff7d1ce872efc116f083"
   },
   "source": [
    "The text of reviews have been converted to integers, where each integer represents a specific word in a dictionary. Here's what the first review looks like:"
   ]
  },
  {
   "cell_type": "code",
   "execution_count": 4,
   "metadata": {
    "_uuid": "e64ea87b3309e3fd81eb21d3dca74e5757505bc3"
   },
   "outputs": [
    {
     "name": "stdout",
     "output_type": "stream",
     "text": [
      "[1, 14, 22, 16, 43, 530, 973, 1622, 1385, 65, 458, 4468, 66, 3941, 4, 173, 36, 256, 5, 25, 100, 43, 838, 112, 50, 670, 2, 9, 35, 480, 284, 5, 150, 4, 172, 112, 167, 2, 336, 385, 39, 4, 172, 4536, 1111, 17, 546, 38, 13, 447, 4, 192, 50, 16, 6, 147, 2025, 19, 14, 22, 4, 1920, 4613, 469, 4, 22, 71, 87, 12, 16, 43, 530, 38, 76, 15, 13, 1247, 4, 22, 17, 515, 17, 12, 16, 626, 18, 2, 5, 62, 386, 12, 8, 316, 8, 106, 5, 4, 2223, 5244, 16, 480, 66, 3785, 33, 4, 130, 12, 16, 38, 619, 5, 25, 124, 51, 36, 135, 48, 25, 1415, 33, 6, 22, 12, 215, 28, 77, 52, 5, 14, 407, 16, 82, 2, 8, 4, 107, 117, 5952, 15, 256, 4, 2, 7, 3766, 5, 723, 36, 71, 43, 530, 476, 26, 400, 317, 46, 7, 4, 2, 1029, 13, 104, 88, 4, 381, 15, 297, 98, 32, 2071, 56, 26, 141, 6, 194, 7486, 18, 4, 226, 22, 21, 134, 476, 26, 480, 5, 144, 30, 5535, 18, 51, 36, 28, 224, 92, 25, 104, 4, 226, 65, 16, 38, 1334, 88, 12, 16, 283, 5, 16, 4472, 113, 103, 32, 15, 16, 5345, 19, 178, 32]\n"
     ]
    }
   ],
   "source": [
    "print(train_data[0])"
   ]
  },
  {
   "cell_type": "markdown",
   "metadata": {
    "_uuid": "26cd674b493e06633a6816640c4772d51409530a"
   },
   "source": [
    "Movie reviews may be different lengths. The below code shows the number of words in the first and second reviews. Since inputs to a neural network must be the same length, we'll need to resolve this later."
   ]
  },
  {
   "cell_type": "code",
   "execution_count": 5,
   "metadata": {
    "_uuid": "f63ff4b9b040bf980af00e94525c60fa35359868"
   },
   "outputs": [
    {
     "data": {
      "text/plain": [
       "(218, 189)"
      ]
     },
     "execution_count": 5,
     "metadata": {},
     "output_type": "execute_result"
    }
   ],
   "source": [
    "len(train_data[0]), len(train_data[1])"
   ]
  },
  {
   "cell_type": "markdown",
   "metadata": {
    "_uuid": "759e97447e824169d54930c13649a86ed3aa0758"
   },
   "source": [
    "### Convert the integers back to words\n",
    "\n",
    "Here, we create a helper function to query a dictionary object that contains the integer to string mapping:"
   ]
  },
  {
   "cell_type": "code",
   "execution_count": 6,
   "metadata": {
    "_uuid": "6f8f45ce4fa615614fff5252453b379da024169d"
   },
   "outputs": [
    {
     "name": "stdout",
     "output_type": "stream",
     "text": [
      "Downloading data from https://storage.googleapis.com/tensorflow/tf-keras-datasets/imdb_word_index.json\n",
      "1646592/1641221 [==============================] - 0s 0us/step\n"
     ]
    }
   ],
   "source": [
    "# A dictionary mapping words to an integer index\n",
    "word_index = imdb.get_word_index()\n",
    "\n",
    "# The first indices are reserved\n",
    "word_index = {k:(v+3) for k,v in word_index.items()} \n",
    "word_index[\"<PAD>\"] = 0\n",
    "word_index[\"<START>\"] = 1\n",
    "word_index[\"<UNK>\"] = 2  # unknown\n",
    "word_index[\"<UNUSED>\"] = 3\n",
    "\n",
    "reverse_word_index = dict([(value, key) for (key, value) in word_index.items()])\n",
    "\n",
    "def decode_review(text):\n",
    "    return ' '.join([reverse_word_index.get(i, '?') for i in text])"
   ]
  },
  {
   "cell_type": "markdown",
   "metadata": {
    "_uuid": "306d7546dfee9f4223eb709a354a3303af2155ab"
   },
   "source": [
    "Now we can use the `decode_review` function to display the text for the first review:"
   ]
  },
  {
   "cell_type": "code",
   "execution_count": 7,
   "metadata": {
    "_uuid": "4c6e7dbc2b8121ad5c3522f2fffafc5bfce30bd3"
   },
   "outputs": [
    {
     "data": {
      "text/plain": [
       "\"<START> this film was just brilliant casting location scenery story direction everyone's really suited the part they played and you could just imagine being there robert <UNK> is an amazing actor and now the same being director <UNK> father came from the same scottish island as myself so i loved the fact there was a real connection with this film the witty remarks throughout the film were great it was just brilliant so much that i bought the film as soon as it was released for <UNK> and would recommend it to everyone to watch and the fly fishing was amazing really cried at the end it was so sad and you know what they say if you cry at a film it must have been good and this definitely was also <UNK> to the two little boy's that played the <UNK> of norman and paul they were just brilliant children are often left out of the <UNK> list i think because the stars that play them all grown up are such a big profile for the whole film but these children are amazing and should be praised for what they have done don't you think the whole story was so lovely because it was true and was someone's life after all that was shared with us all\""
      ]
     },
     "execution_count": 7,
     "metadata": {},
     "output_type": "execute_result"
    }
   ],
   "source": [
    "decode_review(train_data[0])"
   ]
  },
  {
   "cell_type": "markdown",
   "metadata": {
    "_uuid": "c3eb4a38a49b27576a7257a41ecb654c398a4cfb"
   },
   "source": [
    "## Prepare the data\n",
    "\n",
    "The reviews—the arrays of integers—must be converted to tensors before fed into the neural network. This conversion can be done a couple of ways:\n",
    "\n",
    "* Convert the arrays into vectors of 0s and 1s indicating word occurrence, similar to a one-hot encoding. For example, the sequence  [3, 5] would become a 10,000-dimensional vector that is all zeros except for indices 3 and 5, which are ones. Then, make this the first layer in our network—a Dense layer—that can handle floating point vector data. This approach is memory intensive, though, requiring a `num_words * num_reviews` size matrix.\n",
    "\n",
    "* Alternatively, we can pad the arrays so they all have the same length, then create an integer tensor of shape `max_length * num_reviews`. We can use an embedding layer capable of handling this shape as the first layer in our network.\n",
    "\n",
    "Here we use the second approach. \n",
    "\n",
    "Since the movie reviews must be the same length, we use the pad_sequences function to standardize the lengths:"
   ]
  },
  {
   "cell_type": "code",
   "execution_count": 8,
   "metadata": {
    "_uuid": "975ebfc6de19282d85a0402068623277a615c155"
   },
   "outputs": [],
   "source": [
    "train_data = keras.preprocessing.sequence.pad_sequences(train_data,\n",
    "                                                        value=word_index[\"<PAD>\"],\n",
    "                                                        padding='post',\n",
    "                                                        maxlen=256)\n",
    "\n",
    "test_data = keras.preprocessing.sequence.pad_sequences(test_data,\n",
    "                                                       value=word_index[\"<PAD>\"],\n",
    "                                                       padding='post',\n",
    "                                                       maxlen=256)"
   ]
  },
  {
   "cell_type": "markdown",
   "metadata": {
    "_uuid": "2a9924adb578e56d8d53b98e78dd37f1e489901b"
   },
   "source": [
    "Shows the length of the examples:"
   ]
  },
  {
   "cell_type": "code",
   "execution_count": 9,
   "metadata": {
    "_uuid": "b3f7fc5a59410b9aa1d1a41f9b0e784c3b5d41f8"
   },
   "outputs": [
    {
     "data": {
      "text/plain": [
       "(256, 256)"
      ]
     },
     "execution_count": 9,
     "metadata": {},
     "output_type": "execute_result"
    }
   ],
   "source": [
    "len(train_data[0]), len(train_data[1])"
   ]
  },
  {
   "cell_type": "markdown",
   "metadata": {
    "_uuid": "7ff3d37c7df0ce3120dafb281ae8abf662a88841"
   },
   "source": [
    "The larger magnitude contributions have a larger impact on the model's prediction. Negative contributions indicate the feature value for this given example reduced the model's prediction, while positive values contribute an increase in the prediction."
   ]
  },
  {
   "cell_type": "code",
   "execution_count": 10,
   "metadata": {
    "_uuid": "4c00e856f704fdd99a9290b543dfb6a472d83b2b"
   },
   "outputs": [
    {
     "name": "stdout",
     "output_type": "stream",
     "text": [
      "[   1   14   22   16   43  530  973 1622 1385   65  458 4468   66 3941\n",
      "    4  173   36  256    5   25  100   43  838  112   50  670    2    9\n",
      "   35  480  284    5  150    4  172  112  167    2  336  385   39    4\n",
      "  172 4536 1111   17  546   38   13  447    4  192   50   16    6  147\n",
      " 2025   19   14   22    4 1920 4613  469    4   22   71   87   12   16\n",
      "   43  530   38   76   15   13 1247    4   22   17  515   17   12   16\n",
      "  626   18    2    5   62  386   12    8  316    8  106    5    4 2223\n",
      " 5244   16  480   66 3785   33    4  130   12   16   38  619    5   25\n",
      "  124   51   36  135   48   25 1415   33    6   22   12  215   28   77\n",
      "   52    5   14  407   16   82    2    8    4  107  117 5952   15  256\n",
      "    4    2    7 3766    5  723   36   71   43  530  476   26  400  317\n",
      "   46    7    4    2 1029   13  104   88    4  381   15  297   98   32\n",
      " 2071   56   26  141    6  194 7486   18    4  226   22   21  134  476\n",
      "   26  480    5  144   30 5535   18   51   36   28  224   92   25  104\n",
      "    4  226   65   16   38 1334   88   12   16  283    5   16 4472  113\n",
      "  103   32   15   16 5345   19  178   32    0    0    0    0    0    0\n",
      "    0    0    0    0    0    0    0    0    0    0    0    0    0    0\n",
      "    0    0    0    0    0    0    0    0    0    0    0    0    0    0\n",
      "    0    0    0    0]\n"
     ]
    }
   ],
   "source": [
    "print(train_data[0])"
   ]
  },
  {
   "cell_type": "markdown",
   "metadata": {
    "_uuid": "96f104e3c40027fe13422453e351c58f201beb86"
   },
   "source": [
    "## Build the model\n",
    "\n",
    "In this case, the input data consists of an array of word-indices. The labels to predict are either 0 or 1."
   ]
  },
  {
   "cell_type": "code",
   "execution_count": 11,
   "metadata": {
    "_uuid": "3d23b47fed86e2d74ac77542bb70b74f33e35e14"
   },
   "outputs": [
    {
     "name": "stdout",
     "output_type": "stream",
     "text": [
      "_________________________________________________________________\n",
      "Layer (type)                 Output Shape              Param #   \n",
      "=================================================================\n",
      "embedding (Embedding)        (None, None, 16)          160000    \n",
      "_________________________________________________________________\n",
      "global_average_pooling1d (Gl (None, 16)                0         \n",
      "_________________________________________________________________\n",
      "dense (Dense)                (None, 16)                272       \n",
      "_________________________________________________________________\n",
      "dense_1 (Dense)              (None, 1)                 17        \n",
      "=================================================================\n",
      "Total params: 160,289\n",
      "Trainable params: 160,289\n",
      "Non-trainable params: 0\n",
      "_________________________________________________________________\n"
     ]
    }
   ],
   "source": [
    "# input shape is the vocabulary count used for the movie reviews (10,000 words)\n",
    "vocab_size = 10000\n",
    "\n",
    "model = keras.Sequential()\n",
    "model.add(keras.layers.Embedding(vocab_size, 16))\n",
    "model.add(keras.layers.GlobalAveragePooling1D())\n",
    "model.add(keras.layers.Dense(16, activation=tf.nn.relu))\n",
    "model.add(keras.layers.Dense(1, activation=tf.nn.sigmoid))\n",
    "\n",
    "model.summary()"
   ]
  },
  {
   "cell_type": "markdown",
   "metadata": {
    "_uuid": "ef1165f71d993b14f2c383fff2482805325029d0"
   },
   "source": [
    "The layers are stacked sequentially to build the classifier:\n",
    "\n",
    "1. The first layer is an `Embedding` layer. This layer takes the integer-encoded vocabulary and looks up the embedding vector for each word-index. These vectors are learned as the model trains. The vectors add a dimension to the output array. The resulting dimensions are: `(batch, sequence, embedding)`.\n",
    "2. Next, a `GlobalAveragePooling1D` layer returns a fixed-length output vector for each example by averaging over the sequence dimension. This allows the model to handle input of variable length, in the simplest way possible.\n",
    "3. This fixed-length output vector is piped through a fully-connected (`Dense`) layer with 16 hidden units.\n",
    "4. The last layer is densely connected with a single output node. Using the `sigmoid` activation function, this value is a float between 0 and 1, representing a probability, or confidence level."
   ]
  },
  {
   "cell_type": "markdown",
   "metadata": {
    "_uuid": "688778b4b4471e900b28c37cc647c1e8eef4139e"
   },
   "source": [
    "### Hidden units\n",
    "\n",
    "The above model has two intermediate or \"hidden\" layers, between the input and output. The number of outputs (units, nodes, or neurons) is the dimension of the representational space for the layer. In other words, the amount of freedom the network is allowed when learning an internal representation.\n",
    "\n",
    "If a model has more hidden units (a higher-dimensional representation space), and/or more layers, then the network can learn more complex representations. However, it makes the network more computationally expensive and may lead to learning unwanted patterns—patterns that improve performance on training data but not on the test data. This is called *overfitting*."
   ]
  },
  {
   "cell_type": "markdown",
   "metadata": {
    "_uuid": "5ed64914aea190fac61be00e83e952daf218be0d"
   },
   "source": [
    "### Loss function and optimizer\n",
    "\n",
    "A model needs a loss function and an optimizer for training. Since this is a binary classification problem and the model outputs a probability (a single-unit layer with a sigmoid activation), we'll use the `binary_crossentropy` loss function. \n",
    "\n",
    "We could also choose `mean_squared_error`. But, generally, `binary_crossentropy` is better for dealing with probabilities—it measures the \"distance\" between probability distributions, or in our case, between the ground-truth distribution and the predictions.\n",
    "\n",
    "Now, configure the model to use an optimizer and a loss function:"
   ]
  },
  {
   "cell_type": "code",
   "execution_count": 12,
   "metadata": {
    "_uuid": "6eed0a4d82bcee419e9a7203041d7c4b4e1b0554"
   },
   "outputs": [],
   "source": [
    "model.compile(optimizer='adam',\n",
    "              loss='binary_crossentropy',\n",
    "              metrics=['acc'])"
   ]
  },
  {
   "cell_type": "markdown",
   "metadata": {
    "_uuid": "55c32a7877beddc7ae4b207c78e304705547a35b"
   },
   "source": [
    "## Create a validation set\n",
    "\n",
    "When training, we want to check the accuracy of the model on data it hasn't seen before. Create a *validation set* by setting apart 10,000 examples from the original training data."
   ]
  },
  {
   "cell_type": "code",
   "execution_count": 13,
   "metadata": {
    "_uuid": "464069e7fd96c5fe93bb96189c44854cc118769c"
   },
   "outputs": [],
   "source": [
    "x_val = train_data[:10000]\n",
    "partial_x_train = train_data[10000:]\n",
    "\n",
    "y_val = train_labels[:10000]\n",
    "partial_y_train = train_labels[10000:]"
   ]
  },
  {
   "cell_type": "markdown",
   "metadata": {
    "_uuid": "b722719bac464450b269b14aa0aa5ecbc4957c9d"
   },
   "source": [
    "## Train the model\n",
    "\n",
    "Train the model for 40 epochs in mini-batches of 512 samples. This is 40 iterations over all samples in the `x_train` and `y_train` tensors. While training, monitor the model's loss and accuracy on the 10,000 samples from the validation set:"
   ]
  },
  {
   "cell_type": "code",
   "execution_count": 14,
   "metadata": {
    "_uuid": "7b96432dfced6becf80d0efdc5b92c20af0aa366"
   },
   "outputs": [
    {
     "name": "stderr",
     "output_type": "stream",
     "text": [
      "/opt/conda/lib/python3.6/site-packages/tensorflow/python/ops/gradients_impl.py:112: UserWarning: Converting sparse IndexedSlices to a dense Tensor of unknown shape. This may consume a large amount of memory.\n",
      "  \"Converting sparse IndexedSlices to a dense Tensor of unknown shape. \"\n"
     ]
    },
    {
     "name": "stdout",
     "output_type": "stream",
     "text": [
      "Train on 15000 samples, validate on 10000 samples\n",
      "Epoch 1/40\n",
      "15000/15000 [==============================] - 3s 196us/step - loss: 0.6920 - acc: 0.5983 - val_loss: 0.6902 - val_acc: 0.6893\n",
      "Epoch 2/40\n",
      "15000/15000 [==============================] - 0s 16us/step - loss: 0.6858 - acc: 0.7147 - val_loss: 0.6807 - val_acc: 0.7326\n",
      "Epoch 3/40\n",
      "15000/15000 [==============================] - 0s 16us/step - loss: 0.6709 - acc: 0.7581 - val_loss: 0.6611 - val_acc: 0.7511\n",
      "Epoch 4/40\n",
      "15000/15000 [==============================] - 0s 16us/step - loss: 0.6432 - acc: 0.7679 - val_loss: 0.6307 - val_acc: 0.7698\n",
      "Epoch 5/40\n",
      "15000/15000 [==============================] - 0s 16us/step - loss: 0.6039 - acc: 0.7967 - val_loss: 0.5894 - val_acc: 0.7907\n",
      "Epoch 6/40\n",
      "15000/15000 [==============================] - 0s 16us/step - loss: 0.5562 - acc: 0.8173 - val_loss: 0.5442 - val_acc: 0.8063\n",
      "Epoch 7/40\n",
      "15000/15000 [==============================] - 0s 16us/step - loss: 0.5051 - acc: 0.8365 - val_loss: 0.4982 - val_acc: 0.8236\n",
      "Epoch 8/40\n",
      "15000/15000 [==============================] - 0s 17us/step - loss: 0.4557 - acc: 0.8525 - val_loss: 0.4560 - val_acc: 0.8387\n",
      "Epoch 9/40\n",
      "15000/15000 [==============================] - 0s 17us/step - loss: 0.4120 - acc: 0.8646 - val_loss: 0.4204 - val_acc: 0.8489\n",
      "Epoch 10/40\n",
      "15000/15000 [==============================] - 0s 17us/step - loss: 0.3743 - acc: 0.8779 - val_loss: 0.3919 - val_acc: 0.8542\n",
      "Epoch 11/40\n",
      "15000/15000 [==============================] - 0s 17us/step - loss: 0.3436 - acc: 0.8861 - val_loss: 0.3714 - val_acc: 0.8600\n",
      "Epoch 12/40\n",
      "15000/15000 [==============================] - 0s 16us/step - loss: 0.3186 - acc: 0.8922 - val_loss: 0.3514 - val_acc: 0.8683\n",
      "Epoch 13/40\n",
      "15000/15000 [==============================] - 0s 16us/step - loss: 0.2958 - acc: 0.8994 - val_loss: 0.3379 - val_acc: 0.8706\n",
      "Epoch 14/40\n",
      "15000/15000 [==============================] - 0s 17us/step - loss: 0.2770 - acc: 0.9054 - val_loss: 0.3259 - val_acc: 0.8740\n",
      "Epoch 15/40\n",
      "15000/15000 [==============================] - 0s 17us/step - loss: 0.2607 - acc: 0.9101 - val_loss: 0.3169 - val_acc: 0.8762\n",
      "Epoch 16/40\n",
      "15000/15000 [==============================] - 0s 16us/step - loss: 0.2468 - acc: 0.9144 - val_loss: 0.3095 - val_acc: 0.8787\n",
      "Epoch 17/40\n",
      "15000/15000 [==============================] - 0s 16us/step - loss: 0.2331 - acc: 0.9203 - val_loss: 0.3034 - val_acc: 0.8783\n",
      "Epoch 18/40\n",
      "15000/15000 [==============================] - 0s 16us/step - loss: 0.2213 - acc: 0.9241 - val_loss: 0.2985 - val_acc: 0.8817\n",
      "Epoch 19/40\n",
      "15000/15000 [==============================] - 0s 17us/step - loss: 0.2102 - acc: 0.9280 - val_loss: 0.2948 - val_acc: 0.8831\n",
      "Epoch 20/40\n",
      "15000/15000 [==============================] - 0s 17us/step - loss: 0.2004 - acc: 0.9318 - val_loss: 0.2915 - val_acc: 0.8828\n",
      "Epoch 21/40\n",
      "15000/15000 [==============================] - 0s 16us/step - loss: 0.1909 - acc: 0.9356 - val_loss: 0.2891 - val_acc: 0.8841\n",
      "Epoch 22/40\n",
      "15000/15000 [==============================] - 0s 16us/step - loss: 0.1821 - acc: 0.9398 - val_loss: 0.2876 - val_acc: 0.8843\n",
      "Epoch 23/40\n",
      "15000/15000 [==============================] - 0s 16us/step - loss: 0.1742 - acc: 0.9434 - val_loss: 0.2869 - val_acc: 0.8849\n",
      "Epoch 24/40\n",
      "15000/15000 [==============================] - 0s 16us/step - loss: 0.1661 - acc: 0.9473 - val_loss: 0.2856 - val_acc: 0.8844\n",
      "Epoch 25/40\n",
      "15000/15000 [==============================] - 0s 16us/step - loss: 0.1591 - acc: 0.9497 - val_loss: 0.2853 - val_acc: 0.8860\n",
      "Epoch 26/40\n",
      "15000/15000 [==============================] - 0s 16us/step - loss: 0.1521 - acc: 0.9528 - val_loss: 0.2859 - val_acc: 0.8857\n",
      "Epoch 27/40\n",
      "15000/15000 [==============================] - 0s 16us/step - loss: 0.1462 - acc: 0.9553 - val_loss: 0.2869 - val_acc: 0.8849\n",
      "Epoch 28/40\n",
      "15000/15000 [==============================] - 0s 17us/step - loss: 0.1400 - acc: 0.9587 - val_loss: 0.2870 - val_acc: 0.8862\n",
      "Epoch 29/40\n",
      "15000/15000 [==============================] - 0s 16us/step - loss: 0.1343 - acc: 0.9593 - val_loss: 0.2880 - val_acc: 0.8862\n",
      "Epoch 30/40\n",
      "15000/15000 [==============================] - 0s 16us/step - loss: 0.1294 - acc: 0.9621 - val_loss: 0.2896 - val_acc: 0.8860\n",
      "Epoch 31/40\n",
      "15000/15000 [==============================] - 0s 16us/step - loss: 0.1233 - acc: 0.9643 - val_loss: 0.2916 - val_acc: 0.8856\n",
      "Epoch 32/40\n",
      "15000/15000 [==============================] - 0s 16us/step - loss: 0.1188 - acc: 0.9662 - val_loss: 0.2938 - val_acc: 0.8856\n",
      "Epoch 33/40\n",
      "15000/15000 [==============================] - 0s 16us/step - loss: 0.1134 - acc: 0.9684 - val_loss: 0.2961 - val_acc: 0.8851\n",
      "Epoch 34/40\n",
      "15000/15000 [==============================] - 0s 16us/step - loss: 0.1090 - acc: 0.9695 - val_loss: 0.2993 - val_acc: 0.8858\n",
      "Epoch 35/40\n",
      "15000/15000 [==============================] - 0s 16us/step - loss: 0.1051 - acc: 0.9709 - val_loss: 0.3012 - val_acc: 0.8850\n",
      "Epoch 36/40\n",
      "15000/15000 [==============================] - 0s 16us/step - loss: 0.1003 - acc: 0.9733 - val_loss: 0.3044 - val_acc: 0.8838\n",
      "Epoch 37/40\n",
      "15000/15000 [==============================] - 0s 16us/step - loss: 0.0965 - acc: 0.9746 - val_loss: 0.3076 - val_acc: 0.8842\n",
      "Epoch 38/40\n",
      "15000/15000 [==============================] - 0s 16us/step - loss: 0.0931 - acc: 0.9751 - val_loss: 0.3117 - val_acc: 0.8820\n",
      "Epoch 39/40\n",
      "15000/15000 [==============================] - 0s 16us/step - loss: 0.0889 - acc: 0.9774 - val_loss: 0.3141 - val_acc: 0.8826\n",
      "Epoch 40/40\n",
      "15000/15000 [==============================] - 0s 16us/step - loss: 0.0852 - acc: 0.9791 - val_loss: 0.3178 - val_acc: 0.8815\n"
     ]
    }
   ],
   "source": [
    "history = model.fit(partial_x_train,\n",
    "                    partial_y_train,\n",
    "                    epochs=40,\n",
    "                    batch_size=512,\n",
    "                    validation_data=(x_val, y_val),\n",
    "                    verbose=1)"
   ]
  },
  {
   "cell_type": "markdown",
   "metadata": {
    "_uuid": "dc1f35cb53acf2315f9a3fcf2ef2875f4683d87f"
   },
   "source": [
    "## Evaluate the model\n",
    "\n",
    "Two values will be returned. Loss (a number which represents our error, lower values are better), and accuracy."
   ]
  },
  {
   "cell_type": "code",
   "execution_count": 15,
   "metadata": {
    "_uuid": "8a5669703803d2c582f416dddab542a7bee48dc3"
   },
   "outputs": [
    {
     "name": "stdout",
     "output_type": "stream",
     "text": [
      "25000/25000 [==============================] - 1s 53us/step\n",
      "[0.33876671977043155, 0.87196]\n"
     ]
    }
   ],
   "source": [
    "results = model.evaluate(test_data, test_labels)\n",
    "\n",
    "print(results)"
   ]
  },
  {
   "cell_type": "markdown",
   "metadata": {
    "_uuid": "67d4cce6c7a86ef4078814152dfa9da9e9b890dc"
   },
   "source": [
    "This fairly naive approach achieves an accuracy of about 87%. With more advanced approaches, the model should get closer to 95%."
   ]
  },
  {
   "cell_type": "markdown",
   "metadata": {
    "_uuid": "0fc64d43bdd14a6006bddf569ef6734d0d60a7c9"
   },
   "source": [
    "## Create a graph of accuracy and loss over time\n",
    "\n",
    "`model.fit()` returns a `History` object that contains a dictionary with everything that happened during training:"
   ]
  },
  {
   "cell_type": "code",
   "execution_count": 16,
   "metadata": {
    "_uuid": "b49022767303692a5b74c80c587395c7e30207fb"
   },
   "outputs": [
    {
     "data": {
      "text/plain": [
       "dict_keys(['val_loss', 'val_acc', 'loss', 'acc'])"
      ]
     },
     "execution_count": 16,
     "metadata": {},
     "output_type": "execute_result"
    }
   ],
   "source": [
    "history_dict = history.history\n",
    "history_dict.keys()"
   ]
  },
  {
   "cell_type": "markdown",
   "metadata": {
    "_uuid": "f406c646add493f2d7ec1f2a9aa257d499f82f74"
   },
   "source": [
    "There are four entries: one for each monitored metric during training and validation. We can use these to plot the training and validation loss for comparison, as well as the training and validation accuracy:"
   ]
  },
  {
   "cell_type": "code",
   "execution_count": 17,
   "metadata": {
    "_uuid": "b5a4f9172937b694b326a88ccf64d5987b8c5ba2"
   },
   "outputs": [
    {
     "data": {
      "image/png": "[encoded data removed]",
      "text/plain": [
       "<Figure size 432x288 with 1 Axes>"
      ]
     },
     "metadata": {},
     "output_type": "display_data"
    }
   ],
   "source": [
    "import matplotlib.pyplot as plt\n",
    "\n",
    "acc = history_dict['acc']\n",
    "val_acc = history_dict['val_acc']\n",
    "loss = history_dict['loss']\n",
    "val_loss = history_dict['val_loss']\n",
    "\n",
    "epochs = range(1, len(acc) + 1)\n",
    "\n",
    "# \"bo\" is for \"blue dot\"\n",
    "plt.plot(epochs, loss, 'bo', label='Training loss')\n",
    "# b is for \"solid blue line\"\n",
    "plt.plot(epochs, val_loss, 'b', label='Validation loss')\n",
    "plt.title('Training and validation loss')\n",
    "plt.xlabel('Epochs')\n",
    "plt.ylabel('Loss')\n",
    "plt.legend()\n",
    "\n",
    "plt.show()"
   ]
  },
  {
   "cell_type": "code",
   "execution_count": 18,
   "metadata": {
    "_uuid": "71ef0cd92f7b5e6db10bb192818c8a316f8cacf3"
   },
   "outputs": [
    {
     "data": {
      "image/png": "[encoded data removed]",
      "text/plain": [
       "<Figure size 432x288 with 1 Axes>"
      ]
     },
     "metadata": {},
     "output_type": "display_data"
    }
   ],
   "source": [
    "plt.clf()   # clear figure\n",
    "\n",
    "plt.plot(epochs, acc, 'bo', label='Training acc')\n",
    "plt.plot(epochs, val_acc, 'b', label='Validation acc')\n",
    "plt.title('Training and validation accuracy')\n",
    "plt.xlabel('Epochs')\n",
    "plt.ylabel('Accuracy')\n",
    "plt.legend()\n",
    "\n",
    "plt.show()"
   ]
  },
  {
   "cell_type": "markdown",
   "metadata": {
    "_uuid": "39364e4e2d817986ebd0dcb6c3e1464c73d93fa6"
   },
   "source": [
    "\n",
    "In this plot, the dots represent the training loss and accuracy, and the solid lines are the validation loss and accuracy.\n",
    "\n",
    "The training loss *decreases* with each epoch and the training accuracy *increases* with each epoch. This is expected when using a gradient descent optimization—it should minimize the desired quantity on every iteration.\n",
    "\n",
    "This isn't the case for the validation loss and accuracy—they seem to peak after about twenty epochs. This is an example of overfitting: the model performs better on the training data than it does on data it has never seen before. After this point, the model over-optimizes and learns representations *specific* to the training data that do not *generalize* to test data.\n",
    "\n",
    "For this particular case, we can prevent overfitting by simply stopping the training after twenty or so epochs."
   ]
  }
 ],
 "metadata": {
  "kernelspec": {
   "display_name": "Python 3",
   "language": "python",
   "name": "python3"
  },
  "language_info": {
   "codemirror_mode": {
    "name": "ipython",
    "version": 3
   },
   "file_extension": ".py",
   "mimetype": "text/x-python",
   "name": "python",
   "nbconvert_exporter": "python",
   "pygments_lexer": "ipython3",
   "version": "3.8.8"
  }
 },
 "nbformat": 4,
 "nbformat_minor": 1
}
