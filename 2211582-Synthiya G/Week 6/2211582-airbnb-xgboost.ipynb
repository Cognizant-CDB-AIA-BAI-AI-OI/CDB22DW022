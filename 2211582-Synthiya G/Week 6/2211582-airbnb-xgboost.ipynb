{
 "cells": [
  {
   "cell_type": "code",
   "execution_count": null,
   "id": "207eb879",
   "metadata": {},
   "outputs": [],
   "source": []
  },
  {
   "cell_type": "code",
   "execution_count": null,
   "id": "a212b061",
   "metadata": {},
   "outputs": [],
   "source": []
  },
  {
   "cell_type": "markdown",
   "id": "7d91e36e",
   "metadata": {},
   "source": [
    "## Importing the Libraries."
   ]
  },
  {
   "cell_type": "code",
   "execution_count": 1,
   "id": "d6020b24",
   "metadata": {
    "execution": {
     "iopub.execute_input": "2022-02-20T09:09:15.152284Z",
     "iopub.status.busy": "2022-02-20T09:09:15.151381Z",
     "iopub.status.idle": "2022-02-20T09:09:16.180924Z",
     "shell.execute_reply": "2022-02-20T09:09:16.179908Z",
     "shell.execute_reply.started": "2022-02-20T09:04:34.768738Z"
    },
    "papermill": {
     "duration": 1.129712,
     "end_time": "2022-02-20T09:09:16.181159",
     "exception": false,
     "start_time": "2022-02-20T09:09:15.051447",
     "status": "completed"
    },
    "tags": []
   },
   "outputs": [],
   "source": [
    "import pandas as pd\n",
    "import re\n",
    "import numpy as np\n",
    "from datetime import datetime, date\n",
    "import matplotlib.pyplot as plt\n",
    "\n",
    "from sklearn.model_selection import train_test_split\n",
    "from sklearn.feature_extraction.text import TfidfVectorizer\n",
    "from sklearn.preprocessing import OneHotEncoder\n",
    "\n",
    "from scipy.sparse import coo_matrix\n",
    "from scipy.sparse import hstack\n",
    "from scipy.sparse import vstack\n",
    "from scipy import sparse\n",
    "from scipy.sparse import csr_matrix\n",
    "\n",
    "from sklearn import metrics\n",
    "from sklearn.metrics import make_scorer\n",
    "from sklearn.model_selection import GridSearchCV\n",
    "from sklearn.model_selection import RandomizedSearchCV\n",
    "from sklearn.preprocessing import LabelBinarizer,LabelEncoder\n",
    "from scipy.stats import randint as sp_randint\n",
    "from sklearn import linear_model\n",
    "from sklearn.ensemble import RandomForestClassifier\n",
    "import xgboost as xgb\n",
    "import pickle\n",
    "import joblib\n",
    "from IPython.display import Image\n"
   ]
  },
  {
   "cell_type": "markdown",
   "id": "910d5d81",
   "metadata": {},
   "source": [
    "## Uploading the Data"
   ]
  },
  {
   "cell_type": "code",
   "execution_count": 2,
   "id": "90280719",
   "metadata": {
    "execution": {
     "iopub.execute_input": "2022-02-20T09:09:16.329420Z",
     "iopub.status.busy": "2022-02-20T09:09:16.328698Z",
     "iopub.status.idle": "2022-02-20T09:09:17.020564Z",
     "shell.execute_reply": "2022-02-20T09:09:17.021896Z",
     "shell.execute_reply.started": "2022-02-20T06:16:32.452428Z"
    },
    "papermill": {
     "duration": 0.769347,
     "end_time": "2022-02-20T09:09:17.022208",
     "exception": false,
     "start_time": "2022-02-20T09:09:16.252861",
     "status": "completed"
    },
    "tags": []
   },
   "outputs": [],
   "source": [
    "#Loading data\n",
    "#Loading the Data\n",
    "train_df = pd.read_csv('../input/airbnb-recruiting-new-user-bookings/train_users_2.csv.zip')\n",
    "piv_train = train_df.shape[0]"
   ]
  },
  {
   "cell_type": "code",
   "execution_count": 3,
   "id": "c256b3a8",
   "metadata": {
    "execution": {
     "iopub.execute_input": "2022-02-20T09:09:17.212187Z",
     "iopub.status.busy": "2022-02-20T09:09:17.211350Z",
     "iopub.status.idle": "2022-02-20T09:09:17.231869Z",
     "shell.execute_reply": "2022-02-20T09:09:17.232282Z",
     "shell.execute_reply.started": "2022-02-20T06:16:33.114879Z"
    },
    "papermill": {
     "duration": 0.106783,
     "end_time": "2022-02-20T09:09:17.232433",
     "exception": false,
     "start_time": "2022-02-20T09:09:17.125650",
     "status": "completed"
    },
    "tags": []
   },
   "outputs": [
    {
     "data": {
      "text/html": [
       "<div>\n",
       "<style scoped>\n",
       "    .dataframe tbody tr th:only-of-type {\n",
       "        vertical-align: middle;\n",
       "    }\n",
       "\n",
       "    .dataframe tbody tr th {\n",
       "        vertical-align: top;\n",
       "    }\n",
       "\n",
       "    .dataframe thead th {\n",
       "        text-align: right;\n",
       "    }\n",
       "</style>\n",
       "<table border=\"1\" class=\"dataframe\">\n",
       "  <thead>\n",
       "    <tr style=\"text-align: right;\">\n",
       "      <th></th>\n",
       "      <th>id</th>\n",
       "      <th>date_account_created</th>\n",
       "      <th>timestamp_first_active</th>\n",
       "      <th>date_first_booking</th>\n",
       "      <th>gender</th>\n",
       "      <th>age</th>\n",
       "      <th>signup_method</th>\n",
       "      <th>signup_flow</th>\n",
       "      <th>language</th>\n",
       "      <th>affiliate_channel</th>\n",
       "      <th>affiliate_provider</th>\n",
       "      <th>first_affiliate_tracked</th>\n",
       "      <th>signup_app</th>\n",
       "      <th>first_device_type</th>\n",
       "      <th>first_browser</th>\n",
       "      <th>country_destination</th>\n",
       "    </tr>\n",
       "  </thead>\n",
       "  <tbody>\n",
       "    <tr>\n",
       "      <th>0</th>\n",
       "      <td>gxn3p5htnn</td>\n",
       "      <td>2010-06-28</td>\n",
       "      <td>20090319043255</td>\n",
       "      <td>NaN</td>\n",
       "      <td>-unknown-</td>\n",
       "      <td>NaN</td>\n",
       "      <td>facebook</td>\n",
       "      <td>0</td>\n",
       "      <td>en</td>\n",
       "      <td>direct</td>\n",
       "      <td>direct</td>\n",
       "      <td>untracked</td>\n",
       "      <td>Web</td>\n",
       "      <td>Mac Desktop</td>\n",
       "      <td>Chrome</td>\n",
       "      <td>NDF</td>\n",
       "    </tr>\n",
       "    <tr>\n",
       "      <th>1</th>\n",
       "      <td>820tgsjxq7</td>\n",
       "      <td>2011-05-25</td>\n",
       "      <td>20090523174809</td>\n",
       "      <td>NaN</td>\n",
       "      <td>MALE</td>\n",
       "      <td>38.0</td>\n",
       "      <td>facebook</td>\n",
       "      <td>0</td>\n",
       "      <td>en</td>\n",
       "      <td>seo</td>\n",
       "      <td>google</td>\n",
       "      <td>untracked</td>\n",
       "      <td>Web</td>\n",
       "      <td>Mac Desktop</td>\n",
       "      <td>Chrome</td>\n",
       "      <td>NDF</td>\n",
       "    </tr>\n",
       "    <tr>\n",
       "      <th>2</th>\n",
       "      <td>4ft3gnwmtx</td>\n",
       "      <td>2010-09-28</td>\n",
       "      <td>20090609231247</td>\n",
       "      <td>2010-08-02</td>\n",
       "      <td>FEMALE</td>\n",
       "      <td>56.0</td>\n",
       "      <td>basic</td>\n",
       "      <td>3</td>\n",
       "      <td>en</td>\n",
       "      <td>direct</td>\n",
       "      <td>direct</td>\n",
       "      <td>untracked</td>\n",
       "      <td>Web</td>\n",
       "      <td>Windows Desktop</td>\n",
       "      <td>IE</td>\n",
       "      <td>US</td>\n",
       "    </tr>\n",
       "    <tr>\n",
       "      <th>3</th>\n",
       "      <td>bjjt8pjhuk</td>\n",
       "      <td>2011-12-05</td>\n",
       "      <td>20091031060129</td>\n",
       "      <td>2012-09-08</td>\n",
       "      <td>FEMALE</td>\n",
       "      <td>42.0</td>\n",
       "      <td>facebook</td>\n",
       "      <td>0</td>\n",
       "      <td>en</td>\n",
       "      <td>direct</td>\n",
       "      <td>direct</td>\n",
       "      <td>untracked</td>\n",
       "      <td>Web</td>\n",
       "      <td>Mac Desktop</td>\n",
       "      <td>Firefox</td>\n",
       "      <td>other</td>\n",
       "    </tr>\n",
       "    <tr>\n",
       "      <th>4</th>\n",
       "      <td>87mebub9p4</td>\n",
       "      <td>2010-09-14</td>\n",
       "      <td>20091208061105</td>\n",
       "      <td>2010-02-18</td>\n",
       "      <td>-unknown-</td>\n",
       "      <td>41.0</td>\n",
       "      <td>basic</td>\n",
       "      <td>0</td>\n",
       "      <td>en</td>\n",
       "      <td>direct</td>\n",
       "      <td>direct</td>\n",
       "      <td>untracked</td>\n",
       "      <td>Web</td>\n",
       "      <td>Mac Desktop</td>\n",
       "      <td>Chrome</td>\n",
       "      <td>US</td>\n",
       "    </tr>\n",
       "  </tbody>\n",
       "</table>\n",
       "</div>"
      ],
      "text/plain": [
       "           id date_account_created  timestamp_first_active date_first_booking  \\\n",
       "0  gxn3p5htnn           2010-06-28          20090319043255                NaN   \n",
       "1  820tgsjxq7           2011-05-25          20090523174809                NaN   \n",
       "2  4ft3gnwmtx           2010-09-28          20090609231247         2010-08-02   \n",
       "3  bjjt8pjhuk           2011-12-05          20091031060129         2012-09-08   \n",
       "4  87mebub9p4           2010-09-14          20091208061105         2010-02-18   \n",
       "\n",
       "      gender   age signup_method  signup_flow language affiliate_channel  \\\n",
       "0  -unknown-   NaN      facebook            0       en            direct   \n",
       "1       MALE  38.0      facebook            0       en               seo   \n",
       "2     FEMALE  56.0         basic            3       en            direct   \n",
       "3     FEMALE  42.0      facebook            0       en            direct   \n",
       "4  -unknown-  41.0         basic            0       en            direct   \n",
       "\n",
       "  affiliate_provider first_affiliate_tracked signup_app first_device_type  \\\n",
       "0             direct               untracked        Web       Mac Desktop   \n",
       "1             google               untracked        Web       Mac Desktop   \n",
       "2             direct               untracked        Web   Windows Desktop   \n",
       "3             direct               untracked        Web       Mac Desktop   \n",
       "4             direct               untracked        Web       Mac Desktop   \n",
       "\n",
       "  first_browser country_destination  \n",
       "0        Chrome                 NDF  \n",
       "1        Chrome                 NDF  \n",
       "2            IE                  US  \n",
       "3       Firefox               other  \n",
       "4        Chrome                  US  "
      ]
     },
     "execution_count": 3,
     "metadata": {},
     "output_type": "execute_result"
    }
   ],
   "source": [
    "train_df.head()"
   ]
  },
  {
   "cell_type": "code",
   "execution_count": 4,
   "id": "d8d29e39",
   "metadata": {
    "execution": {
     "iopub.execute_input": "2022-02-20T09:09:17.395592Z",
     "iopub.status.busy": "2022-02-20T09:09:17.394877Z",
     "iopub.status.idle": "2022-02-20T09:09:17.398107Z",
     "shell.execute_reply": "2022-02-20T09:09:17.398560Z",
     "shell.execute_reply.started": "2022-02-20T06:16:33.134184Z"
    },
    "papermill": {
     "duration": 0.088002,
     "end_time": "2022-02-20T09:09:17.398708",
     "exception": false,
     "start_time": "2022-02-20T09:09:17.310706",
     "status": "completed"
    },
    "tags": []
   },
   "outputs": [
    {
     "data": {
      "text/plain": [
       "(213451, 16)"
      ]
     },
     "execution_count": 4,
     "metadata": {},
     "output_type": "execute_result"
    }
   ],
   "source": [
    "train_df.shape"
   ]
  },
  {
   "cell_type": "code",
   "execution_count": 5,
   "id": "f13990fc",
   "metadata": {
    "execution": {
     "iopub.execute_input": "2022-02-20T09:09:17.672349Z",
     "iopub.status.busy": "2022-02-20T09:09:17.671133Z",
     "iopub.status.idle": "2022-02-20T09:09:17.685211Z",
     "shell.execute_reply": "2022-02-20T09:09:17.685705Z",
     "shell.execute_reply.started": "2022-02-20T06:16:33.146598Z"
    },
    "papermill": {
     "duration": 0.209318,
     "end_time": "2022-02-20T09:09:17.685905",
     "exception": false,
     "start_time": "2022-02-20T09:09:17.476587",
     "status": "completed"
    },
    "tags": []
   },
   "outputs": [
    {
     "data": {
      "text/plain": [
       "213451"
      ]
     },
     "execution_count": 5,
     "metadata": {},
     "output_type": "execute_result"
    }
   ],
   "source": [
    "train_df.id.value_counts().sum()"
   ]
  },
  {
   "cell_type": "code",
   "execution_count": 6,
   "id": "5a11029c",
   "metadata": {
    "execution": {
     "iopub.execute_input": "2022-02-20T09:09:18.106050Z",
     "iopub.status.busy": "2022-02-20T09:09:17.850597Z",
     "iopub.status.idle": "2022-02-20T09:09:18.129653Z",
     "shell.execute_reply": "2022-02-20T09:09:18.130208Z",
     "shell.execute_reply.started": "2022-02-20T06:16:33.280557Z"
    },
    "papermill": {
     "duration": 0.365318,
     "end_time": "2022-02-20T09:09:18.130412",
     "exception": false,
     "start_time": "2022-02-20T09:09:17.765094",
     "status": "completed"
    },
    "tags": []
   },
   "outputs": [
    {
     "name": "stdout",
     "output_type": "stream",
     "text": [
      "<class 'pandas.core.frame.DataFrame'>\n",
      "RangeIndex: 213451 entries, 0 to 213450\n",
      "Data columns (total 16 columns):\n",
      " #   Column                   Non-Null Count   Dtype  \n",
      "---  ------                   --------------   -----  \n",
      " 0   id                       213451 non-null  object \n",
      " 1   date_account_created     213451 non-null  object \n",
      " 2   timestamp_first_active   213451 non-null  int64  \n",
      " 3   date_first_booking       88908 non-null   object \n",
      " 4   gender                   213451 non-null  object \n",
      " 5   age                      125461 non-null  float64\n",
      " 6   signup_method            213451 non-null  object \n",
      " 7   signup_flow              213451 non-null  int64  \n",
      " 8   language                 213451 non-null  object \n",
      " 9   affiliate_channel        213451 non-null  object \n",
      " 10  affiliate_provider       213451 non-null  object \n",
      " 11  first_affiliate_tracked  207386 non-null  object \n",
      " 12  signup_app               213451 non-null  object \n",
      " 13  first_device_type        213451 non-null  object \n",
      " 14  first_browser            213451 non-null  object \n",
      " 15  country_destination      213451 non-null  object \n",
      "dtypes: float64(1), int64(2), object(13)\n",
      "memory usage: 26.1+ MB\n"
     ]
    }
   ],
   "source": [
    "train_df.info()"
   ]
  },
  {
   "cell_type": "markdown",
   "id": "139b10c2",
   "metadata": {},
   "source": [
    "## User Details"
   ]
  },
  {
   "cell_type": "code",
   "execution_count": 7,
   "id": "f68d7280",
   "metadata": {
    "execution": {
     "iopub.execute_input": "2022-02-20T09:09:18.417089Z",
     "iopub.status.busy": "2022-02-20T09:09:18.416286Z",
     "iopub.status.idle": "2022-02-20T09:09:29.696371Z",
     "shell.execute_reply": "2022-02-20T09:09:29.697080Z",
     "shell.execute_reply.started": "2022-02-20T06:16:33.542129Z"
    },
    "papermill": {
     "duration": 11.41196,
     "end_time": "2022-02-20T09:09:29.697325",
     "exception": false,
     "start_time": "2022-02-20T09:09:18.285365",
     "status": "completed"
    },
    "tags": []
   },
   "outputs": [],
   "source": [
    "sessions_df  = pd.read_csv('../input/airbnb-recruiting-new-user-bookings/sessions.csv.zip')"
   ]
  },
  {
   "cell_type": "code",
   "execution_count": 8,
   "id": "460febb1",
   "metadata": {
    "execution": {
     "iopub.execute_input": "2022-02-20T09:09:29.863244Z",
     "iopub.status.busy": "2022-02-20T09:09:29.862064Z",
     "iopub.status.idle": "2022-02-20T09:09:29.865678Z",
     "shell.execute_reply": "2022-02-20T09:09:29.865250Z",
     "shell.execute_reply.started": "2022-02-20T06:16:43.904766Z"
    },
    "papermill": {
     "duration": 0.08636,
     "end_time": "2022-02-20T09:09:29.865787",
     "exception": false,
     "start_time": "2022-02-20T09:09:29.779427",
     "status": "completed"
    },
    "tags": []
   },
   "outputs": [
    {
     "data": {
      "text/html": [
       "<div>\n",
       "<style scoped>\n",
       "    .dataframe tbody tr th:only-of-type {\n",
       "        vertical-align: middle;\n",
       "    }\n",
       "\n",
       "    .dataframe tbody tr th {\n",
       "        vertical-align: top;\n",
       "    }\n",
       "\n",
       "    .dataframe thead th {\n",
       "        text-align: right;\n",
       "    }\n",
       "</style>\n",
       "<table border=\"1\" class=\"dataframe\">\n",
       "  <thead>\n",
       "    <tr style=\"text-align: right;\">\n",
       "      <th></th>\n",
       "      <th>user_id</th>\n",
       "      <th>action</th>\n",
       "      <th>action_type</th>\n",
       "      <th>action_detail</th>\n",
       "      <th>device_type</th>\n",
       "      <th>secs_elapsed</th>\n",
       "    </tr>\n",
       "  </thead>\n",
       "  <tbody>\n",
       "    <tr>\n",
       "      <th>0</th>\n",
       "      <td>d1mm9tcy42</td>\n",
       "      <td>lookup</td>\n",
       "      <td>NaN</td>\n",
       "      <td>NaN</td>\n",
       "      <td>Windows Desktop</td>\n",
       "      <td>319.0</td>\n",
       "    </tr>\n",
       "    <tr>\n",
       "      <th>1</th>\n",
       "      <td>d1mm9tcy42</td>\n",
       "      <td>search_results</td>\n",
       "      <td>click</td>\n",
       "      <td>view_search_results</td>\n",
       "      <td>Windows Desktop</td>\n",
       "      <td>67753.0</td>\n",
       "    </tr>\n",
       "    <tr>\n",
       "      <th>2</th>\n",
       "      <td>d1mm9tcy42</td>\n",
       "      <td>lookup</td>\n",
       "      <td>NaN</td>\n",
       "      <td>NaN</td>\n",
       "      <td>Windows Desktop</td>\n",
       "      <td>301.0</td>\n",
       "    </tr>\n",
       "    <tr>\n",
       "      <th>3</th>\n",
       "      <td>d1mm9tcy42</td>\n",
       "      <td>search_results</td>\n",
       "      <td>click</td>\n",
       "      <td>view_search_results</td>\n",
       "      <td>Windows Desktop</td>\n",
       "      <td>22141.0</td>\n",
       "    </tr>\n",
       "    <tr>\n",
       "      <th>4</th>\n",
       "      <td>d1mm9tcy42</td>\n",
       "      <td>lookup</td>\n",
       "      <td>NaN</td>\n",
       "      <td>NaN</td>\n",
       "      <td>Windows Desktop</td>\n",
       "      <td>435.0</td>\n",
       "    </tr>\n",
       "  </tbody>\n",
       "</table>\n",
       "</div>"
      ],
      "text/plain": [
       "      user_id          action action_type        action_detail  \\\n",
       "0  d1mm9tcy42          lookup         NaN                  NaN   \n",
       "1  d1mm9tcy42  search_results       click  view_search_results   \n",
       "2  d1mm9tcy42          lookup         NaN                  NaN   \n",
       "3  d1mm9tcy42  search_results       click  view_search_results   \n",
       "4  d1mm9tcy42          lookup         NaN                  NaN   \n",
       "\n",
       "       device_type  secs_elapsed  \n",
       "0  Windows Desktop         319.0  \n",
       "1  Windows Desktop       67753.0  \n",
       "2  Windows Desktop         301.0  \n",
       "3  Windows Desktop       22141.0  \n",
       "4  Windows Desktop         435.0  "
      ]
     },
     "execution_count": 8,
     "metadata": {},
     "output_type": "execute_result"
    }
   ],
   "source": [
    "sessions_df.head()"
   ]
  },
  {
   "cell_type": "code",
   "execution_count": 9,
   "id": "3c7965b0",
   "metadata": {
    "execution": {
     "iopub.execute_input": "2022-02-20T09:09:30.016401Z",
     "iopub.status.busy": "2022-02-20T09:09:30.015436Z",
     "iopub.status.idle": "2022-02-20T09:09:30.025467Z",
     "shell.execute_reply": "2022-02-20T09:09:30.024848Z",
     "shell.execute_reply.started": "2022-02-20T06:16:43.918322Z"
    },
    "papermill": {
     "duration": 0.087548,
     "end_time": "2022-02-20T09:09:30.025617",
     "exception": false,
     "start_time": "2022-02-20T09:09:29.938069",
     "status": "completed"
    },
    "tags": []
   },
   "outputs": [
    {
     "name": "stdout",
     "output_type": "stream",
     "text": [
      "<class 'pandas.core.frame.DataFrame'>\n",
      "RangeIndex: 10567737 entries, 0 to 10567736\n",
      "Data columns (total 6 columns):\n",
      " #   Column         Dtype  \n",
      "---  ------         -----  \n",
      " 0   user_id        object \n",
      " 1   action         object \n",
      " 2   action_type    object \n",
      " 3   action_detail  object \n",
      " 4   device_type    object \n",
      " 5   secs_elapsed   float64\n",
      "dtypes: float64(1), object(5)\n",
      "memory usage: 483.8+ MB\n"
     ]
    }
   ],
   "source": [
    "sessions_df.info()"
   ]
  },
  {
   "cell_type": "code",
   "execution_count": 10,
   "id": "95c9c6cd",
   "metadata": {
    "execution": {
     "iopub.execute_input": "2022-02-20T09:09:30.184947Z",
     "iopub.status.busy": "2022-02-20T09:09:30.184321Z",
     "iopub.status.idle": "2022-02-20T09:09:30.186934Z",
     "shell.execute_reply": "2022-02-20T09:09:30.187329Z",
     "shell.execute_reply.started": "2022-02-20T06:16:43.938116Z"
    },
    "papermill": {
     "duration": 0.085046,
     "end_time": "2022-02-20T09:09:30.187455",
     "exception": false,
     "start_time": "2022-02-20T09:09:30.102409",
     "status": "completed"
    },
    "tags": []
   },
   "outputs": [
    {
     "data": {
      "text/plain": [
       "(10567737, 6)"
      ]
     },
     "execution_count": 10,
     "metadata": {},
     "output_type": "execute_result"
    }
   ],
   "source": [
    "sessions_df.shape"
   ]
  },
  {
   "cell_type": "markdown",
   "id": "cd2193b1",
   "metadata": {},
   "source": [
    "## Preprocessing"
   ]
  },
  {
   "cell_type": "code",
   "execution_count": 11,
   "id": "f4ff6603",
   "metadata": {
    "execution": {
     "iopub.execute_input": "2022-02-20T09:09:30.338847Z",
     "iopub.status.busy": "2022-02-20T09:09:30.338055Z",
     "iopub.status.idle": "2022-02-20T09:09:35.000063Z",
     "shell.execute_reply": "2022-02-20T09:09:35.000539Z",
     "shell.execute_reply.started": "2022-02-20T06:16:43.945312Z"
    },
    "papermill": {
     "duration": 4.739471,
     "end_time": "2022-02-20T09:09:35.000721",
     "exception": false,
     "start_time": "2022-02-20T09:09:30.261250",
     "status": "completed"
    },
    "tags": []
   },
   "outputs": [
    {
     "data": {
      "text/plain": [
       "user_id            34496\n",
       "action             79626\n",
       "action_type      1126204\n",
       "action_detail    1126204\n",
       "device_type            0\n",
       "secs_elapsed      136031\n",
       "dtype: int64"
      ]
     },
     "execution_count": 11,
     "metadata": {},
     "output_type": "execute_result"
    }
   ],
   "source": [
    "sessions_df.isnull().sum()"
   ]
  },
  {
   "cell_type": "code",
   "execution_count": 12,
   "id": "d967cbb6",
   "metadata": {
    "execution": {
     "iopub.execute_input": "2022-02-20T09:09:36.464423Z",
     "iopub.status.busy": "2022-02-20T09:09:36.461678Z",
     "iopub.status.idle": "2022-02-20T09:09:36.468871Z",
     "shell.execute_reply": "2022-02-20T09:09:36.468417Z",
     "shell.execute_reply.started": "2022-02-20T06:16:48.90976Z"
    },
    "papermill": {
     "duration": 1.394283,
     "end_time": "2022-02-20T09:09:36.468997",
     "exception": false,
     "start_time": "2022-02-20T09:09:35.074714",
     "status": "completed"
    },
    "tags": []
   },
   "outputs": [
    {
     "data": {
      "text/plain": [
       "view                3560902\n",
       "data                2103770\n",
       "click               1996183\n",
       "-unknown-           1031170\n",
       "submit               623357\n",
       "message_post          87103\n",
       "partner_callback      19132\n",
       "booking_request       18773\n",
       "modify                 1139\n",
       "booking_response          4\n",
       "Name: action_type, dtype: int64"
      ]
     },
     "execution_count": 12,
     "metadata": {},
     "output_type": "execute_result"
    }
   ],
   "source": [
    "sessions_df[\"action_type\"].value_counts()"
   ]
  },
  {
   "cell_type": "code",
   "execution_count": 13,
   "id": "5f67eeb3",
   "metadata": {
    "execution": {
     "iopub.execute_input": "2022-02-20T09:09:38.089580Z",
     "iopub.status.busy": "2022-02-20T09:09:38.088930Z",
     "iopub.status.idle": "2022-02-20T09:09:38.094116Z",
     "shell.execute_reply": "2022-02-20T09:09:38.093616Z",
     "shell.execute_reply.started": "2022-02-20T06:16:50.259228Z"
    },
    "papermill": {
     "duration": 1.548468,
     "end_time": "2022-02-20T09:09:38.094253",
     "exception": false,
     "start_time": "2022-02-20T09:09:36.545785",
     "status": "completed"
    },
    "tags": []
   },
   "outputs": [
    {
     "data": {
      "text/plain": [
       "show              2768278\n",
       "index              843699\n",
       "search_results     725226\n",
       "personalize        706824\n",
       "search             536057\n",
       "                   ...   \n",
       "deauthorize             1\n",
       "events                  1\n",
       "reactivate              1\n",
       "desks                   1\n",
       "nyan                    1\n",
       "Name: action, Length: 359, dtype: int64"
      ]
     },
     "execution_count": 13,
     "metadata": {},
     "output_type": "execute_result"
    }
   ],
   "source": [
    "sessions_df[\"action\"].value_counts()"
   ]
  },
  {
   "cell_type": "markdown",
   "id": "5ccccbb5",
   "metadata": {
    "papermill": {
     "duration": 0.077621,
     "end_time": "2022-02-20T09:09:38.249048",
     "exception": false,
     "start_time": "2022-02-20T09:09:38.171427",
     "status": "completed"
    },
    "tags": []
   },
   "source": [
    "## Feature Engineering"
   ]
  },
  {
   "cell_type": "code",
   "execution_count": 14,
   "id": "f9012d35",
   "metadata": {
    "execution": {
     "iopub.execute_input": "2022-02-20T09:09:39.630492Z",
     "iopub.status.busy": "2022-02-20T09:09:38.749925Z",
     "iopub.status.idle": "2022-02-20T09:09:49.470148Z",
     "shell.execute_reply": "2022-02-20T09:09:49.469613Z",
     "shell.execute_reply.started": "2022-02-20T06:16:51.773503Z"
    },
    "papermill": {
     "duration": 11.146288,
     "end_time": "2022-02-20T09:09:49.470295",
     "exception": false,
     "start_time": "2022-02-20T09:09:38.324007",
     "status": "completed"
    },
    "tags": []
   },
   "outputs": [],
   "source": [
    "sessions_df = sessions_df.groupby(\"user_id\", as_index= False).agg(lambda x:x.tolist())"
   ]
  },
  {
   "cell_type": "code",
   "execution_count": 15,
   "id": "8bd05fd2",
   "metadata": {
    "execution": {
     "iopub.execute_input": "2022-02-20T09:09:49.654326Z",
     "iopub.status.busy": "2022-02-20T09:09:49.653641Z",
     "iopub.status.idle": "2022-02-20T09:09:49.656572Z",
     "shell.execute_reply": "2022-02-20T09:09:49.656990Z",
     "shell.execute_reply.started": "2022-02-20T06:17:03.430611Z"
    },
    "papermill": {
     "duration": 0.108223,
     "end_time": "2022-02-20T09:09:49.657130",
     "exception": false,
     "start_time": "2022-02-20T09:09:49.548907",
     "status": "completed"
    },
    "tags": []
   },
   "outputs": [
    {
     "data": {
      "text/html": [
       "<div>\n",
       "<style scoped>\n",
       "    .dataframe tbody tr th:only-of-type {\n",
       "        vertical-align: middle;\n",
       "    }\n",
       "\n",
       "    .dataframe tbody tr th {\n",
       "        vertical-align: top;\n",
       "    }\n",
       "\n",
       "    .dataframe thead th {\n",
       "        text-align: right;\n",
       "    }\n",
       "</style>\n",
       "<table border=\"1\" class=\"dataframe\">\n",
       "  <thead>\n",
       "    <tr style=\"text-align: right;\">\n",
       "      <th></th>\n",
       "      <th>user_id</th>\n",
       "      <th>action</th>\n",
       "      <th>action_type</th>\n",
       "      <th>action_detail</th>\n",
       "      <th>device_type</th>\n",
       "      <th>secs_elapsed</th>\n",
       "    </tr>\n",
       "  </thead>\n",
       "  <tbody>\n",
       "    <tr>\n",
       "      <th>0</th>\n",
       "      <td>00023iyk9l</td>\n",
       "      <td>[index, dashboard, header_userpic, dashboard, ...</td>\n",
       "      <td>[view, view, data, view, partner_callback, mes...</td>\n",
       "      <td>[view_search_results, dashboard, header_userpi...</td>\n",
       "      <td>[Mac Desktop, Mac Desktop, Mac Desktop, Mac De...</td>\n",
       "      <td>[20438.0, 787.0, 850.0, 934.0, nan, 129817.0, ...</td>\n",
       "    </tr>\n",
       "    <tr>\n",
       "      <th>1</th>\n",
       "      <td>0010k6l0om</td>\n",
       "      <td>[search_results, show, personalize, show, sear...</td>\n",
       "      <td>[click, view, data, nan, click, click, nan, da...</td>\n",
       "      <td>[view_search_results, p3, wishlist_content_upd...</td>\n",
       "      <td>[Mac Desktop, Mac Desktop, Mac Desktop, Mac De...</td>\n",
       "      <td>[1708.0, 21260.0, 1223.0, 26.0, 847.0, 1230.0,...</td>\n",
       "    </tr>\n",
       "    <tr>\n",
       "      <th>2</th>\n",
       "      <td>001wyh0pz8</td>\n",
       "      <td>[search, search, search, show, social_connecti...</td>\n",
       "      <td>[click, click, click, view, data, -unknown-, v...</td>\n",
       "      <td>[view_search_results, view_search_results, vie...</td>\n",
       "      <td>[Android App Unknown Phone/Tablet, Android App...</td>\n",
       "      <td>[622.0, 1813.0, 1507.0, 6327.0, 927.0, 142.0, ...</td>\n",
       "    </tr>\n",
       "    <tr>\n",
       "      <th>3</th>\n",
       "      <td>0028jgx1x1</td>\n",
       "      <td>[show, reviews, show, search, show, search, re...</td>\n",
       "      <td>[view, data, view, click, view, click, data, s...</td>\n",
       "      <td>[user_profile, listing_reviews, p3, view_searc...</td>\n",
       "      <td>[-unknown-, -unknown-, -unknown-, -unknown-, -...</td>\n",
       "      <td>[6162.0, 75.0, 86.0, 13710.0, 25217.0, 10989.0...</td>\n",
       "    </tr>\n",
       "    <tr>\n",
       "      <th>4</th>\n",
       "      <td>002qnbzfs5</td>\n",
       "      <td>[social_connections, payment_methods, create, ...</td>\n",
       "      <td>[data, -unknown-, -unknown-, view, data, data,...</td>\n",
       "      <td>[user_social_connections, -unknown-, -unknown-...</td>\n",
       "      <td>[iPhone, iPhone, iPhone, iPhone, iPhone, iPhon...</td>\n",
       "      <td>[17135.0, 711.0, 274.0, 179.0, 483.0, 1.0, 782...</td>\n",
       "    </tr>\n",
       "  </tbody>\n",
       "</table>\n",
       "</div>"
      ],
      "text/plain": [
       "      user_id                                             action  \\\n",
       "0  00023iyk9l  [index, dashboard, header_userpic, dashboard, ...   \n",
       "1  0010k6l0om  [search_results, show, personalize, show, sear...   \n",
       "2  001wyh0pz8  [search, search, search, show, social_connecti...   \n",
       "3  0028jgx1x1  [show, reviews, show, search, show, search, re...   \n",
       "4  002qnbzfs5  [social_connections, payment_methods, create, ...   \n",
       "\n",
       "                                         action_type  \\\n",
       "0  [view, view, data, view, partner_callback, mes...   \n",
       "1  [click, view, data, nan, click, click, nan, da...   \n",
       "2  [click, click, click, view, data, -unknown-, v...   \n",
       "3  [view, data, view, click, view, click, data, s...   \n",
       "4  [data, -unknown-, -unknown-, view, data, data,...   \n",
       "\n",
       "                                       action_detail  \\\n",
       "0  [view_search_results, dashboard, header_userpi...   \n",
       "1  [view_search_results, p3, wishlist_content_upd...   \n",
       "2  [view_search_results, view_search_results, vie...   \n",
       "3  [user_profile, listing_reviews, p3, view_searc...   \n",
       "4  [user_social_connections, -unknown-, -unknown-...   \n",
       "\n",
       "                                         device_type  \\\n",
       "0  [Mac Desktop, Mac Desktop, Mac Desktop, Mac De...   \n",
       "1  [Mac Desktop, Mac Desktop, Mac Desktop, Mac De...   \n",
       "2  [Android App Unknown Phone/Tablet, Android App...   \n",
       "3  [-unknown-, -unknown-, -unknown-, -unknown-, -...   \n",
       "4  [iPhone, iPhone, iPhone, iPhone, iPhone, iPhon...   \n",
       "\n",
       "                                        secs_elapsed  \n",
       "0  [20438.0, 787.0, 850.0, 934.0, nan, 129817.0, ...  \n",
       "1  [1708.0, 21260.0, 1223.0, 26.0, 847.0, 1230.0,...  \n",
       "2  [622.0, 1813.0, 1507.0, 6327.0, 927.0, 142.0, ...  \n",
       "3  [6162.0, 75.0, 86.0, 13710.0, 25217.0, 10989.0...  \n",
       "4  [17135.0, 711.0, 274.0, 179.0, 483.0, 1.0, 782...  "
      ]
     },
     "execution_count": 15,
     "metadata": {},
     "output_type": "execute_result"
    }
   ],
   "source": [
    "sessions_df.head()"
   ]
  },
  {
   "cell_type": "markdown",
   "id": "dfc19e96",
   "metadata": {},
   "source": [
    "### Converting the list to string."
   ]
  },
  {
   "cell_type": "code",
   "execution_count": 16,
   "id": "1c8f15e4",
   "metadata": {
    "execution": {
     "iopub.execute_input": "2022-02-20T09:09:49.809187Z",
     "iopub.status.busy": "2022-02-20T09:09:49.806318Z",
     "iopub.status.idle": "2022-02-20T09:09:49.811009Z",
     "shell.execute_reply": "2022-02-20T09:09:49.811422Z",
     "shell.execute_reply.started": "2022-02-20T06:17:03.462435Z"
    },
    "papermill": {
     "duration": 0.081358,
     "end_time": "2022-02-20T09:09:49.811554",
     "exception": false,
     "start_time": "2022-02-20T09:09:49.730196",
     "status": "completed"
    },
    "tags": []
   },
   "outputs": [],
   "source": [
    "def convert_to_string(action):\n",
    "    action = [str(i) for i in action]\n",
    "    action = [re.sub(\"nan\",\"\",i) for i in action]\n",
    "    action = \",\".join(action)\n",
    "    \n",
    "    return action"
   ]
  },
  {
   "cell_type": "code",
   "execution_count": 17,
   "id": "a60cfa57",
   "metadata": {
    "execution": {
     "iopub.execute_input": "2022-02-20T09:09:49.964091Z",
     "iopub.status.busy": "2022-02-20T09:09:49.963143Z",
     "iopub.status.idle": "2022-02-20T09:10:30.508528Z",
     "shell.execute_reply": "2022-02-20T09:10:30.508039Z",
     "shell.execute_reply.started": "2022-02-20T06:17:03.470573Z"
    },
    "papermill": {
     "duration": 40.623632,
     "end_time": "2022-02-20T09:10:30.508663",
     "exception": false,
     "start_time": "2022-02-20T09:09:49.885031",
     "status": "completed"
    },
    "tags": []
   },
   "outputs": [],
   "source": [
    "sessions_df[\"action\"] = sessions_df[\"action\"].apply(convert_to_string)\n",
    "sessions_df[\"action_type\"] = sessions_df[\"action_type\"].apply(convert_to_string)\n",
    "sessions_df[\"action_detail\"] = sessions_df[\"action_detail\"].apply(convert_to_string)\n"
   ]
  },
  {
   "cell_type": "code",
   "execution_count": 18,
   "id": "eb144650",
   "metadata": {
    "execution": {
     "iopub.execute_input": "2022-02-20T09:10:30.700953Z",
     "iopub.status.busy": "2022-02-20T09:10:30.659240Z",
     "iopub.status.idle": "2022-02-20T09:10:30.771699Z",
     "shell.execute_reply": "2022-02-20T09:10:30.771283Z",
     "shell.execute_reply.started": "2022-02-20T06:17:44.047509Z"
    },
    "papermill": {
     "duration": 0.187715,
     "end_time": "2022-02-20T09:10:30.771842",
     "exception": false,
     "start_time": "2022-02-20T09:10:30.584127",
     "status": "completed"
    },
    "tags": []
   },
   "outputs": [
    {
     "data": {
      "text/plain": [
       "user_id          0\n",
       "action           0\n",
       "action_type      0\n",
       "action_detail    0\n",
       "device_type      0\n",
       "secs_elapsed     0\n",
       "dtype: int64"
      ]
     },
     "execution_count": 18,
     "metadata": {},
     "output_type": "execute_result"
    }
   ],
   "source": [
    "sessions_df.isnull().sum()"
   ]
  },
  {
   "cell_type": "markdown",
   "id": "eff90de4",
   "metadata": {},
   "source": [
    "### Conversion to set"
   ]
  },
  {
   "cell_type": "code",
   "execution_count": 19,
   "id": "0f86411a",
   "metadata": {
    "execution": {
     "iopub.execute_input": "2022-02-20T09:10:30.926046Z",
     "iopub.status.busy": "2022-02-20T09:10:30.925241Z",
     "iopub.status.idle": "2022-02-20T09:10:30.927209Z",
     "shell.execute_reply": "2022-02-20T09:10:30.927570Z",
     "shell.execute_reply.started": "2022-02-20T06:17:44.162194Z"
    },
    "papermill": {
     "duration": 0.080695,
     "end_time": "2022-02-20T09:10:30.927698",
     "exception": false,
     "start_time": "2022-02-20T09:10:30.847003",
     "status": "completed"
    },
    "tags": []
   },
   "outputs": [],
   "source": [
    "def convert_to_set(device):\n",
    "    device = [str(i) for i in device]\n",
    "    device = [re.sub(\"nan\",\"\",i) for i in device]\n",
    "    device = \",\".join(set(device))\n",
    "    \n",
    "    return device"
   ]
  },
  {
   "cell_type": "code",
   "execution_count": 20,
   "id": "4ee24be9",
   "metadata": {
    "execution": {
     "iopub.execute_input": "2022-02-20T09:10:31.099721Z",
     "iopub.status.busy": "2022-02-20T09:10:31.094613Z",
     "iopub.status.idle": "2022-02-20T09:10:43.906583Z",
     "shell.execute_reply": "2022-02-20T09:10:43.906079Z",
     "shell.execute_reply.started": "2022-02-20T06:17:44.170398Z"
    },
    "papermill": {
     "duration": 12.90447,
     "end_time": "2022-02-20T09:10:43.906720",
     "exception": false,
     "start_time": "2022-02-20T09:10:31.002250",
     "status": "completed"
    },
    "tags": []
   },
   "outputs": [],
   "source": [
    "sessions_df['device_type'] =sessions_df['device_type'].apply(convert_to_set)"
   ]
  },
  {
   "cell_type": "markdown",
   "id": "f8073e5b",
   "metadata": {},
   "source": [
    "### Convert list to time"
   ]
  },
  {
   "cell_type": "code",
   "execution_count": 21,
   "id": "fb39bfa4",
   "metadata": {
    "execution": {
     "iopub.execute_input": "2022-02-20T09:10:44.061624Z",
     "iopub.status.busy": "2022-02-20T09:10:44.060747Z",
     "iopub.status.idle": "2022-02-20T09:10:44.062527Z",
     "shell.execute_reply": "2022-02-20T09:10:44.062989Z",
     "shell.execute_reply.started": "2022-02-20T06:17:57.133825Z"
    },
    "papermill": {
     "duration": 0.082251,
     "end_time": "2022-02-20T09:10:44.063123",
     "exception": false,
     "start_time": "2022-02-20T09:10:43.980872",
     "status": "completed"
    },
    "tags": []
   },
   "outputs": [],
   "source": [
    "def convert_the_time(time):\n",
    "    \n",
    "    float_time = []\n",
    "    time = [str(i) for i in time]\n",
    "    time = [re.sub(\"nan\",\"\",i) for i in time]\n",
    "    \n",
    "    for i in time:\n",
    "        try:\n",
    "            float_time.append(float(i))\n",
    "        except ValueError :\n",
    "            continue\n",
    "\n",
    "\n",
    "    time = sum(float_time)\n",
    "    \n",
    "    return time"
   ]
  },
  {
   "cell_type": "code",
   "execution_count": 22,
   "id": "5805eec4",
   "metadata": {
    "execution": {
     "iopub.execute_input": "2022-02-20T09:10:44.221294Z",
     "iopub.status.busy": "2022-02-20T09:10:44.219815Z",
     "iopub.status.idle": "2022-02-20T09:11:02.416920Z",
     "shell.execute_reply": "2022-02-20T09:11:02.415905Z",
     "shell.execute_reply.started": "2022-02-20T06:17:57.142475Z"
    },
    "papermill": {
     "duration": 18.279982,
     "end_time": "2022-02-20T09:11:02.417062",
     "exception": false,
     "start_time": "2022-02-20T09:10:44.137080",
     "status": "completed"
    },
    "tags": []
   },
   "outputs": [],
   "source": [
    "sessions_df['secs_elapsed'] = sessions_df['secs_elapsed'].apply(convert_the_time)"
   ]
  },
  {
   "cell_type": "markdown",
   "id": "3619fc79",
   "metadata": {},
   "source": [
    "#### Revised sessions dataframe"
   ]
  },
  {
   "cell_type": "code",
   "execution_count": 23,
   "id": "957b1bad",
   "metadata": {
    "execution": {
     "iopub.execute_input": "2022-02-20T09:11:02.576987Z",
     "iopub.status.busy": "2022-02-20T09:11:02.576162Z",
     "iopub.status.idle": "2022-02-20T09:11:02.579116Z",
     "shell.execute_reply": "2022-02-20T09:11:02.579516Z",
     "shell.execute_reply.started": "2022-02-20T06:18:15.228697Z"
    },
    "papermill": {
     "duration": 0.088636,
     "end_time": "2022-02-20T09:11:02.579646",
     "exception": false,
     "start_time": "2022-02-20T09:11:02.491010",
     "status": "completed"
    },
    "tags": []
   },
   "outputs": [
    {
     "data": {
      "text/html": [
       "<div>\n",
       "<style scoped>\n",
       "    .dataframe tbody tr th:only-of-type {\n",
       "        vertical-align: middle;\n",
       "    }\n",
       "\n",
       "    .dataframe tbody tr th {\n",
       "        vertical-align: top;\n",
       "    }\n",
       "\n",
       "    .dataframe thead th {\n",
       "        text-align: right;\n",
       "    }\n",
       "</style>\n",
       "<table border=\"1\" class=\"dataframe\">\n",
       "  <thead>\n",
       "    <tr style=\"text-align: right;\">\n",
       "      <th></th>\n",
       "      <th>user_id</th>\n",
       "      <th>action</th>\n",
       "      <th>action_type</th>\n",
       "      <th>action_detail</th>\n",
       "      <th>device_type</th>\n",
       "      <th>secs_elapsed</th>\n",
       "    </tr>\n",
       "  </thead>\n",
       "  <tbody>\n",
       "    <tr>\n",
       "      <th>0</th>\n",
       "      <td>00023iyk9l</td>\n",
       "      <td>index,dashboard,header_userpic,dashboard,callb...</td>\n",
       "      <td>view,view,data,view,partner_callback,message_p...</td>\n",
       "      <td>view_search_results,dashboard,header_userpic,d...</td>\n",
       "      <td>Mac Desktop,iPhone</td>\n",
       "      <td>867896.0</td>\n",
       "    </tr>\n",
       "    <tr>\n",
       "      <th>1</th>\n",
       "      <td>0010k6l0om</td>\n",
       "      <td>search_results,show,personalize,show,search_re...</td>\n",
       "      <td>click,view,data,,click,click,,data,view,partne...</td>\n",
       "      <td>view_search_results,p3,wishlist_content_update...</td>\n",
       "      <td>Mac Desktop</td>\n",
       "      <td>586543.0</td>\n",
       "    </tr>\n",
       "    <tr>\n",
       "      <th>2</th>\n",
       "      <td>001wyh0pz8</td>\n",
       "      <td>search,search,search,show,social_connections,i...</td>\n",
       "      <td>click,click,click,view,data,-unknown-,view,-un...</td>\n",
       "      <td>view_search_results,view_search_results,view_s...</td>\n",
       "      <td>Android App Unknown Phone/Tablet</td>\n",
       "      <td>282965.0</td>\n",
       "    </tr>\n",
       "    <tr>\n",
       "      <th>3</th>\n",
       "      <td>0028jgx1x1</td>\n",
       "      <td>show,reviews,show,search,show,search,reviews,c...</td>\n",
       "      <td>view,data,view,click,view,click,data,submit,-u...</td>\n",
       "      <td>user_profile,listing_reviews,p3,view_search_re...</td>\n",
       "      <td>Android Phone,-unknown-</td>\n",
       "      <td>297010.0</td>\n",
       "    </tr>\n",
       "    <tr>\n",
       "      <th>4</th>\n",
       "      <td>002qnbzfs5</td>\n",
       "      <td>social_connections,payment_methods,create,show...</td>\n",
       "      <td>data,-unknown-,-unknown-,view,data,data,data,,...</td>\n",
       "      <td>user_social_connections,-unknown-,-unknown-,us...</td>\n",
       "      <td>iPhone,-unknown-</td>\n",
       "      <td>6487080.0</td>\n",
       "    </tr>\n",
       "  </tbody>\n",
       "</table>\n",
       "</div>"
      ],
      "text/plain": [
       "      user_id                                             action  \\\n",
       "0  00023iyk9l  index,dashboard,header_userpic,dashboard,callb...   \n",
       "1  0010k6l0om  search_results,show,personalize,show,search_re...   \n",
       "2  001wyh0pz8  search,search,search,show,social_connections,i...   \n",
       "3  0028jgx1x1  show,reviews,show,search,show,search,reviews,c...   \n",
       "4  002qnbzfs5  social_connections,payment_methods,create,show...   \n",
       "\n",
       "                                         action_type  \\\n",
       "0  view,view,data,view,partner_callback,message_p...   \n",
       "1  click,view,data,,click,click,,data,view,partne...   \n",
       "2  click,click,click,view,data,-unknown-,view,-un...   \n",
       "3  view,data,view,click,view,click,data,submit,-u...   \n",
       "4  data,-unknown-,-unknown-,view,data,data,data,,...   \n",
       "\n",
       "                                       action_detail  \\\n",
       "0  view_search_results,dashboard,header_userpic,d...   \n",
       "1  view_search_results,p3,wishlist_content_update...   \n",
       "2  view_search_results,view_search_results,view_s...   \n",
       "3  user_profile,listing_reviews,p3,view_search_re...   \n",
       "4  user_social_connections,-unknown-,-unknown-,us...   \n",
       "\n",
       "                        device_type  secs_elapsed  \n",
       "0                Mac Desktop,iPhone      867896.0  \n",
       "1                       Mac Desktop      586543.0  \n",
       "2  Android App Unknown Phone/Tablet      282965.0  \n",
       "3           Android Phone,-unknown-      297010.0  \n",
       "4                  iPhone,-unknown-     6487080.0  "
      ]
     },
     "execution_count": 23,
     "metadata": {},
     "output_type": "execute_result"
    }
   ],
   "source": [
    "sessions_df.head()"
   ]
  },
  {
   "cell_type": "code",
   "execution_count": 24,
   "id": "81627c58",
   "metadata": {
    "execution": {
     "iopub.execute_input": "2022-02-20T09:11:02.737125Z",
     "iopub.status.busy": "2022-02-20T09:11:02.736424Z",
     "iopub.status.idle": "2022-02-20T09:11:02.739166Z",
     "shell.execute_reply": "2022-02-20T09:11:02.739558Z",
     "shell.execute_reply.started": "2022-02-20T06:18:15.241968Z"
    },
    "papermill": {
     "duration": 0.085175,
     "end_time": "2022-02-20T09:11:02.739684",
     "exception": false,
     "start_time": "2022-02-20T09:11:02.654509",
     "status": "completed"
    },
    "tags": []
   },
   "outputs": [
    {
     "data": {
      "text/plain": [
       "(135483, 6)"
      ]
     },
     "execution_count": 24,
     "metadata": {},
     "output_type": "execute_result"
    }
   ],
   "source": [
    "sessions_df.shape"
   ]
  },
  {
   "cell_type": "markdown",
   "id": "ce7c08bd",
   "metadata": {
    "papermill": {
     "duration": 0.086835,
     "end_time": "2022-02-20T09:11:02.905436",
     "exception": false,
     "start_time": "2022-02-20T09:11:02.818601",
     "status": "completed"
    },
    "tags": []
   },
   "source": [
    "## Merge the two tables"
   ]
  },
  {
   "cell_type": "code",
   "execution_count": 25,
   "id": "40e58aae",
   "metadata": {
    "execution": {
     "iopub.execute_input": "2022-02-20T09:11:03.177876Z",
     "iopub.status.busy": "2022-02-20T09:11:03.176934Z",
     "iopub.status.idle": "2022-02-20T09:11:03.375983Z",
     "shell.execute_reply": "2022-02-20T09:11:03.376836Z",
     "shell.execute_reply.started": "2022-02-20T06:18:15.254147Z"
    },
    "papermill": {
     "duration": 0.386128,
     "end_time": "2022-02-20T09:11:03.377063",
     "exception": false,
     "start_time": "2022-02-20T09:11:02.990935",
     "status": "completed"
    },
    "tags": []
   },
   "outputs": [
    {
     "name": "stdout",
     "output_type": "stream",
     "text": [
      "Train  : (213451, 16)\n",
      "Session: (135483, 6)\n",
      "Merge  : (213451, 22)\n",
      "No of users in Train Data with session info: 213451\n",
      "213451 / 213451 = 1.0\n"
     ]
    }
   ],
   "source": [
    "# Join train and session df\n",
    "\n",
    "train_merge = train_df.merge(sessions_df, left_on='id', right_on='user_id', how='left')\n",
    "\n",
    "print(\"Train  :\",train_df.shape)\n",
    "\n",
    "print(\"Session:\",sessions_df.shape)\n",
    "\n",
    "print(\"Merge  :\",train_merge.shape)\n",
    "\n",
    "print(\"No of users in Train Data with session info:\",train_merge.shape[0])\n",
    "\n",
    "print(\"{} / {} = {}\".format(train_merge.shape[0],train_df.shape[0],np.round((train_merge.shape[0]/train_df.shape[0]),2)))"
   ]
  },
  {
   "cell_type": "code",
   "execution_count": 26,
   "id": "a5648488",
   "metadata": {
    "execution": {
     "iopub.execute_input": "2022-02-20T09:11:03.571573Z",
     "iopub.status.busy": "2022-02-20T09:11:03.570850Z",
     "iopub.status.idle": "2022-02-20T09:11:03.859388Z",
     "shell.execute_reply": "2022-02-20T09:11:03.859785Z",
     "shell.execute_reply.started": "2022-02-20T06:18:15.466188Z"
    },
    "papermill": {
     "duration": 0.405321,
     "end_time": "2022-02-20T09:11:03.859972",
     "exception": false,
     "start_time": "2022-02-20T09:11:03.454651",
     "status": "completed"
    },
    "tags": []
   },
   "outputs": [
    {
     "data": {
      "text/plain": [
       "id                              0\n",
       "date_account_created            0\n",
       "timestamp_first_active          0\n",
       "date_first_booking         124543\n",
       "gender                          0\n",
       "age                         87990\n",
       "signup_method                   0\n",
       "signup_flow                     0\n",
       "language                        0\n",
       "affiliate_channel               0\n",
       "affiliate_provider              0\n",
       "first_affiliate_tracked      6065\n",
       "signup_app                      0\n",
       "first_device_type               0\n",
       "first_browser                   0\n",
       "country_destination             0\n",
       "user_id                    139636\n",
       "action                     139636\n",
       "action_type                139636\n",
       "action_detail              139636\n",
       "device_type                139636\n",
       "secs_elapsed               139636\n",
       "dtype: int64"
      ]
     },
     "execution_count": 26,
     "metadata": {},
     "output_type": "execute_result"
    }
   ],
   "source": [
    "train_merge.isnull().sum()"
   ]
  },
  {
   "cell_type": "code",
   "execution_count": 27,
   "id": "b8da7d3b",
   "metadata": {
    "execution": {
     "iopub.execute_input": "2022-02-20T09:11:04.017088Z",
     "iopub.status.busy": "2022-02-20T09:11:04.016223Z",
     "iopub.status.idle": "2022-02-20T09:11:04.035946Z",
     "shell.execute_reply": "2022-02-20T09:11:04.036344Z",
     "shell.execute_reply.started": "2022-02-20T06:18:15.616442Z"
    },
    "papermill": {
     "duration": 0.100579,
     "end_time": "2022-02-20T09:11:04.036486",
     "exception": false,
     "start_time": "2022-02-20T09:11:03.935907",
     "status": "completed"
    },
    "tags": []
   },
   "outputs": [
    {
     "data": {
      "text/html": [
       "<div>\n",
       "<style scoped>\n",
       "    .dataframe tbody tr th:only-of-type {\n",
       "        vertical-align: middle;\n",
       "    }\n",
       "\n",
       "    .dataframe tbody tr th {\n",
       "        vertical-align: top;\n",
       "    }\n",
       "\n",
       "    .dataframe thead th {\n",
       "        text-align: right;\n",
       "    }\n",
       "</style>\n",
       "<table border=\"1\" class=\"dataframe\">\n",
       "  <thead>\n",
       "    <tr style=\"text-align: right;\">\n",
       "      <th></th>\n",
       "      <th>id</th>\n",
       "      <th>date_account_created</th>\n",
       "      <th>timestamp_first_active</th>\n",
       "      <th>date_first_booking</th>\n",
       "      <th>gender</th>\n",
       "      <th>age</th>\n",
       "      <th>signup_method</th>\n",
       "      <th>signup_flow</th>\n",
       "      <th>language</th>\n",
       "      <th>affiliate_channel</th>\n",
       "      <th>...</th>\n",
       "      <th>signup_app</th>\n",
       "      <th>first_device_type</th>\n",
       "      <th>first_browser</th>\n",
       "      <th>country_destination</th>\n",
       "      <th>user_id</th>\n",
       "      <th>action</th>\n",
       "      <th>action_type</th>\n",
       "      <th>action_detail</th>\n",
       "      <th>device_type</th>\n",
       "      <th>secs_elapsed</th>\n",
       "    </tr>\n",
       "  </thead>\n",
       "  <tbody>\n",
       "    <tr>\n",
       "      <th>213446</th>\n",
       "      <td>zxodksqpep</td>\n",
       "      <td>2014-06-30</td>\n",
       "      <td>20140630235636</td>\n",
       "      <td>NaN</td>\n",
       "      <td>MALE</td>\n",
       "      <td>32.0</td>\n",
       "      <td>basic</td>\n",
       "      <td>0</td>\n",
       "      <td>en</td>\n",
       "      <td>sem-brand</td>\n",
       "      <td>...</td>\n",
       "      <td>Web</td>\n",
       "      <td>Mac Desktop</td>\n",
       "      <td>Safari</td>\n",
       "      <td>NDF</td>\n",
       "      <td>zxodksqpep</td>\n",
       "      <td>edit,edit,handle_vanity_url,edit,references,re...</td>\n",
       "      <td>view,view,-unknown-,view,view,view,-unknown-,-...</td>\n",
       "      <td>edit_profile,edit_profile,-unknown-,edit_profi...</td>\n",
       "      <td>Mac Desktop,iPhone</td>\n",
       "      <td>5141396.0</td>\n",
       "    </tr>\n",
       "    <tr>\n",
       "      <th>213447</th>\n",
       "      <td>mhewnxesx9</td>\n",
       "      <td>2014-06-30</td>\n",
       "      <td>20140630235719</td>\n",
       "      <td>NaN</td>\n",
       "      <td>-unknown-</td>\n",
       "      <td>NaN</td>\n",
       "      <td>basic</td>\n",
       "      <td>0</td>\n",
       "      <td>en</td>\n",
       "      <td>direct</td>\n",
       "      <td>...</td>\n",
       "      <td>Web</td>\n",
       "      <td>Windows Desktop</td>\n",
       "      <td>Chrome</td>\n",
       "      <td>NDF</td>\n",
       "      <td>mhewnxesx9</td>\n",
       "      <td>confirm_email,dashboard,header_userpic,dashboa...</td>\n",
       "      <td>click,view,data,view,submit,view,view,data,vie...</td>\n",
       "      <td>confirm_email_link,dashboard,header_userpic,da...</td>\n",
       "      <td>Mac Desktop,Windows Desktop,iPhone</td>\n",
       "      <td>2878924.0</td>\n",
       "    </tr>\n",
       "    <tr>\n",
       "      <th>213448</th>\n",
       "      <td>6o3arsjbb4</td>\n",
       "      <td>2014-06-30</td>\n",
       "      <td>20140630235754</td>\n",
       "      <td>NaN</td>\n",
       "      <td>-unknown-</td>\n",
       "      <td>32.0</td>\n",
       "      <td>basic</td>\n",
       "      <td>0</td>\n",
       "      <td>en</td>\n",
       "      <td>direct</td>\n",
       "      <td>...</td>\n",
       "      <td>Web</td>\n",
       "      <td>Mac Desktop</td>\n",
       "      <td>Firefox</td>\n",
       "      <td>NDF</td>\n",
       "      <td>6o3arsjbb4</td>\n",
       "      <td>ajax_refresh_subtotal,ajax_refresh_subtotal,si...</td>\n",
       "      <td>click,click,data,,data,data,,view,view,view,vi...</td>\n",
       "      <td>change_trip_characteristics,change_trip_charac...</td>\n",
       "      <td>Mac Desktop</td>\n",
       "      <td>342982.0</td>\n",
       "    </tr>\n",
       "    <tr>\n",
       "      <th>213449</th>\n",
       "      <td>jh95kwisub</td>\n",
       "      <td>2014-06-30</td>\n",
       "      <td>20140630235822</td>\n",
       "      <td>NaN</td>\n",
       "      <td>-unknown-</td>\n",
       "      <td>NaN</td>\n",
       "      <td>basic</td>\n",
       "      <td>25</td>\n",
       "      <td>en</td>\n",
       "      <td>other</td>\n",
       "      <td>...</td>\n",
       "      <td>iOS</td>\n",
       "      <td>iPhone</td>\n",
       "      <td>Mobile Safari</td>\n",
       "      <td>NDF</td>\n",
       "      <td>jh95kwisub</td>\n",
       "      <td>search,search,search,search,search,search,camp...</td>\n",
       "      <td>click,click,click,click,click,click,,-unknown-...</td>\n",
       "      <td>view_search_results,view_search_results,view_s...</td>\n",
       "      <td>iPhone</td>\n",
       "      <td>341609.0</td>\n",
       "    </tr>\n",
       "    <tr>\n",
       "      <th>213450</th>\n",
       "      <td>nw9fwlyb5f</td>\n",
       "      <td>2014-06-30</td>\n",
       "      <td>20140630235824</td>\n",
       "      <td>NaN</td>\n",
       "      <td>-unknown-</td>\n",
       "      <td>NaN</td>\n",
       "      <td>basic</td>\n",
       "      <td>25</td>\n",
       "      <td>en</td>\n",
       "      <td>direct</td>\n",
       "      <td>...</td>\n",
       "      <td>iOS</td>\n",
       "      <td>iPhone</td>\n",
       "      <td>-unknown-</td>\n",
       "      <td>NDF</td>\n",
       "      <td>nw9fwlyb5f</td>\n",
       "      <td>show,show,reviews,campaigns,click,campaigns,ac...</td>\n",
       "      <td>view,view,data,,click,,-unknown-,-unknown-,,-u...</td>\n",
       "      <td>user_profile,p3,listing_reviews,,book_it,,-unk...</td>\n",
       "      <td>iPhone</td>\n",
       "      <td>2759210.0</td>\n",
       "    </tr>\n",
       "  </tbody>\n",
       "</table>\n",
       "<p>5 rows × 22 columns</p>\n",
       "</div>"
      ],
      "text/plain": [
       "                id date_account_created  timestamp_first_active  \\\n",
       "213446  zxodksqpep           2014-06-30          20140630235636   \n",
       "213447  mhewnxesx9           2014-06-30          20140630235719   \n",
       "213448  6o3arsjbb4           2014-06-30          20140630235754   \n",
       "213449  jh95kwisub           2014-06-30          20140630235822   \n",
       "213450  nw9fwlyb5f           2014-06-30          20140630235824   \n",
       "\n",
       "       date_first_booking     gender   age signup_method  signup_flow  \\\n",
       "213446                NaN       MALE  32.0         basic            0   \n",
       "213447                NaN  -unknown-   NaN         basic            0   \n",
       "213448                NaN  -unknown-  32.0         basic            0   \n",
       "213449                NaN  -unknown-   NaN         basic           25   \n",
       "213450                NaN  -unknown-   NaN         basic           25   \n",
       "\n",
       "       language affiliate_channel  ... signup_app first_device_type  \\\n",
       "213446       en         sem-brand  ...        Web       Mac Desktop   \n",
       "213447       en            direct  ...        Web   Windows Desktop   \n",
       "213448       en            direct  ...        Web       Mac Desktop   \n",
       "213449       en             other  ...        iOS            iPhone   \n",
       "213450       en            direct  ...        iOS            iPhone   \n",
       "\n",
       "        first_browser country_destination     user_id  \\\n",
       "213446         Safari                 NDF  zxodksqpep   \n",
       "213447         Chrome                 NDF  mhewnxesx9   \n",
       "213448        Firefox                 NDF  6o3arsjbb4   \n",
       "213449  Mobile Safari                 NDF  jh95kwisub   \n",
       "213450      -unknown-                 NDF  nw9fwlyb5f   \n",
       "\n",
       "                                                   action  \\\n",
       "213446  edit,edit,handle_vanity_url,edit,references,re...   \n",
       "213447  confirm_email,dashboard,header_userpic,dashboa...   \n",
       "213448  ajax_refresh_subtotal,ajax_refresh_subtotal,si...   \n",
       "213449  search,search,search,search,search,search,camp...   \n",
       "213450  show,show,reviews,campaigns,click,campaigns,ac...   \n",
       "\n",
       "                                              action_type  \\\n",
       "213446  view,view,-unknown-,view,view,view,-unknown-,-...   \n",
       "213447  click,view,data,view,submit,view,view,data,vie...   \n",
       "213448  click,click,data,,data,data,,view,view,view,vi...   \n",
       "213449  click,click,click,click,click,click,,-unknown-...   \n",
       "213450  view,view,data,,click,,-unknown-,-unknown-,,-u...   \n",
       "\n",
       "                                            action_detail  \\\n",
       "213446  edit_profile,edit_profile,-unknown-,edit_profi...   \n",
       "213447  confirm_email_link,dashboard,header_userpic,da...   \n",
       "213448  change_trip_characteristics,change_trip_charac...   \n",
       "213449  view_search_results,view_search_results,view_s...   \n",
       "213450  user_profile,p3,listing_reviews,,book_it,,-unk...   \n",
       "\n",
       "                               device_type secs_elapsed  \n",
       "213446                  Mac Desktop,iPhone    5141396.0  \n",
       "213447  Mac Desktop,Windows Desktop,iPhone    2878924.0  \n",
       "213448                         Mac Desktop     342982.0  \n",
       "213449                              iPhone     341609.0  \n",
       "213450                              iPhone    2759210.0  \n",
       "\n",
       "[5 rows x 22 columns]"
      ]
     },
     "execution_count": 27,
     "metadata": {},
     "output_type": "execute_result"
    }
   ],
   "source": [
    "train_merge.tail()"
   ]
  },
  {
   "cell_type": "markdown",
   "id": "e8ee2cc8",
   "metadata": {
    "papermill": {
     "duration": 0.076175,
     "end_time": "2022-02-20T09:11:04.189763",
     "exception": false,
     "start_time": "2022-02-20T09:11:04.113588",
     "status": "completed"
    },
    "tags": []
   },
   "source": [
    "### Read Test data"
   ]
  },
  {
   "cell_type": "code",
   "execution_count": 28,
   "id": "e670619d",
   "metadata": {
    "execution": {
     "iopub.execute_input": "2022-02-20T09:11:04.353524Z",
     "iopub.status.busy": "2022-02-20T09:11:04.352947Z",
     "iopub.status.idle": "2022-02-20T09:11:04.542744Z",
     "shell.execute_reply": "2022-02-20T09:11:04.542211Z",
     "shell.execute_reply.started": "2022-02-20T06:18:15.649447Z"
    },
    "papermill": {
     "duration": 0.276512,
     "end_time": "2022-02-20T09:11:04.542905",
     "exception": false,
     "start_time": "2022-02-20T09:11:04.266393",
     "status": "completed"
    },
    "tags": []
   },
   "outputs": [],
   "source": [
    "test_df  = pd.read_csv('../input/airbnb-recruiting-new-user-bookings/test_users.csv.zip')\n",
    "id_test = test_df['id']\n"
   ]
  },
  {
   "cell_type": "code",
   "execution_count": 29,
   "id": "5f7129bc",
   "metadata": {
    "execution": {
     "iopub.execute_input": "2022-02-20T09:11:04.722768Z",
     "iopub.status.busy": "2022-02-20T09:11:04.722175Z",
     "iopub.status.idle": "2022-02-20T09:11:04.727436Z",
     "shell.execute_reply": "2022-02-20T09:11:04.726963Z",
     "shell.execute_reply.started": "2022-02-20T06:18:15.797504Z"
    },
    "papermill": {
     "duration": 0.100752,
     "end_time": "2022-02-20T09:11:04.727566",
     "exception": false,
     "start_time": "2022-02-20T09:11:04.626814",
     "status": "completed"
    },
    "tags": []
   },
   "outputs": [
    {
     "data": {
      "text/plain": [
       "0        35.0\n",
       "1         NaN\n",
       "2         NaN\n",
       "3         NaN\n",
       "4         NaN\n",
       "         ... \n",
       "62091    31.0\n",
       "62092     NaN\n",
       "62093     NaN\n",
       "62094     NaN\n",
       "62095    49.0\n",
       "Name: age, Length: 62096, dtype: float64"
      ]
     },
     "execution_count": 29,
     "metadata": {},
     "output_type": "execute_result"
    }
   ],
   "source": [
    "test_df.age"
   ]
  },
  {
   "cell_type": "code",
   "execution_count": 30,
   "id": "849ae5cf",
   "metadata": {
    "execution": {
     "iopub.execute_input": "2022-02-20T09:11:04.903222Z",
     "iopub.status.busy": "2022-02-20T09:11:04.902481Z",
     "iopub.status.idle": "2022-02-20T09:11:04.905661Z",
     "shell.execute_reply": "2022-02-20T09:11:04.905223Z",
     "shell.execute_reply.started": "2022-02-20T06:18:15.806932Z"
    },
    "papermill": {
     "duration": 0.086517,
     "end_time": "2022-02-20T09:11:04.905766",
     "exception": false,
     "start_time": "2022-02-20T09:11:04.819249",
     "status": "completed"
    },
    "tags": []
   },
   "outputs": [
    {
     "data": {
      "text/plain": [
       "(62096, 15)"
      ]
     },
     "execution_count": 30,
     "metadata": {},
     "output_type": "execute_result"
    }
   ],
   "source": [
    "test_df.shape"
   ]
  },
  {
   "cell_type": "code",
   "execution_count": 31,
   "id": "e78f2274",
   "metadata": {
    "execution": {
     "iopub.execute_input": "2022-02-20T09:11:05.065178Z",
     "iopub.status.busy": "2022-02-20T09:11:05.064578Z",
     "iopub.status.idle": "2022-02-20T09:11:05.067550Z",
     "shell.execute_reply": "2022-02-20T09:11:05.067993Z",
     "shell.execute_reply.started": "2022-02-20T06:18:15.817675Z"
    },
    "papermill": {
     "duration": 0.085154,
     "end_time": "2022-02-20T09:11:05.068136",
     "exception": false,
     "start_time": "2022-02-20T09:11:04.982982",
     "status": "completed"
    },
    "tags": []
   },
   "outputs": [
    {
     "name": "stdout",
     "output_type": "stream",
     "text": [
      "Train data columns :  Index(['id', 'date_account_created', 'timestamp_first_active',\n",
      "       'date_first_booking', 'gender', 'age', 'signup_method', 'signup_flow',\n",
      "       'language', 'affiliate_channel', 'affiliate_provider',\n",
      "       'first_affiliate_tracked', 'signup_app', 'first_device_type',\n",
      "       'first_browser', 'country_destination'],\n",
      "      dtype='object')\n",
      "Test data columns :  Index(['id', 'date_account_created', 'timestamp_first_active',\n",
      "       'date_first_booking', 'gender', 'age', 'signup_method', 'signup_flow',\n",
      "       'language', 'affiliate_channel', 'affiliate_provider',\n",
      "       'first_affiliate_tracked', 'signup_app', 'first_device_type',\n",
      "       'first_browser'],\n",
      "      dtype='object')\n"
     ]
    }
   ],
   "source": [
    "print(\"Train data columns : \", train_df.columns)\n",
    "print(\"Test data columns : \", test_df.columns)"
   ]
  },
  {
   "cell_type": "code",
   "execution_count": 32,
   "id": "2353814e",
   "metadata": {
    "execution": {
     "iopub.execute_input": "2022-02-20T09:11:05.229524Z",
     "iopub.status.busy": "2022-02-20T09:11:05.228750Z",
     "iopub.status.idle": "2022-02-20T09:11:05.296210Z",
     "shell.execute_reply": "2022-02-20T09:11:05.296646Z",
     "shell.execute_reply.started": "2022-02-20T06:18:15.827003Z"
    },
    "papermill": {
     "duration": 0.149349,
     "end_time": "2022-02-20T09:11:05.296782",
     "exception": false,
     "start_time": "2022-02-20T09:11:05.147433",
     "status": "completed"
    },
    "tags": []
   },
   "outputs": [
    {
     "data": {
      "text/plain": [
       "id                             0\n",
       "date_account_created           0\n",
       "timestamp_first_active         0\n",
       "date_first_booking         62096\n",
       "gender                         0\n",
       "age                        28876\n",
       "signup_method                  0\n",
       "signup_flow                    0\n",
       "language                       0\n",
       "affiliate_channel              0\n",
       "affiliate_provider             0\n",
       "first_affiliate_tracked       20\n",
       "signup_app                     0\n",
       "first_device_type              0\n",
       "first_browser                  0\n",
       "dtype: int64"
      ]
     },
     "execution_count": 32,
     "metadata": {},
     "output_type": "execute_result"
    }
   ],
   "source": [
    "test_df.isnull().sum()"
   ]
  },
  {
   "cell_type": "markdown",
   "id": "b29fb69d",
   "metadata": {},
   "source": [
    "### Merging the test with session df."
   ]
  },
  {
   "cell_type": "code",
   "execution_count": 33,
   "id": "22033932",
   "metadata": {
    "execution": {
     "iopub.execute_input": "2022-02-20T09:11:05.502093Z",
     "iopub.status.busy": "2022-02-20T09:11:05.501022Z",
     "iopub.status.idle": "2022-02-20T09:11:05.572991Z",
     "shell.execute_reply": "2022-02-20T09:11:05.573589Z",
     "shell.execute_reply.started": "2022-02-20T06:18:15.901132Z"
    },
    "papermill": {
     "duration": 0.199031,
     "end_time": "2022-02-20T09:11:05.573785",
     "exception": false,
     "start_time": "2022-02-20T09:11:05.374754",
     "status": "completed"
    },
    "tags": []
   },
   "outputs": [
    {
     "name": "stdout",
     "output_type": "stream",
     "text": [
      "test: (62096, 15)\n",
      "sessions_df: (135483, 6)\n",
      "test_merge: (61668, 21)\n",
      "61668 / 62096 = 0.99\n"
     ]
    }
   ],
   "source": [
    "test_merge = test_df.merge(sessions_df, left_on= \"id\", right_on=\"user_id\", how = \"inner\")\n",
    "print(\"test:\", test_df.shape)\n",
    "print(\"sessions_df:\", sessions_df.shape)\n",
    "print(\"test_merge:\", test_merge.shape)\n",
    "print(\"{} / {} = {}\".format(test_merge.shape[0],test_df.shape[0],np.round((test_merge.shape[0]/test_df.shape[0]),2)))"
   ]
  },
  {
   "cell_type": "markdown",
   "id": "9394e903",
   "metadata": {
    "papermill": {
     "duration": 0.077674,
     "end_time": "2022-02-20T09:11:05.730785",
     "exception": false,
     "start_time": "2022-02-20T09:11:05.653111",
     "status": "completed"
    },
    "tags": []
   },
   "source": [
    "    1 % of the test data don't have sessions details\n",
    "    \n",
    "    we will use left join"
   ]
  },
  {
   "cell_type": "code",
   "execution_count": 34,
   "id": "3a6ac23c",
   "metadata": {
    "execution": {
     "iopub.execute_input": "2022-02-20T09:11:05.942936Z",
     "iopub.status.busy": "2022-02-20T09:11:05.912264Z",
     "iopub.status.idle": "2022-02-20T09:11:06.022118Z",
     "shell.execute_reply": "2022-02-20T09:11:06.022712Z",
     "shell.execute_reply.started": "2022-02-20T06:18:16.036895Z"
    },
    "papermill": {
     "duration": 0.213803,
     "end_time": "2022-02-20T09:11:06.022928",
     "exception": false,
     "start_time": "2022-02-20T09:11:05.809125",
     "status": "completed"
    },
    "tags": []
   },
   "outputs": [
    {
     "name": "stdout",
     "output_type": "stream",
     "text": [
      "test: (62096, 15)\n",
      "sessions_df: (135483, 6)\n",
      "test_merge: (62096, 21)\n",
      "62096 / 62096 = 1.0\n"
     ]
    }
   ],
   "source": [
    "test_merge = test_df.merge(sessions_df, left_on= \"id\", right_on=\"user_id\", how = \"left\")\n",
    "print(\"test:\", test_df.shape)\n",
    "print(\"sessions_df:\", sessions_df.shape)\n",
    "print(\"test_merge:\", test_merge.shape)\n",
    "print(\"{} / {} = {}\".format(test_merge.shape[0],test_df.shape[0],np.round((test_merge.shape[0]/test_df.shape[0]),2)))"
   ]
  },
  {
   "cell_type": "code",
   "execution_count": 35,
   "id": "a92fda72",
   "metadata": {
    "execution": {
     "iopub.execute_input": "2022-02-20T09:11:06.246450Z",
     "iopub.status.busy": "2022-02-20T09:11:06.245693Z",
     "iopub.status.idle": "2022-02-20T09:11:06.348757Z",
     "shell.execute_reply": "2022-02-20T09:11:06.349180Z",
     "shell.execute_reply.started": "2022-02-20T06:18:16.162252Z"
    },
    "papermill": {
     "duration": 0.235705,
     "end_time": "2022-02-20T09:11:06.349332",
     "exception": false,
     "start_time": "2022-02-20T09:11:06.113627",
     "status": "completed"
    },
    "tags": []
   },
   "outputs": [
    {
     "data": {
      "text/plain": [
       "id                             0\n",
       "date_account_created           0\n",
       "timestamp_first_active         0\n",
       "date_first_booking         62096\n",
       "gender                         0\n",
       "age                        28876\n",
       "signup_method                  0\n",
       "signup_flow                    0\n",
       "language                       0\n",
       "affiliate_channel              0\n",
       "affiliate_provider             0\n",
       "first_affiliate_tracked       20\n",
       "signup_app                     0\n",
       "first_device_type              0\n",
       "first_browser                  0\n",
       "user_id                      428\n",
       "action                       428\n",
       "action_type                  428\n",
       "action_detail                428\n",
       "device_type                  428\n",
       "secs_elapsed                 428\n",
       "dtype: int64"
      ]
     },
     "execution_count": 35,
     "metadata": {},
     "output_type": "execute_result"
    }
   ],
   "source": [
    "#Checking null values\n",
    "test_merge.isnull().sum()"
   ]
  },
  {
   "cell_type": "markdown",
   "id": "43e30374",
   "metadata": {
    "papermill": {
     "duration": 0.078411,
     "end_time": "2022-02-20T09:11:06.509332",
     "exception": false,
     "start_time": "2022-02-20T09:11:06.430921",
     "status": "completed"
    },
    "tags": []
   },
   "source": [
    "    we will have 428 row with no sessions informations >> 428 null values ( 1% )"
   ]
  },
  {
   "cell_type": "markdown",
   "id": "47b02255",
   "metadata": {},
   "source": [
    "### Data Cleaning\n",
    "\n",
    "Filling the null values:\n",
    "\n",
    "For string cols fillna with 'na' and for int col('secs_elapsed') fillna with 0."
   ]
  },
  {
   "cell_type": "code",
   "execution_count": 36,
   "id": "be9d8960",
   "metadata": {
    "execution": {
     "iopub.execute_input": "2022-02-20T09:11:06.717068Z",
     "iopub.status.busy": "2022-02-20T09:11:06.668569Z",
     "iopub.status.idle": "2022-02-20T09:11:06.822436Z",
     "shell.execute_reply": "2022-02-20T09:11:06.821877Z",
     "shell.execute_reply.started": "2022-02-20T06:18:16.280942Z"
    },
    "papermill": {
     "duration": 0.234685,
     "end_time": "2022-02-20T09:11:06.822561",
     "exception": false,
     "start_time": "2022-02-20T09:11:06.587876",
     "status": "completed"
    },
    "tags": []
   },
   "outputs": [],
   "source": [
    "test_merge[\"user_id\"].fillna(\"na\", inplace = True)\n",
    "test_merge[\"action\"].fillna(\"na\", inplace = True)\n",
    "test_merge[\"action_type\"].fillna(\"na\", inplace = True)\n",
    "test_merge[\"action_detail\"].fillna(\"na\", inplace = True)\n",
    "test_merge[\"device_type\"].fillna(\"na\", inplace = True)\n",
    "test_merge[\"secs_elapsed\"].fillna(0, inplace = True)\n",
    "\n",
    "train_merge[\"user_id\"].fillna(\"na\", inplace = True)\n",
    "train_merge[\"action\"].fillna(\"na\", inplace = True)\n",
    "train_merge[\"action_type\"].fillna(\"na\", inplace = True)\n",
    "train_merge[\"action_detail\"].fillna(\"na\", inplace = True)\n",
    "train_merge[\"device_type\"].fillna(\"na\", inplace = True)\n",
    "train_merge[\"secs_elapsed\"].fillna(0, inplace = True)\n",
    "\n",
    "test_merge[\"age\"].fillna(34.0, inplace = True)\n",
    "train_merge[\"age\"].fillna(34.0, inplace = True)\n"
   ]
  },
  {
   "cell_type": "code",
   "execution_count": 37,
   "id": "dcf21668",
   "metadata": {
    "execution": {
     "iopub.execute_input": "2022-02-20T09:11:06.996501Z",
     "iopub.status.busy": "2022-02-20T09:11:06.995777Z",
     "iopub.status.idle": "2022-02-20T09:11:07.100385Z",
     "shell.execute_reply": "2022-02-20T09:11:07.099946Z",
     "shell.execute_reply.started": "2022-02-20T06:18:16.343283Z"
    },
    "papermill": {
     "duration": 0.198439,
     "end_time": "2022-02-20T09:11:07.100498",
     "exception": false,
     "start_time": "2022-02-20T09:11:06.902059",
     "status": "completed"
    },
    "tags": []
   },
   "outputs": [
    {
     "data": {
      "text/plain": [
       "id                             0\n",
       "date_account_created           0\n",
       "timestamp_first_active         0\n",
       "date_first_booking         62096\n",
       "gender                         0\n",
       "age                            0\n",
       "signup_method                  0\n",
       "signup_flow                    0\n",
       "language                       0\n",
       "affiliate_channel              0\n",
       "affiliate_provider             0\n",
       "first_affiliate_tracked       20\n",
       "signup_app                     0\n",
       "first_device_type              0\n",
       "first_browser                  0\n",
       "user_id                        0\n",
       "action                         0\n",
       "action_type                    0\n",
       "action_detail                  0\n",
       "device_type                    0\n",
       "secs_elapsed                   0\n",
       "dtype: int64"
      ]
     },
     "execution_count": 37,
     "metadata": {},
     "output_type": "execute_result"
    }
   ],
   "source": [
    "test_merge.isnull().sum()"
   ]
  },
  {
   "cell_type": "code",
   "execution_count": 38,
   "id": "509bfff7",
   "metadata": {
    "execution": {
     "iopub.execute_input": "2022-02-20T09:11:07.265591Z",
     "iopub.status.busy": "2022-02-20T09:11:07.264838Z",
     "iopub.status.idle": "2022-02-20T09:11:07.283372Z",
     "shell.execute_reply": "2022-02-20T09:11:07.283863Z",
     "shell.execute_reply.started": "2022-02-20T06:18:16.462607Z"
    },
    "papermill": {
     "duration": 0.103699,
     "end_time": "2022-02-20T09:11:07.283992",
     "exception": false,
     "start_time": "2022-02-20T09:11:07.180293",
     "status": "completed"
    },
    "tags": []
   },
   "outputs": [
    {
     "data": {
      "text/html": [
       "<div>\n",
       "<style scoped>\n",
       "    .dataframe tbody tr th:only-of-type {\n",
       "        vertical-align: middle;\n",
       "    }\n",
       "\n",
       "    .dataframe tbody tr th {\n",
       "        vertical-align: top;\n",
       "    }\n",
       "\n",
       "    .dataframe thead th {\n",
       "        text-align: right;\n",
       "    }\n",
       "</style>\n",
       "<table border=\"1\" class=\"dataframe\">\n",
       "  <thead>\n",
       "    <tr style=\"text-align: right;\">\n",
       "      <th></th>\n",
       "      <th>id</th>\n",
       "      <th>date_account_created</th>\n",
       "      <th>timestamp_first_active</th>\n",
       "      <th>date_first_booking</th>\n",
       "      <th>gender</th>\n",
       "      <th>age</th>\n",
       "      <th>signup_method</th>\n",
       "      <th>signup_flow</th>\n",
       "      <th>language</th>\n",
       "      <th>affiliate_channel</th>\n",
       "      <th>...</th>\n",
       "      <th>first_affiliate_tracked</th>\n",
       "      <th>signup_app</th>\n",
       "      <th>first_device_type</th>\n",
       "      <th>first_browser</th>\n",
       "      <th>user_id</th>\n",
       "      <th>action</th>\n",
       "      <th>action_type</th>\n",
       "      <th>action_detail</th>\n",
       "      <th>device_type</th>\n",
       "      <th>secs_elapsed</th>\n",
       "    </tr>\n",
       "  </thead>\n",
       "  <tbody>\n",
       "    <tr>\n",
       "      <th>0</th>\n",
       "      <td>5uwns89zht</td>\n",
       "      <td>2014-07-01</td>\n",
       "      <td>20140701000006</td>\n",
       "      <td>NaN</td>\n",
       "      <td>FEMALE</td>\n",
       "      <td>35.0</td>\n",
       "      <td>facebook</td>\n",
       "      <td>0</td>\n",
       "      <td>en</td>\n",
       "      <td>direct</td>\n",
       "      <td>...</td>\n",
       "      <td>untracked</td>\n",
       "      <td>Moweb</td>\n",
       "      <td>iPhone</td>\n",
       "      <td>Mobile Safari</td>\n",
       "      <td>5uwns89zht</td>\n",
       "      <td>show,search,search,show,authenticate,reviews,a...</td>\n",
       "      <td>view,click,click,view,submit,data,-unknown-,click</td>\n",
       "      <td>user_profile,view_search_results,view_search_r...</td>\n",
       "      <td>iPhone,-unknown-</td>\n",
       "      <td>119187.0</td>\n",
       "    </tr>\n",
       "    <tr>\n",
       "      <th>1</th>\n",
       "      <td>jtl0dijy2j</td>\n",
       "      <td>2014-07-01</td>\n",
       "      <td>20140701000051</td>\n",
       "      <td>NaN</td>\n",
       "      <td>-unknown-</td>\n",
       "      <td>34.0</td>\n",
       "      <td>basic</td>\n",
       "      <td>0</td>\n",
       "      <td>en</td>\n",
       "      <td>direct</td>\n",
       "      <td>...</td>\n",
       "      <td>untracked</td>\n",
       "      <td>Moweb</td>\n",
       "      <td>iPhone</td>\n",
       "      <td>Mobile Safari</td>\n",
       "      <td>jtl0dijy2j</td>\n",
       "      <td>dashboard,login,search,create,search,signup_lo...</td>\n",
       "      <td>view,view,click,submit,click,view,-unknown-,vi...</td>\n",
       "      <td>dashboard,login_page,view_search_results,creat...</td>\n",
       "      <td>iPhone,-unknown-</td>\n",
       "      <td>250119.0</td>\n",
       "    </tr>\n",
       "    <tr>\n",
       "      <th>2</th>\n",
       "      <td>xx0ulgorjt</td>\n",
       "      <td>2014-07-01</td>\n",
       "      <td>20140701000148</td>\n",
       "      <td>NaN</td>\n",
       "      <td>-unknown-</td>\n",
       "      <td>34.0</td>\n",
       "      <td>basic</td>\n",
       "      <td>0</td>\n",
       "      <td>en</td>\n",
       "      <td>direct</td>\n",
       "      <td>...</td>\n",
       "      <td>linked</td>\n",
       "      <td>Web</td>\n",
       "      <td>Windows Desktop</td>\n",
       "      <td>Chrome</td>\n",
       "      <td>xx0ulgorjt</td>\n",
       "      <td>index,index,index,search_results,search_result...</td>\n",
       "      <td>view,view,view,click,click,click,click,data,vi...</td>\n",
       "      <td>view_search_results,view_search_results,view_s...</td>\n",
       "      <td>Windows Desktop</td>\n",
       "      <td>975575.0</td>\n",
       "    </tr>\n",
       "    <tr>\n",
       "      <th>3</th>\n",
       "      <td>6c6puo6ix0</td>\n",
       "      <td>2014-07-01</td>\n",
       "      <td>20140701000215</td>\n",
       "      <td>NaN</td>\n",
       "      <td>-unknown-</td>\n",
       "      <td>34.0</td>\n",
       "      <td>basic</td>\n",
       "      <td>0</td>\n",
       "      <td>en</td>\n",
       "      <td>direct</td>\n",
       "      <td>...</td>\n",
       "      <td>linked</td>\n",
       "      <td>Web</td>\n",
       "      <td>Windows Desktop</td>\n",
       "      <td>IE</td>\n",
       "      <td>6c6puo6ix0</td>\n",
       "      <td>personalize,header_userpic,header_userpic,show...</td>\n",
       "      <td>data,data,data,view,view,,data,click,submit,,data</td>\n",
       "      <td>wishlist_content_update,header_userpic,header_...</td>\n",
       "      <td>Windows Desktop</td>\n",
       "      <td>123001.0</td>\n",
       "    </tr>\n",
       "    <tr>\n",
       "      <th>4</th>\n",
       "      <td>czqhjk3yfe</td>\n",
       "      <td>2014-07-01</td>\n",
       "      <td>20140701000305</td>\n",
       "      <td>NaN</td>\n",
       "      <td>-unknown-</td>\n",
       "      <td>34.0</td>\n",
       "      <td>basic</td>\n",
       "      <td>0</td>\n",
       "      <td>en</td>\n",
       "      <td>direct</td>\n",
       "      <td>...</td>\n",
       "      <td>untracked</td>\n",
       "      <td>Web</td>\n",
       "      <td>Mac Desktop</td>\n",
       "      <td>Safari</td>\n",
       "      <td>czqhjk3yfe</td>\n",
       "      <td>message_to_host_change,agree_terms_check,pendi...</td>\n",
       "      <td>click,-unknown-,booking_request,message_post,v...</td>\n",
       "      <td>message_to_host_change,-unknown-,pending,messa...</td>\n",
       "      <td>Mac Desktop</td>\n",
       "      <td>454023.0</td>\n",
       "    </tr>\n",
       "  </tbody>\n",
       "</table>\n",
       "<p>5 rows × 21 columns</p>\n",
       "</div>"
      ],
      "text/plain": [
       "           id date_account_created  timestamp_first_active  \\\n",
       "0  5uwns89zht           2014-07-01          20140701000006   \n",
       "1  jtl0dijy2j           2014-07-01          20140701000051   \n",
       "2  xx0ulgorjt           2014-07-01          20140701000148   \n",
       "3  6c6puo6ix0           2014-07-01          20140701000215   \n",
       "4  czqhjk3yfe           2014-07-01          20140701000305   \n",
       "\n",
       "   date_first_booking     gender   age signup_method  signup_flow language  \\\n",
       "0                 NaN     FEMALE  35.0      facebook            0       en   \n",
       "1                 NaN  -unknown-  34.0         basic            0       en   \n",
       "2                 NaN  -unknown-  34.0         basic            0       en   \n",
       "3                 NaN  -unknown-  34.0         basic            0       en   \n",
       "4                 NaN  -unknown-  34.0         basic            0       en   \n",
       "\n",
       "  affiliate_channel  ... first_affiliate_tracked signup_app first_device_type  \\\n",
       "0            direct  ...               untracked      Moweb            iPhone   \n",
       "1            direct  ...               untracked      Moweb            iPhone   \n",
       "2            direct  ...                  linked        Web   Windows Desktop   \n",
       "3            direct  ...                  linked        Web   Windows Desktop   \n",
       "4            direct  ...               untracked        Web       Mac Desktop   \n",
       "\n",
       "   first_browser     user_id  \\\n",
       "0  Mobile Safari  5uwns89zht   \n",
       "1  Mobile Safari  jtl0dijy2j   \n",
       "2         Chrome  xx0ulgorjt   \n",
       "3             IE  6c6puo6ix0   \n",
       "4         Safari  czqhjk3yfe   \n",
       "\n",
       "                                              action  \\\n",
       "0  show,search,search,show,authenticate,reviews,a...   \n",
       "1  dashboard,login,search,create,search,signup_lo...   \n",
       "2  index,index,index,search_results,search_result...   \n",
       "3  personalize,header_userpic,header_userpic,show...   \n",
       "4  message_to_host_change,agree_terms_check,pendi...   \n",
       "\n",
       "                                         action_type  \\\n",
       "0  view,click,click,view,submit,data,-unknown-,click   \n",
       "1  view,view,click,submit,click,view,-unknown-,vi...   \n",
       "2  view,view,view,click,click,click,click,data,vi...   \n",
       "3  data,data,data,view,view,,data,click,submit,,data   \n",
       "4  click,-unknown-,booking_request,message_post,v...   \n",
       "\n",
       "                                       action_detail       device_type  \\\n",
       "0  user_profile,view_search_results,view_search_r...  iPhone,-unknown-   \n",
       "1  dashboard,login_page,view_search_results,creat...  iPhone,-unknown-   \n",
       "2  view_search_results,view_search_results,view_s...   Windows Desktop   \n",
       "3  wishlist_content_update,header_userpic,header_...   Windows Desktop   \n",
       "4  message_to_host_change,-unknown-,pending,messa...       Mac Desktop   \n",
       "\n",
       "  secs_elapsed  \n",
       "0     119187.0  \n",
       "1     250119.0  \n",
       "2     975575.0  \n",
       "3     123001.0  \n",
       "4     454023.0  \n",
       "\n",
       "[5 rows x 21 columns]"
      ]
     },
     "execution_count": 38,
     "metadata": {},
     "output_type": "execute_result"
    }
   ],
   "source": [
    "test_merge.head()"
   ]
  },
  {
   "cell_type": "markdown",
   "id": "d3c4c1b9",
   "metadata": {},
   "source": [
    "## Splitting the date.\n",
    "\n",
    "Splitting the date format yyyy-mm-dd into weekdays, month and year using dt.weekdays. "
   ]
  },
  {
   "cell_type": "code",
   "execution_count": 39,
   "id": "1e3b884a",
   "metadata": {
    "execution": {
     "iopub.execute_input": "2022-02-20T09:11:07.467387Z",
     "iopub.status.busy": "2022-02-20T09:11:07.466531Z",
     "iopub.status.idle": "2022-02-20T09:11:07.576693Z",
     "shell.execute_reply": "2022-02-20T09:11:07.575681Z",
     "shell.execute_reply.started": "2022-02-20T06:18:16.492278Z"
    },
    "papermill": {
     "duration": 0.212886,
     "end_time": "2022-02-20T09:11:07.576849",
     "exception": false,
     "start_time": "2022-02-20T09:11:07.363963",
     "status": "completed"
    },
    "tags": []
   },
   "outputs": [],
   "source": [
    "train_merge[\"date_account_created\"] = pd.to_datetime(train_merge[\"date_account_created\"])\n",
    "train_merge[\"date_account_created_day\"] = train_merge.date_account_created.dt.weekday\n",
    "train_merge[\"date_account_created_month\"] = train_merge.date_account_created.dt.month\n",
    "train_merge[\"date_account_created_year\"] = train_merge.date_account_created.dt.year\n",
    "\n",
    "test_merge[\"date_account_created\"] = pd.to_datetime(test_merge[\"date_account_created\"])\n",
    "test_merge[\"date_account_created_day\"] = test_merge.date_account_created.dt.weekday\n",
    "test_merge[\"date_account_created_month\"] = test_merge.date_account_created.dt.month\n",
    "test_merge[\"date_account_created_year\"] = test_merge.date_account_created.dt.year"
   ]
  },
  {
   "cell_type": "markdown",
   "id": "779bbfa0",
   "metadata": {},
   "source": [
    "## setting the time stamp"
   ]
  },
  {
   "cell_type": "code",
   "execution_count": 40,
   "id": "ea45f868",
   "metadata": {
    "execution": {
     "iopub.execute_input": "2022-02-20T09:11:07.746558Z",
     "iopub.status.busy": "2022-02-20T09:11:07.745682Z",
     "iopub.status.idle": "2022-02-20T09:11:07.747537Z",
     "shell.execute_reply": "2022-02-20T09:11:07.747943Z",
     "shell.execute_reply.started": "2022-02-20T06:18:16.560294Z"
    },
    "papermill": {
     "duration": 0.089343,
     "end_time": "2022-02-20T09:11:07.748070",
     "exception": false,
     "start_time": "2022-02-20T09:11:07.658727",
     "status": "completed"
    },
    "tags": []
   },
   "outputs": [],
   "source": [
    "def convert_timestamp_first_active(timestamp):\n",
    "        \n",
    "        timestamp = str(timestamp)\n",
    "        \n",
    "        timestamp = datetime(year=int(timestamp[0:4]), month=int(timestamp[4:6]), day=int(timestamp[6:8]),\\\n",
    "                             \n",
    "                             hour=int(timestamp[8:10]), minute=int(timestamp[10:12]), second=int(timestamp[12:]))\n",
    "        \n",
    "        return timestamp"
   ]
  },
  {
   "cell_type": "code",
   "execution_count": 41,
   "id": "4b31d0e4",
   "metadata": {
    "execution": {
     "iopub.execute_input": "2022-02-20T09:11:07.922784Z",
     "iopub.status.busy": "2022-02-20T09:11:07.910668Z",
     "iopub.status.idle": "2022-02-20T09:11:09.224054Z",
     "shell.execute_reply": "2022-02-20T09:11:09.223505Z",
     "shell.execute_reply.started": "2022-02-20T06:18:16.56798Z"
    },
    "papermill": {
     "duration": 1.396977,
     "end_time": "2022-02-20T09:11:09.224203",
     "exception": false,
     "start_time": "2022-02-20T09:11:07.827226",
     "status": "completed"
    },
    "tags": []
   },
   "outputs": [],
   "source": [
    "train_merge['timestamp_first_active'] = pd.to_datetime(train_merge.timestamp_first_active.apply(convert_timestamp_first_active))\n",
    "train_merge[\"timestamp_first_active_day\"] = train_merge.timestamp_first_active.dt.weekday\n",
    "train_merge[\"timestamp_first_active_month\"] = train_merge.timestamp_first_active.dt.month\n",
    "train_merge[\"timestamp_first_active_year\"] = train_merge.timestamp_first_active.dt.year\n",
    "train_merge[\"timestamp_first_active_hour\"] = train_merge.timestamp_first_active.dt.hour\n",
    "\n",
    "test_merge['timestamp_first_active'] = pd.to_datetime(test_merge.timestamp_first_active.apply(convert_timestamp_first_active))\n",
    "test_merge['timestamp_first_active_day'] = test_merge.timestamp_first_active.dt.weekday\n",
    "test_merge['timestamp_first_active_month'] = test_merge.timestamp_first_active.dt.month\n",
    "test_merge['timestamp_first_active_year'] = test_merge.timestamp_first_active.dt.year\n",
    "test_merge['timestamp_first_active_hour'] = test_merge.timestamp_first_active.dt.hour "
   ]
  },
  {
   "cell_type": "markdown",
   "id": "5e3da9de",
   "metadata": {},
   "source": [
    "## Visualizing the data."
   ]
  },
  {
   "cell_type": "code",
   "execution_count": 42,
   "id": "86619ad3",
   "metadata": {
    "execution": {
     "iopub.execute_input": "2022-02-20T09:11:09.408391Z",
     "iopub.status.busy": "2022-02-20T09:11:09.407461Z",
     "iopub.status.idle": "2022-02-20T09:11:09.640583Z",
     "shell.execute_reply": "2022-02-20T09:11:09.640026Z",
     "shell.execute_reply.started": "2022-02-20T06:18:17.086004Z"
    },
    "papermill": {
     "duration": 0.330621,
     "end_time": "2022-02-20T09:11:09.640727",
     "exception": false,
     "start_time": "2022-02-20T09:11:09.310106",
     "status": "completed"
    },
    "tags": []
   },
   "outputs": [
    {
     "data": {
      "image/png": "[encoded data removed]",
      "text/plain": [
       "<Figure size 432x288 with 1 Axes>"
      ]
     },
     "metadata": {
      "needs_background": "light"
     },
     "output_type": "display_data"
    }
   ],
   "source": [
    "plt.hist(test_merge[\"age\"])\n",
    "plt.show()"
   ]
  },
  {
   "cell_type": "markdown",
   "id": "ba8db824",
   "metadata": {},
   "source": [
    "## Applying the median age."
   ]
  },
  {
   "cell_type": "code",
   "execution_count": 43,
   "id": "059ca4c7",
   "metadata": {
    "execution": {
     "iopub.execute_input": "2022-02-20T09:11:09.833955Z",
     "iopub.status.busy": "2022-02-20T09:11:09.833020Z",
     "iopub.status.idle": "2022-02-20T09:11:09.835075Z",
     "shell.execute_reply": "2022-02-20T09:11:09.835519Z",
     "shell.execute_reply.started": "2022-02-20T06:18:17.297709Z"
    },
    "papermill": {
     "duration": 0.100461,
     "end_time": "2022-02-20T09:11:09.835661",
     "exception": false,
     "start_time": "2022-02-20T09:11:09.735200",
     "status": "completed"
    },
    "tags": []
   },
   "outputs": [],
   "source": [
    "def median_age(age):\n",
    "    \n",
    "    if age< 15.0 or age > 100.0:\n",
    "        return 34.0\n",
    "    else:\n",
    "        return age\n",
    "    "
   ]
  },
  {
   "cell_type": "code",
   "execution_count": 44,
   "id": "66e60e2d",
   "metadata": {
    "execution": {
     "iopub.execute_input": "2022-02-20T09:11:10.015691Z",
     "iopub.status.busy": "2022-02-20T09:11:10.014944Z",
     "iopub.status.idle": "2022-02-20T09:11:10.121131Z",
     "shell.execute_reply": "2022-02-20T09:11:10.120618Z",
     "shell.execute_reply.started": "2022-02-20T06:18:17.303946Z"
    },
    "papermill": {
     "duration": 0.199506,
     "end_time": "2022-02-20T09:11:10.121260",
     "exception": false,
     "start_time": "2022-02-20T09:11:09.921754",
     "status": "completed"
    },
    "tags": []
   },
   "outputs": [],
   "source": [
    "train_merge[\"age\"] = train_merge[\"age\"].apply(median_age)\n",
    "\n",
    "test_merge[\"age\"] = test_merge[\"age\"].apply(median_age)"
   ]
  },
  {
   "cell_type": "code",
   "execution_count": 45,
   "id": "192fc4d4",
   "metadata": {
    "execution": {
     "iopub.execute_input": "2022-02-20T09:11:10.290940Z",
     "iopub.status.busy": "2022-02-20T09:11:10.287912Z",
     "iopub.status.idle": "2022-02-20T09:11:10.293506Z",
     "shell.execute_reply": "2022-02-20T09:11:10.293937Z",
     "shell.execute_reply.started": "2022-02-20T06:18:17.378222Z"
    },
    "papermill": {
     "duration": 0.091217,
     "end_time": "2022-02-20T09:11:10.294074",
     "exception": false,
     "start_time": "2022-02-20T09:11:10.202857",
     "status": "completed"
    },
    "tags": []
   },
   "outputs": [
    {
     "data": {
      "text/plain": [
       "0        35.0\n",
       "1        34.0\n",
       "2        34.0\n",
       "3        34.0\n",
       "4        34.0\n",
       "         ... \n",
       "62091    31.0\n",
       "62092    34.0\n",
       "62093    34.0\n",
       "62094    34.0\n",
       "62095    49.0\n",
       "Name: age, Length: 62096, dtype: float64"
      ]
     },
     "execution_count": 45,
     "metadata": {},
     "output_type": "execute_result"
    }
   ],
   "source": [
    "test_merge['age']"
   ]
  },
  {
   "cell_type": "markdown",
   "id": "c8975284",
   "metadata": {},
   "source": [
    "### Creating the age bucket."
   ]
  },
  {
   "cell_type": "code",
   "execution_count": 46,
   "id": "d5c9924e",
   "metadata": {
    "execution": {
     "iopub.execute_input": "2022-02-20T09:11:10.472290Z",
     "iopub.status.busy": "2022-02-20T09:11:10.471370Z",
     "iopub.status.idle": "2022-02-20T09:11:10.473293Z",
     "shell.execute_reply": "2022-02-20T09:11:10.473729Z",
     "shell.execute_reply.started": "2022-02-20T06:18:17.388198Z"
    },
    "papermill": {
     "duration": 0.094692,
     "end_time": "2022-02-20T09:11:10.473880",
     "exception": false,
     "start_time": "2022-02-20T09:11:10.379188",
     "status": "completed"
    },
    "tags": []
   },
   "outputs": [],
   "source": [
    "bins = [i for i in range (15,106,5)]\n",
    "\n",
    "def make_age_buckets(age):\n",
    "    \n",
    "    for i in range (len(bins)):\n",
    "        if age < bins[i]:\n",
    "            return i"
   ]
  },
  {
   "cell_type": "code",
   "execution_count": 47,
   "id": "485a8e19",
   "metadata": {
    "execution": {
     "iopub.execute_input": "2022-02-20T09:11:10.648677Z",
     "iopub.status.busy": "2022-02-20T09:11:10.640558Z",
     "iopub.status.idle": "2022-02-20T09:11:11.031450Z",
     "shell.execute_reply": "2022-02-20T09:11:11.030985Z",
     "shell.execute_reply.started": "2022-02-20T06:18:17.397756Z"
    },
    "papermill": {
     "duration": 0.476325,
     "end_time": "2022-02-20T09:11:11.031580",
     "exception": false,
     "start_time": "2022-02-20T09:11:10.555255",
     "status": "completed"
    },
    "tags": []
   },
   "outputs": [],
   "source": [
    "train_merge['age'] = train_merge['age'].apply(lambda x :make_age_buckets(x))\n",
    "test_merge['age'] = test_merge['age'].apply(lambda x :make_age_buckets(x))"
   ]
  },
  {
   "cell_type": "code",
   "execution_count": 48,
   "id": "3ffd104a",
   "metadata": {
    "execution": {
     "iopub.execute_input": "2022-02-20T09:11:11.218516Z",
     "iopub.status.busy": "2022-02-20T09:11:11.217767Z",
     "iopub.status.idle": "2022-02-20T09:11:11.557766Z",
     "shell.execute_reply": "2022-02-20T09:11:11.558231Z",
     "shell.execute_reply.started": "2022-02-20T06:18:17.605288Z"
    },
    "papermill": {
     "duration": 0.44595,
     "end_time": "2022-02-20T09:11:11.558378",
     "exception": false,
     "start_time": "2022-02-20T09:11:11.112428",
     "status": "completed"
    },
    "tags": []
   },
   "outputs": [
    {
     "data": {
      "text/plain": [
       "id                                   0\n",
       "date_account_created                 0\n",
       "timestamp_first_active               0\n",
       "date_first_booking              124543\n",
       "gender                               0\n",
       "age                                  0\n",
       "signup_method                        0\n",
       "signup_flow                          0\n",
       "language                             0\n",
       "affiliate_channel                    0\n",
       "affiliate_provider                   0\n",
       "first_affiliate_tracked           6065\n",
       "signup_app                           0\n",
       "first_device_type                    0\n",
       "first_browser                        0\n",
       "country_destination                  0\n",
       "user_id                              0\n",
       "action                               0\n",
       "action_type                          0\n",
       "action_detail                        0\n",
       "device_type                          0\n",
       "secs_elapsed                         0\n",
       "date_account_created_day             0\n",
       "date_account_created_month           0\n",
       "date_account_created_year            0\n",
       "timestamp_first_active_day           0\n",
       "timestamp_first_active_month         0\n",
       "timestamp_first_active_year          0\n",
       "timestamp_first_active_hour          0\n",
       "dtype: int64"
      ]
     },
     "execution_count": 48,
     "metadata": {},
     "output_type": "execute_result"
    }
   ],
   "source": [
    "train_merge.isnull().sum()"
   ]
  },
  {
   "cell_type": "markdown",
   "id": "968b3f74",
   "metadata": {},
   "source": [
    "### Mode replacement for first_affiliate_tracked"
   ]
  },
  {
   "cell_type": "code",
   "execution_count": 49,
   "id": "4c43d78c",
   "metadata": {
    "execution": {
     "iopub.execute_input": "2022-02-20T09:11:11.742709Z",
     "iopub.status.busy": "2022-02-20T09:11:11.741864Z",
     "iopub.status.idle": "2022-02-20T09:11:11.752312Z",
     "shell.execute_reply": "2022-02-20T09:11:11.751906Z",
     "shell.execute_reply.started": "2022-02-20T06:18:17.749136Z"
    },
    "papermill": {
     "duration": 0.11347,
     "end_time": "2022-02-20T09:11:11.752424",
     "exception": false,
     "start_time": "2022-02-20T09:11:11.638954",
     "status": "completed"
    },
    "tags": []
   },
   "outputs": [],
   "source": [
    "# mode replacement for first_affiliate_tracked\n",
    "train_merge.first_affiliate_tracked.fillna('untracked',inplace = True)\n",
    "\n",
    "test_merge.first_affiliate_tracked.fillna('untracked',inplace = True)"
   ]
  },
  {
   "cell_type": "code",
   "execution_count": 50,
   "id": "a862d571",
   "metadata": {
    "execution": {
     "iopub.execute_input": "2022-02-20T09:11:11.920360Z",
     "iopub.status.busy": "2022-02-20T09:11:11.919696Z",
     "iopub.status.idle": "2022-02-20T09:11:11.922472Z",
     "shell.execute_reply": "2022-02-20T09:11:11.922878Z",
     "shell.execute_reply.started": "2022-02-20T06:18:17.770409Z"
    },
    "papermill": {
     "duration": 0.089403,
     "end_time": "2022-02-20T09:11:11.923005",
     "exception": false,
     "start_time": "2022-02-20T09:11:11.833602",
     "status": "completed"
    },
    "tags": []
   },
   "outputs": [
    {
     "data": {
      "text/plain": [
       "(213451, 29)"
      ]
     },
     "execution_count": 50,
     "metadata": {},
     "output_type": "execute_result"
    }
   ],
   "source": [
    "train_merge.shape"
   ]
  },
  {
   "cell_type": "code",
   "execution_count": 51,
   "id": "747015d9",
   "metadata": {
    "execution": {
     "iopub.execute_input": "2022-02-20T09:11:12.095659Z",
     "iopub.status.busy": "2022-02-20T09:11:12.095011Z",
     "iopub.status.idle": "2022-02-20T09:11:12.097592Z",
     "shell.execute_reply": "2022-02-20T09:11:12.098048Z",
     "shell.execute_reply.started": "2022-02-20T06:18:17.778983Z"
    },
    "papermill": {
     "duration": 0.090044,
     "end_time": "2022-02-20T09:11:12.098174",
     "exception": false,
     "start_time": "2022-02-20T09:11:12.008130",
     "status": "completed"
    },
    "tags": []
   },
   "outputs": [
    {
     "data": {
      "text/plain": [
       "(62096, 28)"
      ]
     },
     "execution_count": 51,
     "metadata": {},
     "output_type": "execute_result"
    }
   ],
   "source": [
    "test_merge.shape"
   ]
  },
  {
   "cell_type": "markdown",
   "id": "ab7a7bea",
   "metadata": {},
   "source": [
    "## One Hot Encoding\n"
   ]
  },
  {
   "cell_type": "code",
   "execution_count": 52,
   "id": "0c6f22d9",
   "metadata": {
    "execution": {
     "iopub.execute_input": "2022-02-20T09:11:12.281441Z",
     "iopub.status.busy": "2022-02-20T09:11:12.280649Z",
     "iopub.status.idle": "2022-02-20T09:11:14.899592Z",
     "shell.execute_reply": "2022-02-20T09:11:14.899104Z",
     "shell.execute_reply.started": "2022-02-20T06:18:17.787024Z"
    },
    "papermill": {
     "duration": 2.719225,
     "end_time": "2022-02-20T09:11:14.899728",
     "exception": false,
     "start_time": "2022-02-20T09:11:12.180503",
     "status": "completed"
    },
    "tags": []
   },
   "outputs": [],
   "source": [
    "# make one hot encoded columns\n",
    "\n",
    "lst_ohe_train =[]\n",
    "ohe = ['gender', 'signup_method', 'language', 'affiliate_channel',\\\n",
    "            'affiliate_provider', 'first_affiliate_tracked', 'signup_app', 'first_device_type', 'first_browser']\n",
    "\n",
    "for col in ohe:\n",
    "    train_ohe = pd.get_dummies(train_merge[col],prefix = col)\n",
    "    train_merge.drop([col], axis = 1, inplace = True)\n",
    "    \n",
    "    test_ohe = pd.get_dummies(test_merge[col], prefix = col)\n",
    "    test_merge.drop([col], axis = 1, inplace = True)\n",
    "    \n",
    "    lst_ohe_train.append(train_ohe.columns)\n",
    "    \n",
    "    # Get missing columns in the training test\n",
    "    \n",
    "    missing_cols = set( train_ohe.columns ) - set( test_ohe.columns )\n",
    "    \n",
    "    # Add a missing column in test set with default value equal to 0\n",
    "    \n",
    "    for c in missing_cols:\n",
    "        \n",
    "        test_ohe[c] = 0\n",
    "        \n",
    "    # Ensure the order of column in the test set is in the same order than in train set\n",
    "    \n",
    "    test_ohe = test_ohe[train_ohe.columns]\n",
    "    \n",
    "    train_merge = pd.concat((train_merge, train_ohe), axis=1)    \n",
    "        \n",
    "    test_merge = pd.concat((test_merge, test_ohe), axis=1)"
   ]
  },
  {
   "cell_type": "code",
   "execution_count": 53,
   "id": "fc1be7c8",
   "metadata": {
    "execution": {
     "iopub.execute_input": "2022-02-20T09:11:15.096406Z",
     "iopub.status.busy": "2022-02-20T09:11:15.095587Z",
     "iopub.status.idle": "2022-02-20T09:11:17.266680Z",
     "shell.execute_reply": "2022-02-20T09:11:17.265628Z",
     "shell.execute_reply.started": "2022-02-20T06:18:19.249106Z"
    },
    "papermill": {
     "duration": 2.282321,
     "end_time": "2022-02-20T09:11:17.266839",
     "exception": false,
     "start_time": "2022-02-20T09:11:14.984518",
     "status": "completed"
    },
    "tags": []
   },
   "outputs": [],
   "source": [
    "# OHE device_type\n",
    "\n",
    "train_ohe = train_merge['device_type'].str.get_dummies(sep=\",\")\n",
    "    \n",
    "train_merge.drop(['device_type'], axis=1, inplace = True)\n",
    "    \n",
    "test_ohe = test_merge['device_type'].str.get_dummies(sep=\",\")\n",
    "    \n",
    "test_merge.drop(['device_type'], axis=1, inplace = True)\n",
    "        \n",
    "# Get missing columns in the training test\n",
    "    \n",
    "missing_cols = set( train_ohe.columns ) - set( test_ohe.columns )\n",
    "\n",
    "lst_ohe_train.append(train_ohe.columns)\n",
    "    \n",
    "# Add a missing column in test set with default value equal to 0\n",
    "    \n",
    "for c in missing_cols:\n",
    "        \n",
    "    test_ohe[c] = 0\n",
    "        \n",
    "# Ensure the order of column in the test set is in the same order than in train set\n",
    "    \n",
    "test_ohe = test_ohe[train_ohe.columns]\n",
    "    \n",
    "train_merge = pd.concat((train_merge, train_ohe), axis=1)    \n",
    "        \n",
    "test_merge = pd.concat((test_merge, test_ohe), axis=1)"
   ]
  },
  {
   "cell_type": "code",
   "execution_count": 54,
   "id": "5d91555e",
   "metadata": {
    "execution": {
     "iopub.execute_input": "2022-02-20T09:11:17.438084Z",
     "iopub.status.busy": "2022-02-20T09:11:17.436500Z",
     "iopub.status.idle": "2022-02-20T09:11:17.438665Z",
     "shell.execute_reply": "2022-02-20T09:11:17.439092Z",
     "shell.execute_reply.started": "2022-02-20T06:18:20.001044Z"
    },
    "papermill": {
     "duration": 0.088993,
     "end_time": "2022-02-20T09:11:17.439230",
     "exception": false,
     "start_time": "2022-02-20T09:11:17.350237",
     "status": "completed"
    },
    "tags": []
   },
   "outputs": [],
   "source": [
    "y = train_merge['country_destination']"
   ]
  },
  {
   "cell_type": "markdown",
   "id": "e2afca61",
   "metadata": {},
   "source": [
    "## Dropping the columns."
   ]
  },
  {
   "cell_type": "code",
   "execution_count": 55,
   "id": "f5ab71f6",
   "metadata": {
    "execution": {
     "iopub.execute_input": "2022-02-20T09:11:17.610149Z",
     "iopub.status.busy": "2022-02-20T09:11:17.608811Z",
     "iopub.status.idle": "2022-02-20T09:11:17.764443Z",
     "shell.execute_reply": "2022-02-20T09:11:17.764877Z",
     "shell.execute_reply.started": "2022-02-20T06:18:20.01108Z"
    },
    "papermill": {
     "duration": 0.243724,
     "end_time": "2022-02-20T09:11:17.765046",
     "exception": false,
     "start_time": "2022-02-20T09:11:17.521322",
     "status": "completed"
    },
    "tags": []
   },
   "outputs": [],
   "source": [
    "# drop colmns\n",
    "\n",
    "train_merge.drop(['id','date_account_created','timestamp_first_active',\\\n",
    "                  'date_first_booking','country_destination','user_id'],axis=1,inplace = True)\n",
    "\n",
    "test_merge.drop(['id','date_account_created','timestamp_first_active',\\\n",
    "                  'date_first_booking','user_id'],axis=1,inplace = True)"
   ]
  },
  {
   "cell_type": "code",
   "execution_count": 56,
   "id": "b5f63830",
   "metadata": {
    "execution": {
     "iopub.execute_input": "2022-02-20T09:11:17.933126Z",
     "iopub.status.busy": "2022-02-20T09:11:17.932476Z",
     "iopub.status.idle": "2022-02-20T09:11:17.935306Z",
     "shell.execute_reply": "2022-02-20T09:11:17.935888Z",
     "shell.execute_reply.started": "2022-02-20T06:18:20.111683Z"
    },
    "papermill": {
     "duration": 0.088886,
     "end_time": "2022-02-20T09:11:17.936060",
     "exception": false,
     "start_time": "2022-02-20T09:11:17.847174",
     "status": "completed"
    },
    "tags": []
   },
   "outputs": [
    {
     "name": "stdout",
     "output_type": "stream",
     "text": [
      "(213451, 158)\n",
      "(62096, 158)\n"
     ]
    }
   ],
   "source": [
    "print(train_merge.shape)\n",
    "print(test_merge.shape)"
   ]
  },
  {
   "cell_type": "code",
   "execution_count": 57,
   "id": "a08521bc",
   "metadata": {
    "execution": {
     "iopub.execute_input": "2022-02-20T09:11:18.128814Z",
     "iopub.status.busy": "2022-02-20T09:11:18.128028Z",
     "iopub.status.idle": "2022-02-20T09:11:18.148080Z",
     "shell.execute_reply": "2022-02-20T09:11:18.148621Z",
     "shell.execute_reply.started": "2022-02-20T06:18:20.12002Z"
    },
    "papermill": {
     "duration": 0.118845,
     "end_time": "2022-02-20T09:11:18.148822",
     "exception": false,
     "start_time": "2022-02-20T09:11:18.029977",
     "status": "completed"
    },
    "tags": []
   },
   "outputs": [
    {
     "name": "stdout",
     "output_type": "stream",
     "text": [
      "Index(['age', 'signup_flow', 'action', 'action_type', 'action_detail',\n",
      "       'secs_elapsed', 'date_account_created_day',\n",
      "       'date_account_created_month', 'date_account_created_year',\n",
      "       'timestamp_first_active_day',\n",
      "       ...\n",
      "       'Linux Desktop', 'Mac Desktop', 'Opera Phone', 'Tablet',\n",
      "       'Windows Desktop', 'Windows Phone', 'iPad Tablet', 'iPhone',\n",
      "       'iPodtouch', 'na'],\n",
      "      dtype='object', length=158)\n"
     ]
    },
    {
     "data": {
      "text/html": [
       "<div>\n",
       "<style scoped>\n",
       "    .dataframe tbody tr th:only-of-type {\n",
       "        vertical-align: middle;\n",
       "    }\n",
       "\n",
       "    .dataframe tbody tr th {\n",
       "        vertical-align: top;\n",
       "    }\n",
       "\n",
       "    .dataframe thead th {\n",
       "        text-align: right;\n",
       "    }\n",
       "</style>\n",
       "<table border=\"1\" class=\"dataframe\">\n",
       "  <thead>\n",
       "    <tr style=\"text-align: right;\">\n",
       "      <th></th>\n",
       "      <th>age</th>\n",
       "      <th>signup_flow</th>\n",
       "      <th>action</th>\n",
       "      <th>action_type</th>\n",
       "      <th>action_detail</th>\n",
       "      <th>secs_elapsed</th>\n",
       "      <th>date_account_created_day</th>\n",
       "      <th>date_account_created_month</th>\n",
       "      <th>date_account_created_year</th>\n",
       "      <th>timestamp_first_active_day</th>\n",
       "      <th>...</th>\n",
       "      <th>Linux Desktop</th>\n",
       "      <th>Mac Desktop</th>\n",
       "      <th>Opera Phone</th>\n",
       "      <th>Tablet</th>\n",
       "      <th>Windows Desktop</th>\n",
       "      <th>Windows Phone</th>\n",
       "      <th>iPad Tablet</th>\n",
       "      <th>iPhone</th>\n",
       "      <th>iPodtouch</th>\n",
       "      <th>na</th>\n",
       "    </tr>\n",
       "  </thead>\n",
       "  <tbody>\n",
       "    <tr>\n",
       "      <th>0</th>\n",
       "      <td>4</td>\n",
       "      <td>0</td>\n",
       "      <td>na</td>\n",
       "      <td>na</td>\n",
       "      <td>na</td>\n",
       "      <td>0.0</td>\n",
       "      <td>0</td>\n",
       "      <td>6</td>\n",
       "      <td>2010</td>\n",
       "      <td>3</td>\n",
       "      <td>...</td>\n",
       "      <td>0</td>\n",
       "      <td>0</td>\n",
       "      <td>0</td>\n",
       "      <td>0</td>\n",
       "      <td>0</td>\n",
       "      <td>0</td>\n",
       "      <td>0</td>\n",
       "      <td>0</td>\n",
       "      <td>0</td>\n",
       "      <td>1</td>\n",
       "    </tr>\n",
       "    <tr>\n",
       "      <th>1</th>\n",
       "      <td>5</td>\n",
       "      <td>0</td>\n",
       "      <td>na</td>\n",
       "      <td>na</td>\n",
       "      <td>na</td>\n",
       "      <td>0.0</td>\n",
       "      <td>2</td>\n",
       "      <td>5</td>\n",
       "      <td>2011</td>\n",
       "      <td>5</td>\n",
       "      <td>...</td>\n",
       "      <td>0</td>\n",
       "      <td>0</td>\n",
       "      <td>0</td>\n",
       "      <td>0</td>\n",
       "      <td>0</td>\n",
       "      <td>0</td>\n",
       "      <td>0</td>\n",
       "      <td>0</td>\n",
       "      <td>0</td>\n",
       "      <td>1</td>\n",
       "    </tr>\n",
       "    <tr>\n",
       "      <th>2</th>\n",
       "      <td>9</td>\n",
       "      <td>3</td>\n",
       "      <td>na</td>\n",
       "      <td>na</td>\n",
       "      <td>na</td>\n",
       "      <td>0.0</td>\n",
       "      <td>1</td>\n",
       "      <td>9</td>\n",
       "      <td>2010</td>\n",
       "      <td>1</td>\n",
       "      <td>...</td>\n",
       "      <td>0</td>\n",
       "      <td>0</td>\n",
       "      <td>0</td>\n",
       "      <td>0</td>\n",
       "      <td>0</td>\n",
       "      <td>0</td>\n",
       "      <td>0</td>\n",
       "      <td>0</td>\n",
       "      <td>0</td>\n",
       "      <td>1</td>\n",
       "    </tr>\n",
       "    <tr>\n",
       "      <th>3</th>\n",
       "      <td>6</td>\n",
       "      <td>0</td>\n",
       "      <td>na</td>\n",
       "      <td>na</td>\n",
       "      <td>na</td>\n",
       "      <td>0.0</td>\n",
       "      <td>0</td>\n",
       "      <td>12</td>\n",
       "      <td>2011</td>\n",
       "      <td>5</td>\n",
       "      <td>...</td>\n",
       "      <td>0</td>\n",
       "      <td>0</td>\n",
       "      <td>0</td>\n",
       "      <td>0</td>\n",
       "      <td>0</td>\n",
       "      <td>0</td>\n",
       "      <td>0</td>\n",
       "      <td>0</td>\n",
       "      <td>0</td>\n",
       "      <td>1</td>\n",
       "    </tr>\n",
       "    <tr>\n",
       "      <th>4</th>\n",
       "      <td>6</td>\n",
       "      <td>0</td>\n",
       "      <td>na</td>\n",
       "      <td>na</td>\n",
       "      <td>na</td>\n",
       "      <td>0.0</td>\n",
       "      <td>1</td>\n",
       "      <td>9</td>\n",
       "      <td>2010</td>\n",
       "      <td>1</td>\n",
       "      <td>...</td>\n",
       "      <td>0</td>\n",
       "      <td>0</td>\n",
       "      <td>0</td>\n",
       "      <td>0</td>\n",
       "      <td>0</td>\n",
       "      <td>0</td>\n",
       "      <td>0</td>\n",
       "      <td>0</td>\n",
       "      <td>0</td>\n",
       "      <td>1</td>\n",
       "    </tr>\n",
       "  </tbody>\n",
       "</table>\n",
       "<p>5 rows × 158 columns</p>\n",
       "</div>"
      ],
      "text/plain": [
       "   age  signup_flow action action_type action_detail  secs_elapsed  \\\n",
       "0    4            0     na          na            na           0.0   \n",
       "1    5            0     na          na            na           0.0   \n",
       "2    9            3     na          na            na           0.0   \n",
       "3    6            0     na          na            na           0.0   \n",
       "4    6            0     na          na            na           0.0   \n",
       "\n",
       "   date_account_created_day  date_account_created_month  \\\n",
       "0                         0                           6   \n",
       "1                         2                           5   \n",
       "2                         1                           9   \n",
       "3                         0                          12   \n",
       "4                         1                           9   \n",
       "\n",
       "   date_account_created_year  timestamp_first_active_day  ...  Linux Desktop  \\\n",
       "0                       2010                           3  ...              0   \n",
       "1                       2011                           5  ...              0   \n",
       "2                       2010                           1  ...              0   \n",
       "3                       2011                           5  ...              0   \n",
       "4                       2010                           1  ...              0   \n",
       "\n",
       "   Mac Desktop  Opera Phone  Tablet  Windows Desktop  Windows Phone  \\\n",
       "0            0            0       0                0              0   \n",
       "1            0            0       0                0              0   \n",
       "2            0            0       0                0              0   \n",
       "3            0            0       0                0              0   \n",
       "4            0            0       0                0              0   \n",
       "\n",
       "   iPad Tablet  iPhone  iPodtouch  na  \n",
       "0            0       0          0   1  \n",
       "1            0       0          0   1  \n",
       "2            0       0          0   1  \n",
       "3            0       0          0   1  \n",
       "4            0       0          0   1  \n",
       "\n",
       "[5 rows x 158 columns]"
      ]
     },
     "execution_count": 57,
     "metadata": {},
     "output_type": "execute_result"
    }
   ],
   "source": [
    "print(train_merge.columns)\n",
    "\n",
    "train_merge.head()"
   ]
  },
  {
   "cell_type": "code",
   "execution_count": 58,
   "id": "416d29ac",
   "metadata": {
    "execution": {
     "iopub.execute_input": "2022-02-20T09:11:18.326523Z",
     "iopub.status.busy": "2022-02-20T09:11:18.325849Z",
     "iopub.status.idle": "2022-02-20T09:11:18.443881Z",
     "shell.execute_reply": "2022-02-20T09:11:18.444373Z",
     "shell.execute_reply.started": "2022-02-20T06:18:20.145478Z"
    },
    "papermill": {
     "duration": 0.208047,
     "end_time": "2022-02-20T09:11:18.444511",
     "exception": false,
     "start_time": "2022-02-20T09:11:18.236464",
     "status": "completed"
    },
    "tags": []
   },
   "outputs": [
    {
     "data": {
      "text/plain": [
       "age              0\n",
       "signup_flow      0\n",
       "action           0\n",
       "action_type      0\n",
       "action_detail    0\n",
       "                ..\n",
       "Windows Phone    0\n",
       "iPad Tablet      0\n",
       "iPhone           0\n",
       "iPodtouch        0\n",
       "na               0\n",
       "Length: 158, dtype: int64"
      ]
     },
     "execution_count": 58,
     "metadata": {},
     "output_type": "execute_result"
    }
   ],
   "source": [
    "train_merge.isnull().sum()"
   ]
  },
  {
   "cell_type": "code",
   "execution_count": 59,
   "id": "eea8a997",
   "metadata": {
    "execution": {
     "iopub.execute_input": "2022-02-20T09:11:18.628330Z",
     "iopub.status.busy": "2022-02-20T09:11:18.627593Z",
     "iopub.status.idle": "2022-02-20T09:11:18.676499Z",
     "shell.execute_reply": "2022-02-20T09:11:18.676953Z",
     "shell.execute_reply.started": "2022-02-20T06:32:51.752858Z"
    },
    "papermill": {
     "duration": 0.142825,
     "end_time": "2022-02-20T09:11:18.677099",
     "exception": false,
     "start_time": "2022-02-20T09:11:18.534274",
     "status": "completed"
    },
    "tags": []
   },
   "outputs": [
    {
     "data": {
      "text/plain": [
       "age              0\n",
       "signup_flow      0\n",
       "action           0\n",
       "action_type      0\n",
       "action_detail    0\n",
       "                ..\n",
       "Windows Phone    0\n",
       "iPad Tablet      0\n",
       "iPhone           0\n",
       "iPodtouch        0\n",
       "na               0\n",
       "Length: 158, dtype: int64"
      ]
     },
     "execution_count": 59,
     "metadata": {},
     "output_type": "execute_result"
    }
   ],
   "source": [
    "test_merge.isnull().sum()"
   ]
  },
  {
   "cell_type": "code",
   "execution_count": 60,
   "id": "938e6386",
   "metadata": {
    "execution": {
     "iopub.execute_input": "2022-02-20T09:11:18.855908Z",
     "iopub.status.busy": "2022-02-20T09:11:18.855110Z",
     "iopub.status.idle": "2022-02-20T09:11:18.858126Z",
     "shell.execute_reply": "2022-02-20T09:11:18.858533Z",
     "shell.execute_reply.started": "2022-02-20T06:32:48.578911Z"
    },
    "papermill": {
     "duration": 0.093824,
     "end_time": "2022-02-20T09:11:18.858661",
     "exception": false,
     "start_time": "2022-02-20T09:11:18.764837",
     "status": "completed"
    },
    "tags": []
   },
   "outputs": [
    {
     "data": {
      "text/plain": [
       "0         4\n",
       "1         5\n",
       "2         9\n",
       "3         6\n",
       "4         6\n",
       "         ..\n",
       "213446    4\n",
       "213447    4\n",
       "213448    4\n",
       "213449    4\n",
       "213450    4\n",
       "Name: age, Length: 213451, dtype: int64"
      ]
     },
     "execution_count": 60,
     "metadata": {},
     "output_type": "execute_result"
    }
   ],
   "source": [
    "train_merge.age"
   ]
  },
  {
   "cell_type": "markdown",
   "id": "7d51c93d",
   "metadata": {
    "papermill": {
     "duration": 0.098005,
     "end_time": "2022-02-20T09:11:19.040102",
     "exception": false,
     "start_time": "2022-02-20T09:11:18.942097",
     "status": "completed"
    },
    "tags": []
   },
   "source": [
    "## Tokenization and TF-IDF"
   ]
  },
  {
   "cell_type": "code",
   "execution_count": 61,
   "id": "ca250a13",
   "metadata": {
    "execution": {
     "iopub.execute_input": "2022-02-20T09:11:19.330613Z",
     "iopub.status.busy": "2022-02-20T09:11:19.329718Z",
     "iopub.status.idle": "2022-02-20T09:11:19.331703Z",
     "shell.execute_reply": "2022-02-20T09:11:19.332333Z",
     "shell.execute_reply.started": "2022-02-20T06:18:20.260777Z"
    },
    "papermill": {
     "duration": 0.162755,
     "end_time": "2022-02-20T09:11:19.332522",
     "exception": false,
     "start_time": "2022-02-20T09:11:19.169767",
     "status": "completed"
    },
    "tags": []
   },
   "outputs": [],
   "source": [
    "def tokens(x):\n",
    "    return x.split(',')"
   ]
  },
  {
   "cell_type": "code",
   "execution_count": 62,
   "id": "52cbb03a",
   "metadata": {
    "execution": {
     "iopub.execute_input": "2022-02-20T09:11:19.616387Z",
     "iopub.status.busy": "2022-02-20T09:11:19.615551Z",
     "iopub.status.idle": "2022-02-20T09:11:28.823042Z",
     "shell.execute_reply": "2022-02-20T09:11:28.822322Z",
     "shell.execute_reply.started": "2022-02-20T06:18:20.267312Z"
    },
    "papermill": {
     "duration": 9.352208,
     "end_time": "2022-02-20T09:11:28.823225",
     "exception": false,
     "start_time": "2022-02-20T09:11:19.471017",
     "status": "completed"
    },
    "tags": []
   },
   "outputs": [
    {
     "name": "stderr",
     "output_type": "stream",
     "text": [
      "/opt/conda/lib/python3.7/site-packages/sklearn/feature_extraction/text.py:484: UserWarning: The parameter 'token_pattern' will not be used since 'tokenizer' is not None'\n",
      "  warnings.warn(\"The parameter 'token_pattern' will not be used\"\n"
     ]
    },
    {
     "name": "stdout",
     "output_type": "stream",
     "text": [
      "(213451, 257)\n",
      "(62096, 257)\n"
     ]
    }
   ],
   "source": [
    "# TF-IDF for action\n",
    "\n",
    "vectorizer_action = TfidfVectorizer(min_df= 10, max_features = 5000, tokenizer= tokens)\n",
    "vectorizer_action.fit(train_merge[\"action\"].values)\n",
    "\n",
    "train_action_tfidf = vectorizer_action.transform(train_merge.action.values)\n",
    "test_action_tfidf = vectorizer_action.transform(test_merge[\"action\"].values)\n",
    "\n",
    "print(train_action_tfidf.shape)\n",
    "print(test_action_tfidf.shape)"
   ]
  },
  {
   "cell_type": "code",
   "execution_count": 63,
   "id": "2e36331d",
   "metadata": {
    "execution": {
     "iopub.execute_input": "2022-02-20T09:11:29.067181Z",
     "iopub.status.busy": "2022-02-20T09:11:29.057694Z",
     "iopub.status.idle": "2022-02-20T09:11:37.488877Z",
     "shell.execute_reply": "2022-02-20T09:11:37.489704Z",
     "shell.execute_reply.started": "2022-02-20T06:18:28.298032Z"
    },
    "papermill": {
     "duration": 8.56867,
     "end_time": "2022-02-20T09:11:37.489919",
     "exception": false,
     "start_time": "2022-02-20T09:11:28.921249",
     "status": "completed"
    },
    "tags": []
   },
   "outputs": [
    {
     "name": "stdout",
     "output_type": "stream",
     "text": [
      "(213451, 10)\n",
      "(62096, 10)\n"
     ]
    }
   ],
   "source": [
    "# TF-IDF for action type\n",
    "\n",
    "vectorizer_action_type =TfidfVectorizer(min_df = 10, max_features= 5000, tokenizer= tokens)\n",
    "vectorizer_action_type.fit(train_merge[\"action_type\"].values)\n",
    "\n",
    "train_action_type_tfidf = vectorizer_action_type.transform(train_merge[\"action_type\"].values)\n",
    "test_action_type_tfidf = vectorizer_action_type.transform(test_merge[\"action_type\"].values)\n",
    "\n",
    "print(train_action_type_tfidf.shape)\n",
    "print(test_action_type_tfidf.shape)\n"
   ]
  },
  {
   "cell_type": "code",
   "execution_count": 64,
   "id": "e0947760",
   "metadata": {
    "execution": {
     "iopub.execute_input": "2022-02-20T09:11:37.704119Z",
     "iopub.status.busy": "2022-02-20T09:11:37.688853Z",
     "iopub.status.idle": "2022-02-20T09:11:46.601551Z",
     "shell.execute_reply": "2022-02-20T09:11:46.600952Z",
     "shell.execute_reply.started": "2022-02-20T06:18:35.276478Z"
    },
    "papermill": {
     "duration": 9.026284,
     "end_time": "2022-02-20T09:11:46.601717",
     "exception": false,
     "start_time": "2022-02-20T09:11:37.575433",
     "status": "completed"
    },
    "tags": []
   },
   "outputs": [
    {
     "name": "stdout",
     "output_type": "stream",
     "text": [
      "(213451, 123)\n",
      "(62096, 123)\n"
     ]
    }
   ],
   "source": [
    "# TF-IDF for action type\n",
    "\n",
    "vectorizer_action_detail =TfidfVectorizer(min_df = 10, max_features= 5000, tokenizer= tokens)\n",
    "vectorizer_action_detail.fit(train_merge[\"action_detail\"].values)\n",
    "\n",
    "train_action_detail_tfidf = vectorizer_action_detail.transform(train_merge[\"action_detail\"].values)\n",
    "test_action_detail_tfidf = vectorizer_action_detail.transform(test_merge[\"action_detail\"].values)\n",
    "\n",
    "print(train_action_detail_tfidf.shape)\n",
    "print(test_action_detail_tfidf.shape)\n"
   ]
  },
  {
   "cell_type": "code",
   "execution_count": 65,
   "id": "4abda546",
   "metadata": {
    "execution": {
     "iopub.execute_input": "2022-02-20T09:11:46.801401Z",
     "iopub.status.busy": "2022-02-20T09:11:46.799917Z",
     "iopub.status.idle": "2022-02-20T09:11:46.836114Z",
     "shell.execute_reply": "2022-02-20T09:11:46.835549Z",
     "shell.execute_reply.started": "2022-02-20T06:18:43.295706Z"
    },
    "papermill": {
     "duration": 0.147643,
     "end_time": "2022-02-20T09:11:46.836265",
     "exception": false,
     "start_time": "2022-02-20T09:11:46.688622",
     "status": "completed"
    },
    "tags": []
   },
   "outputs": [],
   "source": [
    "# drop columns\n",
    "\n",
    "train_merge.drop(['action','action_type','action_detail'],axis=1,inplace = True)\n",
    "\n",
    "test_merge.drop(['action','action_type','action_detail'],axis=1,inplace = True)"
   ]
  },
  {
   "cell_type": "code",
   "execution_count": 66,
   "id": "a2e60fd4",
   "metadata": {
    "execution": {
     "iopub.execute_input": "2022-02-20T09:11:47.041405Z",
     "iopub.status.busy": "2022-02-20T09:11:47.040693Z",
     "iopub.status.idle": "2022-02-20T09:11:47.043951Z",
     "shell.execute_reply": "2022-02-20T09:11:47.044407Z",
     "shell.execute_reply.started": "2022-02-20T06:18:43.363986Z"
    },
    "papermill": {
     "duration": 0.110258,
     "end_time": "2022-02-20T09:11:47.044549",
     "exception": false,
     "start_time": "2022-02-20T09:11:46.934291",
     "status": "completed"
    },
    "tags": []
   },
   "outputs": [
    {
     "data": {
      "text/plain": [
       "['age',\n",
       " 'signup_flow',\n",
       " 'secs_elapsed',\n",
       " 'date_account_created_day',\n",
       " 'date_account_created_month',\n",
       " 'date_account_created_year',\n",
       " 'timestamp_first_active_day',\n",
       " 'timestamp_first_active_month',\n",
       " 'timestamp_first_active_year',\n",
       " 'timestamp_first_active_hour',\n",
       " 'gender_-unknown-',\n",
       " 'gender_FEMALE',\n",
       " 'gender_MALE',\n",
       " 'gender_OTHER',\n",
       " 'signup_method_basic',\n",
       " 'signup_method_facebook',\n",
       " 'signup_method_google',\n",
       " 'language_ca',\n",
       " 'language_cs',\n",
       " 'language_da',\n",
       " 'language_de',\n",
       " 'language_el',\n",
       " 'language_en',\n",
       " 'language_es',\n",
       " 'language_fi',\n",
       " 'language_fr',\n",
       " 'language_hr',\n",
       " 'language_hu',\n",
       " 'language_id',\n",
       " 'language_is',\n",
       " 'language_it',\n",
       " 'language_ja',\n",
       " 'language_ko',\n",
       " 'language_nl',\n",
       " 'language_no',\n",
       " 'language_pl',\n",
       " 'language_pt',\n",
       " 'language_ru',\n",
       " 'language_sv',\n",
       " 'language_th',\n",
       " 'language_tr',\n",
       " 'language_zh',\n",
       " 'affiliate_channel_api',\n",
       " 'affiliate_channel_content',\n",
       " 'affiliate_channel_direct',\n",
       " 'affiliate_channel_other',\n",
       " 'affiliate_channel_remarketing',\n",
       " 'affiliate_channel_sem-brand',\n",
       " 'affiliate_channel_sem-non-brand',\n",
       " 'affiliate_channel_seo',\n",
       " 'affiliate_provider_baidu',\n",
       " 'affiliate_provider_bing',\n",
       " 'affiliate_provider_craigslist',\n",
       " 'affiliate_provider_daum',\n",
       " 'affiliate_provider_direct',\n",
       " 'affiliate_provider_email-marketing',\n",
       " 'affiliate_provider_facebook',\n",
       " 'affiliate_provider_facebook-open-graph',\n",
       " 'affiliate_provider_google',\n",
       " 'affiliate_provider_gsp',\n",
       " 'affiliate_provider_meetup',\n",
       " 'affiliate_provider_naver',\n",
       " 'affiliate_provider_other',\n",
       " 'affiliate_provider_padmapper',\n",
       " 'affiliate_provider_vast',\n",
       " 'affiliate_provider_wayn',\n",
       " 'affiliate_provider_yahoo',\n",
       " 'affiliate_provider_yandex',\n",
       " 'first_affiliate_tracked_linked',\n",
       " 'first_affiliate_tracked_local ops',\n",
       " 'first_affiliate_tracked_marketing',\n",
       " 'first_affiliate_tracked_omg',\n",
       " 'first_affiliate_tracked_product',\n",
       " 'first_affiliate_tracked_tracked-other',\n",
       " 'first_affiliate_tracked_untracked',\n",
       " 'signup_app_Android',\n",
       " 'signup_app_Moweb',\n",
       " 'signup_app_Web',\n",
       " 'signup_app_iOS',\n",
       " 'first_device_type_Android Phone',\n",
       " 'first_device_type_Android Tablet',\n",
       " 'first_device_type_Desktop (Other)',\n",
       " 'first_device_type_Mac Desktop',\n",
       " 'first_device_type_Other/Unknown',\n",
       " 'first_device_type_SmartPhone (Other)',\n",
       " 'first_device_type_Windows Desktop',\n",
       " 'first_device_type_iPad',\n",
       " 'first_device_type_iPhone',\n",
       " 'first_browser_-unknown-',\n",
       " 'first_browser_AOL Explorer',\n",
       " 'first_browser_Android Browser',\n",
       " 'first_browser_Apple Mail',\n",
       " 'first_browser_Arora',\n",
       " 'first_browser_Avant Browser',\n",
       " 'first_browser_BlackBerry Browser',\n",
       " 'first_browser_Camino',\n",
       " 'first_browser_Chrome',\n",
       " 'first_browser_Chrome Mobile',\n",
       " 'first_browser_Chromium',\n",
       " 'first_browser_CometBird',\n",
       " 'first_browser_Comodo Dragon',\n",
       " 'first_browser_Conkeror',\n",
       " 'first_browser_CoolNovo',\n",
       " 'first_browser_Crazy Browser',\n",
       " 'first_browser_Epic',\n",
       " 'first_browser_Firefox',\n",
       " 'first_browser_Flock',\n",
       " 'first_browser_Google Earth',\n",
       " 'first_browser_Googlebot',\n",
       " 'first_browser_IE',\n",
       " 'first_browser_IE Mobile',\n",
       " 'first_browser_IceDragon',\n",
       " 'first_browser_IceWeasel',\n",
       " 'first_browser_Iron',\n",
       " 'first_browser_Kindle Browser',\n",
       " 'first_browser_Maxthon',\n",
       " 'first_browser_Mobile Firefox',\n",
       " 'first_browser_Mobile Safari',\n",
       " 'first_browser_Mozilla',\n",
       " 'first_browser_NetNewsWire',\n",
       " 'first_browser_OmniWeb',\n",
       " 'first_browser_Opera',\n",
       " 'first_browser_Opera Mini',\n",
       " 'first_browser_Opera Mobile',\n",
       " 'first_browser_Outlook 2007',\n",
       " 'first_browser_PS Vita browser',\n",
       " 'first_browser_Pale Moon',\n",
       " 'first_browser_Palm Pre web browser',\n",
       " 'first_browser_RockMelt',\n",
       " 'first_browser_Safari',\n",
       " 'first_browser_SeaMonkey',\n",
       " 'first_browser_Silk',\n",
       " 'first_browser_SiteKiosk',\n",
       " 'first_browser_SlimBrowser',\n",
       " 'first_browser_Sogou Explorer',\n",
       " 'first_browser_Stainless',\n",
       " 'first_browser_TenFourFox',\n",
       " 'first_browser_TheWorld Browser',\n",
       " 'first_browser_Yandex.Browser',\n",
       " 'first_browser_wOSBrowser',\n",
       " '-unknown-',\n",
       " 'Android App Unknown Phone/Tablet',\n",
       " 'Android Phone',\n",
       " 'Blackberry',\n",
       " 'Chromebook',\n",
       " 'Linux Desktop',\n",
       " 'Mac Desktop',\n",
       " 'Opera Phone',\n",
       " 'Tablet',\n",
       " 'Windows Desktop',\n",
       " 'Windows Phone',\n",
       " 'iPad Tablet',\n",
       " 'iPhone',\n",
       " 'iPodtouch',\n",
       " 'na']"
      ]
     },
     "execution_count": 66,
     "metadata": {},
     "output_type": "execute_result"
    }
   ],
   "source": [
    "col_lst = [i for i in train_merge.columns]\n",
    "\n",
    "col_lst"
   ]
  },
  {
   "cell_type": "markdown",
   "id": "a62298e9",
   "metadata": {
    "papermill": {
     "duration": 0.08575,
     "end_time": "2022-02-20T09:11:47.227272",
     "exception": false,
     "start_time": "2022-02-20T09:11:47.141522",
     "status": "completed"
    },
    "tags": []
   },
   "source": [
    "### Data Stacking\n",
    "\n",
    "What is stacking?\n",
    "        A stack is a linear data structure that stores items in a Last-In/First-Out (LIFO) or First-In/Last-Out (FILO) manner. In stack, a new element is added at one end and an element is removed from that end only. The insert and delete operations are often called push and pop.\n",
    "\n",
    ">hstack() function is used to stack the sequence of input arrays horizontally (i.e. column wise) to make a single array"
   ]
  },
  {
   "cell_type": "code",
   "execution_count": 67,
   "id": "d24d922e",
   "metadata": {
    "execution": {
     "iopub.execute_input": "2022-02-20T09:11:47.406241Z",
     "iopub.status.busy": "2022-02-20T09:11:47.405246Z",
     "iopub.status.idle": "2022-02-20T09:11:51.657062Z",
     "shell.execute_reply": "2022-02-20T09:11:51.657476Z",
     "shell.execute_reply.started": "2022-02-20T06:33:08.738836Z"
    },
    "papermill": {
     "duration": 4.343353,
     "end_time": "2022-02-20T09:11:51.657640",
     "exception": false,
     "start_time": "2022-02-20T09:11:47.314287",
     "status": "completed"
    },
    "tags": []
   },
   "outputs": [],
   "source": [
    "train_merge_tfidf = hstack((train_merge, train_action_tfidf,train_action_type_tfidf, train_action_detail_tfidf)).tocsr()\n",
    "test_merge_tfidf = hstack((test_merge, test_action_tfidf,test_action_type_tfidf, test_action_detail_tfidf)).tocsr()\n"
   ]
  },
  {
   "cell_type": "code",
   "execution_count": 68,
   "id": "51efbf42",
   "metadata": {
    "execution": {
     "iopub.execute_input": "2022-02-20T09:11:51.840686Z",
     "iopub.status.busy": "2022-02-20T09:11:51.839971Z",
     "iopub.status.idle": "2022-02-20T09:11:51.842911Z",
     "shell.execute_reply": "2022-02-20T09:11:51.843340Z",
     "shell.execute_reply.started": "2022-02-20T06:33:16.998129Z"
    },
    "papermill": {
     "duration": 0.098772,
     "end_time": "2022-02-20T09:11:51.843477",
     "exception": false,
     "start_time": "2022-02-20T09:11:51.744705",
     "status": "completed"
    },
    "tags": []
   },
   "outputs": [
    {
     "data": {
      "text/plain": [
       "(62096, 545)"
      ]
     },
     "execution_count": 68,
     "metadata": {},
     "output_type": "execute_result"
    }
   ],
   "source": [
    "test_merge_tfidf.get_shape()"
   ]
  },
  {
   "cell_type": "markdown",
   "id": "c1ad4825",
   "metadata": {
    "papermill": {
     "duration": 0.099268,
     "end_time": "2022-02-20T09:11:52.036468",
     "exception": false,
     "start_time": "2022-02-20T09:11:51.937200",
     "status": "completed"
    },
    "tags": []
   },
   "source": [
    "# Training"
   ]
  },
  {
   "cell_type": "code",
   "execution_count": 69,
   "id": "dda767a4",
   "metadata": {
    "execution": {
     "iopub.execute_input": "2022-02-20T09:11:52.335348Z",
     "iopub.status.busy": "2022-02-20T09:11:52.323712Z",
     "iopub.status.idle": "2022-02-20T09:11:52.406333Z",
     "shell.execute_reply": "2022-02-20T09:11:52.407237Z",
     "shell.execute_reply.started": "2022-02-20T06:18:45.56339Z"
    },
    "papermill": {
     "duration": 0.258697,
     "end_time": "2022-02-20T09:11:52.407445",
     "exception": false,
     "start_time": "2022-02-20T09:11:52.148748",
     "status": "completed"
    },
    "tags": []
   },
   "outputs": [],
   "source": [
    "le = LabelEncoder()\n",
    "\n",
    "y = le.fit_transform(y)"
   ]
  },
  {
   "cell_type": "code",
   "execution_count": 70,
   "id": "44aa1b8d",
   "metadata": {
    "execution": {
     "iopub.execute_input": "2022-02-20T09:11:52.692141Z",
     "iopub.status.busy": "2022-02-20T09:11:52.691369Z",
     "iopub.status.idle": "2022-02-20T09:11:52.693489Z",
     "shell.execute_reply": "2022-02-20T09:11:52.693926Z",
     "shell.execute_reply.started": "2022-02-20T06:18:45.594124Z"
    },
    "papermill": {
     "duration": 0.145381,
     "end_time": "2022-02-20T09:11:52.694065",
     "exception": false,
     "start_time": "2022-02-20T09:11:52.548684",
     "status": "completed"
    },
    "tags": []
   },
   "outputs": [],
   "source": [
    "# https://www.kaggle.com/davidgasquez/ndcg-scorer\n",
    "\n",
    "def dcg_score(y_true, y_score, k=5):\n",
    "    \n",
    "    \"\"\"Discounted cumulative gain (DCG) at rank K.\n",
    "\n",
    "    Parameters\n",
    "    ----------\n",
    "    y_true : array, shape = [n_samples]\n",
    "        Ground truth (true relevance labels).\n",
    "    y_score : array, shape = [n_samples, n_classes]\n",
    "        Predicted scores.\n",
    "    k : int\n",
    "        Rank.\n",
    "\n",
    "    Returns\n",
    "    -------\n",
    "    score : float\n",
    "    \"\"\"\n",
    "    \n",
    "    order = np.argsort(y_score)[::-1]\n",
    "    y_true = np.take(y_true, order[:k])\n",
    "\n",
    "    gain = 2 ** y_true - 1\n",
    "\n",
    "    discounts = np.log2(np.arange(len(y_true)) + 2)\n",
    "    return np.sum(gain / discounts)\n",
    "\n",
    "\n",
    "def ndcg_score(ground_truth, predictions, k=5):\n",
    "    \n",
    "    \"\"\"Normalized discounted cumulative gain (NDCG) at rank K.\n",
    "\n",
    "    Normalized Discounted Cumulative Gain (NDCG) measures the performance of a\n",
    "    recommendation system based on the graded relevance of the recommended\n",
    "    entities. It varies from 0.0 to 1.0, with 1.0 representing the ideal\n",
    "    ranking of the entities.\n",
    "\n",
    "    Parameters\n",
    "    ----------\n",
    "    ground_truth : array, shape = [n_samples]\n",
    "        Ground truth (true labels represended as integers).\n",
    "    predictions : array, shape = [n_samples, n_classes]\n",
    "        Predicted probabilities.\n",
    "    k : int\n",
    "        Rank.\n",
    "\n",
    "    Returns\n",
    "    -------\n",
    "    score : float\n",
    "\n",
    "    Example\n",
    "    -------\n",
    "    >>> ground_truth = [1, 0, 2]\n",
    "    >>> predictions = [[0.15, 0.55, 0.2], [0.7, 0.2, 0.1], [0.06, 0.04, 0.9]]\n",
    "    >>> score = ndcg_score(ground_truth, predictions, k=2)\n",
    "    1.0\n",
    "    >>> predictions = [[0.9, 0.5, 0.8], [0.7, 0.2, 0.1], [0.06, 0.04, 0.9]]\n",
    "    >>> score = ndcg_score(ground_truth, predictions, k=2)\n",
    "    0.6666666666\n",
    "    \"\"\"\n",
    "    \n",
    "    lb = LabelBinarizer()\n",
    "    lb.fit(range(predictions.shape[1] + 1))\n",
    "    T = lb.transform(ground_truth)\n",
    "\n",
    "    scores = []\n",
    "\n",
    "    # Iterate over each y_true and compute the DCG score\n",
    "    for y_true, y_score in zip(T, predictions):\n",
    "        actual = dcg_score(y_true, y_score, k)\n",
    "        best = dcg_score(y_true, y_true, k)\n",
    "        score = float(actual) / float(best)\n",
    "        scores.append(score)\n",
    "\n",
    "    return np.mean(scores)\n",
    "\n",
    "\n",
    "# NDCG Scorer function\n",
    "ndcg_scorer = make_scorer(ndcg_score, needs_proba=True, k=5)"
   ]
  },
  {
   "cell_type": "code",
   "execution_count": 71,
   "id": "55a6720f",
   "metadata": {
    "execution": {
     "iopub.execute_input": "2022-02-20T09:11:52.876729Z",
     "iopub.status.busy": "2022-02-20T09:11:52.875825Z",
     "iopub.status.idle": "2022-02-20T09:11:52.877617Z",
     "shell.execute_reply": "2022-02-20T09:11:52.878183Z",
     "shell.execute_reply.started": "2022-02-20T06:18:45.606831Z"
    },
    "papermill": {
     "duration": 0.098251,
     "end_time": "2022-02-20T09:11:52.878321",
     "exception": false,
     "start_time": "2022-02-20T09:11:52.780070",
     "status": "completed"
    },
    "tags": []
   },
   "outputs": [],
   "source": [
    "# param_grid = {\n",
    "# 'max_depth': sp_randint(3, 20),\n",
    "# 'learning_rate': [0.001, 0.01, 0.1, 0.2],\n",
    "# 'subsample': [0.5, 0.6, 0.7, 0.8, 0.9, 1.0],\n",
    "# 'min_child_weight': [0.25,0.5, 1.0, 3.0, 5.0, 7.0],\n",
    "# 'gamma': [0, 0.25, 0.3,0.35,0.45,0.5,0.6,0.8,1.0],\n",
    "# 'reg_lambda': [0.1,0.2,0.4,0.5,0.6,0.8,1.0,10.0],\n",
    "# 'n_estimators':[100,200,500,1000,2000],\n",
    "# 'colsample_bytree':[0.1,0.3,0.5,1],\n",
    "# 'colsample_bylevel':[0.1,0.3,0.5,1]\n",
    "# }\n",
    "\n",
    "\n",
    "# gb = xgb.XGBClassifier(objective='multi:softmax',eval_metric= 'mlogloss')\n",
    "\n",
    "# clf = RandomizedSearchCV(gb, param_grid,n_jobs=-1,verbose=10,scoring=ndcg_scorer, random_state=42)"
   ]
  },
  {
   "cell_type": "code",
   "execution_count": 72,
   "id": "0b846127",
   "metadata": {
    "execution": {
     "iopub.execute_input": "2022-02-20T09:11:53.063965Z",
     "iopub.status.busy": "2022-02-20T09:11:53.063133Z",
     "iopub.status.idle": "2022-02-20T09:11:53.065578Z",
     "shell.execute_reply": "2022-02-20T09:11:53.065087Z",
     "shell.execute_reply.started": "2022-02-20T06:18:45.620138Z"
    },
    "papermill": {
     "duration": 0.096804,
     "end_time": "2022-02-20T09:11:53.065688",
     "exception": false,
     "start_time": "2022-02-20T09:11:52.968884",
     "status": "completed"
    },
    "tags": []
   },
   "outputs": [],
   "source": [
    "# clf.fit(train_merge_tfidf,y)"
   ]
  },
  {
   "cell_type": "markdown",
   "id": "94bd4439",
   "metadata": {},
   "source": [
    "## Model: XGBoost"
   ]
  },
  {
   "cell_type": "code",
   "execution_count": 73,
   "id": "cf5ad7be",
   "metadata": {
    "execution": {
     "iopub.execute_input": "2022-02-20T09:11:53.244576Z",
     "iopub.status.busy": "2022-02-20T09:11:53.244030Z",
     "iopub.status.idle": "2022-02-20T09:11:53.246775Z",
     "shell.execute_reply": "2022-02-20T09:11:53.246386Z",
     "shell.execute_reply.started": "2022-02-20T06:38:44.36602Z"
    },
    "papermill": {
     "duration": 0.094667,
     "end_time": "2022-02-20T09:11:53.246911",
     "exception": false,
     "start_time": "2022-02-20T09:11:53.152244",
     "status": "completed"
    },
    "tags": []
   },
   "outputs": [],
   "source": [
    "gb = xgb.XGBClassifier(base_score=0.5, booster='gbtree', colsample_bylevel=1,\n",
    "       colsample_bytree=1, eval_metric='mlogloss', gamma=0,\n",
    "       learning_rate=0.1, max_delta_step=0, max_depth=3,\n",
    "       min_child_weight=1, n_estimators=100, n_jobs=-1, objective='multi:softmax', random_state=0,\n",
    "                       reg_lambda=1, subsample=1)"
   ]
  },
  {
   "cell_type": "code",
   "execution_count": 74,
   "id": "daa72cd1",
   "metadata": {
    "execution": {
     "iopub.execute_input": "2022-02-20T09:11:53.423267Z",
     "iopub.status.busy": "2022-02-20T09:11:53.422585Z",
     "iopub.status.idle": "2022-02-20T09:11:53.425136Z",
     "shell.execute_reply": "2022-02-20T09:11:53.424691Z",
     "shell.execute_reply.started": "2022-02-20T06:38:46.250649Z"
    },
    "papermill": {
     "duration": 0.092091,
     "end_time": "2022-02-20T09:11:53.425251",
     "exception": false,
     "start_time": "2022-02-20T09:11:53.333160",
     "status": "completed"
    },
    "tags": []
   },
   "outputs": [],
   "source": [
    " X_train, X_test, y_train,y_test = train_test_split(train_merge_tfidf,y, test_size =0.25 , random_state = 42)"
   ]
  },
  {
   "cell_type": "code",
   "execution_count": 75,
   "id": "e3778308",
   "metadata": {
    "execution": {
     "iopub.execute_input": "2022-02-20T09:11:53.601467Z",
     "iopub.status.busy": "2022-02-20T09:11:53.600761Z",
     "iopub.status.idle": "2022-02-20T09:21:32.468813Z",
     "shell.execute_reply": "2022-02-20T09:21:32.469233Z",
     "shell.execute_reply.started": "2022-02-20T06:38:47.017792Z"
    },
    "papermill": {
     "duration": 578.95857,
     "end_time": "2022-02-20T09:21:32.469401",
     "exception": false,
     "start_time": "2022-02-20T09:11:53.510831",
     "status": "completed"
    },
    "tags": []
   },
   "outputs": [
    {
     "name": "stderr",
     "output_type": "stream",
     "text": [
      "/opt/conda/lib/python3.7/site-packages/xgboost/sklearn.py:1224: UserWarning: The use of label encoder in XGBClassifier is deprecated and will be removed in a future release. To remove this warning, do the following: 1) Pass option use_label_encoder=False when constructing XGBClassifier object; and 2) Encode your labels (y) as integers starting with 0, i.e. 0, 1, 2, ..., [num_class - 1].\n",
      "  warnings.warn(label_encoder_deprecation_msg, UserWarning)\n"
     ]
    },
    {
     "data": {
      "text/plain": [
       "XGBClassifier(base_score=0.5, booster='gbtree', colsample_bylevel=1,\n",
       "              colsample_bynode=1, colsample_bytree=1, enable_categorical=False,\n",
       "              eval_metric='mlogloss', gamma=0, gpu_id=-1, importance_type=None,\n",
       "              interaction_constraints='', learning_rate=0.1, max_delta_step=0,\n",
       "              max_depth=3, min_child_weight=1, missing=nan,\n",
       "              monotone_constraints='()', n_estimators=100, n_jobs=-1,\n",
       "              num_parallel_tree=1, objective='multi:softprob', predictor='auto',\n",
       "              random_state=0, reg_alpha=0, reg_lambda=1, scale_pos_weight=None,\n",
       "              subsample=1, tree_method='exact', validate_parameters=1,\n",
       "              verbosity=None)"
      ]
     },
     "execution_count": 75,
     "metadata": {},
     "output_type": "execute_result"
    }
   ],
   "source": [
    "gb.fit(train_merge_tfidf,y)"
   ]
  },
  {
   "cell_type": "code",
   "execution_count": 76,
   "id": "012677a5",
   "metadata": {
    "execution": {
     "iopub.execute_input": "2022-02-20T09:21:32.651487Z",
     "iopub.status.busy": "2022-02-20T09:21:32.650482Z",
     "iopub.status.idle": "2022-02-20T09:21:34.480742Z",
     "shell.execute_reply": "2022-02-20T09:21:34.481627Z",
     "shell.execute_reply.started": "2022-02-20T06:47:26.510689Z"
    },
    "papermill": {
     "duration": 1.92452,
     "end_time": "2022-02-20T09:21:34.481822",
     "exception": false,
     "start_time": "2022-02-20T09:21:32.557302",
     "status": "completed"
    },
    "tags": []
   },
   "outputs": [],
   "source": [
    "pred_y = gb.predict_proba(test_merge_tfidf)\n"
   ]
  },
  {
   "cell_type": "code",
   "execution_count": 77,
   "id": "dbb9c5e9",
   "metadata": {
    "execution": {
     "iopub.execute_input": "2022-02-20T09:21:34.667851Z",
     "iopub.status.busy": "2022-02-20T09:21:34.666668Z",
     "iopub.status.idle": "2022-02-20T09:21:34.670244Z",
     "shell.execute_reply": "2022-02-20T09:21:34.669821Z",
     "shell.execute_reply.started": "2022-02-20T06:47:32.204412Z"
    },
    "papermill": {
     "duration": 0.098841,
     "end_time": "2022-02-20T09:21:34.670357",
     "exception": false,
     "start_time": "2022-02-20T09:21:34.571516",
     "status": "completed"
    },
    "tags": []
   },
   "outputs": [
    {
     "data": {
      "text/plain": [
       "array([[0.00222672, 0.00259246, 0.002757  , ..., 0.00114729, 0.1921663 ,\n",
       "        0.02608925],\n",
       "       [0.00149392, 0.00210051, 0.001565  , ..., 0.00100459, 0.09370803,\n",
       "        0.01806295],\n",
       "       [0.00128553, 0.00429311, 0.00208586, ..., 0.00078386, 0.10270995,\n",
       "        0.02430188],\n",
       "       ...,\n",
       "       [0.0017581 , 0.00554607, 0.00473228, ..., 0.00105501, 0.09701517,\n",
       "        0.0293187 ],\n",
       "       [0.00144223, 0.00409297, 0.00203668, ..., 0.00086384, 0.10951518,\n",
       "        0.0211065 ],\n",
       "       [0.00239299, 0.00725465, 0.00825661, ..., 0.00155823, 0.34781465,\n",
       "        0.05438883]], dtype=float32)"
      ]
     },
     "execution_count": 77,
     "metadata": {},
     "output_type": "execute_result"
    }
   ],
   "source": [
    "pred_y\n"
   ]
  },
  {
   "cell_type": "code",
   "execution_count": 78,
   "id": "1063f202",
   "metadata": {
    "execution": {
     "iopub.execute_input": "2022-02-20T09:21:34.854073Z",
     "iopub.status.busy": "2022-02-20T09:21:34.853232Z",
     "iopub.status.idle": "2022-02-20T09:21:41.070942Z",
     "shell.execute_reply": "2022-02-20T09:21:41.069960Z",
     "shell.execute_reply.started": "2022-02-20T06:47:54.365056Z"
    },
    "papermill": {
     "duration": 6.3119,
     "end_time": "2022-02-20T09:21:41.071090",
     "exception": false,
     "start_time": "2022-02-20T09:21:34.759190",
     "status": "completed"
    },
    "tags": []
   },
   "outputs": [],
   "source": [
    "#Taking the 5 classes with highest probabilities\n",
    "ids = []  #list of ids\n",
    "cts = []  #list of countries\n",
    "for i in range(len(id_test)):\n",
    "    idx = id_test[i]\n",
    "    ids += [idx] * 5\n",
    "    cts += le.inverse_transform(np.argsort(pred_y[i])[::-1])[:5].tolist()"
   ]
  },
  {
   "cell_type": "markdown",
   "id": "6b2c24eb",
   "metadata": {},
   "source": [
    "## Result"
   ]
  },
  {
   "cell_type": "code",
   "execution_count": 79,
   "id": "7022b5cf",
   "metadata": {
    "execution": {
     "iopub.execute_input": "2022-02-20T09:21:41.288410Z",
     "iopub.status.busy": "2022-02-20T09:21:41.287644Z",
     "iopub.status.idle": "2022-02-20T09:21:41.980377Z",
     "shell.execute_reply": "2022-02-20T09:21:41.979779Z",
     "shell.execute_reply.started": "2022-02-20T06:48:02.177707Z"
    },
    "papermill": {
     "duration": 0.820056,
     "end_time": "2022-02-20T09:21:41.980525",
     "exception": false,
     "start_time": "2022-02-20T09:21:41.160469",
     "status": "completed"
    },
    "tags": []
   },
   "outputs": [],
   "source": [
    "#Generate submission\n",
    "sub = pd.DataFrame(np.column_stack((ids, cts)), columns=['id', 'country'])\n",
    "sub.to_csv('sub.csv',index=False)"
   ]
  },
  {
   "cell_type": "code",
   "execution_count": 80,
   "id": "5dca3cda",
   "metadata": {
    "execution": {
     "iopub.execute_input": "2022-02-20T09:21:42.173060Z",
     "iopub.status.busy": "2022-02-20T09:21:42.172398Z",
     "iopub.status.idle": "2022-02-20T09:21:42.175251Z",
     "shell.execute_reply": "2022-02-20T09:21:42.175651Z",
     "shell.execute_reply.started": "2022-02-20T06:49:36.574289Z"
    },
    "papermill": {
     "duration": 0.09979,
     "end_time": "2022-02-20T09:21:42.175783",
     "exception": false,
     "start_time": "2022-02-20T09:21:42.075993",
     "status": "completed"
    },
    "tags": []
   },
   "outputs": [
    {
     "data": {
      "text/html": [
       "<div>\n",
       "<style scoped>\n",
       "    .dataframe tbody tr th:only-of-type {\n",
       "        vertical-align: middle;\n",
       "    }\n",
       "\n",
       "    .dataframe tbody tr th {\n",
       "        vertical-align: top;\n",
       "    }\n",
       "\n",
       "    .dataframe thead th {\n",
       "        text-align: right;\n",
       "    }\n",
       "</style>\n",
       "<table border=\"1\" class=\"dataframe\">\n",
       "  <thead>\n",
       "    <tr style=\"text-align: right;\">\n",
       "      <th></th>\n",
       "      <th>id</th>\n",
       "      <th>country</th>\n",
       "    </tr>\n",
       "  </thead>\n",
       "  <tbody>\n",
       "    <tr>\n",
       "      <th>0</th>\n",
       "      <td>5uwns89zht</td>\n",
       "      <td>NDF</td>\n",
       "    </tr>\n",
       "    <tr>\n",
       "      <th>1</th>\n",
       "      <td>5uwns89zht</td>\n",
       "      <td>US</td>\n",
       "    </tr>\n",
       "    <tr>\n",
       "      <th>2</th>\n",
       "      <td>5uwns89zht</td>\n",
       "      <td>other</td>\n",
       "    </tr>\n",
       "    <tr>\n",
       "      <th>3</th>\n",
       "      <td>5uwns89zht</td>\n",
       "      <td>FR</td>\n",
       "    </tr>\n",
       "    <tr>\n",
       "      <th>4</th>\n",
       "      <td>5uwns89zht</td>\n",
       "      <td>ES</td>\n",
       "    </tr>\n",
       "    <tr>\n",
       "      <th>5</th>\n",
       "      <td>jtl0dijy2j</td>\n",
       "      <td>NDF</td>\n",
       "    </tr>\n",
       "    <tr>\n",
       "      <th>6</th>\n",
       "      <td>jtl0dijy2j</td>\n",
       "      <td>US</td>\n",
       "    </tr>\n",
       "    <tr>\n",
       "      <th>7</th>\n",
       "      <td>jtl0dijy2j</td>\n",
       "      <td>other</td>\n",
       "    </tr>\n",
       "    <tr>\n",
       "      <th>8</th>\n",
       "      <td>jtl0dijy2j</td>\n",
       "      <td>FR</td>\n",
       "    </tr>\n",
       "    <tr>\n",
       "      <th>9</th>\n",
       "      <td>jtl0dijy2j</td>\n",
       "      <td>IT</td>\n",
       "    </tr>\n",
       "    <tr>\n",
       "      <th>10</th>\n",
       "      <td>xx0ulgorjt</td>\n",
       "      <td>NDF</td>\n",
       "    </tr>\n",
       "    <tr>\n",
       "      <th>11</th>\n",
       "      <td>xx0ulgorjt</td>\n",
       "      <td>US</td>\n",
       "    </tr>\n",
       "    <tr>\n",
       "      <th>12</th>\n",
       "      <td>xx0ulgorjt</td>\n",
       "      <td>other</td>\n",
       "    </tr>\n",
       "    <tr>\n",
       "      <th>13</th>\n",
       "      <td>xx0ulgorjt</td>\n",
       "      <td>FR</td>\n",
       "    </tr>\n",
       "    <tr>\n",
       "      <th>14</th>\n",
       "      <td>xx0ulgorjt</td>\n",
       "      <td>IT</td>\n",
       "    </tr>\n",
       "    <tr>\n",
       "      <th>15</th>\n",
       "      <td>6c6puo6ix0</td>\n",
       "      <td>NDF</td>\n",
       "    </tr>\n",
       "    <tr>\n",
       "      <th>16</th>\n",
       "      <td>6c6puo6ix0</td>\n",
       "      <td>US</td>\n",
       "    </tr>\n",
       "    <tr>\n",
       "      <th>17</th>\n",
       "      <td>6c6puo6ix0</td>\n",
       "      <td>other</td>\n",
       "    </tr>\n",
       "    <tr>\n",
       "      <th>18</th>\n",
       "      <td>6c6puo6ix0</td>\n",
       "      <td>FR</td>\n",
       "    </tr>\n",
       "    <tr>\n",
       "      <th>19</th>\n",
       "      <td>6c6puo6ix0</td>\n",
       "      <td>IT</td>\n",
       "    </tr>\n",
       "  </tbody>\n",
       "</table>\n",
       "</div>"
      ],
      "text/plain": [
       "            id country\n",
       "0   5uwns89zht     NDF\n",
       "1   5uwns89zht      US\n",
       "2   5uwns89zht   other\n",
       "3   5uwns89zht      FR\n",
       "4   5uwns89zht      ES\n",
       "5   jtl0dijy2j     NDF\n",
       "6   jtl0dijy2j      US\n",
       "7   jtl0dijy2j   other\n",
       "8   jtl0dijy2j      FR\n",
       "9   jtl0dijy2j      IT\n",
       "10  xx0ulgorjt     NDF\n",
       "11  xx0ulgorjt      US\n",
       "12  xx0ulgorjt   other\n",
       "13  xx0ulgorjt      FR\n",
       "14  xx0ulgorjt      IT\n",
       "15  6c6puo6ix0     NDF\n",
       "16  6c6puo6ix0      US\n",
       "17  6c6puo6ix0   other\n",
       "18  6c6puo6ix0      FR\n",
       "19  6c6puo6ix0      IT"
      ]
     },
     "execution_count": 80,
     "metadata": {},
     "output_type": "execute_result"
    }
   ],
   "source": [
    "sub.head(20)"
   ]
  },
  {
   "cell_type": "code",
   "execution_count": null,
   "id": "9d90a0bb",
   "metadata": {
    "papermill": {
     "duration": 0.087225,
     "end_time": "2022-02-20T09:21:42.527207",
     "exception": false,
     "start_time": "2022-02-20T09:21:42.439982",
     "status": "completed"
    },
    "tags": []
   },
   "outputs": [],
   "source": []
  }
 ],
 "metadata": {
  "kernelspec": {
   "display_name": "Python 3 (ipykernel)",
   "language": "python",
   "name": "python3"
  },
  "language_info": {
   "codemirror_mode": {
    "name": "ipython",
    "version": 3
   },
   "file_extension": ".py",
   "mimetype": "text/x-python",
   "name": "python",
   "nbconvert_exporter": "python",
   "pygments_lexer": "ipython3",
   "version": "3.9.12"
  },
  "papermill": {
   "default_parameters": {},
   "duration": 757.545237,
   "end_time": "2022-02-20T09:21:44.228720",
   "environment_variables": {},
   "exception": null,
   "input_path": "__notebook__.ipynb",
   "output_path": "__notebook__.ipynb",
   "parameters": {},
   "start_time": "2022-02-20T09:09:06.683483",
   "version": "2.3.3"
  }
 },
 "nbformat": 4,
 "nbformat_minor": 5
}
