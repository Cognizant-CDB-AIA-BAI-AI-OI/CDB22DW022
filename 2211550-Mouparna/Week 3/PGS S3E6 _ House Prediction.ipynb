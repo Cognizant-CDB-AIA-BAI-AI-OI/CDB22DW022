{
 "cells": [
  {
   "cell_type": "code",
   "execution_count": 174,
   "id": "a8d1a827",
   "metadata": {},
   "outputs": [],
   "source": [
    "import numpy as np\n",
    "import pandas as pd\n",
    "import matplotlib.pyplot as plt\n",
    "import seaborn as sns\n",
    "%matplotlib inline\n",
    "\n",
    "#importing models\n",
    "from sklearn.model_selection import train_test_split\n",
    "from sklearn.linear_model import LogisticRegression\n",
    "from sklearn.tree import DecisionTreeRegressor\n",
    "from sklearn.ensemble import RandomForestClassifier\n",
    "from sklearn import model_selection\n",
    "from sklearn.decomposition import PCA\n",
    "\n",
    "#importing metrics\n",
    "from sklearn.model_selection import train_test_split, cross_val_score\n",
    "from sklearn.metrics import confusion_matrix, accuracy_score\n",
    "from sklearn.metrics import classification_report, f1_score, precision_score, recall_score"
   ]
  },
  {
   "cell_type": "code",
   "execution_count": 175,
   "id": "daf9f0c3",
   "metadata": {},
   "outputs": [],
   "source": [
    "df= pd.read_csv(\"C:\\\\Users\\\\2211550\\\\OneDrive - Cognizant\\\\Desktop\\\\Kaggle Assignments\\\\Week 3\\\\playground-series-s3e6\\\\train.csv\")"
   ]
  },
  {
   "cell_type": "code",
   "execution_count": 176,
   "id": "c5580a86",
   "metadata": {},
   "outputs": [
    {
     "data": {
      "text/html": [
       "<div>\n",
       "<style scoped>\n",
       "    .dataframe tbody tr th:only-of-type {\n",
       "        vertical-align: middle;\n",
       "    }\n",
       "\n",
       "    .dataframe tbody tr th {\n",
       "        vertical-align: top;\n",
       "    }\n",
       "\n",
       "    .dataframe thead th {\n",
       "        text-align: right;\n",
       "    }\n",
       "</style>\n",
       "<table border=\"1\" class=\"dataframe\">\n",
       "  <thead>\n",
       "    <tr style=\"text-align: right;\">\n",
       "      <th></th>\n",
       "      <th>id</th>\n",
       "      <th>squareMeters</th>\n",
       "      <th>numberOfRooms</th>\n",
       "      <th>hasYard</th>\n",
       "      <th>hasPool</th>\n",
       "      <th>floors</th>\n",
       "      <th>cityCode</th>\n",
       "      <th>cityPartRange</th>\n",
       "      <th>numPrevOwners</th>\n",
       "      <th>made</th>\n",
       "      <th>isNewBuilt</th>\n",
       "      <th>hasStormProtector</th>\n",
       "      <th>basement</th>\n",
       "      <th>attic</th>\n",
       "      <th>garage</th>\n",
       "      <th>hasStorageRoom</th>\n",
       "      <th>hasGuestRoom</th>\n",
       "      <th>price</th>\n",
       "    </tr>\n",
       "  </thead>\n",
       "  <tbody>\n",
       "    <tr>\n",
       "      <th>0</th>\n",
       "      <td>0</td>\n",
       "      <td>34291</td>\n",
       "      <td>24</td>\n",
       "      <td>1</td>\n",
       "      <td>0</td>\n",
       "      <td>47</td>\n",
       "      <td>35693</td>\n",
       "      <td>2</td>\n",
       "      <td>1</td>\n",
       "      <td>2000</td>\n",
       "      <td>0</td>\n",
       "      <td>1</td>\n",
       "      <td>8</td>\n",
       "      <td>5196</td>\n",
       "      <td>369</td>\n",
       "      <td>0</td>\n",
       "      <td>3</td>\n",
       "      <td>3436795.2</td>\n",
       "    </tr>\n",
       "    <tr>\n",
       "      <th>1</th>\n",
       "      <td>1</td>\n",
       "      <td>95145</td>\n",
       "      <td>60</td>\n",
       "      <td>0</td>\n",
       "      <td>1</td>\n",
       "      <td>60</td>\n",
       "      <td>34773</td>\n",
       "      <td>1</td>\n",
       "      <td>4</td>\n",
       "      <td>2000</td>\n",
       "      <td>0</td>\n",
       "      <td>1</td>\n",
       "      <td>729</td>\n",
       "      <td>4496</td>\n",
       "      <td>277</td>\n",
       "      <td>0</td>\n",
       "      <td>6</td>\n",
       "      <td>9519958.0</td>\n",
       "    </tr>\n",
       "    <tr>\n",
       "      <th>2</th>\n",
       "      <td>2</td>\n",
       "      <td>92661</td>\n",
       "      <td>45</td>\n",
       "      <td>1</td>\n",
       "      <td>1</td>\n",
       "      <td>62</td>\n",
       "      <td>45457</td>\n",
       "      <td>4</td>\n",
       "      <td>8</td>\n",
       "      <td>2020</td>\n",
       "      <td>1</td>\n",
       "      <td>1</td>\n",
       "      <td>7473</td>\n",
       "      <td>8953</td>\n",
       "      <td>245</td>\n",
       "      <td>1</td>\n",
       "      <td>9</td>\n",
       "      <td>9276448.1</td>\n",
       "    </tr>\n",
       "    <tr>\n",
       "      <th>3</th>\n",
       "      <td>3</td>\n",
       "      <td>97184</td>\n",
       "      <td>99</td>\n",
       "      <td>0</td>\n",
       "      <td>0</td>\n",
       "      <td>59</td>\n",
       "      <td>15113</td>\n",
       "      <td>1</td>\n",
       "      <td>1</td>\n",
       "      <td>2000</td>\n",
       "      <td>0</td>\n",
       "      <td>1</td>\n",
       "      <td>6424</td>\n",
       "      <td>8522</td>\n",
       "      <td>256</td>\n",
       "      <td>1</td>\n",
       "      <td>9</td>\n",
       "      <td>9725732.2</td>\n",
       "    </tr>\n",
       "    <tr>\n",
       "      <th>4</th>\n",
       "      <td>4</td>\n",
       "      <td>61752</td>\n",
       "      <td>100</td>\n",
       "      <td>0</td>\n",
       "      <td>0</td>\n",
       "      <td>57</td>\n",
       "      <td>64245</td>\n",
       "      <td>8</td>\n",
       "      <td>4</td>\n",
       "      <td>2018</td>\n",
       "      <td>1</td>\n",
       "      <td>0</td>\n",
       "      <td>7151</td>\n",
       "      <td>2786</td>\n",
       "      <td>863</td>\n",
       "      <td>0</td>\n",
       "      <td>7</td>\n",
       "      <td>6181908.8</td>\n",
       "    </tr>\n",
       "  </tbody>\n",
       "</table>\n",
       "</div>"
      ],
      "text/plain": [
       "   id  squareMeters  numberOfRooms  hasYard  hasPool  floors  cityCode  \\\n",
       "0   0         34291             24        1        0      47     35693   \n",
       "1   1         95145             60        0        1      60     34773   \n",
       "2   2         92661             45        1        1      62     45457   \n",
       "3   3         97184             99        0        0      59     15113   \n",
       "4   4         61752            100        0        0      57     64245   \n",
       "\n",
       "   cityPartRange  numPrevOwners  made  isNewBuilt  hasStormProtector  \\\n",
       "0              2              1  2000           0                  1   \n",
       "1              1              4  2000           0                  1   \n",
       "2              4              8  2020           1                  1   \n",
       "3              1              1  2000           0                  1   \n",
       "4              8              4  2018           1                  0   \n",
       "\n",
       "   basement  attic  garage  hasStorageRoom  hasGuestRoom      price  \n",
       "0         8   5196     369               0             3  3436795.2  \n",
       "1       729   4496     277               0             6  9519958.0  \n",
       "2      7473   8953     245               1             9  9276448.1  \n",
       "3      6424   8522     256               1             9  9725732.2  \n",
       "4      7151   2786     863               0             7  6181908.8  "
      ]
     },
     "execution_count": 176,
     "metadata": {},
     "output_type": "execute_result"
    }
   ],
   "source": [
    "df.head()"
   ]
  },
  {
   "cell_type": "markdown",
   "id": "65f8466a",
   "metadata": {},
   "source": [
    "## EDA (Exploratory Data Analysis)"
   ]
  },
  {
   "cell_type": "code",
   "execution_count": 177,
   "id": "47ab7fa1",
   "metadata": {},
   "outputs": [
    {
     "data": {
      "text/plain": [
       "(22730, 18)"
      ]
     },
     "execution_count": 177,
     "metadata": {},
     "output_type": "execute_result"
    }
   ],
   "source": [
    "df.shape"
   ]
  },
  {
   "cell_type": "code",
   "execution_count": 178,
   "id": "ecf53214",
   "metadata": {},
   "outputs": [
    {
     "name": "stdout",
     "output_type": "stream",
     "text": [
      "<class 'pandas.core.frame.DataFrame'>\n",
      "RangeIndex: 22730 entries, 0 to 22729\n",
      "Data columns (total 18 columns):\n",
      " #   Column             Non-Null Count  Dtype  \n",
      "---  ------             --------------  -----  \n",
      " 0   id                 22730 non-null  int64  \n",
      " 1   squareMeters       22730 non-null  int64  \n",
      " 2   numberOfRooms      22730 non-null  int64  \n",
      " 3   hasYard            22730 non-null  int64  \n",
      " 4   hasPool            22730 non-null  int64  \n",
      " 5   floors             22730 non-null  int64  \n",
      " 6   cityCode           22730 non-null  int64  \n",
      " 7   cityPartRange      22730 non-null  int64  \n",
      " 8   numPrevOwners      22730 non-null  int64  \n",
      " 9   made               22730 non-null  int64  \n",
      " 10  isNewBuilt         22730 non-null  int64  \n",
      " 11  hasStormProtector  22730 non-null  int64  \n",
      " 12  basement           22730 non-null  int64  \n",
      " 13  attic              22730 non-null  int64  \n",
      " 14  garage             22730 non-null  int64  \n",
      " 15  hasStorageRoom     22730 non-null  int64  \n",
      " 16  hasGuestRoom       22730 non-null  int64  \n",
      " 17  price              22730 non-null  float64\n",
      "dtypes: float64(1), int64(17)\n",
      "memory usage: 3.1 MB\n"
     ]
    }
   ],
   "source": [
    "df.info()"
   ]
  },
  {
   "cell_type": "code",
   "execution_count": 179,
   "id": "841c8567",
   "metadata": {},
   "outputs": [
    {
     "data": {
      "text/plain": [
       "id                   22730\n",
       "squareMeters          7319\n",
       "numberOfRooms          100\n",
       "hasYard                  2\n",
       "hasPool                  2\n",
       "floors                 101\n",
       "cityCode              7810\n",
       "cityPartRange           10\n",
       "numPrevOwners           10\n",
       "made                    33\n",
       "isNewBuilt               2\n",
       "hasStormProtector        2\n",
       "basement              4903\n",
       "attic                 5167\n",
       "garage                 896\n",
       "hasStorageRoom           2\n",
       "hasGuestRoom            11\n",
       "price                 7421\n",
       "dtype: int64"
      ]
     },
     "execution_count": 179,
     "metadata": {},
     "output_type": "execute_result"
    }
   ],
   "source": [
    "df.nunique()"
   ]
  },
  {
   "cell_type": "code",
   "execution_count": 180,
   "id": "11d443ef",
   "metadata": {},
   "outputs": [
    {
     "data": {
      "text/plain": [
       "id                   0\n",
       "squareMeters         0\n",
       "numberOfRooms        0\n",
       "hasYard              0\n",
       "hasPool              0\n",
       "floors               0\n",
       "cityCode             0\n",
       "cityPartRange        0\n",
       "numPrevOwners        0\n",
       "made                 0\n",
       "isNewBuilt           0\n",
       "hasStormProtector    0\n",
       "basement             0\n",
       "attic                0\n",
       "garage               0\n",
       "hasStorageRoom       0\n",
       "hasGuestRoom         0\n",
       "price                0\n",
       "dtype: int64"
      ]
     },
     "execution_count": 180,
     "metadata": {},
     "output_type": "execute_result"
    }
   ],
   "source": [
    "df.isnull().sum()"
   ]
  },
  {
   "cell_type": "code",
   "execution_count": 181,
   "id": "6210e1fb",
   "metadata": {},
   "outputs": [
    {
     "data": {
      "text/html": [
       "<div>\n",
       "<style scoped>\n",
       "    .dataframe tbody tr th:only-of-type {\n",
       "        vertical-align: middle;\n",
       "    }\n",
       "\n",
       "    .dataframe tbody tr th {\n",
       "        vertical-align: top;\n",
       "    }\n",
       "\n",
       "    .dataframe thead th {\n",
       "        text-align: right;\n",
       "    }\n",
       "</style>\n",
       "<table border=\"1\" class=\"dataframe\">\n",
       "  <thead>\n",
       "    <tr style=\"text-align: right;\">\n",
       "      <th></th>\n",
       "      <th>count</th>\n",
       "      <th>mean</th>\n",
       "      <th>std</th>\n",
       "      <th>min</th>\n",
       "      <th>25%</th>\n",
       "      <th>50%</th>\n",
       "      <th>75%</th>\n",
       "      <th>max</th>\n",
       "    </tr>\n",
       "  </thead>\n",
       "  <tbody>\n",
       "    <tr>\n",
       "      <th>id</th>\n",
       "      <td>22730.0</td>\n",
       "      <td>1.136450e+04</td>\n",
       "      <td>6.561730e+03</td>\n",
       "      <td>0.0</td>\n",
       "      <td>5682.25</td>\n",
       "      <td>11364.5</td>\n",
       "      <td>17046.75</td>\n",
       "      <td>22729.0</td>\n",
       "    </tr>\n",
       "    <tr>\n",
       "      <th>squareMeters</th>\n",
       "      <td>22730.0</td>\n",
       "      <td>4.658622e+04</td>\n",
       "      <td>4.952124e+04</td>\n",
       "      <td>89.0</td>\n",
       "      <td>20392.75</td>\n",
       "      <td>44484.0</td>\n",
       "      <td>71547.00</td>\n",
       "      <td>6071330.0</td>\n",
       "    </tr>\n",
       "    <tr>\n",
       "      <th>numberOfRooms</th>\n",
       "      <td>22730.0</td>\n",
       "      <td>4.824109e+01</td>\n",
       "      <td>2.822643e+01</td>\n",
       "      <td>1.0</td>\n",
       "      <td>25.00</td>\n",
       "      <td>47.0</td>\n",
       "      <td>75.00</td>\n",
       "      <td>100.0</td>\n",
       "    </tr>\n",
       "    <tr>\n",
       "      <th>hasYard</th>\n",
       "      <td>22730.0</td>\n",
       "      <td>4.758909e-01</td>\n",
       "      <td>4.994294e-01</td>\n",
       "      <td>0.0</td>\n",
       "      <td>0.00</td>\n",
       "      <td>0.0</td>\n",
       "      <td>1.00</td>\n",
       "      <td>1.0</td>\n",
       "    </tr>\n",
       "    <tr>\n",
       "      <th>hasPool</th>\n",
       "      <td>22730.0</td>\n",
       "      <td>4.527497e-01</td>\n",
       "      <td>4.977733e-01</td>\n",
       "      <td>0.0</td>\n",
       "      <td>0.00</td>\n",
       "      <td>0.0</td>\n",
       "      <td>1.00</td>\n",
       "      <td>1.0</td>\n",
       "    </tr>\n",
       "    <tr>\n",
       "      <th>floors</th>\n",
       "      <td>22730.0</td>\n",
       "      <td>4.730598e+01</td>\n",
       "      <td>4.777721e+01</td>\n",
       "      <td>1.0</td>\n",
       "      <td>25.00</td>\n",
       "      <td>45.0</td>\n",
       "      <td>69.00</td>\n",
       "      <td>6000.0</td>\n",
       "    </tr>\n",
       "    <tr>\n",
       "      <th>cityCode</th>\n",
       "      <td>22730.0</td>\n",
       "      <td>5.001380e+04</td>\n",
       "      <td>3.000664e+04</td>\n",
       "      <td>3.0</td>\n",
       "      <td>22936.00</td>\n",
       "      <td>50414.0</td>\n",
       "      <td>76291.00</td>\n",
       "      <td>491100.0</td>\n",
       "    </tr>\n",
       "    <tr>\n",
       "      <th>cityPartRange</th>\n",
       "      <td>22730.0</td>\n",
       "      <td>5.585042e+00</td>\n",
       "      <td>2.739533e+00</td>\n",
       "      <td>1.0</td>\n",
       "      <td>3.00</td>\n",
       "      <td>6.0</td>\n",
       "      <td>8.00</td>\n",
       "      <td>10.0</td>\n",
       "    </tr>\n",
       "    <tr>\n",
       "      <th>numPrevOwners</th>\n",
       "      <td>22730.0</td>\n",
       "      <td>5.620766e+00</td>\n",
       "      <td>2.713026e+00</td>\n",
       "      <td>1.0</td>\n",
       "      <td>3.00</td>\n",
       "      <td>6.0</td>\n",
       "      <td>8.00</td>\n",
       "      <td>10.0</td>\n",
       "    </tr>\n",
       "    <tr>\n",
       "      <th>made</th>\n",
       "      <td>22730.0</td>\n",
       "      <td>2.008005e+03</td>\n",
       "      <td>1.188268e+02</td>\n",
       "      <td>1990.0</td>\n",
       "      <td>2000.00</td>\n",
       "      <td>2006.0</td>\n",
       "      <td>2014.00</td>\n",
       "      <td>10000.0</td>\n",
       "    </tr>\n",
       "    <tr>\n",
       "      <th>isNewBuilt</th>\n",
       "      <td>22730.0</td>\n",
       "      <td>4.679718e-01</td>\n",
       "      <td>4.989841e-01</td>\n",
       "      <td>0.0</td>\n",
       "      <td>0.00</td>\n",
       "      <td>0.0</td>\n",
       "      <td>1.00</td>\n",
       "      <td>1.0</td>\n",
       "    </tr>\n",
       "    <tr>\n",
       "      <th>hasStormProtector</th>\n",
       "      <td>22730.0</td>\n",
       "      <td>4.600088e-01</td>\n",
       "      <td>4.984091e-01</td>\n",
       "      <td>0.0</td>\n",
       "      <td>0.00</td>\n",
       "      <td>0.0</td>\n",
       "      <td>1.00</td>\n",
       "      <td>1.0</td>\n",
       "    </tr>\n",
       "    <tr>\n",
       "      <th>basement</th>\n",
       "      <td>22730.0</td>\n",
       "      <td>5.283647e+03</td>\n",
       "      <td>3.047084e+03</td>\n",
       "      <td>4.0</td>\n",
       "      <td>2977.25</td>\n",
       "      <td>5359.0</td>\n",
       "      <td>7746.00</td>\n",
       "      <td>91992.0</td>\n",
       "    </tr>\n",
       "    <tr>\n",
       "      <th>attic</th>\n",
       "      <td>22730.0</td>\n",
       "      <td>5.067982e+03</td>\n",
       "      <td>3.097348e+03</td>\n",
       "      <td>1.0</td>\n",
       "      <td>2599.00</td>\n",
       "      <td>4977.0</td>\n",
       "      <td>7652.00</td>\n",
       "      <td>96381.0</td>\n",
       "    </tr>\n",
       "    <tr>\n",
       "      <th>garage</th>\n",
       "      <td>22730.0</td>\n",
       "      <td>5.304696e+02</td>\n",
       "      <td>2.748406e+02</td>\n",
       "      <td>4.0</td>\n",
       "      <td>297.00</td>\n",
       "      <td>515.0</td>\n",
       "      <td>767.00</td>\n",
       "      <td>9017.0</td>\n",
       "    </tr>\n",
       "    <tr>\n",
       "      <th>hasStorageRoom</th>\n",
       "      <td>22730.0</td>\n",
       "      <td>4.616806e-01</td>\n",
       "      <td>4.985404e-01</td>\n",
       "      <td>0.0</td>\n",
       "      <td>0.00</td>\n",
       "      <td>0.0</td>\n",
       "      <td>1.00</td>\n",
       "      <td>1.0</td>\n",
       "    </tr>\n",
       "    <tr>\n",
       "      <th>hasGuestRoom</th>\n",
       "      <td>22730.0</td>\n",
       "      <td>5.153058e+00</td>\n",
       "      <td>3.055246e+00</td>\n",
       "      <td>0.0</td>\n",
       "      <td>3.00</td>\n",
       "      <td>5.0</td>\n",
       "      <td>8.00</td>\n",
       "      <td>10.0</td>\n",
       "    </tr>\n",
       "    <tr>\n",
       "      <th>price</th>\n",
       "      <td>22730.0</td>\n",
       "      <td>4.634457e+06</td>\n",
       "      <td>2.925163e+06</td>\n",
       "      <td>10313.5</td>\n",
       "      <td>2041739.10</td>\n",
       "      <td>4450823.4</td>\n",
       "      <td>7159919.50</td>\n",
       "      <td>10004278.3</td>\n",
       "    </tr>\n",
       "  </tbody>\n",
       "</table>\n",
       "</div>"
      ],
      "text/plain": [
       "                     count          mean           std      min         25%  \\\n",
       "id                 22730.0  1.136450e+04  6.561730e+03      0.0     5682.25   \n",
       "squareMeters       22730.0  4.658622e+04  4.952124e+04     89.0    20392.75   \n",
       "numberOfRooms      22730.0  4.824109e+01  2.822643e+01      1.0       25.00   \n",
       "hasYard            22730.0  4.758909e-01  4.994294e-01      0.0        0.00   \n",
       "hasPool            22730.0  4.527497e-01  4.977733e-01      0.0        0.00   \n",
       "floors             22730.0  4.730598e+01  4.777721e+01      1.0       25.00   \n",
       "cityCode           22730.0  5.001380e+04  3.000664e+04      3.0    22936.00   \n",
       "cityPartRange      22730.0  5.585042e+00  2.739533e+00      1.0        3.00   \n",
       "numPrevOwners      22730.0  5.620766e+00  2.713026e+00      1.0        3.00   \n",
       "made               22730.0  2.008005e+03  1.188268e+02   1990.0     2000.00   \n",
       "isNewBuilt         22730.0  4.679718e-01  4.989841e-01      0.0        0.00   \n",
       "hasStormProtector  22730.0  4.600088e-01  4.984091e-01      0.0        0.00   \n",
       "basement           22730.0  5.283647e+03  3.047084e+03      4.0     2977.25   \n",
       "attic              22730.0  5.067982e+03  3.097348e+03      1.0     2599.00   \n",
       "garage             22730.0  5.304696e+02  2.748406e+02      4.0      297.00   \n",
       "hasStorageRoom     22730.0  4.616806e-01  4.985404e-01      0.0        0.00   \n",
       "hasGuestRoom       22730.0  5.153058e+00  3.055246e+00      0.0        3.00   \n",
       "price              22730.0  4.634457e+06  2.925163e+06  10313.5  2041739.10   \n",
       "\n",
       "                         50%         75%         max  \n",
       "id                   11364.5    17046.75     22729.0  \n",
       "squareMeters         44484.0    71547.00   6071330.0  \n",
       "numberOfRooms           47.0       75.00       100.0  \n",
       "hasYard                  0.0        1.00         1.0  \n",
       "hasPool                  0.0        1.00         1.0  \n",
       "floors                  45.0       69.00      6000.0  \n",
       "cityCode             50414.0    76291.00    491100.0  \n",
       "cityPartRange            6.0        8.00        10.0  \n",
       "numPrevOwners            6.0        8.00        10.0  \n",
       "made                  2006.0     2014.00     10000.0  \n",
       "isNewBuilt               0.0        1.00         1.0  \n",
       "hasStormProtector        0.0        1.00         1.0  \n",
       "basement              5359.0     7746.00     91992.0  \n",
       "attic                 4977.0     7652.00     96381.0  \n",
       "garage                 515.0      767.00      9017.0  \n",
       "hasStorageRoom           0.0        1.00         1.0  \n",
       "hasGuestRoom             5.0        8.00        10.0  \n",
       "price              4450823.4  7159919.50  10004278.3  "
      ]
     },
     "execution_count": 181,
     "metadata": {},
     "output_type": "execute_result"
    }
   ],
   "source": [
    "df.describe().T"
   ]
  },
  {
   "cell_type": "code",
   "execution_count": 182,
   "id": "4aafd1e6",
   "metadata": {},
   "outputs": [
    {
     "data": {
      "text/plain": [
       "0        False\n",
       "1        False\n",
       "2        False\n",
       "3        False\n",
       "4        False\n",
       "         ...  \n",
       "22725    False\n",
       "22726    False\n",
       "22727    False\n",
       "22728    False\n",
       "22729    False\n",
       "Length: 22730, dtype: bool"
      ]
     },
     "execution_count": 182,
     "metadata": {},
     "output_type": "execute_result"
    }
   ],
   "source": [
    "df.duplicated()"
   ]
  },
  {
   "cell_type": "code",
   "execution_count": 183,
   "id": "127e1de4",
   "metadata": {},
   "outputs": [
    {
     "data": {
      "text/plain": [
       "<AxesSubplot:>"
      ]
     },
     "execution_count": 183,
     "metadata": {},
     "output_type": "execute_result"
    },
    {
     "data": {
      "image/png": "[encoded data removed]",
      "text/plain": [
       "<Figure size 432x288 with 2 Axes>"
      ]
     },
     "metadata": {
      "needs_background": "light"
     },
     "output_type": "display_data"
    }
   ],
   "source": [
    "corr=df.corr()\n",
    "sns.heatmap(corr)"
   ]
  },
  {
   "cell_type": "code",
   "execution_count": 184,
   "id": "303eff9e",
   "metadata": {},
   "outputs": [
    {
     "data": {
      "image/png": "[encoded data removed]",
      "text/plain": [
       "<Figure size 1080x720 with 2 Axes>"
      ]
     },
     "metadata": {
      "needs_background": "light"
     },
     "output_type": "display_data"
    }
   ],
   "source": [
    "# Set the figure size\n",
    "fig, ax = plt.subplots(figsize=(15, 10))\n",
    "\n",
    "# Create the heatmap using the seaborn library\n",
    "sns.heatmap(corr, annot=True, cmap='coolwarm')\n",
    "\n",
    "# Display the heatmap\n",
    "plt.show()"
   ]
  },
  {
   "cell_type": "code",
   "execution_count": 185,
   "id": "3e801c27",
   "metadata": {},
   "outputs": [],
   "source": [
    "dtypes=df.dtypes"
   ]
  },
  {
   "cell_type": "code",
   "execution_count": 186,
   "id": "df8fa9b4",
   "metadata": {},
   "outputs": [
    {
     "data": {
      "text/plain": [
       "id                     int64\n",
       "squareMeters           int64\n",
       "numberOfRooms          int64\n",
       "hasYard                int64\n",
       "hasPool                int64\n",
       "floors                 int64\n",
       "cityCode               int64\n",
       "cityPartRange          int64\n",
       "numPrevOwners          int64\n",
       "made                   int64\n",
       "isNewBuilt             int64\n",
       "hasStormProtector      int64\n",
       "basement               int64\n",
       "attic                  int64\n",
       "garage                 int64\n",
       "hasStorageRoom         int64\n",
       "hasGuestRoom           int64\n",
       "price                float64\n",
       "dtype: object"
      ]
     },
     "execution_count": 186,
     "metadata": {},
     "output_type": "execute_result"
    }
   ],
   "source": [
    "dtypes"
   ]
  },
  {
   "cell_type": "code",
   "execution_count": 187,
   "id": "60bd6b37",
   "metadata": {},
   "outputs": [],
   "source": [
    "df.drop([\"id\",\"cityCode\",\"made\"],axis=1,inplace=True)"
   ]
  },
  {
   "cell_type": "code",
   "execution_count": 188,
   "id": "5fed08e2",
   "metadata": {},
   "outputs": [
    {
     "name": "stdout",
     "output_type": "stream",
     "text": [
      "Categorical columns: []\n",
      "Numerical columns: ['id', 'squareMeters', 'numberOfRooms', 'hasYard', 'hasPool', 'floors', 'cityCode', 'cityPartRange', 'numPrevOwners', 'made', 'isNewBuilt', 'hasStormProtector', 'basement', 'attic', 'garage', 'hasStorageRoom', 'hasGuestRoom', 'price']\n"
     ]
    }
   ],
   "source": [
    "# Differentiate categorical and numerical columns\n",
    "cat_cols = []\n",
    "num_cols = []\n",
    "\n",
    "for col in dtypes.index:\n",
    "    if pd.api.types.is_object_dtype(dtypes[col]):\n",
    "        cat_cols.append(col)\n",
    "    else:\n",
    "        num_cols.append(col)\n",
    "\n",
    "# Print the result\n",
    "print('Categorical columns:', cat_cols)\n",
    "print('Numerical columns:', num_cols)"
   ]
  },
  {
   "cell_type": "markdown",
   "id": "80f8a72a",
   "metadata": {},
   "source": [
    "## Splitting the data"
   ]
  },
  {
   "cell_type": "code",
   "execution_count": 189,
   "id": "852364cd",
   "metadata": {},
   "outputs": [],
   "source": [
    "#Dependent and Independent variable\n",
    "X=df.drop(\"price\", axis=1)\n",
    "y=df[\"price\"]"
   ]
  },
  {
   "cell_type": "code",
   "execution_count": 190,
   "id": "0cf223c6",
   "metadata": {},
   "outputs": [
    {
     "name": "stdout",
     "output_type": "stream",
     "text": [
      "       squareMeters  numberOfRooms  hasYard  hasPool  floors  cityPartRange  \\\n",
      "0             34291             24        1        0      47              2   \n",
      "1             95145             60        0        1      60              1   \n",
      "2             92661             45        1        1      62              4   \n",
      "3             97184             99        0        0      59              1   \n",
      "4             61752            100        0        0      57              8   \n",
      "...             ...            ...      ...      ...     ...            ...   \n",
      "22725         55825             84        1        0      70              3   \n",
      "22726         65870             88        1        0      49              9   \n",
      "22727         93192             42        1        0      39             10   \n",
      "22728         65797             86        1        0      89              2   \n",
      "22729         82244             18        1        0      38              1   \n",
      "\n",
      "       numPrevOwners  isNewBuilt  hasStormProtector  basement  attic  garage  \\\n",
      "0                  1           0                  1         8   5196     369   \n",
      "1                  4           0                  1       729   4496     277   \n",
      "2                  8           1                  1      7473   8953     245   \n",
      "3                  1           0                  1      6424   8522     256   \n",
      "4                  4           1                  0      7151   2786     863   \n",
      "...              ...         ...                ...       ...    ...     ...   \n",
      "22725             10           0                  0      4477    786     345   \n",
      "22726              9           0                  1      4811   2454     755   \n",
      "22727              5           1                  0      5595   4072     789   \n",
      "22728             10           1                  0      5358   2513     411   \n",
      "22729              9           1                  0      6294   1291     572   \n",
      "\n",
      "       hasStorageRoom  hasGuestRoom  \n",
      "0                   0             3  \n",
      "1                   0             6  \n",
      "2                   1             9  \n",
      "3                   1             9  \n",
      "4                   0             7  \n",
      "...               ...           ...  \n",
      "22725               0             0  \n",
      "22726               0             7  \n",
      "22727               0             0  \n",
      "22728               0             0  \n",
      "22729               0             6  \n",
      "\n",
      "[22730 rows x 14 columns]\n"
     ]
    }
   ],
   "source": [
    "print(X)"
   ]
  },
  {
   "cell_type": "code",
   "execution_count": 191,
   "id": "050d786e",
   "metadata": {},
   "outputs": [
    {
     "name": "stdout",
     "output_type": "stream",
     "text": [
      "0        3436795.2\n",
      "1        9519958.0\n",
      "2        9276448.1\n",
      "3        9725732.2\n",
      "4        6181908.8\n",
      "           ...    \n",
      "22725    5594137.1\n",
      "22726    6594705.0\n",
      "22727    9321511.4\n",
      "22728    6584708.2\n",
      "22729    8231424.8\n",
      "Name: price, Length: 22730, dtype: float64\n"
     ]
    }
   ],
   "source": [
    "print(y)"
   ]
  },
  {
   "cell_type": "code",
   "execution_count": 192,
   "id": "e89cdf8a",
   "metadata": {},
   "outputs": [],
   "source": [
    "#Spliting the training and Testing data\n",
    "test_size = 0.25\n",
    "X_train, X_val, y_train, y_val = train_test_split(X, y, test_size = test_size, random_state = 20)"
   ]
  },
  {
   "cell_type": "code",
   "execution_count": 193,
   "id": "9ddb9c43",
   "metadata": {},
   "outputs": [
    {
     "name": "stdout",
     "output_type": "stream",
     "text": [
      "X_train shape (17047, 14), len 17047.\n",
      "X_val shape (5683, 14), len 5683.\n",
      "y_train shape (17047,), len 17047.\n",
      "y_val shape (5683,), len 5683.\n"
     ]
    }
   ],
   "source": [
    "#Printing the shape of training and Testing Data\n",
    "print(\"X_train shape {}, len {}.\".format(X_train.shape,len(X_train)))\n",
    "print(\"X_val shape {}, len {}.\".format(X_val.shape,len(X_val)))\n",
    "print(\"y_train shape {}, len {}.\".format(y_train.shape,len(y_train)))\n",
    "print(\"y_val shape {}, len {}.\".format(y_val.shape,len(y_val)))"
   ]
  },
  {
   "cell_type": "markdown",
   "id": "df29c595",
   "metadata": {},
   "source": [
    "## Model Building"
   ]
  },
  {
   "cell_type": "code",
   "execution_count": 194,
   "id": "54a7fcb8",
   "metadata": {},
   "outputs": [],
   "source": [
    "##Random Forest Regressor\n",
    "from sklearn.ensemble import RandomForestRegressor\n",
    "from sklearn.model_selection import GridSearchCV"
   ]
  },
  {
   "cell_type": "code",
   "execution_count": 195,
   "id": "db8fc07f",
   "metadata": {},
   "outputs": [],
   "source": [
    "rfr = RandomForestRegressor()"
   ]
  },
  {
   "cell_type": "code",
   "execution_count": 196,
   "id": "2c60829c",
   "metadata": {},
   "outputs": [],
   "source": [
    "rfr = rfr.fit(X_train, y_train)"
   ]
  },
  {
   "cell_type": "code",
   "execution_count": 197,
   "id": "b5c4d52f",
   "metadata": {},
   "outputs": [
    {
     "data": {
      "text/plain": [
       "array([6152521.09400001, 7885122.257     , 4435076.54499999,\n",
       "        250477.71      , 2747708.313     , 4872872.79399999,\n",
       "       4884933.44599999, 4881817.36299999, 5752848.774     ,\n",
       "       2060734.29      ])"
      ]
     },
     "execution_count": 197,
     "metadata": {},
     "output_type": "execute_result"
    }
   ],
   "source": [
    "y_train_preds = rfr.predict(X_train)\n",
    "y_train_preds[0:10]"
   ]
  },
  {
   "cell_type": "code",
   "execution_count": 198,
   "id": "2cb1b1e7",
   "metadata": {},
   "outputs": [
    {
     "data": {
      "text/plain": [
       "array([ 989746.461     , 6223780.092     , 5529595.21799999,\n",
       "       4320432.287     , 5012142.974     , 5049167.395     ,\n",
       "       8341851.141     , 7298818.03200001, 1467850.788     ,\n",
       "       7323685.15      ])"
      ]
     },
     "execution_count": 198,
     "metadata": {},
     "output_type": "execute_result"
    }
   ],
   "source": [
    "y_val_preds = rfr.predict(X_val)\n",
    "y_val_preds[0:10]"
   ]
  },
  {
   "cell_type": "code",
   "execution_count": 199,
   "id": "52aea5e1",
   "metadata": {},
   "outputs": [
    {
     "name": "stdout",
     "output_type": "stream",
     "text": [
      "Mean Absolute Error: 4393.163\n",
      "Mean Squared Error: 4920067571.628\n",
      "Root Mean Squared Error: 70143.193\n",
      "R-squared: 0.999\n"
     ]
    }
   ],
   "source": [
    "from sklearn.metrics import mean_absolute_error, mean_squared_error, r2_score\n",
    "\n",
    "# Calculate the regression error metrics\n",
    "mae = mean_absolute_error(y_train, y_train_preds)\n",
    "mse = mean_squared_error(y_train, y_train_preds)\n",
    "rmse = mean_squared_error(y_train, y_train_preds, squared=False)\n",
    "r2 = r2_score(y_train, y_train_preds)\n",
    "\n",
    "    # Print the report\n",
    "print(f\"Mean Absolute Error: {mae:.3f}\")\n",
    "print(f\"Mean Squared Error: {mse:.3f}\")\n",
    "print(f\"Root Mean Squared Error: {rmse:.3f}\")\n",
    "print(f\"R-squared: {r2:.3f}\")"
   ]
  },
  {
   "cell_type": "markdown",
   "id": "79a9357b",
   "metadata": {},
   "source": [
    "## XGBoost"
   ]
  },
  {
   "cell_type": "code",
   "execution_count": 200,
   "id": "b44d614d",
   "metadata": {},
   "outputs": [],
   "source": [
    "from xgboost import XGBRegressor"
   ]
  },
  {
   "cell_type": "code",
   "execution_count": 201,
   "id": "02547f1f",
   "metadata": {},
   "outputs": [],
   "source": [
    "xgr = XGBRegressor()"
   ]
  },
  {
   "cell_type": "code",
   "execution_count": 202,
   "id": "284fca35",
   "metadata": {},
   "outputs": [],
   "source": [
    "param_grid = {\n",
    "    'learning_rate': [0.01, 0.1, 0.5],\n",
    "    'n_estimators': [50, 100, 200],\n",
    "    'max_depth': [3, 5, 7],\n",
    "    'min_child_weight': [1, 3, 5],\n",
    "    'gamma': [0, 0.1, 0.5]\n",
    "}"
   ]
  },
  {
   "cell_type": "code",
   "execution_count": 203,
   "id": "4ef7cc42",
   "metadata": {},
   "outputs": [],
   "source": [
    "grid_search = GridSearchCV(estimator=xgr, param_grid=param_grid, cv=5)"
   ]
  },
  {
   "cell_type": "code",
   "execution_count": 204,
   "id": "53a675e0",
   "metadata": {},
   "outputs": [],
   "source": [
    "xgr = XGBRegressor(gamma= 0, learning_rate=0.1, max_depth=7, min_child_weight=1, n_estimators=100)\n",
    "xgr = xgr.fit(X_train, y_train)"
   ]
  },
  {
   "cell_type": "code",
   "execution_count": 205,
   "id": "441d0421",
   "metadata": {},
   "outputs": [
    {
     "data": {
      "text/plain": [
       "array([6167608.  , 7835852.  , 4436756.5 ,  378799.28, 2750802.  ,\n",
       "       4863875.5 , 4889811.5 , 4887850.  , 5752941.5 , 2059107.  ],\n",
       "      dtype=float32)"
      ]
     },
     "execution_count": 205,
     "metadata": {},
     "output_type": "execute_result"
    }
   ],
   "source": [
    "y_train_preds = xgr.predict(X_train)\n",
    "y_train_preds[0:10]"
   ]
  },
  {
   "cell_type": "code",
   "execution_count": 206,
   "id": "9550bde8",
   "metadata": {},
   "outputs": [
    {
     "data": {
      "text/plain": [
       "array([ 989956.4, 6226375. , 5542424. , 4320777.5, 5018862. , 5045661. ,\n",
       "       8347649. , 7301147.5, 1468643.8, 7310559.5], dtype=float32)"
      ]
     },
     "execution_count": 206,
     "metadata": {},
     "output_type": "execute_result"
    }
   ],
   "source": [
    "y_val_preds = xgr.predict(X_val)\n",
    "y_val_preds[0:10]"
   ]
  },
  {
   "cell_type": "code",
   "execution_count": 207,
   "id": "40c4b8e5",
   "metadata": {},
   "outputs": [
    {
     "name": "stdout",
     "output_type": "stream",
     "text": [
      "Mean Absolute Error: 6334.435\n",
      "Mean Squared Error: 362159592.617\n",
      "Root Mean Squared Error: 19030.491\n",
      "R-squared: 1.000\n"
     ]
    }
   ],
   "source": [
    "from sklearn.metrics import mean_absolute_error, mean_squared_error, r2_score\n",
    "\n",
    "# Calculate the regression error metrics\n",
    "mae = mean_absolute_error(y_train, y_train_preds)\n",
    "mse = mean_squared_error(y_train, y_train_preds)\n",
    "rmse = mean_squared_error(y_train, y_train_preds, squared=False)\n",
    "r2 = r2_score(y_train, y_train_preds)\n",
    "\n",
    "    # Print the report\n",
    "print(f\"Mean Absolute Error: {mae:.3f}\")\n",
    "print(f\"Mean Squared Error: {mse:.3f}\")\n",
    "print(f\"Root Mean Squared Error: {rmse:.3f}\")\n",
    "print(f\"R-squared: {r2:.3f}\")"
   ]
  },
  {
   "cell_type": "markdown",
   "id": "e0d71969",
   "metadata": {},
   "source": [
    "## Importing the test data"
   ]
  },
  {
   "cell_type": "code",
   "execution_count": 208,
   "id": "1eca094a",
   "metadata": {},
   "outputs": [],
   "source": [
    "df_test= pd.read_csv(\"C:\\\\Users\\\\2211550\\\\OneDrive - Cognizant\\\\Desktop\\\\Kaggle Assignments\\\\Week 3\\\\playground-series-s3e6\\\\test.csv\")"
   ]
  },
  {
   "cell_type": "code",
   "execution_count": 209,
   "id": "af02b959",
   "metadata": {},
   "outputs": [
    {
     "data": {
      "text/html": [
       "<div>\n",
       "<style scoped>\n",
       "    .dataframe tbody tr th:only-of-type {\n",
       "        vertical-align: middle;\n",
       "    }\n",
       "\n",
       "    .dataframe tbody tr th {\n",
       "        vertical-align: top;\n",
       "    }\n",
       "\n",
       "    .dataframe thead th {\n",
       "        text-align: right;\n",
       "    }\n",
       "</style>\n",
       "<table border=\"1\" class=\"dataframe\">\n",
       "  <thead>\n",
       "    <tr style=\"text-align: right;\">\n",
       "      <th></th>\n",
       "      <th>id</th>\n",
       "      <th>squareMeters</th>\n",
       "      <th>numberOfRooms</th>\n",
       "      <th>hasYard</th>\n",
       "      <th>hasPool</th>\n",
       "      <th>floors</th>\n",
       "      <th>cityCode</th>\n",
       "      <th>cityPartRange</th>\n",
       "      <th>numPrevOwners</th>\n",
       "      <th>made</th>\n",
       "      <th>isNewBuilt</th>\n",
       "      <th>hasStormProtector</th>\n",
       "      <th>basement</th>\n",
       "      <th>attic</th>\n",
       "      <th>garage</th>\n",
       "      <th>hasStorageRoom</th>\n",
       "      <th>hasGuestRoom</th>\n",
       "    </tr>\n",
       "  </thead>\n",
       "  <tbody>\n",
       "    <tr>\n",
       "      <th>0</th>\n",
       "      <td>22730</td>\n",
       "      <td>47580</td>\n",
       "      <td>89</td>\n",
       "      <td>0</td>\n",
       "      <td>1</td>\n",
       "      <td>8</td>\n",
       "      <td>54830</td>\n",
       "      <td>5</td>\n",
       "      <td>3</td>\n",
       "      <td>1995</td>\n",
       "      <td>0</td>\n",
       "      <td>0</td>\n",
       "      <td>6885</td>\n",
       "      <td>8181</td>\n",
       "      <td>241</td>\n",
       "      <td>0</td>\n",
       "      <td>8</td>\n",
       "    </tr>\n",
       "    <tr>\n",
       "      <th>1</th>\n",
       "      <td>22731</td>\n",
       "      <td>62083</td>\n",
       "      <td>38</td>\n",
       "      <td>0</td>\n",
       "      <td>0</td>\n",
       "      <td>87</td>\n",
       "      <td>8576</td>\n",
       "      <td>10</td>\n",
       "      <td>3</td>\n",
       "      <td>1994</td>\n",
       "      <td>1</td>\n",
       "      <td>1</td>\n",
       "      <td>4601</td>\n",
       "      <td>9237</td>\n",
       "      <td>393</td>\n",
       "      <td>1</td>\n",
       "      <td>4</td>\n",
       "    </tr>\n",
       "    <tr>\n",
       "      <th>2</th>\n",
       "      <td>22732</td>\n",
       "      <td>90499</td>\n",
       "      <td>75</td>\n",
       "      <td>1</td>\n",
       "      <td>1</td>\n",
       "      <td>37</td>\n",
       "      <td>62454</td>\n",
       "      <td>9</td>\n",
       "      <td>6</td>\n",
       "      <td>1997</td>\n",
       "      <td>0</td>\n",
       "      <td>1</td>\n",
       "      <td>7454</td>\n",
       "      <td>2680</td>\n",
       "      <td>305</td>\n",
       "      <td>0</td>\n",
       "      <td>2</td>\n",
       "    </tr>\n",
       "    <tr>\n",
       "      <th>3</th>\n",
       "      <td>22733</td>\n",
       "      <td>16354</td>\n",
       "      <td>47</td>\n",
       "      <td>1</td>\n",
       "      <td>1</td>\n",
       "      <td>9</td>\n",
       "      <td>9262</td>\n",
       "      <td>6</td>\n",
       "      <td>5</td>\n",
       "      <td>2019</td>\n",
       "      <td>1</td>\n",
       "      <td>1</td>\n",
       "      <td>705</td>\n",
       "      <td>5097</td>\n",
       "      <td>122</td>\n",
       "      <td>1</td>\n",
       "      <td>5</td>\n",
       "    </tr>\n",
       "    <tr>\n",
       "      <th>4</th>\n",
       "      <td>22734</td>\n",
       "      <td>67510</td>\n",
       "      <td>8</td>\n",
       "      <td>0</td>\n",
       "      <td>0</td>\n",
       "      <td>55</td>\n",
       "      <td>24112</td>\n",
       "      <td>3</td>\n",
       "      <td>7</td>\n",
       "      <td>2014</td>\n",
       "      <td>1</td>\n",
       "      <td>1</td>\n",
       "      <td>3715</td>\n",
       "      <td>7979</td>\n",
       "      <td>401</td>\n",
       "      <td>1</td>\n",
       "      <td>9</td>\n",
       "    </tr>\n",
       "    <tr>\n",
       "      <th>...</th>\n",
       "      <td>...</td>\n",
       "      <td>...</td>\n",
       "      <td>...</td>\n",
       "      <td>...</td>\n",
       "      <td>...</td>\n",
       "      <td>...</td>\n",
       "      <td>...</td>\n",
       "      <td>...</td>\n",
       "      <td>...</td>\n",
       "      <td>...</td>\n",
       "      <td>...</td>\n",
       "      <td>...</td>\n",
       "      <td>...</td>\n",
       "      <td>...</td>\n",
       "      <td>...</td>\n",
       "      <td>...</td>\n",
       "      <td>...</td>\n",
       "    </tr>\n",
       "    <tr>\n",
       "      <th>15149</th>\n",
       "      <td>37879</td>\n",
       "      <td>86184</td>\n",
       "      <td>74</td>\n",
       "      <td>1</td>\n",
       "      <td>1</td>\n",
       "      <td>73</td>\n",
       "      <td>14009</td>\n",
       "      <td>2</td>\n",
       "      <td>10</td>\n",
       "      <td>1993</td>\n",
       "      <td>1</td>\n",
       "      <td>0</td>\n",
       "      <td>3714</td>\n",
       "      <td>3894</td>\n",
       "      <td>665</td>\n",
       "      <td>1</td>\n",
       "      <td>1</td>\n",
       "    </tr>\n",
       "    <tr>\n",
       "      <th>15150</th>\n",
       "      <td>37880</td>\n",
       "      <td>45885</td>\n",
       "      <td>41</td>\n",
       "      <td>1</td>\n",
       "      <td>1</td>\n",
       "      <td>64</td>\n",
       "      <td>84208</td>\n",
       "      <td>4</td>\n",
       "      <td>5</td>\n",
       "      <td>2008</td>\n",
       "      <td>0</td>\n",
       "      <td>0</td>\n",
       "      <td>783</td>\n",
       "      <td>7628</td>\n",
       "      <td>976</td>\n",
       "      <td>0</td>\n",
       "      <td>0</td>\n",
       "    </tr>\n",
       "    <tr>\n",
       "      <th>15151</th>\n",
       "      <td>37881</td>\n",
       "      <td>73554</td>\n",
       "      <td>51</td>\n",
       "      <td>0</td>\n",
       "      <td>0</td>\n",
       "      <td>41</td>\n",
       "      <td>49263</td>\n",
       "      <td>10</td>\n",
       "      <td>5</td>\n",
       "      <td>2004</td>\n",
       "      <td>0</td>\n",
       "      <td>1</td>\n",
       "      <td>8207</td>\n",
       "      <td>1777</td>\n",
       "      <td>775</td>\n",
       "      <td>0</td>\n",
       "      <td>10</td>\n",
       "    </tr>\n",
       "    <tr>\n",
       "      <th>15152</th>\n",
       "      <td>37882</td>\n",
       "      <td>77604</td>\n",
       "      <td>51</td>\n",
       "      <td>0</td>\n",
       "      <td>1</td>\n",
       "      <td>33</td>\n",
       "      <td>67056</td>\n",
       "      <td>4</td>\n",
       "      <td>3</td>\n",
       "      <td>2019</td>\n",
       "      <td>0</td>\n",
       "      <td>0</td>\n",
       "      <td>9578</td>\n",
       "      <td>9706</td>\n",
       "      <td>135</td>\n",
       "      <td>0</td>\n",
       "      <td>2</td>\n",
       "    </tr>\n",
       "    <tr>\n",
       "      <th>15153</th>\n",
       "      <td>37883</td>\n",
       "      <td>18179</td>\n",
       "      <td>50</td>\n",
       "      <td>1</td>\n",
       "      <td>0</td>\n",
       "      <td>41</td>\n",
       "      <td>50124</td>\n",
       "      <td>2</td>\n",
       "      <td>2</td>\n",
       "      <td>2004</td>\n",
       "      <td>1</td>\n",
       "      <td>0</td>\n",
       "      <td>4163</td>\n",
       "      <td>9923</td>\n",
       "      <td>622</td>\n",
       "      <td>0</td>\n",
       "      <td>6</td>\n",
       "    </tr>\n",
       "  </tbody>\n",
       "</table>\n",
       "<p>15154 rows × 17 columns</p>\n",
       "</div>"
      ],
      "text/plain": [
       "          id  squareMeters  numberOfRooms  hasYard  hasPool  floors  cityCode  \\\n",
       "0      22730         47580             89        0        1       8     54830   \n",
       "1      22731         62083             38        0        0      87      8576   \n",
       "2      22732         90499             75        1        1      37     62454   \n",
       "3      22733         16354             47        1        1       9      9262   \n",
       "4      22734         67510              8        0        0      55     24112   \n",
       "...      ...           ...            ...      ...      ...     ...       ...   \n",
       "15149  37879         86184             74        1        1      73     14009   \n",
       "15150  37880         45885             41        1        1      64     84208   \n",
       "15151  37881         73554             51        0        0      41     49263   \n",
       "15152  37882         77604             51        0        1      33     67056   \n",
       "15153  37883         18179             50        1        0      41     50124   \n",
       "\n",
       "       cityPartRange  numPrevOwners  made  isNewBuilt  hasStormProtector  \\\n",
       "0                  5              3  1995           0                  0   \n",
       "1                 10              3  1994           1                  1   \n",
       "2                  9              6  1997           0                  1   \n",
       "3                  6              5  2019           1                  1   \n",
       "4                  3              7  2014           1                  1   \n",
       "...              ...            ...   ...         ...                ...   \n",
       "15149              2             10  1993           1                  0   \n",
       "15150              4              5  2008           0                  0   \n",
       "15151             10              5  2004           0                  1   \n",
       "15152              4              3  2019           0                  0   \n",
       "15153              2              2  2004           1                  0   \n",
       "\n",
       "       basement  attic  garage  hasStorageRoom  hasGuestRoom  \n",
       "0          6885   8181     241               0             8  \n",
       "1          4601   9237     393               1             4  \n",
       "2          7454   2680     305               0             2  \n",
       "3           705   5097     122               1             5  \n",
       "4          3715   7979     401               1             9  \n",
       "...         ...    ...     ...             ...           ...  \n",
       "15149      3714   3894     665               1             1  \n",
       "15150       783   7628     976               0             0  \n",
       "15151      8207   1777     775               0            10  \n",
       "15152      9578   9706     135               0             2  \n",
       "15153      4163   9923     622               0             6  \n",
       "\n",
       "[15154 rows x 17 columns]"
      ]
     },
     "execution_count": 209,
     "metadata": {},
     "output_type": "execute_result"
    }
   ],
   "source": [
    "df_test"
   ]
  },
  {
   "cell_type": "code",
   "execution_count": 210,
   "id": "6f38a318",
   "metadata": {},
   "outputs": [
    {
     "data": {
      "text/html": [
       "<div>\n",
       "<style scoped>\n",
       "    .dataframe tbody tr th:only-of-type {\n",
       "        vertical-align: middle;\n",
       "    }\n",
       "\n",
       "    .dataframe tbody tr th {\n",
       "        vertical-align: top;\n",
       "    }\n",
       "\n",
       "    .dataframe thead th {\n",
       "        text-align: right;\n",
       "    }\n",
       "</style>\n",
       "<table border=\"1\" class=\"dataframe\">\n",
       "  <thead>\n",
       "    <tr style=\"text-align: right;\">\n",
       "      <th></th>\n",
       "      <th>id</th>\n",
       "    </tr>\n",
       "  </thead>\n",
       "  <tbody>\n",
       "    <tr>\n",
       "      <th>0</th>\n",
       "      <td>22730</td>\n",
       "    </tr>\n",
       "    <tr>\n",
       "      <th>1</th>\n",
       "      <td>22731</td>\n",
       "    </tr>\n",
       "    <tr>\n",
       "      <th>2</th>\n",
       "      <td>22732</td>\n",
       "    </tr>\n",
       "    <tr>\n",
       "      <th>3</th>\n",
       "      <td>22733</td>\n",
       "    </tr>\n",
       "    <tr>\n",
       "      <th>4</th>\n",
       "      <td>22734</td>\n",
       "    </tr>\n",
       "    <tr>\n",
       "      <th>...</th>\n",
       "      <td>...</td>\n",
       "    </tr>\n",
       "    <tr>\n",
       "      <th>15149</th>\n",
       "      <td>37879</td>\n",
       "    </tr>\n",
       "    <tr>\n",
       "      <th>15150</th>\n",
       "      <td>37880</td>\n",
       "    </tr>\n",
       "    <tr>\n",
       "      <th>15151</th>\n",
       "      <td>37881</td>\n",
       "    </tr>\n",
       "    <tr>\n",
       "      <th>15152</th>\n",
       "      <td>37882</td>\n",
       "    </tr>\n",
       "    <tr>\n",
       "      <th>15153</th>\n",
       "      <td>37883</td>\n",
       "    </tr>\n",
       "  </tbody>\n",
       "</table>\n",
       "<p>15154 rows × 1 columns</p>\n",
       "</div>"
      ],
      "text/plain": [
       "          id\n",
       "0      22730\n",
       "1      22731\n",
       "2      22732\n",
       "3      22733\n",
       "4      22734\n",
       "...      ...\n",
       "15149  37879\n",
       "15150  37880\n",
       "15151  37881\n",
       "15152  37882\n",
       "15153  37883\n",
       "\n",
       "[15154 rows x 1 columns]"
      ]
     },
     "execution_count": 210,
     "metadata": {},
     "output_type": "execute_result"
    }
   ],
   "source": [
    "label = df_test.filter([\"id\"], axis=1)\n",
    "label"
   ]
  },
  {
   "cell_type": "code",
   "execution_count": 211,
   "id": "f66830b9",
   "metadata": {},
   "outputs": [
    {
     "name": "stdout",
     "output_type": "stream",
     "text": [
      "<class 'pandas.core.frame.DataFrame'>\n",
      "RangeIndex: 15154 entries, 0 to 15153\n",
      "Data columns (total 17 columns):\n",
      " #   Column             Non-Null Count  Dtype\n",
      "---  ------             --------------  -----\n",
      " 0   id                 15154 non-null  int64\n",
      " 1   squareMeters       15154 non-null  int64\n",
      " 2   numberOfRooms      15154 non-null  int64\n",
      " 3   hasYard            15154 non-null  int64\n",
      " 4   hasPool            15154 non-null  int64\n",
      " 5   floors             15154 non-null  int64\n",
      " 6   cityCode           15154 non-null  int64\n",
      " 7   cityPartRange      15154 non-null  int64\n",
      " 8   numPrevOwners      15154 non-null  int64\n",
      " 9   made               15154 non-null  int64\n",
      " 10  isNewBuilt         15154 non-null  int64\n",
      " 11  hasStormProtector  15154 non-null  int64\n",
      " 12  basement           15154 non-null  int64\n",
      " 13  attic              15154 non-null  int64\n",
      " 14  garage             15154 non-null  int64\n",
      " 15  hasStorageRoom     15154 non-null  int64\n",
      " 16  hasGuestRoom       15154 non-null  int64\n",
      "dtypes: int64(17)\n",
      "memory usage: 2.0 MB\n"
     ]
    }
   ],
   "source": [
    "df_test.info()"
   ]
  },
  {
   "cell_type": "code",
   "execution_count": 212,
   "id": "6bd402f6",
   "metadata": {},
   "outputs": [],
   "source": [
    "df_test.drop([\"id\",\"cityCode\",\"made\"],axis=1,inplace=True)"
   ]
  },
  {
   "cell_type": "code",
   "execution_count": 213,
   "id": "67107444",
   "metadata": {},
   "outputs": [
    {
     "data": {
      "text/html": [
       "<div>\n",
       "<style scoped>\n",
       "    .dataframe tbody tr th:only-of-type {\n",
       "        vertical-align: middle;\n",
       "    }\n",
       "\n",
       "    .dataframe tbody tr th {\n",
       "        vertical-align: top;\n",
       "    }\n",
       "\n",
       "    .dataframe thead th {\n",
       "        text-align: right;\n",
       "    }\n",
       "</style>\n",
       "<table border=\"1\" class=\"dataframe\">\n",
       "  <thead>\n",
       "    <tr style=\"text-align: right;\">\n",
       "      <th></th>\n",
       "      <th>count</th>\n",
       "      <th>mean</th>\n",
       "      <th>std</th>\n",
       "      <th>min</th>\n",
       "      <th>25%</th>\n",
       "      <th>50%</th>\n",
       "      <th>75%</th>\n",
       "      <th>max</th>\n",
       "    </tr>\n",
       "  </thead>\n",
       "  <tbody>\n",
       "    <tr>\n",
       "      <th>squareMeters</th>\n",
       "      <td>15154.0</td>\n",
       "      <td>45729.407681</td>\n",
       "      <td>29200.142520</td>\n",
       "      <td>69.0</td>\n",
       "      <td>19189.00</td>\n",
       "      <td>43802.0</td>\n",
       "      <td>70898.00</td>\n",
       "      <td>99999.0</td>\n",
       "    </tr>\n",
       "    <tr>\n",
       "      <th>numberOfRooms</th>\n",
       "      <td>15154.0</td>\n",
       "      <td>47.874951</td>\n",
       "      <td>28.164077</td>\n",
       "      <td>1.0</td>\n",
       "      <td>25.00</td>\n",
       "      <td>46.0</td>\n",
       "      <td>75.00</td>\n",
       "      <td>100.0</td>\n",
       "    </tr>\n",
       "    <tr>\n",
       "      <th>hasYard</th>\n",
       "      <td>15154.0</td>\n",
       "      <td>0.483371</td>\n",
       "      <td>0.499740</td>\n",
       "      <td>0.0</td>\n",
       "      <td>0.00</td>\n",
       "      <td>0.0</td>\n",
       "      <td>1.00</td>\n",
       "      <td>1.0</td>\n",
       "    </tr>\n",
       "    <tr>\n",
       "      <th>hasPool</th>\n",
       "      <td>15154.0</td>\n",
       "      <td>0.445361</td>\n",
       "      <td>0.497022</td>\n",
       "      <td>0.0</td>\n",
       "      <td>0.00</td>\n",
       "      <td>0.0</td>\n",
       "      <td>1.00</td>\n",
       "      <td>1.0</td>\n",
       "    </tr>\n",
       "    <tr>\n",
       "      <th>floors</th>\n",
       "      <td>15154.0</td>\n",
       "      <td>46.401148</td>\n",
       "      <td>27.000547</td>\n",
       "      <td>1.0</td>\n",
       "      <td>25.00</td>\n",
       "      <td>44.0</td>\n",
       "      <td>69.00</td>\n",
       "      <td>100.0</td>\n",
       "    </tr>\n",
       "    <tr>\n",
       "      <th>cityPartRange</th>\n",
       "      <td>15154.0</td>\n",
       "      <td>5.616933</td>\n",
       "      <td>2.727914</td>\n",
       "      <td>1.0</td>\n",
       "      <td>3.00</td>\n",
       "      <td>6.0</td>\n",
       "      <td>8.00</td>\n",
       "      <td>10.0</td>\n",
       "    </tr>\n",
       "    <tr>\n",
       "      <th>numPrevOwners</th>\n",
       "      <td>15154.0</td>\n",
       "      <td>5.602547</td>\n",
       "      <td>2.718316</td>\n",
       "      <td>1.0</td>\n",
       "      <td>3.00</td>\n",
       "      <td>6.0</td>\n",
       "      <td>8.00</td>\n",
       "      <td>10.0</td>\n",
       "    </tr>\n",
       "    <tr>\n",
       "      <th>isNewBuilt</th>\n",
       "      <td>15154.0</td>\n",
       "      <td>0.472219</td>\n",
       "      <td>0.499244</td>\n",
       "      <td>0.0</td>\n",
       "      <td>0.00</td>\n",
       "      <td>0.0</td>\n",
       "      <td>1.00</td>\n",
       "      <td>1.0</td>\n",
       "    </tr>\n",
       "    <tr>\n",
       "      <th>hasStormProtector</th>\n",
       "      <td>15154.0</td>\n",
       "      <td>0.463442</td>\n",
       "      <td>0.498678</td>\n",
       "      <td>0.0</td>\n",
       "      <td>0.00</td>\n",
       "      <td>0.0</td>\n",
       "      <td>1.00</td>\n",
       "      <td>1.0</td>\n",
       "    </tr>\n",
       "    <tr>\n",
       "      <th>basement</th>\n",
       "      <td>15154.0</td>\n",
       "      <td>5299.415468</td>\n",
       "      <td>2980.156234</td>\n",
       "      <td>8.0</td>\n",
       "      <td>3114.00</td>\n",
       "      <td>5359.0</td>\n",
       "      <td>7739.00</td>\n",
       "      <td>89016.0</td>\n",
       "    </tr>\n",
       "    <tr>\n",
       "      <th>attic</th>\n",
       "      <td>15154.0</td>\n",
       "      <td>5057.506599</td>\n",
       "      <td>2928.004147</td>\n",
       "      <td>1.0</td>\n",
       "      <td>2567.00</td>\n",
       "      <td>5017.0</td>\n",
       "      <td>7650.75</td>\n",
       "      <td>38535.0</td>\n",
       "    </tr>\n",
       "    <tr>\n",
       "      <th>garage</th>\n",
       "      <td>15154.0</td>\n",
       "      <td>525.091065</td>\n",
       "      <td>268.504745</td>\n",
       "      <td>8.0</td>\n",
       "      <td>294.25</td>\n",
       "      <td>501.0</td>\n",
       "      <td>757.00</td>\n",
       "      <td>1000.0</td>\n",
       "    </tr>\n",
       "    <tr>\n",
       "      <th>hasStorageRoom</th>\n",
       "      <td>15154.0</td>\n",
       "      <td>0.463178</td>\n",
       "      <td>0.498659</td>\n",
       "      <td>0.0</td>\n",
       "      <td>0.00</td>\n",
       "      <td>0.0</td>\n",
       "      <td>1.00</td>\n",
       "      <td>1.0</td>\n",
       "    </tr>\n",
       "    <tr>\n",
       "      <th>hasGuestRoom</th>\n",
       "      <td>15154.0</td>\n",
       "      <td>5.095618</td>\n",
       "      <td>3.049174</td>\n",
       "      <td>0.0</td>\n",
       "      <td>2.00</td>\n",
       "      <td>5.0</td>\n",
       "      <td>8.00</td>\n",
       "      <td>10.0</td>\n",
       "    </tr>\n",
       "  </tbody>\n",
       "</table>\n",
       "</div>"
      ],
      "text/plain": [
       "                     count          mean           std   min       25%  \\\n",
       "squareMeters       15154.0  45729.407681  29200.142520  69.0  19189.00   \n",
       "numberOfRooms      15154.0     47.874951     28.164077   1.0     25.00   \n",
       "hasYard            15154.0      0.483371      0.499740   0.0      0.00   \n",
       "hasPool            15154.0      0.445361      0.497022   0.0      0.00   \n",
       "floors             15154.0     46.401148     27.000547   1.0     25.00   \n",
       "cityPartRange      15154.0      5.616933      2.727914   1.0      3.00   \n",
       "numPrevOwners      15154.0      5.602547      2.718316   1.0      3.00   \n",
       "isNewBuilt         15154.0      0.472219      0.499244   0.0      0.00   \n",
       "hasStormProtector  15154.0      0.463442      0.498678   0.0      0.00   \n",
       "basement           15154.0   5299.415468   2980.156234   8.0   3114.00   \n",
       "attic              15154.0   5057.506599   2928.004147   1.0   2567.00   \n",
       "garage             15154.0    525.091065    268.504745   8.0    294.25   \n",
       "hasStorageRoom     15154.0      0.463178      0.498659   0.0      0.00   \n",
       "hasGuestRoom       15154.0      5.095618      3.049174   0.0      2.00   \n",
       "\n",
       "                       50%       75%      max  \n",
       "squareMeters       43802.0  70898.00  99999.0  \n",
       "numberOfRooms         46.0     75.00    100.0  \n",
       "hasYard                0.0      1.00      1.0  \n",
       "hasPool                0.0      1.00      1.0  \n",
       "floors                44.0     69.00    100.0  \n",
       "cityPartRange          6.0      8.00     10.0  \n",
       "numPrevOwners          6.0      8.00     10.0  \n",
       "isNewBuilt             0.0      1.00      1.0  \n",
       "hasStormProtector      0.0      1.00      1.0  \n",
       "basement            5359.0   7739.00  89016.0  \n",
       "attic               5017.0   7650.75  38535.0  \n",
       "garage               501.0    757.00   1000.0  \n",
       "hasStorageRoom         0.0      1.00      1.0  \n",
       "hasGuestRoom           5.0      8.00     10.0  "
      ]
     },
     "execution_count": 213,
     "metadata": {},
     "output_type": "execute_result"
    }
   ],
   "source": [
    "df_test.describe().T"
   ]
  },
  {
   "cell_type": "code",
   "execution_count": 214,
   "id": "5074ec67",
   "metadata": {},
   "outputs": [
    {
     "data": {
      "text/html": [
       "<div>\n",
       "<style scoped>\n",
       "    .dataframe tbody tr th:only-of-type {\n",
       "        vertical-align: middle;\n",
       "    }\n",
       "\n",
       "    .dataframe tbody tr th {\n",
       "        vertical-align: top;\n",
       "    }\n",
       "\n",
       "    .dataframe thead th {\n",
       "        text-align: right;\n",
       "    }\n",
       "</style>\n",
       "<table border=\"1\" class=\"dataframe\">\n",
       "  <thead>\n",
       "    <tr style=\"text-align: right;\">\n",
       "      <th></th>\n",
       "      <th>squareMeters</th>\n",
       "      <th>numberOfRooms</th>\n",
       "      <th>hasYard</th>\n",
       "      <th>hasPool</th>\n",
       "      <th>floors</th>\n",
       "      <th>cityPartRange</th>\n",
       "      <th>numPrevOwners</th>\n",
       "      <th>isNewBuilt</th>\n",
       "      <th>hasStormProtector</th>\n",
       "      <th>basement</th>\n",
       "      <th>attic</th>\n",
       "      <th>garage</th>\n",
       "      <th>hasStorageRoom</th>\n",
       "      <th>hasGuestRoom</th>\n",
       "    </tr>\n",
       "  </thead>\n",
       "  <tbody>\n",
       "    <tr>\n",
       "      <th>0</th>\n",
       "      <td>47580</td>\n",
       "      <td>89</td>\n",
       "      <td>0</td>\n",
       "      <td>1</td>\n",
       "      <td>8</td>\n",
       "      <td>5</td>\n",
       "      <td>3</td>\n",
       "      <td>0</td>\n",
       "      <td>0</td>\n",
       "      <td>6885</td>\n",
       "      <td>8181</td>\n",
       "      <td>241</td>\n",
       "      <td>0</td>\n",
       "      <td>8</td>\n",
       "    </tr>\n",
       "    <tr>\n",
       "      <th>1</th>\n",
       "      <td>62083</td>\n",
       "      <td>38</td>\n",
       "      <td>0</td>\n",
       "      <td>0</td>\n",
       "      <td>87</td>\n",
       "      <td>10</td>\n",
       "      <td>3</td>\n",
       "      <td>1</td>\n",
       "      <td>1</td>\n",
       "      <td>4601</td>\n",
       "      <td>9237</td>\n",
       "      <td>393</td>\n",
       "      <td>1</td>\n",
       "      <td>4</td>\n",
       "    </tr>\n",
       "    <tr>\n",
       "      <th>2</th>\n",
       "      <td>90499</td>\n",
       "      <td>75</td>\n",
       "      <td>1</td>\n",
       "      <td>1</td>\n",
       "      <td>37</td>\n",
       "      <td>9</td>\n",
       "      <td>6</td>\n",
       "      <td>0</td>\n",
       "      <td>1</td>\n",
       "      <td>7454</td>\n",
       "      <td>2680</td>\n",
       "      <td>305</td>\n",
       "      <td>0</td>\n",
       "      <td>2</td>\n",
       "    </tr>\n",
       "    <tr>\n",
       "      <th>3</th>\n",
       "      <td>16354</td>\n",
       "      <td>47</td>\n",
       "      <td>1</td>\n",
       "      <td>1</td>\n",
       "      <td>9</td>\n",
       "      <td>6</td>\n",
       "      <td>5</td>\n",
       "      <td>1</td>\n",
       "      <td>1</td>\n",
       "      <td>705</td>\n",
       "      <td>5097</td>\n",
       "      <td>122</td>\n",
       "      <td>1</td>\n",
       "      <td>5</td>\n",
       "    </tr>\n",
       "    <tr>\n",
       "      <th>4</th>\n",
       "      <td>67510</td>\n",
       "      <td>8</td>\n",
       "      <td>0</td>\n",
       "      <td>0</td>\n",
       "      <td>55</td>\n",
       "      <td>3</td>\n",
       "      <td>7</td>\n",
       "      <td>1</td>\n",
       "      <td>1</td>\n",
       "      <td>3715</td>\n",
       "      <td>7979</td>\n",
       "      <td>401</td>\n",
       "      <td>1</td>\n",
       "      <td>9</td>\n",
       "    </tr>\n",
       "  </tbody>\n",
       "</table>\n",
       "</div>"
      ],
      "text/plain": [
       "   squareMeters  numberOfRooms  hasYard  hasPool  floors  cityPartRange  \\\n",
       "0         47580             89        0        1       8              5   \n",
       "1         62083             38        0        0      87             10   \n",
       "2         90499             75        1        1      37              9   \n",
       "3         16354             47        1        1       9              6   \n",
       "4         67510              8        0        0      55              3   \n",
       "\n",
       "   numPrevOwners  isNewBuilt  hasStormProtector  basement  attic  garage  \\\n",
       "0              3           0                  0      6885   8181     241   \n",
       "1              3           1                  1      4601   9237     393   \n",
       "2              6           0                  1      7454   2680     305   \n",
       "3              5           1                  1       705   5097     122   \n",
       "4              7           1                  1      3715   7979     401   \n",
       "\n",
       "   hasStorageRoom  hasGuestRoom  \n",
       "0               0             8  \n",
       "1               1             4  \n",
       "2               0             2  \n",
       "3               1             5  \n",
       "4               1             9  "
      ]
     },
     "execution_count": 214,
     "metadata": {},
     "output_type": "execute_result"
    }
   ],
   "source": [
    "df_test.head(5)"
   ]
  },
  {
   "cell_type": "code",
   "execution_count": 215,
   "id": "993f52d7",
   "metadata": {},
   "outputs": [
    {
     "data": {
      "text/plain": [
       "squareMeters         6433\n",
       "numberOfRooms         100\n",
       "hasYard                 2\n",
       "hasPool                 2\n",
       "floors                100\n",
       "cityPartRange          10\n",
       "numPrevOwners          10\n",
       "isNewBuilt              2\n",
       "hasStormProtector       2\n",
       "basement             4216\n",
       "attic                4558\n",
       "garage                881\n",
       "hasStorageRoom          2\n",
       "hasGuestRoom           11\n",
       "dtype: int64"
      ]
     },
     "execution_count": 215,
     "metadata": {},
     "output_type": "execute_result"
    }
   ],
   "source": [
    "df_test.nunique()"
   ]
  },
  {
   "cell_type": "code",
   "execution_count": 216,
   "id": "47c5f5db",
   "metadata": {},
   "outputs": [
    {
     "data": {
      "text/plain": [
       "squareMeters         0\n",
       "numberOfRooms        0\n",
       "hasYard              0\n",
       "hasPool              0\n",
       "floors               0\n",
       "cityPartRange        0\n",
       "numPrevOwners        0\n",
       "isNewBuilt           0\n",
       "hasStormProtector    0\n",
       "basement             0\n",
       "attic                0\n",
       "garage               0\n",
       "hasStorageRoom       0\n",
       "hasGuestRoom         0\n",
       "dtype: int64"
      ]
     },
     "execution_count": 216,
     "metadata": {},
     "output_type": "execute_result"
    }
   ],
   "source": [
    "df_test.isnull().sum()"
   ]
  },
  {
   "cell_type": "code",
   "execution_count": 217,
   "id": "57b90560",
   "metadata": {},
   "outputs": [
    {
     "data": {
      "text/plain": [
       "Index(['squareMeters', 'numberOfRooms', 'hasYard', 'hasPool', 'floors',\n",
       "       'cityPartRange', 'numPrevOwners', 'isNewBuilt', 'hasStormProtector',\n",
       "       'basement', 'attic', 'garage', 'hasStorageRoom', 'hasGuestRoom'],\n",
       "      dtype='object')"
      ]
     },
     "execution_count": 217,
     "metadata": {},
     "output_type": "execute_result"
    }
   ],
   "source": [
    "df_test.columns"
   ]
  },
  {
   "cell_type": "code",
   "execution_count": 218,
   "id": "7acb4af5",
   "metadata": {},
   "outputs": [
    {
     "data": {
      "text/plain": [
       "squareMeters         int64\n",
       "numberOfRooms        int64\n",
       "hasYard              int64\n",
       "hasPool              int64\n",
       "floors               int64\n",
       "cityPartRange        int64\n",
       "numPrevOwners        int64\n",
       "isNewBuilt           int64\n",
       "hasStormProtector    int64\n",
       "basement             int64\n",
       "attic                int64\n",
       "garage               int64\n",
       "hasStorageRoom       int64\n",
       "hasGuestRoom         int64\n",
       "dtype: object"
      ]
     },
     "execution_count": 218,
     "metadata": {},
     "output_type": "execute_result"
    }
   ],
   "source": [
    "df_test.dtypes"
   ]
  },
  {
   "cell_type": "markdown",
   "id": "26e4ec9b",
   "metadata": {},
   "source": [
    "## Model prediction on test data"
   ]
  },
  {
   "cell_type": "code",
   "execution_count": 219,
   "id": "1cf97ee6",
   "metadata": {},
   "outputs": [],
   "source": [
    "##XG Boost"
   ]
  },
  {
   "cell_type": "code",
   "execution_count": 220,
   "id": "7b7c36c1",
   "metadata": {},
   "outputs": [
    {
     "data": {
      "text/plain": [
       "array([4767476.   , 6215421.   , 9046345.   , 1645823.1  , 6759781.5  ,\n",
       "        118693.664, 9915913.   , 5266507.5  , 5573868.5  , 9828252.   ],\n",
       "      dtype=float32)"
      ]
     },
     "execution_count": 220,
     "metadata": {},
     "output_type": "execute_result"
    }
   ],
   "source": [
    "xgr_preds = xgr.predict(df_test)\n",
    "xgr_preds[0:10]"
   ]
  },
  {
   "cell_type": "code",
   "execution_count": 221,
   "id": "8b1634a7",
   "metadata": {},
   "outputs": [
    {
     "data": {
      "text/plain": [
       "15154"
      ]
     },
     "execution_count": 221,
     "metadata": {},
     "output_type": "execute_result"
    }
   ],
   "source": [
    "len(xgr_preds)"
   ]
  },
  {
   "cell_type": "code",
   "execution_count": 222,
   "id": "eb013b9b",
   "metadata": {},
   "outputs": [
    {
     "data": {
      "text/plain": [
       "0    4.767476e+06\n",
       "1    6.215421e+06\n",
       "2    9.046345e+06\n",
       "3    1.645823e+06\n",
       "4    6.759782e+06\n",
       "5    1.186937e+05\n",
       "6    9.915913e+06\n",
       "7    5.266508e+06\n",
       "8    5.573868e+06\n",
       "9    9.828252e+06\n",
       "Name: price, dtype: float32"
      ]
     },
     "execution_count": 222,
     "metadata": {},
     "output_type": "execute_result"
    }
   ],
   "source": [
    "label[\"price\"] = xgr_preds\n",
    "label[\"price\"][0:10]"
   ]
  },
  {
   "cell_type": "code",
   "execution_count": 225,
   "id": "062326b7",
   "metadata": {},
   "outputs": [
    {
     "data": {
      "text/html": [
       "<div>\n",
       "<style scoped>\n",
       "    .dataframe tbody tr th:only-of-type {\n",
       "        vertical-align: middle;\n",
       "    }\n",
       "\n",
       "    .dataframe tbody tr th {\n",
       "        vertical-align: top;\n",
       "    }\n",
       "\n",
       "    .dataframe thead th {\n",
       "        text-align: right;\n",
       "    }\n",
       "</style>\n",
       "<table border=\"1\" class=\"dataframe\">\n",
       "  <thead>\n",
       "    <tr style=\"text-align: right;\">\n",
       "      <th></th>\n",
       "      <th>id</th>\n",
       "      <th>price</th>\n",
       "    </tr>\n",
       "  </thead>\n",
       "  <tbody>\n",
       "    <tr>\n",
       "      <th>0</th>\n",
       "      <td>22730</td>\n",
       "      <td>4767476.000</td>\n",
       "    </tr>\n",
       "    <tr>\n",
       "      <th>1</th>\n",
       "      <td>22731</td>\n",
       "      <td>6215421.000</td>\n",
       "    </tr>\n",
       "    <tr>\n",
       "      <th>2</th>\n",
       "      <td>22732</td>\n",
       "      <td>9046345.000</td>\n",
       "    </tr>\n",
       "    <tr>\n",
       "      <th>3</th>\n",
       "      <td>22733</td>\n",
       "      <td>1645823.125</td>\n",
       "    </tr>\n",
       "    <tr>\n",
       "      <th>4</th>\n",
       "      <td>22734</td>\n",
       "      <td>6759781.500</td>\n",
       "    </tr>\n",
       "    <tr>\n",
       "      <th>...</th>\n",
       "      <td>...</td>\n",
       "      <td>...</td>\n",
       "    </tr>\n",
       "    <tr>\n",
       "      <th>15149</th>\n",
       "      <td>37879</td>\n",
       "      <td>8618893.000</td>\n",
       "    </tr>\n",
       "    <tr>\n",
       "      <th>15150</th>\n",
       "      <td>37880</td>\n",
       "      <td>4593025.500</td>\n",
       "    </tr>\n",
       "    <tr>\n",
       "      <th>15151</th>\n",
       "      <td>37881</td>\n",
       "      <td>7362357.500</td>\n",
       "    </tr>\n",
       "    <tr>\n",
       "      <th>15152</th>\n",
       "      <td>37882</td>\n",
       "      <td>7750075.000</td>\n",
       "    </tr>\n",
       "    <tr>\n",
       "      <th>15153</th>\n",
       "      <td>37883</td>\n",
       "      <td>1803672.250</td>\n",
       "    </tr>\n",
       "  </tbody>\n",
       "</table>\n",
       "<p>15154 rows × 2 columns</p>\n",
       "</div>"
      ],
      "text/plain": [
       "          id        price\n",
       "0      22730  4767476.000\n",
       "1      22731  6215421.000\n",
       "2      22732  9046345.000\n",
       "3      22733  1645823.125\n",
       "4      22734  6759781.500\n",
       "...      ...          ...\n",
       "15149  37879  8618893.000\n",
       "15150  37880  4593025.500\n",
       "15151  37881  7362357.500\n",
       "15152  37882  7750075.000\n",
       "15153  37883  1803672.250\n",
       "\n",
       "[15154 rows x 2 columns]"
      ]
     },
     "execution_count": 225,
     "metadata": {},
     "output_type": "execute_result"
    }
   ],
   "source": [
    "label"
   ]
  },
  {
   "cell_type": "code",
   "execution_count": null,
   "id": "b5a94a46",
   "metadata": {},
   "outputs": [],
   "source": []
  }
 ],
 "metadata": {
  "kernelspec": {
   "display_name": "Python 3 (ipykernel)",
   "language": "python",
   "name": "python3"
  },
  "language_info": {
   "codemirror_mode": {
    "name": "ipython",
    "version": 3
   },
   "file_extension": ".py",
   "mimetype": "text/x-python",
   "name": "python",
   "nbconvert_exporter": "python",
   "pygments_lexer": "ipython3",
   "version": "3.9.12"
  }
 },
 "nbformat": 4,
 "nbformat_minor": 5
}
