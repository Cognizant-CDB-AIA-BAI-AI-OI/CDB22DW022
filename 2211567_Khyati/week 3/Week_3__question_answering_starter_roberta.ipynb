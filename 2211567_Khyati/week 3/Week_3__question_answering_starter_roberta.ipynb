{
  "cells": [
    {
      "cell_type": "markdown",
      "id": "fe9f51d4",
      "metadata": {
        "papermill": {
          "duration": 0.033761,
          "end_time": "2023-02-22T10:46:15.115423",
          "exception": false,
          "start_time": "2023-02-22T10:46:15.081662",
          "status": "completed"
        },
        "tags": [],
        "id": "fe9f51d4"
      },
      "source": [
        "# Question-Answering in association with roBERTa\n",
        "Take a sip of chaii and refresh your mood with chaii — Hindi and Tamil Question Answering By google.\n",
        "amitnikhade.com"
      ]
    },
    {
      "cell_type": "markdown",
      "id": "89059a2d",
      "metadata": {
        "papermill": {
          "duration": 0.030299,
          "end_time": "2023-02-22T10:46:15.176609",
          "exception": false,
          "start_time": "2023-02-22T10:46:15.146310",
          "status": "completed"
        },
        "tags": [],
        "id": "89059a2d"
      },
      "source": [
        "# [amitnikhade.com](http://amitnikhade.com)"
      ]
    },
    {
      "cell_type": "markdown",
      "id": "e255ad00",
      "metadata": {
        "papermill": {
          "duration": 0.030328,
          "end_time": "2023-02-22T10:46:15.238178",
          "exception": false,
          "start_time": "2023-02-22T10:46:15.207850",
          "status": "completed"
        },
        "tags": [],
        "id": "e255ad00"
      },
      "source": [
        "## Introduction\n",
        "May God bless you with all the data structure skills. Transformers have been revolutionary models that yield state-of-art variants like BERT, GPT, mt5, T5, tapas, Albert, Robert, and many more from their families. The Hugging face library has provided excellent documentation with the implementation of various real-world scenarios.\n",
        "Here, we’ll try to implement the Roberta model for the question answering system. Rather than directly diving into our code, we’ll revise some theoretical concepts that are mandatory to understand the code. Believe me, it takes a slightly longer span for a newcomer into Natural language processing to understand the logic behind the code. I tried my best in explaining it conceptually. It’s also the duty of the reader to try understanding the code by going through it simultaneously until you don’t get it, and browsing stuff that you aren’t able to know within this article will definitely work for you."
      ]
    },
    {
      "cell_type": "markdown",
      "id": "2fa8874f",
      "metadata": {
        "papermill": {
          "duration": 0.030145,
          "end_time": "2023-02-22T10:46:15.298743",
          "exception": false,
          "start_time": "2023-02-22T10:46:15.268598",
          "status": "completed"
        },
        "tags": [],
        "id": "2fa8874f"
      },
      "source": [
        "## Terms you should be familiar of\n",
        "\n",
        "* Tokens: Tokens are the building blocks of natural language processing. The tokens are created after the tokenization of text. Tokenization can mainly be categorized into word, character, and subword, i.e. the n-gram characters tokenization.\n",
        "\n",
        "* input_ids: input_ids are token indices; they are the numerical representations of tokens; a list of these representations is called sequences used as input by the model.\n",
        "\n",
        "* sequence_ids: Sequence_ids tell us which part in the sequence is the question and which of these is the answer. The unique tokens are encoded as None, where 0’s are questions, and 1’s are context.\n",
        "\n",
        "* offset_mapping: offset_mapping parameter provides us with the token’s position, which is a tuple of the start and end index of the tokens that makes it easy to find their original position.\n",
        "\n",
        "* overflow_sampling: Like how the examples, i.e. the context, are truncated due to the max_length limit, so the trimmed part is continued in the following sequence with a confident stride rate, the overflowing sample is the map of how many splits is the context fitted. Like in the below image, the 0’s are the first context in the dataset, which was big enough and hence is held in lots of splits.\n",
        "\n",
        "* max_length: The constant length defined for the sequence to be processed and fed to the model.\n",
        "\n",
        "* Padding: padding satisfies the sequence with the given max_length like if the max_length is 20 and our text has only 15 words, so after tokenizing it, the text will get padded with 1’s to get the sequence length of 20. The padding can be done from the front as well as the end of the sequence.\n",
        "\n",
        "* Stride: Stride is the rate with how much token length the truncated sequence should be patched with the next one. It is basically used to handle the overflow.\n",
        "\n",
        "* Truncation: cutting the sequence after the max_length is reached.\n",
        "\n",
        "* start_token/end__token: The starting token of a specific observation needs to be fetched, for example, the start token of answers in the context, and the similar is the end token which is the ending token of that answer.\n",
        "\n",
        "* attention_mask: Attention masks tell the attention mechanism in the model to exclude the paddings that aren’t the actual tokens. It makes us easy to distinguish between the actual tokens and the padding in the combined sequence.\n"
      ]
    },
    {
      "cell_type": "markdown",
      "id": "5db8d600",
      "metadata": {
        "papermill": {
          "duration": 0.030662,
          "end_time": "2023-02-22T10:46:15.360107",
          "exception": false,
          "start_time": "2023-02-22T10:46:15.329445",
          "status": "completed"
        },
        "tags": [],
        "id": "5db8d600"
      },
      "source": [
        "## ROBERTA Tokenization style\n",
        "Roberta uses the byte-level Byte-Pair-Encoding method derived from GPT-2. The vocabulary consists of 50000-word pieces. \\U0120 as the unique character is used in the byte pair encoding, which hasn’t been made visible to us by hugging face. BPE is like a data compression algorithm in which the most common pair of consecutive bytes of data is replaced with a byte that does not occur in that Data.\n",
        "Consider data ggghgghggh during encoding this Data. The byte pair gg occurs most often, so we will replace it with K. The rare words are broken down into more subword tokens. So this is a basic idea behind BPE."
      ]
    },
    {
      "cell_type": "markdown",
      "id": "d539bcf5",
      "metadata": {
        "papermill": {
          "duration": 0.02996,
          "end_time": "2023-02-22T10:46:15.420475",
          "exception": false,
          "start_time": "2023-02-22T10:46:15.390515",
          "status": "completed"
        },
        "tags": [],
        "id": "d539bcf5"
      },
      "source": [
        "## Model\n",
        "Roberta stands for Robustly Optimized BERT Pre-training Approach trained on 160 GB of data like the BookCorpus (Zhu et al., 2015), Wikipedia, and some additional data. Robert is just a BERT acquainted with dynamic masking, and without next sentence prediction, like how usually BERT is pretrained with masked language modelling and next sentence prediction, the NSP is eliminated in the case of Roberta model. I won’t detail the internal model working, which I have already explained in my previous posts."
      ]
    },
    {
      "cell_type": "markdown",
      "id": "759a59c7",
      "metadata": {
        "papermill": {
          "duration": 0.031138,
          "end_time": "2023-02-22T10:46:15.482283",
          "exception": false,
          "start_time": "2023-02-22T10:46:15.451145",
          "status": "completed"
        },
        "tags": [],
        "id": "759a59c7"
      },
      "source": [
        "## Implementation\n",
        "In this competition, you will be predicting the answers to questions in Hindi and Tamil. The answers are drawn directly (see the Evaluation page for details) from a limited context. We have provided a small number of samples to check your code with. There is also a hidden test set.\n",
        "All files should be encoded as UTF-8."
      ]
    },
    {
      "cell_type": "markdown",
      "id": "0d0a52e6",
      "metadata": {
        "papermill": {
          "duration": 0.03091,
          "end_time": "2023-02-22T10:46:15.543692",
          "exception": false,
          "start_time": "2023-02-22T10:46:15.512782",
          "status": "completed"
        },
        "tags": [],
        "id": "0d0a52e6"
      },
      "source": [
        "## Steps included in the project:\n",
        "Loading the training and test data that was already given in my case.\n",
        "Preprocessing data seems one of the challenging parts of the overall problem. This includes preparing the training and validation features.\n",
        "Training the model on our preprocessed Data\n",
        "postprocessing\n",
        "prediction"
      ]
    },
    {
      "cell_type": "markdown",
      "id": "3b673c4e",
      "metadata": {
        "papermill": {
          "duration": 0.030673,
          "end_time": "2023-02-22T10:46:15.604646",
          "exception": false,
          "start_time": "2023-02-22T10:46:15.573973",
          "status": "completed"
        },
        "tags": [],
        "id": "3b673c4e"
      },
      "source": [
        "The data was taken from the Kaggle competition “chaii — Hindi and Tamil Question Answering” hosted by Google. Here’s the link to the data. Our task is to Identify the answer to questions found in Indian language passages in the dataset. The columns in the data include id context question answer_text answer_start language.\n",
        "The training set has 747 Hindi and 368 Tamil examples. In the test data, we have provided 5 examples; we don’t have answer_text and answer_start. We have been provided with the context, question, answer_text, and answer_start. We just need to find the answer in the context using start and end span. We just need to predict the answer text."
      ]
    },
    {
      "cell_type": "markdown",
      "id": "702a8a66",
      "metadata": {
        "papermill": {
          "duration": 0.030326,
          "end_time": "2023-02-22T10:46:15.665283",
          "exception": false,
          "start_time": "2023-02-22T10:46:15.634957",
          "status": "completed"
        },
        "tags": [],
        "id": "702a8a66"
      },
      "source": [
        "Dependencies"
      ]
    },
    {
      "cell_type": "code",
      "execution_count": null,
      "id": "bf152d07",
      "metadata": {
        "execution": {
          "iopub.execute_input": "2023-02-22T10:46:15.732004Z",
          "iopub.status.busy": "2023-02-22T10:46:15.731351Z",
          "iopub.status.idle": "2023-02-22T10:46:15.733667Z",
          "shell.execute_reply": "2023-02-22T10:46:15.734036Z",
          "shell.execute_reply.started": "2023-02-22T10:06:01.291428Z"
        },
        "papermill": {
          "duration": 0.038727,
          "end_time": "2023-02-22T10:46:15.734300",
          "exception": false,
          "start_time": "2023-02-22T10:46:15.695573",
          "status": "completed"
        },
        "tags": [],
        "id": "bf152d07"
      },
      "outputs": [],
      "source": [
        "# !pip install Dataset\n",
        "#!pip uninstall fsspec -qq -y\n",
        "#!pip install --no-index --find-links ../input/hf-datasets/wheels datasets -qq\n",
        "# !pip install fsspec"
      ]
    },
    {
      "cell_type": "markdown",
      "id": "681b48ea",
      "metadata": {
        "papermill": {
          "duration": 0.0303,
          "end_time": "2023-02-22T10:46:15.794995",
          "exception": false,
          "start_time": "2023-02-22T10:46:15.764695",
          "status": "completed"
        },
        "tags": [],
        "id": "681b48ea"
      },
      "source": [
        "Import libraries"
      ]
    },
    {
      "cell_type": "code",
      "execution_count": null,
      "id": "10c8d324",
      "metadata": {
        "_cell_guid": "b1076dfc-b9ad-4769-8c92-a6c4dae69d19",
        "_uuid": "8f2839f25d086af736a60e9eeb907d3b93b6e0e5",
        "execution": {
          "iopub.execute_input": "2023-02-22T10:46:15.937054Z",
          "iopub.status.busy": "2023-02-22T10:46:15.935997Z",
          "iopub.status.idle": "2023-02-22T10:46:26.529187Z",
          "shell.execute_reply": "2023-02-22T10:46:26.529662Z",
          "shell.execute_reply.started": "2023-02-22T10:06:01.297404Z"
        },
        "papermill": {
          "duration": 10.704558,
          "end_time": "2023-02-22T10:46:26.529824",
          "exception": false,
          "start_time": "2023-02-22T10:46:15.825266",
          "status": "completed"
        },
        "tags": [],
        "id": "10c8d324",
        "outputId": "80340b33-ea73-4615-cf05-76b5f455a369"
      },
      "outputs": [
        {
          "name": "stderr",
          "output_type": "stream",
          "text": [
            "2023-02-22 10:46:21.870217: I tensorflow/stream_executor/platform/default/dso_loader.cc:49] Successfully opened dynamic library libcudart.so.11.0\n"
          ]
        },
        {
          "name": "stdout",
          "output_type": "stream",
          "text": [
            "/kaggle/input/chaii-hindi-and-tamil-question-answering/sample_submission.csv\n",
            "/kaggle/input/chaii-hindi-and-tamil-question-answering/train.csv\n",
            "/kaggle/input/chaii-hindi-and-tamil-question-answering/test.csv\n",
            "/kaggle/input/hf-datasets/wheels/multiprocess-0.70.11.1-py37-none-any.whl\n",
            "/kaggle/input/hf-datasets/wheels/tqdm-4.49.0-py2.py3-none-any.whl\n",
            "/kaggle/input/hf-datasets/wheels/huggingface_hub-0.0.9-py3-none-any.whl\n",
            "/kaggle/input/hf-datasets/wheels/filelock-3.0.12-py3-none-any.whl\n",
            "/kaggle/input/hf-datasets/wheels/typing_extensions-3.10.0.0-py3-none-any.whl\n",
            "/kaggle/input/hf-datasets/wheels/certifi-2021.5.30-py2.py3-none-any.whl\n",
            "/kaggle/input/hf-datasets/wheels/pandas-1.2.4-cp37-cp37m-manylinux1_x86_64.whl\n",
            "/kaggle/input/hf-datasets/wheels/numpy-1.20.3-cp37-cp37m-manylinux_2_12_x86_64.manylinux2010_x86_64.whl\n",
            "/kaggle/input/hf-datasets/wheels/fsspec-2021.6.0-py3-none-any.whl\n",
            "/kaggle/input/hf-datasets/wheels/datasets-1.7.0-py3-none-any.whl\n",
            "/kaggle/input/hf-datasets/wheels/python_dateutil-2.8.1-py2.py3-none-any.whl\n",
            "/kaggle/input/hf-datasets/wheels/idna-2.10-py2.py3-none-any.whl\n",
            "/kaggle/input/hf-datasets/wheels/six-1.16.0-py2.py3-none-any.whl\n",
            "/kaggle/input/hf-datasets/wheels/pyparsing-2.4.7-py2.py3-none-any.whl\n",
            "/kaggle/input/hf-datasets/wheels/xxhash-2.0.2-cp37-cp37m-manylinux2010_x86_64.whl\n",
            "/kaggle/input/hf-datasets/wheels/importlib_metadata-4.5.0-py3-none-any.whl\n",
            "/kaggle/input/hf-datasets/wheels/chardet-4.0.0-py2.py3-none-any.whl\n",
            "/kaggle/input/hf-datasets/wheels/dill-0.3.3-py2.py3-none-any.whl\n",
            "/kaggle/input/hf-datasets/wheels/pyarrow-3.0.0-cp37-cp37m-manylinux2014_x86_64.whl\n",
            "/kaggle/input/hf-datasets/wheels/packaging-20.9-py2.py3-none-any.whl\n",
            "/kaggle/input/hf-datasets/wheels/pytz-2021.1-py2.py3-none-any.whl\n",
            "/kaggle/input/hf-datasets/wheels/zipp-3.4.1-py3-none-any.whl\n",
            "/kaggle/input/hf-datasets/wheels/urllib3-1.26.5-py2.py3-none-any.whl\n",
            "/kaggle/input/hf-datasets/wheels/requests-2.25.1-py2.py3-none-any.whl\n",
            "/kaggle/input/xlm-roberta-squad2/deepset/xlm-roberta-large-squad2/config.json\n",
            "/kaggle/input/xlm-roberta-squad2/deepset/xlm-roberta-large-squad2/tokenizer.json\n",
            "/kaggle/input/xlm-roberta-squad2/deepset/xlm-roberta-large-squad2/tokenizer_config.json\n",
            "/kaggle/input/xlm-roberta-squad2/deepset/xlm-roberta-large-squad2/pytorch_model.bin\n",
            "/kaggle/input/xlm-roberta-squad2/deepset/xlm-roberta-large-squad2/special_tokens_map.json\n",
            "/kaggle/input/xlm-roberta-squad2/deepset/xlm-roberta-large-squad2/sentencepiece.bpe.model\n",
            "/kaggle/input/xlm-roberta-squad2/deepset/xlm-roberta-base-squad2/config.json\n",
            "/kaggle/input/xlm-roberta-squad2/deepset/xlm-roberta-base-squad2/tokenizer.json\n",
            "/kaggle/input/xlm-roberta-squad2/deepset/xlm-roberta-base-squad2/tokenizer_config.json\n",
            "/kaggle/input/xlm-roberta-squad2/deepset/xlm-roberta-base-squad2/pytorch_model.bin\n",
            "/kaggle/input/xlm-roberta-squad2/deepset/xlm-roberta-base-squad2/special_tokens_map.json\n",
            "/kaggle/input/xlm-roberta-squad2/deepset/xlm-roberta-base-squad2/sentencepiece.bpe.model\n"
          ]
        }
      ],
      "source": [
        "\n",
        "import numpy as np # linear algebra\n",
        "import pandas as pd # data processing, CSV file I/O (e.g. pd.read_csv)\n",
        "# from transformers import *\n",
        "from transformers import default_data_collator, Trainer\n",
        "from transformers import AutoTokenizer, TrainingArguments,AutoModelForQuestionAnswering\n",
        "import tensorflow as tf\n",
        "# import collection\n",
        "from datasets import Dataset\n",
        "import os\n",
        "\n",
        "for dirname, _, filenames in os.walk('/kaggle/input'):\n",
        "    for filename in filenames:\n",
        "        print(os.path.join(dirname, filename))\n"
      ]
    },
    {
      "cell_type": "markdown",
      "id": "66a7ca6f",
      "metadata": {
        "papermill": {
          "duration": 0.030812,
          "end_time": "2023-02-22T10:46:26.593573",
          "exception": false,
          "start_time": "2023-02-22T10:46:26.562761",
          "status": "completed"
        },
        "tags": [],
        "id": "66a7ca6f"
      },
      "source": [
        "Loading the data"
      ]
    },
    {
      "cell_type": "code",
      "execution_count": null,
      "id": "c9b22d6e",
      "metadata": {
        "execution": {
          "iopub.execute_input": "2023-02-22T10:46:26.660647Z",
          "iopub.status.busy": "2023-02-22T10:46:26.660039Z",
          "iopub.status.idle": "2023-02-22T10:46:27.390574Z",
          "shell.execute_reply": "2023-02-22T10:46:27.391128Z",
          "shell.execute_reply.started": "2023-02-22T10:06:01.328346Z"
        },
        "papermill": {
          "duration": 0.766785,
          "end_time": "2023-02-22T10:46:27.391332",
          "exception": false,
          "start_time": "2023-02-22T10:46:26.624547",
          "status": "completed"
        },
        "tags": [],
        "id": "c9b22d6e",
        "outputId": "c178f3ab-c7b1-40a1-8b3f-4cf8140f95c0"
      },
      "outputs": [
        {
          "data": {
            "text/html": [
              "<div>\n",
              "<style scoped>\n",
              "    .dataframe tbody tr th:only-of-type {\n",
              "        vertical-align: middle;\n",
              "    }\n",
              "\n",
              "    .dataframe tbody tr th {\n",
              "        vertical-align: top;\n",
              "    }\n",
              "\n",
              "    .dataframe thead th {\n",
              "        text-align: right;\n",
              "    }\n",
              "</style>\n",
              "<table border=\"1\" class=\"dataframe\">\n",
              "  <thead>\n",
              "    <tr style=\"text-align: right;\">\n",
              "      <th></th>\n",
              "      <th>id</th>\n",
              "      <th>context</th>\n",
              "      <th>question</th>\n",
              "      <th>answer_text</th>\n",
              "      <th>answer_start</th>\n",
              "      <th>language</th>\n",
              "    </tr>\n",
              "  </thead>\n",
              "  <tbody>\n",
              "    <tr>\n",
              "      <th>0</th>\n",
              "      <td>903deec17</td>\n",
              "      <td>ஒரு சாதாரண வளர்ந்த மனிதனுடைய எலும்புக்கூடு பின...</td>\n",
              "      <td>மனித உடலில் எத்தனை எலும்புகள் உள்ளன?</td>\n",
              "      <td>206</td>\n",
              "      <td>53</td>\n",
              "      <td>tamil</td>\n",
              "    </tr>\n",
              "    <tr>\n",
              "      <th>1</th>\n",
              "      <td>d9841668c</td>\n",
              "      <td>காளிதாசன் (தேவநாகரி: कालिदास) சமஸ்கிருத இலக்கி...</td>\n",
              "      <td>காளிதாசன் எங்கு பிறந்தார்?</td>\n",
              "      <td>காசுமீரில்</td>\n",
              "      <td>2358</td>\n",
              "      <td>tamil</td>\n",
              "    </tr>\n",
              "    <tr>\n",
              "      <th>2</th>\n",
              "      <td>29d154b56</td>\n",
              "      <td>சர் அலெக்ஸாண்டர் ஃபிளெமிங் (Sir Alexander Flem...</td>\n",
              "      <td>பென்சிலின் கண்டுபிடித்தவர் யார்?</td>\n",
              "      <td>சர் அலெக்ஸாண்டர் ஃபிளெமிங்</td>\n",
              "      <td>0</td>\n",
              "      <td>tamil</td>\n",
              "    </tr>\n",
              "    <tr>\n",
              "      <th>3</th>\n",
              "      <td>41660850a</td>\n",
              "      <td>குழந்தையின் அழுகையை  நிறுத்தவும், தூங்க வைக்கவ...</td>\n",
              "      <td>தமிழ்நாட்டில் குழந்தைகளை தூங்க வைக்க பாடும் பா...</td>\n",
              "      <td>தாலாட்டு</td>\n",
              "      <td>68</td>\n",
              "      <td>tamil</td>\n",
              "    </tr>\n",
              "    <tr>\n",
              "      <th>4</th>\n",
              "      <td>b29c82c22</td>\n",
              "      <td>சூரியக் குடும்பம் \\nசூரியக் குடும்பம் (Solar S...</td>\n",
              "      <td>பூமியின் அருகில் உள்ள விண்மீன் எது?</td>\n",
              "      <td>சூரியனும்</td>\n",
              "      <td>585</td>\n",
              "      <td>tamil</td>\n",
              "    </tr>\n",
              "  </tbody>\n",
              "</table>\n",
              "</div>"
            ],
            "text/plain": [
              "          id                                            context  \\\n",
              "0  903deec17  ஒரு சாதாரண வளர்ந்த மனிதனுடைய எலும்புக்கூடு பின...   \n",
              "1  d9841668c  காளிதாசன் (தேவநாகரி: कालिदास) சமஸ்கிருத இலக்கி...   \n",
              "2  29d154b56  சர் அலெக்ஸாண்டர் ஃபிளெமிங் (Sir Alexander Flem...   \n",
              "3  41660850a  குழந்தையின் அழுகையை  நிறுத்தவும், தூங்க வைக்கவ...   \n",
              "4  b29c82c22  சூரியக் குடும்பம் \\nசூரியக் குடும்பம் (Solar S...   \n",
              "\n",
              "                                            question  \\\n",
              "0               மனித உடலில் எத்தனை எலும்புகள் உள்ளன?   \n",
              "1                         காளிதாசன் எங்கு பிறந்தார்?   \n",
              "2                   பென்சிலின் கண்டுபிடித்தவர் யார்?   \n",
              "3  தமிழ்நாட்டில் குழந்தைகளை தூங்க வைக்க பாடும் பா...   \n",
              "4                பூமியின் அருகில் உள்ள விண்மீன் எது?   \n",
              "\n",
              "                  answer_text  answer_start language  \n",
              "0                         206            53    tamil  \n",
              "1                  காசுமீரில்          2358    tamil  \n",
              "2  சர் அலெக்ஸாண்டர் ஃபிளெமிங்             0    tamil  \n",
              "3                    தாலாட்டு            68    tamil  \n",
              "4                   சூரியனும்           585    tamil  "
            ]
          },
          "execution_count": 3,
          "metadata": {},
          "output_type": "execute_result"
        }
      ],
      "source": [
        "train = pd.read_csv('../input/chaii-hindi-and-tamil-question-answering/train.csv')\n",
        "train.head()"
      ]
    },
    {
      "cell_type": "code",
      "execution_count": null,
      "id": "e95d52cb",
      "metadata": {
        "execution": {
          "iopub.execute_input": "2023-02-22T10:46:27.459684Z",
          "iopub.status.busy": "2023-02-22T10:46:27.459079Z",
          "iopub.status.idle": "2023-02-22T10:46:27.479591Z",
          "shell.execute_reply": "2023-02-22T10:46:27.480002Z",
          "shell.execute_reply.started": "2023-02-22T10:06:01.674371Z"
        },
        "papermill": {
          "duration": 0.056502,
          "end_time": "2023-02-22T10:46:27.480145",
          "exception": false,
          "start_time": "2023-02-22T10:46:27.423643",
          "status": "completed"
        },
        "tags": [],
        "id": "e95d52cb",
        "outputId": "863f859a-47f8-4a83-c746-b897ad65f5b3"
      },
      "outputs": [
        {
          "data": {
            "text/html": [
              "<div>\n",
              "<style scoped>\n",
              "    .dataframe tbody tr th:only-of-type {\n",
              "        vertical-align: middle;\n",
              "    }\n",
              "\n",
              "    .dataframe tbody tr th {\n",
              "        vertical-align: top;\n",
              "    }\n",
              "\n",
              "    .dataframe thead th {\n",
              "        text-align: right;\n",
              "    }\n",
              "</style>\n",
              "<table border=\"1\" class=\"dataframe\">\n",
              "  <thead>\n",
              "    <tr style=\"text-align: right;\">\n",
              "      <th></th>\n",
              "      <th>id</th>\n",
              "      <th>context</th>\n",
              "      <th>question</th>\n",
              "      <th>language</th>\n",
              "    </tr>\n",
              "  </thead>\n",
              "  <tbody>\n",
              "    <tr>\n",
              "      <th>0</th>\n",
              "      <td>22bff3dec</td>\n",
              "      <td>ज्वाला गुट्टा (जन्म: 7 सितंबर 1983; वर्धा, महा...</td>\n",
              "      <td>ज्वाला गुट्टा की माँ का नाम क्या है</td>\n",
              "      <td>hindi</td>\n",
              "    </tr>\n",
              "    <tr>\n",
              "      <th>1</th>\n",
              "      <td>282758170</td>\n",
              "      <td>गूगल मानचित्र (Google Maps) (पूर्व में गूगल लो...</td>\n",
              "      <td>गूगल मैप्स कब लॉन्च किया गया था?</td>\n",
              "      <td>hindi</td>\n",
              "    </tr>\n",
              "    <tr>\n",
              "      <th>2</th>\n",
              "      <td>d60987e0e</td>\n",
              "      <td>गुस्ताव रॉबर्ट किरचॉफ़ (१२ मार्च १८२४ - १७ अक्...</td>\n",
              "      <td>गुस्ताव किरचॉफ का जन्म कब हुआ था?</td>\n",
              "      <td>hindi</td>\n",
              "    </tr>\n",
              "    <tr>\n",
              "      <th>3</th>\n",
              "      <td>f99c770dc</td>\n",
              "      <td>அலுமினியம் (ஆங்கிலம்: அலுமினியம்; வட அமெரிக்க ...</td>\n",
              "      <td>அலுமினியத்தின் அணு எண் என்ன?</td>\n",
              "      <td>tamil</td>\n",
              "    </tr>\n",
              "    <tr>\n",
              "      <th>4</th>\n",
              "      <td>40dec1964</td>\n",
              "      <td>கூட்டுறவு இயக்க வரலாறு, இங்கிலாந்து  நாட்டில் ...</td>\n",
              "      <td>இந்தியாவில் பசுமை புரட்சியின் தந்தை என்று கருத...</td>\n",
              "      <td>tamil</td>\n",
              "    </tr>\n",
              "  </tbody>\n",
              "</table>\n",
              "</div>"
            ],
            "text/plain": [
              "          id                                            context  \\\n",
              "0  22bff3dec  ज्वाला गुट्टा (जन्म: 7 सितंबर 1983; वर्धा, महा...   \n",
              "1  282758170  गूगल मानचित्र (Google Maps) (पूर्व में गूगल लो...   \n",
              "2  d60987e0e  गुस्ताव रॉबर्ट किरचॉफ़ (१२ मार्च १८२४ - १७ अक्...   \n",
              "3  f99c770dc  அலுமினியம் (ஆங்கிலம்: அலுமினியம்; வட அமெரிக்க ...   \n",
              "4  40dec1964  கூட்டுறவு இயக்க வரலாறு, இங்கிலாந்து  நாட்டில் ...   \n",
              "\n",
              "                                            question language  \n",
              "0                ज्वाला गुट्टा की माँ का नाम क्या है    hindi  \n",
              "1                   गूगल मैप्स कब लॉन्च किया गया था?    hindi  \n",
              "2                  गुस्ताव किरचॉफ का जन्म कब हुआ था?    hindi  \n",
              "3                       அலுமினியத்தின் அணு எண் என்ன?    tamil  \n",
              "4  இந்தியாவில் பசுமை புரட்சியின் தந்தை என்று கருத...    tamil  "
            ]
          },
          "execution_count": 4,
          "metadata": {},
          "output_type": "execute_result"
        }
      ],
      "source": [
        "test = pd.read_csv('../input/chaii-hindi-and-tamil-question-answering/test.csv')\n",
        "test.head()"
      ]
    },
    {
      "cell_type": "markdown",
      "id": "829b05c6",
      "metadata": {
        "papermill": {
          "duration": 0.032286,
          "end_time": "2023-02-22T10:46:27.544495",
          "exception": false,
          "start_time": "2023-02-22T10:46:27.512209",
          "status": "completed"
        },
        "tags": [],
        "id": "829b05c6"
      },
      "source": [
        "Tokenizer"
      ]
    },
    {
      "cell_type": "code",
      "execution_count": null,
      "id": "1f88077a",
      "metadata": {
        "execution": {
          "iopub.execute_input": "2023-02-22T10:46:27.614005Z",
          "iopub.status.busy": "2023-02-22T10:46:27.613448Z",
          "iopub.status.idle": "2023-02-22T10:46:28.460359Z",
          "shell.execute_reply": "2023-02-22T10:46:28.459835Z",
          "shell.execute_reply.started": "2023-02-22T10:06:01.693479Z"
        },
        "papermill": {
          "duration": 0.884389,
          "end_time": "2023-02-22T10:46:28.460509",
          "exception": false,
          "start_time": "2023-02-22T10:46:27.576120",
          "status": "completed"
        },
        "tags": [],
        "id": "1f88077a"
      },
      "outputs": [],
      "source": [
        "tokenizer = AutoTokenizer.from_pretrained(\"../input/xlm-roberta-squad2/deepset/xlm-roberta-large-squad2\")"
      ]
    },
    {
      "cell_type": "markdown",
      "id": "4825cc7d",
      "metadata": {
        "papermill": {
          "duration": 0.031689,
          "end_time": "2023-02-22T10:46:28.525033",
          "exception": false,
          "start_time": "2023-02-22T10:46:28.493344",
          "status": "completed"
        },
        "tags": [],
        "id": "4825cc7d"
      },
      "source": [
        "Set max_length, batch_size and doc_stride"
      ]
    },
    {
      "cell_type": "code",
      "execution_count": null,
      "id": "f181aaa3",
      "metadata": {
        "execution": {
          "iopub.execute_input": "2023-02-22T10:46:28.594396Z",
          "iopub.status.busy": "2023-02-22T10:46:28.593565Z",
          "iopub.status.idle": "2023-02-22T10:46:28.595613Z",
          "shell.execute_reply": "2023-02-22T10:46:28.595974Z",
          "shell.execute_reply.started": "2023-02-22T10:06:02.520369Z"
        },
        "papermill": {
          "duration": 0.038571,
          "end_time": "2023-02-22T10:46:28.596121",
          "exception": false,
          "start_time": "2023-02-22T10:46:28.557550",
          "status": "completed"
        },
        "tags": [],
        "id": "f181aaa3"
      },
      "outputs": [],
      "source": [
        "batch_size = 4\n",
        "max_length = 384 \n",
        "doc_stride = 128\n",
        "pad_on_right = tokenizer.padding_side == \"right\""
      ]
    },
    {
      "cell_type": "markdown",
      "id": "3bdd04ad",
      "metadata": {
        "papermill": {
          "duration": 0.031628,
          "end_time": "2023-02-22T10:46:28.659469",
          "exception": false,
          "start_time": "2023-02-22T10:46:28.627841",
          "status": "completed"
        },
        "tags": [],
        "id": "3bdd04ad"
      },
      "source": [
        "Defining a function that will prepare training data for us."
      ]
    },
    {
      "cell_type": "code",
      "execution_count": null,
      "id": "0cd7590c",
      "metadata": {
        "execution": {
          "iopub.execute_input": "2023-02-22T10:46:28.736807Z",
          "iopub.status.busy": "2023-02-22T10:46:28.735156Z",
          "iopub.status.idle": "2023-02-22T10:46:28.737437Z",
          "shell.execute_reply": "2023-02-22T10:46:28.737847Z",
          "shell.execute_reply.started": "2023-02-22T10:06:02.526286Z"
        },
        "papermill": {
          "duration": 0.046683,
          "end_time": "2023-02-22T10:46:28.737984",
          "exception": false,
          "start_time": "2023-02-22T10:46:28.691301",
          "status": "completed"
        },
        "tags": [],
        "id": "0cd7590c"
      },
      "outputs": [],
      "source": [
        "def prepare_train_features(examples):\n",
        "    # Some of the questions have lots of whitespace on the left, which is not useful and will make the\n",
        "    # truncation of the context fail (the tokenized question will take a lots of space). So we remove that\n",
        "    # left whitespace\n",
        "    examples[\"question\"] = [q.lstrip() for q in examples[\"question\"]]\n",
        "\n",
        "    # Tokenize our examples with truncation and padding, but keep the overflows using a stride. This results\n",
        "    # in one example possible giving several features when a context is long, each of those features having a\n",
        "    # context that overlaps a bit the context of the previous feature.\n",
        "    tokenized_examples = tokenizer(\n",
        "        examples[\"question\" if pad_on_right else \"context\"],\n",
        "        examples[\"context\" if pad_on_right else \"question\"],\n",
        "        truncation=\"only_second\" if pad_on_right else \"only_first\",\n",
        "        max_length=max_length,\n",
        "        stride=doc_stride,\n",
        "        return_overflowing_tokens=True,\n",
        "        return_offsets_mapping=True,\n",
        "        padding=\"max_length\",\n",
        "    )\n",
        "\n",
        "    # Since one example might give us several features if it has a long context, we need a map from a feature to\n",
        "    # its corresponding example. This key gives us just that.\n",
        "    sample_mapping = tokenized_examples.pop(\"overflow_to_sample_mapping\")\n",
        "    # The offset mappings will give us a map from token to character position in the original context. This will\n",
        "    # help us compute the start_positions and end_positions.\n",
        "    offset_mapping = tokenized_examples.pop(\"offset_mapping\")\n",
        "\n",
        "    # Let's label those examples!\n",
        "    tokenized_examples[\"start_positions\"] = []\n",
        "    tokenized_examples[\"end_positions\"] = []\n",
        "\n",
        "    for i, offsets in enumerate(offset_mapping):\n",
        "        # We will label impossible answers with the index of the CLS token.\n",
        "        input_ids = tokenized_examples[\"input_ids\"][i]\n",
        "        cls_index = input_ids.index(tokenizer.cls_token_id)\n",
        "\n",
        "        # Grab the sequence corresponding to that example (to know what is the context and what is the question).\n",
        "        sequence_ids = tokenized_examples.sequence_ids(i)\n",
        "\n",
        "        # One example can give several spans, this is the index of the example containing this span of text.\n",
        "        sample_index = sample_mapping[i]\n",
        "        answers = examples[\"answers\"][sample_index]\n",
        "        # If no answers are given, set the cls_index as answer.\n",
        "        if len(answers[\"answer_start\"]) == 0:\n",
        "            tokenized_examples[\"start_positions\"].append(cls_index)\n",
        "            tokenized_examples[\"end_positions\"].append(cls_index)\n",
        "        else:\n",
        "            # Start/end character index of the answer in the text.\n",
        "            start_char = answers[\"answer_start\"][0]\n",
        "            end_char = start_char + len(answers[\"text\"][0])\n",
        "\n",
        "            # Start token index of the current span in the text.\n",
        "            token_start_index = 0\n",
        "            while sequence_ids[token_start_index] != (1 if pad_on_right else 0):\n",
        "                token_start_index += 1\n",
        "\n",
        "            # End token index of the current span in the text.\n",
        "            token_end_index = len(input_ids) - 1\n",
        "            while sequence_ids[token_end_index] != (1 if pad_on_right else 0):\n",
        "                token_end_index -= 1\n",
        "\n",
        "            # Detect if the answer is out of the span (in which case this feature is labeled with the CLS index).\n",
        "            if not (offsets[token_start_index][0] <= start_char and offsets[token_end_index][1] >= end_char):\n",
        "                tokenized_examples[\"start_positions\"].append(cls_index)\n",
        "                tokenized_examples[\"end_positions\"].append(cls_index)\n",
        "            else:\n",
        "                # Otherwise move the token_start_index and token_end_index to the two ends of the answer.\n",
        "                # Note: we could go after the last offset if the answer is the last word (edge case).\n",
        "                while token_start_index < len(offsets) and offsets[token_start_index][0] <= start_char:\n",
        "                    token_start_index += 1\n",
        "                tokenized_examples[\"start_positions\"].append(token_start_index - 1)\n",
        "                while offsets[token_end_index][1] >= end_char:\n",
        "                    token_end_index -= 1\n",
        "                tokenized_examples[\"end_positions\"].append(token_end_index + 1)\n",
        "\n",
        "    return tokenized_examples"
      ]
    },
    {
      "cell_type": "markdown",
      "id": "e5ac59d6",
      "metadata": {
        "papermill": {
          "duration": 0.031765,
          "end_time": "2023-02-22T10:46:28.801818",
          "exception": false,
          "start_time": "2023-02-22T10:46:28.770053",
          "status": "completed"
        },
        "tags": [],
        "id": "e5ac59d6"
      },
      "source": [
        "Let us see how exactly this function works.\n",
        "We’ll be passing the training data to this function. Firstly, the whitespace will be removed, which is present on the left of some questions in train data. Next is one of the extensive steps which is used in every transformer model, the tokenizer. The tokenizer tokenizes sentences into chunks, as shown below.\n",
        "\n",
        "    <s> sequence_1 </s></s> sequence_2 </s> \n",
        "\n",
        "Where <s> is the classifier token and </s> is the separator token. We pass the question and context to the tokenizer, checking whether the tokenizer padding position is on the right or left, but it is to the left by default. So the tokenizer will tokenize the sequences along with padding the sequences with max_length to satisfy the given sequence limit. We have added a truncation parameter to the tokenizer that truncates the sequence after the max_length limit. The stride specifies that by what length of tokens the sequence should overlap with the previous overflowed sequence. While truncating sequences, we may lose a lot of data which isn’t a good practice in terms of data science. To overcome this problem, we need to return the overflowed sequences to forward them to further sequence to get overlapped with them. We also return the offset mappings, which gives us the map of the positions of the tokens.\n",
        "In the next step, we extract the sample mapping that counts the split of a pair it has made. As we know the offset_mapping gives us the positional information of the sequences. Lastly, we start collecting the start and end tokens with some logic applied in the loop. We extract the sequence_ids, which helps us to distinguish between the question and context. The cls_index is the classifier token index. The function above processes a single sample at a time. In the case where the answer does not exist in the context, we place the start and end positions. The sample_index is the index of the example containing this span of text, i.e. the sample mapping index. Finally, we’ll collect the start and end index of the specific instance in the loop; if the answer is not in the example, we’ll label it with the CLS token; otherwise, we’ll move the start and end index to the starting ending points of the answers. The function returns the list of preprocessed examples."
      ]
    },
    {
      "cell_type": "code",
      "execution_count": null,
      "id": "bfbcea70",
      "metadata": {
        "execution": {
          "iopub.execute_input": "2023-02-22T10:46:28.874058Z",
          "iopub.status.busy": "2023-02-22T10:46:28.872131Z",
          "iopub.status.idle": "2023-02-22T10:46:29.010098Z",
          "shell.execute_reply": "2023-02-22T10:46:29.009572Z",
          "shell.execute_reply.started": "2023-02-22T10:06:02.543399Z"
        },
        "papermill": {
          "duration": 0.17653,
          "end_time": "2023-02-22T10:46:29.010261",
          "exception": false,
          "start_time": "2023-02-22T10:46:28.833731",
          "status": "completed"
        },
        "tags": [],
        "id": "bfbcea70"
      },
      "outputs": [],
      "source": [
        "def convert_answers(r):\n",
        "    start = r[0]\n",
        "    text = r[1]\n",
        "    return {\n",
        "        'answer_start': [start],\n",
        "        'text': [text]\n",
        "    }\n",
        "\n",
        "train = train.sample(frac=1, random_state=42)\n",
        "train['answers'] = train[['answer_start', 'answer_text']].apply(convert_answers, axis=1)\n",
        "\n",
        "df_train = train[:-64].reset_index(drop=True)\n",
        "df_valid = train[-64:].reset_index(drop=True)\n",
        "\n",
        "train_dataset = Dataset.from_pandas(df_train)\n",
        "valid_dataset = Dataset.from_pandas(df_valid)"
      ]
    },
    {
      "cell_type": "code",
      "execution_count": null,
      "id": "45542ed4",
      "metadata": {
        "execution": {
          "iopub.execute_input": "2023-02-22T10:46:29.077673Z",
          "iopub.status.busy": "2023-02-22T10:46:29.076871Z",
          "iopub.status.idle": "2023-02-22T10:46:29.084233Z",
          "shell.execute_reply": "2023-02-22T10:46:29.083784Z",
          "shell.execute_reply.started": "2023-02-22T10:06:02.681664Z"
        },
        "papermill": {
          "duration": 0.041929,
          "end_time": "2023-02-22T10:46:29.084350",
          "exception": false,
          "start_time": "2023-02-22T10:46:29.042421",
          "status": "completed"
        },
        "tags": [],
        "id": "45542ed4",
        "outputId": "6561c618-b1cd-4804-f82e-3ad65c63bea7"
      },
      "outputs": [
        {
          "data": {
            "text/plain": [
              "{'id': 'cd1339bdd',\n",
              " 'context': 'एरीजोना (English: Arizona) संयुक्त राज्य अमेरिका के दक्षिणपश्चिमी हिस्से में स्थित राज्य है। इसका सबसे बड़ा शहर और राजधानी फ़िनक्स है। दूसरा सबसे बड़ा राज्य टक्सन है और उसके बाद फ़िनक्स के महानगर क्षेत्र स्थित शहर मेसा, ग्लेनडेल, चंदलर और स्कोत्ट्सडेल है।\\nएरीजोना संयुक्त राज्यों में शामिल होने वाला ४८व राज्य था जिसे की इसमें १४ फरबरी १९१२ को समिलित किया गया। इसी दिन इस राज्य की देश में माने जाने वाली भूमि की वर्षागाठ भी थी। एरीजोना अपने रेगिस्तानी मौसम, भयंकर गर्मी और हल्की ठंड के लिए जाना जाता है। पर राज्य के उच्च इलाकों में बहुत पहाड़ व जंगल है, इसी कारण वहाँ का मौसम अन्य राज्य के मुकाबले ठंडा रहता है। जुलाई १ २००६ के अनुसार एरीजोना देश में आबादी के हिसाब से सबसे तेजी से बढ़ता राज्य है। इससे पहले यह दर्जा नेवादा के पास था।\\nराज्य का एक-चौथाई इलाका मूल अमेरिकी आदिवासी के लिये संरक्षित है। राज्य की आधिकरिक भाषा अँग्रेजी है जिसे बोलने वाले जनसंख्या के 74 प्रतिशत है। स्पेनी 19.5 प्रतिशत द्वारा बोली जाती है। 2015 में राज्य की आबादी 68,28,065 अनुमानित की गई है। जिस हिसाब से उसका अमेरिकी राज्यों में 14वां स्थान है।\\n\\n\\nश्रेणी:संयुक्त राज्य अमेरिका के राज्य',\n",
              " 'question': 'एरिज़ोना की राजधानी क्या है?',\n",
              " 'answer_text': 'फ़िनक्स',\n",
              " 'answer_start': 123,\n",
              " 'language': 'hindi',\n",
              " 'answers': {'answer_start': [123], 'text': ['फ़िनक्स']}}"
            ]
          },
          "execution_count": 9,
          "metadata": {},
          "output_type": "execute_result"
        }
      ],
      "source": [
        "train_dataset[0]"
      ]
    },
    {
      "cell_type": "markdown",
      "id": "9fd76c3f",
      "metadata": {
        "papermill": {
          "duration": 0.032029,
          "end_time": "2023-02-22T10:46:29.148313",
          "exception": false,
          "start_time": "2023-02-22T10:46:29.116284",
          "status": "completed"
        },
        "tags": [],
        "id": "9fd76c3f"
      },
      "source": [
        "Before passing the train data to the feature preparation function, we need to create a dimension named answers consisting of answer_start and answer_text; further, we generate a random sample of the data and represent the Dataset object from a pandas DataFrame."
      ]
    },
    {
      "cell_type": "code",
      "execution_count": null,
      "id": "6bb53452",
      "metadata": {
        "execution": {
          "iopub.execute_input": "2023-02-22T10:46:29.253031Z",
          "iopub.status.busy": "2023-02-22T10:46:29.252167Z",
          "iopub.status.idle": "2023-02-22T10:47:04.761710Z",
          "shell.execute_reply": "2023-02-22T10:47:04.762091Z",
          "shell.execute_reply.started": "2023-02-22T10:06:02.692787Z"
        },
        "papermill": {
          "duration": 35.581856,
          "end_time": "2023-02-22T10:47:04.762282",
          "exception": false,
          "start_time": "2023-02-22T10:46:29.180426",
          "status": "completed"
        },
        "tags": [],
        "id": "6bb53452",
        "outputId": "a6eaf499-b171-434a-dc6d-4f796b4a15ae",
        "colab": {
          "referenced_widgets": [
            "7f8595e161ed48b2a6894c99b5c8d78c",
            "9609a67778c84a61aba13504e88cea82"
          ]
        }
      },
      "outputs": [
        {
          "data": {
            "application/vnd.jupyter.widget-view+json": {
              "model_id": "7f8595e161ed48b2a6894c99b5c8d78c",
              "version_major": 2,
              "version_minor": 0
            },
            "text/plain": [
              "  0%|          | 0/2 [00:00<?, ?ba/s]"
            ]
          },
          "metadata": {},
          "output_type": "display_data"
        },
        {
          "data": {
            "application/vnd.jupyter.widget-view+json": {
              "model_id": "9609a67778c84a61aba13504e88cea82",
              "version_major": 2,
              "version_minor": 0
            },
            "text/plain": [
              "  0%|          | 0/1 [00:00<?, ?ba/s]"
            ]
          },
          "metadata": {},
          "output_type": "display_data"
        }
      ],
      "source": [
        "tokenized_train_ds = train_dataset.map(prepare_train_features, batched=True, remove_columns=train_dataset.column_names)\n",
        "tokenized_valid_ds = valid_dataset.map(prepare_train_features, batched=True, remove_columns=train_dataset.column_names)"
      ]
    },
    {
      "cell_type": "markdown",
      "id": "739e16fc",
      "metadata": {
        "papermill": {
          "duration": 0.032964,
          "end_time": "2023-02-22T10:47:04.828639",
          "exception": false,
          "start_time": "2023-02-22T10:47:04.795675",
          "status": "completed"
        },
        "tags": [],
        "id": "739e16fc"
      },
      "source": [
        "The above code will be used to preprocess the train and test data by applying the prepare_train_feature function to it."
      ]
    },
    {
      "cell_type": "code",
      "execution_count": null,
      "id": "5aa600e9",
      "metadata": {
        "execution": {
          "iopub.execute_input": "2023-02-22T10:47:04.901173Z",
          "iopub.status.busy": "2023-02-22T10:47:04.899802Z",
          "iopub.status.idle": "2023-02-22T10:47:04.975679Z",
          "shell.execute_reply": "2023-02-22T10:47:04.976471Z",
          "shell.execute_reply.started": "2023-02-22T10:06:37.419647Z"
        },
        "papermill": {
          "duration": 0.114837,
          "end_time": "2023-02-22T10:47:04.976642",
          "exception": false,
          "start_time": "2023-02-22T10:47:04.861805",
          "status": "completed"
        },
        "tags": [],
        "id": "5aa600e9",
        "outputId": "32624cba-aecb-4dbb-f0a8-0a25ee62c266"
      },
      "outputs": [
        {
          "name": "stderr",
          "output_type": "stream",
          "text": [
            "Using the `WAND_DISABLED` environment variable is deprecated and will be removed in v5. Use the --report_to flag to control the integrations used for logging result (for instance --report_to none).\n"
          ]
        },
        {
          "name": "stdout",
          "output_type": "stream",
          "text": [
            "env: WANDB_DISABLED=True\n"
          ]
        }
      ],
      "source": [
        "%env WANDB_DISABLED=True\n",
        "args = TrainingArguments(\n",
        "    f\"chaii-qa\",\n",
        "    evaluation_strategy = \"epoch\",\n",
        "    save_strategy = \"epoch\",\n",
        "    learning_rate=3e-5,\n",
        "    warmup_ratio=0.1,\n",
        "    gradient_accumulation_steps=8,\n",
        "    per_device_train_batch_size=batch_size,\n",
        "    per_device_eval_batch_size=batch_size,\n",
        "    num_train_epochs=1,\n",
        "    weight_decay=0.01,\n",
        ")"
      ]
    },
    {
      "cell_type": "markdown",
      "id": "2b7d8ce4",
      "metadata": {
        "papermill": {
          "duration": 0.033089,
          "end_time": "2023-02-22T10:47:05.044141",
          "exception": false,
          "start_time": "2023-02-22T10:47:05.011052",
          "status": "completed"
        },
        "tags": [],
        "id": "2b7d8ce4"
      },
      "source": [
        "Configure the training parameters. The data_collator automatically performs padding on the model inputs in a batch to the length of the most extended example in the dataset that eliminates the need to set a maximum sequence length that is usually fixed, resulting in an accelerated performance."
      ]
    },
    {
      "cell_type": "code",
      "execution_count": null,
      "id": "575f2e62",
      "metadata": {
        "execution": {
          "iopub.execute_input": "2023-02-22T10:47:05.115104Z",
          "iopub.status.busy": "2023-02-22T10:47:05.114504Z",
          "iopub.status.idle": "2023-02-22T10:47:48.931500Z",
          "shell.execute_reply": "2023-02-22T10:47:48.930964Z",
          "shell.execute_reply.started": "2023-02-22T10:06:37.507924Z"
        },
        "papermill": {
          "duration": 43.854319,
          "end_time": "2023-02-22T10:47:48.931651",
          "exception": false,
          "start_time": "2023-02-22T10:47:05.077332",
          "status": "completed"
        },
        "tags": [],
        "id": "575f2e62"
      },
      "outputs": [],
      "source": [
        "data_collator = default_data_collator\n",
        "\n",
        "model = AutoModelForQuestionAnswering.from_pretrained('../input/xlm-roberta-squad2/deepset/xlm-roberta-large-squad2')\n",
        "\n",
        "trainer = Trainer(\n",
        "    model,\n",
        "    args,\n",
        "    train_dataset=tokenized_train_ds,\n",
        "    eval_dataset=tokenized_valid_ds,\n",
        "    data_collator=data_collator,\n",
        "    tokenizer=tokenizer,\n",
        ")"
      ]
    },
    {
      "cell_type": "markdown",
      "id": "8d9de882",
      "metadata": {
        "papermill": {
          "duration": 0.033127,
          "end_time": "2023-02-22T10:47:48.998726",
          "exception": false,
          "start_time": "2023-02-22T10:47:48.965599",
          "status": "completed"
        },
        "tags": [],
        "id": "8d9de882"
      },
      "source": [
        "The trainer.train() starts the training and thereafter it saves the model."
      ]
    },
    {
      "cell_type": "code",
      "execution_count": null,
      "id": "9aee6d5e",
      "metadata": {
        "execution": {
          "iopub.execute_input": "2023-02-22T10:47:49.071374Z",
          "iopub.status.busy": "2023-02-22T10:47:49.070689Z",
          "iopub.status.idle": "2023-02-22T11:19:55.880622Z",
          "shell.execute_reply": "2023-02-22T11:19:55.881046Z",
          "shell.execute_reply.started": "2023-02-22T10:07:24.429129Z"
        },
        "papermill": {
          "duration": 1926.848908,
          "end_time": "2023-02-22T11:19:55.881280",
          "exception": false,
          "start_time": "2023-02-22T10:47:49.032372",
          "status": "completed"
        },
        "tags": [],
        "id": "9aee6d5e",
        "outputId": "38a2c77d-2e51-4347-be47-d0063793eb65"
      },
      "outputs": [
        {
          "name": "stderr",
          "output_type": "stream",
          "text": [
            "***** Running training *****\n",
            "  Num examples = 13925\n",
            "  Num Epochs = 1\n",
            "  Instantaneous batch size per device = 4\n",
            "  Total train batch size (w. parallel, distributed & accumulation) = 32\n",
            "  Gradient Accumulation steps = 8\n",
            "  Total optimization steps = 435\n"
          ]
        },
        {
          "data": {
            "text/html": [
              "\n",
              "    <div>\n",
              "      \n",
              "      <progress value='435' max='435' style='width:300px; height:20px; vertical-align: middle;'></progress>\n",
              "      [435/435 31:49, Epoch 0/1]\n",
              "    </div>\n",
              "    <table border=\"1\" class=\"dataframe\">\n",
              "  <thead>\n",
              "    <tr style=\"text-align: left;\">\n",
              "      <th>Epoch</th>\n",
              "      <th>Training Loss</th>\n",
              "      <th>Validation Loss</th>\n",
              "    </tr>\n",
              "  </thead>\n",
              "  <tbody>\n",
              "    <tr>\n",
              "      <td>0</td>\n",
              "      <td>No log</td>\n",
              "      <td>0.264647</td>\n",
              "    </tr>\n",
              "  </tbody>\n",
              "</table><p>"
            ],
            "text/plain": [
              "<IPython.core.display.HTML object>"
            ]
          },
          "metadata": {},
          "output_type": "display_data"
        },
        {
          "name": "stderr",
          "output_type": "stream",
          "text": [
            "***** Running Evaluation *****\n",
            "  Num examples = 816\n",
            "  Batch size = 4\n",
            "Saving model checkpoint to chaii-qa/checkpoint-435\n",
            "Configuration saved in chaii-qa/checkpoint-435/config.json\n",
            "Model weights saved in chaii-qa/checkpoint-435/pytorch_model.bin\n",
            "tokenizer config file saved in chaii-qa/checkpoint-435/tokenizer_config.json\n",
            "Special tokens file saved in chaii-qa/checkpoint-435/special_tokens_map.json\n",
            "\n",
            "\n",
            "Training completed. Do not forget to share your model on huggingface.co/models =)\n",
            "\n",
            "\n",
            "Saving model checkpoint to chaii-bert-trained\n",
            "Configuration saved in chaii-bert-trained/config.json\n",
            "Model weights saved in chaii-bert-trained/pytorch_model.bin\n",
            "tokenizer config file saved in chaii-bert-trained/tokenizer_config.json\n",
            "Special tokens file saved in chaii-bert-trained/special_tokens_map.json\n"
          ]
        }
      ],
      "source": [
        "trainer.train()\n",
        "trainer.save_model(\"chaii-bert-trained\")"
      ]
    },
    {
      "cell_type": "code",
      "execution_count": null,
      "id": "06eb7efb",
      "metadata": {
        "execution": {
          "iopub.execute_input": "2023-02-22T11:19:56.071579Z",
          "iopub.status.busy": "2023-02-22T11:19:56.070627Z",
          "iopub.status.idle": "2023-02-22T11:19:56.073907Z",
          "shell.execute_reply": "2023-02-22T11:19:56.074337Z",
          "shell.execute_reply.started": "2023-02-22T10:39:30.813012Z"
        },
        "papermill": {
          "duration": 0.077637,
          "end_time": "2023-02-22T11:19:56.074500",
          "exception": false,
          "start_time": "2023-02-22T11:19:55.996863",
          "status": "completed"
        },
        "tags": [],
        "id": "06eb7efb"
      },
      "outputs": [],
      "source": [
        "def prepare_validation_features(examples):\n",
        "    # Some of the questions have lots of whitespace on the left, which is not useful and will make the\n",
        "    # truncation of the context fail (the tokenized question will take a lots of space). So we remove that\n",
        "    # left whitespace\n",
        "    examples[\"question\"] = [q.lstrip() for q in examples[\"question\"]]\n",
        "\n",
        "    # Tokenize our examples with truncation and maybe padding, but keep the overflows using a stride. This results\n",
        "    # in one example possible giving several features when a context is long, each of those features having a\n",
        "    # context that overlaps a bit the context of the previous feature.\n",
        "    tokenized_examples = tokenizer(\n",
        "        examples[\"question\" if pad_on_right else \"context\"],\n",
        "        examples[\"context\" if pad_on_right else \"question\"],\n",
        "        truncation=\"only_second\" if pad_on_right else \"only_first\",\n",
        "        max_length=max_length,\n",
        "        stride=doc_stride,\n",
        "        return_overflowing_tokens=True,\n",
        "        return_offsets_mapping=True,\n",
        "        padding=\"max_length\",\n",
        "    )\n",
        "\n",
        "    # Since one example might give us several features if it has a long context, we need a map from a feature to\n",
        "    # its corresponding example. This key gives us just that.\n",
        "    sample_mapping = tokenized_examples.pop(\"overflow_to_sample_mapping\")\n",
        "\n",
        "    # We keep the example_id that gave us this feature and we will store the offset mappings.\n",
        "    tokenized_examples[\"example_id\"] = []\n",
        "\n",
        "    for i in range(len(tokenized_examples[\"input_ids\"])):\n",
        "        # Grab the sequence corresponding to that example (to know what is the context and what is the question).\n",
        "        sequence_ids = tokenized_examples.sequence_ids(i)\n",
        "        context_index = 1 if pad_on_right else 0\n",
        "\n",
        "        # One example can give several spans, this is the index of the example containing this span of text.\n",
        "        sample_index = sample_mapping[i]\n",
        "        tokenized_examples[\"example_id\"].append(examples[\"id\"][sample_index])\n",
        "\n",
        "        # Set to None the offset_mapping that are not part of the context so it's easy to determine if a token\n",
        "        # position is part of the context or not.\n",
        "        tokenized_examples[\"offset_mapping\"][i] = [\n",
        "            (o if sequence_ids[k] == context_index else None)\n",
        "            for k, o in enumerate(tokenized_examples[\"offset_mapping\"][i])\n",
        "        ]\n",
        "\n",
        "    return tokenized_examples"
      ]
    },
    {
      "cell_type": "markdown",
      "id": "6705459d",
      "metadata": {
        "papermill": {
          "duration": 0.038777,
          "end_time": "2023-02-22T11:19:56.152428",
          "exception": false,
          "start_time": "2023-02-22T11:19:56.113651",
          "status": "completed"
        },
        "tags": [],
        "id": "6705459d"
      },
      "source": [
        "For validation, we don’t need to compute start and end positions; instead, we’ll collect the examples that combine to make a feature. The sample_mapping key gives us the map that provides information on the correspondence between the context and the split features from it due to the max_length limit. We’ll take the sequence_ids to know where exactly the question and context lie in the sequences. The pad_to_right is True, so the context index will be 1. Lastly, we’ll be setting the offset_mapping to None that aren’t included in the context, making it simpler to detect the context.\n",
        "In the same way as like train set we’ll be applying the prepare_validation_features function to the data."
      ]
    },
    {
      "cell_type": "code",
      "execution_count": null,
      "id": "8d4f2f2d",
      "metadata": {
        "execution": {
          "iopub.execute_input": "2023-02-22T11:19:56.277345Z",
          "iopub.status.busy": "2023-02-22T11:19:56.276553Z",
          "iopub.status.idle": "2023-02-22T11:20:00.418137Z",
          "shell.execute_reply": "2023-02-22T11:20:00.417656Z",
          "shell.execute_reply.started": "2023-02-22T10:39:30.827355Z"
        },
        "papermill": {
          "duration": 4.227056,
          "end_time": "2023-02-22T11:20:00.418297",
          "exception": false,
          "start_time": "2023-02-22T11:19:56.191241",
          "status": "completed"
        },
        "tags": [],
        "id": "8d4f2f2d",
        "outputId": "5011bc4c-3d95-4a48-8f93-43d0a6a09785",
        "colab": {
          "referenced_widgets": [
            "6daaf05d17f243fd809eca24318c4e98"
          ]
        }
      },
      "outputs": [
        {
          "data": {
            "application/vnd.jupyter.widget-view+json": {
              "model_id": "6daaf05d17f243fd809eca24318c4e98",
              "version_major": 2,
              "version_minor": 0
            },
            "text/plain": [
              "  0%|          | 0/1 [00:00<?, ?ba/s]"
            ]
          },
          "metadata": {},
          "output_type": "display_data"
        }
      ],
      "source": [
        "validation_features = valid_dataset.map(\n",
        "    prepare_validation_features,\n",
        "    batched=True,\n",
        "    remove_columns=valid_dataset.column_names\n",
        ")"
      ]
    },
    {
      "cell_type": "code",
      "execution_count": null,
      "id": "37bd4b2f",
      "metadata": {
        "execution": {
          "iopub.execute_input": "2023-02-22T11:20:00.530061Z",
          "iopub.status.busy": "2023-02-22T11:20:00.529047Z",
          "iopub.status.idle": "2023-02-22T11:20:00.534921Z",
          "shell.execute_reply": "2023-02-22T11:20:00.535449Z",
          "shell.execute_reply.started": "2023-02-22T10:39:40.626531Z"
        },
        "papermill": {
          "duration": 0.050312,
          "end_time": "2023-02-22T11:20:00.535621",
          "exception": false,
          "start_time": "2023-02-22T11:20:00.485309",
          "status": "completed"
        },
        "tags": [],
        "id": "37bd4b2f",
        "outputId": "e2f205bf-d894-4757-e0ee-fff8b6c488d0"
      },
      "outputs": [
        {
          "data": {
            "text/plain": [
              "816"
            ]
          },
          "execution_count": 16,
          "metadata": {},
          "output_type": "execute_result"
        }
      ],
      "source": [
        "len(validation_features)"
      ]
    },
    {
      "cell_type": "code",
      "execution_count": null,
      "id": "11a68858",
      "metadata": {
        "execution": {
          "iopub.execute_input": "2023-02-22T11:20:00.627137Z",
          "iopub.status.busy": "2023-02-22T11:20:00.626266Z",
          "iopub.status.idle": "2023-02-22T11:20:00.629822Z",
          "shell.execute_reply": "2023-02-22T11:20:00.630182Z",
          "shell.execute_reply.started": "2023-02-22T10:39:40.634766Z"
        },
        "papermill": {
          "duration": 0.054294,
          "end_time": "2023-02-22T11:20:00.630356",
          "exception": false,
          "start_time": "2023-02-22T11:20:00.576062",
          "status": "completed"
        },
        "tags": [],
        "id": "11a68858",
        "outputId": "28d1d540-9189-422a-8168-bb12de073a32"
      },
      "outputs": [
        {
          "data": {
            "text/plain": [
              "Dataset({\n",
              "    features: ['id', 'context', 'question', 'answer_text', 'answer_start', 'language', 'answers'],\n",
              "    num_rows: 64\n",
              "})"
            ]
          },
          "execution_count": 17,
          "metadata": {},
          "output_type": "execute_result"
        }
      ],
      "source": [
        "valid_dataset"
      ]
    },
    {
      "cell_type": "code",
      "execution_count": null,
      "id": "cd0ba228",
      "metadata": {
        "execution": {
          "iopub.execute_input": "2023-02-22T11:20:00.737226Z",
          "iopub.status.busy": "2023-02-22T11:20:00.722015Z",
          "iopub.status.idle": "2023-02-22T11:20:01.765488Z",
          "shell.execute_reply": "2023-02-22T11:20:01.755463Z",
          "shell.execute_reply.started": "2023-02-22T10:39:40.645668Z"
        },
        "papermill": {
          "duration": 1.094337,
          "end_time": "2023-02-22T11:20:01.765619",
          "exception": false,
          "start_time": "2023-02-22T11:20:00.671282",
          "status": "completed"
        },
        "tags": [],
        "id": "cd0ba228",
        "outputId": "ae27a148-d487-47bf-9bc9-2c757d1656a0",
        "colab": {
          "referenced_widgets": [
            "7622d8e71546411499f6cdbf3b39a6b0"
          ]
        }
      },
      "outputs": [
        {
          "data": {
            "application/vnd.jupyter.widget-view+json": {
              "model_id": "7622d8e71546411499f6cdbf3b39a6b0",
              "version_major": 2,
              "version_minor": 0
            },
            "text/plain": [
              "  0%|          | 0/816 [00:00<?, ?ex/s]"
            ]
          },
          "metadata": {},
          "output_type": "display_data"
        },
        {
          "data": {
            "text/plain": [
              "Dataset({\n",
              "    features: ['attention_mask', 'input_ids'],\n",
              "    num_rows: 816\n",
              "})"
            ]
          },
          "execution_count": 18,
          "metadata": {},
          "output_type": "execute_result"
        }
      ],
      "source": [
        "valid_feats_small = validation_features.map(lambda example: example, remove_columns=['example_id', 'offset_mapping'])\n",
        "valid_feats_small"
      ]
    },
    {
      "cell_type": "markdown",
      "id": "5ec20bc8",
      "metadata": {
        "papermill": {
          "duration": 0.040145,
          "end_time": "2023-02-22T11:20:01.846576",
          "exception": false,
          "start_time": "2023-02-22T11:20:01.806431",
          "status": "completed"
        },
        "tags": [],
        "id": "5ec20bc8"
      },
      "source": [
        "Prediction"
      ]
    },
    {
      "cell_type": "code",
      "execution_count": null,
      "id": "685d30c9",
      "metadata": {
        "execution": {
          "iopub.execute_input": "2023-02-22T11:20:01.932755Z",
          "iopub.status.busy": "2023-02-22T11:20:01.931449Z",
          "iopub.status.idle": "2023-02-22T11:20:38.270685Z",
          "shell.execute_reply": "2023-02-22T11:20:38.270174Z",
          "shell.execute_reply.started": "2023-02-22T10:39:41.946299Z"
        },
        "papermill": {
          "duration": 36.383932,
          "end_time": "2023-02-22T11:20:38.270830",
          "exception": false,
          "start_time": "2023-02-22T11:20:01.886898",
          "status": "completed"
        },
        "tags": [],
        "id": "685d30c9",
        "outputId": "79f84f00-1d37-4f53-c7c4-b2680236097e"
      },
      "outputs": [
        {
          "name": "stderr",
          "output_type": "stream",
          "text": [
            "***** Running Prediction *****\n",
            "  Num examples = 816\n",
            "  Batch size = 4\n"
          ]
        },
        {
          "data": {
            "text/html": [
              "\n",
              "    <div>\n",
              "      \n",
              "      <progress value='221' max='204' style='width:300px; height:20px; vertical-align: middle;'></progress>\n",
              "      [204/204 00:44]\n",
              "    </div>\n",
              "    "
            ],
            "text/plain": [
              "<IPython.core.display.HTML object>"
            ]
          },
          "metadata": {},
          "output_type": "display_data"
        }
      ],
      "source": [
        "raw_predictions = trainer.predict(valid_feats_small)"
      ]
    },
    {
      "cell_type": "code",
      "execution_count": null,
      "id": "227323fb",
      "metadata": {
        "execution": {
          "iopub.execute_input": "2023-02-22T11:20:38.362059Z",
          "iopub.status.busy": "2023-02-22T11:20:38.361352Z",
          "iopub.status.idle": "2023-02-22T11:20:38.367963Z",
          "shell.execute_reply": "2023-02-22T11:20:38.367515Z",
          "shell.execute_reply.started": "2023-02-22T10:40:18.076906Z"
        },
        "papermill": {
          "duration": 0.055274,
          "end_time": "2023-02-22T11:20:38.368078",
          "exception": false,
          "start_time": "2023-02-22T11:20:38.312804",
          "status": "completed"
        },
        "tags": [],
        "id": "227323fb",
        "outputId": "39b39bc3-226f-4dee-8538-ef6fb71652b6"
      },
      "outputs": [
        {
          "data": {
            "text/plain": [
              "(array([[  4.434763 ,  -6.9589934,  -8.717948 , ...,  -7.626959 ,\n",
              "          -7.626959 ,  -7.626959 ],\n",
              "        [  4.6128554,  -7.078187 ,  -8.950229 , ...,  -7.752864 ,\n",
              "          -8.26884  ,  -9.282652 ],\n",
              "        [  5.7324595,  -8.2656   ,  -9.081243 , ...,  -8.864551 ,\n",
              "          -8.010219 ,  -9.165475 ],\n",
              "        ...,\n",
              "        [  5.549419 ,  -8.448947 ,  -7.5374217, ...,  -8.356556 ,\n",
              "          -8.812152 ,  -9.627622 ],\n",
              "        [  5.448872 ,  -8.389926 ,  -7.4379635, ...,  -8.549789 ,\n",
              "          -7.3839283,  -9.540945 ],\n",
              "        [  1.9692658,  -8.361491 , -10.233212 , ...,  -8.102062 ,\n",
              "          -8.102062 ,  -8.102062 ]], dtype=float32),\n",
              " array([[  3.403032  ,  -8.955903  , -10.010152  , ...,  -8.9798155 ,\n",
              "          -8.9798155 ,  -8.9798155 ],\n",
              "        [  3.4916098 , -11.316827  , -10.7380495 , ...,  -9.975589  ,\n",
              "          -7.4144464 , -10.602681  ],\n",
              "        [  4.4809413 , -11.2317705 , -10.905625  , ...,  -8.687153  ,\n",
              "          -9.393594  , -10.647553  ],\n",
              "        ...,\n",
              "        [  4.377657  ,  -8.9698305 ,  -9.036711  , ...,  -9.613143  ,\n",
              "          -9.216497  , -11.3092375 ],\n",
              "        [  4.316222  ,  -8.848973  ,  -8.553986  , ...,  -9.012875  ,\n",
              "          -6.6794696 , -11.235522  ],\n",
              "        [  0.25607708, -10.79778   ,  -9.167889  , ...,  -8.642844  ,\n",
              "          -8.642844  ,  -8.642844  ]], dtype=float32))"
            ]
          },
          "execution_count": 20,
          "metadata": {},
          "output_type": "execute_result"
        }
      ],
      "source": [
        "raw_predictions[0]"
      ]
    },
    {
      "cell_type": "code",
      "execution_count": null,
      "id": "077d73e7",
      "metadata": {
        "execution": {
          "iopub.execute_input": "2023-02-22T11:20:38.456288Z",
          "iopub.status.busy": "2023-02-22T11:20:38.455535Z",
          "iopub.status.idle": "2023-02-22T11:20:38.458096Z",
          "shell.execute_reply": "2023-02-22T11:20:38.457678Z",
          "shell.execute_reply.started": "2023-02-22T10:40:18.087195Z"
        },
        "papermill": {
          "duration": 0.047694,
          "end_time": "2023-02-22T11:20:38.458221",
          "exception": false,
          "start_time": "2023-02-22T11:20:38.410527",
          "status": "completed"
        },
        "tags": [],
        "id": "077d73e7"
      },
      "outputs": [],
      "source": [
        "max_answer_length = 30"
      ]
    },
    {
      "cell_type": "markdown",
      "id": "fb34d361",
      "metadata": {
        "papermill": {
          "duration": 0.04209,
          "end_time": "2023-02-22T11:20:38.542671",
          "exception": false,
          "start_time": "2023-02-22T11:20:38.500581",
          "status": "completed"
        },
        "tags": [],
        "id": "fb34d361"
      },
      "source": [
        "The below block of code informs us about the number of features an example is split in and gives us the list of examples and their features.\n"
      ]
    },
    {
      "cell_type": "code",
      "execution_count": null,
      "id": "2012fb2c",
      "metadata": {
        "execution": {
          "iopub.execute_input": "2023-02-22T11:20:38.639756Z",
          "iopub.status.busy": "2023-02-22T11:20:38.638951Z",
          "iopub.status.idle": "2023-02-22T11:20:39.543957Z",
          "shell.execute_reply": "2023-02-22T11:20:39.543443Z",
          "shell.execute_reply.started": "2023-02-22T10:40:18.099647Z"
        },
        "papermill": {
          "duration": 0.959609,
          "end_time": "2023-02-22T11:20:39.544091",
          "exception": false,
          "start_time": "2023-02-22T11:20:38.584482",
          "status": "completed"
        },
        "tags": [],
        "id": "2012fb2c"
      },
      "outputs": [],
      "source": [
        "import collections\n",
        "\n",
        "examples = valid_dataset\n",
        "features = validation_features\n",
        "\n",
        "example_id_to_index = {k: i for i, k in enumerate(examples[\"id\"])}\n",
        "features_per_example = collections.defaultdict(list)\n",
        "for i, feature in enumerate(features):\n",
        "    features_per_example[example_id_to_index[feature[\"example_id\"]]].append(i)"
      ]
    },
    {
      "cell_type": "markdown",
      "id": "ce2810ac",
      "metadata": {
        "papermill": {
          "duration": 0.041788,
          "end_time": "2023-02-22T11:20:39.628395",
          "exception": false,
          "start_time": "2023-02-22T11:20:39.586607",
          "status": "completed"
        },
        "tags": [],
        "id": "ce2810ac"
      },
      "source": [
        "## Postprocessing\n",
        "Postprocessing converts the predictions of a question-answering model to answers that are substrings of the original contexts. The Postprocessing code consists of nested loops over the examples. It collects the indices of the features of ongoing examples in the loop and also the context. Furthermore, it loops over each of the features in the continuing example and collects predictions on the same features from the model consisting of two arrays containing the start logits and the end logits, respectively. The min_null_score is None which has to use during training on squad v2 data. The null answer is scored as the sum of the start_logit and end_logit associated with the [CLS] token that is our minimum null score. Any sensible combination of start and end logits, i.e. start_logit + end_logit can be considered a possible answer. Higher the combination score higher is the confidence of getting the best answer. If the End token falls before the start token, in this case, it should be excluded. Answers in which the start or end tokens are associated with question tokens are also excluded, as we know the answer to the question will not be obvious in the question. The number of best predictions for each example can be adjusted with the — n_best_size argument; the code goes through all possibilities to get the best answer. Answers with a length that is either less than 0 or greater than the max_answer_length are not included; neither answer out of scope is considered."
      ]
    },
    {
      "cell_type": "code",
      "execution_count": null,
      "id": "d7628bd8",
      "metadata": {
        "execution": {
          "iopub.execute_input": "2023-02-22T11:20:39.727410Z",
          "iopub.status.busy": "2023-02-22T11:20:39.725640Z",
          "iopub.status.idle": "2023-02-22T11:20:39.728054Z",
          "shell.execute_reply": "2023-02-22T11:20:39.728527Z",
          "shell.execute_reply.started": "2023-02-22T10:40:19.020723Z"
        },
        "papermill": {
          "duration": 0.057651,
          "end_time": "2023-02-22T11:20:39.728671",
          "exception": false,
          "start_time": "2023-02-22T11:20:39.671020",
          "status": "completed"
        },
        "tags": [],
        "id": "d7628bd8"
      },
      "outputs": [],
      "source": [
        "from tqdm.auto import tqdm\n",
        "\n",
        "def postprocess_qa_predictions(examples, features, raw_predictions, n_best_size = 20, max_answer_length = 30):\n",
        "    all_start_logits, all_end_logits = raw_predictions\n",
        "    # Build a map example to its corresponding features.\n",
        "    example_id_to_index = {k: i for i, k in enumerate(examples[\"id\"])}\n",
        "    features_per_example = collections.defaultdict(list)\n",
        "    for i, feature in enumerate(features):\n",
        "        features_per_example[example_id_to_index[feature[\"example_id\"]]].append(i)\n",
        "\n",
        "    # The dictionaries we have to fill.\n",
        "    predictions = collections.OrderedDict()\n",
        "\n",
        "    # Logging.\n",
        "    print(f\"Post-processing {len(examples)} example predictions split into {len(features)} features.\")\n",
        "\n",
        "    # Let's loop over all the examples!\n",
        "    for example_index, example in enumerate(tqdm(examples)):\n",
        "        # Those are the indices of the features associated to the current example.\n",
        "        feature_indices = features_per_example[example_index]\n",
        "\n",
        "        min_null_score = None # Only used if squad_v2 is True.\n",
        "        valid_answers = []\n",
        "        \n",
        "        context = example[\"context\"]\n",
        "        # Looping through all the features associated to the current example.\n",
        "        for feature_index in feature_indices:\n",
        "            # We grab the predictions of the model for this feature.\n",
        "            start_logits = all_start_logits[feature_index]\n",
        "            end_logits = all_end_logits[feature_index]\n",
        "            # This is what will allow us to map some the positions in our logits to span of texts in the original\n",
        "            # context.\n",
        "            offset_mapping = features[feature_index][\"offset_mapping\"]\n",
        "\n",
        "            # Update minimum null prediction.\n",
        "            cls_index = features[feature_index][\"input_ids\"].index(tokenizer.cls_token_id)\n",
        "            feature_null_score = start_logits[cls_index] + end_logits[cls_index]\n",
        "            if min_null_score is None or min_null_score < feature_null_score:\n",
        "                min_null_score = feature_null_score\n",
        "\n",
        "            # Go through all possibilities for the `n_best_size` greater start and end logits.\n",
        "            start_indexes = np.argsort(start_logits)[-1 : -n_best_size - 1 : -1].tolist()\n",
        "            end_indexes = np.argsort(end_logits)[-1 : -n_best_size - 1 : -1].tolist()\n",
        "            for start_index in start_indexes:\n",
        "                for end_index in end_indexes:\n",
        "                    # Don't consider out-of-scope answers, either because the indices are out of bounds or correspond\n",
        "                    # to part of the input_ids that are not in the context.\n",
        "                    if (\n",
        "                        start_index >= len(offset_mapping)\n",
        "                        or end_index >= len(offset_mapping)\n",
        "                        or offset_mapping[start_index] is None\n",
        "                        or offset_mapping[end_index] is None\n",
        "                    ):\n",
        "                        continue\n",
        "                    # Don't consider answers with a length that is either < 0 or > max_answer_length.\n",
        "                    if end_index < start_index or end_index - start_index + 1 > max_answer_length:\n",
        "                        continue\n",
        "\n",
        "                    start_char = offset_mapping[start_index][0]\n",
        "                    end_char = offset_mapping[end_index][1]\n",
        "                    valid_answers.append(\n",
        "                        {\n",
        "                            \"score\": start_logits[start_index] + end_logits[end_index],\n",
        "                            \"text\": context[start_char: end_char]\n",
        "                        }\n",
        "                    )\n",
        "        \n",
        "        if len(valid_answers) > 0:\n",
        "            best_answer = sorted(valid_answers, key=lambda x: x[\"score\"], reverse=True)[0]\n",
        "        else:\n",
        "            # In the very rare edge case we have not a single non-null prediction, we create a fake prediction to avoid\n",
        "            # failure.\n",
        "            best_answer = {\"text\": \"\", \"score\": 0.0}\n",
        "        \n",
        "        # Let's pick our final answer: the best one or the null answer (only for squad_v2)\n",
        "        predictions[example[\"id\"]] = best_answer[\"text\"]\n",
        "\n",
        "    return predictions"
      ]
    },
    {
      "cell_type": "markdown",
      "id": "ab2deeac",
      "metadata": {
        "papermill": {
          "duration": 0.048066,
          "end_time": "2023-02-22T11:20:39.818997",
          "exception": false,
          "start_time": "2023-02-22T11:20:39.770931",
          "status": "completed"
        },
        "tags": [],
        "id": "ab2deeac"
      },
      "source": [
        "We will be passing the valid_dataset, validation_features, raw_predictions to the postprocess_qa_predictions function to get the final predictions."
      ]
    },
    {
      "cell_type": "code",
      "execution_count": null,
      "id": "5e3a5b71",
      "metadata": {
        "execution": {
          "iopub.execute_input": "2023-02-22T11:20:40.036056Z",
          "iopub.status.busy": "2023-02-22T11:20:40.035253Z",
          "iopub.status.idle": "2023-02-22T11:20:42.872637Z",
          "shell.execute_reply": "2023-02-22T11:20:42.872175Z",
          "shell.execute_reply.started": "2023-02-22T10:40:19.040922Z"
        },
        "papermill": {
          "duration": 3.010406,
          "end_time": "2023-02-22T11:20:42.872764",
          "exception": false,
          "start_time": "2023-02-22T11:20:39.862358",
          "status": "completed"
        },
        "tags": [],
        "id": "5e3a5b71",
        "outputId": "cbab6afe-f78a-4474-ba9e-10d192684de3",
        "colab": {
          "referenced_widgets": [
            "56ef27a7ba8441d0a9e29d5c663264fc"
          ]
        }
      },
      "outputs": [
        {
          "name": "stdout",
          "output_type": "stream",
          "text": [
            "Post-processing 64 example predictions split into 816 features.\n"
          ]
        },
        {
          "data": {
            "application/vnd.jupyter.widget-view+json": {
              "model_id": "56ef27a7ba8441d0a9e29d5c663264fc",
              "version_major": 2,
              "version_minor": 0
            },
            "text/plain": [
              "  0%|          | 0/64 [00:00<?, ?it/s]"
            ]
          },
          "metadata": {},
          "output_type": "display_data"
        }
      ],
      "source": [
        "final_predictions = postprocess_qa_predictions(valid_dataset, validation_features, raw_predictions.predictions)"
      ]
    },
    {
      "cell_type": "code",
      "execution_count": null,
      "id": "ee720a79",
      "metadata": {
        "execution": {
          "iopub.execute_input": "2023-02-22T11:20:42.980941Z",
          "iopub.status.busy": "2023-02-22T11:20:42.979877Z",
          "iopub.status.idle": "2023-02-22T11:20:42.981630Z",
          "shell.execute_reply": "2023-02-22T11:20:42.982030Z",
          "shell.execute_reply.started": "2023-02-22T10:40:22.043250Z"
        },
        "papermill": {
          "duration": 0.066474,
          "end_time": "2023-02-22T11:20:42.982171",
          "exception": false,
          "start_time": "2023-02-22T11:20:42.915697",
          "status": "completed"
        },
        "tags": [],
        "id": "ee720a79"
      },
      "outputs": [],
      "source": [
        "prediction = pd.DataFrame([{\"questions\":x1['question'], \"pred_answer\":x2} for x1, x2 in zip(valid_dataset, [i for i in final_predictions.values()])])"
      ]
    },
    {
      "cell_type": "code",
      "execution_count": null,
      "id": "a9939edd",
      "metadata": {
        "execution": {
          "iopub.execute_input": "2023-02-22T11:20:43.082810Z",
          "iopub.status.busy": "2023-02-22T11:20:43.073946Z",
          "iopub.status.idle": "2023-02-22T11:20:43.087352Z",
          "shell.execute_reply": "2023-02-22T11:20:43.086909Z",
          "shell.execute_reply.started": "2023-02-22T10:40:22.066901Z"
        },
        "papermill": {
          "duration": 0.062806,
          "end_time": "2023-02-22T11:20:43.087483",
          "exception": false,
          "start_time": "2023-02-22T11:20:43.024677",
          "status": "completed"
        },
        "tags": [],
        "id": "a9939edd",
        "outputId": "823aceb9-c9ae-45af-a5d6-324f4efcda34"
      },
      "outputs": [
        {
          "data": {
            "text/html": [
              "<div>\n",
              "<style scoped>\n",
              "    .dataframe tbody tr th:only-of-type {\n",
              "        vertical-align: middle;\n",
              "    }\n",
              "\n",
              "    .dataframe tbody tr th {\n",
              "        vertical-align: top;\n",
              "    }\n",
              "\n",
              "    .dataframe thead th {\n",
              "        text-align: right;\n",
              "    }\n",
              "</style>\n",
              "<table border=\"1\" class=\"dataframe\">\n",
              "  <thead>\n",
              "    <tr style=\"text-align: right;\">\n",
              "      <th></th>\n",
              "      <th>questions</th>\n",
              "      <th>pred_answer</th>\n",
              "    </tr>\n",
              "  </thead>\n",
              "  <tbody>\n",
              "    <tr>\n",
              "      <th>0</th>\n",
              "      <td>राजस्थान की पहली महिला गवर्नर कौन थी?</td>\n",
              "      <td>प्रतिभा पाटील</td>\n",
              "    </tr>\n",
              "    <tr>\n",
              "      <th>1</th>\n",
              "      <td>புற்றுநோய் விழிப்புணர்வுக்கு என்ன நிறம்?</td>\n",
              "      <td>பிங்க்</td>\n",
              "    </tr>\n",
              "    <tr>\n",
              "      <th>2</th>\n",
              "      <td>भारतीय कवि मिर्ज़ा ग़ालिब का पूरा नाम क्या था?</td>\n",
              "      <td>मिर्ज़ा असद-उल्लाह बेग ख़ां</td>\n",
              "    </tr>\n",
              "    <tr>\n",
              "      <th>3</th>\n",
              "      <td>त्वरण की SI इकाई क्या है?</td>\n",
              "      <td>मीटर प्रति सेकेण्ड2</td>\n",
              "    </tr>\n",
              "    <tr>\n",
              "      <th>4</th>\n",
              "      <td>त्रिपुरा राज्य की राजधानी का नाम क्या है?</td>\n",
              "      <td>अगरतला</td>\n",
              "    </tr>\n",
              "    <tr>\n",
              "      <th>...</th>\n",
              "      <td>...</td>\n",
              "      <td>...</td>\n",
              "    </tr>\n",
              "    <tr>\n",
              "      <th>59</th>\n",
              "      <td>अरस्तु का जन्म कहाँ हुआ था?</td>\n",
              "      <td>स्टेगेरिया</td>\n",
              "    </tr>\n",
              "    <tr>\n",
              "      <th>60</th>\n",
              "      <td>சிந்து சமவெளி நாகரிகம் எப்போது உருவானது?</td>\n",
              "      <td>கி.மு 6000</td>\n",
              "    </tr>\n",
              "    <tr>\n",
              "      <th>61</th>\n",
              "      <td>आई एन एस विक्रमादित्य युद्धपोत किस कंपनी द्वार...</td>\n",
              "      <td>रूस</td>\n",
              "    </tr>\n",
              "    <tr>\n",
              "      <th>62</th>\n",
              "      <td>कितने अमेरिकी उपनिवेश अमेरिकी क्रांति का हिस्स...</td>\n",
              "      <td>तेरह</td>\n",
              "    </tr>\n",
              "    <tr>\n",
              "      <th>63</th>\n",
              "      <td>संयुक्त राष्ट्र का मुख्यालय कहाँ पर है?</td>\n",
              "      <td>न्युयॉर्क</td>\n",
              "    </tr>\n",
              "  </tbody>\n",
              "</table>\n",
              "<p>64 rows × 2 columns</p>\n",
              "</div>"
            ],
            "text/plain": [
              "                                            questions  \\\n",
              "0               राजस्थान की पहली महिला गवर्नर कौन थी?   \n",
              "1            புற்றுநோய் விழிப்புணர்வுக்கு என்ன நிறம்?   \n",
              "2      भारतीय कवि मिर्ज़ा ग़ालिब का पूरा नाम क्या था?   \n",
              "3                           त्वरण की SI इकाई क्या है?   \n",
              "4           त्रिपुरा राज्य की राजधानी का नाम क्या है?   \n",
              "..                                                ...   \n",
              "59                        अरस्तु का जन्म कहाँ हुआ था?   \n",
              "60           சிந்து சமவெளி நாகரிகம் எப்போது உருவானது?   \n",
              "61  आई एन एस विक्रमादित्य युद्धपोत किस कंपनी द्वार...   \n",
              "62  कितने अमेरिकी उपनिवेश अमेरिकी क्रांति का हिस्स...   \n",
              "63            संयुक्त राष्ट्र का मुख्यालय कहाँ पर है?   \n",
              "\n",
              "                    pred_answer  \n",
              "0                 प्रतिभा पाटील  \n",
              "1                        பிங்க்  \n",
              "2   मिर्ज़ा असद-उल्लाह बेग ख़ां  \n",
              "3           मीटर प्रति सेकेण्ड2  \n",
              "4                        अगरतला  \n",
              "..                          ...  \n",
              "59                   स्टेगेरिया  \n",
              "60                   கி.மு 6000  \n",
              "61                          रूस  \n",
              "62                         तेरह  \n",
              "63                    न्युयॉर्क  \n",
              "\n",
              "[64 rows x 2 columns]"
            ]
          },
          "execution_count": 26,
          "metadata": {},
          "output_type": "execute_result"
        }
      ],
      "source": [
        "prediction"
      ]
    },
    {
      "cell_type": "markdown",
      "id": "c5cd18c9",
      "metadata": {
        "papermill": {
          "duration": 0.043521,
          "end_time": "2023-02-22T11:20:43.175188",
          "exception": false,
          "start_time": "2023-02-22T11:20:43.131667",
          "status": "completed"
        },
        "tags": [],
        "id": "c5cd18c9"
      },
      "source": [
        "Submission"
      ]
    },
    {
      "cell_type": "code",
      "execution_count": null,
      "id": "cd327b79",
      "metadata": {
        "execution": {
          "iopub.execute_input": "2023-02-22T11:20:43.268482Z",
          "iopub.status.busy": "2023-02-22T11:20:43.267650Z",
          "iopub.status.idle": "2023-02-22T11:20:43.701921Z",
          "shell.execute_reply": "2023-02-22T11:20:43.702332Z",
          "shell.execute_reply.started": "2023-02-22T10:40:22.085424Z"
        },
        "papermill": {
          "duration": 0.484074,
          "end_time": "2023-02-22T11:20:43.702504",
          "exception": false,
          "start_time": "2023-02-22T11:20:43.218430",
          "status": "completed"
        },
        "tags": [],
        "id": "cd327b79",
        "outputId": "5f1ec2f5-69de-4547-eb13-75319e8c33e1",
        "colab": {
          "referenced_widgets": [
            "168c5664fd0946d690f57e1a45cde5d9"
          ]
        }
      },
      "outputs": [
        {
          "data": {
            "application/vnd.jupyter.widget-view+json": {
              "model_id": "168c5664fd0946d690f57e1a45cde5d9",
              "version_major": 2,
              "version_minor": 0
            },
            "text/plain": [
              "  0%|          | 0/1 [00:00<?, ?ba/s]"
            ]
          },
          "metadata": {},
          "output_type": "display_data"
        }
      ],
      "source": [
        "test_dataset = Dataset.from_pandas(test)\n",
        "\n",
        "test_features = test_dataset.map(\n",
        "    prepare_validation_features,\n",
        "    batched=True,\n",
        "    remove_columns=test_dataset.column_names\n",
        ")"
      ]
    },
    {
      "cell_type": "code",
      "execution_count": null,
      "id": "f809099c",
      "metadata": {
        "execution": {
          "iopub.execute_input": "2023-02-22T11:20:43.817795Z",
          "iopub.status.busy": "2023-02-22T11:20:43.816949Z",
          "iopub.status.idle": "2023-02-22T11:20:43.912712Z",
          "shell.execute_reply": "2023-02-22T11:20:43.911332Z",
          "shell.execute_reply.started": "2023-02-22T10:40:22.525064Z"
        },
        "papermill": {
          "duration": 0.165949,
          "end_time": "2023-02-22T11:20:43.912836",
          "exception": false,
          "start_time": "2023-02-22T11:20:43.746887",
          "status": "completed"
        },
        "tags": [],
        "id": "f809099c",
        "outputId": "c72aa17b-2766-4f7f-a33b-4e5bdc8beb98",
        "colab": {
          "referenced_widgets": [
            "be5e3b3d5a464a2eae1319bc775ca8f9"
          ]
        }
      },
      "outputs": [
        {
          "data": {
            "application/vnd.jupyter.widget-view+json": {
              "model_id": "be5e3b3d5a464a2eae1319bc775ca8f9",
              "version_major": 2,
              "version_minor": 0
            },
            "text/plain": [
              "  0%|          | 0/67 [00:00<?, ?ex/s]"
            ]
          },
          "metadata": {},
          "output_type": "display_data"
        },
        {
          "data": {
            "text/plain": [
              "Dataset({\n",
              "    features: ['attention_mask', 'input_ids'],\n",
              "    num_rows: 67\n",
              "})"
            ]
          },
          "execution_count": 28,
          "metadata": {},
          "output_type": "execute_result"
        }
      ],
      "source": [
        "test_feats_small = test_features.map(lambda example: example, remove_columns=['example_id', 'offset_mapping'])\n",
        "test_feats_small"
      ]
    },
    {
      "cell_type": "code",
      "execution_count": null,
      "id": "2214778d",
      "metadata": {
        "execution": {
          "iopub.execute_input": "2023-02-22T11:20:44.006775Z",
          "iopub.status.busy": "2023-02-22T11:20:44.005655Z",
          "iopub.status.idle": "2023-02-22T11:20:47.043295Z",
          "shell.execute_reply": "2023-02-22T11:20:47.042817Z",
          "shell.execute_reply.started": "2023-02-22T10:40:22.649239Z"
        },
        "papermill": {
          "duration": 3.086068,
          "end_time": "2023-02-22T11:20:47.043435",
          "exception": false,
          "start_time": "2023-02-22T11:20:43.957367",
          "status": "completed"
        },
        "tags": [],
        "id": "2214778d",
        "outputId": "05af16ad-606f-4ed9-b91e-a89aae10555e"
      },
      "outputs": [
        {
          "name": "stderr",
          "output_type": "stream",
          "text": [
            "***** Running Prediction *****\n",
            "  Num examples = 67\n",
            "  Batch size = 4\n"
          ]
        }
      ],
      "source": [
        "test_predictions = trainer.predict(test_feats_small)"
      ]
    },
    {
      "cell_type": "code",
      "execution_count": null,
      "id": "27c013cb",
      "metadata": {
        "execution": {
          "iopub.execute_input": "2023-02-22T11:20:47.147686Z",
          "iopub.status.busy": "2023-02-22T11:20:47.146777Z",
          "iopub.status.idle": "2023-02-22T11:20:47.149559Z",
          "shell.execute_reply": "2023-02-22T11:20:47.149063Z",
          "shell.execute_reply.started": "2023-02-22T10:40:25.662610Z"
        },
        "papermill": {
          "duration": 0.057512,
          "end_time": "2023-02-22T11:20:47.149687",
          "exception": false,
          "start_time": "2023-02-22T11:20:47.092175",
          "status": "completed"
        },
        "tags": [],
        "id": "27c013cb"
      },
      "outputs": [],
      "source": [
        "test_features.set_format(type=test_features.format[\"type\"], columns=list(test_features.features.keys()))"
      ]
    },
    {
      "cell_type": "code",
      "execution_count": null,
      "id": "9a004451",
      "metadata": {
        "execution": {
          "iopub.execute_input": "2023-02-22T11:20:47.325291Z",
          "iopub.status.busy": "2023-02-22T11:20:47.324293Z",
          "iopub.status.idle": "2023-02-22T11:20:47.808543Z",
          "shell.execute_reply": "2023-02-22T11:20:47.808073Z",
          "shell.execute_reply.started": "2023-02-22T10:44:21.312390Z"
        },
        "papermill": {
          "duration": 0.592788,
          "end_time": "2023-02-22T11:20:47.808672",
          "exception": false,
          "start_time": "2023-02-22T11:20:47.215884",
          "status": "completed"
        },
        "tags": [],
        "id": "9a004451",
        "outputId": "4ca9f909-2702-481a-e5ba-b8ec804d0595",
        "colab": {
          "referenced_widgets": [
            "54d7ca288d754292bad1f8dc72d092e7"
          ]
        }
      },
      "outputs": [
        {
          "name": "stdout",
          "output_type": "stream",
          "text": [
            "Post-processing 5 example predictions split into 67 features.\n"
          ]
        },
        {
          "data": {
            "application/vnd.jupyter.widget-view+json": {
              "model_id": "54d7ca288d754292bad1f8dc72d092e7",
              "version_major": 2,
              "version_minor": 0
            },
            "text/plain": [
              "  0%|          | 0/5 [00:00<?, ?it/s]"
            ]
          },
          "metadata": {},
          "output_type": "display_data"
        }
      ],
      "source": [
        "final_test_predictions = postprocess_qa_predictions(test_dataset, test_features, test_predictions.predictions)"
      ]
    },
    {
      "cell_type": "code",
      "execution_count": null,
      "id": "5488a3ea",
      "metadata": {
        "execution": {
          "iopub.execute_input": "2023-02-22T11:20:47.913776Z",
          "iopub.status.busy": "2023-02-22T11:20:47.913100Z",
          "iopub.status.idle": "2023-02-22T11:20:47.916384Z",
          "shell.execute_reply": "2023-02-22T11:20:47.916796Z",
          "shell.execute_reply.started": "2023-02-22T10:44:28.313297Z"
        },
        "papermill": {
          "duration": 0.061993,
          "end_time": "2023-02-22T11:20:47.916935",
          "exception": false,
          "start_time": "2023-02-22T11:20:47.854942",
          "status": "completed"
        },
        "tags": [],
        "id": "5488a3ea",
        "outputId": "202b39ec-9435-4610-a93b-04df67079ebd"
      },
      "outputs": [
        {
          "data": {
            "text/html": [
              "<div>\n",
              "<style scoped>\n",
              "    .dataframe tbody tr th:only-of-type {\n",
              "        vertical-align: middle;\n",
              "    }\n",
              "\n",
              "    .dataframe tbody tr th {\n",
              "        vertical-align: top;\n",
              "    }\n",
              "\n",
              "    .dataframe thead th {\n",
              "        text-align: right;\n",
              "    }\n",
              "</style>\n",
              "<table border=\"1\" class=\"dataframe\">\n",
              "  <thead>\n",
              "    <tr style=\"text-align: right;\">\n",
              "      <th></th>\n",
              "      <th>id</th>\n",
              "      <th>context</th>\n",
              "      <th>question</th>\n",
              "      <th>language</th>\n",
              "      <th>PredictionString</th>\n",
              "    </tr>\n",
              "  </thead>\n",
              "  <tbody>\n",
              "    <tr>\n",
              "      <th>0</th>\n",
              "      <td>22bff3dec</td>\n",
              "      <td>ज्वाला गुट्टा (जन्म: 7 सितंबर 1983; वर्धा, महा...</td>\n",
              "      <td>ज्वाला गुट्टा की माँ का नाम क्या है</td>\n",
              "      <td>hindi</td>\n",
              "      <td>येलन चीन</td>\n",
              "    </tr>\n",
              "    <tr>\n",
              "      <th>1</th>\n",
              "      <td>282758170</td>\n",
              "      <td>गूगल मानचित्र (Google Maps) (पूर्व में गूगल लो...</td>\n",
              "      <td>गूगल मैप्स कब लॉन्च किया गया था?</td>\n",
              "      <td>hindi</td>\n",
              "      <td>14 जून 2006</td>\n",
              "    </tr>\n",
              "    <tr>\n",
              "      <th>2</th>\n",
              "      <td>d60987e0e</td>\n",
              "      <td>गुस्ताव रॉबर्ट किरचॉफ़ (१२ मार्च १८२४ - १७ अक्...</td>\n",
              "      <td>गुस्ताव किरचॉफ का जन्म कब हुआ था?</td>\n",
              "      <td>hindi</td>\n",
              "      <td>१२ मार्च १८२४</td>\n",
              "    </tr>\n",
              "    <tr>\n",
              "      <th>3</th>\n",
              "      <td>f99c770dc</td>\n",
              "      <td>அலுமினியம் (ஆங்கிலம்: அலுமினியம்; வட அமெரிக்க ...</td>\n",
              "      <td>அலுமினியத்தின் அணு எண் என்ன?</td>\n",
              "      <td>tamil</td>\n",
              "      <td>13</td>\n",
              "    </tr>\n",
              "    <tr>\n",
              "      <th>4</th>\n",
              "      <td>40dec1964</td>\n",
              "      <td>கூட்டுறவு இயக்க வரலாறு, இங்கிலாந்து  நாட்டில் ...</td>\n",
              "      <td>இந்தியாவில் பசுமை புரட்சியின் தந்தை என்று கருத...</td>\n",
              "      <td>tamil</td>\n",
              "      <td>சுவாமிநாதன் மற்றும் வர்கீஸ் குரியன்</td>\n",
              "    </tr>\n",
              "  </tbody>\n",
              "</table>\n",
              "</div>"
            ],
            "text/plain": [
              "          id                                            context  \\\n",
              "0  22bff3dec  ज्वाला गुट्टा (जन्म: 7 सितंबर 1983; वर्धा, महा...   \n",
              "1  282758170  गूगल मानचित्र (Google Maps) (पूर्व में गूगल लो...   \n",
              "2  d60987e0e  गुस्ताव रॉबर्ट किरचॉफ़ (१२ मार्च १८२४ - १७ अक्...   \n",
              "3  f99c770dc  அலுமினியம் (ஆங்கிலம்: அலுமினியம்; வட அமெரிக்க ...   \n",
              "4  40dec1964  கூட்டுறவு இயக்க வரலாறு, இங்கிலாந்து  நாட்டில் ...   \n",
              "\n",
              "                                            question language  \\\n",
              "0                ज्वाला गुट्टा की माँ का नाम क्या है    hindi   \n",
              "1                   गूगल मैप्स कब लॉन्च किया गया था?    hindi   \n",
              "2                  गुस्ताव किरचॉफ का जन्म कब हुआ था?    hindi   \n",
              "3                       அலுமினியத்தின் அணு எண் என்ன?    tamil   \n",
              "4  இந்தியாவில் பசுமை புரட்சியின் தந்தை என்று கருத...    tamil   \n",
              "\n",
              "                      PredictionString  \n",
              "0                             येलन चीन  \n",
              "1                          14 जून 2006  \n",
              "2                        १२ मार्च १८२४  \n",
              "3                                   13  \n",
              "4  சுவாமிநாதன் மற்றும் வர்கீஸ் குரியன்  "
            ]
          },
          "execution_count": 32,
          "metadata": {},
          "output_type": "execute_result"
        }
      ],
      "source": [
        "test['PredictionString'] = test['id'].apply(lambda r: final_test_predictions[r])\n",
        "test.head()"
      ]
    },
    {
      "cell_type": "code",
      "execution_count": null,
      "id": "1718ff69",
      "metadata": {
        "execution": {
          "iopub.execute_input": "2023-02-22T11:20:48.015085Z",
          "iopub.status.busy": "2023-02-22T11:20:48.014560Z",
          "iopub.status.idle": "2023-02-22T11:20:48.020932Z",
          "shell.execute_reply": "2023-02-22T11:20:48.021377Z",
          "shell.execute_reply.started": "2023-02-22T10:45:01.602086Z"
        },
        "papermill": {
          "duration": 0.058368,
          "end_time": "2023-02-22T11:20:48.021527",
          "exception": false,
          "start_time": "2023-02-22T11:20:47.963159",
          "status": "completed"
        },
        "tags": [],
        "id": "1718ff69"
      },
      "outputs": [],
      "source": [
        "test = test.drop(columns=['context','question','language'], axis=1)\n",
        "test.to_csv('submission.csv', index=False)"
      ]
    },
    {
      "cell_type": "markdown",
      "id": "aaf6ceee",
      "metadata": {
        "papermill": {
          "duration": 0.045408,
          "end_time": "2023-02-22T11:20:48.112964",
          "exception": false,
          "start_time": "2023-02-22T11:20:48.067556",
          "status": "completed"
        },
        "tags": [],
        "id": "aaf6ceee"
      },
      "source": [
        "Thanks | [Connect me on linkedIn](https://www.linkedin.com/in/theamitnikhade/) | [amitnikhade.com](http://amitnikhade.com)"
      ]
    },
    {
      "cell_type": "code",
      "execution_count": null,
      "id": "63ce0acd",
      "metadata": {
        "papermill": {
          "duration": 0.045821,
          "end_time": "2023-02-22T11:20:48.206119",
          "exception": false,
          "start_time": "2023-02-22T11:20:48.160298",
          "status": "completed"
        },
        "tags": [],
        "id": "63ce0acd"
      },
      "outputs": [],
      "source": []
    }
  ],
  "metadata": {
    "kernelspec": {
      "display_name": "Python 3",
      "language": "python",
      "name": "python3"
    },
    "language_info": {
      "codemirror_mode": {
        "name": "ipython",
        "version": 3
      },
      "file_extension": ".py",
      "mimetype": "text/x-python",
      "name": "python",
      "nbconvert_exporter": "python",
      "pygments_lexer": "ipython3",
      "version": "3.7.10"
    },
    "papermill": {
      "default_parameters": {},
      "duration": 2083.42198,
      "end_time": "2023-02-22T11:20:52.152819",
      "environment_variables": {},
      "exception": null,
      "input_path": "__notebook__.ipynb",
      "output_path": "__notebook__.ipynb",
      "parameters": {},
      "start_time": "2023-02-22T10:46:08.730839",
      "version": "2.3.3"
    },
    "widgets": {
      "application/vnd.jupyter.widget-state+json": {}
    },
    "colab": {
      "provenance": []
    }
  },
  "nbformat": 4,
  "nbformat_minor": 5
}