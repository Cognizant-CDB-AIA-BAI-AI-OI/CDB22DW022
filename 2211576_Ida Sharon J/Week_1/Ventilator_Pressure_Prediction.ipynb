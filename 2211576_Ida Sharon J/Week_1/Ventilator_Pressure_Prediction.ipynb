{
 "cells": [
  {
   "cell_type": "markdown",
   "id": "aec9aa32",
   "metadata": {
    "papermill": {
     "duration": 0.014816,
     "end_time": "2021-12-16T20:39:02.512410",
     "exception": false,
     "start_time": "2021-12-16T20:39:02.497594",
     "status": "completed"
    },
    "tags": []
   },
   "source": [
    "# Introduction\n",
    "Mechanical ventilation is a clinician-intensive procedure that was prominently on display during the early days of the COVID-19 pandemic. Developing new methods for controlling mechanical ventilators is prohibitively expensive, even before reaching clinical trials. High-quality simulators could reduce this barrier.\n",
    " Current simulators are trained as an ensemble, where each model simulates a single lung setting. However, lungs and their attributes form a continuous space, so a parametric approach must be explored that would consider the differences in patient lungs.\n",
    " Here we simulate a ventilator connected to a sedated patient's lung."
   ]
  },
  {
   "cell_type": "markdown",
   "id": "065a0ec1",
   "metadata": {
    "papermill": {
     "duration": 0.014951,
     "end_time": "2021-12-16T20:39:02.542763",
     "exception": false,
     "start_time": "2021-12-16T20:39:02.527812",
     "status": "completed"
    },
    "tags": []
   },
   "source": [
    "# Loading our Dataset"
   ]
  },
  {
   "cell_type": "markdown",
   "id": "e3c35722",
   "metadata": {
    "papermill": {
     "duration": 0.015085,
     "end_time": "2021-12-16T20:39:02.573630",
     "exception": false,
     "start_time": "2021-12-16T20:39:02.558545",
     "status": "completed"
    },
    "tags": []
   },
   "source": [
    "Competition dataset located in \"/kaggle/input\"; This path defined by Kaggle to access the competition file. We will list two files from this path as input files."
   ]
  },
  {
   "cell_type": "code",
   "execution_count": 1,
   "id": "9d110194",
   "metadata": {
    "execution": {
     "iopub.execute_input": "2021-12-16T20:39:02.608849Z",
     "iopub.status.busy": "2021-12-16T20:39:02.607558Z",
     "iopub.status.idle": "2021-12-16T20:39:02.620865Z",
     "shell.execute_reply": "2021-12-16T20:39:02.621489Z"
    },
    "papermill": {
     "duration": 0.033115,
     "end_time": "2021-12-16T20:39:02.621814",
     "exception": false,
     "start_time": "2021-12-16T20:39:02.588699",
     "status": "completed"
    },
    "tags": []
   },
   "outputs": [],
   "source": [
    "import numpy as np # linear algebra\n",
    "import pandas as pd # data processing, CSV file I/O (e.g. pd.read_csv)\n",
    "import os\n",
    "for dirname, _, filenames in os.walk('/kaggle/input'):\n",
    "    for filename in filenames:\n",
    "        path=os.path.join(dirname, filename)\n",
    "        if 'train' in path:\n",
    "            __training_path=path\n",
    "        elif 'test' in path:\n",
    "            __test_path=path"
   ]
  },
  {
   "cell_type": "markdown",
   "id": "83537171",
   "metadata": {
    "papermill": {
     "duration": 0.014865,
     "end_time": "2021-12-16T20:39:02.652259",
     "exception": false,
     "start_time": "2021-12-16T20:39:02.637394",
     "status": "completed"
    },
    "tags": []
   },
   "source": [
    "# Input Dataset"
   ]
  },
  {
   "cell_type": "code",
   "execution_count": 2,
   "id": "e9b22f31",
   "metadata": {
    "execution": {
     "iopub.execute_input": "2021-12-16T20:39:02.686416Z",
     "iopub.status.busy": "2021-12-16T20:39:02.685109Z",
     "iopub.status.idle": "2021-12-16T20:39:02.690849Z",
     "shell.execute_reply": "2021-12-16T20:39:02.690187Z"
    },
    "papermill": {
     "duration": 0.023613,
     "end_time": "2021-12-16T20:39:02.690995",
     "exception": false,
     "start_time": "2021-12-16T20:39:02.667382",
     "status": "completed"
    },
    "tags": []
   },
   "outputs": [
    {
     "name": "stdout",
     "output_type": "stream",
     "text": [
      "Training path:/kaggle/input/ventilator-pressure-prediction/train.csv\n",
      "Test path:/kaggle/input/ventilator-pressure-prediction/test.csv\n"
     ]
    }
   ],
   "source": [
    "#loaded files\n",
    "print(f'Training path:{__training_path}\\nTest path:{__test_path}')"
   ]
  },
  {
   "cell_type": "code",
   "execution_count": 3,
   "id": "2d79a330",
   "metadata": {
    "_kg_hide-output": "True",
    "execution": {
     "iopub.execute_input": "2021-12-16T20:39:02.729109Z",
     "iopub.status.busy": "2021-12-16T20:39:02.728381Z",
     "iopub.status.idle": "2021-12-16T20:39:21.620691Z",
     "shell.execute_reply": "2021-12-16T20:39:21.619851Z"
    },
    "papermill": {
     "duration": 18.913114,
     "end_time": "2021-12-16T20:39:21.620865",
     "exception": false,
     "start_time": "2021-12-16T20:39:02.707751",
     "status": "completed"
    },
    "tags": []
   },
   "outputs": [
    {
     "name": "stdout",
     "output_type": "stream",
     "text": [
      "Collecting scikit-learn==0.24.2\r\n",
      "  Downloading scikit_learn-0.24.2-cp37-cp37m-manylinux2010_x86_64.whl (22.3 MB)\r\n",
      "     |████████████████████████████████| 22.3 MB 185 kB/s             \r\n",
      "\u001b[?25hRequirement already satisfied: threadpoolctl>=2.0.0 in /opt/conda/lib/python3.7/site-packages (from scikit-learn==0.24.2) (3.0.0)\r\n",
      "Requirement already satisfied: joblib>=0.11 in /opt/conda/lib/python3.7/site-packages (from scikit-learn==0.24.2) (1.1.0)\r\n",
      "Requirement already satisfied: scipy>=0.19.1 in /opt/conda/lib/python3.7/site-packages (from scikit-learn==0.24.2) (1.7.2)\r\n",
      "Requirement already satisfied: numpy>=1.13.3 in /opt/conda/lib/python3.7/site-packages (from scikit-learn==0.24.2) (1.19.5)\r\n",
      "Installing collected packages: scikit-learn\r\n",
      "  Attempting uninstall: scikit-learn\r\n",
      "    Found existing installation: scikit-learn 0.23.2\r\n",
      "    Uninstalling scikit-learn-0.23.2:\r\n",
      "      Successfully uninstalled scikit-learn-0.23.2\r\n",
      "\u001b[31mERROR: pip's dependency resolver does not currently take into account all the packages that are installed. This behaviour is the source of the following dependency conflicts.\r\n",
      "pdpbox 0.2.1 requires matplotlib==3.1.1, but you have matplotlib 3.5.0 which is incompatible.\r\n",
      "hypertools 0.7.0 requires scikit-learn!=0.22,<0.24,>=0.19.1, but you have scikit-learn 0.24.2 which is incompatible.\u001b[0m\r\n",
      "Successfully installed scikit-learn-0.24.2\r\n",
      "\u001b[33mWARNING: Running pip as the 'root' user can result in broken permissions and conflicting behaviour with the system package manager. It is recommended to use a virtual environment instead: https://pip.pypa.io/warnings/venv\u001b[0m\r\n"
     ]
    }
   ],
   "source": [
    "# Kaggle Environment Prepration\n",
    "#update kaggle env\n",
    "import sys\n",
    "#you may update the environment that allow you to run the whole code\n",
    "!{sys.executable} -m pip install --upgrade scikit-learn==\"0.24.2\""
   ]
  },
  {
   "cell_type": "code",
   "execution_count": 4,
   "id": "e75d9e9b",
   "metadata": {
    "execution": {
     "iopub.execute_input": "2021-12-16T20:39:21.700150Z",
     "iopub.status.busy": "2021-12-16T20:39:21.699493Z",
     "iopub.status.idle": "2021-12-16T20:39:22.694265Z",
     "shell.execute_reply": "2021-12-16T20:39:22.694910Z"
    },
    "papermill": {
     "duration": 1.036917,
     "end_time": "2021-12-16T20:39:22.695110",
     "exception": false,
     "start_time": "2021-12-16T20:39:21.658193",
     "status": "completed"
    },
    "tags": []
   },
   "outputs": [
    {
     "name": "stdout",
     "output_type": "stream",
     "text": [
      "\n",
      "System:\n",
      "    python: 3.7.12 | packaged by conda-forge | (default, Oct 26 2021, 06:08:53)  [GCC 9.4.0]\n",
      "executable: /opt/conda/bin/python\n",
      "   machine: Linux-5.10.68+-x86_64-with-debian-bullseye-sid\n",
      "\n",
      "Python dependencies:\n",
      "          pip: 21.3.1\n",
      "   setuptools: 59.1.1\n",
      "      sklearn: 0.24.2\n",
      "        numpy: 1.19.5\n",
      "        scipy: 1.7.2\n",
      "       Cython: 0.29.24\n",
      "       pandas: 1.3.4\n",
      "   matplotlib: 3.5.0\n",
      "       joblib: 1.1.0\n",
      "threadpoolctl: 3.0.0\n",
      "\n",
      "Built with OpenMP: True\n"
     ]
    }
   ],
   "source": [
    "#record this information if we have to run the Kernel internally\n",
    "import sklearn; sklearn.show_versions()"
   ]
  },
  {
   "cell_type": "markdown",
   "id": "3db42e52",
   "metadata": {
    "papermill": {
     "duration": 0.037088,
     "end_time": "2021-12-16T20:39:22.844972",
     "exception": false,
     "start_time": "2021-12-16T20:39:22.807884",
     "status": "completed"
    },
    "tags": []
   },
   "source": [
    "# Input Dataset"
   ]
  },
  {
   "cell_type": "code",
   "execution_count": 5,
   "id": "eb2d2e5b",
   "metadata": {
    "_kg_hide-input": false,
    "_kg_hide-output": false,
    "execution": {
     "iopub.execute_input": "2021-12-16T20:39:22.927828Z",
     "iopub.status.busy": "2021-12-16T20:39:22.923294Z",
     "iopub.status.idle": "2021-12-16T20:39:35.961521Z",
     "shell.execute_reply": "2021-12-16T20:39:35.962061Z"
    },
    "papermill": {
     "duration": 13.079605,
     "end_time": "2021-12-16T20:39:35.962244",
     "exception": false,
     "start_time": "2021-12-16T20:39:22.882639",
     "status": "completed"
    },
    "tags": []
   },
   "outputs": [
    {
     "data": {
      "text/html": [
       "<div>\n",
       "<style scoped>\n",
       "    .dataframe tbody tr th:only-of-type {\n",
       "        vertical-align: middle;\n",
       "    }\n",
       "\n",
       "    .dataframe tbody tr th {\n",
       "        vertical-align: top;\n",
       "    }\n",
       "\n",
       "    .dataframe thead th {\n",
       "        text-align: right;\n",
       "    }\n",
       "</style>\n",
       "<table border=\"1\" class=\"dataframe\">\n",
       "  <thead>\n",
       "    <tr style=\"text-align: right;\">\n",
       "      <th></th>\n",
       "      <th>id</th>\n",
       "      <th>breath_id</th>\n",
       "      <th>R</th>\n",
       "      <th>C</th>\n",
       "      <th>time_step</th>\n",
       "      <th>u_in</th>\n",
       "      <th>u_out</th>\n",
       "      <th>pressure</th>\n",
       "    </tr>\n",
       "  </thead>\n",
       "  <tbody>\n",
       "    <tr>\n",
       "      <th>0</th>\n",
       "      <td>1</td>\n",
       "      <td>1</td>\n",
       "      <td>20</td>\n",
       "      <td>50</td>\n",
       "      <td>0.000000</td>\n",
       "      <td>0.083334</td>\n",
       "      <td>0</td>\n",
       "      <td>5.837492</td>\n",
       "    </tr>\n",
       "    <tr>\n",
       "      <th>1</th>\n",
       "      <td>2</td>\n",
       "      <td>1</td>\n",
       "      <td>20</td>\n",
       "      <td>50</td>\n",
       "      <td>0.033652</td>\n",
       "      <td>18.383041</td>\n",
       "      <td>0</td>\n",
       "      <td>5.907794</td>\n",
       "    </tr>\n",
       "    <tr>\n",
       "      <th>2</th>\n",
       "      <td>3</td>\n",
       "      <td>1</td>\n",
       "      <td>20</td>\n",
       "      <td>50</td>\n",
       "      <td>0.067514</td>\n",
       "      <td>22.509278</td>\n",
       "      <td>0</td>\n",
       "      <td>7.876254</td>\n",
       "    </tr>\n",
       "    <tr>\n",
       "      <th>3</th>\n",
       "      <td>4</td>\n",
       "      <td>1</td>\n",
       "      <td>20</td>\n",
       "      <td>50</td>\n",
       "      <td>0.101542</td>\n",
       "      <td>22.808822</td>\n",
       "      <td>0</td>\n",
       "      <td>11.742872</td>\n",
       "    </tr>\n",
       "    <tr>\n",
       "      <th>4</th>\n",
       "      <td>5</td>\n",
       "      <td>1</td>\n",
       "      <td>20</td>\n",
       "      <td>50</td>\n",
       "      <td>0.135756</td>\n",
       "      <td>25.355850</td>\n",
       "      <td>0</td>\n",
       "      <td>12.234987</td>\n",
       "    </tr>\n",
       "  </tbody>\n",
       "</table>\n",
       "</div>"
      ],
      "text/plain": [
       "   id  breath_id   R   C  time_step       u_in  u_out   pressure\n",
       "0   1          1  20  50   0.000000   0.083334      0   5.837492\n",
       "1   2          1  20  50   0.033652  18.383041      0   5.907794\n",
       "2   3          1  20  50   0.067514  22.509278      0   7.876254\n",
       "3   4          1  20  50   0.101542  22.808822      0  11.742872\n",
       "4   5          1  20  50   0.135756  25.355850      0  12.234987"
      ]
     },
     "execution_count": 5,
     "metadata": {},
     "output_type": "execute_result"
    }
   ],
   "source": [
    "def __load__data(__training_path, __test_path, concat=False):\n",
    "\t\"\"\"load data as input dataset\n",
    "\tparams: __training_path: the training path of input dataset\n",
    "\tparams: __test_path: the path of test dataset\n",
    "\tparams: if it is True, then it will concatinate the training and test dataset as output\n",
    "\treturns: generate final loaded dataset as dataset, input and test\n",
    "\t\"\"\"\n",
    "\t# LOAD DATA\n",
    "\timport pandas as pd\n",
    "\t__train_dataset = pd.read_csv(__training_path, delimiter=',')\n",
    "\t__test_dataset = pd.read_csv(__test_path, delimiter=',')\n",
    "\treturn __train_dataset, __test_dataset\n",
    "__train_dataset, __test_dataset = __load__data(__training_path, __test_path, concat=True)\n",
    "__train_dataset.head()"
   ]
  },
  {
   "cell_type": "code",
   "execution_count": 6,
   "id": "59e8fd4c",
   "metadata": {
    "_kg_hide-input": false,
    "_kg_hide-output": false,
    "execution": {
     "iopub.execute_input": "2021-12-16T20:39:36.045741Z",
     "iopub.status.busy": "2021-12-16T20:39:36.045013Z",
     "iopub.status.idle": "2021-12-16T20:39:36.048177Z",
     "shell.execute_reply": "2021-12-16T20:39:36.047607Z"
    },
    "papermill": {
     "duration": 0.04861,
     "end_time": "2021-12-16T20:39:36.048316",
     "exception": false,
     "start_time": "2021-12-16T20:39:35.999706",
     "status": "completed"
    },
    "tags": []
   },
   "outputs": [],
   "source": [
    "#Store the columns relevant to submission\n",
    "__test_dataset_submission_columns = __test_dataset['id']"
   ]
  },
  {
   "cell_type": "markdown",
   "id": "0ede208a",
   "metadata": {
    "papermill": {
     "duration": 0.037878,
     "end_time": "2021-12-16T20:39:36.123806",
     "exception": false,
     "start_time": "2021-12-16T20:39:36.085928",
     "status": "completed"
    },
    "tags": []
   },
   "source": [
    "### Discard Irrelevant Columns\n",
    "In the given input dataset there are <b>1</b> column that can be removed as follows:* id *."
   ]
  },
  {
   "cell_type": "code",
   "execution_count": 7,
   "id": "0ba95a40",
   "metadata": {
    "_kg_hide-input": false,
    "_kg_hide-output": false,
    "execution": {
     "iopub.execute_input": "2021-12-16T20:39:36.337407Z",
     "iopub.status.busy": "2021-12-16T20:39:36.280374Z",
     "iopub.status.idle": "2021-12-16T20:39:36.417692Z",
     "shell.execute_reply": "2021-12-16T20:39:36.417016Z"
    },
    "papermill": {
     "duration": 0.256564,
     "end_time": "2021-12-16T20:39:36.417847",
     "exception": false,
     "start_time": "2021-12-16T20:39:36.161283",
     "status": "completed"
    },
    "tags": []
   },
   "outputs": [],
   "source": [
    "#Remove Unnecessary coloumns\n",
    "__train_dataset.drop(['id'], axis=1, inplace=True)\n",
    "__test_dataset.drop(['id'], axis=1, inplace=True)"
   ]
  },
  {
   "cell_type": "markdown",
   "id": "52b2e7cc",
   "metadata": {
    "papermill": {
     "duration": 0.037612,
     "end_time": "2021-12-16T20:39:36.494587",
     "exception": false,
     "start_time": "2021-12-16T20:39:36.456975",
     "status": "completed"
    },
    "tags": []
   },
   "source": [
    "### Target Column\n",
    "The target column is the value which we need to predict.\n",
    "Therefore, we need to detach the target columns in prediction.\n",
    "\n",
    "If we don't drop this fields, it will generate a model with high accuracy on training and worst accuracy on test (because the value in test dataset is Null).\n",
    "Here is the list of *target column*: <b>pressure</b>"
   ]
  },
  {
   "cell_type": "code",
   "execution_count": 8,
   "id": "162dbaa9",
   "metadata": {
    "_kg_hide-input": false,
    "_kg_hide-output": false,
    "execution": {
     "iopub.execute_input": "2021-12-16T20:39:36.574402Z",
     "iopub.status.busy": "2021-12-16T20:39:36.573335Z",
     "iopub.status.idle": "2021-12-16T20:39:36.697259Z",
     "shell.execute_reply": "2021-12-16T20:39:36.698082Z"
    },
    "papermill": {
     "duration": 0.165905,
     "end_time": "2021-12-16T20:39:36.698295",
     "exception": false,
     "start_time": "2021-12-16T20:39:36.532390",
     "status": "completed"
    },
    "tags": []
   },
   "outputs": [],
   "source": [
    "#detatch the target column\n",
    "__feature_train = __train_dataset.drop(['pressure'], axis=1)\n",
    "__target_train =__train_dataset['pressure']\n",
    "__feature_test = __test_dataset"
   ]
  },
  {
   "cell_type": "markdown",
   "id": "5bb04b62",
   "metadata": {
    "papermill": {
     "duration": 0.038893,
     "end_time": "2021-12-16T20:39:36.776215",
     "exception": false,
     "start_time": "2021-12-16T20:39:36.737322",
     "status": "completed"
    },
    "tags": []
   },
   "source": [
    "# Training Model and Prediction\n",
    "First, we will train a model based on preprocessed values of training data set.\n",
    "Second, let's predict test values based on the trained model."
   ]
  },
  {
   "cell_type": "markdown",
   "id": "a37da8b5",
   "metadata": {
    "papermill": {
     "duration": 0.038264,
     "end_time": "2021-12-16T20:39:36.853057",
     "exception": false,
     "start_time": "2021-12-16T20:39:36.814793",
     "status": "completed"
    },
    "tags": []
   },
   "source": [
    "## LightGBM Regressor\n",
    "We will use *LightGBM Regressor* which is constructing a gradient boosting model. We will use *lightgbm* package.\n",
    "\n",
    "(https://lightgbm.readthedocs.io/en/latest/pythonapi/lightgbm.LGBMRegressor.html)."
   ]
  },
  {
   "cell_type": "code",
   "execution_count": 9,
   "id": "fb569fdf",
   "metadata": {
    "_kg_hide-input": false,
    "_kg_hide-output": true,
    "execution": {
     "iopub.execute_input": "2021-12-16T20:39:36.936678Z",
     "iopub.status.busy": "2021-12-16T20:39:36.935868Z",
     "iopub.status.idle": "2021-12-16T20:39:58.326173Z",
     "shell.execute_reply": "2021-12-16T20:39:58.325216Z"
    },
    "papermill": {
     "duration": 21.434728,
     "end_time": "2021-12-16T20:39:58.326336",
     "exception": false,
     "start_time": "2021-12-16T20:39:36.891608",
     "status": "completed"
    },
    "tags": []
   },
   "outputs": [
    {
     "data": {
      "text/html": [
       "<style type='text/css'>\n",
       ".datatable table.frame { margin-bottom: 0; }\n",
       ".datatable table.frame thead { border-bottom: none; }\n",
       ".datatable table.frame tr.coltypes td {  color: #FFFFFF;  line-height: 6px;  padding: 0 0.5em;}\n",
       ".datatable .bool    { background: #DDDD99; }\n",
       ".datatable .object  { background: #565656; }\n",
       ".datatable .int     { background: #5D9E5D; }\n",
       ".datatable .float   { background: #4040CC; }\n",
       ".datatable .str     { background: #CC4040; }\n",
       ".datatable .time    { background: #40CC40; }\n",
       ".datatable .row_index {  background: var(--jp-border-color3);  border-right: 1px solid var(--jp-border-color0);  color: var(--jp-ui-font-color3);  font-size: 9px;}\n",
       ".datatable .frame tbody td { text-align: left; }\n",
       ".datatable .frame tr.coltypes .row_index {  background: var(--jp-border-color0);}\n",
       ".datatable th:nth-child(2) { padding-left: 12px; }\n",
       ".datatable .hellipsis {  color: var(--jp-cell-editor-border-color);}\n",
       ".datatable .vellipsis {  background: var(--jp-layout-color0);  color: var(--jp-cell-editor-border-color);}\n",
       ".datatable .na {  color: var(--jp-cell-editor-border-color);  font-size: 80%;}\n",
       ".datatable .sp {  opacity: 0.25;}\n",
       ".datatable .footer { font-size: 9px; }\n",
       ".datatable .frame_dimensions {  background: var(--jp-border-color3);  border-top: 1px solid var(--jp-border-color0);  color: var(--jp-ui-font-color3);  display: inline-block;  opacity: 0.6;  padding: 1px 10px 1px 5px;}\n",
       ".datatable .frame thead tr.colnames {  background-image: url('data:image/png;base64,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');  background-repeat: repeat-x;  background-size: 14px;  height: 28px;}\n",
       "</style>\n"
      ],
      "text/plain": [
       "<IPython.core.display.HTML object>"
      ]
     },
     "metadata": {},
     "output_type": "display_data"
    }
   ],
   "source": [
    "#Import libraries and the model\n",
    "import numpy as np\n",
    "from lightgbm import LGBMRegressor\n",
    "__model = LGBMRegressor()\n",
    "__model.fit(__feature_train, __target_train) \n",
    "__y_pred = __model.predict(__feature_test)"
   ]
  },
  {
   "cell_type": "markdown",
   "id": "2fe85a79",
   "metadata": {
    "papermill": {
     "duration": 0.039023,
     "end_time": "2021-12-16T20:39:58.405545",
     "exception": false,
     "start_time": "2021-12-16T20:39:58.366522",
     "status": "completed"
    },
    "tags": []
   },
   "source": [
    "# Submission File\n",
    "We have to maintain the target columns in \"submission.csv\" which will be submitted as our prediction results."
   ]
  },
  {
   "cell_type": "code",
   "execution_count": 10,
   "id": "36a7b1d1",
   "metadata": {
    "_kg_hide-input": false,
    "_kg_hide-output": false,
    "execution": {
     "iopub.execute_input": "2021-12-16T20:39:58.492488Z",
     "iopub.status.busy": "2021-12-16T20:39:58.490608Z",
     "iopub.status.idle": "2021-12-16T20:39:58.516523Z",
     "shell.execute_reply": "2021-12-16T20:39:58.517080Z"
    },
    "papermill": {
     "duration": 0.072324,
     "end_time": "2021-12-16T20:39:58.517264",
     "exception": false,
     "start_time": "2021-12-16T20:39:58.444940",
     "status": "completed"
    },
    "tags": []
   },
   "outputs": [
    {
     "data": {
      "text/html": [
       "<div>\n",
       "<style scoped>\n",
       "    .dataframe tbody tr th:only-of-type {\n",
       "        vertical-align: middle;\n",
       "    }\n",
       "\n",
       "    .dataframe tbody tr th {\n",
       "        vertical-align: top;\n",
       "    }\n",
       "\n",
       "    .dataframe thead th {\n",
       "        text-align: right;\n",
       "    }\n",
       "</style>\n",
       "<table border=\"1\" class=\"dataframe\">\n",
       "  <thead>\n",
       "    <tr style=\"text-align: right;\">\n",
       "      <th></th>\n",
       "      <th>id</th>\n",
       "      <th>pressure</th>\n",
       "    </tr>\n",
       "  </thead>\n",
       "  <tbody>\n",
       "    <tr>\n",
       "      <th>0</th>\n",
       "      <td>1</td>\n",
       "      <td>6.298749</td>\n",
       "    </tr>\n",
       "    <tr>\n",
       "      <th>1</th>\n",
       "      <td>2</td>\n",
       "      <td>5.739619</td>\n",
       "    </tr>\n",
       "    <tr>\n",
       "      <th>2</th>\n",
       "      <td>3</td>\n",
       "      <td>6.890605</td>\n",
       "    </tr>\n",
       "    <tr>\n",
       "      <th>3</th>\n",
       "      <td>4</td>\n",
       "      <td>8.840034</td>\n",
       "    </tr>\n",
       "    <tr>\n",
       "      <th>4</th>\n",
       "      <td>5</td>\n",
       "      <td>10.248940</td>\n",
       "    </tr>\n",
       "  </tbody>\n",
       "</table>\n",
       "</div>"
      ],
      "text/plain": [
       "   id   pressure\n",
       "0   1   6.298749\n",
       "1   2   5.739619\n",
       "2   3   6.890605\n",
       "3   4   8.840034\n",
       "4   5  10.248940"
      ]
     },
     "execution_count": 10,
     "metadata": {},
     "output_type": "execute_result"
    }
   ],
   "source": [
    "submission = pd.DataFrame(columns=['id'], data=__test_dataset_submission_columns)\n",
    "submission['pressure'] = __y_pred\n",
    "submission.head()"
   ]
  },
  {
   "cell_type": "code",
   "execution_count": 11,
   "id": "89d06ad3",
   "metadata": {
    "_kg_hide-input": false,
    "_kg_hide-output": false,
    "execution": {
     "iopub.execute_input": "2021-12-16T20:39:58.601786Z",
     "iopub.status.busy": "2021-12-16T20:39:58.601076Z",
     "iopub.status.idle": "2021-12-16T20:40:12.299815Z",
     "shell.execute_reply": "2021-12-16T20:40:12.300596Z"
    },
    "papermill": {
     "duration": 13.744028,
     "end_time": "2021-12-16T20:40:12.300811",
     "exception": false,
     "start_time": "2021-12-16T20:39:58.556783",
     "status": "completed"
    },
    "tags": []
   },
   "outputs": [],
   "source": [
    "#save the submission file\n",
    "submission.to_csv(\"kaggle_submission.csv\", index=False)"
   ]
  }
 ],
 "metadata": {
  "kernelspec": {
   "display_name": "Python 3",
   "language": "python",
   "name": "python3"
  },
  "language_info": {
   "codemirror_mode": {
    "name": "ipython",
    "version": 3
   },
   "file_extension": ".py",
   "mimetype": "text/x-python",
   "name": "python",
   "nbconvert_exporter": "python",
   "pygments_lexer": "ipython3",
   "version": "3.8.8"
  },
  "papermill": {
   "default_parameters": {},
   "duration": 81.407623,
   "end_time": "2021-12-16T20:40:13.053346",
   "environment_variables": {},
   "exception": null,
   "input_path": "__notebook__.ipynb",
   "output_path": "__notebook__.ipynb",
   "parameters": {},
   "start_time": "2021-12-16T20:38:51.645723",
   "version": "2.3.3"
  }
 },
 "nbformat": 4,
 "nbformat_minor": 5
}
