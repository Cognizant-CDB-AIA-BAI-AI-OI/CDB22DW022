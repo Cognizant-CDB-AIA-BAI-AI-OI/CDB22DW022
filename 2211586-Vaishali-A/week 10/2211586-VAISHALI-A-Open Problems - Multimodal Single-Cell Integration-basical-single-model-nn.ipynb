{
 "cells": [
  {
   "cell_type": "markdown",
   "metadata": {
    "papermill": {
     "duration": 0.016057,
     "end_time": "2023-03-14T12:22:26.076976",
     "exception": false,
     "start_time": "2023-03-14T12:22:26.060919",
     "status": "completed"
    },
    "tags": []
   },
   "source": [
    "## KERAS for CITEseq & Multiome\n"
   ]
  },
  {
   "cell_type": "markdown",
   "metadata": {
    "papermill": {
     "duration": 0.014753,
     "end_time": "2023-03-14T12:22:26.105517",
     "exception": false,
     "start_time": "2023-03-14T12:22:26.090764",
     "status": "completed"
    },
    "tags": []
   },
   "source": [
    "<p> I'm a postgraduate student and it's my first time to join the Kaggle competition, so if my organization in this nootbook was not clear and you want to know more other information, you can comment below or send me a private message. As a result of I didn't control the time well, so the final plans were not been finished and submitted. The feature engineer's parts are not organized well so now I just to share my best NN model structure, though the final TruncaredSVD's parameters were changed a little.</p>"
   ]
  },
  {
   "cell_type": "code",
   "execution_count": 1,
   "metadata": {
    "execution": {
     "iopub.execute_input": "2023-03-14T12:22:26.133741Z",
     "iopub.status.busy": "2023-03-14T12:22:26.132851Z",
     "iopub.status.idle": "2023-03-14T12:22:36.756444Z",
     "shell.execute_reply": "2023-03-14T12:22:36.755157Z"
    },
    "papermill": {
     "duration": 10.637732,
     "end_time": "2023-03-14T12:22:36.759054",
     "exception": false,
     "start_time": "2023-03-14T12:22:26.121322",
     "status": "completed"
    },
    "tags": []
   },
   "outputs": [
    {
     "name": "stdout",
     "output_type": "stream",
     "text": [
      "Requirement already satisfied: tables in /opt/conda/lib/python3.7/site-packages (3.7.0)\r\n",
      "Requirement already satisfied: packaging in /opt/conda/lib/python3.7/site-packages (from tables) (21.3)\r\n",
      "Requirement already satisfied: numexpr>=2.6.2 in /opt/conda/lib/python3.7/site-packages (from tables) (2.8.3)\r\n",
      "Requirement already satisfied: numpy>=1.19.0 in /opt/conda/lib/python3.7/site-packages (from tables) (1.21.6)\r\n",
      "Requirement already satisfied: pyparsing!=3.0.5,>=2.0.2 in /opt/conda/lib/python3.7/site-packages (from packaging->tables) (3.0.9)\r\n",
      "\u001b[33mWARNING: Running pip as the 'root' user can result in broken permissions and conflicting behaviour with the system package manager. It is recommended to use a virtual environment instead: https://pip.pypa.io/warnings/venv\u001b[0m\u001b[33m\r\n",
      "\u001b[0m"
     ]
    }
   ],
   "source": [
    "! pip install tables"
   ]
  },
  {
   "cell_type": "code",
   "execution_count": 2,
   "metadata": {
    "_kg_hide-input": true,
    "execution": {
     "iopub.execute_input": "2023-03-14T12:22:36.781146Z",
     "iopub.status.busy": "2023-03-14T12:22:36.780833Z",
     "iopub.status.idle": "2023-03-14T12:22:37.887654Z",
     "shell.execute_reply": "2023-03-14T12:22:37.886663Z"
    },
    "papermill": {
     "duration": 1.120694,
     "end_time": "2023-03-14T12:22:37.890185",
     "exception": false,
     "start_time": "2023-03-14T12:22:36.769491",
     "status": "completed"
    },
    "tags": []
   },
   "outputs": [],
   "source": [
    "import os, gc, pickle, datetime, scipy.sparse\n",
    "import pandas as pd\n",
    "import matplotlib.pyplot as plt\n",
    "import numpy as np\n",
    "from colorama import Fore, Back, Style\n",
    "\n",
    "from sklearn.model_selection import GroupKFold,KFold\n",
    "from sklearn.preprocessing import StandardScaler\n",
    "from sklearn.decomposition import TruncatedSVD,PCA\n",
    "from sklearn.metrics import mean_squared_error\n",
    "\n",
    "import matplotlib.pyplot as plt\n",
    "from matplotlib.ticker import MaxNLocator\n",
    "import seaborn as sns\n",
    "from cycler import cycler\n",
    "from IPython.display import display\n",
    "\n",
    "import scipy.sparse\n",
    "\n",
    "DATA_DIR = \"../input/open-problems-multimodal\"\n",
    "FP_CELL_METADATA = os.path.join(DATA_DIR,\"metadata.csv\")\n",
    "\n",
    "FP_CITE_TRAIN_INPUTS = os.path.join(DATA_DIR,\"train_cite_inputs.h5\")\n",
    "FP_CITE_TRAIN_TARGETS = os.path.join(DATA_DIR,\"train_cite_targets.h5\")\n",
    "FP_CITE_TEST_INPUTS = os.path.join(DATA_DIR,\"test_cite_inputs.h5\")\n",
    "\n",
    "FP_SUBMISSION = os.path.join(DATA_DIR,\"sample_submission.csv\")\n",
    "FP_EVALUATION_IDS = os.path.join(DATA_DIR,\"evaluation_ids.csv\")\n",
    "\n",
    "VERBOSE = 0"
   ]
  },
  {
   "cell_type": "markdown",
   "metadata": {
    "papermill": {
     "duration": 0.010213,
     "end_time": "2023-03-14T12:22:37.911012",
     "exception": false,
     "start_time": "2023-03-14T12:22:37.900799",
     "status": "completed"
    },
    "tags": []
   },
   "source": [
    "## ------ CITEseq MODEL ---------"
   ]
  },
  {
   "cell_type": "markdown",
   "metadata": {
    "papermill": {
     "duration": 0.010133,
     "end_time": "2023-03-14T12:22:37.931871",
     "exception": false,
     "start_time": "2023-03-14T12:22:37.921738",
     "status": "completed"
    },
    "tags": []
   },
   "source": [
    "## Important features which are selected by myself"
   ]
  },
  {
   "cell_type": "code",
   "execution_count": 3,
   "metadata": {
    "execution": {
     "iopub.execute_input": "2023-03-14T12:22:37.953840Z",
     "iopub.status.busy": "2023-03-14T12:22:37.953487Z",
     "iopub.status.idle": "2023-03-14T12:22:37.958706Z",
     "shell.execute_reply": "2023-03-14T12:22:37.957692Z"
    },
    "jupyter": {
     "source_hidden": true
    },
    "papermill": {
     "duration": 0.018721,
     "end_time": "2023-03-14T12:22:37.960813",
     "exception": false,
     "start_time": "2023-03-14T12:22:37.942092",
     "status": "completed"
    },
    "tags": []
   },
   "outputs": [],
   "source": [
    "# important_cols =['ENSG00000004468',\n",
    "#  'ENSG00000005961',\n",
    "#  'ENSG00000010278',\n",
    "#  'ENSG00000010610',\n",
    "#  'ENSG00000026103',\n",
    "#  'ENSG00000026508',\n",
    "#  'ENSG00000072274',\n",
    "#  'ENSG00000073008',\n",
    "#  'ENSG00000077238',\n",
    "#  'ENSG00000081237',\n",
    "#  'ENSG00000083457',\n",
    "#  'ENSG00000085117',\n",
    "#  'ENSG00000091409',\n",
    "#  'ENSG00000100031',\n",
    "#  'ENSG00000101017',\n",
    "#  'ENSG00000105383',\n",
    "#  'ENSG00000106991',\n",
    "#  'ENSG00000110651',\n",
    "#  'ENSG00000110848',\n",
    "#  'ENSG00000110876',\n",
    "#  'ENSG00000112149',\n",
    "#  'ENSG00000115232',\n",
    "#  'ENSG00000117091',\n",
    "#  'ENSG00000125810',\n",
    "#  'ENSG00000130202',\n",
    "#  'ENSG00000135218',\n",
    "#  'ENSG00000135404',\n",
    "#  'ENSG00000137101',\n",
    "#  'ENSG00000139187',\n",
    "#  'ENSG00000143226',\n",
    "#  'ENSG00000150093',\n",
    "#  'ENSG00000150337',\n",
    "#  'ENSG00000150637',\n",
    "#  'ENSG00000157873',\n",
    "#  'ENSG00000160255',\n",
    "#  'ENSG00000164171',\n",
    "#  'ENSG00000166825',\n",
    "#  'ENSG00000169442',\n",
    "#  'ENSG00000173762',\n",
    "#  'ENSG00000179639',\n",
    "#  'ENSG00000185291',\n",
    "#  'ENSG00000185896',\n",
    "#  'ENSG00000186827',\n",
    "#  'ENSG00000188404',\n",
    "#  'ENSG00000196776',\n",
    "#  'ENSG00000197635',\n",
    "#  'ENSG00000198053',\n",
    "#  'ENSG00000203710',\n",
    "#  'ENSG00000204287',\n",
    "#  'ENSG00000204592',\n",
    "#  'ENSG00000206503',\n",
    "#  'ENSG00000211898',\n",
    "#  'ENSG00000211899',\n",
    "#  'ENSG00000261371']\n",
    "\n",
    "# print('important columns ',len(important_cols))"
   ]
  },
  {
   "cell_type": "markdown",
   "metadata": {
    "papermill": {
     "duration": 0.009953,
     "end_time": "2023-03-14T12:22:37.981213",
     "exception": false,
     "start_time": "2023-03-14T12:22:37.971260",
     "status": "completed"
    },
    "tags": []
   },
   "source": [
    "## Preparation of the cross validation by batch"
   ]
  },
  {
   "cell_type": "code",
   "execution_count": 4,
   "metadata": {
    "execution": {
     "iopub.execute_input": "2023-03-14T12:22:38.002864Z",
     "iopub.status.busy": "2023-03-14T12:22:38.002572Z",
     "iopub.status.idle": "2023-03-14T12:24:09.788230Z",
     "shell.execute_reply": "2023-03-14T12:24:09.787316Z"
    },
    "papermill": {
     "duration": 91.808855,
     "end_time": "2023-03-14T12:24:09.800159",
     "exception": false,
     "start_time": "2023-03-14T12:22:37.991304",
     "status": "completed"
    },
    "tags": []
   },
   "outputs": [
    {
     "data": {
      "text/plain": [
       "58"
      ]
     },
     "execution_count": 4,
     "metadata": {},
     "output_type": "execute_result"
    }
   ],
   "source": [
    "metadata_df = pd.read_csv(FP_CELL_METADATA, index_col = 'cell_id')\n",
    "metadata_df = metadata_df[metadata_df.technology == \"citeseq\"]\n",
    "\n",
    "# Read train and convert to sparse matrix\n",
    "X = pd.read_hdf(FP_CITE_TRAIN_INPUTS)\n",
    "X.columns = [t.split('_')[0] for t in X.columns]\n",
    "cell_index = X.index\n",
    "meta = metadata_df.reindex(cell_index)\n",
    "#X0 = X[important_cols].values\n",
    "\n",
    "del X\n",
    "gc.collect()\n",
    "\n",
    "\n",
    "# Read test and convert to sparse matrix\n",
    "Xt = pd.read_hdf(FP_CITE_TEST_INPUTS)\n",
    "Xt.columns = [t.split('_')[0] for t in Xt.columns]\n",
    "cell_index_test = Xt.index\n",
    "meta_test = metadata_df.reindex(cell_index_test)\n",
    "#X0t = Xt[important_cols].values\n",
    "\n",
    "del Xt\n",
    "gc.collect()\n",
    "\n",
    "#print(f'X0 shape {X0.shape} X0t shape {X0t.shape}')"
   ]
  },
  {
   "cell_type": "markdown",
   "metadata": {
    "papermill": {
     "duration": 0.009792,
     "end_time": "2023-03-14T12:24:09.820063",
     "exception": false,
     "start_time": "2023-03-14T12:24:09.810271",
     "status": "completed"
    },
    "tags": []
   },
   "source": [
    "## Target normalization"
   ]
  },
  {
   "cell_type": "code",
   "execution_count": 5,
   "metadata": {
    "execution": {
     "iopub.execute_input": "2023-03-14T12:24:09.841759Z",
     "iopub.status.busy": "2023-03-14T12:24:09.840956Z",
     "iopub.status.idle": "2023-03-14T12:24:10.578083Z",
     "shell.execute_reply": "2023-03-14T12:24:10.577175Z"
    },
    "papermill": {
     "duration": 0.750137,
     "end_time": "2023-03-14T12:24:10.580187",
     "exception": false,
     "start_time": "2023-03-14T12:24:09.830050",
     "status": "completed"
    },
    "tags": []
   },
   "outputs": [
    {
     "data": {
      "text/plain": [
       "79"
      ]
     },
     "execution_count": 5,
     "metadata": {},
     "output_type": "execute_result"
    }
   ],
   "source": [
    "Y = pd.read_hdf(FP_CITE_TRAIN_TARGETS)\n",
    "Y = Y.values\n",
    "Y -= Y.mean(axis=1).reshape(-1, 1)\n",
    "Y /= Y.std(axis=1).reshape(-1, 1)\n",
    "Y = Y.astype('float32', copy=True)\n",
    "Y.shape\n",
    "gc.collect()"
   ]
  },
  {
   "cell_type": "markdown",
   "metadata": {
    "papermill": {
     "duration": 0.010047,
     "end_time": "2023-03-14T12:24:10.600749",
     "exception": false,
     "start_time": "2023-03-14T12:24:10.590702",
     "status": "completed"
    },
    "tags": []
   },
   "source": [
    "## Featrues was made by DCA(SVD), FA, scVi and Important columns which were selected by myself."
   ]
  },
  {
   "cell_type": "code",
   "execution_count": 6,
   "metadata": {
    "execution": {
     "iopub.execute_input": "2023-03-14T12:24:10.622560Z",
     "iopub.status.busy": "2023-03-14T12:24:10.622235Z",
     "iopub.status.idle": "2023-03-14T12:24:15.096352Z",
     "shell.execute_reply": "2023-03-14T12:24:15.095086Z"
    },
    "papermill": {
     "duration": 4.488029,
     "end_time": "2023-03-14T12:24:15.099136",
     "exception": false,
     "start_time": "2023-03-14T12:24:10.611107",
     "status": "completed"
    },
    "tags": []
   },
   "outputs": [
    {
     "name": "stdout",
     "output_type": "stream",
     "text": [
      "(41187, 580)\n"
     ]
    }
   ],
   "source": [
    "X = np.load(\"../input/citeseq-keras-1/citeseq_keras_train_data.npy\")\n",
    "Xt = np.load(\"../input/citeseq-keras-1/citeseq_keras_test_data.npy\")\n",
    "print(Xt.shape)"
   ]
  },
  {
   "cell_type": "markdown",
   "metadata": {
    "papermill": {
     "duration": 0.010714,
     "end_time": "2023-03-14T12:24:15.121294",
     "exception": false,
     "start_time": "2023-03-14T12:24:15.110580",
     "status": "completed"
    },
    "tags": []
   },
   "source": [
    "## Tensorflow Keras librairies"
   ]
  },
  {
   "cell_type": "code",
   "execution_count": 7,
   "metadata": {
    "execution": {
     "iopub.execute_input": "2023-03-14T12:24:15.143285Z",
     "iopub.status.busy": "2023-03-14T12:24:15.142968Z",
     "iopub.status.idle": "2023-03-14T12:24:20.162860Z",
     "shell.execute_reply": "2023-03-14T12:24:20.161874Z"
    },
    "papermill": {
     "duration": 5.033905,
     "end_time": "2023-03-14T12:24:20.165481",
     "exception": false,
     "start_time": "2023-03-14T12:24:15.131576",
     "status": "completed"
    },
    "tags": []
   },
   "outputs": [],
   "source": [
    "import math\n",
    "from tensorflow import keras\n",
    "import tensorflow as tf\n",
    "import tensorflow.keras.backend as K\n",
    "from tensorflow.keras.models import Model, load_model\n",
    "from tensorflow.keras.callbacks import ReduceLROnPlateau, LearningRateScheduler, EarlyStopping\n",
    "from tensorflow.keras.layers import Dense, Input, Concatenate, Dropout, BatchNormalization,GaussianDropout\n",
    "from tensorflow.keras.utils import plot_model"
   ]
  },
  {
   "cell_type": "markdown",
   "metadata": {
    "papermill": {
     "duration": 0.01064,
     "end_time": "2023-03-14T12:24:20.187120",
     "exception": false,
     "start_time": "2023-03-14T12:24:20.176480",
     "status": "completed"
    },
    "tags": []
   },
   "source": [
    "## Metric and loss function"
   ]
  },
  {
   "cell_type": "code",
   "execution_count": 8,
   "metadata": {
    "execution": {
     "iopub.execute_input": "2023-03-14T12:24:20.208987Z",
     "iopub.status.busy": "2023-03-14T12:24:20.208469Z",
     "iopub.status.idle": "2023-03-14T12:24:20.216123Z",
     "shell.execute_reply": "2023-03-14T12:24:20.215151Z"
    },
    "papermill": {
     "duration": 0.020849,
     "end_time": "2023-03-14T12:24:20.218154",
     "exception": false,
     "start_time": "2023-03-14T12:24:20.197305",
     "status": "completed"
    },
    "tags": []
   },
   "outputs": [],
   "source": [
    "def correlation_score(y_true, y_pred):\n",
    "    if type(y_true) == pd.DataFrame: y_true = y_true.values\n",
    "    if type(y_pred) == pd.DataFrame: y_pred = y_pred.values\n",
    "    corrsum = 0\n",
    "    for i in range(len(y_true)):\n",
    "        corrsum += np.corrcoef(y_true[i], y_pred[i])[1, 0]\n",
    "    return corrsum / len(y_true)\n",
    "\n",
    "def negative_correlation_loss(y_true, y_pred):\n",
    "    my = K.mean(tf.convert_to_tensor(y_pred), axis=1)\n",
    "    my = tf.tile(tf.expand_dims(my, axis=1), (1, y_true.shape[1]))\n",
    "    ym = y_pred - my\n",
    "    r_num = K.sum(tf.multiply(y_true, ym), axis=1)\n",
    "    r_den = tf.sqrt(K.sum(K.square(ym), axis=1) * float(y_true.shape[-1]))\n",
    "    r = tf.reduce_mean(r_num / r_den)\n",
    "    return - r"
   ]
  },
  {
   "cell_type": "markdown",
   "metadata": {
    "papermill": {
     "duration": 0.010249,
     "end_time": "2023-03-14T12:24:20.240017",
     "exception": false,
     "start_time": "2023-03-14T12:24:20.229768",
     "status": "completed"
    },
    "tags": []
   },
   "source": [
    "## Model and parameters"
   ]
  },
  {
   "cell_type": "code",
   "execution_count": 9,
   "metadata": {
    "execution": {
     "iopub.execute_input": "2023-03-14T12:24:20.261667Z",
     "iopub.status.busy": "2023-03-14T12:24:20.261366Z",
     "iopub.status.idle": "2023-03-14T12:24:24.212430Z",
     "shell.execute_reply": "2023-03-14T12:24:24.211293Z"
    },
    "papermill": {
     "duration": 3.964557,
     "end_time": "2023-03-14T12:24:24.214713",
     "exception": false,
     "start_time": "2023-03-14T12:24:20.250156",
     "status": "completed"
    },
    "tags": []
   },
   "outputs": [
    {
     "name": "stdout",
     "output_type": "stream",
     "text": [
      "Model: \"model\"\n",
      "__________________________________________________________________________________________________\n",
      "Layer (type)                    Output Shape         Param #     Connected to                     \n",
      "==================================================================================================\n",
      "input_1 (InputLayer)            [(None, 100)]        0                                            \n",
      "__________________________________________________________________________________________________\n",
      "dense (Dense)                   (None, 512)          51712       input_1[0][0]                    \n",
      "__________________________________________________________________________________________________\n",
      "gaussian_dropout (GaussianDropo (None, 512)          0           dense[0][0]                      \n",
      "__________________________________________________________________________________________________\n",
      "dense_1 (Dense)                 (None, 380)          194940      gaussian_dropout[0][0]           \n",
      "__________________________________________________________________________________________________\n",
      "gaussian_dropout_1 (GaussianDro (None, 380)          0           dense_1[0][0]                    \n",
      "__________________________________________________________________________________________________\n",
      "dense_2 (Dense)                 (None, 620)          236220      gaussian_dropout_1[0][0]         \n",
      "__________________________________________________________________________________________________\n",
      "gaussian_dropout_2 (GaussianDro (None, 620)          0           dense_2[0][0]                    \n",
      "__________________________________________________________________________________________________\n",
      "dense_3 (Dense)                 (None, 350)          217350      gaussian_dropout_2[0][0]         \n",
      "__________________________________________________________________________________________________\n",
      "gaussian_dropout_3 (GaussianDro (None, 350)          0           dense_3[0][0]                    \n",
      "__________________________________________________________________________________________________\n",
      "concatenate (Concatenate)       (None, 1862)         0           gaussian_dropout[0][0]           \n",
      "                                                                 gaussian_dropout_1[0][0]         \n",
      "                                                                 gaussian_dropout_2[0][0]         \n",
      "                                                                 gaussian_dropout_3[0][0]         \n",
      "__________________________________________________________________________________________________\n",
      "dense_4 (Dense)                 (None, 140)          260820      concatenate[0][0]                \n",
      "==================================================================================================\n",
      "Total params: 961,042\n",
      "Trainable params: 961,042\n",
      "Non-trainable params: 0\n",
      "__________________________________________________________________________________________________\n"
     ]
    },
    {
     "data": {
      "image/png": "[encoded data removed]",
      "text/plain": [
       "<IPython.core.display.Image object>"
      ]
     },
     "metadata": {},
     "output_type": "display_data"
    }
   ],
   "source": [
    "LR_START = 0.01\n",
    "BATCH_SIZE = 512\n",
    "\n",
    "def create_model():\n",
    "    #      680, 256, 300, 140, \n",
    "    reg1 = 9.613e-06\n",
    "    reg2 = 1e-07\n",
    "    REG1 = tf.keras.regularizers.l2(reg1)\n",
    "    REG2 = tf.keras.regularizers.l2(reg2)\n",
    "    DROP = 0.15\n",
    "    DROP2 = 0.05\n",
    "    #512, 380, 620, 350, 0.15, 0.05\n",
    "    activation = 'selu'\n",
    "    inputs = Input(shape =(100,))\n",
    "\n",
    "    x0 = Dense(512, \n",
    "              kernel_regularizer = REG1,\n",
    "              activation = activation,\n",
    "             )(inputs)\n",
    "    x0 = GaussianDropout(DROP)(x0)\n",
    "    \n",
    "    \n",
    "    x1 = Dense(380, \n",
    "               kernel_regularizer = REG1,\n",
    "               activation = activation,\n",
    "             )(x0)\n",
    "    x1 = GaussianDropout(DROP2)(x1)\n",
    "    \n",
    "    \n",
    "    x2 = Dense(620, \n",
    "               kernel_regularizer = REG1,\n",
    "               activation = activation,\n",
    "             )(x1) \n",
    "    x2= GaussianDropout(DROP2)(x2)\n",
    "    \n",
    "    x3 = Dense(350,\n",
    "               kernel_regularizer = REG1,\n",
    "               activation = activation,\n",
    "             )(x2)\n",
    "    x3 = GaussianDropout(DROP2)(x3)\n",
    "\n",
    "         \n",
    "    x = Concatenate()([\n",
    "                x0, \n",
    "                x1, \n",
    "                x2, \n",
    "                x3\n",
    "                ])\n",
    "    \n",
    "    x = Dense(Y.shape[1], \n",
    "                kernel_regularizer = REG2,\n",
    "                activation='linear',\n",
    "                )(x)\n",
    "    \n",
    "    \n",
    "    model = Model(inputs, x)\n",
    "    model.summary()\n",
    "\n",
    "    return model\n",
    "display(plot_model(create_model(), show_layer_names=True, show_shapes=True, dpi=64))"
   ]
  },
  {
   "cell_type": "code",
   "execution_count": 10,
   "metadata": {
    "execution": {
     "iopub.execute_input": "2023-03-14T12:24:24.241405Z",
     "iopub.status.busy": "2023-03-14T12:24:24.240411Z",
     "iopub.status.idle": "2023-03-14T12:24:24.295509Z",
     "shell.execute_reply": "2023-03-14T12:24:24.294418Z"
    },
    "papermill": {
     "duration": 0.070948,
     "end_time": "2023-03-14T12:24:24.297511",
     "exception": false,
     "start_time": "2023-03-14T12:24:24.226563",
     "status": "completed"
    },
    "tags": []
   },
   "outputs": [
    {
     "name": "stdout",
     "output_type": "stream",
     "text": [
      "Model: \"model_1\"\n",
      "__________________________________________________________________________________________________\n",
      "Layer (type)                    Output Shape         Param #     Connected to                     \n",
      "==================================================================================================\n",
      "input_2 (InputLayer)            [(None, 100)]        0                                            \n",
      "__________________________________________________________________________________________________\n",
      "dense_5 (Dense)                 (None, 512)          51712       input_2[0][0]                    \n",
      "__________________________________________________________________________________________________\n",
      "gaussian_dropout_4 (GaussianDro (None, 512)          0           dense_5[0][0]                    \n",
      "__________________________________________________________________________________________________\n",
      "dense_6 (Dense)                 (None, 380)          194940      gaussian_dropout_4[0][0]         \n",
      "__________________________________________________________________________________________________\n",
      "gaussian_dropout_5 (GaussianDro (None, 380)          0           dense_6[0][0]                    \n",
      "__________________________________________________________________________________________________\n",
      "dense_7 (Dense)                 (None, 620)          236220      gaussian_dropout_5[0][0]         \n",
      "__________________________________________________________________________________________________\n",
      "gaussian_dropout_6 (GaussianDro (None, 620)          0           dense_7[0][0]                    \n",
      "__________________________________________________________________________________________________\n",
      "dense_8 (Dense)                 (None, 350)          217350      gaussian_dropout_6[0][0]         \n",
      "__________________________________________________________________________________________________\n",
      "gaussian_dropout_7 (GaussianDro (None, 350)          0           dense_8[0][0]                    \n",
      "__________________________________________________________________________________________________\n",
      "concatenate_1 (Concatenate)     (None, 1862)         0           gaussian_dropout_4[0][0]         \n",
      "                                                                 gaussian_dropout_5[0][0]         \n",
      "                                                                 gaussian_dropout_6[0][0]         \n",
      "                                                                 gaussian_dropout_7[0][0]         \n",
      "__________________________________________________________________________________________________\n",
      "dense_9 (Dense)                 (None, 140)          260820      concatenate_1[0][0]              \n",
      "==================================================================================================\n",
      "Total params: 961,042\n",
      "Trainable params: 961,042\n",
      "Non-trainable params: 0\n",
      "__________________________________________________________________________________________________\n"
     ]
    },
    {
     "data": {
      "text/plain": [
       "<keras.engine.functional.Functional at 0x7f5ff5980790>"
      ]
     },
     "execution_count": 10,
     "metadata": {},
     "output_type": "execute_result"
    }
   ],
   "source": [
    "create_model()"
   ]
  },
  {
   "cell_type": "code",
   "execution_count": 11,
   "metadata": {
    "execution": {
     "iopub.execute_input": "2023-03-14T12:24:24.322517Z",
     "iopub.status.busy": "2023-03-14T12:24:24.321642Z",
     "iopub.status.idle": "2023-03-14T12:24:24.520490Z",
     "shell.execute_reply": "2023-03-14T12:24:24.519387Z"
    },
    "papermill": {
     "duration": 0.213874,
     "end_time": "2023-03-14T12:24:24.522990",
     "exception": false,
     "start_time": "2023-03-14T12:24:24.309116",
     "status": "completed"
    },
    "tags": []
   },
   "outputs": [
    {
     "data": {
      "image/png": "[encoded data removed]",
      "text/plain": [
       "<IPython.core.display.Image object>"
      ]
     },
     "metadata": {},
     "output_type": "display_data"
    }
   ],
   "source": [
    "LR_START = 0.01\n",
    "BATCH_SIZE = 512\n",
    "\n",
    "def create_model_multi():\n",
    "    reg1 = 9.613e-06\n",
    "    reg2 = 1e-07\n",
    "    REG1 = tf.keras.regularizers.l2(reg1)\n",
    "    REG2 = tf.keras.regularizers.l2(reg2)\n",
    "    DROP = 0.1\n",
    "    DROP2 = 0.1\n",
    "    #512, 380, 620, 350, 0.15, 0.05\n",
    "    activation = 'selu'\n",
    "    inputs = Input(shape =(X.shape[1],))\n",
    "\n",
    "    x0 = Dense(256, \n",
    "              kernel_regularizer = REG1,\n",
    "              activation = activation,\n",
    "             )(inputs)\n",
    "    x0 = Dropout(DROP)(x0)\n",
    "    \n",
    "    \n",
    "    x1 = Dense(512, \n",
    "               kernel_regularizer = REG1,\n",
    "               activation = activation,\n",
    "             )(x0)\n",
    "    x1 = Dropout(DROP2)(x1)\n",
    "    \n",
    "    \n",
    "    x2 = Dense(512, \n",
    "               kernel_regularizer = REG1,\n",
    "               activation = activation,\n",
    "             )(x1) \n",
    "    x2= Dropout(DROP2)(x2)\n",
    "    \n",
    "    x3 = Dense(140,\n",
    "               kernel_regularizer = REG1,\n",
    "               activation = activation,\n",
    "             )(x2)\n",
    "    x3 = Dropout(DROP2)(x3)\n",
    "\n",
    "         \n",
    "    x = Concatenate()([\n",
    "                x0, \n",
    "                x1, \n",
    "                x2, \n",
    "                x3\n",
    "                ])\n",
    "    \n",
    "    x = Dense(Y.shape[1], \n",
    "                kernel_regularizer = REG2,\n",
    "                activation='linear',\n",
    "                )(x)\n",
    "    \n",
    "    \n",
    "    model = Model(inputs, x)\n",
    "    \n",
    "\n",
    "    return model\n",
    "display(plot_model(create_model_multi(), show_layer_names=True, show_shapes=True, dpi=64))"
   ]
  },
  {
   "cell_type": "markdown",
   "metadata": {
    "papermill": {
     "duration": 0.012252,
     "end_time": "2023-03-14T12:24:24.548203",
     "exception": false,
     "start_time": "2023-03-14T12:24:24.535951",
     "status": "completed"
    },
    "tags": []
   },
   "source": [
    "## Training"
   ]
  },
  {
   "cell_type": "code",
   "execution_count": 12,
   "metadata": {
    "execution": {
     "iopub.execute_input": "2023-03-14T12:24:24.574618Z",
     "iopub.status.busy": "2023-03-14T12:24:24.574259Z",
     "iopub.status.idle": "2023-03-14T12:24:24.661956Z",
     "shell.execute_reply": "2023-03-14T12:24:24.661001Z"
    },
    "papermill": {
     "duration": 0.103543,
     "end_time": "2023-03-14T12:24:24.664130",
     "exception": false,
     "start_time": "2023-03-14T12:24:24.560587",
     "status": "completed"
    },
    "tags": []
   },
   "outputs": [],
   "source": [
    "meta[\"batch\"] = meta[\"day\"].astype(str) + \"_\" + meta[\"donor\"].astype(str)"
   ]
  },
  {
   "cell_type": "code",
   "execution_count": 13,
   "metadata": {
    "execution": {
     "iopub.execute_input": "2023-03-14T12:24:24.690777Z",
     "iopub.status.busy": "2023-03-14T12:24:24.690477Z",
     "iopub.status.idle": "2023-03-14T12:24:24.696660Z",
     "shell.execute_reply": "2023-03-14T12:24:24.695751Z"
    },
    "papermill": {
     "duration": 0.02177,
     "end_time": "2023-03-14T12:24:24.698754",
     "exception": false,
     "start_time": "2023-03-14T12:24:24.676984",
     "status": "completed"
    },
    "tags": []
   },
   "outputs": [
    {
     "data": {
      "text/plain": [
       "((70988, 5), (70988, 580), (70988, 140))"
      ]
     },
     "execution_count": 13,
     "metadata": {},
     "output_type": "execute_result"
    }
   ],
   "source": [
    "meta.shape, X.shape,Y.shape"
   ]
  },
  {
   "cell_type": "code",
   "execution_count": 14,
   "metadata": {
    "execution": {
     "iopub.execute_input": "2023-03-14T12:24:24.725961Z",
     "iopub.status.busy": "2023-03-14T12:24:24.725171Z",
     "iopub.status.idle": "2023-03-14T12:50:23.117359Z",
     "shell.execute_reply": "2023-03-14T12:50:23.116327Z"
    },
    "papermill": {
     "duration": 1558.408042,
     "end_time": "2023-03-14T12:50:23.119756",
     "exception": false,
     "start_time": "2023-03-14T12:24:24.711714",
     "status": "completed"
    },
    "tags": []
   },
   "outputs": [
    {
     "name": "stdout",
     "output_type": "stream",
     "text": [
      "2_32606\n",
      "model saved\n",
      "Fold 0, correlation =  0.90673\n",
      "2_32606\n",
      "model saved\n",
      "Fold 1, correlation =  0.90483\n",
      "2_32606\n",
      "model saved\n",
      "Fold 2, correlation =  0.90650\n",
      "2_32606\n",
      "model saved\n",
      "Fold 3, correlation =  0.90609\n",
      "2_32606\n",
      "model saved\n",
      "Fold 4, correlation =  0.90548\n",
      "2_32606\n",
      "model saved\n",
      "Fold 5, correlation =  0.90637\n",
      "2_32606\n",
      "model saved\n",
      "Fold 6, correlation =  0.90573\n",
      "2_32606\n",
      "model saved\n",
      "Fold 7, correlation =  0.90508\n",
      "2_32606\n",
      "model saved\n",
      "Fold 8, correlation =  0.90491\n",
      "\u001b[32m\u001b[1mMean corr = 0.90575\u001b[0m\n",
      "\u001b[34m\u001b[1mOof corr   = 0.90575\u001b[0m\n",
      "CPU times: user 28min 31s, sys: 2min 9s, total: 30min 41s\n",
      "Wall time: 25min 58s\n"
     ]
    }
   ],
   "source": [
    "%%time\n",
    "import warnings\n",
    "warnings.filterwarnings(\"ignore\")\n",
    "\n",
    "EPOCHS = 600 \n",
    "N_SPLITS = 9\n",
    "\n",
    "pred_train = np.zeros((Y.shape[0],Y.shape[1]))\n",
    "\n",
    "\n",
    "#kf = GroupKFold(n_splits=N_SPLITS)\n",
    "kf = KFold(n_splits=N_SPLITS,shuffle=True)\n",
    "score_list = []\n",
    "\n",
    "#folds = []\n",
    "# for i in [415,150,300,512,350]:\n",
    "np.random.seed(1)\n",
    "tf.random.set_seed(1)\n",
    "for fold, (idx_tr, idx_va) in enumerate(kf.split(X)):#, groups=meta.batch\n",
    "    start_time = datetime.datetime.now()\n",
    "    model = None\n",
    "    gc.collect()\n",
    "\n",
    "    X_tr = X[idx_tr]\n",
    "    y_tr = Y[idx_tr]\n",
    "    #c_tr =ct[idx_tr]\n",
    "    #s_tr =st[idx_tr]\n",
    "    X_va = X[idx_va]\n",
    "    y_va = Y[idx_va]\n",
    "    #c_va =ct[idx_va]\n",
    "    #s_va =st[idx_va]\n",
    "    print(meta[\"batch\"][idx_va].iloc[0])\n",
    "    lr = ReduceLROnPlateau(\n",
    "                    monitor = \"val_loss\",\n",
    "                    factor = 0.9, \n",
    "                    patience = 4, \n",
    "                    verbose = VERBOSE)\n",
    "\n",
    "    es = EarlyStopping(\n",
    "                    monitor = \"val_loss\",\n",
    "                    patience = 40, \n",
    "                    verbose = VERBOSE,\n",
    "                    mode = \"min\", \n",
    "                    restore_best_weights = True)\n",
    "\n",
    "    model_checkpoint_callback = tf.keras.callbacks.ModelCheckpoint(\n",
    "                    filepath = './citeseq',\n",
    "                    save_weights_only = True,\n",
    "                    monitor = 'val_loss',\n",
    "                    mode = 'min',\n",
    "                    save_best_only = True)\n",
    "\n",
    "    callbacks = [\n",
    "                    lr, \n",
    "                    es, \n",
    "                    model_checkpoint_callback\n",
    "                    ]\n",
    "\n",
    "    model = create_model_multi()#create_model()#(True, False, False, False, False, True, True, False, False, False, False, True, True)\n",
    "\n",
    "    model.compile(\n",
    "                optimizer = tf.keras.optimizers.Adam(learning_rate=LR_START),\n",
    "                metrics = [negative_correlation_loss],#None,#\n",
    "                loss = negative_correlation_loss#'mse'#\n",
    "                 )\n",
    "    # Training\n",
    "    model.fit(\n",
    "                X_tr, #s_tr,\n",
    "                y_tr, \n",
    "                validation_data=(\n",
    "                                X_va, #s_va,\n",
    "                                y_va), \n",
    "                epochs = EPOCHS,\n",
    "                verbose = VERBOSE,\n",
    "                batch_size = BATCH_SIZE,\n",
    "                shuffle = True,\n",
    "                callbacks = callbacks)\n",
    "\n",
    "    del X_tr, y_tr \n",
    "    gc.collect()\n",
    "\n",
    "    model.load_weights('./citeseq')\n",
    "    #if meta[\"donor\"][idx_va][0] != 13176:\n",
    "    model.save(f\"./submissions/model_{fold}\")\n",
    "        #folds.append(fold)\n",
    "    print('model saved')\n",
    "    #else:\n",
    "    #    print('model don\\'t need to be saved')\n",
    "\n",
    "    #  Model validation\n",
    "    y_va_pred = model.predict(X_va) #s_va,\n",
    "    corrscore = correlation_score(y_va, y_va_pred)\n",
    "    pred_train[idx_va] = y_va_pred\n",
    "    #print(meta[\"batch\"][idx_va][0])\n",
    "    print(f\"Fold {fold}, correlation =  {corrscore:.5f}\")\n",
    "    del X_va, y_va, y_va_pred\n",
    "    gc.collect()\n",
    "    score_list.append(corrscore)\n",
    "\n",
    "# Show overall score\n",
    "print(f\"{Fore.GREEN}{Style.BRIGHT}Mean corr = {np.array(score_list).mean():.5f}{Style.RESET_ALL}\")\n",
    "score_total = correlation_score(Y, pred_train)\n",
    "print(f\"{Fore.BLUE}{Style.BRIGHT}Oof corr   = {score_total:.5f}{Style.RESET_ALL}\")\n",
    "#Mean corr = 0.90327\n",
    "#Oof corr   = 0.90242"
   ]
  },
  {
   "cell_type": "markdown",
   "metadata": {
    "papermill": {
     "duration": 0.014118,
     "end_time": "2023-03-14T12:50:23.148415",
     "exception": false,
     "start_time": "2023-03-14T12:50:23.134297",
     "status": "completed"
    },
    "tags": []
   },
   "source": [
    "## CITEseq Test prediction"
   ]
  },
  {
   "cell_type": "code",
   "execution_count": 15,
   "metadata": {
    "execution": {
     "iopub.execute_input": "2023-03-14T12:50:23.179072Z",
     "iopub.status.busy": "2023-03-14T12:50:23.177537Z",
     "iopub.status.idle": "2023-03-14T12:50:23.185588Z",
     "shell.execute_reply": "2023-03-14T12:50:23.184740Z"
    },
    "papermill": {
     "duration": 0.025055,
     "end_time": "2023-03-14T12:50:23.187532",
     "exception": false,
     "start_time": "2023-03-14T12:50:23.162477",
     "status": "completed"
    },
    "tags": []
   },
   "outputs": [
    {
     "data": {
      "text/plain": [
       "(41187, 580)"
      ]
     },
     "execution_count": 15,
     "metadata": {},
     "output_type": "execute_result"
    }
   ],
   "source": [
    "Xt.shape"
   ]
  },
  {
   "cell_type": "code",
   "execution_count": 16,
   "metadata": {
    "execution": {
     "iopub.execute_input": "2023-03-14T12:50:23.218307Z",
     "iopub.status.busy": "2023-03-14T12:50:23.216858Z",
     "iopub.status.idle": "2023-03-14T12:50:41.250498Z",
     "shell.execute_reply": "2023-03-14T12:50:41.249495Z"
    },
    "papermill": {
     "duration": 18.051319,
     "end_time": "2023-03-14T12:50:41.252937",
     "exception": false,
     "start_time": "2023-03-14T12:50:23.201618",
     "status": "completed"
    },
    "tags": []
   },
   "outputs": [
    {
     "name": "stdout",
     "output_type": "stream",
     "text": [
      "Predicting with fold 0\n",
      "Predicting with fold 1\n",
      "Predicting with fold 2\n",
      "Predicting with fold 3\n",
      "Predicting with fold 4\n",
      "Predicting with fold 5\n",
      "Predicting with fold 6\n",
      "Predicting with fold 7\n",
      "Predicting with fold 8\n"
     ]
    }
   ],
   "source": [
    "test_pred = np.zeros((len(Xt), 140), dtype=np.float32)\n",
    "for fold in range(N_SPLITS):\n",
    "    print(f\"Predicting with fold {fold}\")\n",
    "    model = load_model(f\"./submissions/model_{fold}\",\n",
    "                       custom_objects={'negative_correlation_loss': negative_correlation_loss})\n",
    "    test_pred += model.predict(Xt)#@svd_y.components_\n",
    "\n",
    "# Copy the targets for the data leak but useless since the change in the public LB...\n",
    "#test_pred[:7476] = Y[:7476]"
   ]
  },
  {
   "cell_type": "code",
   "execution_count": 17,
   "metadata": {
    "execution": {
     "iopub.execute_input": "2023-03-14T12:50:41.285284Z",
     "iopub.status.busy": "2023-03-14T12:50:41.284970Z",
     "iopub.status.idle": "2023-03-14T12:50:41.291454Z",
     "shell.execute_reply": "2023-03-14T12:50:41.290546Z"
    },
    "papermill": {
     "duration": 0.024284,
     "end_time": "2023-03-14T12:50:41.293341",
     "exception": false,
     "start_time": "2023-03-14T12:50:41.269057",
     "status": "completed"
    },
    "tags": []
   },
   "outputs": [
    {
     "data": {
      "text/plain": [
       "(41187, 580)"
      ]
     },
     "execution_count": 17,
     "metadata": {},
     "output_type": "execute_result"
    }
   ],
   "source": [
    "Xt.shape"
   ]
  },
  {
   "cell_type": "code",
   "execution_count": 18,
   "metadata": {
    "execution": {
     "iopub.execute_input": "2023-03-14T12:50:41.323527Z",
     "iopub.status.busy": "2023-03-14T12:50:41.323225Z",
     "iopub.status.idle": "2023-03-14T12:50:41.330082Z",
     "shell.execute_reply": "2023-03-14T12:50:41.329046Z"
    },
    "papermill": {
     "duration": 0.024355,
     "end_time": "2023-03-14T12:50:41.332137",
     "exception": false,
     "start_time": "2023-03-14T12:50:41.307782",
     "status": "completed"
    },
    "tags": []
   },
   "outputs": [
    {
     "data": {
      "text/plain": [
       "(41187, 140)"
      ]
     },
     "execution_count": 18,
     "metadata": {},
     "output_type": "execute_result"
    }
   ],
   "source": [
    "test_pred.shape"
   ]
  },
  {
   "cell_type": "markdown",
   "metadata": {
    "papermill": {
     "duration": 0.014287,
     "end_time": "2023-03-14T12:50:41.361227",
     "exception": false,
     "start_time": "2023-03-14T12:50:41.346940",
     "status": "completed"
    },
    "tags": []
   },
   "source": [
    "## ------ Multiome MODEL ---------"
   ]
  },
  {
   "cell_type": "markdown",
   "metadata": {
    "papermill": {
     "duration": 0.014269,
     "end_time": "2023-03-14T12:50:41.390255",
     "exception": false,
     "start_time": "2023-03-14T12:50:41.375986",
     "status": "completed"
    },
    "tags": []
   },
   "source": [
    "## Upload of the multiome files after TruncatedSVD"
   ]
  },
  {
   "cell_type": "code",
   "execution_count": 19,
   "metadata": {
    "execution": {
     "iopub.execute_input": "2023-03-14T12:50:41.420522Z",
     "iopub.status.busy": "2023-03-14T12:50:41.420201Z",
     "iopub.status.idle": "2023-03-14T12:50:41.425755Z",
     "shell.execute_reply": "2023-03-14T12:50:41.424877Z"
    },
    "papermill": {
     "duration": 0.023229,
     "end_time": "2023-03-14T12:50:41.428023",
     "exception": false,
     "start_time": "2023-03-14T12:50:41.404794",
     "status": "completed"
    },
    "tags": []
   },
   "outputs": [],
   "source": [
    "# with open('../input/targets-multiome-sparse-scaled/INDEX_train_multiome.pkl','rb') as f: INDEX_train_multiome = pickle.load(f)\n",
    "# with open('../input/targets-multiome-sparse-scaled/train_512.pkl','rb') as f: X = pickle.load(f)\n",
    "# #with open('../input/targets-multiome-sparse-scaled/pca_train_512.pkl','rb') as f: pca_train = pickle.load(f)\n",
    "# with open('../input/targets-multiome-sparse-scaled/pca_target_512.pkl','rb') as f: pca_target = pickle.load(f)\n",
    "# with open('../input/targets-multiome-sparse-scaled/Y_512.pkl','rb') as f: Y = pickle.load(f)"
   ]
  },
  {
   "cell_type": "code",
   "execution_count": 20,
   "metadata": {
    "execution": {
     "iopub.execute_input": "2023-03-14T12:50:41.458084Z",
     "iopub.status.busy": "2023-03-14T12:50:41.457789Z",
     "iopub.status.idle": "2023-03-14T12:50:41.461686Z",
     "shell.execute_reply": "2023-03-14T12:50:41.460669Z"
    },
    "papermill": {
     "duration": 0.021589,
     "end_time": "2023-03-14T12:50:41.464050",
     "exception": false,
     "start_time": "2023-03-14T12:50:41.442461",
     "status": "completed"
    },
    "tags": []
   },
   "outputs": [],
   "source": [
    "# X = X[:,:40]\n",
    "# X.shape\n",
    "# # X -= X.mean(axis=0).reshape(1, -1)\n",
    "# # X /= X.std(axis=0).reshape(1, -1)"
   ]
  },
  {
   "cell_type": "code",
   "execution_count": 21,
   "metadata": {
    "execution": {
     "iopub.execute_input": "2023-03-14T12:50:41.494823Z",
     "iopub.status.busy": "2023-03-14T12:50:41.494512Z",
     "iopub.status.idle": "2023-03-14T12:50:41.500042Z",
     "shell.execute_reply": "2023-03-14T12:50:41.499176Z"
    },
    "papermill": {
     "duration": 0.023226,
     "end_time": "2023-03-14T12:50:41.502085",
     "exception": false,
     "start_time": "2023-03-14T12:50:41.478859",
     "status": "completed"
    },
    "tags": []
   },
   "outputs": [],
   "source": [
    "# metadata_df = pd.read_csv('../input/open-problems-multimodal/metadata.csv',index_col='cell_id')\n",
    "# metadata_df = metadata_df[metadata_df.technology==\"multiome\"]\n",
    "# meta = metadata_df.reindex(INDEX_train_multiome)\n",
    "# del metadata_df\n",
    "# gc.collect()"
   ]
  },
  {
   "cell_type": "code",
   "execution_count": 22,
   "metadata": {
    "execution": {
     "iopub.execute_input": "2023-03-14T12:50:41.533060Z",
     "iopub.status.busy": "2023-03-14T12:50:41.532755Z",
     "iopub.status.idle": "2023-03-14T12:50:41.536989Z",
     "shell.execute_reply": "2023-03-14T12:50:41.535973Z"
    },
    "papermill": {
     "duration": 0.022325,
     "end_time": "2023-03-14T12:50:41.539300",
     "exception": false,
     "start_time": "2023-03-14T12:50:41.516975",
     "status": "completed"
    },
    "tags": []
   },
   "outputs": [],
   "source": [
    "# meta[\"batch\"] = meta[\"day\"].astype(str) + \"_\" + meta[\"donor\"].astype(str)"
   ]
  },
  {
   "cell_type": "code",
   "execution_count": 23,
   "metadata": {
    "execution": {
     "iopub.execute_input": "2023-03-14T12:50:41.569514Z",
     "iopub.status.busy": "2023-03-14T12:50:41.569214Z",
     "iopub.status.idle": "2023-03-14T12:50:41.574229Z",
     "shell.execute_reply": "2023-03-14T12:50:41.573421Z"
    },
    "papermill": {
     "duration": 0.022485,
     "end_time": "2023-03-14T12:50:41.576270",
     "exception": false,
     "start_time": "2023-03-14T12:50:41.553785",
     "status": "completed"
    },
    "tags": []
   },
   "outputs": [],
   "source": [
    "# import scipy.sparse\n",
    "# train_targets = scipy.sparse.load_npz(\"../input/multimodal-single-cell-as-sparse-matrix/train_multi_targets_values.sparse.npz\")\n",
    "# gc.collect()"
   ]
  },
  {
   "cell_type": "markdown",
   "metadata": {
    "papermill": {
     "duration": 0.014433,
     "end_time": "2023-03-14T12:50:41.605284",
     "exception": false,
     "start_time": "2023-03-14T12:50:41.590851",
     "status": "completed"
    },
    "tags": []
   },
   "source": [
    "## Training for Multiome"
   ]
  },
  {
   "cell_type": "code",
   "execution_count": 24,
   "metadata": {
    "execution": {
     "iopub.execute_input": "2023-03-14T12:50:41.636113Z",
     "iopub.status.busy": "2023-03-14T12:50:41.635770Z",
     "iopub.status.idle": "2023-03-14T12:50:41.641307Z",
     "shell.execute_reply": "2023-03-14T12:50:41.640292Z"
    },
    "papermill": {
     "duration": 0.023761,
     "end_time": "2023-03-14T12:50:41.643613",
     "exception": false,
     "start_time": "2023-03-14T12:50:41.619852",
     "status": "completed"
    },
    "tags": []
   },
   "outputs": [],
   "source": [
    "# %%time\n",
    "# import warnings\n",
    "# warnings.filterwarnings(\"ignore\")\n",
    "\n",
    "# N_SPLIT = 3\n",
    "# kf = KFold(n_splits=N_SPLIT, shuffle=True, random_state=42)\n",
    "# #kf = GroupKFold(n_splits = N_SPLIT)\n",
    "# pred_train = np.zeros((Y.shape[0],Y.shape[1]))\n",
    "# for fold,(idx_tr, idx_va) in enumerate(kf.split(X)): #,groups=meta.batch\n",
    "    \n",
    "#     X_tr = X[idx_tr]\n",
    "#     y_tr = Y[idx_tr]\n",
    "    \n",
    "#     X_va = X[idx_va]\n",
    "#     y_va = Y[idx_va]\n",
    "#     train_targets_va = train_targets[idx_va].toarray()\n",
    "    \n",
    "#     model = create_model_multi()\n",
    "    \n",
    "#     lr = ReduceLROnPlateau(\n",
    "#                 monitor = \"val_loss\",\n",
    "#                 factor = 0.9, \n",
    "#                 patience = 4, \n",
    "#                 verbose = VERBOSE)\n",
    "    \n",
    "#     es = EarlyStopping(\n",
    "#                 monitor = \"val_loss\",\n",
    "#                 patience = 30, \n",
    "#                 verbose = VERBOSE,\n",
    "#                 mode = \"min\", \n",
    "#                 restore_best_weights = True)\n",
    "\n",
    "#     model.compile(optimizer=tf.keras.optimizers.Adam(learning_rate=1e-3),\n",
    "#                   metrics = None,\n",
    "#                   loss = 'mse')\n",
    "#     model.fit(X_tr,\n",
    "#               y_tr,\n",
    "#               validation_data=(X_va,y_va),\n",
    "#               epochs =500,\n",
    "#               verbose = VERBOSE,\n",
    "#               batch_size=256,\n",
    "#               callbacks = [es,lr]\n",
    "#              )\n",
    "#     pred = model.predict(X_va)#@pca_target.components_\n",
    "#     pred_train[idx_va] += pred\n",
    "#     #train_targets_va\n",
    "#     #corrscore = correlation_score(y_va, y_va_pred)\n",
    "    \n",
    "#     print(f'\\n --------- FOLD {fold} -----------')\n",
    "#     print(f'corrscore = {np.round(correlation_score(y_va,pred),5)}')\n",
    "#     print(f'corrscore = {np.round(correlation_score(train_targets_va,pred@pca_target.components_),5)}')\n",
    "   \n",
    "#     filename = f\"m_model_{fold}\"\n",
    "#     model.save(filename)\n",
    "#     print('model saved :',filename)\n",
    "        \n",
    "#     del X_tr,X_va,y_tr,y_va\n",
    "#     gc.collect()\n",
    "\n",
    "# score_total = correlation_score(train_targets.toarray(), pred_train@pca_target.components_)\n",
    "# print(f\"{Fore.BLUE}{Style.BRIGHT}Oof corr   = {score_total:.5f}{Style.RESET_ALL}\")"
   ]
  },
  {
   "cell_type": "markdown",
   "metadata": {
    "papermill": {
     "duration": 0.015647,
     "end_time": "2023-03-14T12:50:41.673968",
     "exception": false,
     "start_time": "2023-03-14T12:50:41.658321",
     "status": "completed"
    },
    "tags": []
   },
   "source": [
    "## Test predictions for Multiome"
   ]
  },
  {
   "cell_type": "code",
   "execution_count": 25,
   "metadata": {
    "execution": {
     "iopub.execute_input": "2023-03-14T12:50:41.707646Z",
     "iopub.status.busy": "2023-03-14T12:50:41.707264Z",
     "iopub.status.idle": "2023-03-14T12:50:41.712018Z",
     "shell.execute_reply": "2023-03-14T12:50:41.710916Z"
    },
    "papermill": {
     "duration": 0.02481,
     "end_time": "2023-03-14T12:50:41.714665",
     "exception": false,
     "start_time": "2023-03-14T12:50:41.689855",
     "status": "completed"
    },
    "tags": []
   },
   "outputs": [],
   "source": [
    "# multi_test_x = scipy.sparse.load_npz(\"../input/multimodal-single-cell-as-sparse-matrix/test_multi_inputs_values.sparse.npz\")\n",
    "# multi_test_x = pca_train.transform(multi_test_x)\n",
    "# #multi_test_x = both[105942:]\n",
    "# multi_test_x = multi_test_x[:,:40]\n",
    "# multi_test_x.shape"
   ]
  },
  {
   "cell_type": "code",
   "execution_count": 26,
   "metadata": {
    "execution": {
     "iopub.execute_input": "2023-03-14T12:50:41.747363Z",
     "iopub.status.busy": "2023-03-14T12:50:41.746945Z",
     "iopub.status.idle": "2023-03-14T12:50:41.752260Z",
     "shell.execute_reply": "2023-03-14T12:50:41.751362Z"
    },
    "papermill": {
     "duration": 0.024193,
     "end_time": "2023-03-14T12:50:41.754348",
     "exception": false,
     "start_time": "2023-03-14T12:50:41.730155",
     "status": "completed"
    },
    "tags": []
   },
   "outputs": [],
   "source": [
    "# del X,Y,INDEX_train_multiome\n",
    "# gc.collect()"
   ]
  },
  {
   "cell_type": "code",
   "execution_count": 27,
   "metadata": {
    "execution": {
     "iopub.execute_input": "2023-03-14T12:50:41.786083Z",
     "iopub.status.busy": "2023-03-14T12:50:41.785794Z",
     "iopub.status.idle": "2023-03-14T12:50:41.790262Z",
     "shell.execute_reply": "2023-03-14T12:50:41.789181Z"
    },
    "papermill": {
     "duration": 0.022633,
     "end_time": "2023-03-14T12:50:41.792657",
     "exception": false,
     "start_time": "2023-03-14T12:50:41.770024",
     "status": "completed"
    },
    "tags": []
   },
   "outputs": [],
   "source": [
    "# preds = np.zeros((multi_test_x.shape[0], 23418), dtype='float16')\n",
    "\n",
    "# for fold in range(N_SPLIT):\n",
    "#     print(f'fold {fold} prediction')\n",
    "#     model = load_model(f\"m_model_{fold}\",\n",
    "#                        custom_objects={'negative_correlation_loss': negative_correlation_loss})\n",
    "#     preds += (model.predict(multi_test_x)@pca_target.components_)/N_SPLIT\n",
    "\n",
    "#     gc.collect()"
   ]
  },
  {
   "cell_type": "code",
   "execution_count": 28,
   "metadata": {
    "execution": {
     "iopub.execute_input": "2023-03-14T12:50:41.823076Z",
     "iopub.status.busy": "2023-03-14T12:50:41.822783Z",
     "iopub.status.idle": "2023-03-14T12:50:41.827027Z",
     "shell.execute_reply": "2023-03-14T12:50:41.826016Z"
    },
    "papermill": {
     "duration": 0.021892,
     "end_time": "2023-03-14T12:50:41.829291",
     "exception": false,
     "start_time": "2023-03-14T12:50:41.807399",
     "status": "completed"
    },
    "tags": []
   },
   "outputs": [],
   "source": [
    "# eval_ids = pd.read_parquet(\"../input/multimodal-single-cell-as-sparse-matrix/evaluation.parquet\")\n",
    "# eval_ids.cell_id = eval_ids.cell_id.astype(pd.CategoricalDtype())\n",
    "# eval_ids.gene_id = eval_ids.gene_id.astype(pd.CategoricalDtype())\n",
    "\n",
    "# submission = pd.Series(name='target',\n",
    "#                        index=pd.MultiIndex.from_frame(eval_ids), \n",
    "#                        dtype=np.float32)\n",
    "# submission"
   ]
  },
  {
   "cell_type": "code",
   "execution_count": 29,
   "metadata": {
    "execution": {
     "iopub.execute_input": "2023-03-14T12:50:41.859509Z",
     "iopub.status.busy": "2023-03-14T12:50:41.859215Z",
     "iopub.status.idle": "2023-03-14T12:50:41.863745Z",
     "shell.execute_reply": "2023-03-14T12:50:41.862779Z"
    },
    "papermill": {
     "duration": 0.022219,
     "end_time": "2023-03-14T12:50:41.866086",
     "exception": false,
     "start_time": "2023-03-14T12:50:41.843867",
     "status": "completed"
    },
    "tags": []
   },
   "outputs": [],
   "source": [
    "# y_columns = np.load(\"../input/multimodal-single-cell-as-sparse-matrix/train_multi_targets_idxcol.npz\",\n",
    "#                    allow_pickle=True)[\"columns\"]\n",
    "\n",
    "# test_index = np.load(\"../input/multimodal-single-cell-as-sparse-matrix/test_multi_inputs_idxcol.npz\",\n",
    "#                     allow_pickle=True)[\"index\"]\n",
    "\n",
    "# cell_dict = dict((k,v) for v,k in enumerate(test_index)) \n",
    "# assert len(cell_dict)  == len(test_index)\n",
    "\n",
    "# gene_dict = dict((k,v) for v,k in enumerate(y_columns))\n",
    "# assert len(gene_dict) == len(y_columns)\n",
    "\n",
    "# eval_ids_cell_num = eval_ids.cell_id.apply(lambda x:cell_dict.get(x, -1))\n",
    "# eval_ids_gene_num = eval_ids.gene_id.apply(lambda x:gene_dict.get(x, -1))\n",
    "# valid_multi_rows = (eval_ids_gene_num !=-1) & (eval_ids_cell_num!=-1)\n",
    "\n",
    "# submission.iloc[valid_multi_rows] = preds[eval_ids_cell_num[valid_multi_rows].to_numpy(),\n",
    "# eval_ids_gene_num[valid_multi_rows].to_numpy()]\n",
    "\n",
    "# del eval_ids_cell_num, eval_ids_gene_num, valid_multi_rows, eval_ids, test_index, y_columns\n",
    "# gc.collect()\n",
    "\n",
    "# submission"
   ]
  },
  {
   "cell_type": "markdown",
   "metadata": {
    "papermill": {
     "duration": 0.027012,
     "end_time": "2023-03-14T12:50:41.920508",
     "exception": false,
     "start_time": "2023-03-14T12:50:41.893496",
     "status": "completed"
    },
    "tags": []
   },
   "source": [
    "## Total submission"
   ]
  },
  {
   "cell_type": "code",
   "execution_count": 30,
   "metadata": {
    "execution": {
     "iopub.execute_input": "2023-03-14T12:50:41.980551Z",
     "iopub.status.busy": "2023-03-14T12:50:41.980028Z",
     "iopub.status.idle": "2023-03-14T12:51:18.676965Z",
     "shell.execute_reply": "2023-03-14T12:51:18.675952Z"
    },
    "papermill": {
     "duration": 36.732316,
     "end_time": "2023-03-14T12:51:18.679516",
     "exception": false,
     "start_time": "2023-03-14T12:50:41.947200",
     "status": "completed"
    },
    "tags": []
   },
   "outputs": [],
   "source": [
    "submission1 = pd.read_csv(\"/kaggle/input/2nd-place-gru-cite/submission.csv\")"
   ]
  },
  {
   "cell_type": "code",
   "execution_count": 31,
   "metadata": {
    "execution": {
     "iopub.execute_input": "2023-03-14T12:51:18.712344Z",
     "iopub.status.busy": "2023-03-14T12:51:18.710615Z",
     "iopub.status.idle": "2023-03-14T12:51:18.717635Z",
     "shell.execute_reply": "2023-03-14T12:51:18.716679Z"
    },
    "papermill": {
     "duration": 0.025176,
     "end_time": "2023-03-14T12:51:18.719750",
     "exception": false,
     "start_time": "2023-03-14T12:51:18.694574",
     "status": "completed"
    },
    "tags": []
   },
   "outputs": [
    {
     "data": {
      "text/plain": [
       "(5766180,)"
      ]
     },
     "execution_count": 31,
     "metadata": {},
     "output_type": "execute_result"
    }
   ],
   "source": [
    "test_pred.ravel().shape"
   ]
  },
  {
   "cell_type": "code",
   "execution_count": 32,
   "metadata": {
    "execution": {
     "iopub.execute_input": "2023-03-14T12:51:18.750188Z",
     "iopub.status.busy": "2023-03-14T12:51:18.749913Z",
     "iopub.status.idle": "2023-03-14T12:51:18.757204Z",
     "shell.execute_reply": "2023-03-14T12:51:18.756355Z"
    },
    "papermill": {
     "duration": 0.02488,
     "end_time": "2023-03-14T12:51:18.759175",
     "exception": false,
     "start_time": "2023-03-14T12:51:18.734295",
     "status": "completed"
    },
    "tags": []
   },
   "outputs": [
    {
     "data": {
      "text/plain": [
       "6812820"
      ]
     },
     "execution_count": 32,
     "metadata": {},
     "output_type": "execute_result"
    }
   ],
   "source": [
    "7476*140 + 5766180"
   ]
  },
  {
   "cell_type": "code",
   "execution_count": 33,
   "metadata": {
    "execution": {
     "iopub.execute_input": "2023-03-14T12:51:18.789884Z",
     "iopub.status.busy": "2023-03-14T12:51:18.789614Z",
     "iopub.status.idle": "2023-03-14T12:51:18.803923Z",
     "shell.execute_reply": "2023-03-14T12:51:18.803085Z"
    },
    "papermill": {
     "duration": 0.032055,
     "end_time": "2023-03-14T12:51:18.805966",
     "exception": false,
     "start_time": "2023-03-14T12:51:18.773911",
     "status": "completed"
    },
    "tags": []
   },
   "outputs": [],
   "source": [
    "submission1[\"target\"].iloc[7476*140:6812820] = test_pred.ravel()"
   ]
  },
  {
   "cell_type": "code",
   "execution_count": 34,
   "metadata": {
    "execution": {
     "iopub.execute_input": "2023-03-14T12:51:18.836491Z",
     "iopub.status.busy": "2023-03-14T12:51:18.836181Z",
     "iopub.status.idle": "2023-03-14T12:51:18.844657Z",
     "shell.execute_reply": "2023-03-14T12:51:18.843653Z"
    },
    "papermill": {
     "duration": 0.026116,
     "end_time": "2023-03-14T12:51:18.846808",
     "exception": false,
     "start_time": "2023-03-14T12:51:18.820692",
     "status": "completed"
    },
    "tags": []
   },
   "outputs": [
    {
     "data": {
      "text/plain": [
       "0          -0.569636\n",
       "1          -0.524233\n",
       "2          -0.352286\n",
       "3           1.292455\n",
       "4           1.361938\n",
       "              ...   \n",
       "65744175    4.410036\n",
       "65744176   -0.576845\n",
       "65744177   -0.593088\n",
       "65744178    0.251146\n",
       "65744179    3.899600\n",
       "Name: target, Length: 65744180, dtype: float64"
      ]
     },
     "execution_count": 34,
     "metadata": {},
     "output_type": "execute_result"
    }
   ],
   "source": [
    "submission1[\"target\"]"
   ]
  },
  {
   "cell_type": "code",
   "execution_count": 35,
   "metadata": {
    "execution": {
     "iopub.execute_input": "2023-03-14T12:51:18.877582Z",
     "iopub.status.busy": "2023-03-14T12:51:18.877292Z",
     "iopub.status.idle": "2023-03-14T12:51:18.882607Z",
     "shell.execute_reply": "2023-03-14T12:51:18.881757Z"
    },
    "papermill": {
     "duration": 0.023036,
     "end_time": "2023-03-14T12:51:18.884640",
     "exception": false,
     "start_time": "2023-03-14T12:51:18.861604",
     "status": "completed"
    },
    "tags": []
   },
   "outputs": [],
   "source": [
    "# submission.reset_index(drop=True, inplace=True)\n",
    "# submission.index.name = 'row_id'\n",
    "\n",
    "# cite_submission = pd.read_csv(\"submission_lolo_1.csv\")\n",
    "# cite_submission = cite_submission.set_index(\"row_id\")\n",
    "# cite_submission = cite_submission[\"target\"]\n",
    "# submission[submission.isnull()] = cite_submission[submission.isnull()]\n",
    "# submission"
   ]
  },
  {
   "cell_type": "code",
   "execution_count": 36,
   "metadata": {
    "execution": {
     "iopub.execute_input": "2023-03-14T12:51:18.915735Z",
     "iopub.status.busy": "2023-03-14T12:51:18.915456Z",
     "iopub.status.idle": "2023-03-14T12:51:18.919208Z",
     "shell.execute_reply": "2023-03-14T12:51:18.918177Z"
    },
    "papermill": {
     "duration": 0.022027,
     "end_time": "2023-03-14T12:51:18.921478",
     "exception": false,
     "start_time": "2023-03-14T12:51:18.899451",
     "status": "completed"
    },
    "tags": []
   },
   "outputs": [],
   "source": [
    "# del cite_submission\n",
    "# gc.collect()"
   ]
  },
  {
   "cell_type": "code",
   "execution_count": 37,
   "metadata": {
    "execution": {
     "iopub.execute_input": "2023-03-14T12:51:18.952552Z",
     "iopub.status.busy": "2023-03-14T12:51:18.951775Z",
     "iopub.status.idle": "2023-03-14T12:51:18.956091Z",
     "shell.execute_reply": "2023-03-14T12:51:18.955255Z"
    },
    "papermill": {
     "duration": 0.021827,
     "end_time": "2023-03-14T12:51:18.958047",
     "exception": false,
     "start_time": "2023-03-14T12:51:18.936220",
     "status": "completed"
    },
    "tags": []
   },
   "outputs": [],
   "source": [
    "# sub_ensembling = pd.read_csv('../input/open-problems-multimodal/sample_submission.csv')\n",
    "# submission1 = sub_ensembling.copy()\n",
    "# submission1['target'] = submission\n",
    "# submission1"
   ]
  },
  {
   "cell_type": "code",
   "execution_count": 38,
   "metadata": {
    "execution": {
     "iopub.execute_input": "2023-03-14T12:51:18.989505Z",
     "iopub.status.busy": "2023-03-14T12:51:18.988604Z",
     "iopub.status.idle": "2023-03-14T12:53:27.411758Z",
     "shell.execute_reply": "2023-03-14T12:53:27.410401Z"
    },
    "papermill": {
     "duration": 128.442738,
     "end_time": "2023-03-14T12:53:27.415834",
     "exception": false,
     "start_time": "2023-03-14T12:51:18.973096",
     "status": "completed"
    },
    "tags": []
   },
   "outputs": [],
   "source": [
    "submission1.to_csv(\"submission.csv\", index = False)"
   ]
  },
  {
   "cell_type": "code",
   "execution_count": 39,
   "metadata": {
    "execution": {
     "iopub.execute_input": "2023-03-14T12:53:27.475788Z",
     "iopub.status.busy": "2023-03-14T12:53:27.475298Z",
     "iopub.status.idle": "2023-03-14T12:53:27.481792Z",
     "shell.execute_reply": "2023-03-14T12:53:27.480269Z"
    },
    "papermill": {
     "duration": 0.03842,
     "end_time": "2023-03-14T12:53:27.487642",
     "exception": false,
     "start_time": "2023-03-14T12:53:27.449222",
     "status": "completed"
    },
    "tags": []
   },
   "outputs": [],
   "source": [
    "# %%time\n",
    "# sub_preds = test_pred.reshape(-1)\n",
    "# multi_preds = np.load('/kaggle/input/single-cell-features/senkin_multi_predictions.npy')\n",
    "\n",
    "# sub = pd.read_csv('../input/open-problems-multimodal/sample_submission.csv')\n",
    "# sub['target'] = np.concatenate([sub_preds,multi_preds])\n",
    "# sub.to_csv('submission.csv',index=False)"
   ]
  },
  {
   "cell_type": "code",
   "execution_count": 40,
   "metadata": {
    "execution": {
     "iopub.execute_input": "2023-03-14T12:53:27.550710Z",
     "iopub.status.busy": "2023-03-14T12:53:27.550226Z",
     "iopub.status.idle": "2023-03-14T12:53:27.554949Z",
     "shell.execute_reply": "2023-03-14T12:53:27.553966Z"
    },
    "papermill": {
     "duration": 0.033974,
     "end_time": "2023-03-14T12:53:27.559148",
     "exception": false,
     "start_time": "2023-03-14T12:53:27.525174",
     "status": "completed"
    },
    "tags": []
   },
   "outputs": [],
   "source": [
    "# sub_preds.shape[0] + multi_preds.shape[0]"
   ]
  },
  {
   "cell_type": "code",
   "execution_count": 41,
   "metadata": {
    "execution": {
     "iopub.execute_input": "2023-03-14T12:53:27.604528Z",
     "iopub.status.busy": "2023-03-14T12:53:27.604148Z",
     "iopub.status.idle": "2023-03-14T12:53:27.608114Z",
     "shell.execute_reply": "2023-03-14T12:53:27.607285Z"
    },
    "papermill": {
     "duration": 0.030505,
     "end_time": "2023-03-14T12:53:27.612081",
     "exception": false,
     "start_time": "2023-03-14T12:53:27.581576",
     "status": "completed"
    },
    "tags": []
   },
   "outputs": [],
   "source": [
    "# multi_preds.shape"
   ]
  }
 ],
 "metadata": {
  "kernelspec": {
   "display_name": "Python 3",
   "language": "python",
   "name": "python3"
  },
  "language_info": {
   "codemirror_mode": {
    "name": "ipython",
    "version": 3
   },
   "file_extension": ".py",
   "mimetype": "text/x-python",
   "name": "python",
   "nbconvert_exporter": "python",
   "pygments_lexer": "ipython3",
   "version": "3.7.6"
  },
  "papermill": {
   "default_parameters": {},
   "duration": 1872.123951,
   "end_time": "2023-03-14T12:53:30.504691",
   "environment_variables": {},
   "exception": null,
   "input_path": "__notebook__.ipynb",
   "output_path": "__notebook__.ipynb",
   "parameters": {},
   "start_time": "2023-03-14T12:22:18.380740",
   "version": "2.3.4"
  }
 },
 "nbformat": 4,
 "nbformat_minor": 5
}
