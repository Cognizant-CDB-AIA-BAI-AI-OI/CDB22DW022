{
 "cells": [
  {
   "cell_type": "markdown",
   "metadata": {},
   "source": [
    "# Importing Dataset from kaggle"
   ]
  },
  {
   "cell_type": "code",
   "execution_count": 1,
   "metadata": {
    "_cell_guid": "b1076dfc-b9ad-4769-8c92-a6c4dae69d19",
    "_uuid": "8f2839f25d086af736a60e9eeb907d3b93b6e0e5",
    "execution": {
     "iopub.execute_input": "2022-08-30T23:51:33.161926Z",
     "iopub.status.busy": "2022-08-30T23:51:33.161466Z",
     "iopub.status.idle": "2022-08-30T23:51:33.176784Z",
     "shell.execute_reply": "2022-08-30T23:51:33.175428Z"
    },
    "papermill": {
     "duration": 0.032373,
     "end_time": "2022-08-30T23:51:33.179689",
     "exception": false,
     "start_time": "2022-08-30T23:51:33.147316",
     "status": "completed"
    },
    "tags": []
   },
   "outputs": [
    {
     "name": "stdout",
     "output_type": "stream",
     "text": [
      "/kaggle/input/cat-in-the-dat-ii/sample_submission.csv\n",
      "/kaggle/input/cat-in-the-dat-ii/train.csv\n",
      "/kaggle/input/cat-in-the-dat-ii/test.csv\n"
     ]
    }
   ],
   "source": [
    "# This Python 3 environment comes with many helpful analytics libraries installed\n",
    "# It is defined by the kaggle/python Docker image: https://github.com/kaggle/docker-python\n",
    "# For example, here's several helpful packages to load\n",
    "\n",
    "import numpy as np # linear algebra\n",
    "import pandas as pd # data processing, CSV file I/O (e.g. pd.read_csv)\n",
    "\n",
    "# Input data files are available in the read-only \"../input/\" directory\n",
    "# For example, running this (by clicking run or pressing Shift+Enter) will list all files under the input directory\n",
    "\n",
    "import os\n",
    "for dirname, _, filenames in os.walk('/kaggle/input'):\n",
    "    for filename in filenames:\n",
    "        print(os.path.join(dirname, filename))\n",
    "\n",
    "# You can write up to 20GB to the current directory (/kaggle/working/) that gets preserved as output when you create a version using \"Save & Run All\" \n",
    "# You can also write temporary files to /kaggle/temp/, but they won't be saved outside of the current session"
   ]
  },
  {
   "cell_type": "code",
   "execution_count": 2,
   "metadata": {
    "execution": {
     "iopub.execute_input": "2022-08-30T23:51:33.209612Z",
     "iopub.status.busy": "2022-08-30T23:51:33.208889Z",
     "iopub.status.idle": "2022-08-30T23:51:34.202572Z",
     "shell.execute_reply": "2022-08-30T23:51:34.201223Z"
    },
    "papermill": {
     "duration": 1.012611,
     "end_time": "2022-08-30T23:51:34.205742",
     "exception": false,
     "start_time": "2022-08-30T23:51:33.193131",
     "status": "completed"
    },
    "tags": []
   },
   "outputs": [],
   "source": [
    "import matplotlib.pyplot as plt\n",
    "import seaborn as sns"
   ]
  },
  {
   "cell_type": "markdown",
   "metadata": {
    "papermill": {
     "duration": 0.01231,
     "end_time": "2022-08-30T23:51:34.231103",
     "exception": false,
     "start_time": "2022-08-30T23:51:34.218793",
     "status": "completed"
    },
    "tags": []
   },
   "source": [
    "## 1. Load train and test datasets"
   ]
  },
  {
   "cell_type": "code",
   "execution_count": 3,
   "metadata": {
    "execution": {
     "iopub.execute_input": "2022-08-30T23:51:34.257679Z",
     "iopub.status.busy": "2022-08-30T23:51:34.257273Z",
     "iopub.status.idle": "2022-08-30T23:51:37.118922Z",
     "shell.execute_reply": "2022-08-30T23:51:37.117854Z"
    },
    "papermill": {
     "duration": 2.877571,
     "end_time": "2022-08-30T23:51:37.121215",
     "exception": false,
     "start_time": "2022-08-30T23:51:34.243644",
     "status": "completed"
    },
    "tags": []
   },
   "outputs": [
    {
     "data": {
      "text/html": [
       "<div>\n",
       "<style scoped>\n",
       "    .dataframe tbody tr th:only-of-type {\n",
       "        vertical-align: middle;\n",
       "    }\n",
       "\n",
       "    .dataframe tbody tr th {\n",
       "        vertical-align: top;\n",
       "    }\n",
       "\n",
       "    .dataframe thead th {\n",
       "        text-align: right;\n",
       "    }\n",
       "</style>\n",
       "<table border=\"1\" class=\"dataframe\">\n",
       "  <thead>\n",
       "    <tr style=\"text-align: right;\">\n",
       "      <th></th>\n",
       "      <th>id</th>\n",
       "      <th>bin_0</th>\n",
       "      <th>bin_1</th>\n",
       "      <th>bin_2</th>\n",
       "      <th>bin_3</th>\n",
       "      <th>bin_4</th>\n",
       "      <th>nom_0</th>\n",
       "      <th>nom_1</th>\n",
       "      <th>nom_2</th>\n",
       "      <th>nom_3</th>\n",
       "      <th>...</th>\n",
       "      <th>nom_9</th>\n",
       "      <th>ord_0</th>\n",
       "      <th>ord_1</th>\n",
       "      <th>ord_2</th>\n",
       "      <th>ord_3</th>\n",
       "      <th>ord_4</th>\n",
       "      <th>ord_5</th>\n",
       "      <th>day</th>\n",
       "      <th>month</th>\n",
       "      <th>target</th>\n",
       "    </tr>\n",
       "  </thead>\n",
       "  <tbody>\n",
       "    <tr>\n",
       "      <th>0</th>\n",
       "      <td>0</td>\n",
       "      <td>0.0</td>\n",
       "      <td>0.0</td>\n",
       "      <td>0.0</td>\n",
       "      <td>F</td>\n",
       "      <td>N</td>\n",
       "      <td>Red</td>\n",
       "      <td>Trapezoid</td>\n",
       "      <td>Hamster</td>\n",
       "      <td>Russia</td>\n",
       "      <td>...</td>\n",
       "      <td>02e7c8990</td>\n",
       "      <td>3.0</td>\n",
       "      <td>Contributor</td>\n",
       "      <td>Hot</td>\n",
       "      <td>c</td>\n",
       "      <td>U</td>\n",
       "      <td>Pw</td>\n",
       "      <td>6.0</td>\n",
       "      <td>3.0</td>\n",
       "      <td>0</td>\n",
       "    </tr>\n",
       "    <tr>\n",
       "      <th>1</th>\n",
       "      <td>1</td>\n",
       "      <td>1.0</td>\n",
       "      <td>1.0</td>\n",
       "      <td>0.0</td>\n",
       "      <td>F</td>\n",
       "      <td>Y</td>\n",
       "      <td>Red</td>\n",
       "      <td>Star</td>\n",
       "      <td>Axolotl</td>\n",
       "      <td>NaN</td>\n",
       "      <td>...</td>\n",
       "      <td>f37df64af</td>\n",
       "      <td>3.0</td>\n",
       "      <td>Grandmaster</td>\n",
       "      <td>Warm</td>\n",
       "      <td>e</td>\n",
       "      <td>X</td>\n",
       "      <td>pE</td>\n",
       "      <td>7.0</td>\n",
       "      <td>7.0</td>\n",
       "      <td>0</td>\n",
       "    </tr>\n",
       "    <tr>\n",
       "      <th>2</th>\n",
       "      <td>2</td>\n",
       "      <td>0.0</td>\n",
       "      <td>1.0</td>\n",
       "      <td>0.0</td>\n",
       "      <td>F</td>\n",
       "      <td>N</td>\n",
       "      <td>Red</td>\n",
       "      <td>NaN</td>\n",
       "      <td>Hamster</td>\n",
       "      <td>Canada</td>\n",
       "      <td>...</td>\n",
       "      <td>NaN</td>\n",
       "      <td>3.0</td>\n",
       "      <td>NaN</td>\n",
       "      <td>Freezing</td>\n",
       "      <td>n</td>\n",
       "      <td>P</td>\n",
       "      <td>eN</td>\n",
       "      <td>5.0</td>\n",
       "      <td>9.0</td>\n",
       "      <td>0</td>\n",
       "    </tr>\n",
       "    <tr>\n",
       "      <th>3</th>\n",
       "      <td>3</td>\n",
       "      <td>NaN</td>\n",
       "      <td>0.0</td>\n",
       "      <td>0.0</td>\n",
       "      <td>F</td>\n",
       "      <td>N</td>\n",
       "      <td>Red</td>\n",
       "      <td>Circle</td>\n",
       "      <td>Hamster</td>\n",
       "      <td>Finland</td>\n",
       "      <td>...</td>\n",
       "      <td>f9d456e57</td>\n",
       "      <td>1.0</td>\n",
       "      <td>Novice</td>\n",
       "      <td>Lava Hot</td>\n",
       "      <td>a</td>\n",
       "      <td>C</td>\n",
       "      <td>NaN</td>\n",
       "      <td>3.0</td>\n",
       "      <td>3.0</td>\n",
       "      <td>0</td>\n",
       "    </tr>\n",
       "    <tr>\n",
       "      <th>4</th>\n",
       "      <td>4</td>\n",
       "      <td>0.0</td>\n",
       "      <td>NaN</td>\n",
       "      <td>0.0</td>\n",
       "      <td>T</td>\n",
       "      <td>N</td>\n",
       "      <td>Red</td>\n",
       "      <td>Triangle</td>\n",
       "      <td>Hamster</td>\n",
       "      <td>Costa Rica</td>\n",
       "      <td>...</td>\n",
       "      <td>c5361037c</td>\n",
       "      <td>3.0</td>\n",
       "      <td>Grandmaster</td>\n",
       "      <td>Cold</td>\n",
       "      <td>h</td>\n",
       "      <td>C</td>\n",
       "      <td>OZ</td>\n",
       "      <td>5.0</td>\n",
       "      <td>12.0</td>\n",
       "      <td>0</td>\n",
       "    </tr>\n",
       "  </tbody>\n",
       "</table>\n",
       "<p>5 rows × 25 columns</p>\n",
       "</div>"
      ],
      "text/plain": [
       "   id  bin_0  bin_1  bin_2 bin_3 bin_4 nom_0      nom_1    nom_2       nom_3  \\\n",
       "0   0    0.0    0.0    0.0     F     N   Red  Trapezoid  Hamster      Russia   \n",
       "1   1    1.0    1.0    0.0     F     Y   Red       Star  Axolotl         NaN   \n",
       "2   2    0.0    1.0    0.0     F     N   Red        NaN  Hamster      Canada   \n",
       "3   3    NaN    0.0    0.0     F     N   Red     Circle  Hamster     Finland   \n",
       "4   4    0.0    NaN    0.0     T     N   Red   Triangle  Hamster  Costa Rica   \n",
       "\n",
       "   ...      nom_9 ord_0        ord_1     ord_2 ord_3 ord_4  ord_5  day month  \\\n",
       "0  ...  02e7c8990   3.0  Contributor       Hot     c     U     Pw  6.0   3.0   \n",
       "1  ...  f37df64af   3.0  Grandmaster      Warm     e     X     pE  7.0   7.0   \n",
       "2  ...        NaN   3.0          NaN  Freezing     n     P     eN  5.0   9.0   \n",
       "3  ...  f9d456e57   1.0       Novice  Lava Hot     a     C    NaN  3.0   3.0   \n",
       "4  ...  c5361037c   3.0  Grandmaster      Cold     h     C     OZ  5.0  12.0   \n",
       "\n",
       "  target  \n",
       "0      0  \n",
       "1      0  \n",
       "2      0  \n",
       "3      0  \n",
       "4      0  \n",
       "\n",
       "[5 rows x 25 columns]"
      ]
     },
     "execution_count": 3,
     "metadata": {},
     "output_type": "execute_result"
    }
   ],
   "source": [
    "train_df = pd.read_csv('/kaggle/input/cat-in-the-dat-ii/train.csv')\n",
    "train_df.head()"
   ]
  },
  {
   "cell_type": "code",
   "execution_count": 4,
   "metadata": {
    "execution": {
     "iopub.execute_input": "2022-08-30T23:51:37.148344Z",
     "iopub.status.busy": "2022-08-30T23:51:37.147945Z",
     "iopub.status.idle": "2022-08-30T23:51:37.163815Z",
     "shell.execute_reply": "2022-08-30T23:51:37.162769Z"
    },
    "papermill": {
     "duration": 0.031862,
     "end_time": "2022-08-30T23:51:37.165957",
     "exception": false,
     "start_time": "2022-08-30T23:51:37.134095",
     "status": "completed"
    },
    "tags": []
   },
   "outputs": [
    {
     "data": {
      "text/plain": [
       "array([0, 1])"
      ]
     },
     "execution_count": 4,
     "metadata": {},
     "output_type": "execute_result"
    }
   ],
   "source": [
    "y = train_df.pop('target')\n",
    "\n",
    "# check that we are dealing with binary classification\n",
    "y.unique()"
   ]
  },
  {
   "cell_type": "code",
   "execution_count": 5,
   "metadata": {
    "execution": {
     "iopub.execute_input": "2022-08-30T23:51:37.193621Z",
     "iopub.status.busy": "2022-08-30T23:51:37.193215Z",
     "iopub.status.idle": "2022-08-30T23:51:37.458841Z",
     "shell.execute_reply": "2022-08-30T23:51:37.457701Z"
    },
    "papermill": {
     "duration": 0.282201,
     "end_time": "2022-08-30T23:51:37.461181",
     "exception": false,
     "start_time": "2022-08-30T23:51:37.178980",
     "status": "completed"
    },
    "tags": []
   },
   "outputs": [
    {
     "data": {
      "text/plain": [
       "<AxesSubplot:>"
      ]
     },
     "execution_count": 5,
     "metadata": {},
     "output_type": "execute_result"
    },
    {
     "data": {
      "image/png": "[encoded data removed]",
      "text/plain": [
       "<Figure size 432x288 with 1 Axes>"
      ]
     },
     "metadata": {
      "needs_background": "light"
     },
     "output_type": "display_data"
    }
   ],
   "source": [
    "# the target value looks skewed!\n",
    "# so we need to be careful evaluating model results\n",
    "# i'm gonna use AUC_ROC and f1 scores here to evaluate model performance\n",
    "y.hist()"
   ]
  },
  {
   "cell_type": "code",
   "execution_count": 6,
   "metadata": {
    "execution": {
     "iopub.execute_input": "2022-08-30T23:51:37.489462Z",
     "iopub.status.busy": "2022-08-30T23:51:37.489095Z",
     "iopub.status.idle": "2022-08-30T23:51:39.393951Z",
     "shell.execute_reply": "2022-08-30T23:51:39.392854Z"
    },
    "papermill": {
     "duration": 1.922309,
     "end_time": "2022-08-30T23:51:39.396791",
     "exception": false,
     "start_time": "2022-08-30T23:51:37.474482",
     "status": "completed"
    },
    "tags": []
   },
   "outputs": [
    {
     "data": {
      "text/html": [
       "<div>\n",
       "<style scoped>\n",
       "    .dataframe tbody tr th:only-of-type {\n",
       "        vertical-align: middle;\n",
       "    }\n",
       "\n",
       "    .dataframe tbody tr th {\n",
       "        vertical-align: top;\n",
       "    }\n",
       "\n",
       "    .dataframe thead th {\n",
       "        text-align: right;\n",
       "    }\n",
       "</style>\n",
       "<table border=\"1\" class=\"dataframe\">\n",
       "  <thead>\n",
       "    <tr style=\"text-align: right;\">\n",
       "      <th></th>\n",
       "      <th>id</th>\n",
       "      <th>bin_0</th>\n",
       "      <th>bin_1</th>\n",
       "      <th>bin_2</th>\n",
       "      <th>bin_3</th>\n",
       "      <th>bin_4</th>\n",
       "      <th>nom_0</th>\n",
       "      <th>nom_1</th>\n",
       "      <th>nom_2</th>\n",
       "      <th>nom_3</th>\n",
       "      <th>...</th>\n",
       "      <th>nom_8</th>\n",
       "      <th>nom_9</th>\n",
       "      <th>ord_0</th>\n",
       "      <th>ord_1</th>\n",
       "      <th>ord_2</th>\n",
       "      <th>ord_3</th>\n",
       "      <th>ord_4</th>\n",
       "      <th>ord_5</th>\n",
       "      <th>day</th>\n",
       "      <th>month</th>\n",
       "    </tr>\n",
       "  </thead>\n",
       "  <tbody>\n",
       "    <tr>\n",
       "      <th>0</th>\n",
       "      <td>600000</td>\n",
       "      <td>0.0</td>\n",
       "      <td>0.0</td>\n",
       "      <td>0.0</td>\n",
       "      <td>F</td>\n",
       "      <td>Y</td>\n",
       "      <td>Blue</td>\n",
       "      <td>Polygon</td>\n",
       "      <td>Axolotl</td>\n",
       "      <td>Finland</td>\n",
       "      <td>...</td>\n",
       "      <td>ca9ad1d4b</td>\n",
       "      <td>fced9e114</td>\n",
       "      <td>3.0</td>\n",
       "      <td>Novice</td>\n",
       "      <td>Boiling Hot</td>\n",
       "      <td>f</td>\n",
       "      <td>U</td>\n",
       "      <td>oU</td>\n",
       "      <td>3.0</td>\n",
       "      <td>9.0</td>\n",
       "    </tr>\n",
       "    <tr>\n",
       "      <th>1</th>\n",
       "      <td>600001</td>\n",
       "      <td>0.0</td>\n",
       "      <td>0.0</td>\n",
       "      <td>0.0</td>\n",
       "      <td>F</td>\n",
       "      <td>Y</td>\n",
       "      <td>Red</td>\n",
       "      <td>Circle</td>\n",
       "      <td>Lion</td>\n",
       "      <td>Russia</td>\n",
       "      <td>...</td>\n",
       "      <td>060a21580</td>\n",
       "      <td>7ca8775da</td>\n",
       "      <td>1.0</td>\n",
       "      <td>Novice</td>\n",
       "      <td>Cold</td>\n",
       "      <td>n</td>\n",
       "      <td>N</td>\n",
       "      <td>NaN</td>\n",
       "      <td>2.0</td>\n",
       "      <td>8.0</td>\n",
       "    </tr>\n",
       "    <tr>\n",
       "      <th>2</th>\n",
       "      <td>600002</td>\n",
       "      <td>0.0</td>\n",
       "      <td>0.0</td>\n",
       "      <td>0.0</td>\n",
       "      <td>F</td>\n",
       "      <td>Y</td>\n",
       "      <td>Blue</td>\n",
       "      <td>Circle</td>\n",
       "      <td>Axolotl</td>\n",
       "      <td>Russia</td>\n",
       "      <td>...</td>\n",
       "      <td>165e81a00</td>\n",
       "      <td>5940334c9</td>\n",
       "      <td>1.0</td>\n",
       "      <td>Expert</td>\n",
       "      <td>Warm</td>\n",
       "      <td>i</td>\n",
       "      <td>N</td>\n",
       "      <td>DN</td>\n",
       "      <td>2.0</td>\n",
       "      <td>6.0</td>\n",
       "    </tr>\n",
       "    <tr>\n",
       "      <th>3</th>\n",
       "      <td>600003</td>\n",
       "      <td>1.0</td>\n",
       "      <td>0.0</td>\n",
       "      <td>0.0</td>\n",
       "      <td>F</td>\n",
       "      <td>N</td>\n",
       "      <td>Red</td>\n",
       "      <td>Polygon</td>\n",
       "      <td>Axolotl</td>\n",
       "      <td>Costa Rica</td>\n",
       "      <td>...</td>\n",
       "      <td>77d41330d</td>\n",
       "      <td>6fbdeefc8</td>\n",
       "      <td>1.0</td>\n",
       "      <td>Expert</td>\n",
       "      <td>Hot</td>\n",
       "      <td>m</td>\n",
       "      <td>B</td>\n",
       "      <td>AG</td>\n",
       "      <td>1.0</td>\n",
       "      <td>6.0</td>\n",
       "    </tr>\n",
       "    <tr>\n",
       "      <th>4</th>\n",
       "      <td>600004</td>\n",
       "      <td>0.0</td>\n",
       "      <td>0.0</td>\n",
       "      <td>1.0</td>\n",
       "      <td>F</td>\n",
       "      <td>Y</td>\n",
       "      <td>Red</td>\n",
       "      <td>Circle</td>\n",
       "      <td>NaN</td>\n",
       "      <td>Finland</td>\n",
       "      <td>...</td>\n",
       "      <td>2218d9dfe</td>\n",
       "      <td>2a27c8fde</td>\n",
       "      <td>1.0</td>\n",
       "      <td>Contributor</td>\n",
       "      <td>Lava Hot</td>\n",
       "      <td>o</td>\n",
       "      <td>J</td>\n",
       "      <td>DT</td>\n",
       "      <td>3.0</td>\n",
       "      <td>3.0</td>\n",
       "    </tr>\n",
       "  </tbody>\n",
       "</table>\n",
       "<p>5 rows × 24 columns</p>\n",
       "</div>"
      ],
      "text/plain": [
       "       id  bin_0  bin_1  bin_2 bin_3 bin_4 nom_0    nom_1    nom_2  \\\n",
       "0  600000    0.0    0.0    0.0     F     Y  Blue  Polygon  Axolotl   \n",
       "1  600001    0.0    0.0    0.0     F     Y   Red   Circle     Lion   \n",
       "2  600002    0.0    0.0    0.0     F     Y  Blue   Circle  Axolotl   \n",
       "3  600003    1.0    0.0    0.0     F     N   Red  Polygon  Axolotl   \n",
       "4  600004    0.0    0.0    1.0     F     Y   Red   Circle      NaN   \n",
       "\n",
       "        nom_3  ...      nom_8      nom_9 ord_0        ord_1        ord_2  \\\n",
       "0     Finland  ...  ca9ad1d4b  fced9e114   3.0       Novice  Boiling Hot   \n",
       "1      Russia  ...  060a21580  7ca8775da   1.0       Novice         Cold   \n",
       "2      Russia  ...  165e81a00  5940334c9   1.0       Expert         Warm   \n",
       "3  Costa Rica  ...  77d41330d  6fbdeefc8   1.0       Expert          Hot   \n",
       "4     Finland  ...  2218d9dfe  2a27c8fde   1.0  Contributor     Lava Hot   \n",
       "\n",
       "  ord_3  ord_4 ord_5  day month  \n",
       "0     f      U    oU  3.0   9.0  \n",
       "1     n      N   NaN  2.0   8.0  \n",
       "2     i      N    DN  2.0   6.0  \n",
       "3     m      B    AG  1.0   6.0  \n",
       "4     o      J    DT  3.0   3.0  \n",
       "\n",
       "[5 rows x 24 columns]"
      ]
     },
     "execution_count": 6,
     "metadata": {},
     "output_type": "execute_result"
    }
   ],
   "source": [
    "test_df = pd.read_csv('/kaggle/input/cat-in-the-dat-ii/test.csv')\n",
    "test_df.head()"
   ]
  },
  {
   "cell_type": "code",
   "execution_count": 7,
   "metadata": {
    "execution": {
     "iopub.execute_input": "2022-08-30T23:51:39.425607Z",
     "iopub.status.busy": "2022-08-30T23:51:39.425219Z",
     "iopub.status.idle": "2022-08-30T23:51:39.433414Z",
     "shell.execute_reply": "2022-08-30T23:51:39.432115Z"
    },
    "papermill": {
     "duration": 0.025286,
     "end_time": "2022-08-30T23:51:39.435763",
     "exception": false,
     "start_time": "2022-08-30T23:51:39.410477",
     "status": "completed"
    },
    "tags": []
   },
   "outputs": [
    {
     "name": "stdout",
     "output_type": "stream",
     "text": [
      "Train df shape: (600000, 24)\n",
      "Test df shape: (400000, 24)\n"
     ]
    }
   ],
   "source": [
    "print(f'Train df shape: {train_df.shape}')\n",
    "print(f'Test df shape: {test_df.shape}')"
   ]
  },
  {
   "cell_type": "markdown",
   "metadata": {
    "papermill": {
     "duration": 0.013528,
     "end_time": "2022-08-30T23:51:39.463709",
     "exception": false,
     "start_time": "2022-08-30T23:51:39.450181",
     "status": "completed"
    },
    "tags": []
   },
   "source": [
    "## 2. Explore the data"
   ]
  },
  {
   "cell_type": "code",
   "execution_count": 8,
   "metadata": {
    "execution": {
     "iopub.execute_input": "2022-08-30T23:51:39.493010Z",
     "iopub.status.busy": "2022-08-30T23:51:39.492283Z",
     "iopub.status.idle": "2022-08-30T23:51:41.181983Z",
     "shell.execute_reply": "2022-08-30T23:51:41.180917Z"
    },
    "papermill": {
     "duration": 1.707323,
     "end_time": "2022-08-30T23:51:41.184579",
     "exception": false,
     "start_time": "2022-08-30T23:51:39.477256",
     "status": "completed"
    },
    "tags": []
   },
   "outputs": [
    {
     "data": {
      "text/plain": [
       "(0, 0)"
      ]
     },
     "execution_count": 8,
     "metadata": {},
     "output_type": "execute_result"
    }
   ],
   "source": [
    "# check duplicated rows\n",
    "train_df.duplicated().sum(), test_df.duplicated().sum()"
   ]
  },
  {
   "cell_type": "code",
   "execution_count": 9,
   "metadata": {
    "execution": {
     "iopub.execute_input": "2022-08-30T23:51:41.214067Z",
     "iopub.status.busy": "2022-08-30T23:51:41.213680Z",
     "iopub.status.idle": "2022-08-30T23:51:41.220113Z",
     "shell.execute_reply": "2022-08-30T23:51:41.219378Z"
    },
    "papermill": {
     "duration": 0.023537,
     "end_time": "2022-08-30T23:51:41.221954",
     "exception": false,
     "start_time": "2022-08-30T23:51:41.198417",
     "status": "completed"
    },
    "tags": []
   },
   "outputs": [
    {
     "data": {
      "text/plain": [
       "(Index(['id', 'bin_0', 'bin_1', 'bin_2', 'bin_3', 'bin_4', 'nom_0', 'nom_1',\n",
       "        'nom_2', 'nom_3', 'nom_4', 'nom_5', 'nom_6', 'nom_7', 'nom_8', 'nom_9',\n",
       "        'ord_0', 'ord_1', 'ord_2', 'ord_3', 'ord_4', 'ord_5', 'day', 'month'],\n",
       "       dtype='object'),\n",
       " Index(['id', 'bin_0', 'bin_1', 'bin_2', 'bin_3', 'bin_4', 'nom_0', 'nom_1',\n",
       "        'nom_2', 'nom_3', 'nom_4', 'nom_5', 'nom_6', 'nom_7', 'nom_8', 'nom_9',\n",
       "        'ord_0', 'ord_1', 'ord_2', 'ord_3', 'ord_4', 'ord_5', 'day', 'month'],\n",
       "       dtype='object'))"
      ]
     },
     "execution_count": 9,
     "metadata": {},
     "output_type": "execute_result"
    }
   ],
   "source": [
    "# from competition:\n",
    "# The data contains binary features (bin_*), \n",
    "# nominal features (nom_*), \n",
    "# ordinal features (ord_*) as well as (potentially cyclical) day (of the week) and month features. \n",
    "# The string ordinal features ord_{3-5} are lexically ordered according to string.ascii_letters.\n",
    "\n",
    "train_df.columns, test_df.columns"
   ]
  },
  {
   "cell_type": "code",
   "execution_count": 10,
   "metadata": {
    "execution": {
     "iopub.execute_input": "2022-08-30T23:51:41.251495Z",
     "iopub.status.busy": "2022-08-30T23:51:41.250836Z",
     "iopub.status.idle": "2022-08-30T23:51:43.466428Z",
     "shell.execute_reply": "2022-08-30T23:51:43.465182Z"
    },
    "papermill": {
     "duration": 2.233089,
     "end_time": "2022-08-30T23:51:43.468831",
     "exception": false,
     "start_time": "2022-08-30T23:51:41.235742",
     "status": "completed"
    },
    "tags": []
   },
   "outputs": [
    {
     "data": {
      "text/plain": [
       "(1000000, 23)"
      ]
     },
     "execution_count": 10,
     "metadata": {},
     "output_type": "execute_result"
    }
   ],
   "source": [
    "# concatenate both dataframes to preprocess both train and test dataframes\n",
    "\n",
    "df = pd.concat([train_df.drop(columns = ['id']), test_df.drop(columns = ['id'])]).reset_index(drop=True)\n",
    "df.shape"
   ]
  },
  {
   "cell_type": "code",
   "execution_count": 11,
   "metadata": {
    "execution": {
     "iopub.execute_input": "2022-08-30T23:51:43.498838Z",
     "iopub.status.busy": "2022-08-30T23:51:43.498392Z",
     "iopub.status.idle": "2022-08-30T23:51:43.526204Z",
     "shell.execute_reply": "2022-08-30T23:51:43.525460Z"
    },
    "papermill": {
     "duration": 0.045315,
     "end_time": "2022-08-30T23:51:43.528366",
     "exception": false,
     "start_time": "2022-08-30T23:51:43.483051",
     "status": "completed"
    },
    "tags": []
   },
   "outputs": [
    {
     "data": {
      "text/html": [
       "<div>\n",
       "<style scoped>\n",
       "    .dataframe tbody tr th:only-of-type {\n",
       "        vertical-align: middle;\n",
       "    }\n",
       "\n",
       "    .dataframe tbody tr th {\n",
       "        vertical-align: top;\n",
       "    }\n",
       "\n",
       "    .dataframe thead th {\n",
       "        text-align: right;\n",
       "    }\n",
       "</style>\n",
       "<table border=\"1\" class=\"dataframe\">\n",
       "  <thead>\n",
       "    <tr style=\"text-align: right;\">\n",
       "      <th></th>\n",
       "      <th>bin_0</th>\n",
       "      <th>bin_1</th>\n",
       "      <th>bin_2</th>\n",
       "      <th>bin_3</th>\n",
       "      <th>bin_4</th>\n",
       "      <th>nom_0</th>\n",
       "      <th>nom_1</th>\n",
       "      <th>nom_2</th>\n",
       "      <th>nom_3</th>\n",
       "      <th>nom_4</th>\n",
       "      <th>...</th>\n",
       "      <th>nom_8</th>\n",
       "      <th>nom_9</th>\n",
       "      <th>ord_0</th>\n",
       "      <th>ord_1</th>\n",
       "      <th>ord_2</th>\n",
       "      <th>ord_3</th>\n",
       "      <th>ord_4</th>\n",
       "      <th>ord_5</th>\n",
       "      <th>day</th>\n",
       "      <th>month</th>\n",
       "    </tr>\n",
       "  </thead>\n",
       "  <tbody>\n",
       "    <tr>\n",
       "      <th>0</th>\n",
       "      <td>0.0</td>\n",
       "      <td>0.0</td>\n",
       "      <td>0.0</td>\n",
       "      <td>F</td>\n",
       "      <td>N</td>\n",
       "      <td>Red</td>\n",
       "      <td>Trapezoid</td>\n",
       "      <td>Hamster</td>\n",
       "      <td>Russia</td>\n",
       "      <td>Bassoon</td>\n",
       "      <td>...</td>\n",
       "      <td>0256c7a4b</td>\n",
       "      <td>02e7c8990</td>\n",
       "      <td>3.0</td>\n",
       "      <td>Contributor</td>\n",
       "      <td>Hot</td>\n",
       "      <td>c</td>\n",
       "      <td>U</td>\n",
       "      <td>Pw</td>\n",
       "      <td>6.0</td>\n",
       "      <td>3.0</td>\n",
       "    </tr>\n",
       "    <tr>\n",
       "      <th>1</th>\n",
       "      <td>1.0</td>\n",
       "      <td>1.0</td>\n",
       "      <td>0.0</td>\n",
       "      <td>F</td>\n",
       "      <td>Y</td>\n",
       "      <td>Red</td>\n",
       "      <td>Star</td>\n",
       "      <td>Axolotl</td>\n",
       "      <td>NaN</td>\n",
       "      <td>Theremin</td>\n",
       "      <td>...</td>\n",
       "      <td>52ead350c</td>\n",
       "      <td>f37df64af</td>\n",
       "      <td>3.0</td>\n",
       "      <td>Grandmaster</td>\n",
       "      <td>Warm</td>\n",
       "      <td>e</td>\n",
       "      <td>X</td>\n",
       "      <td>pE</td>\n",
       "      <td>7.0</td>\n",
       "      <td>7.0</td>\n",
       "    </tr>\n",
       "    <tr>\n",
       "      <th>2</th>\n",
       "      <td>0.0</td>\n",
       "      <td>1.0</td>\n",
       "      <td>0.0</td>\n",
       "      <td>F</td>\n",
       "      <td>N</td>\n",
       "      <td>Red</td>\n",
       "      <td>NaN</td>\n",
       "      <td>Hamster</td>\n",
       "      <td>Canada</td>\n",
       "      <td>Bassoon</td>\n",
       "      <td>...</td>\n",
       "      <td>745b909d1</td>\n",
       "      <td>NaN</td>\n",
       "      <td>3.0</td>\n",
       "      <td>NaN</td>\n",
       "      <td>Freezing</td>\n",
       "      <td>n</td>\n",
       "      <td>P</td>\n",
       "      <td>eN</td>\n",
       "      <td>5.0</td>\n",
       "      <td>9.0</td>\n",
       "    </tr>\n",
       "    <tr>\n",
       "      <th>3</th>\n",
       "      <td>NaN</td>\n",
       "      <td>0.0</td>\n",
       "      <td>0.0</td>\n",
       "      <td>F</td>\n",
       "      <td>N</td>\n",
       "      <td>Red</td>\n",
       "      <td>Circle</td>\n",
       "      <td>Hamster</td>\n",
       "      <td>Finland</td>\n",
       "      <td>Theremin</td>\n",
       "      <td>...</td>\n",
       "      <td>bdaa56dd1</td>\n",
       "      <td>f9d456e57</td>\n",
       "      <td>1.0</td>\n",
       "      <td>Novice</td>\n",
       "      <td>Lava Hot</td>\n",
       "      <td>a</td>\n",
       "      <td>C</td>\n",
       "      <td>NaN</td>\n",
       "      <td>3.0</td>\n",
       "      <td>3.0</td>\n",
       "    </tr>\n",
       "    <tr>\n",
       "      <th>4</th>\n",
       "      <td>0.0</td>\n",
       "      <td>NaN</td>\n",
       "      <td>0.0</td>\n",
       "      <td>T</td>\n",
       "      <td>N</td>\n",
       "      <td>Red</td>\n",
       "      <td>Triangle</td>\n",
       "      <td>Hamster</td>\n",
       "      <td>Costa Rica</td>\n",
       "      <td>NaN</td>\n",
       "      <td>...</td>\n",
       "      <td>NaN</td>\n",
       "      <td>c5361037c</td>\n",
       "      <td>3.0</td>\n",
       "      <td>Grandmaster</td>\n",
       "      <td>Cold</td>\n",
       "      <td>h</td>\n",
       "      <td>C</td>\n",
       "      <td>OZ</td>\n",
       "      <td>5.0</td>\n",
       "      <td>12.0</td>\n",
       "    </tr>\n",
       "  </tbody>\n",
       "</table>\n",
       "<p>5 rows × 23 columns</p>\n",
       "</div>"
      ],
      "text/plain": [
       "   bin_0  bin_1  bin_2 bin_3 bin_4 nom_0      nom_1    nom_2       nom_3  \\\n",
       "0    0.0    0.0    0.0     F     N   Red  Trapezoid  Hamster      Russia   \n",
       "1    1.0    1.0    0.0     F     Y   Red       Star  Axolotl         NaN   \n",
       "2    0.0    1.0    0.0     F     N   Red        NaN  Hamster      Canada   \n",
       "3    NaN    0.0    0.0     F     N   Red     Circle  Hamster     Finland   \n",
       "4    0.0    NaN    0.0     T     N   Red   Triangle  Hamster  Costa Rica   \n",
       "\n",
       "      nom_4  ...      nom_8      nom_9 ord_0        ord_1     ord_2  ord_3  \\\n",
       "0   Bassoon  ...  0256c7a4b  02e7c8990   3.0  Contributor       Hot      c   \n",
       "1  Theremin  ...  52ead350c  f37df64af   3.0  Grandmaster      Warm      e   \n",
       "2   Bassoon  ...  745b909d1        NaN   3.0          NaN  Freezing      n   \n",
       "3  Theremin  ...  bdaa56dd1  f9d456e57   1.0       Novice  Lava Hot      a   \n",
       "4       NaN  ...        NaN  c5361037c   3.0  Grandmaster      Cold      h   \n",
       "\n",
       "  ord_4 ord_5  day month  \n",
       "0     U    Pw  6.0   3.0  \n",
       "1     X    pE  7.0   7.0  \n",
       "2     P    eN  5.0   9.0  \n",
       "3     C   NaN  3.0   3.0  \n",
       "4     C    OZ  5.0  12.0  \n",
       "\n",
       "[5 rows x 23 columns]"
      ]
     },
     "execution_count": 11,
     "metadata": {},
     "output_type": "execute_result"
    }
   ],
   "source": [
    "df.head()"
   ]
  },
  {
   "cell_type": "code",
   "execution_count": 12,
   "metadata": {
    "execution": {
     "iopub.execute_input": "2022-08-30T23:51:43.562189Z",
     "iopub.status.busy": "2022-08-30T23:51:43.561026Z",
     "iopub.status.idle": "2022-08-30T23:51:43.566411Z",
     "shell.execute_reply": "2022-08-30T23:51:43.565694Z"
    },
    "papermill": {
     "duration": 0.023557,
     "end_time": "2022-08-30T23:51:43.568438",
     "exception": false,
     "start_time": "2022-08-30T23:51:43.544881",
     "status": "completed"
    },
    "tags": []
   },
   "outputs": [],
   "source": [
    "def get_features_by_prefix(df: pd.DataFrame, prefix: str) -> pd.DataFrame:\n",
    "    return df.loc[:, [col for col in df.columns if col.startswith(prefix)]]"
   ]
  },
  {
   "cell_type": "markdown",
   "metadata": {
    "papermill": {
     "duration": 0.013965,
     "end_time": "2022-08-30T23:51:43.596922",
     "exception": false,
     "start_time": "2022-08-30T23:51:43.582957",
     "status": "completed"
    },
    "tags": []
   },
   "source": [
    "### 2.1 Binary data"
   ]
  },
  {
   "cell_type": "code",
   "execution_count": 13,
   "metadata": {
    "execution": {
     "iopub.execute_input": "2022-08-30T23:51:43.627303Z",
     "iopub.status.busy": "2022-08-30T23:51:43.626659Z",
     "iopub.status.idle": "2022-08-30T23:51:43.664146Z",
     "shell.execute_reply": "2022-08-30T23:51:43.663376Z"
    },
    "papermill": {
     "duration": 0.055444,
     "end_time": "2022-08-30T23:51:43.666535",
     "exception": false,
     "start_time": "2022-08-30T23:51:43.611091",
     "status": "completed"
    },
    "tags": []
   },
   "outputs": [
    {
     "data": {
      "text/html": [
       "<div>\n",
       "<style scoped>\n",
       "    .dataframe tbody tr th:only-of-type {\n",
       "        vertical-align: middle;\n",
       "    }\n",
       "\n",
       "    .dataframe tbody tr th {\n",
       "        vertical-align: top;\n",
       "    }\n",
       "\n",
       "    .dataframe thead th {\n",
       "        text-align: right;\n",
       "    }\n",
       "</style>\n",
       "<table border=\"1\" class=\"dataframe\">\n",
       "  <thead>\n",
       "    <tr style=\"text-align: right;\">\n",
       "      <th></th>\n",
       "      <th>bin_0</th>\n",
       "      <th>bin_1</th>\n",
       "      <th>bin_2</th>\n",
       "      <th>bin_3</th>\n",
       "      <th>bin_4</th>\n",
       "    </tr>\n",
       "  </thead>\n",
       "  <tbody>\n",
       "    <tr>\n",
       "      <th>0</th>\n",
       "      <td>0.0</td>\n",
       "      <td>0.0</td>\n",
       "      <td>0.0</td>\n",
       "      <td>F</td>\n",
       "      <td>N</td>\n",
       "    </tr>\n",
       "    <tr>\n",
       "      <th>1</th>\n",
       "      <td>1.0</td>\n",
       "      <td>1.0</td>\n",
       "      <td>0.0</td>\n",
       "      <td>F</td>\n",
       "      <td>Y</td>\n",
       "    </tr>\n",
       "    <tr>\n",
       "      <th>2</th>\n",
       "      <td>0.0</td>\n",
       "      <td>1.0</td>\n",
       "      <td>0.0</td>\n",
       "      <td>F</td>\n",
       "      <td>N</td>\n",
       "    </tr>\n",
       "    <tr>\n",
       "      <th>3</th>\n",
       "      <td>NaN</td>\n",
       "      <td>0.0</td>\n",
       "      <td>0.0</td>\n",
       "      <td>F</td>\n",
       "      <td>N</td>\n",
       "    </tr>\n",
       "    <tr>\n",
       "      <th>4</th>\n",
       "      <td>0.0</td>\n",
       "      <td>NaN</td>\n",
       "      <td>0.0</td>\n",
       "      <td>T</td>\n",
       "      <td>N</td>\n",
       "    </tr>\n",
       "  </tbody>\n",
       "</table>\n",
       "</div>"
      ],
      "text/plain": [
       "   bin_0  bin_1  bin_2 bin_3 bin_4\n",
       "0    0.0    0.0    0.0     F     N\n",
       "1    1.0    1.0    0.0     F     Y\n",
       "2    0.0    1.0    0.0     F     N\n",
       "3    NaN    0.0    0.0     F     N\n",
       "4    0.0    NaN    0.0     T     N"
      ]
     },
     "execution_count": 13,
     "metadata": {},
     "output_type": "execute_result"
    }
   ],
   "source": [
    "# Lets explore binary features first\n",
    "\n",
    "bin_features = get_features_by_prefix(df, 'bin_')\n",
    "bin_features.head()"
   ]
  },
  {
   "cell_type": "code",
   "execution_count": 14,
   "metadata": {
    "execution": {
     "iopub.execute_input": "2022-08-30T23:51:43.697280Z",
     "iopub.status.busy": "2022-08-30T23:51:43.696885Z",
     "iopub.status.idle": "2022-08-30T23:51:43.794375Z",
     "shell.execute_reply": "2022-08-30T23:51:43.793235Z"
    },
    "papermill": {
     "duration": 0.115603,
     "end_time": "2022-08-30T23:51:43.796724",
     "exception": false,
     "start_time": "2022-08-30T23:51:43.681121",
     "status": "completed"
    },
    "tags": []
   },
   "outputs": [
    {
     "data": {
      "text/plain": [
       "bin_0    0.029795\n",
       "bin_1    0.030041\n",
       "bin_2    0.029902\n",
       "bin_3    0.029965\n",
       "bin_4    0.029998\n",
       "dtype: float64"
      ]
     },
     "execution_count": 14,
     "metadata": {},
     "output_type": "execute_result"
    }
   ],
   "source": [
    "bin_features.isna().sum() / len(bin_features) # in %"
   ]
  },
  {
   "cell_type": "code",
   "execution_count": 15,
   "metadata": {
    "execution": {
     "iopub.execute_input": "2022-08-30T23:51:43.829332Z",
     "iopub.status.busy": "2022-08-30T23:51:43.827342Z",
     "iopub.status.idle": "2022-08-30T23:51:43.907080Z",
     "shell.execute_reply": "2022-08-30T23:51:43.905827Z"
    },
    "papermill": {
     "duration": 0.098489,
     "end_time": "2022-08-30T23:51:43.909903",
     "exception": false,
     "start_time": "2022-08-30T23:51:43.811414",
     "status": "completed"
    },
    "tags": []
   },
   "outputs": [
    {
     "data": {
      "text/plain": [
       "(array(['F', 'T', nan], dtype=object), array(['N', 'Y', nan], dtype=object))"
      ]
     },
     "execution_count": 15,
     "metadata": {},
     "output_type": "execute_result"
    }
   ],
   "source": [
    "# check bin_3/bin_4 values \n",
    "bin_features['bin_3'].unique(), bin_features['bin_4'].unique()"
   ]
  },
  {
   "cell_type": "code",
   "execution_count": 16,
   "metadata": {
    "execution": {
     "iopub.execute_input": "2022-08-30T23:51:43.941781Z",
     "iopub.status.busy": "2022-08-30T23:51:43.940632Z",
     "iopub.status.idle": "2022-08-30T23:51:44.080672Z",
     "shell.execute_reply": "2022-08-30T23:51:44.079403Z"
    },
    "papermill": {
     "duration": 0.15841,
     "end_time": "2022-08-30T23:51:44.083136",
     "exception": false,
     "start_time": "2022-08-30T23:51:43.924726",
     "status": "completed"
    },
    "tags": []
   },
   "outputs": [
    {
     "data": {
      "text/html": [
       "<div>\n",
       "<style scoped>\n",
       "    .dataframe tbody tr th:only-of-type {\n",
       "        vertical-align: middle;\n",
       "    }\n",
       "\n",
       "    .dataframe tbody tr th {\n",
       "        vertical-align: top;\n",
       "    }\n",
       "\n",
       "    .dataframe thead th {\n",
       "        text-align: right;\n",
       "    }\n",
       "</style>\n",
       "<table border=\"1\" class=\"dataframe\">\n",
       "  <thead>\n",
       "    <tr style=\"text-align: right;\">\n",
       "      <th></th>\n",
       "      <th>bin_0</th>\n",
       "      <th>bin_1</th>\n",
       "      <th>bin_2</th>\n",
       "      <th>bin_3</th>\n",
       "      <th>bin_4</th>\n",
       "    </tr>\n",
       "  </thead>\n",
       "  <tbody>\n",
       "    <tr>\n",
       "      <th>0</th>\n",
       "      <td>0.0</td>\n",
       "      <td>0.0</td>\n",
       "      <td>0.0</td>\n",
       "      <td>0.0</td>\n",
       "      <td>0.0</td>\n",
       "    </tr>\n",
       "    <tr>\n",
       "      <th>1</th>\n",
       "      <td>1.0</td>\n",
       "      <td>1.0</td>\n",
       "      <td>0.0</td>\n",
       "      <td>0.0</td>\n",
       "      <td>1.0</td>\n",
       "    </tr>\n",
       "    <tr>\n",
       "      <th>2</th>\n",
       "      <td>0.0</td>\n",
       "      <td>1.0</td>\n",
       "      <td>0.0</td>\n",
       "      <td>0.0</td>\n",
       "      <td>0.0</td>\n",
       "    </tr>\n",
       "    <tr>\n",
       "      <th>3</th>\n",
       "      <td>NaN</td>\n",
       "      <td>0.0</td>\n",
       "      <td>0.0</td>\n",
       "      <td>0.0</td>\n",
       "      <td>0.0</td>\n",
       "    </tr>\n",
       "    <tr>\n",
       "      <th>4</th>\n",
       "      <td>0.0</td>\n",
       "      <td>NaN</td>\n",
       "      <td>0.0</td>\n",
       "      <td>1.0</td>\n",
       "      <td>0.0</td>\n",
       "    </tr>\n",
       "  </tbody>\n",
       "</table>\n",
       "</div>"
      ],
      "text/plain": [
       "   bin_0  bin_1  bin_2  bin_3  bin_4\n",
       "0    0.0    0.0    0.0    0.0    0.0\n",
       "1    1.0    1.0    0.0    0.0    1.0\n",
       "2    0.0    1.0    0.0    0.0    0.0\n",
       "3    NaN    0.0    0.0    0.0    0.0\n",
       "4    0.0    NaN    0.0    1.0    0.0"
      ]
     },
     "execution_count": 16,
     "metadata": {},
     "output_type": "execute_result"
    }
   ],
   "source": [
    "bin_features['bin_3'] = bin_features['bin_3'].map({'F': 0, 'T' : 1})\n",
    "bin_features['bin_4'] = bin_features['bin_4'].map({'N': 0, 'Y' : 1})\n",
    "bin_features.head()"
   ]
  },
  {
   "cell_type": "code",
   "execution_count": 17,
   "metadata": {
    "execution": {
     "iopub.execute_input": "2022-08-30T23:51:44.115447Z",
     "iopub.status.busy": "2022-08-30T23:51:44.114353Z",
     "iopub.status.idle": "2022-08-30T23:51:46.263367Z",
     "shell.execute_reply": "2022-08-30T23:51:46.262225Z"
    },
    "papermill": {
     "duration": 2.167493,
     "end_time": "2022-08-30T23:51:46.265754",
     "exception": false,
     "start_time": "2022-08-30T23:51:44.098261",
     "status": "completed"
    },
    "tags": []
   },
   "outputs": [
    {
     "data": {
      "image/png": "[encoded data removed]",
      "text/plain": [
       "<Figure size 1584x432 with 5 Axes>"
      ]
     },
     "metadata": {
      "needs_background": "light"
     },
     "output_type": "display_data"
    }
   ],
   "source": [
    "fig, ax = plt.subplots(1, len(bin_features.columns), figsize=(22, 6))\n",
    "for i, col in enumerate(bin_features.columns):\n",
    "    plt.subplot(1, 5, i + 1)\n",
    "    sns.countplot(x = col, hue = y, data = train_df)\n",
    "\n",
    "plt.show()"
   ]
  },
  {
   "cell_type": "code",
   "execution_count": 18,
   "metadata": {
    "execution": {
     "iopub.execute_input": "2022-08-30T23:51:46.299779Z",
     "iopub.status.busy": "2022-08-30T23:51:46.298864Z",
     "iopub.status.idle": "2022-08-30T23:51:46.778632Z",
     "shell.execute_reply": "2022-08-30T23:51:46.777861Z"
    },
    "papermill": {
     "duration": 0.49912,
     "end_time": "2022-08-30T23:51:46.780889",
     "exception": false,
     "start_time": "2022-08-30T23:51:46.281769",
     "status": "completed"
    },
    "tags": []
   },
   "outputs": [
    {
     "data": {
      "text/plain": [
       "<AxesSubplot:>"
      ]
     },
     "execution_count": 18,
     "metadata": {},
     "output_type": "execute_result"
    },
    {
     "data": {
      "image/png": "[encoded data removed]",
      "text/plain": [
       "<Figure size 432x288 with 2 Axes>"
      ]
     },
     "metadata": {
      "needs_background": "light"
     },
     "output_type": "display_data"
    }
   ],
   "source": [
    "import seaborn as sns\n",
    "\n",
    "sns.heatmap(pd.concat([bin_features, y], axis = 1).corr())"
   ]
  },
  {
   "cell_type": "code",
   "execution_count": 19,
   "metadata": {
    "execution": {
     "iopub.execute_input": "2022-08-30T23:51:46.815005Z",
     "iopub.status.busy": "2022-08-30T23:51:46.814404Z",
     "iopub.status.idle": "2022-08-30T23:51:46.818310Z",
     "shell.execute_reply": "2022-08-30T23:51:46.817322Z"
    },
    "papermill": {
     "duration": 0.023245,
     "end_time": "2022-08-30T23:51:46.820289",
     "exception": false,
     "start_time": "2022-08-30T23:51:46.797044",
     "status": "completed"
    },
    "tags": []
   },
   "outputs": [],
   "source": [
    "# fill NaN values with most occurring class for each column\n",
    "#bin_features.fillna(bin_features.mode().iloc[0], inplace = True)\n",
    "#bin_features.head()\n",
    "\n",
    "# Filling NA values now is in the end of preprocessing!"
   ]
  },
  {
   "cell_type": "markdown",
   "metadata": {
    "papermill": {
     "duration": 0.015487,
     "end_time": "2022-08-30T23:51:46.851606",
     "exception": false,
     "start_time": "2022-08-30T23:51:46.836119",
     "status": "completed"
    },
    "tags": []
   },
   "source": [
    "### 2.2 Nominal Features"
   ]
  },
  {
   "cell_type": "code",
   "execution_count": 20,
   "metadata": {
    "execution": {
     "iopub.execute_input": "2022-08-30T23:51:46.885819Z",
     "iopub.status.busy": "2022-08-30T23:51:46.885176Z",
     "iopub.status.idle": "2022-08-30T23:51:47.018088Z",
     "shell.execute_reply": "2022-08-30T23:51:47.016937Z"
    },
    "papermill": {
     "duration": 0.153089,
     "end_time": "2022-08-30T23:51:47.020558",
     "exception": false,
     "start_time": "2022-08-30T23:51:46.867469",
     "status": "completed"
    },
    "tags": []
   },
   "outputs": [
    {
     "data": {
      "text/html": [
       "<div>\n",
       "<style scoped>\n",
       "    .dataframe tbody tr th:only-of-type {\n",
       "        vertical-align: middle;\n",
       "    }\n",
       "\n",
       "    .dataframe tbody tr th {\n",
       "        vertical-align: top;\n",
       "    }\n",
       "\n",
       "    .dataframe thead th {\n",
       "        text-align: right;\n",
       "    }\n",
       "</style>\n",
       "<table border=\"1\" class=\"dataframe\">\n",
       "  <thead>\n",
       "    <tr style=\"text-align: right;\">\n",
       "      <th></th>\n",
       "      <th>nom_0</th>\n",
       "      <th>nom_1</th>\n",
       "      <th>nom_2</th>\n",
       "      <th>nom_3</th>\n",
       "      <th>nom_4</th>\n",
       "      <th>nom_5</th>\n",
       "      <th>nom_6</th>\n",
       "      <th>nom_7</th>\n",
       "      <th>nom_8</th>\n",
       "      <th>nom_9</th>\n",
       "    </tr>\n",
       "  </thead>\n",
       "  <tbody>\n",
       "    <tr>\n",
       "      <th>0</th>\n",
       "      <td>Red</td>\n",
       "      <td>Trapezoid</td>\n",
       "      <td>Hamster</td>\n",
       "      <td>Russia</td>\n",
       "      <td>Bassoon</td>\n",
       "      <td>de4c57ee2</td>\n",
       "      <td>a64bc7ddf</td>\n",
       "      <td>598080a91</td>\n",
       "      <td>0256c7a4b</td>\n",
       "      <td>02e7c8990</td>\n",
       "    </tr>\n",
       "    <tr>\n",
       "      <th>1</th>\n",
       "      <td>Red</td>\n",
       "      <td>Star</td>\n",
       "      <td>Axolotl</td>\n",
       "      <td>NaN</td>\n",
       "      <td>Theremin</td>\n",
       "      <td>2bb3c3e5c</td>\n",
       "      <td>3a3a936e8</td>\n",
       "      <td>1dddb8473</td>\n",
       "      <td>52ead350c</td>\n",
       "      <td>f37df64af</td>\n",
       "    </tr>\n",
       "    <tr>\n",
       "      <th>2</th>\n",
       "      <td>Red</td>\n",
       "      <td>NaN</td>\n",
       "      <td>Hamster</td>\n",
       "      <td>Canada</td>\n",
       "      <td>Bassoon</td>\n",
       "      <td>b574c9841</td>\n",
       "      <td>708248125</td>\n",
       "      <td>5ddc9a726</td>\n",
       "      <td>745b909d1</td>\n",
       "      <td>NaN</td>\n",
       "    </tr>\n",
       "    <tr>\n",
       "      <th>3</th>\n",
       "      <td>Red</td>\n",
       "      <td>Circle</td>\n",
       "      <td>Hamster</td>\n",
       "      <td>Finland</td>\n",
       "      <td>Theremin</td>\n",
       "      <td>673bdf1f6</td>\n",
       "      <td>23edb8da3</td>\n",
       "      <td>3a33ef960</td>\n",
       "      <td>bdaa56dd1</td>\n",
       "      <td>f9d456e57</td>\n",
       "    </tr>\n",
       "    <tr>\n",
       "      <th>4</th>\n",
       "      <td>Red</td>\n",
       "      <td>Triangle</td>\n",
       "      <td>Hamster</td>\n",
       "      <td>Costa Rica</td>\n",
       "      <td>NaN</td>\n",
       "      <td>777d1ac2c</td>\n",
       "      <td>3a7975e46</td>\n",
       "      <td>bc9cc2a94</td>\n",
       "      <td>NaN</td>\n",
       "      <td>c5361037c</td>\n",
       "    </tr>\n",
       "    <tr>\n",
       "      <th>5</th>\n",
       "      <td>Red</td>\n",
       "      <td>Triangle</td>\n",
       "      <td>Lion</td>\n",
       "      <td>China</td>\n",
       "      <td>Bassoon</td>\n",
       "      <td>a2e1bf0b1</td>\n",
       "      <td>ae6737c29</td>\n",
       "      <td>8c30b9b0b</td>\n",
       "      <td>690411ac0</td>\n",
       "      <td>05afc0f8b</td>\n",
       "    </tr>\n",
       "    <tr>\n",
       "      <th>6</th>\n",
       "      <td>Red</td>\n",
       "      <td>Triangle</td>\n",
       "      <td>Hamster</td>\n",
       "      <td>Costa Rica</td>\n",
       "      <td>Bassoon</td>\n",
       "      <td>87a5be0d7</td>\n",
       "      <td>cdc35bd00</td>\n",
       "      <td>1cba571fa</td>\n",
       "      <td>b8e63cace</td>\n",
       "      <td>4d3766412</td>\n",
       "    </tr>\n",
       "    <tr>\n",
       "      <th>7</th>\n",
       "      <td>Red</td>\n",
       "      <td>Triangle</td>\n",
       "      <td>Axolotl</td>\n",
       "      <td>Finland</td>\n",
       "      <td>Bassoon</td>\n",
       "      <td>104aee31d</td>\n",
       "      <td>2a50808ba</td>\n",
       "      <td>81d67e1bb</td>\n",
       "      <td>bd9643a20</td>\n",
       "      <td>a651dec43</td>\n",
       "    </tr>\n",
       "    <tr>\n",
       "      <th>8</th>\n",
       "      <td>Blue</td>\n",
       "      <td>Polygon</td>\n",
       "      <td>Hamster</td>\n",
       "      <td>Russia</td>\n",
       "      <td>Oboe</td>\n",
       "      <td>024efa364</td>\n",
       "      <td>a4a81ab45</td>\n",
       "      <td>429114096</td>\n",
       "      <td>94c5fd40c</td>\n",
       "      <td>NaN</td>\n",
       "    </tr>\n",
       "    <tr>\n",
       "      <th>9</th>\n",
       "      <td>Red</td>\n",
       "      <td>Polygon</td>\n",
       "      <td>Hamster</td>\n",
       "      <td>Finland</td>\n",
       "      <td>Theremin</td>\n",
       "      <td>9fa084b36</td>\n",
       "      <td>e7aa94f40</td>\n",
       "      <td>56d35c774</td>\n",
       "      <td>0279391c5</td>\n",
       "      <td>79b29d54c</td>\n",
       "    </tr>\n",
       "    <tr>\n",
       "      <th>10</th>\n",
       "      <td>Blue</td>\n",
       "      <td>Triangle</td>\n",
       "      <td>Hamster</td>\n",
       "      <td>Finland</td>\n",
       "      <td>Bassoon</td>\n",
       "      <td>8bd03e713</td>\n",
       "      <td>0d8c9ee63</td>\n",
       "      <td>93360bbc9</td>\n",
       "      <td>28869f8aa</td>\n",
       "      <td>9bfe3ee22</td>\n",
       "    </tr>\n",
       "    <tr>\n",
       "      <th>11</th>\n",
       "      <td>Red</td>\n",
       "      <td>Square</td>\n",
       "      <td>Hamster</td>\n",
       "      <td>Costa Rica</td>\n",
       "      <td>Oboe</td>\n",
       "      <td>b574c9841</td>\n",
       "      <td>494b565c1</td>\n",
       "      <td>088aace2d</td>\n",
       "      <td>74a092964</td>\n",
       "      <td>6c73b62e4</td>\n",
       "    </tr>\n",
       "    <tr>\n",
       "      <th>12</th>\n",
       "      <td>Red</td>\n",
       "      <td>Circle</td>\n",
       "      <td>Axolotl</td>\n",
       "      <td>Russia</td>\n",
       "      <td>Theremin</td>\n",
       "      <td>17e55c076</td>\n",
       "      <td>113c9831c</td>\n",
       "      <td>12370b989</td>\n",
       "      <td>5bdcf7324</td>\n",
       "      <td>ed7765a22</td>\n",
       "    </tr>\n",
       "    <tr>\n",
       "      <th>13</th>\n",
       "      <td>Blue</td>\n",
       "      <td>Trapezoid</td>\n",
       "      <td>Lion</td>\n",
       "      <td>Costa Rica</td>\n",
       "      <td>Bassoon</td>\n",
       "      <td>6fa8121a6</td>\n",
       "      <td>cf13fd27b</td>\n",
       "      <td>ba9faf5b1</td>\n",
       "      <td>94c5fd40c</td>\n",
       "      <td>fb68fb0cf</td>\n",
       "    </tr>\n",
       "    <tr>\n",
       "      <th>14</th>\n",
       "      <td>Red</td>\n",
       "      <td>Polygon</td>\n",
       "      <td>Hamster</td>\n",
       "      <td>Costa Rica</td>\n",
       "      <td>Piano</td>\n",
       "      <td>NaN</td>\n",
       "      <td>494b565c1</td>\n",
       "      <td>fdebf0648</td>\n",
       "      <td>e6873698e</td>\n",
       "      <td>e23161f2e</td>\n",
       "    </tr>\n",
       "    <tr>\n",
       "      <th>15</th>\n",
       "      <td>Red</td>\n",
       "      <td>Polygon</td>\n",
       "      <td>Hamster</td>\n",
       "      <td>Russia</td>\n",
       "      <td>Bassoon</td>\n",
       "      <td>b85b562f4</td>\n",
       "      <td>c62a7b95e</td>\n",
       "      <td>90a2cba07</td>\n",
       "      <td>a1d71618d</td>\n",
       "      <td>e5260d8ba</td>\n",
       "    </tr>\n",
       "    <tr>\n",
       "      <th>16</th>\n",
       "      <td>Red</td>\n",
       "      <td>Triangle</td>\n",
       "      <td>Lion</td>\n",
       "      <td>Costa Rica</td>\n",
       "      <td>Bassoon</td>\n",
       "      <td>4a4f85396</td>\n",
       "      <td>16910f221</td>\n",
       "      <td>5de0b3fa7</td>\n",
       "      <td>d48e8b7af</td>\n",
       "      <td>99f6dca00</td>\n",
       "    </tr>\n",
       "    <tr>\n",
       "      <th>17</th>\n",
       "      <td>Red</td>\n",
       "      <td>Trapezoid</td>\n",
       "      <td>Hamster</td>\n",
       "      <td>Russia</td>\n",
       "      <td>Bassoon</td>\n",
       "      <td>a21a19c4c</td>\n",
       "      <td>65d9b7af2</td>\n",
       "      <td>e5b00a0e0</td>\n",
       "      <td>587840371</td>\n",
       "      <td>bc5c8fe51</td>\n",
       "    </tr>\n",
       "    <tr>\n",
       "      <th>18</th>\n",
       "      <td>Red</td>\n",
       "      <td>Circle</td>\n",
       "      <td>Axolotl</td>\n",
       "      <td>India</td>\n",
       "      <td>Oboe</td>\n",
       "      <td>09759f3f8</td>\n",
       "      <td>a2ab37d98</td>\n",
       "      <td>1d2ee04de</td>\n",
       "      <td>28869f8aa</td>\n",
       "      <td>bf2a46c9a</td>\n",
       "    </tr>\n",
       "    <tr>\n",
       "      <th>19</th>\n",
       "      <td>Red</td>\n",
       "      <td>Triangle</td>\n",
       "      <td>Hamster</td>\n",
       "      <td>Costa Rica</td>\n",
       "      <td>Theremin</td>\n",
       "      <td>NaN</td>\n",
       "      <td>d7c571dbf</td>\n",
       "      <td>NaN</td>\n",
       "      <td>NaN</td>\n",
       "      <td>602d7a9af</td>\n",
       "    </tr>\n",
       "  </tbody>\n",
       "</table>\n",
       "</div>"
      ],
      "text/plain": [
       "   nom_0      nom_1    nom_2       nom_3     nom_4      nom_5      nom_6  \\\n",
       "0    Red  Trapezoid  Hamster      Russia   Bassoon  de4c57ee2  a64bc7ddf   \n",
       "1    Red       Star  Axolotl         NaN  Theremin  2bb3c3e5c  3a3a936e8   \n",
       "2    Red        NaN  Hamster      Canada   Bassoon  b574c9841  708248125   \n",
       "3    Red     Circle  Hamster     Finland  Theremin  673bdf1f6  23edb8da3   \n",
       "4    Red   Triangle  Hamster  Costa Rica       NaN  777d1ac2c  3a7975e46   \n",
       "5    Red   Triangle     Lion       China   Bassoon  a2e1bf0b1  ae6737c29   \n",
       "6    Red   Triangle  Hamster  Costa Rica   Bassoon  87a5be0d7  cdc35bd00   \n",
       "7    Red   Triangle  Axolotl     Finland   Bassoon  104aee31d  2a50808ba   \n",
       "8   Blue    Polygon  Hamster      Russia      Oboe  024efa364  a4a81ab45   \n",
       "9    Red    Polygon  Hamster     Finland  Theremin  9fa084b36  e7aa94f40   \n",
       "10  Blue   Triangle  Hamster     Finland   Bassoon  8bd03e713  0d8c9ee63   \n",
       "11   Red     Square  Hamster  Costa Rica      Oboe  b574c9841  494b565c1   \n",
       "12   Red     Circle  Axolotl      Russia  Theremin  17e55c076  113c9831c   \n",
       "13  Blue  Trapezoid     Lion  Costa Rica   Bassoon  6fa8121a6  cf13fd27b   \n",
       "14   Red    Polygon  Hamster  Costa Rica     Piano        NaN  494b565c1   \n",
       "15   Red    Polygon  Hamster      Russia   Bassoon  b85b562f4  c62a7b95e   \n",
       "16   Red   Triangle     Lion  Costa Rica   Bassoon  4a4f85396  16910f221   \n",
       "17   Red  Trapezoid  Hamster      Russia   Bassoon  a21a19c4c  65d9b7af2   \n",
       "18   Red     Circle  Axolotl       India      Oboe  09759f3f8  a2ab37d98   \n",
       "19   Red   Triangle  Hamster  Costa Rica  Theremin        NaN  d7c571dbf   \n",
       "\n",
       "        nom_7      nom_8      nom_9  \n",
       "0   598080a91  0256c7a4b  02e7c8990  \n",
       "1   1dddb8473  52ead350c  f37df64af  \n",
       "2   5ddc9a726  745b909d1        NaN  \n",
       "3   3a33ef960  bdaa56dd1  f9d456e57  \n",
       "4   bc9cc2a94        NaN  c5361037c  \n",
       "5   8c30b9b0b  690411ac0  05afc0f8b  \n",
       "6   1cba571fa  b8e63cace  4d3766412  \n",
       "7   81d67e1bb  bd9643a20  a651dec43  \n",
       "8   429114096  94c5fd40c        NaN  \n",
       "9   56d35c774  0279391c5  79b29d54c  \n",
       "10  93360bbc9  28869f8aa  9bfe3ee22  \n",
       "11  088aace2d  74a092964  6c73b62e4  \n",
       "12  12370b989  5bdcf7324  ed7765a22  \n",
       "13  ba9faf5b1  94c5fd40c  fb68fb0cf  \n",
       "14  fdebf0648  e6873698e  e23161f2e  \n",
       "15  90a2cba07  a1d71618d  e5260d8ba  \n",
       "16  5de0b3fa7  d48e8b7af  99f6dca00  \n",
       "17  e5b00a0e0  587840371  bc5c8fe51  \n",
       "18  1d2ee04de  28869f8aa  bf2a46c9a  \n",
       "19        NaN        NaN  602d7a9af  "
      ]
     },
     "execution_count": 20,
     "metadata": {},
     "output_type": "execute_result"
    }
   ],
   "source": [
    "# Nominal features - categorical features without any order of precedence\n",
    "\n",
    "nom_features = get_features_by_prefix(df, 'nom_')\n",
    "nom_features.head(20)"
   ]
  },
  {
   "cell_type": "code",
   "execution_count": 21,
   "metadata": {
    "execution": {
     "iopub.execute_input": "2022-08-30T23:51:47.056571Z",
     "iopub.status.busy": "2022-08-30T23:51:47.055841Z",
     "iopub.status.idle": "2022-08-30T23:51:47.478954Z",
     "shell.execute_reply": "2022-08-30T23:51:47.477958Z"
    },
    "papermill": {
     "duration": 0.444035,
     "end_time": "2022-08-30T23:51:47.481301",
     "exception": false,
     "start_time": "2022-08-30T23:51:47.037266",
     "status": "completed"
    },
    "tags": []
   },
   "outputs": [
    {
     "data": {
      "text/plain": [
       "nom_0    0.030314\n",
       "nom_1    0.030103\n",
       "nom_2    0.030214\n",
       "nom_3    0.030297\n",
       "nom_4    0.030028\n",
       "nom_5    0.029690\n",
       "nom_6    0.030143\n",
       "nom_7    0.030006\n",
       "nom_8    0.029711\n",
       "nom_9    0.030133\n",
       "dtype: float64"
      ]
     },
     "execution_count": 21,
     "metadata": {},
     "output_type": "execute_result"
    }
   ],
   "source": [
    "nom_features.isna().sum() / len(nom_features) # in %"
   ]
  },
  {
   "cell_type": "code",
   "execution_count": 22,
   "metadata": {
    "execution": {
     "iopub.execute_input": "2022-08-30T23:51:47.515990Z",
     "iopub.status.busy": "2022-08-30T23:51:47.515569Z",
     "iopub.status.idle": "2022-08-30T23:51:48.084181Z",
     "shell.execute_reply": "2022-08-30T23:51:48.082558Z"
    },
    "papermill": {
     "duration": 0.588806,
     "end_time": "2022-08-30T23:51:48.086912",
     "exception": false,
     "start_time": "2022-08-30T23:51:47.498106",
     "status": "completed"
    },
    "tags": []
   },
   "outputs": [
    {
     "name": "stdout",
     "output_type": "stream",
     "text": [
      "Column: \"nom_0\", num of values: 4\n",
      "Column: \"nom_1\", num of values: 7\n",
      "Column: \"nom_2\", num of values: 7\n",
      "Column: \"nom_3\", num of values: 7\n",
      "Column: \"nom_4\", num of values: 5\n",
      "Column: \"nom_5\", num of values: 1221\n",
      "Column: \"nom_6\", num of values: 1521\n",
      "Column: \"nom_7\", num of values: 223\n",
      "Column: \"nom_8\", num of values: 223\n",
      "Column: \"nom_9\", num of values: 2219\n"
     ]
    }
   ],
   "source": [
    "for col in nom_features.columns:\n",
    "    print(f'Column: \"{col}\", num of values: {len(nom_features[col].unique())}')"
   ]
  },
  {
   "cell_type": "code",
   "execution_count": 23,
   "metadata": {
    "execution": {
     "iopub.execute_input": "2022-08-30T23:51:48.122860Z",
     "iopub.status.busy": "2022-08-30T23:51:48.121836Z",
     "iopub.status.idle": "2022-08-30T23:51:48.776779Z",
     "shell.execute_reply": "2022-08-30T23:51:48.775533Z"
    },
    "papermill": {
     "duration": 0.675401,
     "end_time": "2022-08-30T23:51:48.779016",
     "exception": false,
     "start_time": "2022-08-30T23:51:48.103615",
     "status": "completed"
    },
    "tags": []
   },
   "outputs": [
    {
     "name": "stdout",
     "output_type": "stream",
     "text": [
      "['Red' 'Blue' 'Green']\n",
      "['Trapezoid' 'Star' 'Circle' 'Triangle' 'Polygon' 'Square']\n",
      "['Hamster' 'Axolotl' 'Lion' 'Dog' 'Cat' 'Snake']\n",
      "['Russia' 'Canada' 'Finland' 'Costa Rica' 'China' 'India']\n",
      "['Bassoon' 'Theremin' 'Oboe' 'Piano']\n"
     ]
    }
   ],
   "source": [
    "nom_columns = ['nom_0', 'nom_1', 'nom_2', 'nom_3', 'nom_4']\n",
    "for col in nom_columns:\n",
    "    print(nom_features[col].dropna().unique())"
   ]
  },
  {
   "cell_type": "code",
   "execution_count": 24,
   "metadata": {
    "execution": {
     "iopub.execute_input": "2022-08-30T23:51:48.814350Z",
     "iopub.status.busy": "2022-08-30T23:51:48.813979Z",
     "iopub.status.idle": "2022-08-30T23:51:52.286446Z",
     "shell.execute_reply": "2022-08-30T23:51:52.285285Z"
    },
    "papermill": {
     "duration": 3.492994,
     "end_time": "2022-08-30T23:51:52.288726",
     "exception": false,
     "start_time": "2022-08-30T23:51:48.795732",
     "status": "completed"
    },
    "tags": []
   },
   "outputs": [
    {
     "data": {
      "image/png": "[encoded data removed]",
      "text/plain": [
       "<Figure size 1584x432 with 5 Axes>"
      ]
     },
     "metadata": {
      "needs_background": "light"
     },
     "output_type": "display_data"
    }
   ],
   "source": [
    "fig, ax = plt.subplots(1, len(nom_columns), figsize=(22, 6))\n",
    "for i, col in enumerate(nom_columns):\n",
    "    plt.subplot(1, len(nom_columns), i + 1)\n",
    "    sns.countplot(x = col, hue = y, data = train_df)\n",
    "\n",
    "plt.show()"
   ]
  },
  {
   "cell_type": "code",
   "execution_count": 25,
   "metadata": {
    "execution": {
     "iopub.execute_input": "2022-08-30T23:51:52.326512Z",
     "iopub.status.busy": "2022-08-30T23:51:52.326118Z",
     "iopub.status.idle": "2022-08-30T23:51:55.511038Z",
     "shell.execute_reply": "2022-08-30T23:51:55.509885Z"
    },
    "papermill": {
     "duration": 3.207174,
     "end_time": "2022-08-30T23:51:55.513521",
     "exception": false,
     "start_time": "2022-08-30T23:51:52.306347",
     "status": "completed"
    },
    "tags": []
   },
   "outputs": [
    {
     "data": {
      "text/plain": [
       "<AxesSubplot:>"
      ]
     },
     "execution_count": 25,
     "metadata": {},
     "output_type": "execute_result"
    },
    {
     "data": {
      "image/png": "[encoded data removed]",
      "text/plain": [
       "<Figure size 432x288 with 2 Axes>"
      ]
     },
     "metadata": {
      "needs_background": "light"
     },
     "output_type": "display_data"
    }
   ],
   "source": [
    "sns.heatmap(pd.get_dummies(pd.concat([nom_features.loc[:, nom_features.columns.isin(nom_columns)], y], axis = 1)).corr())"
   ]
  },
  {
   "cell_type": "code",
   "execution_count": 26,
   "metadata": {
    "execution": {
     "iopub.execute_input": "2022-08-30T23:51:55.551348Z",
     "iopub.status.busy": "2022-08-30T23:51:55.550954Z",
     "iopub.status.idle": "2022-08-30T23:53:00.338133Z",
     "shell.execute_reply": "2022-08-30T23:53:00.337008Z"
    },
    "papermill": {
     "duration": 64.82755,
     "end_time": "2022-08-30T23:53:00.359140",
     "exception": false,
     "start_time": "2022-08-30T23:51:55.531590",
     "status": "completed"
    },
    "tags": []
   },
   "outputs": [
    {
     "data": {
      "image/png": "[encoded data removed]",
      "text/plain": [
       "<Figure size 1584x1440 with 5 Axes>"
      ]
     },
     "metadata": {
      "needs_background": "light"
     },
     "output_type": "display_data"
    }
   ],
   "source": [
    "# lets check values distribution in train dataset\n",
    "other_columns = [c for c in nom_features.columns if c not in nom_columns]\n",
    "l = len(other_columns)\n",
    " \n",
    "fig, ax = plt.subplots(l, 1, figsize=(22, 20))\n",
    "for i, col in enumerate(other_columns):\n",
    "    plt.subplot(l, 1, i + 1)\n",
    "    sns.countplot(x = col, data = train_df, order = train_df[col].value_counts().index)\n",
    "\n",
    "plt.show()"
   ]
  },
  {
   "cell_type": "markdown",
   "metadata": {
    "papermill": {
     "duration": 0.018595,
     "end_time": "2022-08-30T23:53:00.396692",
     "exception": false,
     "start_time": "2022-08-30T23:53:00.378097",
     "status": "completed"
    },
    "tags": []
   },
   "source": [
    "Nominal features should be transformed into 'dummy' variables. But taking into consideration the number of unique values we will probably get a huge dataframe!"
   ]
  },
  {
   "cell_type": "code",
   "execution_count": 27,
   "metadata": {
    "execution": {
     "iopub.execute_input": "2022-08-30T23:53:00.436426Z",
     "iopub.status.busy": "2022-08-30T23:53:00.435624Z",
     "iopub.status.idle": "2022-08-30T23:53:00.440347Z",
     "shell.execute_reply": "2022-08-30T23:53:00.439304Z"
    },
    "papermill": {
     "duration": 0.027122,
     "end_time": "2022-08-30T23:53:00.442643",
     "exception": false,
     "start_time": "2022-08-30T23:53:00.415521",
     "status": "completed"
    },
    "tags": []
   },
   "outputs": [],
   "source": [
    "#nom_features.fillna('NA', inplace = True)\n",
    "#nom_features.head(10)"
   ]
  },
  {
   "cell_type": "markdown",
   "metadata": {
    "papermill": {
     "duration": 0.0186,
     "end_time": "2022-08-30T23:53:00.480049",
     "exception": false,
     "start_time": "2022-08-30T23:53:00.461449",
     "status": "completed"
    },
    "tags": []
   },
   "source": [
    "### 2.3 Ordinal features"
   ]
  },
  {
   "cell_type": "code",
   "execution_count": 28,
   "metadata": {
    "execution": {
     "iopub.execute_input": "2022-08-30T23:53:00.520001Z",
     "iopub.status.busy": "2022-08-30T23:53:00.518974Z",
     "iopub.status.idle": "2022-08-30T23:53:00.592059Z",
     "shell.execute_reply": "2022-08-30T23:53:00.590996Z"
    },
    "papermill": {
     "duration": 0.095642,
     "end_time": "2022-08-30T23:53:00.594350",
     "exception": false,
     "start_time": "2022-08-30T23:53:00.498708",
     "status": "completed"
    },
    "tags": []
   },
   "outputs": [
    {
     "data": {
      "text/html": [
       "<div>\n",
       "<style scoped>\n",
       "    .dataframe tbody tr th:only-of-type {\n",
       "        vertical-align: middle;\n",
       "    }\n",
       "\n",
       "    .dataframe tbody tr th {\n",
       "        vertical-align: top;\n",
       "    }\n",
       "\n",
       "    .dataframe thead th {\n",
       "        text-align: right;\n",
       "    }\n",
       "</style>\n",
       "<table border=\"1\" class=\"dataframe\">\n",
       "  <thead>\n",
       "    <tr style=\"text-align: right;\">\n",
       "      <th></th>\n",
       "      <th>ord_0</th>\n",
       "      <th>ord_1</th>\n",
       "      <th>ord_2</th>\n",
       "      <th>ord_3</th>\n",
       "      <th>ord_4</th>\n",
       "      <th>ord_5</th>\n",
       "    </tr>\n",
       "  </thead>\n",
       "  <tbody>\n",
       "    <tr>\n",
       "      <th>0</th>\n",
       "      <td>3.0</td>\n",
       "      <td>Contributor</td>\n",
       "      <td>Hot</td>\n",
       "      <td>c</td>\n",
       "      <td>U</td>\n",
       "      <td>Pw</td>\n",
       "    </tr>\n",
       "    <tr>\n",
       "      <th>1</th>\n",
       "      <td>3.0</td>\n",
       "      <td>Grandmaster</td>\n",
       "      <td>Warm</td>\n",
       "      <td>e</td>\n",
       "      <td>X</td>\n",
       "      <td>pE</td>\n",
       "    </tr>\n",
       "    <tr>\n",
       "      <th>2</th>\n",
       "      <td>3.0</td>\n",
       "      <td>NaN</td>\n",
       "      <td>Freezing</td>\n",
       "      <td>n</td>\n",
       "      <td>P</td>\n",
       "      <td>eN</td>\n",
       "    </tr>\n",
       "    <tr>\n",
       "      <th>3</th>\n",
       "      <td>1.0</td>\n",
       "      <td>Novice</td>\n",
       "      <td>Lava Hot</td>\n",
       "      <td>a</td>\n",
       "      <td>C</td>\n",
       "      <td>NaN</td>\n",
       "    </tr>\n",
       "    <tr>\n",
       "      <th>4</th>\n",
       "      <td>3.0</td>\n",
       "      <td>Grandmaster</td>\n",
       "      <td>Cold</td>\n",
       "      <td>h</td>\n",
       "      <td>C</td>\n",
       "      <td>OZ</td>\n",
       "    </tr>\n",
       "  </tbody>\n",
       "</table>\n",
       "</div>"
      ],
      "text/plain": [
       "   ord_0        ord_1     ord_2 ord_3 ord_4 ord_5\n",
       "0    3.0  Contributor       Hot     c     U    Pw\n",
       "1    3.0  Grandmaster      Warm     e     X    pE\n",
       "2    3.0          NaN  Freezing     n     P    eN\n",
       "3    1.0       Novice  Lava Hot     a     C   NaN\n",
       "4    3.0  Grandmaster      Cold     h     C    OZ"
      ]
     },
     "execution_count": 28,
     "metadata": {},
     "output_type": "execute_result"
    }
   ],
   "source": [
    "# Ordinal features - categorical features with order of precedence\n",
    "\n",
    "ord_features = get_features_by_prefix(df, 'ord_')\n",
    "ord_features.head()"
   ]
  },
  {
   "cell_type": "code",
   "execution_count": 29,
   "metadata": {
    "execution": {
     "iopub.execute_input": "2022-08-30T23:53:00.635167Z",
     "iopub.status.busy": "2022-08-30T23:53:00.634694Z",
     "iopub.status.idle": "2022-08-30T23:53:00.855555Z",
     "shell.execute_reply": "2022-08-30T23:53:00.854617Z"
    },
    "papermill": {
     "duration": 0.243825,
     "end_time": "2022-08-30T23:53:00.857939",
     "exception": false,
     "start_time": "2022-08-30T23:53:00.614114",
     "status": "completed"
    },
    "tags": []
   },
   "outputs": [
    {
     "data": {
      "text/plain": [
       "ord_0    0.030181\n",
       "ord_1    0.030208\n",
       "ord_2    0.030180\n",
       "ord_3    0.029969\n",
       "ord_4    0.029863\n",
       "ord_5    0.029760\n",
       "dtype: float64"
      ]
     },
     "execution_count": 29,
     "metadata": {},
     "output_type": "execute_result"
    }
   ],
   "source": [
    "ord_features.isna().sum() / len(ord_features) # in %"
   ]
  },
  {
   "cell_type": "code",
   "execution_count": 30,
   "metadata": {
    "execution": {
     "iopub.execute_input": "2022-08-30T23:53:00.899069Z",
     "iopub.status.busy": "2022-08-30T23:53:00.898494Z",
     "iopub.status.idle": "2022-08-30T23:53:01.155433Z",
     "shell.execute_reply": "2022-08-30T23:53:01.153453Z"
    },
    "papermill": {
     "duration": 0.280221,
     "end_time": "2022-08-30T23:53:01.157952",
     "exception": false,
     "start_time": "2022-08-30T23:53:00.877731",
     "status": "completed"
    },
    "tags": []
   },
   "outputs": [
    {
     "name": "stdout",
     "output_type": "stream",
     "text": [
      "Column: \"ord_0\", num of values: 4\n",
      "Column: \"ord_1\", num of values: 6\n",
      "Column: \"ord_2\", num of values: 7\n",
      "Column: \"ord_3\", num of values: 16\n",
      "Column: \"ord_4\", num of values: 27\n",
      "Column: \"ord_5\", num of values: 191\n"
     ]
    }
   ],
   "source": [
    "for col in ord_features.columns:\n",
    "    print(f'Column: \"{col}\", num of values: {len(ord_features[col].unique())}')"
   ]
  },
  {
   "cell_type": "code",
   "execution_count": 31,
   "metadata": {
    "execution": {
     "iopub.execute_input": "2022-08-30T23:53:01.199209Z",
     "iopub.status.busy": "2022-08-30T23:53:01.198787Z",
     "iopub.status.idle": "2022-08-30T23:53:07.461891Z",
     "shell.execute_reply": "2022-08-30T23:53:07.460828Z"
    },
    "papermill": {
     "duration": 6.287191,
     "end_time": "2022-08-30T23:53:07.465025",
     "exception": false,
     "start_time": "2022-08-30T23:53:01.177834",
     "status": "completed"
    },
    "tags": []
   },
   "outputs": [
    {
     "data": {
      "image/png": "[encoded data removed]",
      "text/plain": [
       "<Figure size 1440x1440 with 6 Axes>"
      ]
     },
     "metadata": {
      "needs_background": "light"
     },
     "output_type": "display_data"
    }
   ],
   "source": [
    "fig, ax = plt.subplots(len(ord_features.columns), 1, figsize=(20, 20))\n",
    "for i, col in enumerate(ord_features.columns):\n",
    "    plt.subplot(len(ord_features.columns), 1, i + 1)\n",
    "    sns.countplot(x = col, hue = y, data = train_df)\n",
    "\n",
    "plt.show()"
   ]
  },
  {
   "cell_type": "code",
   "execution_count": 32,
   "metadata": {
    "execution": {
     "iopub.execute_input": "2022-08-30T23:53:07.507885Z",
     "iopub.status.busy": "2022-08-30T23:53:07.507450Z",
     "iopub.status.idle": "2022-08-30T23:53:07.872291Z",
     "shell.execute_reply": "2022-08-30T23:53:07.870889Z"
    },
    "papermill": {
     "duration": 0.389081,
     "end_time": "2022-08-30T23:53:07.874619",
     "exception": false,
     "start_time": "2022-08-30T23:53:07.485538",
     "status": "completed"
    },
    "tags": []
   },
   "outputs": [
    {
     "name": "stdout",
     "output_type": "stream",
     "text": [
      "['a', 'b', 'c', 'd', 'e', 'f', 'g', 'h', 'i', 'j', 'k', 'l', 'm', 'n', 'o']\n",
      "['A', 'B', 'C', 'D', 'E', 'F', 'G', 'H', 'I', 'J', 'K', 'L', 'M', 'N', 'O', 'P', 'Q', 'R', 'S', 'T', 'U', 'V', 'W', 'X', 'Y', 'Z']\n",
      "['AG', 'AI', 'AU', 'AW', 'Ay', 'BL', 'BX', 'Bx', 'CN', 'CU', 'Cn', 'DI', 'DN', 'DR', 'DT', 'Dj', 'Dn', 'EC', 'Ey', 'FB', 'FH', 'Fl', 'GZ', 'HF', 'HK', 'HO', 'Hk', 'IA', 'IS', 'Ib', 'In', 'Io', 'Iq', 'JQ', 'JT', 'Ji', 'Kq', 'LS', 'LY', 'Lo', 'MF', 'MU', 'MV', 'MX', 'Mg', 'Mq', 'NS', 'NT', 'Nh', 'OM', 'OZ', 'Oe', 'Ox', 'PG', 'PS', 'Pk', 'Pw', 'QV', 'Qm', 'RB', 'RD', 'RT', 'RV', 'Re', 'Rj', 'Ro', 'Rv', 'Rz', 'SL', 'SS', 'Sk', 'Sz', 'TH', 'TL', 'TP', 'TZ', 'Tg', 'Ty', 'Tz', 'US', 'UV', 'WC', 'WW', 'Wr', 'XC', 'XI', 'XM', 'XR', 'XU', 'YJ', 'Yb', 'Yi', 'Yr', 'Zv', 'aA', 'aE', 'al', 'be', 'cR', 'cY', 'cg', 'cy', 'dh', 'dp', 'eA', 'eN', 'ep', 'fF', 'fO', 'fV', 'fe', 'gK', 'gL', 'gV', 'gc', 'gj', 'gt', 'hG', 'hT', 'ht', 'hx', 'iS', 'iv', 'ja', 'jf', 'jp', 'kB', 'kP', 'kT', 'kv', 'lA', 'lR', 'lS', 'ly', 'mD', 'mP', 'mX', 'mi', 'mo', 'nS', 'ne', 'nf', 'nj', 'nn', 'oI', 'oJ', 'oU', 'oh', 'ok', 'pB', 'pE', 'pT', 'pZ', 'pl', 'qN', 'qP', 'rA', 'rM', 'rg', 'rl', 'sF', 'sY', 'sc', 'sf', 'tT', 'th', 'tn', 'uI', 'uP', 'uQ', 'uW', 'uZ', 'ur', 'us', 'vQ', 'vq', 'vw', 'vx', 'wJ', 'wU', 'wa', 'xB', 'xF', 'xG', 'yE', 'yK', 'zc', 'ze', 'zf', 'zp']\n"
     ]
    }
   ],
   "source": [
    "print(sorted(ord_features.ord_3.dropna().unique()))\n",
    "print(sorted(ord_features.ord_4.dropna().unique()))\n",
    "print(sorted(ord_features.ord_5.dropna().unique()))"
   ]
  },
  {
   "cell_type": "markdown",
   "metadata": {
    "papermill": {
     "duration": 0.020237,
     "end_time": "2022-08-30T23:53:07.915601",
     "exception": false,
     "start_time": "2022-08-30T23:53:07.895364",
     "status": "completed"
    },
    "tags": []
   },
   "source": [
    "### 2.4 Day and month features"
   ]
  },
  {
   "cell_type": "code",
   "execution_count": 33,
   "metadata": {
    "execution": {
     "iopub.execute_input": "2022-08-30T23:53:07.959012Z",
     "iopub.status.busy": "2022-08-30T23:53:07.958259Z",
     "iopub.status.idle": "2022-08-30T23:53:07.985077Z",
     "shell.execute_reply": "2022-08-30T23:53:07.984111Z"
    },
    "papermill": {
     "duration": 0.050988,
     "end_time": "2022-08-30T23:53:07.987286",
     "exception": false,
     "start_time": "2022-08-30T23:53:07.936298",
     "status": "completed"
    },
    "tags": []
   },
   "outputs": [
    {
     "data": {
      "text/html": [
       "<div>\n",
       "<style scoped>\n",
       "    .dataframe tbody tr th:only-of-type {\n",
       "        vertical-align: middle;\n",
       "    }\n",
       "\n",
       "    .dataframe tbody tr th {\n",
       "        vertical-align: top;\n",
       "    }\n",
       "\n",
       "    .dataframe thead th {\n",
       "        text-align: right;\n",
       "    }\n",
       "</style>\n",
       "<table border=\"1\" class=\"dataframe\">\n",
       "  <thead>\n",
       "    <tr style=\"text-align: right;\">\n",
       "      <th></th>\n",
       "      <th>day</th>\n",
       "      <th>month</th>\n",
       "    </tr>\n",
       "  </thead>\n",
       "  <tbody>\n",
       "    <tr>\n",
       "      <th>0</th>\n",
       "      <td>6.0</td>\n",
       "      <td>3.0</td>\n",
       "    </tr>\n",
       "    <tr>\n",
       "      <th>1</th>\n",
       "      <td>7.0</td>\n",
       "      <td>7.0</td>\n",
       "    </tr>\n",
       "    <tr>\n",
       "      <th>2</th>\n",
       "      <td>5.0</td>\n",
       "      <td>9.0</td>\n",
       "    </tr>\n",
       "    <tr>\n",
       "      <th>3</th>\n",
       "      <td>3.0</td>\n",
       "      <td>3.0</td>\n",
       "    </tr>\n",
       "    <tr>\n",
       "      <th>4</th>\n",
       "      <td>5.0</td>\n",
       "      <td>12.0</td>\n",
       "    </tr>\n",
       "    <tr>\n",
       "      <th>5</th>\n",
       "      <td>3.0</td>\n",
       "      <td>4.0</td>\n",
       "    </tr>\n",
       "    <tr>\n",
       "      <th>6</th>\n",
       "      <td>5.0</td>\n",
       "      <td>6.0</td>\n",
       "    </tr>\n",
       "    <tr>\n",
       "      <th>7</th>\n",
       "      <td>1.0</td>\n",
       "      <td>1.0</td>\n",
       "    </tr>\n",
       "    <tr>\n",
       "      <th>8</th>\n",
       "      <td>6.0</td>\n",
       "      <td>3.0</td>\n",
       "    </tr>\n",
       "    <tr>\n",
       "      <th>9</th>\n",
       "      <td>1.0</td>\n",
       "      <td>8.0</td>\n",
       "    </tr>\n",
       "  </tbody>\n",
       "</table>\n",
       "</div>"
      ],
      "text/plain": [
       "   day  month\n",
       "0  6.0    3.0\n",
       "1  7.0    7.0\n",
       "2  5.0    9.0\n",
       "3  3.0    3.0\n",
       "4  5.0   12.0\n",
       "5  3.0    4.0\n",
       "6  5.0    6.0\n",
       "7  1.0    1.0\n",
       "8  6.0    3.0\n",
       "9  1.0    8.0"
      ]
     },
     "execution_count": 33,
     "metadata": {},
     "output_type": "execute_result"
    }
   ],
   "source": [
    "day_feature = get_features_by_prefix(df, 'day')\n",
    "month_feature = get_features_by_prefix(df, 'month')\n",
    "dm_features = pd.concat([day_feature, month_feature], axis = 1)\n",
    "dm_features.head(10)"
   ]
  },
  {
   "cell_type": "code",
   "execution_count": 34,
   "metadata": {
    "execution": {
     "iopub.execute_input": "2022-08-30T23:53:08.030899Z",
     "iopub.status.busy": "2022-08-30T23:53:08.030029Z",
     "iopub.status.idle": "2022-08-30T23:53:08.042867Z",
     "shell.execute_reply": "2022-08-30T23:53:08.041713Z"
    },
    "papermill": {
     "duration": 0.037175,
     "end_time": "2022-08-30T23:53:08.045300",
     "exception": false,
     "start_time": "2022-08-30T23:53:08.008125",
     "status": "completed"
    },
    "tags": []
   },
   "outputs": [
    {
     "data": {
      "text/plain": [
       "day      0.029977\n",
       "month    0.029972\n",
       "dtype: float64"
      ]
     },
     "execution_count": 34,
     "metadata": {},
     "output_type": "execute_result"
    }
   ],
   "source": [
    "dm_features.isna().sum() / len(dm_features) # in %"
   ]
  },
  {
   "cell_type": "code",
   "execution_count": 35,
   "metadata": {
    "execution": {
     "iopub.execute_input": "2022-08-30T23:53:08.089528Z",
     "iopub.status.busy": "2022-08-30T23:53:08.088491Z",
     "iopub.status.idle": "2022-08-30T23:53:08.822590Z",
     "shell.execute_reply": "2022-08-30T23:53:08.821325Z"
    },
    "papermill": {
     "duration": 0.758818,
     "end_time": "2022-08-30T23:53:08.825054",
     "exception": false,
     "start_time": "2022-08-30T23:53:08.066236",
     "status": "completed"
    },
    "tags": []
   },
   "outputs": [
    {
     "data": {
      "image/png": "[encoded data removed]",
      "text/plain": [
       "<Figure size 720x576 with 2 Axes>"
      ]
     },
     "metadata": {
      "needs_background": "light"
     },
     "output_type": "display_data"
    }
   ],
   "source": [
    "# there is no explicit correlation between target and work days/weekends and seasons\n",
    "\n",
    "l = len(dm_features.columns)\n",
    "\n",
    "fig, ax = plt.subplots(l, 1, figsize = (10, 8))\n",
    "for i, col in enumerate(dm_features.columns):\n",
    "    plt.subplot(l, 1, i + 1)\n",
    "    sns.countplot(x = col, hue = y, data = train_df)\n",
    "\n",
    "plt.show()"
   ]
  },
  {
   "cell_type": "markdown",
   "metadata": {
    "papermill": {
     "duration": 0.02182,
     "end_time": "2022-08-30T23:53:08.868794",
     "exception": false,
     "start_time": "2022-08-30T23:53:08.846974",
     "status": "completed"
    },
    "tags": []
   },
   "source": [
    "### 2.5 Final dataframe"
   ]
  },
  {
   "cell_type": "code",
   "execution_count": 36,
   "metadata": {
    "execution": {
     "iopub.execute_input": "2022-08-30T23:53:08.913790Z",
     "iopub.status.busy": "2022-08-30T23:53:08.913417Z",
     "iopub.status.idle": "2022-08-30T23:53:09.042990Z",
     "shell.execute_reply": "2022-08-30T23:53:09.041856Z"
    },
    "papermill": {
     "duration": 0.155103,
     "end_time": "2022-08-30T23:53:09.045672",
     "exception": false,
     "start_time": "2022-08-30T23:53:08.890569",
     "status": "completed"
    },
    "tags": []
   },
   "outputs": [],
   "source": [
    "from sklearn import preprocessing"
   ]
  },
  {
   "cell_type": "code",
   "execution_count": 37,
   "metadata": {
    "execution": {
     "iopub.execute_input": "2022-08-30T23:53:09.091245Z",
     "iopub.status.busy": "2022-08-30T23:53:09.090162Z",
     "iopub.status.idle": "2022-08-30T23:53:20.675543Z",
     "shell.execute_reply": "2022-08-30T23:53:20.674280Z"
    },
    "papermill": {
     "duration": 11.610266,
     "end_time": "2022-08-30T23:53:20.677777",
     "exception": false,
     "start_time": "2022-08-30T23:53:09.067511",
     "status": "completed"
    },
    "tags": []
   },
   "outputs": [
    {
     "data": {
      "text/html": [
       "<div>\n",
       "<style scoped>\n",
       "    .dataframe tbody tr th:only-of-type {\n",
       "        vertical-align: middle;\n",
       "    }\n",
       "\n",
       "    .dataframe tbody tr th {\n",
       "        vertical-align: top;\n",
       "    }\n",
       "\n",
       "    .dataframe thead th {\n",
       "        text-align: right;\n",
       "    }\n",
       "</style>\n",
       "<table border=\"1\" class=\"dataframe\">\n",
       "  <thead>\n",
       "    <tr style=\"text-align: right;\">\n",
       "      <th></th>\n",
       "      <th>bin_0</th>\n",
       "      <th>bin_1</th>\n",
       "      <th>bin_2</th>\n",
       "      <th>bin_3</th>\n",
       "      <th>bin_4</th>\n",
       "      <th>nom_0</th>\n",
       "      <th>nom_1</th>\n",
       "      <th>nom_2</th>\n",
       "      <th>nom_3</th>\n",
       "      <th>nom_4</th>\n",
       "      <th>...</th>\n",
       "      <th>nom_8</th>\n",
       "      <th>nom_9</th>\n",
       "      <th>ord_0</th>\n",
       "      <th>ord_1</th>\n",
       "      <th>ord_2</th>\n",
       "      <th>ord_3</th>\n",
       "      <th>ord_4</th>\n",
       "      <th>ord_5</th>\n",
       "      <th>day</th>\n",
       "      <th>month</th>\n",
       "    </tr>\n",
       "  </thead>\n",
       "  <tbody>\n",
       "    <tr>\n",
       "      <th>0</th>\n",
       "      <td>0</td>\n",
       "      <td>0</td>\n",
       "      <td>0</td>\n",
       "      <td>0</td>\n",
       "      <td>0</td>\n",
       "      <td>3</td>\n",
       "      <td>5</td>\n",
       "      <td>3</td>\n",
       "      <td>6</td>\n",
       "      <td>0</td>\n",
       "      <td>...</td>\n",
       "      <td>1</td>\n",
       "      <td>27</td>\n",
       "      <td>2</td>\n",
       "      <td>0</td>\n",
       "      <td>3</td>\n",
       "      <td>3</td>\n",
       "      <td>21</td>\n",
       "      <td>57</td>\n",
       "      <td>5</td>\n",
       "      <td>5</td>\n",
       "    </tr>\n",
       "    <tr>\n",
       "      <th>1</th>\n",
       "      <td>1</td>\n",
       "      <td>1</td>\n",
       "      <td>0</td>\n",
       "      <td>0</td>\n",
       "      <td>1</td>\n",
       "      <td>3</td>\n",
       "      <td>4</td>\n",
       "      <td>0</td>\n",
       "      <td>5</td>\n",
       "      <td>4</td>\n",
       "      <td>...</td>\n",
       "      <td>69</td>\n",
       "      <td>2113</td>\n",
       "      <td>2</td>\n",
       "      <td>2</td>\n",
       "      <td>6</td>\n",
       "      <td>5</td>\n",
       "      <td>24</td>\n",
       "      <td>151</td>\n",
       "      <td>6</td>\n",
       "      <td>9</td>\n",
       "    </tr>\n",
       "    <tr>\n",
       "      <th>2</th>\n",
       "      <td>0</td>\n",
       "      <td>1</td>\n",
       "      <td>0</td>\n",
       "      <td>0</td>\n",
       "      <td>0</td>\n",
       "      <td>3</td>\n",
       "      <td>1</td>\n",
       "      <td>3</td>\n",
       "      <td>0</td>\n",
       "      <td>0</td>\n",
       "      <td>...</td>\n",
       "      <td>102</td>\n",
       "      <td>1400</td>\n",
       "      <td>2</td>\n",
       "      <td>4</td>\n",
       "      <td>2</td>\n",
       "      <td>14</td>\n",
       "      <td>16</td>\n",
       "      <td>106</td>\n",
       "      <td>4</td>\n",
       "      <td>11</td>\n",
       "    </tr>\n",
       "    <tr>\n",
       "      <th>3</th>\n",
       "      <td>2</td>\n",
       "      <td>0</td>\n",
       "      <td>0</td>\n",
       "      <td>0</td>\n",
       "      <td>0</td>\n",
       "      <td>3</td>\n",
       "      <td>0</td>\n",
       "      <td>3</td>\n",
       "      <td>3</td>\n",
       "      <td>4</td>\n",
       "      <td>...</td>\n",
       "      <td>171</td>\n",
       "      <td>2168</td>\n",
       "      <td>0</td>\n",
       "      <td>5</td>\n",
       "      <td>4</td>\n",
       "      <td>1</td>\n",
       "      <td>2</td>\n",
       "      <td>46</td>\n",
       "      <td>2</td>\n",
       "      <td>5</td>\n",
       "    </tr>\n",
       "    <tr>\n",
       "      <th>4</th>\n",
       "      <td>0</td>\n",
       "      <td>2</td>\n",
       "      <td>0</td>\n",
       "      <td>1</td>\n",
       "      <td>0</td>\n",
       "      <td>3</td>\n",
       "      <td>6</td>\n",
       "      <td>3</td>\n",
       "      <td>2</td>\n",
       "      <td>1</td>\n",
       "      <td>...</td>\n",
       "      <td>151</td>\n",
       "      <td>1748</td>\n",
       "      <td>2</td>\n",
       "      <td>2</td>\n",
       "      <td>1</td>\n",
       "      <td>8</td>\n",
       "      <td>2</td>\n",
       "      <td>51</td>\n",
       "      <td>4</td>\n",
       "      <td>3</td>\n",
       "    </tr>\n",
       "  </tbody>\n",
       "</table>\n",
       "<p>5 rows × 23 columns</p>\n",
       "</div>"
      ],
      "text/plain": [
       "   bin_0  bin_1  bin_2  bin_3  bin_4  nom_0  nom_1  nom_2  nom_3  nom_4  ...  \\\n",
       "0      0      0      0      0      0      3      5      3      6      0  ...   \n",
       "1      1      1      0      0      1      3      4      0      5      4  ...   \n",
       "2      0      1      0      0      0      3      1      3      0      0  ...   \n",
       "3      2      0      0      0      0      3      0      3      3      4  ...   \n",
       "4      0      2      0      1      0      3      6      3      2      1  ...   \n",
       "\n",
       "   nom_8  nom_9  ord_0  ord_1  ord_2  ord_3  ord_4  ord_5  day  month  \n",
       "0      1     27      2      0      3      3     21     57    5      5  \n",
       "1     69   2113      2      2      6      5     24    151    6      9  \n",
       "2    102   1400      2      4      2     14     16    106    4     11  \n",
       "3    171   2168      0      5      4      1      2     46    2      5  \n",
       "4    151   1748      2      2      1      8      2     51    4      3  \n",
       "\n",
       "[5 rows x 23 columns]"
      ]
     },
     "execution_count": 37,
     "metadata": {},
     "output_type": "execute_result"
    }
   ],
   "source": [
    "final_df = pd.concat([bin_features, nom_features, ord_features, dm_features], axis = 1).fillna('NA')\n",
    "\n",
    "for col in final_df.columns:\n",
    "    lbl_enc = preprocessing.LabelEncoder()\n",
    "    final_df[col] = lbl_enc.fit_transform(final_df.loc[:, col].astype(str).values)\n",
    "    \n",
    "final_df.head()"
   ]
  },
  {
   "cell_type": "code",
   "execution_count": 38,
   "metadata": {
    "execution": {
     "iopub.execute_input": "2022-08-30T23:53:20.723960Z",
     "iopub.status.busy": "2022-08-30T23:53:20.723205Z",
     "iopub.status.idle": "2022-08-30T23:53:20.730636Z",
     "shell.execute_reply": "2022-08-30T23:53:20.729623Z"
    },
    "papermill": {
     "duration": 0.032829,
     "end_time": "2022-08-30T23:53:20.732909",
     "exception": false,
     "start_time": "2022-08-30T23:53:20.700080",
     "status": "completed"
    },
    "tags": []
   },
   "outputs": [
    {
     "data": {
      "text/plain": [
       "((600000, 23), (400000, 23))"
      ]
     },
     "execution_count": 38,
     "metadata": {},
     "output_type": "execute_result"
    }
   ],
   "source": [
    "X = final_df.iloc[:len(train_df), :]\n",
    "X_test = final_df.iloc[len(train_df):, :]\n",
    "X.shape, X_test.shape"
   ]
  },
  {
   "cell_type": "code",
   "execution_count": 39,
   "metadata": {
    "execution": {
     "iopub.execute_input": "2022-08-30T23:53:20.778241Z",
     "iopub.status.busy": "2022-08-30T23:53:20.777865Z",
     "iopub.status.idle": "2022-08-30T23:53:21.093412Z",
     "shell.execute_reply": "2022-08-30T23:53:21.092069Z"
    },
    "papermill": {
     "duration": 0.341078,
     "end_time": "2022-08-30T23:53:21.095715",
     "exception": false,
     "start_time": "2022-08-30T23:53:20.754637",
     "status": "completed"
    },
    "tags": []
   },
   "outputs": [
    {
     "data": {
      "text/plain": [
       "((540000, 23), (60000, 23))"
      ]
     },
     "execution_count": 39,
     "metadata": {},
     "output_type": "execute_result"
    }
   ],
   "source": [
    "from sklearn.model_selection import train_test_split\n",
    "X_train, X_val, y_train, y_val = train_test_split(X, y, test_size = 0.1, random_state = 1)\n",
    "X_train.shape, X_val.shape"
   ]
  },
  {
   "cell_type": "code",
   "execution_count": 40,
   "metadata": {
    "execution": {
     "iopub.execute_input": "2022-08-30T23:53:21.142074Z",
     "iopub.status.busy": "2022-08-30T23:53:21.141319Z",
     "iopub.status.idle": "2022-08-30T23:53:21.149309Z",
     "shell.execute_reply": "2022-08-30T23:53:21.148562Z"
    },
    "papermill": {
     "duration": 0.0333,
     "end_time": "2022-08-30T23:53:21.151314",
     "exception": false,
     "start_time": "2022-08-30T23:53:21.118014",
     "status": "completed"
    },
    "tags": []
   },
   "outputs": [],
   "source": [
    "X_train_arr = [X_train[c].values for c in X_train.columns]\n",
    "X_val_arr = [X_val[c] for c in X_val.columns]\n",
    "X_test_arr = [X_test[c] for c in X_test.columns]"
   ]
  },
  {
   "cell_type": "markdown",
   "metadata": {
    "papermill": {
     "duration": 0.021595,
     "end_time": "2022-08-30T23:53:21.195135",
     "exception": false,
     "start_time": "2022-08-30T23:53:21.173540",
     "status": "completed"
    },
    "tags": []
   },
   "source": [
    "## 3. Model"
   ]
  },
  {
   "cell_type": "markdown",
   "metadata": {
    "papermill": {
     "duration": 0.021414,
     "end_time": "2022-08-30T23:53:21.238283",
     "exception": false,
     "start_time": "2022-08-30T23:53:21.216869",
     "status": "completed"
    },
    "tags": []
   },
   "source": [
    "### Embedding layers"
   ]
  },
  {
   "cell_type": "code",
   "execution_count": 41,
   "metadata": {
    "execution": {
     "iopub.execute_input": "2022-08-30T23:53:21.283931Z",
     "iopub.status.busy": "2022-08-30T23:53:21.283206Z",
     "iopub.status.idle": "2022-08-30T23:53:33.498078Z",
     "shell.execute_reply": "2022-08-30T23:53:33.496401Z"
    },
    "papermill": {
     "duration": 12.243649,
     "end_time": "2022-08-30T23:53:33.503583",
     "exception": false,
     "start_time": "2022-08-30T23:53:21.259934",
     "status": "completed"
    },
    "tags": []
   },
   "outputs": [],
   "source": [
    "import tensorflow as tf\n",
    "from tensorflow.keras.models import Model\n",
    "from tensorflow.keras import Input\n",
    "from tensorflow.keras.layers import Embedding, Dense, Dropout, Concatenate, Flatten\n",
    "from tensorflow.keras import callbacks"
   ]
  },
  {
   "cell_type": "code",
   "execution_count": 42,
   "metadata": {
    "execution": {
     "iopub.execute_input": "2022-08-30T23:53:33.554897Z",
     "iopub.status.busy": "2022-08-30T23:53:33.554097Z",
     "iopub.status.idle": "2022-08-30T23:53:33.559215Z",
     "shell.execute_reply": "2022-08-30T23:53:33.558423Z"
    },
    "papermill": {
     "duration": 0.031109,
     "end_time": "2022-08-30T23:53:33.561328",
     "exception": false,
     "start_time": "2022-08-30T23:53:33.530219",
     "status": "completed"
    },
    "tags": []
   },
   "outputs": [],
   "source": [
    "from math import log2"
   ]
  },
  {
   "cell_type": "code",
   "execution_count": 43,
   "metadata": {
    "execution": {
     "iopub.execute_input": "2022-08-30T23:53:33.607249Z",
     "iopub.status.busy": "2022-08-30T23:53:33.606520Z",
     "iopub.status.idle": "2022-08-30T23:53:34.128416Z",
     "shell.execute_reply": "2022-08-30T23:53:34.127178Z"
    },
    "papermill": {
     "duration": 0.547994,
     "end_time": "2022-08-30T23:53:34.131219",
     "exception": false,
     "start_time": "2022-08-30T23:53:33.583225",
     "status": "completed"
    },
    "tags": []
   },
   "outputs": [
    {
     "name": "stderr",
     "output_type": "stream",
     "text": [
      "2022-08-30 23:53:33.666570: I tensorflow/core/common_runtime/process_util.cc:146] Creating new thread pool with default inter op setting: 2. Tune using inter_op_parallelism_threads for best performance.\n"
     ]
    }
   ],
   "source": [
    "# prepare each input head\n",
    "input_layers = []\n",
    "output_layers = []\n",
    "for col in final_df.columns:\n",
    "    \n",
    "    n_labels = len(final_df.loc[:, col].unique()) + 1\n",
    "    n_outputs = int(log2(n_labels))\n",
    "    \n",
    "    input_layer = Input(shape=(1,))\n",
    "    emb_layer = Embedding(n_labels, n_outputs, name = col)(input_layer)\n",
    "    \n",
    "    input_layers.append(input_layer)\n",
    "    output_layers.append(Flatten()(emb_layer))"
   ]
  },
  {
   "cell_type": "markdown",
   "metadata": {
    "papermill": {
     "duration": 0.02221,
     "end_time": "2022-08-30T23:53:34.175824",
     "exception": false,
     "start_time": "2022-08-30T23:53:34.153614",
     "status": "completed"
    },
    "tags": []
   },
   "source": [
    "### Final Model"
   ]
  },
  {
   "cell_type": "code",
   "execution_count": 44,
   "metadata": {
    "execution": {
     "iopub.execute_input": "2022-08-30T23:53:34.221409Z",
     "iopub.status.busy": "2022-08-30T23:53:34.221021Z",
     "iopub.status.idle": "2022-08-30T23:53:34.300006Z",
     "shell.execute_reply": "2022-08-30T23:53:34.299000Z"
    },
    "papermill": {
     "duration": 0.10495,
     "end_time": "2022-08-30T23:53:34.302663",
     "exception": false,
     "start_time": "2022-08-30T23:53:34.197713",
     "status": "completed"
    },
    "tags": []
   },
   "outputs": [],
   "source": [
    "x = Concatenate()(output_layers)\n",
    "x = Dropout(0.2)(x)\n",
    "x = Dense(300, activation = 'relu')(x)\n",
    "x = Dropout(0.2)(x)\n",
    "x = Dense(200, activation = 'relu')(x)\n",
    "x = Dropout(0.1)(x)\n",
    "x = Dense(8, activation = 'relu')(x)\n",
    "output = Dense(1, activation = 'sigmoid')(x)\n",
    "model = Model(inputs = input_layers, outputs = output)\n",
    "\n",
    "opt = tf.keras.optimizers.Adam(learning_rate = 5e-5)\n",
    "model.compile(optimizer = opt, loss = 'binary_crossentropy', metrics = ['acc', 'AUC'])\n",
    "#model.summary()"
   ]
  },
  {
   "cell_type": "code",
   "execution_count": 45,
   "metadata": {
    "execution": {
     "iopub.execute_input": "2022-08-30T23:53:34.349070Z",
     "iopub.status.busy": "2022-08-30T23:53:34.348656Z",
     "iopub.status.idle": "2022-08-30T23:53:34.353598Z",
     "shell.execute_reply": "2022-08-30T23:53:34.352851Z"
    },
    "papermill": {
     "duration": 0.030389,
     "end_time": "2022-08-30T23:53:34.355568",
     "exception": false,
     "start_time": "2022-08-30T23:53:34.325179",
     "status": "completed"
    },
    "tags": []
   },
   "outputs": [],
   "source": [
    "es = callbacks.EarlyStopping(monitor='val_auc', mode = 'max', patience = 5, verbose = 1, restore_best_weights = True)\n",
    "rlr = callbacks.ReduceLROnPlateau(monitor='val_auc', mode = 'max', factor = 0.1, patience = 3, verbose = 1)"
   ]
  },
  {
   "cell_type": "code",
   "execution_count": 46,
   "metadata": {
    "execution": {
     "iopub.execute_input": "2022-08-30T23:53:34.401540Z",
     "iopub.status.busy": "2022-08-30T23:53:34.401156Z",
     "iopub.status.idle": "2022-08-30T23:56:49.585276Z",
     "shell.execute_reply": "2022-08-30T23:56:49.583627Z"
    },
    "papermill": {
     "duration": 195.210459,
     "end_time": "2022-08-30T23:56:49.588012",
     "exception": false,
     "start_time": "2022-08-30T23:53:34.377553",
     "status": "completed"
    },
    "tags": []
   },
   "outputs": [
    {
     "name": "stderr",
     "output_type": "stream",
     "text": [
      "2022-08-30 23:53:34.690559: I tensorflow/compiler/mlir/mlir_graph_optimization_pass.cc:185] None of the MLIR Optimization Passes are enabled (registered 2)\n"
     ]
    },
    {
     "name": "stdout",
     "output_type": "stream",
     "text": [
      "Epoch 1/100\n",
      "540/540 [==============================] - 16s 22ms/step - loss: 0.5336 - acc: 0.8105 - auc: 0.5181 - val_loss: 0.4709 - val_acc: 0.8122 - val_auc: 0.6647\n",
      "Epoch 2/100\n",
      "540/540 [==============================] - 11s 20ms/step - loss: 0.4542 - acc: 0.8129 - auc: 0.6949 - val_loss: 0.4326 - val_acc: 0.8122 - val_auc: 0.7491\n",
      "Epoch 3/100\n",
      "540/540 [==============================] - 10s 19ms/step - loss: 0.4228 - acc: 0.8134 - auc: 0.7468 - val_loss: 0.4078 - val_acc: 0.8186 - val_auc: 0.7748\n",
      "Epoch 4/100\n",
      "540/540 [==============================] - 11s 20ms/step - loss: 0.4120 - acc: 0.8204 - auc: 0.7636 - val_loss: 0.4026 - val_acc: 0.8245 - val_auc: 0.7822\n",
      "Epoch 5/100\n",
      "540/540 [==============================] - 10s 19ms/step - loss: 0.4081 - acc: 0.8219 - auc: 0.7703 - val_loss: 0.4004 - val_acc: 0.8255 - val_auc: 0.7850\n",
      "Epoch 6/100\n",
      "540/540 [==============================] - 10s 19ms/step - loss: 0.4052 - acc: 0.8228 - auc: 0.7749 - val_loss: 0.3992 - val_acc: 0.8260 - val_auc: 0.7862\n",
      "Epoch 7/100\n",
      "540/540 [==============================] - 11s 20ms/step - loss: 0.4036 - acc: 0.8229 - auc: 0.7774 - val_loss: 0.3986 - val_acc: 0.8262 - val_auc: 0.7868\n",
      "Epoch 8/100\n",
      "540/540 [==============================] - 10s 19ms/step - loss: 0.4020 - acc: 0.8234 - auc: 0.7796 - val_loss: 0.3981 - val_acc: 0.8264 - val_auc: 0.7873\n",
      "Epoch 9/100\n",
      "540/540 [==============================] - 10s 19ms/step - loss: 0.4013 - acc: 0.8235 - auc: 0.7808 - val_loss: 0.3977 - val_acc: 0.8267 - val_auc: 0.7874\n",
      "Epoch 10/100\n",
      "540/540 [==============================] - 11s 20ms/step - loss: 0.4001 - acc: 0.8242 - auc: 0.7823 - val_loss: 0.3975 - val_acc: 0.8257 - val_auc: 0.7875\n",
      "Epoch 11/100\n",
      "540/540 [==============================] - 10s 19ms/step - loss: 0.3993 - acc: 0.8247 - auc: 0.7836 - val_loss: 0.3973 - val_acc: 0.8259 - val_auc: 0.7876\n",
      "Epoch 12/100\n",
      "540/540 [==============================] - 10s 19ms/step - loss: 0.3987 - acc: 0.8249 - auc: 0.7845 - val_loss: 0.3973 - val_acc: 0.8255 - val_auc: 0.7876\n",
      "Epoch 13/100\n",
      "540/540 [==============================] - 11s 20ms/step - loss: 0.3983 - acc: 0.8249 - auc: 0.7849 - val_loss: 0.3970 - val_acc: 0.8256 - val_auc: 0.7877\n",
      "Epoch 14/100\n",
      "540/540 [==============================] - 10s 19ms/step - loss: 0.3980 - acc: 0.8247 - auc: 0.7853 - val_loss: 0.3969 - val_acc: 0.8257 - val_auc: 0.7876\n",
      "\n",
      "Epoch 00014: ReduceLROnPlateau reducing learning rate to 4.999999873689376e-06.\n",
      "Epoch 15/100\n",
      "540/540 [==============================] - 10s 19ms/step - loss: 0.3971 - acc: 0.8252 - auc: 0.7867 - val_loss: 0.3968 - val_acc: 0.8257 - val_auc: 0.7876\n",
      "Epoch 16/100\n",
      "540/540 [==============================] - 11s 20ms/step - loss: 0.3969 - acc: 0.8254 - auc: 0.7868 - val_loss: 0.3969 - val_acc: 0.8257 - val_auc: 0.7876\n",
      "Epoch 17/100\n",
      "540/540 [==============================] - 10s 19ms/step - loss: 0.3976 - acc: 0.8252 - auc: 0.7858 - val_loss: 0.3969 - val_acc: 0.8256 - val_auc: 0.7875\n",
      "\n",
      "Epoch 00017: ReduceLROnPlateau reducing learning rate to 4.999999873689376e-07.\n",
      "Epoch 18/100\n",
      "540/540 [==============================] - 11s 20ms/step - loss: 0.3970 - acc: 0.8253 - auc: 0.7868 - val_loss: 0.3969 - val_acc: 0.8256 - val_auc: 0.7875\n",
      "Restoring model weights from the end of the best epoch.\n",
      "Epoch 00018: early stopping\n"
     ]
    }
   ],
   "source": [
    "history = model.fit(X_train_arr, y_train.values, epochs = 100, batch_size = 1000,\n",
    "                   validation_data = (X_val_arr, y_val.values), callbacks = [es, rlr])"
   ]
  },
  {
   "cell_type": "code",
   "execution_count": 47,
   "metadata": {
    "execution": {
     "iopub.execute_input": "2022-08-30T23:56:50.133670Z",
     "iopub.status.busy": "2022-08-30T23:56:50.133279Z",
     "iopub.status.idle": "2022-08-30T23:56:50.572462Z",
     "shell.execute_reply": "2022-08-30T23:56:50.571347Z"
    },
    "papermill": {
     "duration": 0.667284,
     "end_time": "2022-08-30T23:56:50.574819",
     "exception": false,
     "start_time": "2022-08-30T23:56:49.907535",
     "status": "completed"
    },
    "tags": []
   },
   "outputs": [
    {
     "data": {
      "image/png": "[encoded data removed]",
      "text/plain": [
       "<Figure size 1440x360 with 3 Axes>"
      ]
     },
     "metadata": {
      "needs_background": "light"
     },
     "output_type": "display_data"
    }
   ],
   "source": [
    "loss = history.history['loss']\n",
    "val_loss = history.history['val_loss']\n",
    "\n",
    "acc = history.history['acc']\n",
    "val_acc = history.history['val_acc']\n",
    "\n",
    "auc = history.history['auc']\n",
    "val_auc = history.history['val_auc']\n",
    "\n",
    "epochs = range(1, len(loss) + 1)\n",
    "\n",
    "plt.figure(figsize=(20, 5))\n",
    "\n",
    "#loss\n",
    "plt.subplot(1,3,1)\n",
    "plt.plot(epochs, loss, 'bo', label = 'Trainig loss')\n",
    "plt.plot(epochs, val_loss, 'r', label = 'Validation loss')\n",
    "plt.legend()\n",
    "\n",
    "#accuracy\n",
    "plt.subplot(1,3,2)\n",
    "plt.plot(epochs, acc, 'bo', label = 'Training accuracy')\n",
    "plt.plot(epochs, val_acc, 'r', label = 'Validation accuracy')\n",
    "plt.legend()\n",
    "\n",
    "#auc\n",
    "plt.subplot(1,3,3)\n",
    "plt.plot(epochs, auc, 'bo', label = 'Trainig auc')\n",
    "plt.plot(epochs, val_auc, 'r', label = 'Validation auc')\n",
    "plt.legend()\n",
    " \n",
    "plt.show()"
   ]
  },
  {
   "cell_type": "markdown",
   "metadata": {
    "papermill": {
     "duration": 0.224069,
     "end_time": "2022-08-30T23:56:51.022346",
     "exception": false,
     "start_time": "2022-08-30T23:56:50.798277",
     "status": "completed"
    },
    "tags": []
   },
   "source": [
    "## Submission"
   ]
  },
  {
   "cell_type": "code",
   "execution_count": 48,
   "metadata": {
    "execution": {
     "iopub.execute_input": "2022-08-30T23:56:51.477344Z",
     "iopub.status.busy": "2022-08-30T23:56:51.476585Z",
     "iopub.status.idle": "2022-08-30T23:57:14.639644Z",
     "shell.execute_reply": "2022-08-30T23:57:14.638421Z"
    },
    "papermill": {
     "duration": 23.393957,
     "end_time": "2022-08-30T23:57:14.642847",
     "exception": false,
     "start_time": "2022-08-30T23:56:51.248890",
     "status": "completed"
    },
    "tags": []
   },
   "outputs": [],
   "source": [
    "submission = test_df.id.to_frame()\n",
    "submission['target'] = [pred[0] for pred in model.predict(X_test_arr)]\n",
    "submission.to_csv('sub.csv', index = False)"
   ]
  }
 ],
 "metadata": {
  "kernelspec": {
   "display_name": "Python 3",
   "language": "python",
   "name": "python3"
  },
  "language_info": {
   "codemirror_mode": {
    "name": "ipython",
    "version": 3
   },
   "file_extension": ".py",
   "mimetype": "text/x-python",
   "name": "python",
   "nbconvert_exporter": "python",
   "pygments_lexer": "ipython3",
   "version": "3.7.6"
  },
  "papermill": {
   "default_parameters": {},
   "duration": 353.672009,
   "end_time": "2022-08-30T23:57:17.873888",
   "environment_variables": {},
   "exception": null,
   "input_path": "__notebook__.ipynb",
   "output_path": "__notebook__.ipynb",
   "parameters": {},
   "start_time": "2022-08-30T23:51:24.201879",
   "version": "2.3.4"
  }
 },
 "nbformat": 4,
 "nbformat_minor": 5
}
