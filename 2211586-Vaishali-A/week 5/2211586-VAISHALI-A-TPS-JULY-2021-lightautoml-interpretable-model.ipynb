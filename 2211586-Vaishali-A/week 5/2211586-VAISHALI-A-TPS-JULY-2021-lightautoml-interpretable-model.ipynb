{
 "cells": [
  {
   "cell_type": "code",
   "execution_count": 1,
   "metadata": {
    "_kg_hide-output": true,
    "execution": {
     "iopub.execute_input": "2023-04-10T07:11:28.146752Z",
     "iopub.status.busy": "2023-04-10T07:11:28.146341Z",
     "iopub.status.idle": "2023-04-10T07:11:41.882172Z",
     "shell.execute_reply": "2023-04-10T07:11:41.881213Z",
     "shell.execute_reply.started": "2023-04-10T07:11:28.146713Z"
    },
    "scrolled": true
   },
   "outputs": [
    {
     "name": "stdout",
     "output_type": "stream",
     "text": [
      "Collecting autowoe\n",
      "  Downloading AutoWoE-1.3.2-py3-none-any.whl (215 kB)\n",
      "\u001b[2K     \u001b[90m━━━━━━━━━━━━━━━━━━━━━━━━━━━━━━━━━━━━━━━\u001b[0m \u001b[32m215.7/215.7 kB\u001b[0m \u001b[31m9.4 MB/s\u001b[0m eta \u001b[36m0:00:00\u001b[0m\n",
      "\u001b[?25hRequirement already satisfied: numpy in /opt/conda/lib/python3.7/site-packages (from autowoe) (1.21.6)\n",
      "Requirement already satisfied: scipy in /opt/conda/lib/python3.7/site-packages (from autowoe) (1.7.3)\n",
      "Requirement already satisfied: lightgbm in /opt/conda/lib/python3.7/site-packages (from autowoe) (3.3.2)\n",
      "Collecting StrEnum<0.5.0,>=0.4.7\n",
      "  Downloading StrEnum-0.4.10-py3-none-any.whl (7.7 kB)\n",
      "Requirement already satisfied: sphinx-rtd-theme in /opt/conda/lib/python3.7/site-packages (from autowoe) (0.2.4)\n",
      "Requirement already satisfied: pytest in /opt/conda/lib/python3.7/site-packages (from autowoe) (7.2.2)\n",
      "Requirement already satisfied: tqdm<5.0.0,>=4.62.3 in /opt/conda/lib/python3.7/site-packages (from autowoe) (4.64.1)\n",
      "Requirement already satisfied: pandas in /opt/conda/lib/python3.7/site-packages (from autowoe) (1.3.5)\n",
      "Requirement already satisfied: scikit-learn in /opt/conda/lib/python3.7/site-packages (from autowoe) (1.0.2)\n",
      "Requirement already satisfied: pytz in /opt/conda/lib/python3.7/site-packages (from autowoe) (2022.7.1)\n",
      "Collecting sphinx\n",
      "  Downloading sphinx-5.3.0-py3-none-any.whl (3.2 MB)\n",
      "\u001b[2K     \u001b[90m━━━━━━━━━━━━━━━━━━━━━━━━━━━━━━━━━━━━━━━━\u001b[0m \u001b[32m3.2/3.2 MB\u001b[0m \u001b[31m71.5 MB/s\u001b[0m eta \u001b[36m0:00:00\u001b[0m:00:01\u001b[0m\n",
      "\u001b[?25hRequirement already satisfied: matplotlib in /opt/conda/lib/python3.7/site-packages (from autowoe) (3.5.3)\n",
      "Requirement already satisfied: seaborn in /opt/conda/lib/python3.7/site-packages (from autowoe) (0.12.2)\n",
      "Requirement already satisfied: jinja2 in /opt/conda/lib/python3.7/site-packages (from autowoe) (3.1.2)\n",
      "Requirement already satisfied: joblib in /opt/conda/lib/python3.7/site-packages (from autowoe) (1.2.0)\n",
      "Requirement already satisfied: MarkupSafe>=2.0 in /opt/conda/lib/python3.7/site-packages (from jinja2->autowoe) (2.1.1)\n",
      "Requirement already satisfied: wheel in /opt/conda/lib/python3.7/site-packages (from lightgbm->autowoe) (0.38.4)\n",
      "Requirement already satisfied: threadpoolctl>=2.0.0 in /opt/conda/lib/python3.7/site-packages (from scikit-learn->autowoe) (3.1.0)\n",
      "Requirement already satisfied: packaging>=20.0 in /opt/conda/lib/python3.7/site-packages (from matplotlib->autowoe) (23.0)\n",
      "Requirement already satisfied: pillow>=6.2.0 in /opt/conda/lib/python3.7/site-packages (from matplotlib->autowoe) (9.4.0)\n",
      "Requirement already satisfied: cycler>=0.10 in /opt/conda/lib/python3.7/site-packages (from matplotlib->autowoe) (0.11.0)\n",
      "Requirement already satisfied: pyparsing>=2.2.1 in /opt/conda/lib/python3.7/site-packages (from matplotlib->autowoe) (3.0.9)\n",
      "Requirement already satisfied: kiwisolver>=1.0.1 in /opt/conda/lib/python3.7/site-packages (from matplotlib->autowoe) (1.4.4)\n",
      "Requirement already satisfied: fonttools>=4.22.0 in /opt/conda/lib/python3.7/site-packages (from matplotlib->autowoe) (4.38.0)\n",
      "Requirement already satisfied: python-dateutil>=2.7 in /opt/conda/lib/python3.7/site-packages (from matplotlib->autowoe) (2.8.2)\n",
      "Requirement already satisfied: exceptiongroup>=1.0.0rc8 in /opt/conda/lib/python3.7/site-packages (from pytest->autowoe) (1.1.1)\n",
      "Requirement already satisfied: importlib-metadata>=0.12 in /opt/conda/lib/python3.7/site-packages (from pytest->autowoe) (4.11.4)\n",
      "Requirement already satisfied: tomli>=1.0.0 in /opt/conda/lib/python3.7/site-packages (from pytest->autowoe) (2.0.1)\n",
      "Requirement already satisfied: attrs>=19.2.0 in /opt/conda/lib/python3.7/site-packages (from pytest->autowoe) (22.2.0)\n",
      "Requirement already satisfied: iniconfig in /opt/conda/lib/python3.7/site-packages (from pytest->autowoe) (2.0.0)\n",
      "Requirement already satisfied: pluggy<2.0,>=0.12 in /opt/conda/lib/python3.7/site-packages (from pytest->autowoe) (1.0.0)\n",
      "Requirement already satisfied: typing_extensions in /opt/conda/lib/python3.7/site-packages (from seaborn->autowoe) (4.4.0)\n",
      "Collecting imagesize>=1.3\n",
      "  Downloading imagesize-1.4.1-py2.py3-none-any.whl (8.8 kB)\n",
      "Requirement already satisfied: requests>=2.5.0 in /opt/conda/lib/python3.7/site-packages (from sphinx->autowoe) (2.28.2)\n",
      "Collecting sphinxcontrib-serializinghtml>=1.1.5\n",
      "  Downloading sphinxcontrib_serializinghtml-1.1.5-py2.py3-none-any.whl (94 kB)\n",
      "\u001b[2K     \u001b[90m━━━━━━━━━━━━━━━━━━━━━━━━━━━━━━━━━━━━━━━━\u001b[0m \u001b[32m94.0/94.0 kB\u001b[0m \u001b[31m8.0 MB/s\u001b[0m eta \u001b[36m0:00:00\u001b[0m\n",
      "\u001b[?25hCollecting sphinxcontrib-jsmath\n",
      "  Downloading sphinxcontrib_jsmath-1.0.1-py2.py3-none-any.whl (5.1 kB)\n",
      "Collecting sphinxcontrib-devhelp\n",
      "  Downloading sphinxcontrib_devhelp-1.0.2-py2.py3-none-any.whl (84 kB)\n",
      "\u001b[2K     \u001b[90m━━━━━━━━━━━━━━━━━━━━━━━━━━━━━━━━━━━━━━━━\u001b[0m \u001b[32m84.7/84.7 kB\u001b[0m \u001b[31m8.3 MB/s\u001b[0m eta \u001b[36m0:00:00\u001b[0m\n",
      "\u001b[?25hRequirement already satisfied: docutils<0.20,>=0.14 in /opt/conda/lib/python3.7/site-packages (from sphinx->autowoe) (0.19)\n",
      "Collecting alabaster<0.8,>=0.7\n",
      "  Downloading alabaster-0.7.13-py3-none-any.whl (13 kB)\n",
      "Requirement already satisfied: snowballstemmer>=2.0 in /opt/conda/lib/python3.7/site-packages (from sphinx->autowoe) (2.2.0)\n",
      "Requirement already satisfied: Pygments>=2.12 in /opt/conda/lib/python3.7/site-packages (from sphinx->autowoe) (2.14.0)\n",
      "Requirement already satisfied: babel>=2.9 in /opt/conda/lib/python3.7/site-packages (from sphinx->autowoe) (2.11.0)\n",
      "Collecting sphinxcontrib-applehelp\n",
      "  Downloading sphinxcontrib_applehelp-1.0.2-py2.py3-none-any.whl (121 kB)\n",
      "\u001b[2K     \u001b[90m━━━━━━━━━━━━━━━━━━━━━━━━━━━━━━━━━━━━━━\u001b[0m \u001b[32m121.2/121.2 kB\u001b[0m \u001b[31m13.0 MB/s\u001b[0m eta \u001b[36m0:00:00\u001b[0m\n",
      "\u001b[?25hCollecting sphinxcontrib-qthelp\n",
      "  Downloading sphinxcontrib_qthelp-1.0.3-py2.py3-none-any.whl (90 kB)\n",
      "\u001b[2K     \u001b[90m━━━━━━━━━━━━━━━━━━━━━━━━━━━━━━━━━━━━━━━━\u001b[0m \u001b[32m90.6/90.6 kB\u001b[0m \u001b[31m8.5 MB/s\u001b[0m eta \u001b[36m0:00:00\u001b[0m\n",
      "\u001b[?25hCollecting sphinxcontrib-htmlhelp>=2.0.0\n",
      "  Downloading sphinxcontrib_htmlhelp-2.0.0-py2.py3-none-any.whl (100 kB)\n",
      "\u001b[2K     \u001b[90m━━━━━━━━━━━━━━━━━━━━━━━━━━━━━━━━━━━━━━━\u001b[0m \u001b[32m100.5/100.5 kB\u001b[0m \u001b[31m9.9 MB/s\u001b[0m eta \u001b[36m0:00:00\u001b[0m\n",
      "\u001b[?25hRequirement already satisfied: zipp>=0.5 in /opt/conda/lib/python3.7/site-packages (from importlib-metadata>=0.12->pytest->autowoe) (3.11.0)\n",
      "Requirement already satisfied: six>=1.5 in /opt/conda/lib/python3.7/site-packages (from python-dateutil>=2.7->matplotlib->autowoe) (1.16.0)\n",
      "Requirement already satisfied: certifi>=2017.4.17 in /opt/conda/lib/python3.7/site-packages (from requests>=2.5.0->sphinx->autowoe) (2022.12.7)\n",
      "Requirement already satisfied: idna<4,>=2.5 in /opt/conda/lib/python3.7/site-packages (from requests>=2.5.0->sphinx->autowoe) (3.4)\n",
      "Requirement already satisfied: charset-normalizer<4,>=2 in /opt/conda/lib/python3.7/site-packages (from requests>=2.5.0->sphinx->autowoe) (2.1.1)\n",
      "Requirement already satisfied: urllib3<1.27,>=1.21.1 in /opt/conda/lib/python3.7/site-packages (from requests>=2.5.0->sphinx->autowoe) (1.26.14)\n",
      "Installing collected packages: StrEnum, sphinxcontrib-serializinghtml, sphinxcontrib-qthelp, sphinxcontrib-jsmath, sphinxcontrib-htmlhelp, sphinxcontrib-devhelp, sphinxcontrib-applehelp, imagesize, alabaster, sphinx, autowoe\n",
      "Successfully installed StrEnum-0.4.10 alabaster-0.7.13 autowoe-1.3.2 imagesize-1.4.1 sphinx-5.3.0 sphinxcontrib-applehelp-1.0.2 sphinxcontrib-devhelp-1.0.2 sphinxcontrib-htmlhelp-2.0.0 sphinxcontrib-jsmath-1.0.1 sphinxcontrib-qthelp-1.0.3 sphinxcontrib-serializinghtml-1.1.5\n",
      "\u001b[33mWARNING: Running pip as the 'root' user can result in broken permissions and conflicting behaviour with the system package manager. It is recommended to use a virtual environment instead: https://pip.pypa.io/warnings/venv\u001b[0m\u001b[33m\n",
      "\u001b[0m"
     ]
    }
   ],
   "source": [
    "!pip install -U autowoe"
   ]
  },
  {
   "cell_type": "markdown",
   "metadata": {},
   "source": [
    "# Imports "
   ]
  },
  {
   "cell_type": "code",
   "execution_count": 2,
   "metadata": {
    "execution": {
     "iopub.execute_input": "2023-04-10T07:11:41.885305Z",
     "iopub.status.busy": "2023-04-10T07:11:41.884734Z",
     "iopub.status.idle": "2023-04-10T07:11:43.965761Z",
     "shell.execute_reply": "2023-04-10T07:11:43.964571Z",
     "shell.execute_reply.started": "2023-04-10T07:11:41.885236Z"
    }
   },
   "outputs": [
    {
     "data": {
      "text/html": [
       "<style type='text/css'>\n",
       ".datatable table.frame { margin-bottom: 0; }\n",
       ".datatable table.frame thead { border-bottom: none; }\n",
       ".datatable table.frame tr.coltypes td {  color: #FFFFFF;  line-height: 6px;  padding: 0 0.5em;}\n",
       ".datatable .bool    { background: #DDDD99; }\n",
       ".datatable .object  { background: #565656; }\n",
       ".datatable .int     { background: #5D9E5D; }\n",
       ".datatable .float   { background: #4040CC; }\n",
       ".datatable .str     { background: #CC4040; }\n",
       ".datatable .time    { background: #40CC40; }\n",
       ".datatable .row_index {  background: var(--jp-border-color3);  border-right: 1px solid var(--jp-border-color0);  color: var(--jp-ui-font-color3);  font-size: 9px;}\n",
       ".datatable .frame tbody td { text-align: left; }\n",
       ".datatable .frame tr.coltypes .row_index {  background: var(--jp-border-color0);}\n",
       ".datatable th:nth-child(2) { padding-left: 12px; }\n",
       ".datatable .hellipsis {  color: var(--jp-cell-editor-border-color);}\n",
       ".datatable .vellipsis {  background: var(--jp-layout-color0);  color: var(--jp-cell-editor-border-color);}\n",
       ".datatable .na {  color: var(--jp-cell-editor-border-color);  font-size: 80%;}\n",
       ".datatable .sp {  opacity: 0.25;}\n",
       ".datatable .footer { font-size: 9px; }\n",
       ".datatable .frame_dimensions {  background: var(--jp-border-color3);  border-top: 1px solid var(--jp-border-color0);  color: var(--jp-ui-font-color3);  display: inline-block;  opacity: 0.6;  padding: 1px 10px 1px 5px;}\n",
       "</style>\n"
      ],
      "text/plain": [
       "<IPython.core.display.HTML object>"
      ]
     },
     "metadata": {},
     "output_type": "display_data"
    }
   ],
   "source": [
    "%matplotlib inline\n",
    "\n",
    "import pandas as pd\n",
    "import numpy as np\n",
    "\n",
    "from sklearn.metrics import accuracy_score, f1_score\n",
    "from sklearn.model_selection import train_test_split\n",
    "from matplotlib import pyplot as plt\n",
    "\n",
    "from autowoe import AutoWoE, ReportDeco"
   ]
  },
  {
   "cell_type": "markdown",
   "metadata": {},
   "source": [
    "# Data loading"
   ]
  },
  {
   "cell_type": "code",
   "execution_count": 3,
   "metadata": {
    "execution": {
     "iopub.execute_input": "2023-04-10T07:11:43.967651Z",
     "iopub.status.busy": "2023-04-10T07:11:43.967270Z",
     "iopub.status.idle": "2023-04-10T07:11:44.275085Z",
     "shell.execute_reply": "2023-04-10T07:11:44.273955Z",
     "shell.execute_reply.started": "2023-04-10T07:11:43.967614Z"
    }
   },
   "outputs": [
    {
     "data": {
      "text/html": [
       "<div>\n",
       "<style scoped>\n",
       "    .dataframe tbody tr th:only-of-type {\n",
       "        vertical-align: middle;\n",
       "    }\n",
       "\n",
       "    .dataframe tbody tr th {\n",
       "        vertical-align: top;\n",
       "    }\n",
       "\n",
       "    .dataframe thead th {\n",
       "        text-align: right;\n",
       "    }\n",
       "</style>\n",
       "<table border=\"1\" class=\"dataframe\">\n",
       "  <thead>\n",
       "    <tr style=\"text-align: right;\">\n",
       "      <th></th>\n",
       "      <th>PassengerId</th>\n",
       "      <th>Survived</th>\n",
       "      <th>Pclass</th>\n",
       "      <th>Name</th>\n",
       "      <th>Sex</th>\n",
       "      <th>Age</th>\n",
       "      <th>SibSp</th>\n",
       "      <th>Parch</th>\n",
       "      <th>Ticket</th>\n",
       "      <th>Fare</th>\n",
       "      <th>Cabin</th>\n",
       "      <th>Embarked</th>\n",
       "    </tr>\n",
       "  </thead>\n",
       "  <tbody>\n",
       "    <tr>\n",
       "      <th>0</th>\n",
       "      <td>0</td>\n",
       "      <td>1</td>\n",
       "      <td>1</td>\n",
       "      <td>Oconnor, Frankie</td>\n",
       "      <td>male</td>\n",
       "      <td>NaN</td>\n",
       "      <td>2</td>\n",
       "      <td>0</td>\n",
       "      <td>209245</td>\n",
       "      <td>27.14</td>\n",
       "      <td>C12239</td>\n",
       "      <td>S</td>\n",
       "    </tr>\n",
       "    <tr>\n",
       "      <th>1</th>\n",
       "      <td>1</td>\n",
       "      <td>0</td>\n",
       "      <td>3</td>\n",
       "      <td>Bryan, Drew</td>\n",
       "      <td>male</td>\n",
       "      <td>NaN</td>\n",
       "      <td>0</td>\n",
       "      <td>0</td>\n",
       "      <td>27323</td>\n",
       "      <td>13.35</td>\n",
       "      <td>NaN</td>\n",
       "      <td>S</td>\n",
       "    </tr>\n",
       "    <tr>\n",
       "      <th>2</th>\n",
       "      <td>2</td>\n",
       "      <td>0</td>\n",
       "      <td>3</td>\n",
       "      <td>Owens, Kenneth</td>\n",
       "      <td>male</td>\n",
       "      <td>0.33</td>\n",
       "      <td>1</td>\n",
       "      <td>2</td>\n",
       "      <td>CA 457703</td>\n",
       "      <td>71.29</td>\n",
       "      <td>NaN</td>\n",
       "      <td>S</td>\n",
       "    </tr>\n",
       "    <tr>\n",
       "      <th>3</th>\n",
       "      <td>3</td>\n",
       "      <td>0</td>\n",
       "      <td>3</td>\n",
       "      <td>Kramer, James</td>\n",
       "      <td>male</td>\n",
       "      <td>19.00</td>\n",
       "      <td>0</td>\n",
       "      <td>0</td>\n",
       "      <td>A. 10866</td>\n",
       "      <td>13.04</td>\n",
       "      <td>NaN</td>\n",
       "      <td>S</td>\n",
       "    </tr>\n",
       "    <tr>\n",
       "      <th>4</th>\n",
       "      <td>4</td>\n",
       "      <td>1</td>\n",
       "      <td>3</td>\n",
       "      <td>Bond, Michael</td>\n",
       "      <td>male</td>\n",
       "      <td>25.00</td>\n",
       "      <td>0</td>\n",
       "      <td>0</td>\n",
       "      <td>427635</td>\n",
       "      <td>7.76</td>\n",
       "      <td>NaN</td>\n",
       "      <td>S</td>\n",
       "    </tr>\n",
       "    <tr>\n",
       "      <th>...</th>\n",
       "      <td>...</td>\n",
       "      <td>...</td>\n",
       "      <td>...</td>\n",
       "      <td>...</td>\n",
       "      <td>...</td>\n",
       "      <td>...</td>\n",
       "      <td>...</td>\n",
       "      <td>...</td>\n",
       "      <td>...</td>\n",
       "      <td>...</td>\n",
       "      <td>...</td>\n",
       "      <td>...</td>\n",
       "    </tr>\n",
       "    <tr>\n",
       "      <th>99995</th>\n",
       "      <td>99995</td>\n",
       "      <td>1</td>\n",
       "      <td>2</td>\n",
       "      <td>Bell, Adele</td>\n",
       "      <td>female</td>\n",
       "      <td>62.00</td>\n",
       "      <td>0</td>\n",
       "      <td>0</td>\n",
       "      <td>PC 15008</td>\n",
       "      <td>14.86</td>\n",
       "      <td>D17243</td>\n",
       "      <td>C</td>\n",
       "    </tr>\n",
       "    <tr>\n",
       "      <th>99996</th>\n",
       "      <td>99996</td>\n",
       "      <td>0</td>\n",
       "      <td>2</td>\n",
       "      <td>Brown, Herman</td>\n",
       "      <td>male</td>\n",
       "      <td>66.00</td>\n",
       "      <td>0</td>\n",
       "      <td>0</td>\n",
       "      <td>13273</td>\n",
       "      <td>11.15</td>\n",
       "      <td>NaN</td>\n",
       "      <td>S</td>\n",
       "    </tr>\n",
       "    <tr>\n",
       "      <th>99997</th>\n",
       "      <td>99997</td>\n",
       "      <td>0</td>\n",
       "      <td>3</td>\n",
       "      <td>Childress, Charles</td>\n",
       "      <td>male</td>\n",
       "      <td>37.00</td>\n",
       "      <td>0</td>\n",
       "      <td>0</td>\n",
       "      <td>NaN</td>\n",
       "      <td>9.95</td>\n",
       "      <td>NaN</td>\n",
       "      <td>S</td>\n",
       "    </tr>\n",
       "    <tr>\n",
       "      <th>99998</th>\n",
       "      <td>99998</td>\n",
       "      <td>0</td>\n",
       "      <td>3</td>\n",
       "      <td>Caughlin, Thomas</td>\n",
       "      <td>male</td>\n",
       "      <td>51.00</td>\n",
       "      <td>0</td>\n",
       "      <td>1</td>\n",
       "      <td>458654</td>\n",
       "      <td>30.92</td>\n",
       "      <td>NaN</td>\n",
       "      <td>S</td>\n",
       "    </tr>\n",
       "    <tr>\n",
       "      <th>99999</th>\n",
       "      <td>99999</td>\n",
       "      <td>0</td>\n",
       "      <td>3</td>\n",
       "      <td>Enciso, Tyler</td>\n",
       "      <td>male</td>\n",
       "      <td>55.00</td>\n",
       "      <td>0</td>\n",
       "      <td>0</td>\n",
       "      <td>458074</td>\n",
       "      <td>13.96</td>\n",
       "      <td>NaN</td>\n",
       "      <td>S</td>\n",
       "    </tr>\n",
       "  </tbody>\n",
       "</table>\n",
       "<p>100000 rows × 12 columns</p>\n",
       "</div>"
      ],
      "text/plain": [
       "       PassengerId  Survived  Pclass                Name     Sex    Age  \\\n",
       "0                0         1       1    Oconnor, Frankie    male    NaN   \n",
       "1                1         0       3         Bryan, Drew    male    NaN   \n",
       "2                2         0       3      Owens, Kenneth    male   0.33   \n",
       "3                3         0       3       Kramer, James    male  19.00   \n",
       "4                4         1       3       Bond, Michael    male  25.00   \n",
       "...            ...       ...     ...                 ...     ...    ...   \n",
       "99995        99995         1       2         Bell, Adele  female  62.00   \n",
       "99996        99996         0       2       Brown, Herman    male  66.00   \n",
       "99997        99997         0       3  Childress, Charles    male  37.00   \n",
       "99998        99998         0       3    Caughlin, Thomas    male  51.00   \n",
       "99999        99999         0       3       Enciso, Tyler    male  55.00   \n",
       "\n",
       "       SibSp  Parch     Ticket   Fare   Cabin Embarked  \n",
       "0          2      0     209245  27.14  C12239        S  \n",
       "1          0      0      27323  13.35     NaN        S  \n",
       "2          1      2  CA 457703  71.29     NaN        S  \n",
       "3          0      0   A. 10866  13.04     NaN        S  \n",
       "4          0      0     427635   7.76     NaN        S  \n",
       "...      ...    ...        ...    ...     ...      ...  \n",
       "99995      0      0   PC 15008  14.86  D17243        C  \n",
       "99996      0      0      13273  11.15     NaN        S  \n",
       "99997      0      0        NaN   9.95     NaN        S  \n",
       "99998      0      1     458654  30.92     NaN        S  \n",
       "99999      0      0     458074  13.96     NaN        S  \n",
       "\n",
       "[100000 rows x 12 columns]"
      ]
     },
     "execution_count": 3,
     "metadata": {},
     "output_type": "execute_result"
    }
   ],
   "source": [
    "INPUT_PATH = '../input/tabular-playground-series-apr-2021/'\n",
    "train_data = pd.read_csv(INPUT_PATH + 'train.csv')\n",
    "train_data"
   ]
  },
  {
   "cell_type": "code",
   "execution_count": 4,
   "metadata": {
    "execution": {
     "iopub.execute_input": "2023-04-10T07:11:44.277824Z",
     "iopub.status.busy": "2023-04-10T07:11:44.276897Z",
     "iopub.status.idle": "2023-04-10T07:11:44.548574Z",
     "shell.execute_reply": "2023-04-10T07:11:44.547595Z",
     "shell.execute_reply.started": "2023-04-10T07:11:44.277760Z"
    }
   },
   "outputs": [
    {
     "data": {
      "text/html": [
       "<div>\n",
       "<style scoped>\n",
       "    .dataframe tbody tr th:only-of-type {\n",
       "        vertical-align: middle;\n",
       "    }\n",
       "\n",
       "    .dataframe tbody tr th {\n",
       "        vertical-align: top;\n",
       "    }\n",
       "\n",
       "    .dataframe thead th {\n",
       "        text-align: right;\n",
       "    }\n",
       "</style>\n",
       "<table border=\"1\" class=\"dataframe\">\n",
       "  <thead>\n",
       "    <tr style=\"text-align: right;\">\n",
       "      <th></th>\n",
       "      <th>PassengerId</th>\n",
       "      <th>Pclass</th>\n",
       "      <th>Name</th>\n",
       "      <th>Sex</th>\n",
       "      <th>Age</th>\n",
       "      <th>SibSp</th>\n",
       "      <th>Parch</th>\n",
       "      <th>Ticket</th>\n",
       "      <th>Fare</th>\n",
       "      <th>Cabin</th>\n",
       "      <th>Embarked</th>\n",
       "    </tr>\n",
       "  </thead>\n",
       "  <tbody>\n",
       "    <tr>\n",
       "      <th>0</th>\n",
       "      <td>100000</td>\n",
       "      <td>3</td>\n",
       "      <td>Holliday, Daniel</td>\n",
       "      <td>male</td>\n",
       "      <td>19.0</td>\n",
       "      <td>0</td>\n",
       "      <td>0</td>\n",
       "      <td>24745</td>\n",
       "      <td>63.01</td>\n",
       "      <td>NaN</td>\n",
       "      <td>S</td>\n",
       "    </tr>\n",
       "    <tr>\n",
       "      <th>1</th>\n",
       "      <td>100001</td>\n",
       "      <td>3</td>\n",
       "      <td>Nguyen, Lorraine</td>\n",
       "      <td>female</td>\n",
       "      <td>53.0</td>\n",
       "      <td>0</td>\n",
       "      <td>0</td>\n",
       "      <td>13264</td>\n",
       "      <td>5.81</td>\n",
       "      <td>NaN</td>\n",
       "      <td>S</td>\n",
       "    </tr>\n",
       "    <tr>\n",
       "      <th>2</th>\n",
       "      <td>100002</td>\n",
       "      <td>1</td>\n",
       "      <td>Harris, Heather</td>\n",
       "      <td>female</td>\n",
       "      <td>19.0</td>\n",
       "      <td>0</td>\n",
       "      <td>0</td>\n",
       "      <td>25990</td>\n",
       "      <td>38.91</td>\n",
       "      <td>B15315</td>\n",
       "      <td>C</td>\n",
       "    </tr>\n",
       "    <tr>\n",
       "      <th>3</th>\n",
       "      <td>100003</td>\n",
       "      <td>2</td>\n",
       "      <td>Larsen, Eric</td>\n",
       "      <td>male</td>\n",
       "      <td>25.0</td>\n",
       "      <td>0</td>\n",
       "      <td>0</td>\n",
       "      <td>314011</td>\n",
       "      <td>12.93</td>\n",
       "      <td>NaN</td>\n",
       "      <td>S</td>\n",
       "    </tr>\n",
       "    <tr>\n",
       "      <th>4</th>\n",
       "      <td>100004</td>\n",
       "      <td>1</td>\n",
       "      <td>Cleary, Sarah</td>\n",
       "      <td>female</td>\n",
       "      <td>17.0</td>\n",
       "      <td>0</td>\n",
       "      <td>2</td>\n",
       "      <td>26203</td>\n",
       "      <td>26.89</td>\n",
       "      <td>B22515</td>\n",
       "      <td>C</td>\n",
       "    </tr>\n",
       "    <tr>\n",
       "      <th>...</th>\n",
       "      <td>...</td>\n",
       "      <td>...</td>\n",
       "      <td>...</td>\n",
       "      <td>...</td>\n",
       "      <td>...</td>\n",
       "      <td>...</td>\n",
       "      <td>...</td>\n",
       "      <td>...</td>\n",
       "      <td>...</td>\n",
       "      <td>...</td>\n",
       "      <td>...</td>\n",
       "    </tr>\n",
       "    <tr>\n",
       "      <th>99995</th>\n",
       "      <td>199995</td>\n",
       "      <td>3</td>\n",
       "      <td>Cash, Cheryle</td>\n",
       "      <td>female</td>\n",
       "      <td>27.0</td>\n",
       "      <td>0</td>\n",
       "      <td>0</td>\n",
       "      <td>7686</td>\n",
       "      <td>10.12</td>\n",
       "      <td>NaN</td>\n",
       "      <td>Q</td>\n",
       "    </tr>\n",
       "    <tr>\n",
       "      <th>99996</th>\n",
       "      <td>199996</td>\n",
       "      <td>1</td>\n",
       "      <td>Brown, Howard</td>\n",
       "      <td>male</td>\n",
       "      <td>59.0</td>\n",
       "      <td>1</td>\n",
       "      <td>0</td>\n",
       "      <td>13004</td>\n",
       "      <td>68.31</td>\n",
       "      <td>NaN</td>\n",
       "      <td>S</td>\n",
       "    </tr>\n",
       "    <tr>\n",
       "      <th>99997</th>\n",
       "      <td>199997</td>\n",
       "      <td>3</td>\n",
       "      <td>Lightfoot, Cameron</td>\n",
       "      <td>male</td>\n",
       "      <td>47.0</td>\n",
       "      <td>0</td>\n",
       "      <td>0</td>\n",
       "      <td>4383317</td>\n",
       "      <td>10.87</td>\n",
       "      <td>NaN</td>\n",
       "      <td>S</td>\n",
       "    </tr>\n",
       "    <tr>\n",
       "      <th>99998</th>\n",
       "      <td>199998</td>\n",
       "      <td>1</td>\n",
       "      <td>Jacobsen, Margaret</td>\n",
       "      <td>female</td>\n",
       "      <td>49.0</td>\n",
       "      <td>1</td>\n",
       "      <td>2</td>\n",
       "      <td>PC 26988</td>\n",
       "      <td>29.68</td>\n",
       "      <td>B20828</td>\n",
       "      <td>C</td>\n",
       "    </tr>\n",
       "    <tr>\n",
       "      <th>99999</th>\n",
       "      <td>199999</td>\n",
       "      <td>1</td>\n",
       "      <td>Fishback, Joanna</td>\n",
       "      <td>female</td>\n",
       "      <td>41.0</td>\n",
       "      <td>0</td>\n",
       "      <td>2</td>\n",
       "      <td>PC 41824</td>\n",
       "      <td>195.41</td>\n",
       "      <td>E13345</td>\n",
       "      <td>C</td>\n",
       "    </tr>\n",
       "  </tbody>\n",
       "</table>\n",
       "<p>100000 rows × 11 columns</p>\n",
       "</div>"
      ],
      "text/plain": [
       "       PassengerId  Pclass                Name     Sex   Age  SibSp  Parch  \\\n",
       "0           100000       3    Holliday, Daniel    male  19.0      0      0   \n",
       "1           100001       3    Nguyen, Lorraine  female  53.0      0      0   \n",
       "2           100002       1     Harris, Heather  female  19.0      0      0   \n",
       "3           100003       2        Larsen, Eric    male  25.0      0      0   \n",
       "4           100004       1       Cleary, Sarah  female  17.0      0      2   \n",
       "...            ...     ...                 ...     ...   ...    ...    ...   \n",
       "99995       199995       3       Cash, Cheryle  female  27.0      0      0   \n",
       "99996       199996       1       Brown, Howard    male  59.0      1      0   \n",
       "99997       199997       3  Lightfoot, Cameron    male  47.0      0      0   \n",
       "99998       199998       1  Jacobsen, Margaret  female  49.0      1      2   \n",
       "99999       199999       1    Fishback, Joanna  female  41.0      0      2   \n",
       "\n",
       "         Ticket    Fare   Cabin Embarked  \n",
       "0         24745   63.01     NaN        S  \n",
       "1         13264    5.81     NaN        S  \n",
       "2         25990   38.91  B15315        C  \n",
       "3        314011   12.93     NaN        S  \n",
       "4         26203   26.89  B22515        C  \n",
       "...         ...     ...     ...      ...  \n",
       "99995      7686   10.12     NaN        Q  \n",
       "99996     13004   68.31     NaN        S  \n",
       "99997   4383317   10.87     NaN        S  \n",
       "99998  PC 26988   29.68  B20828        C  \n",
       "99999  PC 41824  195.41  E13345        C  \n",
       "\n",
       "[100000 rows x 11 columns]"
      ]
     },
     "execution_count": 4,
     "metadata": {},
     "output_type": "execute_result"
    }
   ],
   "source": [
    "test_data = pd.read_csv(INPUT_PATH + 'test.csv')\n",
    "test_data"
   ]
  },
  {
   "cell_type": "code",
   "execution_count": 5,
   "metadata": {
    "execution": {
     "iopub.execute_input": "2023-04-10T07:11:44.551497Z",
     "iopub.status.busy": "2023-04-10T07:11:44.550582Z",
     "iopub.status.idle": "2023-04-10T07:11:44.594358Z",
     "shell.execute_reply": "2023-04-10T07:11:44.593358Z",
     "shell.execute_reply.started": "2023-04-10T07:11:44.551463Z"
    }
   },
   "outputs": [
    {
     "data": {
      "text/html": [
       "<div>\n",
       "<style scoped>\n",
       "    .dataframe tbody tr th:only-of-type {\n",
       "        vertical-align: middle;\n",
       "    }\n",
       "\n",
       "    .dataframe tbody tr th {\n",
       "        vertical-align: top;\n",
       "    }\n",
       "\n",
       "    .dataframe thead th {\n",
       "        text-align: right;\n",
       "    }\n",
       "</style>\n",
       "<table border=\"1\" class=\"dataframe\">\n",
       "  <thead>\n",
       "    <tr style=\"text-align: right;\">\n",
       "      <th></th>\n",
       "      <th>PassengerId</th>\n",
       "      <th>Survived</th>\n",
       "    </tr>\n",
       "  </thead>\n",
       "  <tbody>\n",
       "    <tr>\n",
       "      <th>0</th>\n",
       "      <td>100000</td>\n",
       "      <td>1</td>\n",
       "    </tr>\n",
       "    <tr>\n",
       "      <th>1</th>\n",
       "      <td>100001</td>\n",
       "      <td>1</td>\n",
       "    </tr>\n",
       "    <tr>\n",
       "      <th>2</th>\n",
       "      <td>100002</td>\n",
       "      <td>1</td>\n",
       "    </tr>\n",
       "    <tr>\n",
       "      <th>3</th>\n",
       "      <td>100003</td>\n",
       "      <td>1</td>\n",
       "    </tr>\n",
       "    <tr>\n",
       "      <th>4</th>\n",
       "      <td>100004</td>\n",
       "      <td>1</td>\n",
       "    </tr>\n",
       "    <tr>\n",
       "      <th>...</th>\n",
       "      <td>...</td>\n",
       "      <td>...</td>\n",
       "    </tr>\n",
       "    <tr>\n",
       "      <th>99995</th>\n",
       "      <td>199995</td>\n",
       "      <td>1</td>\n",
       "    </tr>\n",
       "    <tr>\n",
       "      <th>99996</th>\n",
       "      <td>199996</td>\n",
       "      <td>1</td>\n",
       "    </tr>\n",
       "    <tr>\n",
       "      <th>99997</th>\n",
       "      <td>199997</td>\n",
       "      <td>1</td>\n",
       "    </tr>\n",
       "    <tr>\n",
       "      <th>99998</th>\n",
       "      <td>199998</td>\n",
       "      <td>1</td>\n",
       "    </tr>\n",
       "    <tr>\n",
       "      <th>99999</th>\n",
       "      <td>199999</td>\n",
       "      <td>1</td>\n",
       "    </tr>\n",
       "  </tbody>\n",
       "</table>\n",
       "<p>100000 rows × 2 columns</p>\n",
       "</div>"
      ],
      "text/plain": [
       "       PassengerId  Survived\n",
       "0           100000         1\n",
       "1           100001         1\n",
       "2           100002         1\n",
       "3           100003         1\n",
       "4           100004         1\n",
       "...            ...       ...\n",
       "99995       199995         1\n",
       "99996       199996         1\n",
       "99997       199997         1\n",
       "99998       199998         1\n",
       "99999       199999         1\n",
       "\n",
       "[100000 rows x 2 columns]"
      ]
     },
     "execution_count": 5,
     "metadata": {},
     "output_type": "execute_result"
    }
   ],
   "source": [
    "submission = pd.read_csv(INPUT_PATH + 'sample_submission.csv')\n",
    "submission"
   ]
  },
  {
   "cell_type": "code",
   "execution_count": 6,
   "metadata": {
    "execution": {
     "iopub.execute_input": "2023-04-10T07:11:44.596376Z",
     "iopub.status.busy": "2023-04-10T07:11:44.595560Z",
     "iopub.status.idle": "2023-04-10T07:11:44.606102Z",
     "shell.execute_reply": "2023-04-10T07:11:44.604938Z",
     "shell.execute_reply.started": "2023-04-10T07:11:44.596312Z"
    }
   },
   "outputs": [
    {
     "name": "stdout",
     "output_type": "stream",
     "text": [
      "TRAIN TARGET MEAN = 0.428\n"
     ]
    }
   ],
   "source": [
    "print('TRAIN TARGET MEAN = {:.3f}'.format(train_data['Survived'].mean()))"
   ]
  },
  {
   "cell_type": "markdown",
   "metadata": {},
   "source": [
    "# Extra features creation"
   ]
  },
  {
   "cell_type": "code",
   "execution_count": 7,
   "metadata": {
    "execution": {
     "iopub.execute_input": "2023-04-10T07:11:44.608673Z",
     "iopub.status.busy": "2023-04-10T07:11:44.607520Z",
     "iopub.status.idle": "2023-04-10T07:11:45.861592Z",
     "shell.execute_reply": "2023-04-10T07:11:45.860305Z",
     "shell.execute_reply.started": "2023-04-10T07:11:44.608631Z"
    }
   },
   "outputs": [
    {
     "name": "stdout",
     "output_type": "stream",
     "text": [
      "(100000, 16) (100000, 16)\n"
     ]
    }
   ],
   "source": [
    "def create_extra_features(data):\n",
    "    data.Cabin = data.Cabin.map(lambda x: str(x)[0].strip())\n",
    "    data.Ticket = data.Ticket.map(lambda x:str(x).split()[0] if len(str(x).split()) > 1 else np.nan)\n",
    "    \n",
    "    data['FamilySize'] = data['SibSp'] + data['Parch'] + 1\n",
    "    \n",
    "    data['FirstName'] = data.Name.map(lambda x: str(x).split(',')[0])\n",
    "    data['Surname'] = data.Name.map(lambda x: str(x).split(',')[1])\n",
    "    \n",
    "    for col in ['Name', 'FirstName', 'Surname']:\n",
    "        data['Counter_' + col] = data[col].map(data.groupby(col)['PassengerId'].count().to_dict())\n",
    "        \n",
    "    data.drop(columns = ['Name', 'Surname'], inplace = True)\n",
    "    \n",
    "    return data\n",
    "\n",
    "\n",
    "all_df = pd.concat([train_data, test_data]).reset_index(drop = True)\n",
    "all_df = create_extra_features(all_df)\n",
    "train_data, test_data = all_df[:len(train_data)], all_df[len(train_data):]\n",
    "print(train_data.shape, test_data.shape)"
   ]
  },
  {
   "cell_type": "code",
   "execution_count": 8,
   "metadata": {
    "execution": {
     "iopub.execute_input": "2023-04-10T07:11:45.863662Z",
     "iopub.status.busy": "2023-04-10T07:11:45.863123Z",
     "iopub.status.idle": "2023-04-10T07:11:45.880507Z",
     "shell.execute_reply": "2023-04-10T07:11:45.879448Z",
     "shell.execute_reply.started": "2023-04-10T07:11:45.863633Z"
    }
   },
   "outputs": [
    {
     "data": {
      "text/html": [
       "<div>\n",
       "<style scoped>\n",
       "    .dataframe tbody tr th:only-of-type {\n",
       "        vertical-align: middle;\n",
       "    }\n",
       "\n",
       "    .dataframe tbody tr th {\n",
       "        vertical-align: top;\n",
       "    }\n",
       "\n",
       "    .dataframe thead th {\n",
       "        text-align: right;\n",
       "    }\n",
       "</style>\n",
       "<table border=\"1\" class=\"dataframe\">\n",
       "  <thead>\n",
       "    <tr style=\"text-align: right;\">\n",
       "      <th></th>\n",
       "      <th>PassengerId</th>\n",
       "      <th>Survived</th>\n",
       "      <th>Pclass</th>\n",
       "      <th>Sex</th>\n",
       "      <th>Age</th>\n",
       "      <th>SibSp</th>\n",
       "      <th>Parch</th>\n",
       "      <th>Ticket</th>\n",
       "      <th>Fare</th>\n",
       "      <th>Cabin</th>\n",
       "      <th>Embarked</th>\n",
       "      <th>FamilySize</th>\n",
       "      <th>FirstName</th>\n",
       "      <th>Counter_Name</th>\n",
       "      <th>Counter_FirstName</th>\n",
       "      <th>Counter_Surname</th>\n",
       "    </tr>\n",
       "  </thead>\n",
       "  <tbody>\n",
       "    <tr>\n",
       "      <th>0</th>\n",
       "      <td>0</td>\n",
       "      <td>1.0</td>\n",
       "      <td>1</td>\n",
       "      <td>male</td>\n",
       "      <td>NaN</td>\n",
       "      <td>2</td>\n",
       "      <td>0</td>\n",
       "      <td>NaN</td>\n",
       "      <td>27.14</td>\n",
       "      <td>C</td>\n",
       "      <td>S</td>\n",
       "      <td>3</td>\n",
       "      <td>Oconnor</td>\n",
       "      <td>1</td>\n",
       "      <td>47</td>\n",
       "      <td>51</td>\n",
       "    </tr>\n",
       "    <tr>\n",
       "      <th>1</th>\n",
       "      <td>1</td>\n",
       "      <td>0.0</td>\n",
       "      <td>3</td>\n",
       "      <td>male</td>\n",
       "      <td>NaN</td>\n",
       "      <td>0</td>\n",
       "      <td>0</td>\n",
       "      <td>NaN</td>\n",
       "      <td>13.35</td>\n",
       "      <td>n</td>\n",
       "      <td>S</td>\n",
       "      <td>1</td>\n",
       "      <td>Bryan</td>\n",
       "      <td>1</td>\n",
       "      <td>54</td>\n",
       "      <td>31</td>\n",
       "    </tr>\n",
       "    <tr>\n",
       "      <th>2</th>\n",
       "      <td>2</td>\n",
       "      <td>0.0</td>\n",
       "      <td>3</td>\n",
       "      <td>male</td>\n",
       "      <td>0.33</td>\n",
       "      <td>1</td>\n",
       "      <td>2</td>\n",
       "      <td>CA</td>\n",
       "      <td>71.29</td>\n",
       "      <td>n</td>\n",
       "      <td>S</td>\n",
       "      <td>4</td>\n",
       "      <td>Owens</td>\n",
       "      <td>2</td>\n",
       "      <td>165</td>\n",
       "      <td>1128</td>\n",
       "    </tr>\n",
       "    <tr>\n",
       "      <th>3</th>\n",
       "      <td>3</td>\n",
       "      <td>0.0</td>\n",
       "      <td>3</td>\n",
       "      <td>male</td>\n",
       "      <td>19.00</td>\n",
       "      <td>0</td>\n",
       "      <td>0</td>\n",
       "      <td>A.</td>\n",
       "      <td>13.04</td>\n",
       "      <td>n</td>\n",
       "      <td>S</td>\n",
       "      <td>1</td>\n",
       "      <td>Kramer</td>\n",
       "      <td>2</td>\n",
       "      <td>53</td>\n",
       "      <td>4736</td>\n",
       "    </tr>\n",
       "    <tr>\n",
       "      <th>4</th>\n",
       "      <td>4</td>\n",
       "      <td>1.0</td>\n",
       "      <td>3</td>\n",
       "      <td>male</td>\n",
       "      <td>25.00</td>\n",
       "      <td>0</td>\n",
       "      <td>0</td>\n",
       "      <td>NaN</td>\n",
       "      <td>7.76</td>\n",
       "      <td>n</td>\n",
       "      <td>S</td>\n",
       "      <td>1</td>\n",
       "      <td>Bond</td>\n",
       "      <td>1</td>\n",
       "      <td>39</td>\n",
       "      <td>3662</td>\n",
       "    </tr>\n",
       "  </tbody>\n",
       "</table>\n",
       "</div>"
      ],
      "text/plain": [
       "   PassengerId  Survived  Pclass   Sex    Age  SibSp  Parch Ticket   Fare  \\\n",
       "0            0       1.0       1  male    NaN      2      0    NaN  27.14   \n",
       "1            1       0.0       3  male    NaN      0      0    NaN  13.35   \n",
       "2            2       0.0       3  male   0.33      1      2     CA  71.29   \n",
       "3            3       0.0       3  male  19.00      0      0     A.  13.04   \n",
       "4            4       1.0       3  male  25.00      0      0    NaN   7.76   \n",
       "\n",
       "  Cabin Embarked  FamilySize FirstName  Counter_Name  Counter_FirstName  \\\n",
       "0     C        S           3   Oconnor             1                 47   \n",
       "1     n        S           1     Bryan             1                 54   \n",
       "2     n        S           4     Owens             2                165   \n",
       "3     n        S           1    Kramer             2                 53   \n",
       "4     n        S           1      Bond             1                 39   \n",
       "\n",
       "   Counter_Surname  \n",
       "0               51  \n",
       "1               31  \n",
       "2             1128  \n",
       "3             4736  \n",
       "4             3662  "
      ]
     },
     "execution_count": 8,
     "metadata": {},
     "output_type": "execute_result"
    }
   ],
   "source": [
    "train_data.head()"
   ]
  },
  {
   "cell_type": "markdown",
   "metadata": {},
   "source": [
    "# Splitting data"
   ]
  },
  {
   "cell_type": "code",
   "execution_count": 9,
   "metadata": {
    "execution": {
     "iopub.execute_input": "2023-04-10T07:11:45.882781Z",
     "iopub.status.busy": "2023-04-10T07:11:45.881833Z",
     "iopub.status.idle": "2023-04-10T07:11:45.949253Z",
     "shell.execute_reply": "2023-04-10T07:11:45.948281Z",
     "shell.execute_reply.started": "2023-04-10T07:11:45.882737Z"
    }
   },
   "outputs": [
    {
     "name": "stdout",
     "output_type": "stream",
     "text": [
      "(80000, 16) (20000, 16)\n"
     ]
    }
   ],
   "source": [
    "tr_data, val_data = train_test_split(train_data, test_size = 0.2, stratify = train_data['Survived'], random_state = 13)\n",
    "print(tr_data.shape, val_data.shape)"
   ]
  },
  {
   "cell_type": "markdown",
   "metadata": {},
   "source": [
    "# Setup interpretable AutoWoe model\n",
    "\n",
    "Here we setup the model with `ReportDeco` decorator - this decorator helps us to build automatic report (see Bonus 2 part)"
   ]
  },
  {
   "cell_type": "code",
   "execution_count": 10,
   "metadata": {
    "execution": {
     "iopub.execute_input": "2023-04-10T07:11:45.952853Z",
     "iopub.status.busy": "2023-04-10T07:11:45.952562Z",
     "iopub.status.idle": "2023-04-10T07:11:45.959776Z",
     "shell.execute_reply": "2023-04-10T07:11:45.957679Z",
     "shell.execute_reply.started": "2023-04-10T07:11:45.952820Z"
    }
   },
   "outputs": [],
   "source": [
    "auto_woe = AutoWoE(monotonic=False,\n",
    "                 vif_th=20.,\n",
    "                 imp_th=0,\n",
    "                 th_const=32,\n",
    "                 force_single_split=True,\n",
    "                 min_bin_size = 0.005,\n",
    "                 oof_woe=True,\n",
    "                 n_folds=10,\n",
    "                 n_jobs=4,\n",
    "                 regularized_refit=True,\n",
    "                 verbose=2\n",
    "        )\n",
    "\n",
    "auto_woe = ReportDeco(auto_woe)"
   ]
  },
  {
   "cell_type": "markdown",
   "metadata": {},
   "source": [
    "# Model training"
   ]
  },
  {
   "cell_type": "code",
   "execution_count": 11,
   "metadata": {
    "execution": {
     "iopub.execute_input": "2023-04-10T07:11:45.961824Z",
     "iopub.status.busy": "2023-04-10T07:11:45.961418Z",
     "iopub.status.idle": "2023-04-10T07:16:25.501010Z",
     "shell.execute_reply": "2023-04-10T07:16:25.499928Z",
     "shell.execute_reply.started": "2023-04-10T07:11:45.961794Z"
    }
   },
   "outputs": [
    {
     "name": "stdout",
     "output_type": "stream",
     "text": [
      " features [] contain too many nans or identical values\n",
      "[LightGBM] [Info] Number of positive: 27368, number of negative: 36632\n",
      "[LightGBM] [Warning] Auto-choosing row-wise multi-threading, the overhead of testing was 0.009025 seconds.\n",
      "You can set `force_row_wise=true` to remove the overhead.\n",
      "And if memory is not enough, you can set `force_col_wise=true`.\n",
      "[LightGBM] [Info] Total Bins 5955\n",
      "[LightGBM] [Info] Number of data points in the train set: 64000, number of used features: 15\n",
      "[LightGBM] [Info] [binary:BoostFromScore]: pavg=0.427625 -> initscore=-0.291548\n",
      "[LightGBM] [Info] Start training from score -0.291548\n",
      "Training until validation scores don't improve for 10 rounds\n",
      "Early stopping, best iteration is:\n",
      "[25]\tval_set's auc: 0.851732\n",
      " features ['Counter_Name'] have low importance\n",
      "PassengerId processing...\n",
      "Pclass processing...\n",
      "Sex processing...\n",
      "Age processing...\n",
      "SibSp processing...\n",
      "Parch processing...\n",
      "Ticket processing...\n",
      "Fare processing...\n",
      "Cabin processing...\n",
      "Embarked processing...\n",
      "FamilySize processing...\n",
      "FirstName processing...\n",
      "Counter_FirstName processing...\n",
      "Counter_Surname processing...\n",
      "dict_keys(['PassengerId', 'Pclass', 'Sex', 'Age', 'SibSp', 'Parch', 'Ticket', 'Fare', 'Cabin', 'Embarked', 'FamilySize', 'FirstName', 'Counter_FirstName', 'Counter_Surname']) to selector !!!!!\n",
      "Feature selection...\n",
      "Feature FirstName removed due to single WOE value\n",
      "C parameter range in [4.40228667355729e-05:0.440228667355729], 20 values\n",
      "Result(score=0.8383480766933096, reg_alpha=0.009108939000241543, is_neg=True, min_weights=Sex                 -0.845510\n",
      "Embarked            -0.495358\n",
      "Fare                -0.193792\n",
      "Pclass              -0.426072\n",
      "Cabin               -0.413710\n",
      "Counter_Surname      0.000000\n",
      "Ticket              -0.343307\n",
      "Age                  0.000000\n",
      "Parch               -0.453994\n",
      "FamilySize           0.000000\n",
      "SibSp                0.000000\n",
      "Counter_FirstName    0.000000\n",
      "PassengerId          0.000000\n",
      "dtype: float64)\n",
      "Sex        -0.837630\n",
      "Embarked   -0.488637\n",
      "Fare       -0.188626\n",
      "Pclass     -0.421587\n",
      "Cabin      -0.406876\n",
      "Ticket     -0.333716\n",
      "Parch      -0.459633\n",
      "dtype: float64\n",
      "CPU times: user 2min 55s, sys: 2.59 s, total: 2min 57s\n",
      "Wall time: 4min 39s\n"
     ]
    }
   ],
   "source": [
    "%%time\n",
    "auto_woe.fit(tr_data, \n",
    "             target_name=\"Survived\")"
   ]
  },
  {
   "cell_type": "code",
   "execution_count": 12,
   "metadata": {
    "execution": {
     "iopub.execute_input": "2023-04-10T07:16:25.502475Z",
     "iopub.status.busy": "2023-04-10T07:16:25.502213Z",
     "iopub.status.idle": "2023-04-10T07:16:31.950361Z",
     "shell.execute_reply": "2023-04-10T07:16:31.948942Z",
     "shell.execute_reply.started": "2023-04-10T07:16:25.502448Z"
    }
   },
   "outputs": [
    {
     "name": "stdout",
     "output_type": "stream",
     "text": [
      "ACC_SCORE = 0.77605\n"
     ]
    }
   ],
   "source": [
    "val_pred = auto_woe.predict_proba(val_data)\n",
    "print(\"ACC_SCORE = {:.5f}\".format(accuracy_score(val_data['Survived'], (val_pred > 0.5).astype(int))))"
   ]
  },
  {
   "cell_type": "markdown",
   "metadata": {},
   "source": [
    "# Bonus 1 - Automatic report generation for trained model"
   ]
  },
  {
   "cell_type": "code",
   "execution_count": 13,
   "metadata": {
    "execution": {
     "iopub.execute_input": "2023-04-10T07:16:31.952469Z",
     "iopub.status.busy": "2023-04-10T07:16:31.951640Z",
     "iopub.status.idle": "2023-04-10T07:16:48.534732Z",
     "shell.execute_reply": "2023-04-10T07:16:48.533745Z",
     "shell.execute_reply.started": "2023-04-10T07:16:31.952427Z"
    }
   },
   "outputs": [
    {
     "name": "stdout",
     "output_type": "stream",
     "text": [
      "Successfully wrote ./AUTOWOE_REPORT_Validation/autowoe_report.html.\n"
     ]
    }
   ],
   "source": [
    "report_params = {\"output_path\": \"./AUTOWOE_REPORT_Validation\",\n",
    "                 \"report_name\": \"AutoWoE automatic report for Syntanic dataset model\",\n",
    "                 \"report_version_id\": 1,\n",
    "                 \"city\": \"Moscow\",\n",
    "                 \"model_aim\": \"Here we want to build a model to solve TPS April 2021 competition\",\n",
    "                 \"model_name\": \"Syntanic_AutoWoE_model\",\n",
    "                 \"zakazchik\": \"Kaggle\", # sorry for transliterate russian key here - it means the group that ask you to build this model \n",
    "                 \"high_level_department\": \"Google\",\n",
    "                 \"ds_name\": \"Alexander Ryzhkov\",\n",
    "                 \"target_descr\": \"Human survived in Titanic disaster\",\n",
    "                 \"non_target_descr\": \"(Sad news) Human not survived in Titanic disaster\"}\n",
    "\n",
    "auto_woe.generate_report(report_params)"
   ]
  },
  {
   "cell_type": "markdown",
   "metadata": {},
   "source": [
    "#### Generated report is [here](./AUTOWOE_REPORT_Validation/autowoe_report.html). P.S. It is interactive - to open subtree click on black triangle on the left of the text."
   ]
  },
  {
   "cell_type": "markdown",
   "metadata": {},
   "source": [
    "# Bonus 2 - Automatic SQL inference query generation for trained model\n",
    "\n",
    "As our model is interpretable, we can create SQL query for it automatically. With the help of this query you can receive model predictions inside database without Python at all.\n",
    "\n",
    "All you need is setup the `table_name` with the initial data"
   ]
  },
  {
   "cell_type": "code",
   "execution_count": 14,
   "metadata": {
    "execution": {
     "iopub.execute_input": "2023-04-10T07:16:48.536449Z",
     "iopub.status.busy": "2023-04-10T07:16:48.536043Z",
     "iopub.status.idle": "2023-04-10T07:16:48.542939Z",
     "shell.execute_reply": "2023-04-10T07:16:48.541889Z",
     "shell.execute_reply.started": "2023-04-10T07:16:48.536407Z"
    }
   },
   "outputs": [
    {
     "name": "stdout",
     "output_type": "stream",
     "text": [
      "SELECT\n",
      "  1 / (1 + EXP(-(\n",
      "    -0.281\n",
      "    -0.838*WOE_TAB.Sex\n",
      "    -0.489*WOE_TAB.Embarked\n",
      "    -0.189*WOE_TAB.Fare\n",
      "    -0.422*WOE_TAB.Pclass\n",
      "    -0.407*WOE_TAB.Cabin\n",
      "    -0.334*WOE_TAB.Ticket\n",
      "    -0.46*WOE_TAB.Parch\n",
      "  ))) as PROB,\n",
      "  WOE_TAB.*\n",
      "FROM \n",
      "    (SELECT\n",
      "    CASE\n",
      "      WHEN Sex == 'female' THEN -1.191\n",
      "      WHEN Sex == 'male' THEN 1.055\n",
      "      ELSE 0\n",
      "    END AS Sex,\n",
      "    CASE\n",
      "      WHEN Embarked == 'C' THEN -1.386\n",
      "      WHEN Embarked == 'Q' THEN -0.7\n",
      "      WHEN Embarked == 'S' THEN 0.482\n",
      "      ELSE 0\n",
      "    END AS Embarked,\n",
      "    CASE\n",
      "      WHEN (Fare IS NULL OR Fare = 'NaN') THEN 0\n",
      "      WHEN Fare <= 12.635 THEN 0.732\n",
      "      WHEN Fare <= 28.175 THEN -0.127\n",
      "      WHEN Fare <= 48.595 THEN -0.56\n",
      "      WHEN Fare <= 111.41 THEN -0.196\n",
      "      ELSE -1.17\n",
      "    END AS Fare,\n",
      "    CASE\n",
      "      WHEN Pclass == 1 THEN -0.609\n",
      "      WHEN Pclass == 2 THEN -0.397\n",
      "      WHEN Pclass == 3 THEN 0.82\n",
      "      ELSE 0\n",
      "    END AS Pclass,\n",
      "    CASE\n",
      "      WHEN Cabin == 'A' THEN 0.66\n",
      "      WHEN Cabin IN ('B', 'E') THEN -0.821\n",
      "      WHEN Cabin IN ('C', 'D') THEN -1.2\n",
      "      WHEN Cabin == 'F' THEN -1.91\n",
      "      WHEN Cabin == 'n' THEN 0.359\n",
      "      ELSE 0\n",
      "    END AS Cabin,\n",
      "    CASE\n",
      "      WHEN (Ticket IS NULL OR LOWER(CAST(Ticket AS VARCHAR(50))) = 'nan') THEN -0.057\n",
      "      WHEN Ticket == 'A.' THEN 1.157\n",
      "      WHEN Ticket IN ('PC', 'PP') THEN -0.927\n",
      "      WHEN Ticket IN ('SC/AH', 'SC/PARIS', 'SC/Paris') THEN -0.057\n",
      "      WHEN Ticket == 'STON/O' THEN 2.596\n",
      "      ELSE 0.572\n",
      "    END AS Ticket,\n",
      "    CASE\n",
      "      WHEN (Parch IS NULL OR Parch = 'NaN') THEN 0\n",
      "      WHEN Parch <= 0.0 THEN 0.095\n",
      "      WHEN Parch <= 1.5 THEN -0.659\n",
      "      WHEN Parch <= 2.5 THEN 0.16\n",
      "      WHEN Parch <= 3.5 THEN -0.266\n",
      "      ELSE 0.168\n",
      "    END AS Parch\n",
      "  FROM TABLE_NAME) as WOE_TAB\n"
     ]
    }
   ],
   "source": [
    "print(auto_woe.get_sql_inference_query(table_name = 'TABLE_NAME'))"
   ]
  },
  {
   "cell_type": "markdown",
   "metadata": {},
   "source": [
    "# Train on the full train 2 separate models for Sex"
   ]
  },
  {
   "cell_type": "code",
   "execution_count": 15,
   "metadata": {
    "execution": {
     "iopub.execute_input": "2023-04-10T07:16:48.544907Z",
     "iopub.status.busy": "2023-04-10T07:16:48.544638Z",
     "iopub.status.idle": "2023-04-10T07:16:48.556911Z",
     "shell.execute_reply": "2023-04-10T07:16:48.555850Z",
     "shell.execute_reply.started": "2023-04-10T07:16:48.544881Z"
    }
   },
   "outputs": [],
   "source": [
    "def fit_autowoe(data):\n",
    "    auto_woe = AutoWoE(monotonic=False,\n",
    "                     vif_th=20.,\n",
    "                     imp_th=0,\n",
    "                     th_const=32,\n",
    "                     force_single_split=True,\n",
    "                     min_bin_size = 0.01,\n",
    "                     oof_woe=True,\n",
    "                     n_folds=10,\n",
    "                     n_jobs=4,\n",
    "                     regularized_refit=True,\n",
    "                     verbose=2\n",
    "            )\n",
    "    auto_woe.fit(data, \n",
    "                 target_name=\"Survived\")\n",
    "    return auto_woe"
   ]
  },
  {
   "cell_type": "code",
   "execution_count": 16,
   "metadata": {
    "execution": {
     "iopub.execute_input": "2023-04-10T07:16:48.558554Z",
     "iopub.status.busy": "2023-04-10T07:16:48.558228Z",
     "iopub.status.idle": "2023-04-10T07:21:31.293145Z",
     "shell.execute_reply": "2023-04-10T07:21:31.291784Z",
     "shell.execute_reply.started": "2023-04-10T07:16:48.558504Z"
    }
   },
   "outputs": [
    {
     "name": "stdout",
     "output_type": "stream",
     "text": [
      " features ['Sex'] contain too many nans or identical values\n",
      "[LightGBM] [Info] Number of positive: 9226, number of negative: 35665\n",
      "[LightGBM] [Warning] Auto-choosing row-wise multi-threading, the overhead of testing was 0.004476 seconds.\n",
      "You can set `force_row_wise=true` to remove the overhead.\n",
      "And if memory is not enough, you can set `force_col_wise=true`.\n",
      "[LightGBM] [Info] Total Bins 4426\n",
      "[LightGBM] [Info] Number of data points in the train set: 44891, number of used features: 14\n",
      "[LightGBM] [Info] [binary:BoostFromScore]: pavg=0.205520 -> initscore=-1.352144\n",
      "[LightGBM] [Info] Start training from score -1.352144\n",
      "Training until validation scores don't improve for 10 rounds\n",
      "Early stopping, best iteration is:\n",
      "[21]\tval_set's auc: 0.756667\n",
      " features [] have low importance\n",
      "PassengerId processing...\n",
      "Pclass processing...\n",
      "Age processing...\n",
      "SibSp processing...\n",
      "Parch processing...\n",
      "Ticket processing...\n",
      "Fare processing...\n",
      "Cabin processing...\n",
      "Embarked processing...\n",
      "FamilySize processing...\n",
      "FirstName processing...\n",
      "Counter_Name processing...\n",
      "Counter_FirstName processing...\n",
      "Counter_Surname processing...\n",
      "dict_keys(['PassengerId', 'Pclass', 'Age', 'SibSp', 'Parch', 'Ticket', 'Fare', 'Cabin', 'Embarked', 'FamilySize', 'FirstName', 'Counter_Name', 'Counter_FirstName', 'Counter_Surname']) to selector !!!!!\n",
      "Feature selection...\n",
      "C parameter range in [6.0573020776546124e-05:0.6057302077654613], 20 values\n",
      "Result(score=0.7446023993854961, reg_alpha=0.0077186685184028915, is_neg=True, min_weights=Pclass              -0.428774\n",
      "Fare                -0.265257\n",
      "Cabin               -0.358750\n",
      "Embarked            -0.625262\n",
      "Ticket              -0.318533\n",
      "Age                  0.000000\n",
      "FamilySize           0.000000\n",
      "Parch               -0.517017\n",
      "SibSp                0.000000\n",
      "Counter_Surname      0.000000\n",
      "PassengerId          0.000000\n",
      "Counter_Name         0.000000\n",
      "Counter_FirstName    0.000000\n",
      "FirstName            0.000000\n",
      "dtype: float64)\n",
      "Pclass     -0.416338\n",
      "Fare       -0.257227\n",
      "Cabin      -0.351272\n",
      "Embarked   -0.621238\n",
      "Ticket     -0.311593\n",
      "Parch      -0.524056\n",
      "dtype: float64\n",
      "==================================================\n",
      " features ['Sex'] contain too many nans or identical values\n",
      "[LightGBM] [Info] Number of positive: 25002, number of negative: 10106\n",
      "[LightGBM] [Warning] Auto-choosing row-wise multi-threading, the overhead of testing was 0.003916 seconds.\n",
      "You can set `force_row_wise=true` to remove the overhead.\n",
      "And if memory is not enough, you can set `force_col_wise=true`.\n",
      "[LightGBM] [Info] Total Bins 3770\n",
      "[LightGBM] [Info] Number of data points in the train set: 35108, number of used features: 14\n",
      "[LightGBM] [Info] [binary:BoostFromScore]: pavg=0.712145 -> initscore=0.905827\n",
      "[LightGBM] [Info] Start training from score 0.905827\n",
      "Training until validation scores don't improve for 10 rounds\n",
      "Early stopping, best iteration is:\n",
      "[14]\tval_set's auc: 0.731713\n",
      " features ['Counter_Name'] have low importance\n",
      "PassengerId processing...\n",
      "Pclass processing...\n",
      "Age processing...\n",
      "SibSp processing...\n",
      "Parch processing...\n",
      "Ticket processing...\n",
      "Fare processing...\n",
      "Cabin processing...\n",
      "Embarked processing...\n",
      "FamilySize processing...\n",
      "FirstName processing...\n",
      "Counter_FirstName processing...\n",
      "Counter_Surname processing...\n",
      "dict_keys(['PassengerId', 'Pclass', 'Age', 'SibSp', 'Parch', 'Ticket', 'Fare', 'Cabin', 'Embarked', 'FamilySize', 'FirstName', 'Counter_FirstName', 'Counter_Surname']) to selector !!!!!\n",
      "Feature selection...\n",
      "Feature FirstName removed due to single WOE value\n",
      "C parameter range in [0.00010772379618657762:1.0772379618657761], 20 values\n",
      "Result(score=0.7236926619865143, reg_alpha=0.03619323802955705, is_neg=True, min_weights=Cabin               -0.657974\n",
      "Embarked            -0.670271\n",
      "Pclass              -0.498278\n",
      "Fare                -0.433363\n",
      "FamilySize           0.000000\n",
      "SibSp               -0.671766\n",
      "Age                  0.000000\n",
      "Ticket              -0.667597\n",
      "Parch               -0.580166\n",
      "Counter_FirstName    0.000000\n",
      "Counter_Surname      0.000000\n",
      "PassengerId          0.000000\n",
      "dtype: float64)\n",
      "Cabin      -0.642807\n",
      "Embarked   -0.656712\n",
      "Pclass     -0.485353\n",
      "Fare       -0.414757\n",
      "SibSp      -0.645842\n",
      "Ticket     -0.650456\n",
      "Parch      -0.549823\n",
      "dtype: float64\n"
     ]
    }
   ],
   "source": [
    "male_model = fit_autowoe(train_data[train_data['Sex'] == 'male'])\n",
    "print('=' * 50)\n",
    "female_model = fit_autowoe(train_data[train_data['Sex'] == 'female'])"
   ]
  },
  {
   "cell_type": "code",
   "execution_count": 17,
   "metadata": {
    "execution": {
     "iopub.execute_input": "2023-04-10T07:21:31.295053Z",
     "iopub.status.busy": "2023-04-10T07:21:31.294693Z",
     "iopub.status.idle": "2023-04-10T07:21:32.061607Z",
     "shell.execute_reply": "2023-04-10T07:21:32.059341Z",
     "shell.execute_reply.started": "2023-04-10T07:21:31.295015Z"
    }
   },
   "outputs": [],
   "source": [
    "male_pred = male_model.predict_proba(test_data)\n",
    "female_pred = female_model.predict_proba(test_data)"
   ]
  },
  {
   "cell_type": "code",
   "execution_count": 18,
   "metadata": {
    "execution": {
     "iopub.execute_input": "2023-04-10T07:21:32.064434Z",
     "iopub.status.busy": "2023-04-10T07:21:32.064038Z",
     "iopub.status.idle": "2023-04-10T07:21:32.107138Z",
     "shell.execute_reply": "2023-04-10T07:21:32.105287Z",
     "shell.execute_reply.started": "2023-04-10T07:21:32.064399Z"
    }
   },
   "outputs": [],
   "source": [
    "preds = np.where(test_data['Sex'] == 'male', male_pred, female_pred)"
   ]
  },
  {
   "cell_type": "code",
   "execution_count": 19,
   "metadata": {
    "execution": {
     "iopub.execute_input": "2023-04-10T07:21:32.110242Z",
     "iopub.status.busy": "2023-04-10T07:21:32.109666Z",
     "iopub.status.idle": "2023-04-10T07:21:32.133190Z",
     "shell.execute_reply": "2023-04-10T07:21:32.131590Z",
     "shell.execute_reply.started": "2023-04-10T07:21:32.110194Z"
    }
   },
   "outputs": [
    {
     "data": {
      "text/plain": [
       "array([0.12912243, 0.56385311, 0.87204776, ..., 0.09941357, 0.79255767,\n",
       "       0.91256468])"
      ]
     },
     "execution_count": 19,
     "metadata": {},
     "output_type": "execute_result"
    }
   ],
   "source": [
    "preds"
   ]
  },
  {
   "cell_type": "markdown",
   "metadata": {},
   "source": [
    "# Create submissions"
   ]
  },
  {
   "cell_type": "code",
   "execution_count": 20,
   "metadata": {
    "execution": {
     "iopub.execute_input": "2023-04-10T07:21:32.135711Z",
     "iopub.status.busy": "2023-04-10T07:21:32.135283Z",
     "iopub.status.idle": "2023-04-10T07:21:32.247781Z",
     "shell.execute_reply": "2023-04-10T07:21:32.246248Z",
     "shell.execute_reply.started": "2023-04-10T07:21:32.135672Z"
    }
   },
   "outputs": [],
   "source": [
    "submission['Survived'] = (preds > 0.5).astype(int)\n",
    "submission.to_csv('AutoWoE_submission.csv', index = False)"
   ]
  },
  {
   "cell_type": "code",
   "execution_count": 21,
   "metadata": {
    "execution": {
     "iopub.execute_input": "2023-04-10T07:21:32.249795Z",
     "iopub.status.busy": "2023-04-10T07:21:32.249387Z",
     "iopub.status.idle": "2023-04-10T07:21:32.258963Z",
     "shell.execute_reply": "2023-04-10T07:21:32.257319Z",
     "shell.execute_reply.started": "2023-04-10T07:21:32.249754Z"
    }
   },
   "outputs": [
    {
     "data": {
      "text/plain": [
       "0.32391"
      ]
     },
     "execution_count": 21,
     "metadata": {},
     "output_type": "execute_result"
    }
   ],
   "source": [
    "submission['Survived'].mean()"
   ]
  }
 ],
 "metadata": {
  "kernelspec": {
   "display_name": "Python 3",
   "language": "python",
   "name": "python3"
  },
  "language_info": {
   "codemirror_mode": {
    "name": "ipython",
    "version": 3
   },
   "file_extension": ".py",
   "mimetype": "text/x-python",
   "name": "python",
   "nbconvert_exporter": "python",
   "pygments_lexer": "ipython3",
   "version": "3.7.6"
  }
 },
 "nbformat": 4,
 "nbformat_minor": 4
}
