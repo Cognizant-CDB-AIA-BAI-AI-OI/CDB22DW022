{
 "cells": [
  {
   "cell_type": "markdown",
   "metadata": {
    "id": "GuH77DaWb6kv"
   },
   "source": [
    "# Transformers for Sentiment Classification\n",
    "\n",
    "Welcome folks!, in the current project I will show you in detail how to implement four types of well-known transformer models making use of the transformers HuggingFace library and Keras API. \n",
    "\n",
    "The main task corresponds to a multi-class text classification on Movie Reviews Competition and the dataset contains 156.060 instances for training, whereas the testing set contains 66.292 from which we have to classify among 5 classes. The sentiment labels are:\n",
    "\n",
    "- 0 → Negative\n",
    "- 1 → Somewhat negative\n",
    "- 2 → Neutral\n",
    "- 3 → Somewhat positive\n",
    "- 4 → Positive\n",
    "\n",
    "At the end of the project we will summarize and compare their performance according to our requirements and metrics. \n",
    "\n"
   ]
  },
  {
   "cell_type": "markdown",
   "metadata": {},
   "source": [
    "## Importing the required Libraries"
   ]
  },
  {
   "cell_type": "code",
   "execution_count": 6,
   "metadata": {
    "execution": {
     "iopub.execute_input": "2022-01-11T22:18:04.265022Z",
     "iopub.status.busy": "2022-01-11T22:18:04.264383Z",
     "iopub.status.idle": "2022-01-11T22:18:09.806803Z",
     "shell.execute_reply": "2022-01-11T22:18:09.806031Z",
     "shell.execute_reply.started": "2022-01-11T22:18:04.264927Z"
    },
    "id": "RBa6lCMyfjuX"
   },
   "outputs": [],
   "source": [
    "import pandas as pd\n",
    "import numpy as np\n",
    "import os\n",
    "import matplotlib\n",
    "import matplotlib.pyplot as plt\n",
    "plt.style.use('ggplot')\n",
    "import seaborn as sns\n",
    "sns.set(style='whitegrid')\n",
    "\n",
    "from wordcloud import WordCloud\n",
    "\n",
    "#from sklearn.feature_extraction.text import CountVectorizer, TfidfVectorizer\n",
    "from sklearn.model_selection import train_test_split\n",
    "#from sklearn.decomposition import PCA, TruncatedSVD\n",
    "from sklearn.metrics import classification_report,confusion_matrix\n",
    "\n",
    "from collections import defaultdict\n",
    "from collections import Counter\n",
    "\n",
    "import re\n",
    "import gensim\n",
    "import string\n",
    "\n",
    "from tqdm import tqdm\n",
    "import tensorflow as tf\n",
    "from tensorflow.keras.preprocessing.text import Tokenizer\n",
    "from tensorflow.keras.preprocessing.sequence import pad_sequences\n",
    "from tensorflow.keras.models import Sequential\n",
    "from tensorflow.keras.layers import Embedding, LSTM,Dense, SpatialDropout1D, Dropout\n",
    "from tensorflow.keras.initializers import Constant\n",
    "\n",
    "\n",
    "import warnings\n",
    "warnings.simplefilter('ignore')"
   ]
  },
  {
   "cell_type": "markdown",
   "metadata": {},
   "source": [
    "## Importing the Data"
   ]
  },
  {
   "cell_type": "code",
   "execution_count": 7,
   "metadata": {
    "execution": {
     "iopub.execute_input": "2022-01-11T22:18:13.709198Z",
     "iopub.status.busy": "2022-01-11T22:18:13.707027Z",
     "iopub.status.idle": "2022-01-11T22:18:14.075829Z",
     "shell.execute_reply": "2022-01-11T22:18:14.075050Z",
     "shell.execute_reply.started": "2022-01-11T22:18:13.709154Z"
    }
   },
   "outputs": [],
   "source": [
    "df=pd.read_csv('train.tsv', sep='\\t')\n",
    "df_test=pd.read_csv('test.tsv', sep='\\t')\n",
    "sample_submission=pd.read_csv('sampleSubmission.csv')"
   ]
  },
  {
   "cell_type": "markdown",
   "metadata": {
    "id": "OkDcqgcGhcA8"
   },
   "source": [
    "Just to confirm the number of instances and features in each file:"
   ]
  },
  {
   "cell_type": "code",
   "execution_count": 8,
   "metadata": {
    "execution": {
     "iopub.execute_input": "2022-01-11T22:18:18.182241Z",
     "iopub.status.busy": "2022-01-11T22:18:18.181678Z",
     "iopub.status.idle": "2022-01-11T22:18:18.190261Z",
     "shell.execute_reply": "2022-01-11T22:18:18.189471Z",
     "shell.execute_reply.started": "2022-01-11T22:18:18.182200Z"
    },
    "id": "cQilxMT3gOtX"
   },
   "outputs": [
    {
     "data": {
      "text/plain": [
       "((156060, 4), (66292, 3))"
      ]
     },
     "execution_count": 8,
     "metadata": {},
     "output_type": "execute_result"
    }
   ],
   "source": [
    "df.shape, df_test.shape"
   ]
  },
  {
   "cell_type": "code",
   "execution_count": 9,
   "metadata": {
    "execution": {
     "iopub.execute_input": "2022-01-11T20:20:58.082492Z",
     "iopub.status.busy": "2022-01-11T20:20:58.082099Z",
     "iopub.status.idle": "2022-01-11T20:20:58.124996Z",
     "shell.execute_reply": "2022-01-11T20:20:58.124213Z",
     "shell.execute_reply.started": "2022-01-11T20:20:58.082420Z"
    },
    "id": "EAANxWYcgOYi",
    "outputId": "a24fc96a-78f7-44ad-a314-c48d36d43c47"
   },
   "outputs": [
    {
     "data": {
      "text/html": [
       "<div>\n",
       "<style scoped>\n",
       "    .dataframe tbody tr th:only-of-type {\n",
       "        vertical-align: middle;\n",
       "    }\n",
       "\n",
       "    .dataframe tbody tr th {\n",
       "        vertical-align: top;\n",
       "    }\n",
       "\n",
       "    .dataframe thead th {\n",
       "        text-align: right;\n",
       "    }\n",
       "</style>\n",
       "<table border=\"1\" class=\"dataframe\">\n",
       "  <thead>\n",
       "    <tr style=\"text-align: right;\">\n",
       "      <th></th>\n",
       "      <th>PhraseId</th>\n",
       "      <th>SentenceId</th>\n",
       "      <th>Phrase</th>\n",
       "      <th>Sentiment</th>\n",
       "    </tr>\n",
       "  </thead>\n",
       "  <tbody>\n",
       "    <tr>\n",
       "      <th>0</th>\n",
       "      <td>1</td>\n",
       "      <td>1</td>\n",
       "      <td>A series of escapades demonstrating the adage ...</td>\n",
       "      <td>1</td>\n",
       "    </tr>\n",
       "    <tr>\n",
       "      <th>1</th>\n",
       "      <td>2</td>\n",
       "      <td>1</td>\n",
       "      <td>A series of escapades demonstrating the adage ...</td>\n",
       "      <td>2</td>\n",
       "    </tr>\n",
       "    <tr>\n",
       "      <th>2</th>\n",
       "      <td>3</td>\n",
       "      <td>1</td>\n",
       "      <td>A series</td>\n",
       "      <td>2</td>\n",
       "    </tr>\n",
       "    <tr>\n",
       "      <th>3</th>\n",
       "      <td>4</td>\n",
       "      <td>1</td>\n",
       "      <td>A</td>\n",
       "      <td>2</td>\n",
       "    </tr>\n",
       "    <tr>\n",
       "      <th>4</th>\n",
       "      <td>5</td>\n",
       "      <td>1</td>\n",
       "      <td>series</td>\n",
       "      <td>2</td>\n",
       "    </tr>\n",
       "    <tr>\n",
       "      <th>...</th>\n",
       "      <td>...</td>\n",
       "      <td>...</td>\n",
       "      <td>...</td>\n",
       "      <td>...</td>\n",
       "    </tr>\n",
       "    <tr>\n",
       "      <th>156055</th>\n",
       "      <td>156056</td>\n",
       "      <td>8544</td>\n",
       "      <td>Hearst 's</td>\n",
       "      <td>2</td>\n",
       "    </tr>\n",
       "    <tr>\n",
       "      <th>156056</th>\n",
       "      <td>156057</td>\n",
       "      <td>8544</td>\n",
       "      <td>forced avuncular chortles</td>\n",
       "      <td>1</td>\n",
       "    </tr>\n",
       "    <tr>\n",
       "      <th>156057</th>\n",
       "      <td>156058</td>\n",
       "      <td>8544</td>\n",
       "      <td>avuncular chortles</td>\n",
       "      <td>3</td>\n",
       "    </tr>\n",
       "    <tr>\n",
       "      <th>156058</th>\n",
       "      <td>156059</td>\n",
       "      <td>8544</td>\n",
       "      <td>avuncular</td>\n",
       "      <td>2</td>\n",
       "    </tr>\n",
       "    <tr>\n",
       "      <th>156059</th>\n",
       "      <td>156060</td>\n",
       "      <td>8544</td>\n",
       "      <td>chortles</td>\n",
       "      <td>2</td>\n",
       "    </tr>\n",
       "  </tbody>\n",
       "</table>\n",
       "<p>156060 rows × 4 columns</p>\n",
       "</div>"
      ],
      "text/plain": [
       "        PhraseId  SentenceId  \\\n",
       "0              1           1   \n",
       "1              2           1   \n",
       "2              3           1   \n",
       "3              4           1   \n",
       "4              5           1   \n",
       "...          ...         ...   \n",
       "156055    156056        8544   \n",
       "156056    156057        8544   \n",
       "156057    156058        8544   \n",
       "156058    156059        8544   \n",
       "156059    156060        8544   \n",
       "\n",
       "                                                   Phrase  Sentiment  \n",
       "0       A series of escapades demonstrating the adage ...          1  \n",
       "1       A series of escapades demonstrating the adage ...          2  \n",
       "2                                                A series          2  \n",
       "3                                                       A          2  \n",
       "4                                                  series          2  \n",
       "...                                                   ...        ...  \n",
       "156055                                          Hearst 's          2  \n",
       "156056                          forced avuncular chortles          1  \n",
       "156057                                 avuncular chortles          3  \n",
       "156058                                          avuncular          2  \n",
       "156059                                           chortles          2  \n",
       "\n",
       "[156060 rows x 4 columns]"
      ]
     },
     "execution_count": 9,
     "metadata": {},
     "output_type": "execute_result"
    }
   ],
   "source": [
    "df"
   ]
  },
  {
   "cell_type": "markdown",
   "metadata": {
    "id": "kbDefpsRehFP"
   },
   "source": [
    "Above we can see that Phrase and Sentiment columns are all we need from the file in order to train the models later, therefore we will use these as feature (X) and label (Y) when fitting the transformer."
   ]
  },
  {
   "cell_type": "code",
   "execution_count": 10,
   "metadata": {
    "execution": {
     "iopub.execute_input": "2022-01-11T20:20:58.129579Z",
     "iopub.status.busy": "2022-01-11T20:20:58.128791Z",
     "iopub.status.idle": "2022-01-11T20:20:58.153220Z",
     "shell.execute_reply": "2022-01-11T20:20:58.152512Z",
     "shell.execute_reply.started": "2022-01-11T20:20:58.129535Z"
    },
    "id": "ZHx_haSZgeSA",
    "outputId": "d5f954e3-e789-402d-d754-8302b24b045c"
   },
   "outputs": [
    {
     "data": {
      "text/html": [
       "<div>\n",
       "<style scoped>\n",
       "    .dataframe tbody tr th:only-of-type {\n",
       "        vertical-align: middle;\n",
       "    }\n",
       "\n",
       "    .dataframe tbody tr th {\n",
       "        vertical-align: top;\n",
       "    }\n",
       "\n",
       "    .dataframe thead th {\n",
       "        text-align: right;\n",
       "    }\n",
       "</style>\n",
       "<table border=\"1\" class=\"dataframe\">\n",
       "  <thead>\n",
       "    <tr style=\"text-align: right;\">\n",
       "      <th></th>\n",
       "      <th>PhraseId</th>\n",
       "      <th>SentenceId</th>\n",
       "      <th>Phrase</th>\n",
       "    </tr>\n",
       "  </thead>\n",
       "  <tbody>\n",
       "    <tr>\n",
       "      <th>0</th>\n",
       "      <td>156061</td>\n",
       "      <td>8545</td>\n",
       "      <td>An intermittently pleasing but mostly routine ...</td>\n",
       "    </tr>\n",
       "    <tr>\n",
       "      <th>1</th>\n",
       "      <td>156062</td>\n",
       "      <td>8545</td>\n",
       "      <td>An intermittently pleasing but mostly routine ...</td>\n",
       "    </tr>\n",
       "    <tr>\n",
       "      <th>2</th>\n",
       "      <td>156063</td>\n",
       "      <td>8545</td>\n",
       "      <td>An</td>\n",
       "    </tr>\n",
       "    <tr>\n",
       "      <th>3</th>\n",
       "      <td>156064</td>\n",
       "      <td>8545</td>\n",
       "      <td>intermittently pleasing but mostly routine effort</td>\n",
       "    </tr>\n",
       "    <tr>\n",
       "      <th>4</th>\n",
       "      <td>156065</td>\n",
       "      <td>8545</td>\n",
       "      <td>intermittently pleasing but mostly routine</td>\n",
       "    </tr>\n",
       "    <tr>\n",
       "      <th>...</th>\n",
       "      <td>...</td>\n",
       "      <td>...</td>\n",
       "      <td>...</td>\n",
       "    </tr>\n",
       "    <tr>\n",
       "      <th>66287</th>\n",
       "      <td>222348</td>\n",
       "      <td>11855</td>\n",
       "      <td>A long-winded , predictable scenario .</td>\n",
       "    </tr>\n",
       "    <tr>\n",
       "      <th>66288</th>\n",
       "      <td>222349</td>\n",
       "      <td>11855</td>\n",
       "      <td>A long-winded , predictable scenario</td>\n",
       "    </tr>\n",
       "    <tr>\n",
       "      <th>66289</th>\n",
       "      <td>222350</td>\n",
       "      <td>11855</td>\n",
       "      <td>A long-winded ,</td>\n",
       "    </tr>\n",
       "    <tr>\n",
       "      <th>66290</th>\n",
       "      <td>222351</td>\n",
       "      <td>11855</td>\n",
       "      <td>A long-winded</td>\n",
       "    </tr>\n",
       "    <tr>\n",
       "      <th>66291</th>\n",
       "      <td>222352</td>\n",
       "      <td>11855</td>\n",
       "      <td>predictable scenario</td>\n",
       "    </tr>\n",
       "  </tbody>\n",
       "</table>\n",
       "<p>66292 rows × 3 columns</p>\n",
       "</div>"
      ],
      "text/plain": [
       "       PhraseId  SentenceId                                             Phrase\n",
       "0        156061        8545  An intermittently pleasing but mostly routine ...\n",
       "1        156062        8545  An intermittently pleasing but mostly routine ...\n",
       "2        156063        8545                                                 An\n",
       "3        156064        8545  intermittently pleasing but mostly routine effort\n",
       "4        156065        8545         intermittently pleasing but mostly routine\n",
       "...         ...         ...                                                ...\n",
       "66287    222348       11855             A long-winded , predictable scenario .\n",
       "66288    222349       11855               A long-winded , predictable scenario\n",
       "66289    222350       11855                                    A long-winded ,\n",
       "66290    222351       11855                                      A long-winded\n",
       "66291    222352       11855                               predictable scenario\n",
       "\n",
       "[66292 rows x 3 columns]"
      ]
     },
     "execution_count": 10,
     "metadata": {},
     "output_type": "execute_result"
    }
   ],
   "source": [
    "df_test"
   ]
  },
  {
   "cell_type": "markdown",
   "metadata": {
    "id": "PwGONtBGfOFc"
   },
   "source": [
    "In case there is a null or empty value in any column we should have to get rid of it, in order to find it out we will use info() as follows:"
   ]
  },
  {
   "cell_type": "code",
   "execution_count": 11,
   "metadata": {
    "execution": {
     "iopub.execute_input": "2022-01-11T20:20:58.160465Z",
     "iopub.status.busy": "2022-01-11T20:20:58.158042Z",
     "iopub.status.idle": "2022-01-11T20:20:58.218099Z",
     "shell.execute_reply": "2022-01-11T20:20:58.217070Z",
     "shell.execute_reply.started": "2022-01-11T20:20:58.160423Z"
    },
    "id": "G7lRw4Ixgh2p",
    "outputId": "d9401394-ecc3-47be-a771-a7069aabc159"
   },
   "outputs": [
    {
     "name": "stdout",
     "output_type": "stream",
     "text": [
      "<class 'pandas.core.frame.DataFrame'>\n",
      "RangeIndex: 156060 entries, 0 to 156059\n",
      "Data columns (total 4 columns):\n",
      " #   Column      Non-Null Count   Dtype \n",
      "---  ------      --------------   ----- \n",
      " 0   PhraseId    156060 non-null  int64 \n",
      " 1   SentenceId  156060 non-null  int64 \n",
      " 2   Phrase      156060 non-null  object\n",
      " 3   Sentiment   156060 non-null  int64 \n",
      "dtypes: int64(3), object(1)\n",
      "memory usage: 4.8+ MB\n"
     ]
    }
   ],
   "source": [
    "df.info()"
   ]
  },
  {
   "cell_type": "code",
   "execution_count": 12,
   "metadata": {
    "execution": {
     "iopub.execute_input": "2022-01-11T20:20:58.220419Z",
     "iopub.status.busy": "2022-01-11T20:20:58.219956Z",
     "iopub.status.idle": "2022-01-11T20:20:58.264888Z",
     "shell.execute_reply": "2022-01-11T20:20:58.263801Z",
     "shell.execute_reply.started": "2022-01-11T20:20:58.220379Z"
    },
    "id": "G3z9i6Vightg",
    "outputId": "676d29e8-31d5-4f60-c39a-7304be2c8f76"
   },
   "outputs": [
    {
     "data": {
      "text/plain": [
       "PhraseId      0\n",
       "SentenceId    0\n",
       "Phrase        0\n",
       "Sentiment     0\n",
       "dtype: int64"
      ]
     },
     "execution_count": 12,
     "metadata": {},
     "output_type": "execute_result"
    }
   ],
   "source": [
    "df.isnull().sum()"
   ]
  },
  {
   "cell_type": "markdown",
   "metadata": {
    "id": "s8oPUCrefceD"
   },
   "source": [
    "The dataset looks good and we now need to know how are the 5 classes distributed in the label so as to know it's balanced or not."
   ]
  },
  {
   "cell_type": "code",
   "execution_count": 13,
   "metadata": {
    "execution": {
     "iopub.execute_input": "2022-01-11T20:20:58.269628Z",
     "iopub.status.busy": "2022-01-11T20:20:58.269079Z",
     "iopub.status.idle": "2022-01-11T20:20:58.279765Z",
     "shell.execute_reply": "2022-01-11T20:20:58.279028Z",
     "shell.execute_reply.started": "2022-01-11T20:20:58.269588Z"
    },
    "id": "wCVbmr49gmmw",
    "outputId": "2745f8b3-c995-4a93-e4dc-ffee54313d0f"
   },
   "outputs": [
    {
     "data": {
      "text/plain": [
       "2    79582\n",
       "3    32927\n",
       "1    27273\n",
       "4     9206\n",
       "0     7072\n",
       "Name: Sentiment, dtype: int64"
      ]
     },
     "execution_count": 13,
     "metadata": {},
     "output_type": "execute_result"
    }
   ],
   "source": [
    "df.Sentiment.value_counts()"
   ]
  },
  {
   "cell_type": "markdown",
   "metadata": {},
   "source": [
    "## Plotting a pie Chart"
   ]
  },
  {
   "cell_type": "code",
   "execution_count": 16,
   "metadata": {
    "execution": {
     "iopub.execute_input": "2022-01-11T20:20:58.281823Z",
     "iopub.status.busy": "2022-01-11T20:20:58.281355Z",
     "iopub.status.idle": "2022-01-11T20:20:58.722720Z",
     "shell.execute_reply": "2022-01-11T20:20:58.722011Z",
     "shell.execute_reply.started": "2022-01-11T20:20:58.281786Z"
    },
    "id": "6_S-X5wchv8Q",
    "outputId": "30e7a9be-3e12-42ea-d52b-eab994421070"
   },
   "outputs": [],
   "source": [
    "df2=df.copy(deep=True)\n",
    "pie1=pd.DataFrame(df2['Sentiment'].replace(0,'Negative').replace(1,'Somewhat negative').replace(2,'Neutral').replace(3,'Somewhat positive').replace(4,'Positive').value_counts())"
   ]
  },
  {
   "cell_type": "code",
   "execution_count": 17,
   "metadata": {},
   "outputs": [
    {
     "data": {
      "text/html": [
       "<div>\n",
       "<style scoped>\n",
       "    .dataframe tbody tr th:only-of-type {\n",
       "        vertical-align: middle;\n",
       "    }\n",
       "\n",
       "    .dataframe tbody tr th {\n",
       "        vertical-align: top;\n",
       "    }\n",
       "\n",
       "    .dataframe thead th {\n",
       "        text-align: right;\n",
       "    }\n",
       "</style>\n",
       "<table border=\"1\" class=\"dataframe\">\n",
       "  <thead>\n",
       "    <tr style=\"text-align: right;\">\n",
       "      <th></th>\n",
       "      <th>Sentiment</th>\n",
       "    </tr>\n",
       "  </thead>\n",
       "  <tbody>\n",
       "    <tr>\n",
       "      <th>Neutral</th>\n",
       "      <td>79582</td>\n",
       "    </tr>\n",
       "    <tr>\n",
       "      <th>Somewhat positive</th>\n",
       "      <td>32927</td>\n",
       "    </tr>\n",
       "    <tr>\n",
       "      <th>Somewhat negative</th>\n",
       "      <td>27273</td>\n",
       "    </tr>\n",
       "    <tr>\n",
       "      <th>Positive</th>\n",
       "      <td>9206</td>\n",
       "    </tr>\n",
       "    <tr>\n",
       "      <th>Negative</th>\n",
       "      <td>7072</td>\n",
       "    </tr>\n",
       "  </tbody>\n",
       "</table>\n",
       "</div>"
      ],
      "text/plain": [
       "                   Sentiment\n",
       "Neutral                79582\n",
       "Somewhat positive      32927\n",
       "Somewhat negative      27273\n",
       "Positive                9206\n",
       "Negative                7072"
      ]
     },
     "execution_count": 17,
     "metadata": {},
     "output_type": "execute_result"
    }
   ],
   "source": [
    "pie1"
   ]
  },
  {
   "cell_type": "code",
   "execution_count": 18,
   "metadata": {},
   "outputs": [
    {
     "data": {
      "text/plain": [
       "<AxesSubplot: title={'center': 'Pie chart of Sentiment Class'}, ylabel='Sentiment'>"
      ]
     },
     "execution_count": 18,
     "metadata": {},
     "output_type": "execute_result"
    },
    {
     "data": {
      "image/png": "[encoded data removed]",
      "text/plain": [
       "<Figure size 1200x1200 with 1 Axes>"
      ]
     },
     "metadata": {},
     "output_type": "display_data"
    }
   ],
   "source": [
    "pie1.reset_index(inplace=True)\n",
    "pie1.plot(kind='pie', title='Pie chart of Sentiment Class',y = 'Sentiment', \n",
    "          autopct='%1.1f%%', shadow=False, labels=pie1['index'], legend = False, fontsize=14, figsize=(12,12))"
   ]
  },
  {
   "cell_type": "markdown",
   "metadata": {
    "id": "H3onsWjcf_Kw"
   },
   "source": [
    "The label is considerably unbalanced, only 'Neutral' corresponds to more than 50% of instances and there is a slightly skewed towards positive reviews. Early we can say the class to be predicted will be sidetracked toward the more frequent classes, this is why we need a text balancing technique just like 'SMOTE' for numerical features."
   ]
  },
  {
   "cell_type": "markdown",
   "metadata": {
    "id": "Bd4mCZ0piH6E"
   },
   "source": [
    "Time now to find out the number of words in reviews, in order to understand a bit better we will plot histograms for each class "
   ]
  },
  {
   "cell_type": "code",
   "execution_count": 19,
   "metadata": {
    "execution": {
     "iopub.execute_input": "2022-01-11T20:20:58.724897Z",
     "iopub.status.busy": "2022-01-11T20:20:58.724104Z",
     "iopub.status.idle": "2022-01-11T20:21:00.905758Z",
     "shell.execute_reply": "2022-01-11T20:21:00.905035Z",
     "shell.execute_reply.started": "2022-01-11T20:20:58.724852Z"
    },
    "id": "KzMoa4mthIUY"
   },
   "outputs": [
    {
     "data": {
      "text/plain": [
       "Text(0.5, 0.98, 'Histogram number of words in reviews')"
      ]
     },
     "execution_count": 19,
     "metadata": {},
     "output_type": "execute_result"
    },
    {
     "data": {
      "image/png": "[encoded data removed]",
      "text/plain": [
       "<Figure size 2500x800 with 5 Axes>"
      ]
     },
     "metadata": {},
     "output_type": "display_data"
    }
   ],
   "source": [
    "f, (ax1, ax2, ax3, ax4, ax5) = plt.subplots(1,5,figsize=(25,8))\n",
    "\n",
    "ax1.hist(df[df['Sentiment'] == 0]['Phrase'].str.split().map(lambda x: len(x)), bins=50, color='b')\n",
    "ax1.set_title('Negative Reviews')\n",
    "\n",
    "ax2.hist(df[df['Sentiment'] == 1]['Phrase'].str.split().map(lambda x: len(x)), bins=50, color='r')\n",
    "ax2.set_title('Somewhat Negative Reviews')\n",
    "\n",
    "ax3.hist(df[df['Sentiment'] == 2]['Phrase'].str.split().map(lambda x: len(x)), bins=50, color='g')\n",
    "ax3.set_title('Neutral Reviews')\n",
    "\n",
    "ax4.hist(df[df['Sentiment'] == 3]['Phrase'].str.split().map(lambda x: len(x)), bins=50, color='y')\n",
    "ax4.set_title('Somewhat Positive Reviews')\n",
    "\n",
    "ax5.hist(df[df['Sentiment'] == 4]['Phrase'].str.split().map(lambda x: len(x)), bins=50, color='k')\n",
    "ax5.set_title('Positive Reviews')\n",
    "\n",
    "f.suptitle('Histogram number of words in reviews')"
   ]
  },
  {
   "cell_type": "markdown",
   "metadata": {
    "id": "5Uk_y04kjZnS"
   },
   "source": [
    "In the 5 histograms we can see the distribution behaves like a negative exponential function decreasing significatively as the x-axis increases. It seems like the longest sentence in Phrase column corresponds to a class 'Negative Reviews' and is around 52 words, now let's  obtain the longest one by using the max() function: "
   ]
  },
  {
   "cell_type": "code",
   "execution_count": 20,
   "metadata": {
    "execution": {
     "iopub.execute_input": "2022-01-11T20:21:00.907852Z",
     "iopub.status.busy": "2022-01-11T20:21:00.907361Z",
     "iopub.status.idle": "2022-01-11T20:21:01.425598Z",
     "shell.execute_reply": "2022-01-11T20:21:01.424895Z",
     "shell.execute_reply.started": "2022-01-11T20:21:00.907811Z"
    },
    "id": "e4gi07fS0zTY",
    "outputId": "5897ec06-3f7f-4585-ead3-a7c1f49b6c04"
   },
   "outputs": [
    {
     "data": {
      "text/plain": [
       "52"
      ]
     },
     "execution_count": 20,
     "metadata": {},
     "output_type": "execute_result"
    }
   ],
   "source": [
    "df['Phrase'].str.split().map(lambda x: len(x)).max()"
   ]
  },
  {
   "cell_type": "markdown",
   "metadata": {
    "id": "Uc2CTeG4juJU"
   },
   "source": [
    "Effectively was 52 words, this means if we would Tokenize by word the max_length should be 52, however as transformers consider sub-words tokenization such number could be increased depending on the words being used which can increase such length to 60 or even more, thus we have to take that into account when modeling as it could cause our model to take significatively a long time to train, therefore we have to find a trade-off between training time and performance."
   ]
  },
  {
   "cell_type": "code",
   "execution_count": 22,
   "metadata": {
    "execution": {
     "iopub.execute_input": "2022-01-11T20:21:01.427206Z",
     "iopub.status.busy": "2022-01-11T20:21:01.426941Z",
     "iopub.status.idle": "2022-01-11T20:21:03.928238Z",
     "shell.execute_reply": "2022-01-11T20:21:03.927451Z",
     "shell.execute_reply.started": "2022-01-11T20:21:01.427155Z"
    },
    "id": "P7wUZNM5lqvW"
   },
   "outputs": [
    {
     "name": "stdout",
     "output_type": "stream",
     "text": [
      "Number of sentences which contain more than 20 words:  11494\n",
      " \n",
      "Number of sentences which contain more than 30 words:  2568\n",
      " \n",
      "Number of sentences which contain more than 40 words:  352\n",
      " \n",
      "Number of sentences which contain more than 50 words:  18\n",
      " \n",
      "Number of sentences which contain 52 words:  3\n",
      " \n"
     ]
    }
   ],
   "source": [
    "dfff=pd.DataFrame(df['Phrase'].str.split().map(lambda x: len(x))>=20)\n",
    "print('Number of sentences which contain more than 20 words: ', dfff.loc[dfff['Phrase']==True].shape[0])\n",
    "print(' ')\n",
    "dfff=pd.DataFrame(df['Phrase'].str.split().map(lambda x: len(x))>=30)\n",
    "print('Number of sentences which contain more than 30 words: ', dfff.loc[dfff['Phrase']==True].shape[0])\n",
    "print(' ')\n",
    "dfff=pd.DataFrame(df['Phrase'].str.split().map(lambda x: len(x))>=40)\n",
    "print('Number of sentences which contain more than 40 words: ', dfff.loc[dfff['Phrase']==True].shape[0])\n",
    "print(' ')\n",
    "dfff=pd.DataFrame(df['Phrase'].str.split().map(lambda x: len(x))>=50)\n",
    "print('Number of sentences which contain more than 50 words: ', dfff.loc[dfff['Phrase']==True].shape[0])\n",
    "print(' ')\n",
    "dfff=pd.DataFrame(df['Phrase'].str.split().map(lambda x: len(x))==52)\n",
    "print('Number of sentences which contain 52 words: ', dfff.loc[dfff['Phrase']==True].shape[0])\n",
    "print(' ')\n",
    "#dfff.loc[dfff['Phrase']==True]"
   ]
  },
  {
   "cell_type": "markdown",
   "metadata": {
    "id": "VD5esMKDmrDR"
   },
   "source": [
    "Above we see 352 reviews contain more than 40 words and only 18 reviews above 50 words, these two number corresponds to a tiny proportion of the total number of instances (156.060), therefore setting to these numbers will not affect too much the classification. Below we can see an example of a sentence containing 52 words, observe there are misspelled words, acronyms and some of them can be decomposed into sub-words:"
   ]
  },
  {
   "cell_type": "code",
   "execution_count": 23,
   "metadata": {
    "execution": {
     "iopub.execute_input": "2022-01-11T20:21:03.929994Z",
     "iopub.status.busy": "2022-01-11T20:21:03.929739Z",
     "iopub.status.idle": "2022-01-11T20:21:03.941878Z",
     "shell.execute_reply": "2022-01-11T20:21:03.940986Z",
     "shell.execute_reply.started": "2022-01-11T20:21:03.929960Z"
    },
    "id": "5O72UkvOwkc_",
    "outputId": "c395f57d-16ef-4a0b-a2e4-1b6cc7552172"
   },
   "outputs": [
    {
     "name": "stdout",
     "output_type": "stream",
     "text": [
      "There are n't too many films that can be as simultaneously funny , offbeat and heartwarming -LRB- without a thick shmear of the goo , at least -RRB- , but `` Elling '' manages to do all three quite well , making it one of the year 's most enjoyable releases .\n"
     ]
    }
   ],
   "source": [
    "print(df.loc[87835,'Phrase'])"
   ]
  },
  {
   "cell_type": "markdown",
   "metadata": {
    "id": "sysAtyUFjRYb"
   },
   "source": [
    "# Modeling\n",
    "\n",
    "In this step we will build, train and compare the following algorithms:\n",
    "\n",
    "- BERT (Bidirectional Encoder Representation from Transformers)\n",
    "- RoBERTa (Robustly Optimized BERT Pre-training Approach)\n",
    "- DistilBERT (Distilled BERT)\n",
    "- XLNet (Generalized Auto-Regressive model)\n",
    "\n",
    "Each one of the mentioned have its pros and cons, the most preferred and widely used model is the BERT for being the middle term in performance, whereas RoBERTa and .. are known for their better error metrics and DistilBERT for its faster training. We will consider all of these chracteristics and choose the best one for our dataset.\n",
    "\n",
    "Firstly, we have to install the transformers library offered by HuggingFace so as enable all useful functions when building the four models."
   ]
  },
  {
   "cell_type": "code",
   "execution_count": 24,
   "metadata": {
    "execution": {
     "iopub.execute_input": "2022-01-11T20:21:03.943783Z",
     "iopub.status.busy": "2022-01-11T20:21:03.943407Z",
     "iopub.status.idle": "2022-01-11T20:21:13.217650Z",
     "shell.execute_reply": "2022-01-11T20:21:13.216669Z",
     "shell.execute_reply.started": "2022-01-11T20:21:03.943739Z"
    },
    "id": "sxG72tcciNYM",
    "outputId": "1c90de03-b0c0-41a0-b206-205ba6b27ea0"
   },
   "outputs": [],
   "source": [
    "#!pip install transformers"
   ]
  },
  {
   "cell_type": "markdown",
   "metadata": {
    "id": "6zZU6oIMq1kL"
   },
   "source": [
    "Then what we need from tensorflow.keras:"
   ]
  },
  {
   "cell_type": "code",
   "execution_count": 25,
   "metadata": {
    "execution": {
     "iopub.execute_input": "2022-01-11T22:18:35.651993Z",
     "iopub.status.busy": "2022-01-11T22:18:35.651719Z",
     "iopub.status.idle": "2022-01-11T22:18:35.977340Z",
     "shell.execute_reply": "2022-01-11T22:18:35.976587Z",
     "shell.execute_reply.started": "2022-01-11T22:18:35.651961Z"
    },
    "id": "vNQ15zGUiaIg"
   },
   "outputs": [],
   "source": [
    "from tensorflow.keras.layers import Input, Dropout, Dense\n",
    "from tensorflow.keras.models import Model\n",
    "from tensorflow.keras.optimizers import Adam\n",
    "from tensorflow.keras.callbacks import EarlyStopping\n",
    "from tensorflow.keras.initializers import TruncatedNormal\n",
    "from tensorflow.keras.losses import CategoricalCrossentropy\n",
    "from tensorflow.keras.metrics import CategoricalAccuracy\n",
    "from tensorflow.keras.utils import to_categorical\n",
    "\n",
    "import pandas as pd\n",
    "from sklearn.model_selection import train_test_split"
   ]
  },
  {
   "cell_type": "markdown",
   "metadata": {
    "id": "-whqjU5LrBnR"
   },
   "source": [
    "Now we have to gather from the dataset only the two columns useful for training (Phrase and Sentiment):"
   ]
  },
  {
   "cell_type": "code",
   "execution_count": 33,
   "metadata": {
    "execution": {
     "iopub.execute_input": "2022-01-11T22:18:38.529088Z",
     "iopub.status.busy": "2022-01-11T22:18:38.528486Z",
     "iopub.status.idle": "2022-01-11T22:18:38.557094Z",
     "shell.execute_reply": "2022-01-11T22:18:38.556140Z",
     "shell.execute_reply.started": "2022-01-11T22:18:38.529034Z"
    },
    "id": "rT0Pqd62ieJq"
   },
   "outputs": [],
   "source": [
    "data = df[['Phrase', 'Sentiment']]"
   ]
  },
  {
   "cell_type": "code",
   "execution_count": 34,
   "metadata": {},
   "outputs": [
    {
     "data": {
      "text/html": [
       "<div>\n",
       "<style scoped>\n",
       "    .dataframe tbody tr th:only-of-type {\n",
       "        vertical-align: middle;\n",
       "    }\n",
       "\n",
       "    .dataframe tbody tr th {\n",
       "        vertical-align: top;\n",
       "    }\n",
       "\n",
       "    .dataframe thead th {\n",
       "        text-align: right;\n",
       "    }\n",
       "</style>\n",
       "<table border=\"1\" class=\"dataframe\">\n",
       "  <thead>\n",
       "    <tr style=\"text-align: right;\">\n",
       "      <th></th>\n",
       "      <th>Phrase</th>\n",
       "      <th>Sentiment</th>\n",
       "    </tr>\n",
       "  </thead>\n",
       "  <tbody>\n",
       "    <tr>\n",
       "      <th>0</th>\n",
       "      <td>A series of escapades demonstrating the adage ...</td>\n",
       "      <td>1</td>\n",
       "    </tr>\n",
       "    <tr>\n",
       "      <th>1</th>\n",
       "      <td>A series of escapades demonstrating the adage ...</td>\n",
       "      <td>2</td>\n",
       "    </tr>\n",
       "    <tr>\n",
       "      <th>2</th>\n",
       "      <td>A series</td>\n",
       "      <td>2</td>\n",
       "    </tr>\n",
       "    <tr>\n",
       "      <th>3</th>\n",
       "      <td>A</td>\n",
       "      <td>2</td>\n",
       "    </tr>\n",
       "    <tr>\n",
       "      <th>4</th>\n",
       "      <td>series</td>\n",
       "      <td>2</td>\n",
       "    </tr>\n",
       "  </tbody>\n",
       "</table>\n",
       "</div>"
      ],
      "text/plain": [
       "                                              Phrase  Sentiment\n",
       "0  A series of escapades demonstrating the adage ...          1\n",
       "1  A series of escapades demonstrating the adage ...          2\n",
       "2                                           A series          2\n",
       "3                                                  A          2\n",
       "4                                             series          2"
      ]
     },
     "execution_count": 34,
     "metadata": {},
     "output_type": "execute_result"
    }
   ],
   "source": [
    "data.head()"
   ]
  },
  {
   "cell_type": "code",
   "execution_count": 35,
   "metadata": {},
   "outputs": [],
   "source": [
    "# Set your model output as categorical and save in new label col\n",
    "data['Sentiment_label'] = pd.Categorical(data['Sentiment'])"
   ]
  },
  {
   "cell_type": "code",
   "execution_count": 37,
   "metadata": {},
   "outputs": [
    {
     "name": "stdout",
     "output_type": "stream",
     "text": [
      "<class 'pandas.core.frame.DataFrame'>\n",
      "RangeIndex: 156060 entries, 0 to 156059\n",
      "Data columns (total 3 columns):\n",
      " #   Column           Non-Null Count   Dtype   \n",
      "---  ------           --------------   -----   \n",
      " 0   Phrase           156060 non-null  object  \n",
      " 1   Sentiment        156060 non-null  int64   \n",
      " 2   Sentiment_label  156060 non-null  category\n",
      "dtypes: category(1), int64(1), object(1)\n",
      "memory usage: 2.5+ MB\n"
     ]
    }
   ],
   "source": [
    "data.info()"
   ]
  },
  {
   "cell_type": "code",
   "execution_count": 38,
   "metadata": {},
   "outputs": [],
   "source": [
    "# Transform your output to numeric\n",
    "data['Sentiment'] = data['Sentiment_label'].cat.codes"
   ]
  },
  {
   "cell_type": "code",
   "execution_count": 39,
   "metadata": {},
   "outputs": [
    {
     "name": "stdout",
     "output_type": "stream",
     "text": [
      "<class 'pandas.core.frame.DataFrame'>\n",
      "RangeIndex: 156060 entries, 0 to 156059\n",
      "Data columns (total 3 columns):\n",
      " #   Column           Non-Null Count   Dtype   \n",
      "---  ------           --------------   -----   \n",
      " 0   Phrase           156060 non-null  object  \n",
      " 1   Sentiment        156060 non-null  int8    \n",
      " 2   Sentiment_label  156060 non-null  category\n",
      "dtypes: category(1), int8(1), object(1)\n",
      "memory usage: 1.5+ MB\n"
     ]
    }
   ],
   "source": [
    "data.info()"
   ]
  },
  {
   "cell_type": "markdown",
   "metadata": {
    "id": "eKNkFPEproAx"
   },
   "source": [
    "Split into train and validation set, as the file contains more than 150 thousand instances we can consider only a small portion of it as validation and still the number is relatively long, because of this we will set the test_size to 10% as follows:"
   ]
  },
  {
   "cell_type": "code",
   "execution_count": 40,
   "metadata": {
    "execution": {
     "iopub.execute_input": "2022-01-11T22:18:39.777152Z",
     "iopub.status.busy": "2022-01-11T22:18:39.776877Z",
     "iopub.status.idle": "2022-01-11T22:18:39.801946Z",
     "shell.execute_reply": "2022-01-11T22:18:39.801225Z",
     "shell.execute_reply.started": "2022-01-11T22:18:39.777123Z"
    },
    "id": "bdNSiORernck"
   },
   "outputs": [],
   "source": [
    "data_train, data_val = train_test_split(data, test_size = 0.1)"
   ]
  },
  {
   "cell_type": "markdown",
   "metadata": {
    "id": "lryrxcu73H8w"
   },
   "source": [
    "# Bert"
   ]
  },
  {
   "cell_type": "markdown",
   "metadata": {},
   "source": [
    "As first step we have to import the Model, Config and Tokenizer corresponding to Bert in order to build properly the model. "
   ]
  },
  {
   "cell_type": "code",
   "execution_count": 41,
   "metadata": {
    "execution": {
     "iopub.execute_input": "2022-01-11T20:21:13.621118Z",
     "iopub.status.busy": "2022-01-11T20:21:13.620584Z",
     "iopub.status.idle": "2022-01-11T20:21:15.423399Z",
     "shell.execute_reply": "2022-01-11T20:21:15.422561Z",
     "shell.execute_reply.started": "2022-01-11T20:21:13.621078Z"
    },
    "id": "Sk6YUfbaKzHh"
   },
   "outputs": [],
   "source": [
    "from transformers import TFBertModel,  BertConfig, BertTokenizerFast"
   ]
  },
  {
   "cell_type": "markdown",
   "metadata": {},
   "source": [
    "The model we will use is 'bert_base_uncased' and the max_length chosen is 45 as there are only a very small number of larger sequences."
   ]
  },
  {
   "cell_type": "code",
   "execution_count": 42,
   "metadata": {
    "execution": {
     "iopub.execute_input": "2022-01-11T20:21:15.426576Z",
     "iopub.status.busy": "2022-01-11T20:21:15.424679Z",
     "iopub.status.idle": "2022-01-11T20:21:42.658606Z",
     "shell.execute_reply": "2022-01-11T20:21:42.657592Z",
     "shell.execute_reply.started": "2022-01-11T20:21:15.426529Z"
    },
    "id": "j6w85aIijCeb",
    "outputId": "57156987-de1e-417d-db1a-fc2217725294"
   },
   "outputs": [
    {
     "name": "stderr",
     "output_type": "stream",
     "text": [
      "Downloading: 100%|█████████████████████████████████████████████████████████████████████| 570/570 [00:00<00:00, 573kB/s]\n",
      "Downloading: 100%|██████████████████████████████████████████████████████████████████| 28.0/28.0 [00:00<00:00, 9.96kB/s]\n",
      "Downloading: 100%|██████████████████████████████████████████████████████████████████| 226k/226k [00:00<00:00, 2.70MB/s]\n",
      "Downloading: 100%|██████████████████████████████████████████████████████████████████| 455k/455k [00:00<00:00, 1.15MB/s]\n",
      "Downloading: 100%|██████████████████████████████████████████████████████████████████| 511M/511M [00:22<00:00, 23.7MB/s]\n",
      "Some layers from the model checkpoint at bert-base-uncased were not used when initializing TFBertModel: ['nsp___cls', 'mlm___cls']\n",
      "- This IS expected if you are initializing TFBertModel from the checkpoint of a model trained on another task or with another architecture (e.g. initializing a BertForSequenceClassification model from a BertForPreTraining model).\n",
      "- This IS NOT expected if you are initializing TFBertModel from the checkpoint of a model that you expect to be exactly identical (initializing a BertForSequenceClassification model from a BertForSequenceClassification model).\n",
      "All the layers of TFBertModel were initialized from the model checkpoint at bert-base-uncased.\n",
      "If your task is similar to the task the model of the checkpoint was trained on, you can already use TFBertModel for predictions without further training.\n"
     ]
    }
   ],
   "source": [
    "# Name of the BERT model to use\n",
    "model_name = 'bert-base-uncased'\n",
    "\n",
    "# Max length of tokens\n",
    "max_length = 45\n",
    "\n",
    "# Load transformers config and set output_hidden_states to False\n",
    "config = BertConfig.from_pretrained(model_name)\n",
    "\n",
    "\n",
    "# output_hidden_states attribute of the configuration object to False, \n",
    "# which means that the model will not return the hidden states \n",
    "# of all layers when it is run. This can be useful if you only need \n",
    "# the final output of the model and want to reduce memory usage.\n",
    "config.output_hidden_states = False\n",
    "\n",
    "# Load BERT tokenizer\n",
    "tokenizer = BertTokenizerFast.from_pretrained(pretrained_model_name_or_path = model_name, config = config)\n",
    "\n",
    "# Load the Transformers BERT model\n",
    "transformer_bert_model = TFBertModel.from_pretrained(model_name, config = config)"
   ]
  },
  {
   "cell_type": "markdown",
   "metadata": {},
   "source": [
    "Now that our model has been loaded we can start the processes of building and tuning according to our dataset and task using the functional API of keras.\n",
    "\n",
    "As we see below the input layer must consider the max_length of sequences and then this is fed to the bert model, a dropout layer to reduce overfitting (0.1) and finally a dense layer with number of neurons equal to number of classes in our label (5)."
   ]
  },
  {
   "cell_type": "code",
   "execution_count": 43,
   "metadata": {
    "execution": {
     "iopub.execute_input": "2022-01-11T20:21:42.660621Z",
     "iopub.status.busy": "2022-01-11T20:21:42.659951Z",
     "iopub.status.idle": "2022-01-11T20:21:49.119258Z",
     "shell.execute_reply": "2022-01-11T20:21:49.118510Z",
     "shell.execute_reply.started": "2022-01-11T20:21:42.660581Z"
    },
    "id": "ITPZPIy2k5kC",
    "outputId": "91fe580c-e1e6-447d-9b8d-a3b337f88fa7"
   },
   "outputs": [],
   "source": [
    "### ------- Build the model ------- ###\n",
    "\n",
    "# Load the MainLayer\n",
    "bert = transformer_bert_model.layers[0]"
   ]
  },
  {
   "cell_type": "code",
   "execution_count": 48,
   "metadata": {},
   "outputs": [],
   "source": [
    "# Build your model input\n",
    "input_ids = Input(shape=(max_length,), name='input_ids', dtype='int32')\n",
    "inputs = {'input_ids': input_ids}"
   ]
  },
  {
   "cell_type": "code",
   "execution_count": 49,
   "metadata": {},
   "outputs": [],
   "source": [
    "# Load the Transformers BERT model as a layer in a Keras model\n",
    "bert_model = bert(inputs)[1]\n",
    "dropout = Dropout(config.hidden_dropout_prob, name='pooled_output')\n",
    "pooled_output = dropout(bert_model, training=False)"
   ]
  },
  {
   "cell_type": "code",
   "execution_count": 53,
   "metadata": {},
   "outputs": [
    {
     "name": "stdout",
     "output_type": "stream",
     "text": [
      "Model: \"BERT_MultiClass\"\n",
      "_________________________________________________________________\n",
      " Layer (type)                Output Shape              Param #   \n",
      "=================================================================\n",
      " input_ids (InputLayer)      [(None, 45)]              0         \n",
      "                                                                 \n",
      " bert (TFBertMainLayer)      TFBaseModelOutputWithPoo  109482240 \n",
      "                             lingAndCrossAttentions(l            \n",
      "                             ast_hidden_state=(None,             \n",
      "                             45, 768),                           \n",
      "                              pooler_output=(None, 76            \n",
      "                             8),                                 \n",
      "                              past_key_values=None, h            \n",
      "                             idden_states=None, atten            \n",
      "                             tions=None, cross_attent            \n",
      "                             ions=None)                          \n",
      "                                                                 \n",
      " pooled_output (Dropout)     (None, 768)               0         \n",
      "                                                                 \n",
      " Sentiment (Dense)           (None, 5)                 3845      \n",
      "                                                                 \n",
      "=================================================================\n",
      "Total params: 109,486,085\n",
      "Trainable params: 109,486,085\n",
      "Non-trainable params: 0\n",
      "_________________________________________________________________\n"
     ]
    }
   ],
   "source": [
    "# Then build your model output\n",
    "Sentiments = Dense(units=len(data_train.Sentiment_label.value_counts()), kernel_initializer=TruncatedNormal(stddev=config.initializer_range), name='Sentiment')(pooled_output)\n",
    "outputs = {'Sentiment': Sentiments}\n",
    "\n",
    "# And combine it all in a model object\n",
    "model = Model(inputs=inputs, outputs=outputs, name='BERT_MultiClass')\n",
    "\n",
    "# Take a look at the model\n",
    "model.summary()"
   ]
  },
  {
   "cell_type": "markdown",
   "metadata": {},
   "source": [
    "The next cell considers the tokenization of training and validation sentences, setting of label as categorical and finally model training."
   ]
  },
  {
   "cell_type": "code",
   "execution_count": 23,
   "metadata": {
    "execution": {
     "iopub.execute_input": "2022-01-11T20:21:49.120952Z",
     "iopub.status.busy": "2022-01-11T20:21:49.120696Z",
     "iopub.status.idle": "2022-01-11T20:49:39.746327Z",
     "shell.execute_reply": "2022-01-11T20:49:39.745514Z",
     "shell.execute_reply.started": "2022-01-11T20:21:49.120917Z"
    },
    "id": "KaJKyCvulvDu"
   },
   "outputs": [
    {
     "name": "stderr",
     "output_type": "stream",
     "text": [
      "2022-01-11 20:21:58.160125: I tensorflow/compiler/mlir/mlir_graph_optimization_pass.cc:185] None of the MLIR Optimization Passes are enabled (registered 2)\n"
     ]
    },
    {
     "name": "stdout",
     "output_type": "stream",
     "text": [
      "Epoch 1/2\n",
      "2195/2195 [==============================] - 832s 370ms/step - loss: 0.8159 - accuracy: 0.6630 - val_loss: 0.7484 - val_accuracy: 0.6882\n",
      "Epoch 2/2\n",
      "2195/2195 [==============================] - 808s 368ms/step - loss: 0.7143 - accuracy: 0.7029 - val_loss: 0.7432 - val_accuracy: 0.6873\n"
     ]
    }
   ],
   "source": [
    "### ------- Train the model ------- ###\n",
    "\n",
    "# Set an optimizer\n",
    "optimizer = Adam(learning_rate=5e-05,epsilon=1e-08,decay=0.01,clipnorm=1.0)\n",
    "\n",
    "# Set loss and metrics\n",
    "loss = {'Sentiment': CategoricalCrossentropy(from_logits = True)}\n",
    "\n",
    "# Compile the model\n",
    "model.compile(optimizer = optimizer, loss = loss, metrics = ['accuracy'])\n",
    "\n",
    "# Ready output data for the model\n",
    "y_train = to_categorical(data_train['Sentiment'])\n",
    "\n",
    "# Tokenize the input (takes some time)\n",
    "x_train = tokenizer(\n",
    "          text=data_train['Phrase'].to_list(),\n",
    "          add_special_tokens=True,\n",
    "          max_length=max_length,\n",
    "          truncation=True,\n",
    "          padding=True, \n",
    "          return_tensors='tf',\n",
    "          return_token_type_ids = False,\n",
    "          return_attention_mask = True,\n",
    "          verbose = True)\n",
    "\n",
    "y_val = to_categorical(data_val['Sentiment'])\n",
    "\n",
    "x_val = tokenizer(\n",
    "          text=data_val['Phrase'].to_list(),\n",
    "          add_special_tokens=True,\n",
    "          max_length=max_length,\n",
    "          truncation=True,\n",
    "          padding=True, \n",
    "          return_tensors='tf',\n",
    "          return_token_type_ids = False,\n",
    "          return_attention_mask = True,\n",
    "          verbose = True)\n",
    "\n",
    "# Fit the model\n",
    "history = model.fit(\n",
    "    x={'input_ids': x_train['input_ids']},\n",
    "    y={'Sentiment': y_train},\n",
    "    validation_data=({'input_ids': x_val['input_ids']},{'Sentiment': y_val}),\n",
    "    batch_size=64,\n",
    "    epochs=2,\n",
    "    verbose=1)"
   ]
  },
  {
   "cell_type": "markdown",
   "metadata": {},
   "source": [
    "The model took 27 minutes and 20 seconds to train for 2 epochs."
   ]
  },
  {
   "cell_type": "markdown",
   "metadata": {
    "id": "8drvIVReAlUF"
   },
   "source": [
    "## Evaluate on validation set:\n",
    "\n",
    "We will compute the error metrics on the validation set in order to have an idea of the model performance."
   ]
  },
  {
   "cell_type": "code",
   "execution_count": 24,
   "metadata": {
    "execution": {
     "iopub.execute_input": "2022-01-11T20:51:29.209647Z",
     "iopub.status.busy": "2022-01-11T20:51:29.209382Z",
     "iopub.status.idle": "2022-01-11T20:52:07.450700Z",
     "shell.execute_reply": "2022-01-11T20:52:07.449888Z",
     "shell.execute_reply.started": "2022-01-11T20:51:29.209619Z"
    },
    "id": "f-yBifB2zppy"
   },
   "outputs": [
    {
     "name": "stdout",
     "output_type": "stream",
     "text": [
      "488/488 [==============================] - 38s 78ms/step - loss: 0.7432 - accuracy: 0.6873\n"
     ]
    }
   ],
   "source": [
    "model_eval = model.evaluate(\n",
    "    x={'input_ids': x_val['input_ids']},\n",
    "    y={'Sentiment': y_val}\n",
    ")"
   ]
  },
  {
   "cell_type": "code",
   "execution_count": 25,
   "metadata": {
    "execution": {
     "iopub.execute_input": "2022-01-11T20:52:07.453286Z",
     "iopub.status.busy": "2022-01-11T20:52:07.452874Z",
     "iopub.status.idle": "2022-01-11T20:52:50.872268Z",
     "shell.execute_reply": "2022-01-11T20:52:50.871431Z",
     "shell.execute_reply.started": "2022-01-11T20:52:07.453240Z"
    },
    "id": "4WoB8mRSzpZR"
   },
   "outputs": [],
   "source": [
    "y_val_predicted = model.predict(\n",
    "    x={'input_ids': x_val['input_ids']},\n",
    ")"
   ]
  },
  {
   "cell_type": "markdown",
   "metadata": {},
   "source": [
    "y_val_predicted corresponds to a numpy array representing the instances and the prediction as one-hot encoded, the actual label is formatted in the same manner, let's them see in detail:"
   ]
  },
  {
   "cell_type": "code",
   "execution_count": 26,
   "metadata": {
    "execution": {
     "iopub.execute_input": "2022-01-11T20:52:59.134455Z",
     "iopub.status.busy": "2022-01-11T20:52:59.133816Z",
     "iopub.status.idle": "2022-01-11T20:52:59.146208Z",
     "shell.execute_reply": "2022-01-11T20:52:59.145383Z",
     "shell.execute_reply.started": "2022-01-11T20:52:59.134408Z"
    },
    "id": "Vc8ZG_uG0A9_"
   },
   "outputs": [
    {
     "data": {
      "text/plain": [
       "array([[-2.950402  , -0.42682916,  3.9983213 ,  0.8387285 , -2.6528964 ],\n",
       "       [-0.88253033,  2.220564  ,  2.863621  , -0.81450546, -4.021455  ],\n",
       "       [-3.4853635 , -0.61825454,  4.008443  ,  1.3594049 , -2.6902695 ],\n",
       "       ...,\n",
       "       [-0.55490416,  2.155587  ,  2.251635  , -0.6258496 , -3.6703525 ],\n",
       "       [-3.4386137 , -2.891458  , -0.14394261,  3.0558197 ,  2.62261   ],\n",
       "       [-1.5385206 ,  1.3927057 ,  2.3885827 ,  0.25385484, -3.1390386 ]],\n",
       "      dtype=float32)"
      ]
     },
     "execution_count": 26,
     "metadata": {},
     "output_type": "execute_result"
    }
   ],
   "source": [
    "y_val_predicted['Sentiment']"
   ]
  },
  {
   "cell_type": "code",
   "execution_count": 27,
   "metadata": {
    "execution": {
     "iopub.execute_input": "2022-01-11T20:53:06.316961Z",
     "iopub.status.busy": "2022-01-11T20:53:06.316316Z",
     "iopub.status.idle": "2022-01-11T20:53:06.322962Z",
     "shell.execute_reply": "2022-01-11T20:53:06.321997Z",
     "shell.execute_reply.started": "2022-01-11T20:53:06.316923Z"
    },
    "id": "xMhJKp6j0QKu"
   },
   "outputs": [
    {
     "data": {
      "text/plain": [
       "array([[0., 0., 1., 0., 0.],\n",
       "       [0., 0., 1., 0., 0.],\n",
       "       [0., 0., 1., 0., 0.],\n",
       "       ...,\n",
       "       [0., 0., 0., 1., 0.],\n",
       "       [0., 0., 0., 0., 1.],\n",
       "       [0., 0., 1., 0., 0.]], dtype=float32)"
      ]
     },
     "execution_count": 27,
     "metadata": {},
     "output_type": "execute_result"
    }
   ],
   "source": [
    "y_val"
   ]
  },
  {
   "cell_type": "markdown",
   "metadata": {},
   "source": [
    "In order to compute the classification report and confusion matrix we will convert the matrices to one column representing the argmax for each row:"
   ]
  },
  {
   "cell_type": "code",
   "execution_count": 28,
   "metadata": {
    "execution": {
     "iopub.execute_input": "2022-01-11T20:53:27.427866Z",
     "iopub.status.busy": "2022-01-11T20:53:27.427075Z",
     "iopub.status.idle": "2022-01-11T20:53:27.475906Z",
     "shell.execute_reply": "2022-01-11T20:53:27.475192Z",
     "shell.execute_reply.started": "2022-01-11T20:53:27.427831Z"
    },
    "id": "NjuJ2S9p0QC4"
   },
   "outputs": [],
   "source": [
    "y_val_pred_max=[np.argmax(i) for i in y_val_predicted['Sentiment']]"
   ]
  },
  {
   "cell_type": "code",
   "execution_count": 29,
   "metadata": {
    "execution": {
     "iopub.execute_input": "2022-01-11T20:53:27.873310Z",
     "iopub.status.busy": "2022-01-11T20:53:27.872712Z",
     "iopub.status.idle": "2022-01-11T20:53:27.923654Z",
     "shell.execute_reply": "2022-01-11T20:53:27.922906Z",
     "shell.execute_reply.started": "2022-01-11T20:53:27.873267Z"
    },
    "id": "4JW34Cit0dPb"
   },
   "outputs": [],
   "source": [
    "y_val_actual_max=[np.argmax(i) for i in y_val]"
   ]
  },
  {
   "cell_type": "code",
   "execution_count": 30,
   "metadata": {
    "execution": {
     "iopub.execute_input": "2022-01-11T20:53:31.127720Z",
     "iopub.status.busy": "2022-01-11T20:53:31.127106Z",
     "iopub.status.idle": "2022-01-11T20:53:31.172307Z",
     "shell.execute_reply": "2022-01-11T20:53:31.171525Z",
     "shell.execute_reply.started": "2022-01-11T20:53:31.127678Z"
    },
    "id": "gErIUNLY0e5B"
   },
   "outputs": [
    {
     "name": "stdout",
     "output_type": "stream",
     "text": [
      "              precision    recall  f1-score   support\n",
      "\n",
      "           0       0.47      0.51      0.49       655\n",
      "           1       0.61      0.57      0.59      2942\n",
      "           2       0.78      0.79      0.79      7841\n",
      "           3       0.60      0.61      0.61      3229\n",
      "           4       0.57      0.59      0.58       939\n",
      "\n",
      "    accuracy                           0.69     15606\n",
      "   macro avg       0.61      0.61      0.61     15606\n",
      "weighted avg       0.69      0.69      0.69     15606\n",
      "\n"
     ]
    }
   ],
   "source": [
    "from sklearn.metrics import classification_report\n",
    "\n",
    "report = classification_report(y_val_pred_max, y_val_actual_max)\n",
    "\n",
    "print(report)"
   ]
  },
  {
   "cell_type": "markdown",
   "metadata": {},
   "source": [
    "The fact that our dataset is unbalanced in classes makes our prediction absolutely sidetracked towards the most frequent class, in this case (2: 'Neutral'), because of this the performance of the model is poor when predicting classes 0 or 4, making our model almost unuseful for this task. Below we can see for these 2 classes the number of misclassifications is huge."
   ]
  },
  {
   "cell_type": "code",
   "execution_count": 31,
   "metadata": {
    "execution": {
     "iopub.execute_input": "2022-01-11T20:53:49.667115Z",
     "iopub.status.busy": "2022-01-11T20:53:49.666194Z",
     "iopub.status.idle": "2022-01-11T20:53:50.021031Z",
     "shell.execute_reply": "2022-01-11T20:53:50.020107Z",
     "shell.execute_reply.started": "2022-01-11T20:53:49.667066Z"
    },
    "id": "ub8k6M2K0evb"
   },
   "outputs": [
    {
     "data": {
      "image/png": "[encoded data removed]",
      "text/plain": [
       "<Figure size 432x288 with 2 Axes>"
      ]
     },
     "metadata": {},
     "output_type": "display_data"
    }
   ],
   "source": [
    "from sklearn.metrics import confusion_matrix, ConfusionMatrixDisplay\n",
    "\n",
    "disp = ConfusionMatrixDisplay(confusion_matrix=confusion_matrix(y_val_pred_max, y_val_actual_max), display_labels=np.unique(y_val_actual_max))\n",
    "disp.plot(cmap='Blues') \n",
    "plt.grid(False)"
   ]
  },
  {
   "cell_type": "markdown",
   "metadata": {
    "id": "fr7guSOLAvUN"
   },
   "source": [
    "## Inference:\n",
    "\n",
    "In this step we will predict the classes corresponding to the test set (out-of-bag) instances, because of the huge dataset we can expect to have almost same performance."
   ]
  },
  {
   "cell_type": "code",
   "execution_count": 32,
   "metadata": {
    "execution": {
     "iopub.execute_input": "2022-01-11T20:53:57.951023Z",
     "iopub.status.busy": "2022-01-11T20:53:57.950764Z",
     "iopub.status.idle": "2022-01-11T20:54:00.774188Z",
     "shell.execute_reply": "2022-01-11T20:54:00.773471Z",
     "shell.execute_reply.started": "2022-01-11T20:53:57.950994Z"
    },
    "id": "Bw_hlmMYnJXN"
   },
   "outputs": [],
   "source": [
    "x_test = tokenizer(\n",
    "          text=df_test['Phrase'].to_list(),\n",
    "          add_special_tokens=True,\n",
    "          max_length=max_length,\n",
    "          truncation=True,\n",
    "          padding=True, \n",
    "          return_tensors='tf',\n",
    "          return_token_type_ids = False,\n",
    "          return_attention_mask = False,\n",
    "          verbose = True)"
   ]
  },
  {
   "cell_type": "code",
   "execution_count": 33,
   "metadata": {
    "execution": {
     "iopub.execute_input": "2022-01-11T20:54:05.634874Z",
     "iopub.status.busy": "2022-01-11T20:54:05.634323Z",
     "iopub.status.idle": "2022-01-11T20:57:27.587563Z",
     "shell.execute_reply": "2022-01-11T20:57:27.586761Z",
     "shell.execute_reply.started": "2022-01-11T20:54:05.634837Z"
    },
    "id": "_NJRMKctnZmA"
   },
   "outputs": [],
   "source": [
    "label_predicted = model.predict(\n",
    "    x={'input_ids': x_test['input_ids']},\n",
    ")"
   ]
  },
  {
   "cell_type": "code",
   "execution_count": 34,
   "metadata": {
    "execution": {
     "iopub.execute_input": "2022-01-11T20:57:30.736080Z",
     "iopub.status.busy": "2022-01-11T20:57:30.735153Z",
     "iopub.status.idle": "2022-01-11T20:57:30.743255Z",
     "shell.execute_reply": "2022-01-11T20:57:30.742434Z",
     "shell.execute_reply.started": "2022-01-11T20:57:30.736024Z"
    },
    "id": "f6fo_-YNnjZ6"
   },
   "outputs": [
    {
     "data": {
      "text/plain": [
       "array([[-2.6702874 , -0.08949564,  1.5939094 ,  1.6745299 , -1.6287642 ],\n",
       "       [-2.7132053 , -0.10407966,  1.6614113 ,  1.7015921 , -1.6762347 ],\n",
       "       [-3.3955321 , -0.5904041 ,  4.187988  ,  1.1759131 , -2.7307262 ],\n",
       "       ...,\n",
       "       [-0.8131799 ,  2.33063   ,  2.3363943 , -0.6862137 , -3.8018396 ],\n",
       "       [-0.86436266,  2.3314843 ,  2.3517497 , -0.65539634, -3.8360848 ],\n",
       "       [-0.02174537,  2.623629  ,  1.6020045 , -1.1560606 , -3.7317176 ]],\n",
       "      dtype=float32)"
      ]
     },
     "execution_count": 34,
     "metadata": {},
     "output_type": "execute_result"
    }
   ],
   "source": [
    "label_predicted['Sentiment']"
   ]
  },
  {
   "cell_type": "code",
   "execution_count": 35,
   "metadata": {
    "execution": {
     "iopub.execute_input": "2022-01-11T20:57:36.434581Z",
     "iopub.status.busy": "2022-01-11T20:57:36.434221Z",
     "iopub.status.idle": "2022-01-11T20:57:36.628083Z",
     "shell.execute_reply": "2022-01-11T20:57:36.627348Z",
     "shell.execute_reply.started": "2022-01-11T20:57:36.434542Z"
    },
    "id": "_3MkSRYmnomp"
   },
   "outputs": [],
   "source": [
    "label_pred_max=[np.argmax(i) for i in label_predicted['Sentiment']]"
   ]
  },
  {
   "cell_type": "code",
   "execution_count": 37,
   "metadata": {
    "execution": {
     "iopub.execute_input": "2022-01-11T20:57:53.928140Z",
     "iopub.status.busy": "2022-01-11T20:57:53.927552Z",
     "iopub.status.idle": "2022-01-11T20:57:53.933346Z",
     "shell.execute_reply": "2022-01-11T20:57:53.932664Z",
     "shell.execute_reply.started": "2022-01-11T20:57:53.928100Z"
    },
    "id": "bLrn8zucnoaX"
   },
   "outputs": [
    {
     "data": {
      "text/plain": [
       "[3, 3, 2, 3, 3, 3, 3, 2, 3, 2]"
      ]
     },
     "execution_count": 37,
     "metadata": {},
     "output_type": "execute_result"
    }
   ],
   "source": [
    "label_pred_max[:10]"
   ]
  },
  {
   "cell_type": "markdown",
   "metadata": {},
   "source": [
    "We will build the next 3 models the same way as the previous one, notice there are some lines which includes extra functions proper for the model:"
   ]
  },
  {
   "cell_type": "markdown",
   "metadata": {
    "id": "l0YjTXk0A1nJ"
   },
   "source": [
    "# RoBERTa"
   ]
  },
  {
   "cell_type": "code",
   "execution_count": 9,
   "metadata": {
    "execution": {
     "iopub.execute_input": "2022-01-11T21:09:55.989727Z",
     "iopub.status.busy": "2022-01-11T21:09:55.989102Z",
     "iopub.status.idle": "2022-01-11T21:09:57.554487Z",
     "shell.execute_reply": "2022-01-11T21:09:57.553779Z",
     "shell.execute_reply.started": "2022-01-11T21:09:55.989692Z"
    },
    "id": "QUjTAPOD1qdV"
   },
   "outputs": [],
   "source": [
    "from transformers import RobertaTokenizer, TFRobertaModel, RobertaConfig  "
   ]
  },
  {
   "cell_type": "code",
   "execution_count": 10,
   "metadata": {
    "execution": {
     "iopub.execute_input": "2022-01-11T21:10:08.198645Z",
     "iopub.status.busy": "2022-01-11T21:10:08.198393Z",
     "iopub.status.idle": "2022-01-11T21:10:39.094974Z",
     "shell.execute_reply": "2022-01-11T21:10:39.093938Z",
     "shell.execute_reply.started": "2022-01-11T21:10:08.198618Z"
    },
    "id": "3xfOae3K3PK6",
    "outputId": "b50d3ddf-2738-4f20-b7d0-c7e2355a7886"
   },
   "outputs": [
    {
     "data": {
      "application/vnd.jupyter.widget-view+json": {
       "model_id": "63b63d537ce04443a2e12131cb4ec68b",
       "version_major": 2,
       "version_minor": 0
      },
      "text/plain": [
       "Downloading:   0%|          | 0.00/481 [00:00<?, ?B/s]"
      ]
     },
     "metadata": {},
     "output_type": "display_data"
    },
    {
     "data": {
      "application/vnd.jupyter.widget-view+json": {
       "model_id": "dae784207fa84eaab1bc8bc9561f7da4",
       "version_major": 2,
       "version_minor": 0
      },
      "text/plain": [
       "Downloading:   0%|          | 0.00/878k [00:00<?, ?B/s]"
      ]
     },
     "metadata": {},
     "output_type": "display_data"
    },
    {
     "data": {
      "application/vnd.jupyter.widget-view+json": {
       "model_id": "2699f88a05464d0d8f80a319daee0bd8",
       "version_major": 2,
       "version_minor": 0
      },
      "text/plain": [
       "Downloading:   0%|          | 0.00/446k [00:00<?, ?B/s]"
      ]
     },
     "metadata": {},
     "output_type": "display_data"
    },
    {
     "data": {
      "application/vnd.jupyter.widget-view+json": {
       "model_id": "525942f965f94e40888f8dcce843d823",
       "version_major": 2,
       "version_minor": 0
      },
      "text/plain": [
       "Downloading:   0%|          | 0.00/1.29M [00:00<?, ?B/s]"
      ]
     },
     "metadata": {},
     "output_type": "display_data"
    },
    {
     "data": {
      "application/vnd.jupyter.widget-view+json": {
       "model_id": "3c0b0c75c1a04de1b9f182387bacb81d",
       "version_major": 2,
       "version_minor": 0
      },
      "text/plain": [
       "Downloading:   0%|          | 0.00/627M [00:00<?, ?B/s]"
      ]
     },
     "metadata": {},
     "output_type": "display_data"
    },
    {
     "name": "stderr",
     "output_type": "stream",
     "text": [
      "2022-01-11 21:10:31.557337: I tensorflow/stream_executor/cuda/cuda_gpu_executor.cc:937] successful NUMA node read from SysFS had negative value (-1), but there must be at least one NUMA node, so returning NUMA node zero\n",
      "2022-01-11 21:10:31.558410: I tensorflow/stream_executor/cuda/cuda_gpu_executor.cc:937] successful NUMA node read from SysFS had negative value (-1), but there must be at least one NUMA node, so returning NUMA node zero\n",
      "2022-01-11 21:10:31.559198: I tensorflow/stream_executor/cuda/cuda_gpu_executor.cc:937] successful NUMA node read from SysFS had negative value (-1), but there must be at least one NUMA node, so returning NUMA node zero\n",
      "2022-01-11 21:10:31.560161: I tensorflow/core/platform/cpu_feature_guard.cc:142] This TensorFlow binary is optimized with oneAPI Deep Neural Network Library (oneDNN) to use the following CPU instructions in performance-critical operations:  AVX2 AVX512F FMA\n",
      "To enable them in other operations, rebuild TensorFlow with the appropriate compiler flags.\n",
      "2022-01-11 21:10:31.561352: I tensorflow/stream_executor/cuda/cuda_gpu_executor.cc:937] successful NUMA node read from SysFS had negative value (-1), but there must be at least one NUMA node, so returning NUMA node zero\n",
      "2022-01-11 21:10:31.562025: I tensorflow/stream_executor/cuda/cuda_gpu_executor.cc:937] successful NUMA node read from SysFS had negative value (-1), but there must be at least one NUMA node, so returning NUMA node zero\n",
      "2022-01-11 21:10:31.562684: I tensorflow/stream_executor/cuda/cuda_gpu_executor.cc:937] successful NUMA node read from SysFS had negative value (-1), but there must be at least one NUMA node, so returning NUMA node zero\n",
      "2022-01-11 21:10:36.755108: I tensorflow/stream_executor/cuda/cuda_gpu_executor.cc:937] successful NUMA node read from SysFS had negative value (-1), but there must be at least one NUMA node, so returning NUMA node zero\n",
      "2022-01-11 21:10:36.755947: I tensorflow/stream_executor/cuda/cuda_gpu_executor.cc:937] successful NUMA node read from SysFS had negative value (-1), but there must be at least one NUMA node, so returning NUMA node zero\n",
      "2022-01-11 21:10:36.756610: I tensorflow/stream_executor/cuda/cuda_gpu_executor.cc:937] successful NUMA node read from SysFS had negative value (-1), but there must be at least one NUMA node, so returning NUMA node zero\n",
      "2022-01-11 21:10:36.757209: I tensorflow/core/common_runtime/gpu/gpu_device.cc:1510] Created device /job:localhost/replica:0/task:0/device:GPU:0 with 14959 MB memory:  -> device: 0, name: Tesla P100-PCIE-16GB, pci bus id: 0000:00:04.0, compute capability: 6.0\n",
      "Some layers from the model checkpoint at roberta-base were not used when initializing TFRobertaModel: ['lm_head']\n",
      "- This IS expected if you are initializing TFRobertaModel from the checkpoint of a model trained on another task or with another architecture (e.g. initializing a BertForSequenceClassification model from a BertForPreTraining model).\n",
      "- This IS NOT expected if you are initializing TFRobertaModel from the checkpoint of a model that you expect to be exactly identical (initializing a BertForSequenceClassification model from a BertForSequenceClassification model).\n",
      "All the layers of TFRobertaModel were initialized from the model checkpoint at roberta-base.\n",
      "If your task is similar to the task the model of the checkpoint was trained on, you can already use TFRobertaModel for predictions without further training.\n"
     ]
    }
   ],
   "source": [
    "### --------- Setup Roberta ---------- ###\n",
    "\n",
    "model_name = 'roberta-base'\n",
    "\n",
    "# Max length of tokens\n",
    "max_length = 40\n",
    "\n",
    "# Load transformers config and set output_hidden_states to False\n",
    "config = RobertaConfig.from_pretrained(model_name)\n",
    "config.output_hidden_states = False\n",
    "\n",
    "# Load Roberta tokenizer\n",
    "tokenizer = RobertaTokenizer.from_pretrained(pretrained_model_name_or_path = model_name, config = config)\n",
    "\n",
    "# Load the Roberta model\n",
    "transformer_roberta_model = TFRobertaModel.from_pretrained(model_name, config = config)"
   ]
  },
  {
   "cell_type": "code",
   "execution_count": 11,
   "metadata": {
    "execution": {
     "iopub.execute_input": "2022-01-11T21:11:18.702887Z",
     "iopub.status.busy": "2022-01-11T21:11:18.702316Z",
     "iopub.status.idle": "2022-01-11T21:11:25.168982Z",
     "shell.execute_reply": "2022-01-11T21:11:25.168282Z",
     "shell.execute_reply.started": "2022-01-11T21:11:18.702849Z"
    },
    "id": "hTC7Bvgl3PK8",
    "outputId": "427ade86-6e49-4905-c880-fbb8351942a4"
   },
   "outputs": [
    {
     "name": "stdout",
     "output_type": "stream",
     "text": [
      "Model: \"RoBERTa_MultiClass\"\n",
      "_________________________________________________________________\n",
      "Layer (type)                 Output Shape              Param #   \n",
      "=================================================================\n",
      "input_ids (InputLayer)       [(None, 40)]              0         \n",
      "_________________________________________________________________\n",
      "roberta (TFRobertaMainLayer) TFBaseModelOutputWithPool 124645632 \n",
      "_________________________________________________________________\n",
      "pooled_output (Dropout)      (None, 768)               0         \n",
      "_________________________________________________________________\n",
      "Sentiment (Dense)            (None, 5)                 3845      \n",
      "=================================================================\n",
      "Total params: 124,649,477\n",
      "Trainable params: 124,649,477\n",
      "Non-trainable params: 0\n",
      "_________________________________________________________________\n"
     ]
    }
   ],
   "source": [
    "### ------- Build the model ------- ###\n",
    "\n",
    "# Load the MainLayer\n",
    "roberta = transformer_roberta_model.layers[0]\n",
    "\n",
    "# Build your model input\n",
    "input_ids = Input(shape=(max_length,), name='input_ids', dtype='int32')\n",
    "inputs = {'input_ids': input_ids}\n",
    "\n",
    "# Load the Transformers RoBERTa model as a layer in a Keras model\n",
    "roberta_model = roberta(inputs)[1]\n",
    "dropout = Dropout(config.hidden_dropout_prob, name='pooled_output')\n",
    "pooled_output = dropout(roberta_model, training=False)\n",
    "\n",
    "# Then build your model output\n",
    "Sentiments = Dense(units=len(data_train.Sentiment_label.value_counts()), kernel_initializer=TruncatedNormal(stddev=config.initializer_range), name='Sentiment')(pooled_output)\n",
    "outputs = {'Sentiment': Sentiments}\n",
    "\n",
    "# And combine it all in a model object\n",
    "model2 = Model(inputs=inputs, outputs=outputs, name='RoBERTa_MultiClass')\n",
    "\n",
    "# Take a look at the model\n",
    "model2.summary()"
   ]
  },
  {
   "cell_type": "code",
   "execution_count": 12,
   "metadata": {
    "execution": {
     "iopub.execute_input": "2022-01-11T21:11:45.008798Z",
     "iopub.status.busy": "2022-01-11T21:11:45.008543Z",
     "iopub.status.idle": "2022-01-11T21:38:09.881801Z",
     "shell.execute_reply": "2022-01-11T21:38:09.881106Z",
     "shell.execute_reply.started": "2022-01-11T21:11:45.008771Z"
    },
    "id": "HwZxHwoJ3PK-"
   },
   "outputs": [
    {
     "name": "stderr",
     "output_type": "stream",
     "text": [
      "2022-01-11 21:12:10.718756: I tensorflow/compiler/mlir/mlir_graph_optimization_pass.cc:185] None of the MLIR Optimization Passes are enabled (registered 2)\n"
     ]
    },
    {
     "name": "stdout",
     "output_type": "stream",
     "text": [
      "Epoch 1/2\n",
      "2195/2195 [==============================] - 791s 352ms/step - loss: 0.8651 - accuracy: 0.6434 - val_loss: 0.7624 - val_accuracy: 0.6776\n",
      "Epoch 2/2\n",
      "2195/2195 [==============================] - 769s 350ms/step - loss: 0.7511 - accuracy: 0.6880 - val_loss: 0.7460 - val_accuracy: 0.6846\n"
     ]
    }
   ],
   "source": [
    "### ------- Train the model ------- ###\n",
    "\n",
    "# Set an optimizer\n",
    "optimizer = Adam(learning_rate=5e-05,epsilon=1e-08,decay=0.01,clipnorm=1.0)\n",
    "\n",
    "# Set loss and metrics\n",
    "loss = {'Sentiment': CategoricalCrossentropy(from_logits = True)}\n",
    "\n",
    "# Compile the model\n",
    "model2.compile(optimizer = optimizer, loss = loss, metrics = ['accuracy'])\n",
    "\n",
    "# Ready output data for the model\n",
    "y_train = to_categorical(data_train['Sentiment'])\n",
    "\n",
    "# Tokenize the input (takes some time)\n",
    "x_train = tokenizer(\n",
    "          text=data_train['Phrase'].to_list(),\n",
    "          add_special_tokens=True,\n",
    "          max_length=max_length,\n",
    "          truncation=True,\n",
    "          padding=True, \n",
    "          return_tensors='tf',\n",
    "          return_token_type_ids = False,\n",
    "          return_attention_mask = True,\n",
    "          verbose = True)\n",
    "\n",
    "y_val = to_categorical(data_val['Sentiment'])\n",
    "\n",
    "x_val = tokenizer(\n",
    "          text=data_val['Phrase'].to_list(),\n",
    "          add_special_tokens=True,\n",
    "          max_length=max_length,\n",
    "          truncation=True,\n",
    "          padding=True, \n",
    "          return_tensors='tf',\n",
    "          return_token_type_ids = False,\n",
    "          return_attention_mask = True,\n",
    "          verbose = True)\n",
    "\n",
    "# Fit the model\n",
    "history = model2.fit(\n",
    "    x={'input_ids': x_train['input_ids']},\n",
    "    y={'Sentiment': y_train},\n",
    "    validation_data=({'input_ids': x_val['input_ids']},{'Sentiment': y_val}),\n",
    "    batch_size=64,\n",
    "    epochs=2,\n",
    "    verbose=1)"
   ]
  },
  {
   "cell_type": "markdown",
   "metadata": {},
   "source": [
    "The model took 26 minutes to train for 2 epochs."
   ]
  },
  {
   "cell_type": "markdown",
   "metadata": {
    "id": "zaoTBh7-A5Dc"
   },
   "source": [
    "## Evaluate on validation set:"
   ]
  },
  {
   "cell_type": "code",
   "execution_count": 13,
   "metadata": {
    "execution": {
     "iopub.execute_input": "2022-01-11T21:38:27.918736Z",
     "iopub.status.busy": "2022-01-11T21:38:27.918468Z",
     "iopub.status.idle": "2022-01-11T21:39:08.912649Z",
     "shell.execute_reply": "2022-01-11T21:39:08.911879Z",
     "shell.execute_reply.started": "2022-01-11T21:38:27.918706Z"
    },
    "id": "62LH4Zzv_118"
   },
   "outputs": [
    {
     "name": "stdout",
     "output_type": "stream",
     "text": [
      "488/488 [==============================] - 35s 72ms/step - loss: 0.7460 - accuracy: 0.6846\n"
     ]
    }
   ],
   "source": [
    "model_eval = model2.evaluate(\n",
    "    x={'input_ids': x_val['input_ids']},\n",
    "    y={'Sentiment': y_val}\n",
    ")"
   ]
  },
  {
   "cell_type": "code",
   "execution_count": 14,
   "metadata": {
    "execution": {
     "iopub.execute_input": "2022-01-11T21:39:19.241611Z",
     "iopub.status.busy": "2022-01-11T21:39:19.241350Z",
     "iopub.status.idle": "2022-01-11T21:39:54.971334Z",
     "shell.execute_reply": "2022-01-11T21:39:54.970484Z",
     "shell.execute_reply.started": "2022-01-11T21:39:19.241583Z"
    },
    "id": "NeKh59d2_119"
   },
   "outputs": [],
   "source": [
    "y_val_predicted = model2.predict(\n",
    "    x={'input_ids': x_val['input_ids']},\n",
    ")"
   ]
  },
  {
   "cell_type": "code",
   "execution_count": 15,
   "metadata": {
    "execution": {
     "iopub.execute_input": "2022-01-11T21:41:23.546959Z",
     "iopub.status.busy": "2022-01-11T21:41:23.546675Z",
     "iopub.status.idle": "2022-01-11T21:41:23.553872Z",
     "shell.execute_reply": "2022-01-11T21:41:23.552777Z",
     "shell.execute_reply.started": "2022-01-11T21:41:23.546911Z"
    },
    "id": "hoZ1teaO_11-"
   },
   "outputs": [
    {
     "data": {
      "text/plain": [
       "array([[ 1.3894627 ,  3.0062714 ,  1.2824216 , -1.7508354 , -3.790442  ],\n",
       "       [ 0.34237924,  2.0470684 ,  1.2273293 , -0.56402296, -3.1460955 ],\n",
       "       [-2.9166117 , -0.9127556 ,  0.9997995 ,  2.497976  ,  0.15765914],\n",
       "       ...,\n",
       "       [-3.5287771 , -0.8397119 ,  1.5419186 ,  2.628774  , -0.19562207],\n",
       "       [-2.616267  , -2.3845215 , -0.33811378,  2.4585283 ,  2.941505  ],\n",
       "       [ 2.3491566 ,  2.5221467 ,  0.41220522, -2.100758  , -2.8293338 ]],\n",
       "      dtype=float32)"
      ]
     },
     "execution_count": 15,
     "metadata": {},
     "output_type": "execute_result"
    }
   ],
   "source": [
    "y_val_predicted['Sentiment']"
   ]
  },
  {
   "cell_type": "code",
   "execution_count": 17,
   "metadata": {
    "execution": {
     "iopub.execute_input": "2022-01-11T21:41:47.400589Z",
     "iopub.status.busy": "2022-01-11T21:41:47.400338Z",
     "iopub.status.idle": "2022-01-11T21:41:47.406591Z",
     "shell.execute_reply": "2022-01-11T21:41:47.405889Z",
     "shell.execute_reply.started": "2022-01-11T21:41:47.400562Z"
    },
    "id": "pTbGPeBL_11_"
   },
   "outputs": [
    {
     "data": {
      "text/plain": [
       "array([[0., 1., 0., 0., 0.],\n",
       "       [0., 0., 1., 0., 0.],\n",
       "       [0., 0., 0., 1., 0.],\n",
       "       ...,\n",
       "       [0., 0., 1., 0., 0.],\n",
       "       [0., 0., 0., 0., 1.],\n",
       "       [1., 0., 0., 0., 0.]], dtype=float32)"
      ]
     },
     "execution_count": 17,
     "metadata": {},
     "output_type": "execute_result"
    }
   ],
   "source": [
    "y_val"
   ]
  },
  {
   "cell_type": "code",
   "execution_count": 18,
   "metadata": {
    "execution": {
     "iopub.execute_input": "2022-01-11T21:41:53.878608Z",
     "iopub.status.busy": "2022-01-11T21:41:53.878091Z",
     "iopub.status.idle": "2022-01-11T21:41:53.924253Z",
     "shell.execute_reply": "2022-01-11T21:41:53.923576Z",
     "shell.execute_reply.started": "2022-01-11T21:41:53.878575Z"
    },
    "id": "iJcMBMP6_12A"
   },
   "outputs": [],
   "source": [
    "y_val_pred_max=[np.argmax(i) for i in y_val_predicted['Sentiment']]"
   ]
  },
  {
   "cell_type": "code",
   "execution_count": 19,
   "metadata": {
    "execution": {
     "iopub.execute_input": "2022-01-11T21:41:54.111630Z",
     "iopub.status.busy": "2022-01-11T21:41:54.110981Z",
     "iopub.status.idle": "2022-01-11T21:41:54.161601Z",
     "shell.execute_reply": "2022-01-11T21:41:54.160941Z",
     "shell.execute_reply.started": "2022-01-11T21:41:54.111595Z"
    },
    "id": "YHLjhS-M_12B"
   },
   "outputs": [],
   "source": [
    "y_val_actual_max=[np.argmax(i) for i in y_val]"
   ]
  },
  {
   "cell_type": "code",
   "execution_count": 20,
   "metadata": {
    "execution": {
     "iopub.execute_input": "2022-01-11T21:41:58.254855Z",
     "iopub.status.busy": "2022-01-11T21:41:58.254577Z",
     "iopub.status.idle": "2022-01-11T21:41:58.298290Z",
     "shell.execute_reply": "2022-01-11T21:41:58.297592Z",
     "shell.execute_reply.started": "2022-01-11T21:41:58.254826Z"
    },
    "id": "RPMeeqHX_12C"
   },
   "outputs": [
    {
     "name": "stdout",
     "output_type": "stream",
     "text": [
      "              precision    recall  f1-score   support\n",
      "\n",
      "           0       0.48      0.56      0.52       605\n",
      "           1       0.60      0.58      0.59      2845\n",
      "           2       0.79      0.79      0.79      8072\n",
      "           3       0.55      0.60      0.57      3020\n",
      "           4       0.60      0.52      0.56      1064\n",
      "\n",
      "    accuracy                           0.68     15606\n",
      "   macro avg       0.61      0.61      0.61     15606\n",
      "weighted avg       0.69      0.68      0.69     15606\n",
      "\n"
     ]
    }
   ],
   "source": [
    "from sklearn.metrics import classification_report\n",
    "\n",
    "report = classification_report(y_val_pred_max, y_val_actual_max)\n",
    "\n",
    "print(report)"
   ]
  },
  {
   "cell_type": "code",
   "execution_count": 21,
   "metadata": {
    "execution": {
     "iopub.execute_input": "2022-01-11T21:41:58.464416Z",
     "iopub.status.busy": "2022-01-11T21:41:58.463864Z",
     "iopub.status.idle": "2022-01-11T21:41:58.828483Z",
     "shell.execute_reply": "2022-01-11T21:41:58.827781Z",
     "shell.execute_reply.started": "2022-01-11T21:41:58.464380Z"
    },
    "id": "yaWug9n9_12D"
   },
   "outputs": [
    {
     "data": {
      "image/png": "[encoded data removed]",
      "text/plain": [
       "<Figure size 432x288 with 2 Axes>"
      ]
     },
     "metadata": {},
     "output_type": "display_data"
    }
   ],
   "source": [
    "from sklearn.metrics import confusion_matrix, ConfusionMatrixDisplay\n",
    "\n",
    "disp = ConfusionMatrixDisplay(confusion_matrix=confusion_matrix(y_val_pred_max, y_val_actual_max), display_labels=np.unique(y_val_actual_max))\n",
    "disp.plot(cmap='Blues') \n",
    "plt.grid(False)"
   ]
  },
  {
   "cell_type": "markdown",
   "metadata": {
    "id": "W-_Nr-YWA8ke"
   },
   "source": [
    "## Inference:"
   ]
  },
  {
   "cell_type": "code",
   "execution_count": 22,
   "metadata": {
    "execution": {
     "iopub.execute_input": "2022-01-11T21:42:31.928881Z",
     "iopub.status.busy": "2022-01-11T21:42:31.928609Z",
     "iopub.status.idle": "2022-01-11T21:42:41.542440Z",
     "shell.execute_reply": "2022-01-11T21:42:41.541704Z",
     "shell.execute_reply.started": "2022-01-11T21:42:31.928851Z"
    },
    "id": "b9OY3Cxt_12E"
   },
   "outputs": [],
   "source": [
    "x_test = tokenizer(\n",
    "          text=df_test['Phrase'].to_list(),\n",
    "          add_special_tokens=True,\n",
    "          max_length=max_length,\n",
    "          truncation=True,\n",
    "          padding=True, \n",
    "          return_tensors='tf',\n",
    "          return_token_type_ids = False,\n",
    "          return_attention_mask = False,\n",
    "          verbose = True)"
   ]
  },
  {
   "cell_type": "code",
   "execution_count": 23,
   "metadata": {
    "execution": {
     "iopub.execute_input": "2022-01-11T21:42:44.436513Z",
     "iopub.status.busy": "2022-01-11T21:42:44.436007Z",
     "iopub.status.idle": "2022-01-11T21:45:06.384199Z",
     "shell.execute_reply": "2022-01-11T21:45:06.383309Z",
     "shell.execute_reply.started": "2022-01-11T21:42:44.436478Z"
    },
    "id": "T5vFJaH4_12F"
   },
   "outputs": [],
   "source": [
    "label_predicted = model2.predict(\n",
    "    x={'input_ids': x_test['input_ids']},\n",
    ")"
   ]
  },
  {
   "cell_type": "code",
   "execution_count": 24,
   "metadata": {
    "execution": {
     "iopub.execute_input": "2022-01-11T21:45:22.417271Z",
     "iopub.status.busy": "2022-01-11T21:45:22.416475Z",
     "iopub.status.idle": "2022-01-11T21:45:22.424120Z",
     "shell.execute_reply": "2022-01-11T21:45:22.423360Z",
     "shell.execute_reply.started": "2022-01-11T21:45:22.417219Z"
    },
    "id": "lFtsdgWz_12F"
   },
   "outputs": [
    {
     "data": {
      "text/plain": [
       "array([[-2.9418764 , -0.55539936,  1.7004074 ,  2.4110749 , -0.99451345],\n",
       "       [-3.2369893 , -0.62712497,  1.8746588 ,  2.5353606 , -0.84780866],\n",
       "       [-3.090457  , -0.12298444,  4.3306894 ,  0.86302686, -2.956068  ],\n",
       "       ...,\n",
       "       [-0.44193414,  2.389519  ,  2.431871  , -0.6159247 , -3.937919  ],\n",
       "       [-0.49715766,  2.390551  ,  2.317669  , -0.45088452, -3.8363662 ],\n",
       "       [-1.0850625 ,  2.1251652 ,  2.3940766 , -0.11107983, -3.6446486 ]],\n",
       "      dtype=float32)"
      ]
     },
     "execution_count": 24,
     "metadata": {},
     "output_type": "execute_result"
    }
   ],
   "source": [
    "label_predicted['Sentiment']"
   ]
  },
  {
   "cell_type": "code",
   "execution_count": 25,
   "metadata": {
    "execution": {
     "iopub.execute_input": "2022-01-11T21:45:24.573570Z",
     "iopub.status.busy": "2022-01-11T21:45:24.572990Z",
     "iopub.status.idle": "2022-01-11T21:45:24.744444Z",
     "shell.execute_reply": "2022-01-11T21:45:24.743747Z",
     "shell.execute_reply.started": "2022-01-11T21:45:24.573526Z"
    },
    "id": "8VJQq1pV_12G"
   },
   "outputs": [],
   "source": [
    "label_pred_max=[np.argmax(i) for i in label_predicted['Sentiment']]"
   ]
  },
  {
   "cell_type": "code",
   "execution_count": 26,
   "metadata": {
    "execution": {
     "iopub.execute_input": "2022-01-11T21:45:32.022974Z",
     "iopub.status.busy": "2022-01-11T21:45:32.022698Z",
     "iopub.status.idle": "2022-01-11T21:45:32.031600Z",
     "shell.execute_reply": "2022-01-11T21:45:32.030594Z",
     "shell.execute_reply.started": "2022-01-11T21:45:32.022940Z"
    },
    "id": "FFPMY4EE_12H"
   },
   "outputs": [
    {
     "data": {
      "text/plain": [
       "[3, 3, 2, 3, 3, 3, 3, 2, 3, 2]"
      ]
     },
     "execution_count": 26,
     "metadata": {},
     "output_type": "execute_result"
    }
   ],
   "source": [
    "label_pred_max[:10]"
   ]
  },
  {
   "cell_type": "code",
   "execution_count": null,
   "metadata": {
    "id": "qM_Tk6jFAgKl"
   },
   "outputs": [],
   "source": []
  },
  {
   "cell_type": "markdown",
   "metadata": {
    "id": "eTVWFjOcCY8t"
   },
   "source": [
    "# DistilBERT"
   ]
  },
  {
   "cell_type": "code",
   "execution_count": 9,
   "metadata": {
    "execution": {
     "iopub.execute_input": "2022-01-11T21:51:35.695215Z",
     "iopub.status.busy": "2022-01-11T21:51:35.694441Z",
     "iopub.status.idle": "2022-01-11T21:51:37.239992Z",
     "shell.execute_reply": "2022-01-11T21:51:37.239291Z",
     "shell.execute_reply.started": "2022-01-11T21:51:35.695171Z"
    },
    "id": "6mRmY3QSChdA"
   },
   "outputs": [],
   "source": [
    "from transformers import DistilBertTokenizer, TFDistilBertModel, DistilBertConfig "
   ]
  },
  {
   "cell_type": "code",
   "execution_count": 10,
   "metadata": {
    "execution": {
     "iopub.execute_input": "2022-01-11T21:51:41.158922Z",
     "iopub.status.busy": "2022-01-11T21:51:41.158611Z",
     "iopub.status.idle": "2022-01-11T21:52:02.664269Z",
     "shell.execute_reply": "2022-01-11T21:52:02.663502Z",
     "shell.execute_reply.started": "2022-01-11T21:51:41.158889Z"
    },
    "id": "MrTQFDqrChdD",
    "outputId": "ea55a306-2c38-48cc-fbae-525d6adb07ef"
   },
   "outputs": [
    {
     "data": {
      "application/vnd.jupyter.widget-view+json": {
       "model_id": "8ab7d10f48dd482c9dbc78869e4a976b",
       "version_major": 2,
       "version_minor": 0
      },
      "text/plain": [
       "Downloading:   0%|          | 0.00/483 [00:00<?, ?B/s]"
      ]
     },
     "metadata": {},
     "output_type": "display_data"
    },
    {
     "data": {
      "application/vnd.jupyter.widget-view+json": {
       "model_id": "f979bcf1bac546ef8a5c85bfc8e5f474",
       "version_major": 2,
       "version_minor": 0
      },
      "text/plain": [
       "Downloading:   0%|          | 0.00/226k [00:00<?, ?B/s]"
      ]
     },
     "metadata": {},
     "output_type": "display_data"
    },
    {
     "data": {
      "application/vnd.jupyter.widget-view+json": {
       "model_id": "944b8382e4b04226ae941f8f5211bbf6",
       "version_major": 2,
       "version_minor": 0
      },
      "text/plain": [
       "Downloading:   0%|          | 0.00/28.0 [00:00<?, ?B/s]"
      ]
     },
     "metadata": {},
     "output_type": "display_data"
    },
    {
     "data": {
      "application/vnd.jupyter.widget-view+json": {
       "model_id": "2a14e02ed79c4e0494b020f2a8401878",
       "version_major": 2,
       "version_minor": 0
      },
      "text/plain": [
       "Downloading:   0%|          | 0.00/455k [00:00<?, ?B/s]"
      ]
     },
     "metadata": {},
     "output_type": "display_data"
    },
    {
     "data": {
      "application/vnd.jupyter.widget-view+json": {
       "model_id": "63eea0cbb5124f1e82a980eb3420dc09",
       "version_major": 2,
       "version_minor": 0
      },
      "text/plain": [
       "Downloading:   0%|          | 0.00/347M [00:00<?, ?B/s]"
      ]
     },
     "metadata": {},
     "output_type": "display_data"
    },
    {
     "name": "stderr",
     "output_type": "stream",
     "text": [
      "2022-01-11 21:51:56.179200: I tensorflow/stream_executor/cuda/cuda_gpu_executor.cc:937] successful NUMA node read from SysFS had negative value (-1), but there must be at least one NUMA node, so returning NUMA node zero\n",
      "2022-01-11 21:51:56.180259: I tensorflow/stream_executor/cuda/cuda_gpu_executor.cc:937] successful NUMA node read from SysFS had negative value (-1), but there must be at least one NUMA node, so returning NUMA node zero\n",
      "2022-01-11 21:51:56.180890: I tensorflow/stream_executor/cuda/cuda_gpu_executor.cc:937] successful NUMA node read from SysFS had negative value (-1), but there must be at least one NUMA node, so returning NUMA node zero\n",
      "2022-01-11 21:51:56.181759: I tensorflow/core/platform/cpu_feature_guard.cc:142] This TensorFlow binary is optimized with oneAPI Deep Neural Network Library (oneDNN) to use the following CPU instructions in performance-critical operations:  AVX2 AVX512F FMA\n",
      "To enable them in other operations, rebuild TensorFlow with the appropriate compiler flags.\n",
      "2022-01-11 21:51:56.182830: I tensorflow/stream_executor/cuda/cuda_gpu_executor.cc:937] successful NUMA node read from SysFS had negative value (-1), but there must be at least one NUMA node, so returning NUMA node zero\n",
      "2022-01-11 21:51:56.183504: I tensorflow/stream_executor/cuda/cuda_gpu_executor.cc:937] successful NUMA node read from SysFS had negative value (-1), but there must be at least one NUMA node, so returning NUMA node zero\n",
      "2022-01-11 21:51:56.184111: I tensorflow/stream_executor/cuda/cuda_gpu_executor.cc:937] successful NUMA node read from SysFS had negative value (-1), but there must be at least one NUMA node, so returning NUMA node zero\n",
      "2022-01-11 21:52:00.727647: I tensorflow/stream_executor/cuda/cuda_gpu_executor.cc:937] successful NUMA node read from SysFS had negative value (-1), but there must be at least one NUMA node, so returning NUMA node zero\n",
      "2022-01-11 21:52:00.728549: I tensorflow/stream_executor/cuda/cuda_gpu_executor.cc:937] successful NUMA node read from SysFS had negative value (-1), but there must be at least one NUMA node, so returning NUMA node zero\n",
      "2022-01-11 21:52:00.729204: I tensorflow/stream_executor/cuda/cuda_gpu_executor.cc:937] successful NUMA node read from SysFS had negative value (-1), but there must be at least one NUMA node, so returning NUMA node zero\n",
      "2022-01-11 21:52:00.729756: I tensorflow/core/common_runtime/gpu/gpu_device.cc:1510] Created device /job:localhost/replica:0/task:0/device:GPU:0 with 14959 MB memory:  -> device: 0, name: Tesla P100-PCIE-16GB, pci bus id: 0000:00:04.0, compute capability: 6.0\n",
      "2022-01-11 21:52:01.240409: W tensorflow/python/util/util.cc:348] Sets are not currently considered sequences, but this may change in the future, so consider avoiding using them.\n",
      "Some layers from the model checkpoint at distilbert-base-uncased were not used when initializing TFDistilBertModel: ['vocab_projector', 'vocab_transform', 'vocab_layer_norm', 'activation_13']\n",
      "- This IS expected if you are initializing TFDistilBertModel from the checkpoint of a model trained on another task or with another architecture (e.g. initializing a BertForSequenceClassification model from a BertForPreTraining model).\n",
      "- This IS NOT expected if you are initializing TFDistilBertModel from the checkpoint of a model that you expect to be exactly identical (initializing a BertForSequenceClassification model from a BertForSequenceClassification model).\n",
      "All the layers of TFDistilBertModel were initialized from the model checkpoint at distilbert-base-uncased.\n",
      "If your task is similar to the task the model of the checkpoint was trained on, you can already use TFDistilBertModel for predictions without further training.\n"
     ]
    }
   ],
   "source": [
    "### --------- Setup DistilBERT ---------- ###\n",
    "\n",
    "model_name = 'distilbert-base-uncased'\n",
    "\n",
    "# Max length of tokens\n",
    "max_length = 45\n",
    "\n",
    "# Load transformers config and set output_hidden_states to False\n",
    "config = DistilBertConfig.from_pretrained(model_name)\n",
    "config.output_hidden_states = False\n",
    "\n",
    "# Load Distilbert tokenizer\n",
    "tokenizer = DistilBertTokenizer.from_pretrained(pretrained_model_name_or_path = model_name, config = config)\n",
    "\n",
    "# Load the Distilbert model\n",
    "transformer_distilbert_model = TFDistilBertModel.from_pretrained(model_name, config = config)"
   ]
  },
  {
   "cell_type": "markdown",
   "metadata": {},
   "source": [
    "DistilBERT does not consider a pooling layer in the default model which converts the output (None,45,768) to (None,768), this is why we will select the first and third dimension of the 'layer 0' so as to have such output shape required, the next layers are the same as before:"
   ]
  },
  {
   "cell_type": "code",
   "execution_count": 11,
   "metadata": {
    "execution": {
     "iopub.execute_input": "2022-01-11T21:52:16.733192Z",
     "iopub.status.busy": "2022-01-11T21:52:16.732325Z",
     "iopub.status.idle": "2022-01-11T21:52:20.701039Z",
     "shell.execute_reply": "2022-01-11T21:52:20.699370Z",
     "shell.execute_reply.started": "2022-01-11T21:52:16.733148Z"
    },
    "id": "qntTp9w4ChdG",
    "outputId": "27db8171-02fa-4a92-e6a6-1b18d32efc2c"
   },
   "outputs": [
    {
     "name": "stdout",
     "output_type": "stream",
     "text": [
      "Model: \"DistilBERT_MultiClass\"\n",
      "_________________________________________________________________\n",
      "Layer (type)                 Output Shape              Param #   \n",
      "=================================================================\n",
      "input_ids (InputLayer)       [(None, 45)]              0         \n",
      "_________________________________________________________________\n",
      "distilbert (TFDistilBertMain TFBaseModelOutput(last_hi 66362880  \n",
      "_________________________________________________________________\n",
      "tf.__operators__.getitem (Sl (None, 768)               0         \n",
      "_________________________________________________________________\n",
      "pooled_output (Dropout)      (None, 768)               0         \n",
      "_________________________________________________________________\n",
      "Sentiment (Dense)            (None, 5)                 3845      \n",
      "=================================================================\n",
      "Total params: 66,366,725\n",
      "Trainable params: 66,366,725\n",
      "Non-trainable params: 0\n",
      "_________________________________________________________________\n"
     ]
    }
   ],
   "source": [
    "### ------- Build the model ------- ###\n",
    "\n",
    "# Load the MainLayer\n",
    "distilbert = transformer_distilbert_model.layers[0]\n",
    "\n",
    "# Build your model input\n",
    "input_ids = Input(shape=(max_length,), name='input_ids', dtype='int32')\n",
    "inputs = {'input_ids': input_ids}\n",
    "\n",
    "# Load the Transformers DistilBERT model as a layer in a Keras model\n",
    "distilbert_model = distilbert(inputs)[0][:,0,:]\n",
    "dropout = Dropout(0.1, name='pooled_output')\n",
    "pooled_output = dropout(distilbert_model, training=False)\n",
    "\n",
    "# Then build your model output\n",
    "Sentiments = Dense(units=len(data_train.Sentiment_label.value_counts()), kernel_initializer=TruncatedNormal(stddev=config.initializer_range), name='Sentiment')(pooled_output)\n",
    "outputs = {'Sentiment': Sentiments}\n",
    "\n",
    "# And combine it all in a model object\n",
    "model3 = Model(inputs=inputs, outputs=outputs, name='DistilBERT_MultiClass')\n",
    "\n",
    "# Take a look at the model\n",
    "model3.summary()"
   ]
  },
  {
   "cell_type": "code",
   "execution_count": 12,
   "metadata": {
    "execution": {
     "iopub.execute_input": "2022-01-11T21:52:34.727775Z",
     "iopub.status.busy": "2022-01-11T21:52:34.726983Z",
     "iopub.status.idle": "2022-01-11T22:07:58.722969Z",
     "shell.execute_reply": "2022-01-11T22:07:58.722218Z",
     "shell.execute_reply.started": "2022-01-11T21:52:34.727713Z"
    },
    "id": "sKXLBXBQChdK"
   },
   "outputs": [
    {
     "name": "stderr",
     "output_type": "stream",
     "text": [
      "2022-01-11 21:53:27.290563: I tensorflow/compiler/mlir/mlir_graph_optimization_pass.cc:185] None of the MLIR Optimization Passes are enabled (registered 2)\n"
     ]
    },
    {
     "name": "stdout",
     "output_type": "stream",
     "text": [
      "Epoch 1/2\n",
      "2195/2195 [==============================] - 424s 189ms/step - loss: 0.8222 - accuracy: 0.6601 - val_loss: 0.7735 - val_accuracy: 0.6755\n",
      "Epoch 2/2\n",
      "2195/2195 [==============================] - 414s 189ms/step - loss: 0.7419 - accuracy: 0.6923 - val_loss: 0.7651 - val_accuracy: 0.6786\n"
     ]
    }
   ],
   "source": [
    "### ------- Train the model ------- ###\n",
    "\n",
    "# Set an optimizer\n",
    "optimizer = Adam(learning_rate=5e-05,epsilon=1e-08,decay=0.01,clipnorm=1.0)\n",
    "\n",
    "# Set loss and metrics\n",
    "loss = {'Sentiment': CategoricalCrossentropy(from_logits = True)}\n",
    "\n",
    "# Compile the model\n",
    "model3.compile(optimizer = optimizer, loss = loss, metrics = ['accuracy'])\n",
    "\n",
    "# Ready output data for the model\n",
    "y_train = to_categorical(data_train['Sentiment'])\n",
    "\n",
    "# Tokenize the input (takes some time)\n",
    "x_train = tokenizer(\n",
    "          text=data_train['Phrase'].to_list(),\n",
    "          add_special_tokens=True,\n",
    "          max_length=max_length,\n",
    "          truncation=True,\n",
    "          padding=True, \n",
    "          return_tensors='tf',\n",
    "          return_token_type_ids = False,\n",
    "          return_attention_mask = True,\n",
    "          verbose = True)\n",
    "\n",
    "y_val = to_categorical(data_val['Sentiment'])\n",
    "\n",
    "x_val = tokenizer(\n",
    "          text=data_val['Phrase'].to_list(),\n",
    "          add_special_tokens=True,\n",
    "          max_length=max_length,\n",
    "          truncation=True,\n",
    "          padding=True, \n",
    "          return_tensors='tf',\n",
    "          return_token_type_ids = False,\n",
    "          return_attention_mask = True,\n",
    "          verbose = True)\n",
    "\n",
    "# Fit the model\n",
    "history = model3.fit(\n",
    "    x={'input_ids': x_train['input_ids']},\n",
    "    y={'Sentiment': y_train},\n",
    "    validation_data=({'input_ids': x_val['input_ids']},{'Sentiment': y_val}),\n",
    "    batch_size=64,\n",
    "    epochs=2,\n",
    "    verbose=1)"
   ]
  },
  {
   "cell_type": "markdown",
   "metadata": {},
   "source": [
    "The model took 14 minutes to train for 2 epochs."
   ]
  },
  {
   "cell_type": "markdown",
   "metadata": {
    "id": "SC9Gt_nsChdO"
   },
   "source": [
    "## Evaluate on validation set:"
   ]
  },
  {
   "cell_type": "code",
   "execution_count": 13,
   "metadata": {
    "execution": {
     "iopub.execute_input": "2022-01-11T22:08:03.926649Z",
     "iopub.status.busy": "2022-01-11T22:08:03.925912Z",
     "iopub.status.idle": "2022-01-11T22:08:23.579364Z",
     "shell.execute_reply": "2022-01-11T22:08:23.578580Z",
     "shell.execute_reply.started": "2022-01-11T22:08:03.926609Z"
    },
    "id": "1kagA8wsChdU"
   },
   "outputs": [
    {
     "name": "stdout",
     "output_type": "stream",
     "text": [
      "488/488 [==============================] - 20s 40ms/step - loss: 0.7651 - accuracy: 0.6786\n"
     ]
    }
   ],
   "source": [
    "model_eval = model3.evaluate(\n",
    "    x={'input_ids': x_val['input_ids']},\n",
    "    y={'Sentiment': y_val}\n",
    ")"
   ]
  },
  {
   "cell_type": "code",
   "execution_count": 14,
   "metadata": {
    "execution": {
     "iopub.execute_input": "2022-01-11T22:08:49.303715Z",
     "iopub.status.busy": "2022-01-11T22:08:49.303178Z",
     "iopub.status.idle": "2022-01-11T22:09:11.303320Z",
     "shell.execute_reply": "2022-01-11T22:09:11.302473Z",
     "shell.execute_reply.started": "2022-01-11T22:08:49.303678Z"
    },
    "id": "sxumN02CChdV"
   },
   "outputs": [],
   "source": [
    "y_val_predicted = model3.predict(\n",
    "    x={'input_ids': x_val['input_ids']},\n",
    ")"
   ]
  },
  {
   "cell_type": "code",
   "execution_count": 15,
   "metadata": {
    "execution": {
     "iopub.execute_input": "2022-01-11T22:09:11.306971Z",
     "iopub.status.busy": "2022-01-11T22:09:11.306449Z",
     "iopub.status.idle": "2022-01-11T22:09:11.312751Z",
     "shell.execute_reply": "2022-01-11T22:09:11.311943Z",
     "shell.execute_reply.started": "2022-01-11T22:09:11.306926Z"
    },
    "id": "abcYcsFQChdW"
   },
   "outputs": [
    {
     "data": {
      "text/plain": [
       "array([[-0.7882234 ,  2.2342474 ,  2.1206894 , -0.7060678 , -3.8744826 ],\n",
       "       [-1.0700269 , -0.3415465 ,  0.16914998,  0.9569809 ,  0.05131027],\n",
       "       [-3.210081  ,  0.18440111,  2.9568005 ,  1.4482275 , -2.5393188 ],\n",
       "       ...,\n",
       "       [-0.59788984,  2.703809  ,  2.104777  , -1.2948756 , -3.9789252 ],\n",
       "       [-3.4079082 , -0.491731  ,  4.412625  ,  1.1761742 , -2.9342713 ],\n",
       "       [ 2.2007382 ,  2.577497  ,  0.7560665 , -2.2572742 , -3.5935497 ]],\n",
       "      dtype=float32)"
      ]
     },
     "execution_count": 15,
     "metadata": {},
     "output_type": "execute_result"
    }
   ],
   "source": [
    "y_val_predicted['Sentiment']"
   ]
  },
  {
   "cell_type": "code",
   "execution_count": 16,
   "metadata": {
    "execution": {
     "iopub.execute_input": "2022-01-11T22:09:11.315084Z",
     "iopub.status.busy": "2022-01-11T22:09:11.314437Z",
     "iopub.status.idle": "2022-01-11T22:09:11.325140Z",
     "shell.execute_reply": "2022-01-11T22:09:11.324229Z",
     "shell.execute_reply.started": "2022-01-11T22:09:11.315031Z"
    },
    "id": "1GdZeNUyChdX"
   },
   "outputs": [
    {
     "data": {
      "text/plain": [
       "array([[0., 1., 0., 0., 0.],\n",
       "       [0., 0., 0., 1., 0.],\n",
       "       [0., 0., 1., 0., 0.],\n",
       "       ...,\n",
       "       [0., 1., 0., 0., 0.],\n",
       "       [0., 0., 1., 0., 0.],\n",
       "       [1., 0., 0., 0., 0.]], dtype=float32)"
      ]
     },
     "execution_count": 16,
     "metadata": {},
     "output_type": "execute_result"
    }
   ],
   "source": [
    "y_val"
   ]
  },
  {
   "cell_type": "code",
   "execution_count": 17,
   "metadata": {
    "execution": {
     "iopub.execute_input": "2022-01-11T22:09:19.165185Z",
     "iopub.status.busy": "2022-01-11T22:09:19.164670Z",
     "iopub.status.idle": "2022-01-11T22:09:19.211846Z",
     "shell.execute_reply": "2022-01-11T22:09:19.211232Z",
     "shell.execute_reply.started": "2022-01-11T22:09:19.165145Z"
    },
    "id": "JK_A3YA_ChdZ"
   },
   "outputs": [],
   "source": [
    "y_val_pred_max=[np.argmax(i) for i in y_val_predicted['Sentiment']]"
   ]
  },
  {
   "cell_type": "code",
   "execution_count": 18,
   "metadata": {
    "execution": {
     "iopub.execute_input": "2022-01-11T22:09:19.914634Z",
     "iopub.status.busy": "2022-01-11T22:09:19.914375Z",
     "iopub.status.idle": "2022-01-11T22:09:19.966754Z",
     "shell.execute_reply": "2022-01-11T22:09:19.966110Z",
     "shell.execute_reply.started": "2022-01-11T22:09:19.914606Z"
    },
    "id": "ltOeW9IhChda"
   },
   "outputs": [],
   "source": [
    "y_val_actual_max=[np.argmax(i) for i in y_val]"
   ]
  },
  {
   "cell_type": "code",
   "execution_count": 19,
   "metadata": {
    "execution": {
     "iopub.execute_input": "2022-01-11T22:09:25.433031Z",
     "iopub.status.busy": "2022-01-11T22:09:25.432780Z",
     "iopub.status.idle": "2022-01-11T22:09:25.476126Z",
     "shell.execute_reply": "2022-01-11T22:09:25.475401Z",
     "shell.execute_reply.started": "2022-01-11T22:09:25.433002Z"
    },
    "id": "TR-oVnRjChdb"
   },
   "outputs": [
    {
     "name": "stdout",
     "output_type": "stream",
     "text": [
      "              precision    recall  f1-score   support\n",
      "\n",
      "           0       0.36      0.58      0.44       454\n",
      "           1       0.61      0.54      0.58      3099\n",
      "           2       0.78      0.78      0.78      7957\n",
      "           3       0.61      0.60      0.60      3248\n",
      "           4       0.54      0.61      0.57       848\n",
      "\n",
      "    accuracy                           0.68     15606\n",
      "   macro avg       0.58      0.62      0.59     15606\n",
      "weighted avg       0.68      0.68      0.68     15606\n",
      "\n"
     ]
    }
   ],
   "source": [
    "from sklearn.metrics import classification_report\n",
    "\n",
    "report = classification_report(y_val_pred_max, y_val_actual_max)\n",
    "\n",
    "print(report)"
   ]
  },
  {
   "cell_type": "code",
   "execution_count": 20,
   "metadata": {
    "execution": {
     "iopub.execute_input": "2022-01-11T22:09:26.097987Z",
     "iopub.status.busy": "2022-01-11T22:09:26.097736Z",
     "iopub.status.idle": "2022-01-11T22:09:26.465522Z",
     "shell.execute_reply": "2022-01-11T22:09:26.464737Z",
     "shell.execute_reply.started": "2022-01-11T22:09:26.097959Z"
    },
    "id": "Sop4yOy1Chdc"
   },
   "outputs": [
    {
     "data": {
      "image/png": "[encoded data removed]",
      "text/plain": [
       "<Figure size 432x288 with 2 Axes>"
      ]
     },
     "metadata": {},
     "output_type": "display_data"
    }
   ],
   "source": [
    "from sklearn.metrics import confusion_matrix, ConfusionMatrixDisplay\n",
    "\n",
    "disp = ConfusionMatrixDisplay(confusion_matrix=confusion_matrix(y_val_pred_max, y_val_actual_max), display_labels=np.unique(y_val_actual_max))\n",
    "disp.plot(cmap='Blues') \n",
    "plt.grid(False)"
   ]
  },
  {
   "cell_type": "markdown",
   "metadata": {
    "id": "HrRxsq7wChdd"
   },
   "source": [
    "## Inference:"
   ]
  },
  {
   "cell_type": "code",
   "execution_count": 21,
   "metadata": {
    "execution": {
     "iopub.execute_input": "2022-01-11T22:09:38.907555Z",
     "iopub.status.busy": "2022-01-11T22:09:38.906963Z",
     "iopub.status.idle": "2022-01-11T22:09:59.217114Z",
     "shell.execute_reply": "2022-01-11T22:09:59.216311Z",
     "shell.execute_reply.started": "2022-01-11T22:09:38.907507Z"
    },
    "id": "j9iK0yWdChde"
   },
   "outputs": [],
   "source": [
    "x_test = tokenizer(\n",
    "          text=df_test['Phrase'].to_list(),\n",
    "          add_special_tokens=True,\n",
    "          max_length=max_length,\n",
    "          truncation=True,\n",
    "          padding=True, \n",
    "          return_tensors='tf',\n",
    "          return_token_type_ids = False,\n",
    "          return_attention_mask = False,\n",
    "          verbose = True)"
   ]
  },
  {
   "cell_type": "code",
   "execution_count": 22,
   "metadata": {
    "execution": {
     "iopub.execute_input": "2022-01-11T22:09:59.219172Z",
     "iopub.status.busy": "2022-01-11T22:09:59.218910Z",
     "iopub.status.idle": "2022-01-11T22:11:21.167490Z",
     "shell.execute_reply": "2022-01-11T22:11:21.166741Z",
     "shell.execute_reply.started": "2022-01-11T22:09:59.219137Z"
    },
    "id": "ubbNq2mMChdg"
   },
   "outputs": [],
   "source": [
    "label_predicted = model3.predict(\n",
    "    x={'input_ids': x_test['input_ids']},\n",
    ")"
   ]
  },
  {
   "cell_type": "code",
   "execution_count": 23,
   "metadata": {
    "execution": {
     "iopub.execute_input": "2022-01-11T22:11:21.169266Z",
     "iopub.status.busy": "2022-01-11T22:11:21.168998Z",
     "iopub.status.idle": "2022-01-11T22:11:21.175691Z",
     "shell.execute_reply": "2022-01-11T22:11:21.174859Z",
     "shell.execute_reply.started": "2022-01-11T22:11:21.169230Z"
    },
    "id": "dBVT6BXsChdh"
   },
   "outputs": [
    {
     "data": {
      "text/plain": [
       "array([[-3.5089896 , -0.11144937,  1.2097638 ,  2.107072  , -0.86668134],\n",
       "       [-3.66453   , -0.08499122,  1.456941  ,  2.1304598 , -1.1311438 ],\n",
       "       [-3.4091914 , -0.7561786 ,  4.4367995 ,  1.2671455 , -3.0417826 ],\n",
       "       ...,\n",
       "       [-0.80668724,  2.181258  ,  2.1521475 , -0.73149747, -4.0176396 ],\n",
       "       [-1.0691856 ,  2.168061  ,  2.3493197 , -0.70537597, -4.076556  ],\n",
       "       [-0.29387397,  2.8122058 ,  1.8891081 , -1.3671823 , -3.9206429 ]],\n",
       "      dtype=float32)"
      ]
     },
     "execution_count": 23,
     "metadata": {},
     "output_type": "execute_result"
    }
   ],
   "source": [
    "label_predicted['Sentiment']"
   ]
  },
  {
   "cell_type": "code",
   "execution_count": 24,
   "metadata": {
    "execution": {
     "iopub.execute_input": "2022-01-11T22:11:21.178918Z",
     "iopub.status.busy": "2022-01-11T22:11:21.178320Z",
     "iopub.status.idle": "2022-01-11T22:11:21.353409Z",
     "shell.execute_reply": "2022-01-11T22:11:21.352725Z",
     "shell.execute_reply.started": "2022-01-11T22:11:21.178880Z"
    },
    "id": "DpZi8BFeChdi"
   },
   "outputs": [],
   "source": [
    "label_pred_max=[np.argmax(i) for i in label_predicted['Sentiment']]"
   ]
  },
  {
   "cell_type": "code",
   "execution_count": 25,
   "metadata": {
    "execution": {
     "iopub.execute_input": "2022-01-11T22:11:21.355137Z",
     "iopub.status.busy": "2022-01-11T22:11:21.354800Z",
     "iopub.status.idle": "2022-01-11T22:11:21.361597Z",
     "shell.execute_reply": "2022-01-11T22:11:21.360822Z",
     "shell.execute_reply.started": "2022-01-11T22:11:21.355095Z"
    },
    "id": "8OckHHODChdj"
   },
   "outputs": [
    {
     "data": {
      "text/plain": [
       "[3, 3, 2, 3, 2, 3, 3, 2, 3, 2]"
      ]
     },
     "execution_count": 25,
     "metadata": {},
     "output_type": "execute_result"
    }
   ],
   "source": [
    "label_pred_max[:10]"
   ]
  },
  {
   "cell_type": "code",
   "execution_count": null,
   "metadata": {
    "id": "iFmcy4nHF5XP"
   },
   "outputs": [],
   "source": []
  },
  {
   "cell_type": "markdown",
   "metadata": {
    "id": "hm8E0E9fF-jl"
   },
   "source": [
    "# XLNet\n",
    "\n",
    "The tokenizer corresponding to XLNet requires an extra library called sentencepiece which we have to install and import as follows:"
   ]
  },
  {
   "cell_type": "code",
   "execution_count": 55,
   "metadata": {
    "execution": {
     "iopub.execute_input": "2022-01-11T22:18:58.510611Z",
     "iopub.status.busy": "2022-01-11T22:18:58.509985Z",
     "iopub.status.idle": "2022-01-11T22:19:06.895847Z",
     "shell.execute_reply": "2022-01-11T22:19:06.894925Z",
     "shell.execute_reply.started": "2022-01-11T22:18:58.510571Z"
    },
    "id": "2tMcpkT8WKvb",
    "outputId": "93be069f-9ac1-4cb3-d777-4b404567ea47"
   },
   "outputs": [],
   "source": [
    "#!pip install sentencepiece "
   ]
  },
  {
   "cell_type": "code",
   "execution_count": 54,
   "metadata": {
    "execution": {
     "iopub.execute_input": "2022-01-11T22:19:06.898576Z",
     "iopub.status.busy": "2022-01-11T22:19:06.898069Z",
     "iopub.status.idle": "2022-01-11T22:19:08.621185Z",
     "shell.execute_reply": "2022-01-11T22:19:08.618406Z",
     "shell.execute_reply.started": "2022-01-11T22:19:06.898537Z"
    },
    "id": "oCgB1inEF-jo"
   },
   "outputs": [],
   "source": [
    "from transformers import XLNetTokenizer, TFXLNetModel, XLNetConfig\n",
    "import sentencepiece"
   ]
  },
  {
   "cell_type": "code",
   "execution_count": 11,
   "metadata": {
    "execution": {
     "iopub.execute_input": "2022-01-11T22:19:49.823996Z",
     "iopub.status.busy": "2022-01-11T22:19:49.823203Z",
     "iopub.status.idle": "2022-01-11T22:20:27.701579Z",
     "shell.execute_reply": "2022-01-11T22:20:27.700906Z",
     "shell.execute_reply.started": "2022-01-11T22:19:49.823953Z"
    },
    "id": "J6iR6nuZF-jq",
    "outputId": "953cd0a7-75ab-454f-ef05-49ecd181316b"
   },
   "outputs": [
    {
     "data": {
      "application/vnd.jupyter.widget-view+json": {
       "model_id": "5d703a72eaa1446abacea31988df5028",
       "version_major": 2,
       "version_minor": 0
      },
      "text/plain": [
       "Downloading:   0%|          | 0.00/760 [00:00<?, ?B/s]"
      ]
     },
     "metadata": {},
     "output_type": "display_data"
    },
    {
     "data": {
      "application/vnd.jupyter.widget-view+json": {
       "model_id": "f788165c16a64f659568a5dac24e2a12",
       "version_major": 2,
       "version_minor": 0
      },
      "text/plain": [
       "Downloading:   0%|          | 0.00/779k [00:00<?, ?B/s]"
      ]
     },
     "metadata": {},
     "output_type": "display_data"
    },
    {
     "data": {
      "application/vnd.jupyter.widget-view+json": {
       "model_id": "de4a8bc944754836acb9a6fe25329484",
       "version_major": 2,
       "version_minor": 0
      },
      "text/plain": [
       "Downloading:   0%|          | 0.00/1.32M [00:00<?, ?B/s]"
      ]
     },
     "metadata": {},
     "output_type": "display_data"
    },
    {
     "data": {
      "application/vnd.jupyter.widget-view+json": {
       "model_id": "79507bd9a00046f2a6fa63f3ddbb7482",
       "version_major": 2,
       "version_minor": 0
      },
      "text/plain": [
       "Downloading:   0%|          | 0.00/539M [00:00<?, ?B/s]"
      ]
     },
     "metadata": {},
     "output_type": "display_data"
    },
    {
     "name": "stderr",
     "output_type": "stream",
     "text": [
      "2022-01-11 22:20:20.527193: I tensorflow/stream_executor/cuda/cuda_gpu_executor.cc:937] successful NUMA node read from SysFS had negative value (-1), but there must be at least one NUMA node, so returning NUMA node zero\n",
      "2022-01-11 22:20:20.528756: I tensorflow/stream_executor/cuda/cuda_gpu_executor.cc:937] successful NUMA node read from SysFS had negative value (-1), but there must be at least one NUMA node, so returning NUMA node zero\n",
      "2022-01-11 22:20:20.529753: I tensorflow/stream_executor/cuda/cuda_gpu_executor.cc:937] successful NUMA node read from SysFS had negative value (-1), but there must be at least one NUMA node, so returning NUMA node zero\n",
      "2022-01-11 22:20:20.536006: I tensorflow/core/platform/cpu_feature_guard.cc:142] This TensorFlow binary is optimized with oneAPI Deep Neural Network Library (oneDNN) to use the following CPU instructions in performance-critical operations:  AVX2 AVX512F FMA\n",
      "To enable them in other operations, rebuild TensorFlow with the appropriate compiler flags.\n",
      "2022-01-11 22:20:20.537094: I tensorflow/stream_executor/cuda/cuda_gpu_executor.cc:937] successful NUMA node read from SysFS had negative value (-1), but there must be at least one NUMA node, so returning NUMA node zero\n",
      "2022-01-11 22:20:20.538092: I tensorflow/stream_executor/cuda/cuda_gpu_executor.cc:937] successful NUMA node read from SysFS had negative value (-1), but there must be at least one NUMA node, so returning NUMA node zero\n",
      "2022-01-11 22:20:20.539024: I tensorflow/stream_executor/cuda/cuda_gpu_executor.cc:937] successful NUMA node read from SysFS had negative value (-1), but there must be at least one NUMA node, so returning NUMA node zero\n",
      "2022-01-11 22:20:25.131553: I tensorflow/stream_executor/cuda/cuda_gpu_executor.cc:937] successful NUMA node read from SysFS had negative value (-1), but there must be at least one NUMA node, so returning NUMA node zero\n",
      "2022-01-11 22:20:25.132395: I tensorflow/stream_executor/cuda/cuda_gpu_executor.cc:937] successful NUMA node read from SysFS had negative value (-1), but there must be at least one NUMA node, so returning NUMA node zero\n",
      "2022-01-11 22:20:25.133086: I tensorflow/stream_executor/cuda/cuda_gpu_executor.cc:937] successful NUMA node read from SysFS had negative value (-1), but there must be at least one NUMA node, so returning NUMA node zero\n",
      "2022-01-11 22:20:25.133656: I tensorflow/core/common_runtime/gpu/gpu_device.cc:1510] Created device /job:localhost/replica:0/task:0/device:GPU:0 with 14959 MB memory:  -> device: 0, name: Tesla P100-PCIE-16GB, pci bus id: 0000:00:04.0, compute capability: 6.0\n",
      "Some layers from the model checkpoint at xlnet-base-cased were not used when initializing TFXLNetModel: ['lm_loss']\n",
      "- This IS expected if you are initializing TFXLNetModel from the checkpoint of a model trained on another task or with another architecture (e.g. initializing a BertForSequenceClassification model from a BertForPreTraining model).\n",
      "- This IS NOT expected if you are initializing TFXLNetModel from the checkpoint of a model that you expect to be exactly identical (initializing a BertForSequenceClassification model from a BertForSequenceClassification model).\n",
      "All the layers of TFXLNetModel were initialized from the model checkpoint at xlnet-base-cased.\n",
      "If your task is similar to the task the model of the checkpoint was trained on, you can already use TFXLNetModel for predictions without further training.\n"
     ]
    }
   ],
   "source": [
    "### --------- Setup XLNet ---------- ###\n",
    "\n",
    "model_name = 'xlnet-base-cased'\n",
    "\n",
    "# Max length of tokens\n",
    "max_length = 45\n",
    "\n",
    "# Load transformers config and set output_hidden_states to False\n",
    "config = XLNetConfig.from_pretrained(model_name)\n",
    "config.output_hidden_states = False\n",
    "\n",
    "# Load XLNet tokenizer\n",
    "tokenizer = XLNetTokenizer.from_pretrained(pretrained_model_name_or_path = model_name, config = config)\n",
    "\n",
    "# Load the XLNet model\n",
    "transformer_xlnet_model = TFXLNetModel.from_pretrained(model_name, config = config)"
   ]
  },
  {
   "cell_type": "markdown",
   "metadata": {},
   "source": [
    "Something similar to DistilBERT happens to the current model, because we have to convert the output shape of the default model first layer to the appropriate (None, 768), in this case we will use tf.squeeze function as can be seen below:"
   ]
  },
  {
   "cell_type": "code",
   "execution_count": 12,
   "metadata": {
    "execution": {
     "iopub.execute_input": "2022-01-11T22:20:32.734991Z",
     "iopub.status.busy": "2022-01-11T22:20:32.734486Z",
     "iopub.status.idle": "2022-01-11T22:20:40.429340Z",
     "shell.execute_reply": "2022-01-11T22:20:40.428633Z",
     "shell.execute_reply.started": "2022-01-11T22:20:32.734950Z"
    },
    "id": "Gx9cbYSfF-jt",
    "outputId": "2d583bf1-5771-485e-df1d-63ba3f08d2e6"
   },
   "outputs": [
    {
     "name": "stdout",
     "output_type": "stream",
     "text": [
      "Model: \"XLNet_MultiClass\"\n",
      "_________________________________________________________________\n",
      "Layer (type)                 Output Shape              Param #   \n",
      "=================================================================\n",
      "input_ids (InputLayer)       [(None, 45)]              0         \n",
      "_________________________________________________________________\n",
      "transformer (TFXLNetMainLaye TFXLNetModelOutput(last_h 116718336 \n",
      "_________________________________________________________________\n",
      "tf.__operators__.getitem (Sl (None, 1, 768)            0         \n",
      "_________________________________________________________________\n",
      "tf.compat.v1.squeeze (TFOpLa (None, 768)               0         \n",
      "_________________________________________________________________\n",
      "pooled_output (Dropout)      (None, 768)               0         \n",
      "_________________________________________________________________\n",
      "Sentiment (Dense)            (None, 5)                 3845      \n",
      "=================================================================\n",
      "Total params: 116,722,181\n",
      "Trainable params: 116,722,181\n",
      "Non-trainable params: 0\n",
      "_________________________________________________________________\n"
     ]
    }
   ],
   "source": [
    "### ------- Build the model ------- ###\n",
    "\n",
    "# Load the MainLayer\n",
    "xlnet = transformer_xlnet_model.layers[0]\n",
    "\n",
    "# Build your model input\n",
    "input_ids = Input(shape=(max_length,), name='input_ids', dtype='int32')\n",
    "inputs = {'input_ids': input_ids}\n",
    "\n",
    "# Load the Transformers XLNet model as a layer in a Keras model\n",
    "xlnet_model = xlnet(inputs)[0]\n",
    "xlnet_model = tf.squeeze(xlnet_model[:, -1:, :], axis=1)\n",
    "dropout = Dropout(0.1, name='pooled_output')\n",
    "pooled_output = dropout(xlnet_model, training=False)\n",
    "\n",
    "# Then build your model output\n",
    "Sentiments = Dense(units=len(data_train.Sentiment_label.value_counts()), kernel_initializer=TruncatedNormal(stddev=config.initializer_range), name='Sentiment')(pooled_output)\n",
    "outputs = {'Sentiment': Sentiments}\n",
    "\n",
    "# And combine it all in a model object\n",
    "model4 = Model(inputs=inputs, outputs=outputs, name='XLNet_MultiClass')\n",
    "\n",
    "# Take a look at the model\n",
    "model4.summary()"
   ]
  },
  {
   "cell_type": "code",
   "execution_count": 13,
   "metadata": {
    "execution": {
     "iopub.execute_input": "2022-01-11T22:20:53.023231Z",
     "iopub.status.busy": "2022-01-11T22:20:53.022526Z",
     "iopub.status.idle": "2022-01-11T22:52:52.902571Z",
     "shell.execute_reply": "2022-01-11T22:52:52.901623Z",
     "shell.execute_reply.started": "2022-01-11T22:20:53.023190Z"
    },
    "id": "NvSFVF6OF-jx"
   },
   "outputs": [
    {
     "name": "stderr",
     "output_type": "stream",
     "text": [
      "2022-01-11 22:21:13.767120: I tensorflow/compiler/mlir/mlir_graph_optimization_pass.cc:185] None of the MLIR Optimization Passes are enabled (registered 2)\n"
     ]
    },
    {
     "name": "stdout",
     "output_type": "stream",
     "text": [
      "Epoch 1/2\n",
      "2195/2195 [==============================] - 948s 424ms/step - loss: 0.8090 - accuracy: 0.6644 - val_loss: 0.7435 - val_accuracy: 0.6888\n",
      "Epoch 2/2\n",
      "2195/2195 [==============================] - 928s 423ms/step - loss: 0.7246 - accuracy: 0.6980 - val_loss: 0.7451 - val_accuracy: 0.6854\n"
     ]
    }
   ],
   "source": [
    "### ------- Train the model ------- ###\n",
    "\n",
    "# Set an optimizer\n",
    "optimizer = Adam(learning_rate=5e-05,epsilon=1e-08,decay=0.01,clipnorm=1.0)\n",
    "\n",
    "# Set loss and metrics\n",
    "loss = {'Sentiment': CategoricalCrossentropy(from_logits = True)}\n",
    "\n",
    "# Compile the model\n",
    "model4.compile(optimizer = optimizer, loss = loss, metrics = ['accuracy'])\n",
    "\n",
    "# Ready output data for the model\n",
    "y_train = to_categorical(data_train['Sentiment'])\n",
    "\n",
    "# Tokenize the input (takes some time)\n",
    "x_train = tokenizer(\n",
    "          text=data_train['Phrase'].to_list(),\n",
    "          add_special_tokens=True,\n",
    "          max_length=max_length,\n",
    "          truncation=True,\n",
    "          padding=True, \n",
    "          return_tensors='tf',\n",
    "          return_token_type_ids = False,\n",
    "          return_attention_mask = False,\n",
    "          verbose = True)\n",
    "\n",
    "y_val = to_categorical(data_val['Sentiment'])\n",
    "\n",
    "x_val = tokenizer(\n",
    "          text=data_val['Phrase'].to_list(),\n",
    "          add_special_tokens=True,\n",
    "          max_length=max_length,\n",
    "          truncation=True,\n",
    "          padding=True, \n",
    "          return_tensors='tf',\n",
    "          return_token_type_ids = False,\n",
    "          return_attention_mask = True,\n",
    "          verbose = True)\n",
    "\n",
    "# Fit the model\n",
    "history = model4.fit(\n",
    "    x={'input_ids': x_train['input_ids']},\n",
    "    y={'Sentiment': y_train},\n",
    "    validation_data=({'input_ids': x_val['input_ids']},{'Sentiment': y_val}),\n",
    "    batch_size=64,\n",
    "    epochs=2,\n",
    "    verbose=1)"
   ]
  },
  {
   "cell_type": "markdown",
   "metadata": {},
   "source": [
    "The model took 31 minutes and 16 seconds to train for 2 epochs."
   ]
  },
  {
   "cell_type": "markdown",
   "metadata": {
    "id": "1K2WAHjpF-j1"
   },
   "source": [
    "## Evaluate on validation set:"
   ]
  },
  {
   "cell_type": "code",
   "execution_count": 14,
   "metadata": {
    "execution": {
     "iopub.execute_input": "2022-01-11T22:53:00.880151Z",
     "iopub.status.busy": "2022-01-11T22:53:00.879476Z",
     "iopub.status.idle": "2022-01-11T22:53:39.855238Z",
     "shell.execute_reply": "2022-01-11T22:53:39.854487Z",
     "shell.execute_reply.started": "2022-01-11T22:53:00.880106Z"
    },
    "id": "POdf0IyhF-j3"
   },
   "outputs": [
    {
     "name": "stdout",
     "output_type": "stream",
     "text": [
      "488/488 [==============================] - 39s 80ms/step - loss: 0.7451 - accuracy: 0.6854\n"
     ]
    }
   ],
   "source": [
    "model_eval = model4.evaluate(\n",
    "    x={'input_ids': x_val['input_ids']},\n",
    "    y={'Sentiment': y_val}\n",
    ")"
   ]
  },
  {
   "cell_type": "code",
   "execution_count": 15,
   "metadata": {
    "execution": {
     "iopub.execute_input": "2022-01-11T22:54:02.032176Z",
     "iopub.status.busy": "2022-01-11T22:54:02.031465Z",
     "iopub.status.idle": "2022-01-11T22:54:40.311639Z",
     "shell.execute_reply": "2022-01-11T22:54:40.310858Z",
     "shell.execute_reply.started": "2022-01-11T22:54:02.032136Z"
    },
    "id": "pss8VifnF-j5"
   },
   "outputs": [],
   "source": [
    "y_val_predicted = model4.predict(\n",
    "    x={'input_ids': x_val['input_ids']},\n",
    ")"
   ]
  },
  {
   "cell_type": "code",
   "execution_count": 16,
   "metadata": {
    "execution": {
     "iopub.execute_input": "2022-01-11T22:54:40.315501Z",
     "iopub.status.busy": "2022-01-11T22:54:40.315291Z",
     "iopub.status.idle": "2022-01-11T22:54:40.323729Z",
     "shell.execute_reply": "2022-01-11T22:54:40.322994Z",
     "shell.execute_reply.started": "2022-01-11T22:54:40.315477Z"
    },
    "id": "2n9HAA1NF-j7"
   },
   "outputs": [
    {
     "data": {
      "text/plain": [
       "array([[-3.4365168 , -1.1330814 ,  1.8831319 ,  2.3386285 , -0.4450395 ],\n",
       "       [-3.9699595 ,  0.32727733,  4.5337677 ,  0.9836189 , -3.807359  ],\n",
       "       [-4.169939  , -3.1383638 ,  0.399411  ,  3.6032681 ,  3.6809742 ],\n",
       "       ...,\n",
       "       [-3.6081288 , -2.415563  ,  0.6366762 ,  2.6668108 ,  2.4975603 ],\n",
       "       [ 3.6144605 ,  2.8606641 ,  0.6325866 , -2.8154707 , -4.0294094 ],\n",
       "       [-2.9174604 ,  0.6392301 ,  3.0513592 ,  0.5884632 , -3.5596054 ]],\n",
       "      dtype=float32)"
      ]
     },
     "execution_count": 16,
     "metadata": {},
     "output_type": "execute_result"
    }
   ],
   "source": [
    "y_val_predicted['Sentiment']"
   ]
  },
  {
   "cell_type": "code",
   "execution_count": 17,
   "metadata": {
    "execution": {
     "iopub.execute_input": "2022-01-11T22:57:42.793931Z",
     "iopub.status.busy": "2022-01-11T22:57:42.793390Z",
     "iopub.status.idle": "2022-01-11T22:57:42.800010Z",
     "shell.execute_reply": "2022-01-11T22:57:42.799089Z",
     "shell.execute_reply.started": "2022-01-11T22:57:42.793891Z"
    },
    "id": "XtSWLJMEF-j8"
   },
   "outputs": [
    {
     "data": {
      "text/plain": [
       "array([[0., 0., 0., 1., 0.],\n",
       "       [0., 0., 1., 0., 0.],\n",
       "       [0., 0., 0., 1., 0.],\n",
       "       ...,\n",
       "       [0., 0., 0., 1., 0.],\n",
       "       [1., 0., 0., 0., 0.],\n",
       "       [0., 0., 1., 0., 0.]], dtype=float32)"
      ]
     },
     "execution_count": 17,
     "metadata": {},
     "output_type": "execute_result"
    }
   ],
   "source": [
    "y_val"
   ]
  },
  {
   "cell_type": "code",
   "execution_count": 18,
   "metadata": {
    "execution": {
     "iopub.execute_input": "2022-01-11T22:57:43.118149Z",
     "iopub.status.busy": "2022-01-11T22:57:43.117603Z",
     "iopub.status.idle": "2022-01-11T22:57:43.174730Z",
     "shell.execute_reply": "2022-01-11T22:57:43.174022Z",
     "shell.execute_reply.started": "2022-01-11T22:57:43.118113Z"
    },
    "id": "pwbGnTcgF-j9"
   },
   "outputs": [],
   "source": [
    "y_val_pred_max=[np.argmax(i) for i in y_val_predicted['Sentiment']]"
   ]
  },
  {
   "cell_type": "code",
   "execution_count": 19,
   "metadata": {
    "execution": {
     "iopub.execute_input": "2022-01-11T22:57:44.853461Z",
     "iopub.status.busy": "2022-01-11T22:57:44.852866Z",
     "iopub.status.idle": "2022-01-11T22:57:44.900026Z",
     "shell.execute_reply": "2022-01-11T22:57:44.899340Z",
     "shell.execute_reply.started": "2022-01-11T22:57:44.853421Z"
    },
    "id": "kci8Suh1F-j-"
   },
   "outputs": [],
   "source": [
    "y_val_actual_max=[np.argmax(i) for i in y_val]"
   ]
  },
  {
   "cell_type": "code",
   "execution_count": 20,
   "metadata": {
    "execution": {
     "iopub.execute_input": "2022-01-11T22:57:47.773611Z",
     "iopub.status.busy": "2022-01-11T22:57:47.772989Z",
     "iopub.status.idle": "2022-01-11T22:57:47.844745Z",
     "shell.execute_reply": "2022-01-11T22:57:47.843901Z",
     "shell.execute_reply.started": "2022-01-11T22:57:47.773563Z"
    },
    "id": "0rJFPYmEF-kA"
   },
   "outputs": [
    {
     "name": "stdout",
     "output_type": "stream",
     "text": [
      "              precision    recall  f1-score   support\n",
      "\n",
      "           0       0.53      0.47      0.50       763\n",
      "           1       0.58      0.59      0.59      2672\n",
      "           2       0.78      0.80      0.79      7772\n",
      "           3       0.56      0.61      0.58      3048\n",
      "           4       0.73      0.48      0.58      1351\n",
      "\n",
      "    accuracy                           0.69     15606\n",
      "   macro avg       0.64      0.59      0.61     15606\n",
      "weighted avg       0.69      0.69      0.68     15606\n",
      "\n"
     ]
    }
   ],
   "source": [
    "from sklearn.metrics import classification_report\n",
    "\n",
    "report = classification_report(y_val_pred_max, y_val_actual_max)\n",
    "\n",
    "print(report)"
   ]
  },
  {
   "cell_type": "code",
   "execution_count": 21,
   "metadata": {
    "execution": {
     "iopub.execute_input": "2022-01-11T22:57:47.996387Z",
     "iopub.status.busy": "2022-01-11T22:57:47.993661Z",
     "iopub.status.idle": "2022-01-11T22:57:48.369517Z",
     "shell.execute_reply": "2022-01-11T22:57:48.368840Z",
     "shell.execute_reply.started": "2022-01-11T22:57:47.996342Z"
    },
    "id": "x5H1VIR5F-kB"
   },
   "outputs": [
    {
     "data": {
      "image/png": "[encoded data removed]",
      "text/plain": [
       "<Figure size 432x288 with 2 Axes>"
      ]
     },
     "metadata": {},
     "output_type": "display_data"
    }
   ],
   "source": [
    "from sklearn.metrics import confusion_matrix, ConfusionMatrixDisplay\n",
    "\n",
    "disp = ConfusionMatrixDisplay(confusion_matrix=confusion_matrix(y_val_pred_max, y_val_actual_max), display_labels=np.unique(y_val_actual_max))\n",
    "disp.plot(cmap='Blues') \n",
    "plt.grid(False)"
   ]
  },
  {
   "cell_type": "markdown",
   "metadata": {
    "id": "YP4ZDHUYF-kC"
   },
   "source": [
    "## Inference:"
   ]
  },
  {
   "cell_type": "code",
   "execution_count": 22,
   "metadata": {
    "execution": {
     "iopub.execute_input": "2022-01-11T22:58:02.543730Z",
     "iopub.status.busy": "2022-01-11T22:58:02.542968Z",
     "iopub.status.idle": "2022-01-11T22:58:10.929884Z",
     "shell.execute_reply": "2022-01-11T22:58:10.929114Z",
     "shell.execute_reply.started": "2022-01-11T22:58:02.543689Z"
    },
    "id": "nbmjfN6WF-kD"
   },
   "outputs": [],
   "source": [
    "x_test = tokenizer(\n",
    "          text=df_test['Phrase'].to_list(),\n",
    "          add_special_tokens=True,\n",
    "          max_length=max_length,\n",
    "          truncation=True,\n",
    "          padding=True, \n",
    "          return_tensors='tf',\n",
    "          return_token_type_ids = False,\n",
    "          return_attention_mask = False,\n",
    "          verbose = True)"
   ]
  },
  {
   "cell_type": "code",
   "execution_count": 23,
   "metadata": {
    "execution": {
     "iopub.execute_input": "2022-01-11T22:58:10.931768Z",
     "iopub.status.busy": "2022-01-11T22:58:10.931520Z",
     "iopub.status.idle": "2022-01-11T23:00:45.665328Z",
     "shell.execute_reply": "2022-01-11T23:00:45.664508Z",
     "shell.execute_reply.started": "2022-01-11T22:58:10.931734Z"
    },
    "id": "hCMvdjxDF-kF"
   },
   "outputs": [],
   "source": [
    "label_predicted = model4.predict(\n",
    "    x={'input_ids': x_test['input_ids']},\n",
    ")"
   ]
  },
  {
   "cell_type": "code",
   "execution_count": 24,
   "metadata": {
    "execution": {
     "iopub.execute_input": "2022-01-11T23:02:11.363842Z",
     "iopub.status.busy": "2022-01-11T23:02:11.363533Z",
     "iopub.status.idle": "2022-01-11T23:02:11.370859Z",
     "shell.execute_reply": "2022-01-11T23:02:11.370135Z",
     "shell.execute_reply.started": "2022-01-11T23:02:11.363809Z"
    },
    "id": "WAC7nKoLF-kG"
   },
   "outputs": [
    {
     "data": {
      "text/plain": [
       "array([[-0.11774959,  1.8553255 ,  1.6257688 , -0.74621934, -3.8309202 ],\n",
       "       [-0.87175363,  1.5396678 ,  1.7231663 , -0.14738905, -3.5544121 ],\n",
       "       [-4.621074  , -0.18635918,  4.648381  ,  1.5666962 , -3.325343  ],\n",
       "       ...,\n",
       "       [ 0.37956503,  2.6528673 ,  1.7924142 , -1.9511659 , -4.773747  ],\n",
       "       [ 0.18483469,  2.6983056 ,  1.8533108 , -1.8795936 , -4.850428  ],\n",
       "       [-0.49014336,  2.3671918 ,  1.9613469 , -1.0009844 , -4.121649  ]],\n",
       "      dtype=float32)"
      ]
     },
     "execution_count": 24,
     "metadata": {},
     "output_type": "execute_result"
    }
   ],
   "source": [
    "label_predicted['Sentiment']"
   ]
  },
  {
   "cell_type": "code",
   "execution_count": 25,
   "metadata": {
    "execution": {
     "iopub.execute_input": "2022-01-11T23:02:12.193110Z",
     "iopub.status.busy": "2022-01-11T23:02:12.192824Z",
     "iopub.status.idle": "2022-01-11T23:02:12.358938Z",
     "shell.execute_reply": "2022-01-11T23:02:12.358177Z",
     "shell.execute_reply.started": "2022-01-11T23:02:12.193073Z"
    },
    "id": "o4U1icbfF-kI"
   },
   "outputs": [],
   "source": [
    "label_pred_max=[np.argmax(i) for i in label_predicted['Sentiment']]"
   ]
  },
  {
   "cell_type": "code",
   "execution_count": 26,
   "metadata": {
    "execution": {
     "iopub.execute_input": "2022-01-11T23:02:17.330672Z",
     "iopub.status.busy": "2022-01-11T23:02:17.330418Z",
     "iopub.status.idle": "2022-01-11T23:02:17.335798Z",
     "shell.execute_reply": "2022-01-11T23:02:17.335128Z",
     "shell.execute_reply.started": "2022-01-11T23:02:17.330643Z"
    },
    "id": "fLSzmgE2F-kJ"
   },
   "outputs": [
    {
     "data": {
      "text/plain": [
       "[1, 2, 2, 2, 2, 3, 3, 2, 3, 2]"
      ]
     },
     "execution_count": 26,
     "metadata": {},
     "output_type": "execute_result"
    }
   ],
   "source": [
    "label_pred_max[:10]"
   ]
  },
  {
   "cell_type": "markdown",
   "metadata": {},
   "source": [
    "## Inference"
   ]
  },
  {
   "cell_type": "markdown",
   "metadata": {},
   "source": [
    "In general the performance of the four models was similar, supporting the idea that BERT is the middle term of trade-off between accuracy and training time, whereas DistilBERT was the fastest by far, but having a lower accuracy than the previous as is explained by HuggingFace it achieves 95% accuracy of BERT, finally RoBERTa and XLNet were the models with highest accuracy and at the same time the slowest. \n",
    "\n",
    "The best performance was in RoBERTa reaching 68.62% of accuracy and the lowest was DistilBERT reaching 67.90%. We can say there is a slight difference but in terms of number of misclassifications the gap is huge, however the big challenge of the current task is how to deal with an unbalanced dataset, this is the main and perhaps the unique reason why we have such a poor performance even in the best one, despite the fact that increasing the max_length of sequences can increase a little bit the accuracy too, but not significatively. Maybe if we try undersampling, there will be an improvement in performance."
   ]
  }
 ],
 "metadata": {
  "kernelspec": {
   "display_name": "Python 3 (ipykernel)",
   "language": "python",
   "name": "python3"
  },
  "language_info": {
   "codemirror_mode": {
    "name": "ipython",
    "version": 3
   },
   "file_extension": ".py",
   "mimetype": "text/x-python",
   "name": "python",
   "nbconvert_exporter": "python",
   "pygments_lexer": "ipython3",
   "version": "3.10.9"
  }
 },
 "nbformat": 4,
 "nbformat_minor": 4
}
