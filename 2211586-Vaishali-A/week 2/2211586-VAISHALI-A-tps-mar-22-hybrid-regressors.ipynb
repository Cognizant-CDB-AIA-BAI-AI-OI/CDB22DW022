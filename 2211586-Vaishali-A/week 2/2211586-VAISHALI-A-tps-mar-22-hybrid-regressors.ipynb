{
 "cells": [
  {
   "cell_type": "markdown",
   "metadata": {},
   "source": [
    "# Importing the libraries"
   ]
  },
  {
   "cell_type": "code",
   "execution_count": 1,
   "metadata": {
    "_cell_guid": "b1076dfc-b9ad-4769-8c92-a6c4dae69d19",
    "_kg_hide-input": true,
    "_uuid": "8f2839f25d086af736a60e9eeb907d3b93b6e0e5",
    "execution": {
     "iopub.execute_input": "2023-05-08T06:22:29.410016Z",
     "iopub.status.busy": "2023-05-08T06:22:29.409534Z",
     "iopub.status.idle": "2023-05-08T06:22:32.367011Z",
     "shell.execute_reply": "2023-05-08T06:22:32.365795Z",
     "shell.execute_reply.started": "2023-05-08T06:22:29.409866Z"
    }
   },
   "outputs": [
    {
     "data": {
      "text/html": [
       "        <script type=\"text/javascript\">\n",
       "        window.PlotlyConfig = {MathJaxConfig: 'local'};\n",
       "        if (window.MathJax) {MathJax.Hub.Config({SVG: {font: \"STIX-Web\"}});}\n",
       "        if (typeof require !== 'undefined') {\n",
       "        require.undef(\"plotly\");\n",
       "        requirejs.config({\n",
       "            paths: {\n",
       "                'plotly': ['https://cdn.plot.ly/plotly-2.9.0.min']\n",
       "            }\n",
       "        });\n",
       "        require(['plotly'], function(Plotly) {\n",
       "            window._Plotly = Plotly;\n",
       "        });\n",
       "        }\n",
       "        </script>\n",
       "        "
      ]
     },
     "metadata": {},
     "output_type": "display_data"
    }
   ],
   "source": [
    "import numpy as np\n",
    "import pandas as pd\n",
    "import math\n",
    "import datetime\n",
    "\n",
    "import matplotlib.pyplot as plt\n",
    "import matplotlib.ticker as ticker\n",
    "import seaborn as sns\n",
    "\n",
    "from plotly.offline import init_notebook_mode, iplot, plot\n",
    "import plotly.express as px\n",
    "import plotly as py\n",
    "init_notebook_mode(connected=True)\n",
    "import plotly.graph_objs as go\n",
    "\n",
    "from sklearn.multioutput import MultiOutputRegressor\n",
    "from sklearn.metrics import mean_absolute_error\n",
    "\n",
    "from warnings import simplefilter\n",
    "simplefilter(\"ignore\")\n",
    "\n",
    "# Set Matplotlib defaults\n",
    "plt.style.use(\"seaborn-whitegrid\")\n",
    "plt.rc(\n",
    "    \"figure\",\n",
    "    autolayout=True,\n",
    "    figsize=(12, 6),\n",
    "    titlesize=18,\n",
    "    titleweight='bold',\n",
    ")\n",
    "plt.rc(\n",
    "    \"axes\",\n",
    "    labelweight=\"bold\",\n",
    "    labelsize=\"large\",\n",
    "    titleweight=\"bold\",\n",
    "    titlesize=16,\n",
    "    titlepad=10,\n",
    ")\n",
    "plot_params = dict(\n",
    "    color=\"0.75\",\n",
    "    style=\".-\",\n",
    "    markeredgecolor=\"0.25\",\n",
    "    markerfacecolor=\"0.25\",\n",
    ")\n",
    "\n",
    "import random\n",
    "import os\n",
    "\n",
    "SEED = 2021\n",
    "def seed_everything(seed=42):\n",
    "    random.seed(seed)\n",
    "    os.environ['PYTHONHASHSEED'] = str(seed)\n",
    "    np.random.seed(seed)\n",
    "seed_everything(SEED)"
   ]
  },
  {
   "cell_type": "code",
   "execution_count": 2,
   "metadata": {
    "_kg_hide-input": true,
    "execution": {
     "iopub.execute_input": "2023-05-08T06:22:32.369232Z",
     "iopub.status.busy": "2023-05-08T06:22:32.368921Z",
     "iopub.status.idle": "2023-05-08T06:22:33.533628Z",
     "shell.execute_reply": "2023-05-08T06:22:33.532546Z",
     "shell.execute_reply.started": "2023-05-08T06:22:32.369196Z"
    }
   },
   "outputs": [
    {
     "data": {
      "text/html": [
       "<style type='text/css'>\n",
       ".datatable table.frame { margin-bottom: 0; }\n",
       ".datatable table.frame thead { border-bottom: none; }\n",
       ".datatable table.frame tr.coltypes td {  color: #FFFFFF;  line-height: 6px;  padding: 0 0.5em;}\n",
       ".datatable .bool    { background: #DDDD99; }\n",
       ".datatable .object  { background: #565656; }\n",
       ".datatable .int     { background: #5D9E5D; }\n",
       ".datatable .float   { background: #4040CC; }\n",
       ".datatable .str     { background: #CC4040; }\n",
       ".datatable .time    { background: #40CC40; }\n",
       ".datatable .row_index {  background: var(--jp-border-color3);  border-right: 1px solid var(--jp-border-color0);  color: var(--jp-ui-font-color3);  font-size: 9px;}\n",
       ".datatable .frame tbody td { text-align: left; }\n",
       ".datatable .frame tr.coltypes .row_index {  background: var(--jp-border-color0);}\n",
       ".datatable th:nth-child(2) { padding-left: 12px; }\n",
       ".datatable .hellipsis {  color: var(--jp-cell-editor-border-color);}\n",
       ".datatable .vellipsis {  background: var(--jp-layout-color0);  color: var(--jp-cell-editor-border-color);}\n",
       ".datatable .na {  color: var(--jp-cell-editor-border-color);  font-size: 80%;}\n",
       ".datatable .sp {  opacity: 0.25;}\n",
       ".datatable .footer { font-size: 9px; }\n",
       ".datatable .frame_dimensions {  background: var(--jp-border-color3);  border-top: 1px solid var(--jp-border-color0);  color: var(--jp-ui-font-color3);  display: inline-block;  opacity: 0.6;  padding: 1px 10px 1px 5px;}\n",
       "</style>\n"
      ],
      "text/plain": [
       "<IPython.core.display.HTML object>"
      ]
     },
     "metadata": {},
     "output_type": "display_data"
    }
   ],
   "source": [
    "from sklearn.linear_model import LinearRegression\n",
    "from sklearn.linear_model import Ridge\n",
    "from sklearn.linear_model import Lasso\n",
    "from sklearn.linear_model import ElasticNet\n",
    "from sklearn.linear_model import LarsCV\n",
    "from sklearn.linear_model import BayesianRidge\n",
    "from sklearn.neighbors import KNeighborsRegressor, RadiusNeighborsRegressor\n",
    "from sklearn.neural_network import MLPRegressor\n",
    "from sklearn.ensemble import AdaBoostRegressor\n",
    "from sklearn.ensemble import BaggingRegressor\n",
    "from sklearn.ensemble import ExtraTreesRegressor\n",
    "from sklearn.ensemble import GradientBoostingRegressor\n",
    "from sklearn.ensemble import HistGradientBoostingRegressor\n",
    "from sklearn.ensemble import RandomForestRegressor\n",
    "\n",
    "from sklearn.neighbors import NearestCentroid\n",
    "\n",
    "from sklearn.linear_model import QuantileRegressor\n",
    "from sklearn.linear_model import PoissonRegressor\n",
    "from sklearn.linear_model import SGDRegressor\n",
    "from sklearn.linear_model import Perceptron\n",
    "from sklearn.linear_model import HuberRegressor\n",
    "from sklearn.preprocessing import PolynomialFeatures\n",
    "from sklearn.pipeline import Pipeline\n",
    "\n",
    "from xgboost import XGBRegressor\n",
    "from catboost import CatBoostRegressor, Pool\n",
    "from lightgbm import LGBMRegressor\n",
    "from sklearn.ensemble import VotingRegressor\n",
    "from sklearn.preprocessing import LabelEncoder\n",
    "\n",
    "from scipy.stats.mstats import gmean, hmean\n",
    "from numpy import mean, median"
   ]
  },
  {
   "cell_type": "markdown",
   "metadata": {},
   "source": [
    "# Read data"
   ]
  },
  {
   "cell_type": "code",
   "execution_count": 3,
   "metadata": {
    "execution": {
     "iopub.execute_input": "2023-05-08T06:22:33.535495Z",
     "iopub.status.busy": "2023-05-08T06:22:33.535233Z",
     "iopub.status.idle": "2023-05-08T06:22:34.883602Z",
     "shell.execute_reply": "2023-05-08T06:22:34.882264Z",
     "shell.execute_reply.started": "2023-05-08T06:22:33.535465Z"
    }
   },
   "outputs": [],
   "source": [
    "df_train = pd.read_csv('../input/tabular-playground-series-mar-2022/train.csv', index_col=\"row_id\", parse_dates=['time'])\n",
    "df_test = pd.read_csv('../input/tabular-playground-series-mar-2022/test.csv', index_col=\"row_id\", parse_dates=['time'])\n",
    "df_train_idx = df_train.index\n",
    "df_test_idx = df_test.index"
   ]
  },
  {
   "cell_type": "markdown",
   "metadata": {
    "_kg_hide-input": true
   },
   "source": [
    "### x, y, direction -> road"
   ]
  },
  {
   "cell_type": "code",
   "execution_count": 4,
   "metadata": {
    "_kg_hide-input": true,
    "execution": {
     "iopub.execute_input": "2023-05-08T06:22:34.887261Z",
     "iopub.status.busy": "2023-05-08T06:22:34.886819Z",
     "iopub.status.idle": "2023-05-08T06:22:36.490471Z",
     "shell.execute_reply": "2023-05-08T06:22:36.489359Z",
     "shell.execute_reply.started": "2023-05-08T06:22:34.887214Z"
    }
   },
   "outputs": [],
   "source": [
    "df_train['road'] = df_train['x'].astype(str) + df_train['y'].astype(str) + df_train['direction']\n",
    "df_test['road']  = df_test['x'].astype(str) + df_test['y'].astype(str) + df_test['direction']\n",
    "\n",
    "le = LabelEncoder()\n",
    "df_train['road'] = le.fit_transform(df_train['road'])\n",
    "df_test['road']  = le.transform(df_test['road'])\n",
    "\n",
    "df_train = df_train.drop(['x', 'y', 'direction'], axis=1)\n",
    "df_test = df_test.drop(['x', 'y', 'direction'], axis=1)"
   ]
  },
  {
   "cell_type": "markdown",
   "metadata": {},
   "source": [
    "# Feature Engineering"
   ]
  },
  {
   "cell_type": "markdown",
   "metadata": {},
   "source": [
    "### Date and time features"
   ]
  },
  {
   "cell_type": "code",
   "execution_count": 5,
   "metadata": {
    "_kg_hide-input": true,
    "execution": {
     "iopub.execute_input": "2023-05-08T06:22:36.492728Z",
     "iopub.status.busy": "2023-05-08T06:22:36.492078Z",
     "iopub.status.idle": "2023-05-08T06:22:37.225191Z",
     "shell.execute_reply": "2023-05-08T06:22:37.224271Z",
     "shell.execute_reply.started": "2023-05-08T06:22:36.492675Z"
    }
   },
   "outputs": [],
   "source": [
    "def add_datetime_features(df):\n",
    "    df['month']   = df['time'].dt.month\n",
    "    df['day']     = df['time'].dt.day\n",
    "    df['weekday'] = df['time'].dt.weekday\n",
    "    df['weekend'] = (df['time'].dt.weekday >= 5)\n",
    "    df['hour']    = df['time'].dt.hour\n",
    "    df['minute']  = df['time'].dt.minute\n",
    "    df['afternoon'] = df['hour'] >= 12\n",
    "    \n",
    "    # number of 20' period in a day\n",
    "    df['moment']  = df['time'].dt.hour * 3 + df['time'].dt.minute // 20 \n",
    "    \n",
    "add_datetime_features(df_train)\n",
    "add_datetime_features(df_test)    "
   ]
  },
  {
   "cell_type": "markdown",
   "metadata": {},
   "source": [
    "### Split train and test for 1st and 2nd regressors"
   ]
  },
  {
   "cell_type": "code",
   "execution_count": 6,
   "metadata": {
    "_kg_hide-input": true,
    "execution": {
     "iopub.execute_input": "2023-05-08T06:22:37.227153Z",
     "iopub.status.busy": "2023-05-08T06:22:37.226876Z",
     "iopub.status.idle": "2023-05-08T06:22:37.345996Z",
     "shell.execute_reply": "2023-05-08T06:22:37.345001Z",
     "shell.execute_reply.started": "2023-05-08T06:22:37.227123Z"
    }
   },
   "outputs": [],
   "source": [
    "df_train2 = df_train.copy()\n",
    "df_test2 = df_test.copy()"
   ]
  },
  {
   "cell_type": "markdown",
   "metadata": {},
   "source": [
    "### Congestion Morning average, Min, Max, Median, Quantiles features"
   ]
  },
  {
   "cell_type": "code",
   "execution_count": 7,
   "metadata": {
    "_kg_hide-input": true,
    "execution": {
     "iopub.execute_input": "2023-05-08T06:22:37.347643Z",
     "iopub.status.busy": "2023-05-08T06:22:37.347362Z",
     "iopub.status.idle": "2023-05-08T06:22:39.732708Z",
     "shell.execute_reply": "2023-05-08T06:22:39.731608Z",
     "shell.execute_reply.started": "2023-05-08T06:22:37.347602Z"
    }
   },
   "outputs": [],
   "source": [
    "df_mornings = df_train[(df_train.hour >= 6) & (df_train.hour < 12)]\n",
    "morning_avgs = pd.DataFrame(df_mornings.groupby(['month', 'day', 'road']).congestion.median().astype(int)).reset_index()\n",
    "morning_avgs = morning_avgs.rename(columns={'congestion':'morning_avg'})\n",
    "df_train = df_train.merge(morning_avgs, on=['month', 'day', 'road'], how='left')\n",
    "df_test = df_test.merge(morning_avgs, on=['month', 'day', 'road'], how='left')\n",
    "df_train2 = df_train2.merge(morning_avgs, on=['month', 'day', 'road'], how='left')\n",
    "df_test2 = df_test2.merge(morning_avgs, on=['month', 'day', 'road'], how='left')\n",
    "\n",
    "mins = pd.DataFrame(df_train.groupby(['road', 'weekday', 'hour', 'minute']).congestion.min().astype(int)).reset_index()\n",
    "mins = mins.rename(columns={'congestion':'min'})\n",
    "df_train = df_train.merge(mins, on=['road', 'weekday', 'hour', 'minute'], how='left')\n",
    "df_test = df_test.merge(mins, on=['road', 'weekday', 'hour', 'minute'], how='left')\n",
    "df_train2 = df_train2.merge(mins, on=['road', 'weekday', 'hour', 'minute'], how='left')\n",
    "df_test2 = df_test2.merge(mins, on=['road', 'weekday', 'hour', 'minute'], how='left')\n",
    "\n",
    "maxs = pd.DataFrame(df_train.groupby(['road', 'weekday', 'hour', 'minute']).congestion.max().astype(int)).reset_index()\n",
    "maxs = maxs.rename(columns={'congestion':'max'})\n",
    "df_train = df_train.merge(maxs, on=['road', 'weekday', 'hour', 'minute'], how='left')\n",
    "df_test = df_test.merge(maxs, on=['road', 'weekday', 'hour', 'minute'], how='left')\n",
    "df_train2 = df_train2.merge(maxs, on=['road', 'weekday', 'hour', 'minute'], how='left')\n",
    "df_test2 = df_test2.merge(maxs, on=['road', 'weekday', 'hour', 'minute'], how='left')\n",
    "\n",
    "medians = pd.DataFrame(df_train.groupby(['road', 'weekday', 'hour', 'minute']).congestion.median().astype(int)).reset_index()\n",
    "medians = medians.rename(columns={'congestion':'median'})\n",
    "df_train = df_train.merge(medians, on=['road', 'weekday', 'hour', 'minute'], how='left')\n",
    "df_test = df_test.merge(medians, on=['road', 'weekday', 'hour', 'minute'], how='left')\n",
    "df_train2 = df_train2.merge(medians, on=['road', 'weekday', 'hour', 'minute'], how='left')\n",
    "df_test2 = df_test2.merge(medians, on=['road', 'weekday', 'hour', 'minute'], how='left')"
   ]
  },
  {
   "cell_type": "markdown",
   "metadata": {},
   "source": [
    "### PCA"
   ]
  },
  {
   "cell_type": "code",
   "execution_count": 8,
   "metadata": {
    "_kg_hide-input": true,
    "execution": {
     "iopub.execute_input": "2023-05-08T06:22:39.734616Z",
     "iopub.status.busy": "2023-05-08T06:22:39.734376Z",
     "iopub.status.idle": "2023-05-08T06:22:43.089653Z",
     "shell.execute_reply": "2023-05-08T06:22:43.088649Z",
     "shell.execute_reply.started": "2023-05-08T06:22:39.734587Z"
    }
   },
   "outputs": [],
   "source": [
    "important_features = ['moment', 'median', 'min', 'max', 'morning_avg']\n",
    "\n",
    "X = df_train.copy()\n",
    "X_t = df_test.copy()\n",
    "\n",
    "y = X.pop('congestion')\n",
    "X = X.loc[:, important_features]\n",
    "X_t = X_t.loc[:, important_features]\n",
    "\n",
    "from sklearn.decomposition import PCA\n",
    "\n",
    "# Create principal components\n",
    "pca = PCA(n_components=2)\n",
    "X_pca = pca.fit_transform(X)\n",
    "X_t_pca = pca.transform(X_t)\n",
    "\n",
    "# Convert to dataframe\n",
    "component_names = [f\"PC{i+1}\" for i in range(X_pca.shape[1])]\n",
    "X_pca = pd.DataFrame(X_pca, columns=component_names)\n",
    "X_t_pca = pd.DataFrame(X_t_pca, columns=component_names)\n",
    "\n",
    "df_train = pd.concat([df_train, X_pca], axis=1)\n",
    "df_test = pd.concat([df_test, X_t_pca], axis=1)\n",
    "\n",
    "X = df_train2.copy()\n",
    "X_t = df_test2.copy()\n",
    "\n",
    "y = X.pop('congestion')\n",
    "X = X.loc[:, important_features]\n",
    "X_t = X_t.loc[:, important_features]\n",
    "\n",
    "# Create principal components\n",
    "pca = PCA(n_components=2)\n",
    "X_pca = pca.fit_transform(X)\n",
    "X_t_pca = pca.transform(X_t)\n",
    "\n",
    "# Convert to dataframe\n",
    "component_names = [f\"PC{i+1}\" for i in range(X_pca.shape[1])]\n",
    "X_pca = pd.DataFrame(X_pca, columns=component_names)\n",
    "X_t_pca = pd.DataFrame(X_t_pca, columns=component_names)\n",
    "\n",
    "df_train2 = pd.concat([df_train2, X_pca], axis=1)\n",
    "df_test2 = pd.concat([df_test2, X_t_pca], axis=1)"
   ]
  },
  {
   "cell_type": "markdown",
   "metadata": {},
   "source": [
    "# Drop unimportant features\n",
    "* Feature selection is in the [TPS Mar 22, FE, the less the better](https://www.kaggle.com/martynovandrey/tps-mar-22-fe-the-less-the-better) notebook. I used mutual information, permutation importances and SHAP to find features to remove, the score improved by 0.023"
   ]
  },
  {
   "cell_type": "code",
   "execution_count": 9,
   "metadata": {
    "execution": {
     "iopub.execute_input": "2023-05-08T06:22:43.091464Z",
     "iopub.status.busy": "2023-05-08T06:22:43.091216Z",
     "iopub.status.idle": "2023-05-08T06:22:43.248028Z",
     "shell.execute_reply": "2023-05-08T06:22:43.247051Z",
     "shell.execute_reply.started": "2023-05-08T06:22:43.091436Z"
    }
   },
   "outputs": [],
   "source": [
    "df_train = df_train.drop(['month', 'day', 'weekday', 'weekend', 'hour', 'minute', 'afternoon'], axis=1)\n",
    "df_test = df_test.drop(['month', 'day', 'weekday', 'weekend', 'hour', 'minute', 'afternoon'], axis=1)\n",
    "df_train2 = df_train2.drop(['month', 'day', 'weekday', 'weekend', 'hour', 'minute', 'afternoon'], axis=1)\n",
    "df_test2 = df_test2.drop(['month', 'day', 'weekday', 'weekend', 'hour', 'minute', 'afternoon'], axis=1)"
   ]
  },
  {
   "cell_type": "markdown",
   "metadata": {},
   "source": [
    "## SPLIT df_train -> valid_train, valid_test"
   ]
  },
  {
   "cell_type": "code",
   "execution_count": 10,
   "metadata": {
    "_kg_hide-input": true,
    "execution": {
     "iopub.execute_input": "2023-05-08T06:22:43.251115Z",
     "iopub.status.busy": "2023-05-08T06:22:43.250837Z",
     "iopub.status.idle": "2023-05-08T06:22:43.514684Z",
     "shell.execute_reply": "2023-05-08T06:22:43.513653Z",
     "shell.execute_reply.started": "2023-05-08T06:22:43.251085Z"
    }
   },
   "outputs": [],
   "source": [
    "tst_start = pd.to_datetime('1991-09-23 12:00')\n",
    "tst_finish = pd.to_datetime('1991-09-23 23:40')\n",
    "\n",
    "valid_test = df_train[(df_train['time'] >= tst_start) & (df_train['time'] <= tst_finish)]\n",
    "valid_test2 = df_train2[(df_train2['time'] >= tst_start) & (df_train2['time'] <= tst_finish)]\n",
    "\n",
    "valid_target = valid_test.pop('congestion')\n",
    "valid_sample_submission = valid_test.copy()\n",
    "valid_sample_submission['congestion'] = 50\n",
    "valid_sample_submission = valid_sample_submission['congestion'] \n",
    "\n",
    "valid_train = df_train[df_train['time'] < tst_start]\n",
    "valid_train2 = df_train2[df_train2['time'] < tst_start]\n",
    "\n",
    "X_train = valid_train.copy()\n",
    "X_train = X_train.drop(['time'], axis=1)\n",
    "y_train = X_train['congestion']\n",
    "X_train = X_train.drop(['congestion'], axis=1)\n",
    "X_test = valid_test.drop(['time'], axis=1)\n",
    "\n",
    "X_train2 = valid_train2.copy()\n",
    "X_train2 = X_train2.drop(['time'], axis=1)\n",
    "y_train2 = X_train2['congestion']\n",
    "X_train2 = X_train2.drop(['congestion'], axis=1)\n",
    "X_test2 = valid_test2.drop(['time', 'congestion'], axis=1)"
   ]
  },
  {
   "cell_type": "markdown",
   "metadata": {},
   "source": [
    "# MedianRegressor"
   ]
  },
  {
   "cell_type": "code",
   "execution_count": 11,
   "metadata": {
    "execution": {
     "iopub.execute_input": "2023-05-08T06:22:43.516109Z",
     "iopub.status.busy": "2023-05-08T06:22:43.515870Z",
     "iopub.status.idle": "2023-05-08T06:22:43.523411Z",
     "shell.execute_reply": "2023-05-08T06:22:43.522464Z",
     "shell.execute_reply.started": "2023-05-08T06:22:43.516081Z"
    }
   },
   "outputs": [],
   "source": [
    "class MedianRegressor():\n",
    "    def __init__(self):\n",
    "        self.medians = None\n",
    "        \n",
    "    def fit(self, X, y):\n",
    "        df = X.copy()\n",
    "        df['target'] = y\n",
    "        self.medians = df.groupby(['road', 'moment']).target.median()\n",
    "        self.medians = self.medians - 0.000001\n",
    "        self.medians = self.medians.round().astype(int)\n",
    "\n",
    "    def predict(self, X):\n",
    "        sub = X.merge(self.medians, left_on=['road', 'moment'], right_index=True)[['target']]\n",
    "        return sub['target']\n",
    "    \n",
    "    def get_params(self, deep=True):\n",
    "        return dict()"
   ]
  },
  {
   "cell_type": "code",
   "execution_count": 12,
   "metadata": {
    "_kg_hide-input": true,
    "execution": {
     "iopub.execute_input": "2023-05-08T06:22:43.524749Z",
     "iopub.status.busy": "2023-05-08T06:22:43.524538Z",
     "iopub.status.idle": "2023-05-08T06:22:43.535806Z",
     "shell.execute_reply": "2023-05-08T06:22:43.534754Z",
     "shell.execute_reply.started": "2023-05-08T06:22:43.524723Z"
    }
   },
   "outputs": [],
   "source": [
    "class ZeroRegressor():\n",
    "    # For use as second regressor, does nothing, i.e. returns zero\n",
    "    def __init__(self):\n",
    "        pass\n",
    "        \n",
    "    def fit(self, X, y):\n",
    "        pass\n",
    "    \n",
    "    def predict(self, X):\n",
    "        df = X.copy()\n",
    "        df['target'] = 0\n",
    "        return df['target']\n",
    "    \n",
    "    def get_params(self, deep=True):\n",
    "        return dict()"
   ]
  },
  {
   "cell_type": "markdown",
   "metadata": {},
   "source": [
    "### Function to compare 1st regressors  "
   ]
  },
  {
   "cell_type": "code",
   "execution_count": 13,
   "metadata": {
    "_kg_hide-input": true,
    "execution": {
     "iopub.execute_input": "2023-05-08T06:22:43.537697Z",
     "iopub.status.busy": "2023-05-08T06:22:43.537467Z",
     "iopub.status.idle": "2023-05-08T06:22:43.549127Z",
     "shell.execute_reply": "2023-05-08T06:22:43.548027Z",
     "shell.execute_reply.started": "2023-05-08T06:22:43.537670Z"
    }
   },
   "outputs": [],
   "source": [
    "from sklearn.model_selection import TimeSeriesSplit\n",
    "from sklearn.model_selection import cross_validate\n",
    "\n",
    "ts_cv = TimeSeriesSplit(n_splits=15, test_size=65*36)\n",
    "\n",
    "def evaluate(model, X, y, cv):\n",
    "    cv_results = cross_validate(\n",
    "        model,\n",
    "        X,\n",
    "        y,\n",
    "        cv=cv,\n",
    "        scoring=[\"neg_mean_absolute_error\"],\n",
    "    )\n",
    "    mae = -cv_results[\"test_neg_mean_absolute_error\"]\n",
    "    return mae\n",
    "\n",
    "def compareCV(regressors, X, y, cv):\n",
    "    scores = []\n",
    "    for rgr in regressors:\n",
    "        print(rgr['name'].ljust(10), end=' ')\n",
    "        model = rgr['model']\n",
    "        mae = evaluate(model, X, y, cv=ts_cv)\n",
    "        print(rgr['description'].rjust(30), f' mae: {mae.mean():.3f} +/- {mae.std():.3f}')\n",
    "        for i in range(len(mae)):\n",
    "            item = {}\n",
    "            item['regressor'] = rgr['name']\n",
    "            item['mae'] = mae[i]\n",
    "            scores.append(item)\n",
    "    df_scores = pd.DataFrame(scores)\n",
    "    fig, ax = plt.subplots(figsize=(16, 4))\n",
    "    sns.boxplot(data=df_scores, x='regressor', y='mae', ax=ax)\n",
    "    ax.set_ylim(bottom=4.8)\n",
    "    \n",
    "    return scores"
   ]
  },
  {
   "cell_type": "code",
   "execution_count": 14,
   "metadata": {
    "execution": {
     "iopub.execute_input": "2023-05-08T06:22:43.550903Z",
     "iopub.status.busy": "2023-05-08T06:22:43.550512Z",
     "iopub.status.idle": "2023-05-08T06:22:43.568445Z",
     "shell.execute_reply": "2023-05-08T06:22:43.567355Z",
     "shell.execute_reply.started": "2023-05-08T06:22:43.550873Z"
    }
   },
   "outputs": [],
   "source": [
    "def compare(regressors, X_train, y_train, X_test, sample_submission, valid_target=[]):\n",
    "    subs = pd.DataFrame()\n",
    "    for rgr in regressors:\n",
    "        print(rgr['name'], end=' ')\n",
    "        model = rgr['model']\n",
    "        model.fit(X_train, y_train)\n",
    "        prediction = pd.Series(model.predict(X_test))\n",
    "       \n",
    "        sub = pd.DataFrame(sample_submission)\n",
    "        prediction.index = sub.index\n",
    "        sub['congestion'] = prediction\n",
    "        sub['congestion'] = sub['congestion'].apply(lambda x: round(x))\n",
    "        subs = pd.concat([subs, sub.rename(columns={'congestion':rgr['name']})], axis=1)\n",
    "        if len(valid_target) > 0:\n",
    "            sub_target = sub['congestion']\n",
    "            mae = mean_absolute_error(valid_target, sub_target)\n",
    "            rgr['score'] = mae\n",
    "            print(rgr['description'].rjust(30), f'mae = {mae:.3f}\\n')  \n",
    "\n",
    "    subs['congestion'] = subs.mean(axis=1).apply(lambda x: round(x))\n",
    "    df_regressors = pd.DataFrame(regressors)\n",
    "    \n",
    "    if len(valid_target) > 0:\n",
    "        sub_target = subs['congestion']\n",
    "        mae = mean_absolute_error(valid_target, sub_target)\n",
    "        print('BLENDED'.rjust(30), f'test = {mae:.3f}\\n')\n",
    "        fig, ax = plt.subplots(figsize=(16, 6))\n",
    "        sns.barplot(data=df_regressors, x='name', y='score', ax=ax)\n",
    "        ax.set_ylim(bottom=4.8)    \n",
    "    return df_regressors, subs"
   ]
  },
  {
   "cell_type": "markdown",
   "metadata": {},
   "source": [
    "# Compare 1st Regressors"
   ]
  },
  {
   "cell_type": "code",
   "execution_count": 15,
   "metadata": {
    "execution": {
     "iopub.execute_input": "2023-05-08T06:22:43.570049Z",
     "iopub.status.busy": "2023-05-08T06:22:43.569806Z",
     "iopub.status.idle": "2023-05-08T06:22:43.592026Z",
     "shell.execute_reply": "2023-05-08T06:22:43.590982Z",
     "shell.execute_reply.started": "2023-05-08T06:22:43.570020Z"
    }
   },
   "outputs": [],
   "source": [
    "cat0 = CatBoostRegressor(logging_level='Silent', eval_metric='MAE', loss_function='MAE', random_state=42)\n",
    "cat1 = CatBoostRegressor(logging_level='Silent', eval_metric='MAE', loss_function='MAE', random_state=77)\n",
    "cat2 = CatBoostRegressor(logging_level='Silent', eval_metric='MAE', loss_function='MAE', random_state=2022)\n",
    "cat3 = CatBoostRegressor(logging_level='Silent', eval_metric='MAE', loss_function='MAE', random_state=188)\n",
    "cat4 = CatBoostRegressor(logging_level='Silent', eval_metric='MAE', loss_function='MAE', random_state=500)\n",
    "cat5 = CatBoostRegressor(logging_level='Silent', eval_metric='MAE', loss_function='MAE', random_state=17)\n",
    "cat6 = CatBoostRegressor(logging_level='Silent', eval_metric='MAE', loss_function='MAE', random_state=3)\n",
    "estimators=[('cat0', cat0), ('cat1', cat1), ('cat2', cat2), ('cat3', cat3), ('cat4', cat4), ('cat5', cat5), ('cat6', cat6)]\n",
    "\n",
    "regressors = []\n",
    "# regressors.append({'name': 'MLP',     'model': MLPRegressor(random_state=1, max_iter=500, hidden_layer_sizes=(65, 65, 65)),                                        'description': 'MLPRegressor'})\n",
    "regressors.append({'name': 'Median',  'model': MedianRegressor(),                                                                 'description': 'MedianRegressor'})\n",
    "regressors.append({'name': 'BRidge',  'model': BayesianRidge(),         'description': 'BayesianRidge'})\n",
    "regressors.append({'name': 'HGBR',    'model': HistGradientBoostingRegressor(max_iter=10875, learning_rate=0.0307, max_leaf_nodes=176, max_depth=18, min_samples_leaf=49, loss='absolute_error'),                'description': 'HistGradientBoostingRegressor'})\n",
    "# regressors.append({'name': 'GBR',     'model': GradientBoostingRegressor(n_estimators=300, loss='absolute_error'),                'description': 'GradientBoostingRegressor'})\n",
    "regressors.append({'name': 'CAT',     'model': CatBoostRegressor(logging_level='Silent', eval_metric='MAE', loss_function='MAE'),  'description': 'CatBoostRegressor'})\n",
    "regressors.append({'name': 'LGBM',    'model': LGBMRegressor(metric='mae'),                                                       'description': 'LGBMRegressor'})\n",
    "regressors.append({'name': 'VOT',     'model': VotingRegressor(estimators=estimators, verbose=True),                               'description': 'VotingRegressor'})\n",
    "\n",
    "# df_regressors, subs = compare(regressors, X_train, y_train, X_test, valid_sample_submission, valid_target)"
   ]
  },
  {
   "cell_type": "code",
   "execution_count": 16,
   "metadata": {
    "_kg_hide-input": true,
    "execution": {
     "iopub.execute_input": "2023-05-08T06:22:43.593689Z",
     "iopub.status.busy": "2023-05-08T06:22:43.593458Z",
     "iopub.status.idle": "2023-05-08T06:22:43.614118Z",
     "shell.execute_reply": "2023-05-08T06:22:43.613058Z",
     "shell.execute_reply.started": "2023-05-08T06:22:43.593662Z"
    }
   },
   "outputs": [],
   "source": [
    "regressors = []\n",
    "regressors.append({'name': 'Linear',  'model': LinearRegression(),                           'description': 'LinearRegression'})\n",
    "regressors.append({'name': 'Ridge',   'model': Ridge(),                                      'description': 'Ridge'})\n",
    "regressors.append({'name': 'Lasso',   'model': Lasso(),                                      'description': 'Lasso'})\n",
    "regressors.append({'name': 'ENet',    'model': ElasticNet(),                                 'description': 'ElasticNet'})\n",
    "regressors.append({'name': 'LarsCV',  'model': LarsCV(),                                     'description': 'LarsCV'})\n",
    "regressors.append({'name': 'BRidge',  'model': BayesianRidge(),                              'description': 'BayesianRidge'})\n",
    "\n",
    "regressors.append({'name': 'KNR',     'model': KNeighborsRegressor(),                        'description': 'KNeighborsRegressor'})\n",
    "regressors.append({'name': 'KNR25',   'model': KNeighborsRegressor(n_neighbors=25),          'description': 'KNeighborsRegressor 25'})\n",
    "regressors.append({'name': 'KNR100',  'model': KNeighborsRegressor(n_neighbors=100),         'description': 'KNeighborsRegressor 100'})\n",
    "regressors.append({'name': 'KNR300',  'model': KNeighborsRegressor(n_neighbors=300),         'description': 'KNeighborsRegressor 300'})\n",
    "\n",
    "regressors.append({'name': 'HBR',    'model': HuberRegressor(),                                                              'description': 'HuberRegressor'})\n",
    "regressors.append({'name': 'SGDh',   'model': SGDRegressor(loss='huber', shuffle=False, random_state=42),                    'description': 'SGDRegressor huber'})\n",
    "regressors.append({'name': 'SGDe',   'model': SGDRegressor(loss='epsilon_insensitive', shuffle=False, random_state=42),      'description': 'SGDRegressor epsilon'})\n",
    "\n",
    "# df_scores = compareCV(regressors, X, y, ts_cv)"
   ]
  },
  {
   "cell_type": "markdown",
   "metadata": {},
   "source": [
    "# Hybrid regressor"
   ]
  },
  {
   "cell_type": "code",
   "execution_count": 17,
   "metadata": {
    "execution": {
     "iopub.execute_input": "2023-05-08T06:22:43.616287Z",
     "iopub.status.busy": "2023-05-08T06:22:43.615478Z",
     "iopub.status.idle": "2023-05-08T06:22:43.632139Z",
     "shell.execute_reply": "2023-05-08T06:22:43.631362Z",
     "shell.execute_reply.started": "2023-05-08T06:22:43.616247Z"
    }
   },
   "outputs": [],
   "source": [
    "class BoostedHybrid:\n",
    "    def __init__(self, model_1, model_2):\n",
    "        self.model_1 = model_1\n",
    "        self.model_2 = model_2\n",
    "        # for visualization\n",
    "        self.y_fit   = None\n",
    "        self.y_resid = None\n",
    "        self.y_resid_r = None\n",
    "        self.y_pred1 = None\n",
    "        self.y_pred2 = None\n",
    "\n",
    "    def fit(self, X_1, X_2, y):\n",
    "        # Train model_1\n",
    "        self.model_1.fit(X_1, y)\n",
    "        y_fit = self.model_1.predict(X_1)\n",
    "        self.y_fit = pd.DataFrame(y_fit).rename(columns={0:'y_fit'})\n",
    "        \n",
    "        y_resid = y - y_fit\n",
    "        \n",
    "        self.y_resid = pd.DataFrame(y_resid).rename(columns={0:'y_resid'})\n",
    "        \n",
    "        self.model_2.fit(X_2, y_resid)\n",
    "       \n",
    "    def predict(self, X_1, X_2):\n",
    "        y_pred = self.model_1.predict(X_1)\n",
    "        self.y_pred1 = pd.DataFrame(y_pred).rename(columns={0:'y_pred1'})\n",
    "        self.y_pred1.index = X_1.index\n",
    "        \n",
    "        y_pred2 = self.model_2.predict(X_2)\n",
    "        self.y_pred2 = pd.DataFrame(y_pred2).rename(columns={0:'y_pred2'})\n",
    "        self.y_pred2.index = X_2.index\n",
    "        \n",
    "        y_pred += y_pred2\n",
    "        return y_pred"
   ]
  },
  {
   "cell_type": "markdown",
   "metadata": {},
   "source": [
    "# How does Hybrid Regressor work?"
   ]
  },
  {
   "cell_type": "markdown",
   "metadata": {},
   "source": [
    "### Train and valid congestion\n",
    "* Use data till 09-16 11:40 (-week) as train\n",
    "* Use monday 09-16 afternoon for validation\n",
    "* Plots show time from Sep 16 for better view"
   ]
  },
  {
   "cell_type": "code",
   "execution_count": 18,
   "metadata": {
    "_kg_hide-input": true,
    "execution": {
     "iopub.execute_input": "2023-05-08T06:22:43.634330Z",
     "iopub.status.busy": "2023-05-08T06:22:43.633592Z",
     "iopub.status.idle": "2023-05-08T06:22:46.461572Z",
     "shell.execute_reply": "2023-05-08T06:22:46.460608Z",
     "shell.execute_reply.started": "2023-05-08T06:22:43.634293Z"
    }
   },
   "outputs": [],
   "source": [
    "# this code is for visualization only\n",
    "sample_start = pd.to_datetime('1991-09-16 00:00')\n",
    "valid_start  = pd.to_datetime('1991-09-23 12:00')\n",
    "valid_finish = pd.to_datetime('1991-09-23 23:40')\n",
    "\n",
    "sample = df_train[(df_train.time >= sample_start) & (df_train.time <= valid_finish)]\n",
    "sample['roadway'] = le.inverse_transform(sample.road)\n",
    "sample['y'] = 'train'\n",
    "sample.loc[sample.time >= valid_start, 'y'] = 'valid'\n",
    "fig = px.line(sample, x='time', y='congestion', color='y', animation_frame='roadway')\n",
    "\n",
    "df = pd.concat([X_train[['road']], X_test[['road']]], axis=0)\n",
    "df['time'] = df_train['time']\n",
    "df['y_train'] = y_train\n",
    "df['y_valid'] = valid_target"
   ]
  },
  {
   "cell_type": "markdown",
   "metadata": {},
   "source": [
    "* Hybrid reegressor has two models, model1 and model2, and two different (or not) X, X_train and X_train2\n",
    "1. model1.fit(X_train, y_train)\n",
    "2. y_fit = model1.predict(X_train)\n",
    "3. y_residual = y_train - y_fit\n",
    "* model2 uses residual as input\n",
    "4. model2.fit(X_train2, y_residual)"
   ]
  },
  {
   "cell_type": "code",
   "execution_count": 19,
   "metadata": {
    "execution": {
     "iopub.execute_input": "2023-05-08T06:22:46.463181Z",
     "iopub.status.busy": "2023-05-08T06:22:46.462878Z",
     "iopub.status.idle": "2023-05-08T06:24:12.903645Z",
     "shell.execute_reply": "2023-05-08T06:24:12.902549Z",
     "shell.execute_reply.started": "2023-05-08T06:22:46.463146Z"
    }
   },
   "outputs": [],
   "source": [
    "model = BoostedHybrid(SGDRegressor(loss='huber', shuffle=False, random_state=42), CatBoostRegressor(logging_level='Silent', n_estimators=800, eval_metric='MAE', loss_function='MAE'))\n",
    "model.fit(X_train, X_train, y_train)"
   ]
  },
  {
   "cell_type": "code",
   "execution_count": 20,
   "metadata": {
    "_kg_hide-input": true,
    "execution": {
     "iopub.execute_input": "2023-05-08T06:24:12.905590Z",
     "iopub.status.busy": "2023-05-08T06:24:12.905254Z",
     "iopub.status.idle": "2023-05-08T06:24:17.478895Z",
     "shell.execute_reply": "2023-05-08T06:24:17.477980Z",
     "shell.execute_reply.started": "2023-05-08T06:24:12.905546Z"
    }
   },
   "outputs": [],
   "source": [
    "# for visualization only\n",
    "df['y_fit'] = model.y_fit\n",
    "df['y_resid'] = model.y_resid\n",
    "\n",
    "sample = df[(df.time >= sample_start)]\n",
    "plot_data = pd.DataFrame()\n",
    "for y in sample.columns[2:]:\n",
    "    tmp = sample[list(sample.columns[:2]) + [y]]\n",
    "    tmp['y'] = y\n",
    "    tmp = tmp.rename(columns={y:'congestion'})\n",
    "    plot_data = pd.concat([plot_data, tmp], axis=0)\n",
    "plot_data['roadway'] = le.inverse_transform(plot_data.road)    \n",
    "fig = px.line(plot_data, x='time', y='congestion', color='y', animation_frame='roadway')"
   ]
  },
  {
   "cell_type": "markdown",
   "metadata": {},
   "source": [
    "5. prediction1 = model1.predict(X_test)\n",
    "6. prediction2 = model2.predict(X_test2)\n",
    "7. final prediction = prediction1 + prediction2"
   ]
  },
  {
   "cell_type": "markdown",
   "metadata": {},
   "source": [
    "\n"
   ]
  },
  {
   "cell_type": "code",
   "execution_count": 21,
   "metadata": {
    "execution": {
     "iopub.execute_input": "2023-05-08T06:24:17.480557Z",
     "iopub.status.busy": "2023-05-08T06:24:17.480288Z",
     "iopub.status.idle": "2023-05-08T06:24:17.511396Z",
     "shell.execute_reply": "2023-05-08T06:24:17.510033Z",
     "shell.execute_reply.started": "2023-05-08T06:24:17.480524Z"
    }
   },
   "outputs": [
    {
     "name": "stdout",
     "output_type": "stream",
     "text": [
      "MAE: 4.845, after rounding: 4.822\n"
     ]
    }
   ],
   "source": [
    "prediction = model.predict(X_test, X_test)\n",
    "\n",
    "mae = mean_absolute_error(valid_target, prediction)\n",
    "rounded = prediction.round()\n",
    "rmae = mean_absolute_error(valid_target, rounded)\n",
    "print(f'MAE: {mae:.3f}, after rounding: {rmae:.3f}')"
   ]
  },
  {
   "cell_type": "code",
   "execution_count": 22,
   "metadata": {
    "_kg_hide-input": true,
    "execution": {
     "iopub.execute_input": "2023-05-08T06:24:17.514510Z",
     "iopub.status.busy": "2023-05-08T06:24:17.513769Z",
     "iopub.status.idle": "2023-05-08T06:24:26.472314Z",
     "shell.execute_reply": "2023-05-08T06:24:26.471502Z",
     "shell.execute_reply.started": "2023-05-08T06:24:17.514444Z"
    }
   },
   "outputs": [],
   "source": [
    "# for visualization only\n",
    "df['pred1'] = model.y_pred1\n",
    "df['pred2'] = model.y_pred2\n",
    "pred = pd.DataFrame(pd.Series(prediction).rename('pred'))\n",
    "pred.index = X_test.index\n",
    "pred_r = pd.DataFrame(pd.Series(rounded).rename('pred'))\n",
    "pred_r.index = X_test.index\n",
    "df['pred'] = pred['pred'] \n",
    "df['rounded'] = pred_r['pred']\n",
    "\n",
    "sample = df[(df.time >= sample_start)]\n",
    "plot_data = pd.DataFrame()\n",
    "for y in sample.columns[2:]:\n",
    "    tmp = sample[list(sample.columns[:2]) + [y]]\n",
    "    tmp['y'] = y\n",
    "    tmp = tmp.rename(columns={y:'congestion'})\n",
    "    plot_data = pd.concat([plot_data, tmp], axis=0)\n",
    "plot_data['roadway'] = le.inverse_transform(plot_data.road)    \n",
    "fig = px.line(plot_data, x='time', y='congestion', color='y', animation_frame='roadway')"
   ]
  },
  {
   "cell_type": "markdown",
   "metadata": {},
   "source": [
    "### The same with different models"
   ]
  },
  {
   "cell_type": "code",
   "execution_count": 23,
   "metadata": {
    "_kg_hide-input": false,
    "execution": {
     "iopub.execute_input": "2023-05-08T06:24:26.474560Z",
     "iopub.status.busy": "2023-05-08T06:24:26.474066Z",
     "iopub.status.idle": "2023-05-08T06:24:33.749797Z",
     "shell.execute_reply": "2023-05-08T06:24:33.749013Z",
     "shell.execute_reply.started": "2023-05-08T06:24:26.474515Z"
    }
   },
   "outputs": [
    {
     "name": "stdout",
     "output_type": "stream",
     "text": [
      "MAE: 5.136, after rounding: 5.124\n"
     ]
    }
   ],
   "source": [
    "model = BoostedHybrid(MedianRegressor(), HistGradientBoostingRegressor(max_iter=300, loss='absolute_error')) \n",
    "model.fit(X_train, X_train2, y_train)\n",
    "prediction = model.predict(X_test, X_test2)\n",
    "\n",
    "mae = mean_absolute_error(valid_target, prediction)\n",
    "rounded = prediction.round()\n",
    "rmae = mean_absolute_error(valid_target, rounded)\n",
    "print(f'MAE: {mae:.3f}, after rounding: {rmae:.3f}')"
   ]
  },
  {
   "cell_type": "code",
   "execution_count": 24,
   "metadata": {
    "_kg_hide-input": true,
    "execution": {
     "iopub.execute_input": "2023-05-08T06:24:33.756531Z",
     "iopub.status.busy": "2023-05-08T06:24:33.754520Z",
     "iopub.status.idle": "2023-05-08T06:24:42.401123Z",
     "shell.execute_reply": "2023-05-08T06:24:42.400025Z",
     "shell.execute_reply.started": "2023-05-08T06:24:33.756480Z"
    }
   },
   "outputs": [],
   "source": [
    "# df is for visualization\n",
    "df = pd.concat([X_train[['road']], X_test[['road']]], axis=0)\n",
    "df['time'] = df_train['time']\n",
    "df['y_train'] = y_train\n",
    "df['y_valid'] = valid_target\n",
    "df['y_fit'] = model.y_fit\n",
    "df['y_resid'] = model.y_resid\n",
    "df['pred1'] = model.y_pred1\n",
    "df['pred2'] = model.y_pred2\n",
    "pred = pd.DataFrame(pd.Series(prediction).rename('pred'))\n",
    "pred.index = X_test.index\n",
    "pred_r = pd.DataFrame(pd.Series(rounded).rename('pred'))\n",
    "pred_r.index = X_test.index\n",
    "df['pred'] = pred['pred'] \n",
    "df['rounded'] = pred_r['pred']\n",
    "\n",
    "sample = df[(df.time >= sample_start)]\n",
    "plot_data = pd.DataFrame()\n",
    "for y in sample.columns[2:]:\n",
    "    tmp = sample[list(sample.columns[:2]) + [y]]\n",
    "    tmp['y'] = y\n",
    "    tmp = tmp.rename(columns={y:'congestion'})\n",
    "    plot_data = pd.concat([plot_data, tmp], axis=0)\n",
    "plot_data['roadway'] = le.inverse_transform(plot_data.road)    \n",
    "fig = px.line(plot_data, x='time', y='congestion', color='y', animation_frame='roadway')"
   ]
  },
  {
   "cell_type": "markdown",
   "metadata": {},
   "source": [
    "# Compare hybrid regressors"
   ]
  },
  {
   "cell_type": "markdown",
   "metadata": {},
   "source": [
    "### Function to compare hybrid regressors"
   ]
  },
  {
   "cell_type": "code",
   "execution_count": 25,
   "metadata": {
    "_kg_hide-input": true,
    "execution": {
     "iopub.execute_input": "2023-05-08T06:24:42.403010Z",
     "iopub.status.busy": "2023-05-08T06:24:42.402724Z",
     "iopub.status.idle": "2023-05-08T06:24:42.414281Z",
     "shell.execute_reply": "2023-05-08T06:24:42.413463Z",
     "shell.execute_reply.started": "2023-05-08T06:24:42.402976Z"
    }
   },
   "outputs": [],
   "source": [
    "def compare_hybrid(regressors1, regressors2, X_train1, X_train2, y_train, X_test1, X_test2, sample_submission, valid_target=[]):\n",
    "    scores = {}\n",
    "    subs = pd.DataFrame()\n",
    "    for rgr1 in regressors1:\n",
    "        for rgr2 in regressors2:\n",
    "            name = rgr1['name'] + '_' + rgr2['name']\n",
    "            print(name.ljust(13), end=' ')\n",
    "            model = BoostedHybrid(rgr1['model'], rgr2['model'])\n",
    "            model.fit(X_train1, X_train2, y_train)\n",
    "            prediction = pd.Series(model.predict(X_test1, X_test2))\n",
    "\n",
    "            sub = pd.DataFrame(sample_submission)\n",
    "            prediction.index = sub.index\n",
    "            sub['congestion'] = prediction\n",
    "            sub['congestion'] = sub['congestion'].apply(lambda x: round(x))\n",
    "            subs = pd.concat([subs, sub.rename(columns={'congestion':name})], axis=1)\n",
    "            if len(valid_target) > 0:\n",
    "                sub_target = sub['congestion']\n",
    "                mae = mean_absolute_error(valid_target, sub_target)\n",
    "                scores[name] = mae\n",
    "                print((rgr1['description'] + ', ' + rgr2['description']).rjust(50), f'mae = {mae:.3f}')  \n",
    "\n",
    "    subs['congestion'] = subs.median(axis=1).apply(lambda x: round(x))\n",
    "   \n",
    "    if len(valid_target) > 0:\n",
    "        sub_target = subs['congestion']\n",
    "        mae = mean_absolute_error(valid_target, sub_target)\n",
    "        print('BLENDED'.rjust(50), f'test = {mae:.3f}\\n')\n",
    "    \n",
    "    return scores, subs"
   ]
  },
  {
   "cell_type": "code",
   "execution_count": 26,
   "metadata": {
    "execution": {
     "iopub.execute_input": "2023-05-08T06:24:42.416031Z",
     "iopub.status.busy": "2023-05-08T06:24:42.415394Z",
     "iopub.status.idle": "2023-05-08T06:24:42.433065Z",
     "shell.execute_reply": "2023-05-08T06:24:42.432244Z",
     "shell.execute_reply.started": "2023-05-08T06:24:42.415995Z"
    }
   },
   "outputs": [],
   "source": [
    "regressors1 = []\n",
    "regressors1.append({'name': 'Median',  'model': MedianRegressor(),                                                                 'description': 'MedianRegressor'})\n",
    "regressors1.append({'name': 'BRidge',  'model': BayesianRidge(),         'description': 'BayesianRidge'})\n",
    "regressors1.append({'name': 'HGBR',    'model': HistGradientBoostingRegressor(max_iter=10875, learning_rate=0.0307, max_leaf_nodes=176, max_depth=18, min_samples_leaf=49, loss='absolute_error'),                'description': 'HistGradientBoostingRegressor'})\n",
    "# regressors1.append({'name': 'GBR',     'model': GradientBoostingRegressor(n_estimators=300, loss='absolute_error'),                'description': 'GradientBoostingRegressor'})\n",
    "regressors1.append({'name': 'CAT',     'model': CatBoostRegressor(logging_level='Silent', eval_metric='MAE', loss_function='MAE'),  'description': 'CatBoostRegressor'})\n",
    "regressors1.append({'name': 'LGBM',    'model': LGBMRegressor(metric='mae'),                                                       'description': 'LGBMRegressor'})\n"
   ]
  },
  {
   "cell_type": "code",
   "execution_count": 27,
   "metadata": {
    "execution": {
     "iopub.execute_input": "2023-05-08T06:24:42.434709Z",
     "iopub.status.busy": "2023-05-08T06:24:42.434367Z",
     "iopub.status.idle": "2023-05-08T06:24:42.451039Z",
     "shell.execute_reply": "2023-05-08T06:24:42.450018Z",
     "shell.execute_reply.started": "2023-05-08T06:24:42.434680Z"
    }
   },
   "outputs": [],
   "source": [
    "regressors2 = []\n",
    "regressors2.append({'name': 'ZERO',  'model': ZeroRegressor(), 'description': 'ZeroRegressor'})\n",
    "regressors2.append({'name': 'CAT',   'model': CatBoostRegressor(logging_level='Silent', n_estimators=800, eval_metric='MAE', loss_function='MAE'),  'description': 'CatBoostRegressor'})\n",
    "regressors2.append({'name': 'LGBM',  'model': LGBMRegressor(n_estimators=3900, metric='mae'),                     'description': 'LGBMRegressor'})"
   ]
  },
  {
   "cell_type": "code",
   "execution_count": 28,
   "metadata": {
    "execution": {
     "iopub.execute_input": "2023-05-08T06:24:42.455571Z",
     "iopub.status.busy": "2023-05-08T06:24:42.455296Z",
     "iopub.status.idle": "2023-05-08T06:47:33.514694Z",
     "shell.execute_reply": "2023-05-08T06:47:33.513784Z",
     "shell.execute_reply.started": "2023-05-08T06:24:42.455542Z"
    }
   },
   "outputs": [
    {
     "name": "stdout",
     "output_type": "stream",
     "text": [
      "Median_ZERO                       MedianRegressor, ZeroRegressor mae = 5.120\n",
      "Median_CAT                    MedianRegressor, CatBoostRegressor mae = 5.101\n",
      "Median_LGBM                       MedianRegressor, LGBMRegressor mae = 5.194\n",
      "BRidge_ZERO                         BayesianRidge, ZeroRegressor mae = 5.029\n",
      "BRidge_CAT                      BayesianRidge, CatBoostRegressor mae = 4.847\n",
      "BRidge_LGBM                         BayesianRidge, LGBMRegressor mae = 5.086\n",
      "HGBR_ZERO           HistGradientBoostingRegressor, ZeroRegressor mae = 4.853\n",
      "HGBR_CAT        HistGradientBoostingRegressor, CatBoostRegressor mae = 4.844\n",
      "HGBR_LGBM           HistGradientBoostingRegressor, LGBMRegressor mae = 5.059\n",
      "CAT_ZERO                        CatBoostRegressor, ZeroRegressor mae = 4.857\n",
      "CAT_CAT                     CatBoostRegressor, CatBoostRegressor mae = 4.841\n",
      "CAT_LGBM                        CatBoostRegressor, LGBMRegressor mae = 5.083\n",
      "LGBM_ZERO                           LGBMRegressor, ZeroRegressor mae = 5.016\n",
      "LGBM_CAT                        LGBMRegressor, CatBoostRegressor mae = 4.859\n",
      "LGBM_LGBM                           LGBMRegressor, LGBMRegressor mae = 5.086\n",
      "                                           BLENDED test = 4.898\n",
      "\n"
     ]
    }
   ],
   "source": [
    "scores, subs = compare_hybrid(regressors1, regressors2, X_train, X_train, y_train, X_test, X_test, valid_sample_submission, valid_target=valid_target)"
   ]
  },
  {
   "cell_type": "code",
   "execution_count": 29,
   "metadata": {
    "_kg_hide-input": true,
    "execution": {
     "iopub.execute_input": "2023-05-08T06:47:33.516534Z",
     "iopub.status.busy": "2023-05-08T06:47:33.516182Z",
     "iopub.status.idle": "2023-05-08T06:47:33.991664Z",
     "shell.execute_reply": "2023-05-08T06:47:33.990646Z",
     "shell.execute_reply.started": "2023-05-08T06:47:33.516479Z"
    }
   },
   "outputs": [
    {
     "data": {
      "text/plain": [
       "<AxesSubplot:xlabel='second', ylabel='first'>"
      ]
     },
     "execution_count": 29,
     "metadata": {},
     "output_type": "execute_result"
    },
    {
     "data": {
      "image/png": "[encoded data removed]",
      "text/plain": [
       "<Figure size 432x288 with 2 Axes>"
      ]
     },
     "metadata": {},
     "output_type": "display_data"
    }
   ],
   "source": [
    "matrix = []\n",
    "for key in scores:\n",
    "    item = {}\n",
    "    item['first'] = key.split('_')[0]    \n",
    "    item['second'] = key.split('_')[1]\n",
    "    item['mae'] = scores[key]\n",
    "    matrix.append(item)\n",
    "dfm = pd.DataFrame(matrix).pivot(index='first', columns='second', values='mae')    \n",
    "fig, ax = plt.subplots(nrows=1, ncols=1, figsize=(6, 4))\n",
    "sns.heatmap(dfm, annot=True, fmt='.4g', cmap=sns.color_palette(\"rocket_r\", as_cmap=True), ax=ax)    "
   ]
  },
  {
   "cell_type": "markdown",
   "metadata": {},
   "source": [
    "# SUBMISSION"
   ]
  },
  {
   "cell_type": "code",
   "execution_count": 30,
   "metadata": {
    "execution": {
     "iopub.execute_input": "2023-05-08T06:47:33.993381Z",
     "iopub.status.busy": "2023-05-08T06:47:33.993121Z",
     "iopub.status.idle": "2023-05-08T06:47:34.003993Z",
     "shell.execute_reply": "2023-05-08T06:47:34.002916Z",
     "shell.execute_reply.started": "2023-05-08T06:47:33.993348Z"
    }
   },
   "outputs": [],
   "source": [
    "def make_subs_hybrid(regressors, X_train1, X_train2, y_train, X_test1, X_test2, sample_submission):\n",
    "    subs = pd.DataFrame()\n",
    "    for rgr in regressors:\n",
    "        print(rgr['name'], end=' ')\n",
    "        model = rgr['model']\n",
    "        if rgr['mode'] == 'hybrid':\n",
    "            model.fit(X_train1, X_train2, y_train)\n",
    "            prediction = pd.Series(model.predict(X_test1, X_test2))\n",
    "        else:\n",
    "            model.fit(X_train1, y_train)\n",
    "            prediction = pd.Series(model.predict(X_test1))\n",
    "       \n",
    "        sub = pd.DataFrame(sample_submission)\n",
    "        prediction.index = sub.index\n",
    "        sub['congestion'] = prediction\n",
    "        sub['congestion'] = sub['congestion'].apply(lambda x: round(x))\n",
    "        subs = pd.concat([subs, sub.rename(columns={'congestion':rgr['name']})], axis=1)\n",
    "    subs['congestion'] = subs.mean(axis=1).apply(lambda x: round(x))\n",
    "    return subs"
   ]
  },
  {
   "cell_type": "markdown",
   "metadata": {},
   "source": [
    "### Select regressors for submission"
   ]
  },
  {
   "cell_type": "code",
   "execution_count": 31,
   "metadata": {
    "execution": {
     "iopub.execute_input": "2023-05-08T06:47:34.006198Z",
     "iopub.status.busy": "2023-05-08T06:47:34.005791Z",
     "iopub.status.idle": "2023-05-08T06:47:34.023389Z",
     "shell.execute_reply": "2023-05-08T06:47:34.022023Z",
     "shell.execute_reply.started": "2023-05-08T06:47:34.006141Z"
    }
   },
   "outputs": [],
   "source": [
    "cat0 = CatBoostRegressor(logging_level='Silent', eval_metric='MAE', loss_function='MAE', random_state=42, n_estimators=800)\n",
    "cat1 = CatBoostRegressor(logging_level='Silent', eval_metric='MAE', loss_function='MAE', random_state=77, n_estimators=800)\n",
    "cat2 = CatBoostRegressor(logging_level='Silent', eval_metric='MAE', loss_function='MAE', random_state=2022, n_estimators=800)\n",
    "cat3 = CatBoostRegressor(logging_level='Silent', eval_metric='MAE', loss_function='MAE', random_state=188, n_estimators=800)\n",
    "cat4 = CatBoostRegressor(logging_level='Silent', eval_metric='MAE', loss_function='MAE', random_state=500, n_estimators=800)\n",
    "cat5 = CatBoostRegressor(logging_level='Silent', eval_metric='MAE', loss_function='MAE', random_state=17, n_estimators=800)\n",
    "cat6 = CatBoostRegressor(logging_level='Silent', eval_metric='MAE', loss_function='MAE', random_state=3, n_estimators=800)\n",
    "estimators=[('cat0', cat0), ('cat1', cat1), ('cat2', cat2), ('cat3', cat3), ('cat4', cat4), ('cat5', cat5), ('cat6', cat6)]\n",
    "\n",
    "hybrid_regressors = []\n",
    "hybrid_regressors.append({'name': 'MDN_H',  'mode':'single', 'model': MedianRegressor(), 'description': 'Median Regressor'})\n",
    "hybrid_regressors.append({'name': 'GBR_H',  'mode':'hybrid', 'model':BoostedHybrid(GradientBoostingRegressor(n_estimators=200, loss='absolute_error'), ZeroRegressor()), 'description':'Hybrid GBR'})\n",
    "hybrid_regressors.append({'name': 'CAT_H',  'mode':'hybrid', 'model':BoostedHybrid(CatBoostRegressor(logging_level='Silent', n_estimators=800, eval_metric='MAE', loss_function='MAE'), ZeroRegressor()), 'description':'Hybrid CAT'})\n",
    "hybrid_regressors.append({'name': 'LGBM_H', 'mode':'hybrid', 'model':BoostedHybrid(LGBMRegressor(n_estimators=3900, metric='mae'), ZeroRegressor()), 'description':'Hybrid LGBM'})\n",
    "hybrid_regressors.append({'name': 'VOT_H',  'mode':'hybrid', 'model':BoostedHybrid(VotingRegressor(estimators=estimators, verbose=True), ZeroRegressor()), 'description':'Hybrid VOT'})    "
   ]
  },
  {
   "cell_type": "markdown",
   "metadata": {},
   "source": [
    "## Prepare trains and tests"
   ]
  },
  {
   "cell_type": "code",
   "execution_count": 32,
   "metadata": {
    "execution": {
     "iopub.execute_input": "2023-05-08T06:47:34.025567Z",
     "iopub.status.busy": "2023-05-08T06:47:34.025292Z",
     "iopub.status.idle": "2023-05-08T06:47:34.142802Z",
     "shell.execute_reply": "2023-05-08T06:47:34.141735Z",
     "shell.execute_reply.started": "2023-05-08T06:47:34.025535Z"
    }
   },
   "outputs": [],
   "source": [
    "X_train = df_train.copy()\n",
    "X_train = X_train.drop(['time'], axis=1)\n",
    "y_train = X_train['congestion']\n",
    "X_train = X_train.drop(['congestion'], axis=1)\n",
    "X_test = df_test.drop(['time'], axis=1)"
   ]
  },
  {
   "cell_type": "markdown",
   "metadata": {},
   "source": [
    "### Predictions"
   ]
  },
  {
   "cell_type": "code",
   "execution_count": 33,
   "metadata": {
    "execution": {
     "iopub.execute_input": "2023-05-08T06:47:34.144724Z",
     "iopub.status.busy": "2023-05-08T06:47:34.144447Z",
     "iopub.status.idle": "2023-05-08T07:08:38.720436Z",
     "shell.execute_reply": "2023-05-08T07:08:38.719645Z",
     "shell.execute_reply.started": "2023-05-08T06:47:34.144684Z"
    }
   },
   "outputs": [
    {
     "name": "stdout",
     "output_type": "stream",
     "text": [
      "MDN_H GBR_H CAT_H LGBM_H VOT_H [Voting] ..................... (1 of 7) Processing cat0, total= 1.5min\n",
      "[Voting] ..................... (2 of 7) Processing cat1, total= 1.5min\n",
      "[Voting] ..................... (3 of 7) Processing cat2, total= 1.5min\n",
      "[Voting] ..................... (4 of 7) Processing cat3, total= 1.5min\n",
      "[Voting] ..................... (5 of 7) Processing cat4, total= 1.5min\n",
      "[Voting] ..................... (6 of 7) Processing cat5, total= 1.5min\n",
      "[Voting] ..................... (7 of 7) Processing cat6, total= 1.5min\n"
     ]
    },
    {
     "data": {
      "text/html": [
       "<div>\n",
       "<style scoped>\n",
       "    .dataframe tbody tr th:only-of-type {\n",
       "        vertical-align: middle;\n",
       "    }\n",
       "\n",
       "    .dataframe tbody tr th {\n",
       "        vertical-align: top;\n",
       "    }\n",
       "\n",
       "    .dataframe thead th {\n",
       "        text-align: right;\n",
       "    }\n",
       "</style>\n",
       "<table border=\"1\" class=\"dataframe\">\n",
       "  <thead>\n",
       "    <tr style=\"text-align: right;\">\n",
       "      <th></th>\n",
       "      <th>MDN_H</th>\n",
       "      <th>GBR_H</th>\n",
       "      <th>CAT_H</th>\n",
       "      <th>LGBM_H</th>\n",
       "      <th>VOT_H</th>\n",
       "      <th>congestion</th>\n",
       "    </tr>\n",
       "    <tr>\n",
       "      <th>row_id</th>\n",
       "      <th></th>\n",
       "      <th></th>\n",
       "      <th></th>\n",
       "      <th></th>\n",
       "      <th></th>\n",
       "      <th></th>\n",
       "    </tr>\n",
       "  </thead>\n",
       "  <tbody>\n",
       "    <tr>\n",
       "      <th>848835</th>\n",
       "      <td>47</td>\n",
       "      <td>47</td>\n",
       "      <td>47</td>\n",
       "      <td>47</td>\n",
       "      <td>47</td>\n",
       "      <td>47</td>\n",
       "    </tr>\n",
       "    <tr>\n",
       "      <th>848836</th>\n",
       "      <td>34</td>\n",
       "      <td>37</td>\n",
       "      <td>36</td>\n",
       "      <td>35</td>\n",
       "      <td>35</td>\n",
       "      <td>35</td>\n",
       "    </tr>\n",
       "    <tr>\n",
       "      <th>848837</th>\n",
       "      <td>50</td>\n",
       "      <td>55</td>\n",
       "      <td>55</td>\n",
       "      <td>53</td>\n",
       "      <td>55</td>\n",
       "      <td>54</td>\n",
       "    </tr>\n",
       "    <tr>\n",
       "      <th>848838</th>\n",
       "      <td>26</td>\n",
       "      <td>23</td>\n",
       "      <td>22</td>\n",
       "      <td>23</td>\n",
       "      <td>22</td>\n",
       "      <td>23</td>\n",
       "    </tr>\n",
       "    <tr>\n",
       "      <th>848839</th>\n",
       "      <td>71</td>\n",
       "      <td>72</td>\n",
       "      <td>72</td>\n",
       "      <td>72</td>\n",
       "      <td>72</td>\n",
       "      <td>72</td>\n",
       "    </tr>\n",
       "    <tr>\n",
       "      <th>...</th>\n",
       "      <td>...</td>\n",
       "      <td>...</td>\n",
       "      <td>...</td>\n",
       "      <td>...</td>\n",
       "      <td>...</td>\n",
       "      <td>...</td>\n",
       "    </tr>\n",
       "    <tr>\n",
       "      <th>851170</th>\n",
       "      <td>67</td>\n",
       "      <td>69</td>\n",
       "      <td>68</td>\n",
       "      <td>68</td>\n",
       "      <td>68</td>\n",
       "      <td>68</td>\n",
       "    </tr>\n",
       "    <tr>\n",
       "      <th>851171</th>\n",
       "      <td>28</td>\n",
       "      <td>27</td>\n",
       "      <td>25</td>\n",
       "      <td>39</td>\n",
       "      <td>26</td>\n",
       "      <td>29</td>\n",
       "    </tr>\n",
       "    <tr>\n",
       "      <th>851172</th>\n",
       "      <td>71</td>\n",
       "      <td>72</td>\n",
       "      <td>71</td>\n",
       "      <td>72</td>\n",
       "      <td>71</td>\n",
       "      <td>71</td>\n",
       "    </tr>\n",
       "    <tr>\n",
       "      <th>851173</th>\n",
       "      <td>11</td>\n",
       "      <td>15</td>\n",
       "      <td>13</td>\n",
       "      <td>21</td>\n",
       "      <td>13</td>\n",
       "      <td>15</td>\n",
       "    </tr>\n",
       "    <tr>\n",
       "      <th>851174</th>\n",
       "      <td>40</td>\n",
       "      <td>40</td>\n",
       "      <td>40</td>\n",
       "      <td>36</td>\n",
       "      <td>40</td>\n",
       "      <td>39</td>\n",
       "    </tr>\n",
       "  </tbody>\n",
       "</table>\n",
       "<p>2340 rows × 6 columns</p>\n",
       "</div>"
      ],
      "text/plain": [
       "        MDN_H  GBR_H  CAT_H  LGBM_H  VOT_H  congestion\n",
       "row_id                                                \n",
       "848835     47     47     47      47     47          47\n",
       "848836     34     37     36      35     35          35\n",
       "848837     50     55     55      53     55          54\n",
       "848838     26     23     22      23     22          23\n",
       "848839     71     72     72      72     72          72\n",
       "...       ...    ...    ...     ...    ...         ...\n",
       "851170     67     69     68      68     68          68\n",
       "851171     28     27     25      39     26          29\n",
       "851172     71     72     71      72     71          71\n",
       "851173     11     15     13      21     13          15\n",
       "851174     40     40     40      36     40          39\n",
       "\n",
       "[2340 rows x 6 columns]"
      ]
     },
     "execution_count": 33,
     "metadata": {},
     "output_type": "execute_result"
    }
   ],
   "source": [
    "sample_submission = pd.read_csv('../input/tabular-playground-series-mar-2022/sample_submission.csv', index_col=\"row_id\")\n",
    "subs = make_subs_hybrid(hybrid_regressors, X_train, X_train, y_train, X_test, X_test, sample_submission)\n",
    "subs"
   ]
  },
  {
   "cell_type": "markdown",
   "metadata": {},
   "source": [
    "### Don't forget special values!\n",
    "###  See this notebooks for details :\n",
    "* [Looking for special values, EDA](https://www.kaggle.com/code/martynovandrey/tps-mar-22-step-0-1-special-values)\n",
    "* [How to use special values to improve submission, dataset shared](https://www.kaggle.com/code/martynovandrey/tps-mar-22-don-t-forget-special-values)"
   ]
  },
  {
   "cell_type": "code",
   "execution_count": 34,
   "metadata": {
    "execution": {
     "iopub.execute_input": "2023-05-08T07:08:38.722126Z",
     "iopub.status.busy": "2023-05-08T07:08:38.721733Z",
     "iopub.status.idle": "2023-05-08T07:08:38.743992Z",
     "shell.execute_reply": "2023-05-08T07:08:38.743085Z",
     "shell.execute_reply.started": "2023-05-08T07:08:38.722090Z"
    }
   },
   "outputs": [],
   "source": [
    "special = pd.read_csv('../input/tps-mar-22-special-values/special v2.csv', index_col=\"row_id\")\n",
    "special = special[['congestion']].rename(columns={'congestion':'special'})"
   ]
  },
  {
   "cell_type": "code",
   "execution_count": 35,
   "metadata": {
    "_kg_hide-input": true,
    "_kg_hide-output": true,
    "execution": {
     "iopub.execute_input": "2023-05-08T07:08:38.746204Z",
     "iopub.status.busy": "2023-05-08T07:08:38.745269Z",
     "iopub.status.idle": "2023-05-08T07:08:38.796358Z",
     "shell.execute_reply": "2023-05-08T07:08:38.795569Z",
     "shell.execute_reply.started": "2023-05-08T07:08:38.746162Z"
    }
   },
   "outputs": [],
   "source": [
    "subs.index = sample_submission.index\n",
    "\n",
    "for rgr in hybrid_regressors:\n",
    "    sub = sample_submission.copy()\n",
    "    sub['congestion'] = subs[rgr['name']]\n",
    "    sub = sub.merge(special, left_index=True, right_index=True, how='left')\n",
    "    sub['special'] = sub['special'].fillna(sub['congestion']).round().astype(int)\n",
    "    sub = sub.drop(['congestion'], axis=1).rename(columns={'special':'congestion'})\n",
    "    sub.to_csv(f\"submission {rgr['name']} spec rounded.csv\", index=True)"
   ]
  },
  {
   "cell_type": "markdown",
   "metadata": {},
   "source": [
    "# Blend"
   ]
  },
  {
   "cell_type": "code",
   "execution_count": 36,
   "metadata": {
    "execution": {
     "iopub.execute_input": "2023-05-08T07:08:38.798226Z",
     "iopub.status.busy": "2023-05-08T07:08:38.797887Z",
     "iopub.status.idle": "2023-05-08T07:08:38.813106Z",
     "shell.execute_reply": "2023-05-08T07:08:38.812155Z",
     "shell.execute_reply.started": "2023-05-08T07:08:38.798191Z"
    }
   },
   "outputs": [],
   "source": [
    "sub = sample_submission.copy()\n",
    "sub['congestion'] = subs['congestion']\n",
    "sub = sub.merge(special, left_index=True, right_index=True, how='left')\n",
    "sub['special'] = sub['special'].fillna(sub['congestion']).round().astype(int)\n",
    "sub = sub.drop(['congestion'], axis=1).rename(columns={'special':'congestion'})\n",
    "sub.to_csv('submission blend hybrid.csv', index=True)"
   ]
  },
  {
   "cell_type": "markdown",
   "metadata": {},
   "source": [
    "# Generalizing the Special Values\n",
    "[from](https://www.kaggle.com/ambrosm/tpsmar22-generalizing-the-special-values)"
   ]
  },
  {
   "cell_type": "code",
   "execution_count": 37,
   "metadata": {
    "execution": {
     "iopub.execute_input": "2023-05-08T07:08:38.815332Z",
     "iopub.status.busy": "2023-05-08T07:08:38.814987Z",
     "iopub.status.idle": "2023-05-08T07:08:40.003918Z",
     "shell.execute_reply": "2023-05-08T07:08:40.001971Z",
     "shell.execute_reply.started": "2023-05-08T07:08:38.815289Z"
    }
   },
   "outputs": [
    {
     "name": "stdout",
     "output_type": "stream",
     "text": [
      "Mean absolute modification: 0.2673\n",
      "Submission was below lower bound: 77\n",
      "Submission was above upper bound: 203\n"
     ]
    },
    {
     "data": {
      "text/html": [
       "<div>\n",
       "<style scoped>\n",
       "    .dataframe tbody tr th:only-of-type {\n",
       "        vertical-align: middle;\n",
       "    }\n",
       "\n",
       "    .dataframe tbody tr th {\n",
       "        vertical-align: top;\n",
       "    }\n",
       "\n",
       "    .dataframe thead th {\n",
       "        text-align: right;\n",
       "    }\n",
       "</style>\n",
       "<table border=\"1\" class=\"dataframe\">\n",
       "  <thead>\n",
       "    <tr style=\"text-align: right;\">\n",
       "      <th></th>\n",
       "      <th>congestion</th>\n",
       "    </tr>\n",
       "    <tr>\n",
       "      <th>row_id</th>\n",
       "      <th></th>\n",
       "    </tr>\n",
       "  </thead>\n",
       "  <tbody>\n",
       "    <tr>\n",
       "      <th>848835</th>\n",
       "      <td>47</td>\n",
       "    </tr>\n",
       "    <tr>\n",
       "      <th>848836</th>\n",
       "      <td>35</td>\n",
       "    </tr>\n",
       "    <tr>\n",
       "      <th>848837</th>\n",
       "      <td>54</td>\n",
       "    </tr>\n",
       "    <tr>\n",
       "      <th>848838</th>\n",
       "      <td>23</td>\n",
       "    </tr>\n",
       "    <tr>\n",
       "      <th>848839</th>\n",
       "      <td>72</td>\n",
       "    </tr>\n",
       "    <tr>\n",
       "      <th>...</th>\n",
       "      <td>...</td>\n",
       "    </tr>\n",
       "    <tr>\n",
       "      <th>851170</th>\n",
       "      <td>68</td>\n",
       "    </tr>\n",
       "    <tr>\n",
       "      <th>851171</th>\n",
       "      <td>29</td>\n",
       "    </tr>\n",
       "    <tr>\n",
       "      <th>851172</th>\n",
       "      <td>71</td>\n",
       "    </tr>\n",
       "    <tr>\n",
       "      <th>851173</th>\n",
       "      <td>11</td>\n",
       "    </tr>\n",
       "    <tr>\n",
       "      <th>851174</th>\n",
       "      <td>39</td>\n",
       "    </tr>\n",
       "  </tbody>\n",
       "</table>\n",
       "<p>2340 rows × 1 columns</p>\n",
       "</div>"
      ],
      "text/plain": [
       "        congestion\n",
       "row_id            \n",
       "848835          47\n",
       "848836          35\n",
       "848837          54\n",
       "848838          23\n",
       "848839          72\n",
       "...            ...\n",
       "851170          68\n",
       "851171          29\n",
       "851172          71\n",
       "851173          11\n",
       "851174          39\n",
       "\n",
       "[2340 rows x 1 columns]"
      ]
     },
     "execution_count": 37,
     "metadata": {},
     "output_type": "execute_result"
    }
   ],
   "source": [
    "# Read and prepare the training data\n",
    "train = pd.read_csv('../input/tabular-playground-series-mar-2022/train.csv', parse_dates=['time'])\n",
    "train['hour'] = train['time'].dt.hour\n",
    "train['minute'] = train['time'].dt.minute\n",
    "\n",
    "submission_in = sub.copy()\n",
    "# Compute the quantiles of workday afternoons in September except Labor Day\n",
    "sep = train[(train.time.dt.hour >= 12) & (train.time.dt.weekday < 5) &\n",
    "            (train.time.dt.dayofyear >= 246)]\n",
    "lower = sep.groupby(['hour', 'minute', 'x', 'y', 'direction']).congestion.quantile(0.18).values\n",
    "upper = sep.groupby(['hour', 'minute', 'x', 'y', 'direction']).congestion.quantile(0.7).values\n",
    "\n",
    "# Clip the submission data to the quantiles\n",
    "submission_out = submission_in.copy()\n",
    "submission_out['congestion'] = submission_in.congestion.clip(lower, upper)\n",
    "\n",
    "# Display some statistics\n",
    "mae = mean_absolute_error(submission_in.congestion, submission_out.congestion)\n",
    "print(f'Mean absolute modification: {mae:.4f}')\n",
    "print(f\"Submission was below lower bound: {(submission_in.congestion <= lower - 0.5).sum()}\")\n",
    "print(f\"Submission was above upper bound: {(submission_in.congestion > upper + 0.5).sum()}\")\n",
    "\n",
    "# Round the submission\n",
    "submission_out['congestion'] = submission_out.congestion.round().astype(int)\n",
    "submission_out.to_csv('submission_hybrid_blend_corrected_rounded.csv')\n",
    "submission_out"
   ]
  }
 ],
 "metadata": {
  "kernelspec": {
   "display_name": "Python 3",
   "language": "python",
   "name": "python3"
  },
  "language_info": {
   "codemirror_mode": {
    "name": "ipython",
    "version": 3
   },
   "file_extension": ".py",
   "mimetype": "text/x-python",
   "name": "python",
   "nbconvert_exporter": "python",
   "pygments_lexer": "ipython3",
   "version": "3.7.6"
  }
 },
 "nbformat": 4,
 "nbformat_minor": 4
}
