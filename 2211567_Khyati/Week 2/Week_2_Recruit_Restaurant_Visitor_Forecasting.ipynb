{
  "cells": [
    {
      "cell_type": "code",
      "execution_count": null,
      "id": "1ca1eb25",
      "metadata": {
        "_cell_guid": "b1076dfc-b9ad-4769-8c92-a6c4dae69d19",
        "_uuid": "8f2839f25d086af736a60e9eeb907d3b93b6e0e5",
        "execution": {
          "iopub.execute_input": "2023-01-02T07:24:29.378309Z",
          "iopub.status.busy": "2023-01-02T07:24:29.377199Z",
          "iopub.status.idle": "2023-01-02T07:24:29.394021Z",
          "shell.execute_reply": "2023-01-02T07:24:29.392949Z"
        },
        "papermill": {
          "duration": 0.041328,
          "end_time": "2023-01-02T07:24:29.396637",
          "exception": false,
          "start_time": "2023-01-02T07:24:29.355309",
          "status": "completed"
        },
        "tags": [],
        "id": "1ca1eb25",
        "outputId": "95028cb9-fce4-4f64-9110-00e3f60aa50e"
      },
      "outputs": [
        {
          "name": "stdout",
          "output_type": "stream",
          "text": [
            "/kaggle/input/recruit-restaurant-visitor-forecasting/air_reserve.csv.zip\n",
            "/kaggle/input/recruit-restaurant-visitor-forecasting/hpg_store_info.csv.zip\n",
            "/kaggle/input/recruit-restaurant-visitor-forecasting/hpg_reserve.csv.zip\n",
            "/kaggle/input/recruit-restaurant-visitor-forecasting/sample_submission.csv.zip\n",
            "/kaggle/input/recruit-restaurant-visitor-forecasting/air_visit_data.csv.zip\n",
            "/kaggle/input/recruit-restaurant-visitor-forecasting/air_store_info.csv.zip\n",
            "/kaggle/input/recruit-restaurant-visitor-forecasting/date_info.csv.zip\n",
            "/kaggle/input/recruit-restaurant-visitor-forecasting/store_id_relation.csv.zip\n"
          ]
        }
      ],
      "source": [
        "# This Python 3 environment comes with many helpful analytics libraries installed\n",
        "# It is defined by the kaggle/python Docker image: https://github.com/kaggle/docker-python\n",
        "# For example, here's several helpful packages to load\n",
        "\n",
        "import numpy as np # linear algebra\n",
        "import pandas as pd # data processing, CSV file I/O (e.g. pd.read_csv)\n",
        "\n",
        "# Input data files are available in the read-only \"../input/\" directory\n",
        "# For example, running this (by clicking run or pressing Shift+Enter) will list all files under the input directory\n",
        "\n",
        "import os\n",
        "for dirname, _, filenames in os.walk('/kaggle/input'):\n",
        "    for filename in filenames:\n",
        "        print(os.path.join(dirname, filename))\n",
        "\n",
        "# You can write up to 20GB to the current directory (/kaggle/working/) that gets preserved as output when you create a version using \"Save & Run All\" \n",
        "# You can also write temporary files to /kaggle/temp/, but they won't be saved outside of the current session"
      ]
    },
    {
      "cell_type": "code",
      "execution_count": null,
      "id": "d7ea2189",
      "metadata": {
        "papermill": {
          "duration": 0.017617,
          "end_time": "2023-01-02T07:24:29.431831",
          "exception": false,
          "start_time": "2023-01-02T07:24:29.414214",
          "status": "completed"
        },
        "tags": [],
        "id": "d7ea2189"
      },
      "outputs": [],
      "source": []
    },
    {
      "cell_type": "markdown",
      "id": "5e2426da",
      "metadata": {
        "papermill": {
          "duration": 0.026607,
          "end_time": "2023-01-02T07:24:29.481229",
          "exception": false,
          "start_time": "2023-01-02T07:24:29.454622",
          "status": "completed"
        },
        "tags": [],
        "id": "5e2426da"
      },
      "source": [
        "# Installing library "
      ]
    },
    {
      "cell_type": "code",
      "execution_count": null,
      "id": "f9cffb88",
      "metadata": {
        "execution": {
          "iopub.execute_input": "2023-01-02T07:24:29.529568Z",
          "iopub.status.busy": "2023-01-02T07:24:29.528946Z",
          "iopub.status.idle": "2023-01-02T07:24:43.889183Z",
          "shell.execute_reply": "2023-01-02T07:24:43.887388Z"
        },
        "papermill": {
          "duration": 14.388365,
          "end_time": "2023-01-02T07:24:43.892322",
          "exception": false,
          "start_time": "2023-01-02T07:24:29.503957",
          "status": "completed"
        },
        "tags": [],
        "id": "f9cffb88",
        "outputId": "ed3be3ef-e2af-471a-cd02-000de80bf640"
      },
      "outputs": [
        {
          "name": "stdout",
          "output_type": "stream",
          "text": [
            "Collecting ipython-autotime\r\n",
            "  Downloading ipython_autotime-0.3.1-py2.py3-none-any.whl (6.8 kB)\r\n",
            "Requirement already satisfied: ipython in /opt/conda/lib/python3.7/site-packages (from ipython-autotime) (7.33.0)\r\n",
            "Requirement already satisfied: prompt-toolkit!=3.0.0,!=3.0.1,<3.1.0,>=2.0.0 in /opt/conda/lib/python3.7/site-packages (from ipython->ipython-autotime) (3.0.30)\r\n",
            "Requirement already satisfied: backcall in /opt/conda/lib/python3.7/site-packages (from ipython->ipython-autotime) (0.2.0)\r\n",
            "Requirement already satisfied: matplotlib-inline in /opt/conda/lib/python3.7/site-packages (from ipython->ipython-autotime) (0.1.3)\r\n",
            "Requirement already satisfied: decorator in /opt/conda/lib/python3.7/site-packages (from ipython->ipython-autotime) (5.1.1)\r\n",
            "Requirement already satisfied: pygments in /opt/conda/lib/python3.7/site-packages (from ipython->ipython-autotime) (2.12.0)\r\n",
            "Requirement already satisfied: pexpect>4.3 in /opt/conda/lib/python3.7/site-packages (from ipython->ipython-autotime) (4.8.0)\r\n",
            "Requirement already satisfied: jedi>=0.16 in /opt/conda/lib/python3.7/site-packages (from ipython->ipython-autotime) (0.18.1)\r\n",
            "Requirement already satisfied: setuptools>=18.5 in /opt/conda/lib/python3.7/site-packages (from ipython->ipython-autotime) (59.8.0)\r\n",
            "Requirement already satisfied: traitlets>=4.2 in /opt/conda/lib/python3.7/site-packages (from ipython->ipython-autotime) (5.3.0)\r\n",
            "Requirement already satisfied: pickleshare in /opt/conda/lib/python3.7/site-packages (from ipython->ipython-autotime) (0.7.5)\r\n",
            "Requirement already satisfied: parso<0.9.0,>=0.8.0 in /opt/conda/lib/python3.7/site-packages (from jedi>=0.16->ipython->ipython-autotime) (0.8.3)\r\n",
            "Requirement already satisfied: ptyprocess>=0.5 in /opt/conda/lib/python3.7/site-packages (from pexpect>4.3->ipython->ipython-autotime) (0.7.0)\r\n",
            "Requirement already satisfied: wcwidth in /opt/conda/lib/python3.7/site-packages (from prompt-toolkit!=3.0.0,!=3.0.1,<3.1.0,>=2.0.0->ipython->ipython-autotime) (0.2.5)\r\n",
            "Installing collected packages: ipython-autotime\r\n",
            "Successfully installed ipython-autotime-0.3.1\r\n",
            "\u001b[33mWARNING: Running pip as the 'root' user can result in broken permissions and conflicting behaviour with the system package manager. It is recommended to use a virtual environment instead: https://pip.pypa.io/warnings/venv\u001b[0m\u001b[33m\r\n",
            "\u001b[0m"
          ]
        }
      ],
      "source": [
        "! pip install ipython-autotime"
      ]
    },
    {
      "cell_type": "code",
      "execution_count": null,
      "id": "751796ef",
      "metadata": {
        "execution": {
          "iopub.execute_input": "2023-01-02T07:24:43.930835Z",
          "iopub.status.busy": "2023-01-02T07:24:43.929954Z",
          "iopub.status.idle": "2023-01-02T07:24:43.942190Z",
          "shell.execute_reply": "2023-01-02T07:24:43.940466Z"
        },
        "papermill": {
          "duration": 0.034853,
          "end_time": "2023-01-02T07:24:43.944783",
          "exception": false,
          "start_time": "2023-01-02T07:24:43.909930",
          "status": "completed"
        },
        "tags": [],
        "id": "751796ef",
        "outputId": "3ffd0e67-9328-4a41-94fa-2226e756c676"
      },
      "outputs": [
        {
          "name": "stdout",
          "output_type": "stream",
          "text": [
            "time: 337 µs (started: 2023-01-02 07:24:43 +00:00)\n"
          ]
        }
      ],
      "source": [
        "%load_ext autotime"
      ]
    },
    {
      "cell_type": "markdown",
      "id": "eb1b0603",
      "metadata": {
        "papermill": {
          "duration": 0.017608,
          "end_time": "2023-01-02T07:24:43.980177",
          "exception": false,
          "start_time": "2023-01-02T07:24:43.962569",
          "status": "completed"
        },
        "tags": [],
        "id": "eb1b0603"
      },
      "source": [
        "# Import libraries"
      ]
    },
    {
      "cell_type": "code",
      "execution_count": null,
      "id": "ba98bc0f",
      "metadata": {
        "execution": {
          "iopub.execute_input": "2023-01-02T07:24:44.017419Z",
          "iopub.status.busy": "2023-01-02T07:24:44.017007Z",
          "iopub.status.idle": "2023-01-02T07:24:44.022656Z",
          "shell.execute_reply": "2023-01-02T07:24:44.021449Z"
        },
        "papermill": {
          "duration": 0.027125,
          "end_time": "2023-01-02T07:24:44.025397",
          "exception": false,
          "start_time": "2023-01-02T07:24:43.998272",
          "status": "completed"
        },
        "tags": [],
        "id": "ba98bc0f",
        "outputId": "f169ca61-07a5-4cca-d0e2-2372e874ea54"
      },
      "outputs": [
        {
          "name": "stdout",
          "output_type": "stream",
          "text": [
            "time: 473 µs (started: 2023-01-02 07:24:44 +00:00)\n"
          ]
        }
      ],
      "source": [
        "from pathlib import Path"
      ]
    },
    {
      "cell_type": "code",
      "execution_count": null,
      "id": "602664cf",
      "metadata": {
        "execution": {
          "iopub.execute_input": "2023-01-02T07:24:44.062965Z",
          "iopub.status.busy": "2023-01-02T07:24:44.062556Z",
          "iopub.status.idle": "2023-01-02T07:24:44.069148Z",
          "shell.execute_reply": "2023-01-02T07:24:44.067594Z"
        },
        "papermill": {
          "duration": 0.02867,
          "end_time": "2023-01-02T07:24:44.071811",
          "exception": false,
          "start_time": "2023-01-02T07:24:44.043141",
          "status": "completed"
        },
        "tags": [],
        "id": "602664cf",
        "outputId": "4b052b59-6ca2-4f82-a1be-4c9b791a59c8"
      },
      "outputs": [
        {
          "name": "stdout",
          "output_type": "stream",
          "text": [
            "time: 454 µs (started: 2023-01-02 07:24:44 +00:00)\n"
          ]
        }
      ],
      "source": [
        "from zipfile import ZipFile"
      ]
    },
    {
      "cell_type": "code",
      "execution_count": null,
      "id": "388d2279",
      "metadata": {
        "execution": {
          "iopub.execute_input": "2023-01-02T07:24:44.110999Z",
          "iopub.status.busy": "2023-01-02T07:24:44.110303Z",
          "iopub.status.idle": "2023-01-02T07:24:44.116374Z",
          "shell.execute_reply": "2023-01-02T07:24:44.114866Z"
        },
        "papermill": {
          "duration": 0.027872,
          "end_time": "2023-01-02T07:24:44.118673",
          "exception": false,
          "start_time": "2023-01-02T07:24:44.090801",
          "status": "completed"
        },
        "tags": [],
        "id": "388d2279",
        "outputId": "23cf831e-b6f0-4841-d265-fe6b4b671651"
      },
      "outputs": [
        {
          "name": "stdout",
          "output_type": "stream",
          "text": [
            "time: 491 µs (started: 2023-01-02 07:24:44 +00:00)\n"
          ]
        }
      ],
      "source": [
        "import pandas\n",
        "import numpy"
      ]
    },
    {
      "cell_type": "code",
      "execution_count": null,
      "id": "486061a9",
      "metadata": {
        "papermill": {
          "duration": 0.017463,
          "end_time": "2023-01-02T07:24:44.154123",
          "exception": false,
          "start_time": "2023-01-02T07:24:44.136660",
          "status": "completed"
        },
        "tags": [],
        "id": "486061a9"
      },
      "outputs": [],
      "source": []
    },
    {
      "cell_type": "markdown",
      "id": "858e8a14",
      "metadata": {
        "papermill": {
          "duration": 0.018383,
          "end_time": "2023-01-02T07:24:44.190794",
          "exception": false,
          "start_time": "2023-01-02T07:24:44.172411",
          "status": "completed"
        },
        "tags": [],
        "id": "858e8a14"
      },
      "source": [
        "# Explore data"
      ]
    },
    {
      "cell_type": "code",
      "execution_count": null,
      "id": "18c8f2c2",
      "metadata": {
        "papermill": {
          "duration": 0.017787,
          "end_time": "2023-01-02T07:24:44.226698",
          "exception": false,
          "start_time": "2023-01-02T07:24:44.208911",
          "status": "completed"
        },
        "tags": [],
        "id": "18c8f2c2"
      },
      "outputs": [],
      "source": []
    },
    {
      "cell_type": "code",
      "execution_count": null,
      "id": "95fbbe04",
      "metadata": {
        "execution": {
          "iopub.execute_input": "2023-01-02T07:24:44.266819Z",
          "iopub.status.busy": "2023-01-02T07:24:44.265632Z",
          "iopub.status.idle": "2023-01-02T07:24:44.278604Z",
          "shell.execute_reply": "2023-01-02T07:24:44.276969Z"
        },
        "papermill": {
          "duration": 0.036833,
          "end_time": "2023-01-02T07:24:44.281553",
          "exception": false,
          "start_time": "2023-01-02T07:24:44.244720",
          "status": "completed"
        },
        "tags": [],
        "id": "95fbbe04",
        "outputId": "fc41676f-7bac-41f0-8973-0e43e2aeb49f"
      },
      "outputs": [
        {
          "name": "stdout",
          "output_type": "stream",
          "text": [
            "[input]\n",
            "    [recruit-restaurant-visitor-forecasting]\n",
            "        air_reserve.csv.zip\n",
            "        hpg_store_info.csv.zip\n",
            "        hpg_reserve.csv.zip\n",
            "        sample_submission.csv.zip\n",
            "        air_visit_data.csv.zip\n",
            "        air_store_info.csv.zip\n",
            "        date_info.csv.zip\n",
            "        store_id_relation.csv.zip\n",
            "time: 4.79 ms (started: 2023-01-02 07:24:44 +00:00)\n"
          ]
        }
      ],
      "source": [
        "# explore the data\n",
        "\n",
        "def print_tree(root_dir):\n",
        "    for root, dirs, files in os.walk(root_dir):\n",
        "        level = root.replace(root_dir, '').count(os.sep)\n",
        "        indent = ' ' * 4 * level\n",
        "        print(f'{indent}[{os.path.basename(root)}]')\n",
        "        subindent = ' ' * 4 * (level + 1)\n",
        "        for file in files:\n",
        "            print(f'{subindent}{file}')\n",
        "\n",
        "# Print the tree map of all files in the current directory\n",
        "print_tree('/kaggle/input')"
      ]
    },
    {
      "cell_type": "code",
      "execution_count": null,
      "id": "639e0242",
      "metadata": {
        "execution": {
          "iopub.execute_input": "2023-01-02T07:24:44.321301Z",
          "iopub.status.busy": "2023-01-02T07:24:44.320841Z",
          "iopub.status.idle": "2023-01-02T07:24:44.326884Z",
          "shell.execute_reply": "2023-01-02T07:24:44.325429Z"
        },
        "papermill": {
          "duration": 0.030667,
          "end_time": "2023-01-02T07:24:44.331708",
          "exception": false,
          "start_time": "2023-01-02T07:24:44.301041",
          "status": "completed"
        },
        "tags": [],
        "id": "639e0242",
        "outputId": "38676356-00e2-462c-89ca-117b09a9f40e"
      },
      "outputs": [
        {
          "name": "stdout",
          "output_type": "stream",
          "text": [
            "time: 633 µs (started: 2023-01-02 07:24:44 +00:00)\n"
          ]
        }
      ],
      "source": [
        "csv_folder = Path('/kaggle/input/recruit-restaurant-visitor-forecasting/')\n"
      ]
    },
    {
      "cell_type": "code",
      "execution_count": null,
      "id": "90827cce",
      "metadata": {
        "execution": {
          "iopub.execute_input": "2023-01-02T07:24:44.373759Z",
          "iopub.status.busy": "2023-01-02T07:24:44.373355Z",
          "iopub.status.idle": "2023-01-02T07:24:45.605834Z",
          "shell.execute_reply": "2023-01-02T07:24:45.604614Z"
        },
        "papermill": {
          "duration": 1.256663,
          "end_time": "2023-01-02T07:24:45.608812",
          "exception": false,
          "start_time": "2023-01-02T07:24:44.352149",
          "status": "completed"
        },
        "tags": [],
        "id": "90827cce",
        "outputId": "4813096f-1eff-4930-9552-0bfc5a3b8ac8"
      },
      "outputs": [
        {
          "name": "stdout",
          "output_type": "stream",
          "text": [
            "time: 1.23 s (started: 2023-01-02 07:24:44 +00:00)\n"
          ]
        }
      ],
      "source": [
        "# extract all the zip files in the folder \n",
        "\n",
        "for zipfiles in os.listdir(csv_folder):\n",
        "    with ZipFile(csv_folder/zipfiles, 'r') as zip_ref:\n",
        "        zip_ref.extractall('/data')\n",
        "    "
      ]
    },
    {
      "cell_type": "code",
      "execution_count": null,
      "id": "21da1da3",
      "metadata": {
        "execution": {
          "iopub.execute_input": "2023-01-02T07:24:45.648096Z",
          "iopub.status.busy": "2023-01-02T07:24:45.647565Z",
          "iopub.status.idle": "2023-01-02T07:24:45.658228Z",
          "shell.execute_reply": "2023-01-02T07:24:45.657347Z"
        },
        "papermill": {
          "duration": 0.033823,
          "end_time": "2023-01-02T07:24:45.660955",
          "exception": false,
          "start_time": "2023-01-02T07:24:45.627132",
          "status": "completed"
        },
        "tags": [],
        "id": "21da1da3",
        "outputId": "e29c2388-7ba5-48b6-c4d2-4663ba7626aa"
      },
      "outputs": [
        {
          "data": {
            "text/plain": [
              "['date_info.csv',\n",
              " 'air_reserve.csv',\n",
              " 'hpg_store_info.csv',\n",
              " 'hpg_reserve.csv',\n",
              " 'air_visit_data.csv',\n",
              " 'sample_submission.csv',\n",
              " 'air_store_info.csv',\n",
              " 'store_id_relation.csv']"
            ]
          },
          "execution_count": 10,
          "metadata": {},
          "output_type": "execute_result"
        },
        {
          "name": "stdout",
          "output_type": "stream",
          "text": [
            "time: 6.47 ms (started: 2023-01-02 07:24:45 +00:00)\n"
          ]
        }
      ],
      "source": [
        "# list of the files in the 'csv folder'\n",
        "os.listdir('/data/')"
      ]
    },
    {
      "cell_type": "code",
      "execution_count": null,
      "id": "945ab571",
      "metadata": {
        "execution": {
          "iopub.execute_input": "2023-01-02T07:24:45.699623Z",
          "iopub.status.busy": "2023-01-02T07:24:45.699174Z",
          "iopub.status.idle": "2023-01-02T07:24:45.704862Z",
          "shell.execute_reply": "2023-01-02T07:24:45.703565Z"
        },
        "papermill": {
          "duration": 0.027963,
          "end_time": "2023-01-02T07:24:45.707259",
          "exception": false,
          "start_time": "2023-01-02T07:24:45.679296",
          "status": "completed"
        },
        "tags": [],
        "id": "945ab571",
        "outputId": "47eb6b06-15cf-48d5-8a4a-fd9de36d7584"
      },
      "outputs": [
        {
          "name": "stdout",
          "output_type": "stream",
          "text": [
            "time: 455 µs (started: 2023-01-02 07:24:45 +00:00)\n"
          ]
        }
      ],
      "source": [
        "data_path = Path('/data/')"
      ]
    },
    {
      "cell_type": "markdown",
      "id": "59d6bb6c",
      "metadata": {
        "execution": {
          "iopub.execute_input": "2022-12-21T05:58:15.939280Z",
          "iopub.status.busy": "2022-12-21T05:58:15.938898Z",
          "iopub.status.idle": "2022-12-21T05:58:15.944744Z",
          "shell.execute_reply": "2022-12-21T05:58:15.943774Z",
          "shell.execute_reply.started": "2022-12-21T05:58:15.939247Z"
        },
        "papermill": {
          "duration": 0.019233,
          "end_time": "2023-01-02T07:24:45.745234",
          "exception": false,
          "start_time": "2023-01-02T07:24:45.726001",
          "status": "completed"
        },
        "tags": [],
        "id": "59d6bb6c"
      },
      "source": [
        "# Load the data "
      ]
    },
    {
      "cell_type": "code",
      "execution_count": null,
      "id": "50e0121a",
      "metadata": {
        "execution": {
          "iopub.execute_input": "2023-01-02T07:24:45.784192Z",
          "iopub.status.busy": "2023-01-02T07:24:45.783710Z",
          "iopub.status.idle": "2023-01-02T07:24:45.792451Z",
          "shell.execute_reply": "2023-01-02T07:24:45.790851Z"
        },
        "papermill": {
          "duration": 0.031153,
          "end_time": "2023-01-02T07:24:45.795021",
          "exception": false,
          "start_time": "2023-01-02T07:24:45.763868",
          "status": "completed"
        },
        "tags": [],
        "id": "50e0121a",
        "outputId": "347ea92a-dc27-4cf9-a152-e4193838b80f"
      },
      "outputs": [
        {
          "name": "stdout",
          "output_type": "stream",
          "text": [
            "time: 1.13 ms (started: 2023-01-02 07:24:45 +00:00)\n"
          ]
        }
      ],
      "source": [
        "#idea to work on : cost to solve the problem \n",
        "# taking another approach\n",
        "# to create the variable\n",
        "\n",
        "#csv variable\n",
        "date_info_csv= data_path/'date_info.csv'\n",
        "\n",
        "air_reserve_csv = data_path/'air_reserve.csv'\n",
        "air_store_info_csv = data_path/'air_store_info.csv'\n",
        "\n",
        "air_visit_data_csv = data_path/'air_visit_data.csv'\n",
        "\n",
        "hpg_store_info_csv  = data_path/'hpg_store_info.csv'\n",
        "hpg_reserve_csv = data_path/'hpg_reserve.csv'\n",
        "\n",
        "store_id_relation_csv = data_path/'store_id_relation.csv'\n",
        "\n",
        "sample_submission_csv  = data_path/'sample_submission.csv'\n",
        "\n"
      ]
    },
    {
      "cell_type": "code",
      "execution_count": null,
      "id": "1957c5b2",
      "metadata": {
        "execution": {
          "iopub.execute_input": "2023-01-02T07:24:45.834120Z",
          "iopub.status.busy": "2023-01-02T07:24:45.833676Z",
          "iopub.status.idle": "2023-01-02T07:24:45.842850Z",
          "shell.execute_reply": "2023-01-02T07:24:45.841294Z"
        },
        "papermill": {
          "duration": 0.031783,
          "end_time": "2023-01-02T07:24:45.845664",
          "exception": false,
          "start_time": "2023-01-02T07:24:45.813881",
          "status": "completed"
        },
        "tags": [],
        "id": "1957c5b2",
        "outputId": "7bd1c83d-bba4-4d87-abc9-1c42d3067403"
      },
      "outputs": [
        {
          "data": {
            "text/plain": [
              "PosixPath('/data/date_info.csv')"
            ]
          },
          "execution_count": 13,
          "metadata": {},
          "output_type": "execute_result"
        },
        {
          "name": "stdout",
          "output_type": "stream",
          "text": [
            "time: 4.14 ms (started: 2023-01-02 07:24:45 +00:00)\n"
          ]
        }
      ],
      "source": [
        "# testing variable \n",
        "date_info_csv"
      ]
    },
    {
      "cell_type": "code",
      "execution_count": null,
      "id": "a7309dce",
      "metadata": {
        "papermill": {
          "duration": 0.018492,
          "end_time": "2023-01-02T07:24:45.883419",
          "exception": false,
          "start_time": "2023-01-02T07:24:45.864927",
          "status": "completed"
        },
        "tags": [],
        "id": "a7309dce"
      },
      "outputs": [],
      "source": []
    },
    {
      "cell_type": "code",
      "execution_count": null,
      "id": "b13c6784",
      "metadata": {
        "execution": {
          "iopub.execute_input": "2023-01-02T07:24:45.922799Z",
          "iopub.status.busy": "2023-01-02T07:24:45.922352Z",
          "iopub.status.idle": "2023-01-02T07:24:45.927793Z",
          "shell.execute_reply": "2023-01-02T07:24:45.926788Z"
        },
        "papermill": {
          "duration": 0.027713,
          "end_time": "2023-01-02T07:24:45.930070",
          "exception": false,
          "start_time": "2023-01-02T07:24:45.902357",
          "status": "completed"
        },
        "tags": [],
        "id": "b13c6784",
        "outputId": "c31ec260-564a-4b67-d8f8-e05938254bda"
      },
      "outputs": [
        {
          "name": "stdout",
          "output_type": "stream",
          "text": [
            "time: 332 µs (started: 2023-01-02 07:24:45 +00:00)\n"
          ]
        }
      ],
      "source": [
        "# loading the pandas and explore csv files\n"
      ]
    },
    {
      "cell_type": "code",
      "execution_count": null,
      "id": "589f4d37",
      "metadata": {
        "execution": {
          "iopub.execute_input": "2023-01-02T07:24:45.969095Z",
          "iopub.status.busy": "2023-01-02T07:24:45.968624Z",
          "iopub.status.idle": "2023-01-02T07:24:46.008792Z",
          "shell.execute_reply": "2023-01-02T07:24:46.007331Z"
        },
        "papermill": {
          "duration": 0.063422,
          "end_time": "2023-01-02T07:24:46.011993",
          "exception": false,
          "start_time": "2023-01-02T07:24:45.948571",
          "status": "completed"
        },
        "tags": [],
        "id": "589f4d37",
        "outputId": "03fc03b3-6685-46cb-e4ed-8754cbb7c790"
      },
      "outputs": [
        {
          "data": {
            "text/html": [
              "<div>\n",
              "<style scoped>\n",
              "    .dataframe tbody tr th:only-of-type {\n",
              "        vertical-align: middle;\n",
              "    }\n",
              "\n",
              "    .dataframe tbody tr th {\n",
              "        vertical-align: top;\n",
              "    }\n",
              "\n",
              "    .dataframe thead th {\n",
              "        text-align: right;\n",
              "    }\n",
              "</style>\n",
              "<table border=\"1\" class=\"dataframe\">\n",
              "  <thead>\n",
              "    <tr style=\"text-align: right;\">\n",
              "      <th></th>\n",
              "      <th>calendar_date</th>\n",
              "      <th>day_of_week</th>\n",
              "      <th>holiday_flg</th>\n",
              "    </tr>\n",
              "  </thead>\n",
              "  <tbody>\n",
              "    <tr>\n",
              "      <th>0</th>\n",
              "      <td>2016-01-01</td>\n",
              "      <td>Friday</td>\n",
              "      <td>1</td>\n",
              "    </tr>\n",
              "    <tr>\n",
              "      <th>1</th>\n",
              "      <td>2016-01-02</td>\n",
              "      <td>Saturday</td>\n",
              "      <td>1</td>\n",
              "    </tr>\n",
              "    <tr>\n",
              "      <th>2</th>\n",
              "      <td>2016-01-03</td>\n",
              "      <td>Sunday</td>\n",
              "      <td>1</td>\n",
              "    </tr>\n",
              "    <tr>\n",
              "      <th>3</th>\n",
              "      <td>2016-01-04</td>\n",
              "      <td>Monday</td>\n",
              "      <td>0</td>\n",
              "    </tr>\n",
              "    <tr>\n",
              "      <th>4</th>\n",
              "      <td>2016-01-05</td>\n",
              "      <td>Tuesday</td>\n",
              "      <td>0</td>\n",
              "    </tr>\n",
              "    <tr>\n",
              "      <th>...</th>\n",
              "      <td>...</td>\n",
              "      <td>...</td>\n",
              "      <td>...</td>\n",
              "    </tr>\n",
              "    <tr>\n",
              "      <th>512</th>\n",
              "      <td>2017-05-27</td>\n",
              "      <td>Saturday</td>\n",
              "      <td>0</td>\n",
              "    </tr>\n",
              "    <tr>\n",
              "      <th>513</th>\n",
              "      <td>2017-05-28</td>\n",
              "      <td>Sunday</td>\n",
              "      <td>0</td>\n",
              "    </tr>\n",
              "    <tr>\n",
              "      <th>514</th>\n",
              "      <td>2017-05-29</td>\n",
              "      <td>Monday</td>\n",
              "      <td>0</td>\n",
              "    </tr>\n",
              "    <tr>\n",
              "      <th>515</th>\n",
              "      <td>2017-05-30</td>\n",
              "      <td>Tuesday</td>\n",
              "      <td>0</td>\n",
              "    </tr>\n",
              "    <tr>\n",
              "      <th>516</th>\n",
              "      <td>2017-05-31</td>\n",
              "      <td>Wednesday</td>\n",
              "      <td>0</td>\n",
              "    </tr>\n",
              "  </tbody>\n",
              "</table>\n",
              "<p>517 rows × 3 columns</p>\n",
              "</div>"
            ],
            "text/plain": [
              "    calendar_date day_of_week  holiday_flg\n",
              "0      2016-01-01      Friday            1\n",
              "1      2016-01-02    Saturday            1\n",
              "2      2016-01-03      Sunday            1\n",
              "3      2016-01-04      Monday            0\n",
              "4      2016-01-05     Tuesday            0\n",
              "..            ...         ...          ...\n",
              "512    2017-05-27    Saturday            0\n",
              "513    2017-05-28      Sunday            0\n",
              "514    2017-05-29      Monday            0\n",
              "515    2017-05-30     Tuesday            0\n",
              "516    2017-05-31   Wednesday            0\n",
              "\n",
              "[517 rows x 3 columns]"
            ]
          },
          "execution_count": 15,
          "metadata": {},
          "output_type": "execute_result"
        },
        {
          "name": "stdout",
          "output_type": "stream",
          "text": [
            "time: 34.7 ms (started: 2023-01-02 07:24:45 +00:00)\n"
          ]
        }
      ],
      "source": [
        "# explore date_info\n",
        "## point to improve: forget the name of api\n",
        "date_info_df = pd.read_csv(date_info_csv)\n",
        "date_info_df"
      ]
    },
    {
      "cell_type": "code",
      "execution_count": null,
      "id": "4466a688",
      "metadata": {
        "execution": {
          "iopub.execute_input": "2023-01-02T07:24:46.054168Z",
          "iopub.status.busy": "2023-01-02T07:24:46.053755Z",
          "iopub.status.idle": "2023-01-02T07:24:46.083810Z",
          "shell.execute_reply": "2023-01-02T07:24:46.082657Z"
        },
        "papermill": {
          "duration": 0.054466,
          "end_time": "2023-01-02T07:24:46.086531",
          "exception": false,
          "start_time": "2023-01-02T07:24:46.032065",
          "status": "completed"
        },
        "tags": [],
        "id": "4466a688",
        "outputId": "bab5c678-3e24-4b74-a94f-ae0a48bde280"
      },
      "outputs": [
        {
          "data": {
            "text/html": [
              "<div>\n",
              "<style scoped>\n",
              "    .dataframe tbody tr th:only-of-type {\n",
              "        vertical-align: middle;\n",
              "    }\n",
              "\n",
              "    .dataframe tbody tr th {\n",
              "        vertical-align: top;\n",
              "    }\n",
              "\n",
              "    .dataframe thead th {\n",
              "        text-align: right;\n",
              "    }\n",
              "</style>\n",
              "<table border=\"1\" class=\"dataframe\">\n",
              "  <thead>\n",
              "    <tr style=\"text-align: right;\">\n",
              "      <th></th>\n",
              "      <th>calendar_date</th>\n",
              "      <th>day_of_week</th>\n",
              "    </tr>\n",
              "  </thead>\n",
              "  <tbody>\n",
              "    <tr>\n",
              "      <th>count</th>\n",
              "      <td>517</td>\n",
              "      <td>517</td>\n",
              "    </tr>\n",
              "    <tr>\n",
              "      <th>unique</th>\n",
              "      <td>517</td>\n",
              "      <td>7</td>\n",
              "    </tr>\n",
              "    <tr>\n",
              "      <th>top</th>\n",
              "      <td>2016-01-01</td>\n",
              "      <td>Friday</td>\n",
              "    </tr>\n",
              "    <tr>\n",
              "      <th>freq</th>\n",
              "      <td>1</td>\n",
              "      <td>74</td>\n",
              "    </tr>\n",
              "  </tbody>\n",
              "</table>\n",
              "</div>"
            ],
            "text/plain": [
              "       calendar_date day_of_week\n",
              "count            517         517\n",
              "unique           517           7\n",
              "top       2016-01-01      Friday\n",
              "freq               1          74"
            ]
          },
          "execution_count": 16,
          "metadata": {},
          "output_type": "execute_result"
        },
        {
          "name": "stdout",
          "output_type": "stream",
          "text": [
            "time: 25.4 ms (started: 2023-01-02 07:24:46 +00:00)\n"
          ]
        }
      ],
      "source": [
        "\n",
        "# describe the dataset \n",
        "date_info_df.describe(include='object')"
      ]
    },
    {
      "cell_type": "code",
      "execution_count": null,
      "id": "905f15d1",
      "metadata": {
        "execution": {
          "iopub.execute_input": "2023-01-02T07:24:46.127573Z",
          "iopub.status.busy": "2023-01-02T07:24:46.127128Z",
          "iopub.status.idle": "2023-01-02T07:24:46.229038Z",
          "shell.execute_reply": "2023-01-02T07:24:46.227831Z"
        },
        "papermill": {
          "duration": 0.12576,
          "end_time": "2023-01-02T07:24:46.231667",
          "exception": false,
          "start_time": "2023-01-02T07:24:46.105907",
          "status": "completed"
        },
        "tags": [],
        "id": "905f15d1",
        "outputId": "3b3058af-2bbb-43cb-c121-dfdda720a688"
      },
      "outputs": [
        {
          "data": {
            "text/html": [
              "<div>\n",
              "<style scoped>\n",
              "    .dataframe tbody tr th:only-of-type {\n",
              "        vertical-align: middle;\n",
              "    }\n",
              "\n",
              "    .dataframe tbody tr th {\n",
              "        vertical-align: top;\n",
              "    }\n",
              "\n",
              "    .dataframe thead th {\n",
              "        text-align: right;\n",
              "    }\n",
              "</style>\n",
              "<table border=\"1\" class=\"dataframe\">\n",
              "  <thead>\n",
              "    <tr style=\"text-align: right;\">\n",
              "      <th></th>\n",
              "      <th>air_store_id</th>\n",
              "      <th>visit_datetime</th>\n",
              "      <th>reserve_datetime</th>\n",
              "      <th>reserve_visitors</th>\n",
              "    </tr>\n",
              "  </thead>\n",
              "  <tbody>\n",
              "    <tr>\n",
              "      <th>0</th>\n",
              "      <td>air_877f79706adbfb06</td>\n",
              "      <td>2016-01-01 19:00:00</td>\n",
              "      <td>2016-01-01 16:00:00</td>\n",
              "      <td>1</td>\n",
              "    </tr>\n",
              "    <tr>\n",
              "      <th>1</th>\n",
              "      <td>air_db4b38ebe7a7ceff</td>\n",
              "      <td>2016-01-01 19:00:00</td>\n",
              "      <td>2016-01-01 19:00:00</td>\n",
              "      <td>3</td>\n",
              "    </tr>\n",
              "    <tr>\n",
              "      <th>2</th>\n",
              "      <td>air_db4b38ebe7a7ceff</td>\n",
              "      <td>2016-01-01 19:00:00</td>\n",
              "      <td>2016-01-01 19:00:00</td>\n",
              "      <td>6</td>\n",
              "    </tr>\n",
              "    <tr>\n",
              "      <th>3</th>\n",
              "      <td>air_877f79706adbfb06</td>\n",
              "      <td>2016-01-01 20:00:00</td>\n",
              "      <td>2016-01-01 16:00:00</td>\n",
              "      <td>2</td>\n",
              "    </tr>\n",
              "    <tr>\n",
              "      <th>4</th>\n",
              "      <td>air_db80363d35f10926</td>\n",
              "      <td>2016-01-01 20:00:00</td>\n",
              "      <td>2016-01-01 01:00:00</td>\n",
              "      <td>5</td>\n",
              "    </tr>\n",
              "    <tr>\n",
              "      <th>...</th>\n",
              "      <td>...</td>\n",
              "      <td>...</td>\n",
              "      <td>...</td>\n",
              "      <td>...</td>\n",
              "    </tr>\n",
              "    <tr>\n",
              "      <th>92373</th>\n",
              "      <td>air_db4b38ebe7a7ceff</td>\n",
              "      <td>2017-05-29 18:00:00</td>\n",
              "      <td>2017-04-17 19:00:00</td>\n",
              "      <td>6</td>\n",
              "    </tr>\n",
              "    <tr>\n",
              "      <th>92374</th>\n",
              "      <td>air_1033310359ceeac1</td>\n",
              "      <td>2017-05-30 23:00:00</td>\n",
              "      <td>2017-04-19 17:00:00</td>\n",
              "      <td>8</td>\n",
              "    </tr>\n",
              "    <tr>\n",
              "      <th>92375</th>\n",
              "      <td>air_877f79706adbfb06</td>\n",
              "      <td>2017-05-31 20:00:00</td>\n",
              "      <td>2017-04-12 23:00:00</td>\n",
              "      <td>3</td>\n",
              "    </tr>\n",
              "    <tr>\n",
              "      <th>92376</th>\n",
              "      <td>air_900d755ebd2f7bbd</td>\n",
              "      <td>2017-05-31 20:00:00</td>\n",
              "      <td>2017-04-19 16:00:00</td>\n",
              "      <td>10</td>\n",
              "    </tr>\n",
              "    <tr>\n",
              "      <th>92377</th>\n",
              "      <td>air_3cad29d1a23209d2</td>\n",
              "      <td>2017-05-31 21:00:00</td>\n",
              "      <td>2017-04-22 10:00:00</td>\n",
              "      <td>3</td>\n",
              "    </tr>\n",
              "  </tbody>\n",
              "</table>\n",
              "<p>92378 rows × 4 columns</p>\n",
              "</div>"
            ],
            "text/plain": [
              "               air_store_id       visit_datetime     reserve_datetime  \\\n",
              "0      air_877f79706adbfb06  2016-01-01 19:00:00  2016-01-01 16:00:00   \n",
              "1      air_db4b38ebe7a7ceff  2016-01-01 19:00:00  2016-01-01 19:00:00   \n",
              "2      air_db4b38ebe7a7ceff  2016-01-01 19:00:00  2016-01-01 19:00:00   \n",
              "3      air_877f79706adbfb06  2016-01-01 20:00:00  2016-01-01 16:00:00   \n",
              "4      air_db80363d35f10926  2016-01-01 20:00:00  2016-01-01 01:00:00   \n",
              "...                     ...                  ...                  ...   \n",
              "92373  air_db4b38ebe7a7ceff  2017-05-29 18:00:00  2017-04-17 19:00:00   \n",
              "92374  air_1033310359ceeac1  2017-05-30 23:00:00  2017-04-19 17:00:00   \n",
              "92375  air_877f79706adbfb06  2017-05-31 20:00:00  2017-04-12 23:00:00   \n",
              "92376  air_900d755ebd2f7bbd  2017-05-31 20:00:00  2017-04-19 16:00:00   \n",
              "92377  air_3cad29d1a23209d2  2017-05-31 21:00:00  2017-04-22 10:00:00   \n",
              "\n",
              "       reserve_visitors  \n",
              "0                     1  \n",
              "1                     3  \n",
              "2                     6  \n",
              "3                     2  \n",
              "4                     5  \n",
              "...                 ...  \n",
              "92373                 6  \n",
              "92374                 8  \n",
              "92375                 3  \n",
              "92376                10  \n",
              "92377                 3  \n",
              "\n",
              "[92378 rows x 4 columns]"
            ]
          },
          "execution_count": 17,
          "metadata": {},
          "output_type": "execute_result"
        },
        {
          "name": "stdout",
          "output_type": "stream",
          "text": [
            "time: 96.3 ms (started: 2023-01-02 07:24:46 +00:00)\n"
          ]
        }
      ],
      "source": [
        "## points to improve\n",
        "# quickly remember the names of the variable \n",
        "# observes the variable names and remember it \n",
        "\n",
        "\n",
        "# explore the air_reserve\n",
        "\n",
        "air_reserve_df = pd.read_csv(air_reserve_csv)\n",
        "air_reserve_df\n"
      ]
    },
    {
      "cell_type": "code",
      "execution_count": null,
      "id": "4b9f62bb",
      "metadata": {
        "execution": {
          "iopub.execute_input": "2023-01-02T07:24:46.273395Z",
          "iopub.status.busy": "2023-01-02T07:24:46.272897Z",
          "iopub.status.idle": "2023-01-02T07:24:46.300776Z",
          "shell.execute_reply": "2023-01-02T07:24:46.299179Z"
        },
        "papermill": {
          "duration": 0.051916,
          "end_time": "2023-01-02T07:24:46.303208",
          "exception": false,
          "start_time": "2023-01-02T07:24:46.251292",
          "status": "completed"
        },
        "tags": [],
        "id": "4b9f62bb",
        "outputId": "6e5faa3c-13bd-4ce9-c287-eb249a48ab63"
      },
      "outputs": [
        {
          "data": {
            "text/html": [
              "<div>\n",
              "<style scoped>\n",
              "    .dataframe tbody tr th:only-of-type {\n",
              "        vertical-align: middle;\n",
              "    }\n",
              "\n",
              "    .dataframe tbody tr th {\n",
              "        vertical-align: top;\n",
              "    }\n",
              "\n",
              "    .dataframe thead th {\n",
              "        text-align: right;\n",
              "    }\n",
              "</style>\n",
              "<table border=\"1\" class=\"dataframe\">\n",
              "  <thead>\n",
              "    <tr style=\"text-align: right;\">\n",
              "      <th></th>\n",
              "      <th>reserve_visitors</th>\n",
              "    </tr>\n",
              "  </thead>\n",
              "  <tbody>\n",
              "    <tr>\n",
              "      <th>count</th>\n",
              "      <td>92378.000000</td>\n",
              "    </tr>\n",
              "    <tr>\n",
              "      <th>mean</th>\n",
              "      <td>4.481749</td>\n",
              "    </tr>\n",
              "    <tr>\n",
              "      <th>std</th>\n",
              "      <td>4.919669</td>\n",
              "    </tr>\n",
              "    <tr>\n",
              "      <th>min</th>\n",
              "      <td>1.000000</td>\n",
              "    </tr>\n",
              "    <tr>\n",
              "      <th>25%</th>\n",
              "      <td>2.000000</td>\n",
              "    </tr>\n",
              "    <tr>\n",
              "      <th>50%</th>\n",
              "      <td>3.000000</td>\n",
              "    </tr>\n",
              "    <tr>\n",
              "      <th>75%</th>\n",
              "      <td>5.000000</td>\n",
              "    </tr>\n",
              "    <tr>\n",
              "      <th>max</th>\n",
              "      <td>100.000000</td>\n",
              "    </tr>\n",
              "  </tbody>\n",
              "</table>\n",
              "</div>"
            ],
            "text/plain": [
              "       reserve_visitors\n",
              "count      92378.000000\n",
              "mean           4.481749\n",
              "std            4.919669\n",
              "min            1.000000\n",
              "25%            2.000000\n",
              "50%            3.000000\n",
              "75%            5.000000\n",
              "max          100.000000"
            ]
          },
          "execution_count": 18,
          "metadata": {},
          "output_type": "execute_result"
        },
        {
          "name": "stdout",
          "output_type": "stream",
          "text": [
            "time: 22.2 ms (started: 2023-01-02 07:24:46 +00:00)\n"
          ]
        }
      ],
      "source": [
        "air_reserve_df.describe()"
      ]
    },
    {
      "cell_type": "code",
      "execution_count": null,
      "id": "29056019",
      "metadata": {
        "execution": {
          "iopub.execute_input": "2023-01-02T07:24:46.345481Z",
          "iopub.status.busy": "2023-01-02T07:24:46.345053Z",
          "iopub.status.idle": "2023-01-02T07:24:46.401727Z",
          "shell.execute_reply": "2023-01-02T07:24:46.400518Z"
        },
        "papermill": {
          "duration": 0.081023,
          "end_time": "2023-01-02T07:24:46.404399",
          "exception": false,
          "start_time": "2023-01-02T07:24:46.323376",
          "status": "completed"
        },
        "tags": [],
        "id": "29056019",
        "outputId": "07c562c2-c55b-47f1-c58c-3d2a9b2a848a"
      },
      "outputs": [
        {
          "data": {
            "text/html": [
              "<div>\n",
              "<style scoped>\n",
              "    .dataframe tbody tr th:only-of-type {\n",
              "        vertical-align: middle;\n",
              "    }\n",
              "\n",
              "    .dataframe tbody tr th {\n",
              "        vertical-align: top;\n",
              "    }\n",
              "\n",
              "    .dataframe thead th {\n",
              "        text-align: right;\n",
              "    }\n",
              "</style>\n",
              "<table border=\"1\" class=\"dataframe\">\n",
              "  <thead>\n",
              "    <tr style=\"text-align: right;\">\n",
              "      <th></th>\n",
              "      <th>air_store_id</th>\n",
              "      <th>visit_datetime</th>\n",
              "      <th>reserve_datetime</th>\n",
              "    </tr>\n",
              "  </thead>\n",
              "  <tbody>\n",
              "    <tr>\n",
              "      <th>count</th>\n",
              "      <td>92378</td>\n",
              "      <td>92378</td>\n",
              "      <td>92378</td>\n",
              "    </tr>\n",
              "    <tr>\n",
              "      <th>unique</th>\n",
              "      <td>314</td>\n",
              "      <td>4975</td>\n",
              "      <td>7513</td>\n",
              "    </tr>\n",
              "    <tr>\n",
              "      <th>top</th>\n",
              "      <td>air_8093d0b565e9dbdf</td>\n",
              "      <td>2016-12-24 19:00:00</td>\n",
              "      <td>2016-11-24 18:00:00</td>\n",
              "    </tr>\n",
              "    <tr>\n",
              "      <th>freq</th>\n",
              "      <td>2263</td>\n",
              "      <td>255</td>\n",
              "      <td>106</td>\n",
              "    </tr>\n",
              "  </tbody>\n",
              "</table>\n",
              "</div>"
            ],
            "text/plain": [
              "                air_store_id       visit_datetime     reserve_datetime\n",
              "count                  92378                92378                92378\n",
              "unique                   314                 4975                 7513\n",
              "top     air_8093d0b565e9dbdf  2016-12-24 19:00:00  2016-11-24 18:00:00\n",
              "freq                    2263                  255                  106"
            ]
          },
          "execution_count": 19,
          "metadata": {},
          "output_type": "execute_result"
        },
        {
          "name": "stdout",
          "output_type": "stream",
          "text": [
            "time: 51.2 ms (started: 2023-01-02 07:24:46 +00:00)\n"
          ]
        }
      ],
      "source": [
        "air_reserve_df.describe(include='object')"
      ]
    },
    {
      "cell_type": "code",
      "execution_count": null,
      "id": "b55ec345",
      "metadata": {
        "execution": {
          "iopub.execute_input": "2023-01-02T07:24:46.448143Z",
          "iopub.status.busy": "2023-01-02T07:24:46.447403Z",
          "iopub.status.idle": "2023-01-02T07:24:46.470455Z",
          "shell.execute_reply": "2023-01-02T07:24:46.468742Z"
        },
        "papermill": {
          "duration": 0.048778,
          "end_time": "2023-01-02T07:24:46.473707",
          "exception": false,
          "start_time": "2023-01-02T07:24:46.424929",
          "status": "completed"
        },
        "tags": [],
        "id": "b55ec345",
        "outputId": "f6e4d1f6-9881-44c6-eece-577ac02a7ab9"
      },
      "outputs": [
        {
          "data": {
            "text/html": [
              "<div>\n",
              "<style scoped>\n",
              "    .dataframe tbody tr th:only-of-type {\n",
              "        vertical-align: middle;\n",
              "    }\n",
              "\n",
              "    .dataframe tbody tr th {\n",
              "        vertical-align: top;\n",
              "    }\n",
              "\n",
              "    .dataframe thead th {\n",
              "        text-align: right;\n",
              "    }\n",
              "</style>\n",
              "<table border=\"1\" class=\"dataframe\">\n",
              "  <thead>\n",
              "    <tr style=\"text-align: right;\">\n",
              "      <th></th>\n",
              "      <th>air_store_id</th>\n",
              "      <th>air_genre_name</th>\n",
              "      <th>air_area_name</th>\n",
              "      <th>latitude</th>\n",
              "      <th>longitude</th>\n",
              "    </tr>\n",
              "  </thead>\n",
              "  <tbody>\n",
              "    <tr>\n",
              "      <th>0</th>\n",
              "      <td>air_0f0cdeee6c9bf3d7</td>\n",
              "      <td>Italian/French</td>\n",
              "      <td>Hyōgo-ken Kōbe-shi Kumoidōri</td>\n",
              "      <td>34.695124</td>\n",
              "      <td>135.197853</td>\n",
              "    </tr>\n",
              "    <tr>\n",
              "      <th>1</th>\n",
              "      <td>air_7cc17a324ae5c7dc</td>\n",
              "      <td>Italian/French</td>\n",
              "      <td>Hyōgo-ken Kōbe-shi Kumoidōri</td>\n",
              "      <td>34.695124</td>\n",
              "      <td>135.197853</td>\n",
              "    </tr>\n",
              "    <tr>\n",
              "      <th>2</th>\n",
              "      <td>air_fee8dcf4d619598e</td>\n",
              "      <td>Italian/French</td>\n",
              "      <td>Hyōgo-ken Kōbe-shi Kumoidōri</td>\n",
              "      <td>34.695124</td>\n",
              "      <td>135.197853</td>\n",
              "    </tr>\n",
              "    <tr>\n",
              "      <th>3</th>\n",
              "      <td>air_a17f0778617c76e2</td>\n",
              "      <td>Italian/French</td>\n",
              "      <td>Hyōgo-ken Kōbe-shi Kumoidōri</td>\n",
              "      <td>34.695124</td>\n",
              "      <td>135.197853</td>\n",
              "    </tr>\n",
              "    <tr>\n",
              "      <th>4</th>\n",
              "      <td>air_83db5aff8f50478e</td>\n",
              "      <td>Italian/French</td>\n",
              "      <td>Tōkyō-to Minato-ku Shibakōen</td>\n",
              "      <td>35.658068</td>\n",
              "      <td>139.751599</td>\n",
              "    </tr>\n",
              "    <tr>\n",
              "      <th>...</th>\n",
              "      <td>...</td>\n",
              "      <td>...</td>\n",
              "      <td>...</td>\n",
              "      <td>...</td>\n",
              "      <td>...</td>\n",
              "    </tr>\n",
              "    <tr>\n",
              "      <th>824</th>\n",
              "      <td>air_9bf595ef095572fb</td>\n",
              "      <td>International cuisine</td>\n",
              "      <td>Tōkyō-to Shibuya-ku Shibuya</td>\n",
              "      <td>35.661777</td>\n",
              "      <td>139.704051</td>\n",
              "    </tr>\n",
              "    <tr>\n",
              "      <th>825</th>\n",
              "      <td>air_764f71040a413d4d</td>\n",
              "      <td>Asian</td>\n",
              "      <td>Tōkyō-to Shibuya-ku Shibuya</td>\n",
              "      <td>35.661777</td>\n",
              "      <td>139.704051</td>\n",
              "    </tr>\n",
              "    <tr>\n",
              "      <th>826</th>\n",
              "      <td>air_10bbe8acd943d8f6</td>\n",
              "      <td>Asian</td>\n",
              "      <td>Tōkyō-to Shibuya-ku Shibuya</td>\n",
              "      <td>35.661777</td>\n",
              "      <td>139.704051</td>\n",
              "    </tr>\n",
              "    <tr>\n",
              "      <th>827</th>\n",
              "      <td>air_7514d90009613cd6</td>\n",
              "      <td>Karaoke/Party</td>\n",
              "      <td>Hokkaidō Sapporo-shi Minami 3 Jōnishi</td>\n",
              "      <td>43.055460</td>\n",
              "      <td>141.340956</td>\n",
              "    </tr>\n",
              "    <tr>\n",
              "      <th>828</th>\n",
              "      <td>air_c8fe396d6c46275d</td>\n",
              "      <td>Karaoke/Party</td>\n",
              "      <td>Hokkaidō Sapporo-shi Minami 3 Jōnishi</td>\n",
              "      <td>43.055460</td>\n",
              "      <td>141.340956</td>\n",
              "    </tr>\n",
              "  </tbody>\n",
              "</table>\n",
              "<p>829 rows × 5 columns</p>\n",
              "</div>"
            ],
            "text/plain": [
              "             air_store_id         air_genre_name  \\\n",
              "0    air_0f0cdeee6c9bf3d7         Italian/French   \n",
              "1    air_7cc17a324ae5c7dc         Italian/French   \n",
              "2    air_fee8dcf4d619598e         Italian/French   \n",
              "3    air_a17f0778617c76e2         Italian/French   \n",
              "4    air_83db5aff8f50478e         Italian/French   \n",
              "..                    ...                    ...   \n",
              "824  air_9bf595ef095572fb  International cuisine   \n",
              "825  air_764f71040a413d4d                  Asian   \n",
              "826  air_10bbe8acd943d8f6                  Asian   \n",
              "827  air_7514d90009613cd6          Karaoke/Party   \n",
              "828  air_c8fe396d6c46275d          Karaoke/Party   \n",
              "\n",
              "                             air_area_name   latitude   longitude  \n",
              "0             Hyōgo-ken Kōbe-shi Kumoidōri  34.695124  135.197853  \n",
              "1             Hyōgo-ken Kōbe-shi Kumoidōri  34.695124  135.197853  \n",
              "2             Hyōgo-ken Kōbe-shi Kumoidōri  34.695124  135.197853  \n",
              "3             Hyōgo-ken Kōbe-shi Kumoidōri  34.695124  135.197853  \n",
              "4             Tōkyō-to Minato-ku Shibakōen  35.658068  139.751599  \n",
              "..                                     ...        ...         ...  \n",
              "824            Tōkyō-to Shibuya-ku Shibuya  35.661777  139.704051  \n",
              "825            Tōkyō-to Shibuya-ku Shibuya  35.661777  139.704051  \n",
              "826            Tōkyō-to Shibuya-ku Shibuya  35.661777  139.704051  \n",
              "827  Hokkaidō Sapporo-shi Minami 3 Jōnishi  43.055460  141.340956  \n",
              "828  Hokkaidō Sapporo-shi Minami 3 Jōnishi  43.055460  141.340956  \n",
              "\n",
              "[829 rows x 5 columns]"
            ]
          },
          "execution_count": 20,
          "metadata": {},
          "output_type": "execute_result"
        },
        {
          "name": "stdout",
          "output_type": "stream",
          "text": [
            "time: 16.9 ms (started: 2023-01-02 07:24:46 +00:00)\n"
          ]
        }
      ],
      "source": [
        "# explore air_store_info_csv\n",
        "\n",
        "air_store_info_df = pd.read_csv(air_store_info_csv)\n",
        "air_store_info_df"
      ]
    },
    {
      "cell_type": "code",
      "execution_count": null,
      "id": "d320addb",
      "metadata": {
        "execution": {
          "iopub.execute_input": "2023-01-02T07:24:46.519706Z",
          "iopub.status.busy": "2023-01-02T07:24:46.518369Z",
          "iopub.status.idle": "2023-01-02T07:24:46.538950Z",
          "shell.execute_reply": "2023-01-02T07:24:46.537636Z"
        },
        "papermill": {
          "duration": 0.045978,
          "end_time": "2023-01-02T07:24:46.541303",
          "exception": false,
          "start_time": "2023-01-02T07:24:46.495325",
          "status": "completed"
        },
        "tags": [],
        "id": "d320addb",
        "outputId": "8d581b34-0619-498b-f5f0-261c9b9381e2"
      },
      "outputs": [
        {
          "data": {
            "text/html": [
              "<div>\n",
              "<style scoped>\n",
              "    .dataframe tbody tr th:only-of-type {\n",
              "        vertical-align: middle;\n",
              "    }\n",
              "\n",
              "    .dataframe tbody tr th {\n",
              "        vertical-align: top;\n",
              "    }\n",
              "\n",
              "    .dataframe thead th {\n",
              "        text-align: right;\n",
              "    }\n",
              "</style>\n",
              "<table border=\"1\" class=\"dataframe\">\n",
              "  <thead>\n",
              "    <tr style=\"text-align: right;\">\n",
              "      <th></th>\n",
              "      <th>latitude</th>\n",
              "      <th>longitude</th>\n",
              "    </tr>\n",
              "  </thead>\n",
              "  <tbody>\n",
              "    <tr>\n",
              "      <th>count</th>\n",
              "      <td>829.000000</td>\n",
              "      <td>829.000000</td>\n",
              "    </tr>\n",
              "    <tr>\n",
              "      <th>mean</th>\n",
              "      <td>35.647042</td>\n",
              "      <td>137.415311</td>\n",
              "    </tr>\n",
              "    <tr>\n",
              "      <th>std</th>\n",
              "      <td>2.084659</td>\n",
              "      <td>3.650971</td>\n",
              "    </tr>\n",
              "    <tr>\n",
              "      <th>min</th>\n",
              "      <td>33.211967</td>\n",
              "      <td>130.195555</td>\n",
              "    </tr>\n",
              "    <tr>\n",
              "      <th>25%</th>\n",
              "      <td>34.695124</td>\n",
              "      <td>135.341564</td>\n",
              "    </tr>\n",
              "    <tr>\n",
              "      <th>50%</th>\n",
              "      <td>35.658068</td>\n",
              "      <td>139.685474</td>\n",
              "    </tr>\n",
              "    <tr>\n",
              "      <th>75%</th>\n",
              "      <td>35.694003</td>\n",
              "      <td>139.751599</td>\n",
              "    </tr>\n",
              "    <tr>\n",
              "      <th>max</th>\n",
              "      <td>44.020632</td>\n",
              "      <td>144.273398</td>\n",
              "    </tr>\n",
              "  </tbody>\n",
              "</table>\n",
              "</div>"
            ],
            "text/plain": [
              "         latitude   longitude\n",
              "count  829.000000  829.000000\n",
              "mean    35.647042  137.415311\n",
              "std      2.084659    3.650971\n",
              "min     33.211967  130.195555\n",
              "25%     34.695124  135.341564\n",
              "50%     35.658068  139.685474\n",
              "75%     35.694003  139.751599\n",
              "max     44.020632  144.273398"
            ]
          },
          "execution_count": 21,
          "metadata": {},
          "output_type": "execute_result"
        },
        {
          "name": "stdout",
          "output_type": "stream",
          "text": [
            "time: 14.2 ms (started: 2023-01-02 07:24:46 +00:00)\n"
          ]
        }
      ],
      "source": [
        "air_store_info_df.describe()"
      ]
    },
    {
      "cell_type": "markdown",
      "id": "705d61f4",
      "metadata": {
        "papermill": {
          "duration": 0.02258,
          "end_time": "2023-01-02T07:24:46.584778",
          "exception": false,
          "start_time": "2023-01-02T07:24:46.562198",
          "status": "completed"
        },
        "tags": [],
        "id": "705d61f4"
      },
      "source": [
        "does exploring lattitude and longtitude seperately make sense ? \n",
        "so they are basically pointing the location of the store \n",
        "what are we are interest in the location \n",
        "by the way can we think of when lattitude and longtitude would affect seperately as information"
      ]
    },
    {
      "cell_type": "code",
      "execution_count": null,
      "id": "ee53bc9b",
      "metadata": {
        "papermill": {
          "duration": 0.021066,
          "end_time": "2023-01-02T07:24:46.628407",
          "exception": false,
          "start_time": "2023-01-02T07:24:46.607341",
          "status": "completed"
        },
        "tags": [],
        "id": "ee53bc9b"
      },
      "outputs": [],
      "source": []
    },
    {
      "cell_type": "code",
      "execution_count": null,
      "id": "ea443f79",
      "metadata": {
        "execution": {
          "iopub.execute_input": "2023-01-02T07:24:46.673866Z",
          "iopub.status.busy": "2023-01-02T07:24:46.673405Z",
          "iopub.status.idle": "2023-01-02T07:24:46.697232Z",
          "shell.execute_reply": "2023-01-02T07:24:46.695996Z"
        },
        "papermill": {
          "duration": 0.050033,
          "end_time": "2023-01-02T07:24:46.700158",
          "exception": false,
          "start_time": "2023-01-02T07:24:46.650125",
          "status": "completed"
        },
        "tags": [],
        "id": "ea443f79",
        "outputId": "d3c876d9-3098-4211-94be-2986efdb0146"
      },
      "outputs": [
        {
          "data": {
            "text/html": [
              "<div>\n",
              "<style scoped>\n",
              "    .dataframe tbody tr th:only-of-type {\n",
              "        vertical-align: middle;\n",
              "    }\n",
              "\n",
              "    .dataframe tbody tr th {\n",
              "        vertical-align: top;\n",
              "    }\n",
              "\n",
              "    .dataframe thead th {\n",
              "        text-align: right;\n",
              "    }\n",
              "</style>\n",
              "<table border=\"1\" class=\"dataframe\">\n",
              "  <thead>\n",
              "    <tr style=\"text-align: right;\">\n",
              "      <th></th>\n",
              "      <th>air_store_id</th>\n",
              "      <th>air_genre_name</th>\n",
              "      <th>air_area_name</th>\n",
              "    </tr>\n",
              "  </thead>\n",
              "  <tbody>\n",
              "    <tr>\n",
              "      <th>count</th>\n",
              "      <td>829</td>\n",
              "      <td>829</td>\n",
              "      <td>829</td>\n",
              "    </tr>\n",
              "    <tr>\n",
              "      <th>unique</th>\n",
              "      <td>829</td>\n",
              "      <td>14</td>\n",
              "      <td>103</td>\n",
              "    </tr>\n",
              "    <tr>\n",
              "      <th>top</th>\n",
              "      <td>air_0f0cdeee6c9bf3d7</td>\n",
              "      <td>Izakaya</td>\n",
              "      <td>Fukuoka-ken Fukuoka-shi Daimyō</td>\n",
              "    </tr>\n",
              "    <tr>\n",
              "      <th>freq</th>\n",
              "      <td>1</td>\n",
              "      <td>197</td>\n",
              "      <td>64</td>\n",
              "    </tr>\n",
              "  </tbody>\n",
              "</table>\n",
              "</div>"
            ],
            "text/plain": [
              "                air_store_id air_genre_name                   air_area_name\n",
              "count                    829            829                             829\n",
              "unique                   829             14                             103\n",
              "top     air_0f0cdeee6c9bf3d7        Izakaya  Fukuoka-ken Fukuoka-shi Daimyō\n",
              "freq                       1            197                              64"
            ]
          },
          "execution_count": 22,
          "metadata": {},
          "output_type": "execute_result"
        },
        {
          "name": "stdout",
          "output_type": "stream",
          "text": [
            "time: 16.3 ms (started: 2023-01-02 07:24:46 +00:00)\n"
          ]
        }
      ],
      "source": [
        "air_store_info_df.describe(include='object')"
      ]
    },
    {
      "cell_type": "code",
      "execution_count": null,
      "id": "9cbf4a9a",
      "metadata": {
        "execution": {
          "iopub.execute_input": "2023-01-02T07:24:46.745071Z",
          "iopub.status.busy": "2023-01-02T07:24:46.744660Z",
          "iopub.status.idle": "2023-01-02T07:24:46.889055Z",
          "shell.execute_reply": "2023-01-02T07:24:46.888187Z"
        },
        "papermill": {
          "duration": 0.16998,
          "end_time": "2023-01-02T07:24:46.891705",
          "exception": false,
          "start_time": "2023-01-02T07:24:46.721725",
          "status": "completed"
        },
        "tags": [],
        "id": "9cbf4a9a",
        "outputId": "e1b322fe-6f8a-41ca-b6bb-5a0b5de09974"
      },
      "outputs": [
        {
          "data": {
            "text/html": [
              "<div>\n",
              "<style scoped>\n",
              "    .dataframe tbody tr th:only-of-type {\n",
              "        vertical-align: middle;\n",
              "    }\n",
              "\n",
              "    .dataframe tbody tr th {\n",
              "        vertical-align: top;\n",
              "    }\n",
              "\n",
              "    .dataframe thead th {\n",
              "        text-align: right;\n",
              "    }\n",
              "</style>\n",
              "<table border=\"1\" class=\"dataframe\">\n",
              "  <thead>\n",
              "    <tr style=\"text-align: right;\">\n",
              "      <th></th>\n",
              "      <th>air_store_id</th>\n",
              "      <th>visit_date</th>\n",
              "      <th>visitors</th>\n",
              "    </tr>\n",
              "  </thead>\n",
              "  <tbody>\n",
              "    <tr>\n",
              "      <th>0</th>\n",
              "      <td>air_ba937bf13d40fb24</td>\n",
              "      <td>2016-01-13</td>\n",
              "      <td>25</td>\n",
              "    </tr>\n",
              "    <tr>\n",
              "      <th>1</th>\n",
              "      <td>air_ba937bf13d40fb24</td>\n",
              "      <td>2016-01-14</td>\n",
              "      <td>32</td>\n",
              "    </tr>\n",
              "    <tr>\n",
              "      <th>2</th>\n",
              "      <td>air_ba937bf13d40fb24</td>\n",
              "      <td>2016-01-15</td>\n",
              "      <td>29</td>\n",
              "    </tr>\n",
              "    <tr>\n",
              "      <th>3</th>\n",
              "      <td>air_ba937bf13d40fb24</td>\n",
              "      <td>2016-01-16</td>\n",
              "      <td>22</td>\n",
              "    </tr>\n",
              "    <tr>\n",
              "      <th>4</th>\n",
              "      <td>air_ba937bf13d40fb24</td>\n",
              "      <td>2016-01-18</td>\n",
              "      <td>6</td>\n",
              "    </tr>\n",
              "    <tr>\n",
              "      <th>...</th>\n",
              "      <td>...</td>\n",
              "      <td>...</td>\n",
              "      <td>...</td>\n",
              "    </tr>\n",
              "    <tr>\n",
              "      <th>252103</th>\n",
              "      <td>air_24e8414b9b07decb</td>\n",
              "      <td>2017-04-18</td>\n",
              "      <td>6</td>\n",
              "    </tr>\n",
              "    <tr>\n",
              "      <th>252104</th>\n",
              "      <td>air_24e8414b9b07decb</td>\n",
              "      <td>2017-04-19</td>\n",
              "      <td>6</td>\n",
              "    </tr>\n",
              "    <tr>\n",
              "      <th>252105</th>\n",
              "      <td>air_24e8414b9b07decb</td>\n",
              "      <td>2017-04-20</td>\n",
              "      <td>7</td>\n",
              "    </tr>\n",
              "    <tr>\n",
              "      <th>252106</th>\n",
              "      <td>air_24e8414b9b07decb</td>\n",
              "      <td>2017-04-21</td>\n",
              "      <td>8</td>\n",
              "    </tr>\n",
              "    <tr>\n",
              "      <th>252107</th>\n",
              "      <td>air_24e8414b9b07decb</td>\n",
              "      <td>2017-04-22</td>\n",
              "      <td>5</td>\n",
              "    </tr>\n",
              "  </tbody>\n",
              "</table>\n",
              "<p>252108 rows × 3 columns</p>\n",
              "</div>"
            ],
            "text/plain": [
              "                air_store_id  visit_date  visitors\n",
              "0       air_ba937bf13d40fb24  2016-01-13        25\n",
              "1       air_ba937bf13d40fb24  2016-01-14        32\n",
              "2       air_ba937bf13d40fb24  2016-01-15        29\n",
              "3       air_ba937bf13d40fb24  2016-01-16        22\n",
              "4       air_ba937bf13d40fb24  2016-01-18         6\n",
              "...                      ...         ...       ...\n",
              "252103  air_24e8414b9b07decb  2017-04-18         6\n",
              "252104  air_24e8414b9b07decb  2017-04-19         6\n",
              "252105  air_24e8414b9b07decb  2017-04-20         7\n",
              "252106  air_24e8414b9b07decb  2017-04-21         8\n",
              "252107  air_24e8414b9b07decb  2017-04-22         5\n",
              "\n",
              "[252108 rows x 3 columns]"
            ]
          },
          "execution_count": 23,
          "metadata": {},
          "output_type": "execute_result"
        },
        {
          "name": "stdout",
          "output_type": "stream",
          "text": [
            "time: 140 ms (started: 2023-01-02 07:24:46 +00:00)\n"
          ]
        }
      ],
      "source": [
        "# explore air_visit_data \n",
        "\n",
        "air_visit_data_df = pd.read_csv(air_visit_data_csv)\n",
        "air_visit_data_df"
      ]
    },
    {
      "cell_type": "code",
      "execution_count": null,
      "id": "0d6a2c02",
      "metadata": {
        "execution": {
          "iopub.execute_input": "2023-01-02T07:24:46.935902Z",
          "iopub.status.busy": "2023-01-02T07:24:46.935479Z",
          "iopub.status.idle": "2023-01-02T07:24:48.580096Z",
          "shell.execute_reply": "2023-01-02T07:24:48.578625Z"
        },
        "papermill": {
          "duration": 1.670978,
          "end_time": "2023-01-02T07:24:48.583985",
          "exception": false,
          "start_time": "2023-01-02T07:24:46.913007",
          "status": "completed"
        },
        "tags": [],
        "id": "0d6a2c02",
        "outputId": "82451ecc-c96d-46d4-83f3-3275abd29e30"
      },
      "outputs": [
        {
          "data": {
            "text/html": [
              "<div>\n",
              "<style scoped>\n",
              "    .dataframe tbody tr th:only-of-type {\n",
              "        vertical-align: middle;\n",
              "    }\n",
              "\n",
              "    .dataframe tbody tr th {\n",
              "        vertical-align: top;\n",
              "    }\n",
              "\n",
              "    .dataframe thead th {\n",
              "        text-align: right;\n",
              "    }\n",
              "</style>\n",
              "<table border=\"1\" class=\"dataframe\">\n",
              "  <thead>\n",
              "    <tr style=\"text-align: right;\">\n",
              "      <th></th>\n",
              "      <th>hpg_store_id</th>\n",
              "      <th>visit_datetime</th>\n",
              "      <th>reserve_datetime</th>\n",
              "      <th>reserve_visitors</th>\n",
              "    </tr>\n",
              "  </thead>\n",
              "  <tbody>\n",
              "    <tr>\n",
              "      <th>0</th>\n",
              "      <td>hpg_c63f6f42e088e50f</td>\n",
              "      <td>2016-01-01 11:00:00</td>\n",
              "      <td>2016-01-01 09:00:00</td>\n",
              "      <td>1</td>\n",
              "    </tr>\n",
              "    <tr>\n",
              "      <th>1</th>\n",
              "      <td>hpg_dac72789163a3f47</td>\n",
              "      <td>2016-01-01 13:00:00</td>\n",
              "      <td>2016-01-01 06:00:00</td>\n",
              "      <td>3</td>\n",
              "    </tr>\n",
              "    <tr>\n",
              "      <th>2</th>\n",
              "      <td>hpg_c8e24dcf51ca1eb5</td>\n",
              "      <td>2016-01-01 16:00:00</td>\n",
              "      <td>2016-01-01 14:00:00</td>\n",
              "      <td>2</td>\n",
              "    </tr>\n",
              "    <tr>\n",
              "      <th>3</th>\n",
              "      <td>hpg_24bb207e5fd49d4a</td>\n",
              "      <td>2016-01-01 17:00:00</td>\n",
              "      <td>2016-01-01 11:00:00</td>\n",
              "      <td>5</td>\n",
              "    </tr>\n",
              "    <tr>\n",
              "      <th>4</th>\n",
              "      <td>hpg_25291c542ebb3bc2</td>\n",
              "      <td>2016-01-01 17:00:00</td>\n",
              "      <td>2016-01-01 03:00:00</td>\n",
              "      <td>13</td>\n",
              "    </tr>\n",
              "    <tr>\n",
              "      <th>...</th>\n",
              "      <td>...</td>\n",
              "      <td>...</td>\n",
              "      <td>...</td>\n",
              "      <td>...</td>\n",
              "    </tr>\n",
              "    <tr>\n",
              "      <th>2000315</th>\n",
              "      <td>hpg_2b293477ea4642fb</td>\n",
              "      <td>2017-05-31 20:00:00</td>\n",
              "      <td>2017-04-19 07:00:00</td>\n",
              "      <td>2</td>\n",
              "    </tr>\n",
              "    <tr>\n",
              "      <th>2000316</th>\n",
              "      <td>hpg_f922aeca48ca5a29</td>\n",
              "      <td>2017-05-31 20:00:00</td>\n",
              "      <td>2017-03-19 00:00:00</td>\n",
              "      <td>3</td>\n",
              "    </tr>\n",
              "    <tr>\n",
              "      <th>2000317</th>\n",
              "      <td>hpg_e9151de687b93aa3</td>\n",
              "      <td>2017-05-31 21:00:00</td>\n",
              "      <td>2017-04-14 20:00:00</td>\n",
              "      <td>49</td>\n",
              "    </tr>\n",
              "    <tr>\n",
              "      <th>2000318</th>\n",
              "      <td>hpg_fae6c96189b4a122</td>\n",
              "      <td>2017-05-31 21:00:00</td>\n",
              "      <td>2017-04-19 17:00:00</td>\n",
              "      <td>9</td>\n",
              "    </tr>\n",
              "    <tr>\n",
              "      <th>2000319</th>\n",
              "      <td>hpg_0b70de808b55ad1e</td>\n",
              "      <td>2017-05-31 23:00:00</td>\n",
              "      <td>2017-04-21 13:00:00</td>\n",
              "      <td>6</td>\n",
              "    </tr>\n",
              "  </tbody>\n",
              "</table>\n",
              "<p>2000320 rows × 4 columns</p>\n",
              "</div>"
            ],
            "text/plain": [
              "                 hpg_store_id       visit_datetime     reserve_datetime  \\\n",
              "0        hpg_c63f6f42e088e50f  2016-01-01 11:00:00  2016-01-01 09:00:00   \n",
              "1        hpg_dac72789163a3f47  2016-01-01 13:00:00  2016-01-01 06:00:00   \n",
              "2        hpg_c8e24dcf51ca1eb5  2016-01-01 16:00:00  2016-01-01 14:00:00   \n",
              "3        hpg_24bb207e5fd49d4a  2016-01-01 17:00:00  2016-01-01 11:00:00   \n",
              "4        hpg_25291c542ebb3bc2  2016-01-01 17:00:00  2016-01-01 03:00:00   \n",
              "...                       ...                  ...                  ...   \n",
              "2000315  hpg_2b293477ea4642fb  2017-05-31 20:00:00  2017-04-19 07:00:00   \n",
              "2000316  hpg_f922aeca48ca5a29  2017-05-31 20:00:00  2017-03-19 00:00:00   \n",
              "2000317  hpg_e9151de687b93aa3  2017-05-31 21:00:00  2017-04-14 20:00:00   \n",
              "2000318  hpg_fae6c96189b4a122  2017-05-31 21:00:00  2017-04-19 17:00:00   \n",
              "2000319  hpg_0b70de808b55ad1e  2017-05-31 23:00:00  2017-04-21 13:00:00   \n",
              "\n",
              "         reserve_visitors  \n",
              "0                       1  \n",
              "1                       3  \n",
              "2                       2  \n",
              "3                       5  \n",
              "4                      13  \n",
              "...                   ...  \n",
              "2000315                 2  \n",
              "2000316                 3  \n",
              "2000317                49  \n",
              "2000318                 9  \n",
              "2000319                 6  \n",
              "\n",
              "[2000320 rows x 4 columns]"
            ]
          },
          "execution_count": 24,
          "metadata": {},
          "output_type": "execute_result"
        },
        {
          "name": "stdout",
          "output_type": "stream",
          "text": [
            "time: 1.64 s (started: 2023-01-02 07:24:46 +00:00)\n"
          ]
        }
      ],
      "source": [
        "# explore hpg_reserve\n",
        "\n",
        "hpg_reserve_df = pd.read_csv(hpg_reserve_csv)\n",
        "hpg_reserve_df"
      ]
    },
    {
      "cell_type": "code",
      "execution_count": null,
      "id": "bbdfee2f",
      "metadata": {
        "execution": {
          "iopub.execute_input": "2023-01-02T07:24:48.629063Z",
          "iopub.status.busy": "2023-01-02T07:24:48.628591Z",
          "iopub.status.idle": "2023-01-02T07:24:48.731763Z",
          "shell.execute_reply": "2023-01-02T07:24:48.730292Z"
        },
        "papermill": {
          "duration": 0.128622,
          "end_time": "2023-01-02T07:24:48.734478",
          "exception": false,
          "start_time": "2023-01-02T07:24:48.605856",
          "status": "completed"
        },
        "tags": [],
        "id": "bbdfee2f",
        "outputId": "bc7905d7-e376-4733-dfbf-c1883772dfbc"
      },
      "outputs": [
        {
          "data": {
            "text/html": [
              "<div>\n",
              "<style scoped>\n",
              "    .dataframe tbody tr th:only-of-type {\n",
              "        vertical-align: middle;\n",
              "    }\n",
              "\n",
              "    .dataframe tbody tr th {\n",
              "        vertical-align: top;\n",
              "    }\n",
              "\n",
              "    .dataframe thead th {\n",
              "        text-align: right;\n",
              "    }\n",
              "</style>\n",
              "<table border=\"1\" class=\"dataframe\">\n",
              "  <thead>\n",
              "    <tr style=\"text-align: right;\">\n",
              "      <th></th>\n",
              "      <th>reserve_visitors</th>\n",
              "    </tr>\n",
              "  </thead>\n",
              "  <tbody>\n",
              "    <tr>\n",
              "      <th>count</th>\n",
              "      <td>2.000320e+06</td>\n",
              "    </tr>\n",
              "    <tr>\n",
              "      <th>mean</th>\n",
              "      <td>5.073785e+00</td>\n",
              "    </tr>\n",
              "    <tr>\n",
              "      <th>std</th>\n",
              "      <td>5.416172e+00</td>\n",
              "    </tr>\n",
              "    <tr>\n",
              "      <th>min</th>\n",
              "      <td>1.000000e+00</td>\n",
              "    </tr>\n",
              "    <tr>\n",
              "      <th>25%</th>\n",
              "      <td>2.000000e+00</td>\n",
              "    </tr>\n",
              "    <tr>\n",
              "      <th>50%</th>\n",
              "      <td>3.000000e+00</td>\n",
              "    </tr>\n",
              "    <tr>\n",
              "      <th>75%</th>\n",
              "      <td>6.000000e+00</td>\n",
              "    </tr>\n",
              "    <tr>\n",
              "      <th>max</th>\n",
              "      <td>1.000000e+02</td>\n",
              "    </tr>\n",
              "  </tbody>\n",
              "</table>\n",
              "</div>"
            ],
            "text/plain": [
              "       reserve_visitors\n",
              "count      2.000320e+06\n",
              "mean       5.073785e+00\n",
              "std        5.416172e+00\n",
              "min        1.000000e+00\n",
              "25%        2.000000e+00\n",
              "50%        3.000000e+00\n",
              "75%        6.000000e+00\n",
              "max        1.000000e+02"
            ]
          },
          "execution_count": 25,
          "metadata": {},
          "output_type": "execute_result"
        },
        {
          "name": "stdout",
          "output_type": "stream",
          "text": [
            "time: 98 ms (started: 2023-01-02 07:24:48 +00:00)\n"
          ]
        }
      ],
      "source": [
        "hpg_reserve_df.describe()"
      ]
    },
    {
      "cell_type": "code",
      "execution_count": null,
      "id": "db384787",
      "metadata": {
        "execution": {
          "iopub.execute_input": "2023-01-02T07:24:48.782929Z",
          "iopub.status.busy": "2023-01-02T07:24:48.781273Z",
          "iopub.status.idle": "2023-01-02T07:24:49.660863Z",
          "shell.execute_reply": "2023-01-02T07:24:49.659519Z"
        },
        "papermill": {
          "duration": 0.907468,
          "end_time": "2023-01-02T07:24:49.663896",
          "exception": false,
          "start_time": "2023-01-02T07:24:48.756428",
          "status": "completed"
        },
        "tags": [],
        "id": "db384787",
        "outputId": "4f775bfa-c976-433a-e617-688625844c09"
      },
      "outputs": [
        {
          "data": {
            "text/html": [
              "<div>\n",
              "<style scoped>\n",
              "    .dataframe tbody tr th:only-of-type {\n",
              "        vertical-align: middle;\n",
              "    }\n",
              "\n",
              "    .dataframe tbody tr th {\n",
              "        vertical-align: top;\n",
              "    }\n",
              "\n",
              "    .dataframe thead th {\n",
              "        text-align: right;\n",
              "    }\n",
              "</style>\n",
              "<table border=\"1\" class=\"dataframe\">\n",
              "  <thead>\n",
              "    <tr style=\"text-align: right;\">\n",
              "      <th></th>\n",
              "      <th>hpg_store_id</th>\n",
              "      <th>visit_datetime</th>\n",
              "      <th>reserve_datetime</th>\n",
              "    </tr>\n",
              "  </thead>\n",
              "  <tbody>\n",
              "    <tr>\n",
              "      <th>count</th>\n",
              "      <td>2000320</td>\n",
              "      <td>2000320</td>\n",
              "      <td>2000320</td>\n",
              "    </tr>\n",
              "    <tr>\n",
              "      <th>unique</th>\n",
              "      <td>13325</td>\n",
              "      <td>9847</td>\n",
              "      <td>11450</td>\n",
              "    </tr>\n",
              "    <tr>\n",
              "      <th>top</th>\n",
              "      <td>hpg_2afd5b187409eeb4</td>\n",
              "      <td>2016-12-16 19:00:00</td>\n",
              "      <td>2016-12-12 21:00:00</td>\n",
              "    </tr>\n",
              "    <tr>\n",
              "      <th>freq</th>\n",
              "      <td>1155</td>\n",
              "      <td>10528</td>\n",
              "      <td>907</td>\n",
              "    </tr>\n",
              "  </tbody>\n",
              "</table>\n",
              "</div>"
            ],
            "text/plain": [
              "                hpg_store_id       visit_datetime     reserve_datetime\n",
              "count                2000320              2000320              2000320\n",
              "unique                 13325                 9847                11450\n",
              "top     hpg_2afd5b187409eeb4  2016-12-16 19:00:00  2016-12-12 21:00:00\n",
              "freq                    1155                10528                  907"
            ]
          },
          "execution_count": 26,
          "metadata": {},
          "output_type": "execute_result"
        },
        {
          "name": "stdout",
          "output_type": "stream",
          "text": [
            "time: 873 ms (started: 2023-01-02 07:24:48 +00:00)\n"
          ]
        }
      ],
      "source": [
        "hpg_reserve_df.describe(include='object')\n"
      ]
    },
    {
      "cell_type": "code",
      "execution_count": null,
      "id": "198c9092",
      "metadata": {
        "execution": {
          "iopub.execute_input": "2023-01-02T07:24:49.711871Z",
          "iopub.status.busy": "2023-01-02T07:24:49.711480Z",
          "iopub.status.idle": "2023-01-02T07:24:49.737869Z",
          "shell.execute_reply": "2023-01-02T07:24:49.736213Z"
        },
        "papermill": {
          "duration": 0.054418,
          "end_time": "2023-01-02T07:24:49.740204",
          "exception": false,
          "start_time": "2023-01-02T07:24:49.685786",
          "status": "completed"
        },
        "tags": [],
        "id": "198c9092",
        "outputId": "dbbe92e5-b854-4668-bb8b-a7e3235527ca"
      },
      "outputs": [
        {
          "data": {
            "text/html": [
              "<div>\n",
              "<style scoped>\n",
              "    .dataframe tbody tr th:only-of-type {\n",
              "        vertical-align: middle;\n",
              "    }\n",
              "\n",
              "    .dataframe tbody tr th {\n",
              "        vertical-align: top;\n",
              "    }\n",
              "\n",
              "    .dataframe thead th {\n",
              "        text-align: right;\n",
              "    }\n",
              "</style>\n",
              "<table border=\"1\" class=\"dataframe\">\n",
              "  <thead>\n",
              "    <tr style=\"text-align: right;\">\n",
              "      <th></th>\n",
              "      <th>hpg_store_id</th>\n",
              "      <th>hpg_genre_name</th>\n",
              "      <th>hpg_area_name</th>\n",
              "      <th>latitude</th>\n",
              "      <th>longitude</th>\n",
              "    </tr>\n",
              "  </thead>\n",
              "  <tbody>\n",
              "    <tr>\n",
              "      <th>0</th>\n",
              "      <td>hpg_6622b62385aec8bf</td>\n",
              "      <td>Japanese style</td>\n",
              "      <td>Tōkyō-to Setagaya-ku Taishidō</td>\n",
              "      <td>35.643675</td>\n",
              "      <td>139.668221</td>\n",
              "    </tr>\n",
              "    <tr>\n",
              "      <th>1</th>\n",
              "      <td>hpg_e9e068dd49c5fa00</td>\n",
              "      <td>Japanese style</td>\n",
              "      <td>Tōkyō-to Setagaya-ku Taishidō</td>\n",
              "      <td>35.643675</td>\n",
              "      <td>139.668221</td>\n",
              "    </tr>\n",
              "    <tr>\n",
              "      <th>2</th>\n",
              "      <td>hpg_2976f7acb4b3a3bc</td>\n",
              "      <td>Japanese style</td>\n",
              "      <td>Tōkyō-to Setagaya-ku Taishidō</td>\n",
              "      <td>35.643675</td>\n",
              "      <td>139.668221</td>\n",
              "    </tr>\n",
              "    <tr>\n",
              "      <th>3</th>\n",
              "      <td>hpg_e51a522e098f024c</td>\n",
              "      <td>Japanese style</td>\n",
              "      <td>Tōkyō-to Setagaya-ku Taishidō</td>\n",
              "      <td>35.643675</td>\n",
              "      <td>139.668221</td>\n",
              "    </tr>\n",
              "    <tr>\n",
              "      <th>4</th>\n",
              "      <td>hpg_e3d0e1519894f275</td>\n",
              "      <td>Japanese style</td>\n",
              "      <td>Tōkyō-to Setagaya-ku Taishidō</td>\n",
              "      <td>35.643675</td>\n",
              "      <td>139.668221</td>\n",
              "    </tr>\n",
              "    <tr>\n",
              "      <th>...</th>\n",
              "      <td>...</td>\n",
              "      <td>...</td>\n",
              "      <td>...</td>\n",
              "      <td>...</td>\n",
              "      <td>...</td>\n",
              "    </tr>\n",
              "    <tr>\n",
              "      <th>4685</th>\n",
              "      <td>hpg_c6ed353a48c7c93e</td>\n",
              "      <td>Sichuan food</td>\n",
              "      <td>Tōkyō-to Chiyoda-ku None</td>\n",
              "      <td>35.695780</td>\n",
              "      <td>139.768453</td>\n",
              "    </tr>\n",
              "    <tr>\n",
              "      <th>4686</th>\n",
              "      <td>hpg_a58d2423360b2fb4</td>\n",
              "      <td>Sichuan food</td>\n",
              "      <td>Tōkyō-to Minato-ku Roppongi</td>\n",
              "      <td>35.666137</td>\n",
              "      <td>139.733978</td>\n",
              "    </tr>\n",
              "    <tr>\n",
              "      <th>4687</th>\n",
              "      <td>hpg_d2021704076cdd70</td>\n",
              "      <td>Shanghai food</td>\n",
              "      <td>Tōkyō-to Chiyoda-ku None</td>\n",
              "      <td>35.695780</td>\n",
              "      <td>139.768453</td>\n",
              "    </tr>\n",
              "    <tr>\n",
              "      <th>4688</th>\n",
              "      <td>hpg_602472570d65e219</td>\n",
              "      <td>Spain/Mediterranean cuisine</td>\n",
              "      <td>Tōkyō-to Toshima-ku None</td>\n",
              "      <td>35.730068</td>\n",
              "      <td>139.711742</td>\n",
              "    </tr>\n",
              "    <tr>\n",
              "      <th>4689</th>\n",
              "      <td>hpg_11801306ce8bfb4f</td>\n",
              "      <td>Udon/Soba</td>\n",
              "      <td>Osaka Prefecture Osaka None</td>\n",
              "      <td>34.701519</td>\n",
              "      <td>135.498859</td>\n",
              "    </tr>\n",
              "  </tbody>\n",
              "</table>\n",
              "<p>4690 rows × 5 columns</p>\n",
              "</div>"
            ],
            "text/plain": [
              "              hpg_store_id               hpg_genre_name  \\\n",
              "0     hpg_6622b62385aec8bf               Japanese style   \n",
              "1     hpg_e9e068dd49c5fa00               Japanese style   \n",
              "2     hpg_2976f7acb4b3a3bc               Japanese style   \n",
              "3     hpg_e51a522e098f024c               Japanese style   \n",
              "4     hpg_e3d0e1519894f275               Japanese style   \n",
              "...                    ...                          ...   \n",
              "4685  hpg_c6ed353a48c7c93e                 Sichuan food   \n",
              "4686  hpg_a58d2423360b2fb4                 Sichuan food   \n",
              "4687  hpg_d2021704076cdd70                Shanghai food   \n",
              "4688  hpg_602472570d65e219  Spain/Mediterranean cuisine   \n",
              "4689  hpg_11801306ce8bfb4f                    Udon/Soba   \n",
              "\n",
              "                      hpg_area_name   latitude   longitude  \n",
              "0     Tōkyō-to Setagaya-ku Taishidō  35.643675  139.668221  \n",
              "1     Tōkyō-to Setagaya-ku Taishidō  35.643675  139.668221  \n",
              "2     Tōkyō-to Setagaya-ku Taishidō  35.643675  139.668221  \n",
              "3     Tōkyō-to Setagaya-ku Taishidō  35.643675  139.668221  \n",
              "4     Tōkyō-to Setagaya-ku Taishidō  35.643675  139.668221  \n",
              "...                             ...        ...         ...  \n",
              "4685       Tōkyō-to Chiyoda-ku None  35.695780  139.768453  \n",
              "4686    Tōkyō-to Minato-ku Roppongi  35.666137  139.733978  \n",
              "4687       Tōkyō-to Chiyoda-ku None  35.695780  139.768453  \n",
              "4688       Tōkyō-to Toshima-ku None  35.730068  139.711742  \n",
              "4689    Osaka Prefecture Osaka None  34.701519  135.498859  \n",
              "\n",
              "[4690 rows x 5 columns]"
            ]
          },
          "execution_count": 27,
          "metadata": {},
          "output_type": "execute_result"
        },
        {
          "name": "stdout",
          "output_type": "stream",
          "text": [
            "time: 21.3 ms (started: 2023-01-02 07:24:49 +00:00)\n"
          ]
        }
      ],
      "source": [
        "# explore hpg_store_info \n",
        "\n",
        "hpg_store_info_df = pd.read_csv(hpg_store_info_csv)\n",
        "hpg_store_info_df"
      ]
    },
    {
      "cell_type": "code",
      "execution_count": null,
      "id": "3828662e",
      "metadata": {
        "execution": {
          "iopub.execute_input": "2023-01-02T07:24:49.787697Z",
          "iopub.status.busy": "2023-01-02T07:24:49.787200Z",
          "iopub.status.idle": "2023-01-02T07:24:49.810784Z",
          "shell.execute_reply": "2023-01-02T07:24:49.809411Z"
        },
        "papermill": {
          "duration": 0.051052,
          "end_time": "2023-01-02T07:24:49.813522",
          "exception": false,
          "start_time": "2023-01-02T07:24:49.762470",
          "status": "completed"
        },
        "tags": [],
        "id": "3828662e",
        "outputId": "f5ddb189-779d-49f1-9015-2aca85a1ba48"
      },
      "outputs": [
        {
          "data": {
            "text/html": [
              "<div>\n",
              "<style scoped>\n",
              "    .dataframe tbody tr th:only-of-type {\n",
              "        vertical-align: middle;\n",
              "    }\n",
              "\n",
              "    .dataframe tbody tr th {\n",
              "        vertical-align: top;\n",
              "    }\n",
              "\n",
              "    .dataframe thead th {\n",
              "        text-align: right;\n",
              "    }\n",
              "</style>\n",
              "<table border=\"1\" class=\"dataframe\">\n",
              "  <thead>\n",
              "    <tr style=\"text-align: right;\">\n",
              "      <th></th>\n",
              "      <th>hpg_store_id</th>\n",
              "      <th>hpg_genre_name</th>\n",
              "      <th>hpg_area_name</th>\n",
              "    </tr>\n",
              "  </thead>\n",
              "  <tbody>\n",
              "    <tr>\n",
              "      <th>count</th>\n",
              "      <td>4690</td>\n",
              "      <td>4690</td>\n",
              "      <td>4690</td>\n",
              "    </tr>\n",
              "    <tr>\n",
              "      <th>unique</th>\n",
              "      <td>4690</td>\n",
              "      <td>34</td>\n",
              "      <td>119</td>\n",
              "    </tr>\n",
              "    <tr>\n",
              "      <th>top</th>\n",
              "      <td>hpg_6622b62385aec8bf</td>\n",
              "      <td>Japanese style</td>\n",
              "      <td>Tōkyō-to Shinjuku-ku None</td>\n",
              "    </tr>\n",
              "    <tr>\n",
              "      <th>freq</th>\n",
              "      <td>1</td>\n",
              "      <td>1750</td>\n",
              "      <td>257</td>\n",
              "    </tr>\n",
              "  </tbody>\n",
              "</table>\n",
              "</div>"
            ],
            "text/plain": [
              "                hpg_store_id  hpg_genre_name              hpg_area_name\n",
              "count                   4690            4690                       4690\n",
              "unique                  4690              34                        119\n",
              "top     hpg_6622b62385aec8bf  Japanese style  Tōkyō-to Shinjuku-ku None\n",
              "freq                       1            1750                        257"
            ]
          },
          "execution_count": 28,
          "metadata": {},
          "output_type": "execute_result"
        },
        {
          "name": "stdout",
          "output_type": "stream",
          "text": [
            "time: 18.1 ms (started: 2023-01-02 07:24:49 +00:00)\n"
          ]
        }
      ],
      "source": [
        "hpg_store_info_df.describe(include='object')"
      ]
    },
    {
      "cell_type": "code",
      "execution_count": null,
      "id": "16afd52c",
      "metadata": {
        "execution": {
          "iopub.execute_input": "2023-01-02T07:24:49.861152Z",
          "iopub.status.busy": "2023-01-02T07:24:49.860708Z",
          "iopub.status.idle": "2023-01-02T07:24:49.880358Z",
          "shell.execute_reply": "2023-01-02T07:24:49.878787Z"
        },
        "papermill": {
          "duration": 0.047388,
          "end_time": "2023-01-02T07:24:49.883331",
          "exception": false,
          "start_time": "2023-01-02T07:24:49.835943",
          "status": "completed"
        },
        "tags": [],
        "id": "16afd52c",
        "outputId": "cfae121b-1693-45b5-f2ae-130928cef571"
      },
      "outputs": [
        {
          "data": {
            "text/html": [
              "<div>\n",
              "<style scoped>\n",
              "    .dataframe tbody tr th:only-of-type {\n",
              "        vertical-align: middle;\n",
              "    }\n",
              "\n",
              "    .dataframe tbody tr th {\n",
              "        vertical-align: top;\n",
              "    }\n",
              "\n",
              "    .dataframe thead th {\n",
              "        text-align: right;\n",
              "    }\n",
              "</style>\n",
              "<table border=\"1\" class=\"dataframe\">\n",
              "  <thead>\n",
              "    <tr style=\"text-align: right;\">\n",
              "      <th></th>\n",
              "      <th>air_store_id</th>\n",
              "      <th>hpg_store_id</th>\n",
              "    </tr>\n",
              "  </thead>\n",
              "  <tbody>\n",
              "    <tr>\n",
              "      <th>0</th>\n",
              "      <td>air_63b13c56b7201bd9</td>\n",
              "      <td>hpg_4bc649e72e2a239a</td>\n",
              "    </tr>\n",
              "    <tr>\n",
              "      <th>1</th>\n",
              "      <td>air_a24bf50c3e90d583</td>\n",
              "      <td>hpg_c34b496d0305a809</td>\n",
              "    </tr>\n",
              "    <tr>\n",
              "      <th>2</th>\n",
              "      <td>air_c7f78b4f3cba33ff</td>\n",
              "      <td>hpg_cd8ae0d9bbd58ff9</td>\n",
              "    </tr>\n",
              "    <tr>\n",
              "      <th>3</th>\n",
              "      <td>air_947eb2cae4f3e8f2</td>\n",
              "      <td>hpg_de24ea49dc25d6b8</td>\n",
              "    </tr>\n",
              "    <tr>\n",
              "      <th>4</th>\n",
              "      <td>air_965b2e0cf4119003</td>\n",
              "      <td>hpg_653238a84804d8e7</td>\n",
              "    </tr>\n",
              "    <tr>\n",
              "      <th>...</th>\n",
              "      <td>...</td>\n",
              "      <td>...</td>\n",
              "    </tr>\n",
              "    <tr>\n",
              "      <th>145</th>\n",
              "      <td>air_b8925441167c3152</td>\n",
              "      <td>hpg_0cc0abae3a8b52de</td>\n",
              "    </tr>\n",
              "    <tr>\n",
              "      <th>146</th>\n",
              "      <td>air_f8233ad00755c35c</td>\n",
              "      <td>hpg_098e4dd30e54fee6</td>\n",
              "    </tr>\n",
              "    <tr>\n",
              "      <th>147</th>\n",
              "      <td>air_6607fe3671242ce3</td>\n",
              "      <td>hpg_1004356dc8ab69ec</td>\n",
              "    </tr>\n",
              "    <tr>\n",
              "      <th>148</th>\n",
              "      <td>air_ccd19a5bc5573ae5</td>\n",
              "      <td>hpg_df22bf146d2c7e19</td>\n",
              "    </tr>\n",
              "    <tr>\n",
              "      <th>149</th>\n",
              "      <td>air_465bddfed3353b23</td>\n",
              "      <td>hpg_23c5945dc1a72454</td>\n",
              "    </tr>\n",
              "  </tbody>\n",
              "</table>\n",
              "<p>150 rows × 2 columns</p>\n",
              "</div>"
            ],
            "text/plain": [
              "             air_store_id          hpg_store_id\n",
              "0    air_63b13c56b7201bd9  hpg_4bc649e72e2a239a\n",
              "1    air_a24bf50c3e90d583  hpg_c34b496d0305a809\n",
              "2    air_c7f78b4f3cba33ff  hpg_cd8ae0d9bbd58ff9\n",
              "3    air_947eb2cae4f3e8f2  hpg_de24ea49dc25d6b8\n",
              "4    air_965b2e0cf4119003  hpg_653238a84804d8e7\n",
              "..                    ...                   ...\n",
              "145  air_b8925441167c3152  hpg_0cc0abae3a8b52de\n",
              "146  air_f8233ad00755c35c  hpg_098e4dd30e54fee6\n",
              "147  air_6607fe3671242ce3  hpg_1004356dc8ab69ec\n",
              "148  air_ccd19a5bc5573ae5  hpg_df22bf146d2c7e19\n",
              "149  air_465bddfed3353b23  hpg_23c5945dc1a72454\n",
              "\n",
              "[150 rows x 2 columns]"
            ]
          },
          "execution_count": 29,
          "metadata": {},
          "output_type": "execute_result"
        },
        {
          "name": "stdout",
          "output_type": "stream",
          "text": [
            "time: 13.6 ms (started: 2023-01-02 07:24:49 +00:00)\n"
          ]
        }
      ],
      "source": [
        "# explore store_id_relation\n",
        "\n",
        "store_id_relation_df = pd.read_csv(store_id_relation_csv)\n",
        "store_id_relation_df"
      ]
    },
    {
      "cell_type": "code",
      "execution_count": null,
      "id": "43921515",
      "metadata": {
        "execution": {
          "iopub.execute_input": "2023-01-02T07:24:49.931485Z",
          "iopub.status.busy": "2023-01-02T07:24:49.931062Z",
          "iopub.status.idle": "2023-01-02T07:24:49.948707Z",
          "shell.execute_reply": "2023-01-02T07:24:49.947316Z"
        },
        "papermill": {
          "duration": 0.044739,
          "end_time": "2023-01-02T07:24:49.951222",
          "exception": false,
          "start_time": "2023-01-02T07:24:49.906483",
          "status": "completed"
        },
        "tags": [],
        "id": "43921515",
        "outputId": "0d0a258c-1cac-4e0f-fde7-25150ad9124c"
      },
      "outputs": [
        {
          "data": {
            "text/html": [
              "<div>\n",
              "<style scoped>\n",
              "    .dataframe tbody tr th:only-of-type {\n",
              "        vertical-align: middle;\n",
              "    }\n",
              "\n",
              "    .dataframe tbody tr th {\n",
              "        vertical-align: top;\n",
              "    }\n",
              "\n",
              "    .dataframe thead th {\n",
              "        text-align: right;\n",
              "    }\n",
              "</style>\n",
              "<table border=\"1\" class=\"dataframe\">\n",
              "  <thead>\n",
              "    <tr style=\"text-align: right;\">\n",
              "      <th></th>\n",
              "      <th>air_store_id</th>\n",
              "      <th>hpg_store_id</th>\n",
              "    </tr>\n",
              "  </thead>\n",
              "  <tbody>\n",
              "    <tr>\n",
              "      <th>count</th>\n",
              "      <td>150</td>\n",
              "      <td>150</td>\n",
              "    </tr>\n",
              "    <tr>\n",
              "      <th>unique</th>\n",
              "      <td>150</td>\n",
              "      <td>150</td>\n",
              "    </tr>\n",
              "    <tr>\n",
              "      <th>top</th>\n",
              "      <td>air_63b13c56b7201bd9</td>\n",
              "      <td>hpg_4bc649e72e2a239a</td>\n",
              "    </tr>\n",
              "    <tr>\n",
              "      <th>freq</th>\n",
              "      <td>1</td>\n",
              "      <td>1</td>\n",
              "    </tr>\n",
              "  </tbody>\n",
              "</table>\n",
              "</div>"
            ],
            "text/plain": [
              "                air_store_id          hpg_store_id\n",
              "count                    150                   150\n",
              "unique                   150                   150\n",
              "top     air_63b13c56b7201bd9  hpg_4bc649e72e2a239a\n",
              "freq                       1                     1"
            ]
          },
          "execution_count": 30,
          "metadata": {},
          "output_type": "execute_result"
        },
        {
          "name": "stdout",
          "output_type": "stream",
          "text": [
            "time: 12.1 ms (started: 2023-01-02 07:24:49 +00:00)\n"
          ]
        }
      ],
      "source": [
        "store_id_relation_df.describe()"
      ]
    },
    {
      "cell_type": "code",
      "execution_count": null,
      "id": "afe0698d",
      "metadata": {
        "execution": {
          "iopub.execute_input": "2023-01-02T07:24:50.003583Z",
          "iopub.status.busy": "2023-01-02T07:24:50.003115Z",
          "iopub.status.idle": "2023-01-02T07:24:50.007750Z",
          "shell.execute_reply": "2023-01-02T07:24:50.006738Z"
        },
        "papermill": {
          "duration": 0.03579,
          "end_time": "2023-01-02T07:24:50.010706",
          "exception": false,
          "start_time": "2023-01-02T07:24:49.974916",
          "status": "completed"
        },
        "tags": [],
        "id": "afe0698d",
        "outputId": "b065074a-45c2-4939-8a37-4c1010648111"
      },
      "outputs": [
        {
          "name": "stdout",
          "output_type": "stream",
          "text": [
            "time: 431 µs (started: 2023-01-02 07:24:50 +00:00)\n"
          ]
        }
      ],
      "source": [
        "# how they have collected the data\n",
        "\n"
      ]
    },
    {
      "cell_type": "code",
      "execution_count": null,
      "id": "96891e53",
      "metadata": {
        "papermill": {
          "duration": 0.024233,
          "end_time": "2023-01-02T07:24:50.059464",
          "exception": false,
          "start_time": "2023-01-02T07:24:50.035231",
          "status": "completed"
        },
        "tags": [],
        "id": "96891e53"
      },
      "outputs": [],
      "source": [
        "\n"
      ]
    },
    {
      "cell_type": "code",
      "execution_count": null,
      "id": "224946f8",
      "metadata": {
        "execution": {
          "iopub.execute_input": "2023-01-02T07:24:50.110172Z",
          "iopub.status.busy": "2023-01-02T07:24:50.109493Z",
          "iopub.status.idle": "2023-01-02T07:24:50.146597Z",
          "shell.execute_reply": "2023-01-02T07:24:50.144841Z"
        },
        "papermill": {
          "duration": 0.064812,
          "end_time": "2023-01-02T07:24:50.149269",
          "exception": false,
          "start_time": "2023-01-02T07:24:50.084457",
          "status": "completed"
        },
        "tags": [],
        "id": "224946f8",
        "outputId": "98c48c4e-d94e-40f0-e8fd-b07185661fdb"
      },
      "outputs": [
        {
          "data": {
            "text/html": [
              "<div>\n",
              "<style scoped>\n",
              "    .dataframe tbody tr th:only-of-type {\n",
              "        vertical-align: middle;\n",
              "    }\n",
              "\n",
              "    .dataframe tbody tr th {\n",
              "        vertical-align: top;\n",
              "    }\n",
              "\n",
              "    .dataframe thead th {\n",
              "        text-align: right;\n",
              "    }\n",
              "</style>\n",
              "<table border=\"1\" class=\"dataframe\">\n",
              "  <thead>\n",
              "    <tr style=\"text-align: right;\">\n",
              "      <th></th>\n",
              "      <th>id</th>\n",
              "      <th>visitors</th>\n",
              "    </tr>\n",
              "  </thead>\n",
              "  <tbody>\n",
              "    <tr>\n",
              "      <th>0</th>\n",
              "      <td>air_00a91d42b08b08d9_2017-04-23</td>\n",
              "      <td>0</td>\n",
              "    </tr>\n",
              "    <tr>\n",
              "      <th>1</th>\n",
              "      <td>air_00a91d42b08b08d9_2017-04-24</td>\n",
              "      <td>0</td>\n",
              "    </tr>\n",
              "    <tr>\n",
              "      <th>2</th>\n",
              "      <td>air_00a91d42b08b08d9_2017-04-25</td>\n",
              "      <td>0</td>\n",
              "    </tr>\n",
              "    <tr>\n",
              "      <th>3</th>\n",
              "      <td>air_00a91d42b08b08d9_2017-04-26</td>\n",
              "      <td>0</td>\n",
              "    </tr>\n",
              "    <tr>\n",
              "      <th>4</th>\n",
              "      <td>air_00a91d42b08b08d9_2017-04-27</td>\n",
              "      <td>0</td>\n",
              "    </tr>\n",
              "    <tr>\n",
              "      <th>...</th>\n",
              "      <td>...</td>\n",
              "      <td>...</td>\n",
              "    </tr>\n",
              "    <tr>\n",
              "      <th>32014</th>\n",
              "      <td>air_fff68b929994bfbd_2017-05-27</td>\n",
              "      <td>0</td>\n",
              "    </tr>\n",
              "    <tr>\n",
              "      <th>32015</th>\n",
              "      <td>air_fff68b929994bfbd_2017-05-28</td>\n",
              "      <td>0</td>\n",
              "    </tr>\n",
              "    <tr>\n",
              "      <th>32016</th>\n",
              "      <td>air_fff68b929994bfbd_2017-05-29</td>\n",
              "      <td>0</td>\n",
              "    </tr>\n",
              "    <tr>\n",
              "      <th>32017</th>\n",
              "      <td>air_fff68b929994bfbd_2017-05-30</td>\n",
              "      <td>0</td>\n",
              "    </tr>\n",
              "    <tr>\n",
              "      <th>32018</th>\n",
              "      <td>air_fff68b929994bfbd_2017-05-31</td>\n",
              "      <td>0</td>\n",
              "    </tr>\n",
              "  </tbody>\n",
              "</table>\n",
              "<p>32019 rows × 2 columns</p>\n",
              "</div>"
            ],
            "text/plain": [
              "                                    id  visitors\n",
              "0      air_00a91d42b08b08d9_2017-04-23         0\n",
              "1      air_00a91d42b08b08d9_2017-04-24         0\n",
              "2      air_00a91d42b08b08d9_2017-04-25         0\n",
              "3      air_00a91d42b08b08d9_2017-04-26         0\n",
              "4      air_00a91d42b08b08d9_2017-04-27         0\n",
              "...                                ...       ...\n",
              "32014  air_fff68b929994bfbd_2017-05-27         0\n",
              "32015  air_fff68b929994bfbd_2017-05-28         0\n",
              "32016  air_fff68b929994bfbd_2017-05-29         0\n",
              "32017  air_fff68b929994bfbd_2017-05-30         0\n",
              "32018  air_fff68b929994bfbd_2017-05-31         0\n",
              "\n",
              "[32019 rows x 2 columns]"
            ]
          },
          "execution_count": 32,
          "metadata": {},
          "output_type": "execute_result"
        },
        {
          "name": "stdout",
          "output_type": "stream",
          "text": [
            "time: 31.2 ms (started: 2023-01-02 07:24:50 +00:00)\n"
          ]
        }
      ],
      "source": [
        "# explore the sample submission \n",
        "\n",
        "sample_submission_df = pd.read_csv(sample_submission_csv)\n",
        "sample_submission_df"
      ]
    },
    {
      "cell_type": "markdown",
      "id": "8929211e",
      "metadata": {
        "papermill": {
          "duration": 0.023018,
          "end_time": "2023-01-02T07:24:50.195812",
          "exception": false,
          "start_time": "2023-01-02T07:24:50.172794",
          "status": "completed"
        },
        "tags": [],
        "id": "8929211e"
      },
      "source": [
        "# Build the dataset for deep learning \n",
        "\n"
      ]
    },
    {
      "cell_type": "code",
      "execution_count": null,
      "id": "560f1d44",
      "metadata": {
        "execution": {
          "iopub.execute_input": "2023-01-02T07:24:50.245186Z",
          "iopub.status.busy": "2023-01-02T07:24:50.244088Z",
          "iopub.status.idle": "2023-01-02T07:24:50.259798Z",
          "shell.execute_reply": "2023-01-02T07:24:50.258608Z"
        },
        "papermill": {
          "duration": 0.042974,
          "end_time": "2023-01-02T07:24:50.262255",
          "exception": false,
          "start_time": "2023-01-02T07:24:50.219281",
          "status": "completed"
        },
        "tags": [],
        "id": "560f1d44",
        "outputId": "89759b1b-965b-48ee-c6dc-d0e399c655bc"
      },
      "outputs": [
        {
          "data": {
            "text/html": [
              "<div>\n",
              "<style scoped>\n",
              "    .dataframe tbody tr th:only-of-type {\n",
              "        vertical-align: middle;\n",
              "    }\n",
              "\n",
              "    .dataframe tbody tr th {\n",
              "        vertical-align: top;\n",
              "    }\n",
              "\n",
              "    .dataframe thead th {\n",
              "        text-align: right;\n",
              "    }\n",
              "</style>\n",
              "<table border=\"1\" class=\"dataframe\">\n",
              "  <thead>\n",
              "    <tr style=\"text-align: right;\">\n",
              "      <th></th>\n",
              "      <th>air_store_id</th>\n",
              "      <th>visit_date</th>\n",
              "      <th>visitors</th>\n",
              "    </tr>\n",
              "  </thead>\n",
              "  <tbody>\n",
              "    <tr>\n",
              "      <th>0</th>\n",
              "      <td>air_ba937bf13d40fb24</td>\n",
              "      <td>2016-01-13</td>\n",
              "      <td>25</td>\n",
              "    </tr>\n",
              "    <tr>\n",
              "      <th>1</th>\n",
              "      <td>air_ba937bf13d40fb24</td>\n",
              "      <td>2016-01-14</td>\n",
              "      <td>32</td>\n",
              "    </tr>\n",
              "    <tr>\n",
              "      <th>2</th>\n",
              "      <td>air_ba937bf13d40fb24</td>\n",
              "      <td>2016-01-15</td>\n",
              "      <td>29</td>\n",
              "    </tr>\n",
              "    <tr>\n",
              "      <th>3</th>\n",
              "      <td>air_ba937bf13d40fb24</td>\n",
              "      <td>2016-01-16</td>\n",
              "      <td>22</td>\n",
              "    </tr>\n",
              "    <tr>\n",
              "      <th>4</th>\n",
              "      <td>air_ba937bf13d40fb24</td>\n",
              "      <td>2016-01-18</td>\n",
              "      <td>6</td>\n",
              "    </tr>\n",
              "    <tr>\n",
              "      <th>...</th>\n",
              "      <td>...</td>\n",
              "      <td>...</td>\n",
              "      <td>...</td>\n",
              "    </tr>\n",
              "    <tr>\n",
              "      <th>252103</th>\n",
              "      <td>air_24e8414b9b07decb</td>\n",
              "      <td>2017-04-18</td>\n",
              "      <td>6</td>\n",
              "    </tr>\n",
              "    <tr>\n",
              "      <th>252104</th>\n",
              "      <td>air_24e8414b9b07decb</td>\n",
              "      <td>2017-04-19</td>\n",
              "      <td>6</td>\n",
              "    </tr>\n",
              "    <tr>\n",
              "      <th>252105</th>\n",
              "      <td>air_24e8414b9b07decb</td>\n",
              "      <td>2017-04-20</td>\n",
              "      <td>7</td>\n",
              "    </tr>\n",
              "    <tr>\n",
              "      <th>252106</th>\n",
              "      <td>air_24e8414b9b07decb</td>\n",
              "      <td>2017-04-21</td>\n",
              "      <td>8</td>\n",
              "    </tr>\n",
              "    <tr>\n",
              "      <th>252107</th>\n",
              "      <td>air_24e8414b9b07decb</td>\n",
              "      <td>2017-04-22</td>\n",
              "      <td>5</td>\n",
              "    </tr>\n",
              "  </tbody>\n",
              "</table>\n",
              "<p>252108 rows × 3 columns</p>\n",
              "</div>"
            ],
            "text/plain": [
              "                air_store_id  visit_date  visitors\n",
              "0       air_ba937bf13d40fb24  2016-01-13        25\n",
              "1       air_ba937bf13d40fb24  2016-01-14        32\n",
              "2       air_ba937bf13d40fb24  2016-01-15        29\n",
              "3       air_ba937bf13d40fb24  2016-01-16        22\n",
              "4       air_ba937bf13d40fb24  2016-01-18         6\n",
              "...                      ...         ...       ...\n",
              "252103  air_24e8414b9b07decb  2017-04-18         6\n",
              "252104  air_24e8414b9b07decb  2017-04-19         6\n",
              "252105  air_24e8414b9b07decb  2017-04-20         7\n",
              "252106  air_24e8414b9b07decb  2017-04-21         8\n",
              "252107  air_24e8414b9b07decb  2017-04-22         5\n",
              "\n",
              "[252108 rows x 3 columns]"
            ]
          },
          "execution_count": 33,
          "metadata": {},
          "output_type": "execute_result"
        },
        {
          "name": "stdout",
          "output_type": "stream",
          "text": [
            "time: 9.09 ms (started: 2023-01-02 07:24:50 +00:00)\n"
          ]
        }
      ],
      "source": [
        "air_visit_data_df"
      ]
    },
    {
      "cell_type": "markdown",
      "id": "d05f4621",
      "metadata": {
        "papermill": {
          "duration": 0.023398,
          "end_time": "2023-01-02T07:24:50.309386",
          "exception": false,
          "start_time": "2023-01-02T07:24:50.285988",
          "status": "completed"
        },
        "tags": [],
        "id": "d05f4621"
      },
      "source": [
        "## find the relation between air_visit_data and air_reservation"
      ]
    },
    {
      "cell_type": "code",
      "execution_count": null,
      "id": "18754be6",
      "metadata": {
        "execution": {
          "iopub.execute_input": "2023-01-02T07:24:50.359787Z",
          "iopub.status.busy": "2023-01-02T07:24:50.358586Z",
          "iopub.status.idle": "2023-01-02T07:24:50.366319Z",
          "shell.execute_reply": "2023-01-02T07:24:50.364899Z"
        },
        "papermill": {
          "duration": 0.035719,
          "end_time": "2023-01-02T07:24:50.368926",
          "exception": false,
          "start_time": "2023-01-02T07:24:50.333207",
          "status": "completed"
        },
        "tags": [],
        "id": "18754be6",
        "outputId": "9c2228a6-6fb6-4703-af93-7e3097c63cfd"
      },
      "outputs": [
        {
          "name": "stdout",
          "output_type": "stream",
          "text": [
            "Index(['air_store_id', 'visit_date', 'visitors'], dtype='object')\n",
            "Index(['air_store_id', 'visit_datetime', 'reserve_datetime',\n",
            "       'reserve_visitors'],\n",
            "      dtype='object')\n",
            "time: 1.56 ms (started: 2023-01-02 07:24:50 +00:00)\n"
          ]
        }
      ],
      "source": [
        "# how many elements are there ?  \n",
        "\n",
        "print(air_visit_data_df.columns)\n",
        "print(air_reserve_df.columns)\n"
      ]
    },
    {
      "cell_type": "code",
      "execution_count": null,
      "id": "681a55b4",
      "metadata": {
        "execution": {
          "iopub.execute_input": "2023-01-02T07:24:50.419380Z",
          "iopub.status.busy": "2023-01-02T07:24:50.418878Z",
          "iopub.status.idle": "2023-01-02T07:24:50.428206Z",
          "shell.execute_reply": "2023-01-02T07:24:50.426318Z"
        },
        "papermill": {
          "duration": 0.037871,
          "end_time": "2023-01-02T07:24:50.431207",
          "exception": false,
          "start_time": "2023-01-02T07:24:50.393336",
          "status": "completed"
        },
        "tags": [],
        "id": "681a55b4",
        "outputId": "7b65d190-3493-4653-e012-638bd685f94f"
      },
      "outputs": [
        {
          "data": {
            "text/plain": [
              "252108"
            ]
          },
          "execution_count": 35,
          "metadata": {},
          "output_type": "execute_result"
        },
        {
          "name": "stdout",
          "output_type": "stream",
          "text": [
            "time: 3.48 ms (started: 2023-01-02 07:24:50 +00:00)\n"
          ]
        }
      ],
      "source": [
        "# how many visitors are there in air_visit_data\n",
        "len(air_visit_data_df.visitors)"
      ]
    },
    {
      "cell_type": "code",
      "execution_count": null,
      "id": "4a7553c3",
      "metadata": {
        "execution": {
          "iopub.execute_input": "2023-01-02T07:24:50.481075Z",
          "iopub.status.busy": "2023-01-02T07:24:50.480630Z",
          "iopub.status.idle": "2023-01-02T07:24:50.488942Z",
          "shell.execute_reply": "2023-01-02T07:24:50.487647Z"
        },
        "papermill": {
          "duration": 0.036803,
          "end_time": "2023-01-02T07:24:50.492020",
          "exception": false,
          "start_time": "2023-01-02T07:24:50.455217",
          "status": "completed"
        },
        "tags": [],
        "id": "4a7553c3",
        "outputId": "a1118ac5-a11c-43c7-ce42-cf146730e798"
      },
      "outputs": [
        {
          "data": {
            "text/plain": [
              "252108"
            ]
          },
          "execution_count": 36,
          "metadata": {},
          "output_type": "execute_result"
        },
        {
          "name": "stdout",
          "output_type": "stream",
          "text": [
            "time: 3.46 ms (started: 2023-01-02 07:24:50 +00:00)\n"
          ]
        }
      ],
      "source": [
        "# are there similar visit dates  in air visit data \n",
        "len(air_visit_data_df.visit_date)"
      ]
    },
    {
      "cell_type": "code",
      "execution_count": null,
      "id": "23535029",
      "metadata": {
        "execution": {
          "iopub.execute_input": "2023-01-02T07:24:50.542672Z",
          "iopub.status.busy": "2023-01-02T07:24:50.542189Z",
          "iopub.status.idle": "2023-01-02T07:24:50.550842Z",
          "shell.execute_reply": "2023-01-02T07:24:50.549736Z"
        },
        "papermill": {
          "duration": 0.036481,
          "end_time": "2023-01-02T07:24:50.553224",
          "exception": false,
          "start_time": "2023-01-02T07:24:50.516743",
          "status": "completed"
        },
        "tags": [],
        "id": "23535029",
        "outputId": "2f45f1c5-28ad-4d21-ff47-599d2b054e5d"
      },
      "outputs": [
        {
          "data": {
            "text/plain": [
              "92378"
            ]
          },
          "execution_count": 37,
          "metadata": {},
          "output_type": "execute_result"
        },
        {
          "name": "stdout",
          "output_type": "stream",
          "text": [
            "time: 3.68 ms (started: 2023-01-02 07:24:50 +00:00)\n"
          ]
        }
      ],
      "source": [
        "# now how many visit datetime in air reserve\n",
        "len(air_reserve_df.visit_datetime)"
      ]
    },
    {
      "cell_type": "code",
      "execution_count": null,
      "id": "a254a40e",
      "metadata": {
        "execution": {
          "iopub.execute_input": "2023-01-02T07:24:50.604656Z",
          "iopub.status.busy": "2023-01-02T07:24:50.604222Z",
          "iopub.status.idle": "2023-01-02T07:24:50.619548Z",
          "shell.execute_reply": "2023-01-02T07:24:50.618332Z"
        },
        "papermill": {
          "duration": 0.044643,
          "end_time": "2023-01-02T07:24:50.622511",
          "exception": false,
          "start_time": "2023-01-02T07:24:50.577868",
          "status": "completed"
        },
        "tags": [],
        "id": "a254a40e",
        "outputId": "96d8d358-4615-4857-81c4-4ae2df112c83"
      },
      "outputs": [
        {
          "data": {
            "text/html": [
              "<div>\n",
              "<style scoped>\n",
              "    .dataframe tbody tr th:only-of-type {\n",
              "        vertical-align: middle;\n",
              "    }\n",
              "\n",
              "    .dataframe tbody tr th {\n",
              "        vertical-align: top;\n",
              "    }\n",
              "\n",
              "    .dataframe thead th {\n",
              "        text-align: right;\n",
              "    }\n",
              "</style>\n",
              "<table border=\"1\" class=\"dataframe\">\n",
              "  <thead>\n",
              "    <tr style=\"text-align: right;\">\n",
              "      <th></th>\n",
              "      <th>air_store_id</th>\n",
              "      <th>visit_date</th>\n",
              "      <th>visitors</th>\n",
              "    </tr>\n",
              "  </thead>\n",
              "  <tbody>\n",
              "    <tr>\n",
              "      <th>0</th>\n",
              "      <td>air_ba937bf13d40fb24</td>\n",
              "      <td>2016-01-13</td>\n",
              "      <td>25</td>\n",
              "    </tr>\n",
              "    <tr>\n",
              "      <th>1</th>\n",
              "      <td>air_ba937bf13d40fb24</td>\n",
              "      <td>2016-01-14</td>\n",
              "      <td>32</td>\n",
              "    </tr>\n",
              "    <tr>\n",
              "      <th>2</th>\n",
              "      <td>air_ba937bf13d40fb24</td>\n",
              "      <td>2016-01-15</td>\n",
              "      <td>29</td>\n",
              "    </tr>\n",
              "    <tr>\n",
              "      <th>3</th>\n",
              "      <td>air_ba937bf13d40fb24</td>\n",
              "      <td>2016-01-16</td>\n",
              "      <td>22</td>\n",
              "    </tr>\n",
              "    <tr>\n",
              "      <th>4</th>\n",
              "      <td>air_ba937bf13d40fb24</td>\n",
              "      <td>2016-01-18</td>\n",
              "      <td>6</td>\n",
              "    </tr>\n",
              "    <tr>\n",
              "      <th>...</th>\n",
              "      <td>...</td>\n",
              "      <td>...</td>\n",
              "      <td>...</td>\n",
              "    </tr>\n",
              "    <tr>\n",
              "      <th>252103</th>\n",
              "      <td>air_24e8414b9b07decb</td>\n",
              "      <td>2017-04-18</td>\n",
              "      <td>6</td>\n",
              "    </tr>\n",
              "    <tr>\n",
              "      <th>252104</th>\n",
              "      <td>air_24e8414b9b07decb</td>\n",
              "      <td>2017-04-19</td>\n",
              "      <td>6</td>\n",
              "    </tr>\n",
              "    <tr>\n",
              "      <th>252105</th>\n",
              "      <td>air_24e8414b9b07decb</td>\n",
              "      <td>2017-04-20</td>\n",
              "      <td>7</td>\n",
              "    </tr>\n",
              "    <tr>\n",
              "      <th>252106</th>\n",
              "      <td>air_24e8414b9b07decb</td>\n",
              "      <td>2017-04-21</td>\n",
              "      <td>8</td>\n",
              "    </tr>\n",
              "    <tr>\n",
              "      <th>252107</th>\n",
              "      <td>air_24e8414b9b07decb</td>\n",
              "      <td>2017-04-22</td>\n",
              "      <td>5</td>\n",
              "    </tr>\n",
              "  </tbody>\n",
              "</table>\n",
              "<p>252108 rows × 3 columns</p>\n",
              "</div>"
            ],
            "text/plain": [
              "                air_store_id  visit_date  visitors\n",
              "0       air_ba937bf13d40fb24  2016-01-13        25\n",
              "1       air_ba937bf13d40fb24  2016-01-14        32\n",
              "2       air_ba937bf13d40fb24  2016-01-15        29\n",
              "3       air_ba937bf13d40fb24  2016-01-16        22\n",
              "4       air_ba937bf13d40fb24  2016-01-18         6\n",
              "...                      ...         ...       ...\n",
              "252103  air_24e8414b9b07decb  2017-04-18         6\n",
              "252104  air_24e8414b9b07decb  2017-04-19         6\n",
              "252105  air_24e8414b9b07decb  2017-04-20         7\n",
              "252106  air_24e8414b9b07decb  2017-04-21         8\n",
              "252107  air_24e8414b9b07decb  2017-04-22         5\n",
              "\n",
              "[252108 rows x 3 columns]"
            ]
          },
          "execution_count": 38,
          "metadata": {},
          "output_type": "execute_result"
        },
        {
          "name": "stdout",
          "output_type": "stream",
          "text": [
            "time: 10.7 ms (started: 2023-01-02 07:24:50 +00:00)\n"
          ]
        }
      ],
      "source": [
        "# let see the data of air_visit_data closely \n",
        "air_visit_data_df"
      ]
    },
    {
      "cell_type": "code",
      "execution_count": null,
      "id": "4731eb74",
      "metadata": {
        "execution": {
          "iopub.execute_input": "2023-01-02T07:24:50.674040Z",
          "iopub.status.busy": "2023-01-02T07:24:50.673640Z",
          "iopub.status.idle": "2023-01-02T07:24:50.689753Z",
          "shell.execute_reply": "2023-01-02T07:24:50.687878Z"
        },
        "papermill": {
          "duration": 0.045521,
          "end_time": "2023-01-02T07:24:50.692690",
          "exception": false,
          "start_time": "2023-01-02T07:24:50.647169",
          "status": "completed"
        },
        "tags": [],
        "id": "4731eb74",
        "outputId": "9be055ac-3947-407e-e69a-4cf7f3eccf69"
      },
      "outputs": [
        {
          "data": {
            "text/html": [
              "<div>\n",
              "<style scoped>\n",
              "    .dataframe tbody tr th:only-of-type {\n",
              "        vertical-align: middle;\n",
              "    }\n",
              "\n",
              "    .dataframe tbody tr th {\n",
              "        vertical-align: top;\n",
              "    }\n",
              "\n",
              "    .dataframe thead th {\n",
              "        text-align: right;\n",
              "    }\n",
              "</style>\n",
              "<table border=\"1\" class=\"dataframe\">\n",
              "  <thead>\n",
              "    <tr style=\"text-align: right;\">\n",
              "      <th></th>\n",
              "      <th>air_store_id</th>\n",
              "      <th>visit_datetime</th>\n",
              "      <th>reserve_datetime</th>\n",
              "      <th>reserve_visitors</th>\n",
              "    </tr>\n",
              "  </thead>\n",
              "  <tbody>\n",
              "    <tr>\n",
              "      <th>0</th>\n",
              "      <td>air_877f79706adbfb06</td>\n",
              "      <td>2016-01-01 19:00:00</td>\n",
              "      <td>2016-01-01 16:00:00</td>\n",
              "      <td>1</td>\n",
              "    </tr>\n",
              "    <tr>\n",
              "      <th>1</th>\n",
              "      <td>air_db4b38ebe7a7ceff</td>\n",
              "      <td>2016-01-01 19:00:00</td>\n",
              "      <td>2016-01-01 19:00:00</td>\n",
              "      <td>3</td>\n",
              "    </tr>\n",
              "    <tr>\n",
              "      <th>2</th>\n",
              "      <td>air_db4b38ebe7a7ceff</td>\n",
              "      <td>2016-01-01 19:00:00</td>\n",
              "      <td>2016-01-01 19:00:00</td>\n",
              "      <td>6</td>\n",
              "    </tr>\n",
              "    <tr>\n",
              "      <th>3</th>\n",
              "      <td>air_877f79706adbfb06</td>\n",
              "      <td>2016-01-01 20:00:00</td>\n",
              "      <td>2016-01-01 16:00:00</td>\n",
              "      <td>2</td>\n",
              "    </tr>\n",
              "    <tr>\n",
              "      <th>4</th>\n",
              "      <td>air_db80363d35f10926</td>\n",
              "      <td>2016-01-01 20:00:00</td>\n",
              "      <td>2016-01-01 01:00:00</td>\n",
              "      <td>5</td>\n",
              "    </tr>\n",
              "    <tr>\n",
              "      <th>...</th>\n",
              "      <td>...</td>\n",
              "      <td>...</td>\n",
              "      <td>...</td>\n",
              "      <td>...</td>\n",
              "    </tr>\n",
              "    <tr>\n",
              "      <th>92373</th>\n",
              "      <td>air_db4b38ebe7a7ceff</td>\n",
              "      <td>2017-05-29 18:00:00</td>\n",
              "      <td>2017-04-17 19:00:00</td>\n",
              "      <td>6</td>\n",
              "    </tr>\n",
              "    <tr>\n",
              "      <th>92374</th>\n",
              "      <td>air_1033310359ceeac1</td>\n",
              "      <td>2017-05-30 23:00:00</td>\n",
              "      <td>2017-04-19 17:00:00</td>\n",
              "      <td>8</td>\n",
              "    </tr>\n",
              "    <tr>\n",
              "      <th>92375</th>\n",
              "      <td>air_877f79706adbfb06</td>\n",
              "      <td>2017-05-31 20:00:00</td>\n",
              "      <td>2017-04-12 23:00:00</td>\n",
              "      <td>3</td>\n",
              "    </tr>\n",
              "    <tr>\n",
              "      <th>92376</th>\n",
              "      <td>air_900d755ebd2f7bbd</td>\n",
              "      <td>2017-05-31 20:00:00</td>\n",
              "      <td>2017-04-19 16:00:00</td>\n",
              "      <td>10</td>\n",
              "    </tr>\n",
              "    <tr>\n",
              "      <th>92377</th>\n",
              "      <td>air_3cad29d1a23209d2</td>\n",
              "      <td>2017-05-31 21:00:00</td>\n",
              "      <td>2017-04-22 10:00:00</td>\n",
              "      <td>3</td>\n",
              "    </tr>\n",
              "  </tbody>\n",
              "</table>\n",
              "<p>92378 rows × 4 columns</p>\n",
              "</div>"
            ],
            "text/plain": [
              "               air_store_id       visit_datetime     reserve_datetime  \\\n",
              "0      air_877f79706adbfb06  2016-01-01 19:00:00  2016-01-01 16:00:00   \n",
              "1      air_db4b38ebe7a7ceff  2016-01-01 19:00:00  2016-01-01 19:00:00   \n",
              "2      air_db4b38ebe7a7ceff  2016-01-01 19:00:00  2016-01-01 19:00:00   \n",
              "3      air_877f79706adbfb06  2016-01-01 20:00:00  2016-01-01 16:00:00   \n",
              "4      air_db80363d35f10926  2016-01-01 20:00:00  2016-01-01 01:00:00   \n",
              "...                     ...                  ...                  ...   \n",
              "92373  air_db4b38ebe7a7ceff  2017-05-29 18:00:00  2017-04-17 19:00:00   \n",
              "92374  air_1033310359ceeac1  2017-05-30 23:00:00  2017-04-19 17:00:00   \n",
              "92375  air_877f79706adbfb06  2017-05-31 20:00:00  2017-04-12 23:00:00   \n",
              "92376  air_900d755ebd2f7bbd  2017-05-31 20:00:00  2017-04-19 16:00:00   \n",
              "92377  air_3cad29d1a23209d2  2017-05-31 21:00:00  2017-04-22 10:00:00   \n",
              "\n",
              "       reserve_visitors  \n",
              "0                     1  \n",
              "1                     3  \n",
              "2                     6  \n",
              "3                     2  \n",
              "4                     5  \n",
              "...                 ...  \n",
              "92373                 6  \n",
              "92374                 8  \n",
              "92375                 3  \n",
              "92376                10  \n",
              "92377                 3  \n",
              "\n",
              "[92378 rows x 4 columns]"
            ]
          },
          "execution_count": 39,
          "metadata": {},
          "output_type": "execute_result"
        },
        {
          "name": "stdout",
          "output_type": "stream",
          "text": [
            "time: 10.7 ms (started: 2023-01-02 07:24:50 +00:00)\n"
          ]
        }
      ],
      "source": [
        "# let see the ari_reseve closely \n",
        "air_reserve_df"
      ]
    },
    {
      "cell_type": "code",
      "execution_count": null,
      "id": "f6bbf18b",
      "metadata": {
        "execution": {
          "iopub.execute_input": "2023-01-02T07:24:50.744889Z",
          "iopub.status.busy": "2023-01-02T07:24:50.744486Z",
          "iopub.status.idle": "2023-01-02T07:24:50.814632Z",
          "shell.execute_reply": "2023-01-02T07:24:50.813322Z"
        },
        "papermill": {
          "duration": 0.099332,
          "end_time": "2023-01-02T07:24:50.817550",
          "exception": false,
          "start_time": "2023-01-02T07:24:50.718218",
          "status": "completed"
        },
        "tags": [],
        "id": "f6bbf18b",
        "outputId": "d91ab83a-8a23-40c3-f04f-812046ab3787"
      },
      "outputs": [
        {
          "data": {
            "text/html": [
              "<div>\n",
              "<style scoped>\n",
              "    .dataframe tbody tr th:only-of-type {\n",
              "        vertical-align: middle;\n",
              "    }\n",
              "\n",
              "    .dataframe tbody tr th {\n",
              "        vertical-align: top;\n",
              "    }\n",
              "\n",
              "    .dataframe thead th {\n",
              "        text-align: right;\n",
              "    }\n",
              "</style>\n",
              "<table border=\"1\" class=\"dataframe\">\n",
              "  <thead>\n",
              "    <tr style=\"text-align: right;\">\n",
              "      <th></th>\n",
              "      <th>air_store_id</th>\n",
              "      <th>visit_datetime</th>\n",
              "      <th>reserve_datetime</th>\n",
              "      <th>reserve_visitors</th>\n",
              "    </tr>\n",
              "  </thead>\n",
              "  <tbody>\n",
              "    <tr>\n",
              "      <th>681</th>\n",
              "      <td>air_326ca454ef3558bc</td>\n",
              "      <td>2016-01-14 11:00:00</td>\n",
              "      <td>2016-01-14 11:00:00</td>\n",
              "      <td>24</td>\n",
              "    </tr>\n",
              "    <tr>\n",
              "      <th>682</th>\n",
              "      <td>air_2d3afcb91762fe01</td>\n",
              "      <td>2016-01-14 13:00:00</td>\n",
              "      <td>2016-01-13 13:00:00</td>\n",
              "      <td>7</td>\n",
              "    </tr>\n",
              "    <tr>\n",
              "      <th>683</th>\n",
              "      <td>air_2d3afcb91762fe01</td>\n",
              "      <td>2016-01-14 14:00:00</td>\n",
              "      <td>2016-01-14 14:00:00</td>\n",
              "      <td>3</td>\n",
              "    </tr>\n",
              "    <tr>\n",
              "      <th>684</th>\n",
              "      <td>air_03963426c9312048</td>\n",
              "      <td>2016-01-14 17:00:00</td>\n",
              "      <td>2016-01-06 15:00:00</td>\n",
              "      <td>17</td>\n",
              "    </tr>\n",
              "    <tr>\n",
              "      <th>685</th>\n",
              "      <td>air_24b9b2a020826ede</td>\n",
              "      <td>2016-01-14 17:00:00</td>\n",
              "      <td>2016-01-10 14:00:00</td>\n",
              "      <td>3</td>\n",
              "    </tr>\n",
              "    <tr>\n",
              "      <th>...</th>\n",
              "      <td>...</td>\n",
              "      <td>...</td>\n",
              "      <td>...</td>\n",
              "      <td>...</td>\n",
              "    </tr>\n",
              "    <tr>\n",
              "      <th>740</th>\n",
              "      <td>air_877f79706adbfb06</td>\n",
              "      <td>2016-01-14 21:00:00</td>\n",
              "      <td>2016-01-12 12:00:00</td>\n",
              "      <td>4</td>\n",
              "    </tr>\n",
              "    <tr>\n",
              "      <th>741</th>\n",
              "      <td>air_877f79706adbfb06</td>\n",
              "      <td>2016-01-14 21:00:00</td>\n",
              "      <td>2016-01-12 12:00:00</td>\n",
              "      <td>2</td>\n",
              "    </tr>\n",
              "    <tr>\n",
              "      <th>742</th>\n",
              "      <td>air_db80363d35f10926</td>\n",
              "      <td>2016-01-14 21:00:00</td>\n",
              "      <td>2016-01-12 19:00:00</td>\n",
              "      <td>3</td>\n",
              "    </tr>\n",
              "    <tr>\n",
              "      <th>743</th>\n",
              "      <td>air_6b9fa44a9cf504a1</td>\n",
              "      <td>2016-01-14 22:00:00</td>\n",
              "      <td>2016-01-14 22:00:00</td>\n",
              "      <td>3</td>\n",
              "    </tr>\n",
              "    <tr>\n",
              "      <th>744</th>\n",
              "      <td>air_6b9fa44a9cf504a1</td>\n",
              "      <td>2016-01-14 23:00:00</td>\n",
              "      <td>2016-01-14 23:00:00</td>\n",
              "      <td>2</td>\n",
              "    </tr>\n",
              "  </tbody>\n",
              "</table>\n",
              "<p>64 rows × 4 columns</p>\n",
              "</div>"
            ],
            "text/plain": [
              "             air_store_id       visit_datetime     reserve_datetime  \\\n",
              "681  air_326ca454ef3558bc  2016-01-14 11:00:00  2016-01-14 11:00:00   \n",
              "682  air_2d3afcb91762fe01  2016-01-14 13:00:00  2016-01-13 13:00:00   \n",
              "683  air_2d3afcb91762fe01  2016-01-14 14:00:00  2016-01-14 14:00:00   \n",
              "684  air_03963426c9312048  2016-01-14 17:00:00  2016-01-06 15:00:00   \n",
              "685  air_24b9b2a020826ede  2016-01-14 17:00:00  2016-01-10 14:00:00   \n",
              "..                    ...                  ...                  ...   \n",
              "740  air_877f79706adbfb06  2016-01-14 21:00:00  2016-01-12 12:00:00   \n",
              "741  air_877f79706adbfb06  2016-01-14 21:00:00  2016-01-12 12:00:00   \n",
              "742  air_db80363d35f10926  2016-01-14 21:00:00  2016-01-12 19:00:00   \n",
              "743  air_6b9fa44a9cf504a1  2016-01-14 22:00:00  2016-01-14 22:00:00   \n",
              "744  air_6b9fa44a9cf504a1  2016-01-14 23:00:00  2016-01-14 23:00:00   \n",
              "\n",
              "     reserve_visitors  \n",
              "681                24  \n",
              "682                 7  \n",
              "683                 3  \n",
              "684                17  \n",
              "685                 3  \n",
              "..                ...  \n",
              "740                 4  \n",
              "741                 2  \n",
              "742                 3  \n",
              "743                 3  \n",
              "744                 2  \n",
              "\n",
              "[64 rows x 4 columns]"
            ]
          },
          "execution_count": 40,
          "metadata": {},
          "output_type": "execute_result"
        },
        {
          "name": "stdout",
          "output_type": "stream",
          "text": [
            "time: 65 ms (started: 2023-01-02 07:24:50 +00:00)\n"
          ]
        }
      ],
      "source": [
        "# let the take the first result of the air_visit_data \n",
        "# step 2 find the entries related to the date in the air_reserve_data\n",
        "dummy_date = air_visit_data_df.visit_date[1]\n",
        "air_reserve_df.loc[air_reserve_df.visit_datetime == dummy_date]\n",
        "# this expression does not represent the idea which I want\n",
        "# let's refine the way of expression\n",
        "# find a way of expression using chatgpt\n",
        "air_reserve_df.loc[air_reserve_df.visit_datetime.str.contains(dummy_date)]"
      ]
    },
    {
      "cell_type": "raw",
      "id": "7c72dbc3",
      "metadata": {
        "papermill": {
          "duration": 0.024921,
          "end_time": "2023-01-02T07:24:50.868076",
          "exception": false,
          "start_time": "2023-01-02T07:24:50.843155",
          "status": "completed"
        },
        "tags": [],
        "id": "7c72dbc3"
      },
      "source": []
    },
    {
      "cell_type": "code",
      "execution_count": null,
      "id": "49fc5125",
      "metadata": {
        "execution": {
          "iopub.execute_input": "2023-01-02T07:24:50.923471Z",
          "iopub.status.busy": "2023-01-02T07:24:50.922131Z",
          "iopub.status.idle": "2023-01-02T07:24:50.976873Z",
          "shell.execute_reply": "2023-01-02T07:24:50.975650Z"
        },
        "papermill": {
          "duration": 0.084837,
          "end_time": "2023-01-02T07:24:50.979306",
          "exception": false,
          "start_time": "2023-01-02T07:24:50.894469",
          "status": "completed"
        },
        "tags": [],
        "id": "49fc5125",
        "outputId": "e303e9cc-52b7-4c00-b8fe-cd48f7068730"
      },
      "outputs": [
        {
          "data": {
            "text/html": [
              "<div>\n",
              "<style scoped>\n",
              "    .dataframe tbody tr th:only-of-type {\n",
              "        vertical-align: middle;\n",
              "    }\n",
              "\n",
              "    .dataframe tbody tr th {\n",
              "        vertical-align: top;\n",
              "    }\n",
              "\n",
              "    .dataframe thead th {\n",
              "        text-align: right;\n",
              "    }\n",
              "</style>\n",
              "<table border=\"1\" class=\"dataframe\">\n",
              "  <thead>\n",
              "    <tr style=\"text-align: right;\">\n",
              "      <th></th>\n",
              "      <th>air_store_id</th>\n",
              "      <th>visit_datetime</th>\n",
              "      <th>reserve_datetime</th>\n",
              "      <th>reserve_visitors</th>\n",
              "    </tr>\n",
              "  </thead>\n",
              "  <tbody>\n",
              "    <tr>\n",
              "      <th>681</th>\n",
              "      <td>air_326ca454ef3558bc</td>\n",
              "      <td>2016-01-14 11:00:00</td>\n",
              "      <td>2016-01-14 11:00:00</td>\n",
              "      <td>24</td>\n",
              "    </tr>\n",
              "    <tr>\n",
              "      <th>682</th>\n",
              "      <td>air_2d3afcb91762fe01</td>\n",
              "      <td>2016-01-14 13:00:00</td>\n",
              "      <td>2016-01-13 13:00:00</td>\n",
              "      <td>7</td>\n",
              "    </tr>\n",
              "    <tr>\n",
              "      <th>683</th>\n",
              "      <td>air_2d3afcb91762fe01</td>\n",
              "      <td>2016-01-14 14:00:00</td>\n",
              "      <td>2016-01-14 14:00:00</td>\n",
              "      <td>3</td>\n",
              "    </tr>\n",
              "    <tr>\n",
              "      <th>684</th>\n",
              "      <td>air_03963426c9312048</td>\n",
              "      <td>2016-01-14 17:00:00</td>\n",
              "      <td>2016-01-06 15:00:00</td>\n",
              "      <td>17</td>\n",
              "    </tr>\n",
              "    <tr>\n",
              "      <th>685</th>\n",
              "      <td>air_24b9b2a020826ede</td>\n",
              "      <td>2016-01-14 17:00:00</td>\n",
              "      <td>2016-01-10 14:00:00</td>\n",
              "      <td>3</td>\n",
              "    </tr>\n",
              "    <tr>\n",
              "      <th>...</th>\n",
              "      <td>...</td>\n",
              "      <td>...</td>\n",
              "      <td>...</td>\n",
              "      <td>...</td>\n",
              "    </tr>\n",
              "    <tr>\n",
              "      <th>740</th>\n",
              "      <td>air_877f79706adbfb06</td>\n",
              "      <td>2016-01-14 21:00:00</td>\n",
              "      <td>2016-01-12 12:00:00</td>\n",
              "      <td>4</td>\n",
              "    </tr>\n",
              "    <tr>\n",
              "      <th>741</th>\n",
              "      <td>air_877f79706adbfb06</td>\n",
              "      <td>2016-01-14 21:00:00</td>\n",
              "      <td>2016-01-12 12:00:00</td>\n",
              "      <td>2</td>\n",
              "    </tr>\n",
              "    <tr>\n",
              "      <th>742</th>\n",
              "      <td>air_db80363d35f10926</td>\n",
              "      <td>2016-01-14 21:00:00</td>\n",
              "      <td>2016-01-12 19:00:00</td>\n",
              "      <td>3</td>\n",
              "    </tr>\n",
              "    <tr>\n",
              "      <th>743</th>\n",
              "      <td>air_6b9fa44a9cf504a1</td>\n",
              "      <td>2016-01-14 22:00:00</td>\n",
              "      <td>2016-01-14 22:00:00</td>\n",
              "      <td>3</td>\n",
              "    </tr>\n",
              "    <tr>\n",
              "      <th>744</th>\n",
              "      <td>air_6b9fa44a9cf504a1</td>\n",
              "      <td>2016-01-14 23:00:00</td>\n",
              "      <td>2016-01-14 23:00:00</td>\n",
              "      <td>2</td>\n",
              "    </tr>\n",
              "  </tbody>\n",
              "</table>\n",
              "<p>64 rows × 4 columns</p>\n",
              "</div>"
            ],
            "text/plain": [
              "             air_store_id       visit_datetime     reserve_datetime  \\\n",
              "681  air_326ca454ef3558bc  2016-01-14 11:00:00  2016-01-14 11:00:00   \n",
              "682  air_2d3afcb91762fe01  2016-01-14 13:00:00  2016-01-13 13:00:00   \n",
              "683  air_2d3afcb91762fe01  2016-01-14 14:00:00  2016-01-14 14:00:00   \n",
              "684  air_03963426c9312048  2016-01-14 17:00:00  2016-01-06 15:00:00   \n",
              "685  air_24b9b2a020826ede  2016-01-14 17:00:00  2016-01-10 14:00:00   \n",
              "..                    ...                  ...                  ...   \n",
              "740  air_877f79706adbfb06  2016-01-14 21:00:00  2016-01-12 12:00:00   \n",
              "741  air_877f79706adbfb06  2016-01-14 21:00:00  2016-01-12 12:00:00   \n",
              "742  air_db80363d35f10926  2016-01-14 21:00:00  2016-01-12 19:00:00   \n",
              "743  air_6b9fa44a9cf504a1  2016-01-14 22:00:00  2016-01-14 22:00:00   \n",
              "744  air_6b9fa44a9cf504a1  2016-01-14 23:00:00  2016-01-14 23:00:00   \n",
              "\n",
              "     reserve_visitors  \n",
              "681                24  \n",
              "682                 7  \n",
              "683                 3  \n",
              "684                17  \n",
              "685                 3  \n",
              "..                ...  \n",
              "740                 4  \n",
              "741                 2  \n",
              "742                 3  \n",
              "743                 3  \n",
              "744                 2  \n",
              "\n",
              "[64 rows x 4 columns]"
            ]
          },
          "execution_count": 41,
          "metadata": {},
          "output_type": "execute_result"
        },
        {
          "name": "stdout",
          "output_type": "stream",
          "text": [
            "time: 48.3 ms (started: 2023-01-02 07:24:50 +00:00)\n"
          ]
        }
      ],
      "source": [
        "air_dummy_date_df = air_reserve_df.loc[air_reserve_df.visit_datetime.str.contains(dummy_date)]\n",
        "air_dummy_date_df"
      ]
    },
    {
      "cell_type": "markdown",
      "id": "10f1d3da",
      "metadata": {
        "papermill": {
          "duration": 0.025402,
          "end_time": "2023-01-02T07:24:51.031321",
          "exception": false,
          "start_time": "2023-01-02T07:24:51.005919",
          "status": "completed"
        },
        "tags": [],
        "id": "10f1d3da"
      },
      "source": [
        "### what is the sum of visitors in air_reserve for dummy_date"
      ]
    },
    {
      "cell_type": "code",
      "execution_count": null,
      "id": "03dce7d9",
      "metadata": {
        "execution": {
          "iopub.execute_input": "2023-01-02T07:24:51.083989Z",
          "iopub.status.busy": "2023-01-02T07:24:51.083593Z",
          "iopub.status.idle": "2023-01-02T07:24:51.092559Z",
          "shell.execute_reply": "2023-01-02T07:24:51.091208Z"
        },
        "papermill": {
          "duration": 0.0382,
          "end_time": "2023-01-02T07:24:51.094970",
          "exception": false,
          "start_time": "2023-01-02T07:24:51.056770",
          "status": "completed"
        },
        "tags": [],
        "id": "03dce7d9",
        "outputId": "90581a39-c9ed-422a-8898-28ad31fc63fb"
      },
      "outputs": [
        {
          "data": {
            "text/plain": [
              "278"
            ]
          },
          "execution_count": 42,
          "metadata": {},
          "output_type": "execute_result"
        },
        {
          "name": "stdout",
          "output_type": "stream",
          "text": [
            "time: 3.96 ms (started: 2023-01-02 07:24:51 +00:00)\n"
          ]
        }
      ],
      "source": [
        "dummy_date_sum_air_reserve = air_dummy_date_df.reserve_visitors.sum()\n",
        "dummy_date_sum_air_reserve"
      ]
    },
    {
      "cell_type": "code",
      "execution_count": null,
      "id": "924bb879",
      "metadata": {
        "papermill": {
          "duration": 0.025209,
          "end_time": "2023-01-02T07:24:51.146056",
          "exception": false,
          "start_time": "2023-01-02T07:24:51.120847",
          "status": "completed"
        },
        "tags": [],
        "id": "924bb879"
      },
      "outputs": [],
      "source": []
    },
    {
      "cell_type": "code",
      "execution_count": null,
      "id": "9eb8a1e8",
      "metadata": {
        "papermill": {
          "duration": 0.025201,
          "end_time": "2023-01-02T07:24:51.196802",
          "exception": false,
          "start_time": "2023-01-02T07:24:51.171601",
          "status": "completed"
        },
        "tags": [],
        "id": "9eb8a1e8"
      },
      "outputs": [],
      "source": []
    },
    {
      "cell_type": "markdown",
      "id": "8f170215",
      "metadata": {
        "papermill": {
          "duration": 0.025012,
          "end_time": "2023-01-02T07:24:51.247441",
          "exception": false,
          "start_time": "2023-01-02T07:24:51.222429",
          "status": "completed"
        },
        "tags": [],
        "id": "8f170215"
      },
      "source": [
        "### how many visitors are there in air_visit_data for particular date (let's say dummy date date of visit_data i.e, 2016-01-14 (it's just for example))\n",
        "air_visit_data_df \n",
        "so ultimate and *clear question* is : how many visitor visited on the particular date on particular restaurent  according to air_visit_data_df\n",
        "and then according to air_reserve_df \n",
        "how many visitors are there for that same restaurant and same date "
      ]
    },
    {
      "cell_type": "code",
      "execution_count": null,
      "id": "ba664088",
      "metadata": {
        "execution": {
          "iopub.execute_input": "2023-01-02T07:24:51.300967Z",
          "iopub.status.busy": "2023-01-02T07:24:51.300569Z",
          "iopub.status.idle": "2023-01-02T07:24:51.306267Z",
          "shell.execute_reply": "2023-01-02T07:24:51.305055Z"
        },
        "papermill": {
          "duration": 0.035278,
          "end_time": "2023-01-02T07:24:51.308731",
          "exception": false,
          "start_time": "2023-01-02T07:24:51.273453",
          "status": "completed"
        },
        "tags": [],
        "id": "ba664088",
        "outputId": "df0ec3c0-637e-400d-cb06-25be0e35e1f0"
      },
      "outputs": [
        {
          "name": "stdout",
          "output_type": "stream",
          "text": [
            "time: 400 µs (started: 2023-01-02 07:24:51 +00:00)\n"
          ]
        }
      ],
      "source": [
        "# point to improve \n",
        "##         - asking clear question ( clear thinking )\n",
        "##         - speech to text input for the comments in the cell\n",
        "\n"
      ]
    },
    {
      "cell_type": "code",
      "execution_count": null,
      "id": "5db6cf89",
      "metadata": {
        "execution": {
          "iopub.execute_input": "2023-01-02T07:24:51.364433Z",
          "iopub.status.busy": "2023-01-02T07:24:51.363086Z",
          "iopub.status.idle": "2023-01-02T07:24:51.500323Z",
          "shell.execute_reply": "2023-01-02T07:24:51.498936Z"
        },
        "papermill": {
          "duration": 0.168059,
          "end_time": "2023-01-02T07:24:51.503418",
          "exception": false,
          "start_time": "2023-01-02T07:24:51.335359",
          "status": "completed"
        },
        "tags": [],
        "id": "5db6cf89",
        "outputId": "cd3e3c8b-d49e-460e-bbd0-d75edfe6c17c"
      },
      "outputs": [
        {
          "name": "stdout",
          "output_type": "stream",
          "text": [
            "dummy_date : 2016-01-14\n",
            "\n"
          ]
        },
        {
          "data": {
            "text/html": [
              "<div>\n",
              "<style scoped>\n",
              "    .dataframe tbody tr th:only-of-type {\n",
              "        vertical-align: middle;\n",
              "    }\n",
              "\n",
              "    .dataframe tbody tr th {\n",
              "        vertical-align: top;\n",
              "    }\n",
              "\n",
              "    .dataframe thead th {\n",
              "        text-align: right;\n",
              "    }\n",
              "</style>\n",
              "<table border=\"1\" class=\"dataframe\">\n",
              "  <thead>\n",
              "    <tr style=\"text-align: right;\">\n",
              "      <th></th>\n",
              "      <th>air_store_id</th>\n",
              "      <th>visit_date</th>\n",
              "      <th>visitors</th>\n",
              "    </tr>\n",
              "  </thead>\n",
              "  <tbody>\n",
              "    <tr>\n",
              "      <th>1</th>\n",
              "      <td>air_ba937bf13d40fb24</td>\n",
              "      <td>2016-01-14</td>\n",
              "      <td>32</td>\n",
              "    </tr>\n",
              "    <tr>\n",
              "      <th>399</th>\n",
              "      <td>air_25e9888d30b386df</td>\n",
              "      <td>2016-01-14</td>\n",
              "      <td>8</td>\n",
              "    </tr>\n",
              "    <tr>\n",
              "      <th>1726</th>\n",
              "      <td>air_fd6aac1043520e83</td>\n",
              "      <td>2016-01-14</td>\n",
              "      <td>36</td>\n",
              "    </tr>\n",
              "    <tr>\n",
              "      <th>2106</th>\n",
              "      <td>air_64d4491ad8cdb1c6</td>\n",
              "      <td>2016-01-14</td>\n",
              "      <td>21</td>\n",
              "    </tr>\n",
              "    <tr>\n",
              "      <th>4140</th>\n",
              "      <td>air_9438d67241c81314</td>\n",
              "      <td>2016-01-14</td>\n",
              "      <td>24</td>\n",
              "    </tr>\n",
              "    <tr>\n",
              "      <th>...</th>\n",
              "      <td>...</td>\n",
              "      <td>...</td>\n",
              "      <td>...</td>\n",
              "    </tr>\n",
              "    <tr>\n",
              "      <th>245744</th>\n",
              "      <td>air_f068442ebb6c246c</td>\n",
              "      <td>2016-01-14</td>\n",
              "      <td>2</td>\n",
              "    </tr>\n",
              "    <tr>\n",
              "      <th>246439</th>\n",
              "      <td>air_506fe758114df773</td>\n",
              "      <td>2016-01-14</td>\n",
              "      <td>14</td>\n",
              "    </tr>\n",
              "    <tr>\n",
              "      <th>247603</th>\n",
              "      <td>air_0e1eae99b8723bc1</td>\n",
              "      <td>2016-01-14</td>\n",
              "      <td>8</td>\n",
              "    </tr>\n",
              "    <tr>\n",
              "      <th>249067</th>\n",
              "      <td>air_e9ebf7fc520ac76a</td>\n",
              "      <td>2016-01-14</td>\n",
              "      <td>76</td>\n",
              "    </tr>\n",
              "    <tr>\n",
              "      <th>249479</th>\n",
              "      <td>air_7bc6ca04d7b0f3b8</td>\n",
              "      <td>2016-01-14</td>\n",
              "      <td>26</td>\n",
              "    </tr>\n",
              "  </tbody>\n",
              "</table>\n",
              "<p>274 rows × 3 columns</p>\n",
              "</div>"
            ],
            "text/plain": [
              "                air_store_id  visit_date  visitors\n",
              "1       air_ba937bf13d40fb24  2016-01-14        32\n",
              "399     air_25e9888d30b386df  2016-01-14         8\n",
              "1726    air_fd6aac1043520e83  2016-01-14        36\n",
              "2106    air_64d4491ad8cdb1c6  2016-01-14        21\n",
              "4140    air_9438d67241c81314  2016-01-14        24\n",
              "...                      ...         ...       ...\n",
              "245744  air_f068442ebb6c246c  2016-01-14         2\n",
              "246439  air_506fe758114df773  2016-01-14        14\n",
              "247603  air_0e1eae99b8723bc1  2016-01-14         8\n",
              "249067  air_e9ebf7fc520ac76a  2016-01-14        76\n",
              "249479  air_7bc6ca04d7b0f3b8  2016-01-14        26\n",
              "\n",
              "[274 rows x 3 columns]"
            ]
          },
          "execution_count": 44,
          "metadata": {},
          "output_type": "execute_result"
        },
        {
          "name": "stdout",
          "output_type": "stream",
          "text": [
            "time: 130 ms (started: 2023-01-02 07:24:51 +00:00)\n"
          ]
        }
      ],
      "source": [
        "print(f'dummy_date : {dummy_date}\\n')\n",
        "\n",
        "# points to improve \n",
        "##    - EDA should be for all the DataFrame with Data Visualization\n",
        "\n",
        "# let's find out of all the restaurant recorded on the dummy_date in the air_visit_data_df\n",
        "\n",
        "dummy_date_restaurants_df = air_visit_data_df.loc[air_visit_data_df.visit_date.str.contains(dummy_date)]\n",
        "dummy_date_restaurants_df"
      ]
    },
    {
      "cell_type": "code",
      "execution_count": null,
      "id": "95d60a40",
      "metadata": {
        "papermill": {
          "duration": 0.025709,
          "end_time": "2023-01-02T07:24:51.555693",
          "exception": false,
          "start_time": "2023-01-02T07:24:51.529984",
          "status": "completed"
        },
        "tags": [],
        "id": "95d60a40"
      },
      "outputs": [],
      "source": []
    },
    {
      "cell_type": "code",
      "execution_count": null,
      "id": "dd09ab49",
      "metadata": {
        "execution": {
          "iopub.execute_input": "2023-01-02T07:24:51.610169Z",
          "iopub.status.busy": "2023-01-02T07:24:51.609763Z",
          "iopub.status.idle": "2023-01-02T07:24:51.614925Z",
          "shell.execute_reply": "2023-01-02T07:24:51.613689Z"
        },
        "papermill": {
          "duration": 0.03558,
          "end_time": "2023-01-02T07:24:51.617723",
          "exception": false,
          "start_time": "2023-01-02T07:24:51.582143",
          "status": "completed"
        },
        "tags": [],
        "id": "dd09ab49",
        "outputId": "886b5645-fa82-4b4b-f2fd-768d4c456d27"
      },
      "outputs": [
        {
          "name": "stdout",
          "output_type": "stream",
          "text": [
            "time: 355 µs (started: 2023-01-02 07:24:51 +00:00)\n"
          ]
        }
      ],
      "source": [
        "# results \n",
        "##       - 274 restaurants \n",
        "##       - on 2016-01-14\n"
      ]
    },
    {
      "cell_type": "markdown",
      "id": "fe44ebf7",
      "metadata": {
        "papermill": {
          "duration": 0.027548,
          "end_time": "2023-01-02T07:24:51.671432",
          "exception": false,
          "start_time": "2023-01-02T07:24:51.643884",
          "status": "completed"
        },
        "tags": [],
        "id": "fe44ebf7"
      },
      "source": [
        "### what is sum of the all the visitors for dummy_date? "
      ]
    },
    {
      "cell_type": "code",
      "execution_count": null,
      "id": "ac49c21c",
      "metadata": {
        "execution": {
          "iopub.execute_input": "2023-01-02T07:24:51.726980Z",
          "iopub.status.busy": "2023-01-02T07:24:51.726592Z",
          "iopub.status.idle": "2023-01-02T07:24:51.734703Z",
          "shell.execute_reply": "2023-01-02T07:24:51.733453Z"
        },
        "papermill": {
          "duration": 0.039895,
          "end_time": "2023-01-02T07:24:51.737874",
          "exception": false,
          "start_time": "2023-01-02T07:24:51.697979",
          "status": "completed"
        },
        "tags": [],
        "id": "ac49c21c",
        "outputId": "594738d3-0ec4-4075-9b14-07e7f344b18a"
      },
      "outputs": [
        {
          "data": {
            "text/plain": [
              "5269"
            ]
          },
          "execution_count": 46,
          "metadata": {},
          "output_type": "execute_result"
        },
        {
          "name": "stdout",
          "output_type": "stream",
          "text": [
            "time: 3.51 ms (started: 2023-01-02 07:24:51 +00:00)\n"
          ]
        }
      ],
      "source": [
        "dummy_date_sum_air_visit = dummy_date_restaurants_df.visitors.sum()\n",
        "dummy_date_sum_air_visit\n"
      ]
    },
    {
      "cell_type": "markdown",
      "id": "a32c3da9",
      "metadata": {
        "papermill": {
          "duration": 0.026672,
          "end_time": "2023-01-02T07:24:51.792085",
          "exception": false,
          "start_time": "2023-01-02T07:24:51.765413",
          "status": "completed"
        },
        "tags": [],
        "id": "a32c3da9"
      },
      "source": [
        "### what is the sum of all the visitors for in air_reserve and air_visit_data"
      ]
    },
    {
      "cell_type": "code",
      "execution_count": null,
      "id": "410846f3",
      "metadata": {
        "execution": {
          "iopub.execute_input": "2023-01-02T07:24:51.847571Z",
          "iopub.status.busy": "2023-01-02T07:24:51.847124Z",
          "iopub.status.idle": "2023-01-02T07:24:51.853306Z",
          "shell.execute_reply": "2023-01-02T07:24:51.851784Z"
        },
        "papermill": {
          "duration": 0.037505,
          "end_time": "2023-01-02T07:24:51.856013",
          "exception": false,
          "start_time": "2023-01-02T07:24:51.818508",
          "status": "completed"
        },
        "tags": [],
        "id": "410846f3",
        "outputId": "97e34cda-3fdc-4c03-d9b7-8e0d7e558bd8"
      },
      "outputs": [
        {
          "name": "stdout",
          "output_type": "stream",
          "text": [
            "time: 393 µs (started: 2023-01-02 07:24:51 +00:00)\n"
          ]
        }
      ],
      "source": [
        "# points to improve\n",
        "## learn all the techniques of the markdown \n"
      ]
    },
    {
      "cell_type": "code",
      "execution_count": null,
      "id": "ae44ca2c",
      "metadata": {
        "execution": {
          "iopub.execute_input": "2023-01-02T07:24:51.916696Z",
          "iopub.status.busy": "2023-01-02T07:24:51.916177Z",
          "iopub.status.idle": "2023-01-02T07:24:51.922539Z",
          "shell.execute_reply": "2023-01-02T07:24:51.921324Z"
        },
        "papermill": {
          "duration": 0.040098,
          "end_time": "2023-01-02T07:24:51.925131",
          "exception": false,
          "start_time": "2023-01-02T07:24:51.885033",
          "status": "completed"
        },
        "tags": [],
        "id": "ae44ca2c",
        "outputId": "fbc7ce77-c5a0-419b-aefa-bd4dbad3ec99"
      },
      "outputs": [
        {
          "name": "stdout",
          "output_type": "stream",
          "text": [
            "sum of all the visitor on dummy date in air_visit_data : 5269\n",
            "sum of all the visitor on dummy date in air_reserve : 278\n",
            "time: 794 µs (started: 2023-01-02 07:24:51 +00:00)\n"
          ]
        }
      ],
      "source": [
        "print(f'sum of all the visitor on dummy date in air_visit_data : {dummy_date_sum_air_visit}')\n",
        "print(f'sum of all the visitor on dummy date in air_reserve : {dummy_date_sum_air_reserve}')"
      ]
    },
    {
      "cell_type": "markdown",
      "id": "57c8bb79",
      "metadata": {
        "papermill": {
          "duration": 0.02684,
          "end_time": "2023-01-02T07:24:51.979529",
          "exception": false,
          "start_time": "2023-01-02T07:24:51.952689",
          "status": "completed"
        },
        "tags": [],
        "id": "57c8bb79"
      },
      "source": [
        "### What is there so much difference on air_reserve and air_visit_data on dummy_date? "
      ]
    },
    {
      "cell_type": "code",
      "execution_count": null,
      "id": "149f0f5c",
      "metadata": {
        "execution": {
          "iopub.execute_input": "2023-01-02T07:00:13.694866Z",
          "iopub.status.busy": "2023-01-02T07:00:13.694435Z",
          "iopub.status.idle": "2023-01-02T07:00:13.715515Z",
          "shell.execute_reply": "2023-01-02T07:00:13.714021Z",
          "shell.execute_reply.started": "2023-01-02T07:00:13.694830Z"
        },
        "papermill": {
          "duration": 0.026411,
          "end_time": "2023-01-02T07:24:52.032948",
          "exception": false,
          "start_time": "2023-01-02T07:24:52.006537",
          "status": "completed"
        },
        "tags": [],
        "id": "149f0f5c"
      },
      "outputs": [],
      "source": []
    },
    {
      "cell_type": "code",
      "execution_count": null,
      "id": "47974ea1",
      "metadata": {
        "papermill": {
          "duration": 0.026446,
          "end_time": "2023-01-02T07:24:52.086146",
          "exception": false,
          "start_time": "2023-01-02T07:24:52.059700",
          "status": "completed"
        },
        "tags": [],
        "id": "47974ea1"
      },
      "outputs": [],
      "source": []
    },
    {
      "cell_type": "code",
      "execution_count": null,
      "id": "24a3888b",
      "metadata": {
        "papermill": {
          "duration": 0.026345,
          "end_time": "2023-01-02T07:24:52.139509",
          "exception": false,
          "start_time": "2023-01-02T07:24:52.113164",
          "status": "completed"
        },
        "tags": [],
        "id": "24a3888b"
      },
      "outputs": [],
      "source": []
    },
    {
      "cell_type": "code",
      "execution_count": null,
      "id": "c3cda539",
      "metadata": {
        "papermill": {
          "duration": 0.026894,
          "end_time": "2023-01-02T07:24:52.193334",
          "exception": false,
          "start_time": "2023-01-02T07:24:52.166440",
          "status": "completed"
        },
        "tags": [],
        "id": "c3cda539"
      },
      "outputs": [],
      "source": []
    },
    {
      "cell_type": "code",
      "execution_count": null,
      "id": "87949066",
      "metadata": {
        "papermill": {
          "duration": 0.026436,
          "end_time": "2023-01-02T07:24:52.246290",
          "exception": false,
          "start_time": "2023-01-02T07:24:52.219854",
          "status": "completed"
        },
        "tags": [],
        "id": "87949066"
      },
      "outputs": [],
      "source": []
    },
    {
      "cell_type": "code",
      "execution_count": null,
      "id": "f0360865",
      "metadata": {
        "papermill": {
          "duration": 0.02925,
          "end_time": "2023-01-02T07:24:52.302378",
          "exception": false,
          "start_time": "2023-01-02T07:24:52.273128",
          "status": "completed"
        },
        "tags": [],
        "id": "f0360865"
      },
      "outputs": [],
      "source": []
    },
    {
      "cell_type": "code",
      "execution_count": null,
      "id": "163d92f2",
      "metadata": {
        "papermill": {
          "duration": 0.026326,
          "end_time": "2023-01-02T07:24:52.357178",
          "exception": false,
          "start_time": "2023-01-02T07:24:52.330852",
          "status": "completed"
        },
        "tags": [],
        "id": "163d92f2"
      },
      "outputs": [],
      "source": []
    },
    {
      "cell_type": "code",
      "execution_count": null,
      "id": "5837ecd5",
      "metadata": {
        "papermill": {
          "duration": 0.026571,
          "end_time": "2023-01-02T07:24:52.410567",
          "exception": false,
          "start_time": "2023-01-02T07:24:52.383996",
          "status": "completed"
        },
        "tags": [],
        "id": "5837ecd5"
      },
      "outputs": [],
      "source": []
    },
    {
      "cell_type": "code",
      "execution_count": null,
      "id": "c12aac3e",
      "metadata": {
        "papermill": {
          "duration": 0.026685,
          "end_time": "2023-01-02T07:24:52.466235",
          "exception": false,
          "start_time": "2023-01-02T07:24:52.439550",
          "status": "completed"
        },
        "tags": [],
        "id": "c12aac3e"
      },
      "outputs": [],
      "source": []
    },
    {
      "cell_type": "code",
      "execution_count": null,
      "id": "1d025542",
      "metadata": {
        "papermill": {
          "duration": 0.026343,
          "end_time": "2023-01-02T07:24:52.519373",
          "exception": false,
          "start_time": "2023-01-02T07:24:52.493030",
          "status": "completed"
        },
        "tags": [],
        "id": "1d025542"
      },
      "outputs": [],
      "source": []
    },
    {
      "cell_type": "code",
      "execution_count": null,
      "id": "5d04398a",
      "metadata": {
        "papermill": {
          "duration": 0.026641,
          "end_time": "2023-01-02T07:24:52.572571",
          "exception": false,
          "start_time": "2023-01-02T07:24:52.545930",
          "status": "completed"
        },
        "tags": [],
        "id": "5d04398a"
      },
      "outputs": [],
      "source": []
    },
    {
      "cell_type": "code",
      "execution_count": null,
      "id": "4a8e4ad6",
      "metadata": {
        "papermill": {
          "duration": 0.026745,
          "end_time": "2023-01-02T07:24:52.626076",
          "exception": false,
          "start_time": "2023-01-02T07:24:52.599331",
          "status": "completed"
        },
        "tags": [],
        "id": "4a8e4ad6"
      },
      "outputs": [],
      "source": []
    },
    {
      "cell_type": "code",
      "execution_count": null,
      "id": "05ccf625",
      "metadata": {
        "papermill": {
          "duration": 0.026456,
          "end_time": "2023-01-02T07:24:52.679950",
          "exception": false,
          "start_time": "2023-01-02T07:24:52.653494",
          "status": "completed"
        },
        "tags": [],
        "id": "05ccf625"
      },
      "outputs": [],
      "source": []
    },
    {
      "cell_type": "code",
      "execution_count": null,
      "id": "899744a2",
      "metadata": {
        "papermill": {
          "duration": 0.02744,
          "end_time": "2023-01-02T07:24:52.734768",
          "exception": false,
          "start_time": "2023-01-02T07:24:52.707328",
          "status": "completed"
        },
        "tags": [],
        "id": "899744a2"
      },
      "outputs": [],
      "source": []
    },
    {
      "cell_type": "code",
      "execution_count": null,
      "id": "993c4b39",
      "metadata": {
        "papermill": {
          "duration": 0.026446,
          "end_time": "2023-01-02T07:24:52.788002",
          "exception": false,
          "start_time": "2023-01-02T07:24:52.761556",
          "status": "completed"
        },
        "tags": [],
        "id": "993c4b39"
      },
      "outputs": [],
      "source": []
    },
    {
      "cell_type": "code",
      "execution_count": null,
      "id": "f3e97d09",
      "metadata": {
        "papermill": {
          "duration": 0.026508,
          "end_time": "2023-01-02T07:24:52.841812",
          "exception": false,
          "start_time": "2023-01-02T07:24:52.815304",
          "status": "completed"
        },
        "tags": [],
        "id": "f3e97d09"
      },
      "outputs": [],
      "source": []
    },
    {
      "cell_type": "code",
      "execution_count": null,
      "id": "1a1321c7",
      "metadata": {
        "papermill": {
          "duration": 0.026199,
          "end_time": "2023-01-02T07:24:52.894596",
          "exception": false,
          "start_time": "2023-01-02T07:24:52.868397",
          "status": "completed"
        },
        "tags": [],
        "id": "1a1321c7"
      },
      "outputs": [],
      "source": []
    },
    {
      "cell_type": "code",
      "execution_count": null,
      "id": "e8c9f0a2",
      "metadata": {
        "papermill": {
          "duration": 0.027466,
          "end_time": "2023-01-02T07:24:52.948662",
          "exception": false,
          "start_time": "2023-01-02T07:24:52.921196",
          "status": "completed"
        },
        "tags": [],
        "id": "e8c9f0a2"
      },
      "outputs": [],
      "source": []
    },
    {
      "cell_type": "code",
      "execution_count": null,
      "id": "b6653bcd",
      "metadata": {
        "papermill": {
          "duration": 0.026335,
          "end_time": "2023-01-02T07:24:53.002487",
          "exception": false,
          "start_time": "2023-01-02T07:24:52.976152",
          "status": "completed"
        },
        "tags": [],
        "id": "b6653bcd"
      },
      "outputs": [],
      "source": []
    },
    {
      "cell_type": "code",
      "execution_count": null,
      "id": "56321713",
      "metadata": {
        "papermill": {
          "duration": 0.026421,
          "end_time": "2023-01-02T07:24:53.056745",
          "exception": false,
          "start_time": "2023-01-02T07:24:53.030324",
          "status": "completed"
        },
        "tags": [],
        "id": "56321713"
      },
      "outputs": [],
      "source": []
    },
    {
      "cell_type": "code",
      "execution_count": null,
      "id": "ae70b07a",
      "metadata": {
        "papermill": {
          "duration": 0.026194,
          "end_time": "2023-01-02T07:24:53.109528",
          "exception": false,
          "start_time": "2023-01-02T07:24:53.083334",
          "status": "completed"
        },
        "tags": [],
        "id": "ae70b07a"
      },
      "outputs": [],
      "source": []
    }
  ],
  "metadata": {
    "kernelspec": {
      "display_name": "Python 3",
      "language": "python",
      "name": "python3"
    },
    "language_info": {
      "codemirror_mode": {
        "name": "ipython",
        "version": 3
      },
      "file_extension": ".py",
      "mimetype": "text/x-python",
      "name": "python",
      "nbconvert_exporter": "python",
      "pygments_lexer": "ipython3",
      "version": "3.7.12"
    },
    "papermill": {
      "default_parameters": {},
      "duration": 34.221438,
      "end_time": "2023-01-02T07:24:53.959745",
      "environment_variables": {},
      "exception": null,
      "input_path": "__notebook__.ipynb",
      "output_path": "__notebook__.ipynb",
      "parameters": {},
      "start_time": "2023-01-02T07:24:19.738307",
      "version": "2.3.4"
    },
    "colab": {
      "provenance": []
    }
  },
  "nbformat": 4,
  "nbformat_minor": 5
}