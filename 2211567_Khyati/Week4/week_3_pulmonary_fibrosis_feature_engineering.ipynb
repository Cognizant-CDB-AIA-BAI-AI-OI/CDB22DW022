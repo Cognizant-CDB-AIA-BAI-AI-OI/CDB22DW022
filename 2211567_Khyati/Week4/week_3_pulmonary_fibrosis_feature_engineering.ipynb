{
  "cells": [
    {
      "cell_type": "markdown",
      "metadata": {
        "papermill": {
          "duration": 0.040989,
          "end_time": "2023-04-15T11:26:30.503065",
          "exception": false,
          "start_time": "2023-04-15T11:26:30.462076",
          "status": "completed"
        },
        "tags": [],
        "id": "ERyvaR6LawUU"
      },
      "source": [
        "\n",
        "\n",
        "Pulmonary fibrosis is a medical condition that affects the lungs, causing scarring (fibrosis) to develop within the lung tissue. This scarring can make it difficult for the lungs to function properly, leading to symptoms such as shortness of breath, coughing, and fatigue.\n",
        "\n",
        "Diagnosis of pulmonary fibrosis often involves a variety of tests, including pulmonary function tests (PFTs), imaging tests such as chest X-rays or CT scans, and sometimes a lung biopsy.\n",
        "\n",
        "One of the key measurements taken during PFTs is the Forced Vital Capacity (FVC), which measures the amount of air that a person can exhale forcefully after taking a deep breath. In people with pulmonary fibrosis, FVC values tend to decrease as the disease progresses, indicating worsening lung function.\n",
        "\n",
        "Doctors can use these FVC measurements to track the progression of the disease over time and to monitor the effectiveness of treatments. In addition to FVC, other measures such as diffusing capacity of the lungs for carbon monoxide (DLCO) and oxygen saturation levels may also be used to help diagnose and monitor pulmonary fibrosis.\n",
        "\n",
        "\n",
        "**OUR CODE AIMS AT EASING OUT THIS COMPLEX PROCEDURE THROUGH FEATURE ENGINEERING**"
      ]
    },
    {
      "cell_type": "code",
      "execution_count": null,
      "metadata": {
        "_cell_guid": "b1076dfc-b9ad-4769-8c92-a6c4dae69d19",
        "_uuid": "8f2839f25d086af736a60e9eeb907d3b93b6e0e5",
        "execution": {
          "iopub.execute_input": "2023-04-15T11:26:30.580606Z",
          "iopub.status.busy": "2023-04-15T11:26:30.579798Z",
          "iopub.status.idle": "2023-04-15T11:26:37.914094Z",
          "shell.execute_reply": "2023-04-15T11:26:37.913299Z",
          "shell.execute_reply.started": "2023-04-14T19:53:51.265354Z"
        },
        "papermill": {
          "duration": 7.37299,
          "end_time": "2023-04-15T11:26:37.914275",
          "exception": false,
          "start_time": "2023-04-15T11:26:30.541285",
          "status": "completed"
        },
        "tags": [],
        "id": "7DiwVwXzawUY"
      },
      "outputs": [],
      "source": [
        "import numpy as np \n",
        "import pandas as pd\n",
        "import matplotlib.pyplot as plt\n",
        "\n",
        "from sklearn import linear_model, ensemble\n",
        "from sklearn.metrics import mean_squared_error, mean_absolute_error\n",
        "\n",
        "import tensorflow as tf\n",
        "\n",
        "from tqdm.notebook import tqdm\n",
        "\n",
        "import os\n",
        "from PIL import Image"
      ]
    },
    {
      "cell_type": "markdown",
      "source": [
        "This code imports several Python libraries that will be used in the code that follows:\n",
        "\n",
        "- `numpy` (imported as `np`) is a popular library for working with arrays and matrices of numerical data.\n",
        "- `pandas` (imported as `pd`) is a library for working with data in tabular format.\n",
        "- `matplotlib.pyplot` (imported as `plt`) is a library for creating visualizations in Python.\n",
        "- `sklearn.linear_model` and `sklearn.ensemble` are modules from the scikit-learn library, which provides tools for machine learning in Python.\n",
        "- `sklearn.metrics` provides various metrics to evaluate machine learning models.\n",
        "- `tensorflow` (imported as `tf`) is a popular library for building and training neural networks and other machine learning models.\n",
        "- `tqdm.notebook` provides a progress bar to track the progress of lengthy computations in Jupyter notebooks.\n",
        "- `os` is a built-in Python module that provides a way to interact with the operating system.\n",
        "- `PIL.Image` is a module from the Pillow library, which provides tools for working with images in Python.\n",
        "\n",
        "This code only imports the libraries and does not perform any actual tasks. It sets up the environment with necessary tools to perform tasks later in the code."
      ],
      "metadata": {
        "id": "HhjKgX8ceAei"
      }
    },
    {
      "cell_type": "markdown",
      "metadata": {
        "papermill": {
          "duration": 0.037525,
          "end_time": "2023-04-15T11:26:37.988922",
          "exception": false,
          "start_time": "2023-04-15T11:26:37.951397",
          "status": "completed"
        },
        "tags": [],
        "id": "PC5BZP-VawUZ"
      },
      "source": [
        "## Load data\n",
        "\n",
        "Let's begin by loading the data."
      ]
    },
    {
      "cell_type": "code",
      "execution_count": null,
      "metadata": {
        "_cell_guid": "79c7e3d0-c299-4dcb-8224-4455121ee9b0",
        "_uuid": "d629ff2d2480ee46fbb7e2d37f6b5fab8052498a",
        "execution": {
          "iopub.execute_input": "2023-04-15T11:26:38.074666Z",
          "iopub.status.busy": "2023-04-15T11:26:38.073883Z",
          "iopub.status.idle": "2023-04-15T11:26:38.128341Z",
          "shell.execute_reply": "2023-04-15T11:26:38.127616Z",
          "shell.execute_reply.started": "2023-04-14T19:54:03.116800Z"
        },
        "papermill": {
          "duration": 0.103856,
          "end_time": "2023-04-15T11:26:38.128480",
          "exception": false,
          "start_time": "2023-04-15T11:26:38.024624",
          "status": "completed"
        },
        "tags": [],
        "id": "yOS7VXg0awUa"
      },
      "outputs": [],
      "source": [
        "train = pd.read_csv('../input/osic-pulmonary-fibrosis-progression/train.csv')\n",
        "test = pd.read_csv('../input/osic-pulmonary-fibrosis-progression/test.csv')\n",
        "submission = pd.read_csv('../input/osic-pulmonary-fibrosis-progression/sample_submission.csv')"
      ]
    },
    {
      "cell_type": "code",
      "execution_count": null,
      "metadata": {
        "execution": {
          "iopub.execute_input": "2023-04-15T11:26:38.209099Z",
          "iopub.status.busy": "2023-04-15T11:26:38.208292Z",
          "iopub.status.idle": "2023-04-15T11:26:38.231933Z",
          "shell.execute_reply": "2023-04-15T11:26:38.231228Z",
          "shell.execute_reply.started": "2023-04-14T19:54:03.286767Z"
        },
        "papermill": {
          "duration": 0.0675,
          "end_time": "2023-04-15T11:26:38.232058",
          "exception": false,
          "start_time": "2023-04-15T11:26:38.164558",
          "status": "completed"
        },
        "tags": [],
        "id": "7C5mzVsVawUa",
        "outputId": "cdfe9282-fae0-4fba-f7c1-7b17fea1536e"
      },
      "outputs": [
        {
          "data": {
            "text/html": [
              "<div>\n",
              "<style scoped>\n",
              "    .dataframe tbody tr th:only-of-type {\n",
              "        vertical-align: middle;\n",
              "    }\n",
              "\n",
              "    .dataframe tbody tr th {\n",
              "        vertical-align: top;\n",
              "    }\n",
              "\n",
              "    .dataframe thead th {\n",
              "        text-align: right;\n",
              "    }\n",
              "</style>\n",
              "<table border=\"1\" class=\"dataframe\">\n",
              "  <thead>\n",
              "    <tr style=\"text-align: right;\">\n",
              "      <th></th>\n",
              "      <th>Patient</th>\n",
              "      <th>Weeks</th>\n",
              "      <th>FVC</th>\n",
              "      <th>Percent</th>\n",
              "      <th>Age</th>\n",
              "      <th>Sex</th>\n",
              "      <th>SmokingStatus</th>\n",
              "    </tr>\n",
              "  </thead>\n",
              "  <tbody>\n",
              "    <tr>\n",
              "      <th>0</th>\n",
              "      <td>ID00007637202177411956430</td>\n",
              "      <td>-4</td>\n",
              "      <td>2315</td>\n",
              "      <td>58.253649</td>\n",
              "      <td>79</td>\n",
              "      <td>Male</td>\n",
              "      <td>Ex-smoker</td>\n",
              "    </tr>\n",
              "    <tr>\n",
              "      <th>1</th>\n",
              "      <td>ID00007637202177411956430</td>\n",
              "      <td>5</td>\n",
              "      <td>2214</td>\n",
              "      <td>55.712129</td>\n",
              "      <td>79</td>\n",
              "      <td>Male</td>\n",
              "      <td>Ex-smoker</td>\n",
              "    </tr>\n",
              "    <tr>\n",
              "      <th>2</th>\n",
              "      <td>ID00007637202177411956430</td>\n",
              "      <td>7</td>\n",
              "      <td>2061</td>\n",
              "      <td>51.862104</td>\n",
              "      <td>79</td>\n",
              "      <td>Male</td>\n",
              "      <td>Ex-smoker</td>\n",
              "    </tr>\n",
              "    <tr>\n",
              "      <th>3</th>\n",
              "      <td>ID00007637202177411956430</td>\n",
              "      <td>9</td>\n",
              "      <td>2144</td>\n",
              "      <td>53.950679</td>\n",
              "      <td>79</td>\n",
              "      <td>Male</td>\n",
              "      <td>Ex-smoker</td>\n",
              "    </tr>\n",
              "    <tr>\n",
              "      <th>4</th>\n",
              "      <td>ID00007637202177411956430</td>\n",
              "      <td>11</td>\n",
              "      <td>2069</td>\n",
              "      <td>52.063412</td>\n",
              "      <td>79</td>\n",
              "      <td>Male</td>\n",
              "      <td>Ex-smoker</td>\n",
              "    </tr>\n",
              "  </tbody>\n",
              "</table>\n",
              "</div>"
            ],
            "text/plain": [
              "                     Patient  Weeks   FVC    Percent  Age   Sex SmokingStatus\n",
              "0  ID00007637202177411956430     -4  2315  58.253649   79  Male     Ex-smoker\n",
              "1  ID00007637202177411956430      5  2214  55.712129   79  Male     Ex-smoker\n",
              "2  ID00007637202177411956430      7  2061  51.862104   79  Male     Ex-smoker\n",
              "3  ID00007637202177411956430      9  2144  53.950679   79  Male     Ex-smoker\n",
              "4  ID00007637202177411956430     11  2069  52.063412   79  Male     Ex-smoker"
            ]
          },
          "execution_count": 3,
          "metadata": {},
          "output_type": "execute_result"
        }
      ],
      "source": [
        "train.head()"
      ]
    },
    {
      "cell_type": "code",
      "execution_count": null,
      "metadata": {
        "execution": {
          "iopub.execute_input": "2023-04-15T11:26:38.324000Z",
          "iopub.status.busy": "2023-04-15T11:26:38.313251Z",
          "iopub.status.idle": "2023-04-15T11:26:38.328409Z",
          "shell.execute_reply": "2023-04-15T11:26:38.327732Z",
          "shell.execute_reply.started": "2023-04-14T19:54:04.306496Z"
        },
        "papermill": {
          "duration": 0.05885,
          "end_time": "2023-04-15T11:26:38.328550",
          "exception": false,
          "start_time": "2023-04-15T11:26:38.269700",
          "status": "completed"
        },
        "tags": [],
        "id": "kRUy7s9tawUb",
        "outputId": "f06ce26e-ca22-40b6-cb43-bde30b1e42f8"
      },
      "outputs": [
        {
          "name": "stdout",
          "output_type": "stream",
          "text": [
            "<class 'pandas.core.frame.DataFrame'>\n",
            "RangeIndex: 1549 entries, 0 to 1548\n",
            "Data columns (total 7 columns):\n",
            " #   Column         Non-Null Count  Dtype  \n",
            "---  ------         --------------  -----  \n",
            " 0   Patient        1549 non-null   object \n",
            " 1   Weeks          1549 non-null   int64  \n",
            " 2   FVC            1549 non-null   int64  \n",
            " 3   Percent        1549 non-null   float64\n",
            " 4   Age            1549 non-null   int64  \n",
            " 5   Sex            1549 non-null   object \n",
            " 6   SmokingStatus  1549 non-null   object \n",
            "dtypes: float64(1), int64(3), object(3)\n",
            "memory usage: 84.8+ KB\n"
          ]
        }
      ],
      "source": [
        "train.info()"
      ]
    },
    {
      "cell_type": "code",
      "execution_count": null,
      "metadata": {
        "execution": {
          "iopub.execute_input": "2023-04-15T11:26:38.414486Z",
          "iopub.status.busy": "2023-04-15T11:26:38.413688Z",
          "iopub.status.idle": "2023-04-15T11:26:38.418560Z",
          "shell.execute_reply": "2023-04-15T11:26:38.418015Z",
          "shell.execute_reply.started": "2023-04-14T19:54:05.157055Z"
        },
        "papermill": {
          "duration": 0.054266,
          "end_time": "2023-04-15T11:26:38.418690",
          "exception": false,
          "start_time": "2023-04-15T11:26:38.364424",
          "status": "completed"
        },
        "tags": [],
        "id": "__J68UbeawUb",
        "outputId": "5a6983e5-d52e-4360-ed54-fd8624b21a42"
      },
      "outputs": [
        {
          "data": {
            "text/html": [
              "<div>\n",
              "<style scoped>\n",
              "    .dataframe tbody tr th:only-of-type {\n",
              "        vertical-align: middle;\n",
              "    }\n",
              "\n",
              "    .dataframe tbody tr th {\n",
              "        vertical-align: top;\n",
              "    }\n",
              "\n",
              "    .dataframe thead th {\n",
              "        text-align: right;\n",
              "    }\n",
              "</style>\n",
              "<table border=\"1\" class=\"dataframe\">\n",
              "  <thead>\n",
              "    <tr style=\"text-align: right;\">\n",
              "      <th></th>\n",
              "      <th>Patient</th>\n",
              "      <th>Weeks</th>\n",
              "      <th>FVC</th>\n",
              "      <th>Percent</th>\n",
              "      <th>Age</th>\n",
              "      <th>Sex</th>\n",
              "      <th>SmokingStatus</th>\n",
              "    </tr>\n",
              "  </thead>\n",
              "  <tbody>\n",
              "    <tr>\n",
              "      <th>0</th>\n",
              "      <td>ID00419637202311204720264</td>\n",
              "      <td>6</td>\n",
              "      <td>3020</td>\n",
              "      <td>70.186855</td>\n",
              "      <td>73</td>\n",
              "      <td>Male</td>\n",
              "      <td>Ex-smoker</td>\n",
              "    </tr>\n",
              "    <tr>\n",
              "      <th>1</th>\n",
              "      <td>ID00421637202311550012437</td>\n",
              "      <td>15</td>\n",
              "      <td>2739</td>\n",
              "      <td>82.045291</td>\n",
              "      <td>68</td>\n",
              "      <td>Male</td>\n",
              "      <td>Ex-smoker</td>\n",
              "    </tr>\n",
              "    <tr>\n",
              "      <th>2</th>\n",
              "      <td>ID00422637202311677017371</td>\n",
              "      <td>6</td>\n",
              "      <td>1930</td>\n",
              "      <td>76.672493</td>\n",
              "      <td>73</td>\n",
              "      <td>Male</td>\n",
              "      <td>Ex-smoker</td>\n",
              "    </tr>\n",
              "    <tr>\n",
              "      <th>3</th>\n",
              "      <td>ID00423637202312137826377</td>\n",
              "      <td>17</td>\n",
              "      <td>3294</td>\n",
              "      <td>79.258903</td>\n",
              "      <td>72</td>\n",
              "      <td>Male</td>\n",
              "      <td>Ex-smoker</td>\n",
              "    </tr>\n",
              "    <tr>\n",
              "      <th>4</th>\n",
              "      <td>ID00426637202313170790466</td>\n",
              "      <td>0</td>\n",
              "      <td>2925</td>\n",
              "      <td>71.824968</td>\n",
              "      <td>73</td>\n",
              "      <td>Male</td>\n",
              "      <td>Never smoked</td>\n",
              "    </tr>\n",
              "  </tbody>\n",
              "</table>\n",
              "</div>"
            ],
            "text/plain": [
              "                     Patient  Weeks   FVC    Percent  Age   Sex SmokingStatus\n",
              "0  ID00419637202311204720264      6  3020  70.186855   73  Male     Ex-smoker\n",
              "1  ID00421637202311550012437     15  2739  82.045291   68  Male     Ex-smoker\n",
              "2  ID00422637202311677017371      6  1930  76.672493   73  Male     Ex-smoker\n",
              "3  ID00423637202312137826377     17  3294  79.258903   72  Male     Ex-smoker\n",
              "4  ID00426637202313170790466      0  2925  71.824968   73  Male  Never smoked"
            ]
          },
          "execution_count": 5,
          "metadata": {},
          "output_type": "execute_result"
        }
      ],
      "source": [
        "test.head()"
      ]
    },
    {
      "cell_type": "code",
      "execution_count": null,
      "metadata": {
        "execution": {
          "iopub.execute_input": "2023-04-15T11:26:38.506396Z",
          "iopub.status.busy": "2023-04-15T11:26:38.505660Z",
          "iopub.status.idle": "2023-04-15T11:26:38.509341Z",
          "shell.execute_reply": "2023-04-15T11:26:38.508658Z",
          "shell.execute_reply.started": "2023-04-14T19:54:06.596659Z"
        },
        "papermill": {
          "duration": 0.054151,
          "end_time": "2023-04-15T11:26:38.509468",
          "exception": false,
          "start_time": "2023-04-15T11:26:38.455317",
          "status": "completed"
        },
        "tags": [],
        "id": "Bu7gkQNDawUb",
        "outputId": "6614beac-aeee-404b-d194-a7dec1926eff"
      },
      "outputs": [
        {
          "name": "stdout",
          "output_type": "stream",
          "text": [
            "<class 'pandas.core.frame.DataFrame'>\n",
            "RangeIndex: 5 entries, 0 to 4\n",
            "Data columns (total 7 columns):\n",
            " #   Column         Non-Null Count  Dtype  \n",
            "---  ------         --------------  -----  \n",
            " 0   Patient        5 non-null      object \n",
            " 1   Weeks          5 non-null      int64  \n",
            " 2   FVC            5 non-null      int64  \n",
            " 3   Percent        5 non-null      float64\n",
            " 4   Age            5 non-null      int64  \n",
            " 5   Sex            5 non-null      object \n",
            " 6   SmokingStatus  5 non-null      object \n",
            "dtypes: float64(1), int64(3), object(3)\n",
            "memory usage: 408.0+ bytes\n"
          ]
        }
      ],
      "source": [
        "test.info()"
      ]
    },
    {
      "cell_type": "markdown",
      "metadata": {
        "papermill": {
          "duration": 0.03792,
          "end_time": "2023-04-15T11:26:38.584799",
          "exception": false,
          "start_time": "2023-04-15T11:26:38.546879",
          "status": "completed"
        },
        "tags": [],
        "id": "lqCaJj8LawUc"
      },
      "source": [
        "So there's not a huge volume of tabular data. 1.5k of training examples with only 5 columns (weeks, percent, age, sex, smoking status) to construct features from."
      ]
    },
    {
      "cell_type": "markdown",
      "metadata": {
        "papermill": {
          "duration": 0.038415,
          "end_time": "2023-04-15T11:26:38.664681",
          "exception": false,
          "start_time": "2023-04-15T11:26:38.626266",
          "status": "completed"
        },
        "tags": [],
        "id": "gvOjUEiSawUc"
      },
      "source": [
        "## Merge datasets\n",
        "\n",
        "To ensure uniformity in applying transformations to all examples, we combine the train, validation, and test sets. Initially, we confirm the absence of any duplicates in the training dataset."
      ]
    },
    {
      "cell_type": "code",
      "execution_count": null,
      "metadata": {
        "execution": {
          "iopub.execute_input": "2023-04-15T11:26:38.747550Z",
          "iopub.status.busy": "2023-04-15T11:26:38.745164Z",
          "iopub.status.idle": "2023-04-15T11:26:38.753853Z",
          "shell.execute_reply": "2023-04-15T11:26:38.753109Z",
          "shell.execute_reply.started": "2023-04-14T19:54:09.386703Z"
        },
        "papermill": {
          "duration": 0.051816,
          "end_time": "2023-04-15T11:26:38.753992",
          "exception": false,
          "start_time": "2023-04-15T11:26:38.702176",
          "status": "completed"
        },
        "tags": [],
        "id": "acQpCO5SawUc"
      },
      "outputs": [],
      "source": [
        "train.drop_duplicates(keep=False, inplace=True, subset=['Patient','Weeks'])"
      ]
    },
    {
      "cell_type": "markdown",
      "source": [
        "This code snippet uses the `drop_duplicates()` method of a Pandas DataFrame object to remove duplicate rows from the dataframe `train`. Specifically, it removes rows that have the same values in both the \"Patient\" and \"Weeks\" columns.\n",
        "\n",
        "The `keep=False` parameter ensures that all duplicates are removed (i.e., not just the first or last occurrence of each duplicated value).\n",
        "\n",
        "The `inplace=True` parameter modifies the `train` dataframe directly, rather than returning a new dataframe.\n",
        "\n",
        "Overall, this code is likely used to preprocess data for a machine learning task, ensuring that each patient and week combination in the data is unique and preventing any duplicated data from influencing the training of the model."
      ],
      "metadata": {
        "id": "OA_1JWSPeNBo"
      }
    },
    {
      "cell_type": "markdown",
      "metadata": {
        "papermill": {
          "duration": 0.037015,
          "end_time": "2023-04-15T11:26:38.828627",
          "exception": false,
          "start_time": "2023-04-15T11:26:38.791612",
          "status": "completed"
        },
        "tags": [],
        "id": "0AwigsX0awUd"
      },
      "source": [
        "Then form the submission dataset. The test dataset needs expanding out across the 146 weeks per patient that the competition requires. This can be achieved by joining it to the sample submission."
      ]
    },
    {
      "cell_type": "code",
      "execution_count": null,
      "metadata": {
        "execution": {
          "iopub.execute_input": "2023-04-15T11:26:38.918597Z",
          "iopub.status.busy": "2023-04-15T11:26:38.917504Z",
          "iopub.status.idle": "2023-04-15T11:26:38.934130Z",
          "shell.execute_reply": "2023-04-15T11:26:38.933430Z",
          "shell.execute_reply.started": "2023-04-14T19:54:12.774705Z"
        },
        "papermill": {
          "duration": 0.067206,
          "end_time": "2023-04-15T11:26:38.934279",
          "exception": false,
          "start_time": "2023-04-15T11:26:38.867073",
          "status": "completed"
        },
        "tags": [],
        "id": "Lp1VViBjawUd"
      },
      "outputs": [],
      "source": [
        "submission['Patient'] = (\n",
        "    submission['Patient_Week']\n",
        "    .apply(\n",
        "        lambda x:x.split('_')[0]\n",
        "    )\n",
        ")\n",
        "\n",
        "submission['Weeks'] = (\n",
        "    submission['Patient_Week']\n",
        "    .apply(\n",
        "        lambda x: int(x.split('_')[-1])\n",
        "    )\n",
        ")\n",
        "\n",
        "submission =  submission[['Patient','Weeks', 'Confidence','Patient_Week']]\n",
        "\n",
        "submission = submission.merge(test.drop('Weeks', axis=1), on=\"Patient\")"
      ]
    },
    {
      "cell_type": "markdown",
      "source": [
        "This code snippet manipulates a Pandas DataFrame object `submission` and merges it with another DataFrame object `test`. Here's a step-by-step breakdown of what the code is doing:\n",
        "\n",
        "1. The code creates a new column called \"Patient\" in the `submission` DataFrame, by applying a lambda function to the \"Patient_Week\" column. The lambda function splits each value in the \"Patient_Week\" column on the underscore character, and returns the first part of the split string, which is the patient ID. This effectively extracts the patient ID from the \"Patient_Week\" column.\n",
        "2. The code creates another new column called \"Weeks\" in the `submission` DataFrame, by applying another lambda function to the \"Patient_Week\" column. This lambda function splits each value in the \"Patient_Week\" column on the underscore character, and returns the last part of the split string as an integer, which represents the week number.\n",
        "3. The code then selects a subset of columns from the `submission` DataFrame in the order of \"Patient\", \"Weeks\", \"Confidence\", and \"Patient_Week\", and assigns it back to the `submission` DataFrame. This effectively reorders the columns and drops any columns that are not needed.\n",
        "4. Finally, the code merges the `submission` DataFrame with the `test` DataFrame on the \"Patient\" column, dropping the \"Weeks\" column from the `test` DataFrame in the process. This merges the test data with the submission data, based on the common \"Patient\" column.\n",
        "\n",
        "Overall, this code is likely used to prepare the submission file for a machine learning competition, ensuring that the patient and week information is properly formatted and aligned between the submission and test datasets."
      ],
      "metadata": {
        "id": "qH5yW4Haeeeu"
      }
    },
    {
      "cell_type": "code",
      "execution_count": null,
      "metadata": {
        "execution": {
          "iopub.execute_input": "2023-04-15T11:26:39.026242Z",
          "iopub.status.busy": "2023-04-15T11:26:39.025421Z",
          "iopub.status.idle": "2023-04-15T11:26:39.029919Z",
          "shell.execute_reply": "2023-04-15T11:26:39.029348Z",
          "shell.execute_reply.started": "2023-04-14T19:54:48.978035Z"
        },
        "papermill": {
          "duration": 0.057729,
          "end_time": "2023-04-15T11:26:39.030044",
          "exception": false,
          "start_time": "2023-04-15T11:26:38.972315",
          "status": "completed"
        },
        "tags": [],
        "id": "fhVWJnKgawUd",
        "outputId": "6fd82bcd-d50b-4ad8-dc5d-9186d0bdcf17"
      },
      "outputs": [
        {
          "data": {
            "text/html": [
              "<div>\n",
              "<style scoped>\n",
              "    .dataframe tbody tr th:only-of-type {\n",
              "        vertical-align: middle;\n",
              "    }\n",
              "\n",
              "    .dataframe tbody tr th {\n",
              "        vertical-align: top;\n",
              "    }\n",
              "\n",
              "    .dataframe thead th {\n",
              "        text-align: right;\n",
              "    }\n",
              "</style>\n",
              "<table border=\"1\" class=\"dataframe\">\n",
              "  <thead>\n",
              "    <tr style=\"text-align: right;\">\n",
              "      <th></th>\n",
              "      <th>Patient</th>\n",
              "      <th>Weeks</th>\n",
              "      <th>Confidence</th>\n",
              "      <th>Patient_Week</th>\n",
              "      <th>FVC</th>\n",
              "      <th>Percent</th>\n",
              "      <th>Age</th>\n",
              "      <th>Sex</th>\n",
              "      <th>SmokingStatus</th>\n",
              "    </tr>\n",
              "  </thead>\n",
              "  <tbody>\n",
              "    <tr>\n",
              "      <th>0</th>\n",
              "      <td>ID00419637202311204720264</td>\n",
              "      <td>-12</td>\n",
              "      <td>100</td>\n",
              "      <td>ID00419637202311204720264_-12</td>\n",
              "      <td>3020</td>\n",
              "      <td>70.186855</td>\n",
              "      <td>73</td>\n",
              "      <td>Male</td>\n",
              "      <td>Ex-smoker</td>\n",
              "    </tr>\n",
              "    <tr>\n",
              "      <th>1</th>\n",
              "      <td>ID00419637202311204720264</td>\n",
              "      <td>-11</td>\n",
              "      <td>100</td>\n",
              "      <td>ID00419637202311204720264_-11</td>\n",
              "      <td>3020</td>\n",
              "      <td>70.186855</td>\n",
              "      <td>73</td>\n",
              "      <td>Male</td>\n",
              "      <td>Ex-smoker</td>\n",
              "    </tr>\n",
              "    <tr>\n",
              "      <th>2</th>\n",
              "      <td>ID00419637202311204720264</td>\n",
              "      <td>-10</td>\n",
              "      <td>100</td>\n",
              "      <td>ID00419637202311204720264_-10</td>\n",
              "      <td>3020</td>\n",
              "      <td>70.186855</td>\n",
              "      <td>73</td>\n",
              "      <td>Male</td>\n",
              "      <td>Ex-smoker</td>\n",
              "    </tr>\n",
              "    <tr>\n",
              "      <th>3</th>\n",
              "      <td>ID00419637202311204720264</td>\n",
              "      <td>-9</td>\n",
              "      <td>100</td>\n",
              "      <td>ID00419637202311204720264_-9</td>\n",
              "      <td>3020</td>\n",
              "      <td>70.186855</td>\n",
              "      <td>73</td>\n",
              "      <td>Male</td>\n",
              "      <td>Ex-smoker</td>\n",
              "    </tr>\n",
              "    <tr>\n",
              "      <th>4</th>\n",
              "      <td>ID00419637202311204720264</td>\n",
              "      <td>-8</td>\n",
              "      <td>100</td>\n",
              "      <td>ID00419637202311204720264_-8</td>\n",
              "      <td>3020</td>\n",
              "      <td>70.186855</td>\n",
              "      <td>73</td>\n",
              "      <td>Male</td>\n",
              "      <td>Ex-smoker</td>\n",
              "    </tr>\n",
              "  </tbody>\n",
              "</table>\n",
              "</div>"
            ],
            "text/plain": [
              "                     Patient  Weeks  Confidence  \\\n",
              "0  ID00419637202311204720264    -12         100   \n",
              "1  ID00419637202311204720264    -11         100   \n",
              "2  ID00419637202311204720264    -10         100   \n",
              "3  ID00419637202311204720264     -9         100   \n",
              "4  ID00419637202311204720264     -8         100   \n",
              "\n",
              "                    Patient_Week   FVC    Percent  Age   Sex SmokingStatus  \n",
              "0  ID00419637202311204720264_-12  3020  70.186855   73  Male     Ex-smoker  \n",
              "1  ID00419637202311204720264_-11  3020  70.186855   73  Male     Ex-smoker  \n",
              "2  ID00419637202311204720264_-10  3020  70.186855   73  Male     Ex-smoker  \n",
              "3   ID00419637202311204720264_-9  3020  70.186855   73  Male     Ex-smoker  \n",
              "4   ID00419637202311204720264_-8  3020  70.186855   73  Male     Ex-smoker  "
            ]
          },
          "execution_count": 9,
          "metadata": {},
          "output_type": "execute_result"
        }
      ],
      "source": [
        "submission.head()"
      ]
    },
    {
      "cell_type": "markdown",
      "metadata": {
        "papermill": {
          "duration": 0.038329,
          "end_time": "2023-04-15T11:26:39.107387",
          "exception": false,
          "start_time": "2023-04-15T11:26:39.069058",
          "status": "completed"
        },
        "tags": [],
        "id": "SQa0A5jzawUd"
      },
      "source": [
        "Mark each example in each dataset with the name of the dataset they come from. This enables me to quickly split the dataset back up into the three component pieces at the end of the notebook."
      ]
    },
    {
      "cell_type": "code",
      "execution_count": null,
      "metadata": {
        "execution": {
          "iopub.execute_input": "2023-04-15T11:26:39.190915Z",
          "iopub.status.busy": "2023-04-15T11:26:39.188849Z",
          "iopub.status.idle": "2023-04-15T11:26:39.194593Z",
          "shell.execute_reply": "2023-04-15T11:26:39.193806Z",
          "shell.execute_reply.started": "2023-04-14T19:54:56.647300Z"
        },
        "papermill": {
          "duration": 0.050106,
          "end_time": "2023-04-15T11:26:39.194735",
          "exception": false,
          "start_time": "2023-04-15T11:26:39.144629",
          "status": "completed"
        },
        "tags": [],
        "id": "K9IWS70wawUe"
      },
      "outputs": [],
      "source": [
        "train['Dataset'] = 'train'\n",
        "test['Dataset'] = 'test'\n",
        "submission['Dataset'] = 'submission'"
      ]
    },
    {
      "cell_type": "markdown",
      "metadata": {
        "papermill": {
          "duration": 0.037647,
          "end_time": "2023-04-15T11:26:39.270011",
          "exception": false,
          "start_time": "2023-04-15T11:26:39.232364",
          "status": "completed"
        },
        "tags": [],
        "id": "rU6m31MtawUe"
      },
      "source": [
        "Merge the datasets into one and reset the index."
      ]
    },
    {
      "cell_type": "code",
      "execution_count": null,
      "metadata": {
        "execution": {
          "iopub.execute_input": "2023-04-15T11:26:39.358845Z",
          "iopub.status.busy": "2023-04-15T11:26:39.357693Z",
          "iopub.status.idle": "2023-04-15T11:26:39.366831Z",
          "shell.execute_reply": "2023-04-15T11:26:39.366245Z",
          "shell.execute_reply.started": "2023-04-14T19:55:15.937882Z"
        },
        "papermill": {
          "duration": 0.058922,
          "end_time": "2023-04-15T11:26:39.366972",
          "exception": false,
          "start_time": "2023-04-15T11:26:39.308050",
          "status": "completed"
        },
        "tags": [],
        "id": "K1ItW0y2awUe"
      },
      "outputs": [],
      "source": [
        "all_data = train.append([test, submission])\n",
        "\n",
        "all_data = all_data.reset_index()\n",
        "all_data = all_data.drop(columns=['index'])"
      ]
    },
    {
      "cell_type": "code",
      "execution_count": null,
      "metadata": {
        "execution": {
          "iopub.execute_input": "2023-04-15T11:26:39.451388Z",
          "iopub.status.busy": "2023-04-15T11:26:39.450637Z",
          "iopub.status.idle": "2023-04-15T11:26:39.459968Z",
          "shell.execute_reply": "2023-04-15T11:26:39.460580Z",
          "shell.execute_reply.started": "2023-04-14T19:55:34.717741Z"
        },
        "papermill": {
          "duration": 0.056521,
          "end_time": "2023-04-15T11:26:39.460745",
          "exception": false,
          "start_time": "2023-04-15T11:26:39.404224",
          "status": "completed"
        },
        "tags": [],
        "id": "tF4XrYIKawUe",
        "outputId": "b853860c-4ad0-454d-8946-f543469cdf83"
      },
      "outputs": [
        {
          "data": {
            "text/html": [
              "<div>\n",
              "<style scoped>\n",
              "    .dataframe tbody tr th:only-of-type {\n",
              "        vertical-align: middle;\n",
              "    }\n",
              "\n",
              "    .dataframe tbody tr th {\n",
              "        vertical-align: top;\n",
              "    }\n",
              "\n",
              "    .dataframe thead th {\n",
              "        text-align: right;\n",
              "    }\n",
              "</style>\n",
              "<table border=\"1\" class=\"dataframe\">\n",
              "  <thead>\n",
              "    <tr style=\"text-align: right;\">\n",
              "      <th></th>\n",
              "      <th>Patient</th>\n",
              "      <th>Weeks</th>\n",
              "      <th>FVC</th>\n",
              "      <th>Percent</th>\n",
              "      <th>Age</th>\n",
              "      <th>Sex</th>\n",
              "      <th>SmokingStatus</th>\n",
              "      <th>Dataset</th>\n",
              "      <th>Confidence</th>\n",
              "      <th>Patient_Week</th>\n",
              "    </tr>\n",
              "  </thead>\n",
              "  <tbody>\n",
              "    <tr>\n",
              "      <th>0</th>\n",
              "      <td>ID00007637202177411956430</td>\n",
              "      <td>-4</td>\n",
              "      <td>2315</td>\n",
              "      <td>58.253649</td>\n",
              "      <td>79</td>\n",
              "      <td>Male</td>\n",
              "      <td>Ex-smoker</td>\n",
              "      <td>train</td>\n",
              "      <td>NaN</td>\n",
              "      <td>NaN</td>\n",
              "    </tr>\n",
              "    <tr>\n",
              "      <th>1</th>\n",
              "      <td>ID00007637202177411956430</td>\n",
              "      <td>5</td>\n",
              "      <td>2214</td>\n",
              "      <td>55.712129</td>\n",
              "      <td>79</td>\n",
              "      <td>Male</td>\n",
              "      <td>Ex-smoker</td>\n",
              "      <td>train</td>\n",
              "      <td>NaN</td>\n",
              "      <td>NaN</td>\n",
              "    </tr>\n",
              "    <tr>\n",
              "      <th>2</th>\n",
              "      <td>ID00007637202177411956430</td>\n",
              "      <td>7</td>\n",
              "      <td>2061</td>\n",
              "      <td>51.862104</td>\n",
              "      <td>79</td>\n",
              "      <td>Male</td>\n",
              "      <td>Ex-smoker</td>\n",
              "      <td>train</td>\n",
              "      <td>NaN</td>\n",
              "      <td>NaN</td>\n",
              "    </tr>\n",
              "    <tr>\n",
              "      <th>3</th>\n",
              "      <td>ID00007637202177411956430</td>\n",
              "      <td>9</td>\n",
              "      <td>2144</td>\n",
              "      <td>53.950679</td>\n",
              "      <td>79</td>\n",
              "      <td>Male</td>\n",
              "      <td>Ex-smoker</td>\n",
              "      <td>train</td>\n",
              "      <td>NaN</td>\n",
              "      <td>NaN</td>\n",
              "    </tr>\n",
              "    <tr>\n",
              "      <th>4</th>\n",
              "      <td>ID00007637202177411956430</td>\n",
              "      <td>11</td>\n",
              "      <td>2069</td>\n",
              "      <td>52.063412</td>\n",
              "      <td>79</td>\n",
              "      <td>Male</td>\n",
              "      <td>Ex-smoker</td>\n",
              "      <td>train</td>\n",
              "      <td>NaN</td>\n",
              "      <td>NaN</td>\n",
              "    </tr>\n",
              "  </tbody>\n",
              "</table>\n",
              "</div>"
            ],
            "text/plain": [
              "                     Patient  Weeks   FVC    Percent  Age   Sex SmokingStatus  \\\n",
              "0  ID00007637202177411956430     -4  2315  58.253649   79  Male     Ex-smoker   \n",
              "1  ID00007637202177411956430      5  2214  55.712129   79  Male     Ex-smoker   \n",
              "2  ID00007637202177411956430      7  2061  51.862104   79  Male     Ex-smoker   \n",
              "3  ID00007637202177411956430      9  2144  53.950679   79  Male     Ex-smoker   \n",
              "4  ID00007637202177411956430     11  2069  52.063412   79  Male     Ex-smoker   \n",
              "\n",
              "  Dataset  Confidence Patient_Week  \n",
              "0   train         NaN          NaN  \n",
              "1   train         NaN          NaN  \n",
              "2   train         NaN          NaN  \n",
              "3   train         NaN          NaN  \n",
              "4   train         NaN          NaN  "
            ]
          },
          "execution_count": 12,
          "metadata": {},
          "output_type": "execute_result"
        }
      ],
      "source": [
        "all_data.head()"
      ]
    },
    {
      "cell_type": "markdown",
      "metadata": {
        "papermill": {
          "duration": 0.03728,
          "end_time": "2023-04-15T11:26:39.535654",
          "exception": false,
          "start_time": "2023-04-15T11:26:39.498374",
          "status": "completed"
        },
        "tags": [],
        "id": "PTzD4mE5awUf"
      },
      "source": [
        "## Quick data analysis\n",
        "\n",
        "I think it's worth having a look at how the FVC (label) value declines for a sample of patients in the training dataset. Let's pick the first five in the data and plot the decline of the FVC."
      ]
    },
    {
      "cell_type": "code",
      "execution_count": null,
      "metadata": {
        "execution": {
          "iopub.execute_input": "2023-04-15T11:26:39.614797Z",
          "iopub.status.busy": "2023-04-15T11:26:39.614082Z",
          "iopub.status.idle": "2023-04-15T11:26:39.618870Z",
          "shell.execute_reply": "2023-04-15T11:26:39.619441Z",
          "shell.execute_reply.started": "2023-04-14T19:55:37.426904Z"
        },
        "papermill": {
          "duration": 0.045655,
          "end_time": "2023-04-15T11:26:39.619600",
          "exception": false,
          "start_time": "2023-04-15T11:26:39.573945",
          "status": "completed"
        },
        "tags": [],
        "id": "K-tHOrdHawUf"
      },
      "outputs": [],
      "source": [
        "train_patients = train.Patient.unique()"
      ]
    },
    {
      "cell_type": "code",
      "execution_count": null,
      "metadata": {
        "execution": {
          "iopub.execute_input": "2023-04-15T11:26:39.701522Z",
          "iopub.status.busy": "2023-04-15T11:26:39.700485Z",
          "iopub.status.idle": "2023-04-15T11:26:41.353300Z",
          "shell.execute_reply": "2023-04-15T11:26:41.353871Z",
          "shell.execute_reply.started": "2023-04-14T20:00:15.667305Z"
        },
        "papermill": {
          "duration": 1.6959,
          "end_time": "2023-04-15T11:26:41.354030",
          "exception": false,
          "start_time": "2023-04-15T11:26:39.658130",
          "status": "completed"
        },
        "tags": [],
        "id": "9bF57S-uawUf",
        "outputId": "87ceee2a-e4ee-4787-cf1d-287c67235f75"
      },
      "outputs": [
        {
          "data": {
            "image/png": "[encoded data removed]",
            "text/plain": [
              "<Figure size 1800x2520 with 10 Axes>"
            ]
          },
          "metadata": {
            "needs_background": "light"
          },
          "output_type": "display_data"
        }
      ],
      "source": [
        "fig, ax = plt.subplots(10, 1, figsize=(25, 35))\n",
        "\n",
        "for i in range(10):\n",
        "    patient_log = train[train['Patient'] == train_patients[i]]\n",
        "\n",
        "    ax[i].set_title(train_patients[i])\n",
        "    ax[i].plot(patient_log['Weeks'], patient_log['FVC'])"
      ]
    },
    {
      "cell_type": "markdown",
      "source": [
        "This code creates a figure with 10 subplots, where each subplot shows the progression of FVC (Forced Vital Capacity) over time for a specific patient in the training dataset. Here's a step-by-step breakdown of what the code is doing:\n",
        "\n",
        "1. The `fig, ax = plt.subplots(10, 1, figsize=(25, 35))` line creates a figure object with 10 subplots stacked vertically (`10, 1`) and sets the figure size to 25 inches wide and 35 inches tall (`figsize=(25, 35)`).\n",
        "2. The `for i in range(10):` line creates a loop that iterates 10 times, with `i` ranging from 0 to 9.\n",
        "3. The `patient_log = train[train['Patient'] == train_patients[i]]` line selects a subset of the training data (`train`) where the \"Patient\" column matches the `i`th patient in the list `train_patients`. This creates a DataFrame called `patient_log` that contains only the data for the current patient.\n",
        "4. The `ax[i].set_title(train_patients[i])` line sets the title of the `i`th subplot to the ID of the current patient.\n",
        "5. The `ax[i].plot(patient_log['Weeks'], patient_log['FVC'])` line plots the FVC values over time for the current patient, using the \"Weeks\" column as the x-axis and the \"FVC\" column as the y-axis. The plot is added to the `i`th subplot.\n",
        "\n",
        "Overall, this code is likely used to visualize the FVC progression over time for a sample of patients in the training dataset, giving the user a sense of how the FVC values vary between patients and over time."
      ],
      "metadata": {
        "id": "6jlureY3fLy4"
      }
    },
    {
      "cell_type": "markdown",
      "metadata": {
        "papermill": {
          "duration": 0.042318,
          "end_time": "2023-04-15T11:26:41.438685",
          "exception": false,
          "start_time": "2023-04-15T11:26:41.396367",
          "status": "completed"
        },
        "tags": [],
        "id": "x2w0IZ7_awUf"
      },
      "source": [
        "So the decline is kinda linear as it does generally trend down over time. There are some spikes back up along the way which could cause a few issues. However this means that a simple linear model could have a good go at producing forecasts on this challenge as the main thing we need to do is predict the rate of decline for a patient. Like a trend line for these charts."
      ]
    },
    {
      "cell_type": "markdown",
      "metadata": {
        "papermill": {
          "duration": 0.042236,
          "end_time": "2023-04-15T11:26:41.524265",
          "exception": false,
          "start_time": "2023-04-15T11:26:41.482029",
          "status": "completed"
        },
        "tags": [],
        "id": "Cu7RSM79awUf"
      },
      "source": [
        "## Feature Engineering\n",
        "\n",
        "There is some good scope for engineering new features for this model. "
      ]
    },
    {
      "cell_type": "markdown",
      "metadata": {
        "papermill": {
          "duration": 0.042647,
          "end_time": "2023-04-15T11:26:41.609507",
          "exception": false,
          "start_time": "2023-04-15T11:26:41.566860",
          "status": "completed"
        },
        "tags": [],
        "id": "XzKsnlRwawUf"
      },
      "source": [
        "### First FVC and First Week\n",
        "Some useful features might be the first FVC recorded per patient and the week it was recorded in"
      ]
    },
    {
      "cell_type": "code",
      "execution_count": null,
      "metadata": {
        "execution": {
          "iopub.execute_input": "2023-04-15T11:26:41.705172Z",
          "iopub.status.busy": "2023-04-15T11:26:41.704394Z",
          "iopub.status.idle": "2023-04-15T11:26:41.713275Z",
          "shell.execute_reply": "2023-04-15T11:26:41.713804Z",
          "shell.execute_reply.started": "2023-04-14T19:55:50.568961Z"
        },
        "papermill": {
          "duration": 0.060526,
          "end_time": "2023-04-15T11:26:41.713977",
          "exception": false,
          "start_time": "2023-04-15T11:26:41.653451",
          "status": "completed"
        },
        "tags": [],
        "id": "kR4w7laFawUg"
      },
      "outputs": [],
      "source": [
        "all_data['FirstWeek'] = all_data['Weeks']\n",
        "all_data.loc[all_data.Dataset=='submission','FirstWeek'] = np.nan\n",
        "all_data['FirstWeek'] = all_data.groupby('Patient')['FirstWeek'].transform('min')"
      ]
    },
    {
      "cell_type": "code",
      "execution_count": null,
      "metadata": {
        "execution": {
          "iopub.execute_input": "2023-04-15T11:26:41.804065Z",
          "iopub.status.busy": "2023-04-15T11:26:41.803353Z",
          "iopub.status.idle": "2023-04-15T11:26:41.842029Z",
          "shell.execute_reply": "2023-04-15T11:26:41.842621Z",
          "shell.execute_reply.started": "2023-04-14T19:55:50.926930Z"
        },
        "papermill": {
          "duration": 0.085698,
          "end_time": "2023-04-15T11:26:41.842807",
          "exception": false,
          "start_time": "2023-04-15T11:26:41.757109",
          "status": "completed"
        },
        "tags": [],
        "id": "kuNiUN_WawUg"
      },
      "outputs": [],
      "source": [
        "# GROUPING FIRSTFVC TO PATIENT ID, SORTING IT IN SCENDING ORDER, AND FINALLY MERGING BACK TO ALL_DATA\n",
        "\n",
        "first_fvc = (\n",
        "    all_data\n",
        "    .loc[all_data.Weeks == all_data.FirstWeek][['Patient','FVC']]\n",
        "    .rename({'FVC': 'FirstFVC'}, axis=1)\n",
        "    .groupby('Patient')\n",
        "    .first()\n",
        "    .reset_index()\n",
        ")\n",
        "\n",
        "all_data = all_data.merge(first_fvc, on='Patient', how='left')"
      ]
    },
    {
      "cell_type": "code",
      "execution_count": null,
      "metadata": {
        "execution": {
          "iopub.execute_input": "2023-04-15T11:26:41.932623Z",
          "iopub.status.busy": "2023-04-15T11:26:41.931901Z",
          "iopub.status.idle": "2023-04-15T11:26:41.950269Z",
          "shell.execute_reply": "2023-04-15T11:26:41.949705Z",
          "shell.execute_reply.started": "2023-04-14T19:56:00.695944Z"
        },
        "papermill": {
          "duration": 0.064754,
          "end_time": "2023-04-15T11:26:41.950399",
          "exception": false,
          "start_time": "2023-04-15T11:26:41.885645",
          "status": "completed"
        },
        "tags": [],
        "id": "CY4SupD1awUg",
        "outputId": "b41a37de-3400-4642-b34a-66fe30b5040b"
      },
      "outputs": [
        {
          "data": {
            "text/html": [
              "<div>\n",
              "<style scoped>\n",
              "    .dataframe tbody tr th:only-of-type {\n",
              "        vertical-align: middle;\n",
              "    }\n",
              "\n",
              "    .dataframe tbody tr th {\n",
              "        vertical-align: top;\n",
              "    }\n",
              "\n",
              "    .dataframe thead th {\n",
              "        text-align: right;\n",
              "    }\n",
              "</style>\n",
              "<table border=\"1\" class=\"dataframe\">\n",
              "  <thead>\n",
              "    <tr style=\"text-align: right;\">\n",
              "      <th></th>\n",
              "      <th>Patient</th>\n",
              "      <th>Weeks</th>\n",
              "      <th>FVC</th>\n",
              "      <th>Percent</th>\n",
              "      <th>Age</th>\n",
              "      <th>Sex</th>\n",
              "      <th>SmokingStatus</th>\n",
              "      <th>Dataset</th>\n",
              "      <th>Confidence</th>\n",
              "      <th>Patient_Week</th>\n",
              "      <th>FirstWeek</th>\n",
              "      <th>FirstFVC</th>\n",
              "    </tr>\n",
              "  </thead>\n",
              "  <tbody>\n",
              "    <tr>\n",
              "      <th>0</th>\n",
              "      <td>ID00007637202177411956430</td>\n",
              "      <td>-4</td>\n",
              "      <td>2315</td>\n",
              "      <td>58.253649</td>\n",
              "      <td>79</td>\n",
              "      <td>Male</td>\n",
              "      <td>Ex-smoker</td>\n",
              "      <td>train</td>\n",
              "      <td>NaN</td>\n",
              "      <td>NaN</td>\n",
              "      <td>-4.0</td>\n",
              "      <td>2315</td>\n",
              "    </tr>\n",
              "    <tr>\n",
              "      <th>1</th>\n",
              "      <td>ID00007637202177411956430</td>\n",
              "      <td>5</td>\n",
              "      <td>2214</td>\n",
              "      <td>55.712129</td>\n",
              "      <td>79</td>\n",
              "      <td>Male</td>\n",
              "      <td>Ex-smoker</td>\n",
              "      <td>train</td>\n",
              "      <td>NaN</td>\n",
              "      <td>NaN</td>\n",
              "      <td>-4.0</td>\n",
              "      <td>2315</td>\n",
              "    </tr>\n",
              "    <tr>\n",
              "      <th>2</th>\n",
              "      <td>ID00007637202177411956430</td>\n",
              "      <td>7</td>\n",
              "      <td>2061</td>\n",
              "      <td>51.862104</td>\n",
              "      <td>79</td>\n",
              "      <td>Male</td>\n",
              "      <td>Ex-smoker</td>\n",
              "      <td>train</td>\n",
              "      <td>NaN</td>\n",
              "      <td>NaN</td>\n",
              "      <td>-4.0</td>\n",
              "      <td>2315</td>\n",
              "    </tr>\n",
              "    <tr>\n",
              "      <th>3</th>\n",
              "      <td>ID00007637202177411956430</td>\n",
              "      <td>9</td>\n",
              "      <td>2144</td>\n",
              "      <td>53.950679</td>\n",
              "      <td>79</td>\n",
              "      <td>Male</td>\n",
              "      <td>Ex-smoker</td>\n",
              "      <td>train</td>\n",
              "      <td>NaN</td>\n",
              "      <td>NaN</td>\n",
              "      <td>-4.0</td>\n",
              "      <td>2315</td>\n",
              "    </tr>\n",
              "    <tr>\n",
              "      <th>4</th>\n",
              "      <td>ID00007637202177411956430</td>\n",
              "      <td>11</td>\n",
              "      <td>2069</td>\n",
              "      <td>52.063412</td>\n",
              "      <td>79</td>\n",
              "      <td>Male</td>\n",
              "      <td>Ex-smoker</td>\n",
              "      <td>train</td>\n",
              "      <td>NaN</td>\n",
              "      <td>NaN</td>\n",
              "      <td>-4.0</td>\n",
              "      <td>2315</td>\n",
              "    </tr>\n",
              "  </tbody>\n",
              "</table>\n",
              "</div>"
            ],
            "text/plain": [
              "                     Patient  Weeks   FVC    Percent  Age   Sex SmokingStatus  \\\n",
              "0  ID00007637202177411956430     -4  2315  58.253649   79  Male     Ex-smoker   \n",
              "1  ID00007637202177411956430      5  2214  55.712129   79  Male     Ex-smoker   \n",
              "2  ID00007637202177411956430      7  2061  51.862104   79  Male     Ex-smoker   \n",
              "3  ID00007637202177411956430      9  2144  53.950679   79  Male     Ex-smoker   \n",
              "4  ID00007637202177411956430     11  2069  52.063412   79  Male     Ex-smoker   \n",
              "\n",
              "  Dataset  Confidence Patient_Week  FirstWeek  FirstFVC  \n",
              "0   train         NaN          NaN       -4.0      2315  \n",
              "1   train         NaN          NaN       -4.0      2315  \n",
              "2   train         NaN          NaN       -4.0      2315  \n",
              "3   train         NaN          NaN       -4.0      2315  \n",
              "4   train         NaN          NaN       -4.0      2315  "
            ]
          },
          "execution_count": 17,
          "metadata": {},
          "output_type": "execute_result"
        }
      ],
      "source": [
        "all_data.head()"
      ]
    },
    {
      "cell_type": "markdown",
      "metadata": {
        "papermill": {
          "duration": 0.043425,
          "end_time": "2023-04-15T11:26:42.037921",
          "exception": false,
          "start_time": "2023-04-15T11:26:41.994496",
          "status": "completed"
        },
        "tags": [],
        "id": "0tNiDOg0awUg"
      },
      "source": [
        "### Weeks Passed\n",
        "This feature measures how many weeks have passed since the patients first FVC reading."
      ]
    },
    {
      "cell_type": "code",
      "execution_count": null,
      "metadata": {
        "execution": {
          "iopub.execute_input": "2023-04-15T11:26:42.132023Z",
          "iopub.status.busy": "2023-04-15T11:26:42.131224Z",
          "iopub.status.idle": "2023-04-15T11:26:42.135677Z",
          "shell.execute_reply": "2023-04-15T11:26:42.136330Z",
          "shell.execute_reply.started": "2023-04-14T19:56:04.086573Z"
        },
        "papermill": {
          "duration": 0.054356,
          "end_time": "2023-04-15T11:26:42.136496",
          "exception": false,
          "start_time": "2023-04-15T11:26:42.082140",
          "status": "completed"
        },
        "tags": [],
        "id": "DgVq2zosawUg"
      },
      "outputs": [],
      "source": [
        "all_data['WeeksPassed'] = all_data['Weeks'] - all_data['FirstWeek']"
      ]
    },
    {
      "cell_type": "code",
      "execution_count": null,
      "metadata": {
        "execution": {
          "iopub.execute_input": "2023-04-15T11:26:42.246475Z",
          "iopub.status.busy": "2023-04-15T11:26:42.230384Z",
          "iopub.status.idle": "2023-04-15T11:26:42.250963Z",
          "shell.execute_reply": "2023-04-15T11:26:42.251528Z",
          "shell.execute_reply.started": "2023-04-14T19:56:07.426717Z"
        },
        "papermill": {
          "duration": 0.069714,
          "end_time": "2023-04-15T11:26:42.251688",
          "exception": false,
          "start_time": "2023-04-15T11:26:42.181974",
          "status": "completed"
        },
        "tags": [],
        "id": "VR4qkLuTawUh",
        "outputId": "2e2bf70c-b69b-4660-999c-bfb75ae35e42"
      },
      "outputs": [
        {
          "data": {
            "text/html": [
              "<div>\n",
              "<style scoped>\n",
              "    .dataframe tbody tr th:only-of-type {\n",
              "        vertical-align: middle;\n",
              "    }\n",
              "\n",
              "    .dataframe tbody tr th {\n",
              "        vertical-align: top;\n",
              "    }\n",
              "\n",
              "    .dataframe thead th {\n",
              "        text-align: right;\n",
              "    }\n",
              "</style>\n",
              "<table border=\"1\" class=\"dataframe\">\n",
              "  <thead>\n",
              "    <tr style=\"text-align: right;\">\n",
              "      <th></th>\n",
              "      <th>Patient</th>\n",
              "      <th>Weeks</th>\n",
              "      <th>FVC</th>\n",
              "      <th>Percent</th>\n",
              "      <th>Age</th>\n",
              "      <th>Sex</th>\n",
              "      <th>SmokingStatus</th>\n",
              "      <th>Dataset</th>\n",
              "      <th>Confidence</th>\n",
              "      <th>Patient_Week</th>\n",
              "      <th>FirstWeek</th>\n",
              "      <th>FirstFVC</th>\n",
              "      <th>WeeksPassed</th>\n",
              "    </tr>\n",
              "  </thead>\n",
              "  <tbody>\n",
              "    <tr>\n",
              "      <th>0</th>\n",
              "      <td>ID00007637202177411956430</td>\n",
              "      <td>-4</td>\n",
              "      <td>2315</td>\n",
              "      <td>58.253649</td>\n",
              "      <td>79</td>\n",
              "      <td>Male</td>\n",
              "      <td>Ex-smoker</td>\n",
              "      <td>train</td>\n",
              "      <td>NaN</td>\n",
              "      <td>NaN</td>\n",
              "      <td>-4.0</td>\n",
              "      <td>2315</td>\n",
              "      <td>0.0</td>\n",
              "    </tr>\n",
              "    <tr>\n",
              "      <th>1</th>\n",
              "      <td>ID00007637202177411956430</td>\n",
              "      <td>5</td>\n",
              "      <td>2214</td>\n",
              "      <td>55.712129</td>\n",
              "      <td>79</td>\n",
              "      <td>Male</td>\n",
              "      <td>Ex-smoker</td>\n",
              "      <td>train</td>\n",
              "      <td>NaN</td>\n",
              "      <td>NaN</td>\n",
              "      <td>-4.0</td>\n",
              "      <td>2315</td>\n",
              "      <td>9.0</td>\n",
              "    </tr>\n",
              "    <tr>\n",
              "      <th>2</th>\n",
              "      <td>ID00007637202177411956430</td>\n",
              "      <td>7</td>\n",
              "      <td>2061</td>\n",
              "      <td>51.862104</td>\n",
              "      <td>79</td>\n",
              "      <td>Male</td>\n",
              "      <td>Ex-smoker</td>\n",
              "      <td>train</td>\n",
              "      <td>NaN</td>\n",
              "      <td>NaN</td>\n",
              "      <td>-4.0</td>\n",
              "      <td>2315</td>\n",
              "      <td>11.0</td>\n",
              "    </tr>\n",
              "    <tr>\n",
              "      <th>3</th>\n",
              "      <td>ID00007637202177411956430</td>\n",
              "      <td>9</td>\n",
              "      <td>2144</td>\n",
              "      <td>53.950679</td>\n",
              "      <td>79</td>\n",
              "      <td>Male</td>\n",
              "      <td>Ex-smoker</td>\n",
              "      <td>train</td>\n",
              "      <td>NaN</td>\n",
              "      <td>NaN</td>\n",
              "      <td>-4.0</td>\n",
              "      <td>2315</td>\n",
              "      <td>13.0</td>\n",
              "    </tr>\n",
              "    <tr>\n",
              "      <th>4</th>\n",
              "      <td>ID00007637202177411956430</td>\n",
              "      <td>11</td>\n",
              "      <td>2069</td>\n",
              "      <td>52.063412</td>\n",
              "      <td>79</td>\n",
              "      <td>Male</td>\n",
              "      <td>Ex-smoker</td>\n",
              "      <td>train</td>\n",
              "      <td>NaN</td>\n",
              "      <td>NaN</td>\n",
              "      <td>-4.0</td>\n",
              "      <td>2315</td>\n",
              "      <td>15.0</td>\n",
              "    </tr>\n",
              "  </tbody>\n",
              "</table>\n",
              "</div>"
            ],
            "text/plain": [
              "                     Patient  Weeks   FVC    Percent  Age   Sex SmokingStatus  \\\n",
              "0  ID00007637202177411956430     -4  2315  58.253649   79  Male     Ex-smoker   \n",
              "1  ID00007637202177411956430      5  2214  55.712129   79  Male     Ex-smoker   \n",
              "2  ID00007637202177411956430      7  2061  51.862104   79  Male     Ex-smoker   \n",
              "3  ID00007637202177411956430      9  2144  53.950679   79  Male     Ex-smoker   \n",
              "4  ID00007637202177411956430     11  2069  52.063412   79  Male     Ex-smoker   \n",
              "\n",
              "  Dataset  Confidence Patient_Week  FirstWeek  FirstFVC  WeeksPassed  \n",
              "0   train         NaN          NaN       -4.0      2315          0.0  \n",
              "1   train         NaN          NaN       -4.0      2315          9.0  \n",
              "2   train         NaN          NaN       -4.0      2315         11.0  \n",
              "3   train         NaN          NaN       -4.0      2315         13.0  \n",
              "4   train         NaN          NaN       -4.0      2315         15.0  "
            ]
          },
          "execution_count": 19,
          "metadata": {},
          "output_type": "execute_result"
        }
      ],
      "source": [
        "all_data.head()"
      ]
    },
    {
      "cell_type": "markdown",
      "metadata": {
        "papermill": {
          "duration": 0.044207,
          "end_time": "2023-04-15T11:26:42.340835",
          "exception": false,
          "start_time": "2023-04-15T11:26:42.296628",
          "status": "completed"
        },
        "tags": [],
        "id": "llx1X0lwawUh"
      },
      "source": [
        "### Patient height\n",
        "\n",
        "It appears that a patient's height is a significant factor to consider when making predictions about their Forced Vital Capacity (FVC). It's possible that individuals with a taller stature may have bigger lungs and therefore be capable of exhaling more air.\n",
        "\n",
        "**We hence looked for metrics to relate height of the patient to pulmonary functions, and found it here:**\n",
        "\n",
        "https://en.wikipedia.org/wiki/Vital_capacity#:~:text=It%20is%20equal%20to%20the,a%20wet%20or%20regular%20spirometer"
      ]
    },
    {
      "cell_type": "code",
      "execution_count": null,
      "metadata": {
        "execution": {
          "iopub.execute_input": "2023-04-15T11:26:42.432936Z",
          "iopub.status.busy": "2023-04-15T11:26:42.432240Z",
          "iopub.status.idle": "2023-04-15T11:26:42.488449Z",
          "shell.execute_reply": "2023-04-15T11:26:42.487608Z",
          "shell.execute_reply.started": "2023-04-14T19:56:07.986908Z"
        },
        "papermill": {
          "duration": 0.103078,
          "end_time": "2023-04-15T11:26:42.488597",
          "exception": false,
          "start_time": "2023-04-15T11:26:42.385519",
          "status": "completed"
        },
        "tags": [],
        "id": "1vs5qLIFawUh"
      },
      "outputs": [],
      "source": [
        "def calculate_height(row):\n",
        "    if row['Sex'] == 'Male':\n",
        "        return row['FirstFVC'] / (27.63 - 0.112 * row['Age'])\n",
        "    else:\n",
        "        return row['FirstFVC'] / (21.78 - 0.101 * row['Age'])\n",
        "\n",
        "all_data['Height'] = all_data.apply(calculate_height, axis=1)"
      ]
    },
    {
      "cell_type": "markdown",
      "source": [
        "This code defines a function `calculate_height` that calculates the estimated height of a patient based on their age, sex, and their first recorded FVC (Forced Vital Capacity) value. The function takes a single argument `row`, which represents a single row of a Pandas DataFrame that contains the patient's data.\n",
        "\n",
        "Here's a step-by-step breakdown of what the code is doing:\n",
        "\n",
        "1. The `if row['Sex'] == 'Male':` line checks if the patient's sex is male. If so, the function uses the following equation to estimate the patient's height:\n",
        "\n",
        "    `height = FVC / (27.63 - 0.112 * age)`\n",
        "\n",
        "    This equation is based on a regression model that relates FVC, age, and sex to height for male patients.\n",
        "\n",
        "2. If the patient's sex is not male (i.e., the patient is female), the function uses the following equation to estimate the patient's height:\n",
        "\n",
        "    `height = FVC / (21.78 - 0.101 * age)`\n",
        "\n",
        "    This equation is based on a regression model that relates FVC, age, and sex to height for female patients.\n",
        "\n",
        "3. The `all_data['Height'] = all_data.apply(calculate_height, axis=1)` line applies the `calculate_height` function to each row of the `all_data` DataFrame, using the `apply` method with `axis=1`. This creates a new column called \"Height\" in the `all_data` DataFrame, where each row contains the estimated height of the corresponding patient.\n",
        "\n",
        "Overall, this code is likely used to estimate the height of patients in a medical dataset, using a regression model that relates FVC, age, and sex to height. The estimated height can then be used as a feature in a machine learning model to predict other medical outcomes."
      ],
      "metadata": {
        "id": "NGwuFlHPgEm0"
      }
    },
    {
      "cell_type": "code",
      "execution_count": null,
      "metadata": {
        "execution": {
          "iopub.execute_input": "2023-04-15T11:26:42.598076Z",
          "iopub.status.busy": "2023-04-15T11:26:42.597056Z",
          "iopub.status.idle": "2023-04-15T11:26:42.602022Z",
          "shell.execute_reply": "2023-04-15T11:26:42.601322Z",
          "shell.execute_reply.started": "2023-04-14T19:56:10.617323Z"
        },
        "papermill": {
          "duration": 0.06892,
          "end_time": "2023-04-15T11:26:42.602161",
          "exception": false,
          "start_time": "2023-04-15T11:26:42.533241",
          "status": "completed"
        },
        "tags": [],
        "id": "yjn0RmDMawUh",
        "outputId": "77825b55-d3fa-4193-897f-964ed675f5ea"
      },
      "outputs": [
        {
          "data": {
            "text/html": [
              "<div>\n",
              "<style scoped>\n",
              "    .dataframe tbody tr th:only-of-type {\n",
              "        vertical-align: middle;\n",
              "    }\n",
              "\n",
              "    .dataframe tbody tr th {\n",
              "        vertical-align: top;\n",
              "    }\n",
              "\n",
              "    .dataframe thead th {\n",
              "        text-align: right;\n",
              "    }\n",
              "</style>\n",
              "<table border=\"1\" class=\"dataframe\">\n",
              "  <thead>\n",
              "    <tr style=\"text-align: right;\">\n",
              "      <th></th>\n",
              "      <th>Patient</th>\n",
              "      <th>Weeks</th>\n",
              "      <th>FVC</th>\n",
              "      <th>Percent</th>\n",
              "      <th>Age</th>\n",
              "      <th>Sex</th>\n",
              "      <th>SmokingStatus</th>\n",
              "      <th>Dataset</th>\n",
              "      <th>Confidence</th>\n",
              "      <th>Patient_Week</th>\n",
              "      <th>FirstWeek</th>\n",
              "      <th>FirstFVC</th>\n",
              "      <th>WeeksPassed</th>\n",
              "      <th>Height</th>\n",
              "    </tr>\n",
              "  </thead>\n",
              "  <tbody>\n",
              "    <tr>\n",
              "      <th>0</th>\n",
              "      <td>ID00007637202177411956430</td>\n",
              "      <td>-4</td>\n",
              "      <td>2315</td>\n",
              "      <td>58.253649</td>\n",
              "      <td>79</td>\n",
              "      <td>Male</td>\n",
              "      <td>Ex-smoker</td>\n",
              "      <td>train</td>\n",
              "      <td>NaN</td>\n",
              "      <td>NaN</td>\n",
              "      <td>-4.0</td>\n",
              "      <td>2315</td>\n",
              "      <td>0.0</td>\n",
              "      <td>123.256309</td>\n",
              "    </tr>\n",
              "    <tr>\n",
              "      <th>1</th>\n",
              "      <td>ID00007637202177411956430</td>\n",
              "      <td>5</td>\n",
              "      <td>2214</td>\n",
              "      <td>55.712129</td>\n",
              "      <td>79</td>\n",
              "      <td>Male</td>\n",
              "      <td>Ex-smoker</td>\n",
              "      <td>train</td>\n",
              "      <td>NaN</td>\n",
              "      <td>NaN</td>\n",
              "      <td>-4.0</td>\n",
              "      <td>2315</td>\n",
              "      <td>9.0</td>\n",
              "      <td>123.256309</td>\n",
              "    </tr>\n",
              "    <tr>\n",
              "      <th>2</th>\n",
              "      <td>ID00007637202177411956430</td>\n",
              "      <td>7</td>\n",
              "      <td>2061</td>\n",
              "      <td>51.862104</td>\n",
              "      <td>79</td>\n",
              "      <td>Male</td>\n",
              "      <td>Ex-smoker</td>\n",
              "      <td>train</td>\n",
              "      <td>NaN</td>\n",
              "      <td>NaN</td>\n",
              "      <td>-4.0</td>\n",
              "      <td>2315</td>\n",
              "      <td>11.0</td>\n",
              "      <td>123.256309</td>\n",
              "    </tr>\n",
              "    <tr>\n",
              "      <th>3</th>\n",
              "      <td>ID00007637202177411956430</td>\n",
              "      <td>9</td>\n",
              "      <td>2144</td>\n",
              "      <td>53.950679</td>\n",
              "      <td>79</td>\n",
              "      <td>Male</td>\n",
              "      <td>Ex-smoker</td>\n",
              "      <td>train</td>\n",
              "      <td>NaN</td>\n",
              "      <td>NaN</td>\n",
              "      <td>-4.0</td>\n",
              "      <td>2315</td>\n",
              "      <td>13.0</td>\n",
              "      <td>123.256309</td>\n",
              "    </tr>\n",
              "    <tr>\n",
              "      <th>4</th>\n",
              "      <td>ID00007637202177411956430</td>\n",
              "      <td>11</td>\n",
              "      <td>2069</td>\n",
              "      <td>52.063412</td>\n",
              "      <td>79</td>\n",
              "      <td>Male</td>\n",
              "      <td>Ex-smoker</td>\n",
              "      <td>train</td>\n",
              "      <td>NaN</td>\n",
              "      <td>NaN</td>\n",
              "      <td>-4.0</td>\n",
              "      <td>2315</td>\n",
              "      <td>15.0</td>\n",
              "      <td>123.256309</td>\n",
              "    </tr>\n",
              "  </tbody>\n",
              "</table>\n",
              "</div>"
            ],
            "text/plain": [
              "                     Patient  Weeks   FVC    Percent  Age   Sex SmokingStatus  \\\n",
              "0  ID00007637202177411956430     -4  2315  58.253649   79  Male     Ex-smoker   \n",
              "1  ID00007637202177411956430      5  2214  55.712129   79  Male     Ex-smoker   \n",
              "2  ID00007637202177411956430      7  2061  51.862104   79  Male     Ex-smoker   \n",
              "3  ID00007637202177411956430      9  2144  53.950679   79  Male     Ex-smoker   \n",
              "4  ID00007637202177411956430     11  2069  52.063412   79  Male     Ex-smoker   \n",
              "\n",
              "  Dataset  Confidence Patient_Week  FirstWeek  FirstFVC  WeeksPassed  \\\n",
              "0   train         NaN          NaN       -4.0      2315          0.0   \n",
              "1   train         NaN          NaN       -4.0      2315          9.0   \n",
              "2   train         NaN          NaN       -4.0      2315         11.0   \n",
              "3   train         NaN          NaN       -4.0      2315         13.0   \n",
              "4   train         NaN          NaN       -4.0      2315         15.0   \n",
              "\n",
              "       Height  \n",
              "0  123.256309  \n",
              "1  123.256309  \n",
              "2  123.256309  \n",
              "3  123.256309  \n",
              "4  123.256309  "
            ]
          },
          "execution_count": 21,
          "metadata": {},
          "output_type": "execute_result"
        }
      ],
      "source": [
        "all_data.head()"
      ]
    },
    {
      "cell_type": "markdown",
      "metadata": {
        "papermill": {
          "duration": 0.045039,
          "end_time": "2023-04-15T11:26:42.692112",
          "exception": false,
          "start_time": "2023-04-15T11:26:42.647073",
          "status": "completed"
        },
        "tags": [],
        "id": "yhiUPgmSawUh"
      },
      "source": [
        "### Categorical columns\n",
        "\n",
        "The sex and smoking status columns are categorical columns that need some transformation to turn them into numbers. Pandas get dummies makes this easy to achieve."
      ]
    },
    {
      "cell_type": "code",
      "execution_count": null,
      "metadata": {
        "execution": {
          "iopub.execute_input": "2023-04-15T11:26:42.785633Z",
          "iopub.status.busy": "2023-04-15T11:26:42.784637Z",
          "iopub.status.idle": "2023-04-15T11:26:42.802756Z",
          "shell.execute_reply": "2023-04-15T11:26:42.803296Z",
          "shell.execute_reply.started": "2023-04-14T19:56:11.067007Z"
        },
        "papermill": {
          "duration": 0.06631,
          "end_time": "2023-04-15T11:26:42.803476",
          "exception": false,
          "start_time": "2023-04-15T11:26:42.737166",
          "status": "completed"
        },
        "tags": [],
        "id": "WUHSDBh0awUi"
      },
      "outputs": [],
      "source": [
        "all_data = pd.concat([\n",
        "    all_data,\n",
        "    pd.get_dummies(all_data.Sex),\n",
        "    pd.get_dummies(all_data.SmokingStatus)\n",
        "], axis=1)\n",
        "\n",
        "all_data = all_data.drop(columns=['Sex', 'SmokingStatus'])"
      ]
    },
    {
      "cell_type": "code",
      "execution_count": null,
      "metadata": {
        "execution": {
          "iopub.execute_input": "2023-04-15T11:26:42.900888Z",
          "iopub.status.busy": "2023-04-15T11:26:42.900114Z",
          "iopub.status.idle": "2023-04-15T11:26:42.918632Z",
          "shell.execute_reply": "2023-04-15T11:26:42.918056Z",
          "shell.execute_reply.started": "2023-04-14T19:56:14.092501Z"
        },
        "papermill": {
          "duration": 0.069546,
          "end_time": "2023-04-15T11:26:42.918766",
          "exception": false,
          "start_time": "2023-04-15T11:26:42.849220",
          "status": "completed"
        },
        "tags": [],
        "id": "esYcw79NawUi",
        "outputId": "7384891d-3546-476a-c156-a462e75baf5f"
      },
      "outputs": [
        {
          "data": {
            "text/html": [
              "<div>\n",
              "<style scoped>\n",
              "    .dataframe tbody tr th:only-of-type {\n",
              "        vertical-align: middle;\n",
              "    }\n",
              "\n",
              "    .dataframe tbody tr th {\n",
              "        vertical-align: top;\n",
              "    }\n",
              "\n",
              "    .dataframe thead th {\n",
              "        text-align: right;\n",
              "    }\n",
              "</style>\n",
              "<table border=\"1\" class=\"dataframe\">\n",
              "  <thead>\n",
              "    <tr style=\"text-align: right;\">\n",
              "      <th></th>\n",
              "      <th>Patient</th>\n",
              "      <th>Weeks</th>\n",
              "      <th>FVC</th>\n",
              "      <th>Percent</th>\n",
              "      <th>Age</th>\n",
              "      <th>Dataset</th>\n",
              "      <th>Confidence</th>\n",
              "      <th>Patient_Week</th>\n",
              "      <th>FirstWeek</th>\n",
              "      <th>FirstFVC</th>\n",
              "      <th>WeeksPassed</th>\n",
              "      <th>Height</th>\n",
              "      <th>Female</th>\n",
              "      <th>Male</th>\n",
              "      <th>Currently smokes</th>\n",
              "      <th>Ex-smoker</th>\n",
              "      <th>Never smoked</th>\n",
              "    </tr>\n",
              "  </thead>\n",
              "  <tbody>\n",
              "    <tr>\n",
              "      <th>0</th>\n",
              "      <td>ID00007637202177411956430</td>\n",
              "      <td>-4</td>\n",
              "      <td>2315</td>\n",
              "      <td>58.253649</td>\n",
              "      <td>79</td>\n",
              "      <td>train</td>\n",
              "      <td>NaN</td>\n",
              "      <td>NaN</td>\n",
              "      <td>-4.0</td>\n",
              "      <td>2315</td>\n",
              "      <td>0.0</td>\n",
              "      <td>123.256309</td>\n",
              "      <td>0</td>\n",
              "      <td>1</td>\n",
              "      <td>0</td>\n",
              "      <td>1</td>\n",
              "      <td>0</td>\n",
              "    </tr>\n",
              "    <tr>\n",
              "      <th>1</th>\n",
              "      <td>ID00007637202177411956430</td>\n",
              "      <td>5</td>\n",
              "      <td>2214</td>\n",
              "      <td>55.712129</td>\n",
              "      <td>79</td>\n",
              "      <td>train</td>\n",
              "      <td>NaN</td>\n",
              "      <td>NaN</td>\n",
              "      <td>-4.0</td>\n",
              "      <td>2315</td>\n",
              "      <td>9.0</td>\n",
              "      <td>123.256309</td>\n",
              "      <td>0</td>\n",
              "      <td>1</td>\n",
              "      <td>0</td>\n",
              "      <td>1</td>\n",
              "      <td>0</td>\n",
              "    </tr>\n",
              "    <tr>\n",
              "      <th>2</th>\n",
              "      <td>ID00007637202177411956430</td>\n",
              "      <td>7</td>\n",
              "      <td>2061</td>\n",
              "      <td>51.862104</td>\n",
              "      <td>79</td>\n",
              "      <td>train</td>\n",
              "      <td>NaN</td>\n",
              "      <td>NaN</td>\n",
              "      <td>-4.0</td>\n",
              "      <td>2315</td>\n",
              "      <td>11.0</td>\n",
              "      <td>123.256309</td>\n",
              "      <td>0</td>\n",
              "      <td>1</td>\n",
              "      <td>0</td>\n",
              "      <td>1</td>\n",
              "      <td>0</td>\n",
              "    </tr>\n",
              "    <tr>\n",
              "      <th>3</th>\n",
              "      <td>ID00007637202177411956430</td>\n",
              "      <td>9</td>\n",
              "      <td>2144</td>\n",
              "      <td>53.950679</td>\n",
              "      <td>79</td>\n",
              "      <td>train</td>\n",
              "      <td>NaN</td>\n",
              "      <td>NaN</td>\n",
              "      <td>-4.0</td>\n",
              "      <td>2315</td>\n",
              "      <td>13.0</td>\n",
              "      <td>123.256309</td>\n",
              "      <td>0</td>\n",
              "      <td>1</td>\n",
              "      <td>0</td>\n",
              "      <td>1</td>\n",
              "      <td>0</td>\n",
              "    </tr>\n",
              "    <tr>\n",
              "      <th>4</th>\n",
              "      <td>ID00007637202177411956430</td>\n",
              "      <td>11</td>\n",
              "      <td>2069</td>\n",
              "      <td>52.063412</td>\n",
              "      <td>79</td>\n",
              "      <td>train</td>\n",
              "      <td>NaN</td>\n",
              "      <td>NaN</td>\n",
              "      <td>-4.0</td>\n",
              "      <td>2315</td>\n",
              "      <td>15.0</td>\n",
              "      <td>123.256309</td>\n",
              "      <td>0</td>\n",
              "      <td>1</td>\n",
              "      <td>0</td>\n",
              "      <td>1</td>\n",
              "      <td>0</td>\n",
              "    </tr>\n",
              "  </tbody>\n",
              "</table>\n",
              "</div>"
            ],
            "text/plain": [
              "                     Patient  Weeks   FVC    Percent  Age Dataset  Confidence  \\\n",
              "0  ID00007637202177411956430     -4  2315  58.253649   79   train         NaN   \n",
              "1  ID00007637202177411956430      5  2214  55.712129   79   train         NaN   \n",
              "2  ID00007637202177411956430      7  2061  51.862104   79   train         NaN   \n",
              "3  ID00007637202177411956430      9  2144  53.950679   79   train         NaN   \n",
              "4  ID00007637202177411956430     11  2069  52.063412   79   train         NaN   \n",
              "\n",
              "  Patient_Week  FirstWeek  FirstFVC  WeeksPassed      Height  Female  Male  \\\n",
              "0          NaN       -4.0      2315          0.0  123.256309       0     1   \n",
              "1          NaN       -4.0      2315          9.0  123.256309       0     1   \n",
              "2          NaN       -4.0      2315         11.0  123.256309       0     1   \n",
              "3          NaN       -4.0      2315         13.0  123.256309       0     1   \n",
              "4          NaN       -4.0      2315         15.0  123.256309       0     1   \n",
              "\n",
              "   Currently smokes  Ex-smoker  Never smoked  \n",
              "0                 0          1             0  \n",
              "1                 0          1             0  \n",
              "2                 0          1             0  \n",
              "3                 0          1             0  \n",
              "4                 0          1             0  "
            ]
          },
          "execution_count": 23,
          "metadata": {},
          "output_type": "execute_result"
        }
      ],
      "source": [
        "all_data.head()"
      ]
    },
    {
      "cell_type": "markdown",
      "metadata": {
        "papermill": {
          "duration": 0.044529,
          "end_time": "2023-04-15T11:26:43.009243",
          "exception": false,
          "start_time": "2023-04-15T11:26:42.964714",
          "status": "completed"
        },
        "tags": [],
        "id": "qD05a2UaawUi"
      },
      "source": [
        "### Scale features\n",
        "\n",
        "Now scale all the features to get them onto the same range of numbers (0-1)."
      ]
    },
    {
      "cell_type": "code",
      "execution_count": null,
      "metadata": {
        "execution": {
          "iopub.execute_input": "2023-04-15T11:26:43.110479Z",
          "iopub.status.busy": "2023-04-15T11:26:43.104064Z",
          "iopub.status.idle": "2023-04-15T11:26:43.118880Z",
          "shell.execute_reply": "2023-04-15T11:26:43.119485Z",
          "shell.execute_reply.started": "2023-04-14T19:56:16.477026Z"
        },
        "papermill": {
          "duration": 0.065251,
          "end_time": "2023-04-15T11:26:43.119650",
          "exception": false,
          "start_time": "2023-04-15T11:26:43.054399",
          "status": "completed"
        },
        "tags": [],
        "id": "P1piXXfuawUi"
      },
      "outputs": [],
      "source": [
        "def scale_feature(series):\n",
        "    return (series - series.min()) / (series.max() - series.min())\n",
        "\n",
        "all_data['Weeks'] = scale_feature(all_data['Weeks'])\n",
        "all_data['Percent'] = scale_feature(all_data['Percent'])\n",
        "all_data['Age'] = scale_feature(all_data['Age'])\n",
        "all_data['FirstWeek'] = scale_feature(all_data['FirstWeek'])\n",
        "all_data['FirstFVC'] = scale_feature(all_data['FirstFVC'])\n",
        "all_data['WeeksPassed'] = scale_feature(all_data['WeeksPassed'])\n",
        "all_data['Height'] = scale_feature(all_data['Height'])"
      ]
    },
    {
      "cell_type": "markdown",
      "metadata": {
        "papermill": {
          "duration": 0.047045,
          "end_time": "2023-04-15T11:26:43.215445",
          "exception": false,
          "start_time": "2023-04-15T11:26:43.168400",
          "status": "completed"
        },
        "tags": [],
        "id": "ug0JRiUMawUi"
      },
      "source": [
        "Specify what columns will be used as features. This is for easy filtering of the datasets later."
      ]
    },
    {
      "cell_type": "code",
      "execution_count": null,
      "metadata": {
        "execution": {
          "iopub.execute_input": "2023-04-15T11:26:43.311015Z",
          "iopub.status.busy": "2023-04-15T11:26:43.310245Z",
          "iopub.status.idle": "2023-04-15T11:26:43.315347Z",
          "shell.execute_reply": "2023-04-15T11:26:43.315849Z",
          "shell.execute_reply.started": "2023-04-14T19:56:20.967373Z"
        },
        "papermill": {
          "duration": 0.054055,
          "end_time": "2023-04-15T11:26:43.316010",
          "exception": false,
          "start_time": "2023-04-15T11:26:43.261955",
          "status": "completed"
        },
        "tags": [],
        "id": "bmyxGfqUawUi"
      },
      "outputs": [],
      "source": [
        "feature_columns = [\n",
        "    'Percent',\n",
        "    'Age',\n",
        "    'FirstWeek',\n",
        "    'FirstFVC',\n",
        "    'WeeksPassed',\n",
        "    'Height',\n",
        "    'Female',\n",
        "    'Male', \n",
        "    'Currently smokes',\n",
        "    'Ex-smoker',\n",
        "    'Never smoked',\n",
        "]"
      ]
    },
    {
      "cell_type": "markdown",
      "metadata": {
        "papermill": {
          "duration": 0.045383,
          "end_time": "2023-04-15T11:26:43.409338",
          "exception": false,
          "start_time": "2023-04-15T11:26:43.363955",
          "status": "completed"
        },
        "tags": [],
        "id": "-L_JTyiaawUj"
      },
      "source": [
        "### Split dataframe\n",
        "\n",
        "Split the data back into the three dataframes they started as."
      ]
    },
    {
      "cell_type": "code",
      "execution_count": null,
      "metadata": {
        "execution": {
          "iopub.execute_input": "2023-04-15T11:26:43.507379Z",
          "iopub.status.busy": "2023-04-15T11:26:43.506556Z",
          "iopub.status.idle": "2023-04-15T11:26:43.513726Z",
          "shell.execute_reply": "2023-04-15T11:26:43.513094Z",
          "shell.execute_reply.started": "2023-04-14T19:56:26.006959Z"
        },
        "papermill": {
          "duration": 0.058385,
          "end_time": "2023-04-15T11:26:43.513871",
          "exception": false,
          "start_time": "2023-04-15T11:26:43.455486",
          "status": "completed"
        },
        "tags": [],
        "id": "QtC5dnPsawUj"
      },
      "outputs": [],
      "source": [
        "train = all_data.loc[all_data.Dataset == 'train']\n",
        "test = all_data.loc[all_data.Dataset == 'test']\n",
        "submission = all_data.loc[all_data.Dataset == 'submission']"
      ]
    },
    {
      "cell_type": "markdown",
      "metadata": {
        "papermill": {
          "duration": 0.045477,
          "end_time": "2023-04-15T11:26:43.605734",
          "exception": false,
          "start_time": "2023-04-15T11:26:43.560257",
          "status": "completed"
        },
        "tags": [],
        "id": "KG25vOVPawUj"
      },
      "source": [
        "And take a look at the features that will be used to train the model."
      ]
    },
    {
      "cell_type": "code",
      "execution_count": null,
      "metadata": {
        "execution": {
          "iopub.execute_input": "2023-04-15T11:26:43.764626Z",
          "iopub.status.busy": "2023-04-15T11:26:43.758489Z",
          "iopub.status.idle": "2023-04-15T11:26:43.769247Z",
          "shell.execute_reply": "2023-04-15T11:26:43.769799Z",
          "shell.execute_reply.started": "2023-04-14T19:56:32.189708Z"
        },
        "papermill": {
          "duration": 0.118135,
          "end_time": "2023-04-15T11:26:43.769951",
          "exception": false,
          "start_time": "2023-04-15T11:26:43.651816",
          "status": "completed"
        },
        "tags": [],
        "id": "cWs0ymL-awUj",
        "outputId": "38618272-790b-4fbd-f13c-f937afb70e02"
      },
      "outputs": [
        {
          "data": {
            "text/html": [
              "<div>\n",
              "<style scoped>\n",
              "    .dataframe tbody tr th:only-of-type {\n",
              "        vertical-align: middle;\n",
              "    }\n",
              "\n",
              "    .dataframe tbody tr th {\n",
              "        vertical-align: top;\n",
              "    }\n",
              "\n",
              "    .dataframe thead th {\n",
              "        text-align: right;\n",
              "    }\n",
              "</style>\n",
              "<table border=\"1\" class=\"dataframe\">\n",
              "  <thead>\n",
              "    <tr style=\"text-align: right;\">\n",
              "      <th></th>\n",
              "      <th>Percent</th>\n",
              "      <th>Age</th>\n",
              "      <th>FirstWeek</th>\n",
              "      <th>FirstFVC</th>\n",
              "      <th>WeeksPassed</th>\n",
              "      <th>Height</th>\n",
              "      <th>Female</th>\n",
              "      <th>Male</th>\n",
              "      <th>Currently smokes</th>\n",
              "      <th>Ex-smoker</th>\n",
              "      <th>Never smoked</th>\n",
              "    </tr>\n",
              "  </thead>\n",
              "  <tbody>\n",
              "    <tr>\n",
              "      <th>0</th>\n",
              "      <td>0.236393</td>\n",
              "      <td>0.769231</td>\n",
              "      <td>0.011905</td>\n",
              "      <td>0.241456</td>\n",
              "      <td>0.179012</td>\n",
              "      <td>0.211783</td>\n",
              "      <td>0</td>\n",
              "      <td>1</td>\n",
              "      <td>0</td>\n",
              "      <td>1</td>\n",
              "      <td>0</td>\n",
              "    </tr>\n",
              "    <tr>\n",
              "      <th>1</th>\n",
              "      <td>0.215941</td>\n",
              "      <td>0.769231</td>\n",
              "      <td>0.011905</td>\n",
              "      <td>0.241456</td>\n",
              "      <td>0.234568</td>\n",
              "      <td>0.211783</td>\n",
              "      <td>0</td>\n",
              "      <td>1</td>\n",
              "      <td>0</td>\n",
              "      <td>1</td>\n",
              "      <td>0</td>\n",
              "    </tr>\n",
              "    <tr>\n",
              "      <th>2</th>\n",
              "      <td>0.184960</td>\n",
              "      <td>0.769231</td>\n",
              "      <td>0.011905</td>\n",
              "      <td>0.241456</td>\n",
              "      <td>0.246914</td>\n",
              "      <td>0.211783</td>\n",
              "      <td>0</td>\n",
              "      <td>1</td>\n",
              "      <td>0</td>\n",
              "      <td>1</td>\n",
              "      <td>0</td>\n",
              "    </tr>\n",
              "    <tr>\n",
              "      <th>3</th>\n",
              "      <td>0.201767</td>\n",
              "      <td>0.769231</td>\n",
              "      <td>0.011905</td>\n",
              "      <td>0.241456</td>\n",
              "      <td>0.259259</td>\n",
              "      <td>0.211783</td>\n",
              "      <td>0</td>\n",
              "      <td>1</td>\n",
              "      <td>0</td>\n",
              "      <td>1</td>\n",
              "      <td>0</td>\n",
              "    </tr>\n",
              "    <tr>\n",
              "      <th>4</th>\n",
              "      <td>0.186580</td>\n",
              "      <td>0.769231</td>\n",
              "      <td>0.011905</td>\n",
              "      <td>0.241456</td>\n",
              "      <td>0.271605</td>\n",
              "      <td>0.211783</td>\n",
              "      <td>0</td>\n",
              "      <td>1</td>\n",
              "      <td>0</td>\n",
              "      <td>1</td>\n",
              "      <td>0</td>\n",
              "    </tr>\n",
              "  </tbody>\n",
              "</table>\n",
              "</div>"
            ],
            "text/plain": [
              "    Percent       Age  FirstWeek  FirstFVC  WeeksPassed    Height  Female  \\\n",
              "0  0.236393  0.769231   0.011905  0.241456     0.179012  0.211783       0   \n",
              "1  0.215941  0.769231   0.011905  0.241456     0.234568  0.211783       0   \n",
              "2  0.184960  0.769231   0.011905  0.241456     0.246914  0.211783       0   \n",
              "3  0.201767  0.769231   0.011905  0.241456     0.259259  0.211783       0   \n",
              "4  0.186580  0.769231   0.011905  0.241456     0.271605  0.211783       0   \n",
              "\n",
              "   Male  Currently smokes  Ex-smoker  Never smoked  \n",
              "0     1                 0          1             0  \n",
              "1     1                 0          1             0  \n",
              "2     1                 0          1             0  \n",
              "3     1                 0          1             0  \n",
              "4     1                 0          1             0  "
            ]
          },
          "execution_count": 27,
          "metadata": {},
          "output_type": "execute_result"
        }
      ],
      "source": [
        "train[feature_columns].head()"
      ]
    },
    {
      "cell_type": "markdown",
      "metadata": {
        "papermill": {
          "duration": 0.049025,
          "end_time": "2023-04-15T11:26:43.866029",
          "exception": false,
          "start_time": "2023-04-15T11:26:43.817004",
          "status": "completed"
        },
        "tags": [],
        "id": "fEYOFIO5awUj"
      },
      "source": [
        "## Model\n",
        "\n",
        "Huber Regressor is a type of robust regression algorithm used for modeling and predicting data that may contain outliers. Unlike traditional linear regression models that try to minimize the sum of squared errors, Huber Regressor minimizes a combination of squared errors for small values and absolute errors for larger ones, making it more resilient to outliers.\n",
        "\n",
        "Huber Regressor could be useful because medical data can often have outliers or noise that could significantly impact the accuracy of predictions. By using a robust regression algorithm like Huber Regressor, the machine learning model could be more effective in capturing patterns and trends in the data, while being less sensitive to outliers that could otherwise skew the results."
      ]
    },
    {
      "cell_type": "code",
      "execution_count": null,
      "metadata": {
        "execution": {
          "iopub.execute_input": "2023-04-15T11:26:43.964697Z",
          "iopub.status.busy": "2023-04-15T11:26:43.963893Z",
          "iopub.status.idle": "2023-04-15T11:26:43.968354Z",
          "shell.execute_reply": "2023-04-15T11:26:43.968942Z",
          "shell.execute_reply.started": "2023-04-14T19:56:34.956686Z"
        },
        "papermill": {
          "duration": 0.054434,
          "end_time": "2023-04-15T11:26:43.969108",
          "exception": false,
          "start_time": "2023-04-15T11:26:43.914674",
          "status": "completed"
        },
        "tags": [],
        "id": "0qgmWjxrawUj"
      },
      "outputs": [],
      "source": [
        "model = linear_model.HuberRegressor(max_iter=200)"
      ]
    },
    {
      "cell_type": "markdown",
      "source": [
        "This line of code creates an instance of the `HuberRegressor` class from scikit-learn's `linear_model` module, and assigns it to the variable `model`. \n",
        "\n",
        "The `HuberRegressor` is a type of linear regression model that is robust to outliers in the data, meaning that it can handle data points that deviate significantly from the rest of the data without being unduly influenced by them. It is similar to other linear regression models like `LinearRegression` or `Ridge`, but it uses a different loss function that is a combination of the mean squared error and the mean absolute error. This loss function gives less weight to data points that deviate significantly from the rest of the data, making it more robust to outliers.\n",
        "\n",
        "The `max_iter` parameter is set to 200, which specifies the maximum number of iterations that the algorithm will perform during the optimization process. This parameter controls the maximum number of steps that the algorithm can take to find the optimal values of the model parameters (i.e., the coefficients of the linear regression equation) that minimize the loss function.\n",
        "\n",
        "Overall, this line of code creates a `HuberRegressor` model object that can be used to fit a linear regression model to data, and sets the maximum number of iterations for the optimization algorithm to 200."
      ],
      "metadata": {
        "id": "jLyz5Opzgtnf"
      }
    },
    {
      "cell_type": "code",
      "execution_count": null,
      "metadata": {
        "execution": {
          "iopub.execute_input": "2023-04-15T11:26:44.064113Z",
          "iopub.status.busy": "2023-04-15T11:26:44.063451Z",
          "iopub.status.idle": "2023-04-15T11:26:44.145496Z",
          "shell.execute_reply": "2023-04-15T11:26:44.143520Z",
          "shell.execute_reply.started": "2023-04-14T19:56:35.846871Z"
        },
        "papermill": {
          "duration": 0.13064,
          "end_time": "2023-04-15T11:26:44.145651",
          "exception": false,
          "start_time": "2023-04-15T11:26:44.015011",
          "status": "completed"
        },
        "tags": [],
        "id": "P6om3zsxawUj",
        "outputId": "c4805370-c672-42be-be3a-832e00fa5a6f"
      },
      "outputs": [
        {
          "data": {
            "text/plain": [
              "HuberRegressor(max_iter=200)"
            ]
          },
          "execution_count": 29,
          "metadata": {},
          "output_type": "execute_result"
        }
      ],
      "source": [
        "model.fit(train[feature_columns], train['FVC'])"
      ]
    },
    {
      "cell_type": "code",
      "execution_count": null,
      "metadata": {
        "execution": {
          "iopub.execute_input": "2023-04-15T11:26:44.246057Z",
          "iopub.status.busy": "2023-04-15T11:26:44.245366Z",
          "iopub.status.idle": "2023-04-15T11:26:44.248647Z",
          "shell.execute_reply": "2023-04-15T11:26:44.249385Z",
          "shell.execute_reply.started": "2023-04-14T19:56:55.407046Z"
        },
        "papermill": {
          "duration": 0.057788,
          "end_time": "2023-04-15T11:26:44.249544",
          "exception": false,
          "start_time": "2023-04-15T11:26:44.191756",
          "status": "completed"
        },
        "tags": [],
        "id": "M-3wKvZuawUk"
      },
      "outputs": [],
      "source": [
        "predictions = model.predict(train[feature_columns])"
      ]
    },
    {
      "cell_type": "markdown",
      "metadata": {
        "papermill": {
          "duration": 0.045767,
          "end_time": "2023-04-15T11:26:44.343111",
          "exception": false,
          "start_time": "2023-04-15T11:26:44.297344",
          "status": "completed"
        },
        "tags": [],
        "id": "HP8OxiPBawUk"
      },
      "source": [
        "## Evaluate\n",
        "\n",
        "Let's begin by having a look at the models weights. This gives us a good indication of what features are driving the models predictions."
      ]
    },
    {
      "cell_type": "code",
      "execution_count": null,
      "metadata": {
        "execution": {
          "iopub.execute_input": "2023-04-15T11:26:44.439917Z",
          "iopub.status.busy": "2023-04-15T11:26:44.439234Z",
          "iopub.status.idle": "2023-04-15T11:26:44.612930Z",
          "shell.execute_reply": "2023-04-15T11:26:44.612231Z",
          "shell.execute_reply.started": "2023-04-14T19:56:58.316627Z"
        },
        "papermill": {
          "duration": 0.223201,
          "end_time": "2023-04-15T11:26:44.613055",
          "exception": false,
          "start_time": "2023-04-15T11:26:44.389854",
          "status": "completed"
        },
        "tags": [],
        "id": "IODYXWm4awUk",
        "outputId": "7e12134e-1795-41b6-d1f0-ace492769d8b"
      },
      "outputs": [
        {
          "data": {
            "image/png": "[encoded data removed]",
            "text/plain": [
              "<Figure size 432x288 with 1 Axes>"
            ]
          },
          "metadata": {
            "needs_background": "light"
          },
          "output_type": "display_data"
        }
      ],
      "source": [
        "plt.bar(train[feature_columns].columns.values, model.coef_)\n",
        "plt.xticks(rotation=90)\n",
        "plt.show()"
      ]
    },
    {
      "cell_type": "markdown",
      "metadata": {
        "papermill": {
          "duration": 0.046179,
          "end_time": "2023-04-15T11:26:44.706568",
          "exception": false,
          "start_time": "2023-04-15T11:26:44.660389",
          "status": "completed"
        },
        "tags": [],
        "id": "8a4t7f2_awUk"
      },
      "source": [
        "While mean squared error isn't the competition metric it is a simple loss metric to help understand how close the models predictions are to the actual labels. The limitation of this error number though is that it can't be too close to zero as that would indicate over-fitting a model that should only be producing a trend line."
      ]
    },
    {
      "cell_type": "code",
      "execution_count": null,
      "metadata": {
        "execution": {
          "iopub.execute_input": "2023-04-15T11:26:44.807914Z",
          "iopub.status.busy": "2023-04-15T11:26:44.807210Z",
          "iopub.status.idle": "2023-04-15T11:26:44.811361Z",
          "shell.execute_reply": "2023-04-15T11:26:44.810673Z",
          "shell.execute_reply.started": "2023-04-14T19:57:02.257403Z"
        },
        "papermill": {
          "duration": 0.058331,
          "end_time": "2023-04-15T11:26:44.811493",
          "exception": false,
          "start_time": "2023-04-15T11:26:44.753162",
          "status": "completed"
        },
        "tags": [],
        "id": "WGzqVv_aawUk",
        "outputId": "a877c58b-c21c-4682-8414-b25fa8601b9a"
      },
      "outputs": [
        {
          "name": "stdout",
          "output_type": "stream",
          "text": [
            "MSE Loss: 177.35\n",
            "MAE Loss: 128.08\n"
          ]
        }
      ],
      "source": [
        "mse = mean_squared_error(\n",
        "    train['FVC'],\n",
        "    predictions,\n",
        "    squared=False\n",
        ")\n",
        "\n",
        "mae = mean_absolute_error(\n",
        "    train['FVC'],\n",
        "    predictions\n",
        ")\n",
        "\n",
        "print('MSE Loss: {0:.2f}'.format(mse))\n",
        "print('MAE Loss: {0:.2f}'.format(mae))"
      ]
    },
    {
      "cell_type": "markdown",
      "source": [
        "This code calculates the mean squared error (MSE) and mean absolute error (MAE) between the predicted FVC values and the actual FVC values in the training data. The `mean_squared_error` and `mean_absolute_error` functions are imported from scikit-learn's `metrics` module.\n",
        "\n",
        "Here's a step-by-step breakdown of what the code is doing:\n",
        "\n",
        "1. The `mean_squared_error` function takes three arguments: the actual FVC values in the training data (`train['FVC']`), the predicted FVC values (`predictions`), and `squared=False` to indicate that we want to calculate the root mean squared error (RMSE) rather than the squared MSE.\n",
        "\n",
        "2. The `mean_absolute_error` function takes the same two arguments as `mean_squared_error`: the actual FVC values in the training data and the predicted FVC values.\n",
        "\n",
        "3. The `mse` variable is assigned the RMSE value, which is calculated by `mean_squared_error`.\n",
        "\n",
        "4. The `mae` variable is assigned the MAE value, which is calculated by `mean_absolute_error`.\n",
        "\n",
        "5. The `print` statements output the calculated MSE and MAE values, formatted to two decimal places using the `format` method.\n",
        "\n",
        "Overall, this code evaluates the performance of the model by calculating the MSE and MAE between the predicted FVC values and the actual FVC values in the training data, and outputs the results to the console. This provides a measure of how well the model is fitting the training data, and can be used to compare the performance of different models or to tune the model's hyperparameters."
      ],
      "metadata": {
        "id": "sEs1j3lYg_8v"
      }
    },
    {
      "cell_type": "markdown",
      "metadata": {
        "papermill": {
          "duration": 0.047589,
          "end_time": "2023-04-15T11:26:44.905894",
          "exception": false,
          "start_time": "2023-04-15T11:26:44.858305",
          "status": "completed"
        },
        "tags": [],
        "id": "Ry-dMStzawUk"
      },
      "source": [
        "Found code for competition metric [here](https://www.kaggle.com/titericz/tabular-simple-eda-linear-model#Calculate-competition-metric)"
      ]
    },
    {
      "cell_type": "markdown",
      "metadata": {
        "papermill": {
          "duration": 0.046526,
          "end_time": "2023-04-15T11:26:44.999455",
          "exception": false,
          "start_time": "2023-04-15T11:26:44.952929",
          "status": "completed"
        },
        "tags": [],
        "id": "xph7xMErawUl"
      },
      "source": [
        "Let's also include a scatterplot and histogram to see an overview of how close the predictions are to the labels."
      ]
    },
    {
      "cell_type": "code",
      "execution_count": null,
      "metadata": {
        "execution": {
          "iopub.execute_input": "2023-04-15T11:26:45.102054Z",
          "iopub.status.busy": "2023-04-15T11:26:45.101065Z",
          "iopub.status.idle": "2023-04-15T11:26:45.108521Z",
          "shell.execute_reply": "2023-04-15T11:26:45.107766Z",
          "shell.execute_reply.started": "2023-04-14T20:13:10.508088Z"
        },
        "papermill": {
          "duration": 0.061838,
          "end_time": "2023-04-15T11:26:45.108665",
          "exception": false,
          "start_time": "2023-04-15T11:26:45.046827",
          "status": "completed"
        },
        "tags": [],
        "id": "SaJki-4oawUl",
        "outputId": "5337ced7-55ed-476f-8d12-b8904a7402ae"
      },
      "outputs": [
        {
          "name": "stderr",
          "output_type": "stream",
          "text": [
            "/opt/conda/lib/python3.7/site-packages/ipykernel_launcher.py:1: SettingWithCopyWarning: \n",
            "A value is trying to be set on a copy of a slice from a DataFrame.\n",
            "Try using .loc[row_indexer,col_indexer] = value instead\n",
            "\n",
            "See the caveats in the documentation: https://pandas.pydata.org/pandas-docs/stable/user_guide/indexing.html#returning-a-view-versus-a-copy\n",
            "  \"\"\"Entry point for launching an IPython kernel.\n"
          ]
        }
      ],
      "source": [
        "train['prediction'] = predictions"
      ]
    },
    {
      "cell_type": "code",
      "execution_count": null,
      "metadata": {
        "execution": {
          "iopub.execute_input": "2023-04-15T11:26:45.227142Z",
          "iopub.status.busy": "2023-04-15T11:26:45.223423Z",
          "iopub.status.idle": "2023-04-15T11:26:45.392885Z",
          "shell.execute_reply": "2023-04-15T11:26:45.393472Z",
          "shell.execute_reply.started": "2023-04-14T19:57:09.791076Z"
        },
        "papermill": {
          "duration": 0.232707,
          "end_time": "2023-04-15T11:26:45.393641",
          "exception": false,
          "start_time": "2023-04-15T11:26:45.160934",
          "status": "completed"
        },
        "tags": [],
        "id": "9mtTAFG4awUl",
        "outputId": "a526e658-71e1-4a7a-f3a2-62be5b3cb9aa"
      },
      "outputs": [
        {
          "data": {
            "image/png": "[encoded data removed]",
            "text/plain": [
              "<Figure size 432x288 with 1 Axes>"
            ]
          },
          "metadata": {
            "needs_background": "light"
          },
          "output_type": "display_data"
        }
      ],
      "source": [
        "plt.scatter(predictions, train['FVC'])\n",
        "\n",
        "plt.xlabel('predictions')\n",
        "plt.ylabel('FVC (labels)')\n",
        "plt.show()"
      ]
    },
    {
      "cell_type": "code",
      "execution_count": null,
      "metadata": {
        "execution": {
          "iopub.execute_input": "2023-04-15T11:26:45.504012Z",
          "iopub.status.busy": "2023-04-15T11:26:45.503220Z",
          "iopub.status.idle": "2023-04-15T11:26:45.704663Z",
          "shell.execute_reply": "2023-04-15T11:26:45.704087Z",
          "shell.execute_reply.started": "2023-04-14T19:57:11.443460Z"
        },
        "papermill": {
          "duration": 0.257029,
          "end_time": "2023-04-15T11:26:45.704802",
          "exception": false,
          "start_time": "2023-04-15T11:26:45.447773",
          "status": "completed"
        },
        "tags": [],
        "id": "PY1YMhCTawUl",
        "outputId": "1d9ed985-75fb-4934-9197-3fc608633d81"
      },
      "outputs": [
        {
          "data": {
            "image/png": "[encoded data removed]",
            "text/plain": [
              "<Figure size 432x288 with 1 Axes>"
            ]
          },
          "metadata": {
            "needs_background": "light"
          },
          "output_type": "display_data"
        }
      ],
      "source": [
        "delta = predictions - train['FVC']\n",
        "plt.hist(delta, bins=20)\n",
        "plt.show()"
      ]
    },
    {
      "cell_type": "markdown",
      "metadata": {
        "papermill": {
          "duration": 0.051785,
          "end_time": "2023-04-15T11:26:45.807387",
          "exception": false,
          "start_time": "2023-04-15T11:26:45.755602",
          "status": "completed"
        },
        "tags": [],
        "id": "qwirRaVRawUl"
      },
      "source": [
        "Finally take the first five patients as a sample and compare the true FVC readings against the models predicted FVC readings."
      ]
    },
    {
      "cell_type": "code",
      "execution_count": null,
      "metadata": {
        "execution": {
          "iopub.execute_input": "2023-04-15T11:26:45.921699Z",
          "iopub.status.busy": "2023-04-15T11:26:45.920896Z",
          "iopub.status.idle": "2023-04-15T11:26:46.816274Z",
          "shell.execute_reply": "2023-04-15T11:26:46.816857Z",
          "shell.execute_reply.started": "2023-04-14T19:57:13.373216Z"
        },
        "papermill": {
          "duration": 0.958191,
          "end_time": "2023-04-15T11:26:46.817017",
          "exception": false,
          "start_time": "2023-04-15T11:26:45.858826",
          "status": "completed"
        },
        "tags": [],
        "id": "wft7E8-4awUl",
        "outputId": "a164e09b-880a-40ce-9767-9b3b6730fdcd"
      },
      "outputs": [
        {
          "data": {
            "image/png": "[encoded data removed]",
            "text/plain": [
              "<Figure size 720x1440 with 5 Axes>"
            ]
          },
          "metadata": {
            "needs_background": "light"
          },
          "output_type": "display_data"
        }
      ],
      "source": [
        "fig, ax = plt.subplots(5, 1, figsize=(10, 20))\n",
        "\n",
        "for i in range(5):\n",
        "    patient_log = train[train['Patient'] == train_patients[i]]\n",
        "\n",
        "    ax[i].set_title(train_patients[i])\n",
        "    ax[i].plot(patient_log['WeeksPassed'], patient_log['FVC'], label='truth')\n",
        "    ax[i].plot(patient_log['WeeksPassed'], patient_log['prediction'], label='prediction')\n",
        "    ax[i].legend()"
      ]
    },
    {
      "cell_type": "markdown",
      "source": [
        "This code creates a plot with 5 subplots arranged vertically using the `subplots` function from the `matplotlib.pyplot` module, and assigns the figure object and an array of 5 axes objects to the variables `fig` and `ax`, respectively. \n",
        "\n",
        "Then, for each subplot, the code selects a patient from the training data using the patient ID stored in `train_patients`, and plots the actual FVC values (`patient_log['FVC']`) against the predicted FVC values (`patient_log['prediction']`) for each week passed (`patient_log['WeeksPassed']`). The `set_title` function is used to set the title of each subplot to the corresponding patient ID, and the `plot` function is used to plot the actual and predicted FVC values against the weeks passed. The `label` parameter is used to label the two lines in the plot, and the `legend` function is called to display a legend for the plot.\n",
        "\n",
        "Overall, this code creates a plot that shows the actual and predicted FVC values for a subset of patients in the training data, which can be used to visually evaluate the performance of the model."
      ],
      "metadata": {
        "id": "GfKSjIvJht_q"
      }
    },
    {
      "cell_type": "code",
      "execution_count": null,
      "metadata": {
        "papermill": {
          "duration": 0.056436,
          "end_time": "2023-04-15T11:26:46.937374",
          "exception": false,
          "start_time": "2023-04-15T11:26:46.880938",
          "status": "completed"
        },
        "tags": [],
        "id": "SSf1fjjSawUl"
      },
      "outputs": [],
      "source": []
    },
    {
      "cell_type": "code",
      "execution_count": null,
      "metadata": {
        "papermill": {
          "duration": 0.056912,
          "end_time": "2023-04-15T11:26:47.050762",
          "exception": false,
          "start_time": "2023-04-15T11:26:46.993850",
          "status": "completed"
        },
        "tags": [],
        "id": "a_3iQzvRawUm"
      },
      "outputs": [],
      "source": []
    }
  ],
  "metadata": {
    "kernelspec": {
      "display_name": "Python 3",
      "language": "python",
      "name": "python3"
    },
    "language_info": {
      "codemirror_mode": {
        "name": "ipython",
        "version": 3
      },
      "file_extension": ".py",
      "mimetype": "text/x-python",
      "name": "python",
      "nbconvert_exporter": "python",
      "pygments_lexer": "ipython3",
      "version": "3.7.6"
    },
    "papermill": {
      "duration": 21.444403,
      "end_time": "2023-04-15T11:26:47.213124",
      "environment_variables": {},
      "exception": null,
      "input_path": "__notebook__.ipynb",
      "output_path": "__notebook__.ipynb",
      "parameters": {},
      "start_time": "2023-04-15T11:26:25.768721",
      "version": "2.1.0"
    },
    "colab": {
      "provenance": []
    }
  },
  "nbformat": 4,
  "nbformat_minor": 0
}