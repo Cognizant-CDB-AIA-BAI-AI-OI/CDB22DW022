{
 "cells": [
  {
   "cell_type": "code",
   "execution_count": 1,
   "id": "7400cf32",
   "metadata": {},
   "outputs": [
    {
     "name": "stdout",
     "output_type": "stream",
     "text": [
      "Defaulting to user installation because normal site-packages is not writeable\n",
      "Requirement already satisfied: bayesian-optimization==1.4.1 in c:\\users\\2216027\\appdata\\roaming\\python\\python39\\site-packages (1.4.1)\n",
      "Requirement already satisfied: scipy>=1.0.0 in c:\\users\\2216027\\appdata\\roaming\\python\\python39\\site-packages (from bayesian-optimization==1.4.1) (1.10.1)\n",
      "Requirement already satisfied: colorama in c:\\users\\2216027\\appdata\\roaming\\python\\python39\\site-packages (from bayesian-optimization==1.4.1) (0.4.6)\n",
      "Requirement already satisfied: scikit-learn>=0.18.0 in c:\\users\\2216027\\appdata\\roaming\\python\\python39\\site-packages (from bayesian-optimization==1.4.1) (1.2.2)\n",
      "Requirement already satisfied: numpy>=1.9.0 in c:\\users\\2216027\\appdata\\roaming\\python\\python39\\site-packages (from bayesian-optimization==1.4.1) (1.24.2)\n",
      "Requirement already satisfied: joblib>=1.1.1 in c:\\users\\2216027\\appdata\\roaming\\python\\python39\\site-packages (from scikit-learn>=0.18.0->bayesian-optimization==1.4.1) (1.2.0)\n",
      "Requirement already satisfied: threadpoolctl>=2.0.0 in c:\\users\\2216027\\appdata\\roaming\\python\\python39\\site-packages (from scikit-learn>=0.18.0->bayesian-optimization==1.4.1) (3.1.0)\n"
     ]
    }
   ],
   "source": [
    "!pip install bayesian-optimization==1.4.1"
   ]
  },
  {
   "cell_type": "code",
   "execution_count": 2,
   "id": "b9f70f80",
   "metadata": {},
   "outputs": [],
   "source": [
    "#Importing the required libraries\n",
    "import numpy as np\n",
    "import pandas as pd\n",
    "import matplotlib.pyplot as plt\n",
    "import seaborn as sns\n",
    "\n",
    "from scipy.stats import chi2_contingency\n",
    "from statsmodels.graphics.mosaicplot import mosaic\n",
    "\n",
    "from sklearn.model_selection import train_test_split\n",
    "from sklearn.linear_model import LinearRegression,LogisticRegression\n",
    "from sklearn.svm import SVC\n",
    "from sklearn.neural_network import MLPClassifier\n",
    "from xgboost import XGBClassifier\n",
    "\n",
    "from sklearn.metrics import precision_score,recall_score,confusion_matrix, roc_curve, auc,f1_score,accuracy_score\n",
    "from imblearn.over_sampling import RandomOverSampler\n",
    "from sklearn.ensemble import RandomForestClassifier\n",
    "from scipy.stats import randint\n",
    "from sklearn.model_selection import RandomizedSearchCV,cross_val_score, KFold, GridSearchCV\n",
    "from bayes_opt import BayesianOptimization"
   ]
  },
  {
   "cell_type": "code",
   "execution_count": 3,
   "id": "e4c6c99e",
   "metadata": {},
   "outputs": [
    {
     "data": {
      "text/html": [
       "<div>\n",
       "<style scoped>\n",
       "    .dataframe tbody tr th:only-of-type {\n",
       "        vertical-align: middle;\n",
       "    }\n",
       "\n",
       "    .dataframe tbody tr th {\n",
       "        vertical-align: top;\n",
       "    }\n",
       "\n",
       "    .dataframe thead th {\n",
       "        text-align: right;\n",
       "    }\n",
       "</style>\n",
       "<table border=\"1\" class=\"dataframe\">\n",
       "  <thead>\n",
       "    <tr style=\"text-align: right;\">\n",
       "      <th></th>\n",
       "      <th>Age</th>\n",
       "      <th>Sex</th>\n",
       "      <th>Job</th>\n",
       "      <th>Housing</th>\n",
       "      <th>Saving accounts</th>\n",
       "      <th>Checking account</th>\n",
       "      <th>Credit amount</th>\n",
       "      <th>Duration</th>\n",
       "      <th>Purpose</th>\n",
       "      <th>Risk</th>\n",
       "    </tr>\n",
       "  </thead>\n",
       "  <tbody>\n",
       "    <tr>\n",
       "      <th>0</th>\n",
       "      <td>67</td>\n",
       "      <td>male</td>\n",
       "      <td>2</td>\n",
       "      <td>own</td>\n",
       "      <td>NaN</td>\n",
       "      <td>little</td>\n",
       "      <td>1169</td>\n",
       "      <td>6</td>\n",
       "      <td>radio/TV</td>\n",
       "      <td>good</td>\n",
       "    </tr>\n",
       "    <tr>\n",
       "      <th>1</th>\n",
       "      <td>22</td>\n",
       "      <td>female</td>\n",
       "      <td>2</td>\n",
       "      <td>own</td>\n",
       "      <td>little</td>\n",
       "      <td>moderate</td>\n",
       "      <td>5951</td>\n",
       "      <td>48</td>\n",
       "      <td>radio/TV</td>\n",
       "      <td>bad</td>\n",
       "    </tr>\n",
       "    <tr>\n",
       "      <th>2</th>\n",
       "      <td>49</td>\n",
       "      <td>male</td>\n",
       "      <td>1</td>\n",
       "      <td>own</td>\n",
       "      <td>little</td>\n",
       "      <td>NaN</td>\n",
       "      <td>2096</td>\n",
       "      <td>12</td>\n",
       "      <td>education</td>\n",
       "      <td>good</td>\n",
       "    </tr>\n",
       "    <tr>\n",
       "      <th>3</th>\n",
       "      <td>45</td>\n",
       "      <td>male</td>\n",
       "      <td>2</td>\n",
       "      <td>free</td>\n",
       "      <td>little</td>\n",
       "      <td>little</td>\n",
       "      <td>7882</td>\n",
       "      <td>42</td>\n",
       "      <td>furniture/equipment</td>\n",
       "      <td>good</td>\n",
       "    </tr>\n",
       "    <tr>\n",
       "      <th>4</th>\n",
       "      <td>53</td>\n",
       "      <td>male</td>\n",
       "      <td>2</td>\n",
       "      <td>free</td>\n",
       "      <td>little</td>\n",
       "      <td>little</td>\n",
       "      <td>4870</td>\n",
       "      <td>24</td>\n",
       "      <td>car</td>\n",
       "      <td>bad</td>\n",
       "    </tr>\n",
       "  </tbody>\n",
       "</table>\n",
       "</div>"
      ],
      "text/plain": [
       "   Age     Sex  Job Housing Saving accounts Checking account  Credit amount  \\\n",
       "0   67    male    2     own             NaN           little           1169   \n",
       "1   22  female    2     own          little         moderate           5951   \n",
       "2   49    male    1     own          little              NaN           2096   \n",
       "3   45    male    2    free          little           little           7882   \n",
       "4   53    male    2    free          little           little           4870   \n",
       "\n",
       "   Duration              Purpose  Risk  \n",
       "0         6             radio/TV  good  \n",
       "1        48             radio/TV   bad  \n",
       "2        12            education  good  \n",
       "3        42  furniture/equipment  good  \n",
       "4        24                  car   bad  "
      ]
     },
     "execution_count": 3,
     "metadata": {},
     "output_type": "execute_result"
    }
   ],
   "source": [
    "#Loading and viewing the data\n",
    "df = pd.read_csv(\"german_credit_data.csv\")\n",
    "df = df.drop(columns=[\"Unnamed: 0\"],axis=0)\n",
    "df.head()"
   ]
  },
  {
   "cell_type": "code",
   "execution_count": 4,
   "id": "92fbdef7",
   "metadata": {},
   "outputs": [
    {
     "data": {
      "text/html": [
       "<div>\n",
       "<style scoped>\n",
       "    .dataframe tbody tr th:only-of-type {\n",
       "        vertical-align: middle;\n",
       "    }\n",
       "\n",
       "    .dataframe tbody tr th {\n",
       "        vertical-align: top;\n",
       "    }\n",
       "\n",
       "    .dataframe thead th {\n",
       "        text-align: right;\n",
       "    }\n",
       "</style>\n",
       "<table border=\"1\" class=\"dataframe\">\n",
       "  <thead>\n",
       "    <tr style=\"text-align: right;\">\n",
       "      <th></th>\n",
       "      <th>Age</th>\n",
       "      <th>Job</th>\n",
       "      <th>Credit amount</th>\n",
       "      <th>Duration</th>\n",
       "    </tr>\n",
       "  </thead>\n",
       "  <tbody>\n",
       "    <tr>\n",
       "      <th>count</th>\n",
       "      <td>1000.000000</td>\n",
       "      <td>1000.000000</td>\n",
       "      <td>1000.000000</td>\n",
       "      <td>1000.000000</td>\n",
       "    </tr>\n",
       "    <tr>\n",
       "      <th>mean</th>\n",
       "      <td>35.546000</td>\n",
       "      <td>1.904000</td>\n",
       "      <td>3271.258000</td>\n",
       "      <td>20.903000</td>\n",
       "    </tr>\n",
       "    <tr>\n",
       "      <th>std</th>\n",
       "      <td>11.375469</td>\n",
       "      <td>0.653614</td>\n",
       "      <td>2822.736876</td>\n",
       "      <td>12.058814</td>\n",
       "    </tr>\n",
       "    <tr>\n",
       "      <th>min</th>\n",
       "      <td>19.000000</td>\n",
       "      <td>0.000000</td>\n",
       "      <td>250.000000</td>\n",
       "      <td>4.000000</td>\n",
       "    </tr>\n",
       "    <tr>\n",
       "      <th>25%</th>\n",
       "      <td>27.000000</td>\n",
       "      <td>2.000000</td>\n",
       "      <td>1365.500000</td>\n",
       "      <td>12.000000</td>\n",
       "    </tr>\n",
       "    <tr>\n",
       "      <th>50%</th>\n",
       "      <td>33.000000</td>\n",
       "      <td>2.000000</td>\n",
       "      <td>2319.500000</td>\n",
       "      <td>18.000000</td>\n",
       "    </tr>\n",
       "    <tr>\n",
       "      <th>75%</th>\n",
       "      <td>42.000000</td>\n",
       "      <td>2.000000</td>\n",
       "      <td>3972.250000</td>\n",
       "      <td>24.000000</td>\n",
       "    </tr>\n",
       "    <tr>\n",
       "      <th>max</th>\n",
       "      <td>75.000000</td>\n",
       "      <td>3.000000</td>\n",
       "      <td>18424.000000</td>\n",
       "      <td>72.000000</td>\n",
       "    </tr>\n",
       "  </tbody>\n",
       "</table>\n",
       "</div>"
      ],
      "text/plain": [
       "               Age          Job  Credit amount     Duration\n",
       "count  1000.000000  1000.000000    1000.000000  1000.000000\n",
       "mean     35.546000     1.904000    3271.258000    20.903000\n",
       "std      11.375469     0.653614    2822.736876    12.058814\n",
       "min      19.000000     0.000000     250.000000     4.000000\n",
       "25%      27.000000     2.000000    1365.500000    12.000000\n",
       "50%      33.000000     2.000000    2319.500000    18.000000\n",
       "75%      42.000000     2.000000    3972.250000    24.000000\n",
       "max      75.000000     3.000000   18424.000000    72.000000"
      ]
     },
     "execution_count": 4,
     "metadata": {},
     "output_type": "execute_result"
    }
   ],
   "source": [
    "#Descriptive stats about the data\n",
    "df.describe()"
   ]
  },
  {
   "cell_type": "code",
   "execution_count": 5,
   "id": "9daf94b3",
   "metadata": {},
   "outputs": [
    {
     "name": "stdout",
     "output_type": "stream",
     "text": [
      "Age                   0\n",
      "Sex                   0\n",
      "Job                   0\n",
      "Housing               0\n",
      "Saving accounts     183\n",
      "Checking account    394\n",
      "Credit amount         0\n",
      "Duration              0\n",
      "Purpose               0\n",
      "Risk                  0\n",
      "dtype: int64\n"
     ]
    }
   ],
   "source": [
    "#Checking and Filling Null Values\n",
    "print(df.isnull().sum(axis=0))\n",
    "df = df.fillna('No Account')"
   ]
  },
  {
   "cell_type": "code",
   "execution_count": 6,
   "id": "3d23815a",
   "metadata": {},
   "outputs": [
    {
     "name": "stdout",
     "output_type": "stream",
     "text": [
      "Unique values in column Sex: ['male' 'female']\n",
      "Unique values in column Job: [2 1 3 0]\n",
      "Unique values in column Housing: ['own' 'free' 'rent']\n",
      "Unique values in column Saving accounts: ['No Account' 'little' 'quite rich' 'rich' 'moderate']\n",
      "Unique values in column Checking account: ['little' 'moderate' 'No Account' 'rich']\n",
      "Unique values in column Purpose: ['radio/TV' 'education' 'furniture/equipment' 'car' 'business'\n",
      " 'domestic appliances' 'repairs' 'vacation/others']\n",
      "Unique values in column Risk: ['good' 'bad']\n"
     ]
    }
   ],
   "source": [
    "#Checking for the uniqe values in the categorical columns\n",
    "categorical = [\"Sex\",\"Job\",\"Housing\",\"Saving accounts\",\"Checking account\",\"Purpose\",\"Risk\"]\n",
    "for column in categorical:\n",
    "    unique_values = df[column].unique()\n",
    "    print(f'Unique values in column {column}: {unique_values}')"
   ]
  },
  {
   "cell_type": "markdown",
   "id": "033d308a",
   "metadata": {},
   "source": [
    "Univariate Analysis"
   ]
  },
  {
   "cell_type": "code",
   "execution_count": 7,
   "id": "192b2bd6",
   "metadata": {},
   "outputs": [],
   "source": [
    "#Count Plots for Categorical Variables\n",
    "def count(column,rot=0):\n",
    "    counts = df[column].value_counts().sort_values(ascending=False)\n",
    "    sns.countplot(x=column,data=df, order=counts.index)\n",
    "    plt.xlabel(f\"{column}\")\n",
    "    plt.ylabel(\"Frequenecy of Occurence\")\n",
    "    plt.title(f\"Countplot for {column}\")\n",
    "    plt.xticks(rotation=rot)\n",
    "    plt.show()\n",
    "    print(counts)"
   ]
  },
  {
   "cell_type": "code",
   "execution_count": 8,
   "id": "ce09c647",
   "metadata": {},
   "outputs": [
    {
     "data": {
      "image/png": "[encoded data removed]",
      "text/plain": [
       "<Figure size 432x288 with 1 Axes>"
      ]
     },
     "metadata": {
      "needs_background": "light"
     },
     "output_type": "display_data"
    },
    {
     "name": "stdout",
     "output_type": "stream",
     "text": [
      "male      690\n",
      "female    310\n",
      "Name: Sex, dtype: int64\n"
     ]
    },
    {
     "data": {
      "image/png": "[encoded data removed]",
      "text/plain": [
       "<Figure size 432x288 with 1 Axes>"
      ]
     },
     "metadata": {
      "needs_background": "light"
     },
     "output_type": "display_data"
    },
    {
     "name": "stdout",
     "output_type": "stream",
     "text": [
      "2    630\n",
      "1    200\n",
      "3    148\n",
      "0     22\n",
      "Name: Job, dtype: int64\n"
     ]
    },
    {
     "data": {
      "image/png": "[encoded data removed]",
      "text/plain": [
       "<Figure size 432x288 with 1 Axes>"
      ]
     },
     "metadata": {
      "needs_background": "light"
     },
     "output_type": "display_data"
    },
    {
     "name": "stdout",
     "output_type": "stream",
     "text": [
      "own     713\n",
      "rent    179\n",
      "free    108\n",
      "Name: Housing, dtype: int64\n"
     ]
    },
    {
     "data": {
      "image/png": "[encoded data removed]",
      "text/plain": [
       "<Figure size 432x288 with 1 Axes>"
      ]
     },
     "metadata": {
      "needs_background": "light"
     },
     "output_type": "display_data"
    },
    {
     "name": "stdout",
     "output_type": "stream",
     "text": [
      "little        603\n",
      "No Account    183\n",
      "moderate      103\n",
      "quite rich     63\n",
      "rich           48\n",
      "Name: Saving accounts, dtype: int64\n"
     ]
    },
    {
     "data": {
      "image/png": "[encoded data removed]",
      "text/plain": [
       "<Figure size 432x288 with 1 Axes>"
      ]
     },
     "metadata": {
      "needs_background": "light"
     },
     "output_type": "display_data"
    },
    {
     "name": "stdout",
     "output_type": "stream",
     "text": [
      "No Account    394\n",
      "little        274\n",
      "moderate      269\n",
      "rich           63\n",
      "Name: Checking account, dtype: int64\n"
     ]
    },
    {
     "data": {
      "image/png": "[encoded data removed]",
      "text/plain": [
       "<Figure size 432x288 with 1 Axes>"
      ]
     },
     "metadata": {
      "needs_background": "light"
     },
     "output_type": "display_data"
    },
    {
     "name": "stdout",
     "output_type": "stream",
     "text": [
      "car                    337\n",
      "radio/TV               280\n",
      "furniture/equipment    181\n",
      "business                97\n",
      "education               59\n",
      "repairs                 22\n",
      "domestic appliances     12\n",
      "vacation/others         12\n",
      "Name: Purpose, dtype: int64\n"
     ]
    },
    {
     "data": {
      "image/png": "[encoded data removed]",
      "text/plain": [
       "<Figure size 432x288 with 1 Axes>"
      ]
     },
     "metadata": {
      "needs_background": "light"
     },
     "output_type": "display_data"
    },
    {
     "name": "stdout",
     "output_type": "stream",
     "text": [
      "good    700\n",
      "bad     300\n",
      "Name: Risk, dtype: int64\n"
     ]
    }
   ],
   "source": [
    "for column in categorical:\n",
    "    if column==\"Purpose\":\n",
    "        count(column,90)\n",
    "    else:\n",
    "        count(column)"
   ]
  },
  {
   "cell_type": "markdown",
   "id": "9a7b6b91",
   "metadata": {},
   "source": [
    "These plots provide a distribution of the different classes and the target feature. Since the number of good credits are 70% of the dataset, we say that we have an imbalanced dataset."
   ]
  },
  {
   "cell_type": "code",
   "execution_count": 9,
   "id": "bbcb7498",
   "metadata": {},
   "outputs": [],
   "source": [
    "#Function for plotting distribution of continous features\n",
    "def hist(column,bins=20):\n",
    "    sns.histplot(x=column,data=df,bins=bins, color='deepskyblue',kde=True)\n",
    "    plt.show()"
   ]
  },
  {
   "cell_type": "code",
   "execution_count": 10,
   "id": "85c9f423",
   "metadata": {},
   "outputs": [
    {
     "data": {
      "image/png": "[encoded data removed]",
      "text/plain": [
       "<Figure size 432x288 with 1 Axes>"
      ]
     },
     "metadata": {
      "needs_background": "light"
     },
     "output_type": "display_data"
    },
    {
     "data": {
      "image/png": "[encoded data removed]",
      "text/plain": [
       "<Figure size 432x288 with 1 Axes>"
      ]
     },
     "metadata": {
      "needs_background": "light"
     },
     "output_type": "display_data"
    },
    {
     "data": {
      "image/png": "[encoded data removed]",
      "text/plain": [
       "<Figure size 432x288 with 1 Axes>"
      ]
     },
     "metadata": {
      "needs_background": "light"
     },
     "output_type": "display_data"
    }
   ],
   "source": [
    "num_columns = [\"Age\",\"Duration\",\"Credit amount\"]\n",
    "for column in num_columns:\n",
    "    hist(column)"
   ]
  },
  {
   "cell_type": "markdown",
   "id": "0fd18786",
   "metadata": {},
   "source": [
    "We see that all three distribtuions have a right skew"
   ]
  },
  {
   "cell_type": "markdown",
   "id": "ffb652ed",
   "metadata": {},
   "source": [
    "Bivariate Analysis"
   ]
  },
  {
   "cell_type": "code",
   "execution_count": 11,
   "id": "6b141a05",
   "metadata": {},
   "outputs": [],
   "source": [
    "#Checking the various categorical columns while comparing with target class\n",
    "def bivariate(column,rot=0):\n",
    "    sns.countplot(x=column, hue=\"Risk\", data=df)\n",
    "    plt.xticks(rotation=rot)\n",
    "    plt.show()\n",
    "    for cat in df[column].unique():\n",
    "        x = len(df[(df[col]==cat) & (df['Risk']=='bad')])/len(df[(df[col]==cat)])*100\n",
    "        print(f\"Percentage of {cat} with Bad Loans: {x:.2f}%\")"
   ]
  },
  {
   "cell_type": "code",
   "execution_count": 12,
   "id": "e72f491e",
   "metadata": {},
   "outputs": [
    {
     "data": {
      "image/png": "[encoded data removed]",
      "text/plain": [
       "<Figure size 432x288 with 1 Axes>"
      ]
     },
     "metadata": {
      "needs_background": "light"
     },
     "output_type": "display_data"
    },
    {
     "name": "stdout",
     "output_type": "stream",
     "text": [
      "Percentage of male with Bad Loans: 27.68%\n",
      "Percentage of female with Bad Loans: 35.16%\n"
     ]
    },
    {
     "data": {
      "image/png": "[encoded data removed]",
      "text/plain": [
       "<Figure size 432x288 with 1 Axes>"
      ]
     },
     "metadata": {
      "needs_background": "light"
     },
     "output_type": "display_data"
    },
    {
     "name": "stdout",
     "output_type": "stream",
     "text": [
      "Percentage of 2 with Bad Loans: 29.52%\n",
      "Percentage of 1 with Bad Loans: 28.00%\n",
      "Percentage of 3 with Bad Loans: 34.46%\n",
      "Percentage of 0 with Bad Loans: 31.82%\n"
     ]
    },
    {
     "data": {
      "image/png": "[encoded data removed]",
      "text/plain": [
       "<Figure size 432x288 with 1 Axes>"
      ]
     },
     "metadata": {
      "needs_background": "light"
     },
     "output_type": "display_data"
    },
    {
     "name": "stdout",
     "output_type": "stream",
     "text": [
      "Percentage of own with Bad Loans: 26.09%\n",
      "Percentage of free with Bad Loans: 40.74%\n",
      "Percentage of rent with Bad Loans: 39.11%\n"
     ]
    },
    {
     "data": {
      "image/png": "[encoded data removed]",
      "text/plain": [
       "<Figure size 432x288 with 1 Axes>"
      ]
     },
     "metadata": {
      "needs_background": "light"
     },
     "output_type": "display_data"
    },
    {
     "name": "stdout",
     "output_type": "stream",
     "text": [
      "Percentage of No Account with Bad Loans: 17.49%\n",
      "Percentage of little with Bad Loans: 35.99%\n",
      "Percentage of quite rich with Bad Loans: 17.46%\n",
      "Percentage of rich with Bad Loans: 12.50%\n",
      "Percentage of moderate with Bad Loans: 33.01%\n"
     ]
    },
    {
     "data": {
      "image/png": "[encoded data removed]",
      "text/plain": [
       "<Figure size 432x288 with 1 Axes>"
      ]
     },
     "metadata": {
      "needs_background": "light"
     },
     "output_type": "display_data"
    },
    {
     "name": "stdout",
     "output_type": "stream",
     "text": [
      "Percentage of little with Bad Loans: 49.27%\n",
      "Percentage of moderate with Bad Loans: 39.03%\n",
      "Percentage of No Account with Bad Loans: 11.68%\n",
      "Percentage of rich with Bad Loans: 22.22%\n"
     ]
    },
    {
     "data": {
      "image/png": "[encoded data removed]",
      "text/plain": [
       "<Figure size 432x288 with 1 Axes>"
      ]
     },
     "metadata": {
      "needs_background": "light"
     },
     "output_type": "display_data"
    },
    {
     "name": "stdout",
     "output_type": "stream",
     "text": [
      "Percentage of radio/TV with Bad Loans: 22.14%\n",
      "Percentage of education with Bad Loans: 38.98%\n",
      "Percentage of furniture/equipment with Bad Loans: 32.04%\n",
      "Percentage of car with Bad Loans: 31.45%\n",
      "Percentage of business with Bad Loans: 35.05%\n",
      "Percentage of domestic appliances with Bad Loans: 33.33%\n",
      "Percentage of repairs with Bad Loans: 36.36%\n",
      "Percentage of vacation/others with Bad Loans: 41.67%\n"
     ]
    }
   ],
   "source": [
    "for col in categorical:\n",
    "    if col == \"Risk\":\n",
    "        pass\n",
    "    elif col == \"Purpose\":\n",
    "        bivariate(col,90)\n",
    "    else:\n",
    "        bivariate(col)"
   ]
  },
  {
   "cell_type": "code",
   "execution_count": 13,
   "id": "92d575e1",
   "metadata": {},
   "outputs": [
    {
     "data": {
      "text/plain": [
       "<AxesSubplot:xlabel='Credit amount', ylabel='Purpose'>"
      ]
     },
     "execution_count": 13,
     "metadata": {},
     "output_type": "execute_result"
    },
    {
     "data": {
      "image/png": "[encoded data removed]",
      "text/plain": [
       "<Figure size 432x288 with 1 Axes>"
      ]
     },
     "metadata": {
      "needs_background": "light"
     },
     "output_type": "display_data"
    }
   ],
   "source": [
    "sns.boxplot(y=\"Purpose\",x=\"Credit amount\",data=df)"
   ]
  },
  {
   "cell_type": "code",
   "execution_count": 14,
   "id": "b9aaf7bc",
   "metadata": {},
   "outputs": [],
   "source": [
    "#Here we analyse the outliers of the credit amount wrt to the categories in the purpose feature\n",
    "def outlier_analysis(cat):\n",
    "    df_a = df[\"Credit amount\"].loc[df[\"Purpose\"]==cat]\n",
    "    out_l = df_a.quantile(0.75) + 1.5*(df_a.quantile(0.75) - df_a.quantile(0.25))\n",
    "    df_b = df[(df[\"Purpose\"]==cat) & (df[\"Credit amount\"]>out_l)]\n",
    "    display(df_b)\n",
    "    percent = len(df_b.loc[df_b[\"Risk\"]==\"bad\"])*100/len(df_b)\n",
    "    print(f\"Percentage of Bad Loans for {cat} where the credit amount lies in the oulier range: {percent:.2f}%\")"
   ]
  },
  {
   "cell_type": "code",
   "execution_count": 15,
   "id": "52c0fbe8",
   "metadata": {},
   "outputs": [
    {
     "data": {
      "text/html": [
       "<div>\n",
       "<style scoped>\n",
       "    .dataframe tbody tr th:only-of-type {\n",
       "        vertical-align: middle;\n",
       "    }\n",
       "\n",
       "    .dataframe tbody tr th {\n",
       "        vertical-align: top;\n",
       "    }\n",
       "\n",
       "    .dataframe thead th {\n",
       "        text-align: right;\n",
       "    }\n",
       "</style>\n",
       "<table border=\"1\" class=\"dataframe\">\n",
       "  <thead>\n",
       "    <tr style=\"text-align: right;\">\n",
       "      <th></th>\n",
       "      <th>Age</th>\n",
       "      <th>Sex</th>\n",
       "      <th>Job</th>\n",
       "      <th>Housing</th>\n",
       "      <th>Saving accounts</th>\n",
       "      <th>Checking account</th>\n",
       "      <th>Credit amount</th>\n",
       "      <th>Duration</th>\n",
       "      <th>Purpose</th>\n",
       "      <th>Risk</th>\n",
       "    </tr>\n",
       "  </thead>\n",
       "  <tbody>\n",
       "    <tr>\n",
       "      <th>1</th>\n",
       "      <td>22</td>\n",
       "      <td>female</td>\n",
       "      <td>2</td>\n",
       "      <td>own</td>\n",
       "      <td>little</td>\n",
       "      <td>moderate</td>\n",
       "      <td>5951</td>\n",
       "      <td>48</td>\n",
       "      <td>radio/TV</td>\n",
       "      <td>bad</td>\n",
       "    </tr>\n",
       "    <tr>\n",
       "      <th>56</th>\n",
       "      <td>52</td>\n",
       "      <td>male</td>\n",
       "      <td>3</td>\n",
       "      <td>own</td>\n",
       "      <td>No Account</td>\n",
       "      <td>moderate</td>\n",
       "      <td>6468</td>\n",
       "      <td>12</td>\n",
       "      <td>radio/TV</td>\n",
       "      <td>bad</td>\n",
       "    </tr>\n",
       "    <tr>\n",
       "      <th>57</th>\n",
       "      <td>31</td>\n",
       "      <td>female</td>\n",
       "      <td>2</td>\n",
       "      <td>own</td>\n",
       "      <td>little</td>\n",
       "      <td>No Account</td>\n",
       "      <td>9566</td>\n",
       "      <td>36</td>\n",
       "      <td>radio/TV</td>\n",
       "      <td>good</td>\n",
       "    </tr>\n",
       "    <tr>\n",
       "      <th>80</th>\n",
       "      <td>44</td>\n",
       "      <td>female</td>\n",
       "      <td>2</td>\n",
       "      <td>own</td>\n",
       "      <td>No Account</td>\n",
       "      <td>No Account</td>\n",
       "      <td>5943</td>\n",
       "      <td>24</td>\n",
       "      <td>radio/TV</td>\n",
       "      <td>bad</td>\n",
       "    </tr>\n",
       "    <tr>\n",
       "      <th>116</th>\n",
       "      <td>30</td>\n",
       "      <td>female</td>\n",
       "      <td>3</td>\n",
       "      <td>own</td>\n",
       "      <td>No Account</td>\n",
       "      <td>little</td>\n",
       "      <td>7174</td>\n",
       "      <td>42</td>\n",
       "      <td>radio/TV</td>\n",
       "      <td>bad</td>\n",
       "    </tr>\n",
       "    <tr>\n",
       "      <th>134</th>\n",
       "      <td>21</td>\n",
       "      <td>female</td>\n",
       "      <td>2</td>\n",
       "      <td>own</td>\n",
       "      <td>moderate</td>\n",
       "      <td>No Account</td>\n",
       "      <td>10144</td>\n",
       "      <td>60</td>\n",
       "      <td>radio/TV</td>\n",
       "      <td>good</td>\n",
       "    </tr>\n",
       "    <tr>\n",
       "      <th>152</th>\n",
       "      <td>24</td>\n",
       "      <td>male</td>\n",
       "      <td>2</td>\n",
       "      <td>own</td>\n",
       "      <td>little</td>\n",
       "      <td>rich</td>\n",
       "      <td>5848</td>\n",
       "      <td>36</td>\n",
       "      <td>radio/TV</td>\n",
       "      <td>good</td>\n",
       "    </tr>\n",
       "    <tr>\n",
       "      <th>226</th>\n",
       "      <td>27</td>\n",
       "      <td>male</td>\n",
       "      <td>2</td>\n",
       "      <td>own</td>\n",
       "      <td>rich</td>\n",
       "      <td>moderate</td>\n",
       "      <td>10961</td>\n",
       "      <td>48</td>\n",
       "      <td>radio/TV</td>\n",
       "      <td>bad</td>\n",
       "    </tr>\n",
       "    <tr>\n",
       "      <th>255</th>\n",
       "      <td>27</td>\n",
       "      <td>male</td>\n",
       "      <td>1</td>\n",
       "      <td>own</td>\n",
       "      <td>No Account</td>\n",
       "      <td>moderate</td>\n",
       "      <td>7418</td>\n",
       "      <td>60</td>\n",
       "      <td>radio/TV</td>\n",
       "      <td>good</td>\n",
       "    </tr>\n",
       "    <tr>\n",
       "      <th>353</th>\n",
       "      <td>28</td>\n",
       "      <td>male</td>\n",
       "      <td>2</td>\n",
       "      <td>rent</td>\n",
       "      <td>little</td>\n",
       "      <td>little</td>\n",
       "      <td>6199</td>\n",
       "      <td>12</td>\n",
       "      <td>radio/TV</td>\n",
       "      <td>bad</td>\n",
       "    </tr>\n",
       "    <tr>\n",
       "      <th>371</th>\n",
       "      <td>33</td>\n",
       "      <td>male</td>\n",
       "      <td>2</td>\n",
       "      <td>own</td>\n",
       "      <td>little</td>\n",
       "      <td>No Account</td>\n",
       "      <td>6070</td>\n",
       "      <td>18</td>\n",
       "      <td>radio/TV</td>\n",
       "      <td>good</td>\n",
       "    </tr>\n",
       "    <tr>\n",
       "      <th>467</th>\n",
       "      <td>32</td>\n",
       "      <td>male</td>\n",
       "      <td>2</td>\n",
       "      <td>own</td>\n",
       "      <td>No Account</td>\n",
       "      <td>No Account</td>\n",
       "      <td>7238</td>\n",
       "      <td>48</td>\n",
       "      <td>radio/TV</td>\n",
       "      <td>good</td>\n",
       "    </tr>\n",
       "    <tr>\n",
       "      <th>552</th>\n",
       "      <td>34</td>\n",
       "      <td>male</td>\n",
       "      <td>2</td>\n",
       "      <td>own</td>\n",
       "      <td>little</td>\n",
       "      <td>little</td>\n",
       "      <td>6999</td>\n",
       "      <td>48</td>\n",
       "      <td>radio/TV</td>\n",
       "      <td>bad</td>\n",
       "    </tr>\n",
       "    <tr>\n",
       "      <th>569</th>\n",
       "      <td>31</td>\n",
       "      <td>female</td>\n",
       "      <td>2</td>\n",
       "      <td>own</td>\n",
       "      <td>little</td>\n",
       "      <td>little</td>\n",
       "      <td>6758</td>\n",
       "      <td>48</td>\n",
       "      <td>radio/TV</td>\n",
       "      <td>bad</td>\n",
       "    </tr>\n",
       "    <tr>\n",
       "      <th>571</th>\n",
       "      <td>38</td>\n",
       "      <td>male</td>\n",
       "      <td>2</td>\n",
       "      <td>own</td>\n",
       "      <td>little</td>\n",
       "      <td>No Account</td>\n",
       "      <td>5954</td>\n",
       "      <td>30</td>\n",
       "      <td>radio/TV</td>\n",
       "      <td>good</td>\n",
       "    </tr>\n",
       "    <tr>\n",
       "      <th>616</th>\n",
       "      <td>27</td>\n",
       "      <td>male</td>\n",
       "      <td>3</td>\n",
       "      <td>free</td>\n",
       "      <td>No Account</td>\n",
       "      <td>moderate</td>\n",
       "      <td>9157</td>\n",
       "      <td>60</td>\n",
       "      <td>radio/TV</td>\n",
       "      <td>good</td>\n",
       "    </tr>\n",
       "    <tr>\n",
       "      <th>637</th>\n",
       "      <td>21</td>\n",
       "      <td>male</td>\n",
       "      <td>2</td>\n",
       "      <td>own</td>\n",
       "      <td>little</td>\n",
       "      <td>No Account</td>\n",
       "      <td>15653</td>\n",
       "      <td>60</td>\n",
       "      <td>radio/TV</td>\n",
       "      <td>good</td>\n",
       "    </tr>\n",
       "    <tr>\n",
       "      <th>657</th>\n",
       "      <td>37</td>\n",
       "      <td>male</td>\n",
       "      <td>2</td>\n",
       "      <td>own</td>\n",
       "      <td>No Account</td>\n",
       "      <td>No Account</td>\n",
       "      <td>10222</td>\n",
       "      <td>48</td>\n",
       "      <td>radio/TV</td>\n",
       "      <td>good</td>\n",
       "    </tr>\n",
       "    <tr>\n",
       "      <th>730</th>\n",
       "      <td>33</td>\n",
       "      <td>male</td>\n",
       "      <td>2</td>\n",
       "      <td>own</td>\n",
       "      <td>little</td>\n",
       "      <td>moderate</td>\n",
       "      <td>6403</td>\n",
       "      <td>24</td>\n",
       "      <td>radio/TV</td>\n",
       "      <td>good</td>\n",
       "    </tr>\n",
       "    <tr>\n",
       "      <th>753</th>\n",
       "      <td>25</td>\n",
       "      <td>female</td>\n",
       "      <td>2</td>\n",
       "      <td>own</td>\n",
       "      <td>little</td>\n",
       "      <td>No Account</td>\n",
       "      <td>5771</td>\n",
       "      <td>30</td>\n",
       "      <td>radio/TV</td>\n",
       "      <td>good</td>\n",
       "    </tr>\n",
       "    <tr>\n",
       "      <th>879</th>\n",
       "      <td>36</td>\n",
       "      <td>male</td>\n",
       "      <td>2</td>\n",
       "      <td>own</td>\n",
       "      <td>No Account</td>\n",
       "      <td>No Account</td>\n",
       "      <td>6742</td>\n",
       "      <td>30</td>\n",
       "      <td>radio/TV</td>\n",
       "      <td>good</td>\n",
       "    </tr>\n",
       "    <tr>\n",
       "      <th>921</th>\n",
       "      <td>37</td>\n",
       "      <td>male</td>\n",
       "      <td>3</td>\n",
       "      <td>own</td>\n",
       "      <td>quite rich</td>\n",
       "      <td>No Account</td>\n",
       "      <td>12749</td>\n",
       "      <td>48</td>\n",
       "      <td>radio/TV</td>\n",
       "      <td>good</td>\n",
       "    </tr>\n",
       "    <tr>\n",
       "      <th>968</th>\n",
       "      <td>29</td>\n",
       "      <td>male</td>\n",
       "      <td>2</td>\n",
       "      <td>rent</td>\n",
       "      <td>No Account</td>\n",
       "      <td>No Account</td>\n",
       "      <td>7166</td>\n",
       "      <td>42</td>\n",
       "      <td>radio/TV</td>\n",
       "      <td>good</td>\n",
       "    </tr>\n",
       "  </tbody>\n",
       "</table>\n",
       "</div>"
      ],
      "text/plain": [
       "     Age     Sex  Job Housing Saving accounts Checking account  Credit amount  \\\n",
       "1     22  female    2     own          little         moderate           5951   \n",
       "56    52    male    3     own      No Account         moderate           6468   \n",
       "57    31  female    2     own          little       No Account           9566   \n",
       "80    44  female    2     own      No Account       No Account           5943   \n",
       "116   30  female    3     own      No Account           little           7174   \n",
       "134   21  female    2     own        moderate       No Account          10144   \n",
       "152   24    male    2     own          little             rich           5848   \n",
       "226   27    male    2     own            rich         moderate          10961   \n",
       "255   27    male    1     own      No Account         moderate           7418   \n",
       "353   28    male    2    rent          little           little           6199   \n",
       "371   33    male    2     own          little       No Account           6070   \n",
       "467   32    male    2     own      No Account       No Account           7238   \n",
       "552   34    male    2     own          little           little           6999   \n",
       "569   31  female    2     own          little           little           6758   \n",
       "571   38    male    2     own          little       No Account           5954   \n",
       "616   27    male    3    free      No Account         moderate           9157   \n",
       "637   21    male    2     own          little       No Account          15653   \n",
       "657   37    male    2     own      No Account       No Account          10222   \n",
       "730   33    male    2     own          little         moderate           6403   \n",
       "753   25  female    2     own          little       No Account           5771   \n",
       "879   36    male    2     own      No Account       No Account           6742   \n",
       "921   37    male    3     own      quite rich       No Account          12749   \n",
       "968   29    male    2    rent      No Account       No Account           7166   \n",
       "\n",
       "     Duration   Purpose  Risk  \n",
       "1          48  radio/TV   bad  \n",
       "56         12  radio/TV   bad  \n",
       "57         36  radio/TV  good  \n",
       "80         24  radio/TV   bad  \n",
       "116        42  radio/TV   bad  \n",
       "134        60  radio/TV  good  \n",
       "152        36  radio/TV  good  \n",
       "226        48  radio/TV   bad  \n",
       "255        60  radio/TV  good  \n",
       "353        12  radio/TV   bad  \n",
       "371        18  radio/TV  good  \n",
       "467        48  radio/TV  good  \n",
       "552        48  radio/TV   bad  \n",
       "569        48  radio/TV   bad  \n",
       "571        30  radio/TV  good  \n",
       "616        60  radio/TV  good  \n",
       "637        60  radio/TV  good  \n",
       "657        48  radio/TV  good  \n",
       "730        24  radio/TV  good  \n",
       "753        30  radio/TV  good  \n",
       "879        30  radio/TV  good  \n",
       "921        48  radio/TV  good  \n",
       "968        42  radio/TV  good  "
      ]
     },
     "metadata": {},
     "output_type": "display_data"
    },
    {
     "name": "stdout",
     "output_type": "stream",
     "text": [
      "Percentage of Bad Loans for radio/TV where the credit amount lies in the oulier range: 34.78%\n"
     ]
    }
   ],
   "source": [
    "outlier_analysis(\"radio/TV\")"
   ]
  },
  {
   "cell_type": "code",
   "execution_count": 16,
   "id": "d18a2505",
   "metadata": {},
   "outputs": [
    {
     "data": {
      "text/html": [
       "<div>\n",
       "<style scoped>\n",
       "    .dataframe tbody tr th:only-of-type {\n",
       "        vertical-align: middle;\n",
       "    }\n",
       "\n",
       "    .dataframe tbody tr th {\n",
       "        vertical-align: top;\n",
       "    }\n",
       "\n",
       "    .dataframe thead th {\n",
       "        text-align: right;\n",
       "    }\n",
       "</style>\n",
       "<table border=\"1\" class=\"dataframe\">\n",
       "  <thead>\n",
       "    <tr style=\"text-align: right;\">\n",
       "      <th></th>\n",
       "      <th>Age</th>\n",
       "      <th>Sex</th>\n",
       "      <th>Job</th>\n",
       "      <th>Housing</th>\n",
       "      <th>Saving accounts</th>\n",
       "      <th>Checking account</th>\n",
       "      <th>Credit amount</th>\n",
       "      <th>Duration</th>\n",
       "      <th>Purpose</th>\n",
       "      <th>Risk</th>\n",
       "    </tr>\n",
       "  </thead>\n",
       "  <tbody>\n",
       "    <tr>\n",
       "      <th>18</th>\n",
       "      <td>44</td>\n",
       "      <td>female</td>\n",
       "      <td>3</td>\n",
       "      <td>free</td>\n",
       "      <td>little</td>\n",
       "      <td>moderate</td>\n",
       "      <td>12579</td>\n",
       "      <td>24</td>\n",
       "      <td>car</td>\n",
       "      <td>bad</td>\n",
       "    </tr>\n",
       "    <tr>\n",
       "      <th>236</th>\n",
       "      <td>23</td>\n",
       "      <td>male</td>\n",
       "      <td>0</td>\n",
       "      <td>own</td>\n",
       "      <td>No Account</td>\n",
       "      <td>moderate</td>\n",
       "      <td>14555</td>\n",
       "      <td>6</td>\n",
       "      <td>car</td>\n",
       "      <td>bad</td>\n",
       "    </tr>\n",
       "    <tr>\n",
       "      <th>272</th>\n",
       "      <td>36</td>\n",
       "      <td>male</td>\n",
       "      <td>3</td>\n",
       "      <td>free</td>\n",
       "      <td>No Account</td>\n",
       "      <td>moderate</td>\n",
       "      <td>12169</td>\n",
       "      <td>48</td>\n",
       "      <td>car</td>\n",
       "      <td>good</td>\n",
       "    </tr>\n",
       "    <tr>\n",
       "      <th>333</th>\n",
       "      <td>24</td>\n",
       "      <td>female</td>\n",
       "      <td>1</td>\n",
       "      <td>rent</td>\n",
       "      <td>moderate</td>\n",
       "      <td>No Account</td>\n",
       "      <td>11590</td>\n",
       "      <td>48</td>\n",
       "      <td>car</td>\n",
       "      <td>bad</td>\n",
       "    </tr>\n",
       "    <tr>\n",
       "      <th>373</th>\n",
       "      <td>63</td>\n",
       "      <td>male</td>\n",
       "      <td>3</td>\n",
       "      <td>free</td>\n",
       "      <td>No Account</td>\n",
       "      <td>No Account</td>\n",
       "      <td>13756</td>\n",
       "      <td>60</td>\n",
       "      <td>car</td>\n",
       "      <td>good</td>\n",
       "    </tr>\n",
       "    <tr>\n",
       "      <th>378</th>\n",
       "      <td>57</td>\n",
       "      <td>male</td>\n",
       "      <td>3</td>\n",
       "      <td>free</td>\n",
       "      <td>little</td>\n",
       "      <td>moderate</td>\n",
       "      <td>14318</td>\n",
       "      <td>36</td>\n",
       "      <td>car</td>\n",
       "      <td>bad</td>\n",
       "    </tr>\n",
       "    <tr>\n",
       "      <th>381</th>\n",
       "      <td>38</td>\n",
       "      <td>female</td>\n",
       "      <td>3</td>\n",
       "      <td>free</td>\n",
       "      <td>little</td>\n",
       "      <td>moderate</td>\n",
       "      <td>12976</td>\n",
       "      <td>18</td>\n",
       "      <td>car</td>\n",
       "      <td>bad</td>\n",
       "    </tr>\n",
       "    <tr>\n",
       "      <th>563</th>\n",
       "      <td>37</td>\n",
       "      <td>male</td>\n",
       "      <td>2</td>\n",
       "      <td>free</td>\n",
       "      <td>No Account</td>\n",
       "      <td>moderate</td>\n",
       "      <td>12389</td>\n",
       "      <td>36</td>\n",
       "      <td>car</td>\n",
       "      <td>bad</td>\n",
       "    </tr>\n",
       "    <tr>\n",
       "      <th>714</th>\n",
       "      <td>27</td>\n",
       "      <td>male</td>\n",
       "      <td>3</td>\n",
       "      <td>own</td>\n",
       "      <td>little</td>\n",
       "      <td>moderate</td>\n",
       "      <td>14027</td>\n",
       "      <td>60</td>\n",
       "      <td>car</td>\n",
       "      <td>bad</td>\n",
       "    </tr>\n",
       "    <tr>\n",
       "      <th>736</th>\n",
       "      <td>23</td>\n",
       "      <td>female</td>\n",
       "      <td>3</td>\n",
       "      <td>rent</td>\n",
       "      <td>little</td>\n",
       "      <td>moderate</td>\n",
       "      <td>11560</td>\n",
       "      <td>24</td>\n",
       "      <td>car</td>\n",
       "      <td>bad</td>\n",
       "    </tr>\n",
       "    <tr>\n",
       "      <th>763</th>\n",
       "      <td>30</td>\n",
       "      <td>male</td>\n",
       "      <td>3</td>\n",
       "      <td>free</td>\n",
       "      <td>No Account</td>\n",
       "      <td>No Account</td>\n",
       "      <td>12680</td>\n",
       "      <td>21</td>\n",
       "      <td>car</td>\n",
       "      <td>bad</td>\n",
       "    </tr>\n",
       "    <tr>\n",
       "      <th>917</th>\n",
       "      <td>68</td>\n",
       "      <td>male</td>\n",
       "      <td>3</td>\n",
       "      <td>own</td>\n",
       "      <td>little</td>\n",
       "      <td>little</td>\n",
       "      <td>14896</td>\n",
       "      <td>6</td>\n",
       "      <td>car</td>\n",
       "      <td>bad</td>\n",
       "    </tr>\n",
       "  </tbody>\n",
       "</table>\n",
       "</div>"
      ],
      "text/plain": [
       "     Age     Sex  Job Housing Saving accounts Checking account  Credit amount  \\\n",
       "18    44  female    3    free          little         moderate          12579   \n",
       "236   23    male    0     own      No Account         moderate          14555   \n",
       "272   36    male    3    free      No Account         moderate          12169   \n",
       "333   24  female    1    rent        moderate       No Account          11590   \n",
       "373   63    male    3    free      No Account       No Account          13756   \n",
       "378   57    male    3    free          little         moderate          14318   \n",
       "381   38  female    3    free          little         moderate          12976   \n",
       "563   37    male    2    free      No Account         moderate          12389   \n",
       "714   27    male    3     own          little         moderate          14027   \n",
       "736   23  female    3    rent          little         moderate          11560   \n",
       "763   30    male    3    free      No Account       No Account          12680   \n",
       "917   68    male    3     own          little           little          14896   \n",
       "\n",
       "     Duration Purpose  Risk  \n",
       "18         24     car   bad  \n",
       "236         6     car   bad  \n",
       "272        48     car  good  \n",
       "333        48     car   bad  \n",
       "373        60     car  good  \n",
       "378        36     car   bad  \n",
       "381        18     car   bad  \n",
       "563        36     car   bad  \n",
       "714        60     car   bad  \n",
       "736        24     car   bad  \n",
       "763        21     car   bad  \n",
       "917         6     car   bad  "
      ]
     },
     "metadata": {},
     "output_type": "display_data"
    },
    {
     "name": "stdout",
     "output_type": "stream",
     "text": [
      "Percentage of Bad Loans for car where the credit amount lies in the oulier range: 83.33%\n"
     ]
    }
   ],
   "source": [
    "outlier_analysis(\"car\")"
   ]
  },
  {
   "cell_type": "code",
   "execution_count": 17,
   "id": "55d11846",
   "metadata": {},
   "outputs": [
    {
     "data": {
      "text/html": [
       "<div>\n",
       "<style scoped>\n",
       "    .dataframe tbody tr th:only-of-type {\n",
       "        vertical-align: middle;\n",
       "    }\n",
       "\n",
       "    .dataframe tbody tr th {\n",
       "        vertical-align: top;\n",
       "    }\n",
       "\n",
       "    .dataframe thead th {\n",
       "        text-align: right;\n",
       "    }\n",
       "</style>\n",
       "<table border=\"1\" class=\"dataframe\">\n",
       "  <thead>\n",
       "    <tr style=\"text-align: right;\">\n",
       "      <th></th>\n",
       "      <th>Age</th>\n",
       "      <th>Sex</th>\n",
       "      <th>Job</th>\n",
       "      <th>Housing</th>\n",
       "      <th>Saving accounts</th>\n",
       "      <th>Checking account</th>\n",
       "      <th>Credit amount</th>\n",
       "      <th>Duration</th>\n",
       "      <th>Purpose</th>\n",
       "      <th>Risk</th>\n",
       "    </tr>\n",
       "  </thead>\n",
       "  <tbody>\n",
       "    <tr>\n",
       "      <th>3</th>\n",
       "      <td>45</td>\n",
       "      <td>male</td>\n",
       "      <td>2</td>\n",
       "      <td>free</td>\n",
       "      <td>little</td>\n",
       "      <td>little</td>\n",
       "      <td>7882</td>\n",
       "      <td>42</td>\n",
       "      <td>furniture/equipment</td>\n",
       "      <td>good</td>\n",
       "    </tr>\n",
       "    <tr>\n",
       "      <th>108</th>\n",
       "      <td>30</td>\n",
       "      <td>female</td>\n",
       "      <td>2</td>\n",
       "      <td>own</td>\n",
       "      <td>No Account</td>\n",
       "      <td>little</td>\n",
       "      <td>7721</td>\n",
       "      <td>24</td>\n",
       "      <td>furniture/equipment</td>\n",
       "      <td>good</td>\n",
       "    </tr>\n",
       "    <tr>\n",
       "      <th>227</th>\n",
       "      <td>53</td>\n",
       "      <td>male</td>\n",
       "      <td>3</td>\n",
       "      <td>free</td>\n",
       "      <td>little</td>\n",
       "      <td>little</td>\n",
       "      <td>7865</td>\n",
       "      <td>12</td>\n",
       "      <td>furniture/equipment</td>\n",
       "      <td>bad</td>\n",
       "    </tr>\n",
       "    <tr>\n",
       "      <th>295</th>\n",
       "      <td>26</td>\n",
       "      <td>female</td>\n",
       "      <td>2</td>\n",
       "      <td>own</td>\n",
       "      <td>little</td>\n",
       "      <td>moderate</td>\n",
       "      <td>9960</td>\n",
       "      <td>48</td>\n",
       "      <td>furniture/equipment</td>\n",
       "      <td>bad</td>\n",
       "    </tr>\n",
       "    <tr>\n",
       "      <th>387</th>\n",
       "      <td>40</td>\n",
       "      <td>male</td>\n",
       "      <td>3</td>\n",
       "      <td>own</td>\n",
       "      <td>little</td>\n",
       "      <td>moderate</td>\n",
       "      <td>7374</td>\n",
       "      <td>18</td>\n",
       "      <td>furniture/equipment</td>\n",
       "      <td>good</td>\n",
       "    </tr>\n",
       "    <tr>\n",
       "      <th>496</th>\n",
       "      <td>29</td>\n",
       "      <td>male</td>\n",
       "      <td>3</td>\n",
       "      <td>rent</td>\n",
       "      <td>moderate</td>\n",
       "      <td>moderate</td>\n",
       "      <td>9034</td>\n",
       "      <td>36</td>\n",
       "      <td>furniture/equipment</td>\n",
       "      <td>bad</td>\n",
       "    </tr>\n",
       "    <tr>\n",
       "      <th>517</th>\n",
       "      <td>23</td>\n",
       "      <td>female</td>\n",
       "      <td>2</td>\n",
       "      <td>rent</td>\n",
       "      <td>little</td>\n",
       "      <td>No Account</td>\n",
       "      <td>7127</td>\n",
       "      <td>36</td>\n",
       "      <td>furniture/equipment</td>\n",
       "      <td>bad</td>\n",
       "    </tr>\n",
       "    <tr>\n",
       "      <th>522</th>\n",
       "      <td>53</td>\n",
       "      <td>male</td>\n",
       "      <td>2</td>\n",
       "      <td>free</td>\n",
       "      <td>little</td>\n",
       "      <td>little</td>\n",
       "      <td>7119</td>\n",
       "      <td>48</td>\n",
       "      <td>furniture/equipment</td>\n",
       "      <td>bad</td>\n",
       "    </tr>\n",
       "    <tr>\n",
       "      <th>744</th>\n",
       "      <td>30</td>\n",
       "      <td>male</td>\n",
       "      <td>3</td>\n",
       "      <td>own</td>\n",
       "      <td>No Account</td>\n",
       "      <td>little</td>\n",
       "      <td>14179</td>\n",
       "      <td>39</td>\n",
       "      <td>furniture/equipment</td>\n",
       "      <td>good</td>\n",
       "    </tr>\n",
       "    <tr>\n",
       "      <th>870</th>\n",
       "      <td>40</td>\n",
       "      <td>female</td>\n",
       "      <td>2</td>\n",
       "      <td>own</td>\n",
       "      <td>quite rich</td>\n",
       "      <td>No Account</td>\n",
       "      <td>7678</td>\n",
       "      <td>36</td>\n",
       "      <td>furniture/equipment</td>\n",
       "      <td>good</td>\n",
       "    </tr>\n",
       "    <tr>\n",
       "      <th>924</th>\n",
       "      <td>55</td>\n",
       "      <td>male</td>\n",
       "      <td>2</td>\n",
       "      <td>own</td>\n",
       "      <td>little</td>\n",
       "      <td>little</td>\n",
       "      <td>6872</td>\n",
       "      <td>24</td>\n",
       "      <td>furniture/equipment</td>\n",
       "      <td>bad</td>\n",
       "    </tr>\n",
       "    <tr>\n",
       "      <th>953</th>\n",
       "      <td>26</td>\n",
       "      <td>female</td>\n",
       "      <td>3</td>\n",
       "      <td>own</td>\n",
       "      <td>little</td>\n",
       "      <td>No Account</td>\n",
       "      <td>10974</td>\n",
       "      <td>36</td>\n",
       "      <td>furniture/equipment</td>\n",
       "      <td>bad</td>\n",
       "    </tr>\n",
       "    <tr>\n",
       "      <th>980</th>\n",
       "      <td>49</td>\n",
       "      <td>male</td>\n",
       "      <td>2</td>\n",
       "      <td>own</td>\n",
       "      <td>little</td>\n",
       "      <td>moderate</td>\n",
       "      <td>8386</td>\n",
       "      <td>30</td>\n",
       "      <td>furniture/equipment</td>\n",
       "      <td>bad</td>\n",
       "    </tr>\n",
       "  </tbody>\n",
       "</table>\n",
       "</div>"
      ],
      "text/plain": [
       "     Age     Sex  Job Housing Saving accounts Checking account  Credit amount  \\\n",
       "3     45    male    2    free          little           little           7882   \n",
       "108   30  female    2     own      No Account           little           7721   \n",
       "227   53    male    3    free          little           little           7865   \n",
       "295   26  female    2     own          little         moderate           9960   \n",
       "387   40    male    3     own          little         moderate           7374   \n",
       "496   29    male    3    rent        moderate         moderate           9034   \n",
       "517   23  female    2    rent          little       No Account           7127   \n",
       "522   53    male    2    free          little           little           7119   \n",
       "744   30    male    3     own      No Account           little          14179   \n",
       "870   40  female    2     own      quite rich       No Account           7678   \n",
       "924   55    male    2     own          little           little           6872   \n",
       "953   26  female    3     own          little       No Account          10974   \n",
       "980   49    male    2     own          little         moderate           8386   \n",
       "\n",
       "     Duration              Purpose  Risk  \n",
       "3          42  furniture/equipment  good  \n",
       "108        24  furniture/equipment  good  \n",
       "227        12  furniture/equipment   bad  \n",
       "295        48  furniture/equipment   bad  \n",
       "387        18  furniture/equipment  good  \n",
       "496        36  furniture/equipment   bad  \n",
       "517        36  furniture/equipment   bad  \n",
       "522        48  furniture/equipment   bad  \n",
       "744        39  furniture/equipment  good  \n",
       "870        36  furniture/equipment  good  \n",
       "924        24  furniture/equipment   bad  \n",
       "953        36  furniture/equipment   bad  \n",
       "980        30  furniture/equipment   bad  "
      ]
     },
     "metadata": {},
     "output_type": "display_data"
    },
    {
     "name": "stdout",
     "output_type": "stream",
     "text": [
      "Percentage of Bad Loans for furniture/equipment where the credit amount lies in the oulier range: 61.54%\n"
     ]
    }
   ],
   "source": [
    "outlier_analysis(\"furniture/equipment\")"
   ]
  },
  {
   "cell_type": "markdown",
   "id": "7f2e53b7",
   "metadata": {},
   "source": [
    "From this we can see when people take credit amount which lies in the outlier range or which is more than normal for certain purpose like purchasing cars or furniture/equipment the deafult rates shoots up to 60-80% while for some purposes like purcahsing radio/TV or education remains alomst same."
   ]
  },
  {
   "cell_type": "code",
   "execution_count": 18,
   "id": "b8a7fa89",
   "metadata": {},
   "outputs": [
    {
     "data": {
      "image/png": "[encoded data removed]",
      "text/plain": [
       "<Figure size 432x288 with 3 Axes>"
      ]
     },
     "metadata": {
      "needs_background": "light"
     },
     "output_type": "display_data"
    }
   ],
   "source": [
    "#Mosiac plot to see what purpose do each gender takes loan for\n",
    "mosaic(df, ['Sex', 'Purpose'], title='Mosaic Plot')\n",
    "plt.show()"
   ]
  },
  {
   "cell_type": "markdown",
   "id": "5ddfda95",
   "metadata": {},
   "source": [
    "Feature Engineering"
   ]
  },
  {
   "cell_type": "code",
   "execution_count": 19,
   "id": "c1f719c0",
   "metadata": {},
   "outputs": [
    {
     "name": "stderr",
     "output_type": "stream",
     "text": [
      "C:\\Users\\2216027\\AppData\\Local\\Temp\\ipykernel_54396\\1331420377.py:4: FutureWarning: The default value of numeric_only in DataFrame.corr is deprecated. In a future version, it will default to False. Select only valid columns or specify the value of numeric_only to silence this warning.\n",
      "  corr_matrix = df.corr()\n"
     ]
    },
    {
     "data": {
      "text/plain": [
       "<AxesSubplot:>"
      ]
     },
     "execution_count": 19,
     "metadata": {},
     "output_type": "execute_result"
    },
    {
     "data": {
      "image/png": "[encoded data removed]",
      "text/plain": [
       "<Figure size 432x288 with 2 Axes>"
      ]
     },
     "metadata": {
      "needs_background": "light"
     },
     "output_type": "display_data"
    }
   ],
   "source": [
    "#Replace good/bad with 0/1\n",
    "df['Risk'] = df['Risk'].replace({'bad': 0, 'good': 1})\n",
    "#Correlation Matrix for Continous Variables\n",
    "corr_matrix = df.corr()\n",
    "sns.heatmap(corr_matrix, cmap='coolwarm', annot=True)"
   ]
  },
  {
   "cell_type": "code",
   "execution_count": 20,
   "id": "f5e66635",
   "metadata": {},
   "outputs": [
    {
     "data": {
      "image/png": "[encoded data removed]",
      "text/plain": [
       "<Figure size 432x288 with 1 Axes>"
      ]
     },
     "metadata": {
      "needs_background": "light"
     },
     "output_type": "display_data"
    }
   ],
   "source": [
    "#Trying to build a new variable which combines credit amount and duration as they are highly correlated\n",
    "df['new'] = df['Credit amount']/df[\"Duration\"]\n",
    "hist('new')"
   ]
  },
  {
   "cell_type": "code",
   "execution_count": 21,
   "id": "aaf62e7c",
   "metadata": {},
   "outputs": [
    {
     "name": "stderr",
     "output_type": "stream",
     "text": [
      "C:\\Users\\2216027\\AppData\\Local\\Temp\\ipykernel_54396\\2297058646.py:1: FutureWarning: The default value of numeric_only in DataFrame.corr is deprecated. In a future version, it will default to False. Select only valid columns or specify the value of numeric_only to silence this warning.\n",
      "  corr_matrix = df.corr()\n"
     ]
    },
    {
     "data": {
      "text/plain": [
       "<AxesSubplot:>"
      ]
     },
     "execution_count": 21,
     "metadata": {},
     "output_type": "execute_result"
    },
    {
     "data": {
      "image/png": "[encoded data removed]",
      "text/plain": [
       "<Figure size 432x288 with 2 Axes>"
      ]
     },
     "metadata": {
      "needs_background": "light"
     },
     "output_type": "display_data"
    }
   ],
   "source": [
    "corr_matrix = df.corr()\n",
    "sns.heatmap(corr_matrix, cmap='coolwarm', annot=True)"
   ]
  },
  {
   "cell_type": "code",
   "execution_count": 22,
   "id": "fc5b338c",
   "metadata": {},
   "outputs": [],
   "source": [
    "#Chi-Squared test to find if correlation is present b/w target and categorical features\n",
    "def target_corr(col):\n",
    "    contingency_table = pd.crosstab(df['Risk'], df[col])\n",
    "    chi2, p_value, dof, expected_freq = chi2_contingency(contingency_table)\n",
    "    if(p_value>0.05):\n",
    "        print(f\"No correlation b/w the target variable and {col}\")\n",
    "    else:\n",
    "        print(f\"Significant correlation b/w target and {col}\")\n",
    "        print(p_value)"
   ]
  },
  {
   "cell_type": "code",
   "execution_count": 24,
   "id": "754d6c81",
   "metadata": {},
   "outputs": [
    {
     "name": "stdout",
     "output_type": "stream",
     "text": [
      "Significant correlation b/w target and Sex\n",
      "0.020739913068713305\n",
      "No correlation b/w the target variable and Job\n",
      "Significant correlation b/w target and Housing\n",
      "0.00011167465374597686\n",
      "Significant correlation b/w target and Saving accounts\n",
      "2.761214238568249e-07\n",
      "Significant correlation b/w target and Checking account\n",
      "1.2189020722893755e-26\n",
      "No correlation b/w the target variable and Purpose\n"
     ]
    }
   ],
   "source": [
    "#Results for different features\n",
    "for col in categorical:\n",
    "    if col == \"Risk\":\n",
    "        pass\n",
    "    else:\n",
    "        target_corr(col)"
   ]
  },
  {
   "cell_type": "code",
   "execution_count": 25,
   "id": "4e7aec1c",
   "metadata": {},
   "outputs": [],
   "source": [
    "#Chi-Squared Test to find corrlation b/w independent categorical features\n",
    "def multi_corr(col1,col2):\n",
    "    contingency_table = pd.crosstab(df[col1], df[col2])\n",
    "    chi2, p_value, dof, expected_freq = chi2_contingency(contingency_table)\n",
    "    if(p_value>0.05):\n",
    "        print(f\"No correlation b/w the {col1} and {col2}\")\n",
    "    else:\n",
    "        print(f\"Significant correlation {col1} and {col2}\")"
   ]
  },
  {
   "cell_type": "code",
   "execution_count": 26,
   "id": "680f3cd0",
   "metadata": {},
   "outputs": [
    {
     "name": "stdout",
     "output_type": "stream",
     "text": [
      "Significant correlation Sex and Housing\n",
      "Significant correlation Housing and Checking account\n",
      "No correlation b/w the Housing and Saving accounts\n",
      "Significant correlation Saving accounts and Checking account\n",
      "No correlation b/w the Sex and Checking account\n"
     ]
    }
   ],
   "source": [
    "#Results\n",
    "multi_corr('Sex','Housing')\n",
    "multi_corr('Housing','Checking account')\n",
    "multi_corr('Housing','Saving accounts')\n",
    "multi_corr(\"Saving accounts\",\"Checking account\")\n",
    "multi_corr('Sex','Checking account')"
   ]
  },
  {
   "cell_type": "code",
   "execution_count": 27,
   "id": "7da0dc02",
   "metadata": {},
   "outputs": [],
   "source": [
    "#One-Hot Encoding the Sex and Checking Account\n",
    "one_hot = pd.get_dummies(df, columns=['Sex', 'Checking account'])"
   ]
  },
  {
   "cell_type": "code",
   "execution_count": 28,
   "id": "b50ba79c",
   "metadata": {},
   "outputs": [],
   "source": [
    "#Dropping columns which are not correlated with target or significantly correlated with some other feature\n",
    "one_hot = one_hot.drop(['Housing', 'Purpose', \n",
    "'Saving accounts','new'], axis=1)\n",
    "#Log Transforming the continous variables\n",
    "one_hot['Duration'] = np.log(one_hot['Duration'])\n",
    "one_hot['Credit amount'] = np.log(one_hot['Credit amount'])\n",
    "one_hot['Age'] = np.log(one_hot['Age'])"
   ]
  },
  {
   "cell_type": "code",
   "execution_count": 29,
   "id": "30c638ad",
   "metadata": {},
   "outputs": [
    {
     "data": {
      "text/html": [
       "<div>\n",
       "<style scoped>\n",
       "    .dataframe tbody tr th:only-of-type {\n",
       "        vertical-align: middle;\n",
       "    }\n",
       "\n",
       "    .dataframe tbody tr th {\n",
       "        vertical-align: top;\n",
       "    }\n",
       "\n",
       "    .dataframe thead th {\n",
       "        text-align: right;\n",
       "    }\n",
       "</style>\n",
       "<table border=\"1\" class=\"dataframe\">\n",
       "  <thead>\n",
       "    <tr style=\"text-align: right;\">\n",
       "      <th></th>\n",
       "      <th>Age</th>\n",
       "      <th>Job</th>\n",
       "      <th>Credit amount</th>\n",
       "      <th>Duration</th>\n",
       "      <th>Risk</th>\n",
       "      <th>Sex_female</th>\n",
       "      <th>Sex_male</th>\n",
       "      <th>Checking account_No Account</th>\n",
       "      <th>Checking account_little</th>\n",
       "      <th>Checking account_moderate</th>\n",
       "      <th>Checking account_rich</th>\n",
       "    </tr>\n",
       "  </thead>\n",
       "  <tbody>\n",
       "    <tr>\n",
       "      <th>0</th>\n",
       "      <td>4.204693</td>\n",
       "      <td>2</td>\n",
       "      <td>7.063904</td>\n",
       "      <td>1.791759</td>\n",
       "      <td>1</td>\n",
       "      <td>0</td>\n",
       "      <td>1</td>\n",
       "      <td>0</td>\n",
       "      <td>1</td>\n",
       "      <td>0</td>\n",
       "      <td>0</td>\n",
       "    </tr>\n",
       "    <tr>\n",
       "      <th>1</th>\n",
       "      <td>3.091042</td>\n",
       "      <td>2</td>\n",
       "      <td>8.691315</td>\n",
       "      <td>3.871201</td>\n",
       "      <td>0</td>\n",
       "      <td>1</td>\n",
       "      <td>0</td>\n",
       "      <td>0</td>\n",
       "      <td>0</td>\n",
       "      <td>1</td>\n",
       "      <td>0</td>\n",
       "    </tr>\n",
       "    <tr>\n",
       "      <th>2</th>\n",
       "      <td>3.891820</td>\n",
       "      <td>1</td>\n",
       "      <td>7.647786</td>\n",
       "      <td>2.484907</td>\n",
       "      <td>1</td>\n",
       "      <td>0</td>\n",
       "      <td>1</td>\n",
       "      <td>1</td>\n",
       "      <td>0</td>\n",
       "      <td>0</td>\n",
       "      <td>0</td>\n",
       "    </tr>\n",
       "    <tr>\n",
       "      <th>3</th>\n",
       "      <td>3.806662</td>\n",
       "      <td>2</td>\n",
       "      <td>8.972337</td>\n",
       "      <td>3.737670</td>\n",
       "      <td>1</td>\n",
       "      <td>0</td>\n",
       "      <td>1</td>\n",
       "      <td>0</td>\n",
       "      <td>1</td>\n",
       "      <td>0</td>\n",
       "      <td>0</td>\n",
       "    </tr>\n",
       "    <tr>\n",
       "      <th>4</th>\n",
       "      <td>3.970292</td>\n",
       "      <td>2</td>\n",
       "      <td>8.490849</td>\n",
       "      <td>3.178054</td>\n",
       "      <td>0</td>\n",
       "      <td>0</td>\n",
       "      <td>1</td>\n",
       "      <td>0</td>\n",
       "      <td>1</td>\n",
       "      <td>0</td>\n",
       "      <td>0</td>\n",
       "    </tr>\n",
       "  </tbody>\n",
       "</table>\n",
       "</div>"
      ],
      "text/plain": [
       "        Age  Job  Credit amount  Duration  Risk  Sex_female  Sex_male  \\\n",
       "0  4.204693    2       7.063904  1.791759     1           0         1   \n",
       "1  3.091042    2       8.691315  3.871201     0           1         0   \n",
       "2  3.891820    1       7.647786  2.484907     1           0         1   \n",
       "3  3.806662    2       8.972337  3.737670     1           0         1   \n",
       "4  3.970292    2       8.490849  3.178054     0           0         1   \n",
       "\n",
       "   Checking account_No Account  Checking account_little  \\\n",
       "0                            0                        1   \n",
       "1                            0                        0   \n",
       "2                            1                        0   \n",
       "3                            0                        1   \n",
       "4                            0                        1   \n",
       "\n",
       "   Checking account_moderate  Checking account_rich  \n",
       "0                          0                      0  \n",
       "1                          1                      0  \n",
       "2                          0                      0  \n",
       "3                          0                      0  \n",
       "4                          0                      0  "
      ]
     },
     "execution_count": 29,
     "metadata": {},
     "output_type": "execute_result"
    }
   ],
   "source": [
    "one_hot.head()"
   ]
  },
  {
   "cell_type": "code",
   "execution_count": 31,
   "id": "147776c9",
   "metadata": {},
   "outputs": [
    {
     "data": {
      "text/html": [
       "<div>\n",
       "<style scoped>\n",
       "    .dataframe tbody tr th:only-of-type {\n",
       "        vertical-align: middle;\n",
       "    }\n",
       "\n",
       "    .dataframe tbody tr th {\n",
       "        vertical-align: top;\n",
       "    }\n",
       "\n",
       "    .dataframe thead th {\n",
       "        text-align: right;\n",
       "    }\n",
       "</style>\n",
       "<table border=\"1\" class=\"dataframe\">\n",
       "  <thead>\n",
       "    <tr style=\"text-align: right;\">\n",
       "      <th></th>\n",
       "      <th>Age</th>\n",
       "      <th>Job</th>\n",
       "      <th>Credit amount</th>\n",
       "      <th>Duration</th>\n",
       "      <th>Risk</th>\n",
       "      <th>Sex_female</th>\n",
       "      <th>Sex_male</th>\n",
       "      <th>Checking account_No Account</th>\n",
       "      <th>Checking account_little</th>\n",
       "      <th>Checking account_moderate</th>\n",
       "      <th>Checking account_rich</th>\n",
       "    </tr>\n",
       "  </thead>\n",
       "  <tbody>\n",
       "    <tr>\n",
       "      <th>count</th>\n",
       "      <td>1000.000000</td>\n",
       "      <td>1000.000000</td>\n",
       "      <td>1000.000000</td>\n",
       "      <td>1000.000000</td>\n",
       "      <td>1000.000000</td>\n",
       "      <td>1000.000000</td>\n",
       "      <td>1000.000000</td>\n",
       "      <td>1000.000000</td>\n",
       "      <td>1000.000000</td>\n",
       "      <td>1000.000000</td>\n",
       "      <td>1000.000000</td>\n",
       "    </tr>\n",
       "    <tr>\n",
       "      <th>mean</th>\n",
       "      <td>3.524306</td>\n",
       "      <td>1.904000</td>\n",
       "      <td>7.788691</td>\n",
       "      <td>2.877018</td>\n",
       "      <td>0.700000</td>\n",
       "      <td>0.310000</td>\n",
       "      <td>0.690000</td>\n",
       "      <td>0.394000</td>\n",
       "      <td>0.274000</td>\n",
       "      <td>0.269000</td>\n",
       "      <td>0.063000</td>\n",
       "    </tr>\n",
       "    <tr>\n",
       "      <th>std</th>\n",
       "      <td>0.299747</td>\n",
       "      <td>0.653614</td>\n",
       "      <td>0.776474</td>\n",
       "      <td>0.582240</td>\n",
       "      <td>0.458487</td>\n",
       "      <td>0.462725</td>\n",
       "      <td>0.462725</td>\n",
       "      <td>0.488879</td>\n",
       "      <td>0.446232</td>\n",
       "      <td>0.443662</td>\n",
       "      <td>0.243085</td>\n",
       "    </tr>\n",
       "    <tr>\n",
       "      <th>min</th>\n",
       "      <td>2.944439</td>\n",
       "      <td>0.000000</td>\n",
       "      <td>5.521461</td>\n",
       "      <td>1.386294</td>\n",
       "      <td>0.000000</td>\n",
       "      <td>0.000000</td>\n",
       "      <td>0.000000</td>\n",
       "      <td>0.000000</td>\n",
       "      <td>0.000000</td>\n",
       "      <td>0.000000</td>\n",
       "      <td>0.000000</td>\n",
       "    </tr>\n",
       "    <tr>\n",
       "      <th>25%</th>\n",
       "      <td>3.295837</td>\n",
       "      <td>2.000000</td>\n",
       "      <td>7.219276</td>\n",
       "      <td>2.484907</td>\n",
       "      <td>0.000000</td>\n",
       "      <td>0.000000</td>\n",
       "      <td>0.000000</td>\n",
       "      <td>0.000000</td>\n",
       "      <td>0.000000</td>\n",
       "      <td>0.000000</td>\n",
       "      <td>0.000000</td>\n",
       "    </tr>\n",
       "    <tr>\n",
       "      <th>50%</th>\n",
       "      <td>3.496508</td>\n",
       "      <td>2.000000</td>\n",
       "      <td>7.749107</td>\n",
       "      <td>2.890372</td>\n",
       "      <td>1.000000</td>\n",
       "      <td>0.000000</td>\n",
       "      <td>1.000000</td>\n",
       "      <td>0.000000</td>\n",
       "      <td>0.000000</td>\n",
       "      <td>0.000000</td>\n",
       "      <td>0.000000</td>\n",
       "    </tr>\n",
       "    <tr>\n",
       "      <th>75%</th>\n",
       "      <td>3.737670</td>\n",
       "      <td>2.000000</td>\n",
       "      <td>8.287088</td>\n",
       "      <td>3.178054</td>\n",
       "      <td>1.000000</td>\n",
       "      <td>1.000000</td>\n",
       "      <td>1.000000</td>\n",
       "      <td>1.000000</td>\n",
       "      <td>1.000000</td>\n",
       "      <td>1.000000</td>\n",
       "      <td>0.000000</td>\n",
       "    </tr>\n",
       "    <tr>\n",
       "      <th>max</th>\n",
       "      <td>4.317488</td>\n",
       "      <td>3.000000</td>\n",
       "      <td>9.821409</td>\n",
       "      <td>4.276666</td>\n",
       "      <td>1.000000</td>\n",
       "      <td>1.000000</td>\n",
       "      <td>1.000000</td>\n",
       "      <td>1.000000</td>\n",
       "      <td>1.000000</td>\n",
       "      <td>1.000000</td>\n",
       "      <td>1.000000</td>\n",
       "    </tr>\n",
       "  </tbody>\n",
       "</table>\n",
       "</div>"
      ],
      "text/plain": [
       "               Age          Job  Credit amount     Duration         Risk  \\\n",
       "count  1000.000000  1000.000000    1000.000000  1000.000000  1000.000000   \n",
       "mean      3.524306     1.904000       7.788691     2.877018     0.700000   \n",
       "std       0.299747     0.653614       0.776474     0.582240     0.458487   \n",
       "min       2.944439     0.000000       5.521461     1.386294     0.000000   \n",
       "25%       3.295837     2.000000       7.219276     2.484907     0.000000   \n",
       "50%       3.496508     2.000000       7.749107     2.890372     1.000000   \n",
       "75%       3.737670     2.000000       8.287088     3.178054     1.000000   \n",
       "max       4.317488     3.000000       9.821409     4.276666     1.000000   \n",
       "\n",
       "        Sex_female     Sex_male  Checking account_No Account  \\\n",
       "count  1000.000000  1000.000000                  1000.000000   \n",
       "mean      0.310000     0.690000                     0.394000   \n",
       "std       0.462725     0.462725                     0.488879   \n",
       "min       0.000000     0.000000                     0.000000   \n",
       "25%       0.000000     0.000000                     0.000000   \n",
       "50%       0.000000     1.000000                     0.000000   \n",
       "75%       1.000000     1.000000                     1.000000   \n",
       "max       1.000000     1.000000                     1.000000   \n",
       "\n",
       "       Checking account_little  Checking account_moderate  \\\n",
       "count              1000.000000                1000.000000   \n",
       "mean                  0.274000                   0.269000   \n",
       "std                   0.446232                   0.443662   \n",
       "min                   0.000000                   0.000000   \n",
       "25%                   0.000000                   0.000000   \n",
       "50%                   0.000000                   0.000000   \n",
       "75%                   1.000000                   1.000000   \n",
       "max                   1.000000                   1.000000   \n",
       "\n",
       "       Checking account_rich  \n",
       "count            1000.000000  \n",
       "mean                0.063000  \n",
       "std                 0.243085  \n",
       "min                 0.000000  \n",
       "25%                 0.000000  \n",
       "50%                 0.000000  \n",
       "75%                 0.000000  \n",
       "max                 1.000000  "
      ]
     },
     "execution_count": 31,
     "metadata": {},
     "output_type": "execute_result"
    }
   ],
   "source": [
    "one_hot.describe()"
   ]
  },
  {
   "cell_type": "markdown",
   "id": "4490d93a",
   "metadata": {},
   "source": [
    "Modelling"
   ]
  },
  {
   "cell_type": "code",
   "execution_count": 32,
   "id": "450a10ff",
   "metadata": {},
   "outputs": [],
   "source": [
    "# Splitting the features and target vector\n",
    "one_hot = one_hot.reindex(columns=[col for col in one_hot.columns if col != 'Risk'] + ['Risk'])\n",
    "X = one_hot.iloc[:,:-1]\n",
    "y = one_hot.iloc[:,-1]"
   ]
  },
  {
   "cell_type": "code",
   "execution_count": 33,
   "id": "4dadfcdf",
   "metadata": {},
   "outputs": [],
   "source": [
    "#Oversampling using SMOTE\n",
    "from imblearn.over_sampling import SMOTE\n",
    "oversample = SMOTE()\n",
    "X_smote, y_smote = oversample.fit_resample(X, y)\n",
    "#Train test split\n",
    "X_train, X_test, y_train, y_test = train_test_split(X_smote,y_smote,test_size=0.2,random_state=4)"
   ]
  },
  {
   "cell_type": "markdown",
   "id": "4bc9665a",
   "metadata": {},
   "source": [
    "Random Forest"
   ]
  },
  {
   "cell_type": "code",
   "execution_count": 34,
   "id": "dda6f489",
   "metadata": {},
   "outputs": [
    {
     "name": "stdout",
     "output_type": "stream",
     "text": [
      "|   iter    |  target   | min_sa... | min_sa... | n_esti... |\n",
      "-------------------------------------------------------------\n",
      "| \u001b[0m1        \u001b[0m | \u001b[0m0.7274   \u001b[0m | \u001b[0m2.498    \u001b[0m | \u001b[0m9.606    \u001b[0m | \u001b[0m159.8    \u001b[0m |\n",
      "| \u001b[95m2        \u001b[0m | \u001b[95m0.7299   \u001b[0m | \u001b[95m3.395    \u001b[0m | \u001b[95m3.248    \u001b[0m | \u001b[95m73.4     \u001b[0m |\n",
      "| \u001b[95m3        \u001b[0m | \u001b[95m0.7314   \u001b[0m | \u001b[95m1.232    \u001b[0m | \u001b[95m8.929    \u001b[0m | \u001b[95m140.2    \u001b[0m |\n",
      "| \u001b[0m4        \u001b[0m | \u001b[0m0.7258   \u001b[0m | \u001b[0m3.832    \u001b[0m | \u001b[0m2.165    \u001b[0m | \u001b[0m195.5    \u001b[0m |\n",
      "| \u001b[0m5        \u001b[0m | \u001b[0m0.7219   \u001b[0m | \u001b[0m4.33     \u001b[0m | \u001b[0m3.699    \u001b[0m | \u001b[0m77.27    \u001b[0m |\n",
      "| \u001b[95m6        \u001b[0m | \u001b[95m0.7334   \u001b[0m | \u001b[95m1.255    \u001b[0m | \u001b[95m8.651    \u001b[0m | \u001b[95m139.8    \u001b[0m |\n",
      "| \u001b[95m7        \u001b[0m | \u001b[95m0.7349   \u001b[0m | \u001b[95m1.092    \u001b[0m | \u001b[95m8.572    \u001b[0m | \u001b[95m138.6    \u001b[0m |\n",
      "| \u001b[95m8        \u001b[0m | \u001b[95m0.7382   \u001b[0m | \u001b[95m1.565    \u001b[0m | \u001b[95m6.829    \u001b[0m | \u001b[95m139.0    \u001b[0m |\n",
      "| \u001b[0m9        \u001b[0m | \u001b[0m0.7253   \u001b[0m | \u001b[0m4.224    \u001b[0m | \u001b[0m6.571    \u001b[0m | \u001b[0m138.4    \u001b[0m |\n",
      "| \u001b[0m10       \u001b[0m | \u001b[0m0.7352   \u001b[0m | \u001b[0m1.391    \u001b[0m | \u001b[0m6.453    \u001b[0m | \u001b[0m140.6    \u001b[0m |\n",
      "| \u001b[95m11       \u001b[0m | \u001b[95m0.7489   \u001b[0m | \u001b[95m1.06     \u001b[0m | \u001b[95m4.736    \u001b[0m | \u001b[95m137.4    \u001b[0m |\n",
      "| \u001b[95m12       \u001b[0m | \u001b[95m0.7538   \u001b[0m | \u001b[95m1.154    \u001b[0m | \u001b[95m3.317    \u001b[0m | \u001b[95m138.0    \u001b[0m |\n",
      "| \u001b[0m13       \u001b[0m | \u001b[0m0.7506   \u001b[0m | \u001b[0m1.0      \u001b[0m | \u001b[0m2.0      \u001b[0m | \u001b[0m136.1    \u001b[0m |\n",
      "| \u001b[0m14       \u001b[0m | \u001b[0m0.7513   \u001b[0m | \u001b[0m1.203    \u001b[0m | \u001b[0m2.112    \u001b[0m | \u001b[0m139.8    \u001b[0m |\n",
      "| \u001b[0m15       \u001b[0m | \u001b[0m0.7522   \u001b[0m | \u001b[0m1.254    \u001b[0m | \u001b[0m2.032    \u001b[0m | \u001b[0m128.2    \u001b[0m |\n",
      "| \u001b[0m16       \u001b[0m | \u001b[0m0.7483   \u001b[0m | \u001b[0m1.0      \u001b[0m | \u001b[0m2.0      \u001b[0m | \u001b[0m123.8    \u001b[0m |\n",
      "| \u001b[0m17       \u001b[0m | \u001b[0m0.7378   \u001b[0m | \u001b[0m1.0      \u001b[0m | \u001b[0m6.387    \u001b[0m | \u001b[0m126.7    \u001b[0m |\n",
      "| \u001b[0m18       \u001b[0m | \u001b[0m0.7215   \u001b[0m | \u001b[0m5.0      \u001b[0m | \u001b[0m2.0      \u001b[0m | \u001b[0m126.7    \u001b[0m |\n",
      "| \u001b[0m19       \u001b[0m | \u001b[0m0.7479   \u001b[0m | \u001b[0m1.0      \u001b[0m | \u001b[0m2.0      \u001b[0m | \u001b[0m131.4    \u001b[0m |\n",
      "| \u001b[0m20       \u001b[0m | \u001b[0m0.7469   \u001b[0m | \u001b[0m1.0      \u001b[0m | \u001b[0m2.0      \u001b[0m | \u001b[0m118.6    \u001b[0m |\n",
      "| \u001b[0m21       \u001b[0m | \u001b[0m0.7455   \u001b[0m | \u001b[0m1.128    \u001b[0m | \u001b[0m7.357    \u001b[0m | \u001b[0m117.6    \u001b[0m |\n",
      "| \u001b[95m22       \u001b[0m | \u001b[95m0.7554   \u001b[0m | \u001b[95m1.108    \u001b[0m | \u001b[95m3.945    \u001b[0m | \u001b[95m113.1    \u001b[0m |\n",
      "| \u001b[0m23       \u001b[0m | \u001b[0m0.7183   \u001b[0m | \u001b[0m4.791    \u001b[0m | \u001b[0m4.07     \u001b[0m | \u001b[0m113.5    \u001b[0m |\n",
      "| \u001b[95m24       \u001b[0m | \u001b[95m0.7557   \u001b[0m | \u001b[95m1.055    \u001b[0m | \u001b[95m3.666    \u001b[0m | \u001b[95m110.1    \u001b[0m |\n",
      "| \u001b[0m25       \u001b[0m | \u001b[0m0.7409   \u001b[0m | \u001b[0m1.0      \u001b[0m | \u001b[0m6.953    \u001b[0m | \u001b[0m111.0    \u001b[0m |\n",
      "=============================================================\n",
      "Best score: 0.7557110604188997\n",
      "Best parameters: {'min_samples_leaf': 1.054600342237281, 'min_samples_split': 3.666344401514287, 'n_estimators': 110.12683575087927}\n"
     ]
    }
   ],
   "source": [
    "#Objective Function\n",
    "def objective(n_estimators, min_samples_split,min_samples_leaf):\n",
    "    clf = RandomForestClassifier(n_estimators=int(n_estimators), \n",
    "                                 min_samples_split=int(min_samples_split),\n",
    "                                 min_samples_leaf=int(min_samples_leaf),\n",
    "                                 random_state=42)\n",
    "    kfold = KFold(n_splits=10, shuffle=True, random_state=42)\n",
    "    score = cross_val_score(clf, X_train, y_train, cv=kfold, scoring='f1').mean()\n",
    "    return score\n",
    "\n",
    "# Set the ranges of hyperparameters to optimize\n",
    "pbounds = {'n_estimators': (50, 200),\n",
    "           'min_samples_split': (2, 10),\n",
    "           'min_samples_leaf': (1,5)}\n",
    "\n",
    "# Define the Bayesian Optimization object\n",
    "optimizer = BayesianOptimization(f=objective, pbounds=pbounds, random_state=42)\n",
    "\n",
    "# Run the optimization process\n",
    "optimizer.maximize(init_points=5, n_iter=20)\n",
    "\n",
    "# Print the best hyperparameters and score found\n",
    "print('Best score:', optimizer.max['target'])\n",
    "print('Best parameters:', optimizer.max['params'])"
   ]
  },
  {
   "cell_type": "code",
   "execution_count": 35,
   "id": "ca8ac230",
   "metadata": {},
   "outputs": [
    {
     "name": "stdout",
     "output_type": "stream",
     "text": [
      "The accuracy for the test set is given as: 0.84\n",
      "The F1-score for the test set is given as: 0.83\n",
      "The precision score for the test set is given as: 0.85\n",
      "The recall score for the test set is given as: 0.82\n",
      "Confusion Matrix:\n",
      "[[118  21]\n",
      " [ 25 116]]\n"
     ]
    }
   ],
   "source": [
    "#Model Performance on Test Set\n",
    "params = optimizer.max['params']\n",
    "n_estimators = int(params[\"n_estimators\"])\n",
    "min_samples_split = int(params[\"min_samples_split\"])\n",
    "min_samples_leaf = int(params[\"min_samples_leaf\"])\n",
    "model = RandomForestClassifier(n_estimators=int(n_estimators), \n",
    "                                 min_samples_split=int(min_samples_split),\n",
    "                                 min_samples_leaf=int(min_samples_leaf),\n",
    "                                 random_state=42)\n",
    "model.fit(X_train,y_train)\n",
    "y_pred = model.predict(X_test)\n",
    "print(f\"The accuracy for the test set is given as: {accuracy_score(y_test,y_pred):.2f}\")\n",
    "print(f\"The F1-score for the test set is given as: {f1_score(y_test,y_pred):.2f}\")\n",
    "print(f\"The precision score for the test set is given as: {precision_score(y_test,y_pred):.2f}\")\n",
    "print(f\"The recall score for the test set is given as: {recall_score(y_test,y_pred):.2f}\")\n",
    "print(\"Confusion Matrix:\")\n",
    "print(confusion_matrix(y_test,y_pred))"
   ]
  },
  {
   "cell_type": "markdown",
   "id": "3edcb969",
   "metadata": {},
   "source": [
    "XGBoost"
   ]
  },
  {
   "cell_type": "code",
   "execution_count": 36,
   "id": "b2d4cb5c",
   "metadata": {},
   "outputs": [
    {
     "name": "stdout",
     "output_type": "stream",
     "text": [
      "|   iter    |  target   | colsam... | learni... | max_depth | min_ch... | n_esti... | subsample |\n",
      "-------------------------------------------------------------------------------------------------\n",
      "| \u001b[0m1        \u001b[0m | \u001b[0m0.725    \u001b[0m | \u001b[0m0.6873   \u001b[0m | \u001b[0m0.2857   \u001b[0m | \u001b[0m8.124    \u001b[0m | \u001b[0m6.388    \u001b[0m | \u001b[0m73.4     \u001b[0m | \u001b[0m0.578    \u001b[0m |\n",
      "| \u001b[95m2        \u001b[0m | \u001b[95m0.7319   \u001b[0m | \u001b[95m0.529    \u001b[0m | \u001b[95m0.2612   \u001b[0m | \u001b[95m7.208    \u001b[0m | \u001b[95m7.373    \u001b[0m | \u001b[95m53.09    \u001b[0m | \u001b[95m0.985    \u001b[0m |\n",
      "| \u001b[0m3        \u001b[0m | \u001b[0m0.7146   \u001b[0m | \u001b[0m0.9162   \u001b[0m | \u001b[0m0.07158  \u001b[0m | \u001b[0m4.273    \u001b[0m | \u001b[0m2.651    \u001b[0m | \u001b[0m95.64    \u001b[0m | \u001b[0m0.7624   \u001b[0m |\n",
      "| \u001b[0m4        \u001b[0m | \u001b[0m0.73     \u001b[0m | \u001b[0m0.716    \u001b[0m | \u001b[0m0.09446  \u001b[0m | \u001b[0m7.283    \u001b[0m | \u001b[0m2.255    \u001b[0m | \u001b[0m93.82    \u001b[0m | \u001b[0m0.6832   \u001b[0m |\n",
      "| \u001b[95m5        \u001b[0m | \u001b[95m0.735    \u001b[0m | \u001b[95m0.728    \u001b[0m | \u001b[95m0.2377   \u001b[0m | \u001b[95m4.398    \u001b[0m | \u001b[95m5.628    \u001b[0m | \u001b[95m138.9    \u001b[0m | \u001b[95m0.5232   \u001b[0m |\n",
      "| \u001b[0m6        \u001b[0m | \u001b[0m0.7248   \u001b[0m | \u001b[0m0.5689   \u001b[0m | \u001b[0m0.1875   \u001b[0m | \u001b[0m4.166    \u001b[0m | \u001b[0m5.758    \u001b[0m | \u001b[0m138.5    \u001b[0m | \u001b[0m0.649    \u001b[0m |\n",
      "| \u001b[95m7        \u001b[0m | \u001b[95m0.7541   \u001b[0m | \u001b[95m0.5621   \u001b[0m | \u001b[95m0.2167   \u001b[0m | \u001b[95m8.185    \u001b[0m | \u001b[95m2.408    \u001b[0m | \u001b[95m145.1    \u001b[0m | \u001b[95m0.9424   \u001b[0m |\n",
      "| \u001b[0m8        \u001b[0m | \u001b[0m0.7394   \u001b[0m | \u001b[0m0.6052   \u001b[0m | \u001b[0m0.2978   \u001b[0m | \u001b[0m4.497    \u001b[0m | \u001b[0m7.309    \u001b[0m | \u001b[0m124.3    \u001b[0m | \u001b[0m0.6438   \u001b[0m |\n",
      "| \u001b[0m9        \u001b[0m | \u001b[0m0.7412   \u001b[0m | \u001b[0m0.8948   \u001b[0m | \u001b[0m0.1653   \u001b[0m | \u001b[0m9.263    \u001b[0m | \u001b[0m5.116    \u001b[0m | \u001b[0m113.4    \u001b[0m | \u001b[0m0.8269   \u001b[0m |\n",
      "| \u001b[0m10       \u001b[0m | \u001b[0m0.7185   \u001b[0m | \u001b[0m0.7189   \u001b[0m | \u001b[0m0.05681  \u001b[0m | \u001b[0m3.982    \u001b[0m | \u001b[0m1.014    \u001b[0m | \u001b[0m199.7    \u001b[0m | \u001b[0m0.7664   \u001b[0m |\n",
      "| \u001b[0m11       \u001b[0m | \u001b[0m0.7338   \u001b[0m | \u001b[0m0.8641   \u001b[0m | \u001b[0m0.1367   \u001b[0m | \u001b[0m5.953    \u001b[0m | \u001b[0m1.274    \u001b[0m | \u001b[0m61.34    \u001b[0m | \u001b[0m0.8332   \u001b[0m |\n",
      "| \u001b[0m12       \u001b[0m | \u001b[0m0.722    \u001b[0m | \u001b[0m0.7094   \u001b[0m | \u001b[0m0.2204   \u001b[0m | \u001b[0m6.648    \u001b[0m | \u001b[0m7.675    \u001b[0m | \u001b[0m61.73    \u001b[0m | \u001b[0m0.5163   \u001b[0m |\n",
      "| \u001b[0m13       \u001b[0m | \u001b[0m0.7319   \u001b[0m | \u001b[0m0.8687   \u001b[0m | \u001b[0m0.2396   \u001b[0m | \u001b[0m7.035    \u001b[0m | \u001b[0m4.514    \u001b[0m | \u001b[0m135.8    \u001b[0m | \u001b[0m0.5372   \u001b[0m |\n",
      "| \u001b[0m14       \u001b[0m | \u001b[0m0.7167   \u001b[0m | \u001b[0m0.861    \u001b[0m | \u001b[0m0.01832  \u001b[0m | \u001b[0m8.415    \u001b[0m | \u001b[0m6.999    \u001b[0m | \u001b[0m153.5    \u001b[0m | \u001b[0m0.7682   \u001b[0m |\n",
      "| \u001b[0m15       \u001b[0m | \u001b[0m0.728    \u001b[0m | \u001b[0m0.9378   \u001b[0m | \u001b[0m0.107    \u001b[0m | \u001b[0m5.352    \u001b[0m | \u001b[0m9.467    \u001b[0m | \u001b[0m132.1    \u001b[0m | \u001b[0m0.6121   \u001b[0m |\n",
      "| \u001b[0m16       \u001b[0m | \u001b[0m0.7268   \u001b[0m | \u001b[0m0.7193   \u001b[0m | \u001b[0m0.2945   \u001b[0m | \u001b[0m4.853    \u001b[0m | \u001b[0m5.724    \u001b[0m | \u001b[0m92.29    \u001b[0m | \u001b[0m0.7857   \u001b[0m |\n",
      "| \u001b[0m17       \u001b[0m | \u001b[0m0.7292   \u001b[0m | \u001b[0m0.5594   \u001b[0m | \u001b[0m0.112    \u001b[0m | \u001b[0m8.216    \u001b[0m | \u001b[0m7.133    \u001b[0m | \u001b[0m134.6    \u001b[0m | \u001b[0m0.6787   \u001b[0m |\n",
      "| \u001b[0m18       \u001b[0m | \u001b[0m0.7281   \u001b[0m | \u001b[0m0.6737   \u001b[0m | \u001b[0m0.2065   \u001b[0m | \u001b[0m6.411    \u001b[0m | \u001b[0m1.825    \u001b[0m | \u001b[0m52.28    \u001b[0m | \u001b[0m0.6104   \u001b[0m |\n",
      "| \u001b[0m19       \u001b[0m | \u001b[0m0.732    \u001b[0m | \u001b[0m0.8248   \u001b[0m | \u001b[0m0.2623   \u001b[0m | \u001b[0m6.915    \u001b[0m | \u001b[0m3.977    \u001b[0m | \u001b[0m192.6    \u001b[0m | \u001b[0m0.7786   \u001b[0m |\n",
      "| \u001b[0m20       \u001b[0m | \u001b[0m0.7094   \u001b[0m | \u001b[0m0.7619   \u001b[0m | \u001b[0m0.0505   \u001b[0m | \u001b[0m6.34     \u001b[0m | \u001b[0m5.801    \u001b[0m | \u001b[0m66.65    \u001b[0m | \u001b[0m0.649    \u001b[0m |\n",
      "| \u001b[0m21       \u001b[0m | \u001b[0m0.7163   \u001b[0m | \u001b[0m0.6129   \u001b[0m | \u001b[0m0.04061  \u001b[0m | \u001b[0m4.105    \u001b[0m | \u001b[0m5.82     \u001b[0m | \u001b[0m168.9    \u001b[0m | \u001b[0m0.8764   \u001b[0m |\n",
      "| \u001b[0m22       \u001b[0m | \u001b[0m0.7472   \u001b[0m | \u001b[0m0.611    \u001b[0m | \u001b[0m0.1915   \u001b[0m | \u001b[0m7.142    \u001b[0m | \u001b[0m1.115    \u001b[0m | \u001b[0m173.8    \u001b[0m | \u001b[0m0.6348   \u001b[0m |\n",
      "| \u001b[0m23       \u001b[0m | \u001b[0m0.7101   \u001b[0m | \u001b[0m0.5522   \u001b[0m | \u001b[0m0.2252   \u001b[0m | \u001b[0m7.084    \u001b[0m | \u001b[0m9.309    \u001b[0m | \u001b[0m78.3     \u001b[0m | \u001b[0m0.5992   \u001b[0m |\n",
      "| \u001b[0m24       \u001b[0m | \u001b[0m0.7148   \u001b[0m | \u001b[0m0.9572   \u001b[0m | \u001b[0m0.0485   \u001b[0m | \u001b[0m6.495    \u001b[0m | \u001b[0m7.975    \u001b[0m | \u001b[0m125.5    \u001b[0m | \u001b[0m0.5411   \u001b[0m |\n",
      "| \u001b[0m25       \u001b[0m | \u001b[0m0.7208   \u001b[0m | \u001b[0m0.8152   \u001b[0m | \u001b[0m0.06907  \u001b[0m | \u001b[0m5.188    \u001b[0m | \u001b[0m2.786    \u001b[0m | \u001b[0m73.93    \u001b[0m | \u001b[0m0.986    \u001b[0m |\n",
      "=================================================================================================\n",
      "Best score: 0.7540784568579579\n",
      "Best parameters: {'colsample_bytree': 0.5621025303007682, 'learning_rate': 0.216687732803561, 'max_depth': 8.184814766639303, 'min_child_weight': 2.4077385795083055, 'n_estimators': 145.07281542836904, 'subsample': 0.9424445398022467}\n"
     ]
    }
   ],
   "source": [
    "#Objective Function\n",
    "def objective(learning_rate, n_estimators, max_depth, min_child_weight, subsample, colsample_bytree):\n",
    "    clf = XGBClassifier(learning_rate=learning_rate,\n",
    "                            n_estimators=int(n_estimators),\n",
    "                            max_depth=int(max_depth),\n",
    "                            min_child_weight=int(min_child_weight),\n",
    "                            subsample=subsample,\n",
    "                            colsample_bytree=colsample_bytree,\n",
    "                            random_state=42,\n",
    "                            n_jobs=-1)\n",
    "    kfold = KFold(n_splits=10, shuffle=True, random_state=42)\n",
    "    score = cross_val_score(clf, X_train, y_train, cv=kfold, scoring='f1').mean()\n",
    "    return score\n",
    "\n",
    "# Set the ranges of hyperparameters to optimize\n",
    "pbounds = {'learning_rate': (0.01, 0.3),\n",
    "           'n_estimators': (50, 200),\n",
    "           'max_depth': (3, 10),\n",
    "           'min_child_weight': (1, 10),\n",
    "           'subsample': (0.5, 1),\n",
    "           'colsample_bytree': (0.5, 1)}\n",
    "\n",
    "# Define the Bayesian Optimization object\n",
    "optimizer = BayesianOptimization(f=objective, pbounds=pbounds, random_state=42)\n",
    "\n",
    "# Run the optimization process\n",
    "optimizer.maximize(init_points=5, n_iter=20)\n",
    "\n",
    "# Print the best hyperparameters and score found\n",
    "print('Best score:', optimizer.max['target'])\n",
    "print('Best parameters:', optimizer.max['params'])"
   ]
  },
  {
   "cell_type": "code",
   "execution_count": 37,
   "id": "310d7087",
   "metadata": {},
   "outputs": [
    {
     "name": "stdout",
     "output_type": "stream",
     "text": [
      "The accuracy for the test set is given as: 0.84\n",
      "The F1-score for the test set is given as: 0.84\n",
      "The precision score for the test set is given as: 0.86\n",
      "The recall score for the test set is given as: 0.81\n",
      "Confusion Matrix:\n",
      "[[121  18]\n",
      " [ 27 114]]\n"
     ]
    }
   ],
   "source": [
    "#Model Performance on Test Set\n",
    "params = optimizer.max['params']\n",
    "n_estimators = int(params[\"n_estimators\"])\n",
    "max_depth = int(params[\"max_depth\"])\n",
    "min_child_weight = int(params[\"min_child_weight\"])\n",
    "learning_rate = params[\"learning_rate\"]\n",
    "subsample = params[\"subsample\"]\n",
    "colsample_bytree= params[\"colsample_bytree\"]\n",
    "model = XGBClassifier(learning_rate=learning_rate,\n",
    "                            n_estimators=int(n_estimators),\n",
    "                            max_depth=int(max_depth),\n",
    "                            min_child_weight=int(min_child_weight),\n",
    "                            subsample=subsample,\n",
    "                            colsample_bytree=colsample_bytree,\n",
    "                            random_state=42,\n",
    "                            n_jobs=-1)\n",
    "model.fit(X_train,y_train)\n",
    "y_pred = model.predict(X_test)\n",
    "print(f\"The accuracy for the test set is given as: {accuracy_score(y_test,y_pred):.2f}\")\n",
    "print(f\"The F1-score for the test set is given as: {f1_score(y_test,y_pred):.2f}\")\n",
    "print(f\"The precision score for the test set is given as: {precision_score(y_test,y_pred):.2f}\")\n",
    "print(f\"The recall score for the test set is given as: {recall_score(y_test,y_pred):.2f}\")\n",
    "print(\"Confusion Matrix:\")\n",
    "print(confusion_matrix(y_test,y_pred))"
   ]
  },
  {
   "cell_type": "code",
   "execution_count": null,
   "id": "1bcd2d86",
   "metadata": {},
   "outputs": [],
   "source": []
  }
 ],
 "metadata": {
  "kernelspec": {
   "display_name": "Python 3 (ipykernel)",
   "language": "python",
   "name": "python3"
  },
  "language_info": {
   "codemirror_mode": {
    "name": "ipython",
    "version": 3
   },
   "file_extension": ".py",
   "mimetype": "text/x-python",
   "name": "python",
   "nbconvert_exporter": "python",
   "pygments_lexer": "ipython3",
   "version": "3.9.12"
  }
 },
 "nbformat": 4,
 "nbformat_minor": 5
}
