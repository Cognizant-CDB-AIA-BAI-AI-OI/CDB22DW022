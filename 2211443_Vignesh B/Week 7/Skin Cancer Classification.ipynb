{
 "cells": [
  {
   "cell_type": "markdown",
   "id": "0fc970a3",
   "metadata": {},
   "source": [
    "# SIIM-ISIC Melanoma Classification\n"
   ]
  },
  {
   "cell_type": "markdown",
   "id": "f76e633f",
   "metadata": {},
   "source": [
    "## Description"
   ]
  },
  {
   "cell_type": "markdown",
   "id": "distinguished-solomon",
   "metadata": {
    "id": "sHs7XFk8thfy",
    "papermill": {
     "duration": 0.029143,
     "end_time": "2021-03-20T13:26:04.050984",
     "exception": false,
     "start_time": "2021-03-20T13:26:04.021841",
     "status": "completed"
    },
    "tags": []
   },
   "source": [
    "### **SIIM**\n",
    "\n",
    "\n",
    ">The Society for Imaging Informatics in Medicine (SIIM) is the leading healthcare professional organization for those interested in the current and future use of informatics in medical imaging. The society's mission is to advance medical imaging informatics across the enterprise through education, research, and innovation in a multi-disciplinary community"
   ]
  },
  {
   "cell_type": "markdown",
   "id": "recovered-purple",
   "metadata": {
    "id": "6fChY2i_thf1",
    "papermill": {
     "duration": 0.024956,
     "end_time": "2021-03-20T13:26:04.154732",
     "exception": false,
     "start_time": "2021-03-20T13:26:04.129776",
     "status": "completed"
    },
    "tags": []
   },
   "source": [
    "### **ISIC :**\n",
    "\n",
    ">The International Skin Imaging Collaboration: Melanoma Project is an academia and industry partnership designed to facilitate the application of digital skin imaging to help reduce melanoma mortality. When recognized and treated in its earliest stages, melanoma is readily curable. Digital images of skin lesions can be used to educate professionals and the public in melanoma recognition as well as directly aid in the diagnosis of melanoma through teledermatology, clinical decision support, and automated diagnosis.\n"
   ]
  },
  {
   "cell_type": "markdown",
   "id": "veterinary-universal",
   "metadata": {
    "id": "yb5oaUIAthf2",
    "papermill": {
     "duration": 0.024831,
     "end_time": "2021-03-20T13:26:04.205053",
     "exception": false,
     "start_time": "2021-03-20T13:26:04.180222",
     "status": "completed"
    },
    "tags": []
   },
   "source": [
    "### **Skin Cancer :**\n",
    "\n",
    ">Skin cancer is the most prevalent type of cancer. Melanoma, specifically, is responsible for 75% of skin cancer deaths, despite being the least common skin cancer. The American Cancer Society estimates over 100,000 new melanoma cases will be diagnosed in 2020. It's also expected that almost 7,000 people will die from the disease. As with other cancers, early and accurate detection—potentially aided by data science—can make treatment more effective.\n"
   ]
  },
  {
   "cell_type": "markdown",
   "id": "regional-vatican",
   "metadata": {
    "id": "mapm1Dz9thf4",
    "papermill": {
     "duration": 0.02477,
     "end_time": "2021-03-20T13:26:04.254878",
     "exception": false,
     "start_time": "2021-03-20T13:26:04.230108",
     "status": "completed"
    },
    "tags": []
   },
   "source": [
    "# **Problem Statement :**\n",
    "\n",
    "In this workshop , you’ll identify melanoma in images of skin lesions and you’ll use images within the same patient and determine which are likely to represent a melanoma. Using patient-level contextual information may help the development of image analysis tools, which could better support clinical dermatologists.\n"
   ]
  },
  {
   "cell_type": "markdown",
   "id": "creative-basic",
   "metadata": {
    "id": "TissrE1vthf8",
    "papermill": {
     "duration": 0.024798,
     "end_time": "2021-03-20T13:26:04.356208",
     "exception": false,
     "start_time": "2021-03-20T13:26:04.331410",
     "status": "completed"
    },
    "tags": []
   },
   "source": [
    "# **Installing the Libraries**"
   ]
  },
  {
   "cell_type": "code",
   "execution_count": 1,
   "id": "leading-beauty",
   "metadata": {
    "execution": {
     "iopub.execute_input": "2021-03-20T13:26:04.425253Z",
     "iopub.status.busy": "2021-03-20T13:26:04.424224Z",
     "iopub.status.idle": "2021-03-20T13:26:18.412221Z",
     "shell.execute_reply": "2021-03-20T13:26:18.411528Z"
    },
    "id": "bqeZJ9juDVzv",
    "papermill": {
     "duration": 14.031039,
     "end_time": "2021-03-20T13:26:18.412402",
     "exception": false,
     "start_time": "2021-03-20T13:26:04.381363",
     "status": "completed"
    },
    "tags": []
   },
   "outputs": [],
   "source": [
    "!pip install -q --upgrade pip\n",
    "!pip install -q efficientnet"
   ]
  },
  {
   "cell_type": "code",
   "execution_count": 2,
   "id": "cutting-sustainability",
   "metadata": {
    "_cell_guid": "b1076dfc-b9ad-4769-8c92-a6c4dae69d19",
    "_uuid": "8f2839f25d086af736a60e9eeb907d3b93b6e0e5",
    "execution": {
     "iopub.execute_input": "2021-03-20T13:26:18.469536Z",
     "iopub.status.busy": "2021-03-20T13:26:18.468625Z",
     "iopub.status.idle": "2021-03-20T13:26:25.637110Z",
     "shell.execute_reply": "2021-03-20T13:26:25.637595Z"
    },
    "id": "C5TEL9qDDV0F",
    "papermill": {
     "duration": 7.200157,
     "end_time": "2021-03-20T13:26:25.637835",
     "exception": false,
     "start_time": "2021-03-20T13:26:18.437678",
     "status": "completed"
    },
    "tags": []
   },
   "outputs": [],
   "source": [
    "import re\n",
    "import os\n",
    "import numpy as np\n",
    "import pandas as pd\n",
    "import tensorflow as tf\n",
    "from functools import partial\n",
    "import efficientnet.tfkeras as efn\n",
    "from kaggle_datasets import KaggleDatasets\n",
    "from sklearn.model_selection import train_test_split"
   ]
  },
  {
   "cell_type": "markdown",
   "id": "handy-lexington",
   "metadata": {
    "id": "hbSFBEzHthgA",
    "papermill": {
     "duration": 0.025105,
     "end_time": "2021-03-20T13:26:25.739906",
     "exception": false,
     "start_time": "2021-03-20T13:26:25.714801",
     "status": "completed"
    },
    "tags": []
   },
   "source": [
    "## what is TPU?\n",
    "\n",
    "Tensor Processing Units (TPUs) are Google's custom-developed application-specific integrated circuits (ASICs) used to accelerate machine learning workloads.It's easy to run replicated models on Cloud TPU using High-level Tensorflow APIs .\n",
    "\n",
    "TPUs are designed to provide significant speedups over traditional CPUs and GPUs by optimizing the processing of tensor operations, which are the building blocks of deep learning algorithms.\n"
   ]
  },
  {
   "cell_type": "markdown",
   "id": "political-wisconsin",
   "metadata": {
    "id": "hnm9HiRXthgC",
    "papermill": {
     "duration": 0.02578,
     "end_time": "2021-03-20T13:26:25.840567",
     "exception": false,
     "start_time": "2021-03-20T13:26:25.814787",
     "status": "completed"
    },
    "tags": []
   },
   "source": [
    "### TPU Performance : \n",
    "\n",
    "TPU can achieve a high computational throughput on massive multiplications and additions for neural networks , at blazingly fast speeds with much less power consumption and smaller footprint.\n"
   ]
  },
  {
   "cell_type": "markdown",
   "id": "first-mason",
   "metadata": {
    "id": "NPClM7oythgD",
    "papermill": {
     "duration": 0.025076,
     "end_time": "2021-03-20T13:26:25.940955",
     "exception": false,
     "start_time": "2021-03-20T13:26:25.915879",
     "status": "completed"
    },
    "tags": []
   },
   "source": [
    "**TPU Initialization:** TPUs  are usually on Cloud TPU workers and hence have to be connected to remote clusters and then initialized .\n",
    "\n",
    "**Distribution strategies :** A distribution strategy is an abstraction that can be used to drive models on CPU, GPUs or TPUs. "
   ]
  },
  {
   "cell_type": "markdown",
   "id": "vertical-flush",
   "metadata": {
    "id": "Y754KxBBthgE",
    "papermill": {
     "duration": 0.025198,
     "end_time": "2021-03-20T13:26:25.992614",
     "exception": false,
     "start_time": "2021-03-20T13:26:25.967416",
     "status": "completed"
    },
    "tags": []
   },
   "source": [
    ">Credit : The code has been adapted from @mgornergooglestater kernel on Flower classification on TPUs"
   ]
  },
  {
   "cell_type": "code",
   "execution_count": 3,
   "id": "better-passing",
   "metadata": {
    "_cell_guid": "79c7e3d0-c299-4dcb-8224-4455121ee9b0",
    "_uuid": "d629ff2d2480ee46fbb7e2d37f6b5fab8052498a",
    "execution": {
     "iopub.execute_input": "2021-03-20T13:26:26.046854Z",
     "iopub.status.busy": "2021-03-20T13:26:26.045959Z",
     "iopub.status.idle": "2021-03-20T13:26:31.864985Z",
     "shell.execute_reply": "2021-03-20T13:26:31.864374Z"
    },
    "id": "hyQk56psDV0U",
    "outputId": "57f42752-745e-490e-aa3a-a30c605875bc",
    "papermill": {
     "duration": 5.847278,
     "end_time": "2021-03-20T13:26:31.865117",
     "exception": false,
     "start_time": "2021-03-20T13:26:26.017839",
     "status": "completed"
    },
    "tags": []
   },
   "outputs": [
    {
     "name": "stdout",
     "output_type": "stream",
     "text": [
      "Device: grpc://10.0.0.2:8470\n",
      "Number of replicas: 8\n"
     ]
    }
   ],
   "source": [
    "try:\n",
    "    tpu = tf.distribute.cluster_resolver.TPUClusterResolver()\n",
    "    print('Device:', tpu.master())\n",
    "    tf.config.experimental_connect_to_cluster(tpu)\n",
    "    tf.tpu.experimental.initialize_tpu_system(tpu)\n",
    "    strategy = tf.distribute.experimental.TPUStrategy(tpu)\n",
    "except:\n",
    "    strategy = tf.distribute.get_strategy()\n",
    "print('Number of replicas:', strategy.num_replicas_in_sync)"
   ]
  },
  {
   "cell_type": "markdown",
   "id": "decreased-synthesis",
   "metadata": {
    "id": "wXvfs0ESthgG",
    "papermill": {
     "duration": 0.025746,
     "end_time": "2021-03-20T13:26:31.917507",
     "exception": false,
     "start_time": "2021-03-20T13:26:31.891761",
     "status": "completed"
    },
    "tags": []
   },
   "source": [
    "\n",
    "> <b>Note:</b> TPUs read data directly from <code>Google Cloud Storage (GCS)</code> This Kaggle utility will copy the dataset to a GCS bucket co-located with the TPU. If you have multiple datasets attached to the notebook, you can pass the name of a specific dataset to the <code>get_gcs_path function</code>. The name of the dataset is the name of the directory it is mounted in. Use <code>!ls /kaggle/input/</code> to list attached datasets.\n"
   ]
  },
  {
   "cell_type": "code",
   "execution_count": 4,
   "id": "creative-fireplace",
   "metadata": {
    "execution": {
     "iopub.execute_input": "2021-03-20T13:26:32.038431Z",
     "iopub.status.busy": "2021-03-20T13:26:32.037728Z",
     "iopub.status.idle": "2021-03-20T13:26:32.391899Z",
     "shell.execute_reply": "2021-03-20T13:26:32.391251Z"
    },
    "id": "1TNm_-hkDV0o",
    "papermill": {
     "duration": 0.396472,
     "end_time": "2021-03-20T13:26:32.392036",
     "exception": false,
     "start_time": "2021-03-20T13:26:31.995564",
     "status": "completed"
    },
    "tags": []
   },
   "outputs": [],
   "source": [
    "AUTOTUNE = tf.data.experimental.AUTOTUNE\n",
    "GCS_PATH = KaggleDatasets().get_gcs_path('siim-isic-melanoma-classification')\n",
    "BATCH_SIZE = 8 * strategy.num_replicas_in_sync\n",
    "IMAGE_SIZE = [1024, 1024]"
   ]
  },
  {
   "cell_type": "markdown",
   "id": "accepted-reliance",
   "metadata": {
    "id": "bh4qEQPrthgI",
    "papermill": {
     "duration": 0.026123,
     "end_time": "2021-03-20T13:26:32.444116",
     "exception": false,
     "start_time": "2021-03-20T13:26:32.417993",
     "status": "completed"
    },
    "tags": []
   },
   "source": [
    "## TF Records :\n",
    "\n",
    "**What is TF Records ?** \n",
    "\n",
    "     TFRecords is a file format used to store large datasets that  efficiently read and process during training of ML models. \n",
    "\n",
    "      Improves performance, reduces memory usage, and simplifies data preprocessing and storage.\n",
    "    \n",
    "    TF-Record is Tensorflow’s own binary storage format.The key benefits of TFRecords is that it allows for random access to individual records, which is essential when dealing with large datasets that may not fit into memory. \n",
    "\n",
    "    Any byte-string that can be decoded in TensorFlow could be stored in a TFRecord file. Examples include: Lines of text, JSON ,encoded image data, or serialized tf.Tensors.\n",
    "\n",
    "    A TFRecord file contains a sequence of records and can only be read sequentially.Each record contains a byte-string, for the data-payload, plus the data-length, and CRC32C (32-bit CRC using the Castagnoli polynomial) hashes for integrity checking.\n"
   ]
  },
  {
   "cell_type": "markdown",
   "id": "0825c8fa",
   "metadata": {},
   "source": [
    "## Spliting the train and test filenames.\n",
    "\n",
    "  Initially import the train_test_split and uses the **tf.io.gfile.glob()** function to get a list of all the  TFRecord files in the specified GCS_PATH directory that match the pattern 'train*.tfrec'. The glob function returns a list of file paths that match the pattern.(done for training data)\n",
    "\n",
    "    Same process is followed for the testing data.\n"
   ]
  },
  {
   "cell_type": "code",
   "execution_count": 5,
   "id": "strategic-assets",
   "metadata": {
    "execution": {
     "iopub.execute_input": "2021-03-20T13:26:32.554483Z",
     "iopub.status.busy": "2021-03-20T13:26:32.553896Z",
     "iopub.status.idle": "2021-03-20T13:26:32.711428Z",
     "shell.execute_reply": "2021-03-20T13:26:32.710536Z"
    },
    "id": "SUucXwzfDV05",
    "outputId": "32c83bbf-f221-4408-dc25-98e4673d8a8e",
    "papermill": {
     "duration": 0.189124,
     "end_time": "2021-03-20T13:26:32.711678",
     "exception": false,
     "start_time": "2021-03-20T13:26:32.522554",
     "status": "completed"
    },
    "tags": []
   },
   "outputs": [
    {
     "name": "stdout",
     "output_type": "stream",
     "text": [
      "Train TFRecord Files: 14\n",
      "Validation TFRecord Files: 2\n",
      "Test TFRecord Files: 16\n"
     ]
    }
   ],
   "source": [
    "TRAINING_FILENAMES, VALID_FILENAMES = train_test_split(\n",
    "    tf.io.gfile.glob(GCS_PATH + '/tfrecords/train*.tfrec'),\n",
    "    test_size=0.1, random_state=42\n",
    ")\n",
    "TEST_FILENAMES = tf.io.gfile.glob(GCS_PATH + '/tfrecords/test*.tfrec')\n",
    "print('Train TFRecord Files:', len(TRAINING_FILENAMES))\n",
    "print('Validation TFRecord Files:', len(VALID_FILENAMES))\n",
    "print('Test TFRecord Files:', len(TEST_FILENAMES))"
   ]
  },
  {
   "cell_type": "markdown",
   "id": "small-instruction",
   "metadata": {
    "id": "vtbvfhsLthgP",
    "papermill": {
     "duration": 0.025594,
     "end_time": "2021-03-20T13:26:32.869690",
     "exception": false,
     "start_time": "2021-03-20T13:26:32.844096",
     "status": "completed"
    },
    "tags": []
   },
   "source": [
    "### tf.data\n",
    "\n",
    "**What is tf.data ?**\n",
    "\n",
    "1. Enables you to build complex input pipelines from simple, reusable pieces.Also makes it possible to handle large amounts of data, read from different data formats, and perform complex transformations.\n",
    "\n",
    "2. tf.data is a powerful and flexible tool that can help you work with complex datasets and build more efficient and scalable machine learning models.\n",
    "\n",
    "For example, in an image pipeline, an element might be a single training example, with a pair of tensor components representing the image and its label.\n"
   ]
  },
  {
   "cell_type": "markdown",
   "id": "scheduled-water",
   "metadata": {
    "id": "OY7SGYGMthgQ",
    "papermill": {
     "duration": 0.02618,
     "end_time": "2021-03-20T13:26:32.921724",
     "exception": false,
     "start_time": "2021-03-20T13:26:32.895544",
     "status": "completed"
    },
    "tags": []
   },
   "source": [
    "![](https://drive.google.com/uc?id=1CLfEMEn9uiPGjhgVZc620djKmBQrwSZV)"
   ]
  },
  {
   "cell_type": "markdown",
   "id": "median-blind",
   "metadata": {
    "id": "0ijtTx1fthgR",
    "papermill": {
     "duration": 0.026201,
     "end_time": "2021-03-20T13:26:32.974192",
     "exception": false,
     "start_time": "2021-03-20T13:26:32.947991",
     "status": "completed"
    },
    "tags": []
   },
   "source": [
    "![](https://drive.google.com/uc?id=1x383ghyybTV0jQqBSlHDEc8FWD8AqaHz)\n"
   ]
  },
  {
   "cell_type": "markdown",
   "id": "27233139",
   "metadata": {},
   "source": [
    "## Image Conversion.\n",
    "\n",
    "Takes an image as input and returns a tensor representing the image.\n",
    "\n",
    "1. tf.image.decode_jpeg() function to decode the input image, which is assumed to be in JPEG format, into a tensor with 3 color channels (red, green, and blue). \n",
    "\n",
    "2. tf.cast() function to convert the pixel values in the tensor to float32 format, and divides them by 255.0 to normalize the pixel values to the range [0, 1]. \n",
    "\n",
    "3. tf.reshape() function to reshape the tensor to the specified IMAGE_SIZE, which is assumed to be a list or tuple of two integers representing the height and width of the image."
   ]
  },
  {
   "cell_type": "code",
   "execution_count": 6,
   "id": "associate-andorra",
   "metadata": {
    "execution": {
     "iopub.execute_input": "2021-03-20T13:26:33.030684Z",
     "iopub.status.busy": "2021-03-20T13:26:33.030063Z",
     "iopub.status.idle": "2021-03-20T13:26:33.034237Z",
     "shell.execute_reply": "2021-03-20T13:26:33.034714Z"
    },
    "id": "jjmjIfWPthgR",
    "papermill": {
     "duration": 0.033311,
     "end_time": "2021-03-20T13:26:33.034895",
     "exception": false,
     "start_time": "2021-03-20T13:26:33.001584",
     "status": "completed"
    },
    "tags": []
   },
   "outputs": [],
   "source": [
    "def decode_to_tensor(image):\n",
    "    image = tf.image.decode_jpeg(image, channels=3)\n",
    "    image = tf.cast(image, tf.float32) / 255.0\n",
    "    image = tf.reshape(image, [*IMAGE_SIZE, 3])\n",
    "    return image"
   ]
  },
  {
   "cell_type": "markdown",
   "id": "826bd049",
   "metadata": {},
   "source": [
    "## Function to read tfrecord.\n",
    "\n",
    "This code defines a function called read_tfrecord that takes two arguments: example and labeled. \n",
    "\n",
    "example: serialized string\n",
    "labeled: boolean flag- labeled or unlabeled\n",
    "\n",
    "1. tfrecord_format specifies the expected format of the TFRecord example. If labeled is True, the dictionary includes a target key with a tf.int64 - False : tf.string\n",
    "\n",
    "2. tf.io.parse_single_example() function to parse the serialized example into a dictionary with keys that match those in tfrecord_format.\n",
    "\n",
    "This function is used to read and decode examples from a TFRecord file, and is designed to work with both labeled and unlabeled datasets."
   ]
  },
  {
   "cell_type": "code",
   "execution_count": 7,
   "id": "attractive-action",
   "metadata": {
    "execution": {
     "iopub.execute_input": "2021-03-20T13:26:33.091104Z",
     "iopub.status.busy": "2021-03-20T13:26:33.090499Z",
     "iopub.status.idle": "2021-03-20T13:26:33.096587Z",
     "shell.execute_reply": "2021-03-20T13:26:33.097081Z"
    },
    "id": "2TS5XjzsthgS",
    "papermill": {
     "duration": 0.036205,
     "end_time": "2021-03-20T13:26:33.097250",
     "exception": false,
     "start_time": "2021-03-20T13:26:33.061045",
     "status": "completed"
    },
    "tags": []
   },
   "outputs": [],
   "source": [
    "def read_tfrecord(example, labeled):\n",
    "    tfrecord_format = {\n",
    "        \"image\": tf.io.FixedLenFeature([], tf.string),\n",
    "        \"target\": tf.io.FixedLenFeature([], tf.int64)\n",
    "    } if labeled else {\n",
    "        \"image\": tf.io.FixedLenFeature([], tf.string),\n",
    "        \"image_name\": tf.io.FixedLenFeature([], tf.string)\n",
    "    }\n",
    "    example = tf.io.parse_single_example(example, tfrecord_format)\n",
    "    image = decode_to_tensor(example['image'])\n",
    "    if labeled:\n",
    "        label = tf.cast(example['target'], tf.int32)\n",
    "        return image, label\n",
    "    idnum = example['image_name']\n",
    "    return image, idnum"
   ]
  },
  {
   "cell_type": "markdown",
   "id": "f5889bf6",
   "metadata": {},
   "source": [
    "**Input Pipeline :**\n",
    "\n",
    " tf.data.TFRecordDataset() is used to create an input pipeline for data stored in TFRecord format .\n",
    " \n",
    " To create a TFRecordDataset object, you simply pass one or more file paths to the constructor. \n",
    " \n",
    " tf.data module that is used to create a dataset from one or more TFRecord files. \n",
    " \n",
    "#### In single stretch.\n",
    " Once you have created a TFRecordDataset, you can use it to iterate over the examples in the dataset. For example, you can use the map() function to apply a function to each example in the dataset, and the batch() function to group examples into batches:\n",
    "\n"
   ]
  },
  {
   "cell_type": "code",
   "execution_count": 8,
   "id": "bizarre-thought",
   "metadata": {
    "execution": {
     "iopub.execute_input": "2021-03-20T13:26:33.153765Z",
     "iopub.status.busy": "2021-03-20T13:26:33.153117Z",
     "iopub.status.idle": "2021-03-20T13:26:33.157937Z",
     "shell.execute_reply": "2021-03-20T13:26:33.158341Z"
    },
    "id": "o3mSVhP0DV1o",
    "papermill": {
     "duration": 0.034369,
     "end_time": "2021-03-20T13:26:33.158513",
     "exception": false,
     "start_time": "2021-03-20T13:26:33.124144",
     "status": "completed"
    },
    "tags": []
   },
   "outputs": [],
   "source": [
    "def load_dataset(filenames, labeled=True, ordered=False):\n",
    "    ignore_order = tf.data.Options()\n",
    "    if not ordered:\n",
    "        ignore_order.experimental_deterministic = False # disable order, increase speed\n",
    "    dataset = tf.data.TFRecordDataset(filenames, num_parallel_reads=AUTOTUNE) # automatically interleaves reads from multiple files\n",
    "    dataset = dataset.with_options(ignore_order) # uses data as soon as it streams in, rather than in its original order\n",
    "    dataset = dataset.map(partial(read_tfrecord, labeled=labeled), num_parallel_calls=AUTOTUNE)\n",
    "    # returns a dataset of (image, label) pairs if labeled=True or (image, id) pairs if labeled=False\n",
    "    return dataset"
   ]
  },
  {
   "cell_type": "markdown",
   "id": "composed-chamber",
   "metadata": {
    "id": "mM4FV7irthgU",
    "papermill": {
     "duration": 0.025674,
     "end_time": "2021-03-20T13:26:33.210614",
     "exception": false,
     "start_time": "2021-03-20T13:26:33.184940",
     "status": "completed"
    },
    "tags": []
   },
   "source": [
    "## Data Augmentation :\n",
    "\n",
    "Data augmentation is a technique through which one can increase the size of the data for the training of the model without adding the new data. Techniques like padding, cropping, rotating, and flipping are the most common methods that are used over the images to increase the data size. \n",
    "\n",
    "\n",
    "<b>Note:</b> Both <code>Keras Preprocessing Layers</code> and <code>tf.image</code> can be used for data augmentation. For finer control , <code>tf.image</code> is preferred.\n",
    "\n"
   ]
  },
  {
   "cell_type": "markdown",
   "id": "silent-sally",
   "metadata": {
    "id": "YslY6dJHthgW",
    "papermill": {
     "duration": 0.02632,
     "end_time": "2021-03-20T13:26:33.263576",
     "exception": false,
     "start_time": "2021-03-20T13:26:33.237256",
     "status": "completed"
    },
    "tags": []
   },
   "source": [
    "![](https://drive.google.com/uc?id=1_uGNygnCZ--G_hOP7zEr_oscGjvnBnob)\n",
    "\n"
   ]
  },
  {
   "cell_type": "code",
   "execution_count": 9,
   "id": "funded-special",
   "metadata": {
    "execution": {
     "iopub.execute_input": "2021-03-20T13:26:33.318723Z",
     "iopub.status.busy": "2021-03-20T13:26:33.318114Z",
     "iopub.status.idle": "2021-03-20T13:26:33.321865Z",
     "shell.execute_reply": "2021-03-20T13:26:33.322299Z"
    },
    "id": "ejKOXtWkDV18",
    "papermill": {
     "duration": 0.032769,
     "end_time": "2021-03-20T13:26:33.322457",
     "exception": false,
     "start_time": "2021-03-20T13:26:33.289688",
     "status": "completed"
    },
    "tags": []
   },
   "outputs": [],
   "source": [
    "def augmentation_pipeline(image, label):\n",
    "    image = tf.image.random_flip_left_right(image)\n",
    "    return image, label"
   ]
  },
  {
   "cell_type": "markdown",
   "id": "551ee71e",
   "metadata": {},
   "source": [
    " ### **Transformations :**\n",
    "\n",
    "The Dataset object can be transformed into a new Dataset by chaining method calls on the tf.data.Dataset object . Some of the transformations which can be applied are Dataset.map() , Dataset.batch() , Dataset.shuffle() , Dataset.prefetch() .\n",
    "\n",
    "The Dataset object is a Python iterable which  it possible to consume its elements using a for loop .\n"
   ]
  },
  {
   "cell_type": "markdown",
   "id": "6e9fd5b8",
   "metadata": {},
   "source": [
    "#### Transformation to training dataset.\n",
    "\n",
    ">**shuffle()** - to shuffle the elements with a buffer size of 2048\n",
    "\n",
    "By shuffling the elements before batching them, you can ensure that each batch contains a random sample of elements from the dataset, which can help to reduce overfitting and improve the generalization performance of your model.\n",
    "\n",
    ">**buffer size** refers to the number of elements that are buffered and available for shuffling or prefetching during dataset iteration.In general, a larger buffer size will result in a better shuffle or faster data loading\n",
    "\n",
    "Buffer size depend on:\n",
    "1. size of your dataset.\n",
    "2. memory available on your system.\n",
    "3. specific requirements of ML pipeline\n",
    "\n"
   ]
  },
  {
   "cell_type": "code",
   "execution_count": 10,
   "id": "proud-highlight",
   "metadata": {
    "execution": {
     "iopub.execute_input": "2021-03-20T13:26:33.380066Z",
     "iopub.status.busy": "2021-03-20T13:26:33.379436Z",
     "iopub.status.idle": "2021-03-20T13:26:33.382540Z",
     "shell.execute_reply": "2021-03-20T13:26:33.381983Z"
    },
    "id": "YCFaPMT3DV2M",
    "papermill": {
     "duration": 0.034529,
     "end_time": "2021-03-20T13:26:33.382727",
     "exception": false,
     "start_time": "2021-03-20T13:26:33.348198",
     "status": "completed"
    },
    "tags": []
   },
   "outputs": [],
   "source": [
    "def get_training_dataset():\n",
    "    dataset = load_dataset(TRAINING_FILENAMES, labeled=True)\n",
    "    dataset = dataset.map(augmentation_pipeline, num_parallel_calls=AUTOTUNE)\n",
    "    dataset = dataset.repeat()\n",
    "    dataset = dataset.shuffle(2048)\n",
    "    dataset = dataset.batch(BATCH_SIZE)\n",
    "    dataset = dataset.prefetch(AUTOTUNE)\n",
    "    return dataset"
   ]
  },
  {
   "cell_type": "markdown",
   "id": "5a00a871",
   "metadata": {},
   "source": [
    "#### Transformation to validation dataset.\n",
    "\n",
    ">**cache()** stores the elements of the dataset in memory or on disk after they are loaded for the first time.\n",
    "\n",
    ">**cache()** is a powerful tool for improving the performance of your ML pipelines, and can help you reduce the time it takes to load and preprocess data.\n"
   ]
  },
  {
   "cell_type": "code",
   "execution_count": null,
   "id": "0519c590",
   "metadata": {
    "execution": {
     "iopub.execute_input": "2021-03-20T13:26:33.440113Z",
     "iopub.status.busy": "2021-03-20T13:26:33.439382Z",
     "iopub.status.idle": "2021-03-20T13:26:33.443408Z",
     "shell.execute_reply": "2021-03-20T13:26:33.443872Z"
    },
    "id": "VTp0EvnYDV2Z",
    "papermill": {
     "duration": 0.033678,
     "end_time": "2021-03-20T13:26:33.444039",
     "exception": false,
     "start_time": "2021-03-20T13:26:33.410361",
     "status": "completed"
    },
    "tags": []
   },
   "outputs": [],
   "source": [
    "def get_validation_dataset(ordered=False):\n",
    "    dataset = load_dataset(VALID_FILENAMES, labeled=True, ordered=ordered)\n",
    "    dataset = dataset.batch(BATCH_SIZE)\n",
    "    dataset = dataset.cache()\n",
    "    dataset = dataset.prefetch(AUTOTUNE)\n",
    "    return dataset"
   ]
  },
  {
   "cell_type": "markdown",
   "id": "16b5af01",
   "metadata": {},
   "source": [
    "#### Transformation to testing dataset.\n",
    "\n",
    ">**prefetch()** is a powerful tool for improving the efficiency of your machine learning pipelines \n",
    "\n",
    "        Also significantly reduce the amount of time spent waiting for data to be loaded into memory, and improve the overall training performance of your model.\n",
    "\n",
    " >**buffer_size** specifies the number of examples to prefetch. You can set this to tf.data.AUTOTUNE to dynamically adjust the prefetch buffer size based on available system memory."
   ]
  },
  {
   "cell_type": "code",
   "execution_count": 12,
   "id": "competitive-mixer",
   "metadata": {
    "execution": {
     "iopub.execute_input": "2021-03-20T13:26:33.500513Z",
     "iopub.status.busy": "2021-03-20T13:26:33.499904Z",
     "iopub.status.idle": "2021-03-20T13:26:33.504888Z",
     "shell.execute_reply": "2021-03-20T13:26:33.504340Z"
    },
    "id": "Usfu_oSmDV2q",
    "papermill": {
     "duration": 0.034039,
     "end_time": "2021-03-20T13:26:33.505035",
     "exception": false,
     "start_time": "2021-03-20T13:26:33.470996",
     "status": "completed"
    },
    "tags": []
   },
   "outputs": [],
   "source": [
    "def get_test_dataset(ordered=False):\n",
    "    dataset = load_dataset(TEST_FILENAMES, labeled=False, ordered=ordered)\n",
    "    dataset = dataset.batch(BATCH_SIZE)\n",
    "    dataset = dataset.prefetch(AUTOTUNE)\n",
    "    return dataset"
   ]
  },
  {
   "cell_type": "markdown",
   "id": "6b32aded",
   "metadata": {},
   "source": [
    "## Count the data Items.\n",
    "\n",
    "count_data_items function calculates the total number of data items in a set of files "
   ]
  },
  {
   "cell_type": "code",
   "execution_count": 13,
   "id": "premium-blind",
   "metadata": {
    "execution": {
     "iopub.execute_input": "2021-03-20T13:26:33.563829Z",
     "iopub.status.busy": "2021-03-20T13:26:33.563214Z",
     "iopub.status.idle": "2021-03-20T13:26:33.566303Z",
     "shell.execute_reply": "2021-03-20T13:26:33.565840Z"
    },
    "id": "gGkwggYrDV23",
    "papermill": {
     "duration": 0.034671,
     "end_time": "2021-03-20T13:26:33.566446",
     "exception": false,
     "start_time": "2021-03-20T13:26:33.531775",
     "status": "completed"
    },
    "tags": []
   },
   "outputs": [],
   "source": [
    "def count_data_items(filenames):\n",
    "    n = [int(re.compile(r\"-([0-9]*)\\.\").search(filename).group(1)) for filename in filenames]\n",
    "    return np.sum(n)"
   ]
  },
  {
   "cell_type": "code",
   "execution_count": 14,
   "id": "sought-suicide",
   "metadata": {
    "execution": {
     "iopub.execute_input": "2021-03-20T13:26:33.625056Z",
     "iopub.status.busy": "2021-03-20T13:26:33.624402Z",
     "iopub.status.idle": "2021-03-20T13:26:33.627773Z",
     "shell.execute_reply": "2021-03-20T13:26:33.627152Z"
    },
    "id": "ERiUO9DIDV3O",
    "outputId": "77972018-7df8-4cf4-d264-7224b74bceb6",
    "papermill": {
     "duration": 0.034678,
     "end_time": "2021-03-20T13:26:33.627915",
     "exception": false,
     "start_time": "2021-03-20T13:26:33.593237",
     "status": "completed"
    },
    "tags": []
   },
   "outputs": [
    {
     "name": "stdout",
     "output_type": "stream",
     "text": [
      "Dataset: 28984 training images, 4142 validation images, 10982 unlabeled test images\n"
     ]
    }
   ],
   "source": [
    "NUM_TRAINING_IMAGES = count_data_items(TRAINING_FILENAMES)\n",
    "NUM_VALIDATION_IMAGES = count_data_items(VALID_FILENAMES)\n",
    "NUM_TEST_IMAGES = count_data_items(TEST_FILENAMES)\n",
    "STEPS_PER_EPOCH = NUM_TRAINING_IMAGES // BATCH_SIZE\n",
    "print(\n",
    "    'Dataset: {} training images, {} validation images, {} unlabeled test images'.format(\n",
    "        NUM_TRAINING_IMAGES, NUM_VALIDATION_IMAGES, NUM_TEST_IMAGES\n",
    "    )\n",
    ")"
   ]
  },
  {
   "cell_type": "markdown",
   "id": "usual-labor",
   "metadata": {
    "id": "92ZPaciNthga",
    "papermill": {
     "duration": 0.026009,
     "end_time": "2021-03-20T13:26:33.680238",
     "exception": false,
     "start_time": "2021-03-20T13:26:33.654229",
     "status": "completed"
    },
    "tags": []
   },
   "source": [
    "### **Cyclic learning rates :**\n",
    "\n",
    "\n",
    ">Cyclic learning rates  is a learning rate scheduling technique for \n",
    "(1) faster training of a network and \n",
    "(2) a finer understanding of the optimal learning rate. \n",
    "\n",
    ">Cyclic learning rates have an effect on the model training process known somewhat fancifully as<code>\"superconvergence\"</code> \n",
    "\n",
    "\n"
   ]
  },
  {
   "cell_type": "markdown",
   "id": "loose-exhibit",
   "metadata": {
    "id": "hSMUBTwkthgc",
    "papermill": {
     "duration": 0.025688,
     "end_time": "2021-03-20T13:26:33.732690",
     "exception": false,
     "start_time": "2021-03-20T13:26:33.707002",
     "status": "completed"
    },
    "tags": []
   },
   "source": [
    "![](https://drive.google.com/uc?id=1bnsglJByd1lc1h9hGrz2WZa1LzVBgtWW)\n",
    "\n",
    "Image Source : https://arxiv.org/abs/1803.09820"
   ]
  },
  {
   "cell_type": "code",
   "execution_count": 15,
   "id": "intellectual-finder",
   "metadata": {
    "execution": {
     "iopub.execute_input": "2021-03-20T13:26:33.792263Z",
     "iopub.status.busy": "2021-03-20T13:26:33.791592Z",
     "iopub.status.idle": "2021-03-20T13:26:33.795500Z",
     "shell.execute_reply": "2021-03-20T13:26:33.795035Z"
    },
    "id": "R7qwaU6HDV3f",
    "papermill": {
     "duration": 0.036533,
     "end_time": "2021-03-20T13:26:33.795640",
     "exception": false,
     "start_time": "2021-03-20T13:26:33.759107",
     "status": "completed"
    },
    "tags": []
   },
   "outputs": [],
   "source": [
    "def build_lrfn(lr_start=0.00001, lr_max=0.000075, lr_min=0.000001, lr_rampup_epochs=20, lr_sustain_epochs=0, lr_exp_decay=.8):\n",
    "    lr_max = lr_max * strategy.num_replicas_in_sync\n",
    "    def lrfn(epoch):\n",
    "        if epoch < lr_rampup_epochs:\n",
    "            lr = (lr_max - lr_start) / lr_rampup_epochs * epoch + lr_start\n",
    "        elif epoch < lr_rampup_epochs + lr_sustain_epochs:\n",
    "            lr = lr_max\n",
    "        else:\n",
    "            lr = (lr_max - lr_min) * lr_exp_decay ** (epoch - lr_rampup_epochs - lr_sustain_epochs) + lr_min\n",
    "        return lr\n",
    "    return lrfn"
   ]
  },
  {
   "cell_type": "markdown",
   "id": "legal-lodge",
   "metadata": {
    "id": "2IlBWESnthge",
    "papermill": {
     "duration": 0.027759,
     "end_time": "2021-03-20T13:26:33.849587",
     "exception": false,
     "start_time": "2021-03-20T13:26:33.821828",
     "status": "completed"
    },
    "tags": []
   },
   "source": [
    "# EfficientNets\n",
    "\n",
    "**Idea Of EfficientNets:**\n",
    "     EfficientNets are a promising family of deep neural network architectures that achieve state-of-the-art performance on image classification tasks with fewer resources, which makes them more accessible to a wider range of applications and use cases.\n",
    "\n",
    "\n",
    "**Compound Model Scaling: A Better Way to Scale Up CNNs**\n",
    "\n",
    "EfficientNets uses a new scaling method that uniformly scales all dimensions of depth/width/resolution using a simple yet highly effective compound coefficient The first step in the compound scaling method is to perform a grid search to find the relationship between different scaling dimensions of the baseline network under a fixed resource constraint.This determines the appropriate scaling coefficient for each of the dimensions mentioned above. We then apply those coefficients to scale up the baseline network to the desired target model size or computational budget.\n",
    "\n",
    "This compound scaling method consistently improves model accuracy and efficiency for scaling up existing models such as MobileNet (+1.4% imagenet accuracy), and ResNet (+0.7%), compared to conventional scaling methods.\n",
    "\n"
   ]
  },
  {
   "cell_type": "markdown",
   "id": "central-australia",
   "metadata": {
    "id": "xNakt4qcthgf",
    "papermill": {
     "duration": 0.026153,
     "end_time": "2021-03-20T13:26:33.901844",
     "exception": false,
     "start_time": "2021-03-20T13:26:33.875691",
     "status": "completed"
    },
    "tags": []
   },
   "source": [
    "![](https://drive.google.com/uc?id=18ZzZw0U-4O4iPe1JBVZwUVcn4FCmTS_x)"
   ]
  },
  {
   "cell_type": "markdown",
   "id": "classical-regular",
   "metadata": {
    "id": "EueW-bWYthgf",
    "papermill": {
     "duration": 0.025935,
     "end_time": "2021-03-20T13:26:33.954184",
     "exception": false,
     "start_time": "2021-03-20T13:26:33.928249",
     "status": "completed"
    },
    "tags": []
   },
   "source": [
    "**EfficientNet Architecture :**\n",
    "\n",
    "The effectiveness of model scaling also relies heavily on the baseline network which  is developed by performing a neural architecture search using the AutoML MNAS framework, which optimizes both accuracy and efficiency (FLOPS). The resulting architecture uses mobile inverted bottleneck convolution (MBConv), similar to MobileNetV2 and MnasNet, but is slightly larger due to an increased FLOP budget.The baseline network is then scaled up to obtain a family of models, called EfficientNets."
   ]
  },
  {
   "attachments": {
    "image.png": {
     "image/png": "[encoded data removed]"
    }
   },
   "cell_type": "markdown",
   "id": "c6243eef",
   "metadata": {},
   "source": [
    "![image.png](attachment:image.png)"
   ]
  },
  {
   "cell_type": "raw",
   "id": "34ed0808",
   "metadata": {
    "id": "iLhLz_zpthgg",
    "papermill": {
     "duration": 0.02612,
     "end_time": "2021-03-20T13:26:34.006467",
     "exception": false,
     "start_time": "2021-03-20T13:26:33.980347",
     "status": "completed"
    },
    "tags": []
   },
   "source": [
    "EXTRA LINK TO VIEW THE EFFICIENTNET MODEl\n",
    "\n",
    "![](https://drive.google.com/uc?id=1KVGvxtN4XXvLbt3hCSSZBU04lv0LqgO-)"
   ]
  },
  {
   "cell_type": "markdown",
   "id": "essential-monitoring",
   "metadata": {
    "id": "HixXTqTithgg",
    "papermill": {
     "duration": 0.027119,
     "end_time": "2021-03-20T13:26:34.060418",
     "exception": false,
     "start_time": "2021-03-20T13:26:34.033299",
     "status": "completed"
    },
    "tags": []
   },
   "source": [
    " **EfficientNet Performance**\n",
    "\n",
    "\n",
    "The EfficientNet models achieve both higher accuracy and better efficiency over existing CNNs like ResNet , DenseNet etc , reducing parameter size and FLOPS by an order of magnitude. \n"
   ]
  },
  {
   "cell_type": "markdown",
   "id": "vital-health",
   "metadata": {
    "id": "Ajn4XMGQthgh",
    "papermill": {
     "duration": 0.026887,
     "end_time": "2021-03-20T13:26:34.115145",
     "exception": false,
     "start_time": "2021-03-20T13:26:34.088258",
     "status": "completed"
    },
    "tags": []
   },
   "source": [
    "![](https://drive.google.com/uc?id=1jYu8AMPI9LVF2TQKUgJyKZaZqpsm3U0k)\n",
    "\n"
   ]
  },
  {
   "cell_type": "markdown",
   "id": "6cf5cccf",
   "metadata": {},
   "source": [
    "## Model summary\n",
    "\n",
    "1. Getting the dataset\n",
    "2. Building the efficientNet model\n",
    "3. Compiling the model.\n",
    "\n",
    "**1. Getting the dataset:**\n",
    "    Defining the dataset as train and validation.\n",
    "\n",
    "**2. Building the efficientNet model**\n",
    "\n",
    "   >**tf.keras.Sequential** model that uses the EfficientNetB6 convolutional neural network (CNN) architecture pre-trained on the ImageNet dataset.\n",
    "        \n",
    "   >**efn.EfficientNetB6** function creates an instance of the EfficientNetB6 model with the specified input shape((*IMAGE_SIZE, 3)),which specifies the height, width, and number of channels of the input images.\n",
    "      \n",
    "   >**weights='imagenet'**, which means that the pre-trained weights for the EfficientNetB6 model will be downloaded and used as the initial weights for the model.\n",
    "     \n",
    "   >**include_top argument** is set to False, which means that the top (classification) layer of the model will be excluded from the architecture. \n",
    "     \n",
    "\n",
    "**3. Constructing the layers.**\n",
    "\n",
    "   Under layering  we have used GlobalAveragePooling2D,Dropout,Dense\n",
    "    \n",
    "   >**GlobalAveragePooling** - computes the average value of each feature map in the output of the previous layer, resulting in a single value for each feature map. This operation reduces the number of parameters in the model and makes it more computationally efficient.\n",
    "\n",
    "  > **Droupout** - randomly sets a fraction of the input units to zero during training, which helps to prevent overfitting by reducing the capacity of the model.\n",
    "    \n",
    "  > **Dense Layer** - fully connected layer with 512 units and a rectified linear unit (ReLU) activation function. This layer processes the output of the global average pooling layer and learns a high-level representation of the features.\n",
    "    \n",
    "    \n",
    "**4. Compliling the model**\n",
    "\n",
    "   >**'adam'** is an adaptive learning rate optimization algorithm used in deep learning. The Adam optimizer adjusts the learning rate for each parameter based on the historical gradient information, which makes it more robust to noisy gradients and helps to converge faster.\n",
    "       \n",
    "   >**'binary_crossentropy'** is the loss function for binary classification problems. This loss function measures the difference between the predicted probability and the actual label for each example in the training data.The goal of the model during training is to minimize this loss function.\n",
    "      \n",
    "   >**['accuracy']** is the evaluation metric used to monitor the performance of the model during training and testing. The accuracy metric measures the proportion of examples that are classified correctly by the model.\n",
    "    \n",
    "    \n",
    "        "
   ]
  },
  {
   "cell_type": "code",
   "execution_count": 16,
   "id": "plain-hungarian",
   "metadata": {
    "execution": {
     "iopub.execute_input": "2021-03-20T13:26:34.178421Z",
     "iopub.status.busy": "2021-03-20T13:26:34.177732Z",
     "iopub.status.idle": "2021-03-20T13:27:08.888804Z",
     "shell.execute_reply": "2021-03-20T13:27:08.889275Z"
    },
    "id": "W9KECWJUDV3x",
    "outputId": "a037aa1b-61a8-40f6-f7a3-6fb13de9f443",
    "papermill": {
     "duration": 34.747356,
     "end_time": "2021-03-20T13:27:08.889443",
     "exception": false,
     "start_time": "2021-03-20T13:26:34.142087",
     "status": "completed"
    },
    "scrolled": true,
    "tags": []
   },
   "outputs": [
    {
     "name": "stdout",
     "output_type": "stream",
     "text": [
      "Downloading data from https://github.com/Callidior/keras-applications/releases/download/efficientnet/efficientnet-b6_weights_tf_dim_ordering_tf_kernels_autoaugment_notop.h5\n",
      "165527552/165527152 [==============================] - 2s 0us/step\n",
      "Model: \"sequential\"\n",
      "_________________________________________________________________\n",
      "Layer (type)                 Output Shape              Param #   \n",
      "=================================================================\n",
      "efficientnet-b6 (Functional) (None, 32, 32, 2304)      40960136  \n",
      "_________________________________________________________________\n",
      "global_average_pooling2d (Gl (None, 2304)              0         \n",
      "_________________________________________________________________\n",
      "dense (Dense)                (None, 512)               1180160   \n",
      "_________________________________________________________________\n",
      "dropout (Dropout)            (None, 512)               0         \n",
      "_________________________________________________________________\n",
      "dense_1 (Dense)              (None, 1)                 513       \n",
      "=================================================================\n",
      "Total params: 42,140,809\n",
      "Trainable params: 41,916,377\n",
      "Non-trainable params: 224,432\n",
      "_________________________________________________________________\n"
     ]
    }
   ],
   "source": [
    "with strategy.scope():\n",
    "    \n",
    "    train_dataset = get_training_dataset()\n",
    "    valid_dataset = get_validation_dataset()\n",
    "    \n",
    "    model = tf.keras.Sequential([\n",
    "        efn.EfficientNetB6(\n",
    "            input_shape=(*IMAGE_SIZE, 3),\n",
    "            weights='imagenet',\n",
    "            include_top=False\n",
    "        ),\n",
    "        tf.keras.layers.GlobalAveragePooling2D(),\n",
    "        tf.keras.layers.Dense(512, activation= 'relu'), \n",
    "        tf.keras.layers.Dropout(0.25), \n",
    "        tf.keras.layers.Dense(1, activation='sigmoid')\n",
    "    ])\n",
    "    \n",
    "    model.compile(\n",
    "        optimizer='adam',\n",
    "        loss = 'binary_crossentropy',\n",
    "        metrics=['accuracy']\n",
    "    )\n",
    "\n",
    "model.summary()"
   ]
  },
  {
   "cell_type": "markdown",
   "id": "dae10b9d",
   "metadata": {},
   "source": [
    "##  Fitting the model.\n",
    "\n",
    "1. Adjusting learning rate\n",
    "2. setting the callbacks.\n",
    "3. fixing the epoch."
   ]
  },
  {
   "cell_type": "code",
   "execution_count": 17,
   "id": "published-magnitude",
   "metadata": {
    "execution": {
     "iopub.execute_input": "2021-03-20T13:27:08.971721Z",
     "iopub.status.busy": "2021-03-20T13:27:08.970791Z",
     "iopub.status.idle": "2021-03-20T13:41:15.493240Z",
     "shell.execute_reply": "2021-03-20T13:41:15.494054Z"
    },
    "id": "C2H6UD7zDV4S",
    "papermill": {
     "duration": 846.568744,
     "end_time": "2021-03-20T13:41:15.494307",
     "exception": false,
     "start_time": "2021-03-20T13:27:08.925563",
     "status": "completed"
    },
    "tags": []
   },
   "outputs": [
    {
     "name": "stdout",
     "output_type": "stream",
     "text": [
      "\n",
      "Epoch 00001: LearningRateScheduler reducing learning rate to 1e-05.\n",
      "452/452 [==============================] - 846s 2s/step - loss: 0.3428 - accuracy: 0.9134 - val_loss: 0.1301 - val_accuracy: 0.9775\n"
     ]
    }
   ],
   "source": [
    "lrfn = build_lrfn()\n",
    "STEPS_PER_EPOCH = NUM_TRAINING_IMAGES // BATCH_SIZE\n",
    "VALID_STEPS = NUM_VALIDATION_IMAGES // BATCH_SIZE\n",
    "\n",
    "\n",
    "history = model.fit(\n",
    "    train_dataset, epochs=1,\n",
    "    steps_per_epoch=STEPS_PER_EPOCH,\n",
    "    validation_data=valid_dataset,\n",
    "    validation_steps=VALID_STEPS,\n",
    "    callbacks=[\n",
    "        tf.keras.callbacks.LearningRateScheduler(lrfn, verbose=1),\n",
    "        tf.keras.callbacks.ModelCheckpoint(\n",
    "            os.path.join(\"./model.h5\"),\n",
    "            monitor='train_loss', verbose=0,\n",
    "            save_best_only=True, save_weights_only=False,\n",
    "            mode='auto', save_freq='epoch'\n",
    "        )\n",
    "    ]\n",
    ")"
   ]
  },
  {
   "cell_type": "markdown",
   "id": "80e213c0",
   "metadata": {},
   "source": [
    "## Result ( training dataset)."
   ]
  },
  {
   "cell_type": "code",
   "execution_count": 18,
   "id": "static-bubble",
   "metadata": {
    "execution": {
     "iopub.execute_input": "2021-03-20T13:41:15.774003Z",
     "iopub.status.busy": "2021-03-20T13:41:15.773413Z",
     "iopub.status.idle": "2021-03-20T13:41:15.827512Z",
     "shell.execute_reply": "2021-03-20T13:41:15.827017Z"
    },
    "id": "DX-AS9uwDV4u",
    "outputId": "f5370526-8616-4e5a-d826-8273c40b98c6",
    "papermill": {
     "duration": 0.195305,
     "end_time": "2021-03-20T13:41:15.827658",
     "exception": false,
     "start_time": "2021-03-20T13:41:15.632353",
     "status": "completed"
    },
    "tags": []
   },
   "outputs": [
    {
     "data": {
      "text/html": [
       "<div>\n",
       "<style scoped>\n",
       "    .dataframe tbody tr th:only-of-type {\n",
       "        vertical-align: middle;\n",
       "    }\n",
       "\n",
       "    .dataframe tbody tr th {\n",
       "        vertical-align: top;\n",
       "    }\n",
       "\n",
       "    .dataframe thead th {\n",
       "        text-align: right;\n",
       "    }\n",
       "</style>\n",
       "<table border=\"1\" class=\"dataframe\">\n",
       "  <thead>\n",
       "    <tr style=\"text-align: right;\">\n",
       "      <th></th>\n",
       "      <th>image_name</th>\n",
       "      <th>target</th>\n",
       "    </tr>\n",
       "  </thead>\n",
       "  <tbody>\n",
       "    <tr>\n",
       "      <th>0</th>\n",
       "      <td>ISIC_0052060</td>\n",
       "      <td>0</td>\n",
       "    </tr>\n",
       "    <tr>\n",
       "      <th>1</th>\n",
       "      <td>ISIC_0052349</td>\n",
       "      <td>0</td>\n",
       "    </tr>\n",
       "    <tr>\n",
       "      <th>2</th>\n",
       "      <td>ISIC_0058510</td>\n",
       "      <td>0</td>\n",
       "    </tr>\n",
       "    <tr>\n",
       "      <th>3</th>\n",
       "      <td>ISIC_0073313</td>\n",
       "      <td>0</td>\n",
       "    </tr>\n",
       "    <tr>\n",
       "      <th>4</th>\n",
       "      <td>ISIC_0073502</td>\n",
       "      <td>0</td>\n",
       "    </tr>\n",
       "  </tbody>\n",
       "</table>\n",
       "</div>"
      ],
      "text/plain": [
       "     image_name  target\n",
       "0  ISIC_0052060       0\n",
       "1  ISIC_0052349       0\n",
       "2  ISIC_0058510       0\n",
       "3  ISIC_0073313       0\n",
       "4  ISIC_0073502       0"
      ]
     },
     "execution_count": 18,
     "metadata": {},
     "output_type": "execute_result"
    }
   ],
   "source": [
    "sub = pd.read_csv('/kaggle/input/siim-isic-melanoma-classification/sample_submission.csv')\n",
    "sub.head()"
   ]
  },
  {
   "cell_type": "markdown",
   "id": "a4da19dc",
   "metadata": {},
   "source": [
    "## Handling the test dataset.\n",
    "\n",
    "First, we get the test dataset test_ds by calling the get_test_dataset function.\n",
    "\n",
    "Next, we create a new dataset test_images_ds by mapping the test_ds dataset to only return the images (without the ID numbers). This is because the model.predict() method expects a dataset of images as input.\n",
    "\n",
    "model.predict() method to compute the predicted probabilities for each image in the test_images_ds dataset. \n",
    "\n"
   ]
  },
  {
   "cell_type": "code",
   "execution_count": 19,
   "id": "possible-zambia",
   "metadata": {
    "execution": {
     "iopub.execute_input": "2021-03-20T13:41:16.111561Z",
     "iopub.status.busy": "2021-03-20T13:41:16.110611Z",
     "iopub.status.idle": "2021-03-20T13:42:35.822788Z",
     "shell.execute_reply": "2021-03-20T13:42:35.823386Z"
    },
    "id": "cG64ekdXDV4_",
    "outputId": "e72ccc89-1144-4550-d9bf-5233c49de609",
    "papermill": {
     "duration": 79.856177,
     "end_time": "2021-03-20T13:42:35.823588",
     "exception": false,
     "start_time": "2021-03-20T13:41:15.967411",
     "status": "completed"
    },
    "tags": []
   },
   "outputs": [
    {
     "name": "stdout",
     "output_type": "stream",
     "text": [
      "Computing predictions...\n"
     ]
    }
   ],
   "source": [
    "test_ds = get_test_dataset(ordered=True)\n",
    "\n",
    "print('Computing predictions...')\n",
    "test_images_ds = test_ds.map(lambda image, idnum: image)\n",
    "probabilities = model.predict(test_images_ds)"
   ]
  },
  {
   "cell_type": "markdown",
   "id": "3c9008d1",
   "metadata": {},
   "source": [
    "## Generating the submission file.\n",
    "\n",
    "we use the **unbatch()** method to convert the dataset of ID numbers into a flat dataset of individual ID numbers.\n",
    "\n",
    "we use the **next()** function to get the next batch of ID numbers from the test_ids_ds dataset. \n",
    "\n",
    "We pass the argument \n",
    "**iter(test_ids_ds.batch(NUM_TEST_IMAGES))** to the next() function to ensure that we only get the first batch of ID numbers, where NUM_TEST_IMAGES is the number of test images in the test dataset.\n",
    "\n",
    "we convert the resulting batch of ID numbers to a numpy array of strings with the **astype('U')** method. These strings represent the ID numbers of the test images and will be used to create the submission file."
   ]
  },
  {
   "cell_type": "code",
   "execution_count": 20,
   "id": "supreme-thinking",
   "metadata": {
    "execution": {
     "iopub.execute_input": "2021-03-20T13:42:36.105941Z",
     "iopub.status.busy": "2021-03-20T13:42:36.105289Z",
     "iopub.status.idle": "2021-03-20T13:42:46.488435Z",
     "shell.execute_reply": "2021-03-20T13:42:46.487913Z"
    },
    "id": "toh9qEIHDV5O",
    "outputId": "4616b3b6-24ef-40ab-af60-e1c1d07af4fb",
    "papermill": {
     "duration": 10.525481,
     "end_time": "2021-03-20T13:42:46.488584",
     "exception": false,
     "start_time": "2021-03-20T13:42:35.963103",
     "status": "completed"
    },
    "tags": []
   },
   "outputs": [
    {
     "name": "stdout",
     "output_type": "stream",
     "text": [
      "Generating submission.csv file...\n"
     ]
    }
   ],
   "source": [
    "print('Generating submission.csv file...')\n",
    "test_ids_ds = test_ds.map(lambda image, idnum: idnum).unbatch()\n",
    "test_ids = next(iter(test_ids_ds.batch(NUM_TEST_IMAGES))).numpy().astype('U')"
   ]
  },
  {
   "cell_type": "markdown",
   "id": "11726443",
   "metadata": {},
   "source": [
    "## Creating the prediction dataframe "
   ]
  },
  {
   "cell_type": "code",
   "execution_count": 21,
   "id": "useful-medicine",
   "metadata": {
    "execution": {
     "iopub.execute_input": "2021-03-20T13:42:46.776648Z",
     "iopub.status.busy": "2021-03-20T13:42:46.776067Z",
     "iopub.status.idle": "2021-03-20T13:42:46.791966Z",
     "shell.execute_reply": "2021-03-20T13:42:46.791443Z"
    },
    "id": "Qhn36kErDV5y",
    "outputId": "8950241e-1e43-41de-da98-330bece08cbd",
    "papermill": {
     "duration": 0.162416,
     "end_time": "2021-03-20T13:42:46.792113",
     "exception": false,
     "start_time": "2021-03-20T13:42:46.629697",
     "status": "completed"
    },
    "tags": []
   },
   "outputs": [
    {
     "data": {
      "text/html": [
       "<div>\n",
       "<style scoped>\n",
       "    .dataframe tbody tr th:only-of-type {\n",
       "        vertical-align: middle;\n",
       "    }\n",
       "\n",
       "    .dataframe tbody tr th {\n",
       "        vertical-align: top;\n",
       "    }\n",
       "\n",
       "    .dataframe thead th {\n",
       "        text-align: right;\n",
       "    }\n",
       "</style>\n",
       "<table border=\"1\" class=\"dataframe\">\n",
       "  <thead>\n",
       "    <tr style=\"text-align: right;\">\n",
       "      <th></th>\n",
       "      <th>image_name</th>\n",
       "      <th>target</th>\n",
       "    </tr>\n",
       "  </thead>\n",
       "  <tbody>\n",
       "    <tr>\n",
       "      <th>0</th>\n",
       "      <td>ISIC_6381819</td>\n",
       "      <td>0.019907</td>\n",
       "    </tr>\n",
       "    <tr>\n",
       "      <th>1</th>\n",
       "      <td>ISIC_5583376</td>\n",
       "      <td>0.017218</td>\n",
       "    </tr>\n",
       "    <tr>\n",
       "      <th>2</th>\n",
       "      <td>ISIC_6408546</td>\n",
       "      <td>0.020971</td>\n",
       "    </tr>\n",
       "    <tr>\n",
       "      <th>3</th>\n",
       "      <td>ISIC_6932354</td>\n",
       "      <td>0.195981</td>\n",
       "    </tr>\n",
       "    <tr>\n",
       "      <th>4</th>\n",
       "      <td>ISIC_8191278</td>\n",
       "      <td>0.012761</td>\n",
       "    </tr>\n",
       "  </tbody>\n",
       "</table>\n",
       "</div>"
      ],
      "text/plain": [
       "     image_name    target\n",
       "0  ISIC_6381819  0.019907\n",
       "1  ISIC_5583376  0.017218\n",
       "2  ISIC_6408546  0.020971\n",
       "3  ISIC_6932354  0.195981\n",
       "4  ISIC_8191278  0.012761"
      ]
     },
     "execution_count": 21,
     "metadata": {},
     "output_type": "execute_result"
    }
   ],
   "source": [
    "pred_df = pd.DataFrame({'image_name': test_ids, 'target': np.concatenate(probabilities)})\n",
    "pred_df.head()"
   ]
  },
  {
   "cell_type": "markdown",
   "id": "2a44d367",
   "metadata": {},
   "source": [
    "\n",
    "## Result (testing data)\n",
    "\n",
    "#### **Submission.CSV**\n",
    "\n",
    "Deleting the target column from the sub dataframe. \n",
    "\n",
    "Merging the sub dataframe with the pred_df dataframe using the image_name column as the join key. The resulting merged dataframe contains the predicted probabilities for each test image.\n",
    "\n",
    "Saving the merged dataframe as a CSV file named submission.csv using the to_csv() method. We pass the argument index=False to the to_csv() method to exclude the index column from the CSV file.\n"
   ]
  },
  {
   "cell_type": "code",
   "execution_count": 22,
   "id": "united-efficiency",
   "metadata": {
    "execution": {
     "iopub.execute_input": "2021-03-20T13:42:47.085102Z",
     "iopub.status.busy": "2021-03-20T13:42:47.084174Z",
     "iopub.status.idle": "2021-03-20T13:42:47.128336Z",
     "shell.execute_reply": "2021-03-20T13:42:47.127860Z"
    },
    "id": "zUgVYFUIDV6D",
    "outputId": "1245c3fb-5482-48a4-a9ca-33f1ab6f3142",
    "papermill": {
     "duration": 0.197764,
     "end_time": "2021-03-20T13:42:47.128475",
     "exception": false,
     "start_time": "2021-03-20T13:42:46.930711",
     "status": "completed"
    },
    "tags": []
   },
   "outputs": [
    {
     "data": {
      "text/html": [
       "<div>\n",
       "<style scoped>\n",
       "    .dataframe tbody tr th:only-of-type {\n",
       "        vertical-align: middle;\n",
       "    }\n",
       "\n",
       "    .dataframe tbody tr th {\n",
       "        vertical-align: top;\n",
       "    }\n",
       "\n",
       "    .dataframe thead th {\n",
       "        text-align: right;\n",
       "    }\n",
       "</style>\n",
       "<table border=\"1\" class=\"dataframe\">\n",
       "  <thead>\n",
       "    <tr style=\"text-align: right;\">\n",
       "      <th></th>\n",
       "      <th>image_name</th>\n",
       "      <th>target</th>\n",
       "    </tr>\n",
       "  </thead>\n",
       "  <tbody>\n",
       "    <tr>\n",
       "      <th>0</th>\n",
       "      <td>ISIC_0052060</td>\n",
       "      <td>0.145588</td>\n",
       "    </tr>\n",
       "    <tr>\n",
       "      <th>1</th>\n",
       "      <td>ISIC_0052349</td>\n",
       "      <td>0.128266</td>\n",
       "    </tr>\n",
       "    <tr>\n",
       "      <th>2</th>\n",
       "      <td>ISIC_0058510</td>\n",
       "      <td>0.057062</td>\n",
       "    </tr>\n",
       "    <tr>\n",
       "      <th>3</th>\n",
       "      <td>ISIC_0073313</td>\n",
       "      <td>0.015582</td>\n",
       "    </tr>\n",
       "    <tr>\n",
       "      <th>4</th>\n",
       "      <td>ISIC_0073502</td>\n",
       "      <td>0.017009</td>\n",
       "    </tr>\n",
       "  </tbody>\n",
       "</table>\n",
       "</div>"
      ],
      "text/plain": [
       "     image_name    target\n",
       "0  ISIC_0052060  0.145588\n",
       "1  ISIC_0052349  0.128266\n",
       "2  ISIC_0058510  0.057062\n",
       "3  ISIC_0073313  0.015582\n",
       "4  ISIC_0073502  0.017009"
      ]
     },
     "execution_count": 22,
     "metadata": {},
     "output_type": "execute_result"
    }
   ],
   "source": [
    "del sub['target']\n",
    "sub = sub.merge(pred_df, on='image_name')\n",
    "sub.to_csv('submission.csv', index=False)\n",
    "sub.head()"
   ]
  }
 ],
 "metadata": {
  "kernelspec": {
   "display_name": "Python 3 (ipykernel)",
   "language": "python",
   "name": "python3"
  },
  "language_info": {
   "codemirror_mode": {
    "name": "ipython",
    "version": 3
   },
   "file_extension": ".py",
   "mimetype": "text/x-python",
   "name": "python",
   "nbconvert_exporter": "python",
   "pygments_lexer": "ipython3",
   "version": "3.9.12"
  },
  "papermill": {
   "default_parameters": {},
   "duration": 1014.440035,
   "end_time": "2021-03-20T13:42:52.652039",
   "environment_variables": {},
   "exception": null,
   "input_path": "__notebook__.ipynb",
   "output_path": "__notebook__.ipynb",
   "parameters": {},
   "start_time": "2021-03-20T13:25:58.212004",
   "version": "2.3.2"
  }
 },
 "nbformat": 4,
 "nbformat_minor": 5
}
