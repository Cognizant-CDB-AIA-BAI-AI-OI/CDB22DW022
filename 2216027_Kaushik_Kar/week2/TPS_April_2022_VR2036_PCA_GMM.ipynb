{
 "cells": [
  {
   "cell_type": "markdown",
   "id": "7723c354",
   "metadata": {},
   "source": [
    "Importing the important libraries"
   ]
  },
  {
   "cell_type": "code",
   "execution_count": 1,
   "id": "0c35a2b9",
   "metadata": {},
   "outputs": [
    {
     "name": "stderr",
     "output_type": "stream",
     "text": [
      "C:\\ProgramData\\Anaconda3\\lib\\site-packages\\scipy\\__init__.py:146: UserWarning: A NumPy version >=1.16.5 and <1.23.0 is required for this version of SciPy (detected version 1.24.2\n",
      "  warnings.warn(f\"A NumPy version >={np_minversion} and <{np_maxversion}\"\n"
     ]
    }
   ],
   "source": [
    "import numpy as np # linear algebra\n",
    "import pandas as pd # data processing, CSV file I/O (e.g. pd.read_csv)\n",
    "import matplotlib.pyplot as plt\n",
    "%matplotlib inline\n",
    "import seaborn as sns\n",
    "plt.style.use('dark_background')"
   ]
  },
  {
   "cell_type": "code",
   "execution_count": 12,
   "id": "e087e45f",
   "metadata": {},
   "outputs": [
    {
     "name": "stdout",
     "output_type": "stream",
     "text": [
      "C:\\Users\\2216027\\kaggle2\\data\\sample_submission.csv\n",
      "C:\\Users\\2216027\\kaggle2\\data\\test.csv\n",
      "C:\\Users\\2216027\\kaggle2\\data\\train.csv\n",
      "C:\\Users\\2216027\\kaggle2\\data\\train_labels.csv\n"
     ]
    }
   ],
   "source": [
    "import os\n",
    "for dirname, _, filenames in os.walk('C:\\\\Users\\\\2216027\\\\kaggle2'):\n",
    "    for filename in filenames:\n",
    "        print(os.path.join(dirname, filename))"
   ]
  },
  {
   "cell_type": "markdown",
   "id": "64d0729d",
   "metadata": {},
   "source": [
    "Loading and preparing the dataset"
   ]
  },
  {
   "cell_type": "code",
   "execution_count": 13,
   "id": "fd0a3d4f",
   "metadata": {},
   "outputs": [
    {
     "data": {
      "text/html": [
       "<div>\n",
       "<style scoped>\n",
       "    .dataframe tbody tr th:only-of-type {\n",
       "        vertical-align: middle;\n",
       "    }\n",
       "\n",
       "    .dataframe tbody tr th {\n",
       "        vertical-align: top;\n",
       "    }\n",
       "\n",
       "    .dataframe thead th {\n",
       "        text-align: right;\n",
       "    }\n",
       "</style>\n",
       "<table border=\"1\" class=\"dataframe\">\n",
       "  <thead>\n",
       "    <tr style=\"text-align: right;\">\n",
       "      <th></th>\n",
       "      <th>sequence</th>\n",
       "      <th>subject</th>\n",
       "      <th>step</th>\n",
       "      <th>sensor_00</th>\n",
       "      <th>sensor_01</th>\n",
       "      <th>sensor_02</th>\n",
       "      <th>sensor_03</th>\n",
       "      <th>sensor_04</th>\n",
       "      <th>sensor_05</th>\n",
       "      <th>sensor_06</th>\n",
       "      <th>sensor_07</th>\n",
       "      <th>sensor_08</th>\n",
       "      <th>sensor_09</th>\n",
       "      <th>sensor_10</th>\n",
       "      <th>sensor_11</th>\n",
       "      <th>sensor_12</th>\n",
       "    </tr>\n",
       "  </thead>\n",
       "  <tbody>\n",
       "    <tr>\n",
       "      <th>0</th>\n",
       "      <td>0</td>\n",
       "      <td>47</td>\n",
       "      <td>0</td>\n",
       "      <td>-0.196291</td>\n",
       "      <td>0.112395</td>\n",
       "      <td>1.0</td>\n",
       "      <td>0.329204</td>\n",
       "      <td>-1.004660</td>\n",
       "      <td>-0.131638</td>\n",
       "      <td>-0.127505</td>\n",
       "      <td>0.368702</td>\n",
       "      <td>-0.1</td>\n",
       "      <td>-0.963873</td>\n",
       "      <td>-0.985069</td>\n",
       "      <td>0.531893</td>\n",
       "      <td>4.751492</td>\n",
       "    </tr>\n",
       "    <tr>\n",
       "      <th>1</th>\n",
       "      <td>0</td>\n",
       "      <td>47</td>\n",
       "      <td>1</td>\n",
       "      <td>-0.447450</td>\n",
       "      <td>0.134454</td>\n",
       "      <td>1.0</td>\n",
       "      <td>-0.658407</td>\n",
       "      <td>0.162495</td>\n",
       "      <td>0.340314</td>\n",
       "      <td>-0.209472</td>\n",
       "      <td>-0.867176</td>\n",
       "      <td>0.2</td>\n",
       "      <td>-0.301301</td>\n",
       "      <td>0.082733</td>\n",
       "      <td>-0.231481</td>\n",
       "      <td>0.454390</td>\n",
       "    </tr>\n",
       "    <tr>\n",
       "      <th>2</th>\n",
       "      <td>0</td>\n",
       "      <td>47</td>\n",
       "      <td>2</td>\n",
       "      <td>0.326893</td>\n",
       "      <td>-0.694328</td>\n",
       "      <td>1.0</td>\n",
       "      <td>0.330088</td>\n",
       "      <td>0.473678</td>\n",
       "      <td>1.280479</td>\n",
       "      <td>-0.094718</td>\n",
       "      <td>0.535878</td>\n",
       "      <td>1.4</td>\n",
       "      <td>1.002168</td>\n",
       "      <td>0.449221</td>\n",
       "      <td>-0.586420</td>\n",
       "      <td>-4.736147</td>\n",
       "    </tr>\n",
       "    <tr>\n",
       "      <th>3</th>\n",
       "      <td>0</td>\n",
       "      <td>47</td>\n",
       "      <td>3</td>\n",
       "      <td>0.523184</td>\n",
       "      <td>0.751050</td>\n",
       "      <td>1.0</td>\n",
       "      <td>0.976991</td>\n",
       "      <td>-0.563287</td>\n",
       "      <td>-0.720269</td>\n",
       "      <td>0.793260</td>\n",
       "      <td>0.951145</td>\n",
       "      <td>-0.3</td>\n",
       "      <td>-0.995665</td>\n",
       "      <td>-0.434290</td>\n",
       "      <td>1.344650</td>\n",
       "      <td>0.429241</td>\n",
       "    </tr>\n",
       "    <tr>\n",
       "      <th>4</th>\n",
       "      <td>0</td>\n",
       "      <td>47</td>\n",
       "      <td>4</td>\n",
       "      <td>0.272025</td>\n",
       "      <td>1.074580</td>\n",
       "      <td>1.0</td>\n",
       "      <td>-0.136283</td>\n",
       "      <td>0.398579</td>\n",
       "      <td>0.044877</td>\n",
       "      <td>0.560109</td>\n",
       "      <td>-0.541985</td>\n",
       "      <td>-0.9</td>\n",
       "      <td>1.055636</td>\n",
       "      <td>0.812631</td>\n",
       "      <td>0.123457</td>\n",
       "      <td>-0.223359</td>\n",
       "    </tr>\n",
       "  </tbody>\n",
       "</table>\n",
       "</div>"
      ],
      "text/plain": [
       "   sequence  subject  step  sensor_00  sensor_01  sensor_02  sensor_03  \\\n",
       "0         0       47     0  -0.196291   0.112395        1.0   0.329204   \n",
       "1         0       47     1  -0.447450   0.134454        1.0  -0.658407   \n",
       "2         0       47     2   0.326893  -0.694328        1.0   0.330088   \n",
       "3         0       47     3   0.523184   0.751050        1.0   0.976991   \n",
       "4         0       47     4   0.272025   1.074580        1.0  -0.136283   \n",
       "\n",
       "   sensor_04  sensor_05  sensor_06  sensor_07  sensor_08  sensor_09  \\\n",
       "0  -1.004660  -0.131638  -0.127505   0.368702       -0.1  -0.963873   \n",
       "1   0.162495   0.340314  -0.209472  -0.867176        0.2  -0.301301   \n",
       "2   0.473678   1.280479  -0.094718   0.535878        1.4   1.002168   \n",
       "3  -0.563287  -0.720269   0.793260   0.951145       -0.3  -0.995665   \n",
       "4   0.398579   0.044877   0.560109  -0.541985       -0.9   1.055636   \n",
       "\n",
       "   sensor_10  sensor_11  sensor_12  \n",
       "0  -0.985069   0.531893   4.751492  \n",
       "1   0.082733  -0.231481   0.454390  \n",
       "2   0.449221  -0.586420  -4.736147  \n",
       "3  -0.434290   1.344650   0.429241  \n",
       "4   0.812631   0.123457  -0.223359  "
      ]
     },
     "execution_count": 13,
     "metadata": {},
     "output_type": "execute_result"
    }
   ],
   "source": [
    "train_df = pd.read_csv('C:\\\\Users\\\\2216027\\\\kaggle2\\\\data\\\\train.csv')\n",
    "train_df.head()"
   ]
  },
  {
   "cell_type": "code",
   "execution_count": 15,
   "id": "7fb5c9a7",
   "metadata": {},
   "outputs": [
    {
     "data": {
      "text/html": [
       "<div>\n",
       "<style scoped>\n",
       "    .dataframe tbody tr th:only-of-type {\n",
       "        vertical-align: middle;\n",
       "    }\n",
       "\n",
       "    .dataframe tbody tr th {\n",
       "        vertical-align: top;\n",
       "    }\n",
       "\n",
       "    .dataframe thead th {\n",
       "        text-align: right;\n",
       "    }\n",
       "</style>\n",
       "<table border=\"1\" class=\"dataframe\">\n",
       "  <thead>\n",
       "    <tr style=\"text-align: right;\">\n",
       "      <th></th>\n",
       "      <th>sequence</th>\n",
       "      <th>state</th>\n",
       "    </tr>\n",
       "  </thead>\n",
       "  <tbody>\n",
       "    <tr>\n",
       "      <th>0</th>\n",
       "      <td>0</td>\n",
       "      <td>0</td>\n",
       "    </tr>\n",
       "    <tr>\n",
       "      <th>1</th>\n",
       "      <td>1</td>\n",
       "      <td>1</td>\n",
       "    </tr>\n",
       "    <tr>\n",
       "      <th>2</th>\n",
       "      <td>2</td>\n",
       "      <td>1</td>\n",
       "    </tr>\n",
       "    <tr>\n",
       "      <th>3</th>\n",
       "      <td>3</td>\n",
       "      <td>1</td>\n",
       "    </tr>\n",
       "    <tr>\n",
       "      <th>4</th>\n",
       "      <td>4</td>\n",
       "      <td>1</td>\n",
       "    </tr>\n",
       "  </tbody>\n",
       "</table>\n",
       "</div>"
      ],
      "text/plain": [
       "   sequence  state\n",
       "0         0      0\n",
       "1         1      1\n",
       "2         2      1\n",
       "3         3      1\n",
       "4         4      1"
      ]
     },
     "execution_count": 15,
     "metadata": {},
     "output_type": "execute_result"
    }
   ],
   "source": [
    "train_labels_df = pd.read_csv('C:\\\\Users\\\\2216027\\\\kaggle2\\\\data\\\\train_labels.csv')\n",
    "train_labels_df.head()"
   ]
  },
  {
   "cell_type": "code",
   "execution_count": 16,
   "id": "f14c8bbc",
   "metadata": {},
   "outputs": [
    {
     "data": {
      "text/html": [
       "<div>\n",
       "<style scoped>\n",
       "    .dataframe tbody tr th:only-of-type {\n",
       "        vertical-align: middle;\n",
       "    }\n",
       "\n",
       "    .dataframe tbody tr th {\n",
       "        vertical-align: top;\n",
       "    }\n",
       "\n",
       "    .dataframe thead th {\n",
       "        text-align: right;\n",
       "    }\n",
       "</style>\n",
       "<table border=\"1\" class=\"dataframe\">\n",
       "  <thead>\n",
       "    <tr style=\"text-align: right;\">\n",
       "      <th></th>\n",
       "      <th>sequence</th>\n",
       "      <th>subject</th>\n",
       "      <th>step</th>\n",
       "      <th>sensor_00</th>\n",
       "      <th>sensor_01</th>\n",
       "      <th>sensor_02</th>\n",
       "      <th>sensor_03</th>\n",
       "      <th>sensor_04</th>\n",
       "      <th>sensor_05</th>\n",
       "      <th>sensor_06</th>\n",
       "      <th>sensor_07</th>\n",
       "      <th>sensor_08</th>\n",
       "      <th>sensor_09</th>\n",
       "      <th>sensor_10</th>\n",
       "      <th>sensor_11</th>\n",
       "      <th>sensor_12</th>\n",
       "      <th>state</th>\n",
       "    </tr>\n",
       "  </thead>\n",
       "  <tbody>\n",
       "    <tr>\n",
       "      <th>0</th>\n",
       "      <td>0</td>\n",
       "      <td>47</td>\n",
       "      <td>0</td>\n",
       "      <td>-0.196291</td>\n",
       "      <td>0.112395</td>\n",
       "      <td>1.0</td>\n",
       "      <td>0.329204</td>\n",
       "      <td>-1.004660</td>\n",
       "      <td>-0.131638</td>\n",
       "      <td>-0.127505</td>\n",
       "      <td>0.368702</td>\n",
       "      <td>-0.1</td>\n",
       "      <td>-0.963873</td>\n",
       "      <td>-0.985069</td>\n",
       "      <td>0.531893</td>\n",
       "      <td>4.751492</td>\n",
       "      <td>0</td>\n",
       "    </tr>\n",
       "    <tr>\n",
       "      <th>1</th>\n",
       "      <td>0</td>\n",
       "      <td>47</td>\n",
       "      <td>1</td>\n",
       "      <td>-0.447450</td>\n",
       "      <td>0.134454</td>\n",
       "      <td>1.0</td>\n",
       "      <td>-0.658407</td>\n",
       "      <td>0.162495</td>\n",
       "      <td>0.340314</td>\n",
       "      <td>-0.209472</td>\n",
       "      <td>-0.867176</td>\n",
       "      <td>0.2</td>\n",
       "      <td>-0.301301</td>\n",
       "      <td>0.082733</td>\n",
       "      <td>-0.231481</td>\n",
       "      <td>0.454390</td>\n",
       "      <td>0</td>\n",
       "    </tr>\n",
       "    <tr>\n",
       "      <th>2</th>\n",
       "      <td>0</td>\n",
       "      <td>47</td>\n",
       "      <td>2</td>\n",
       "      <td>0.326893</td>\n",
       "      <td>-0.694328</td>\n",
       "      <td>1.0</td>\n",
       "      <td>0.330088</td>\n",
       "      <td>0.473678</td>\n",
       "      <td>1.280479</td>\n",
       "      <td>-0.094718</td>\n",
       "      <td>0.535878</td>\n",
       "      <td>1.4</td>\n",
       "      <td>1.002168</td>\n",
       "      <td>0.449221</td>\n",
       "      <td>-0.586420</td>\n",
       "      <td>-4.736147</td>\n",
       "      <td>0</td>\n",
       "    </tr>\n",
       "    <tr>\n",
       "      <th>3</th>\n",
       "      <td>0</td>\n",
       "      <td>47</td>\n",
       "      <td>3</td>\n",
       "      <td>0.523184</td>\n",
       "      <td>0.751050</td>\n",
       "      <td>1.0</td>\n",
       "      <td>0.976991</td>\n",
       "      <td>-0.563287</td>\n",
       "      <td>-0.720269</td>\n",
       "      <td>0.793260</td>\n",
       "      <td>0.951145</td>\n",
       "      <td>-0.3</td>\n",
       "      <td>-0.995665</td>\n",
       "      <td>-0.434290</td>\n",
       "      <td>1.344650</td>\n",
       "      <td>0.429241</td>\n",
       "      <td>0</td>\n",
       "    </tr>\n",
       "    <tr>\n",
       "      <th>4</th>\n",
       "      <td>0</td>\n",
       "      <td>47</td>\n",
       "      <td>4</td>\n",
       "      <td>0.272025</td>\n",
       "      <td>1.074580</td>\n",
       "      <td>1.0</td>\n",
       "      <td>-0.136283</td>\n",
       "      <td>0.398579</td>\n",
       "      <td>0.044877</td>\n",
       "      <td>0.560109</td>\n",
       "      <td>-0.541985</td>\n",
       "      <td>-0.9</td>\n",
       "      <td>1.055636</td>\n",
       "      <td>0.812631</td>\n",
       "      <td>0.123457</td>\n",
       "      <td>-0.223359</td>\n",
       "      <td>0</td>\n",
       "    </tr>\n",
       "  </tbody>\n",
       "</table>\n",
       "</div>"
      ],
      "text/plain": [
       "   sequence  subject  step  sensor_00  sensor_01  sensor_02  sensor_03  \\\n",
       "0         0       47     0  -0.196291   0.112395        1.0   0.329204   \n",
       "1         0       47     1  -0.447450   0.134454        1.0  -0.658407   \n",
       "2         0       47     2   0.326893  -0.694328        1.0   0.330088   \n",
       "3         0       47     3   0.523184   0.751050        1.0   0.976991   \n",
       "4         0       47     4   0.272025   1.074580        1.0  -0.136283   \n",
       "\n",
       "   sensor_04  sensor_05  sensor_06  sensor_07  sensor_08  sensor_09  \\\n",
       "0  -1.004660  -0.131638  -0.127505   0.368702       -0.1  -0.963873   \n",
       "1   0.162495   0.340314  -0.209472  -0.867176        0.2  -0.301301   \n",
       "2   0.473678   1.280479  -0.094718   0.535878        1.4   1.002168   \n",
       "3  -0.563287  -0.720269   0.793260   0.951145       -0.3  -0.995665   \n",
       "4   0.398579   0.044877   0.560109  -0.541985       -0.9   1.055636   \n",
       "\n",
       "   sensor_10  sensor_11  sensor_12  state  \n",
       "0  -0.985069   0.531893   4.751492      0  \n",
       "1   0.082733  -0.231481   0.454390      0  \n",
       "2   0.449221  -0.586420  -4.736147      0  \n",
       "3  -0.434290   1.344650   0.429241      0  \n",
       "4   0.812631   0.123457  -0.223359      0  "
      ]
     },
     "execution_count": 16,
     "metadata": {},
     "output_type": "execute_result"
    }
   ],
   "source": [
    "train_df=pd.merge(train_df,train_labels_df,on='sequence',how='left')\n",
    "train_df.head()"
   ]
  },
  {
   "cell_type": "code",
   "execution_count": 17,
   "id": "a8efcdc5",
   "metadata": {},
   "outputs": [
    {
     "data": {
      "text/html": [
       "<div>\n",
       "<style scoped>\n",
       "    .dataframe tbody tr th:only-of-type {\n",
       "        vertical-align: middle;\n",
       "    }\n",
       "\n",
       "    .dataframe tbody tr th {\n",
       "        vertical-align: top;\n",
       "    }\n",
       "\n",
       "    .dataframe thead th {\n",
       "        text-align: right;\n",
       "    }\n",
       "</style>\n",
       "<table border=\"1\" class=\"dataframe\">\n",
       "  <thead>\n",
       "    <tr style=\"text-align: right;\">\n",
       "      <th></th>\n",
       "      <th>sensor_00</th>\n",
       "      <th>sensor_01</th>\n",
       "      <th>sensor_02</th>\n",
       "      <th>sensor_03</th>\n",
       "      <th>sensor_04</th>\n",
       "      <th>sensor_05</th>\n",
       "      <th>sensor_06</th>\n",
       "      <th>sensor_07</th>\n",
       "      <th>sensor_08</th>\n",
       "      <th>sensor_09</th>\n",
       "      <th>sensor_10</th>\n",
       "      <th>sensor_11</th>\n",
       "      <th>sensor_12</th>\n",
       "    </tr>\n",
       "  </thead>\n",
       "  <tbody>\n",
       "    <tr>\n",
       "      <th>0</th>\n",
       "      <td>-0.196291</td>\n",
       "      <td>0.112395</td>\n",
       "      <td>1.0</td>\n",
       "      <td>0.329204</td>\n",
       "      <td>-1.004660</td>\n",
       "      <td>-0.131638</td>\n",
       "      <td>-0.127505</td>\n",
       "      <td>0.368702</td>\n",
       "      <td>-0.1</td>\n",
       "      <td>-0.963873</td>\n",
       "      <td>-0.985069</td>\n",
       "      <td>0.531893</td>\n",
       "      <td>4.751492</td>\n",
       "    </tr>\n",
       "    <tr>\n",
       "      <th>1</th>\n",
       "      <td>-0.447450</td>\n",
       "      <td>0.134454</td>\n",
       "      <td>1.0</td>\n",
       "      <td>-0.658407</td>\n",
       "      <td>0.162495</td>\n",
       "      <td>0.340314</td>\n",
       "      <td>-0.209472</td>\n",
       "      <td>-0.867176</td>\n",
       "      <td>0.2</td>\n",
       "      <td>-0.301301</td>\n",
       "      <td>0.082733</td>\n",
       "      <td>-0.231481</td>\n",
       "      <td>0.454390</td>\n",
       "    </tr>\n",
       "    <tr>\n",
       "      <th>2</th>\n",
       "      <td>0.326893</td>\n",
       "      <td>-0.694328</td>\n",
       "      <td>1.0</td>\n",
       "      <td>0.330088</td>\n",
       "      <td>0.473678</td>\n",
       "      <td>1.280479</td>\n",
       "      <td>-0.094718</td>\n",
       "      <td>0.535878</td>\n",
       "      <td>1.4</td>\n",
       "      <td>1.002168</td>\n",
       "      <td>0.449221</td>\n",
       "      <td>-0.586420</td>\n",
       "      <td>-4.736147</td>\n",
       "    </tr>\n",
       "    <tr>\n",
       "      <th>3</th>\n",
       "      <td>0.523184</td>\n",
       "      <td>0.751050</td>\n",
       "      <td>1.0</td>\n",
       "      <td>0.976991</td>\n",
       "      <td>-0.563287</td>\n",
       "      <td>-0.720269</td>\n",
       "      <td>0.793260</td>\n",
       "      <td>0.951145</td>\n",
       "      <td>-0.3</td>\n",
       "      <td>-0.995665</td>\n",
       "      <td>-0.434290</td>\n",
       "      <td>1.344650</td>\n",
       "      <td>0.429241</td>\n",
       "    </tr>\n",
       "    <tr>\n",
       "      <th>4</th>\n",
       "      <td>0.272025</td>\n",
       "      <td>1.074580</td>\n",
       "      <td>1.0</td>\n",
       "      <td>-0.136283</td>\n",
       "      <td>0.398579</td>\n",
       "      <td>0.044877</td>\n",
       "      <td>0.560109</td>\n",
       "      <td>-0.541985</td>\n",
       "      <td>-0.9</td>\n",
       "      <td>1.055636</td>\n",
       "      <td>0.812631</td>\n",
       "      <td>0.123457</td>\n",
       "      <td>-0.223359</td>\n",
       "    </tr>\n",
       "  </tbody>\n",
       "</table>\n",
       "</div>"
      ],
      "text/plain": [
       "   sensor_00  sensor_01  sensor_02  sensor_03  sensor_04  sensor_05  \\\n",
       "0  -0.196291   0.112395        1.0   0.329204  -1.004660  -0.131638   \n",
       "1  -0.447450   0.134454        1.0  -0.658407   0.162495   0.340314   \n",
       "2   0.326893  -0.694328        1.0   0.330088   0.473678   1.280479   \n",
       "3   0.523184   0.751050        1.0   0.976991  -0.563287  -0.720269   \n",
       "4   0.272025   1.074580        1.0  -0.136283   0.398579   0.044877   \n",
       "\n",
       "   sensor_06  sensor_07  sensor_08  sensor_09  sensor_10  sensor_11  sensor_12  \n",
       "0  -0.127505   0.368702       -0.1  -0.963873  -0.985069   0.531893   4.751492  \n",
       "1  -0.209472  -0.867176        0.2  -0.301301   0.082733  -0.231481   0.454390  \n",
       "2  -0.094718   0.535878        1.4   1.002168   0.449221  -0.586420  -4.736147  \n",
       "3   0.793260   0.951145       -0.3  -0.995665  -0.434290   1.344650   0.429241  \n",
       "4   0.560109  -0.541985       -0.9   1.055636   0.812631   0.123457  -0.223359  "
      ]
     },
     "execution_count": 17,
     "metadata": {},
     "output_type": "execute_result"
    }
   ],
   "source": [
    "state = train_df['state']\n",
    "train_df.drop(['sequence','step','subject', 'state'],axis=1,inplace=True)\n",
    "X_train = train_df\n",
    "X_train.head()"
   ]
  },
  {
   "cell_type": "markdown",
   "id": "57531650",
   "metadata": {},
   "source": [
    "Normalizing the Dataset"
   ]
  },
  {
   "cell_type": "code",
   "execution_count": 18,
   "id": "44e9aa24",
   "metadata": {},
   "outputs": [
    {
     "data": {
      "text/html": [
       "<div>\n",
       "<style scoped>\n",
       "    .dataframe tbody tr th:only-of-type {\n",
       "        vertical-align: middle;\n",
       "    }\n",
       "\n",
       "    .dataframe tbody tr th {\n",
       "        vertical-align: top;\n",
       "    }\n",
       "\n",
       "    .dataframe thead th {\n",
       "        text-align: right;\n",
       "    }\n",
       "</style>\n",
       "<table border=\"1\" class=\"dataframe\">\n",
       "  <thead>\n",
       "    <tr style=\"text-align: right;\">\n",
       "      <th></th>\n",
       "      <th>0</th>\n",
       "      <th>1</th>\n",
       "      <th>2</th>\n",
       "      <th>3</th>\n",
       "      <th>4</th>\n",
       "      <th>5</th>\n",
       "      <th>6</th>\n",
       "      <th>7</th>\n",
       "      <th>8</th>\n",
       "      <th>9</th>\n",
       "      <th>10</th>\n",
       "      <th>11</th>\n",
       "      <th>12</th>\n",
       "    </tr>\n",
       "  </thead>\n",
       "  <tbody>\n",
       "    <tr>\n",
       "      <th>0</th>\n",
       "      <td>-0.073994</td>\n",
       "      <td>0.025755</td>\n",
       "      <td>0.529941</td>\n",
       "      <td>0.084226</td>\n",
       "      <td>-0.595617</td>\n",
       "      <td>-0.081710</td>\n",
       "      <td>-0.037993</td>\n",
       "      <td>0.113685</td>\n",
       "      <td>-0.022186</td>\n",
       "      <td>-0.372260</td>\n",
       "      <td>-0.513943</td>\n",
       "      <td>0.118173</td>\n",
       "      <td>0.121766</td>\n",
       "    </tr>\n",
       "    <tr>\n",
       "      <th>1</th>\n",
       "      <td>-0.168462</td>\n",
       "      <td>0.030764</td>\n",
       "      <td>0.529941</td>\n",
       "      <td>-0.166807</td>\n",
       "      <td>0.097598</td>\n",
       "      <td>0.214962</td>\n",
       "      <td>-0.062496</td>\n",
       "      <td>-0.267356</td>\n",
       "      <td>0.044458</td>\n",
       "      <td>-0.116728</td>\n",
       "      <td>0.042977</td>\n",
       "      <td>-0.050247</td>\n",
       "      <td>0.011916</td>\n",
       "    </tr>\n",
       "    <tr>\n",
       "      <th>2</th>\n",
       "      <td>0.122789</td>\n",
       "      <td>-0.157416</td>\n",
       "      <td>0.529941</td>\n",
       "      <td>0.084451</td>\n",
       "      <td>0.282421</td>\n",
       "      <td>0.805957</td>\n",
       "      <td>-0.028192</td>\n",
       "      <td>0.165228</td>\n",
       "      <td>0.311034</td>\n",
       "      <td>0.385976</td>\n",
       "      <td>0.234122</td>\n",
       "      <td>-0.128556</td>\n",
       "      <td>-0.120775</td>\n",
       "    </tr>\n",
       "    <tr>\n",
       "      <th>3</th>\n",
       "      <td>0.196619</td>\n",
       "      <td>0.170766</td>\n",
       "      <td>0.529941</td>\n",
       "      <td>0.248882</td>\n",
       "      <td>-0.333470</td>\n",
       "      <td>-0.451728</td>\n",
       "      <td>0.237261</td>\n",
       "      <td>0.293261</td>\n",
       "      <td>-0.066615</td>\n",
       "      <td>-0.384521</td>\n",
       "      <td>-0.226680</td>\n",
       "      <td>0.297488</td>\n",
       "      <td>0.011273</td>\n",
       "    </tr>\n",
       "    <tr>\n",
       "      <th>4</th>\n",
       "      <td>0.102151</td>\n",
       "      <td>0.244225</td>\n",
       "      <td>0.529941</td>\n",
       "      <td>-0.034093</td>\n",
       "      <td>0.237816</td>\n",
       "      <td>0.029248</td>\n",
       "      <td>0.167563</td>\n",
       "      <td>-0.167094</td>\n",
       "      <td>-0.199903</td>\n",
       "      <td>0.406597</td>\n",
       "      <td>0.423661</td>\n",
       "      <td>0.028061</td>\n",
       "      <td>-0.005410</td>\n",
       "    </tr>\n",
       "  </tbody>\n",
       "</table>\n",
       "</div>"
      ],
      "text/plain": [
       "         0         1         2         3         4         5         6   \\\n",
       "0 -0.073994  0.025755  0.529941  0.084226 -0.595617 -0.081710 -0.037993   \n",
       "1 -0.168462  0.030764  0.529941 -0.166807  0.097598  0.214962 -0.062496   \n",
       "2  0.122789 -0.157416  0.529941  0.084451  0.282421  0.805957 -0.028192   \n",
       "3  0.196619  0.170766  0.529941  0.248882 -0.333470 -0.451728  0.237261   \n",
       "4  0.102151  0.244225  0.529941 -0.034093  0.237816  0.029248  0.167563   \n",
       "\n",
       "         7         8         9         10        11        12  \n",
       "0  0.113685 -0.022186 -0.372260 -0.513943  0.118173  0.121766  \n",
       "1 -0.267356  0.044458 -0.116728  0.042977 -0.050247  0.011916  \n",
       "2  0.165228  0.311034  0.385976  0.234122 -0.128556 -0.120775  \n",
       "3  0.293261 -0.066615 -0.384521 -0.226680  0.297488  0.011273  \n",
       "4 -0.167094 -0.199903  0.406597  0.423661  0.028061 -0.005410  "
      ]
     },
     "execution_count": 18,
     "metadata": {},
     "output_type": "execute_result"
    }
   ],
   "source": [
    "from sklearn.preprocessing import StandardScaler\n",
    "scaler=StandardScaler().fit(X_train)\n",
    "scaled_data=scaler.transform(X_train)\n",
    "\n",
    "#Reducing the number of samples to 0.05% of original size\n",
    "samples = int(1558080 * 0.0005)\n",
    "scaled_data = scaled_data[:samples, :]\n",
    "scaled_data = pd.DataFrame(scaled_data)\n",
    "scaled_data.head()"
   ]
  },
  {
   "cell_type": "code",
   "execution_count": 19,
   "id": "f1b9b2ed",
   "metadata": {},
   "outputs": [
    {
     "data": {
      "text/plain": [
       "(779,)"
      ]
     },
     "execution_count": 19,
     "metadata": {},
     "output_type": "execute_result"
    }
   ],
   "source": [
    "state = np.array(state)\n",
    "state = state[:samples]\n",
    "state.shape"
   ]
  },
  {
   "cell_type": "markdown",
   "id": "328b7e85",
   "metadata": {},
   "source": [
    "PCA(Principal Component Analysis)"
   ]
  },
  {
   "cell_type": "code",
   "execution_count": 20,
   "id": "87852b96",
   "metadata": {},
   "outputs": [
    {
     "data": {
      "text/plain": [
       "PCA(n_components=13)"
      ]
     },
     "execution_count": 20,
     "metadata": {},
     "output_type": "execute_result"
    }
   ],
   "source": [
    "from sklearn.decomposition import PCA\n",
    "pca_full = PCA(n_components=13)\n",
    "pca_full.fit(scaled_data)"
   ]
  },
  {
   "cell_type": "code",
   "execution_count": 21,
   "id": "b27e75ce",
   "metadata": {},
   "outputs": [],
   "source": [
    "X_pca_full = pca_full.transform(scaled_data)"
   ]
  },
  {
   "cell_type": "code",
   "execution_count": 22,
   "id": "45faf9ab",
   "metadata": {},
   "outputs": [
    {
     "data": {
      "text/html": [
       "<div>\n",
       "<style scoped>\n",
       "    .dataframe tbody tr th:only-of-type {\n",
       "        vertical-align: middle;\n",
       "    }\n",
       "\n",
       "    .dataframe tbody tr th {\n",
       "        vertical-align: top;\n",
       "    }\n",
       "\n",
       "    .dataframe thead th {\n",
       "        text-align: right;\n",
       "    }\n",
       "</style>\n",
       "<table border=\"1\" class=\"dataframe\">\n",
       "  <thead>\n",
       "    <tr style=\"text-align: right;\">\n",
       "      <th></th>\n",
       "      <th>0</th>\n",
       "      <th>1</th>\n",
       "      <th>2</th>\n",
       "      <th>3</th>\n",
       "      <th>4</th>\n",
       "      <th>5</th>\n",
       "      <th>6</th>\n",
       "      <th>7</th>\n",
       "      <th>8</th>\n",
       "      <th>9</th>\n",
       "      <th>10</th>\n",
       "      <th>11</th>\n",
       "      <th>12</th>\n",
       "    </tr>\n",
       "  </thead>\n",
       "  <tbody>\n",
       "    <tr>\n",
       "      <th>0</th>\n",
       "      <td>-0.775276</td>\n",
       "      <td>0.127477</td>\n",
       "      <td>-0.075191</td>\n",
       "      <td>-0.191571</td>\n",
       "      <td>-0.301513</td>\n",
       "      <td>-0.092867</td>\n",
       "      <td>-0.468246</td>\n",
       "      <td>0.178001</td>\n",
       "      <td>-0.015065</td>\n",
       "      <td>-0.147504</td>\n",
       "      <td>0.038339</td>\n",
       "      <td>0.060153</td>\n",
       "      <td>-0.033804</td>\n",
       "    </tr>\n",
       "    <tr>\n",
       "      <th>1</th>\n",
       "      <td>0.088644</td>\n",
       "      <td>-0.212114</td>\n",
       "      <td>-0.014546</td>\n",
       "      <td>-0.298715</td>\n",
       "      <td>0.250172</td>\n",
       "      <td>-0.116117</td>\n",
       "      <td>-0.466029</td>\n",
       "      <td>0.069801</td>\n",
       "      <td>-0.055533</td>\n",
       "      <td>-0.049101</td>\n",
       "      <td>0.024767</td>\n",
       "      <td>0.024866</td>\n",
       "      <td>-0.012479</td>\n",
       "    </tr>\n",
       "    <tr>\n",
       "      <th>2</th>\n",
       "      <td>0.355011</td>\n",
       "      <td>-0.804497</td>\n",
       "      <td>-0.034466</td>\n",
       "      <td>0.314846</td>\n",
       "      <td>0.037032</td>\n",
       "      <td>-0.070433</td>\n",
       "      <td>-0.497210</td>\n",
       "      <td>-0.167560</td>\n",
       "      <td>-0.230405</td>\n",
       "      <td>0.368416</td>\n",
       "      <td>-0.079369</td>\n",
       "      <td>-0.097133</td>\n",
       "      <td>0.058090</td>\n",
       "    </tr>\n",
       "    <tr>\n",
       "      <th>3</th>\n",
       "      <td>-0.357416</td>\n",
       "      <td>0.462603</td>\n",
       "      <td>0.047207</td>\n",
       "      <td>0.171992</td>\n",
       "      <td>-0.489148</td>\n",
       "      <td>-0.026987</td>\n",
       "      <td>-0.442252</td>\n",
       "      <td>0.431560</td>\n",
       "      <td>-0.010971</td>\n",
       "      <td>-0.289453</td>\n",
       "      <td>0.021027</td>\n",
       "      <td>0.119350</td>\n",
       "      <td>-0.072052</td>\n",
       "    </tr>\n",
       "    <tr>\n",
       "      <th>4</th>\n",
       "      <td>0.465691</td>\n",
       "      <td>-0.039402</td>\n",
       "      <td>-0.028910</td>\n",
       "      <td>0.273764</td>\n",
       "      <td>0.386460</td>\n",
       "      <td>0.084681</td>\n",
       "      <td>-0.430922</td>\n",
       "      <td>0.305641</td>\n",
       "      <td>0.229437</td>\n",
       "      <td>0.091723</td>\n",
       "      <td>-0.027379</td>\n",
       "      <td>-0.081633</td>\n",
       "      <td>0.075245</td>\n",
       "    </tr>\n",
       "  </tbody>\n",
       "</table>\n",
       "</div>"
      ],
      "text/plain": [
       "         0         1         2         3         4         5         6   \\\n",
       "0 -0.775276  0.127477 -0.075191 -0.191571 -0.301513 -0.092867 -0.468246   \n",
       "1  0.088644 -0.212114 -0.014546 -0.298715  0.250172 -0.116117 -0.466029   \n",
       "2  0.355011 -0.804497 -0.034466  0.314846  0.037032 -0.070433 -0.497210   \n",
       "3 -0.357416  0.462603  0.047207  0.171992 -0.489148 -0.026987 -0.442252   \n",
       "4  0.465691 -0.039402 -0.028910  0.273764  0.386460  0.084681 -0.430922   \n",
       "\n",
       "         7         8         9         10        11        12  \n",
       "0  0.178001 -0.015065 -0.147504  0.038339  0.060153 -0.033804  \n",
       "1  0.069801 -0.055533 -0.049101  0.024767  0.024866 -0.012479  \n",
       "2 -0.167560 -0.230405  0.368416 -0.079369 -0.097133  0.058090  \n",
       "3  0.431560 -0.010971 -0.289453  0.021027  0.119350 -0.072052  \n",
       "4  0.305641  0.229437  0.091723 -0.027379 -0.081633  0.075245  "
      ]
     },
     "execution_count": 22,
     "metadata": {},
     "output_type": "execute_result"
    }
   ],
   "source": [
    "X_pca_full = pd.DataFrame(data=X_pca_full)\n",
    "X_pca_full.head()"
   ]
  },
  {
   "cell_type": "markdown",
   "id": "53b460c6",
   "metadata": {},
   "source": [
    "SCREE PLOT : explains the %-of-variance each feature brings out. Number of features can be selected based on the top features causing 80%-90% variance in the dataset."
   ]
  },
  {
   "cell_type": "code",
   "execution_count": 24,
   "id": "d7d6c9c4",
   "metadata": {},
   "outputs": [
    {
     "data": {
      "image/png": "[encoded data removed]",
      "text/plain": [
       "<Figure size 432x288 with 1 Axes>"
      ]
     },
     "metadata": {},
     "output_type": "display_data"
    },
    {
     "data": {
      "text/plain": [
       "<Figure size 1440x1080 with 0 Axes>"
      ]
     },
     "metadata": {},
     "output_type": "display_data"
    }
   ],
   "source": [
    "features = range(pca_full.n_components_)\n",
    "plt.bar(features, pca_full.explained_variance_ratio_, color=\"yellow\")\n",
    "plt.xlabel('PCA features')\n",
    "plt.ylabel('variance %')\n",
    "plt.xticks(features)\n",
    "plt.figure(figsize=(20, 15))\n",
    "plt.show()"
   ]
  },
  {
   "cell_type": "code",
   "execution_count": 25,
   "id": "71c56c3d",
   "metadata": {},
   "outputs": [
    {
     "data": {
      "text/plain": [
       "[33.56352005374415,\n",
       " 18.753884046536047,\n",
       " 14.451058451841536,\n",
       " 10.950802918508245,\n",
       " 6.519325056102164,\n",
       " 5.249358070977499,\n",
       " 3.1859841141108376,\n",
       " 2.7638183642405107,\n",
       " 1.9637961599425848,\n",
       " 1.573383906929805,\n",
       " 0.5030636805954048,\n",
       " 0.4084099541943862,\n",
       " 0.11359522227680345]"
      ]
     },
     "execution_count": 25,
     "metadata": {},
     "output_type": "execute_result"
    }
   ],
   "source": [
    "var_ratio = pca_full.explained_variance_ratio_\n",
    "var_ratio = (i*100 for i in var_ratio)\n",
    "list(var_ratio)"
   ]
  },
  {
   "cell_type": "markdown",
   "id": "3accf94a",
   "metadata": {},
   "source": [
    "Selecting top-5 features explains approximately 84% of the total variance.\n",
    "\n",
    "For visualization purposes, selecting only 2 of the best features. Together they explain roughly 52% of the variance."
   ]
  },
  {
   "cell_type": "code",
   "execution_count": 26,
   "id": "51cdfe4c",
   "metadata": {},
   "outputs": [
    {
     "data": {
      "text/plain": [
       "PCA(n_components=2)"
      ]
     },
     "execution_count": 26,
     "metadata": {},
     "output_type": "execute_result"
    }
   ],
   "source": [
    "pca_2 = PCA(n_components = 2)\n",
    "pca_2.fit(scaled_data)"
   ]
  },
  {
   "cell_type": "code",
   "execution_count": 27,
   "id": "2e321be6",
   "metadata": {},
   "outputs": [],
   "source": [
    "X_pca2 = pca_2.transform(scaled_data)"
   ]
  },
  {
   "cell_type": "code",
   "execution_count": 28,
   "id": "c3700ef3",
   "metadata": {},
   "outputs": [
    {
     "data": {
      "image/png": "[encoded data removed]",
      "text/plain": [
       "<Figure size 1080x1080 with 1 Axes>"
      ]
     },
     "metadata": {},
     "output_type": "display_data"
    }
   ],
   "source": [
    "plt.figure(figsize=(15, 15))\n",
    "plt.scatter(X_pca2[:,0], X_pca2[:,1], c=state, s=100)\n",
    "plt.grid(True)\n",
    "plt.xlabel(\"PC-1\", fontsize=30)\n",
    "plt.ylabel(\"PC-2\", fontsize=30)\n",
    "plt.title(\"Separation of data using PC1 & PC2\", fontsize=30)\n",
    "plt.show()"
   ]
  },
  {
   "cell_type": "markdown",
   "id": "cb63ea81",
   "metadata": {},
   "source": [
    "Gaussian Mixture Models (GMM)"
   ]
  },
  {
   "cell_type": "code",
   "execution_count": 29,
   "id": "64dd5c0f",
   "metadata": {},
   "outputs": [
    {
     "data": {
      "text/plain": [
       "<matplotlib.collections.PathCollection at 0x123c112dbe0>"
      ]
     },
     "execution_count": 29,
     "metadata": {},
     "output_type": "execute_result"
    },
    {
     "data": {
      "image/png": "[encoded data removed]",
      "text/plain": [
       "<Figure size 432x288 with 1 Axes>"
      ]
     },
     "metadata": {},
     "output_type": "display_data"
    }
   ],
   "source": [
    "from sklearn.mixture import GaussianMixture\n",
    "gmm2 = GaussianMixture(n_components=2, covariance_type=\"full\").fit(X_pca2)\n",
    "labels2 = gmm2.predict(X_pca2)\n",
    "plt.scatter(X_pca2[:, 0], X_pca2[:, 1], c=labels2, s=10, cmap='rainbow')"
   ]
  },
  {
   "cell_type": "markdown",
   "id": "25908e0e",
   "metadata": {},
   "source": [
    "Comparing other \"covariance_type\"\n",
    "\n"
   ]
  },
  {
   "cell_type": "code",
   "execution_count": 30,
   "id": "f5968410",
   "metadata": {},
   "outputs": [
    {
     "data": {
      "text/plain": [
       "<matplotlib.collections.PathCollection at 0x123c11a0430>"
      ]
     },
     "execution_count": 30,
     "metadata": {},
     "output_type": "execute_result"
    },
    {
     "data": {
      "image/png": "[encoded data removed]",
      "text/plain": [
       "<Figure size 432x288 with 1 Axes>"
      ]
     },
     "metadata": {},
     "output_type": "display_data"
    }
   ],
   "source": [
    "gmm3 = GaussianMixture(n_components=2, covariance_type=\"diag\").fit(X_pca2)\n",
    "labels3 = gmm3.predict(X_pca2)\n",
    "plt.scatter(X_pca2[:, 0], X_pca2[:, 1], c=labels3, s=10, cmap='rainbow')"
   ]
  },
  {
   "cell_type": "code",
   "execution_count": 31,
   "id": "ef59ea50",
   "metadata": {},
   "outputs": [
    {
     "data": {
      "text/plain": [
       "<matplotlib.collections.PathCollection at 0x123c11ffbb0>"
      ]
     },
     "execution_count": 31,
     "metadata": {},
     "output_type": "execute_result"
    },
    {
     "data": {
      "image/png": "[encoded data removed]",
      "text/plain": [
       "<Figure size 432x288 with 1 Axes>"
      ]
     },
     "metadata": {},
     "output_type": "display_data"
    }
   ],
   "source": [
    "gmm4 = GaussianMixture(n_components=2, covariance_type=\"spherical\").fit(X_pca2)\n",
    "labels4 = gmm4.predict(X_pca2)\n",
    "plt.scatter(X_pca2[:, 0], X_pca2[:, 1], c=labels4, s=10, cmap='rainbow')"
   ]
  },
  {
   "cell_type": "code",
   "execution_count": 32,
   "id": "a71a10b9",
   "metadata": {},
   "outputs": [
    {
     "data": {
      "text/plain": [
       "<matplotlib.collections.PathCollection at 0x123c1270370>"
      ]
     },
     "execution_count": 32,
     "metadata": {},
     "output_type": "execute_result"
    },
    {
     "data": {
      "image/png": "[encoded data removed]",
      "text/plain": [
       "<Figure size 432x288 with 1 Axes>"
      ]
     },
     "metadata": {},
     "output_type": "display_data"
    }
   ],
   "source": [
    "gmm5 = GaussianMixture(n_components=2, covariance_type=\"tied\").fit(X_pca2)\n",
    "label5 = gmm5.predict(X_pca2)\n",
    "plt.scatter(X_pca2[:, 0], X_pca2[:, 1], c=label5, s=10, cmap='rainbow')"
   ]
  },
  {
   "cell_type": "code",
   "execution_count": null,
   "id": "08aaa522",
   "metadata": {},
   "outputs": [],
   "source": []
  }
 ],
 "metadata": {
  "kernelspec": {
   "display_name": "Python 3 (ipykernel)",
   "language": "python",
   "name": "python3"
  },
  "language_info": {
   "codemirror_mode": {
    "name": "ipython",
    "version": 3
   },
   "file_extension": ".py",
   "mimetype": "text/x-python",
   "name": "python",
   "nbconvert_exporter": "python",
   "pygments_lexer": "ipython3",
   "version": "3.9.12"
  }
 },
 "nbformat": 4,
 "nbformat_minor": 5
}
