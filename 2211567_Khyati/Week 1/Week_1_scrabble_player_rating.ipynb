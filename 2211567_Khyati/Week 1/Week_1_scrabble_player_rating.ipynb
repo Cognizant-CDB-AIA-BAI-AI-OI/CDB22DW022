{
  "cells": [
    {
      "cell_type": "code",
      "execution_count": null,
      "id": "bc68be30",
      "metadata": {
        "_cell_guid": "b1076dfc-b9ad-4769-8c92-a6c4dae69d19",
        "_uuid": "8f2839f25d086af736a60e9eeb907d3b93b6e0e5",
        "execution": {
          "iopub.execute_input": "2023-02-06T04:56:04.559407Z",
          "iopub.status.busy": "2023-02-06T04:56:04.558879Z",
          "iopub.status.idle": "2023-02-06T04:56:04.574832Z",
          "shell.execute_reply": "2023-02-06T04:56:04.572987Z"
        },
        "papermill": {
          "duration": 0.032904,
          "end_time": "2023-02-06T04:56:04.578312",
          "exception": false,
          "start_time": "2023-02-06T04:56:04.545408",
          "status": "completed"
        },
        "tags": [],
        "id": "bc68be30",
        "outputId": "15291018-8e2a-47af-fe17-feefb732906c"
      },
      "outputs": [
        {
          "name": "stdout",
          "output_type": "stream",
          "text": [
            "/kaggle/input/scrabble-player-rating/sample_submission.csv\n",
            "/kaggle/input/scrabble-player-rating/games.csv\n",
            "/kaggle/input/scrabble-player-rating/turns.csv\n",
            "/kaggle/input/scrabble-player-rating/train.csv\n",
            "/kaggle/input/scrabble-player-rating/test.csv\n"
          ]
        }
      ],
      "source": [
        "# This Python 3 environment comes with many helpful analytics libraries installed\n",
        "# It is defined by the kaggle/python Docker image: https://github.com/kaggle/docker-python\n",
        "# For example, here's several helpful packages to load\n",
        "\n",
        "import numpy as np # linear algebra\n",
        "import pandas as pd # data processing, CSV file I/O (e.g. pd.read_csv)\n",
        "\n",
        "# Input data files are available in the read-only \"../input/\" directory\n",
        "# For example, running this (by clicking run or pressing Shift+Enter) will list all files under the input directory\n",
        "\n",
        "import os\n",
        "for dirname, _, filenames in os.walk('/kaggle/input'):\n",
        "    for filename in filenames:\n",
        "        print(os.path.join(dirname, filename))\n",
        "\n",
        "# You can write up to 20GB to the current directory (/kaggle/working/) that gets preserved as output when you create a version using \"Save & Run All\" \n",
        "# You can also write temporary files to /kaggle/temp/, but they won't be saved outside of the current session"
      ]
    },
    {
      "cell_type": "code",
      "execution_count": null,
      "id": "a728ba84",
      "metadata": {
        "execution": {
          "iopub.execute_input": "2023-02-06T04:56:04.601522Z",
          "iopub.status.busy": "2023-02-06T04:56:04.600869Z",
          "iopub.status.idle": "2023-02-06T04:56:10.394501Z",
          "shell.execute_reply": "2023-02-06T04:56:10.392794Z"
        },
        "papermill": {
          "duration": 5.809085,
          "end_time": "2023-02-06T04:56:10.398011",
          "exception": false,
          "start_time": "2023-02-06T04:56:04.588926",
          "status": "completed"
        },
        "tags": [],
        "id": "a728ba84"
      },
      "outputs": [],
      "source": [
        "games = pd.read_csv(\"/kaggle/input/scrabble-player-rating/games.csv\")\n",
        "turns = pd.read_csv(\"/kaggle/input/scrabble-player-rating/turns.csv\")\n",
        "train = pd.read_csv(\"/kaggle/input/scrabble-player-rating/train.csv\")\n",
        "test = pd.read_csv(\"/kaggle/input/scrabble-player-rating/test.csv\")"
      ]
    },
    {
      "cell_type": "code",
      "execution_count": null,
      "id": "82c1f9b4",
      "metadata": {
        "execution": {
          "iopub.execute_input": "2023-02-06T04:56:10.423235Z",
          "iopub.status.busy": "2023-02-06T04:56:10.422649Z",
          "iopub.status.idle": "2023-02-06T04:56:10.457745Z",
          "shell.execute_reply": "2023-02-06T04:56:10.456697Z"
        },
        "papermill": {
          "duration": 0.050862,
          "end_time": "2023-02-06T04:56:10.460358",
          "exception": false,
          "start_time": "2023-02-06T04:56:10.409496",
          "status": "completed"
        },
        "tags": [],
        "id": "82c1f9b4",
        "outputId": "a3267c80-656a-4035-b2c2-1cf172acd128"
      },
      "outputs": [
        {
          "data": {
            "text/html": [
              "<div>\n",
              "<style scoped>\n",
              "    .dataframe tbody tr th:only-of-type {\n",
              "        vertical-align: middle;\n",
              "    }\n",
              "\n",
              "    .dataframe tbody tr th {\n",
              "        vertical-align: top;\n",
              "    }\n",
              "\n",
              "    .dataframe thead th {\n",
              "        text-align: right;\n",
              "    }\n",
              "</style>\n",
              "<table border=\"1\" class=\"dataframe\">\n",
              "  <thead>\n",
              "    <tr style=\"text-align: right;\">\n",
              "      <th></th>\n",
              "      <th>game_id</th>\n",
              "      <th>first</th>\n",
              "      <th>time_control_name</th>\n",
              "      <th>game_end_reason</th>\n",
              "      <th>winner</th>\n",
              "      <th>created_at</th>\n",
              "      <th>lexicon</th>\n",
              "      <th>initial_time_seconds</th>\n",
              "      <th>increment_seconds</th>\n",
              "      <th>rating_mode</th>\n",
              "      <th>max_overtime_minutes</th>\n",
              "      <th>game_duration_seconds</th>\n",
              "    </tr>\n",
              "  </thead>\n",
              "  <tbody>\n",
              "    <tr>\n",
              "      <th>0</th>\n",
              "      <td>1</td>\n",
              "      <td>BetterBot</td>\n",
              "      <td>regular</td>\n",
              "      <td>STANDARD</td>\n",
              "      <td>1</td>\n",
              "      <td>2022-08-26 03:38:49</td>\n",
              "      <td>NWL20</td>\n",
              "      <td>1200</td>\n",
              "      <td>0</td>\n",
              "      <td>CASUAL</td>\n",
              "      <td>1</td>\n",
              "      <td>674.844274</td>\n",
              "    </tr>\n",
              "    <tr>\n",
              "      <th>1</th>\n",
              "      <td>2</td>\n",
              "      <td>Super</td>\n",
              "      <td>regular</td>\n",
              "      <td>STANDARD</td>\n",
              "      <td>1</td>\n",
              "      <td>2022-08-10 19:19:59</td>\n",
              "      <td>CSW21</td>\n",
              "      <td>3600</td>\n",
              "      <td>0</td>\n",
              "      <td>RATED</td>\n",
              "      <td>1</td>\n",
              "      <td>364.214418</td>\n",
              "    </tr>\n",
              "    <tr>\n",
              "      <th>2</th>\n",
              "      <td>3</td>\n",
              "      <td>BetterBot</td>\n",
              "      <td>regular</td>\n",
              "      <td>STANDARD</td>\n",
              "      <td>1</td>\n",
              "      <td>2022-09-04 08:04:27</td>\n",
              "      <td>CSW21</td>\n",
              "      <td>900</td>\n",
              "      <td>0</td>\n",
              "      <td>RATED</td>\n",
              "      <td>5</td>\n",
              "      <td>492.268262</td>\n",
              "    </tr>\n",
              "    <tr>\n",
              "      <th>3</th>\n",
              "      <td>4</td>\n",
              "      <td>BetterBot</td>\n",
              "      <td>regular</td>\n",
              "      <td>RESIGNED</td>\n",
              "      <td>0</td>\n",
              "      <td>2022-09-12 02:36:19</td>\n",
              "      <td>CSW21</td>\n",
              "      <td>3600</td>\n",
              "      <td>0</td>\n",
              "      <td>CASUAL</td>\n",
              "      <td>1</td>\n",
              "      <td>350.861141</td>\n",
              "    </tr>\n",
              "    <tr>\n",
              "      <th>4</th>\n",
              "      <td>5</td>\n",
              "      <td>STEEBot</td>\n",
              "      <td>regular</td>\n",
              "      <td>STANDARD</td>\n",
              "      <td>0</td>\n",
              "      <td>2022-09-06 04:31:36</td>\n",
              "      <td>NWL20</td>\n",
              "      <td>1200</td>\n",
              "      <td>0</td>\n",
              "      <td>CASUAL</td>\n",
              "      <td>1</td>\n",
              "      <td>642.688722</td>\n",
              "    </tr>\n",
              "  </tbody>\n",
              "</table>\n",
              "</div>"
            ],
            "text/plain": [
              "   game_id      first time_control_name game_end_reason  winner  \\\n",
              "0        1  BetterBot           regular        STANDARD       1   \n",
              "1        2      Super           regular        STANDARD       1   \n",
              "2        3  BetterBot           regular        STANDARD       1   \n",
              "3        4  BetterBot           regular        RESIGNED       0   \n",
              "4        5    STEEBot           regular        STANDARD       0   \n",
              "\n",
              "            created_at lexicon  initial_time_seconds  increment_seconds  \\\n",
              "0  2022-08-26 03:38:49   NWL20                  1200                  0   \n",
              "1  2022-08-10 19:19:59   CSW21                  3600                  0   \n",
              "2  2022-09-04 08:04:27   CSW21                   900                  0   \n",
              "3  2022-09-12 02:36:19   CSW21                  3600                  0   \n",
              "4  2022-09-06 04:31:36   NWL20                  1200                  0   \n",
              "\n",
              "  rating_mode  max_overtime_minutes  game_duration_seconds  \n",
              "0      CASUAL                     1             674.844274  \n",
              "1       RATED                     1             364.214418  \n",
              "2       RATED                     5             492.268262  \n",
              "3      CASUAL                     1             350.861141  \n",
              "4      CASUAL                     1             642.688722  "
            ]
          },
          "execution_count": 3,
          "metadata": {},
          "output_type": "execute_result"
        }
      ],
      "source": [
        "games.head()"
      ]
    },
    {
      "cell_type": "code",
      "execution_count": null,
      "id": "bf892566",
      "metadata": {
        "execution": {
          "iopub.execute_input": "2023-02-06T04:56:10.482238Z",
          "iopub.status.busy": "2023-02-06T04:56:10.481695Z",
          "iopub.status.idle": "2023-02-06T04:56:10.506959Z",
          "shell.execute_reply": "2023-02-06T04:56:10.505486Z"
        },
        "papermill": {
          "duration": 0.039002,
          "end_time": "2023-02-06T04:56:10.509589",
          "exception": false,
          "start_time": "2023-02-06T04:56:10.470587",
          "status": "completed"
        },
        "tags": [],
        "id": "bf892566",
        "outputId": "4ca9715e-d139-4164-a75e-7535f49336f1"
      },
      "outputs": [
        {
          "data": {
            "text/html": [
              "<div>\n",
              "<style scoped>\n",
              "    .dataframe tbody tr th:only-of-type {\n",
              "        vertical-align: middle;\n",
              "    }\n",
              "\n",
              "    .dataframe tbody tr th {\n",
              "        vertical-align: top;\n",
              "    }\n",
              "\n",
              "    .dataframe thead th {\n",
              "        text-align: right;\n",
              "    }\n",
              "</style>\n",
              "<table border=\"1\" class=\"dataframe\">\n",
              "  <thead>\n",
              "    <tr style=\"text-align: right;\">\n",
              "      <th></th>\n",
              "      <th>game_id</th>\n",
              "      <th>first</th>\n",
              "      <th>time_control_name</th>\n",
              "      <th>game_end_reason</th>\n",
              "      <th>winner</th>\n",
              "      <th>created_at</th>\n",
              "      <th>lexicon</th>\n",
              "      <th>initial_time_seconds</th>\n",
              "      <th>increment_seconds</th>\n",
              "      <th>rating_mode</th>\n",
              "      <th>max_overtime_minutes</th>\n",
              "      <th>game_duration_seconds</th>\n",
              "    </tr>\n",
              "  </thead>\n",
              "  <tbody>\n",
              "    <tr>\n",
              "      <th>0</th>\n",
              "      <td>1</td>\n",
              "      <td>BetterBot</td>\n",
              "      <td>regular</td>\n",
              "      <td>STANDARD</td>\n",
              "      <td>1</td>\n",
              "      <td>2022-08-26 03:38:49</td>\n",
              "      <td>NWL20</td>\n",
              "      <td>1200</td>\n",
              "      <td>0</td>\n",
              "      <td>CASUAL</td>\n",
              "      <td>1</td>\n",
              "      <td>674.844274</td>\n",
              "    </tr>\n",
              "  </tbody>\n",
              "</table>\n",
              "</div>"
            ],
            "text/plain": [
              "   game_id      first time_control_name game_end_reason  winner  \\\n",
              "0        1  BetterBot           regular        STANDARD       1   \n",
              "\n",
              "            created_at lexicon  initial_time_seconds  increment_seconds  \\\n",
              "0  2022-08-26 03:38:49   NWL20                  1200                  0   \n",
              "\n",
              "  rating_mode  max_overtime_minutes  game_duration_seconds  \n",
              "0      CASUAL                     1             674.844274  "
            ]
          },
          "execution_count": 4,
          "metadata": {},
          "output_type": "execute_result"
        }
      ],
      "source": [
        "games[games.game_id == 1]"
      ]
    },
    {
      "cell_type": "code",
      "execution_count": null,
      "id": "0f2f8866",
      "metadata": {
        "execution": {
          "iopub.execute_input": "2023-02-06T04:56:10.533378Z",
          "iopub.status.busy": "2023-02-06T04:56:10.532989Z",
          "iopub.status.idle": "2023-02-06T04:56:10.551540Z",
          "shell.execute_reply": "2023-02-06T04:56:10.550235Z"
        },
        "papermill": {
          "duration": 0.033137,
          "end_time": "2023-02-06T04:56:10.554202",
          "exception": false,
          "start_time": "2023-02-06T04:56:10.521065",
          "status": "completed"
        },
        "tags": [],
        "id": "0f2f8866",
        "outputId": "6ed2469f-3c41-4435-895f-5fdfc54c6c2e"
      },
      "outputs": [
        {
          "data": {
            "text/plain": [
              "(27, 9)"
            ]
          },
          "execution_count": 5,
          "metadata": {},
          "output_type": "execute_result"
        }
      ],
      "source": [
        "game_1 = turns[turns.game_id == 1]\n",
        "game_1.shape"
      ]
    },
    {
      "cell_type": "code",
      "execution_count": null,
      "id": "5b6ee24d",
      "metadata": {
        "execution": {
          "iopub.execute_input": "2023-02-06T04:56:10.576689Z",
          "iopub.status.busy": "2023-02-06T04:56:10.576289Z",
          "iopub.status.idle": "2023-02-06T04:56:10.595668Z",
          "shell.execute_reply": "2023-02-06T04:56:10.594304Z"
        },
        "papermill": {
          "duration": 0.033671,
          "end_time": "2023-02-06T04:56:10.598196",
          "exception": false,
          "start_time": "2023-02-06T04:56:10.564525",
          "status": "completed"
        },
        "tags": [],
        "id": "5b6ee24d",
        "outputId": "fe248ee4-da7f-4996-ff79-21ddaa5141f3"
      },
      "outputs": [
        {
          "data": {
            "text/html": [
              "<div>\n",
              "<style scoped>\n",
              "    .dataframe tbody tr th:only-of-type {\n",
              "        vertical-align: middle;\n",
              "    }\n",
              "\n",
              "    .dataframe tbody tr th {\n",
              "        vertical-align: top;\n",
              "    }\n",
              "\n",
              "    .dataframe thead th {\n",
              "        text-align: right;\n",
              "    }\n",
              "</style>\n",
              "<table border=\"1\" class=\"dataframe\">\n",
              "  <thead>\n",
              "    <tr style=\"text-align: right;\">\n",
              "      <th></th>\n",
              "      <th>game_id</th>\n",
              "      <th>turn_number</th>\n",
              "      <th>nickname</th>\n",
              "      <th>rack</th>\n",
              "      <th>location</th>\n",
              "      <th>move</th>\n",
              "      <th>points</th>\n",
              "      <th>score</th>\n",
              "      <th>turn_type</th>\n",
              "    </tr>\n",
              "  </thead>\n",
              "  <tbody>\n",
              "    <tr>\n",
              "      <th>0</th>\n",
              "      <td>1</td>\n",
              "      <td>1</td>\n",
              "      <td>BetterBot</td>\n",
              "      <td>DDEGITT</td>\n",
              "      <td>8G</td>\n",
              "      <td>DIG</td>\n",
              "      <td>10</td>\n",
              "      <td>10</td>\n",
              "      <td>Play</td>\n",
              "    </tr>\n",
              "    <tr>\n",
              "      <th>1</th>\n",
              "      <td>1</td>\n",
              "      <td>2</td>\n",
              "      <td>stevy</td>\n",
              "      <td>AEHOPUX</td>\n",
              "      <td>7H</td>\n",
              "      <td>HAP</td>\n",
              "      <td>18</td>\n",
              "      <td>18</td>\n",
              "      <td>Play</td>\n",
              "    </tr>\n",
              "    <tr>\n",
              "      <th>2</th>\n",
              "      <td>1</td>\n",
              "      <td>3</td>\n",
              "      <td>BetterBot</td>\n",
              "      <td>DEELTTU</td>\n",
              "      <td>6I</td>\n",
              "      <td>LUTE</td>\n",
              "      <td>16</td>\n",
              "      <td>26</td>\n",
              "      <td>Play</td>\n",
              "    </tr>\n",
              "    <tr>\n",
              "      <th>3</th>\n",
              "      <td>1</td>\n",
              "      <td>4</td>\n",
              "      <td>stevy</td>\n",
              "      <td>EMORSUX</td>\n",
              "      <td>5K</td>\n",
              "      <td>UM</td>\n",
              "      <td>16</td>\n",
              "      <td>34</td>\n",
              "      <td>Play</td>\n",
              "    </tr>\n",
              "    <tr>\n",
              "      <th>4</th>\n",
              "      <td>1</td>\n",
              "      <td>5</td>\n",
              "      <td>BetterBot</td>\n",
              "      <td>ACDEITU</td>\n",
              "      <td>L5</td>\n",
              "      <td>..DICATE</td>\n",
              "      <td>28</td>\n",
              "      <td>54</td>\n",
              "      <td>Play</td>\n",
              "    </tr>\n",
              "    <tr>\n",
              "      <th>5</th>\n",
              "      <td>1</td>\n",
              "      <td>6</td>\n",
              "      <td>stevy</td>\n",
              "      <td>EEOORSX</td>\n",
              "      <td>M11</td>\n",
              "      <td>OXO</td>\n",
              "      <td>31</td>\n",
              "      <td>65</td>\n",
              "      <td>Play</td>\n",
              "    </tr>\n",
              "    <tr>\n",
              "      <th>6</th>\n",
              "      <td>1</td>\n",
              "      <td>7</td>\n",
              "      <td>BetterBot</td>\n",
              "      <td>AAEJRSU</td>\n",
              "      <td>5E</td>\n",
              "      <td>RAJAS</td>\n",
              "      <td>29</td>\n",
              "      <td>83</td>\n",
              "      <td>Play</td>\n",
              "    </tr>\n",
              "    <tr>\n",
              "      <th>7</th>\n",
              "      <td>1</td>\n",
              "      <td>8</td>\n",
              "      <td>stevy</td>\n",
              "      <td>AEEFIRS</td>\n",
              "      <td>9B</td>\n",
              "      <td>FAERIES</td>\n",
              "      <td>72</td>\n",
              "      <td>137</td>\n",
              "      <td>Play</td>\n",
              "    </tr>\n",
              "    <tr>\n",
              "      <th>8</th>\n",
              "      <td>1</td>\n",
              "      <td>9</td>\n",
              "      <td>BetterBot</td>\n",
              "      <td>ELNNORU</td>\n",
              "      <td>C3</td>\n",
              "      <td>NEURON.L</td>\n",
              "      <td>68</td>\n",
              "      <td>151</td>\n",
              "      <td>Play</td>\n",
              "    </tr>\n",
              "    <tr>\n",
              "      <th>9</th>\n",
              "      <td>1</td>\n",
              "      <td>10</td>\n",
              "      <td>stevy</td>\n",
              "      <td>EEEHIKO</td>\n",
              "      <td>6F</td>\n",
              "      <td>HO</td>\n",
              "      <td>35</td>\n",
              "      <td>172</td>\n",
              "      <td>Play</td>\n",
              "    </tr>\n",
              "    <tr>\n",
              "      <th>10</th>\n",
              "      <td>1</td>\n",
              "      <td>11</td>\n",
              "      <td>BetterBot</td>\n",
              "      <td>EEGIQTW</td>\n",
              "      <td>B2</td>\n",
              "      <td>QI</td>\n",
              "      <td>24</td>\n",
              "      <td>175</td>\n",
              "      <td>Play</td>\n",
              "    </tr>\n",
              "    <tr>\n",
              "      <th>11</th>\n",
              "      <td>1</td>\n",
              "      <td>12</td>\n",
              "      <td>stevy</td>\n",
              "      <td>?EEEIKV</td>\n",
              "      <td>8A</td>\n",
              "      <td>KE.</td>\n",
              "      <td>26</td>\n",
              "      <td>198</td>\n",
              "      <td>Play</td>\n",
              "    </tr>\n",
              "    <tr>\n",
              "      <th>12</th>\n",
              "      <td>1</td>\n",
              "      <td>13</td>\n",
              "      <td>BetterBot</td>\n",
              "      <td>BEEGITW</td>\n",
              "      <td>N13</td>\n",
              "      <td>WEB</td>\n",
              "      <td>21</td>\n",
              "      <td>196</td>\n",
              "      <td>Play</td>\n",
              "    </tr>\n",
              "    <tr>\n",
              "      <th>13</th>\n",
              "      <td>1</td>\n",
              "      <td>14</td>\n",
              "      <td>stevy</td>\n",
              "      <td>??DEEIV</td>\n",
              "      <td>O8</td>\n",
              "      <td>rElIVED</td>\n",
              "      <td>98</td>\n",
              "      <td>296</td>\n",
              "      <td>Play</td>\n",
              "    </tr>\n",
              "    <tr>\n",
              "      <th>14</th>\n",
              "      <td>1</td>\n",
              "      <td>15</td>\n",
              "      <td>BetterBot</td>\n",
              "      <td>EGILPTT</td>\n",
              "      <td>M3</td>\n",
              "      <td>TIP</td>\n",
              "      <td>17</td>\n",
              "      <td>213</td>\n",
              "      <td>Play</td>\n",
              "    </tr>\n",
              "    <tr>\n",
              "      <th>15</th>\n",
              "      <td>1</td>\n",
              "      <td>16</td>\n",
              "      <td>stevy</td>\n",
              "      <td>BCEIITU</td>\n",
              "      <td>15L</td>\n",
              "      <td>CU.</td>\n",
              "      <td>10</td>\n",
              "      <td>306</td>\n",
              "      <td>Play</td>\n",
              "    </tr>\n",
              "    <tr>\n",
              "      <th>16</th>\n",
              "      <td>1</td>\n",
              "      <td>17</td>\n",
              "      <td>BetterBot</td>\n",
              "      <td>EGLTTWY</td>\n",
              "      <td>3A</td>\n",
              "      <td>W..GLET</td>\n",
              "      <td>12</td>\n",
              "      <td>225</td>\n",
              "      <td>Play</td>\n",
              "    </tr>\n",
              "    <tr>\n",
              "      <th>17</th>\n",
              "      <td>1</td>\n",
              "      <td>18</td>\n",
              "      <td>stevy</td>\n",
              "      <td>ABEIIRT</td>\n",
              "      <td>2F</td>\n",
              "      <td>BAITER</td>\n",
              "      <td>28</td>\n",
              "      <td>334</td>\n",
              "      <td>Play</td>\n",
              "    </tr>\n",
              "    <tr>\n",
              "      <th>18</th>\n",
              "      <td>1</td>\n",
              "      <td>19</td>\n",
              "      <td>BetterBot</td>\n",
              "      <td>MNOSSTY</td>\n",
              "      <td>N2</td>\n",
              "      <td>MOSSY</td>\n",
              "      <td>48</td>\n",
              "      <td>273</td>\n",
              "      <td>Play</td>\n",
              "    </tr>\n",
              "    <tr>\n",
              "      <th>19</th>\n",
              "      <td>1</td>\n",
              "      <td>20</td>\n",
              "      <td>stevy</td>\n",
              "      <td>AAFINNR</td>\n",
              "      <td>1G</td>\n",
              "      <td>FAIN</td>\n",
              "      <td>37</td>\n",
              "      <td>371</td>\n",
              "      <td>Play</td>\n",
              "    </tr>\n",
              "    <tr>\n",
              "      <th>20</th>\n",
              "      <td>1</td>\n",
              "      <td>21</td>\n",
              "      <td>BetterBot</td>\n",
              "      <td>ANOOTYZ</td>\n",
              "      <td>O1</td>\n",
              "      <td>NAY</td>\n",
              "      <td>28</td>\n",
              "      <td>301</td>\n",
              "      <td>Play</td>\n",
              "    </tr>\n",
              "    <tr>\n",
              "      <th>21</th>\n",
              "      <td>1</td>\n",
              "      <td>22</td>\n",
              "      <td>stevy</td>\n",
              "      <td>ADENNRR</td>\n",
              "      <td>7B</td>\n",
              "      <td>D.NNA</td>\n",
              "      <td>19</td>\n",
              "      <td>390</td>\n",
              "      <td>Play</td>\n",
              "    </tr>\n",
              "    <tr>\n",
              "      <th>22</th>\n",
              "      <td>1</td>\n",
              "      <td>23</td>\n",
              "      <td>BetterBot</td>\n",
              "      <td>GIOOTVZ</td>\n",
              "      <td>E9</td>\n",
              "      <td>.ITZ</td>\n",
              "      <td>26</td>\n",
              "      <td>327</td>\n",
              "      <td>Play</td>\n",
              "    </tr>\n",
              "    <tr>\n",
              "      <th>23</th>\n",
              "      <td>1</td>\n",
              "      <td>24</td>\n",
              "      <td>stevy</td>\n",
              "      <td>ELORR</td>\n",
              "      <td>12C</td>\n",
              "      <td>RE.</td>\n",
              "      <td>24</td>\n",
              "      <td>414</td>\n",
              "      <td>Play</td>\n",
              "    </tr>\n",
              "    <tr>\n",
              "      <th>24</th>\n",
              "      <td>1</td>\n",
              "      <td>25</td>\n",
              "      <td>BetterBot</td>\n",
              "      <td>GOOV</td>\n",
              "      <td>8K</td>\n",
              "      <td>V.GO.</td>\n",
              "      <td>8</td>\n",
              "      <td>335</td>\n",
              "      <td>Play</td>\n",
              "    </tr>\n",
              "    <tr>\n",
              "      <th>25</th>\n",
              "      <td>1</td>\n",
              "      <td>26</td>\n",
              "      <td>stevy</td>\n",
              "      <td>LOR</td>\n",
              "      <td>K12</td>\n",
              "      <td>LOR</td>\n",
              "      <td>13</td>\n",
              "      <td>427</td>\n",
              "      <td>Play</td>\n",
              "    </tr>\n",
              "    <tr>\n",
              "      <th>26</th>\n",
              "      <td>1</td>\n",
              "      <td>27</td>\n",
              "      <td>stevy</td>\n",
              "      <td>NaN</td>\n",
              "      <td>NaN</td>\n",
              "      <td>(O)</td>\n",
              "      <td>2</td>\n",
              "      <td>429</td>\n",
              "      <td>End</td>\n",
              "    </tr>\n",
              "  </tbody>\n",
              "</table>\n",
              "</div>"
            ],
            "text/plain": [
              "    game_id  turn_number   nickname     rack location      move  points  \\\n",
              "0         1            1  BetterBot  DDEGITT       8G       DIG      10   \n",
              "1         1            2      stevy  AEHOPUX       7H       HAP      18   \n",
              "2         1            3  BetterBot  DEELTTU       6I      LUTE      16   \n",
              "3         1            4      stevy  EMORSUX       5K        UM      16   \n",
              "4         1            5  BetterBot  ACDEITU       L5  ..DICATE      28   \n",
              "5         1            6      stevy  EEOORSX      M11       OXO      31   \n",
              "6         1            7  BetterBot  AAEJRSU       5E     RAJAS      29   \n",
              "7         1            8      stevy  AEEFIRS       9B   FAERIES      72   \n",
              "8         1            9  BetterBot  ELNNORU       C3  NEURON.L      68   \n",
              "9         1           10      stevy  EEEHIKO       6F        HO      35   \n",
              "10        1           11  BetterBot  EEGIQTW       B2        QI      24   \n",
              "11        1           12      stevy  ?EEEIKV       8A       KE.      26   \n",
              "12        1           13  BetterBot  BEEGITW      N13       WEB      21   \n",
              "13        1           14      stevy  ??DEEIV       O8   rElIVED      98   \n",
              "14        1           15  BetterBot  EGILPTT       M3       TIP      17   \n",
              "15        1           16      stevy  BCEIITU      15L       CU.      10   \n",
              "16        1           17  BetterBot  EGLTTWY       3A   W..GLET      12   \n",
              "17        1           18      stevy  ABEIIRT       2F    BAITER      28   \n",
              "18        1           19  BetterBot  MNOSSTY       N2     MOSSY      48   \n",
              "19        1           20      stevy  AAFINNR       1G      FAIN      37   \n",
              "20        1           21  BetterBot  ANOOTYZ       O1       NAY      28   \n",
              "21        1           22      stevy  ADENNRR       7B     D.NNA      19   \n",
              "22        1           23  BetterBot  GIOOTVZ       E9      .ITZ      26   \n",
              "23        1           24      stevy    ELORR      12C       RE.      24   \n",
              "24        1           25  BetterBot     GOOV       8K     V.GO.       8   \n",
              "25        1           26      stevy      LOR      K12       LOR      13   \n",
              "26        1           27      stevy      NaN      NaN       (O)       2   \n",
              "\n",
              "    score turn_type  \n",
              "0      10      Play  \n",
              "1      18      Play  \n",
              "2      26      Play  \n",
              "3      34      Play  \n",
              "4      54      Play  \n",
              "5      65      Play  \n",
              "6      83      Play  \n",
              "7     137      Play  \n",
              "8     151      Play  \n",
              "9     172      Play  \n",
              "10    175      Play  \n",
              "11    198      Play  \n",
              "12    196      Play  \n",
              "13    296      Play  \n",
              "14    213      Play  \n",
              "15    306      Play  \n",
              "16    225      Play  \n",
              "17    334      Play  \n",
              "18    273      Play  \n",
              "19    371      Play  \n",
              "20    301      Play  \n",
              "21    390      Play  \n",
              "22    327      Play  \n",
              "23    414      Play  \n",
              "24    335      Play  \n",
              "25    427      Play  \n",
              "26    429       End  "
            ]
          },
          "execution_count": 6,
          "metadata": {},
          "output_type": "execute_result"
        }
      ],
      "source": [
        "game_1"
      ]
    },
    {
      "cell_type": "code",
      "execution_count": null,
      "id": "89f56174",
      "metadata": {
        "execution": {
          "iopub.execute_input": "2023-02-06T04:56:10.623970Z",
          "iopub.status.busy": "2023-02-06T04:56:10.623525Z",
          "iopub.status.idle": "2023-02-06T04:56:10.633125Z",
          "shell.execute_reply": "2023-02-06T04:56:10.631915Z"
        },
        "papermill": {
          "duration": 0.024848,
          "end_time": "2023-02-06T04:56:10.635853",
          "exception": false,
          "start_time": "2023-02-06T04:56:10.611005",
          "status": "completed"
        },
        "tags": [],
        "id": "89f56174",
        "outputId": "2ba73878-c628-4ca9-db80-c1d180f7af71"
      },
      "outputs": [
        {
          "data": {
            "text/plain": [
              "16    W..GLET\n",
              "Name: move, dtype: object"
            ]
          },
          "execution_count": 7,
          "metadata": {},
          "output_type": "execute_result"
        }
      ],
      "source": [
        "game_1[game_1.turn_number == 17][\"move\"]"
      ]
    },
    {
      "cell_type": "code",
      "execution_count": null,
      "id": "b3504178",
      "metadata": {
        "execution": {
          "iopub.execute_input": "2023-02-06T04:56:10.660394Z",
          "iopub.status.busy": "2023-02-06T04:56:10.659655Z",
          "iopub.status.idle": "2023-02-06T04:56:10.671274Z",
          "shell.execute_reply": "2023-02-06T04:56:10.670346Z"
        },
        "papermill": {
          "duration": 0.026495,
          "end_time": "2023-02-06T04:56:10.673516",
          "exception": false,
          "start_time": "2023-02-06T04:56:10.647021",
          "status": "completed"
        },
        "tags": [],
        "id": "b3504178",
        "outputId": "39162762-739e-43d7-96f5-f43c7aa0c768"
      },
      "outputs": [
        {
          "data": {
            "text/html": [
              "<div>\n",
              "<style scoped>\n",
              "    .dataframe tbody tr th:only-of-type {\n",
              "        vertical-align: middle;\n",
              "    }\n",
              "\n",
              "    .dataframe tbody tr th {\n",
              "        vertical-align: top;\n",
              "    }\n",
              "\n",
              "    .dataframe thead th {\n",
              "        text-align: right;\n",
              "    }\n",
              "</style>\n",
              "<table border=\"1\" class=\"dataframe\">\n",
              "  <thead>\n",
              "    <tr style=\"text-align: right;\">\n",
              "      <th></th>\n",
              "      <th>game_id</th>\n",
              "      <th>nickname</th>\n",
              "      <th>score</th>\n",
              "      <th>rating</th>\n",
              "    </tr>\n",
              "  </thead>\n",
              "  <tbody>\n",
              "    <tr>\n",
              "      <th>0</th>\n",
              "      <td>1</td>\n",
              "      <td>BetterBot</td>\n",
              "      <td>335</td>\n",
              "      <td>1637</td>\n",
              "    </tr>\n",
              "    <tr>\n",
              "      <th>1</th>\n",
              "      <td>1</td>\n",
              "      <td>stevy</td>\n",
              "      <td>429</td>\n",
              "      <td>1500</td>\n",
              "    </tr>\n",
              "    <tr>\n",
              "      <th>2</th>\n",
              "      <td>3</td>\n",
              "      <td>davidavid</td>\n",
              "      <td>440</td>\n",
              "      <td>1811</td>\n",
              "    </tr>\n",
              "    <tr>\n",
              "      <th>3</th>\n",
              "      <td>3</td>\n",
              "      <td>BetterBot</td>\n",
              "      <td>318</td>\n",
              "      <td>2071</td>\n",
              "    </tr>\n",
              "    <tr>\n",
              "      <th>4</th>\n",
              "      <td>4</td>\n",
              "      <td>Inandoutworker</td>\n",
              "      <td>119</td>\n",
              "      <td>1473</td>\n",
              "    </tr>\n",
              "  </tbody>\n",
              "</table>\n",
              "</div>"
            ],
            "text/plain": [
              "   game_id        nickname  score  rating\n",
              "0        1       BetterBot    335    1637\n",
              "1        1           stevy    429    1500\n",
              "2        3       davidavid    440    1811\n",
              "3        3       BetterBot    318    2071\n",
              "4        4  Inandoutworker    119    1473"
            ]
          },
          "execution_count": 8,
          "metadata": {},
          "output_type": "execute_result"
        }
      ],
      "source": [
        "train.head()"
      ]
    },
    {
      "cell_type": "code",
      "execution_count": null,
      "id": "79ceff21",
      "metadata": {
        "execution": {
          "iopub.execute_input": "2023-02-06T04:56:10.698421Z",
          "iopub.status.busy": "2023-02-06T04:56:10.697995Z",
          "iopub.status.idle": "2023-02-06T04:56:10.710792Z",
          "shell.execute_reply": "2023-02-06T04:56:10.709299Z"
        },
        "papermill": {
          "duration": 0.027861,
          "end_time": "2023-02-06T04:56:10.713048",
          "exception": false,
          "start_time": "2023-02-06T04:56:10.685187",
          "status": "completed"
        },
        "tags": [],
        "id": "79ceff21",
        "outputId": "8b148af2-814f-4645-c404-df2d2a8de581"
      },
      "outputs": [
        {
          "data": {
            "text/html": [
              "<div>\n",
              "<style scoped>\n",
              "    .dataframe tbody tr th:only-of-type {\n",
              "        vertical-align: middle;\n",
              "    }\n",
              "\n",
              "    .dataframe tbody tr th {\n",
              "        vertical-align: top;\n",
              "    }\n",
              "\n",
              "    .dataframe thead th {\n",
              "        text-align: right;\n",
              "    }\n",
              "</style>\n",
              "<table border=\"1\" class=\"dataframe\">\n",
              "  <thead>\n",
              "    <tr style=\"text-align: right;\">\n",
              "      <th></th>\n",
              "      <th>game_id</th>\n",
              "      <th>nickname</th>\n",
              "      <th>score</th>\n",
              "      <th>rating</th>\n",
              "    </tr>\n",
              "  </thead>\n",
              "  <tbody>\n",
              "    <tr>\n",
              "      <th>0</th>\n",
              "      <td>2</td>\n",
              "      <td>Super</td>\n",
              "      <td>488</td>\n",
              "      <td>NaN</td>\n",
              "    </tr>\n",
              "    <tr>\n",
              "      <th>1</th>\n",
              "      <td>2</td>\n",
              "      <td>BetterBot</td>\n",
              "      <td>401</td>\n",
              "      <td>2000.0</td>\n",
              "    </tr>\n",
              "    <tr>\n",
              "      <th>2</th>\n",
              "      <td>7</td>\n",
              "      <td>STEEBot</td>\n",
              "      <td>377</td>\n",
              "      <td>2082.0</td>\n",
              "    </tr>\n",
              "    <tr>\n",
              "      <th>3</th>\n",
              "      <td>7</td>\n",
              "      <td>Priya1</td>\n",
              "      <td>379</td>\n",
              "      <td>NaN</td>\n",
              "    </tr>\n",
              "    <tr>\n",
              "      <th>4</th>\n",
              "      <td>11</td>\n",
              "      <td>STEEBot</td>\n",
              "      <td>334</td>\n",
              "      <td>1829.0</td>\n",
              "    </tr>\n",
              "  </tbody>\n",
              "</table>\n",
              "</div>"
            ],
            "text/plain": [
              "   game_id   nickname  score  rating\n",
              "0        2      Super    488     NaN\n",
              "1        2  BetterBot    401  2000.0\n",
              "2        7    STEEBot    377  2082.0\n",
              "3        7     Priya1    379     NaN\n",
              "4       11    STEEBot    334  1829.0"
            ]
          },
          "execution_count": 9,
          "metadata": {},
          "output_type": "execute_result"
        }
      ],
      "source": [
        "test.head()"
      ]
    },
    {
      "cell_type": "code",
      "execution_count": null,
      "id": "f9944a2d",
      "metadata": {
        "execution": {
          "iopub.execute_input": "2023-02-06T04:56:10.737788Z",
          "iopub.status.busy": "2023-02-06T04:56:10.737382Z",
          "iopub.status.idle": "2023-02-06T04:56:10.756459Z",
          "shell.execute_reply": "2023-02-06T04:56:10.755380Z"
        },
        "papermill": {
          "duration": 0.034358,
          "end_time": "2023-02-06T04:56:10.758792",
          "exception": false,
          "start_time": "2023-02-06T04:56:10.724434",
          "status": "completed"
        },
        "tags": [],
        "id": "f9944a2d",
        "outputId": "c2f799f5-0596-4fa7-c856-fa924cc6b434"
      },
      "outputs": [
        {
          "data": {
            "text/html": [
              "<div>\n",
              "<style scoped>\n",
              "    .dataframe tbody tr th:only-of-type {\n",
              "        vertical-align: middle;\n",
              "    }\n",
              "\n",
              "    .dataframe tbody tr th {\n",
              "        vertical-align: top;\n",
              "    }\n",
              "\n",
              "    .dataframe thead th {\n",
              "        text-align: right;\n",
              "    }\n",
              "</style>\n",
              "<table border=\"1\" class=\"dataframe\">\n",
              "  <thead>\n",
              "    <tr style=\"text-align: right;\">\n",
              "      <th></th>\n",
              "      <th>game_id</th>\n",
              "      <th>nickname</th>\n",
              "      <th>score</th>\n",
              "      <th>rating</th>\n",
              "    </tr>\n",
              "  </thead>\n",
              "  <tbody>\n",
              "    <tr>\n",
              "      <th>0</th>\n",
              "      <td>2</td>\n",
              "      <td>Super</td>\n",
              "      <td>488</td>\n",
              "      <td>NaN</td>\n",
              "    </tr>\n",
              "    <tr>\n",
              "      <th>3</th>\n",
              "      <td>7</td>\n",
              "      <td>Priya1</td>\n",
              "      <td>379</td>\n",
              "      <td>NaN</td>\n",
              "    </tr>\n",
              "    <tr>\n",
              "      <th>5</th>\n",
              "      <td>11</td>\n",
              "      <td>TileRunner</td>\n",
              "      <td>462</td>\n",
              "      <td>NaN</td>\n",
              "    </tr>\n",
              "    <tr>\n",
              "      <th>7</th>\n",
              "      <td>14</td>\n",
              "      <td>Anfield223</td>\n",
              "      <td>359</td>\n",
              "      <td>NaN</td>\n",
              "    </tr>\n",
              "    <tr>\n",
              "      <th>8</th>\n",
              "      <td>27</td>\n",
              "      <td>friesbasil</td>\n",
              "      <td>456</td>\n",
              "      <td>NaN</td>\n",
              "    </tr>\n",
              "    <tr>\n",
              "      <th>...</th>\n",
              "      <td>...</td>\n",
              "      <td>...</td>\n",
              "      <td>...</td>\n",
              "      <td>...</td>\n",
              "    </tr>\n",
              "    <tr>\n",
              "      <th>44717</th>\n",
              "      <td>72760</td>\n",
              "      <td>thams</td>\n",
              "      <td>494</td>\n",
              "      <td>NaN</td>\n",
              "    </tr>\n",
              "    <tr>\n",
              "      <th>44718</th>\n",
              "      <td>72761</td>\n",
              "      <td>hulkbuster</td>\n",
              "      <td>232</td>\n",
              "      <td>NaN</td>\n",
              "    </tr>\n",
              "    <tr>\n",
              "      <th>44721</th>\n",
              "      <td>72762</td>\n",
              "      <td>kyjo55555</td>\n",
              "      <td>367</td>\n",
              "      <td>NaN</td>\n",
              "    </tr>\n",
              "    <tr>\n",
              "      <th>44723</th>\n",
              "      <td>72768</td>\n",
              "      <td>Maximilian</td>\n",
              "      <td>357</td>\n",
              "      <td>NaN</td>\n",
              "    </tr>\n",
              "    <tr>\n",
              "      <th>44725</th>\n",
              "      <td>72769</td>\n",
              "      <td>browndav</td>\n",
              "      <td>384</td>\n",
              "      <td>NaN</td>\n",
              "    </tr>\n",
              "  </tbody>\n",
              "</table>\n",
              "<p>22363 rows × 4 columns</p>\n",
              "</div>"
            ],
            "text/plain": [
              "       game_id    nickname  score  rating\n",
              "0            2       Super    488     NaN\n",
              "3            7      Priya1    379     NaN\n",
              "5           11  TileRunner    462     NaN\n",
              "7           14  Anfield223    359     NaN\n",
              "8           27  friesbasil    456     NaN\n",
              "...        ...         ...    ...     ...\n",
              "44717    72760       thams    494     NaN\n",
              "44718    72761  hulkbuster    232     NaN\n",
              "44721    72762   kyjo55555    367     NaN\n",
              "44723    72768  Maximilian    357     NaN\n",
              "44725    72769    browndav    384     NaN\n",
              "\n",
              "[22363 rows x 4 columns]"
            ]
          },
          "execution_count": 10,
          "metadata": {},
          "output_type": "execute_result"
        }
      ],
      "source": [
        "test[test.rating.isnull()]"
      ]
    },
    {
      "cell_type": "code",
      "execution_count": null,
      "id": "5282d35f",
      "metadata": {
        "execution": {
          "iopub.execute_input": "2023-02-06T04:56:10.784631Z",
          "iopub.status.busy": "2023-02-06T04:56:10.783400Z",
          "iopub.status.idle": "2023-02-06T04:56:10.796292Z",
          "shell.execute_reply": "2023-02-06T04:56:10.795084Z"
        },
        "papermill": {
          "duration": 0.028289,
          "end_time": "2023-02-06T04:56:10.798638",
          "exception": false,
          "start_time": "2023-02-06T04:56:10.770349",
          "status": "completed"
        },
        "tags": [],
        "id": "5282d35f",
        "outputId": "afd656df-b8a3-4b76-e40e-49f4fbf406f9"
      },
      "outputs": [
        {
          "data": {
            "text/plain": [
              "0     70552\n",
              "1       866\n",
              "5       569\n",
              "10      552\n",
              "60      107\n",
              "3        60\n",
              "7        46\n",
              "15       14\n",
              "59        4\n",
              "2         2\n",
              "30        1\n",
              "Name: increment_seconds, dtype: int64"
            ]
          },
          "execution_count": 11,
          "metadata": {},
          "output_type": "execute_result"
        }
      ],
      "source": [
        "games.increment_seconds.value_counts()"
      ]
    },
    {
      "cell_type": "markdown",
      "id": "929f6aae",
      "metadata": {
        "papermill": {
          "duration": 0.011308,
          "end_time": "2023-02-06T04:56:10.821752",
          "exception": false,
          "start_time": "2023-02-06T04:56:10.810444",
          "status": "completed"
        },
        "tags": [],
        "id": "929f6aae"
      },
      "source": [
        "### Columns from games that are not relevant.\n",
        "cols = [\"created_at\"]"
      ]
    },
    {
      "cell_type": "markdown",
      "id": "22ae340c",
      "metadata": {
        "papermill": {
          "duration": 0.011339,
          "end_time": "2023-02-06T04:56:10.844794",
          "exception": false,
          "start_time": "2023-02-06T04:56:10.833455",
          "status": "completed"
        },
        "tags": [],
        "id": "22ae340c"
      },
      "source": [
        "### Data Cleaning\n",
        "1. Change all columns to lower\n",
        "2. Create final dataset using train and test\n",
        "3. Create two dataframes: a. Bot b. User\n",
        "4. Rename columns as per dataframe"
      ]
    },
    {
      "cell_type": "code",
      "execution_count": null,
      "id": "c2776b32",
      "metadata": {
        "execution": {
          "iopub.execute_input": "2023-02-06T04:56:10.871640Z",
          "iopub.status.busy": "2023-02-06T04:56:10.870271Z",
          "iopub.status.idle": "2023-02-06T04:56:11.119057Z",
          "shell.execute_reply": "2023-02-06T04:56:11.117908Z"
        },
        "papermill": {
          "duration": 0.26511,
          "end_time": "2023-02-06T04:56:11.121777",
          "exception": false,
          "start_time": "2023-02-06T04:56:10.856667",
          "status": "completed"
        },
        "tags": [],
        "id": "c2776b32"
      },
      "outputs": [],
      "source": [
        "train = train.rename(columns = str.lower)\n",
        "test = test.rename(columns = str.lower)\n",
        "games = games.rename(columns = str.lower)\n",
        "turns = turns.rename(columns = str.lower)"
      ]
    },
    {
      "cell_type": "code",
      "execution_count": null,
      "id": "a323a5fb",
      "metadata": {
        "execution": {
          "iopub.execute_input": "2023-02-06T04:56:11.147429Z",
          "iopub.status.busy": "2023-02-06T04:56:11.147022Z",
          "iopub.status.idle": "2023-02-06T04:56:11.169154Z",
          "shell.execute_reply": "2023-02-06T04:56:11.167937Z"
        },
        "papermill": {
          "duration": 0.037999,
          "end_time": "2023-02-06T04:56:11.171799",
          "exception": false,
          "start_time": "2023-02-06T04:56:11.133800",
          "status": "completed"
        },
        "tags": [],
        "id": "a323a5fb",
        "outputId": "227727ba-80c7-426b-8e8d-ad1250784ed1"
      },
      "outputs": [
        {
          "data": {
            "text/html": [
              "<div>\n",
              "<style scoped>\n",
              "    .dataframe tbody tr th:only-of-type {\n",
              "        vertical-align: middle;\n",
              "    }\n",
              "\n",
              "    .dataframe tbody tr th {\n",
              "        vertical-align: top;\n",
              "    }\n",
              "\n",
              "    .dataframe thead th {\n",
              "        text-align: right;\n",
              "    }\n",
              "</style>\n",
              "<table border=\"1\" class=\"dataframe\">\n",
              "  <thead>\n",
              "    <tr style=\"text-align: right;\">\n",
              "      <th></th>\n",
              "      <th>game_id</th>\n",
              "      <th>nickname</th>\n",
              "      <th>score</th>\n",
              "      <th>rating</th>\n",
              "    </tr>\n",
              "  </thead>\n",
              "  <tbody>\n",
              "    <tr>\n",
              "      <th>0</th>\n",
              "      <td>1</td>\n",
              "      <td>BetterBot</td>\n",
              "      <td>335</td>\n",
              "      <td>1637.0</td>\n",
              "    </tr>\n",
              "    <tr>\n",
              "      <th>1</th>\n",
              "      <td>1</td>\n",
              "      <td>stevy</td>\n",
              "      <td>429</td>\n",
              "      <td>1500.0</td>\n",
              "    </tr>\n",
              "    <tr>\n",
              "      <th>2</th>\n",
              "      <td>3</td>\n",
              "      <td>davidavid</td>\n",
              "      <td>440</td>\n",
              "      <td>1811.0</td>\n",
              "    </tr>\n",
              "    <tr>\n",
              "      <th>3</th>\n",
              "      <td>3</td>\n",
              "      <td>BetterBot</td>\n",
              "      <td>318</td>\n",
              "      <td>2071.0</td>\n",
              "    </tr>\n",
              "    <tr>\n",
              "      <th>4</th>\n",
              "      <td>4</td>\n",
              "      <td>Inandoutworker</td>\n",
              "      <td>119</td>\n",
              "      <td>1473.0</td>\n",
              "    </tr>\n",
              "  </tbody>\n",
              "</table>\n",
              "</div>"
            ],
            "text/plain": [
              "   game_id        nickname  score  rating\n",
              "0        1       BetterBot    335  1637.0\n",
              "1        1           stevy    429  1500.0\n",
              "2        3       davidavid    440  1811.0\n",
              "3        3       BetterBot    318  2071.0\n",
              "4        4  Inandoutworker    119  1473.0"
            ]
          },
          "execution_count": 13,
          "metadata": {},
          "output_type": "execute_result"
        }
      ],
      "source": [
        "merged_df = pd.concat([train,test], axis = 0)\n",
        "merged_df.head()"
      ]
    },
    {
      "cell_type": "code",
      "execution_count": null,
      "id": "e6f23c15",
      "metadata": {
        "execution": {
          "iopub.execute_input": "2023-02-06T04:56:11.198446Z",
          "iopub.status.busy": "2023-02-06T04:56:11.198051Z",
          "iopub.status.idle": "2023-02-06T04:56:11.227935Z",
          "shell.execute_reply": "2023-02-06T04:56:11.226583Z"
        },
        "papermill": {
          "duration": 0.046787,
          "end_time": "2023-02-06T04:56:11.230650",
          "exception": false,
          "start_time": "2023-02-06T04:56:11.183863",
          "status": "completed"
        },
        "tags": [],
        "id": "e6f23c15",
        "outputId": "f4387bf1-ddeb-4cd5-ad03-a07dec1ac043"
      },
      "outputs": [
        {
          "data": {
            "text/html": [
              "<div>\n",
              "<style scoped>\n",
              "    .dataframe tbody tr th:only-of-type {\n",
              "        vertical-align: middle;\n",
              "    }\n",
              "\n",
              "    .dataframe tbody tr th {\n",
              "        vertical-align: top;\n",
              "    }\n",
              "\n",
              "    .dataframe thead th {\n",
              "        text-align: right;\n",
              "    }\n",
              "</style>\n",
              "<table border=\"1\" class=\"dataframe\">\n",
              "  <thead>\n",
              "    <tr style=\"text-align: right;\">\n",
              "      <th></th>\n",
              "      <th>game_id</th>\n",
              "      <th>nickname</th>\n",
              "      <th>score</th>\n",
              "      <th>rating</th>\n",
              "    </tr>\n",
              "  </thead>\n",
              "  <tbody>\n",
              "    <tr>\n",
              "      <th>0</th>\n",
              "      <td>1</td>\n",
              "      <td>BetterBot</td>\n",
              "      <td>335</td>\n",
              "      <td>1637.0</td>\n",
              "    </tr>\n",
              "    <tr>\n",
              "      <th>1</th>\n",
              "      <td>1</td>\n",
              "      <td>stevy</td>\n",
              "      <td>429</td>\n",
              "      <td>1500.0</td>\n",
              "    </tr>\n",
              "    <tr>\n",
              "      <th>1</th>\n",
              "      <td>2</td>\n",
              "      <td>BetterBot</td>\n",
              "      <td>401</td>\n",
              "      <td>2000.0</td>\n",
              "    </tr>\n",
              "    <tr>\n",
              "      <th>0</th>\n",
              "      <td>2</td>\n",
              "      <td>Super</td>\n",
              "      <td>488</td>\n",
              "      <td>NaN</td>\n",
              "    </tr>\n",
              "    <tr>\n",
              "      <th>3</th>\n",
              "      <td>3</td>\n",
              "      <td>BetterBot</td>\n",
              "      <td>318</td>\n",
              "      <td>2071.0</td>\n",
              "    </tr>\n",
              "  </tbody>\n",
              "</table>\n",
              "</div>"
            ],
            "text/plain": [
              "   game_id   nickname  score  rating\n",
              "0        1  BetterBot    335  1637.0\n",
              "1        1      stevy    429  1500.0\n",
              "1        2  BetterBot    401  2000.0\n",
              "0        2      Super    488     NaN\n",
              "3        3  BetterBot    318  2071.0"
            ]
          },
          "execution_count": 14,
          "metadata": {},
          "output_type": "execute_result"
        }
      ],
      "source": [
        "merged_df.sort_values(by = [\"game_id\"], inplace = True)\n",
        "merged_df.head()"
      ]
    },
    {
      "cell_type": "code",
      "execution_count": null,
      "id": "ade3129c",
      "metadata": {
        "execution": {
          "iopub.execute_input": "2023-02-06T04:56:11.257389Z",
          "iopub.status.busy": "2023-02-06T04:56:11.257004Z",
          "iopub.status.idle": "2023-02-06T04:56:11.317729Z",
          "shell.execute_reply": "2023-02-06T04:56:11.316387Z"
        },
        "papermill": {
          "duration": 0.07719,
          "end_time": "2023-02-06T04:56:11.320286",
          "exception": false,
          "start_time": "2023-02-06T04:56:11.243096",
          "status": "completed"
        },
        "tags": [],
        "id": "ade3129c",
        "outputId": "40faea71-c253-4196-f7a1-2ea8180bba21"
      },
      "outputs": [
        {
          "name": "stdout",
          "output_type": "stream",
          "text": [
            "Bot DF:\n"
          ]
        },
        {
          "data": {
            "text/html": [
              "<div>\n",
              "<style scoped>\n",
              "    .dataframe tbody tr th:only-of-type {\n",
              "        vertical-align: middle;\n",
              "    }\n",
              "\n",
              "    .dataframe tbody tr th {\n",
              "        vertical-align: top;\n",
              "    }\n",
              "\n",
              "    .dataframe thead th {\n",
              "        text-align: right;\n",
              "    }\n",
              "</style>\n",
              "<table border=\"1\" class=\"dataframe\">\n",
              "  <thead>\n",
              "    <tr style=\"text-align: right;\">\n",
              "      <th></th>\n",
              "      <th>game_id</th>\n",
              "      <th>bot_name</th>\n",
              "      <th>bot_score</th>\n",
              "      <th>bot_rating</th>\n",
              "    </tr>\n",
              "  </thead>\n",
              "  <tbody>\n",
              "    <tr>\n",
              "      <th>0</th>\n",
              "      <td>1</td>\n",
              "      <td>BetterBot</td>\n",
              "      <td>335</td>\n",
              "      <td>1637.0</td>\n",
              "    </tr>\n",
              "    <tr>\n",
              "      <th>1</th>\n",
              "      <td>2</td>\n",
              "      <td>BetterBot</td>\n",
              "      <td>401</td>\n",
              "      <td>2000.0</td>\n",
              "    </tr>\n",
              "    <tr>\n",
              "      <th>3</th>\n",
              "      <td>3</td>\n",
              "      <td>BetterBot</td>\n",
              "      <td>318</td>\n",
              "      <td>2071.0</td>\n",
              "    </tr>\n",
              "    <tr>\n",
              "      <th>5</th>\n",
              "      <td>4</td>\n",
              "      <td>BetterBot</td>\n",
              "      <td>478</td>\n",
              "      <td>1936.0</td>\n",
              "    </tr>\n",
              "    <tr>\n",
              "      <th>7</th>\n",
              "      <td>5</td>\n",
              "      <td>STEEBot</td>\n",
              "      <td>427</td>\n",
              "      <td>1844.0</td>\n",
              "    </tr>\n",
              "  </tbody>\n",
              "</table>\n",
              "</div>"
            ],
            "text/plain": [
              "   game_id   bot_name  bot_score  bot_rating\n",
              "0        1  BetterBot        335      1637.0\n",
              "1        2  BetterBot        401      2000.0\n",
              "3        3  BetterBot        318      2071.0\n",
              "5        4  BetterBot        478      1936.0\n",
              "7        5    STEEBot        427      1844.0"
            ]
          },
          "metadata": {},
          "output_type": "display_data"
        },
        {
          "name": "stdout",
          "output_type": "stream",
          "text": [
            "\n",
            "\n",
            "User DF:\n"
          ]
        },
        {
          "data": {
            "text/html": [
              "<div>\n",
              "<style scoped>\n",
              "    .dataframe tbody tr th:only-of-type {\n",
              "        vertical-align: middle;\n",
              "    }\n",
              "\n",
              "    .dataframe tbody tr th {\n",
              "        vertical-align: top;\n",
              "    }\n",
              "\n",
              "    .dataframe thead th {\n",
              "        text-align: right;\n",
              "    }\n",
              "</style>\n",
              "<table border=\"1\" class=\"dataframe\">\n",
              "  <thead>\n",
              "    <tr style=\"text-align: right;\">\n",
              "      <th></th>\n",
              "      <th>game_id</th>\n",
              "      <th>user_name</th>\n",
              "      <th>user_score</th>\n",
              "      <th>user_rating</th>\n",
              "    </tr>\n",
              "  </thead>\n",
              "  <tbody>\n",
              "    <tr>\n",
              "      <th>1</th>\n",
              "      <td>1</td>\n",
              "      <td>stevy</td>\n",
              "      <td>429</td>\n",
              "      <td>1500.0</td>\n",
              "    </tr>\n",
              "    <tr>\n",
              "      <th>0</th>\n",
              "      <td>2</td>\n",
              "      <td>Super</td>\n",
              "      <td>488</td>\n",
              "      <td>NaN</td>\n",
              "    </tr>\n",
              "    <tr>\n",
              "      <th>2</th>\n",
              "      <td>3</td>\n",
              "      <td>davidavid</td>\n",
              "      <td>440</td>\n",
              "      <td>1811.0</td>\n",
              "    </tr>\n",
              "    <tr>\n",
              "      <th>4</th>\n",
              "      <td>4</td>\n",
              "      <td>Inandoutworker</td>\n",
              "      <td>119</td>\n",
              "      <td>1473.0</td>\n",
              "    </tr>\n",
              "    <tr>\n",
              "      <th>6</th>\n",
              "      <td>5</td>\n",
              "      <td>stevy</td>\n",
              "      <td>325</td>\n",
              "      <td>1500.0</td>\n",
              "    </tr>\n",
              "  </tbody>\n",
              "</table>\n",
              "</div>"
            ],
            "text/plain": [
              "   game_id       user_name  user_score  user_rating\n",
              "1        1           stevy         429       1500.0\n",
              "0        2           Super         488          NaN\n",
              "2        3       davidavid         440       1811.0\n",
              "4        4  Inandoutworker         119       1473.0\n",
              "6        5           stevy         325       1500.0"
            ]
          },
          "metadata": {},
          "output_type": "display_data"
        }
      ],
      "source": [
        "bot_names = [\"BetterBot\",\"STEEBot\",\"HastyBot\"]\n",
        "df_bot = merged_df[merged_df[\"nickname\"].isin(bot_names)]\n",
        "df_bot = df_bot.rename(columns = {'nickname' : 'bot_name','score' : 'bot_score','rating' : 'bot_rating'})\n",
        "\n",
        "df_user = merged_df[~merged_df[\"nickname\"].isin(bot_names)]\n",
        "df_user = df_user.rename(columns = {'nickname' : 'user_name','score' : 'user_score','rating' : 'user_rating'})\n",
        "\n",
        "\n",
        "print(\"Bot DF:\")\n",
        "display(df_bot.head())\n",
        "\n",
        "print(\"\\n\\nUser DF:\")\n",
        "display(df_user.head())"
      ]
    },
    {
      "cell_type": "code",
      "execution_count": null,
      "id": "faf551d0",
      "metadata": {
        "execution": {
          "iopub.execute_input": "2023-02-06T04:56:11.347600Z",
          "iopub.status.busy": "2023-02-06T04:56:11.347183Z",
          "iopub.status.idle": "2023-02-06T04:56:11.362419Z",
          "shell.execute_reply": "2023-02-06T04:56:11.361032Z"
        },
        "papermill": {
          "duration": 0.031971,
          "end_time": "2023-02-06T04:56:11.364951",
          "exception": false,
          "start_time": "2023-02-06T04:56:11.332980",
          "status": "completed"
        },
        "tags": [],
        "id": "faf551d0",
        "outputId": "02bc6f56-19e3-494e-e348-60f46e9d646e"
      },
      "outputs": [
        {
          "data": {
            "text/plain": [
              "'NULL values in rating column in bot dataframe: '"
            ]
          },
          "metadata": {},
          "output_type": "display_data"
        },
        {
          "data": {
            "text/plain": [
              "0"
            ]
          },
          "metadata": {},
          "output_type": "display_data"
        },
        {
          "data": {
            "text/plain": [
              "'NULL values in rating column in user dataframe: '"
            ]
          },
          "metadata": {},
          "output_type": "display_data"
        },
        {
          "data": {
            "text/plain": [
              "22363"
            ]
          },
          "metadata": {},
          "output_type": "display_data"
        }
      ],
      "source": [
        "display(\"NULL values in rating column in bot dataframe: \",df_bot.bot_rating.isnull().sum())\n",
        "display(\"NULL values in rating column in user dataframe: \",df_user.user_rating.isnull().sum())"
      ]
    },
    {
      "cell_type": "markdown",
      "id": "36b63caa",
      "metadata": {
        "papermill": {
          "duration": 0.012621,
          "end_time": "2023-02-06T04:56:11.391265",
          "exception": false,
          "start_time": "2023-02-06T04:56:11.378644",
          "status": "completed"
        },
        "tags": [],
        "id": "36b63caa"
      },
      "source": [
        "5. Create a new dataframe by merging not concating the bot and user dataframe's.\n",
        "6. Create a new column user_freq that talks about how many games a user has played."
      ]
    },
    {
      "cell_type": "code",
      "execution_count": null,
      "id": "959772c1",
      "metadata": {
        "execution": {
          "iopub.execute_input": "2023-02-06T04:56:11.420326Z",
          "iopub.status.busy": "2023-02-06T04:56:11.419916Z",
          "iopub.status.idle": "2023-02-06T04:56:11.469028Z",
          "shell.execute_reply": "2023-02-06T04:56:11.467868Z"
        },
        "papermill": {
          "duration": 0.066523,
          "end_time": "2023-02-06T04:56:11.471635",
          "exception": false,
          "start_time": "2023-02-06T04:56:11.405112",
          "status": "completed"
        },
        "tags": [],
        "id": "959772c1",
        "outputId": "c4bd2d5a-8d6f-4ef5-9caf-04ae0b961f94"
      },
      "outputs": [
        {
          "data": {
            "text/plain": [
              "(72773, 7)"
            ]
          },
          "execution_count": 17,
          "metadata": {},
          "output_type": "execute_result"
        }
      ],
      "source": [
        "main_df = pd.merge(df_bot,df_user, on = \"game_id\")\n",
        "main_df.head()\n",
        "main_df.shape"
      ]
    },
    {
      "cell_type": "code",
      "execution_count": null,
      "id": "2f9d2196",
      "metadata": {
        "execution": {
          "iopub.execute_input": "2023-02-06T04:56:11.500514Z",
          "iopub.status.busy": "2023-02-06T04:56:11.499937Z",
          "iopub.status.idle": "2023-02-06T04:56:11.505474Z",
          "shell.execute_reply": "2023-02-06T04:56:11.504070Z"
        },
        "papermill": {
          "duration": 0.022743,
          "end_time": "2023-02-06T04:56:11.507870",
          "exception": false,
          "start_time": "2023-02-06T04:56:11.485127",
          "status": "completed"
        },
        "tags": [],
        "id": "2f9d2196"
      },
      "outputs": [],
      "source": [
        "# abcd = main_df.groupby(\"user_name\")\n",
        "# abcd.head(20)"
      ]
    },
    {
      "cell_type": "code",
      "execution_count": null,
      "id": "4fc9e54e",
      "metadata": {
        "execution": {
          "iopub.execute_input": "2023-02-06T04:56:11.536952Z",
          "iopub.status.busy": "2023-02-06T04:56:11.536466Z",
          "iopub.status.idle": "2023-02-06T04:56:11.540882Z",
          "shell.execute_reply": "2023-02-06T04:56:11.539922Z"
        },
        "papermill": {
          "duration": 0.021237,
          "end_time": "2023-02-06T04:56:11.543114",
          "exception": false,
          "start_time": "2023-02-06T04:56:11.521877",
          "status": "completed"
        },
        "tags": [],
        "id": "4fc9e54e"
      },
      "outputs": [],
      "source": [
        "# abcd.get_group(('Super'))"
      ]
    },
    {
      "cell_type": "code",
      "execution_count": null,
      "id": "94b1e678",
      "metadata": {
        "execution": {
          "iopub.execute_input": "2023-02-06T04:56:11.570816Z",
          "iopub.status.busy": "2023-02-06T04:56:11.570387Z",
          "iopub.status.idle": "2023-02-06T04:56:11.599865Z",
          "shell.execute_reply": "2023-02-06T04:56:11.598724Z"
        },
        "papermill": {
          "duration": 0.04613,
          "end_time": "2023-02-06T04:56:11.602333",
          "exception": false,
          "start_time": "2023-02-06T04:56:11.556203",
          "status": "completed"
        },
        "tags": [],
        "id": "94b1e678",
        "outputId": "111bdc27-f35e-4b1b-faf7-b6fc28f137d5"
      },
      "outputs": [
        {
          "data": {
            "text/html": [
              "<div>\n",
              "<style scoped>\n",
              "    .dataframe tbody tr th:only-of-type {\n",
              "        vertical-align: middle;\n",
              "    }\n",
              "\n",
              "    .dataframe tbody tr th {\n",
              "        vertical-align: top;\n",
              "    }\n",
              "\n",
              "    .dataframe thead th {\n",
              "        text-align: right;\n",
              "    }\n",
              "</style>\n",
              "<table border=\"1\" class=\"dataframe\">\n",
              "  <thead>\n",
              "    <tr style=\"text-align: right;\">\n",
              "      <th></th>\n",
              "      <th>game_id</th>\n",
              "      <th>bot_name</th>\n",
              "      <th>bot_score</th>\n",
              "      <th>bot_rating</th>\n",
              "      <th>user_name</th>\n",
              "      <th>user_score</th>\n",
              "      <th>user_rating</th>\n",
              "      <th>user_freq</th>\n",
              "    </tr>\n",
              "  </thead>\n",
              "  <tbody>\n",
              "    <tr>\n",
              "      <th>0</th>\n",
              "      <td>1</td>\n",
              "      <td>BetterBot</td>\n",
              "      <td>335</td>\n",
              "      <td>1637.0</td>\n",
              "      <td>stevy</td>\n",
              "      <td>429</td>\n",
              "      <td>1500.0</td>\n",
              "      <td>410</td>\n",
              "    </tr>\n",
              "    <tr>\n",
              "      <th>1</th>\n",
              "      <td>2</td>\n",
              "      <td>BetterBot</td>\n",
              "      <td>401</td>\n",
              "      <td>2000.0</td>\n",
              "      <td>Super</td>\n",
              "      <td>488</td>\n",
              "      <td>NaN</td>\n",
              "      <td>140</td>\n",
              "    </tr>\n",
              "    <tr>\n",
              "      <th>2</th>\n",
              "      <td>3</td>\n",
              "      <td>BetterBot</td>\n",
              "      <td>318</td>\n",
              "      <td>2071.0</td>\n",
              "      <td>davidavid</td>\n",
              "      <td>440</td>\n",
              "      <td>1811.0</td>\n",
              "      <td>254</td>\n",
              "    </tr>\n",
              "    <tr>\n",
              "      <th>3</th>\n",
              "      <td>4</td>\n",
              "      <td>BetterBot</td>\n",
              "      <td>478</td>\n",
              "      <td>1936.0</td>\n",
              "      <td>Inandoutworker</td>\n",
              "      <td>119</td>\n",
              "      <td>1473.0</td>\n",
              "      <td>205</td>\n",
              "    </tr>\n",
              "    <tr>\n",
              "      <th>4</th>\n",
              "      <td>5</td>\n",
              "      <td>STEEBot</td>\n",
              "      <td>427</td>\n",
              "      <td>1844.0</td>\n",
              "      <td>stevy</td>\n",
              "      <td>325</td>\n",
              "      <td>1500.0</td>\n",
              "      <td>410</td>\n",
              "    </tr>\n",
              "  </tbody>\n",
              "</table>\n",
              "</div>"
            ],
            "text/plain": [
              "   game_id   bot_name  bot_score  bot_rating       user_name  user_score  \\\n",
              "0        1  BetterBot        335      1637.0           stevy         429   \n",
              "1        2  BetterBot        401      2000.0           Super         488   \n",
              "2        3  BetterBot        318      2071.0       davidavid         440   \n",
              "3        4  BetterBot        478      1936.0  Inandoutworker         119   \n",
              "4        5    STEEBot        427      1844.0           stevy         325   \n",
              "\n",
              "   user_rating  user_freq  \n",
              "0       1500.0        410  \n",
              "1          NaN        140  \n",
              "2       1811.0        254  \n",
              "3       1473.0        205  \n",
              "4       1500.0        410  "
            ]
          },
          "execution_count": 20,
          "metadata": {},
          "output_type": "execute_result"
        }
      ],
      "source": [
        "main_df[\"user_freq\"] = main_df.groupby(\"user_name\")[\"user_name\"].transform(\"count\")\n",
        "main_df.head()"
      ]
    },
    {
      "cell_type": "markdown",
      "id": "1e3a9062",
      "metadata": {
        "papermill": {
          "duration": 0.01282,
          "end_time": "2023-02-06T04:56:11.628670",
          "exception": false,
          "start_time": "2023-02-06T04:56:11.615850",
          "status": "completed"
        },
        "tags": [],
        "id": "1e3a9062"
      },
      "source": [
        "Look if we can create a data of % wins by user"
      ]
    },
    {
      "cell_type": "code",
      "execution_count": null,
      "id": "79e975e5",
      "metadata": {
        "execution": {
          "iopub.execute_input": "2023-02-06T04:56:11.656824Z",
          "iopub.status.busy": "2023-02-06T04:56:11.656404Z",
          "iopub.status.idle": "2023-02-06T04:56:11.664057Z",
          "shell.execute_reply": "2023-02-06T04:56:11.662889Z"
        },
        "papermill": {
          "duration": 0.024285,
          "end_time": "2023-02-06T04:56:11.666341",
          "exception": false,
          "start_time": "2023-02-06T04:56:11.642056",
          "status": "completed"
        },
        "tags": [],
        "id": "79e975e5",
        "outputId": "e27dc9d0-11c8-4be2-97db-b1ceb1fc0c8b"
      },
      "outputs": [
        {
          "data": {
            "text/plain": [
              "'\\nTry once with LabelEncoder and once with One-Hot Encoder.\\nAs the bots represent a difficulty level, instead of a label encoder assign label manually.\\n'"
            ]
          },
          "execution_count": 21,
          "metadata": {},
          "output_type": "execute_result"
        }
      ],
      "source": [
        "'''\n",
        "Try once with LabelEncoder and once with One-Hot Encoder.\n",
        "As the bots represent a difficulty level, instead of a label encoder assign label manually.\n",
        "'''"
      ]
    },
    {
      "cell_type": "code",
      "execution_count": null,
      "id": "bcbf7ea5",
      "metadata": {
        "execution": {
          "iopub.execute_input": "2023-02-06T04:56:11.695383Z",
          "iopub.status.busy": "2023-02-06T04:56:11.694968Z",
          "iopub.status.idle": "2023-02-06T04:56:12.869442Z",
          "shell.execute_reply": "2023-02-06T04:56:12.867817Z"
        },
        "papermill": {
          "duration": 1.192501,
          "end_time": "2023-02-06T04:56:12.872628",
          "exception": false,
          "start_time": "2023-02-06T04:56:11.680127",
          "status": "completed"
        },
        "tags": [],
        "id": "bcbf7ea5"
      },
      "outputs": [],
      "source": [
        "from sklearn import preprocessing"
      ]
    },
    {
      "cell_type": "code",
      "execution_count": null,
      "id": "116334a7",
      "metadata": {
        "execution": {
          "iopub.execute_input": "2023-02-06T04:56:12.901869Z",
          "iopub.status.busy": "2023-02-06T04:56:12.901321Z",
          "iopub.status.idle": "2023-02-06T04:56:12.906966Z",
          "shell.execute_reply": "2023-02-06T04:56:12.905245Z"
        },
        "papermill": {
          "duration": 0.02349,
          "end_time": "2023-02-06T04:56:12.909543",
          "exception": false,
          "start_time": "2023-02-06T04:56:12.886053",
          "status": "completed"
        },
        "tags": [],
        "id": "116334a7"
      },
      "outputs": [],
      "source": [
        "# encode_bots = preprocessing.LabelEncoder()\n",
        "# main_df[\"bot_name\"] = encode_bots.fit_transform(main_df[\"bot_name\"])\n",
        "# main_df.head()"
      ]
    },
    {
      "cell_type": "code",
      "execution_count": null,
      "id": "0fffe882",
      "metadata": {
        "execution": {
          "iopub.execute_input": "2023-02-06T04:56:12.939746Z",
          "iopub.status.busy": "2023-02-06T04:56:12.938949Z",
          "iopub.status.idle": "2023-02-06T04:56:12.962872Z",
          "shell.execute_reply": "2023-02-06T04:56:12.961600Z"
        },
        "papermill": {
          "duration": 0.042018,
          "end_time": "2023-02-06T04:56:12.965526",
          "exception": false,
          "start_time": "2023-02-06T04:56:12.923508",
          "status": "completed"
        },
        "tags": [],
        "id": "0fffe882",
        "outputId": "c2d4fc72-7b43-4e41-aa01-78f41c80426f"
      },
      "outputs": [
        {
          "data": {
            "text/html": [
              "<div>\n",
              "<style scoped>\n",
              "    .dataframe tbody tr th:only-of-type {\n",
              "        vertical-align: middle;\n",
              "    }\n",
              "\n",
              "    .dataframe tbody tr th {\n",
              "        vertical-align: top;\n",
              "    }\n",
              "\n",
              "    .dataframe thead th {\n",
              "        text-align: right;\n",
              "    }\n",
              "</style>\n",
              "<table border=\"1\" class=\"dataframe\">\n",
              "  <thead>\n",
              "    <tr style=\"text-align: right;\">\n",
              "      <th></th>\n",
              "      <th>game_id</th>\n",
              "      <th>bot_name</th>\n",
              "      <th>bot_score</th>\n",
              "      <th>bot_rating</th>\n",
              "      <th>user_name</th>\n",
              "      <th>user_score</th>\n",
              "      <th>user_rating</th>\n",
              "      <th>user_freq</th>\n",
              "    </tr>\n",
              "  </thead>\n",
              "  <tbody>\n",
              "    <tr>\n",
              "      <th>0</th>\n",
              "      <td>1</td>\n",
              "      <td>1</td>\n",
              "      <td>335</td>\n",
              "      <td>1637.0</td>\n",
              "      <td>stevy</td>\n",
              "      <td>429</td>\n",
              "      <td>1500.0</td>\n",
              "      <td>410</td>\n",
              "    </tr>\n",
              "    <tr>\n",
              "      <th>1</th>\n",
              "      <td>2</td>\n",
              "      <td>1</td>\n",
              "      <td>401</td>\n",
              "      <td>2000.0</td>\n",
              "      <td>Super</td>\n",
              "      <td>488</td>\n",
              "      <td>NaN</td>\n",
              "      <td>140</td>\n",
              "    </tr>\n",
              "    <tr>\n",
              "      <th>2</th>\n",
              "      <td>3</td>\n",
              "      <td>1</td>\n",
              "      <td>318</td>\n",
              "      <td>2071.0</td>\n",
              "      <td>davidavid</td>\n",
              "      <td>440</td>\n",
              "      <td>1811.0</td>\n",
              "      <td>254</td>\n",
              "    </tr>\n",
              "    <tr>\n",
              "      <th>3</th>\n",
              "      <td>4</td>\n",
              "      <td>1</td>\n",
              "      <td>478</td>\n",
              "      <td>1936.0</td>\n",
              "      <td>Inandoutworker</td>\n",
              "      <td>119</td>\n",
              "      <td>1473.0</td>\n",
              "      <td>205</td>\n",
              "    </tr>\n",
              "    <tr>\n",
              "      <th>4</th>\n",
              "      <td>5</td>\n",
              "      <td>2</td>\n",
              "      <td>427</td>\n",
              "      <td>1844.0</td>\n",
              "      <td>stevy</td>\n",
              "      <td>325</td>\n",
              "      <td>1500.0</td>\n",
              "      <td>410</td>\n",
              "    </tr>\n",
              "  </tbody>\n",
              "</table>\n",
              "</div>"
            ],
            "text/plain": [
              "   game_id  bot_name  bot_score  bot_rating       user_name  user_score  \\\n",
              "0        1         1        335      1637.0           stevy         429   \n",
              "1        2         1        401      2000.0           Super         488   \n",
              "2        3         1        318      2071.0       davidavid         440   \n",
              "3        4         1        478      1936.0  Inandoutworker         119   \n",
              "4        5         2        427      1844.0           stevy         325   \n",
              "\n",
              "   user_rating  user_freq  \n",
              "0       1500.0        410  \n",
              "1          NaN        140  \n",
              "2       1811.0        254  \n",
              "3       1473.0        205  \n",
              "4       1500.0        410  "
            ]
          },
          "execution_count": 24,
          "metadata": {},
          "output_type": "execute_result"
        }
      ],
      "source": [
        "bot_ratings = {'BetterBot' : 1, 'STEEBot' : 2, 'HastyBot' : 3}\n",
        "main_df[\"bot_name\"] = main_df[\"bot_name\"].map(bot_ratings)\n",
        "main_df.head()"
      ]
    },
    {
      "cell_type": "markdown",
      "id": "6d6a3040",
      "metadata": {
        "papermill": {
          "duration": 0.014224,
          "end_time": "2023-02-06T04:56:12.994488",
          "exception": false,
          "start_time": "2023-02-06T04:56:12.980264",
          "status": "completed"
        },
        "tags": [],
        "id": "6d6a3040"
      },
      "source": [
        "### Dataset preparation"
      ]
    },
    {
      "cell_type": "code",
      "execution_count": null,
      "id": "91f07f77",
      "metadata": {
        "execution": {
          "iopub.execute_input": "2023-02-06T04:56:13.025489Z",
          "iopub.status.busy": "2023-02-06T04:56:13.024756Z",
          "iopub.status.idle": "2023-02-06T04:56:13.053391Z",
          "shell.execute_reply": "2023-02-06T04:56:13.052461Z"
        },
        "papermill": {
          "duration": 0.04717,
          "end_time": "2023-02-06T04:56:13.056113",
          "exception": false,
          "start_time": "2023-02-06T04:56:13.008943",
          "status": "completed"
        },
        "tags": [],
        "id": "91f07f77",
        "outputId": "98239bd3-4da0-4ddd-b7c2-daa501864961"
      },
      "outputs": [
        {
          "data": {
            "text/html": [
              "<div>\n",
              "<style scoped>\n",
              "    .dataframe tbody tr th:only-of-type {\n",
              "        vertical-align: middle;\n",
              "    }\n",
              "\n",
              "    .dataframe tbody tr th {\n",
              "        vertical-align: top;\n",
              "    }\n",
              "\n",
              "    .dataframe thead th {\n",
              "        text-align: right;\n",
              "    }\n",
              "</style>\n",
              "<table border=\"1\" class=\"dataframe\">\n",
              "  <thead>\n",
              "    <tr style=\"text-align: right;\">\n",
              "      <th></th>\n",
              "      <th>game_id</th>\n",
              "      <th>bot_name</th>\n",
              "      <th>bot_score</th>\n",
              "      <th>bot_rating</th>\n",
              "      <th>user_name</th>\n",
              "      <th>user_score</th>\n",
              "      <th>user_rating</th>\n",
              "      <th>user_freq</th>\n",
              "    </tr>\n",
              "  </thead>\n",
              "  <tbody>\n",
              "    <tr>\n",
              "      <th>0</th>\n",
              "      <td>1</td>\n",
              "      <td>1</td>\n",
              "      <td>335</td>\n",
              "      <td>1637.0</td>\n",
              "      <td>stevy</td>\n",
              "      <td>429</td>\n",
              "      <td>1500.0</td>\n",
              "      <td>410</td>\n",
              "    </tr>\n",
              "    <tr>\n",
              "      <th>1</th>\n",
              "      <td>3</td>\n",
              "      <td>1</td>\n",
              "      <td>318</td>\n",
              "      <td>2071.0</td>\n",
              "      <td>davidavid</td>\n",
              "      <td>440</td>\n",
              "      <td>1811.0</td>\n",
              "      <td>254</td>\n",
              "    </tr>\n",
              "    <tr>\n",
              "      <th>2</th>\n",
              "      <td>4</td>\n",
              "      <td>1</td>\n",
              "      <td>478</td>\n",
              "      <td>1936.0</td>\n",
              "      <td>Inandoutworker</td>\n",
              "      <td>119</td>\n",
              "      <td>1473.0</td>\n",
              "      <td>205</td>\n",
              "    </tr>\n",
              "    <tr>\n",
              "      <th>3</th>\n",
              "      <td>5</td>\n",
              "      <td>2</td>\n",
              "      <td>427</td>\n",
              "      <td>1844.0</td>\n",
              "      <td>stevy</td>\n",
              "      <td>325</td>\n",
              "      <td>1500.0</td>\n",
              "      <td>410</td>\n",
              "    </tr>\n",
              "    <tr>\n",
              "      <th>4</th>\n",
              "      <td>6</td>\n",
              "      <td>2</td>\n",
              "      <td>427</td>\n",
              "      <td>2143.0</td>\n",
              "      <td>HivinD</td>\n",
              "      <td>378</td>\n",
              "      <td>2029.0</td>\n",
              "      <td>592</td>\n",
              "    </tr>\n",
              "  </tbody>\n",
              "</table>\n",
              "</div>"
            ],
            "text/plain": [
              "   game_id  bot_name  bot_score  bot_rating       user_name  user_score  \\\n",
              "0        1         1        335      1637.0           stevy         429   \n",
              "1        3         1        318      2071.0       davidavid         440   \n",
              "2        4         1        478      1936.0  Inandoutworker         119   \n",
              "3        5         2        427      1844.0           stevy         325   \n",
              "4        6         2        427      2143.0          HivinD         378   \n",
              "\n",
              "   user_rating  user_freq  \n",
              "0       1500.0        410  \n",
              "1       1811.0        254  \n",
              "2       1473.0        205  \n",
              "3       1500.0        410  \n",
              "4       2029.0        592  "
            ]
          },
          "execution_count": 25,
          "metadata": {},
          "output_type": "execute_result"
        }
      ],
      "source": [
        "train_df = main_df[~main_df[\"user_rating\"].isna()].reset_index(drop = True)\n",
        "train_df.head()"
      ]
    },
    {
      "cell_type": "code",
      "execution_count": null,
      "id": "03a4d4a2",
      "metadata": {
        "execution": {
          "iopub.execute_input": "2023-02-06T04:56:13.087632Z",
          "iopub.status.busy": "2023-02-06T04:56:13.086909Z",
          "iopub.status.idle": "2023-02-06T04:56:13.103148Z",
          "shell.execute_reply": "2023-02-06T04:56:13.102144Z"
        },
        "papermill": {
          "duration": 0.035176,
          "end_time": "2023-02-06T04:56:13.105968",
          "exception": false,
          "start_time": "2023-02-06T04:56:13.070792",
          "status": "completed"
        },
        "tags": [],
        "id": "03a4d4a2",
        "outputId": "e1dfda19-9393-46cb-ed77-ad791b33f823"
      },
      "outputs": [
        {
          "data": {
            "text/html": [
              "<div>\n",
              "<style scoped>\n",
              "    .dataframe tbody tr th:only-of-type {\n",
              "        vertical-align: middle;\n",
              "    }\n",
              "\n",
              "    .dataframe tbody tr th {\n",
              "        vertical-align: top;\n",
              "    }\n",
              "\n",
              "    .dataframe thead th {\n",
              "        text-align: right;\n",
              "    }\n",
              "</style>\n",
              "<table border=\"1\" class=\"dataframe\">\n",
              "  <thead>\n",
              "    <tr style=\"text-align: right;\">\n",
              "      <th></th>\n",
              "      <th>game_id</th>\n",
              "      <th>bot_name</th>\n",
              "      <th>bot_score</th>\n",
              "      <th>bot_rating</th>\n",
              "      <th>user_name</th>\n",
              "      <th>user_score</th>\n",
              "      <th>user_rating</th>\n",
              "      <th>user_freq</th>\n",
              "    </tr>\n",
              "  </thead>\n",
              "  <tbody>\n",
              "    <tr>\n",
              "      <th>0</th>\n",
              "      <td>2</td>\n",
              "      <td>1</td>\n",
              "      <td>401</td>\n",
              "      <td>2000.0</td>\n",
              "      <td>Super</td>\n",
              "      <td>488</td>\n",
              "      <td>NaN</td>\n",
              "      <td>140</td>\n",
              "    </tr>\n",
              "    <tr>\n",
              "      <th>1</th>\n",
              "      <td>7</td>\n",
              "      <td>2</td>\n",
              "      <td>377</td>\n",
              "      <td>2082.0</td>\n",
              "      <td>Priya1</td>\n",
              "      <td>379</td>\n",
              "      <td>NaN</td>\n",
              "      <td>166</td>\n",
              "    </tr>\n",
              "    <tr>\n",
              "      <th>2</th>\n",
              "      <td>11</td>\n",
              "      <td>2</td>\n",
              "      <td>334</td>\n",
              "      <td>1829.0</td>\n",
              "      <td>TileRunner</td>\n",
              "      <td>462</td>\n",
              "      <td>NaN</td>\n",
              "      <td>269</td>\n",
              "    </tr>\n",
              "    <tr>\n",
              "      <th>3</th>\n",
              "      <td>14</td>\n",
              "      <td>2</td>\n",
              "      <td>403</td>\n",
              "      <td>2136.0</td>\n",
              "      <td>Anfield223</td>\n",
              "      <td>359</td>\n",
              "      <td>NaN</td>\n",
              "      <td>65</td>\n",
              "    </tr>\n",
              "    <tr>\n",
              "      <th>4</th>\n",
              "      <td>27</td>\n",
              "      <td>3</td>\n",
              "      <td>453</td>\n",
              "      <td>2258.0</td>\n",
              "      <td>friesbasil</td>\n",
              "      <td>456</td>\n",
              "      <td>NaN</td>\n",
              "      <td>528</td>\n",
              "    </tr>\n",
              "  </tbody>\n",
              "</table>\n",
              "</div>"
            ],
            "text/plain": [
              "   game_id  bot_name  bot_score  bot_rating   user_name  user_score  \\\n",
              "0        2         1        401      2000.0       Super         488   \n",
              "1        7         2        377      2082.0      Priya1         379   \n",
              "2       11         2        334      1829.0  TileRunner         462   \n",
              "3       14         2        403      2136.0  Anfield223         359   \n",
              "4       27         3        453      2258.0  friesbasil         456   \n",
              "\n",
              "   user_rating  user_freq  \n",
              "0          NaN        140  \n",
              "1          NaN        166  \n",
              "2          NaN        269  \n",
              "3          NaN         65  \n",
              "4          NaN        528  "
            ]
          },
          "execution_count": 26,
          "metadata": {},
          "output_type": "execute_result"
        }
      ],
      "source": [
        "test_df = main_df[main_df[\"user_rating\"].isna()].reset_index(drop = True)\n",
        "test_df.head()"
      ]
    },
    {
      "cell_type": "markdown",
      "id": "898036df",
      "metadata": {
        "papermill": {
          "duration": 0.014469,
          "end_time": "2023-02-06T04:56:13.135321",
          "exception": false,
          "start_time": "2023-02-06T04:56:13.120852",
          "status": "completed"
        },
        "tags": [],
        "id": "898036df"
      },
      "source": [
        "# Train Model"
      ]
    },
    {
      "cell_type": "code",
      "execution_count": null,
      "id": "c4dbc60a",
      "metadata": {
        "execution": {
          "iopub.execute_input": "2023-02-06T04:56:13.167438Z",
          "iopub.status.busy": "2023-02-06T04:56:13.167038Z",
          "iopub.status.idle": "2023-02-06T04:56:13.185376Z",
          "shell.execute_reply": "2023-02-06T04:56:13.184062Z"
        },
        "papermill": {
          "duration": 0.037812,
          "end_time": "2023-02-06T04:56:13.188164",
          "exception": false,
          "start_time": "2023-02-06T04:56:13.150352",
          "status": "completed"
        },
        "tags": [],
        "id": "c4dbc60a",
        "outputId": "4f649fc1-6fd3-48c3-c48a-a6693c655719"
      },
      "outputs": [
        {
          "data": {
            "text/html": [
              "<div>\n",
              "<style scoped>\n",
              "    .dataframe tbody tr th:only-of-type {\n",
              "        vertical-align: middle;\n",
              "    }\n",
              "\n",
              "    .dataframe tbody tr th {\n",
              "        vertical-align: top;\n",
              "    }\n",
              "\n",
              "    .dataframe thead th {\n",
              "        text-align: right;\n",
              "    }\n",
              "</style>\n",
              "<table border=\"1\" class=\"dataframe\">\n",
              "  <thead>\n",
              "    <tr style=\"text-align: right;\">\n",
              "      <th></th>\n",
              "      <th>game_id</th>\n",
              "      <th>bot_name</th>\n",
              "      <th>bot_score</th>\n",
              "      <th>bot_rating</th>\n",
              "      <th>user_score</th>\n",
              "      <th>user_freq</th>\n",
              "    </tr>\n",
              "  </thead>\n",
              "  <tbody>\n",
              "    <tr>\n",
              "      <th>0</th>\n",
              "      <td>2</td>\n",
              "      <td>1</td>\n",
              "      <td>401</td>\n",
              "      <td>2000.0</td>\n",
              "      <td>488</td>\n",
              "      <td>140</td>\n",
              "    </tr>\n",
              "    <tr>\n",
              "      <th>1</th>\n",
              "      <td>7</td>\n",
              "      <td>2</td>\n",
              "      <td>377</td>\n",
              "      <td>2082.0</td>\n",
              "      <td>379</td>\n",
              "      <td>166</td>\n",
              "    </tr>\n",
              "    <tr>\n",
              "      <th>2</th>\n",
              "      <td>11</td>\n",
              "      <td>2</td>\n",
              "      <td>334</td>\n",
              "      <td>1829.0</td>\n",
              "      <td>462</td>\n",
              "      <td>269</td>\n",
              "    </tr>\n",
              "    <tr>\n",
              "      <th>3</th>\n",
              "      <td>14</td>\n",
              "      <td>2</td>\n",
              "      <td>403</td>\n",
              "      <td>2136.0</td>\n",
              "      <td>359</td>\n",
              "      <td>65</td>\n",
              "    </tr>\n",
              "    <tr>\n",
              "      <th>4</th>\n",
              "      <td>27</td>\n",
              "      <td>3</td>\n",
              "      <td>453</td>\n",
              "      <td>2258.0</td>\n",
              "      <td>456</td>\n",
              "      <td>528</td>\n",
              "    </tr>\n",
              "  </tbody>\n",
              "</table>\n",
              "</div>"
            ],
            "text/plain": [
              "   game_id  bot_name  bot_score  bot_rating  user_score  user_freq\n",
              "0        2         1        401      2000.0         488        140\n",
              "1        7         2        377      2082.0         379        166\n",
              "2       11         2        334      1829.0         462        269\n",
              "3       14         2        403      2136.0         359         65\n",
              "4       27         3        453      2258.0         456        528"
            ]
          },
          "execution_count": 27,
          "metadata": {},
          "output_type": "execute_result"
        }
      ],
      "source": [
        "train_x = train_df.drop(columns = [\"user_name\",\"user_rating\"], axis = 1)\n",
        "train_y = train_df[\"user_rating\"]\n",
        "\n",
        "test_x = test_df.drop(columns = [\"user_name\",\"user_rating\"], axis = 1)\n",
        "test_x.head()"
      ]
    },
    {
      "cell_type": "markdown",
      "id": "b1ad492a",
      "metadata": {
        "papermill": {
          "duration": 0.0147,
          "end_time": "2023-02-06T04:56:13.217772",
          "exception": false,
          "start_time": "2023-02-06T04:56:13.203072",
          "status": "completed"
        },
        "tags": [],
        "id": "b1ad492a"
      },
      "source": [
        "# New Approach\n",
        "Create a set of models to try out and experiment with it"
      ]
    },
    {
      "cell_type": "code",
      "execution_count": null,
      "id": "58a35652",
      "metadata": {
        "execution": {
          "iopub.execute_input": "2023-02-06T04:56:13.250739Z",
          "iopub.status.busy": "2023-02-06T04:56:13.249496Z",
          "iopub.status.idle": "2023-02-06T04:56:14.533008Z",
          "shell.execute_reply": "2023-02-06T04:56:14.531679Z"
        },
        "papermill": {
          "duration": 1.30319,
          "end_time": "2023-02-06T04:56:14.535920",
          "exception": false,
          "start_time": "2023-02-06T04:56:13.232730",
          "status": "completed"
        },
        "tags": [],
        "id": "58a35652",
        "outputId": "30b429b0-cf60-4990-ea6e-5f3607fddb11"
      },
      "outputs": [
        {
          "data": {
            "text/html": [
              "<style type='text/css'>\n",
              ".datatable table.frame { margin-bottom: 0; }\n",
              ".datatable table.frame thead { border-bottom: none; }\n",
              ".datatable table.frame tr.coltypes td {  color: #FFFFFF;  line-height: 6px;  padding: 0 0.5em;}\n",
              ".datatable .bool    { background: #DDDD99; }\n",
              ".datatable .object  { background: #565656; }\n",
              ".datatable .int     { background: #5D9E5D; }\n",
              ".datatable .float   { background: #4040CC; }\n",
              ".datatable .str     { background: #CC4040; }\n",
              ".datatable .time    { background: #40CC40; }\n",
              ".datatable .row_index {  background: var(--jp-border-color3);  border-right: 1px solid var(--jp-border-color0);  color: var(--jp-ui-font-color3);  font-size: 9px;}\n",
              ".datatable .frame tbody td { text-align: left; }\n",
              ".datatable .frame tr.coltypes .row_index {  background: var(--jp-border-color0);}\n",
              ".datatable th:nth-child(2) { padding-left: 12px; }\n",
              ".datatable .hellipsis {  color: var(--jp-cell-editor-border-color);}\n",
              ".datatable .vellipsis {  background: var(--jp-layout-color0);  color: var(--jp-cell-editor-border-color);}\n",
              ".datatable .na {  color: var(--jp-cell-editor-border-color);  font-size: 80%;}\n",
              ".datatable .sp {  opacity: 0.25;}\n",
              ".datatable .footer { font-size: 9px; }\n",
              ".datatable .frame_dimensions {  background: var(--jp-border-color3);  border-top: 1px solid var(--jp-border-color0);  color: var(--jp-ui-font-color3);  display: inline-block;  opacity: 0.6;  padding: 1px 10px 1px 5px;}\n",
              "</style>\n"
            ],
            "text/plain": [
              "<IPython.core.display.HTML object>"
            ]
          },
          "metadata": {},
          "output_type": "display_data"
        }
      ],
      "source": [
        "from sklearn.linear_model import LinearRegression, Ridge, Lasso\n",
        "from sklearn.tree import DecisionTreeRegressor\n",
        "from sklearn.ensemble import RandomForestRegressor, GradientBoostingRegressor\n",
        "from sklearn.neural_network import MLPRegressor\n",
        "from sklearn.metrics import mean_absolute_error, mean_squared_error, r2_score\n",
        "from sklearn.model_selection import KFold\n",
        "import lightgbm as lgb"
      ]
    },
    {
      "cell_type": "code",
      "execution_count": null,
      "id": "0e97de11",
      "metadata": {
        "execution": {
          "iopub.execute_input": "2023-02-06T04:56:14.568485Z",
          "iopub.status.busy": "2023-02-06T04:56:14.568038Z",
          "iopub.status.idle": "2023-02-06T04:56:14.574194Z",
          "shell.execute_reply": "2023-02-06T04:56:14.573245Z"
        },
        "papermill": {
          "duration": 0.02527,
          "end_time": "2023-02-06T04:56:14.576922",
          "exception": false,
          "start_time": "2023-02-06T04:56:14.551652",
          "status": "completed"
        },
        "tags": [],
        "id": "0e97de11"
      },
      "outputs": [],
      "source": [
        "model_lib = {\n",
        "    \"linear\" : LinearRegression(),\n",
        "    \"ridge\" : Ridge(),\n",
        "    \"lasso\" : Lasso(),\n",
        "    \"decision_tree\" : DecisionTreeRegressor(),\n",
        "    \"random_forest\" : RandomForestRegressor(),\n",
        "    \"gradient_boosting\" : GradientBoostingRegressor(),\n",
        "    \"mlp\" : MLPRegressor(),\n",
        "    \"lgbm\" : lgb.LGBMRegressor()\n",
        "}"
      ]
    },
    {
      "cell_type": "code",
      "execution_count": null,
      "id": "5f8bc6a1",
      "metadata": {
        "execution": {
          "iopub.execute_input": "2023-02-06T04:56:14.608013Z",
          "iopub.status.busy": "2023-02-06T04:56:14.607573Z",
          "iopub.status.idle": "2023-02-06T04:59:24.803465Z",
          "shell.execute_reply": "2023-02-06T04:59:24.802231Z"
        },
        "papermill": {
          "duration": 190.215503,
          "end_time": "2023-02-06T04:59:24.806940",
          "exception": false,
          "start_time": "2023-02-06T04:56:14.591437",
          "status": "completed"
        },
        "tags": [],
        "id": "5f8bc6a1",
        "outputId": "ca2385b8-ef7c-4a96-b500-cb1ef671456e"
      },
      "outputs": [
        {
          "name": "stdout",
          "output_type": "stream",
          "text": [
            "-----------------\n",
            "Model linear: {'Model Name': ['linear'], 'RMSE': [150.38439547275166]} \n",
            "-----------------\n",
            "-----------------\n",
            "Model ridge: {'Model Name': ['linear', 'ridge'], 'RMSE': [150.38439547275166, 150.38439515387407]} \n",
            "-----------------\n",
            "-----------------\n",
            "Model lasso: {'Model Name': ['linear', 'ridge', 'lasso'], 'RMSE': [150.38439547275166, 150.38439515387407, 150.3953811061349]} \n",
            "-----------------\n",
            "-----------------\n",
            "Model decision_tree: {'Model Name': ['linear', 'ridge', 'lasso', 'decision_tree'], 'RMSE': [150.38439547275166, 150.38439515387407, 150.3953811061349, 123.42238804696024]} \n",
            "-----------------\n",
            "-----------------\n",
            "Model random_forest: {'Model Name': ['linear', 'ridge', 'lasso', 'decision_tree', 'random_forest'], 'RMSE': [150.38439547275166, 150.38439515387407, 150.3953811061349, 123.42238804696024, 85.26566337112952]} \n",
            "-----------------\n",
            "-----------------\n",
            "Model gradient_boosting: {'Model Name': ['linear', 'ridge', 'lasso', 'decision_tree', 'random_forest', 'gradient_boosting'], 'RMSE': [150.38439547275166, 150.38439515387407, 150.3953811061349, 123.42238804696024, 85.26566337112952, 117.61848668681975]} \n",
            "-----------------\n",
            "-----------------\n",
            "Model mlp: {'Model Name': ['linear', 'ridge', 'lasso', 'decision_tree', 'random_forest', 'gradient_boosting', 'mlp'], 'RMSE': [150.38439547275166, 150.38439515387407, 150.3953811061349, 123.42238804696024, 85.26566337112952, 117.61848668681975, 148.90660313888534]} \n",
            "-----------------\n",
            "-----------------\n",
            "Model lgbm: {'Model Name': ['linear', 'ridge', 'lasso', 'decision_tree', 'random_forest', 'gradient_boosting', 'mlp', 'lgbm'], 'RMSE': [150.38439547275166, 150.38439515387407, 150.3953811061349, 123.42238804696024, 85.26566337112952, 117.61848668681975, 148.90660313888534, 91.24231674071254]} \n",
            "-----------------\n"
          ]
        }
      ],
      "source": [
        "df_score_details = {\n",
        "    \"Model Name\" : [],\n",
        "    \"RMSE\" : []\n",
        "}\n",
        "\n",
        "for m_name in model_lib.keys():\n",
        "    val_rmse = []\n",
        "    kf = KFold(n_splits = 5)\n",
        "    \n",
        "    for train_idx,val_idx in kf.split(train_x):\n",
        "        x_train, x_val = train_x.iloc[train_idx], train_x.iloc[val_idx]\n",
        "        y_train, y_val = train_y.iloc[train_idx], train_y.iloc[val_idx]\n",
        "        \n",
        "        model = model_lib[m_name]\n",
        "        model.fit(x_train,y_train)\n",
        "        \n",
        "        val_preds = model.predict(x_val).reshape(-1)\n",
        "        val_rmse.append(mean_squared_error(y_val, val_preds, squared = False))\n",
        "        \n",
        "    df_score_details[\"Model Name\"].append(m_name)\n",
        "    df_score_details[\"RMSE\"].append(np.mean(val_rmse))\n",
        "\n",
        "    print(\"-----------------\")\n",
        "    print(f\"Model {m_name}: {df_score_details} \")\n",
        "    print(\"-----------------\")\n",
        "\n",
        "df_score = pd.DataFrame(df_score_details)"
      ]
    },
    {
      "cell_type": "code",
      "execution_count": null,
      "id": "752b5757",
      "metadata": {
        "execution": {
          "iopub.execute_input": "2023-02-06T04:59:24.847395Z",
          "iopub.status.busy": "2023-02-06T04:59:24.846546Z",
          "iopub.status.idle": "2023-02-06T04:59:24.855392Z",
          "shell.execute_reply": "2023-02-06T04:59:24.854117Z"
        },
        "papermill": {
          "duration": 0.033085,
          "end_time": "2023-02-06T04:59:24.858423",
          "exception": false,
          "start_time": "2023-02-06T04:59:24.825338",
          "status": "completed"
        },
        "tags": [],
        "id": "752b5757",
        "outputId": "539d49ec-059e-4d4c-9c5d-5f8b85eb22d5"
      },
      "outputs": [
        {
          "data": {
            "text/plain": [
              "{'Model Name': ['linear',\n",
              "  'ridge',\n",
              "  'lasso',\n",
              "  'decision_tree',\n",
              "  'random_forest',\n",
              "  'gradient_boosting',\n",
              "  'mlp',\n",
              "  'lgbm'],\n",
              " 'RMSE': [150.38439547275166,\n",
              "  150.38439515387407,\n",
              "  150.3953811061349,\n",
              "  123.42238804696024,\n",
              "  85.26566337112952,\n",
              "  117.61848668681975,\n",
              "  148.90660313888534,\n",
              "  91.24231674071254]}"
            ]
          },
          "execution_count": 31,
          "metadata": {},
          "output_type": "execute_result"
        }
      ],
      "source": [
        "df_score_details"
      ]
    },
    {
      "cell_type": "code",
      "execution_count": null,
      "id": "a413f315",
      "metadata": {
        "execution": {
          "iopub.execute_input": "2023-02-06T04:59:24.893463Z",
          "iopub.status.busy": "2023-02-06T04:59:24.893044Z",
          "iopub.status.idle": "2023-02-06T04:59:24.908185Z",
          "shell.execute_reply": "2023-02-06T04:59:24.906773Z"
        },
        "papermill": {
          "duration": 0.035854,
          "end_time": "2023-02-06T04:59:24.910936",
          "exception": false,
          "start_time": "2023-02-06T04:59:24.875082",
          "status": "completed"
        },
        "tags": [],
        "id": "a413f315",
        "outputId": "7c7f0955-b48b-4e39-d508-74b9cac80bd3"
      },
      "outputs": [
        {
          "data": {
            "text/html": [
              "<div>\n",
              "<style scoped>\n",
              "    .dataframe tbody tr th:only-of-type {\n",
              "        vertical-align: middle;\n",
              "    }\n",
              "\n",
              "    .dataframe tbody tr th {\n",
              "        vertical-align: top;\n",
              "    }\n",
              "\n",
              "    .dataframe thead th {\n",
              "        text-align: right;\n",
              "    }\n",
              "</style>\n",
              "<table border=\"1\" class=\"dataframe\">\n",
              "  <thead>\n",
              "    <tr style=\"text-align: right;\">\n",
              "      <th></th>\n",
              "      <th>Model Name</th>\n",
              "      <th>RMSE</th>\n",
              "    </tr>\n",
              "  </thead>\n",
              "  <tbody>\n",
              "    <tr>\n",
              "      <th>4</th>\n",
              "      <td>random_forest</td>\n",
              "      <td>85.265663</td>\n",
              "    </tr>\n",
              "    <tr>\n",
              "      <th>7</th>\n",
              "      <td>lgbm</td>\n",
              "      <td>91.242317</td>\n",
              "    </tr>\n",
              "    <tr>\n",
              "      <th>5</th>\n",
              "      <td>gradient_boosting</td>\n",
              "      <td>117.618487</td>\n",
              "    </tr>\n",
              "    <tr>\n",
              "      <th>3</th>\n",
              "      <td>decision_tree</td>\n",
              "      <td>123.422388</td>\n",
              "    </tr>\n",
              "    <tr>\n",
              "      <th>6</th>\n",
              "      <td>mlp</td>\n",
              "      <td>148.906603</td>\n",
              "    </tr>\n",
              "    <tr>\n",
              "      <th>1</th>\n",
              "      <td>ridge</td>\n",
              "      <td>150.384395</td>\n",
              "    </tr>\n",
              "    <tr>\n",
              "      <th>0</th>\n",
              "      <td>linear</td>\n",
              "      <td>150.384395</td>\n",
              "    </tr>\n",
              "    <tr>\n",
              "      <th>2</th>\n",
              "      <td>lasso</td>\n",
              "      <td>150.395381</td>\n",
              "    </tr>\n",
              "  </tbody>\n",
              "</table>\n",
              "</div>"
            ],
            "text/plain": [
              "          Model Name        RMSE\n",
              "4      random_forest   85.265663\n",
              "7               lgbm   91.242317\n",
              "5  gradient_boosting  117.618487\n",
              "3      decision_tree  123.422388\n",
              "6                mlp  148.906603\n",
              "1              ridge  150.384395\n",
              "0             linear  150.384395\n",
              "2              lasso  150.395381"
            ]
          },
          "execution_count": 32,
          "metadata": {},
          "output_type": "execute_result"
        }
      ],
      "source": [
        "df_score.sort_values(by = [\"RMSE\"], inplace = True)\n",
        "df_score"
      ]
    },
    {
      "cell_type": "code",
      "execution_count": null,
      "id": "870ec5ed",
      "metadata": {
        "execution": {
          "iopub.execute_input": "2023-02-01T07:20:54.040836Z",
          "iopub.status.busy": "2023-02-01T07:20:54.040234Z",
          "iopub.status.idle": "2023-02-01T07:20:54.112105Z",
          "shell.execute_reply": "2023-02-01T07:20:54.110178Z",
          "shell.execute_reply.started": "2023-02-01T07:20:54.040787Z"
        },
        "papermill": {
          "duration": 0.015131,
          "end_time": "2023-02-06T04:59:24.942661",
          "exception": false,
          "start_time": "2023-02-06T04:59:24.927530",
          "status": "completed"
        },
        "tags": [],
        "id": "870ec5ed"
      },
      "outputs": [],
      "source": []
    },
    {
      "cell_type": "code",
      "execution_count": null,
      "id": "fc412cc3",
      "metadata": {
        "execution": {
          "iopub.execute_input": "2023-02-06T04:59:24.978046Z",
          "iopub.status.busy": "2023-02-06T04:59:24.977564Z",
          "iopub.status.idle": "2023-02-06T05:00:05.451993Z",
          "shell.execute_reply": "2023-02-06T05:00:05.450651Z"
        },
        "papermill": {
          "duration": 40.496562,
          "end_time": "2023-02-06T05:00:05.455034",
          "exception": false,
          "start_time": "2023-02-06T04:59:24.958472",
          "status": "completed"
        },
        "tags": [],
        "id": "fc412cc3"
      },
      "outputs": [],
      "source": [
        "for m_name in model_lib.keys():\n",
        "    model = model_lib[m_name]\n",
        "    model.fit(train_x,train_y)\n",
        "\n",
        "    test_x[\"user_rating\"] = model.predict(test_x)\n",
        "    test_x.head()\n",
        "\n",
        "    final_df = test_x[[\"game_id\",\"user_rating\"]]\n",
        "    final_df = final_df.rename(columns = {'user_rating':'rating'})\n",
        "    final_df.head()\n",
        "    \n",
        "    submission_name = m_name + \"_manulencoding_submission.csv\"\n",
        "    final_df.to_csv(submission_name, index = False)\n",
        "    test_x.drop(columns = \"user_rating\",inplace = True)"
      ]
    },
    {
      "cell_type": "code",
      "execution_count": null,
      "id": "a7ab7dba",
      "metadata": {
        "execution": {
          "iopub.execute_input": "2023-02-06T05:00:05.492185Z",
          "iopub.status.busy": "2023-02-06T05:00:05.491317Z",
          "iopub.status.idle": "2023-02-06T05:00:05.500991Z",
          "shell.execute_reply": "2023-02-06T05:00:05.499483Z"
        },
        "papermill": {
          "duration": 0.031217,
          "end_time": "2023-02-06T05:00:05.504231",
          "exception": false,
          "start_time": "2023-02-06T05:00:05.473014",
          "status": "completed"
        },
        "tags": [],
        "id": "a7ab7dba"
      },
      "outputs": [],
      "source": [
        "def remove_folder_contents(folder):\n",
        "    for the_file in os.listdir(folder):\n",
        "        file_path = os.path.join(folder, the_file)\n",
        "        try:\n",
        "            if os.path.isfile(file_path):\n",
        "                os.unlink(file_path)\n",
        "            elif os.path.isdir(file_path):\n",
        "                remove_folder_contents(file_path)\n",
        "                os.rmdir(file_path)\n",
        "        except Exception as e:\n",
        "            print(e)\n",
        "\n",
        "folder_path = '/kaggle/working'\n",
        "remove_folder_contents(folder_path)"
      ]
    },
    {
      "cell_type": "markdown",
      "id": "9c8190de",
      "metadata": {
        "papermill": {
          "duration": 0.016137,
          "end_time": "2023-02-06T05:00:05.536154",
          "exception": false,
          "start_time": "2023-02-06T05:00:05.520017",
          "status": "completed"
        },
        "tags": [],
        "id": "9c8190de"
      },
      "source": [
        "# LGBM works the best"
      ]
    },
    {
      "cell_type": "code",
      "execution_count": null,
      "id": "512c5dd1",
      "metadata": {
        "papermill": {
          "duration": 0.015089,
          "end_time": "2023-02-06T05:00:05.566840",
          "exception": false,
          "start_time": "2023-02-06T05:00:05.551751",
          "status": "completed"
        },
        "tags": [],
        "id": "512c5dd1"
      },
      "outputs": [],
      "source": []
    }
  ],
  "metadata": {
    "kernelspec": {
      "display_name": "Python 3",
      "language": "python",
      "name": "python3"
    },
    "language_info": {
      "codemirror_mode": {
        "name": "ipython",
        "version": 3
      },
      "file_extension": ".py",
      "mimetype": "text/x-python",
      "name": "python",
      "nbconvert_exporter": "python",
      "pygments_lexer": "ipython3",
      "version": "3.7.12"
    },
    "papermill": {
      "default_parameters": {},
      "duration": 253.129368,
      "end_time": "2023-02-06T05:00:06.708925",
      "environment_variables": {},
      "exception": null,
      "input_path": "__notebook__.ipynb",
      "output_path": "__notebook__.ipynb",
      "parameters": {},
      "start_time": "2023-02-06T04:55:53.579557",
      "version": "2.3.4"
    },
    "colab": {
      "provenance": []
    }
  },
  "nbformat": 4,
  "nbformat_minor": 5
}