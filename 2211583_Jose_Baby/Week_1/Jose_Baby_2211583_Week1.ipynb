{
 "cells": [
  {
   "cell_type": "markdown",
   "id": "80ea6942",
   "metadata": {
    "papermill": {
     "duration": 0.009777,
     "end_time": "2023-03-01T13:56:53.217280",
     "exception": false,
     "start_time": "2023-03-01T13:56:53.207503",
     "status": "completed"
    },
    "tags": []
   },
   "source": [
    "# Using Rake-NLTK"
   ]
  },
  {
   "cell_type": "code",
   "execution_count": 1,
   "id": "50924690",
   "metadata": {
    "execution": {
     "iopub.execute_input": "2023-03-01T13:56:53.236442Z",
     "iopub.status.busy": "2023-03-01T13:56:53.236023Z",
     "iopub.status.idle": "2023-03-01T13:57:08.321497Z",
     "shell.execute_reply": "2023-03-01T13:57:08.319852Z"
    },
    "papermill": {
     "duration": 15.098643,
     "end_time": "2023-03-01T13:57:08.324753",
     "exception": false,
     "start_time": "2023-03-01T13:56:53.226110",
     "status": "completed"
    },
    "tags": []
   },
   "outputs": [
    {
     "name": "stdout",
     "output_type": "stream",
     "text": [
      "Collecting rake-nltk\r\n",
      "  Downloading rake_nltk-1.0.6-py3-none-any.whl (9.1 kB)\r\n",
      "Collecting nltk<4.0.0,>=3.6.2\r\n",
      "  Downloading nltk-3.8.1-py3-none-any.whl (1.5 MB)\r\n",
      "\u001b[2K     \u001b[90m━━━━━━━━━━━━━━━━━━━━━━━━━━━━━━━━━━━━━━━━\u001b[0m \u001b[32m1.5/1.5 MB\u001b[0m \u001b[31m18.9 MB/s\u001b[0m eta \u001b[36m0:00:00\u001b[0m\r\n",
      "\u001b[?25hRequirement already satisfied: regex>=2021.8.3 in /opt/conda/lib/python3.7/site-packages (from nltk<4.0.0,>=3.6.2->rake-nltk) (2021.11.10)\r\n",
      "Requirement already satisfied: click in /opt/conda/lib/python3.7/site-packages (from nltk<4.0.0,>=3.6.2->rake-nltk) (8.1.3)\r\n",
      "Requirement already satisfied: joblib in /opt/conda/lib/python3.7/site-packages (from nltk<4.0.0,>=3.6.2->rake-nltk) (1.2.0)\r\n",
      "Requirement already satisfied: tqdm in /opt/conda/lib/python3.7/site-packages (from nltk<4.0.0,>=3.6.2->rake-nltk) (4.64.1)\r\n",
      "Requirement already satisfied: importlib-metadata in /opt/conda/lib/python3.7/site-packages (from click->nltk<4.0.0,>=3.6.2->rake-nltk) (4.11.4)\r\n",
      "Requirement already satisfied: typing-extensions>=3.6.4 in /opt/conda/lib/python3.7/site-packages (from importlib-metadata->click->nltk<4.0.0,>=3.6.2->rake-nltk) (4.4.0)\r\n",
      "Requirement already satisfied: zipp>=0.5 in /opt/conda/lib/python3.7/site-packages (from importlib-metadata->click->nltk<4.0.0,>=3.6.2->rake-nltk) (3.11.0)\r\n",
      "Installing collected packages: nltk, rake-nltk\r\n",
      "  Attempting uninstall: nltk\r\n",
      "    Found existing installation: nltk 3.2.4\r\n",
      "    Uninstalling nltk-3.2.4:\r\n",
      "      Successfully uninstalled nltk-3.2.4\r\n",
      "\u001b[31mERROR: pip's dependency resolver does not currently take into account all the packages that are installed. This behaviour is the source of the following dependency conflicts.\r\n",
      "preprocessing 0.1.13 requires nltk==3.2.4, but you have nltk 3.8.1 which is incompatible.\u001b[0m\u001b[31m\r\n",
      "\u001b[0mSuccessfully installed nltk-3.8.1 rake-nltk-1.0.6\r\n",
      "\u001b[33mWARNING: Running pip as the 'root' user can result in broken permissions and conflicting behaviour with the system package manager. It is recommended to use a virtual environment instead: https://pip.pypa.io/warnings/venv\u001b[0m\u001b[33m\r\n",
      "\u001b[0m"
     ]
    }
   ],
   "source": [
    "!pip install rake-nltk"
   ]
  },
  {
   "cell_type": "code",
   "execution_count": 2,
   "id": "15468245",
   "metadata": {
    "execution": {
     "iopub.execute_input": "2023-03-01T13:57:08.345827Z",
     "iopub.status.busy": "2023-03-01T13:57:08.345388Z",
     "iopub.status.idle": "2023-03-01T13:57:10.053418Z",
     "shell.execute_reply": "2023-03-01T13:57:10.052081Z"
    },
    "papermill": {
     "duration": 1.722076,
     "end_time": "2023-03-01T13:57:10.056412",
     "exception": false,
     "start_time": "2023-03-01T13:57:08.334336",
     "status": "completed"
    },
    "tags": []
   },
   "outputs": [],
   "source": [
    "from rake_nltk import Rake\n",
    "import numpy as np \n",
    "import pandas as pd "
   ]
  },
  {
   "cell_type": "markdown",
   "id": "b156c49c",
   "metadata": {
    "papermill": {
     "duration": 0.009089,
     "end_time": "2023-03-01T13:57:10.075059",
     "exception": false,
     "start_time": "2023-03-01T13:57:10.065970",
     "status": "completed"
    },
    "tags": []
   },
   "source": [
    "# Toy Example for keyword extraction"
   ]
  },
  {
   "cell_type": "code",
   "execution_count": 3,
   "id": "c8a14bbe",
   "metadata": {
    "execution": {
     "iopub.execute_input": "2023-03-01T13:57:10.095943Z",
     "iopub.status.busy": "2023-03-01T13:57:10.095510Z",
     "iopub.status.idle": "2023-03-01T13:57:10.127998Z",
     "shell.execute_reply": "2023-03-01T13:57:10.126427Z"
    },
    "papermill": {
     "duration": 0.046481,
     "end_time": "2023-03-01T13:57:10.131006",
     "exception": false,
     "start_time": "2023-03-01T13:57:10.084525",
     "status": "completed"
    },
    "tags": []
   },
   "outputs": [
    {
     "name": "stdout",
     "output_type": "stream",
     "text": [
      "16.0 every day office work\n",
      "9.0 researchi came across\n",
      "9.0 little gaming ..\n",
      "9.0 costly ones may\n",
      "9.0 blowing right amount\n",
      "8.5 inexpensive product would\n",
      "8.0 give required features\n"
     ]
    }
   ],
   "source": [
    "r = Rake()\n",
    "text = \"Of course you feel buying a expensive will be more sturdy and long lasting with all other features that an inexpensive product would have.But belive it or not after almost weeks of researchi came across this fan which not only has good rpm, blowing right amount of air to cook your laptop but also is silent!!!. I've had others too but nothing compared to this. It's almost affordable and give required features that costly ones may have....I would say JUST PERFECT for my every day office work and little gaming..\"\n",
    "r.extract_keywords_from_text(text)\n",
    "for rating, keyword in r.get_ranked_phrases_with_scores():\n",
    "    if rating > 5:\n",
    "        print(rating, keyword)"
   ]
  },
  {
   "cell_type": "markdown",
   "id": "39541cdc",
   "metadata": {
    "papermill": {
     "duration": 0.009186,
     "end_time": "2023-03-01T13:57:10.149869",
     "exception": false,
     "start_time": "2023-03-01T13:57:10.140683",
     "status": "completed"
    },
    "tags": []
   },
   "source": [
    "# Load Data"
   ]
  },
  {
   "cell_type": "code",
   "execution_count": 4,
   "id": "ef9c4212",
   "metadata": {
    "execution": {
     "iopub.execute_input": "2023-03-01T13:57:10.172563Z",
     "iopub.status.busy": "2023-03-01T13:57:10.172121Z",
     "iopub.status.idle": "2023-03-01T13:57:11.045334Z",
     "shell.execute_reply": "2023-03-01T13:57:11.044057Z"
    },
    "papermill": {
     "duration": 0.887981,
     "end_time": "2023-03-01T13:57:11.048353",
     "exception": false,
     "start_time": "2023-03-01T13:57:10.160372",
     "status": "completed"
    },
    "tags": []
   },
   "outputs": [],
   "source": [
    "notes = pd.read_csv(\"/kaggle/input/nbme-score-clinical-patient-notes/patient_notes.csv\")"
   ]
  },
  {
   "cell_type": "code",
   "execution_count": 5,
   "id": "acc6912b",
   "metadata": {
    "execution": {
     "iopub.execute_input": "2023-03-01T13:57:11.069521Z",
     "iopub.status.busy": "2023-03-01T13:57:11.069076Z",
     "iopub.status.idle": "2023-03-01T13:57:11.099947Z",
     "shell.execute_reply": "2023-03-01T13:57:11.098575Z"
    },
    "papermill": {
     "duration": 0.044845,
     "end_time": "2023-03-01T13:57:11.102865",
     "exception": false,
     "start_time": "2023-03-01T13:57:11.058020",
     "status": "completed"
    },
    "tags": []
   },
   "outputs": [
    {
     "data": {
      "text/html": [
       "<div>\n",
       "<style scoped>\n",
       "    .dataframe tbody tr th:only-of-type {\n",
       "        vertical-align: middle;\n",
       "    }\n",
       "\n",
       "    .dataframe tbody tr th {\n",
       "        vertical-align: top;\n",
       "    }\n",
       "\n",
       "    .dataframe thead th {\n",
       "        text-align: right;\n",
       "    }\n",
       "</style>\n",
       "<table border=\"1\" class=\"dataframe\">\n",
       "  <thead>\n",
       "    <tr style=\"text-align: right;\">\n",
       "      <th></th>\n",
       "      <th>pn_num</th>\n",
       "      <th>case_num</th>\n",
       "      <th>pn_history</th>\n",
       "    </tr>\n",
       "  </thead>\n",
       "  <tbody>\n",
       "    <tr>\n",
       "      <th>0</th>\n",
       "      <td>0</td>\n",
       "      <td>0</td>\n",
       "      <td>17-year-old male, has come to the student heal...</td>\n",
       "    </tr>\n",
       "    <tr>\n",
       "      <th>1</th>\n",
       "      <td>1</td>\n",
       "      <td>0</td>\n",
       "      <td>17 yo male with recurrent palpitations for the...</td>\n",
       "    </tr>\n",
       "    <tr>\n",
       "      <th>2</th>\n",
       "      <td>2</td>\n",
       "      <td>0</td>\n",
       "      <td>Dillon Cleveland is a 17 y.o. male patient wit...</td>\n",
       "    </tr>\n",
       "    <tr>\n",
       "      <th>3</th>\n",
       "      <td>3</td>\n",
       "      <td>0</td>\n",
       "      <td>a 17 yo m c/o palpitation started 3 mos ago; \\...</td>\n",
       "    </tr>\n",
       "    <tr>\n",
       "      <th>4</th>\n",
       "      <td>4</td>\n",
       "      <td>0</td>\n",
       "      <td>17yo male with no pmh here for evaluation of p...</td>\n",
       "    </tr>\n",
       "  </tbody>\n",
       "</table>\n",
       "</div>"
      ],
      "text/plain": [
       "   pn_num  case_num                                         pn_history\n",
       "0       0         0  17-year-old male, has come to the student heal...\n",
       "1       1         0  17 yo male with recurrent palpitations for the...\n",
       "2       2         0  Dillon Cleveland is a 17 y.o. male patient wit...\n",
       "3       3         0  a 17 yo m c/o palpitation started 3 mos ago; \\...\n",
       "4       4         0  17yo male with no pmh here for evaluation of p..."
      ]
     },
     "execution_count": 5,
     "metadata": {},
     "output_type": "execute_result"
    }
   ],
   "source": [
    "notes.head()"
   ]
  },
  {
   "cell_type": "markdown",
   "id": "7b78a5a0",
   "metadata": {
    "papermill": {
     "duration": 0.009389,
     "end_time": "2023-03-01T13:57:11.122340",
     "exception": false,
     "start_time": "2023-03-01T13:57:11.112951",
     "status": "completed"
    },
    "tags": []
   },
   "source": [
    "## Drop unwanted cols"
   ]
  },
  {
   "cell_type": "code",
   "execution_count": 6,
   "id": "529cc850",
   "metadata": {
    "execution": {
     "iopub.execute_input": "2023-03-01T13:57:11.144010Z",
     "iopub.status.busy": "2023-03-01T13:57:11.143218Z",
     "iopub.status.idle": "2023-03-01T13:57:11.153395Z",
     "shell.execute_reply": "2023-03-01T13:57:11.152438Z"
    },
    "papermill": {
     "duration": 0.023726,
     "end_time": "2023-03-01T13:57:11.155889",
     "exception": false,
     "start_time": "2023-03-01T13:57:11.132163",
     "status": "completed"
    },
    "tags": []
   },
   "outputs": [],
   "source": [
    "notes.drop([\"pn_num\", \"case_num\"], axis=1, inplace=True)"
   ]
  },
  {
   "cell_type": "code",
   "execution_count": 7,
   "id": "fad3f905",
   "metadata": {
    "execution": {
     "iopub.execute_input": "2023-03-01T13:57:11.178808Z",
     "iopub.status.busy": "2023-03-01T13:57:11.177999Z",
     "iopub.status.idle": "2023-03-01T13:57:11.190219Z",
     "shell.execute_reply": "2023-03-01T13:57:11.188922Z"
    },
    "papermill": {
     "duration": 0.026547,
     "end_time": "2023-03-01T13:57:11.192966",
     "exception": false,
     "start_time": "2023-03-01T13:57:11.166419",
     "status": "completed"
    },
    "tags": []
   },
   "outputs": [
    {
     "data": {
      "text/plain": [
       "0        17-year-old male, has come to the student heal...\n",
       "1        17 yo male with recurrent palpitations for the...\n",
       "2        Dillon Cleveland is a 17 y.o. male patient wit...\n",
       "3        a 17 yo m c/o palpitation started 3 mos ago; \\...\n",
       "4        17yo male with no pmh here for evaluation of p...\n",
       "                               ...                        \n",
       "42141    Ms. Madden is a 20 yo female presenting w/ the...\n",
       "42142    A 20 YO F CAME COMPLAIN A DULL 8/10 HEADACHE T...\n",
       "42143    Ms. Madden is a 20yo female who presents with ...\n",
       "42144    Stephanie madden is a 20 year old woman compla...\n",
       "42145    patient is a 20 yo F who presents with a heada...\n",
       "Name: pn_history, Length: 42146, dtype: object"
      ]
     },
     "execution_count": 7,
     "metadata": {},
     "output_type": "execute_result"
    }
   ],
   "source": [
    "notes[\"pn_history\"]"
   ]
  },
  {
   "cell_type": "code",
   "execution_count": 8,
   "id": "f3748e01",
   "metadata": {
    "execution": {
     "iopub.execute_input": "2023-03-01T13:57:11.216070Z",
     "iopub.status.busy": "2023-03-01T13:57:11.214596Z",
     "iopub.status.idle": "2023-03-01T13:57:11.221499Z",
     "shell.execute_reply": "2023-03-01T13:57:11.220466Z"
    },
    "papermill": {
     "duration": 0.020892,
     "end_time": "2023-03-01T13:57:11.224041",
     "exception": false,
     "start_time": "2023-03-01T13:57:11.203149",
     "status": "completed"
    },
    "tags": []
   },
   "outputs": [],
   "source": [
    "def extract_keywords(pn_history):\n",
    "    r = Rake(punctuations = [')','(',',',':','),',').','.'])\n",
    "    r.extract_keywords_from_text(pn_history)\n",
    "    phrase_df = pd.DataFrame(r.get_ranked_phrases_with_scores(), columns = ['score','phrase'])\n",
    "    phrase_df.loc[phrase_df.score>5]\n",
    "    return phrase_df['phrase'].tolist()"
   ]
  },
  {
   "cell_type": "code",
   "execution_count": 9,
   "id": "07914a7d",
   "metadata": {
    "execution": {
     "iopub.execute_input": "2023-03-01T13:57:11.246381Z",
     "iopub.status.busy": "2023-03-01T13:57:11.245908Z",
     "iopub.status.idle": "2023-03-01T13:58:55.824488Z",
     "shell.execute_reply": "2023-03-01T13:58:55.822870Z"
    },
    "papermill": {
     "duration": 104.593088,
     "end_time": "2023-03-01T13:58:55.827455",
     "exception": false,
     "start_time": "2023-03-01T13:57:11.234367",
     "status": "completed"
    },
    "tags": []
   },
   "outputs": [],
   "source": [
    "notes[\"keywords\"] = notes[\"pn_history\"].apply(extract_keywords)"
   ]
  },
  {
   "cell_type": "code",
   "execution_count": 10,
   "id": "71c86f09",
   "metadata": {
    "execution": {
     "iopub.execute_input": "2023-03-01T13:58:55.854129Z",
     "iopub.status.busy": "2023-03-01T13:58:55.851835Z",
     "iopub.status.idle": "2023-03-01T13:58:55.880113Z",
     "shell.execute_reply": "2023-03-01T13:58:55.878812Z"
    },
    "papermill": {
     "duration": 0.043952,
     "end_time": "2023-03-01T13:58:55.882902",
     "exception": false,
     "start_time": "2023-03-01T13:58:55.838950",
     "status": "completed"
    },
    "tags": []
   },
   "outputs": [
    {
     "data": {
      "text/html": [
       "<div>\n",
       "<style scoped>\n",
       "    .dataframe tbody tr th:only-of-type {\n",
       "        vertical-align: middle;\n",
       "    }\n",
       "\n",
       "    .dataframe tbody tr th {\n",
       "        vertical-align: top;\n",
       "    }\n",
       "\n",
       "    .dataframe thead th {\n",
       "        text-align: right;\n",
       "    }\n",
       "</style>\n",
       "<table border=\"1\" class=\"dataframe\">\n",
       "  <thead>\n",
       "    <tr style=\"text-align: right;\">\n",
       "      <th></th>\n",
       "      <th>pn_history</th>\n",
       "      <th>keywords</th>\n",
       "    </tr>\n",
       "  </thead>\n",
       "  <tbody>\n",
       "    <tr>\n",
       "      <th>36041</th>\n",
       "      <td>HPI:  a 67 y o f c/o not able to sleep. onset ...</td>\n",
       "      <td>[concentrate normal bowel habits pmh ; htn psh...</td>\n",
       "    </tr>\n",
       "    <tr>\n",
       "      <th>20528</th>\n",
       "      <td>Ms. Whelan, a 26-year-old female, has come to ...</td>\n",
       "      <td>[palpitations - started 3 weeks ago, 26 - year...</td>\n",
       "    </tr>\n",
       "    <tr>\n",
       "      <th>13292</th>\n",
       "      <td>-35 yo M consults for epigastric pain, describ...</td>\n",
       "      <td>[intensity 5 / 10 - started 2 months, 1 - 2 be...</td>\n",
       "    </tr>\n",
       "    <tr>\n",
       "      <th>23096</th>\n",
       "      <td>Patient is a 26 year old caucasian female pres...</td>\n",
       "      <td>[26 year old caucasian female presents, caffei...</td>\n",
       "    </tr>\n",
       "    <tr>\n",
       "      <th>16349</th>\n",
       "      <td>Karin Moore is a 45 y/o woman who presents wit...</td>\n",
       "      <td>[home nearby - patient drinks 5 - 6 cups, drug...</td>\n",
       "    </tr>\n",
       "    <tr>\n",
       "      <th>17536</th>\n",
       "      <td>45 yo F comes to clinic complaining of feeling...</td>\n",
       "      <td>[last pap smear 10 months ago, skin / hair cha...</td>\n",
       "    </tr>\n",
       "    <tr>\n",
       "      <th>22906</th>\n",
       "      <td>26 yr F with presents for f/u after ED visit 2...</td>\n",
       "      <td>[sleeps 8 hours per night feels rested, regula...</td>\n",
       "    </tr>\n",
       "    <tr>\n",
       "      <th>6275</th>\n",
       "      <td>HPI : 35 YO MALE COMES WITH EPIGASTRIC PAIN, S...</td>\n",
       "      <td>[started two weeks ago, 35 yo male comes, pain...</td>\n",
       "    </tr>\n",
       "  </tbody>\n",
       "</table>\n",
       "</div>"
      ],
      "text/plain": [
       "                                              pn_history  \\\n",
       "36041  HPI:  a 67 y o f c/o not able to sleep. onset ...   \n",
       "20528  Ms. Whelan, a 26-year-old female, has come to ...   \n",
       "13292  -35 yo M consults for epigastric pain, describ...   \n",
       "23096  Patient is a 26 year old caucasian female pres...   \n",
       "16349  Karin Moore is a 45 y/o woman who presents wit...   \n",
       "17536  45 yo F comes to clinic complaining of feeling...   \n",
       "22906  26 yr F with presents for f/u after ED visit 2...   \n",
       "6275   HPI : 35 YO MALE COMES WITH EPIGASTRIC PAIN, S...   \n",
       "\n",
       "                                                keywords  \n",
       "36041  [concentrate normal bowel habits pmh ; htn psh...  \n",
       "20528  [palpitations - started 3 weeks ago, 26 - year...  \n",
       "13292  [intensity 5 / 10 - started 2 months, 1 - 2 be...  \n",
       "23096  [26 year old caucasian female presents, caffei...  \n",
       "16349  [home nearby - patient drinks 5 - 6 cups, drug...  \n",
       "17536  [last pap smear 10 months ago, skin / hair cha...  \n",
       "22906  [sleeps 8 hours per night feels rested, regula...  \n",
       "6275   [started two weeks ago, 35 yo male comes, pain...  "
      ]
     },
     "execution_count": 10,
     "metadata": {},
     "output_type": "execute_result"
    }
   ],
   "source": [
    "notes.sample(8)"
   ]
  },
  {
   "cell_type": "markdown",
   "id": "9c0d5fc0",
   "metadata": {
    "papermill": {
     "duration": 0.010438,
     "end_time": "2023-03-01T13:58:55.904017",
     "exception": false,
     "start_time": "2023-03-01T13:58:55.893579",
     "status": "completed"
    },
    "tags": []
   },
   "source": [
    "# using Bag of Words"
   ]
  },
  {
   "cell_type": "code",
   "execution_count": 11,
   "id": "3c246a6d",
   "metadata": {
    "execution": {
     "iopub.execute_input": "2023-03-01T13:58:55.928285Z",
     "iopub.status.busy": "2023-03-01T13:58:55.927110Z",
     "iopub.status.idle": "2023-03-01T13:58:55.933365Z",
     "shell.execute_reply": "2023-03-01T13:58:55.932195Z"
    },
    "papermill": {
     "duration": 0.02117,
     "end_time": "2023-03-01T13:58:55.936190",
     "exception": false,
     "start_time": "2023-03-01T13:58:55.915020",
     "status": "completed"
    },
    "tags": []
   },
   "outputs": [],
   "source": [
    "from sklearn.feature_extraction.text import CountVectorizer\n",
    "bow = CountVectorizer(stop_words='english')"
   ]
  },
  {
   "cell_type": "markdown",
   "id": "058681e2",
   "metadata": {
    "papermill": {
     "duration": 0.010582,
     "end_time": "2023-03-01T13:58:55.958313",
     "exception": false,
     "start_time": "2023-03-01T13:58:55.947731",
     "status": "completed"
    },
    "tags": []
   },
   "source": [
    "## Using Toy Example"
   ]
  },
  {
   "cell_type": "code",
   "execution_count": 12,
   "id": "190b802f",
   "metadata": {
    "execution": {
     "iopub.execute_input": "2023-03-01T13:58:55.985852Z",
     "iopub.status.busy": "2023-03-01T13:58:55.984336Z",
     "iopub.status.idle": "2023-03-01T13:58:55.991565Z",
     "shell.execute_reply": "2023-03-01T13:58:55.990126Z"
    },
    "papermill": {
     "duration": 0.024685,
     "end_time": "2023-03-01T13:58:55.994362",
     "exception": false,
     "start_time": "2023-03-01T13:58:55.969677",
     "status": "completed"
    },
    "tags": []
   },
   "outputs": [],
   "source": [
    "text_data = ['I am interested in NLP', 'This is a good tutorial with good topic', 'Feature extraction is very important topic']"
   ]
  },
  {
   "cell_type": "code",
   "execution_count": 13,
   "id": "af80fdc5",
   "metadata": {
    "execution": {
     "iopub.execute_input": "2023-03-01T13:58:56.018205Z",
     "iopub.status.busy": "2023-03-01T13:58:56.016932Z",
     "iopub.status.idle": "2023-03-01T13:58:56.038211Z",
     "shell.execute_reply": "2023-03-01T13:58:56.036811Z"
    },
    "papermill": {
     "duration": 0.035813,
     "end_time": "2023-03-01T13:58:56.040787",
     "exception": false,
     "start_time": "2023-03-01T13:58:56.004974",
     "status": "completed"
    },
    "tags": []
   },
   "outputs": [
    {
     "data": {
      "text/plain": [
       "CountVectorizer(stop_words='english')"
      ]
     },
     "execution_count": 13,
     "metadata": {},
     "output_type": "execute_result"
    }
   ],
   "source": [
    "# fit the data\n",
    "bow.fit(text_data)"
   ]
  },
  {
   "cell_type": "code",
   "execution_count": 14,
   "id": "ef64f4e3",
   "metadata": {
    "execution": {
     "iopub.execute_input": "2023-03-01T13:58:56.065386Z",
     "iopub.status.busy": "2023-03-01T13:58:56.064658Z",
     "iopub.status.idle": "2023-03-01T13:58:56.075802Z",
     "shell.execute_reply": "2023-03-01T13:58:56.073897Z"
    },
    "papermill": {
     "duration": 0.027364,
     "end_time": "2023-03-01T13:58:56.079392",
     "exception": false,
     "start_time": "2023-03-01T13:58:56.052028",
     "status": "completed"
    },
    "tags": []
   },
   "outputs": [
    {
     "name": "stderr",
     "output_type": "stream",
     "text": [
      "/opt/conda/lib/python3.7/site-packages/sklearn/utils/deprecation.py:87: FutureWarning: Function get_feature_names is deprecated; get_feature_names is deprecated in 1.0 and will be removed in 1.2. Please use get_feature_names_out instead.\n",
      "  warnings.warn(msg, category=FutureWarning)\n"
     ]
    },
    {
     "data": {
      "text/plain": [
       "['extraction',\n",
       " 'feature',\n",
       " 'good',\n",
       " 'important',\n",
       " 'interested',\n",
       " 'nlp',\n",
       " 'topic',\n",
       " 'tutorial']"
      ]
     },
     "execution_count": 14,
     "metadata": {},
     "output_type": "execute_result"
    }
   ],
   "source": [
    "# get the vocabulary list\n",
    "bow.get_feature_names()"
   ]
  },
  {
   "cell_type": "code",
   "execution_count": 15,
   "id": "22ddd4a2",
   "metadata": {
    "execution": {
     "iopub.execute_input": "2023-03-01T13:58:56.103402Z",
     "iopub.status.busy": "2023-03-01T13:58:56.102900Z",
     "iopub.status.idle": "2023-03-01T13:58:56.109052Z",
     "shell.execute_reply": "2023-03-01T13:58:56.107706Z"
    },
    "papermill": {
     "duration": 0.021365,
     "end_time": "2023-03-01T13:58:56.111957",
     "exception": false,
     "start_time": "2023-03-01T13:58:56.090592",
     "status": "completed"
    },
    "tags": []
   },
   "outputs": [],
   "source": [
    "bow_features = bow.transform(text_data)\n",
    "#bow_features"
   ]
  },
  {
   "cell_type": "code",
   "execution_count": 16,
   "id": "32f6af0a",
   "metadata": {
    "execution": {
     "iopub.execute_input": "2023-03-01T13:58:56.136982Z",
     "iopub.status.busy": "2023-03-01T13:58:56.135567Z",
     "iopub.status.idle": "2023-03-01T13:58:56.141877Z",
     "shell.execute_reply": "2023-03-01T13:58:56.140311Z"
    },
    "papermill": {
     "duration": 0.021407,
     "end_time": "2023-03-01T13:58:56.144676",
     "exception": false,
     "start_time": "2023-03-01T13:58:56.123269",
     "status": "completed"
    },
    "tags": []
   },
   "outputs": [],
   "source": [
    "bow_feature_array = bow_features.toarray()\n",
    "#bow_feature_array"
   ]
  },
  {
   "cell_type": "code",
   "execution_count": 17,
   "id": "ca3124d7",
   "metadata": {
    "execution": {
     "iopub.execute_input": "2023-03-01T13:58:56.168781Z",
     "iopub.status.busy": "2023-03-01T13:58:56.168336Z",
     "iopub.status.idle": "2023-03-01T13:58:56.176453Z",
     "shell.execute_reply": "2023-03-01T13:58:56.175026Z"
    },
    "papermill": {
     "duration": 0.023491,
     "end_time": "2023-03-01T13:58:56.179448",
     "exception": false,
     "start_time": "2023-03-01T13:58:56.155957",
     "status": "completed"
    },
    "tags": []
   },
   "outputs": [
    {
     "name": "stdout",
     "output_type": "stream",
     "text": [
      "['interested', 'nlp']\n",
      "['good', 'topic', 'tutorial']\n",
      "['extraction', 'feature', 'important', 'topic']\n"
     ]
    }
   ],
   "source": [
    "#print(bow.get_feature_names())\n",
    "for sentence, feature in zip(text_data, bow_feature_array):\n",
    "    #print(sentence)\n",
    "    #print(feature)\n",
    "    lst = []\n",
    "    for index, element in enumerate(feature.tolist()):\n",
    "        if element > 0:\n",
    "            lst.append(bow.get_feature_names()[index])\n",
    "    print(lst)"
   ]
  },
  {
   "cell_type": "markdown",
   "id": "495d60fd",
   "metadata": {
    "papermill": {
     "duration": 0.011058,
     "end_time": "2023-03-01T13:58:56.201518",
     "exception": false,
     "start_time": "2023-03-01T13:58:56.190460",
     "status": "completed"
    },
    "tags": []
   },
   "source": [
    "## Using Real dataset"
   ]
  },
  {
   "cell_type": "code",
   "execution_count": 18,
   "id": "6b6ec1b2",
   "metadata": {
    "execution": {
     "iopub.execute_input": "2023-03-01T13:58:56.224930Z",
     "iopub.status.busy": "2023-03-01T13:58:56.224476Z",
     "iopub.status.idle": "2023-03-01T13:58:56.244670Z",
     "shell.execute_reply": "2023-03-01T13:58:56.243274Z"
    },
    "papermill": {
     "duration": 0.035107,
     "end_time": "2023-03-01T13:58:56.247297",
     "exception": false,
     "start_time": "2023-03-01T13:58:56.212190",
     "status": "completed"
    },
    "tags": []
   },
   "outputs": [
    {
     "data": {
      "text/html": [
       "<div>\n",
       "<style scoped>\n",
       "    .dataframe tbody tr th:only-of-type {\n",
       "        vertical-align: middle;\n",
       "    }\n",
       "\n",
       "    .dataframe tbody tr th {\n",
       "        vertical-align: top;\n",
       "    }\n",
       "\n",
       "    .dataframe thead th {\n",
       "        text-align: right;\n",
       "    }\n",
       "</style>\n",
       "<table border=\"1\" class=\"dataframe\">\n",
       "  <thead>\n",
       "    <tr style=\"text-align: right;\">\n",
       "      <th></th>\n",
       "      <th>pn_history</th>\n",
       "      <th>keywords</th>\n",
       "    </tr>\n",
       "  </thead>\n",
       "  <tbody>\n",
       "    <tr>\n",
       "      <th>0</th>\n",
       "      <td>17-year-old male, has come to the student heal...</td>\n",
       "      <td>[treatment - began 2 - 3 months ago, non - all...</td>\n",
       "    </tr>\n",
       "    <tr>\n",
       "      <th>1</th>\n",
       "      <td>17 yo male with recurrent palpitations for the...</td>\n",
       "      <td>[baskeball game two days ago light headedness,...</td>\n",
       "    </tr>\n",
       "    <tr>\n",
       "      <th>2</th>\n",
       "      <td>Dillon Cleveland is a 17 y.o. male patient wit...</td>\n",
       "      <td>[smoking ; 3 - 4 drinks, weekend per sitting ;...</td>\n",
       "    </tr>\n",
       "    <tr>\n",
       "      <th>3</th>\n",
       "      <td>a 17 yo m c/o palpitation started 3 mos ago; \\...</td>\n",
       "      <td>[nausea vomiting ; headache ; abdominal pain ;...</td>\n",
       "    </tr>\n",
       "    <tr>\n",
       "      <th>4</th>\n",
       "      <td>17yo male with no pmh here for evaluation of p...</td>\n",
       "      <td>[endorse theses attacks occuring 1 - 2 times, ...</td>\n",
       "    </tr>\n",
       "    <tr>\n",
       "      <th>...</th>\n",
       "      <td>...</td>\n",
       "      <td>...</td>\n",
       "    </tr>\n",
       "    <tr>\n",
       "      <th>42141</th>\n",
       "      <td>Ms. Madden is a 20 yo female presenting w/ the...</td>\n",
       "      <td>[dad w / hpl social alcohol use, 20 yo female ...</td>\n",
       "    </tr>\n",
       "    <tr>\n",
       "      <th>42142</th>\n",
       "      <td>A 20 YO F CAME COMPLAIN A DULL 8/10 HEADACHE T...</td>\n",
       "      <td>[ocp oby ; nmp 2wks ago menarche 14 occurs eve...</td>\n",
       "    </tr>\n",
       "    <tr>\n",
       "      <th>42143</th>\n",
       "      <td>Ms. Madden is a 20yo female who presents with ...</td>\n",
       "      <td>[smokes marijuanna 2 - 3 joints per day, uri 1...</td>\n",
       "    </tr>\n",
       "    <tr>\n",
       "      <th>42144</th>\n",
       "      <td>Stephanie madden is a 20 year old woman compla...</td>\n",
       "      <td>[marijuna 3 - 4 joints, etoh 2 - 3 drinks, 20 ...</td>\n",
       "    </tr>\n",
       "    <tr>\n",
       "      <th>42145</th>\n",
       "      <td>patient is a 20 yo F who presents with a heada...</td>\n",
       "      <td>[marijuana 3 - 4x per week last, started yeste...</td>\n",
       "    </tr>\n",
       "  </tbody>\n",
       "</table>\n",
       "<p>42146 rows × 2 columns</p>\n",
       "</div>"
      ],
      "text/plain": [
       "                                              pn_history  \\\n",
       "0      17-year-old male, has come to the student heal...   \n",
       "1      17 yo male with recurrent palpitations for the...   \n",
       "2      Dillon Cleveland is a 17 y.o. male patient wit...   \n",
       "3      a 17 yo m c/o palpitation started 3 mos ago; \\...   \n",
       "4      17yo male with no pmh here for evaluation of p...   \n",
       "...                                                  ...   \n",
       "42141  Ms. Madden is a 20 yo female presenting w/ the...   \n",
       "42142  A 20 YO F CAME COMPLAIN A DULL 8/10 HEADACHE T...   \n",
       "42143  Ms. Madden is a 20yo female who presents with ...   \n",
       "42144  Stephanie madden is a 20 year old woman compla...   \n",
       "42145  patient is a 20 yo F who presents with a heada...   \n",
       "\n",
       "                                                keywords  \n",
       "0      [treatment - began 2 - 3 months ago, non - all...  \n",
       "1      [baskeball game two days ago light headedness,...  \n",
       "2      [smoking ; 3 - 4 drinks, weekend per sitting ;...  \n",
       "3      [nausea vomiting ; headache ; abdominal pain ;...  \n",
       "4      [endorse theses attacks occuring 1 - 2 times, ...  \n",
       "...                                                  ...  \n",
       "42141  [dad w / hpl social alcohol use, 20 yo female ...  \n",
       "42142  [ocp oby ; nmp 2wks ago menarche 14 occurs eve...  \n",
       "42143  [smokes marijuanna 2 - 3 joints per day, uri 1...  \n",
       "42144  [marijuna 3 - 4 joints, etoh 2 - 3 drinks, 20 ...  \n",
       "42145  [marijuana 3 - 4x per week last, started yeste...  \n",
       "\n",
       "[42146 rows x 2 columns]"
      ]
     },
     "execution_count": 18,
     "metadata": {},
     "output_type": "execute_result"
    }
   ],
   "source": [
    "notes"
   ]
  },
  {
   "cell_type": "code",
   "execution_count": 19,
   "id": "f9573d86",
   "metadata": {
    "execution": {
     "iopub.execute_input": "2023-03-01T13:58:56.271924Z",
     "iopub.status.busy": "2023-03-01T13:58:56.271509Z",
     "iopub.status.idle": "2023-03-01T13:58:56.341778Z",
     "shell.execute_reply": "2023-03-01T13:58:56.340295Z"
    },
    "papermill": {
     "duration": 0.086222,
     "end_time": "2023-03-01T13:58:56.344934",
     "exception": false,
     "start_time": "2023-03-01T13:58:56.258712",
     "status": "completed"
    },
    "tags": []
   },
   "outputs": [],
   "source": [
    "notes.drop([\"keywords\"], axis=1, inplace=True)"
   ]
  },
  {
   "cell_type": "code",
   "execution_count": 20,
   "id": "86fa441f",
   "metadata": {
    "execution": {
     "iopub.execute_input": "2023-03-01T13:58:56.371287Z",
     "iopub.status.busy": "2023-03-01T13:58:56.370062Z",
     "iopub.status.idle": "2023-03-01T13:58:56.382742Z",
     "shell.execute_reply": "2023-03-01T13:58:56.381232Z"
    },
    "papermill": {
     "duration": 0.029489,
     "end_time": "2023-03-01T13:58:56.386058",
     "exception": false,
     "start_time": "2023-03-01T13:58:56.356569",
     "status": "completed"
    },
    "tags": []
   },
   "outputs": [
    {
     "data": {
      "text/html": [
       "<div>\n",
       "<style scoped>\n",
       "    .dataframe tbody tr th:only-of-type {\n",
       "        vertical-align: middle;\n",
       "    }\n",
       "\n",
       "    .dataframe tbody tr th {\n",
       "        vertical-align: top;\n",
       "    }\n",
       "\n",
       "    .dataframe thead th {\n",
       "        text-align: right;\n",
       "    }\n",
       "</style>\n",
       "<table border=\"1\" class=\"dataframe\">\n",
       "  <thead>\n",
       "    <tr style=\"text-align: right;\">\n",
       "      <th></th>\n",
       "      <th>pn_history</th>\n",
       "    </tr>\n",
       "  </thead>\n",
       "  <tbody>\n",
       "    <tr>\n",
       "      <th>0</th>\n",
       "      <td>17-year-old male, has come to the student heal...</td>\n",
       "    </tr>\n",
       "    <tr>\n",
       "      <th>1</th>\n",
       "      <td>17 yo male with recurrent palpitations for the...</td>\n",
       "    </tr>\n",
       "    <tr>\n",
       "      <th>2</th>\n",
       "      <td>Dillon Cleveland is a 17 y.o. male patient wit...</td>\n",
       "    </tr>\n",
       "    <tr>\n",
       "      <th>3</th>\n",
       "      <td>a 17 yo m c/o palpitation started 3 mos ago; \\...</td>\n",
       "    </tr>\n",
       "    <tr>\n",
       "      <th>4</th>\n",
       "      <td>17yo male with no pmh here for evaluation of p...</td>\n",
       "    </tr>\n",
       "    <tr>\n",
       "      <th>...</th>\n",
       "      <td>...</td>\n",
       "    </tr>\n",
       "    <tr>\n",
       "      <th>42141</th>\n",
       "      <td>Ms. Madden is a 20 yo female presenting w/ the...</td>\n",
       "    </tr>\n",
       "    <tr>\n",
       "      <th>42142</th>\n",
       "      <td>A 20 YO F CAME COMPLAIN A DULL 8/10 HEADACHE T...</td>\n",
       "    </tr>\n",
       "    <tr>\n",
       "      <th>42143</th>\n",
       "      <td>Ms. Madden is a 20yo female who presents with ...</td>\n",
       "    </tr>\n",
       "    <tr>\n",
       "      <th>42144</th>\n",
       "      <td>Stephanie madden is a 20 year old woman compla...</td>\n",
       "    </tr>\n",
       "    <tr>\n",
       "      <th>42145</th>\n",
       "      <td>patient is a 20 yo F who presents with a heada...</td>\n",
       "    </tr>\n",
       "  </tbody>\n",
       "</table>\n",
       "<p>42146 rows × 1 columns</p>\n",
       "</div>"
      ],
      "text/plain": [
       "                                              pn_history\n",
       "0      17-year-old male, has come to the student heal...\n",
       "1      17 yo male with recurrent palpitations for the...\n",
       "2      Dillon Cleveland is a 17 y.o. male patient wit...\n",
       "3      a 17 yo m c/o palpitation started 3 mos ago; \\...\n",
       "4      17yo male with no pmh here for evaluation of p...\n",
       "...                                                  ...\n",
       "42141  Ms. Madden is a 20 yo female presenting w/ the...\n",
       "42142  A 20 YO F CAME COMPLAIN A DULL 8/10 HEADACHE T...\n",
       "42143  Ms. Madden is a 20yo female who presents with ...\n",
       "42144  Stephanie madden is a 20 year old woman compla...\n",
       "42145  patient is a 20 yo F who presents with a heada...\n",
       "\n",
       "[42146 rows x 1 columns]"
      ]
     },
     "execution_count": 20,
     "metadata": {},
     "output_type": "execute_result"
    }
   ],
   "source": [
    "notes"
   ]
  },
  {
   "cell_type": "code",
   "execution_count": 21,
   "id": "9634cfbf",
   "metadata": {
    "execution": {
     "iopub.execute_input": "2023-03-01T13:58:56.411642Z",
     "iopub.status.busy": "2023-03-01T13:58:56.411241Z",
     "iopub.status.idle": "2023-03-01T13:58:56.419504Z",
     "shell.execute_reply": "2023-03-01T13:58:56.418081Z"
    },
    "papermill": {
     "duration": 0.024388,
     "end_time": "2023-03-01T13:58:56.422401",
     "exception": false,
     "start_time": "2023-03-01T13:58:56.398013",
     "status": "completed"
    },
    "tags": []
   },
   "outputs": [
    {
     "name": "stdout",
     "output_type": "stream",
     "text": [
      "42146\n"
     ]
    }
   ],
   "source": [
    "text_data = notes[\"pn_history\"].tolist()\n",
    "print(len(text_data))    "
   ]
  },
  {
   "cell_type": "code",
   "execution_count": 22,
   "id": "a2a9c65a",
   "metadata": {
    "execution": {
     "iopub.execute_input": "2023-03-01T13:58:56.450548Z",
     "iopub.status.busy": "2023-03-01T13:58:56.450105Z",
     "iopub.status.idle": "2023-03-01T13:58:56.469644Z",
     "shell.execute_reply": "2023-03-01T13:58:56.468121Z"
    },
    "papermill": {
     "duration": 0.038562,
     "end_time": "2023-03-01T13:58:56.472656",
     "exception": false,
     "start_time": "2023-03-01T13:58:56.434094",
     "status": "completed"
    },
    "tags": []
   },
   "outputs": [],
   "source": [
    "bow.fit(text_data[:50])\n",
    "bow_features = bow.transform(text_data[:50])\n",
    "bow_feature_array = bow_features.toarray()"
   ]
  },
  {
   "cell_type": "code",
   "execution_count": 23,
   "id": "bc67dcb0",
   "metadata": {
    "execution": {
     "iopub.execute_input": "2023-03-01T13:58:56.498253Z",
     "iopub.status.busy": "2023-03-01T13:58:56.497834Z",
     "iopub.status.idle": "2023-03-01T13:58:57.484556Z",
     "shell.execute_reply": "2023-03-01T13:58:57.483203Z"
    },
    "papermill": {
     "duration": 1.004506,
     "end_time": "2023-03-01T13:58:57.489071",
     "exception": false,
     "start_time": "2023-03-01T13:58:56.484565",
     "status": "completed"
    },
    "tags": []
   },
   "outputs": [
    {
     "name": "stdout",
     "output_type": "stream",
     "text": [
      "Sentence: \n",
      "17-year-old male, has come to the student health clinic complaining of heart pounding. Mr. Cleveland's mother has given verbal consent for a history, physical examination, and treatment\r\n",
      "-began 2-3 months ago,sudden,intermittent for 2 days(lasting 3-4 min),worsening,non-allev/aggrav\r\n",
      "-associated with dispnea on exersion and rest,stressed out about school\r\n",
      "-reports fe feels like his heart is jumping out of his chest\r\n",
      "-ros:denies chest pain,dyaphoresis,wt loss,chills,fever,nausea,vomiting,pedal edeam\r\n",
      "-pmh:non,meds :aderol (from a friend),nkda\r\n",
      "-fh:father had MI recently,mother has thyroid dz\r\n",
      "-sh:non-smoker,mariguana 5-6 months ago,3 beers on the weekend, basketball at school\r\n",
      "-sh:no std\n",
      "Keywords: \n",
      "['17', 'aderol', 'aggrav', 'ago', 'allev', 'associated', 'basketball', 'beers', 'began', 'chest', 'chills', 'cleveland', 'clinic', 'come', 'complaining', 'consent', 'days', 'denies', 'dispnea', 'dyaphoresis', 'dz', 'edeam', 'examination', 'exersion', 'father', 'fe', 'feels', 'fever', 'fh', 'friend', 'given', 'health', 'heart', 'history', 'intermittent', 'jumping', 'lasting', 'like', 'loss', 'male', 'mariguana', 'meds', 'mi', 'min', 'months', 'mother', 'mr', 'nausea', 'nkda', 'non', 'old', 'pain', 'pedal', 'physical', 'pmh', 'pounding', 'recently', 'reports', 'rest', 'ros', 'school', 'sh', 'smoker', 'std', 'stressed', 'student', 'sudden', 'thyroid', 'treatment', 'verbal', 'vomiting', 'weekend', 'worsening', 'wt', 'year']\n",
      "____________________________________________\n",
      "Sentence: \n",
      "17 yo male with recurrent palpitations for the past 3 mo lasting about 3 - 4 min, it happened about 5 - 6 times since the beginning. One time durign a baskeball game two days ago light headedness, pressure in the chest, catching breath, but no fainting. During teh episodes no sweating. No diarrhea, no heat intolerance, no weight loss. Has tried aterol to be able to better concentrate, has received it from his roommate. .\n",
      "Keywords: \n",
      "['17', 'able', 'ago', 'aterol', 'baskeball', 'beginning', 'better', 'breath', 'catching', 'chest', 'concentrate', 'days', 'diarrhea', 'durign', 'episodes', 'fainting', 'game', 'happened', 'headedness', 'heat', 'intolerance', 'lasting', 'light', 'loss', 'male', 'min', 'mo', 'palpitations', 'past', 'pressure', 'received', 'recurrent', 'roommate', 'sweating', 'teh', 'time', 'times', 'tried', 'weight', 'yo']\n",
      "____________________________________________\n",
      "Sentence: \n",
      "Dillon Cleveland is a 17 y.o. male patient with no significant PMH who presents with complaints of heart pounding. This has been going on for a few months and happens once or twice a month. He cannot think of any triggers, and it has occurred both with activity and at rest. Occasionally, it is accompanied by chest pressure but not pain that is located at the center of his chest. On one instance, he experienced chest pressure, lightheadedness and shortness of breath for 10 minutes with the heart pounding. \r\n",
      "\r\n",
      "Otherwise, he has not had shortness of breath, chest pain, anxiety, \r\n",
      "\r\n",
      "Medication: adderall twice a week as study aid (not prescribed)\r\n",
      "FH: mother - thyroid disease, father - heart attack at age 52, both living\r\n",
      "SH: no smoking; 3-4 drinks on the weekend per sitting; marijuanna once recently, no other recreational drugs\n",
      "Keywords: \n",
      "['10', '17', '52', 'accompanied', 'activity', 'adderall', 'age', 'aid', 'anxiety', 'attack', 'breath', 'center', 'chest', 'cleveland', 'complaints', 'dillon', 'disease', 'drinks', 'drugs', 'experienced', 'father', 'fh', 'going', 'happens', 'heart', 'instance', 'lightheadedness', 'living', 'located', 'male', 'marijuanna', 'medication', 'minutes', 'month', 'months', 'mother', 'occasionally', 'occurred', 'pain', 'patient', 'pmh', 'pounding', 'prescribed', 'presents', 'pressure', 'recently', 'recreational', 'rest', 'sh', 'shortness', 'significant', 'sitting', 'smoking', 'study', 'think', 'thyroid', 'triggers', 'twice', 'week', 'weekend']\n",
      "____________________________________________\n",
      "Sentence: \n",
      "a 17 yo m c/o palpitation started 3 mos ago; \r\n",
      "NOTHING IMPROVES OR EXACERBATES THE SYMPTOMS ACCORDING TO HIM; IT CAN HAPPEN ANY TIME; MAY TAKE A FEW MINUTES; LAST TIME HAPPENED 2 DAYS AGO DURING PLAYING A GAME AND IT WAS ASSOCIATED WITH RETROSTERNAL PRESSURE LIKE DISCOMFORT; AND HE FELT LIGHTHEADED. BUT HE DID NOT LOSE CONCIOUSNESS AND DID NOT FALL. \r\n",
      "NOT ASSOCIATED WITH NAUSEA VOMITING; HEADACHE; ABDOMINAL PAIN; CHANGES IN URINATION OR BOWEL HABITS, OR TREMOR OR SKIN OR HAIR CHANGE OR INTOLERABC\r\n",
      "\r\n",
      "PMH NONE\r\n",
      "PSHH: NONE\r\n",
      "MEDS: ADEROL TO STAY AWAKE\r\n",
      "HOSP: NONE\r\n",
      "FH: MOTHER HAS THYROID DISEASE; FATHER HAS CAD X 1 YR\r\n",
      "SH: NO SMOKING; DRINKING ON WEEKENDS CAGE 0/4; ONE TIME USE OF MARIJUANA\r\n",
      "\r\n",
      "\r\n",
      "\n",
      "Keywords: \n",
      "['17', 'abdominal', 'according', 'aderol', 'ago', 'associated', 'awake', 'bowel', 'cad', 'cage', 'change', 'changes', 'conciousness', 'days', 'did', 'discomfort', 'disease', 'drinking', 'exacerbates', 'fall', 'father', 'felt', 'fh', 'game', 'habits', 'hair', 'happen', 'happened', 'headache', 'hosp', 'improves', 'intolerabc', 'lightheaded', 'like', 'lose', 'marijuana', 'meds', 'minutes', 'mos', 'mother', 'nausea', 'pain', 'palpitation', 'playing', 'pmh', 'pressure', 'pshh', 'retrosternal', 'sh', 'skin', 'smoking', 'started', 'stay', 'symptoms', 'thyroid', 'time', 'tremor', 'urination', 'use', 'vomiting', 'weekends', 'yo', 'yr']\n",
      "____________________________________________\n",
      "Sentence: \n",
      "17yo male with no pmh here for evaluation of palpitations. States for the last 3-4mo he has felt that his heart with intermittently \"beat out of his chest,\" with some associated difficulty catching his breath. States that the most recent event was 2 days ago, and during activity at a soccer game. He does not seem to note any specific precipitatinig factors at this time. He also states that he feels as if he will faint during these events, but has not lost consciousness at any point. Furthermore, he does endorse theses attacks occuring 1-2 times a month and peak at 4 mins. He denies any stressors at home. ROS: denies weight loss, fevers, recnet illness, change in bowel habits. PMH: negative, PSH negative, FHX mom with thyroid disorder, dad with heart condition and MI at 52yo. SHX no tobacco, ETOH on weekends, Marijuana tried a month ago. Med: is taking some of roommates Adderoll intermittently (last was 2 days ago prior to event). KNDA\n",
      "Keywords: \n",
      "['17yo', '4mo', '52yo', 'activity', 'adderoll', 'ago', 'associated', 'attacks', 'beat', 'bowel', 'breath', 'catching', 'change', 'chest', 'condition', 'consciousness', 'dad', 'days', 'denies', 'difficulty', 'disorder', 'does', 'endorse', 'etoh', 'evaluation', 'event', 'events', 'factors', 'faint', 'feels', 'felt', 'fevers', 'fhx', 'furthermore', 'game', 'habits', 'heart', 'home', 'illness', 'intermittently', 'knda', 'loss', 'lost', 'male', 'marijuana', 'med', 'mi', 'mins', 'mom', 'month', 'negative', 'note', 'occuring', 'palpitations', 'peak', 'pmh', 'point', 'precipitatinig', 'prior', 'psh', 'recent', 'recnet', 'roommates', 'ros', 'shx', 'soccer', 'specific', 'states', 'stressors', 'taking', 'theses', 'thyroid', 'time', 'times', 'tobacco', 'tried', 'weekends', 'weight']\n",
      "____________________________________________\n",
      "Sentence: \n",
      "17 yo m, presenting with palpitations/increased heart rate, 5-6 episodes in the past few months, most recently 2 days ago. 2 days ago, episode was associated with chest pressure, shortness of breath, and lightheadedness.\r\n",
      "No diaphoresis, no vomiting, no tremor, no loss of consciousness\r\n",
      "No fever, no nausea or vomiting or diarrhea\r\n",
      "No rash, no change in skin colour\r\n",
      "Appetite good\r\n",
      "Denies anxiety prior to or during this episode\r\n",
      "PHx: healthy\r\n",
      "Medications: Taking friend's prescription Adderral to help study for tests (not prescribed for him); taking a few times per week - reported no temporal relation to palpitations\r\n",
      "Allergies: none\r\n",
      "Substances: no cigarettes, 3-4 beers on weekends, Adderall; no cocaine use or other substances\r\n",
      "Social history: freshman in college - reported no concerns about school\r\n",
      "Family history: father - MI at 52, mother - thyroid disease\n",
      "Keywords: \n",
      "['17', '52', 'adderall', 'adderral', 'ago', 'allergies', 'anxiety', 'appetite', 'associated', 'beers', 'breath', 'change', 'chest', 'cigarettes', 'cocaine', 'college', 'colour', 'concerns', 'consciousness', 'days', 'denies', 'diaphoresis', 'diarrhea', 'disease', 'episode', 'episodes', 'family', 'father', 'fever', 'freshman', 'friend', 'good', 'healthy', 'heart', 'help', 'history', 'increased', 'lightheadedness', 'loss', 'medications', 'mi', 'months', 'mother', 'nausea', 'palpitations', 'past', 'phx', 'prescribed', 'prescription', 'presenting', 'pressure', 'prior', 'rash', 'rate', 'recently', 'relation', 'reported', 'school', 'shortness', 'skin', 'social', 'study', 'substances', 'taking', 'temporal', 'tests', 'thyroid', 'times', 'tremor', 'use', 'vomiting', 'week', 'weekends', 'yo']\n",
      "____________________________________________\n",
      "Sentence: \n",
      "17 yo male presents with 3-4 month history of heart pounding and racing. The episodes last 3-4 minutes. He has had 5-6 total episodes. The stop on their own. Most recent episode was accompanied by chest pressure and shortness of breath, and lasted 10 minutes. He consumes 3-4 cups of coffee/night and drinks energy drinks weekly. - fever, weight loss, sleeping problems. - temperature intolerance, skin changes, bowel changes. \r\n",
      "ROS: negative except per HPI\r\n",
      "PMH: none\r\n",
      "PSH: none\r\n",
      "SH: Denies tobacco use. Has tried marijuana once, no other illicit use. Alcohol 3-4/weekend. Patient has been using roommates Adderall prescription a few times per week starting a few months ago. Last time of use was 2 days ago. Sexually active with girlfriend; uses condoms. College student studying marketing.\r\n",
      "Meds: none\r\n",
      "Allergies: none\n",
      "Keywords: \n",
      "['10', '17', 'accompanied', 'active', 'adderall', 'ago', 'alcohol', 'allergies', 'bowel', 'breath', 'changes', 'chest', 'coffee', 'college', 'condoms', 'consumes', 'cups', 'days', 'denies', 'drinks', 'energy', 'episode', 'episodes', 'fever', 'girlfriend', 'heart', 'history', 'hpi', 'illicit', 'intolerance', 'lasted', 'loss', 'male', 'marijuana', 'marketing', 'meds', 'minutes', 'month', 'months', 'negative', 'night', 'patient', 'pmh', 'pounding', 'prescription', 'presents', 'pressure', 'problems', 'psh', 'racing', 'recent', 'roommates', 'ros', 'sexually', 'sh', 'shortness', 'skin', 'sleeping', 'starting', 'stop', 'student', 'studying', 'temperature', 'time', 'times', 'tobacco', 'total', 'tried', 'use', 'uses', 'using', 'week', 'weekend', 'weekly', 'weight', 'yo']\n",
      "____________________________________________\n",
      "Sentence: \n",
      "17 yo male presents with a 2-3 month history of episodic pounding heart with increased rate. Episodes are sporadic with no association with physical activity or use of adderall. No alleviating or aggrevating factors. Denies syncope. Endorses single episode 2 days ago of increased heart rate with associated feeling of chest pressure, lightheadedness, and difficulty breathing. Episode lasted 10 minutes and required him to sit down. \r\n",
      "\r\n",
      "PMHx, PSurgHx: none\r\n",
      "FH: mother \"thyroid problems.\" Father MI at 52 yo. \r\n",
      "Meds: none\r\n",
      "Allergies: NKA\r\n",
      "SH: full time college student studying philosophy. EtOH: 3-4 beers on the weekends. Tobacco: never. Recreational drug use: routinely uses roommate Aderall for studying. Sex: girlfriend of a year, routinely uses condoms for contraception.\n",
      "Keywords: \n",
      "['10', '17', '52', 'activity', 'adderall', 'aderall', 'aggrevating', 'ago', 'allergies', 'alleviating', 'associated', 'association', 'beers', 'breathing', 'chest', 'college', 'condoms', 'contraception', 'days', 'denies', 'difficulty', 'drug', 'endorses', 'episode', 'episodes', 'episodic', 'etoh', 'factors', 'father', 'feeling', 'fh', 'girlfriend', 'heart', 'history', 'increased', 'lasted', 'lightheadedness', 'male', 'meds', 'mi', 'minutes', 'month', 'mother', 'nka', 'philosophy', 'physical', 'pmhx', 'pounding', 'presents', 'pressure', 'problems', 'psurghx', 'rate', 'recreational', 'required', 'roommate', 'routinely', 'sex', 'sh', 'single', 'sit', 'sporadic', 'student', 'studying', 'syncope', 'thyroid', 'time', 'tobacco', 'use', 'uses', 'weekends', 'year', 'yo']\n",
      "____________________________________________\n",
      "Sentence: \n",
      "HPI: 17 YO complains of intermittent heart palpitations x 2-3 months, it has ocurred 5-6 times in total, with no precipitant events, although it happened at a basketball game once. He also had associated SOB 2 days ago. He denies any cough, swelling, LOC, no dizziness, no pain, no changes in bowel habits, no abnormal sweating, no heat or cold intolerance, no weight changes, no fever, no mood changes, not stressed or anxious recently. \r\n",
      "ROS: negative except as above\r\n",
      "PMH: none, PSH: none\r\n",
      "Allergies: NKDA\r\n",
      "Medications: Adderol\r\n",
      "FH: Dad had an MI at 52 yo, mom has a thyroid problem\r\n",
      "SH: college freshman, non smoker, etOH on weekends with friends, marihuana once. Plays basketball and runs. \r\n",
      "Sexual history: sexually active with girlfriend, uses condoms for contraception. No STDs.\n",
      "Keywords: \n",
      "['17', '52', 'abnormal', 'active', 'adderol', 'ago', 'allergies', 'anxious', 'associated', 'basketball', 'bowel', 'changes', 'cold', 'college', 'complains', 'condoms', 'contraception', 'cough', 'dad', 'days', 'denies', 'dizziness', 'etoh', 'events', 'fever', 'fh', 'freshman', 'friends', 'game', 'girlfriend', 'habits', 'happened', 'heart', 'heat', 'history', 'hpi', 'intermittent', 'intolerance', 'loc', 'marihuana', 'medications', 'mi', 'mom', 'months', 'mood', 'negative', 'nkda', 'non', 'ocurred', 'pain', 'palpitations', 'plays', 'pmh', 'precipitant', 'problem', 'psh', 'recently', 'ros', 'runs', 'sexual', 'sexually', 'sh', 'smoker', 'sob', 'stds', 'stressed', 'sweating', 'swelling', 'thyroid', 'times', 'total', 'uses', 'weekends', 'weight', 'yo']\n",
      "____________________________________________\n",
      "Sentence: \n",
      "Mr. Cleveland is a 17 yo M who presents to clinic with the complaint of palpitations. Reports having 5-6 episodes of palpitations over the past 3-4 months. Palpitations usually resolve spontaneously within a few minutes. They have occurred at rest and with activity, happening at random times w/o association with a particular physical activity. The last episode of palpitations occurred 2 days ago after taking a friends adderall earlier in the day. He reports having 10 minutes of palpitations, chest pressure, SOB and presyncope before it resolved spontaneously. He reports that most episodes of palpitations occurred at times that coincide with taking adderall. Denies PMHx, medications, pshx, NKDA. FHx: father had MI at age 52; thyroid disorder in mother. Drinks socially, denies tobacco, distant h/o cannabinoid use.\n",
      "Keywords: \n",
      "['10', '17', '52', 'activity', 'adderall', 'age', 'ago', 'association', 'cannabinoid', 'chest', 'cleveland', 'clinic', 'coincide', 'complaint', 'day', 'days', 'denies', 'disorder', 'distant', 'drinks', 'earlier', 'episode', 'episodes', 'father', 'fhx', 'friends', 'happening', 'having', 'medications', 'mi', 'minutes', 'months', 'mother', 'mr', 'nkda', 'occurred', 'palpitations', 'particular', 'past', 'physical', 'pmhx', 'presents', 'pressure', 'presyncope', 'pshx', 'random', 'reports', 'resolve', 'resolved', 'rest', 'sob', 'socially', 'spontaneously', 'taking', 'thyroid', 'times', 'tobacco', 'use', 'usually', 'yo']\n",
      "____________________________________________\n",
      "Sentence: \n",
      "Mr. Cleveland is a 17 year old male with no significant PMH who presents with a two month history of palpitations. The patient reports that began experiencing palpitations/heart racing about two months ago. It is intermittent and does not have a clear cause. No denies any chest pain or diaphoresis. It happened most recently two days ago and was associated with shortness of breath. The dysnpea and palpitations resolved with stopping the activity. He denies any changes in vision or loss of consciousness. He reports that he has been taking Adderall for about a year from his friend (multiple times a week). He also drinks 3-4 cups of caffeine and energy drinks during the week. He denies any weight changes.\r\n",
      "PMH/PSH: None\r\n",
      "Medications: Adderall \r\n",
      "Family Hx: Hyperthyroidism in mother and father recently had a heart attack\r\n",
      "Social History: College student, drins 3-4 beers on the week, denies illicit or tobacco use\n",
      "Keywords: \n",
      "['17', 'activity', 'adderall', 'ago', 'associated', 'attack', 'beers', 'began', 'breath', 'caffeine', 'cause', 'changes', 'chest', 'clear', 'cleveland', 'college', 'consciousness', 'cups', 'days', 'denies', 'diaphoresis', 'does', 'drinks', 'drins', 'dysnpea', 'energy', 'experiencing', 'family', 'father', 'friend', 'happened', 'heart', 'history', 'hx', 'hyperthyroidism', 'illicit', 'intermittent', 'loss', 'male', 'medications', 'month', 'months', 'mother', 'mr', 'multiple', 'old', 'pain', 'palpitations', 'patient', 'pmh', 'presents', 'psh', 'racing', 'recently', 'reports', 'resolved', 'shortness', 'significant', 'social', 'stopping', 'student', 'taking', 'times', 'tobacco', 'use', 'vision', 'week', 'weight', 'year']\n",
      "____________________________________________\n",
      "Sentence: \n",
      "Dillon Cleveland is a 17 year old male with no signfiicant past medical history presenting today with \"heart pounding\" for the past 2-3 months. He first noticed an episode when he was sitting down and has had 5-6 over the past 3 months. In the most recent episode has felt light headed and had to sit down while playing basketball. There does not appear to be any precipating factors for there episodes, and has never lost consciousness with them. He has not had any changes in his bowel habits or sleep. No sensitivity to heat or cold. No Weight gain or loss.\r\n",
      "\r\n",
      "Medical history: None\r\n",
      "Surgical history: None\r\n",
      "Medications: Adderal (non-prescription)\r\n",
      "Allergies: NKA\r\n",
      "Family history: Father had MI 1 year ago. No history of arrythmias. Mother has a thyroid issue.\r\n",
      "SocNo alcohol or tobacco. Tried marijuana once. Drinks one cup of coffee daily. Takes 2x adderal per week for the previous 8 months.\n",
      "Keywords: \n",
      "['17', '2x', 'adderal', 'ago', 'alcohol', 'allergies', 'appear', 'arrythmias', 'basketball', 'bowel', 'changes', 'cleveland', 'coffee', 'cold', 'consciousness', 'cup', 'daily', 'dillon', 'does', 'drinks', 'episode', 'episodes', 'factors', 'family', 'father', 'felt', 'gain', 'habits', 'headed', 'heart', 'heat', 'history', 'issue', 'light', 'loss', 'lost', 'male', 'marijuana', 'medical', 'medications', 'mi', 'months', 'mother', 'nka', 'non', 'noticed', 'old', 'past', 'playing', 'pounding', 'precipating', 'prescription', 'presenting', 'previous', 'recent', 'sensitivity', 'signfiicant', 'sit', 'sitting', 'sleep', 'socno', 'surgical', 'takes', 'thyroid', 'tobacco', 'today', 'tried', 'week', 'weight', 'year']\n",
      "____________________________________________\n",
      "Sentence: \n",
      "Patient is a 17 yo male presenting to student health clinic with permission of parent complaining of episodic heart pounding. States that they started 2-3 months ago, come on suddenly, and there have been 5-6 episodes in total lasting 3-4 minutes each with no increase in the frequency. However he does state that the most recent episode 2 days ago was the worst yet. Feels well between episodes. Episodes of heart pounding, shortness of breath, chest pressure, and lightheadedness. Episodes apparently precipicated by taking Adderal occasionally from his roomate, who has it as a precription, before tests to help with studying.\r\n",
      "ROS: no nausea, no changes in bowel or bladder habits, no tingling, no numbness, no changes in vision, no fevers.\r\n",
      "PMH: none\r\n",
      "Allergies: nkda\r\n",
      "Medications: taker Adderal prescribed to roomate\r\n",
      "SH: college freshman, acknowledges stress of adjusting to college life, no smoking, social alcohol use, cannabis 1x\n"
     ]
    },
    {
     "name": "stderr",
     "output_type": "stream",
     "text": [
      "/opt/conda/lib/python3.7/site-packages/sklearn/utils/deprecation.py:87: FutureWarning: Function get_feature_names is deprecated; get_feature_names is deprecated in 1.0 and will be removed in 1.2. Please use get_feature_names_out instead.\n",
      "  warnings.warn(msg, category=FutureWarning)\n"
     ]
    },
    {
     "name": "stdout",
     "output_type": "stream",
     "text": [
      "Keywords: \n",
      "['17', '1x', 'acknowledges', 'adderal', 'adjusting', 'ago', 'alcohol', 'allergies', 'apparently', 'bladder', 'bowel', 'breath', 'cannabis', 'changes', 'chest', 'clinic', 'college', 'come', 'complaining', 'days', 'does', 'episode', 'episodes', 'episodic', 'feels', 'fevers', 'frequency', 'freshman', 'habits', 'health', 'heart', 'help', 'increase', 'lasting', 'life', 'lightheadedness', 'male', 'medications', 'minutes', 'months', 'nausea', 'nkda', 'numbness', 'occasionally', 'parent', 'patient', 'permission', 'pmh', 'pounding', 'precipicated', 'precription', 'prescribed', 'presenting', 'pressure', 'recent', 'roomate', 'ros', 'sh', 'shortness', 'smoking', 'social', 'started', 'state', 'states', 'stress', 'student', 'studying', 'suddenly', 'taker', 'taking', 'tests', 'tingling', 'total', 'use', 'vision', 'worst', 'yo']\n",
      "____________________________________________\n",
      "Sentence: \n",
      "17 yr old boy complaining of heart pounding for the last 4 months.not associated with nausea,vomiting,sweating,anxiety BUT had shortness of breath and dizzyness once and felt like he was going to pass out. Also central chest pressure during episodes. Mother has thyroid problems and dad has a heart problem which makes him nervous. medical history is negative, no surgical history,no allergies,non smoker,occasional alcohol,CAGE neg,once smoked marijuana and now uses his roommates prescription medication to help him study.  Resp- no shortness of breath or cough, GIT-appetite normal,bowel movements normal, not hot intolerant.\n",
      "Keywords: \n",
      "['17', 'alcohol', 'allergies', 'anxiety', 'appetite', 'associated', 'bowel', 'boy', 'breath', 'cage', 'central', 'chest', 'complaining', 'cough', 'dad', 'dizzyness', 'episodes', 'felt', 'git', 'going', 'heart', 'help', 'history', 'hot', 'intolerant', 'like', 'makes', 'marijuana', 'medical', 'medication', 'months', 'mother', 'movements', 'nausea', 'neg', 'negative', 'nervous', 'non', 'normal', 'occasional', 'old', 'pass', 'pounding', 'prescription', 'pressure', 'problem', 'problems', 'resp', 'roommates', 'shortness', 'smoked', 'smoker', 'study', 'surgical', 'sweating', 'thyroid', 'uses', 'vomiting', 'yr']\n",
      "____________________________________________\n",
      "Sentence: \n",
      "17 year old male with no significant PMH. Complaining of 3 months of intermittent palpitations. Episodes are random but sometime occurs during exertion, last about 3-4 minutes and go away on their own. Have ocured 5-6 times over the past 3 months. Had an episode where he felt chest pressure as well as shortness of breath. Otherwise denies any changes to his skin, hair, or weight. Denies any chest pain. Drink 3-4 cup of coffee a day. Start college recently. Has also been drinking large amount of coffee and take non prescribed stimulant medication.\r\n",
      "\r\n",
      "ROS:\r\n",
      "negative except for above\r\n",
      "\r\n",
      "PMH: N/A\r\n",
      "Surgical Hx: none\r\n",
      "Meds: take friends adderall 2-3 a week to study.\r\n",
      "All: nkda\r\n",
      "Social hx: denies tobacco use, drink alcohol on weekends, denies illicit drug use other than adderall, Occupation: full time college student, sexual hx: sexually active \r\n",
      "Family History: mom has thyroid issues, father had heart attack last year.\n",
      "Keywords: \n",
      "['17', 'active', 'adderall', 'alcohol', 'attack', 'away', 'breath', 'changes', 'chest', 'coffee', 'college', 'complaining', 'cup', 'day', 'denies', 'drink', 'drinking', 'drug', 'episode', 'episodes', 'exertion', 'family', 'father', 'felt', 'friends', 'hair', 'heart', 'history', 'hx', 'illicit', 'intermittent', 'issues', 'large', 'male', 'medication', 'meds', 'minutes', 'mom', 'months', 'negative', 'nkda', 'non', 'occupation', 'occurs', 'ocured', 'old', 'pain', 'palpitations', 'past', 'pmh', 'prescribed', 'pressure', 'random', 'recently', 'ros', 'sexual', 'sexually', 'shortness', 'significant', 'skin', 'social', 'start', 'stimulant', 'student', 'study', 'surgical', 'thyroid', 'time', 'times', 'tobacco', 'use', 'week', 'weekends', 'weight', 'year']\n",
      "____________________________________________\n",
      "Sentence: \n",
      "Mr. Cleveland is a 17 yo male who presents today for 2-3 history of heart pounding episodes. Has had 5-6 epidosdes total that last 3-4 minutes. Usually just heart pounding but most recent episode accompanied by SOB, chest pressure in center of chest, and lightheadedness. Was watching TV when last epidose happened. Random time of day. Nothing makes better or worse.\r\n",
      "PMH: healthy\r\n",
      "Medications: roommates aderol\r\n",
      "allergies: none\r\n",
      "PSH: None\r\n",
      "FH: Father living but had MI last year. Mother has not otherwise specified thyroid problem. No history of sudden cardiac death.\r\n",
      "SH: NO smoking, 3-4 beer on weekened night, occassional marajuana use, student, relationships with friends and family are goood. No streess. No anxiety. \r\n",
      "ROS: Postivie: Palpitations, SOB, chest pressure, lightheadedness with episodes\r\n",
      "Negative: headaches, vision changes, weight loss, heat intolerance, nausea vomiting, changes in bowel or bladder function, abdominal pain. \r\n",
      "\n",
      "Keywords: \n",
      "['17', 'abdominal', 'accompanied', 'aderol', 'allergies', 'anxiety', 'beer', 'better', 'bladder', 'bowel', 'cardiac', 'center', 'changes', 'chest', 'cleveland', 'day', 'death', 'epidosdes', 'epidose', 'episode', 'episodes', 'family', 'father', 'fh', 'friends', 'function', 'goood', 'happened', 'headaches', 'healthy', 'heart', 'heat', 'history', 'intolerance', 'just', 'lightheadedness', 'living', 'loss', 'makes', 'male', 'marajuana', 'medications', 'mi', 'minutes', 'mother', 'mr', 'nausea', 'negative', 'night', 'occassional', 'pain', 'palpitations', 'pmh', 'postivie', 'pounding', 'presents', 'pressure', 'problem', 'psh', 'random', 'recent', 'relationships', 'roommates', 'ros', 'sh', 'smoking', 'sob', 'specified', 'streess', 'student', 'sudden', 'thyroid', 'time', 'today', 'total', 'tv', 'use', 'usually', 'vision', 'vomiting', 'watching', 'weekened', 'weight', 'worse', 'year', 'yo']\n",
      "____________________________________________\n",
      "Sentence: \n",
      "HPI: 17yo M presents with palpitations. Patient reports 3-4 months of intermittent episodes of \"heart beating/pounding out of my chest.\" 2 days ago during a soccer game had an episode, but this time had chest pressure and felt as if he were going to pass out (did not lose conciousness). Of note patient endorses abusing adderall, primarily to study (1-3 times per week). Before recent soccer game, took adderrall night before and morning of game. Denies shortness of breath, diaphoresis, fevers, chills, headache, fatigue, changes in sleep, changes in vision/hearing, abdominal paun, changes in bowel or urinary habits. \r\n",
      "PMHx: none\r\n",
      "Rx: uses friends adderrall\r\n",
      "FHx: mom with \"thyroid disease,\" dad with recent heart attcak\r\n",
      "All: none\r\n",
      "Immunizations: up to date\r\n",
      "SHx: Freshmen in college. Endorses 3-4 drinks 3 nights / week (on weekends), denies tabacco, endorses trying marijuana. Sexually active with girlfriend x 1 year, uses condoms\n",
      "Keywords: \n",
      "['17yo', 'abdominal', 'abusing', 'active', 'adderall', 'adderrall', 'ago', 'attcak', 'beating', 'bowel', 'breath', 'changes', 'chest', 'chills', 'college', 'conciousness', 'condoms', 'dad', 'date', 'days', 'denies', 'diaphoresis', 'did', 'disease', 'drinks', 'endorses', 'episode', 'episodes', 'fatigue', 'felt', 'fevers', 'fhx', 'freshmen', 'friends', 'game', 'girlfriend', 'going', 'habits', 'headache', 'hearing', 'heart', 'hpi', 'immunizations', 'intermittent', 'lose', 'marijuana', 'mom', 'months', 'morning', 'night', 'nights', 'note', 'palpitations', 'pass', 'patient', 'paun', 'pmhx', 'pounding', 'presents', 'pressure', 'primarily', 'recent', 'reports', 'rx', 'sexually', 'shortness', 'shx', 'sleep', 'soccer', 'study', 'tabacco', 'thyroid', 'time', 'times', 'took', 'trying', 'urinary', 'uses', 'vision', 'week', 'weekends', 'year']\n",
      "____________________________________________\n",
      "Sentence: \n",
      "17 yo male presents with 2-3 months of \"pounding heart\" he states that over the past 2-3 months he has had 5-6 episodes during which his heart is beating very hard. The episodes occur randomly and resolve on their own. He denies any chest pain or radiation. 2 days ago he had a episode that was accompanied by SOB, chest pressure and light headedness. There are no aliviating or agrevating factors. He plays basketball and is a philosophy major in collgeg. He has been taking his roommates Adderal 2-3x a week for the past year and drinks coffee a few times a week. \r\n",
      "ROS- negative except above\r\n",
      "PMH-none\r\n",
      "PSH-none\r\n",
      "Meds- none \r\n",
      "Allergies-NKDA\r\n",
      "FMH- Father MI age 52, Mother unknown thyroid condition\r\n",
      "SHx- College student, sexually active with gf of 1 year uses condoms, uses roommates adderal 2-3x a week, no drug or tobacco use, drinks 2-3 beers on friday and saturday night\n",
      "Keywords: \n",
      "['17', '3x', '52', 'accompanied', 'active', 'adderal', 'age', 'ago', 'agrevating', 'aliviating', 'allergies', 'basketball', 'beating', 'beers', 'chest', 'coffee', 'college', 'collgeg', 'condition', 'condoms', 'days', 'denies', 'drinks', 'drug', 'episode', 'episodes', 'factors', 'father', 'fmh', 'friday', 'gf', 'hard', 'headedness', 'heart', 'light', 'major', 'male', 'meds', 'mi', 'months', 'mother', 'negative', 'night', 'nkda', 'occur', 'pain', 'past', 'philosophy', 'plays', 'pmh', 'pounding', 'presents', 'pressure', 'psh', 'radiation', 'randomly', 'resolve', 'roommates', 'ros', 'saturday', 'sexually', 'shx', 'sob', 'states', 'student', 'taking', 'thyroid', 'times', 'tobacco', 'unknown', 'use', 'uses', 'week', 'year', 'yo']\n",
      "____________________________________________\n",
      "Sentence: \n",
      "HPI Mr. Cleveland is a 17yo male presenting for evaluation of palpitations. He reports 2-3 months of his \"heart pounding fast.\" Episodes have occurred 6 times in the last 2-3 months, with the most recent one 2 days ago. They are sudden in onset with no predictable inciting event. They resolve spontaneously. Associated symptoms include mild mid chest pressure, lightheaded dizziness, and difficulty catching his breath. Mr. Cleveland denies any anxiety, fevers, chills, feeling of fluttering, LOC, weight loss, diaphoresis. Of note, he does report occasional caffeine and energy drink use, as well as using his friend's Adderall to study. No hx of murmur.\r\n",
      "\r\n",
      "No medical or surgical hx\r\n",
      "Medications - adderall (not prescribed)\r\n",
      "Social - no tobacco use, social alcohol use, occasional marijuana use\r\n",
      "Family hx - MI (father @ 51yo), hyperthyroid (mom), nosudden deaths\r\n",
      "Pediatric hx - born full term, spontaneous vaginal delivery without complications\n",
      "Keywords: \n",
      "['17yo', '51yo', 'adderall', 'ago', 'alcohol', 'anxiety', 'associated', 'born', 'breath', 'caffeine', 'catching', 'chest', 'chills', 'cleveland', 'complications', 'days', 'deaths', 'delivery', 'denies', 'diaphoresis', 'difficulty', 'dizziness', 'does', 'drink', 'energy', 'episodes', 'evaluation', 'event', 'family', 'fast', 'father', 'feeling', 'fevers', 'fluttering', 'friend', 'heart', 'hpi', 'hx', 'hyperthyroid', 'inciting', 'include', 'lightheaded', 'loc', 'loss', 'male', 'marijuana', 'medical', 'medications', 'mi', 'mid', 'mild', 'mom', 'months', 'mr', 'murmur', 'nosudden', 'note', 'occasional', 'occurred', 'onset', 'palpitations', 'pediatric', 'pounding', 'predictable', 'prescribed', 'presenting', 'pressure', 'recent', 'report', 'reports', 'resolve', 'social', 'spontaneous', 'spontaneously', 'study', 'sudden', 'surgical', 'symptoms', 'term', 'times', 'tobacco', 'use', 'using', 'vaginal', 'weight']\n",
      "____________________________________________\n",
      "Sentence: \n",
      "17yo M presents with heart palpitations. He has had 3-4 minute self-resolving episodes of heart pounding, feeling like his heart is beating fast and out of his chest, that occur without any discernible pattern for the past 3-4 months. This has never happened before and they have not gotten better/worse. They happen 1-2x a month. He also had an episode of heart palpitations with chest pressure in the center of the chest that did not radiate anywhere and SOB while playing soccer, and felt lightheaded but no LoC; this has never happened before. He takes his roommate's Adderall.\r\n",
      "ROS: no sweating, weight loss, diarrhea, restlessness, anxiety, bloody urine/stool, vision changes\r\n",
      "No PMH, takes his roommate's adderall a few times a week to help study\r\n",
      "FH: dad with MI at age 52, mom thyroid disease, no other heart problems\r\n",
      "SH: student, social alcohol, nonsmoker, tried marijuana once but no other drug use, sexually active, monogamous, condoms\n",
      "Keywords: \n",
      "['17yo', '2x', '52', 'active', 'adderall', 'age', 'alcohol', 'anxiety', 'beating', 'better', 'bloody', 'center', 'changes', 'chest', 'condoms', 'dad', 'diarrhea', 'did', 'discernible', 'disease', 'drug', 'episode', 'episodes', 'fast', 'feeling', 'felt', 'fh', 'gotten', 'happen', 'happened', 'heart', 'help', 'lightheaded', 'like', 'loc', 'loss', 'marijuana', 'mi', 'minute', 'mom', 'monogamous', 'month', 'months', 'nonsmoker', 'occur', 'palpitations', 'past', 'pattern', 'playing', 'pmh', 'pounding', 'presents', 'pressure', 'problems', 'radiate', 'resolving', 'restlessness', 'roommate', 'ros', 'self', 'sexually', 'sh', 'sob', 'soccer', 'social', 'stool', 'student', 'study', 'sweating', 'takes', 'thyroid', 'times', 'tried', 'urine', 'use', 'vision', 'week', 'weight', 'worse']\n",
      "____________________________________________\n",
      "Sentence: \n",
      "17 yo M presents with 3-4 months of intermittent (1-2 per month) heart palpitations. He describes the episodes as feeling like his heart is pounding out of his chest. Most episodes have occurred at rest although the latest episode occurred during a soccer game. The last episode was also associated with SOB, lightheadedness, and central chest pressure (without radiation). Notably, he does drink 3-4 cups of coffee every night and has a couple energy drinks a week. Also endorses a history of Ativan use (from friends) a few times a week. He has never lost consciousness and denies other neurological symptoms. Aslo denies fevers, chills, change in weight, cough, N/V, abd pain, constipation, diarrhea. \r\n",
      "PMHx, surgical history unremarkable. No prescription medications though does use friends' Ativan as noted above. NKDA. \r\n",
      "FHx: mother (thyrod disease), father (heart attack) \r\n",
      "Social history: Sexually active w girlfriend, uses condoms\n",
      "Keywords: \n",
      "['17', 'abd', 'active', 'aslo', 'associated', 'ativan', 'attack', 'central', 'change', 'chest', 'chills', 'coffee', 'condoms', 'consciousness', 'constipation', 'cough', 'couple', 'cups', 'denies', 'describes', 'diarrhea', 'disease', 'does', 'drink', 'drinks', 'endorses', 'energy', 'episode', 'episodes', 'father', 'feeling', 'fevers', 'fhx', 'friends', 'game', 'girlfriend', 'heart', 'history', 'intermittent', 'latest', 'lightheadedness', 'like', 'lost', 'medications', 'month', 'months', 'mother', 'neurological', 'night', 'nkda', 'notably', 'noted', 'occurred', 'pain', 'palpitations', 'pmhx', 'pounding', 'prescription', 'presents', 'pressure', 'radiation', 'rest', 'sexually', 'sob', 'soccer', 'social', 'surgical', 'symptoms', 'thyrod', 'times', 'unremarkable', 'use', 'uses', 'week', 'weight', 'yo']\n",
      "____________________________________________\n",
      "Sentence: \n",
      "17yo M presents with CC of episodes of heart palpitations that occur 1-2x/month for past 1-2 months. Episodes last 3-4 minutes each time. He usually waits for the episodes to end and there's nothing that he can think of that makes it betteror worse. Pt doesn't believe there's any precipitating events. He is a freshman in college and is doing well and denies any stressors at this time. He admits to using his roomate's adderall on a consistent basis to help him study and do his schoolwork. \r\n",
      "\r\n",
      "PMH- denies\r\n",
      "Meds- denies any other meds\r\n",
      "All- NKDA\r\n",
      "Soc- alcohol: 3-4 beers on the weekend. CAGE negative\r\n",
      "Tobacco- denies\r\n",
      "Drugs- tried marijuana a couple of times. adderall\r\n",
      "Exercise- plays soccer and works out. Usually has no problems with shortness of breath, except with this recent episode of palpitations when he felt he couldnt catch his breath.\r\n",
      "FHx- father has a heart problem; mother has thyroid problem\n",
      "Keywords: \n",
      "['17yo', '2x', 'adderall', 'admits', 'alcohol', 'basis', 'beers', 'believe', 'betteror', 'breath', 'cage', 'catch', 'cc', 'college', 'consistent', 'couple', 'denies', 'doesn', 'doing', 'drugs', 'end', 'episode', 'episodes', 'events', 'exercise', 'father', 'felt', 'fhx', 'freshman', 'heart', 'help', 'makes', 'marijuana', 'meds', 'minutes', 'month', 'months', 'mother', 'negative', 'nkda', 'occur', 'palpitations', 'past', 'plays', 'pmh', 'precipitating', 'presents', 'problem', 'problems', 'pt', 'recent', 'roomate', 'schoolwork', 'shortness', 'soc', 'soccer', 'stressors', 'study', 'think', 'thyroid', 'time', 'times', 'tobacco', 'tried', 'using', 'usually', 'waits', 'weekend', 'works', 'worse']\n",
      "____________________________________________\n",
      "Sentence: \n",
      "17-year-old male, has come to the student health clinic complaining of palpitation, intermittent.  random occured. aggrav and allev by nothing.  assoc w/ chest pressure other than chest pain.  dyspnea  started 2 days ago during episodes. no fever, fatique, weight change and anorexia, no change of bowel  urinary harbits, no cough and no wheezing. concern further episode.\r\n",
      "PMH: no similar CC. no other medical issue\r\n",
      "Med: adderal\r\n",
      "no hosp, surgrey, ni trauma and injury\r\n",
      "no smoking , recreational drug use 1 time - 1 mon ago. occasional EtOH use\r\n",
      "sex w/ GF only in past year. no STD , HIV -\r\n",
      "FH: mother - thyroid problem , father heart issue\n",
      "Keywords: \n",
      "['17', 'adderal', 'aggrav', 'ago', 'allev', 'anorexia', 'assoc', 'bowel', 'cc', 'change', 'chest', 'clinic', 'come', 'complaining', 'concern', 'cough', 'days', 'drug', 'dyspnea', 'episode', 'episodes', 'etoh', 'father', 'fatique', 'fever', 'fh', 'gf', 'harbits', 'health', 'heart', 'hiv', 'hosp', 'injury', 'intermittent', 'issue', 'male', 'med', 'medical', 'mon', 'mother', 'ni', 'occasional', 'occured', 'old', 'pain', 'palpitation', 'past', 'pmh', 'pressure', 'problem', 'random', 'recreational', 'sex', 'similar', 'smoking', 'started', 'std', 'student', 'surgrey', 'thyroid', 'time', 'trauma', 'urinary', 'use', 'weight', 'wheezing', 'year']\n",
      "____________________________________________\n",
      "Sentence: \n",
      "Mr. Cleveland is a 17yo male presenting with 2 months of episodic palpitations (has occured 5-6 times total). The most recent episode was 2 days ago while playing basketball and was associated with lightheadedness and SOB. This occurs randomly with no known precipitating factors, although he does occasionally use his roommate's adderall (timing does not correlate). The sensation occurs in the middle of his chest and nothing makes it better or worse. He has had no pre-syncope/syncope, chest pain, sweating, overnight episodes, headaches, change in bowel movements, fevers, chills, or nausea, or vomiting. \r\n",
      "\r\n",
      "FH: mother with thyroid condition, father with MI at age 52 (smoked and ate unhealthfully as well)\r\n",
      "SH: no tobacco use, drug use other than adderall and 1 time marijuana, 3-4 beers on weekend. Stressed with transition to college, but feels he is transitioning. Feels safe. On meal plan.Sex active with GF of 1 yr (+condoms)\n",
      "Keywords: \n",
      "['17yo', '52', 'active', 'adderall', 'age', 'ago', 'associated', 'ate', 'basketball', 'beers', 'better', 'bowel', 'change', 'chest', 'chills', 'cleveland', 'college', 'condition', 'condoms', 'correlate', 'days', 'does', 'drug', 'episode', 'episodes', 'episodic', 'factors', 'father', 'feels', 'fevers', 'fh', 'gf', 'headaches', 'known', 'lightheadedness', 'makes', 'male', 'marijuana', 'meal', 'mi', 'middle', 'months', 'mother', 'movements', 'mr', 'nausea', 'occasionally', 'occured', 'occurs', 'overnight', 'pain', 'palpitations', 'plan', 'playing', 'pre', 'precipitating', 'presenting', 'randomly', 'recent', 'roommate', 'safe', 'sensation', 'sex', 'sh', 'smoked', 'sob', 'stressed', 'sweating', 'syncope', 'thyroid', 'time', 'times', 'timing', 'tobacco', 'total', 'transition', 'transitioning', 'unhealthfully', 'use', 'vomiting', 'weekend', 'worse', 'yr']\n",
      "____________________________________________\n",
      "Sentence: \n",
      "17 yo M presents with heart punding for 3-4 months. it is progressive, 1-2/months and last for 3-4minutes. No aggravating or relieving factors reported. He had this episode 2 days back while playing soccer , he thought he had passed out but he remained well, it was for a few seconds, got better in its own.He felt pressure on his chest at that time and it went away as well on its own. He started new college as firt year student and he drink caffeine and energy drink as well. No Hx of LOC, dizziness, gait problems, tremors, sweating, heat intolerance, weight loss. His appetite is fine.\r\n",
      "ROS: negative as above\r\n",
      "Allergy: NKDA\r\n",
      "Meds: Pain meds\r\n",
      "PMH/PSH: non contributory\r\n",
      "Birth: normal\r\n",
      "Vaccination up to date\r\n",
      "Growth : according to age\r\n",
      "Diet : consumes vegtables and avoid junk food\r\n",
      "FH: mother has thyroid problem and father had a heart attack last year\n",
      "Keywords: \n",
      "['17', '4minutes', 'according', 'age', 'aggravating', 'allergy', 'appetite', 'attack', 'avoid', 'away', 'better', 'birth', 'caffeine', 'chest', 'college', 'consumes', 'contributory', 'date', 'days', 'diet', 'dizziness', 'drink', 'energy', 'episode', 'factors', 'father', 'felt', 'fh', 'fine', 'firt', 'food', 'gait', 'got', 'growth', 'heart', 'heat', 'hx', 'intolerance', 'junk', 'loc', 'loss', 'meds', 'months', 'mother', 'negative', 'new', 'nkda', 'non', 'normal', 'pain', 'passed', 'playing', 'pmh', 'presents', 'pressure', 'problem', 'problems', 'progressive', 'psh', 'punding', 'relieving', 'remained', 'reported', 'ros', 'seconds', 'soccer', 'started', 'student', 'sweating', 'thought', 'thyroid', 'time', 'tremors', 'vaccination', 'vegtables', 'weight', 'went', 'year', 'yo']\n",
      "____________________________________________\n",
      "Sentence: \n",
      "17-year-old male presents with palpitations. He describes them as a heart pounding which has occurred the past 2-3 months. He has had 5 discreet episodes. They last for 3-4 minutes. The rapid heart feeling goes away on its own. He does have some substernal chest discomfort episodically as well. He becomes short of breath and lightheaded during these episodes. The chest discomfort is a \"pressure.\" He doesn't give a severity pain scale. He has had 5 episodes in total. He otherwise denies any fevers, chills, cough, abdominal pain, urinary symptoms, or headaches.  \r\n",
      "ROS; Otherwise negative\r\n",
      "PMH: none\r\n",
      "Meds: Adderal from his friend. Not prescribed to him\r\n",
      "Allergies: none\r\n",
      "PSH: none\r\n",
      "FH: mother - thyroid \"issue\" ; father - MI at 52 years of age\r\n",
      "SH: Attends Fullerton college. Plays basketball there. Studying philosophy. Has a girlfriend who he is sexually active with. Last sex 1.5 weeks ago. Drinks ETOH on weekends (3-4 beers). Denies tobacco\n",
      "Keywords: \n",
      "['17', '52', 'abdominal', 'active', 'adderal', 'age', 'ago', 'allergies', 'attends', 'away', 'basketball', 'beers', 'breath', 'chest', 'chills', 'college', 'cough', 'denies', 'describes', 'discomfort', 'discreet', 'does', 'doesn', 'drinks', 'episodes', 'episodically', 'etoh', 'father', 'feeling', 'fevers', 'fh', 'friend', 'fullerton', 'girlfriend', 'goes', 'headaches', 'heart', 'issue', 'lightheaded', 'male', 'meds', 'mi', 'minutes', 'months', 'mother', 'negative', 'occurred', 'old', 'pain', 'palpitations', 'past', 'philosophy', 'plays', 'pmh', 'pounding', 'prescribed', 'presents', 'pressure', 'psh', 'rapid', 'ros', 'scale', 'severity', 'sex', 'sexually', 'sh', 'short', 'studying', 'substernal', 'symptoms', 'thyroid', 'tobacco', 'total', 'urinary', 'weekends', 'weeks', 'year', 'years']\n",
      "____________________________________________\n",
      "Sentence: \n",
      "Mr Cleveland is 17 y o male presenting with palpiations. have been ongoing on for 2-3 months, no obvious tiggers. Patient denies chest pain, loss of coscioucness, . He endorses being lightheaded when it last happened 3 days ago while playing basket ball assoicated with SOB that sopnatenosuly resolved after resting. Patient denies fever, night sweats, chills, abdominal pain, urinary/bowel habits changes, weight/appetite changes\r\n",
      "PMH:unremarakble\r\n",
      "PSH:Unremrakbale\r\n",
      "Meds:Adarol to help with studies (started in the beginning of high school), last intake 3-4 days ago\r\n",
      "SH:lives with roomate, smokes pot, non smoker, , drinks 3-4 beers on the weekend\r\n",
      "FH:pateranl MI last year, maternal thyroid disease\r\n",
      "Sexual: active with 1 girlfriend, heterosexual\n",
      "Keywords: \n",
      "['17', 'abdominal', 'active', 'adarol', 'ago', 'appetite', 'assoicated', 'ball', 'basket', 'beers', 'beginning', 'bowel', 'changes', 'chest', 'chills', 'cleveland', 'coscioucness', 'days', 'denies', 'disease', 'drinks', 'endorses', 'fever', 'fh', 'girlfriend', 'habits', 'happened', 'help', 'heterosexual', 'high', 'intake', 'lightheaded', 'lives', 'loss', 'male', 'maternal', 'meds', 'mi', 'months', 'mr', 'night', 'non', 'obvious', 'ongoing', 'pain', 'palpiations', 'pateranl', 'patient', 'playing', 'pmh', 'pot', 'presenting', 'psh', 'resolved', 'resting', 'roomate', 'school', 'sexual', 'sh', 'smoker', 'smokes', 'sob', 'sopnatenosuly', 'started', 'studies', 'sweats', 'thyroid', 'tiggers', 'unremarakble', 'unremrakbale', 'urinary', 'weekend', 'weight', 'year']\n",
      "____________________________________________\n",
      "Sentence: \n",
      "Patient is a 17 year old male who presents with 2-3 months of heart pounding. Patient started having heart racing and pounding 3 months ago, during which he felt light-headed. Episodes would occur while at rest and exercising and lasted 3-4 minutes. Recently, episoides have gotten worse and now last 10 min. Most recent episode included substernal chest-pressure and inability to catch breath. Patient denies any syncope, any radiation to arm or jaw, any impending sense of doom but worries about another other episodes occuring. Patient denies any stressors or elevated anxiety. Denies weight loss or weight gain, changes in bowel movements or urination.\r\n",
      "PMH: none, up to date on vaccines. PSH: none. Allergies: none\r\n",
      "Medications: Adderall 2-3 times per week (provided by roommate)\r\n",
      "Family Hx: dad heart attack at 52, mom thyroid issues. No arrythmias in family\r\n",
      "Social Hx: in college, drinks 3-4 drinks on the weekend, no smoking, no drugs, sexua\n",
      "Keywords: \n",
      "['10', '17', '52', 'adderall', 'ago', 'allergies', 'anxiety', 'arm', 'arrythmias', 'attack', 'bowel', 'breath', 'catch', 'changes', 'chest', 'college', 'dad', 'date', 'denies', 'doom', 'drinks', 'drugs', 'elevated', 'episode', 'episodes', 'episoides', 'exercising', 'family', 'felt', 'gain', 'gotten', 'having', 'headed', 'heart', 'hx', 'impending', 'inability', 'included', 'issues', 'jaw', 'lasted', 'light', 'loss', 'male', 'medications', 'min', 'minutes', 'mom', 'months', 'movements', 'occur', 'occuring', 'old', 'patient', 'pmh', 'pounding', 'presents', 'pressure', 'provided', 'psh', 'racing', 'radiation', 'recent', 'recently', 'rest', 'roommate', 'sense', 'sexua', 'smoking', 'social', 'started', 'stressors', 'substernal', 'syncope', 'thyroid', 'times', 'urination', 'vaccines', 'week', 'weekend', 'weight', 'worries', 'worse', 'year']\n",
      "____________________________________________\n",
      "Sentence: \n",
      "Dillon Cleveland is a 17 y/o M with a CC that his heart is \"jumping out of my chest.\" He says he is having episodic hear poinding that lasts about 5 minutes and then goes away on its own. He has been having this happen for about 2-3 months. He describes it as a chest pressure, but not pain. He has not had a feeling like this before it started. Has tried nothing to treat it. The sensation does not travel anywhere. No significant past medical history, no allergies. Does mention he takes his roomattes adderal: takes one tablet twice per week. No hx of hospitalization nor surgery. On ROS he admits to chest pressure and shortness of breath when these episodes occur. Denies headaches, chest pain, fever, chills, anxiety, depression. Denies any ilicit drug use. Has tried marijuana in the past. Admits to alcohol use of about 2-3 mixed drinks every weekend. Family history positive for mother with thyroid issue, dad had MI at age 52.\n",
      "Keywords: \n",
      "['17', '52', 'adderal', 'admits', 'age', 'alcohol', 'allergies', 'anxiety', 'away', 'breath', 'cc', 'chest', 'chills', 'cleveland', 'dad', 'denies', 'depression', 'describes', 'dillon', 'does', 'drinks', 'drug', 'episodes', 'episodic', 'family', 'feeling', 'fever', 'goes', 'happen', 'having', 'headaches', 'hear', 'heart', 'history', 'hospitalization', 'hx', 'ilicit', 'issue', 'jumping', 'lasts', 'like', 'marijuana', 'medical', 'mention', 'mi', 'minutes', 'mixed', 'months', 'mother', 'occur', 'pain', 'past', 'poinding', 'positive', 'pressure', 'roomattes', 'ros', 'says', 'sensation', 'shortness', 'significant', 'started', 'surgery', 'tablet', 'takes', 'thyroid', 'travel', 'treat', 'tried', 'twice', 'use', 'week', 'weekend']\n",
      "____________________________________________\n",
      "Sentence: \n",
      "17 Y/O M in clinic due to recurrent heart pounding that began suddenly 2 months ago. Pt recently began college and drinks 3-4 cups of coffee daily and 1-2 energy drinks daily. Last episode was 2 days ago. Pt refers sxs have occured 5-6 times, are intermittent, has no h/o similar sxs and have gotten worse. Nothing aggrav or allev sxs. A/W chest pressure like feeling and SOB. Denies extremity pain or weakness, diaphoresis, headache, dizziness LOC, vomit or nausea.\r\n",
      "ROS negative except as above\r\n",
      "PMH none, MEDS roommates adderall\r\n",
      "ALL none\r\n",
      "PSH/ HOSP/ TRAVEL/TRAUMA none\r\n",
      "FH mother has thyroid Dx\r\n",
      "SH college student, lives with roommate, sexually active with girlfriend, uses condoms, EOTH 3-4 drinks weekly, SMOKING/DRUGS none, Diet balanced\n",
      "Keywords: \n",
      "['17', 'active', 'adderall', 'aggrav', 'ago', 'allev', 'balanced', 'began', 'chest', 'clinic', 'coffee', 'college', 'condoms', 'cups', 'daily', 'days', 'denies', 'diaphoresis', 'diet', 'dizziness', 'drinks', 'drugs', 'dx', 'energy', 'eoth', 'episode', 'extremity', 'feeling', 'fh', 'girlfriend', 'gotten', 'headache', 'heart', 'hosp', 'intermittent', 'like', 'lives', 'loc', 'meds', 'months', 'mother', 'nausea', 'negative', 'occured', 'pain', 'pmh', 'pounding', 'pressure', 'psh', 'pt', 'recently', 'recurrent', 'refers', 'roommate', 'roommates', 'ros', 'sexually', 'sh', 'similar', 'smoking', 'sob', 'student', 'suddenly', 'sxs', 'thyroid', 'times', 'trauma', 'travel', 'uses', 'vomit', 'weakness', 'weekly', 'worse']\n",
      "____________________________________________\n",
      "Sentence: \n",
      "17 yo m c/o palpitations x 3 months.  Last episode 2 days ago which occurred while he was playing soccer. Pt reports feeling like he was going to lose consciousness, however he did not, no diaphoresis.  Also reports chest pressue and SOB with the episode.  No cough, nausea or vomiting. No Abd sx. No Neuro sx.  Denies fever. No changes to appetite or weight loss.  Mood and sleep are normal.  \r\n",
      "\r\n",
      "PMH: None\r\n",
      "Allergies: none\r\n",
      "Meds: Adderral (last used 2 days ago)\r\n",
      "Surgical Hx: none\r\n",
      "Fhx: Mom: Thyroid disease; Dad: MI at 50\r\n",
      "SH: girlfriend x 1 year, uses condoms. No smoking, 3-4 drinks on weekends, tried Marijuana once 2 months ago. Normal diet. Plays soccer, runner. Marketing major in college.\n",
      "Keywords: \n",
      "['17', '50', 'abd', 'adderral', 'ago', 'allergies', 'appetite', 'changes', 'chest', 'college', 'condoms', 'consciousness', 'cough', 'dad', 'days', 'denies', 'diaphoresis', 'did', 'diet', 'disease', 'drinks', 'episode', 'feeling', 'fever', 'fhx', 'girlfriend', 'going', 'hx', 'like', 'lose', 'loss', 'major', 'marijuana', 'marketing', 'meds', 'mi', 'mom', 'months', 'mood', 'nausea', 'neuro', 'normal', 'occurred', 'palpitations', 'playing', 'plays', 'pmh', 'pressue', 'pt', 'reports', 'runner', 'sh', 'sleep', 'smoking', 'sob', 'soccer', 'surgical', 'sx', 'thyroid', 'tried', 'used', 'uses', 'vomiting', 'weekends', 'weight', 'year', 'yo']\n",
      "____________________________________________\n",
      "Sentence: \n",
      "17 year old male presenting for episodes of his \"heart pounding\".  Patient reports the first episode began 2-3 months ago.  Since then he has had 5-6 episodes of his heart racing that last 3-4 minutes.  He has not found any associated triggers.  The events resolve on their own.  He has had one episode of light headiness,SOB, and pressure with the last attack.  He is adjusting to college but reports he does not feel overly stressed.  He denies any changes in vision,   He drinks socially 3-4 beers on the weekend with his friends.  Notably he has been using his roommates alderal prescription a few times a week to help him study. No increased episodes with substance use. He has tried marijuanna but denies other drug use.  \r\n",
      "\r\n",
      "ROS: As stated above\r\n",
      "PMH: None \r\n",
      "Medications: alderal - roommates a few times a week\r\n",
      "Family Hx: Father MI, 52 no family history of arrythmia or sudden cardiac death \r\n",
      "Social: As stated above\n",
      "Keywords: \n",
      "['17', '52', 'adjusting', 'ago', 'alderal', 'arrythmia', 'associated', 'attack', 'beers', 'began', 'cardiac', 'changes', 'college', 'death', 'denies', 'does', 'drinks', 'drug', 'episode', 'episodes', 'events', 'family', 'father', 'feel', 'friends', 'headiness', 'heart', 'help', 'history', 'hx', 'increased', 'light', 'male', 'marijuanna', 'medications', 'mi', 'minutes', 'months', 'notably', 'old', 'overly', 'patient', 'pmh', 'pounding', 'prescription', 'presenting', 'pressure', 'racing', 'reports', 'resolve', 'roommates', 'ros', 'sob', 'social', 'socially', 'stated', 'stressed', 'study', 'substance', 'sudden', 'times', 'tried', 'triggers', 'use', 'using', 'vision', 'week', 'weekend', 'year']\n",
      "____________________________________________\n",
      "Sentence: \n",
      "dillon cleveland is a 17 yo male presenting with episodes of heart palpitations for the past 3 months. these episodes are random and occur about once or twice per month. they have not increased in frequency or intensity. He has noticed no triggers and the episodes are self limited. he has started taking his roomate's adderall and symptoms seem to correlate with use. on one occassion he took more than usual and this precipitated palpitaitons, chest pressure, and shortness of breath\r\n",
      "he denies HA vision changes, diaphoresis, flushing, diarrhea weight loss, fever chills, LAD, abdominal pain, anciteyt \r\n",
      "PMHx no medications or allergies\r\n",
      "FHx dad had MI at 52, mom with \"some thyroid thing\"\r\n",
      "SHx adderall use 3-4 /week, 9-12 drinks per week, no tobacco use, experiments with marijuana.\n",
      "Keywords: \n",
      "['12', '17', '52', 'abdominal', 'adderall', 'allergies', 'anciteyt', 'breath', 'changes', 'chest', 'chills', 'cleveland', 'correlate', 'dad', 'denies', 'diaphoresis', 'diarrhea', 'dillon', 'drinks', 'episodes', 'experiments', 'fever', 'fhx', 'flushing', 'frequency', 'ha', 'heart', 'increased', 'intensity', 'lad', 'limited', 'loss', 'male', 'marijuana', 'medications', 'mi', 'mom', 'month', 'months', 'noticed', 'occassion', 'occur', 'pain', 'palpitaitons', 'palpitations', 'past', 'pmhx', 'precipitated', 'presenting', 'pressure', 'random', 'roomate', 'self', 'shortness', 'shx', 'started', 'symptoms', 'taking', 'thing', 'thyroid', 'tobacco', 'took', 'triggers', 'twice', 'use', 'usual', 'vision', 'week', 'weight', 'yo']\n",
      "____________________________________________\n",
      "Sentence: \n",
      "17-year-old male with 3 month history of episodes of feeling like his heart is beating out of his chest, 5 times over the past 3 months, with the most recent episode also having associated lightheadedness, chest pressure, feeling of about to faint. He denies previous chest pain, shortness of breath. These episodes are not in particularly stressful situations and he has no sense of impending doom. No headache, vision changes, fever/chills, nausea or vomiting. Does not check his BP at home.\r\n",
      "PMH: denies, previously healthy\r\n",
      "surge: denies\r\n",
      "social: never smoker or vaper, 1x marijuana use 6 months ago, never cocaine or IV drug use.\r\n",
      "Allergies: denies\r\n",
      "meds: takes friends aderol for test purposes, took one preceding recent episode but otherwise endorses not related to episodes. denies other meds at home.\n",
      "Keywords: \n",
      "['17', '1x', 'aderol', 'ago', 'allergies', 'associated', 'beating', 'bp', 'breath', 'changes', 'check', 'chest', 'chills', 'cocaine', 'denies', 'does', 'doom', 'drug', 'endorses', 'episode', 'episodes', 'faint', 'feeling', 'fever', 'friends', 'having', 'headache', 'healthy', 'heart', 'history', 'home', 'impending', 'iv', 'lightheadedness', 'like', 'male', 'marijuana', 'meds', 'month', 'months', 'nausea', 'old', 'pain', 'particularly', 'past', 'pmh', 'preceding', 'pressure', 'previous', 'previously', 'purposes', 'recent', 'related', 'sense', 'shortness', 'situations', 'smoker', 'social', 'stressful', 'surge', 'takes', 'test', 'times', 'took', 'use', 'vaper', 'vision', 'vomiting', 'year']\n",
      "____________________________________________\n",
      "Sentence: \n",
      "Dillon Cleveland is a 17yoM with a history of non-prescription adderal use who presents to the clinic with 2-3 months of heart palpitations. The palpitations started for the first time 2-3 months ago, the episodes lasted 3-4 minutes, and then resolves on their own. He described his heart as beating fast. The palpitations come and go randomly without any known provoking factors per the patient. Two days ago, he had an episode of palpitations that lasted for 10 minutes while playing basketball with associated SOB and chest pressure. Resolved after sitting down.\r\n",
      "ROS: negative other than what was stated above\r\n",
      "PMHx/PShx: none\r\n",
      "Meds: Adderall (non prescription from friend for focus in school)\r\n",
      "All: NKDA\r\n",
      "FHx: non-contributory\r\n",
      "Social Hx: Freshman in college. Takes adderall, has increased use since high school. Drinks 3-4 beers on weekends, negative CAGE, no cigarette use. 1x use of marijuana.\n",
      "Keywords: \n",
      "['10', '17yom', '1x', 'adderal', 'adderall', 'ago', 'associated', 'basketball', 'beating', 'beers', 'cage', 'chest', 'cigarette', 'cleveland', 'clinic', 'college', 'come', 'contributory', 'days', 'described', 'dillon', 'drinks', 'episode', 'episodes', 'factors', 'fast', 'fhx', 'focus', 'freshman', 'friend', 'heart', 'high', 'history', 'hx', 'increased', 'known', 'lasted', 'marijuana', 'meds', 'minutes', 'months', 'negative', 'nkda', 'non', 'palpitations', 'patient', 'playing', 'pmhx', 'prescription', 'presents', 'pressure', 'provoking', 'pshx', 'randomly', 'resolved', 'resolves', 'ros', 'school', 'sitting', 'sob', 'social', 'started', 'stated', 'takes', 'time', 'use', 'weekends']\n",
      "____________________________________________\n",
      "Sentence: \n",
      "17 y/o c/o heart pounding and beating fast. He states it began 3-4 months ago while he was sitting down, is getting worse, and occurs on and off. It last occurred 2 days ago, where he felt increased chest pressure. Each episode lasts 3-4 minutes and resolves on its own. He endorses using his roommates adderall for past 6 months a few times per week whenever he needs to study for a test. Patient counseled on prescription drug use and he agreed to stop. Denies sweating, chest pain, SOB. Denies palpitations with exertion or playing sports.\r\n",
      "ROS: as above, otherwise negative\r\n",
      "PMH: none\r\n",
      "Meds: Adderall\r\n",
      "FH: Mom has problem with thyroid. Dad had MI at 52\r\n",
      "SH: Never smoked. 3-4 beers with friends on weekends, CAGE 0/4. Used marijuana once.\r\n",
      "Psurg: None\r\n",
      "SexH: Has had one partner in past year, uses condoms every time\n",
      "Keywords: \n",
      "['17', '52', 'adderall', 'ago', 'agreed', 'beating', 'beers', 'began', 'cage', 'chest', 'condoms', 'counseled', 'dad', 'days', 'denies', 'drug', 'endorses', 'episode', 'exertion', 'fast', 'felt', 'fh', 'friends', 'getting', 'heart', 'increased', 'lasts', 'marijuana', 'meds', 'mi', 'minutes', 'mom', 'months', 'needs', 'negative', 'occurred', 'occurs', 'pain', 'palpitations', 'partner', 'past', 'patient', 'playing', 'pmh', 'pounding', 'prescription', 'pressure', 'problem', 'psurg', 'resolves', 'roommates', 'ros', 'sexh', 'sh', 'sitting', 'smoked', 'sob', 'sports', 'states', 'stop', 'study', 'sweating', 'test', 'thyroid', 'time', 'times', 'use', 'used', 'uses', 'using', 'week', 'weekends', 'worse', 'year']\n",
      "____________________________________________\n",
      "Sentence: \n",
      "17 yo M presents to the clinic with intermittent palpitations of the heart started 2/3 month ago. The patient report the palpitations last 3-4 mins and have 6 episodes in the last 2/3 months. The patient denies having simialr episodes in the past. The patient report dyspnea, drinsk 2/3 cups of coffee and energy drinks. The patient report drinking aderall from friends without presbcription. Denies, nausea, vomits, weight change, loss of appetite or chest pain. \r\n",
      "\r\n",
      "ROS: negative. \r\n",
      "ALL: none. \r\n",
      "MEDS:none\r\n",
      "PMH: none. \r\n",
      "PSH: none. \r\n",
      "SH: occasionally ETOH. Aderall used without prescription. 2-3 cups of coffee and enery drinks a day. \r\n",
      "FH: noncontributory.\n",
      "Keywords: \n",
      "['17', 'aderall', 'ago', 'appetite', 'change', 'chest', 'clinic', 'coffee', 'cups', 'day', 'denies', 'drinking', 'drinks', 'drinsk', 'dyspnea', 'energy', 'enery', 'episodes', 'etoh', 'fh', 'friends', 'having', 'heart', 'intermittent', 'loss', 'meds', 'mins', 'month', 'months', 'nausea', 'negative', 'noncontributory', 'occasionally', 'pain', 'palpitations', 'past', 'patient', 'pmh', 'presbcription', 'prescription', 'presents', 'psh', 'report', 'ros', 'sh', 'simialr', 'started', 'used', 'vomits', 'weight', 'yo']\n",
      "____________________________________________\n",
      "Sentence: \n",
      "17 year old M presents with CC of heart palpations for the past 2-3 months, but symptoms worsened in the past two days. Patient experenced chest tightness asociated with the palpations, which was uncommon for him. Also notes that he has an epidsode of lightheadness during this episode. He was playing basketball. Denies any other symptims. No sob, fever, n/v, diarrhea. \r\n",
      "\r\n",
      "ROS: negative, except as above\r\n",
      "PMH: none\r\n",
      "SOC: adderal use, occasional alcohol intact, no tabaccor or drugs\r\n",
      "FMH: mom has thyriod issues. Dad had an MI\r\n",
      "Sex: active with girlfied\n",
      "Keywords: \n",
      "['17', 'active', 'adderal', 'alcohol', 'asociated', 'basketball', 'cc', 'chest', 'dad', 'days', 'denies', 'diarrhea', 'drugs', 'epidsode', 'episode', 'experenced', 'fever', 'fmh', 'girlfied', 'heart', 'intact', 'issues', 'lightheadness', 'mi', 'mom', 'months', 'negative', 'notes', 'occasional', 'old', 'palpations', 'past', 'patient', 'playing', 'pmh', 'presents', 'ros', 'sex', 'sob', 'soc', 'symptims', 'symptoms', 'tabaccor', 'thyriod', 'tightness', 'uncommon', 'use', 'worsened', 'year']\n",
      "____________________________________________\n",
      "Sentence: \n",
      "17 y/o m with sensation of heart pounding for last 2-3 months. He had 5-6 episodes of this in last 2 months. Each episode last 4-5 minutes. No aggravating and alleviating factors. He has also noticed shortness of breath in his last episode of heart pounding 2 days ago. It went away when his heart stopped punding. He has been using adderal since highschool. One pill everyother day He denies any recent stress, tremors, sweating ,constipation, diarrhea, skin changes, chest pain,headache or hair loss. He does not notice episodes in specific location or with specific activity.\r\n",
      "ROS: negative except above\r\n",
      "Medications: none\r\n",
      "Allergies: NKA\r\n",
      "PMHx: none\r\n",
      "PSHx: none\r\n",
      "FH: heart problems in father, thyroid probles in mother.\r\n",
      "SSHx: No somking,Drinks 3-4 beers on weekend, CAGE 0/4, uses adderal every other day. Full time college student Sexually active with gf of 1 year. Uses condoms.\n",
      "Keywords: \n",
      "['17', 'active', 'activity', 'adderal', 'aggravating', 'ago', 'allergies', 'alleviating', 'away', 'beers', 'breath', 'cage', 'changes', 'chest', 'college', 'condoms', 'constipation', 'day', 'days', 'denies', 'diarrhea', 'does', 'drinks', 'episode', 'episodes', 'everyother', 'factors', 'father', 'fh', 'gf', 'hair', 'headache', 'heart', 'highschool', 'location', 'loss', 'medications', 'minutes', 'months', 'mother', 'negative', 'nka', 'notice', 'noticed', 'pain', 'pill', 'pmhx', 'pounding', 'problems', 'probles', 'pshx', 'punding', 'recent', 'ros', 'sensation', 'sexually', 'shortness', 'skin', 'somking', 'specific', 'sshx', 'stopped', 'stress', 'student', 'sweating', 'thyroid', 'time', 'tremors', 'uses', 'using', 'weekend', 'went', 'year']\n",
      "____________________________________________\n",
      "Sentence: \n",
      "CC: Heart pounding\r\n",
      "HPI: Patient is a 17-year-old male who is otherwise healthy presenting with occasional heart pounding over the past few months. He says it feels like his heart is about to jump out of his chest, typically lasting 3-4 minutes, and occurring 5-6 times in the past few months. He says the heart pounding usually goes away on its own and he hasn't found anything that makes it worse. Typically, this symptom is isolated, but the lsat time he had the heart pounding he also experienced lightheadedness and shortness of breath. Patient does not take any prescribed medications or supplements, but does admit to taking his friend's adderall a few times a week depending on his exam schedule. He does not know the dose. He says only the most recent time did he notice an association of his symptoms and recent adderall consumption. Otherwise, ROS negative and patient is healthy. \r\n",
      "\r\n",
      "Family hx: father with MI at 52; mother thyroid issue\n",
      "Keywords: \n",
      "['17', '52', 'adderall', 'admit', 'association', 'away', 'breath', 'cc', 'chest', 'consumption', 'depending', 'did', 'does', 'dose', 'exam', 'experienced', 'family', 'father', 'feels', 'friend', 'goes', 'hasn', 'healthy', 'heart', 'hpi', 'hx', 'isolated', 'issue', 'jump', 'know', 'lasting', 'lightheadedness', 'like', 'lsat', 'makes', 'male', 'medications', 'mi', 'minutes', 'months', 'mother', 'negative', 'notice', 'occasional', 'occurring', 'old', 'past', 'patient', 'pounding', 'prescribed', 'presenting', 'recent', 'ros', 'says', 'schedule', 'shortness', 'supplements', 'symptom', 'symptoms', 'taking', 'thyroid', 'time', 'times', 'typically', 'usually', 'week', 'worse', 'year']\n",
      "____________________________________________\n",
      "Sentence: \n",
      "17 Y/O M CAME TO THE CLINIC C/O HEART POUNDING. STARTED 2-3 MO AGO. IT STARTED SUDDENLY. DOES NOT RECALL ANY TRIGGERING EVENTS. IT COMES AND GOES, IT HAPPENED 5-6 TIMES SINCE IT STARTED. IT LASTS 3-4 MIN, AFTER THAN  JUST GOES AWAY. HE HAS ALSO EXPERIENCING SOB, PRESSURE ON HER CHEST WHEN HE HAS THIS ATTACK. HE IS A COLLEGE STUDENT, EXPERIENCING SOME STRESS RECENTLY. \r\n",
      "DENIES COUGH, CHEST PAIN.\r\n",
      "ROS NEG EXCEPT AS ABOVE.\r\n",
      "PMH NONE. MEDS ATEROL, FOR HIS STUDIES, SHARING W HIS ROOMMATE. NKDA.\r\n",
      "PSH/ HOSP/ TRAVEL/ TRAUMA NONE.\r\n",
      "FH MOM HAS THYROID PROBLEMS.\r\n",
      "SH SEX ACTIVE W GIRLFRIEND, NO STDS, USING CONDOMS. SMOKE NONE. ETOH ONLY WEEKENDS. DRUG ONLY ONCE, 1 MO AGO.\n",
      "Keywords: \n",
      "['17', 'active', 'ago', 'aterol', 'attack', 'away', 'came', 'chest', 'clinic', 'college', 'comes', 'condoms', 'cough', 'denies', 'does', 'drug', 'etoh', 'events', 'experiencing', 'fh', 'girlfriend', 'goes', 'happened', 'heart', 'hosp', 'just', 'lasts', 'meds', 'min', 'mo', 'mom', 'neg', 'nkda', 'pain', 'pmh', 'pounding', 'pressure', 'problems', 'psh', 'recall', 'recently', 'roommate', 'ros', 'sex', 'sh', 'sharing', 'smoke', 'sob', 'started', 'stds', 'stress', 'student', 'studies', 'suddenly', 'thyroid', 'times', 'trauma', 'travel', 'triggering', 'using', 'weekends']\n",
      "____________________________________________\n",
      "Sentence: \n",
      "- 17 y/o M presents with 3 months of intermittent palpitations\r\n",
      "- Patient has had 6 episodes of palpitations over the past 3 months that last 3-4 minutes. Not associated with chest pain\r\n",
      "- Most recently he had an episode yesterday that was associated with SOB and light headedness\r\n",
      "- Patient has been taking adderall not prescribed to him 3-4 times/ week for his studies, unclear on dosage. \r\n",
      "- Patient notes that he just started college and has been a little stressed recently\r\n",
      "- Drinks 3 or 4 cups of coffee/week\r\n",
      "No PMH, allergies, or surgeries. Patient takes adderall, but no other medications. Family hx significant for unspecified thyroid disease (mother takes medications, but unknown which ones), Father had MI last year at 52. Patient does not smoke, but drinks 3-4 beers on the weekend. Tried Marijuana once\n",
      "Keywords: \n",
      "['17', '52', 'adderall', 'allergies', 'associated', 'beers', 'chest', 'coffee', 'college', 'cups', 'disease', 'does', 'dosage', 'drinks', 'episode', 'episodes', 'family', 'father', 'headedness', 'hx', 'intermittent', 'just', 'light', 'little', 'marijuana', 'medications', 'mi', 'minutes', 'months', 'mother', 'notes', 'ones', 'pain', 'palpitations', 'past', 'patient', 'pmh', 'prescribed', 'presents', 'recently', 'significant', 'smoke', 'sob', 'started', 'stressed', 'studies', 'surgeries', 'takes', 'taking', 'thyroid', 'times', 'tried', 'unclear', 'unknown', 'unspecified', 'week', 'weekend', 'year', 'yesterday']\n",
      "____________________________________________\n",
      "Sentence: \n",
      "17 yo M c/o with 2-3 month h/o heart palpitations\r\n",
      "Experiences palpitations, sudden onset, 5-6 times over the past 2-3 months; no alleviating factors, no exacerbating factors; not related to position. During last episode pt reports feeling pressure-like chest pain; lasted 10 minutes; also experienced lightheadedness and SOB. No headache, dizziness, changes in vision. No nausea, vomiting. No urinary changes and no changes to bowel habits. Reports using roomates adderall several times, unknown dose, for studying; denies correlation to palpitations. Pt consumes only few cups of coffee/week\r\n",
      "PMH: no CVA, HTN, or DM\r\n",
      "PSH: no surgeries or hospitalizations\r\n",
      "FH: mother, 48 yo, thyroid disease; father, 52, MI last year, doing well now\r\n",
      "SH: full time student; etoh socially, 0/4 CAGE; no tobacco products; tried marijuana once; sexually active with girlfriend, uses condoms regularly; no STD hx; exercises regularly, plays basketball; good diet\n",
      "Keywords: \n",
      "['10', '17', '48', '52', 'active', 'adderall', 'alleviating', 'basketball', 'bowel', 'cage', 'changes', 'chest', 'coffee', 'condoms', 'consumes', 'correlation', 'cups', 'cva', 'denies', 'diet', 'disease', 'dizziness', 'dm', 'doing', 'dose', 'episode', 'etoh', 'exacerbating', 'exercises', 'experienced', 'experiences', 'factors', 'father', 'feeling', 'fh', 'girlfriend', 'good', 'habits', 'headache', 'heart', 'hospitalizations', 'htn', 'hx', 'lasted', 'lightheadedness', 'like', 'marijuana', 'mi', 'minutes', 'month', 'months', 'mother', 'nausea', 'onset', 'pain', 'palpitations', 'past', 'plays', 'pmh', 'position', 'pressure', 'products', 'psh', 'pt', 'regularly', 'related', 'reports', 'roomates', 'sexually', 'sh', 'sob', 'socially', 'std', 'student', 'studying', 'sudden', 'surgeries', 'thyroid', 'time', 'times', 'tobacco', 'tried', 'unknown', 'urinary', 'uses', 'using', 'vision', 'vomiting', 'week', 'year', 'yo']\n",
      "____________________________________________\n",
      "Sentence: \n",
      "17 yo M with no PMH presents to clinic with several month history of \"chest pounding.\" Patient states that for the past few months, he has been experiencing chest pounding that has occurred at random times at rest with no inciting incident. Most recent episode occured 2 days prior during a soccer game during which time patient experiencing the sensation of heart beating out of his chest with associated chest pressure and shortness of breath. Each episode lasts 3-4 minutes and resolves on its own with rest, no other alleviating/exacerbating factors. ROS otherwise negative for headaches, abdominal pain, changes in BM. No recent travel or sick contacts.\r\n",
      "\r\n",
      "FH: Father with MI at age 52. Mother with thyroid problems, unknown.\r\n",
      "SH: Patient uses Adderall several times a week from his roomates prescription to study. Has tried marijuana 1x in past. Drinks 3-4 beers/weekend.\n",
      "Keywords: \n",
      "['17', '1x', '52', 'abdominal', 'adderall', 'age', 'alleviating', 'associated', 'beating', 'beers', 'bm', 'breath', 'changes', 'chest', 'clinic', 'contacts', 'days', 'drinks', 'episode', 'exacerbating', 'experiencing', 'factors', 'father', 'fh', 'game', 'headaches', 'heart', 'history', 'incident', 'inciting', 'lasts', 'marijuana', 'mi', 'minutes', 'month', 'months', 'mother', 'negative', 'occured', 'occurred', 'pain', 'past', 'patient', 'pmh', 'pounding', 'prescription', 'presents', 'pressure', 'prior', 'problems', 'random', 'recent', 'resolves', 'rest', 'roomates', 'ros', 'sensation', 'sh', 'shortness', 'sick', 'soccer', 'states', 'study', 'thyroid', 'time', 'times', 'travel', 'tried', 'unknown', 'uses', 'week', 'weekend', 'yo']\n",
      "____________________________________________\n",
      "Sentence: \n",
      "Mr. Cleveland is a 17yo young man with no PMH who presents with 3-4 months of heart palpitations. He describes the events as lasting a few minutes, occurring spontaneously with no trigger, feeling like his heart is \"beating out of his chest,\" no significant pain, no sweating, and typically no SOB. The most recent episode 2d ago lasted 10min and was with SOB and chest pain. Episodes do not occur at night. He hasn't been taking medication for the episodes. Fully vaccinated\r\n",
      "PMH: none\r\n",
      "PSH: none\r\n",
      "Meds: Adderall 4-5x/week\r\n",
      "Allergies: none\r\n",
      "Social: Lives in dorms, in first year of college, likes hanging out with friends, sexually active with girlfriend, uses condoms, no cigarettes, no other drugs (tried marijuana once), drinks alcohol 12 drinks/week, coffee 3-4x/night, energy drinks 1-2/wk. No SI, feels safe, PHQ2-\r\n",
      "Fam Hx: Father with MI @age 52, mother w/ thyroid disease\r\n",
      "RoS: no nausea, vomiting, headache, diarrhea, constipation, wt loss\n",
      "Keywords: \n",
      "['10min', '12', '17yo', '2d', '4x', '52', '5x', 'active', 'adderall', 'age', 'ago', 'alcohol', 'allergies', 'beating', 'chest', 'cigarettes', 'cleveland', 'coffee', 'college', 'condoms', 'constipation', 'describes', 'diarrhea', 'disease', 'dorms', 'drinks', 'drugs', 'energy', 'episode', 'episodes', 'events', 'fam', 'father', 'feeling', 'feels', 'friends', 'fully', 'girlfriend', 'hanging', 'hasn', 'headache', 'heart', 'hx', 'lasted', 'lasting', 'like', 'likes', 'lives', 'loss', 'man', 'marijuana', 'medication', 'meds', 'mi', 'minutes', 'months', 'mother', 'mr', 'nausea', 'night', 'occur', 'occurring', 'pain', 'palpitations', 'phq2', 'pmh', 'presents', 'psh', 'recent', 'ros', 'safe', 'sexually', 'si', 'significant', 'sob', 'social', 'spontaneously', 'sweating', 'taking', 'thyroid', 'tried', 'trigger', 'typically', 'uses', 'vaccinated', 'vomiting', 'week', 'wk', 'wt', 'year', 'young']\n",
      "____________________________________________\n",
      "Sentence: \n",
      "Mr. Cleveland is a 17yo M who was consented by parents to be alone today and provide information.  He has no notable PMH and presented today with palpitations that have been occurring sporadically for 2-3 months.  He started college 7-8 months ago and described feelings of nervousness and anxiousness with starting school and exams.  He endorses using his roommates prescription adderall to study for tests and this coincides with the palpitations at times.  Nothing makes his palpitations worse or better when they occur.  ROS is negative except for light headedness and SOB.  He has not had any cold/heat intolerance, diarrhea, changes in voiding habits, or weight loss.  Worried about being able to play basketball.\r\n",
      "\r\n",
      "Meds:  Adderall from his roommate\r\n",
      "PMH:  none\r\n",
      "PSH:  none\r\n",
      "All:  NKDA\r\n",
      "Family:  mom: thyroid issues, father: heart attack\r\n",
      "social:  no tob, occ EtOH, no illicits\r\n",
      "sex:  with gf, use condoms\r\n",
      "diet:  good\r\n",
      "exercise:  basketball\n",
      "Keywords: \n",
      "['17yo', 'able', 'adderall', 'ago', 'anxiousness', 'attack', 'basketball', 'better', 'changes', 'cleveland', 'coincides', 'cold', 'college', 'condoms', 'consented', 'described', 'diarrhea', 'diet', 'endorses', 'etoh', 'exams', 'exercise', 'family', 'father', 'feelings', 'gf', 'good', 'habits', 'headedness', 'heart', 'heat', 'illicits', 'information', 'intolerance', 'issues', 'light', 'loss', 'makes', 'meds', 'mom', 'months', 'mr', 'negative', 'nervousness', 'nkda', 'notable', 'occ', 'occur', 'occurring', 'palpitations', 'parents', 'play', 'pmh', 'prescription', 'presented', 'provide', 'psh', 'roommate', 'roommates', 'ros', 'school', 'sex', 'sob', 'social', 'sporadically', 'started', 'starting', 'study', 'tests', 'thyroid', 'times', 'tob', 'today', 'use', 'using', 'voiding', 'weight', 'worried', 'worse']\n",
      "____________________________________________\n",
      "Sentence: \n",
      "17 YO M C/O POUNDING IN CHEST FOR 3 MONTHS,INTERMITTENT,NO AGGRAVTING AND ALLEVIATING FACTOR,5-6 EPISODES,EACH EPISODE LAST FOR 2-3 MINUTES. LAST EPISODE 2 DAYS BACK WHILE PLAYING BASKETBALL,LASTED 10 MIN, ASSOCIATED WITH SOB AND PRESSURE LIKE SENSATION ON THE CENTRAL CHEST. HE DENIES ANY SWEATING,CHOKING SENSATION, FEVER,NAUSEA,VOMITING CHANGE IN BOWEL/BLADDER/SLEEP/APPETITE, RESENT STRESS FOR 7 -8 MONTHS, DRINK FEQ OF CAFFINEATE BEVERAGES\r\n",
      "ROS: NEG EXCEPT ABOVE\r\n",
      "PMH/PSH/MEDS: ADDERALL FOR 7-8 MONTHS,2 TIMES A WEEK.\r\n",
      "NKDA\r\n",
      "FH: FATHER DIED OF HEART ATTACK\r\n",
      "SSH: MONOGAMOUS,3-4 DRINKS IN A WEEK, TRIED MARIJUNA 1 TIME.\n",
      "Keywords: \n",
      "['10', '17', 'adderall', 'aggravting', 'alleviating', 'appetite', 'associated', 'attack', 'basketball', 'beverages', 'bladder', 'bowel', 'caffineate', 'central', 'change', 'chest', 'choking', 'days', 'denies', 'died', 'drink', 'drinks', 'episode', 'episodes', 'factor', 'father', 'feq', 'fever', 'fh', 'heart', 'intermittent', 'lasted', 'like', 'marijuna', 'meds', 'min', 'minutes', 'monogamous', 'months', 'nausea', 'neg', 'nkda', 'playing', 'pmh', 'pounding', 'pressure', 'psh', 'resent', 'ros', 'sensation', 'sleep', 'sob', 'ssh', 'stress', 'sweating', 'time', 'times', 'tried', 'vomiting', 'week', 'yo']\n",
      "____________________________________________\n",
      "Sentence: \n",
      "17 yo M with no pmh presenting with intermittent \"heart pounding\" for the past few months. Denies identifying any triggers. The most recent time, it was associated with shortness of breath, substernal chest pain, and feeling as if he was going to pass out. He has no history of palpitations occuring. He is unsure of anything that makes it worse or better. Denies any vision changes or headaches. Denies any feelings of anxiety or stress. He will occasionally take adderall to help him study but is unsure of any temporal association with his symptoms. No chest pain or shortness of breath with exertion. \r\n",
      "\r\n",
      "pmh: No previous conditions. No prescribed or OTC medications. No known drug allergies. No previous hospitalizations or surgeries. \r\n",
      "FH: Mother has thyroid disease. Father had an MI at age 52\r\n",
      "SH: Freshmen at college, majoring in marketing. Report occasional cannabis use. Denies ever smoking. Drinks 3-4 beers a night on the weekends. \r\n",
      "\n",
      "Keywords: \n",
      "['17', '52', 'adderall', 'age', 'allergies', 'anxiety', 'associated', 'association', 'beers', 'better', 'breath', 'cannabis', 'changes', 'chest', 'college', 'conditions', 'denies', 'disease', 'drinks', 'drug', 'exertion', 'father', 'feeling', 'feelings', 'fh', 'freshmen', 'going', 'headaches', 'heart', 'help', 'history', 'hospitalizations', 'identifying', 'intermittent', 'known', 'majoring', 'makes', 'marketing', 'medications', 'mi', 'months', 'mother', 'night', 'occasional', 'occasionally', 'occuring', 'otc', 'pain', 'palpitations', 'pass', 'past', 'pmh', 'pounding', 'prescribed', 'presenting', 'previous', 'recent', 'report', 'sh', 'shortness', 'smoking', 'stress', 'study', 'substernal', 'surgeries', 'symptoms', 'temporal', 'thyroid', 'time', 'triggers', 'unsure', 'use', 'vision', 'weekends', 'worse', 'yo']\n",
      "____________________________________________\n",
      "Sentence: \n",
      "Dillon is a 17yo male coming into clinic for palpitations, and a recent episode of chest pressure and shortness of breath. For the last 3-4 months he has had what he calls \"random\" episodes of his heart racing and feeling like it's going to jump out of his chest. He denies any chest pain, but does note that 2 days ago during a soccer match he felt chest pressure and shortness of breath along with the palpitations. He describes the sensation in the middle of his chest, and it is not associated with anything. It stops on its own. He has no other symptoms and has never experienced this before. \r\n",
      "ROS: Negative except as above\r\n",
      "PMH: None\r\n",
      "PSH: none\r\n",
      "Medications: Dillon recreationally uses his roommates adderall. \r\n",
      "Allergies: NKDA\r\n",
      "SH: no tobacco,  only occasionally drinks ETOH (- CAGE x4). No illicit drug use except adderall. He is a freshman in college and plays soccer recreationally\r\n",
      "FH: Dad: Heart attack at 53. Mom: hyperthyroidism\n",
      "Keywords: \n",
      "['17yo', '53', 'adderall', 'ago', 'allergies', 'associated', 'attack', 'breath', 'cage', 'calls', 'chest', 'clinic', 'college', 'coming', 'dad', 'days', 'denies', 'describes', 'dillon', 'does', 'drinks', 'drug', 'episode', 'episodes', 'etoh', 'experienced', 'feeling', 'felt', 'fh', 'freshman', 'going', 'heart', 'hyperthyroidism', 'illicit', 'jump', 'like', 'male', 'match', 'medications', 'middle', 'mom', 'months', 'negative', 'nkda', 'note', 'occasionally', 'pain', 'palpitations', 'plays', 'pmh', 'pressure', 'psh', 'racing', 'random', 'recent', 'recreationally', 'roommates', 'ros', 'sensation', 'sh', 'shortness', 'soccer', 'stops', 'symptoms', 'tobacco', 'use', 'uses', 'x4']\n",
      "____________________________________________\n",
      "Sentence: \n",
      "17yo male, appears well nourished, calm, relaxed. In today d/t palpations occurring for 3-4 months day or night, last episode 2 d ago with SOB. Patient started college about 5 months ago. States he is adjusting to dorm and classes with no problems. Drinks 3-4 beers on weekends. Disclosed he has been sharing roomate's adderall to study for exams. 2-3 times per week. Discussed advisability of switching to coffee, as Sx concerning and father had MI last year at age 52 with an unspecified heart condition. Mother has thyroid problem. Discussed bloodwork for thyroid, 12 lead EKG today to rule out arrhythmias, patient agrees. Denies any other symptoms. No significant PMH.\n",
      "Keywords: \n",
      "['12', '17yo', '52', 'adderall', 'adjusting', 'advisability', 'age', 'ago', 'agrees', 'appears', 'arrhythmias', 'beers', 'bloodwork', 'calm', 'classes', 'coffee', 'college', 'concerning', 'condition', 'day', 'denies', 'disclosed', 'discussed', 'dorm', 'drinks', 'ekg', 'episode', 'exams', 'father', 'heart', 'lead', 'male', 'mi', 'months', 'mother', 'night', 'nourished', 'occurring', 'palpations', 'patient', 'pmh', 'problem', 'problems', 'relaxed', 'roomate', 'rule', 'sharing', 'significant', 'sob', 'started', 'states', 'study', 'switching', 'sx', 'symptoms', 'thyroid', 'times', 'today', 'unspecified', 'week', 'weekends', 'year']\n",
      "____________________________________________\n"
     ]
    }
   ],
   "source": [
    "for sentence, feature in zip(text_data, bow_feature_array):\n",
    "    print(\"Sentence: \")\n",
    "    print(sentence)\n",
    "    #print(feature)\n",
    "    lst = []\n",
    "    for index, element in enumerate(feature.tolist()):\n",
    "        if element > 0:\n",
    "            lst.append(bow.get_feature_names()[index])\n",
    "    print(\"Keywords: \")\n",
    "    print(lst)\n",
    "    print(\"____________________________________________\")"
   ]
  },
  {
   "cell_type": "markdown",
   "id": "c659dbae",
   "metadata": {
    "papermill": {
     "duration": 0.013804,
     "end_time": "2023-03-01T13:58:57.517610",
     "exception": false,
     "start_time": "2023-03-01T13:58:57.503806",
     "status": "completed"
    },
    "tags": []
   },
   "source": [
    "# Uisng TF-IDF"
   ]
  },
  {
   "cell_type": "code",
   "execution_count": 24,
   "id": "ab88615d",
   "metadata": {
    "execution": {
     "iopub.execute_input": "2023-03-01T13:58:57.550435Z",
     "iopub.status.busy": "2023-03-01T13:58:57.549999Z",
     "iopub.status.idle": "2023-03-01T13:58:57.556653Z",
     "shell.execute_reply": "2023-03-01T13:58:57.554617Z"
    },
    "papermill": {
     "duration": 0.026414,
     "end_time": "2023-03-01T13:58:57.559960",
     "exception": false,
     "start_time": "2023-03-01T13:58:57.533546",
     "status": "completed"
    },
    "tags": []
   },
   "outputs": [],
   "source": [
    "from sklearn.feature_extraction.text import TfidfVectorizer\n",
    "tfidf = TfidfVectorizer(stop_words='english')"
   ]
  },
  {
   "cell_type": "code",
   "execution_count": 25,
   "id": "632fb5f3",
   "metadata": {
    "execution": {
     "iopub.execute_input": "2023-03-01T13:58:57.591094Z",
     "iopub.status.busy": "2023-03-01T13:58:57.589788Z",
     "iopub.status.idle": "2023-03-01T13:58:57.597886Z",
     "shell.execute_reply": "2023-03-01T13:58:57.596049Z"
    },
    "papermill": {
     "duration": 0.026799,
     "end_time": "2023-03-01T13:58:57.601109",
     "exception": false,
     "start_time": "2023-03-01T13:58:57.574310",
     "status": "completed"
    },
    "tags": []
   },
   "outputs": [],
   "source": [
    "text_data = ['I am interested in NLP', 'This is a good tutorial with good topic', 'Feature extraction is very important topic']"
   ]
  },
  {
   "cell_type": "code",
   "execution_count": 26,
   "id": "a622219c",
   "metadata": {
    "execution": {
     "iopub.execute_input": "2023-03-01T13:58:57.631667Z",
     "iopub.status.busy": "2023-03-01T13:58:57.631262Z",
     "iopub.status.idle": "2023-03-01T13:58:57.644577Z",
     "shell.execute_reply": "2023-03-01T13:58:57.643048Z"
    },
    "papermill": {
     "duration": 0.032352,
     "end_time": "2023-03-01T13:58:57.647278",
     "exception": false,
     "start_time": "2023-03-01T13:58:57.614926",
     "status": "completed"
    },
    "tags": []
   },
   "outputs": [
    {
     "data": {
      "text/plain": [
       "{'interested': 4,\n",
       " 'nlp': 5,\n",
       " 'good': 2,\n",
       " 'tutorial': 7,\n",
       " 'topic': 6,\n",
       " 'feature': 1,\n",
       " 'extraction': 0,\n",
       " 'important': 3}"
      ]
     },
     "execution_count": 26,
     "metadata": {},
     "output_type": "execute_result"
    }
   ],
   "source": [
    "tfidf.fit(text_data)\n",
    "tfidf.vocabulary_"
   ]
  },
  {
   "cell_type": "code",
   "execution_count": 27,
   "id": "88480e5e",
   "metadata": {
    "execution": {
     "iopub.execute_input": "2023-03-01T13:58:57.677167Z",
     "iopub.status.busy": "2023-03-01T13:58:57.676701Z",
     "iopub.status.idle": "2023-03-01T13:58:57.686689Z",
     "shell.execute_reply": "2023-03-01T13:58:57.685043Z"
    },
    "papermill": {
     "duration": 0.027839,
     "end_time": "2023-03-01T13:58:57.689193",
     "exception": false,
     "start_time": "2023-03-01T13:58:57.661354",
     "status": "completed"
    },
    "tags": []
   },
   "outputs": [
    {
     "data": {
      "text/plain": [
       "{4: 'interested',\n",
       " 5: 'nlp',\n",
       " 2: 'good',\n",
       " 7: 'tutorial',\n",
       " 6: 'topic',\n",
       " 1: 'feature',\n",
       " 0: 'extraction',\n",
       " 3: 'important'}"
      ]
     },
     "execution_count": 27,
     "metadata": {},
     "output_type": "execute_result"
    }
   ],
   "source": [
    "tfidf_inverse_dict = {v: k for k, v in tfidf.vocabulary_.items()}\n",
    "tfidf_inverse_dict"
   ]
  },
  {
   "cell_type": "code",
   "execution_count": 28,
   "id": "d387527b",
   "metadata": {
    "execution": {
     "iopub.execute_input": "2023-03-01T13:58:57.718815Z",
     "iopub.status.busy": "2023-03-01T13:58:57.718391Z",
     "iopub.status.idle": "2023-03-01T13:58:57.729129Z",
     "shell.execute_reply": "2023-03-01T13:58:57.727702Z"
    },
    "papermill": {
     "duration": 0.02873,
     "end_time": "2023-03-01T13:58:57.731702",
     "exception": false,
     "start_time": "2023-03-01T13:58:57.702972",
     "status": "completed"
    },
    "tags": []
   },
   "outputs": [
    {
     "data": {
      "text/plain": [
       "<3x8 sparse matrix of type '<class 'numpy.float64'>'\n",
       "\twith 9 stored elements in Compressed Sparse Row format>"
      ]
     },
     "execution_count": 28,
     "metadata": {},
     "output_type": "execute_result"
    }
   ],
   "source": [
    "tfidf_features = tfidf.transform(text_data)\n",
    "tfidf_features"
   ]
  },
  {
   "cell_type": "code",
   "execution_count": 29,
   "id": "0226f78e",
   "metadata": {
    "execution": {
     "iopub.execute_input": "2023-03-01T13:58:57.763487Z",
     "iopub.status.busy": "2023-03-01T13:58:57.762718Z",
     "iopub.status.idle": "2023-03-01T13:58:57.770155Z",
     "shell.execute_reply": "2023-03-01T13:58:57.769077Z"
    },
    "papermill": {
     "duration": 0.025822,
     "end_time": "2023-03-01T13:58:57.772710",
     "exception": false,
     "start_time": "2023-03-01T13:58:57.746888",
     "status": "completed"
    },
    "tags": []
   },
   "outputs": [
    {
     "data": {
      "text/plain": [
       "array([[0.        , 0.        , 0.        , 0.        , 0.70710678,\n",
       "        0.70710678, 0.        , 0.        ],\n",
       "       [0.        , 0.        , 0.84678897, 0.        , 0.        ,\n",
       "        0.        , 0.32200242, 0.42339448],\n",
       "       [0.52863461, 0.52863461, 0.        , 0.52863461, 0.        ,\n",
       "        0.        , 0.40204024, 0.        ]])"
      ]
     },
     "execution_count": 29,
     "metadata": {},
     "output_type": "execute_result"
    }
   ],
   "source": [
    "tfidf_feature_array = tfidf_features.toarray()\n",
    "tfidf_feature_array"
   ]
  },
  {
   "cell_type": "code",
   "execution_count": 30,
   "id": "b4febe35",
   "metadata": {
    "execution": {
     "iopub.execute_input": "2023-03-01T13:58:57.804450Z",
     "iopub.status.busy": "2023-03-01T13:58:57.803725Z",
     "iopub.status.idle": "2023-03-01T13:58:57.810490Z",
     "shell.execute_reply": "2023-03-01T13:58:57.809040Z"
    },
    "papermill": {
     "duration": 0.026569,
     "end_time": "2023-03-01T13:58:57.813254",
     "exception": false,
     "start_time": "2023-03-01T13:58:57.786685",
     "status": "completed"
    },
    "tags": []
   },
   "outputs": [
    {
     "name": "stdout",
     "output_type": "stream",
     "text": [
      "I am interested in NLP\n",
      "[0.         0.         0.         0.         0.70710678 0.70710678\n",
      " 0.         0.        ]\n",
      "This is a good tutorial with good topic\n",
      "[0.         0.         0.84678897 0.         0.         0.\n",
      " 0.32200242 0.42339448]\n",
      "Feature extraction is very important topic\n",
      "[0.52863461 0.52863461 0.         0.52863461 0.         0.\n",
      " 0.40204024 0.        ]\n"
     ]
    }
   ],
   "source": [
    "for sentence, feature in zip(text_data, tfidf_feature_array):\n",
    "    print(sentence)\n",
    "    print(feature)"
   ]
  },
  {
   "cell_type": "code",
   "execution_count": 31,
   "id": "c324d710",
   "metadata": {
    "execution": {
     "iopub.execute_input": "2023-03-01T13:58:57.843970Z",
     "iopub.status.busy": "2023-03-01T13:58:57.843523Z",
     "iopub.status.idle": "2023-03-01T13:58:57.851646Z",
     "shell.execute_reply": "2023-03-01T13:58:57.850015Z"
    },
    "papermill": {
     "duration": 0.027915,
     "end_time": "2023-03-01T13:58:57.855667",
     "exception": false,
     "start_time": "2023-03-01T13:58:57.827752",
     "status": "completed"
    },
    "tags": []
   },
   "outputs": [
    {
     "name": "stdout",
     "output_type": "stream",
     "text": [
      "Sentence: \n",
      "I am interested in NLP\n",
      "Keywords: \n",
      "['interested', 'nlp']\n",
      "____________________________________________\n",
      "Sentence: \n",
      "This is a good tutorial with good topic\n",
      "Keywords: \n",
      "['good', 'topic', 'tutorial']\n",
      "____________________________________________\n",
      "Sentence: \n",
      "Feature extraction is very important topic\n",
      "Keywords: \n",
      "['extraction', 'feature', 'important', 'topic']\n",
      "____________________________________________\n"
     ]
    }
   ],
   "source": [
    "for sentence, keywords in zip(text_data, tfidf_feature_array):\n",
    "    print(\"Sentence: \")\n",
    "    print(sentence)\n",
    "    #print(feature)\n",
    "    lst = []\n",
    "    for index, element in enumerate(keywords.tolist()):\n",
    "        if element > 0:\n",
    "            #print(index)\n",
    "            lst.append(tfidf_inverse_dict[index])\n",
    "    print(\"Keywords: \")\n",
    "    print(lst)\n",
    "    print(\"____________________________________________\")"
   ]
  },
  {
   "cell_type": "code",
   "execution_count": null,
   "id": "479dbe57",
   "metadata": {
    "papermill": {
     "duration": 0.013954,
     "end_time": "2023-03-01T13:58:57.886921",
     "exception": false,
     "start_time": "2023-03-01T13:58:57.872967",
     "status": "completed"
    },
    "tags": []
   },
   "outputs": [],
   "source": []
  }
 ],
 "metadata": {
  "kernelspec": {
   "display_name": "Python 3",
   "language": "python",
   "name": "python3"
  },
  "language_info": {
   "codemirror_mode": {
    "name": "ipython",
    "version": 3
   },
   "file_extension": ".py",
   "mimetype": "text/x-python",
   "name": "python",
   "nbconvert_exporter": "python",
   "pygments_lexer": "ipython3",
   "version": "3.7.12"
  },
  "papermill": {
   "default_parameters": {},
   "duration": 137.171663,
   "end_time": "2023-03-01T13:58:58.827265",
   "environment_variables": {},
   "exception": null,
   "input_path": "__notebook__.ipynb",
   "output_path": "__notebook__.ipynb",
   "parameters": {},
   "start_time": "2023-03-01T13:56:41.655602",
   "version": "2.4.0"
  }
 },
 "nbformat": 4,
 "nbformat_minor": 5
}
