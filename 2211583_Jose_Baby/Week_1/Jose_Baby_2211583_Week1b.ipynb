{
  "cells": [
    {
      "cell_type": "markdown",
      "id": "774271b8",
      "metadata": {
        "papermill": {
          "duration": 0.009773,
          "end_time": "2021-09-24T15:20:00.046022",
          "exception": false,
          "start_time": "2021-09-24T15:20:00.036249",
          "status": "completed"
        },
        "tags": [],
        "id": "774271b8"
      },
      "source": [
        "# VotingClassifier with only one CatBoost model\n",
        "\n"
      ]
    },
    {
      "cell_type": "markdown",
      "source": [
        "## Importing the required Libraries"
      ],
      "metadata": {
        "id": "sjXaSSazIKcg"
      },
      "id": "sjXaSSazIKcg"
    },
    {
      "cell_type": "code",
      "execution_count": null,
      "id": "eda18a8b",
      "metadata": {
        "_cell_guid": "b1076dfc-b9ad-4769-8c92-a6c4dae69d19",
        "_kg_hide-input": true,
        "_uuid": "8f2839f25d086af736a60e9eeb907d3b93b6e0e5",
        "execution": {
          "iopub.execute_input": "2021-09-24T15:19:59.886229Z",
          "iopub.status.busy": "2021-09-24T15:19:59.884740Z",
          "iopub.status.idle": "2021-09-24T15:20:00.024865Z",
          "shell.execute_reply": "2021-09-24T15:20:00.025276Z",
          "shell.execute_reply.started": "2021-09-24T15:03:50.597301Z"
        },
        "papermill": {
          "duration": 0.155348,
          "end_time": "2021-09-24T15:20:00.025514",
          "exception": false,
          "start_time": "2021-09-24T15:19:59.870166",
          "status": "completed"
        },
        "tags": [],
        "id": "eda18a8b",
        "outputId": "99c1af7e-3aa0-478c-b8ab-196bd84db5be"
      },
      "outputs": [
        {
          "data": {
            "text/html": [
              "<style type='text/css'>\n",
              ".datatable table.frame { margin-bottom: 0; }\n",
              ".datatable table.frame thead { border-bottom: none; }\n",
              ".datatable table.frame tr.coltypes td {  color: #FFFFFF;  line-height: 6px;  padding: 0 0.5em;}\n",
              ".datatable .bool    { background: #DDDD99; }\n",
              ".datatable .object  { background: #565656; }\n",
              ".datatable .int     { background: #5D9E5D; }\n",
              ".datatable .float   { background: #4040CC; }\n",
              ".datatable .str     { background: #CC4040; }\n",
              ".datatable .time    { background: #40CC40; }\n",
              ".datatable .row_index {  background: var(--jp-border-color3);  border-right: 1px solid var(--jp-border-color0);  color: var(--jp-ui-font-color3);  font-size: 9px;}\n",
              ".datatable .frame tbody td { text-align: left; }\n",
              ".datatable .frame tr.coltypes .row_index {  background: var(--jp-border-color0);}\n",
              ".datatable th:nth-child(2) { padding-left: 12px; }\n",
              ".datatable .hellipsis {  color: var(--jp-cell-editor-border-color);}\n",
              ".datatable .vellipsis {  background: var(--jp-layout-color0);  color: var(--jp-cell-editor-border-color);}\n",
              ".datatable .na {  color: var(--jp-cell-editor-border-color);  font-size: 80%;}\n",
              ".datatable .sp {  opacity: 0.25;}\n",
              ".datatable .footer { font-size: 9px; }\n",
              ".datatable .frame_dimensions {  background: var(--jp-border-color3);  border-top: 1px solid var(--jp-border-color0);  color: var(--jp-ui-font-color3);  display: inline-block;  opacity: 0.6;  padding: 1px 10px 1px 5px;}\n",
              "</style>\n"
            ],
            "text/plain": [
              "<IPython.core.display.HTML object>"
            ]
          },
          "metadata": {},
          "output_type": "display_data"
        }
      ],
      "source": [
        "import numpy as np # linear algebra\n",
        "import pandas as pd # data processing, CSV file I/O (e.g. pd.read_csv)\n",
        "import datatable as dt\n",
        "\n",
        "import os"
      ]
    },
    {
      "cell_type": "code",
      "execution_count": null,
      "id": "ece8795b",
      "metadata": {
        "_kg_hide-input": true,
        "execution": {
          "iopub.execute_input": "2021-09-24T15:20:00.071716Z",
          "iopub.status.busy": "2021-09-24T15:20:00.071005Z",
          "iopub.status.idle": "2021-09-24T15:20:01.100181Z",
          "shell.execute_reply": "2021-09-24T15:20:01.099635Z",
          "shell.execute_reply.started": "2021-09-24T15:03:50.739614Z"
        },
        "papermill": {
          "duration": 1.044255,
          "end_time": "2021-09-24T15:20:01.100318",
          "exception": false,
          "start_time": "2021-09-24T15:20:00.056063",
          "status": "completed"
        },
        "tags": [],
        "id": "ece8795b"
      },
      "outputs": [],
      "source": [
        "import copy\n",
        "import time\n",
        "import random\n",
        "\n",
        "import warnings\n",
        "\n",
        "from sklearn.preprocessing import RobustScaler    # FOr scaling the data\n",
        "\n",
        "from catboost import CatBoostClassifier           # Model for classification\n",
        "\n",
        "from sklearn.ensemble import VotingClassifier     # combine conceptually different machine learning classifiers and use a majority vote or the\n",
        "                                                  # average predicted probabilities (soft vote) to predict the class labels.\n",
        "\n",
        "warnings.filterwarnings('ignore')\n",
        "pd.set_option('display.max_columns', None)\n",
        "pd.set_option('display.max_rows', None)\n",
        "\n",
        "def ht(df, n=2):\n",
        "    display(df.head(n))\n",
        "    display(df.tail(n))\n",
        "    display(df.shape)\n",
        "    \n",
        "target = 'claim'"
      ]
    },
    {
      "cell_type": "code",
      "execution_count": null,
      "id": "d72fa97a",
      "metadata": {
        "execution": {
          "iopub.execute_input": "2021-09-24T15:20:01.151248Z",
          "iopub.status.busy": "2021-09-24T15:20:01.150627Z",
          "iopub.status.idle": "2021-09-24T15:20:42.472442Z",
          "shell.execute_reply": "2021-09-24T15:20:42.471931Z",
          "shell.execute_reply.started": "2021-09-24T15:03:51.656409Z"
        },
        "papermill": {
          "duration": 41.335327,
          "end_time": "2021-09-24T15:20:42.472597",
          "exception": false,
          "start_time": "2021-09-24T15:20:01.137270",
          "status": "completed"
        },
        "tags": [],
        "id": "d72fa97a"
      },
      "outputs": [],
      "source": [
        "# Importing the data\n",
        "train = pd.read_csv('train.csv')\n",
        "test = pd.read_csv('test.csv')"
      ]
    },
    {
      "cell_type": "markdown",
      "source": [
        "## Dividing the data as Independent and dependent variables"
      ],
      "metadata": {
        "id": "foyUgHQRISjZ"
      },
      "id": "foyUgHQRISjZ"
    },
    {
      "cell_type": "code",
      "execution_count": null,
      "id": "6fd354e7",
      "metadata": {
        "execution": {
          "iopub.execute_input": "2021-09-24T15:20:42.502037Z",
          "iopub.status.busy": "2021-09-24T15:20:42.501434Z",
          "iopub.status.idle": "2021-09-24T15:20:42.507580Z",
          "shell.execute_reply": "2021-09-24T15:20:42.507152Z",
          "shell.execute_reply.started": "2021-09-24T15:04:32.192906Z"
        },
        "papermill": {
          "duration": 0.024377,
          "end_time": "2021-09-24T15:20:42.507694",
          "exception": false,
          "start_time": "2021-09-24T15:20:42.483317",
          "status": "completed"
        },
        "tags": [],
        "id": "6fd354e7"
      },
      "outputs": [],
      "source": [
        "y = train[target].copy()\n",
        "features = train.columns.tolist()\n",
        "features.remove('id')\n",
        "features.remove(target)"
      ]
    },
    {
      "cell_type": "markdown",
      "id": "88c13715",
      "metadata": {
        "papermill": {
          "duration": 0.009731,
          "end_time": "2021-09-24T15:20:42.527468",
          "exception": false,
          "start_time": "2021-09-24T15:20:42.517737",
          "status": "completed"
        },
        "tags": [],
        "id": "88c13715"
      },
      "source": [
        "## Preprocessing"
      ]
    },
    {
      "cell_type": "code",
      "execution_count": null,
      "id": "993180ee",
      "metadata": {
        "execution": {
          "iopub.execute_input": "2021-09-24T15:20:42.817933Z",
          "iopub.status.busy": "2021-09-24T15:20:42.816953Z",
          "iopub.status.idle": "2021-09-24T15:21:35.113062Z",
          "shell.execute_reply": "2021-09-24T15:21:35.113530Z",
          "shell.execute_reply.started": "2021-09-24T15:04:32.206459Z"
        },
        "papermill": {
          "duration": 52.575994,
          "end_time": "2021-09-24T15:21:35.113694",
          "exception": false,
          "start_time": "2021-09-24T15:20:42.537700",
          "status": "completed"
        },
        "tags": [],
        "id": "993180ee",
        "outputId": "435f186a-dfc9-40c8-e460-6ad6f9415250"
      },
      "outputs": [
        {
          "data": {
            "text/plain": [
              "((957919, 122), (493474, 121))"
            ]
          },
          "execution_count": 6,
          "metadata": {},
          "output_type": "execute_result"
        }
      ],
      "source": [
        "train['n_missing'] = train[features].isna().sum(axis=1)\n",
        "test['n_missing'] = test[features].isna().sum(axis=1)\n",
        "\n",
        "train['std'] = train[features].std(axis=1)\n",
        "test['std'] = test[features].std(axis=1)\n",
        "\n",
        "n_missing = train['n_missing'].copy()\n",
        "\n",
        "train[features] = train[features].fillna(train[features].mean())\n",
        "test[features] = test[features].fillna(test[features].mean())\n",
        "\n",
        "features += ['n_missing', 'std']\n",
        "\n",
        "scaler = RobustScaler()\n",
        "train[features] = scaler.fit_transform(train[features])\n",
        "test[features] = scaler.transform(test[features])\n",
        "\n",
        "train.shape, test.shape"
      ]
    },
    {
      "cell_type": "markdown",
      "source": [
        "## Creating the classifiers"
      ],
      "metadata": {
        "id": "tSD3SVc0Ksvq"
      },
      "id": "tSD3SVc0Ksvq"
    },
    {
      "cell_type": "code",
      "execution_count": null,
      "id": "0b2c5a14",
      "metadata": {
        "execution": {
          "iopub.execute_input": "2021-09-24T15:21:35.161518Z",
          "iopub.status.busy": "2021-09-24T15:21:35.159962Z",
          "iopub.status.idle": "2021-09-24T15:21:35.162172Z",
          "shell.execute_reply": "2021-09-24T15:21:35.162563Z",
          "shell.execute_reply.started": "2021-09-24T15:05:25.477784Z"
        },
        "papermill": {
          "duration": 0.017892,
          "end_time": "2021-09-24T15:21:35.162678",
          "exception": false,
          "start_time": "2021-09-24T15:21:35.144786",
          "status": "completed"
        },
        "tags": [],
        "id": "0b2c5a14"
      },
      "outputs": [],
      "source": [
        "catb_params = {\n",
        "'eval_metric' : 'AUC',\n",
        "'iterations': 15585,\n",
        "'objective': 'CrossEntropy',\n",
        "'bootstrap_type': 'Bernoulli',\n",
        "'od_wait': 1144,\n",
        "'learning_rate': 0.023575206684596582,\n",
        "'reg_lambda': 36.30433203563295,\n",
        "'random_strength': 43.75597655616195,\n",
        "'depth': 7,\n",
        "'min_data_in_leaf': 11,\n",
        "'leaf_estimation_iterations': 1,\n",
        "'subsample': 0.8227911142845009,\n",
        "'devices' : '0',\n",
        "'verbose' : 0\n",
        "}"
      ]
    },
    {
      "cell_type": "code",
      "execution_count": null,
      "id": "ed26245d",
      "metadata": {
        "execution": {
          "iopub.execute_input": "2021-09-24T15:21:35.194259Z",
          "iopub.status.busy": "2021-09-24T15:21:35.193583Z",
          "iopub.status.idle": "2021-09-24T15:21:35.196508Z",
          "shell.execute_reply": "2021-09-24T15:21:35.196982Z",
          "shell.execute_reply.started": "2021-09-24T15:05:25.484424Z"
        },
        "papermill": {
          "duration": 0.024314,
          "end_time": "2021-09-24T15:21:35.197105",
          "exception": false,
          "start_time": "2021-09-24T15:21:35.172791",
          "status": "completed"
        },
        "tags": [],
        "id": "ed26245d"
      },
      "outputs": [],
      "source": [
        "cat_clf0 = CatBoostClassifier(**catb_params, random_state=17)\n",
        "cat_clf1 = CatBoostClassifier(**catb_params, random_state=43)\n",
        "cat_clf2 = CatBoostClassifier(**catb_params, random_state=2021)\n",
        "cat_clf3 = CatBoostClassifier(**catb_params, random_state=31)\n",
        "cat_clf4 = CatBoostClassifier(**catb_params, random_state=19)\n",
        "cat_clf5 = CatBoostClassifier(**catb_params, random_state=77)\n",
        "cat_clf6 = CatBoostClassifier(**catb_params, random_state=177)\n",
        "\n",
        "cat_clf7 = CatBoostClassifier(**catb_params, random_state=200)\n",
        "cat_clf8 = CatBoostClassifier(**catb_params, random_state=205)\n",
        "cat_clf9 = CatBoostClassifier(**catb_params, random_state=210)\n",
        "cat_clf10 = CatBoostClassifier(**catb_params, random_state=215)\n",
        "cat_clf11 = CatBoostClassifier(**catb_params, random_state=220)\n",
        "cat_clf12 = CatBoostClassifier(**catb_params, random_state=555)\n",
        "cat_clf13 = CatBoostClassifier(**catb_params, random_state=998)"
      ]
    },
    {
      "cell_type": "code",
      "execution_count": null,
      "id": "703688ee",
      "metadata": {
        "execution": {
          "iopub.execute_input": "2021-09-24T15:21:35.228119Z",
          "iopub.status.busy": "2021-09-24T15:21:35.225390Z",
          "iopub.status.idle": "2021-09-24T16:32:24.922390Z",
          "shell.execute_reply": "2021-09-24T16:32:24.922811Z",
          "shell.execute_reply.started": "2021-09-24T15:05:25.498369Z"
        },
        "papermill": {
          "duration": 4249.715686,
          "end_time": "2021-09-24T16:32:24.923001",
          "exception": false,
          "start_time": "2021-09-24T15:21:35.207315",
          "status": "completed"
        },
        "tags": [],
        "id": "703688ee",
        "outputId": "e36b1308-f991-46a4-d965-ab6950cf4cb9"
      },
      "outputs": [
        {
          "name": "stdout",
          "output_type": "stream",
          "text": [
            "(957919, 121) (493474, 121)\n",
            "fitting ...\n",
            "[Voting] .................... (1 of 14) Processing cat0, total= 5.9min\n",
            "[Voting] .................... (2 of 14) Processing cat1, total= 4.9min\n",
            "[Voting] .................... (3 of 14) Processing cat2, total= 4.8min\n",
            "[Voting] .................... (4 of 14) Processing cat3, total= 4.9min\n",
            "[Voting] .................... (5 of 14) Processing cat4, total= 4.9min\n",
            "[Voting] .................... (6 of 14) Processing cat5, total= 4.8min\n",
            "[Voting] .................... (7 of 14) Processing cat6, total= 4.8min\n",
            "[Voting] .................... (8 of 14) Processing cat7, total= 4.9min\n",
            "[Voting] .................... (9 of 14) Processing cat8, total= 4.8min\n",
            "[Voting] ................... (10 of 14) Processing cat9, total= 4.8min\n",
            "[Voting] .................. (11 of 14) Processing cat10, total= 4.9min\n",
            "[Voting] .................. (12 of 14) Processing cat11, total= 4.9min\n",
            "[Voting] .................. (13 of 14) Processing cat12, total= 4.9min\n",
            "[Voting] .................. (14 of 14) Processing cat13, total= 4.9min\n",
            "predicting ...\n",
            "elapsed time: 4249.67sec\n",
            "\n"
          ]
        }
      ],
      "source": [
        "if 'claim' in train.columns.tolist():\n",
        "    y = train.pop('claim')\n",
        "print(train.shape, test.shape)    \n",
        "\n",
        "estimators=[('cat0', cat_clf0), \n",
        "            ('cat1', cat_clf1), \n",
        "            ('cat2', cat_clf2), \n",
        "            ('cat3', cat_clf3), \n",
        "            ('cat4', cat_clf4), \n",
        "            ('cat5', cat_clf5),\n",
        "            ('cat6', cat_clf6), \n",
        "            ('cat7', cat_clf7), \n",
        "            ('cat8', cat_clf8), \n",
        "            ('cat9', cat_clf9), \n",
        "            ('cat10', cat_clf10), \n",
        "            ('cat11', cat_clf11), \n",
        "            ('cat12', cat_clf12),\n",
        "            ('cat13', cat_clf13), \n",
        "           ]\n",
        "\n",
        "start = time.time()\n",
        "print(f'fitting ...')\n",
        "model = VotingClassifier(estimators=estimators, voting='soft', verbose=True)\n",
        "model.fit(train, y)\n",
        "\n",
        "print('predicting ...')\n",
        "model_pred = model.predict_proba(test)[:, -1]\n",
        "\n",
        "elapsed = time.time() - start\n",
        "print(f'elapsed time: {elapsed:.2f}sec\\n')"
      ]
    },
    {
      "cell_type": "code",
      "execution_count": null,
      "id": "b655f2da",
      "metadata": {
        "execution": {
          "iopub.execute_input": "2021-09-24T16:32:24.956130Z",
          "iopub.status.busy": "2021-09-24T16:32:24.954614Z",
          "iopub.status.idle": "2021-09-24T16:32:26.709446Z",
          "shell.execute_reply": "2021-09-24T16:32:26.708991Z",
          "shell.execute_reply.started": "2021-09-24T15:18:54.372760Z"
        },
        "papermill": {
          "duration": 1.772214,
          "end_time": "2021-09-24T16:32:26.709575",
          "exception": false,
          "start_time": "2021-09-24T16:32:24.937361",
          "status": "completed"
        },
        "tags": [],
        "id": "b655f2da",
        "outputId": "e2c73e29-8931-4b08-8dc6-c9e6499f3aa2"
      },
      "outputs": [
        {
          "data": {
            "text/html": [
              "<div>\n",
              "<style scoped>\n",
              "    .dataframe tbody tr th:only-of-type {\n",
              "        vertical-align: middle;\n",
              "    }\n",
              "\n",
              "    .dataframe tbody tr th {\n",
              "        vertical-align: top;\n",
              "    }\n",
              "\n",
              "    .dataframe thead th {\n",
              "        text-align: right;\n",
              "    }\n",
              "</style>\n",
              "<table border=\"1\" class=\"dataframe\">\n",
              "  <thead>\n",
              "    <tr style=\"text-align: right;\">\n",
              "      <th></th>\n",
              "      <th>id</th>\n",
              "      <th>claim</th>\n",
              "    </tr>\n",
              "  </thead>\n",
              "  <tbody>\n",
              "    <tr>\n",
              "      <th>0</th>\n",
              "      <td>957919</td>\n",
              "      <td>0.549421</td>\n",
              "    </tr>\n",
              "    <tr>\n",
              "      <th>1</th>\n",
              "      <td>957920</td>\n",
              "      <td>0.123483</td>\n",
              "    </tr>\n",
              "  </tbody>\n",
              "</table>\n",
              "</div>"
            ],
            "text/plain": [
              "       id     claim\n",
              "0  957919  0.549421\n",
              "1  957920  0.123483"
            ]
          },
          "metadata": {},
          "output_type": "display_data"
        },
        {
          "data": {
            "text/html": [
              "<div>\n",
              "<style scoped>\n",
              "    .dataframe tbody tr th:only-of-type {\n",
              "        vertical-align: middle;\n",
              "    }\n",
              "\n",
              "    .dataframe tbody tr th {\n",
              "        vertical-align: top;\n",
              "    }\n",
              "\n",
              "    .dataframe thead th {\n",
              "        text-align: right;\n",
              "    }\n",
              "</style>\n",
              "<table border=\"1\" class=\"dataframe\">\n",
              "  <thead>\n",
              "    <tr style=\"text-align: right;\">\n",
              "      <th></th>\n",
              "      <th>id</th>\n",
              "      <th>claim</th>\n",
              "    </tr>\n",
              "  </thead>\n",
              "  <tbody>\n",
              "    <tr>\n",
              "      <th>493472</th>\n",
              "      <td>1451391</td>\n",
              "      <td>0.126697</td>\n",
              "    </tr>\n",
              "    <tr>\n",
              "      <th>493473</th>\n",
              "      <td>1451392</td>\n",
              "      <td>0.783256</td>\n",
              "    </tr>\n",
              "  </tbody>\n",
              "</table>\n",
              "</div>"
            ],
            "text/plain": [
              "             id     claim\n",
              "493472  1451391  0.126697\n",
              "493473  1451392  0.783256"
            ]
          },
          "metadata": {},
          "output_type": "display_data"
        },
        {
          "data": {
            "text/plain": [
              "(493474, 2)"
            ]
          },
          "metadata": {},
          "output_type": "display_data"
        },
        {
          "name": "stdout",
          "output_type": "stream",
          "text": [
            "\n",
            "==================== R E A D Y ====================\n"
          ]
        }
      ],
      "source": [
        "sample_solution = pd.read_csv('sample_solution.csv')\n",
        "sample_solution[target] = model_pred\n",
        "ht(sample_solution)\n",
        "sample_solution.to_csv('submission.csv', index=False)\n",
        "print()\n",
        "print('==================== R E A D Y ====================')"
      ]
    }
  ],
  "metadata": {
    "kernelspec": {
      "display_name": "Python 3",
      "language": "python",
      "name": "python3"
    },
    "language_info": {
      "codemirror_mode": {
        "name": "ipython",
        "version": 3
      },
      "file_extension": ".py",
      "mimetype": "text/x-python",
      "name": "python",
      "nbconvert_exporter": "python",
      "pygments_lexer": "ipython3",
      "version": "3.7.10"
    },
    "papermill": {
      "default_parameters": {},
      "duration": 4353.684794,
      "end_time": "2021-09-24T16:32:27.396338",
      "environment_variables": {},
      "exception": null,
      "input_path": "__notebook__.ipynb",
      "output_path": "__notebook__.ipynb",
      "parameters": {},
      "start_time": "2021-09-24T15:19:53.711544",
      "version": "2.3.3"
    },
    "colab": {
      "provenance": []
    }
  },
  "nbformat": 4,
  "nbformat_minor": 5
}