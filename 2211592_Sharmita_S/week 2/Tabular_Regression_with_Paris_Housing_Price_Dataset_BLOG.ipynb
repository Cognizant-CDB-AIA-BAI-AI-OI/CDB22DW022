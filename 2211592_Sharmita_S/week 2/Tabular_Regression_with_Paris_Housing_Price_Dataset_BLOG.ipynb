{
 "cells": [
  {
   "cell_type": "markdown",
   "id": "a8b28568",
   "metadata": {},
   "source": [
    "# 1. IMPORTING NECESSARY LIBRARIES:"
   ]
  },
  {
   "cell_type": "code",
   "execution_count": 3,
   "id": "aebcbd97",
   "metadata": {},
   "outputs": [
    {
     "name": "stderr",
     "output_type": "stream",
     "text": [
      "C:\\ProgramData\\Anaconda3\\lib\\site-packages\\tensorflow_addons\\utils\\tfa_eol_msg.py:23: UserWarning: \n",
      "\n",
      "TensorFlow Addons (TFA) has ended development and introduction of new features.\n",
      "TFA has entered a minimal maintenance and release mode until a planned end of life in May 2024.\n",
      "Please modify downstream libraries to take dependencies from other repositories in our TensorFlow community (e.g. Keras, Keras-CV, and Keras-NLP). \n",
      "\n",
      "For more information see: https://github.com/tensorflow/addons/issues/2807 \n",
      "\n",
      "  warnings.warn(\n",
      "C:\\Users\\2211592\\AppData\\Local\\Temp\\1\\ipykernel_13884\\3242579606.py:70: DeprecationWarning: `import kerastuner` is deprecated, please use `import keras_tuner`.\n",
      "  from kerastuner.tuners import RandomSearch, Hyperband, BayesianOptimization\n"
     ]
    }
   ],
   "source": [
    "import pandas as pd \n",
    "import numpy as np\n",
    "import base64\n",
    "import seaborn as sns\n",
    "import matplotlib.pyplot as plt\n",
    "import os\n",
    "import random\n",
    "import gc\n",
    "import optuna\n",
    "\n",
    "from sklearn.impute import SimpleImputer\n",
    "from sklearn.preprocessing import OneHotEncoder\n",
    "from sklearn.preprocessing import OrdinalEncoder\n",
    "from sklearn.preprocessing import LabelEncoder\n",
    "from sklearn.preprocessing import StandardScaler\n",
    "from sklearn.utils import shuffle\n",
    "from sklearn.utils import class_weight\n",
    "from sklearn.model_selection import train_test_split\n",
    "from mlxtend.preprocessing import minmax_scaling\n",
    "from sklearn.metrics import log_loss\n",
    "from sklearn.metrics import accuracy_score\n",
    "from sklearn.metrics import mean_absolute_error\n",
    "from sklearn.metrics import roc_curve\n",
    "from sklearn.metrics import roc_auc_score\n",
    "from imblearn.over_sampling import SMOTE\n",
    "from scipy import stats\n",
    "from scipy.stats import skew\n",
    "from scipy.signal import argrelmin\n",
    "from sklearn.ensemble import(RandomForestClassifier, RandomForestRegressor, AdaBoostClassifier, AdaBoostRegressor,\n",
    "                            GradientBoostingClassifier, GradientBoostingRegressor,\n",
    "                            ExtraTreesClassifier, ExtraTreesRegressor, VotingClassifier)\n",
    "from sklearn.discriminant_analysis import LinearDiscriminantAnalysis\n",
    "from sklearn.svm import SVC\n",
    "from sklearn.svm import SVR\n",
    "from sklearn import datasets, linear_model\n",
    "from sklearn.linear_model import LogisticRegression\n",
    "from sklearn.linear_model import LinearRegression\n",
    "from sklearn.linear_model import LassoCV\n",
    "from sklearn.neighbors import KNeighborsClassifier\n",
    "from sklearn.neighbors import KNeighborsRegressor\n",
    "from sklearn.tree import DecisionTreeClassifier\n",
    "from sklearn.neural_network import MLPClassifier\n",
    "from catboost import CatBoostRegressor\n",
    "from catboost import CatBoostClassifier\n",
    "import lightgbm as lgb\n",
    "from sklearn.model_selection import cross_val_score\n",
    "from sklearn.model_selection import StratifiedKFold\n",
    "from sklearn.model_selection import RepeatedStratifiedKFold\n",
    "from sklearn.model_selection import RepeatedKFold\n",
    "from sklearn.model_selection import GroupKFold\n",
    "from sklearn.model_selection import KFold\n",
    "from sklearn.cluster import KMeans\n",
    "\n",
    "pd.set_option('display.max_columns', None)\n",
    "\n",
    "import eli5\n",
    "from eli5.sklearn import PermutationImportance\n",
    "import time\n",
    "\n",
    "import tensorflow as tf\n",
    "from tensorflow import keras\n",
    "from tensorflow.keras import layers\n",
    "from tensorflow.keras.datasets import fashion_mnist\n",
    "from tensorflow.keras.models import Sequential\n",
    "from tensorflow.keras import layers\n",
    "from tensorflow.keras.layers import Dense,BatchNormalization,Dropout\n",
    "from tensorflow.keras import utils\n",
    "import tensorflow_addons as tfa\n",
    "import keras_tuner\n",
    "from kerastuner.tuners import RandomSearch, Hyperband, BayesianOptimization\n",
    "from kerastuner import HyperParameters, Objective\n",
    "\n",
    "import warnings"
   ]
  },
  {
   "cell_type": "markdown",
   "id": "8dd85c14",
   "metadata": {},
   "source": [
    "# 2. LOADING DATASETS AND SETTING UP TOOLS:"
   ]
  },
  {
   "cell_type": "code",
   "execution_count": 4,
   "id": "b34da93d",
   "metadata": {},
   "outputs": [],
   "source": [
    "#loading the Test and the Train dataset\n",
    "\n",
    "test = pd.read_csv('test.csv')\n",
    "test.drop('id', axis = 1, inplace = True)\n",
    "test['adv_val'] = 0\n",
    "\n",
    "train = pd.read_csv('train.csv')\n",
    "train.drop('id', axis = 1, inplace = True)\n",
    "train['adv_val'] = 1\n",
    "\n",
    "original = pd.read_csv('ParisHousing.csv')\n",
    "original['adv_val'] =  2\n",
    "\n",
    "sample = pd.read_csv('sample.csv')"
   ]
  },
  {
   "cell_type": "code",
   "execution_count": 5,
   "id": "dcc85171",
   "metadata": {
    "scrolled": false
   },
   "outputs": [
    {
     "name": "stdout",
     "output_type": "stream",
     "text": [
      "These are the first 5 row of our dataset\n"
     ]
    },
    {
     "data": {
      "text/html": [
       "<div>\n",
       "<style scoped>\n",
       "    .dataframe tbody tr th:only-of-type {\n",
       "        vertical-align: middle;\n",
       "    }\n",
       "\n",
       "    .dataframe tbody tr th {\n",
       "        vertical-align: top;\n",
       "    }\n",
       "\n",
       "    .dataframe thead th {\n",
       "        text-align: right;\n",
       "    }\n",
       "</style>\n",
       "<table border=\"1\" class=\"dataframe\">\n",
       "  <thead>\n",
       "    <tr style=\"text-align: right;\">\n",
       "      <th></th>\n",
       "      <th>squareMeters</th>\n",
       "      <th>numberOfRooms</th>\n",
       "      <th>hasYard</th>\n",
       "      <th>hasPool</th>\n",
       "      <th>floors</th>\n",
       "      <th>cityCode</th>\n",
       "      <th>cityPartRange</th>\n",
       "      <th>numPrevOwners</th>\n",
       "      <th>made</th>\n",
       "      <th>isNewBuilt</th>\n",
       "      <th>hasStormProtector</th>\n",
       "      <th>basement</th>\n",
       "      <th>attic</th>\n",
       "      <th>garage</th>\n",
       "      <th>hasStorageRoom</th>\n",
       "      <th>hasGuestRoom</th>\n",
       "      <th>price</th>\n",
       "      <th>adv_val</th>\n",
       "    </tr>\n",
       "  </thead>\n",
       "  <tbody>\n",
       "    <tr>\n",
       "      <th>0</th>\n",
       "      <td>75523</td>\n",
       "      <td>3</td>\n",
       "      <td>0</td>\n",
       "      <td>1</td>\n",
       "      <td>63</td>\n",
       "      <td>9373</td>\n",
       "      <td>3</td>\n",
       "      <td>8</td>\n",
       "      <td>2005</td>\n",
       "      <td>0</td>\n",
       "      <td>1</td>\n",
       "      <td>4313</td>\n",
       "      <td>9005</td>\n",
       "      <td>956</td>\n",
       "      <td>0</td>\n",
       "      <td>7</td>\n",
       "      <td>7559081.5</td>\n",
       "      <td>2</td>\n",
       "    </tr>\n",
       "    <tr>\n",
       "      <th>1</th>\n",
       "      <td>80771</td>\n",
       "      <td>39</td>\n",
       "      <td>1</td>\n",
       "      <td>1</td>\n",
       "      <td>98</td>\n",
       "      <td>39381</td>\n",
       "      <td>8</td>\n",
       "      <td>6</td>\n",
       "      <td>2015</td>\n",
       "      <td>1</td>\n",
       "      <td>0</td>\n",
       "      <td>3653</td>\n",
       "      <td>2436</td>\n",
       "      <td>128</td>\n",
       "      <td>1</td>\n",
       "      <td>2</td>\n",
       "      <td>8085989.5</td>\n",
       "      <td>2</td>\n",
       "    </tr>\n",
       "    <tr>\n",
       "      <th>2</th>\n",
       "      <td>55712</td>\n",
       "      <td>58</td>\n",
       "      <td>0</td>\n",
       "      <td>1</td>\n",
       "      <td>19</td>\n",
       "      <td>34457</td>\n",
       "      <td>6</td>\n",
       "      <td>8</td>\n",
       "      <td>2021</td>\n",
       "      <td>0</td>\n",
       "      <td>0</td>\n",
       "      <td>2937</td>\n",
       "      <td>8852</td>\n",
       "      <td>135</td>\n",
       "      <td>1</td>\n",
       "      <td>9</td>\n",
       "      <td>5574642.1</td>\n",
       "      <td>2</td>\n",
       "    </tr>\n",
       "    <tr>\n",
       "      <th>3</th>\n",
       "      <td>32316</td>\n",
       "      <td>47</td>\n",
       "      <td>0</td>\n",
       "      <td>0</td>\n",
       "      <td>6</td>\n",
       "      <td>27939</td>\n",
       "      <td>10</td>\n",
       "      <td>4</td>\n",
       "      <td>2012</td>\n",
       "      <td>0</td>\n",
       "      <td>1</td>\n",
       "      <td>659</td>\n",
       "      <td>7141</td>\n",
       "      <td>359</td>\n",
       "      <td>0</td>\n",
       "      <td>3</td>\n",
       "      <td>3232561.2</td>\n",
       "      <td>2</td>\n",
       "    </tr>\n",
       "    <tr>\n",
       "      <th>4</th>\n",
       "      <td>70429</td>\n",
       "      <td>19</td>\n",
       "      <td>1</td>\n",
       "      <td>1</td>\n",
       "      <td>90</td>\n",
       "      <td>38045</td>\n",
       "      <td>3</td>\n",
       "      <td>7</td>\n",
       "      <td>1990</td>\n",
       "      <td>1</td>\n",
       "      <td>0</td>\n",
       "      <td>8435</td>\n",
       "      <td>2429</td>\n",
       "      <td>292</td>\n",
       "      <td>1</td>\n",
       "      <td>4</td>\n",
       "      <td>7055052.0</td>\n",
       "      <td>2</td>\n",
       "    </tr>\n",
       "  </tbody>\n",
       "</table>\n",
       "</div>"
      ],
      "text/plain": [
       "   squareMeters  numberOfRooms  hasYard  hasPool  floors  cityCode  \\\n",
       "0         75523              3        0        1      63      9373   \n",
       "1         80771             39        1        1      98     39381   \n",
       "2         55712             58        0        1      19     34457   \n",
       "3         32316             47        0        0       6     27939   \n",
       "4         70429             19        1        1      90     38045   \n",
       "\n",
       "   cityPartRange  numPrevOwners  made  isNewBuilt  hasStormProtector  \\\n",
       "0              3              8  2005           0                  1   \n",
       "1              8              6  2015           1                  0   \n",
       "2              6              8  2021           0                  0   \n",
       "3             10              4  2012           0                  1   \n",
       "4              3              7  1990           1                  0   \n",
       "\n",
       "   basement  attic  garage  hasStorageRoom  hasGuestRoom      price  adv_val  \n",
       "0      4313   9005     956               0             7  7559081.5        2  \n",
       "1      3653   2436     128               1             2  8085989.5        2  \n",
       "2      2937   8852     135               1             9  5574642.1        2  \n",
       "3       659   7141     359               0             3  3232561.2        2  \n",
       "4      8435   2429     292               1             4  7055052.0        2  "
      ]
     },
     "execution_count": 5,
     "metadata": {},
     "output_type": "execute_result"
    }
   ],
   "source": [
    "print(\"These are the first 5 row of our dataset\")\n",
    "original.head()"
   ]
  },
  {
   "cell_type": "code",
   "execution_count": 6,
   "id": "5b12b429",
   "metadata": {},
   "outputs": [
    {
     "data": {
      "text/plain": [
       "(10000, 18)"
      ]
     },
     "execution_count": 6,
     "metadata": {},
     "output_type": "execute_result"
    }
   ],
   "source": [
    "original.shape"
   ]
  },
  {
   "cell_type": "code",
   "execution_count": 12,
   "id": "dcf9db96",
   "metadata": {},
   "outputs": [
    {
     "data": {
      "text/plain": [
       "Index(['squareMeters', 'numberOfRooms', 'hasYard', 'hasPool', 'floors',\n",
       "       'cityCode', 'cityPartRange', 'numPrevOwners', 'made', 'isNewBuilt',\n",
       "       'hasStormProtector', 'basement', 'attic', 'garage', 'hasStorageRoom',\n",
       "       'hasGuestRoom', 'price', 'adv_val'],\n",
       "      dtype='object')"
      ]
     },
     "execution_count": 12,
     "metadata": {},
     "output_type": "execute_result"
    }
   ],
   "source": [
    "original.columns"
   ]
  },
  {
   "cell_type": "code",
   "execution_count": 7,
   "id": "b0d42a9b",
   "metadata": {
    "scrolled": true
   },
   "outputs": [
    {
     "data": {
      "text/plain": [
       "(15154, 2)"
      ]
     },
     "execution_count": 7,
     "metadata": {},
     "output_type": "execute_result"
    }
   ],
   "source": [
    "sample.shape"
   ]
  },
  {
   "cell_type": "code",
   "execution_count": 8,
   "id": "d6007b7e",
   "metadata": {},
   "outputs": [
    {
     "data": {
      "text/plain": [
       "(22730, 18)"
      ]
     },
     "execution_count": 8,
     "metadata": {},
     "output_type": "execute_result"
    }
   ],
   "source": [
    "train.shape"
   ]
  },
  {
   "cell_type": "code",
   "execution_count": 9,
   "id": "6feb3671",
   "metadata": {
    "scrolled": true
   },
   "outputs": [
    {
     "data": {
      "text/plain": [
       "(15154, 17)"
      ]
     },
     "execution_count": 9,
     "metadata": {},
     "output_type": "execute_result"
    }
   ],
   "source": [
    "test.shape"
   ]
  },
  {
   "cell_type": "code",
   "execution_count": 10,
   "id": "3853dc88",
   "metadata": {},
   "outputs": [],
   "source": [
    "sets={'train':train,'test':test,'original':original}"
   ]
  },
  {
   "cell_type": "code",
   "execution_count": 11,
   "id": "b55cfdab",
   "metadata": {},
   "outputs": [
    {
     "data": {
      "text/plain": [
       "{'train':        squareMeters  numberOfRooms  hasYard  hasPool  floors  cityCode  \\\n",
       " 0             34291             24        1        0      47     35693   \n",
       " 1             95145             60        0        1      60     34773   \n",
       " 2             92661             45        1        1      62     45457   \n",
       " 3             97184             99        0        0      59     15113   \n",
       " 4             61752            100        0        0      57     64245   \n",
       " ...             ...            ...      ...      ...     ...       ...   \n",
       " 22725         55825             84        1        0      70     12031   \n",
       " 22726         65870             88        1        0      49     23197   \n",
       " 22727         93192             42        1        0      39      8539   \n",
       " 22728         65797             86        1        0      89     23197   \n",
       " 22729         82244             18        1        0      38     86728   \n",
       " \n",
       "        cityPartRange  numPrevOwners  made  isNewBuilt  hasStormProtector  \\\n",
       " 0                  2              1  2000           0                  1   \n",
       " 1                  1              4  2000           0                  1   \n",
       " 2                  4              8  2020           1                  1   \n",
       " 3                  1              1  2000           0                  1   \n",
       " 4                  8              4  2018           1                  0   \n",
       " ...              ...            ...   ...         ...                ...   \n",
       " 22725              3             10  2000           0                  0   \n",
       " 22726              9              9  2015           0                  1   \n",
       " 22727             10              5  2014           1                  0   \n",
       " 22728              2             10  2000           1                  0   \n",
       " 22729              1              9  2018           1                  0   \n",
       " \n",
       "        basement  attic  garage  hasStorageRoom  hasGuestRoom      price  \\\n",
       " 0             8   5196     369               0             3  3436795.2   \n",
       " 1           729   4496     277               0             6  9519958.0   \n",
       " 2          7473   8953     245               1             9  9276448.1   \n",
       " 3          6424   8522     256               1             9  9725732.2   \n",
       " 4          7151   2786     863               0             7  6181908.8   \n",
       " ...         ...    ...     ...             ...           ...        ...   \n",
       " 22725      4477    786     345               0             0  5594137.1   \n",
       " 22726      4811   2454     755               0             7  6594705.0   \n",
       " 22727      5595   4072     789               0             0  9321511.4   \n",
       " 22728      5358   2513     411               0             0  6584708.2   \n",
       " 22729      6294   1291     572               0             6  8231424.8   \n",
       " \n",
       "        adv_val  \n",
       " 0            1  \n",
       " 1            1  \n",
       " 2            1  \n",
       " 3            1  \n",
       " 4            1  \n",
       " ...        ...  \n",
       " 22725        1  \n",
       " 22726        1  \n",
       " 22727        1  \n",
       " 22728        1  \n",
       " 22729        1  \n",
       " \n",
       " [22730 rows x 18 columns],\n",
       " 'test':        squareMeters  numberOfRooms  hasYard  hasPool  floors  cityCode  \\\n",
       " 0             47580             89        0        1       8     54830   \n",
       " 1             62083             38        0        0      87      8576   \n",
       " 2             90499             75        1        1      37     62454   \n",
       " 3             16354             47        1        1       9      9262   \n",
       " 4             67510              8        0        0      55     24112   \n",
       " ...             ...            ...      ...      ...     ...       ...   \n",
       " 15149         86184             74        1        1      73     14009   \n",
       " 15150         45885             41        1        1      64     84208   \n",
       " 15151         73554             51        0        0      41     49263   \n",
       " 15152         77604             51        0        1      33     67056   \n",
       " 15153         18179             50        1        0      41     50124   \n",
       " \n",
       "        cityPartRange  numPrevOwners  made  isNewBuilt  hasStormProtector  \\\n",
       " 0                  5              3  1995           0                  0   \n",
       " 1                 10              3  1994           1                  1   \n",
       " 2                  9              6  1997           0                  1   \n",
       " 3                  6              5  2019           1                  1   \n",
       " 4                  3              7  2014           1                  1   \n",
       " ...              ...            ...   ...         ...                ...   \n",
       " 15149              2             10  1993           1                  0   \n",
       " 15150              4              5  2008           0                  0   \n",
       " 15151             10              5  2004           0                  1   \n",
       " 15152              4              3  2019           0                  0   \n",
       " 15153              2              2  2004           1                  0   \n",
       " \n",
       "        basement  attic  garage  hasStorageRoom  hasGuestRoom  adv_val  \n",
       " 0          6885   8181     241               0             8        0  \n",
       " 1          4601   9237     393               1             4        0  \n",
       " 2          7454   2680     305               0             2        0  \n",
       " 3           705   5097     122               1             5        0  \n",
       " 4          3715   7979     401               1             9        0  \n",
       " ...         ...    ...     ...             ...           ...      ...  \n",
       " 15149      3714   3894     665               1             1        0  \n",
       " 15150       783   7628     976               0             0        0  \n",
       " 15151      8207   1777     775               0            10        0  \n",
       " 15152      9578   9706     135               0             2        0  \n",
       " 15153      4163   9923     622               0             6        0  \n",
       " \n",
       " [15154 rows x 17 columns],\n",
       " 'original':       squareMeters  numberOfRooms  hasYard  hasPool  floors  cityCode  \\\n",
       " 0            75523              3        0        1      63      9373   \n",
       " 1            80771             39        1        1      98     39381   \n",
       " 2            55712             58        0        1      19     34457   \n",
       " 3            32316             47        0        0       6     27939   \n",
       " 4            70429             19        1        1      90     38045   \n",
       " ...            ...            ...      ...      ...     ...       ...   \n",
       " 9995          1726             89        0        1       5     73133   \n",
       " 9996         44403             29        1        1      12     34606   \n",
       " 9997         83841              3        0        0      69     80933   \n",
       " 9998         59036             70        0        0      96     55856   \n",
       " 9999          1440             84        0        0      49     18412   \n",
       " \n",
       "       cityPartRange  numPrevOwners  made  isNewBuilt  hasStormProtector  \\\n",
       " 0                 3              8  2005           0                  1   \n",
       " 1                 8              6  2015           1                  0   \n",
       " 2                 6              8  2021           0                  0   \n",
       " 3                10              4  2012           0                  1   \n",
       " 4                 3              7  1990           1                  0   \n",
       " ...             ...            ...   ...         ...                ...   \n",
       " 9995              7              6  2009           0                  1   \n",
       " 9996              9              4  1990           0                  1   \n",
       " 9997             10             10  2005           1                  1   \n",
       " 9998              1              3  2010           0                  1   \n",
       " 9999              6             10  1994           1                  0   \n",
       " \n",
       "       basement  attic  garage  hasStorageRoom  hasGuestRoom      price  \\\n",
       " 0         4313   9005     956               0             7  7559081.5   \n",
       " 1         3653   2436     128               1             2  8085989.5   \n",
       " 2         2937   8852     135               1             9  5574642.1   \n",
       " 3          659   7141     359               0             3  3232561.2   \n",
       " 4         8435   2429     292               1             4  7055052.0   \n",
       " ...        ...    ...     ...             ...           ...        ...   \n",
       " 9995      9311   1698     218               0             4   176425.9   \n",
       " 9996      9061   1742     230               0             0  4448474.0   \n",
       " 9997      8304   7730     345               1             9  8390030.5   \n",
       " 9998      2590   6174     339               1             4  5905107.0   \n",
       " 9999      8485   2024     278               1             6   146708.4   \n",
       " \n",
       "       adv_val  \n",
       " 0           2  \n",
       " 1           2  \n",
       " 2           2  \n",
       " 3           2  \n",
       " 4           2  \n",
       " ...       ...  \n",
       " 9995        2  \n",
       " 9996        2  \n",
       " 9997        2  \n",
       " 9998        2  \n",
       " 9999        2  \n",
       " \n",
       " [10000 rows x 18 columns]}"
      ]
     },
     "execution_count": 11,
     "metadata": {},
     "output_type": "execute_result"
    }
   ],
   "source": [
    "sets"
   ]
  },
  {
   "cell_type": "code",
   "execution_count": 9,
   "id": "28ea9223",
   "metadata": {},
   "outputs": [
    {
     "name": "stdout",
     "output_type": "stream",
     "text": [
      "A number of duplicated rows in train is 0, they were dropped\n",
      "A number of duplicated rows in original is 0, they were dropped\n"
     ]
    }
   ],
   "source": [
    "def dropping_duplicates(data):\n",
    "    data.drop_duplicates(inplace = True)\n",
    "    \n",
    "for n in {'train':train,'original':original}:\n",
    "    print(f\"A number of duplicated rows in {n} is {sets[n].duplicated().sum()}, they were dropped\")\n",
    "    dropping_duplicates(sets[n])"
   ]
  },
  {
   "cell_type": "markdown",
   "id": "24933559",
   "metadata": {},
   "source": [
    "### General Settings"
   ]
  },
  {
   "cell_type": "code",
   "execution_count": 10,
   "id": "25a7f02b",
   "metadata": {},
   "outputs": [],
   "source": [
    "gpu_switch = 'ON'\n",
    "\n",
    "#RepeatedStratifiedKFold\n",
    "\n",
    "n_splits = 5\n",
    "n_repeats =10\n",
    "sm=SMOTE(sampling_strategy='minority')\n",
    "#cv = RepeatedStratifiedKFold(n_splits=n_splits, n_repeats = n_repeats, random_state=2023)\n",
    "cv = RepeatedKFold(n_splits=n_splits, n_repeats = n_repeats, random_state=2023)\n",
    "#cv = GroupKFold(n_splits=n_splits)\n",
    "\n",
    "\n",
    "#Define Weights\n",
    "weights = {0: 0.5009553158705701, 1: 262.19354838709677}"
   ]
  },
  {
   "cell_type": "markdown",
   "id": "64d15a71",
   "metadata": {},
   "source": [
    "### Creating functions for step-by-step analyzing:\n",
    "\n",
    "### Function 1:"
   ]
  },
  {
   "cell_type": "code",
   "execution_count": 11,
   "id": "e774457b",
   "metadata": {},
   "outputs": [],
   "source": [
    "def LGBM_get_score(X,y):\n",
    "    param = {'metric': 'rmse', \n",
    "            'early_stopping_round': 300, \n",
    "            'n_estimators': 5000}\n",
    "    results=[]\n",
    "    for i,(train_index, test_index) in enumerate(cv.split(X, y)):\n",
    "        train_X, valid_X = X.iloc[train_index], X.iloc[test_index]\n",
    "        train_y, valid_y = y.iloc[train_index], y.iloc[test_index]\n",
    "        model = lgb.LGBMRegressor(**param).fit(train_X,train_y,\n",
    "                                            eval_set=[(valid_X,valid_y)],\n",
    "                                            callbacks=[lgb.log_evaluation(period=0, show_stdv=False)]) \n",
    "        result=np.sqrt(mean_squared_error(valid_y,model.predict(valid_X))) \n",
    "        results.append(result)\n",
    "        print (f'\\033[0;33;40m Step#{i} Auc result = {result} \\033[0;30;0m')\n",
    "    print (f'\\033[0;35;40m Final LGBM Result = {sum(results)/len(results)} \\033[0;30;0m')"
   ]
  },
  {
   "cell_type": "markdown",
   "id": "61af7046",
   "metadata": {},
   "source": [
    "### Function 2: "
   ]
  },
  {
   "cell_type": "code",
   "execution_count": 12,
   "id": "a1154940",
   "metadata": {},
   "outputs": [],
   "source": [
    "def RF_get_score(X,y):\n",
    "    param = {'n_jobs':-1}\n",
    "    results=[]\n",
    "    for i,(train_index, test_index) in enumerate(cv.split(X, y)):\n",
    "        train_X, valid_X = X.iloc[train_index], X.iloc[test_index]\n",
    "        train_y, valid_y = y.iloc[train_index], y.iloc[test_index]\n",
    "        model = RandomForestRegressor(**param).fit(train_X,train_y) \n",
    "        result=np.sqrt(mean_squared_error(valid_y,model.predict(valid_X))) \n",
    "        results.append(result)\n",
    "        print (f'\\033[0;33;40m Step#{i} Auc result = {result} \\033[0;30;0m')\n",
    "    print (f'\\033[0;35;40m Final LGBM Result = {sum(results)/len(results)} \\033[0;30;0m')"
   ]
  },
  {
   "cell_type": "code",
   "execution_count": 13,
   "id": "7d0efa34",
   "metadata": {},
   "outputs": [],
   "source": [
    "#########################################################################\n",
    "### The function for data distribution analysis between two datasets  ###\n",
    "#########################################################################\n",
    "\n",
    "def viz_comp (data1,data2,title):\n",
    "    n_bins = 50\n",
    "    histplot_hyperparams = {\n",
    "        'kde':True,\n",
    "        'alpha':0.4,\n",
    "        'stat':'percent',\n",
    "        'bins':n_bins\n",
    "    }\n",
    "    cols=num_cols\n",
    "    fig, ax = plt.subplots(len(cols)//3+1,3, figsize=(20, 20))\n",
    "    ax = ax.flatten()\n",
    "\n",
    "    for i, column in enumerate(cols):\n",
    "        sns.histplot(\n",
    "            data1[column], label='Train',\n",
    "            ax=ax[i], color='green', **histplot_hyperparams)\n",
    "\n",
    "    for i, column in enumerate(cols):\n",
    "        sns.histplot(\n",
    "            data2[column], label='Train',\n",
    "            ax=ax[i], color='red', **histplot_hyperparams)\n",
    "    ax[0].set_title(title, fontstyle='normal',size=25)"
   ]
  },
  {
   "cell_type": "code",
   "execution_count": 14,
   "id": "6e4894d3",
   "metadata": {},
   "outputs": [],
   "source": [
    "##############################\n",
    "### Permutation importance ###\n",
    "##############################\n",
    "\n",
    "def permutation_importance(model,X,y):\n",
    "    permute = PermutationImportance(model,random_state=2023,n_iter =10,cv=5).fit(X, y)\n",
    "    eli5.show_weights(permute, feature_names = X.columns.tolist(),top=50)\n",
    "    values = dict(zip(list(train.columns),list(permute.feature_importances_)))\n",
    "    sorted_dict = {}\n",
    "    sorted_keys = sorted(values, key=values.get)\n",
    "    for w in sorted_keys:\n",
    "        sorted_dict[w] = values[w]"
   ]
  },
  {
   "cell_type": "markdown",
   "id": "4705522a",
   "metadata": {},
   "source": [
    "# 3. MISSING INFORMATION:"
   ]
  },
  {
   "cell_type": "code",
   "execution_count": 15,
   "id": "280b6bfb",
   "metadata": {},
   "outputs": [
    {
     "name": "stdout",
     "output_type": "stream",
     "text": [
      "\u001b[0;33;40m A number of NaN values in train is 0 \u001b[0;30;0m\n",
      "\u001b[0;33;40m A number of NaN values in test is 0 \u001b[0;30;0m\n",
      "\u001b[0;33;40m A number of NaN values in original is 0 \u001b[0;30;0m\n"
     ]
    }
   ],
   "source": [
    "def miss_values_check(data,n):\n",
    "    print(f'\\033[0;33;40m A number of NaN values in {n} is {data.isnull().sum().sum()} \\033[0;30;0m')\n",
    "    if data.isnull().sum().sum() >0:\n",
    "        sns.heatmap(data.isnull())\n",
    "for n in sets:\n",
    "    miss_values_check(sets[n],n)"
   ]
  },
  {
   "cell_type": "markdown",
   "id": "2233053c",
   "metadata": {},
   "source": [
    "# 4. DATA PREPROCESSING:\n",
    "\n",
    "## 4.1 ENCODING AND IMPUTING"
   ]
  },
  {
   "cell_type": "code",
   "execution_count": null,
   "id": "1f2e08bb",
   "metadata": {},
   "outputs": [],
   "source": [
    "performing hyper parameter tuning using Optuna withXGBoost as the model:"
   ]
  },
  {
   "cell_type": "code",
   "execution_count": null,
   "id": "7167d9e6",
   "metadata": {},
   "outputs": [],
   "source": [
    "Now the best set of hyperparameters obtained from Optuna optimization process for the XGBoost Model"
   ]
  },
  {
   "cell_type": "code",
   "execution_count": null,
   "id": "1e4ad2b6",
   "metadata": {},
   "outputs": [],
   "source": [
    "Now using the best hyperparameters we are evaluating its performance using cv"
   ]
  }
 ],
 "metadata": {
  "kernelspec": {
   "display_name": "Python 3 (ipykernel)",
   "language": "python",
   "name": "python3"
  },
  "language_info": {
   "codemirror_mode": {
    "name": "ipython",
    "version": 3
   },
   "file_extension": ".py",
   "mimetype": "text/x-python",
   "name": "python",
   "nbconvert_exporter": "python",
   "pygments_lexer": "ipython3",
   "version": "3.9.12"
  }
 },
 "nbformat": 4,
 "nbformat_minor": 5
}
