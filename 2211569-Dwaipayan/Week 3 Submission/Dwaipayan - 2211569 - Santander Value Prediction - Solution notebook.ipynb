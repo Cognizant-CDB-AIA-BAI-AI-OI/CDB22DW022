{
 "cells": [
  {
   "cell_type": "markdown",
   "metadata": {},
   "source": [
    "# Kaggle Project 6 - Santander Value Prediction Challenge\n",
    "\n",
    "## Prepared by: Dwaipayan Mukherjee (2211569)\n",
    "\n",
    "### Necessary Imports:"
   ]
  },
  {
   "cell_type": "code",
   "execution_count": 1,
   "metadata": {
    "execution": {
     "iopub.execute_input": "2023-01-11T05:31:18.51332Z",
     "iopub.status.busy": "2023-01-11T05:31:18.512877Z",
     "iopub.status.idle": "2023-01-11T05:31:20.729222Z",
     "shell.execute_reply": "2023-01-11T05:31:20.727889Z",
     "shell.execute_reply.started": "2023-01-11T05:31:18.513284Z"
    }
   },
   "outputs": [],
   "source": [
    "import numpy as np\n",
    "import pandas as pd\n",
    "import gc\n",
    "\n",
    "from sklearn import model_selection\n",
    "from sklearn.model_selection import train_test_split\n",
    "from sklearn.preprocessing import RobustScaler\n",
    "\n",
    "import lightgbm as lgb\n",
    "import xgboost as xgb\n",
    "from catboost import CatBoostRegressor\n",
    "\n",
    "from IPython.display import display\n",
    "\n",
    "import warnings\n",
    "warnings.filterwarnings('ignore')\n",
    "\n",
    "import matplotlib.pyplot as plt\n",
    "import seaborn as sns\n",
    "\n",
    "%matplotlib inline\n",
    "%config InlineBackend.figure_format = 'svg'\n"
   ]
  },
  {
   "cell_type": "markdown",
   "metadata": {},
   "source": [
    "### Loading train and test set:"
   ]
  },
  {
   "cell_type": "code",
   "execution_count": 2,
   "metadata": {
    "execution": {
     "iopub.execute_input": "2023-01-11T05:31:20.731597Z",
     "iopub.status.busy": "2023-01-11T05:31:20.731226Z",
     "iopub.status.idle": "2023-01-11T05:32:27.830542Z",
     "shell.execute_reply": "2023-01-11T05:32:27.82946Z",
     "shell.execute_reply.started": "2023-01-11T05:31:20.731562Z"
    }
   },
   "outputs": [],
   "source": [
    "train_df = pd.read_csv('train.csv')\n",
    "test_df = pd.read_csv('test.csv')"
   ]
  },
  {
   "cell_type": "markdown",
   "metadata": {},
   "source": [
    "### Viewing the train and test data:"
   ]
  },
  {
   "cell_type": "code",
   "execution_count": 3,
   "metadata": {
    "execution": {
     "iopub.execute_input": "2023-01-11T05:32:27.833486Z",
     "iopub.status.busy": "2023-01-11T05:32:27.832022Z",
     "iopub.status.idle": "2023-01-11T05:32:27.871369Z",
     "shell.execute_reply": "2023-01-11T05:32:27.870216Z",
     "shell.execute_reply.started": "2023-01-11T05:32:27.833438Z"
    }
   },
   "outputs": [
    {
     "data": {
      "text/html": [
       "<div>\n",
       "<style scoped>\n",
       "    .dataframe tbody tr th:only-of-type {\n",
       "        vertical-align: middle;\n",
       "    }\n",
       "\n",
       "    .dataframe tbody tr th {\n",
       "        vertical-align: top;\n",
       "    }\n",
       "\n",
       "    .dataframe thead th {\n",
       "        text-align: right;\n",
       "    }\n",
       "</style>\n",
       "<table border=\"1\" class=\"dataframe\">\n",
       "  <thead>\n",
       "    <tr style=\"text-align: right;\">\n",
       "      <th></th>\n",
       "      <th>ID</th>\n",
       "      <th>target</th>\n",
       "      <th>48df886f9</th>\n",
       "      <th>0deb4b6a8</th>\n",
       "      <th>34b15f335</th>\n",
       "      <th>a8cb14b00</th>\n",
       "      <th>2f0771a37</th>\n",
       "      <th>30347e683</th>\n",
       "      <th>d08d1fbe3</th>\n",
       "      <th>6ee66e115</th>\n",
       "      <th>...</th>\n",
       "      <th>3ecc09859</th>\n",
       "      <th>9281abeea</th>\n",
       "      <th>8675bec0b</th>\n",
       "      <th>3a13ed79a</th>\n",
       "      <th>f677d4d13</th>\n",
       "      <th>71b203550</th>\n",
       "      <th>137efaa80</th>\n",
       "      <th>fb36b89d9</th>\n",
       "      <th>7e293fbaf</th>\n",
       "      <th>9fc776466</th>\n",
       "    </tr>\n",
       "  </thead>\n",
       "  <tbody>\n",
       "    <tr>\n",
       "      <th>0</th>\n",
       "      <td>000d6aaf2</td>\n",
       "      <td>38000000.0</td>\n",
       "      <td>0.0</td>\n",
       "      <td>0</td>\n",
       "      <td>0.0</td>\n",
       "      <td>0</td>\n",
       "      <td>0</td>\n",
       "      <td>0</td>\n",
       "      <td>0</td>\n",
       "      <td>0</td>\n",
       "      <td>...</td>\n",
       "      <td>0.0</td>\n",
       "      <td>0.0</td>\n",
       "      <td>0.0</td>\n",
       "      <td>0</td>\n",
       "      <td>0</td>\n",
       "      <td>0</td>\n",
       "      <td>0</td>\n",
       "      <td>0</td>\n",
       "      <td>0</td>\n",
       "      <td>0</td>\n",
       "    </tr>\n",
       "    <tr>\n",
       "      <th>1</th>\n",
       "      <td>000fbd867</td>\n",
       "      <td>600000.0</td>\n",
       "      <td>0.0</td>\n",
       "      <td>0</td>\n",
       "      <td>0.0</td>\n",
       "      <td>0</td>\n",
       "      <td>0</td>\n",
       "      <td>0</td>\n",
       "      <td>0</td>\n",
       "      <td>0</td>\n",
       "      <td>...</td>\n",
       "      <td>0.0</td>\n",
       "      <td>0.0</td>\n",
       "      <td>0.0</td>\n",
       "      <td>0</td>\n",
       "      <td>0</td>\n",
       "      <td>0</td>\n",
       "      <td>0</td>\n",
       "      <td>0</td>\n",
       "      <td>0</td>\n",
       "      <td>0</td>\n",
       "    </tr>\n",
       "    <tr>\n",
       "      <th>2</th>\n",
       "      <td>0027d6b71</td>\n",
       "      <td>10000000.0</td>\n",
       "      <td>0.0</td>\n",
       "      <td>0</td>\n",
       "      <td>0.0</td>\n",
       "      <td>0</td>\n",
       "      <td>0</td>\n",
       "      <td>0</td>\n",
       "      <td>0</td>\n",
       "      <td>0</td>\n",
       "      <td>...</td>\n",
       "      <td>0.0</td>\n",
       "      <td>0.0</td>\n",
       "      <td>0.0</td>\n",
       "      <td>0</td>\n",
       "      <td>0</td>\n",
       "      <td>0</td>\n",
       "      <td>0</td>\n",
       "      <td>0</td>\n",
       "      <td>0</td>\n",
       "      <td>0</td>\n",
       "    </tr>\n",
       "    <tr>\n",
       "      <th>3</th>\n",
       "      <td>0028cbf45</td>\n",
       "      <td>2000000.0</td>\n",
       "      <td>0.0</td>\n",
       "      <td>0</td>\n",
       "      <td>0.0</td>\n",
       "      <td>0</td>\n",
       "      <td>0</td>\n",
       "      <td>0</td>\n",
       "      <td>0</td>\n",
       "      <td>0</td>\n",
       "      <td>...</td>\n",
       "      <td>0.0</td>\n",
       "      <td>0.0</td>\n",
       "      <td>0.0</td>\n",
       "      <td>0</td>\n",
       "      <td>0</td>\n",
       "      <td>0</td>\n",
       "      <td>0</td>\n",
       "      <td>0</td>\n",
       "      <td>0</td>\n",
       "      <td>0</td>\n",
       "    </tr>\n",
       "    <tr>\n",
       "      <th>4</th>\n",
       "      <td>002a68644</td>\n",
       "      <td>14400000.0</td>\n",
       "      <td>0.0</td>\n",
       "      <td>0</td>\n",
       "      <td>0.0</td>\n",
       "      <td>0</td>\n",
       "      <td>0</td>\n",
       "      <td>0</td>\n",
       "      <td>0</td>\n",
       "      <td>0</td>\n",
       "      <td>...</td>\n",
       "      <td>0.0</td>\n",
       "      <td>0.0</td>\n",
       "      <td>0.0</td>\n",
       "      <td>0</td>\n",
       "      <td>0</td>\n",
       "      <td>0</td>\n",
       "      <td>0</td>\n",
       "      <td>0</td>\n",
       "      <td>0</td>\n",
       "      <td>0</td>\n",
       "    </tr>\n",
       "  </tbody>\n",
       "</table>\n",
       "<p>5 rows × 4993 columns</p>\n",
       "</div>"
      ],
      "text/plain": [
       "          ID      target  48df886f9  0deb4b6a8  34b15f335  a8cb14b00  \\\n",
       "0  000d6aaf2  38000000.0        0.0          0        0.0          0   \n",
       "1  000fbd867    600000.0        0.0          0        0.0          0   \n",
       "2  0027d6b71  10000000.0        0.0          0        0.0          0   \n",
       "3  0028cbf45   2000000.0        0.0          0        0.0          0   \n",
       "4  002a68644  14400000.0        0.0          0        0.0          0   \n",
       "\n",
       "   2f0771a37  30347e683  d08d1fbe3  6ee66e115  ...  3ecc09859  9281abeea  \\\n",
       "0          0          0          0          0  ...        0.0        0.0   \n",
       "1          0          0          0          0  ...        0.0        0.0   \n",
       "2          0          0          0          0  ...        0.0        0.0   \n",
       "3          0          0          0          0  ...        0.0        0.0   \n",
       "4          0          0          0          0  ...        0.0        0.0   \n",
       "\n",
       "   8675bec0b  3a13ed79a  f677d4d13  71b203550  137efaa80  fb36b89d9  \\\n",
       "0        0.0          0          0          0          0          0   \n",
       "1        0.0          0          0          0          0          0   \n",
       "2        0.0          0          0          0          0          0   \n",
       "3        0.0          0          0          0          0          0   \n",
       "4        0.0          0          0          0          0          0   \n",
       "\n",
       "   7e293fbaf  9fc776466  \n",
       "0          0          0  \n",
       "1          0          0  \n",
       "2          0          0  \n",
       "3          0          0  \n",
       "4          0          0  \n",
       "\n",
       "[5 rows x 4993 columns]"
      ]
     },
     "execution_count": 3,
     "metadata": {},
     "output_type": "execute_result"
    }
   ],
   "source": [
    "# Viewing the train data\n",
    "train_df.head()"
   ]
  },
  {
   "cell_type": "code",
   "execution_count": 4,
   "metadata": {
    "execution": {
     "iopub.execute_input": "2023-01-11T05:32:27.874442Z",
     "iopub.status.busy": "2023-01-11T05:32:27.87384Z",
     "iopub.status.idle": "2023-01-11T05:32:27.908904Z",
     "shell.execute_reply": "2023-01-11T05:32:27.90737Z",
     "shell.execute_reply.started": "2023-01-11T05:32:27.874407Z"
    },
    "scrolled": true
   },
   "outputs": [
    {
     "data": {
      "text/html": [
       "<div>\n",
       "<style scoped>\n",
       "    .dataframe tbody tr th:only-of-type {\n",
       "        vertical-align: middle;\n",
       "    }\n",
       "\n",
       "    .dataframe tbody tr th {\n",
       "        vertical-align: top;\n",
       "    }\n",
       "\n",
       "    .dataframe thead th {\n",
       "        text-align: right;\n",
       "    }\n",
       "</style>\n",
       "<table border=\"1\" class=\"dataframe\">\n",
       "  <thead>\n",
       "    <tr style=\"text-align: right;\">\n",
       "      <th></th>\n",
       "      <th>ID</th>\n",
       "      <th>48df886f9</th>\n",
       "      <th>0deb4b6a8</th>\n",
       "      <th>34b15f335</th>\n",
       "      <th>a8cb14b00</th>\n",
       "      <th>2f0771a37</th>\n",
       "      <th>30347e683</th>\n",
       "      <th>d08d1fbe3</th>\n",
       "      <th>6ee66e115</th>\n",
       "      <th>20aa07010</th>\n",
       "      <th>...</th>\n",
       "      <th>3ecc09859</th>\n",
       "      <th>9281abeea</th>\n",
       "      <th>8675bec0b</th>\n",
       "      <th>3a13ed79a</th>\n",
       "      <th>f677d4d13</th>\n",
       "      <th>71b203550</th>\n",
       "      <th>137efaa80</th>\n",
       "      <th>fb36b89d9</th>\n",
       "      <th>7e293fbaf</th>\n",
       "      <th>9fc776466</th>\n",
       "    </tr>\n",
       "  </thead>\n",
       "  <tbody>\n",
       "    <tr>\n",
       "      <th>0</th>\n",
       "      <td>000137c73</td>\n",
       "      <td>0.0</td>\n",
       "      <td>0.0</td>\n",
       "      <td>0.0</td>\n",
       "      <td>0.0</td>\n",
       "      <td>0.0</td>\n",
       "      <td>0.0</td>\n",
       "      <td>0.0</td>\n",
       "      <td>0.0</td>\n",
       "      <td>0.0</td>\n",
       "      <td>...</td>\n",
       "      <td>0.0</td>\n",
       "      <td>0.0</td>\n",
       "      <td>0.0</td>\n",
       "      <td>0.0</td>\n",
       "      <td>0.0</td>\n",
       "      <td>0.0</td>\n",
       "      <td>0.0</td>\n",
       "      <td>0.0</td>\n",
       "      <td>0.0</td>\n",
       "      <td>0.0</td>\n",
       "    </tr>\n",
       "    <tr>\n",
       "      <th>1</th>\n",
       "      <td>00021489f</td>\n",
       "      <td>0.0</td>\n",
       "      <td>0.0</td>\n",
       "      <td>0.0</td>\n",
       "      <td>0.0</td>\n",
       "      <td>0.0</td>\n",
       "      <td>0.0</td>\n",
       "      <td>0.0</td>\n",
       "      <td>0.0</td>\n",
       "      <td>0.0</td>\n",
       "      <td>...</td>\n",
       "      <td>0.0</td>\n",
       "      <td>0.0</td>\n",
       "      <td>0.0</td>\n",
       "      <td>0.0</td>\n",
       "      <td>0.0</td>\n",
       "      <td>0.0</td>\n",
       "      <td>0.0</td>\n",
       "      <td>0.0</td>\n",
       "      <td>0.0</td>\n",
       "      <td>0.0</td>\n",
       "    </tr>\n",
       "    <tr>\n",
       "      <th>2</th>\n",
       "      <td>0004d7953</td>\n",
       "      <td>0.0</td>\n",
       "      <td>0.0</td>\n",
       "      <td>0.0</td>\n",
       "      <td>0.0</td>\n",
       "      <td>0.0</td>\n",
       "      <td>0.0</td>\n",
       "      <td>0.0</td>\n",
       "      <td>0.0</td>\n",
       "      <td>0.0</td>\n",
       "      <td>...</td>\n",
       "      <td>0.0</td>\n",
       "      <td>0.0</td>\n",
       "      <td>0.0</td>\n",
       "      <td>0.0</td>\n",
       "      <td>0.0</td>\n",
       "      <td>0.0</td>\n",
       "      <td>0.0</td>\n",
       "      <td>0.0</td>\n",
       "      <td>0.0</td>\n",
       "      <td>0.0</td>\n",
       "    </tr>\n",
       "    <tr>\n",
       "      <th>3</th>\n",
       "      <td>00056a333</td>\n",
       "      <td>0.0</td>\n",
       "      <td>0.0</td>\n",
       "      <td>0.0</td>\n",
       "      <td>0.0</td>\n",
       "      <td>0.0</td>\n",
       "      <td>0.0</td>\n",
       "      <td>0.0</td>\n",
       "      <td>0.0</td>\n",
       "      <td>0.0</td>\n",
       "      <td>...</td>\n",
       "      <td>0.0</td>\n",
       "      <td>0.0</td>\n",
       "      <td>0.0</td>\n",
       "      <td>0.0</td>\n",
       "      <td>0.0</td>\n",
       "      <td>0.0</td>\n",
       "      <td>0.0</td>\n",
       "      <td>0.0</td>\n",
       "      <td>0.0</td>\n",
       "      <td>0.0</td>\n",
       "    </tr>\n",
       "    <tr>\n",
       "      <th>4</th>\n",
       "      <td>00056d8eb</td>\n",
       "      <td>0.0</td>\n",
       "      <td>0.0</td>\n",
       "      <td>0.0</td>\n",
       "      <td>0.0</td>\n",
       "      <td>0.0</td>\n",
       "      <td>0.0</td>\n",
       "      <td>0.0</td>\n",
       "      <td>0.0</td>\n",
       "      <td>0.0</td>\n",
       "      <td>...</td>\n",
       "      <td>0.0</td>\n",
       "      <td>0.0</td>\n",
       "      <td>0.0</td>\n",
       "      <td>0.0</td>\n",
       "      <td>0.0</td>\n",
       "      <td>0.0</td>\n",
       "      <td>0.0</td>\n",
       "      <td>0.0</td>\n",
       "      <td>0.0</td>\n",
       "      <td>0.0</td>\n",
       "    </tr>\n",
       "  </tbody>\n",
       "</table>\n",
       "<p>5 rows × 4992 columns</p>\n",
       "</div>"
      ],
      "text/plain": [
       "          ID  48df886f9  0deb4b6a8  34b15f335  a8cb14b00  2f0771a37  \\\n",
       "0  000137c73        0.0        0.0        0.0        0.0        0.0   \n",
       "1  00021489f        0.0        0.0        0.0        0.0        0.0   \n",
       "2  0004d7953        0.0        0.0        0.0        0.0        0.0   \n",
       "3  00056a333        0.0        0.0        0.0        0.0        0.0   \n",
       "4  00056d8eb        0.0        0.0        0.0        0.0        0.0   \n",
       "\n",
       "   30347e683  d08d1fbe3  6ee66e115  20aa07010  ...  3ecc09859  9281abeea  \\\n",
       "0        0.0        0.0        0.0        0.0  ...        0.0        0.0   \n",
       "1        0.0        0.0        0.0        0.0  ...        0.0        0.0   \n",
       "2        0.0        0.0        0.0        0.0  ...        0.0        0.0   \n",
       "3        0.0        0.0        0.0        0.0  ...        0.0        0.0   \n",
       "4        0.0        0.0        0.0        0.0  ...        0.0        0.0   \n",
       "\n",
       "   8675bec0b  3a13ed79a  f677d4d13  71b203550  137efaa80  fb36b89d9  \\\n",
       "0        0.0        0.0        0.0        0.0        0.0        0.0   \n",
       "1        0.0        0.0        0.0        0.0        0.0        0.0   \n",
       "2        0.0        0.0        0.0        0.0        0.0        0.0   \n",
       "3        0.0        0.0        0.0        0.0        0.0        0.0   \n",
       "4        0.0        0.0        0.0        0.0        0.0        0.0   \n",
       "\n",
       "   7e293fbaf  9fc776466  \n",
       "0        0.0        0.0  \n",
       "1        0.0        0.0  \n",
       "2        0.0        0.0  \n",
       "3        0.0        0.0  \n",
       "4        0.0        0.0  \n",
       "\n",
       "[5 rows x 4992 columns]"
      ]
     },
     "execution_count": 4,
     "metadata": {},
     "output_type": "execute_result"
    }
   ],
   "source": [
    "# Viewing the test data\n",
    "test_df.head()"
   ]
  },
  {
   "cell_type": "markdown",
   "metadata": {},
   "source": [
    "### Checking the info of the data:"
   ]
  },
  {
   "cell_type": "code",
   "execution_count": 5,
   "metadata": {
    "execution": {
     "iopub.execute_input": "2023-01-11T05:32:27.91184Z",
     "iopub.status.busy": "2023-01-11T05:32:27.911228Z",
     "iopub.status.idle": "2023-01-11T05:32:28.34319Z",
     "shell.execute_reply": "2023-01-11T05:32:28.341876Z",
     "shell.execute_reply.started": "2023-01-11T05:32:27.911789Z"
    }
   },
   "outputs": [
    {
     "name": "stdout",
     "output_type": "stream",
     "text": [
      "<class 'pandas.core.frame.DataFrame'>\n",
      "RangeIndex: 4459 entries, 0 to 4458\n",
      "Columns: 4993 entries, ID to 9fc776466\n",
      "dtypes: float64(1845), int64(3147), object(1)\n",
      "memory usage: 169.9+ MB\n"
     ]
    }
   ],
   "source": [
    "# train data\n",
    "train_df.info()"
   ]
  },
  {
   "cell_type": "code",
   "execution_count": 6,
   "metadata": {
    "execution": {
     "iopub.execute_input": "2023-01-11T05:32:28.345218Z",
     "iopub.status.busy": "2023-01-11T05:32:28.344822Z",
     "iopub.status.idle": "2023-01-11T05:32:28.796781Z",
     "shell.execute_reply": "2023-01-11T05:32:28.794091Z",
     "shell.execute_reply.started": "2023-01-11T05:32:28.345184Z"
    }
   },
   "outputs": [
    {
     "name": "stdout",
     "output_type": "stream",
     "text": [
      "<class 'pandas.core.frame.DataFrame'>\n",
      "RangeIndex: 49342 entries, 0 to 49341\n",
      "Columns: 4992 entries, ID to 9fc776466\n",
      "dtypes: float64(4991), object(1)\n",
      "memory usage: 1.8+ GB\n"
     ]
    }
   ],
   "source": [
    "# test data\n",
    "test_df.info()"
   ]
  },
  {
   "cell_type": "markdown",
   "metadata": {},
   "source": [
    "### Checking for Null values:"
   ]
  },
  {
   "cell_type": "code",
   "execution_count": 7,
   "metadata": {
    "execution": {
     "iopub.execute_input": "2023-01-11T05:32:28.800756Z",
     "iopub.status.busy": "2023-01-11T05:32:28.799085Z",
     "iopub.status.idle": "2023-01-11T05:32:28.93467Z",
     "shell.execute_reply": "2023-01-11T05:32:28.933605Z",
     "shell.execute_reply.started": "2023-01-11T05:32:28.800699Z"
    }
   },
   "outputs": [
    {
     "name": "stdout",
     "output_type": "stream",
     "text": [
      "Total Train Features with NaN Values = 0\n"
     ]
    }
   ],
   "source": [
    "# train data\n",
    "print(\"Total Train Features with NaN Values = \" + str(train_df.columns[train_df.isnull().sum() != 0].size))\n",
    "if (train_df.columns[train_df.isnull().sum() != 0].size):\n",
    "    print(\"Features with NaN => {}\".format(list(train_df.columns[train_df.isnull().sum() != 0])))\n",
    "    train_df[train_df.columns[train_df.isnull().sum() != 0]].isnull().sum().sort_values(ascending = False)"
   ]
  },
  {
   "cell_type": "code",
   "execution_count": 8,
   "metadata": {
    "execution": {
     "iopub.execute_input": "2023-01-11T05:32:28.938326Z",
     "iopub.status.busy": "2023-01-11T05:32:28.937477Z",
     "iopub.status.idle": "2023-01-11T05:32:30.149849Z",
     "shell.execute_reply": "2023-01-11T05:32:30.148626Z",
     "shell.execute_reply.started": "2023-01-11T05:32:28.938276Z"
    }
   },
   "outputs": [
    {
     "name": "stdout",
     "output_type": "stream",
     "text": [
      "Total Test Features with NaN Values = 0\n"
     ]
    }
   ],
   "source": [
    "# test data\n",
    "print(\"Total Test Features with NaN Values = \" + str(test_df.columns[test_df.isnull().sum() != 0].size))\n",
    "if (test_df.columns[test_df.isnull().sum() != 0].size):\n",
    "    print(\"Features with NaN => {}\".format(list(test_df.columns[test_df.isnull().sum() != 0])))\n",
    "    test_df[test_df.columns[test_df.isnull().sum() != 0]].isnull().sum().sort_values(ascending = False)"
   ]
  },
  {
   "cell_type": "markdown",
   "metadata": {},
   "source": [
    "### Checking and removing constant attribute columns:"
   ]
  },
  {
   "cell_type": "code",
   "execution_count": 9,
   "metadata": {
    "execution": {
     "iopub.execute_input": "2023-01-11T05:32:30.151973Z",
     "iopub.status.busy": "2023-01-11T05:32:30.151615Z",
     "iopub.status.idle": "2023-01-11T05:32:32.236032Z",
     "shell.execute_reply": "2023-01-11T05:32:32.23484Z",
     "shell.execute_reply.started": "2023-01-11T05:32:30.15194Z"
    },
    "scrolled": true
   },
   "outputs": [
    {
     "name": "stdout",
     "output_type": "stream",
     "text": [
      "Deleted `256` constant columns\n",
      "\n",
      "['d5308d8bc', 'c330f1a67', 'eeac16933', '7df8788e8', '5b91580ee', '6f29fbbc7', '46dafc868', 'ae41a98b6', 'f416800e9', '6d07828ca', '7ac332a1d', '70ee7950a', '833b35a7c', '2f9969eab', '8b1372217', '68322788b', '2288ac1a6', 'dc7f76962', '467044c26', '39ebfbfd9', '9a5ff8c23', 'f6fac27c8', '664e2800e', 'ae28689a2', 'd87dcac58', '4065efbb6', 'f944d9d43', 'c2c4491d5', 'a4346e2e2', '1af366d4f', 'cfff5b7c8', 'da215e99e', '5acd26139', '9be9c6cef', '1210d0271', '21b0a54cb', 'da35e792b', '754c502dd', '0b346adbd', '0f196b049', 'b603ed95d', '2a50e001c', '1e81432e7', '10350ea43', '3c7c7e24c', '7585fce2a', '64d036163', 'f25d9935c', 'd98484125', '95c85e227', '9a5273600', '746cdb817', '6377a6293', '7d944fb0c', '87eb21c50', '5ea313a8c', '0987a65a1', '2fb7c2443', 'f5dde409b', '1ae50d4c3', '2b21cd7d8', '0db8a9272', '804d8b55b', '76f135fa6', '7d7182143', 'f88e61ae6', '378ed28e0', 'ca4ba131e', '1352ddae5', '2b601ad67', '6e42ff7c7', '22196a84c', '0e410eb3d', '992e6d1d3', '90a742107', '08b9ec4ae', 'd95203ded', '58ad51def', '9f69ae59f', '863de8a31', 'be10df47c', 'f006d9618', 'a7e39d23d', '5ed0abe85', '6c578fe94', '7fa4fcee9', '5e0571f07', 'fd5659511', 'e06b9f40f', 'c506599c8', '99de8c2dc', 'b05f4b229', '5e0834175', 'eb1cc0d9c', 'b281a62b9', '00fcf67e4', 'e37b65992', '2308e2b29', 'c342e8709', '708471ebf', 'f614aac15', '15ecf7b68', '3bfe540f1', '7a0d98f3c', 'e642315a5', 'c16d456a7', '0c9b5bcfa', 'b778ab129', '2ace87cdd', '697a566f0', '97b1f84fc', '34eff114b', '5281333d7', 'c89f3ba7e', 'cd6d3c7e6', 'fc7c8f2e8', 'abbbf9f82', '24a233e8f', '8e26b560e', 'a28ac1049', '504502ce1', 'd9a8615f3', '4efd6d283', '34cc56e83', '93e98252a', '2b6cef19e', 'c7f70a49b', '0d29ab7eb', 'e4a0d39b7', 'a4d1a8409', 'bc694fc8f', '3a36fc3a2', '4ffba44d3', '9bfdec4bc', '66a866d2f', 'f941e9df7', 'e7af4dbf3', 'dc9a54a3e', '748168a04', 'bba8ce4bb', 'ff6f62aa4', 'b06fe66ba', 'ae87ebc42', 'f26589e57', '963bb53b1', 'a531a4bf0', '9fc79985d', '9350d55c1', 'de06e884c', 'fc10bdf18', 'e0907e883', 'c586d79a1', 'e15e1513d', 'a06067897', '643e42fcb', '217cd3838', '047ebc242', '9b6ce40cf', '3b2c972b3', '17a7bf25a', 'c9028d46b', '9e0473c91', '6b041d374', '783c50218', '19122191d', 'ce573744f', '1c4ea481e', 'fbd6e0a0b', '69831c049', 'b87e3036b', '54ba515ee', 'a09ba0b15', '90f77ec55', 'fb02ef0ea', '3b0cccd29', 'fe9ed417c', '589e8bd6f', '17b5a03fd', '80e16b49a', 'a3d5c2c2a', '1bd3a4e92', '611d81daa', '3d7780b1c', '113fd0206', '5e5894826', 'cb36204f9', 'bc4e3d600', 'c66e2deb0', 'c25851298', 'a7f6de992', '3f93a3272', 'c1b95c2ec', '6bda21fee', '4a64e56e7', '943743753', '20854f8bf', 'ac2e428a9', '5ee7de0be', '316423a21', '2e52b0c6a', '8bdf6bc7e', '8f523faf2', '4758340d5', '8411096ec', '9678b95b7', 'a185e35cc', 'fa980a778', 'c8d90f7d7', '080540c81', '32591c8b4', '5779da33c', 'bb425b41e', '01599af81', '1654ab770', 'd334a588e', 'b4353599c', '51b53eaec', '2cc0fbc52', '45ffef194', 'c15ac04ee', '5b055c8ea', 'd0466eb58', 'a80633823', 'a117a5409', '7ddac276f', '8c32df8b3', 'e5649663e', '6c16efbb8', '9118fd5ca', 'ca8d565f1', '16a5bb8d2', 'fd6347461', 'f5179fb9c', '97428b646', 'f684b0a96', 'e4b2caa9f', '2c2d9f267', '96eb14eaf', 'cb2cb460c', '86f843927', 'ecd16fc60', '801c6dc8e', 'f859a25b8', 'ae846f332', '2252c7403', 'fb9e07326', 'd196ca1fd', 'a8e562e8e', 'eb6bb7ce1', '5beff147e', '52b347cdc', '4600aadcf', '6fa0b9dab', '43d70cc4d', '408021ef8', 'e29d22b59']\n"
     ]
    }
   ],
   "source": [
    "\n",
    "colsToRemove = []\n",
    "for col in train_df.columns:\n",
    "    if col !='ID' and col !='target':\n",
    "        if train_df[col].std() == 0:\n",
    "            colsToRemove.append(col)\n",
    "\n",
    "train_df.drop(colsToRemove, axis=1, inplace=True)\n",
    "\n",
    "test_df.drop(colsToRemove, axis=1, inplace=True)\n",
    "\n",
    "print(\"Deleted `{}` constant columns\\n\".format(len(colsToRemove)))\n",
    "print(colsToRemove)"
   ]
  },
  {
   "cell_type": "markdown",
   "metadata": {},
   "source": [
    "### Removing duplicate columns:"
   ]
  },
  {
   "cell_type": "code",
   "execution_count": 10,
   "metadata": {
    "execution": {
     "iopub.execute_input": "2023-01-11T05:32:32.240287Z",
     "iopub.status.busy": "2023-01-11T05:32:32.239897Z",
     "iopub.status.idle": "2023-01-11T05:39:39.23431Z",
     "shell.execute_reply": "2023-01-11T05:39:39.232838Z",
     "shell.execute_reply.started": "2023-01-11T05:32:32.240252Z"
    }
   },
   "outputs": [
    {
     "name": "stdout",
     "output_type": "stream",
     "text": [
      "['34ceb0081', '8d57e2749', '168b3e5bc', 'a765da8bc', 'acc5b709d']\n",
      "Wall time: 12min 20s\n"
     ]
    }
   ],
   "source": [
    "%%time\n",
    "# Function to find duplicate columns\n",
    "def duplicate_columns(frame):\n",
    "    groups = frame.columns.to_series().groupby(frame.dtypes).groups\n",
    "    dups = []\n",
    "\n",
    "    for t, v in groups.items():\n",
    "\n",
    "        cs = frame[v].columns\n",
    "        vs = frame[v]\n",
    "        lcs = len(cs)\n",
    "\n",
    "        for i in range(lcs):\n",
    "            ia = vs.iloc[:,i].values\n",
    "            for j in range(i+1, lcs):\n",
    "                ja = vs.iloc[:,j].values\n",
    "                if np.array_equal(ia, ja):\n",
    "                    dups.append(cs[i])\n",
    "                    break\n",
    "\n",
    "    return dups\n",
    "\n",
    "colsToRemove = duplicate_columns(train_df)\n",
    "print(colsToRemove)"
   ]
  },
  {
   "cell_type": "code",
   "execution_count": 11,
   "metadata": {
    "execution": {
     "iopub.execute_input": "2023-01-11T05:39:39.236254Z",
     "iopub.status.busy": "2023-01-11T05:39:39.23589Z",
     "iopub.status.idle": "2023-01-11T05:39:47.716141Z",
     "shell.execute_reply": "2023-01-11T05:39:47.714825Z",
     "shell.execute_reply.started": "2023-01-11T05:39:39.236222Z"
    }
   },
   "outputs": [
    {
     "data": {
      "text/html": [
       "<div>\n",
       "<style scoped>\n",
       "    .dataframe tbody tr th:only-of-type {\n",
       "        vertical-align: middle;\n",
       "    }\n",
       "\n",
       "    .dataframe tbody tr th {\n",
       "        vertical-align: top;\n",
       "    }\n",
       "\n",
       "    .dataframe thead th {\n",
       "        text-align: right;\n",
       "    }\n",
       "</style>\n",
       "<table border=\"1\" class=\"dataframe\">\n",
       "  <thead>\n",
       "    <tr style=\"text-align: right;\">\n",
       "      <th></th>\n",
       "      <th>ID</th>\n",
       "      <th>target</th>\n",
       "      <th>48df886f9</th>\n",
       "      <th>0deb4b6a8</th>\n",
       "      <th>34b15f335</th>\n",
       "      <th>a8cb14b00</th>\n",
       "      <th>2f0771a37</th>\n",
       "      <th>30347e683</th>\n",
       "      <th>d08d1fbe3</th>\n",
       "      <th>6ee66e115</th>\n",
       "      <th>...</th>\n",
       "      <th>3ecc09859</th>\n",
       "      <th>9281abeea</th>\n",
       "      <th>8675bec0b</th>\n",
       "      <th>3a13ed79a</th>\n",
       "      <th>f677d4d13</th>\n",
       "      <th>71b203550</th>\n",
       "      <th>137efaa80</th>\n",
       "      <th>fb36b89d9</th>\n",
       "      <th>7e293fbaf</th>\n",
       "      <th>9fc776466</th>\n",
       "    </tr>\n",
       "  </thead>\n",
       "  <tbody>\n",
       "    <tr>\n",
       "      <th>0</th>\n",
       "      <td>000d6aaf2</td>\n",
       "      <td>3.8e+07</td>\n",
       "      <td>0</td>\n",
       "      <td>0</td>\n",
       "      <td>0</td>\n",
       "      <td>0</td>\n",
       "      <td>0</td>\n",
       "      <td>0</td>\n",
       "      <td>0</td>\n",
       "      <td>0</td>\n",
       "      <td>...</td>\n",
       "      <td>0</td>\n",
       "      <td>0</td>\n",
       "      <td>0</td>\n",
       "      <td>0</td>\n",
       "      <td>0</td>\n",
       "      <td>0</td>\n",
       "      <td>0</td>\n",
       "      <td>0</td>\n",
       "      <td>0</td>\n",
       "      <td>0</td>\n",
       "    </tr>\n",
       "    <tr>\n",
       "      <th>1</th>\n",
       "      <td>000fbd867</td>\n",
       "      <td>600000</td>\n",
       "      <td>0</td>\n",
       "      <td>0</td>\n",
       "      <td>0</td>\n",
       "      <td>0</td>\n",
       "      <td>0</td>\n",
       "      <td>0</td>\n",
       "      <td>0</td>\n",
       "      <td>0</td>\n",
       "      <td>...</td>\n",
       "      <td>0</td>\n",
       "      <td>0</td>\n",
       "      <td>0</td>\n",
       "      <td>0</td>\n",
       "      <td>0</td>\n",
       "      <td>0</td>\n",
       "      <td>0</td>\n",
       "      <td>0</td>\n",
       "      <td>0</td>\n",
       "      <td>0</td>\n",
       "    </tr>\n",
       "    <tr>\n",
       "      <th>2</th>\n",
       "      <td>0027d6b71</td>\n",
       "      <td>1e+07</td>\n",
       "      <td>0</td>\n",
       "      <td>0</td>\n",
       "      <td>0</td>\n",
       "      <td>0</td>\n",
       "      <td>0</td>\n",
       "      <td>0</td>\n",
       "      <td>0</td>\n",
       "      <td>0</td>\n",
       "      <td>...</td>\n",
       "      <td>0</td>\n",
       "      <td>0</td>\n",
       "      <td>0</td>\n",
       "      <td>0</td>\n",
       "      <td>0</td>\n",
       "      <td>0</td>\n",
       "      <td>0</td>\n",
       "      <td>0</td>\n",
       "      <td>0</td>\n",
       "      <td>0</td>\n",
       "    </tr>\n",
       "    <tr>\n",
       "      <th>3</th>\n",
       "      <td>0028cbf45</td>\n",
       "      <td>2e+06</td>\n",
       "      <td>0</td>\n",
       "      <td>0</td>\n",
       "      <td>0</td>\n",
       "      <td>0</td>\n",
       "      <td>0</td>\n",
       "      <td>0</td>\n",
       "      <td>0</td>\n",
       "      <td>0</td>\n",
       "      <td>...</td>\n",
       "      <td>0</td>\n",
       "      <td>0</td>\n",
       "      <td>0</td>\n",
       "      <td>0</td>\n",
       "      <td>0</td>\n",
       "      <td>0</td>\n",
       "      <td>0</td>\n",
       "      <td>0</td>\n",
       "      <td>0</td>\n",
       "      <td>0</td>\n",
       "    </tr>\n",
       "    <tr>\n",
       "      <th>4</th>\n",
       "      <td>002a68644</td>\n",
       "      <td>1.44e+07</td>\n",
       "      <td>0</td>\n",
       "      <td>0</td>\n",
       "      <td>0</td>\n",
       "      <td>0</td>\n",
       "      <td>0</td>\n",
       "      <td>0</td>\n",
       "      <td>0</td>\n",
       "      <td>0</td>\n",
       "      <td>...</td>\n",
       "      <td>0</td>\n",
       "      <td>0</td>\n",
       "      <td>0</td>\n",
       "      <td>0</td>\n",
       "      <td>0</td>\n",
       "      <td>0</td>\n",
       "      <td>0</td>\n",
       "      <td>0</td>\n",
       "      <td>0</td>\n",
       "      <td>0</td>\n",
       "    </tr>\n",
       "    <tr>\n",
       "      <th>...</th>\n",
       "      <td>...</td>\n",
       "      <td>...</td>\n",
       "      <td>...</td>\n",
       "      <td>...</td>\n",
       "      <td>...</td>\n",
       "      <td>...</td>\n",
       "      <td>...</td>\n",
       "      <td>...</td>\n",
       "      <td>...</td>\n",
       "      <td>...</td>\n",
       "      <td>...</td>\n",
       "      <td>...</td>\n",
       "      <td>...</td>\n",
       "      <td>...</td>\n",
       "      <td>...</td>\n",
       "      <td>...</td>\n",
       "      <td>...</td>\n",
       "      <td>...</td>\n",
       "      <td>...</td>\n",
       "      <td>...</td>\n",
       "      <td>...</td>\n",
       "    </tr>\n",
       "    <tr>\n",
       "      <th>4454</th>\n",
       "      <td>ff85154c8</td>\n",
       "      <td>1.065e+06</td>\n",
       "      <td>0</td>\n",
       "      <td>0</td>\n",
       "      <td>0</td>\n",
       "      <td>0</td>\n",
       "      <td>0</td>\n",
       "      <td>0</td>\n",
       "      <td>0</td>\n",
       "      <td>0</td>\n",
       "      <td>...</td>\n",
       "      <td>0</td>\n",
       "      <td>0</td>\n",
       "      <td>0</td>\n",
       "      <td>0</td>\n",
       "      <td>0</td>\n",
       "      <td>0</td>\n",
       "      <td>0</td>\n",
       "      <td>0</td>\n",
       "      <td>0</td>\n",
       "      <td>0</td>\n",
       "    </tr>\n",
       "    <tr>\n",
       "      <th>4455</th>\n",
       "      <td>ffb6b3f4f</td>\n",
       "      <td>48000</td>\n",
       "      <td>0</td>\n",
       "      <td>0</td>\n",
       "      <td>0</td>\n",
       "      <td>0</td>\n",
       "      <td>0</td>\n",
       "      <td>0</td>\n",
       "      <td>0</td>\n",
       "      <td>0</td>\n",
       "      <td>...</td>\n",
       "      <td>0</td>\n",
       "      <td>0</td>\n",
       "      <td>80000</td>\n",
       "      <td>0</td>\n",
       "      <td>0</td>\n",
       "      <td>0</td>\n",
       "      <td>0</td>\n",
       "      <td>0</td>\n",
       "      <td>0</td>\n",
       "      <td>0</td>\n",
       "    </tr>\n",
       "    <tr>\n",
       "      <th>4456</th>\n",
       "      <td>ffcf61eb6</td>\n",
       "      <td>2.8e+06</td>\n",
       "      <td>0</td>\n",
       "      <td>0</td>\n",
       "      <td>0</td>\n",
       "      <td>0</td>\n",
       "      <td>0</td>\n",
       "      <td>0</td>\n",
       "      <td>0</td>\n",
       "      <td>0</td>\n",
       "      <td>...</td>\n",
       "      <td>0</td>\n",
       "      <td>0</td>\n",
       "      <td>0</td>\n",
       "      <td>0</td>\n",
       "      <td>0</td>\n",
       "      <td>0</td>\n",
       "      <td>0</td>\n",
       "      <td>0</td>\n",
       "      <td>0</td>\n",
       "      <td>0</td>\n",
       "    </tr>\n",
       "    <tr>\n",
       "      <th>4457</th>\n",
       "      <td>ffea67e98</td>\n",
       "      <td>1e+07</td>\n",
       "      <td>0</td>\n",
       "      <td>0</td>\n",
       "      <td>0</td>\n",
       "      <td>0</td>\n",
       "      <td>0</td>\n",
       "      <td>0</td>\n",
       "      <td>0</td>\n",
       "      <td>0</td>\n",
       "      <td>...</td>\n",
       "      <td>0</td>\n",
       "      <td>0</td>\n",
       "      <td>0</td>\n",
       "      <td>0</td>\n",
       "      <td>0</td>\n",
       "      <td>0</td>\n",
       "      <td>0</td>\n",
       "      <td>0</td>\n",
       "      <td>0</td>\n",
       "      <td>0</td>\n",
       "    </tr>\n",
       "    <tr>\n",
       "      <th>4458</th>\n",
       "      <td>ffeb15d25</td>\n",
       "      <td>2e+07</td>\n",
       "      <td>0</td>\n",
       "      <td>0</td>\n",
       "      <td>0</td>\n",
       "      <td>0</td>\n",
       "      <td>0</td>\n",
       "      <td>0</td>\n",
       "      <td>0</td>\n",
       "      <td>0</td>\n",
       "      <td>...</td>\n",
       "      <td>0</td>\n",
       "      <td>0</td>\n",
       "      <td>0</td>\n",
       "      <td>0</td>\n",
       "      <td>0</td>\n",
       "      <td>0</td>\n",
       "      <td>0</td>\n",
       "      <td>0</td>\n",
       "      <td>0</td>\n",
       "      <td>0</td>\n",
       "    </tr>\n",
       "  </tbody>\n",
       "</table>\n",
       "<p>4459 rows × 4732 columns</p>\n",
       "</div>"
      ],
      "text/plain": [
       "             ID     target 48df886f9 0deb4b6a8 34b15f335 a8cb14b00 2f0771a37  \\\n",
       "0     000d6aaf2    3.8e+07         0         0         0         0         0   \n",
       "1     000fbd867     600000         0         0         0         0         0   \n",
       "2     0027d6b71      1e+07         0         0         0         0         0   \n",
       "3     0028cbf45      2e+06         0         0         0         0         0   \n",
       "4     002a68644   1.44e+07         0         0         0         0         0   \n",
       "...         ...        ...       ...       ...       ...       ...       ...   \n",
       "4454  ff85154c8  1.065e+06         0         0         0         0         0   \n",
       "4455  ffb6b3f4f      48000         0         0         0         0         0   \n",
       "4456  ffcf61eb6    2.8e+06         0         0         0         0         0   \n",
       "4457  ffea67e98      1e+07         0         0         0         0         0   \n",
       "4458  ffeb15d25      2e+07         0         0         0         0         0   \n",
       "\n",
       "     30347e683 d08d1fbe3 6ee66e115  ... 3ecc09859 9281abeea 8675bec0b  \\\n",
       "0            0         0         0  ...         0         0         0   \n",
       "1            0         0         0  ...         0         0         0   \n",
       "2            0         0         0  ...         0         0         0   \n",
       "3            0         0         0  ...         0         0         0   \n",
       "4            0         0         0  ...         0         0         0   \n",
       "...        ...       ...       ...  ...       ...       ...       ...   \n",
       "4454         0         0         0  ...         0         0         0   \n",
       "4455         0         0         0  ...         0         0     80000   \n",
       "4456         0         0         0  ...         0         0         0   \n",
       "4457         0         0         0  ...         0         0         0   \n",
       "4458         0         0         0  ...         0         0         0   \n",
       "\n",
       "     3a13ed79a f677d4d13 71b203550 137efaa80 fb36b89d9 7e293fbaf 9fc776466  \n",
       "0            0         0         0         0         0         0         0  \n",
       "1            0         0         0         0         0         0         0  \n",
       "2            0         0         0         0         0         0         0  \n",
       "3            0         0         0         0         0         0         0  \n",
       "4            0         0         0         0         0         0         0  \n",
       "...        ...       ...       ...       ...       ...       ...       ...  \n",
       "4454         0         0         0         0         0         0         0  \n",
       "4455         0         0         0         0         0         0         0  \n",
       "4456         0         0         0         0         0         0         0  \n",
       "4457         0         0         0         0         0         0         0  \n",
       "4458         0         0         0         0         0         0         0  \n",
       "\n",
       "[4459 rows x 4732 columns]"
      ]
     },
     "execution_count": 11,
     "metadata": {},
     "output_type": "execute_result"
    }
   ],
   "source": [
    "# Dropping duplicate columns from train data:\n",
    "train_df.T.drop_duplicates(keep='last').T"
   ]
  },
  {
   "cell_type": "code",
   "execution_count": 12,
   "metadata": {
    "execution": {
     "iopub.execute_input": "2023-01-11T05:39:47.71825Z",
     "iopub.status.busy": "2023-01-11T05:39:47.717851Z",
     "iopub.status.idle": "2023-01-11T05:39:49.050404Z",
     "shell.execute_reply": "2023-01-11T05:39:49.049146Z",
     "shell.execute_reply.started": "2023-01-11T05:39:47.718218Z"
    }
   },
   "outputs": [
    {
     "name": "stdout",
     "output_type": "stream",
     "text": [
      "Removed `5` Duplicate Columns\n",
      "\n",
      "['34ceb0081', '8d57e2749', '168b3e5bc', 'a765da8bc', 'acc5b709d']\n"
     ]
    }
   ],
   "source": [
    "# Removing duplicate columns from train data\n",
    "train_df.drop(colsToRemove, axis=1, inplace=True) \n",
    "\n",
    "# Removing duplicate columns from test data\n",
    "test_df.drop(colsToRemove, axis=1, inplace=True)\n",
    "\n",
    "print(\"Removed `{}` Duplicate Columns\\n\".format(len(colsToRemove)))\n",
    "print(colsToRemove)"
   ]
  },
  {
   "cell_type": "markdown",
   "metadata": {},
   "source": [
    "### Removing sparse data:"
   ]
  },
  {
   "cell_type": "code",
   "execution_count": 13,
   "metadata": {
    "execution": {
     "iopub.execute_input": "2023-01-11T05:39:49.052711Z",
     "iopub.status.busy": "2023-01-11T05:39:49.052219Z",
     "iopub.status.idle": "2023-01-11T05:39:49.061457Z",
     "shell.execute_reply": "2023-01-11T05:39:49.059913Z",
     "shell.execute_reply.started": "2023-01-11T05:39:49.052664Z"
    }
   },
   "outputs": [],
   "source": [
    "# Function to remove sparse columns\n",
    "def drop_sparse(train, test):\n",
    "    flist = [x for x in train.columns if not x in ['ID','target']]\n",
    "    for f in flist:\n",
    "        if len(np.unique(train[f]))<2:\n",
    "            train.drop(f, axis=1, inplace=True)\n",
    "            test.drop(f, axis=1, inplace=True)\n",
    "    return train, test"
   ]
  },
  {
   "cell_type": "code",
   "execution_count": 14,
   "metadata": {
    "execution": {
     "iopub.execute_input": "2023-01-11T05:39:49.063993Z",
     "iopub.status.busy": "2023-01-11T05:39:49.06342Z",
     "iopub.status.idle": "2023-01-11T05:39:49.740443Z",
     "shell.execute_reply": "2023-01-11T05:39:49.738893Z",
     "shell.execute_reply.started": "2023-01-11T05:39:49.063943Z"
    }
   },
   "outputs": [
    {
     "name": "stdout",
     "output_type": "stream",
     "text": [
      "Wall time: 1.68 s\n"
     ]
    }
   ],
   "source": [
    "%%time\n",
    "train_df, test_df = drop_sparse(train_df, test_df)"
   ]
  },
  {
   "cell_type": "code",
   "execution_count": 15,
   "metadata": {
    "execution": {
     "iopub.execute_input": "2023-01-11T05:39:49.743772Z",
     "iopub.status.busy": "2023-01-11T05:39:49.743289Z",
     "iopub.status.idle": "2023-01-11T05:39:49.968835Z",
     "shell.execute_reply": "2023-01-11T05:39:49.967331Z",
     "shell.execute_reply.started": "2023-01-11T05:39:49.743729Z"
    }
   },
   "outputs": [
    {
     "name": "stdout",
     "output_type": "stream",
     "text": [
      "Train set size: (4459, 4732)\n",
      "Test set size: (49342, 4731)\n"
     ]
    }
   ],
   "source": [
    "gc.collect()\n",
    "print(\"Train set size: {}\".format(train_df.shape))\n",
    "print(\"Test set size: {}\".format(test_df.shape))"
   ]
  },
  {
   "cell_type": "code",
   "execution_count": 16,
   "metadata": {
    "execution": {
     "iopub.execute_input": "2023-01-11T05:39:49.971221Z",
     "iopub.status.busy": "2023-01-11T05:39:49.97081Z",
     "iopub.status.idle": "2023-01-11T05:39:50.958568Z",
     "shell.execute_reply": "2023-01-11T05:39:50.957144Z",
     "shell.execute_reply.started": "2023-01-11T05:39:49.971184Z"
    }
   },
   "outputs": [],
   "source": [
    "# Creating training and test data for modeling:\n",
    "X_train = train_df.drop([\"ID\", \"target\"], axis=1)\n",
    "y_train = np.log1p(train_df[\"target\"].values)\n",
    "\n",
    "X_test = test_df.drop([\"ID\"], axis=1)"
   ]
  },
  {
   "cell_type": "code",
   "execution_count": 17,
   "metadata": {
    "execution": {
     "iopub.execute_input": "2023-01-11T05:39:50.961322Z",
     "iopub.status.busy": "2023-01-11T05:39:50.960752Z",
     "iopub.status.idle": "2023-01-11T05:39:51.138934Z",
     "shell.execute_reply": "2023-01-11T05:39:51.137497Z",
     "shell.execute_reply.started": "2023-01-11T05:39:50.961283Z"
    }
   },
   "outputs": [],
   "source": [
    "# train test split of the train data:\n",
    "dev_X, val_X, dev_y, val_y = train_test_split(X_train, y_train, test_size = 0.2, random_state = 42)"
   ]
  },
  {
   "cell_type": "code",
   "execution_count": 18,
   "metadata": {
    "execution": {
     "iopub.execute_input": "2023-01-11T05:39:51.141324Z",
     "iopub.status.busy": "2023-01-11T05:39:51.14062Z",
     "iopub.status.idle": "2023-01-11T05:39:51.151893Z",
     "shell.execute_reply": "2023-01-11T05:39:51.150493Z",
     "shell.execute_reply.started": "2023-01-11T05:39:51.141273Z"
    }
   },
   "outputs": [],
   "source": [
    "# Defining a function for LightGBM model:\n",
    "def run_lgb(train_X, train_y, val_X, val_y, test_X):\n",
    "    params = {\n",
    "        \"objective\" : \"regression\",\n",
    "        \"metric\" : \"rmse\",\n",
    "        \"num_leaves\" : 40,\n",
    "        \"learning_rate\" : 0.004,\n",
    "        \"bagging_fraction\" : 0.6,\n",
    "        \"feature_fraction\" : 0.6,\n",
    "        \"bagging_frequency\" : 6,\n",
    "        \"bagging_seed\" : 42,\n",
    "        \"verbosity\" : -1,\n",
    "        \"seed\": 42\n",
    "    }\n",
    "    \n",
    "    lgtrain = lgb.Dataset(train_X, label=train_y)\n",
    "    lgval = lgb.Dataset(val_X, label=val_y)\n",
    "    evals_result = {}\n",
    "    model = lgb.train(params, lgtrain, 5000, \n",
    "                      valid_sets=[lgtrain, lgval], \n",
    "                      early_stopping_rounds=100, \n",
    "                      verbose_eval=150, \n",
    "                      evals_result=evals_result)\n",
    "    \n",
    "    pred_test_y = np.expm1(model.predict(test_X, num_iteration=model.best_iteration))\n",
    "    return pred_test_y, model, evals_result"
   ]
  },
  {
   "cell_type": "code",
   "execution_count": 19,
   "metadata": {
    "execution": {
     "iopub.execute_input": "2023-01-11T05:39:51.153791Z",
     "iopub.status.busy": "2023-01-11T05:39:51.153417Z",
     "iopub.status.idle": "2023-01-11T05:40:49.29208Z",
     "shell.execute_reply": "2023-01-11T05:40:49.290415Z",
     "shell.execute_reply.started": "2023-01-11T05:39:51.153753Z"
    }
   },
   "outputs": [
    {
     "name": "stdout",
     "output_type": "stream",
     "text": [
      "[LightGBM] [Warning] Unknown parameter: bagging_frequency\n",
      "Training until validation scores don't improve for 100 rounds\n",
      "[150]\ttraining's rmse: 1.50845\tvalid_1's rmse: 1.539\n",
      "[300]\ttraining's rmse: 1.3446\tvalid_1's rmse: 1.46591\n",
      "[450]\ttraining's rmse: 1.23333\tvalid_1's rmse: 1.43454\n",
      "[600]\ttraining's rmse: 1.15002\tvalid_1's rmse: 1.42157\n",
      "[750]\ttraining's rmse: 1.08396\tvalid_1's rmse: 1.41615\n",
      "[900]\ttraining's rmse: 1.03041\tvalid_1's rmse: 1.41411\n",
      "Early stopping, best iteration is:\n",
      "[877]\ttraining's rmse: 1.03806\tvalid_1's rmse: 1.4137\n",
      "LightGBM Training Completed...\n",
      "Wall time: 1min 5s\n"
     ]
    }
   ],
   "source": [
    "%%time\n",
    "# Training the LightGBM model:\n",
    "pred_test_lgb, model, evals_result = run_lgb(dev_X, dev_y, val_X, val_y, X_test)\n",
    "print(\"LightGBM Training Completed...\")"
   ]
  },
  {
   "cell_type": "code",
   "execution_count": 20,
   "metadata": {
    "execution": {
     "iopub.execute_input": "2023-01-11T05:40:49.296243Z",
     "iopub.status.busy": "2023-01-11T05:40:49.295711Z",
     "iopub.status.idle": "2023-01-11T05:40:49.325144Z",
     "shell.execute_reply": "2023-01-11T05:40:49.323366Z",
     "shell.execute_reply.started": "2023-01-11T05:40:49.296207Z"
    }
   },
   "outputs": [
    {
     "name": "stdout",
     "output_type": "stream",
     "text": [
      "Features Importance...\n",
      "        feature  split      gain\n",
      "4130  f190486d6    795  9.217105\n",
      "2375  58e2e02e6    703  5.445323\n",
      "3465  eeb9cd3aa    662  4.520153\n",
      "4020  15ace8c9f    514  3.023536\n",
      "2614  9fd594eec    362  2.933775\n",
      "8     20aa07010    425  2.229353\n",
      "3571  58232a6fb    371  1.503661\n",
      "834   6eef030c1    313  1.411549\n",
      "1457  b43a7cfd5    385  1.285384\n",
      "3661  491b9ee45    276  1.066377\n",
      "2687  fb0f5dbfe    408  1.065763\n",
      "1482  024c577b9    260  0.936856\n",
      "2079  58e056e12    338  0.904839\n",
      "4508  c47340d97    320  0.878493\n",
      "4343  1702b5bf0    282  0.873053\n",
      "3867  2288333b4    174  0.867616\n",
      "4185  f74e8f13d    338  0.832932\n",
      "566   66ace2992    280  0.794802\n",
      "828   6786ea46d    175  0.771087\n",
      "3722  d6bb78916    286  0.767982\n",
      "3791  ed8ff54b5    166  0.763305\n",
      "3220  ced6a7e91    247  0.758728\n",
      "4028  5c6487af1    193  0.704117\n",
      "1378  6cf7866c1    162  0.696926\n",
      "863   fc99f9426    235  0.679075\n",
      "3886  50e4f96cf    140  0.666640\n",
      "34    87ffda550    163  0.623059\n",
      "213   186b87c05     68  0.618299\n",
      "853   bc70cbc26    131  0.607238\n",
      "3811  adb64ff71    219  0.599406\n",
      "2616  fb387ea33    119  0.555205\n",
      "3983  45f6d00da    214  0.549651\n",
      "4453  190db8488    189  0.536611\n",
      "624   0c9462c08    213  0.533057\n",
      "2134  241f0f867    171  0.519935\n",
      "1067  17b81a716    147  0.499832\n",
      "3509  13bdd610a    180  0.494540\n",
      "537   26fc93eb7    195  0.478122\n",
      "4316  c5a231d81    150  0.453239\n",
      "3849  73687e512    158  0.441645\n",
      "3779  70feb1494    157  0.435867\n",
      "1748  5f341a818    134  0.428465\n",
      "1007  1c71183bb    185  0.422412\n",
      "4341  e176a204a    177  0.421350\n",
      "2211  1931ccfdd    162  0.407706\n",
      "1548  26ab20ff9    130  0.401694\n",
      "3006  703885424    121  0.398626\n",
      "1848  5a1589f1a    195  0.377912\n",
      "1044  edc84139a    183  0.373385\n",
      "4290  9280f3d04    178  0.364188\n"
     ]
    }
   ],
   "source": [
    "# Feature Importance\n",
    "print(\"Features Importance...\")\n",
    "gain = model.feature_importance('gain')\n",
    "featureimp = pd.DataFrame({'feature':model.feature_name(), \n",
    "                   'split':model.feature_importance('split'), \n",
    "                   'gain':100 * gain / gain.sum()}).sort_values('gain', ascending=False)\n",
    "print(featureimp[:50])"
   ]
  },
  {
   "cell_type": "code",
   "execution_count": 21,
   "metadata": {
    "execution": {
     "iopub.execute_input": "2023-01-11T05:40:49.327501Z",
     "iopub.status.busy": "2023-01-11T05:40:49.327039Z",
     "iopub.status.idle": "2023-01-11T05:40:49.338136Z",
     "shell.execute_reply": "2023-01-11T05:40:49.336445Z",
     "shell.execute_reply.started": "2023-01-11T05:40:49.327464Z"
    }
   },
   "outputs": [],
   "source": [
    "# Function to train a XGBoost Model:\n",
    "def run_xgb(train_X, train_y, val_X, val_y, test_X):\n",
    "    params = {'objective': 'reg:linear', \n",
    "          'eval_metric': 'rmse',\n",
    "          'eta': 0.001,\n",
    "          'max_depth': 10, \n",
    "          'subsample': 0.6, \n",
    "          'colsample_bytree': 0.6,\n",
    "          'alpha':0.001,\n",
    "          'random_state': 42, \n",
    "          'silent': True}\n",
    "    \n",
    "    tr_data = xgb.DMatrix(train_X, train_y)\n",
    "    va_data = xgb.DMatrix(val_X, val_y)\n",
    "    \n",
    "    watchlist = [(tr_data, 'train'), (va_data, 'valid')]\n",
    "    \n",
    "    model_xgb = xgb.train(params, tr_data, 2000, watchlist, maximize=False, early_stopping_rounds = 100, verbose_eval=100)\n",
    "    \n",
    "    dtest = xgb.DMatrix(test_X)\n",
    "    xgb_pred_y = np.expm1(model_xgb.predict(dtest, ntree_limit=model_xgb.best_ntree_limit))\n",
    "    \n",
    "    return xgb_pred_y, model_xgb"
   ]
  },
  {
   "cell_type": "code",
   "execution_count": 22,
   "metadata": {
    "execution": {
     "iopub.execute_input": "2023-01-11T05:40:49.340858Z",
     "iopub.status.busy": "2023-01-11T05:40:49.34041Z",
     "iopub.status.idle": "2023-01-11T05:54:46.220234Z",
     "shell.execute_reply": "2023-01-11T05:54:46.218212Z",
     "shell.execute_reply.started": "2023-01-11T05:40:49.340769Z"
    }
   },
   "outputs": [
    {
     "name": "stdout",
     "output_type": "stream",
     "text": [
      "[11:43:05] WARNING: C:/buildkite-agent/builds/buildkite-windows-cpu-autoscaling-group-i-0fc7796c793e6356f-1/xgboost/xgboost-ci-windows/src/objective/regression_obj.cu:213: reg:linear is now deprecated in favor of reg:squarederror.\n",
      "[11:43:05] WARNING: C:/buildkite-agent/builds/buildkite-windows-cpu-autoscaling-group-i-0fc7796c793e6356f-1/xgboost/xgboost-ci-windows/src/learner.cc:767: \n",
      "Parameters: { \"silent\" } are not used.\n",
      "\n",
      "[0]\ttrain-rmse:14.08764\tvalid-rmse:14.07678\n",
      "[100]\ttrain-rmse:12.76875\tvalid-rmse:12.75679\n",
      "[200]\ttrain-rmse:11.57719\tvalid-rmse:11.56388\n",
      "[300]\ttrain-rmse:10.50042\tvalid-rmse:10.48590\n",
      "[400]\ttrain-rmse:9.52826\tvalid-rmse:9.51335\n",
      "[500]\ttrain-rmse:8.65075\tvalid-rmse:8.63628\n",
      "[600]\ttrain-rmse:7.85853\tvalid-rmse:7.84507\n",
      "[700]\ttrain-rmse:7.14378\tvalid-rmse:7.13204\n",
      "[800]\ttrain-rmse:6.49866\tvalid-rmse:6.48963\n",
      "[900]\ttrain-rmse:5.91700\tvalid-rmse:5.91129\n",
      "[1000]\ttrain-rmse:5.39177\tvalid-rmse:5.39058\n",
      "[1100]\ttrain-rmse:4.91908\tvalid-rmse:4.92353\n",
      "[1200]\ttrain-rmse:4.49300\tvalid-rmse:4.50427\n",
      "[1300]\ttrain-rmse:4.10934\tvalid-rmse:4.12785\n",
      "[1400]\ttrain-rmse:3.76422\tvalid-rmse:3.79143\n",
      "[1500]\ttrain-rmse:3.45402\tvalid-rmse:3.49097\n",
      "[1600]\ttrain-rmse:3.17554\tvalid-rmse:3.22369\n",
      "[1700]\ttrain-rmse:2.92588\tvalid-rmse:2.98593\n",
      "[1800]\ttrain-rmse:2.70232\tvalid-rmse:2.77526\n",
      "[1900]\ttrain-rmse:2.50285\tvalid-rmse:2.58957\n",
      "[1999]\ttrain-rmse:2.32668\tvalid-rmse:2.42792\n",
      "XGB Training Completed...\n",
      "Wall time: 12min 16s\n"
     ]
    }
   ],
   "source": [
    "%%time\n",
    "# Training the XGBoost model:\n",
    "pred_test_xgb, model_xgb = run_xgb(dev_X, dev_y, val_X, val_y, X_test)\n",
    "print(\"XGB Training Completed...\")"
   ]
  },
  {
   "cell_type": "code",
   "execution_count": 23,
   "metadata": {
    "execution": {
     "iopub.execute_input": "2023-01-11T05:54:46.223356Z",
     "iopub.status.busy": "2023-01-11T05:54:46.222733Z",
     "iopub.status.idle": "2023-01-11T06:07:11.042846Z",
     "shell.execute_reply": "2023-01-11T06:07:11.04096Z",
     "shell.execute_reply.started": "2023-01-11T05:54:46.223293Z"
    }
   },
   "outputs": [
    {
     "name": "stderr",
     "output_type": "stream",
     "text": [
      "Warning: Overfitting detector is active, thus evaluation metric is calculated on every iteration. 'metric_period' is ignored for evaluation metric.\n"
     ]
    },
    {
     "name": "stdout",
     "output_type": "stream",
     "text": [
      "0:\tlearn: 1.7518683\ttest: 1.6878429\tbest: 1.6878429 (0)\ttotal: 3.65s\tremaining: 30m 20s\n",
      "50:\tlearn: 1.4789181\ttest: 1.5197196\tbest: 1.5197196 (50)\ttotal: 3m 13s\tremaining: 28m 26s\n",
      "100:\tlearn: 1.3788775\ttest: 1.4780503\tbest: 1.4780503 (100)\ttotal: 6m 19s\tremaining: 24m 59s\n",
      "150:\tlearn: 1.3203081\ttest: 1.4647232\tbest: 1.4647232 (150)\ttotal: 9m 19s\tremaining: 21m 32s\n",
      "200:\tlearn: 1.2546056\ttest: 1.4505032\tbest: 1.4504536 (198)\ttotal: 12m 28s\tremaining: 18m 33s\n",
      "250:\tlearn: 1.1817435\ttest: 1.4381513\tbest: 1.4381513 (250)\ttotal: 15m 26s\tremaining: 15m 18s\n",
      "300:\tlearn: 1.1208241\ttest: 1.4320748\tbest: 1.4314980 (297)\ttotal: 18m 31s\tremaining: 12m 15s\n",
      "350:\tlearn: 1.0770301\ttest: 1.4298988\tbest: 1.4297384 (347)\ttotal: 21m 29s\tremaining: 9m 7s\n",
      "Stopped by overfitting detector  (20 iterations wait)\n",
      "\n",
      "bestTest = 1.428228031\n",
      "bestIteration = 376\n",
      "\n",
      "Shrink model to first 377 iterations.\n",
      "Wall time: 24min 15s\n"
     ]
    },
    {
     "data": {
      "text/plain": [
       "<catboost.core.CatBoostRegressor at 0x28ab3ae2a90>"
      ]
     },
     "execution_count": 23,
     "metadata": {},
     "output_type": "execute_result"
    }
   ],
   "source": [
    "%%time\n",
    "# Training a CatBoost model:\n",
    "cb_model = CatBoostRegressor(iterations=500,\n",
    "                             learning_rate=0.05,\n",
    "                             depth=10,\n",
    "                             eval_metric='RMSE',\n",
    "                             random_seed = 42,\n",
    "                             bagging_temperature = 0.2,\n",
    "                             od_type='Iter',\n",
    "                             metric_period = 50,\n",
    "                             od_wait=20)\n",
    "cb_model.fit(dev_X, dev_y,\n",
    "             eval_set=(val_X, val_y),\n",
    "             use_best_model=True,\n",
    "             verbose=50)"
   ]
  },
  {
   "cell_type": "code",
   "execution_count": 24,
   "metadata": {
    "execution": {
     "iopub.execute_input": "2023-01-11T06:07:51.927315Z",
     "iopub.status.busy": "2023-01-11T06:07:51.925888Z",
     "iopub.status.idle": "2023-01-11T06:07:52.782158Z",
     "shell.execute_reply": "2023-01-11T06:07:52.780465Z",
     "shell.execute_reply.started": "2023-01-11T06:07:51.927255Z"
    }
   },
   "outputs": [],
   "source": [
    "pred_test_cat = np.expm1(cb_model.predict(X_test))"
   ]
  },
  {
   "cell_type": "code",
   "execution_count": 26,
   "metadata": {
    "execution": {
     "iopub.execute_input": "2023-01-11T06:08:51.799169Z",
     "iopub.status.busy": "2023-01-11T06:08:51.798718Z",
     "iopub.status.idle": "2023-01-11T06:08:51.891084Z",
     "shell.execute_reply": "2023-01-11T06:08:51.889464Z",
     "shell.execute_reply.started": "2023-01-11T06:08:51.799133Z"
    }
   },
   "outputs": [],
   "source": [
    "# Fusing the three models:\n",
    "sub = pd.read_csv('sample_submission.csv')\n",
    "\n",
    "sub_lgb = pd.DataFrame()\n",
    "sub_lgb[\"target\"] = pred_test_lgb\n",
    "\n",
    "sub_xgb = pd.DataFrame()\n",
    "sub_xgb[\"target\"] = pred_test_xgb\n",
    "\n",
    "sub_cat = pd.DataFrame()\n",
    "sub_cat[\"target\"] = pred_test_cat\n",
    "\n",
    "sub[\"target\"] = (sub_lgb[\"target\"] * 0.5 + sub_xgb[\"target\"] * 0.3 + sub_cat[\"target\"] * 0.2)"
   ]
  },
  {
   "cell_type": "code",
   "execution_count": null,
   "metadata": {
    "execution": {
     "iopub.execute_input": "2023-01-11T06:49:44.833518Z",
     "iopub.status.busy": "2023-01-11T06:49:44.830647Z",
     "iopub.status.idle": "2023-01-11T06:49:45.095546Z",
     "shell.execute_reply": "2023-01-11T06:49:45.093933Z",
     "shell.execute_reply.started": "2023-01-11T06:49:44.833455Z"
    }
   },
   "outputs": [],
   "source": [
    "print(sub.head())\n",
    "sub.to_csv('sub_lgb_xgb_cat.csv', index=False)\n",
    "sub.to_csv('submission.csv', index=False)"
   ]
  },
  {
   "cell_type": "code",
   "execution_count": null,
   "metadata": {},
   "outputs": [],
   "source": []
  }
 ],
 "metadata": {
  "kernelspec": {
   "display_name": "Python 3",
   "language": "python",
   "name": "python3"
  },
  "language_info": {
   "codemirror_mode": {
    "name": "ipython",
    "version": 3
   },
   "file_extension": ".py",
   "mimetype": "text/x-python",
   "name": "python",
   "nbconvert_exporter": "python",
   "pygments_lexer": "ipython3",
   "version": "3.8.3"
  }
 },
 "nbformat": 4,
 "nbformat_minor": 4
}
