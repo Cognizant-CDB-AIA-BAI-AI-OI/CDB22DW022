{
 "cells": [
  {
   "cell_type": "markdown",
   "metadata": {},
   "source": [
    "# Kaggle Project 7: TMDB Box Office Prediction - Solution\n",
    "## Prepared by : Dwaipayan Mukherjee (2211569)"
   ]
  },
  {
   "cell_type": "markdown",
   "metadata": {},
   "source": [
    "## About the project:\n",
    "\n",
    "In this dataset, we are provided with 7398 movies and a variety of metadata obtained from The Movie Database (TMDB). Movies are labeled with `id`. Data points include cast, crew, plot keywords, budget, posters, release dates, languages, production companies, and countries.\n",
    "\n",
    "We are predicting the worldwide revenue for 4398 movies in the `test` file.\n",
    "\n",
    "## Content:\n",
    "\n",
    "\n",
    "## 1. Imports:\n",
    "\n",
    "Here I do the necessary imports."
   ]
  },
  {
   "cell_type": "code",
   "execution_count": 1,
   "metadata": {},
   "outputs": [],
   "source": [
    "import numpy as np\n",
    "import pandas as pd\n",
    "import matplotlib.pyplot as plt\n",
    "import seaborn as sns\n",
    "%matplotlib inline"
   ]
  },
  {
   "cell_type": "code",
   "execution_count": 2,
   "metadata": {},
   "outputs": [],
   "source": [
    "import ast \n",
    "from sklearn.ensemble import RandomForestRegressor \n",
    "from sklearn.inspection import permutation_importance \n",
    "from sklearn import preprocessing\n",
    "from sklearn.model_selection import train_test_split\n",
    "from sklearn.metrics import mean_absolute_error\n",
    "from xgboost import XGBRegressor\n",
    "import missingno as msno"
   ]
  },
  {
   "cell_type": "code",
   "execution_count": 59,
   "metadata": {},
   "outputs": [],
   "source": [
    "from sklearn.model_selection import KFold\n",
    "import lightgbm\n",
    "from lightgbm import LGBMRegressor"
   ]
  },
  {
   "cell_type": "markdown",
   "metadata": {},
   "source": [
    "Now I load the `train` data, `test` data and the `sample_submission` datasets as Pandas DataFrames."
   ]
  },
  {
   "cell_type": "code",
   "execution_count": 3,
   "metadata": {},
   "outputs": [],
   "source": [
    "train = pd.read_csv('train.csv')\n",
    "test = pd.read_csv('test.csv')\n",
    "submission = pd.read_csv(\"sample_submission.csv\")"
   ]
  },
  {
   "cell_type": "markdown",
   "metadata": {},
   "source": [
    "## 2. Understanding the dataset:\n",
    "\n",
    "I first check the head of the `train` and `test` datasets, and then the info."
   ]
  },
  {
   "cell_type": "code",
   "execution_count": 4,
   "metadata": {},
   "outputs": [
    {
     "data": {
      "text/html": [
       "<div>\n",
       "<style scoped>\n",
       "    .dataframe tbody tr th:only-of-type {\n",
       "        vertical-align: middle;\n",
       "    }\n",
       "\n",
       "    .dataframe tbody tr th {\n",
       "        vertical-align: top;\n",
       "    }\n",
       "\n",
       "    .dataframe thead th {\n",
       "        text-align: right;\n",
       "    }\n",
       "</style>\n",
       "<table border=\"1\" class=\"dataframe\">\n",
       "  <thead>\n",
       "    <tr style=\"text-align: right;\">\n",
       "      <th></th>\n",
       "      <th>id</th>\n",
       "      <th>belongs_to_collection</th>\n",
       "      <th>budget</th>\n",
       "      <th>genres</th>\n",
       "      <th>homepage</th>\n",
       "      <th>imdb_id</th>\n",
       "      <th>original_language</th>\n",
       "      <th>original_title</th>\n",
       "      <th>overview</th>\n",
       "      <th>popularity</th>\n",
       "      <th>...</th>\n",
       "      <th>release_date</th>\n",
       "      <th>runtime</th>\n",
       "      <th>spoken_languages</th>\n",
       "      <th>status</th>\n",
       "      <th>tagline</th>\n",
       "      <th>title</th>\n",
       "      <th>Keywords</th>\n",
       "      <th>cast</th>\n",
       "      <th>crew</th>\n",
       "      <th>revenue</th>\n",
       "    </tr>\n",
       "  </thead>\n",
       "  <tbody>\n",
       "    <tr>\n",
       "      <th>0</th>\n",
       "      <td>1</td>\n",
       "      <td>[{'id': 313576, 'name': 'Hot Tub Time Machine ...</td>\n",
       "      <td>14000000</td>\n",
       "      <td>[{'id': 35, 'name': 'Comedy'}]</td>\n",
       "      <td>NaN</td>\n",
       "      <td>tt2637294</td>\n",
       "      <td>en</td>\n",
       "      <td>Hot Tub Time Machine 2</td>\n",
       "      <td>When Lou, who has become the \"father of the In...</td>\n",
       "      <td>6.575393</td>\n",
       "      <td>...</td>\n",
       "      <td>2/20/15</td>\n",
       "      <td>93.0</td>\n",
       "      <td>[{'iso_639_1': 'en', 'name': 'English'}]</td>\n",
       "      <td>Released</td>\n",
       "      <td>The Laws of Space and Time are About to be Vio...</td>\n",
       "      <td>Hot Tub Time Machine 2</td>\n",
       "      <td>[{'id': 4379, 'name': 'time travel'}, {'id': 9...</td>\n",
       "      <td>[{'cast_id': 4, 'character': 'Lou', 'credit_id...</td>\n",
       "      <td>[{'credit_id': '59ac067c92514107af02c8c8', 'de...</td>\n",
       "      <td>12314651</td>\n",
       "    </tr>\n",
       "    <tr>\n",
       "      <th>1</th>\n",
       "      <td>2</td>\n",
       "      <td>[{'id': 107674, 'name': 'The Princess Diaries ...</td>\n",
       "      <td>40000000</td>\n",
       "      <td>[{'id': 35, 'name': 'Comedy'}, {'id': 18, 'nam...</td>\n",
       "      <td>NaN</td>\n",
       "      <td>tt0368933</td>\n",
       "      <td>en</td>\n",
       "      <td>The Princess Diaries 2: Royal Engagement</td>\n",
       "      <td>Mia Thermopolis is now a college graduate and ...</td>\n",
       "      <td>8.248895</td>\n",
       "      <td>...</td>\n",
       "      <td>8/6/04</td>\n",
       "      <td>113.0</td>\n",
       "      <td>[{'iso_639_1': 'en', 'name': 'English'}]</td>\n",
       "      <td>Released</td>\n",
       "      <td>It can take a lifetime to find true love; she'...</td>\n",
       "      <td>The Princess Diaries 2: Royal Engagement</td>\n",
       "      <td>[{'id': 2505, 'name': 'coronation'}, {'id': 42...</td>\n",
       "      <td>[{'cast_id': 1, 'character': 'Mia Thermopolis'...</td>\n",
       "      <td>[{'credit_id': '52fe43fe9251416c7502563d', 'de...</td>\n",
       "      <td>95149435</td>\n",
       "    </tr>\n",
       "    <tr>\n",
       "      <th>2</th>\n",
       "      <td>3</td>\n",
       "      <td>NaN</td>\n",
       "      <td>3300000</td>\n",
       "      <td>[{'id': 18, 'name': 'Drama'}]</td>\n",
       "      <td>http://sonyclassics.com/whiplash/</td>\n",
       "      <td>tt2582802</td>\n",
       "      <td>en</td>\n",
       "      <td>Whiplash</td>\n",
       "      <td>Under the direction of a ruthless instructor, ...</td>\n",
       "      <td>64.299990</td>\n",
       "      <td>...</td>\n",
       "      <td>10/10/14</td>\n",
       "      <td>105.0</td>\n",
       "      <td>[{'iso_639_1': 'en', 'name': 'English'}]</td>\n",
       "      <td>Released</td>\n",
       "      <td>The road to greatness can take you to the edge.</td>\n",
       "      <td>Whiplash</td>\n",
       "      <td>[{'id': 1416, 'name': 'jazz'}, {'id': 1523, 'n...</td>\n",
       "      <td>[{'cast_id': 5, 'character': 'Andrew Neimann',...</td>\n",
       "      <td>[{'credit_id': '54d5356ec3a3683ba0000039', 'de...</td>\n",
       "      <td>13092000</td>\n",
       "    </tr>\n",
       "    <tr>\n",
       "      <th>3</th>\n",
       "      <td>4</td>\n",
       "      <td>NaN</td>\n",
       "      <td>1200000</td>\n",
       "      <td>[{'id': 53, 'name': 'Thriller'}, {'id': 18, 'n...</td>\n",
       "      <td>http://kahaanithefilm.com/</td>\n",
       "      <td>tt1821480</td>\n",
       "      <td>hi</td>\n",
       "      <td>Kahaani</td>\n",
       "      <td>Vidya Bagchi (Vidya Balan) arrives in Kolkata ...</td>\n",
       "      <td>3.174936</td>\n",
       "      <td>...</td>\n",
       "      <td>3/9/12</td>\n",
       "      <td>122.0</td>\n",
       "      <td>[{'iso_639_1': 'en', 'name': 'English'}, {'iso...</td>\n",
       "      <td>Released</td>\n",
       "      <td>NaN</td>\n",
       "      <td>Kahaani</td>\n",
       "      <td>[{'id': 10092, 'name': 'mystery'}, {'id': 1054...</td>\n",
       "      <td>[{'cast_id': 1, 'character': 'Vidya Bagchi', '...</td>\n",
       "      <td>[{'credit_id': '52fe48779251416c9108d6eb', 'de...</td>\n",
       "      <td>16000000</td>\n",
       "    </tr>\n",
       "    <tr>\n",
       "      <th>4</th>\n",
       "      <td>5</td>\n",
       "      <td>NaN</td>\n",
       "      <td>0</td>\n",
       "      <td>[{'id': 28, 'name': 'Action'}, {'id': 53, 'nam...</td>\n",
       "      <td>NaN</td>\n",
       "      <td>tt1380152</td>\n",
       "      <td>ko</td>\n",
       "      <td>마린보이</td>\n",
       "      <td>Marine Boy is the story of a former national s...</td>\n",
       "      <td>1.148070</td>\n",
       "      <td>...</td>\n",
       "      <td>2/5/09</td>\n",
       "      <td>118.0</td>\n",
       "      <td>[{'iso_639_1': 'ko', 'name': '한국어/조선말'}]</td>\n",
       "      <td>Released</td>\n",
       "      <td>NaN</td>\n",
       "      <td>Marine Boy</td>\n",
       "      <td>NaN</td>\n",
       "      <td>[{'cast_id': 3, 'character': 'Chun-soo', 'cred...</td>\n",
       "      <td>[{'credit_id': '52fe464b9251416c75073b43', 'de...</td>\n",
       "      <td>3923970</td>\n",
       "    </tr>\n",
       "  </tbody>\n",
       "</table>\n",
       "<p>5 rows × 23 columns</p>\n",
       "</div>"
      ],
      "text/plain": [
       "   id                              belongs_to_collection    budget  \\\n",
       "0   1  [{'id': 313576, 'name': 'Hot Tub Time Machine ...  14000000   \n",
       "1   2  [{'id': 107674, 'name': 'The Princess Diaries ...  40000000   \n",
       "2   3                                                NaN   3300000   \n",
       "3   4                                                NaN   1200000   \n",
       "4   5                                                NaN         0   \n",
       "\n",
       "                                              genres  \\\n",
       "0                     [{'id': 35, 'name': 'Comedy'}]   \n",
       "1  [{'id': 35, 'name': 'Comedy'}, {'id': 18, 'nam...   \n",
       "2                      [{'id': 18, 'name': 'Drama'}]   \n",
       "3  [{'id': 53, 'name': 'Thriller'}, {'id': 18, 'n...   \n",
       "4  [{'id': 28, 'name': 'Action'}, {'id': 53, 'nam...   \n",
       "\n",
       "                            homepage    imdb_id original_language  \\\n",
       "0                                NaN  tt2637294                en   \n",
       "1                                NaN  tt0368933                en   \n",
       "2  http://sonyclassics.com/whiplash/  tt2582802                en   \n",
       "3         http://kahaanithefilm.com/  tt1821480                hi   \n",
       "4                                NaN  tt1380152                ko   \n",
       "\n",
       "                             original_title  \\\n",
       "0                    Hot Tub Time Machine 2   \n",
       "1  The Princess Diaries 2: Royal Engagement   \n",
       "2                                  Whiplash   \n",
       "3                                   Kahaani   \n",
       "4                                      마린보이   \n",
       "\n",
       "                                            overview  popularity  ...  \\\n",
       "0  When Lou, who has become the \"father of the In...    6.575393  ...   \n",
       "1  Mia Thermopolis is now a college graduate and ...    8.248895  ...   \n",
       "2  Under the direction of a ruthless instructor, ...   64.299990  ...   \n",
       "3  Vidya Bagchi (Vidya Balan) arrives in Kolkata ...    3.174936  ...   \n",
       "4  Marine Boy is the story of a former national s...    1.148070  ...   \n",
       "\n",
       "  release_date runtime                                   spoken_languages  \\\n",
       "0      2/20/15    93.0           [{'iso_639_1': 'en', 'name': 'English'}]   \n",
       "1       8/6/04   113.0           [{'iso_639_1': 'en', 'name': 'English'}]   \n",
       "2     10/10/14   105.0           [{'iso_639_1': 'en', 'name': 'English'}]   \n",
       "3       3/9/12   122.0  [{'iso_639_1': 'en', 'name': 'English'}, {'iso...   \n",
       "4       2/5/09   118.0           [{'iso_639_1': 'ko', 'name': '한국어/조선말'}]   \n",
       "\n",
       "     status                                            tagline  \\\n",
       "0  Released  The Laws of Space and Time are About to be Vio...   \n",
       "1  Released  It can take a lifetime to find true love; she'...   \n",
       "2  Released    The road to greatness can take you to the edge.   \n",
       "3  Released                                                NaN   \n",
       "4  Released                                                NaN   \n",
       "\n",
       "                                      title  \\\n",
       "0                    Hot Tub Time Machine 2   \n",
       "1  The Princess Diaries 2: Royal Engagement   \n",
       "2                                  Whiplash   \n",
       "3                                   Kahaani   \n",
       "4                                Marine Boy   \n",
       "\n",
       "                                            Keywords  \\\n",
       "0  [{'id': 4379, 'name': 'time travel'}, {'id': 9...   \n",
       "1  [{'id': 2505, 'name': 'coronation'}, {'id': 42...   \n",
       "2  [{'id': 1416, 'name': 'jazz'}, {'id': 1523, 'n...   \n",
       "3  [{'id': 10092, 'name': 'mystery'}, {'id': 1054...   \n",
       "4                                                NaN   \n",
       "\n",
       "                                                cast  \\\n",
       "0  [{'cast_id': 4, 'character': 'Lou', 'credit_id...   \n",
       "1  [{'cast_id': 1, 'character': 'Mia Thermopolis'...   \n",
       "2  [{'cast_id': 5, 'character': 'Andrew Neimann',...   \n",
       "3  [{'cast_id': 1, 'character': 'Vidya Bagchi', '...   \n",
       "4  [{'cast_id': 3, 'character': 'Chun-soo', 'cred...   \n",
       "\n",
       "                                                crew   revenue  \n",
       "0  [{'credit_id': '59ac067c92514107af02c8c8', 'de...  12314651  \n",
       "1  [{'credit_id': '52fe43fe9251416c7502563d', 'de...  95149435  \n",
       "2  [{'credit_id': '54d5356ec3a3683ba0000039', 'de...  13092000  \n",
       "3  [{'credit_id': '52fe48779251416c9108d6eb', 'de...  16000000  \n",
       "4  [{'credit_id': '52fe464b9251416c75073b43', 'de...   3923970  \n",
       "\n",
       "[5 rows x 23 columns]"
      ]
     },
     "execution_count": 4,
     "metadata": {},
     "output_type": "execute_result"
    }
   ],
   "source": [
    "train.head()"
   ]
  },
  {
   "cell_type": "code",
   "execution_count": 5,
   "metadata": {},
   "outputs": [
    {
     "data": {
      "text/html": [
       "<div>\n",
       "<style scoped>\n",
       "    .dataframe tbody tr th:only-of-type {\n",
       "        vertical-align: middle;\n",
       "    }\n",
       "\n",
       "    .dataframe tbody tr th {\n",
       "        vertical-align: top;\n",
       "    }\n",
       "\n",
       "    .dataframe thead th {\n",
       "        text-align: right;\n",
       "    }\n",
       "</style>\n",
       "<table border=\"1\" class=\"dataframe\">\n",
       "  <thead>\n",
       "    <tr style=\"text-align: right;\">\n",
       "      <th></th>\n",
       "      <th>id</th>\n",
       "      <th>belongs_to_collection</th>\n",
       "      <th>budget</th>\n",
       "      <th>genres</th>\n",
       "      <th>homepage</th>\n",
       "      <th>imdb_id</th>\n",
       "      <th>original_language</th>\n",
       "      <th>original_title</th>\n",
       "      <th>overview</th>\n",
       "      <th>popularity</th>\n",
       "      <th>...</th>\n",
       "      <th>production_countries</th>\n",
       "      <th>release_date</th>\n",
       "      <th>runtime</th>\n",
       "      <th>spoken_languages</th>\n",
       "      <th>status</th>\n",
       "      <th>tagline</th>\n",
       "      <th>title</th>\n",
       "      <th>Keywords</th>\n",
       "      <th>cast</th>\n",
       "      <th>crew</th>\n",
       "    </tr>\n",
       "  </thead>\n",
       "  <tbody>\n",
       "    <tr>\n",
       "      <th>0</th>\n",
       "      <td>3001</td>\n",
       "      <td>[{'id': 34055, 'name': 'Pokémon Collection', '...</td>\n",
       "      <td>0</td>\n",
       "      <td>[{'id': 12, 'name': 'Adventure'}, {'id': 16, '...</td>\n",
       "      <td>http://www.pokemon.com/us/movies/movie-pokemon...</td>\n",
       "      <td>tt1226251</td>\n",
       "      <td>ja</td>\n",
       "      <td>ディアルガVSパルキアVSダークライ</td>\n",
       "      <td>Ash and friends (this time accompanied by newc...</td>\n",
       "      <td>3.851534</td>\n",
       "      <td>...</td>\n",
       "      <td>[{'iso_3166_1': 'JP', 'name': 'Japan'}, {'iso_...</td>\n",
       "      <td>7/14/07</td>\n",
       "      <td>90.0</td>\n",
       "      <td>[{'iso_639_1': 'en', 'name': 'English'}, {'iso...</td>\n",
       "      <td>Released</td>\n",
       "      <td>Somewhere Between Time &amp; Space... A Legend Is ...</td>\n",
       "      <td>Pokémon: The Rise of Darkrai</td>\n",
       "      <td>[{'id': 11451, 'name': 'pok√©mon'}, {'id': 115...</td>\n",
       "      <td>[{'cast_id': 3, 'character': 'Tonio', 'credit_...</td>\n",
       "      <td>[{'credit_id': '52fe44e7c3a368484e03d683', 'de...</td>\n",
       "    </tr>\n",
       "    <tr>\n",
       "      <th>1</th>\n",
       "      <td>3002</td>\n",
       "      <td>NaN</td>\n",
       "      <td>88000</td>\n",
       "      <td>[{'id': 27, 'name': 'Horror'}, {'id': 878, 'na...</td>\n",
       "      <td>NaN</td>\n",
       "      <td>tt0051380</td>\n",
       "      <td>en</td>\n",
       "      <td>Attack of the 50 Foot Woman</td>\n",
       "      <td>When an abused wife grows to giant size becaus...</td>\n",
       "      <td>3.559789</td>\n",
       "      <td>...</td>\n",
       "      <td>[{'iso_3166_1': 'US', 'name': 'United States o...</td>\n",
       "      <td>5/19/58</td>\n",
       "      <td>65.0</td>\n",
       "      <td>[{'iso_639_1': 'en', 'name': 'English'}]</td>\n",
       "      <td>Released</td>\n",
       "      <td>A titanic beauty spreads a macabre wave of hor...</td>\n",
       "      <td>Attack of the 50 Foot Woman</td>\n",
       "      <td>[{'id': 9748, 'name': 'revenge'}, {'id': 9951,...</td>\n",
       "      <td>[{'cast_id': 2, 'character': 'Nancy Fowler Arc...</td>\n",
       "      <td>[{'credit_id': '55807805c3a3685b1300060b', 'de...</td>\n",
       "    </tr>\n",
       "    <tr>\n",
       "      <th>2</th>\n",
       "      <td>3003</td>\n",
       "      <td>NaN</td>\n",
       "      <td>0</td>\n",
       "      <td>[{'id': 35, 'name': 'Comedy'}, {'id': 10749, '...</td>\n",
       "      <td>NaN</td>\n",
       "      <td>tt0118556</td>\n",
       "      <td>en</td>\n",
       "      <td>Addicted to Love</td>\n",
       "      <td>Good-natured astronomer Sam is devastated when...</td>\n",
       "      <td>8.085194</td>\n",
       "      <td>...</td>\n",
       "      <td>[{'iso_3166_1': 'US', 'name': 'United States o...</td>\n",
       "      <td>5/23/97</td>\n",
       "      <td>100.0</td>\n",
       "      <td>[{'iso_639_1': 'en', 'name': 'English'}]</td>\n",
       "      <td>Released</td>\n",
       "      <td>A Comedy About Lost Loves And Last Laughs</td>\n",
       "      <td>Addicted to Love</td>\n",
       "      <td>[{'id': 931, 'name': 'jealousy'}, {'id': 9673,...</td>\n",
       "      <td>[{'cast_id': 11, 'character': 'Maggie', 'credi...</td>\n",
       "      <td>[{'credit_id': '52fe4330c3a36847f8041367', 'de...</td>\n",
       "    </tr>\n",
       "    <tr>\n",
       "      <th>3</th>\n",
       "      <td>3004</td>\n",
       "      <td>NaN</td>\n",
       "      <td>6800000</td>\n",
       "      <td>[{'id': 18, 'name': 'Drama'}, {'id': 10752, 'n...</td>\n",
       "      <td>http://www.sonyclassics.com/incendies/</td>\n",
       "      <td>tt1255953</td>\n",
       "      <td>fr</td>\n",
       "      <td>Incendies</td>\n",
       "      <td>A mother's last wishes send twins Jeanne and S...</td>\n",
       "      <td>8.596012</td>\n",
       "      <td>...</td>\n",
       "      <td>[{'iso_3166_1': 'CA', 'name': 'Canada'}, {'iso...</td>\n",
       "      <td>9/4/10</td>\n",
       "      <td>130.0</td>\n",
       "      <td>[{'iso_639_1': 'fr', 'name': 'Français'}, {'is...</td>\n",
       "      <td>Released</td>\n",
       "      <td>The search began at the opening of their mothe...</td>\n",
       "      <td>Incendies</td>\n",
       "      <td>[{'id': 378, 'name': 'prison'}, {'id': 539, 'n...</td>\n",
       "      <td>[{'cast_id': 6, 'character': 'Nawal', 'credit_...</td>\n",
       "      <td>[{'credit_id': '56478092c3a36826140043af', 'de...</td>\n",
       "    </tr>\n",
       "    <tr>\n",
       "      <th>4</th>\n",
       "      <td>3005</td>\n",
       "      <td>NaN</td>\n",
       "      <td>2000000</td>\n",
       "      <td>[{'id': 36, 'name': 'History'}, {'id': 99, 'na...</td>\n",
       "      <td>NaN</td>\n",
       "      <td>tt0418753</td>\n",
       "      <td>en</td>\n",
       "      <td>Inside Deep Throat</td>\n",
       "      <td>In 1972, a seemingly typical shoestring budget...</td>\n",
       "      <td>3.217680</td>\n",
       "      <td>...</td>\n",
       "      <td>[{'iso_3166_1': 'US', 'name': 'United States o...</td>\n",
       "      <td>2/11/05</td>\n",
       "      <td>92.0</td>\n",
       "      <td>[{'iso_639_1': 'en', 'name': 'English'}]</td>\n",
       "      <td>Released</td>\n",
       "      <td>It was filmed in 6 days for 25 thousand dollar...</td>\n",
       "      <td>Inside Deep Throat</td>\n",
       "      <td>[{'id': 279, 'name': 'usa'}, {'id': 1228, 'nam...</td>\n",
       "      <td>[{'cast_id': 1, 'character': 'Narrator (voice)...</td>\n",
       "      <td>[{'credit_id': '52fe44ce9251416c75041967', 'de...</td>\n",
       "    </tr>\n",
       "  </tbody>\n",
       "</table>\n",
       "<p>5 rows × 22 columns</p>\n",
       "</div>"
      ],
      "text/plain": [
       "     id                              belongs_to_collection   budget  \\\n",
       "0  3001  [{'id': 34055, 'name': 'Pokémon Collection', '...        0   \n",
       "1  3002                                                NaN    88000   \n",
       "2  3003                                                NaN        0   \n",
       "3  3004                                                NaN  6800000   \n",
       "4  3005                                                NaN  2000000   \n",
       "\n",
       "                                              genres  \\\n",
       "0  [{'id': 12, 'name': 'Adventure'}, {'id': 16, '...   \n",
       "1  [{'id': 27, 'name': 'Horror'}, {'id': 878, 'na...   \n",
       "2  [{'id': 35, 'name': 'Comedy'}, {'id': 10749, '...   \n",
       "3  [{'id': 18, 'name': 'Drama'}, {'id': 10752, 'n...   \n",
       "4  [{'id': 36, 'name': 'History'}, {'id': 99, 'na...   \n",
       "\n",
       "                                            homepage    imdb_id  \\\n",
       "0  http://www.pokemon.com/us/movies/movie-pokemon...  tt1226251   \n",
       "1                                                NaN  tt0051380   \n",
       "2                                                NaN  tt0118556   \n",
       "3             http://www.sonyclassics.com/incendies/  tt1255953   \n",
       "4                                                NaN  tt0418753   \n",
       "\n",
       "  original_language               original_title  \\\n",
       "0                ja           ディアルガVSパルキアVSダークライ   \n",
       "1                en  Attack of the 50 Foot Woman   \n",
       "2                en             Addicted to Love   \n",
       "3                fr                    Incendies   \n",
       "4                en           Inside Deep Throat   \n",
       "\n",
       "                                            overview  popularity  ...  \\\n",
       "0  Ash and friends (this time accompanied by newc...    3.851534  ...   \n",
       "1  When an abused wife grows to giant size becaus...    3.559789  ...   \n",
       "2  Good-natured astronomer Sam is devastated when...    8.085194  ...   \n",
       "3  A mother's last wishes send twins Jeanne and S...    8.596012  ...   \n",
       "4  In 1972, a seemingly typical shoestring budget...    3.217680  ...   \n",
       "\n",
       "                                production_countries release_date runtime  \\\n",
       "0  [{'iso_3166_1': 'JP', 'name': 'Japan'}, {'iso_...      7/14/07    90.0   \n",
       "1  [{'iso_3166_1': 'US', 'name': 'United States o...      5/19/58    65.0   \n",
       "2  [{'iso_3166_1': 'US', 'name': 'United States o...      5/23/97   100.0   \n",
       "3  [{'iso_3166_1': 'CA', 'name': 'Canada'}, {'iso...       9/4/10   130.0   \n",
       "4  [{'iso_3166_1': 'US', 'name': 'United States o...      2/11/05    92.0   \n",
       "\n",
       "                                    spoken_languages    status  \\\n",
       "0  [{'iso_639_1': 'en', 'name': 'English'}, {'iso...  Released   \n",
       "1           [{'iso_639_1': 'en', 'name': 'English'}]  Released   \n",
       "2           [{'iso_639_1': 'en', 'name': 'English'}]  Released   \n",
       "3  [{'iso_639_1': 'fr', 'name': 'Français'}, {'is...  Released   \n",
       "4           [{'iso_639_1': 'en', 'name': 'English'}]  Released   \n",
       "\n",
       "                                             tagline  \\\n",
       "0  Somewhere Between Time & Space... A Legend Is ...   \n",
       "1  A titanic beauty spreads a macabre wave of hor...   \n",
       "2          A Comedy About Lost Loves And Last Laughs   \n",
       "3  The search began at the opening of their mothe...   \n",
       "4  It was filmed in 6 days for 25 thousand dollar...   \n",
       "\n",
       "                          title  \\\n",
       "0  Pokémon: The Rise of Darkrai   \n",
       "1   Attack of the 50 Foot Woman   \n",
       "2              Addicted to Love   \n",
       "3                     Incendies   \n",
       "4            Inside Deep Throat   \n",
       "\n",
       "                                            Keywords  \\\n",
       "0  [{'id': 11451, 'name': 'pok√©mon'}, {'id': 115...   \n",
       "1  [{'id': 9748, 'name': 'revenge'}, {'id': 9951,...   \n",
       "2  [{'id': 931, 'name': 'jealousy'}, {'id': 9673,...   \n",
       "3  [{'id': 378, 'name': 'prison'}, {'id': 539, 'n...   \n",
       "4  [{'id': 279, 'name': 'usa'}, {'id': 1228, 'nam...   \n",
       "\n",
       "                                                cast  \\\n",
       "0  [{'cast_id': 3, 'character': 'Tonio', 'credit_...   \n",
       "1  [{'cast_id': 2, 'character': 'Nancy Fowler Arc...   \n",
       "2  [{'cast_id': 11, 'character': 'Maggie', 'credi...   \n",
       "3  [{'cast_id': 6, 'character': 'Nawal', 'credit_...   \n",
       "4  [{'cast_id': 1, 'character': 'Narrator (voice)...   \n",
       "\n",
       "                                                crew  \n",
       "0  [{'credit_id': '52fe44e7c3a368484e03d683', 'de...  \n",
       "1  [{'credit_id': '55807805c3a3685b1300060b', 'de...  \n",
       "2  [{'credit_id': '52fe4330c3a36847f8041367', 'de...  \n",
       "3  [{'credit_id': '56478092c3a36826140043af', 'de...  \n",
       "4  [{'credit_id': '52fe44ce9251416c75041967', 'de...  \n",
       "\n",
       "[5 rows x 22 columns]"
      ]
     },
     "execution_count": 5,
     "metadata": {},
     "output_type": "execute_result"
    }
   ],
   "source": [
    "test.head()"
   ]
  },
  {
   "cell_type": "code",
   "execution_count": 6,
   "metadata": {},
   "outputs": [
    {
     "name": "stdout",
     "output_type": "stream",
     "text": [
      "Info of the datasets:\n",
      "\n",
      "\n",
      "--------train--------\n",
      "\n",
      "<class 'pandas.core.frame.DataFrame'>\n",
      "RangeIndex: 3000 entries, 0 to 2999\n",
      "Data columns (total 23 columns):\n",
      " #   Column                 Non-Null Count  Dtype  \n",
      "---  ------                 --------------  -----  \n",
      " 0   id                     3000 non-null   int64  \n",
      " 1   belongs_to_collection  604 non-null    object \n",
      " 2   budget                 3000 non-null   int64  \n",
      " 3   genres                 2993 non-null   object \n",
      " 4   homepage               946 non-null    object \n",
      " 5   imdb_id                3000 non-null   object \n",
      " 6   original_language      3000 non-null   object \n",
      " 7   original_title         3000 non-null   object \n",
      " 8   overview               2992 non-null   object \n",
      " 9   popularity             3000 non-null   float64\n",
      " 10  poster_path            2999 non-null   object \n",
      " 11  production_companies   2844 non-null   object \n",
      " 12  production_countries   2945 non-null   object \n",
      " 13  release_date           3000 non-null   object \n",
      " 14  runtime                2998 non-null   float64\n",
      " 15  spoken_languages       2980 non-null   object \n",
      " 16  status                 3000 non-null   object \n",
      " 17  tagline                2403 non-null   object \n",
      " 18  title                  3000 non-null   object \n",
      " 19  Keywords               2724 non-null   object \n",
      " 20  cast                   2987 non-null   object \n",
      " 21  crew                   2984 non-null   object \n",
      " 22  revenue                3000 non-null   int64  \n",
      "dtypes: float64(2), int64(3), object(18)\n",
      "memory usage: 539.2+ KB\n",
      "None\n",
      "\n",
      "---------test---------\n",
      "\n",
      "<class 'pandas.core.frame.DataFrame'>\n",
      "RangeIndex: 4398 entries, 0 to 4397\n",
      "Data columns (total 22 columns):\n",
      " #   Column                 Non-Null Count  Dtype  \n",
      "---  ------                 --------------  -----  \n",
      " 0   id                     4398 non-null   int64  \n",
      " 1   belongs_to_collection  877 non-null    object \n",
      " 2   budget                 4398 non-null   int64  \n",
      " 3   genres                 4382 non-null   object \n",
      " 4   homepage               1420 non-null   object \n",
      " 5   imdb_id                4398 non-null   object \n",
      " 6   original_language      4398 non-null   object \n",
      " 7   original_title         4398 non-null   object \n",
      " 8   overview               4384 non-null   object \n",
      " 9   popularity             4398 non-null   float64\n",
      " 10  poster_path            4397 non-null   object \n",
      " 11  production_companies   4140 non-null   object \n",
      " 12  production_countries   4296 non-null   object \n",
      " 13  release_date           4397 non-null   object \n",
      " 14  runtime                4394 non-null   float64\n",
      " 15  spoken_languages       4356 non-null   object \n",
      " 16  status                 4396 non-null   object \n",
      " 17  tagline                3535 non-null   object \n",
      " 18  title                  4395 non-null   object \n",
      " 19  Keywords               4005 non-null   object \n",
      " 20  cast                   4385 non-null   object \n",
      " 21  crew                   4376 non-null   object \n",
      "dtypes: float64(2), int64(2), object(18)\n",
      "memory usage: 756.0+ KB\n",
      "None\n"
     ]
    }
   ],
   "source": [
    "print(\"Info of the datasets:\\n\")\n",
    "print(\"\\n--------train--------\\n\")\n",
    "print(train.info())\n",
    "\n",
    "print(\"\\n---------test---------\\n\")\n",
    "print(test.info())"
   ]
  },
  {
   "cell_type": "markdown",
   "metadata": {},
   "source": [
    "Descriptive statistics of the numerical columns:"
   ]
  },
  {
   "cell_type": "code",
   "execution_count": 8,
   "metadata": {},
   "outputs": [
    {
     "name": "stdout",
     "output_type": "stream",
     "text": [
      "Descriptive statistics of the numerical columns:\n",
      "\n",
      "\n",
      "--------train--------\n",
      "\n",
      "             count          mean           std       min           25%  \\\n",
      "id          3000.0  1.500500e+03  8.661697e+02  1.000000  7.507500e+02   \n",
      "budget      3000.0  2.253133e+07  3.702609e+07  0.000000  0.000000e+00   \n",
      "popularity  3000.0  8.463274e+00  1.210400e+01  0.000001  4.018053e+00   \n",
      "runtime     2998.0  1.078566e+02  2.208643e+01  0.000000  9.400000e+01   \n",
      "revenue     3000.0  6.672585e+07  1.375323e+08  1.000000  2.379808e+06   \n",
      "\n",
      "                     50%           75%           max  \n",
      "id          1.500500e+03  2.250250e+03  3.000000e+03  \n",
      "budget      8.000000e+06  2.900000e+07  3.800000e+08  \n",
      "popularity  7.374861e+00  1.089098e+01  2.943370e+02  \n",
      "runtime     1.040000e+02  1.180000e+02  3.380000e+02  \n",
      "revenue     1.680707e+07  6.891920e+07  1.519558e+09  \n",
      "\n",
      "---------test---------\n",
      "\n",
      "             count          mean           std          min          25%  \\\n",
      "id          4398.0  5.199500e+03  1.269738e+03  3001.000000  4100.250000   \n",
      "budget      4398.0  2.264929e+07  3.689991e+07     0.000000     0.000000   \n",
      "popularity  4398.0  8.550230e+00  1.220901e+01     0.000001     3.895186   \n",
      "runtime     4394.0  1.076222e+02  2.105829e+01     0.000000    94.000000   \n",
      "\n",
      "                     50%           75%           max  \n",
      "id          5.199500e+03  6.298750e+03  7.398000e+03  \n",
      "budget      7.450000e+06  2.800000e+07  2.600000e+08  \n",
      "popularity  7.482241e+00  1.093852e+01  5.474883e+02  \n",
      "runtime     1.040000e+02  1.180000e+02  3.200000e+02  \n"
     ]
    }
   ],
   "source": [
    "print(\"Descriptive statistics of the numerical columns:\\n\")\n",
    "print(\"\\n--------train--------\\n\")\n",
    "print(train.describe().T)\n",
    "\n",
    "print(\"\\n---------test---------\\n\")\n",
    "print(test.describe().T)"
   ]
  },
  {
   "cell_type": "markdown",
   "metadata": {},
   "source": [
    "## 3. Dealing with Missing Values:\n",
    "\n",
    "First inspecting the columns for missing values:"
   ]
  },
  {
   "cell_type": "code",
   "execution_count": 9,
   "metadata": {},
   "outputs": [
    {
     "name": "stdout",
     "output_type": "stream",
     "text": [
      "Missing values\n",
      "\n",
      "\n",
      "--------train-----------\n",
      "\n",
      "id                          0\n",
      "belongs_to_collection    2396\n",
      "budget                      0\n",
      "genres                      7\n",
      "homepage                 2054\n",
      "imdb_id                     0\n",
      "original_language           0\n",
      "original_title              0\n",
      "overview                    8\n",
      "popularity                  0\n",
      "poster_path                 1\n",
      "production_companies      156\n",
      "production_countries       55\n",
      "release_date                0\n",
      "runtime                     2\n",
      "spoken_languages           20\n",
      "status                      0\n",
      "tagline                   597\n",
      "title                       0\n",
      "Keywords                  276\n",
      "cast                       13\n",
      "crew                       16\n",
      "revenue                     0\n",
      "dtype: int64\n",
      "\n",
      "--------test----------\n",
      "\n",
      "id                          0\n",
      "belongs_to_collection    3521\n",
      "budget                      0\n",
      "genres                     16\n",
      "homepage                 2978\n",
      "imdb_id                     0\n",
      "original_language           0\n",
      "original_title              0\n",
      "overview                   14\n",
      "popularity                  0\n",
      "poster_path                 1\n",
      "production_companies      258\n",
      "production_countries      102\n",
      "release_date                1\n",
      "runtime                     4\n",
      "spoken_languages           42\n",
      "status                      2\n",
      "tagline                   863\n",
      "title                       3\n",
      "Keywords                  393\n",
      "cast                       13\n",
      "crew                       22\n",
      "dtype: int64\n"
     ]
    }
   ],
   "source": [
    "print(\"Missing values\\n\")\n",
    "\n",
    "print(\"\\n--------train-----------\\n\")\n",
    "print(train.isna().sum())\n",
    "\n",
    "print(\"\\n--------test----------\\n\")\n",
    "print(test.isna().sum())"
   ]
  },
  {
   "cell_type": "markdown",
   "metadata": {},
   "source": [
    "I can differentiate between two groups of columns having missing values: one with maximum values missing and the other with only a small portion missing."
   ]
  },
  {
   "cell_type": "code",
   "execution_count": 11,
   "metadata": {},
   "outputs": [
    {
     "name": "stdout",
     "output_type": "stream",
     "text": [
      "Columns with max values missing\n",
      "\n",
      "\n",
      "---------train-----------\n",
      "\n",
      "Index(['belongs_to_collection', 'homepage'], dtype='object')\n",
      "\n",
      "---------test-----------\n",
      "\n",
      "Index(['belongs_to_collection', 'homepage'], dtype='object')\n"
     ]
    }
   ],
   "source": [
    "print(\"Columns with max values missing\\n\")\n",
    "print(\"\\n---------train-----------\\n\")\n",
    "print(train.columns[train.isna().sum() > (train.shape[0]/2)])\n",
    "\n",
    "print(\"\\n---------test-----------\\n\")\n",
    "print(test.columns[test.isna().sum() > (test.shape[0]/2)])"
   ]
  },
  {
   "cell_type": "markdown",
   "metadata": {},
   "source": [
    "Thus, `belongs_to_collection` and `homepage` are the two columns with over half of the values as missing values."
   ]
  },
  {
   "cell_type": "code",
   "execution_count": 13,
   "metadata": {},
   "outputs": [
    {
     "name": "stdout",
     "output_type": "stream",
     "text": [
      "Columns with some values missing\n",
      "\n",
      "\n",
      "---------train-----------\n",
      "\n",
      "Index(['genres', 'overview', 'poster_path', 'production_companies',\n",
      "       'production_countries', 'runtime', 'spoken_languages', 'tagline',\n",
      "       'Keywords', 'cast', 'crew'],\n",
      "      dtype='object')\n",
      "\n",
      "---------test-----------\n",
      "\n",
      "Index(['genres', 'overview', 'poster_path', 'production_companies',\n",
      "       'production_countries', 'release_date', 'runtime', 'spoken_languages',\n",
      "       'status', 'tagline', 'title', 'Keywords', 'cast', 'crew'],\n",
      "      dtype='object')\n"
     ]
    }
   ],
   "source": [
    "print(\"Columns with some values missing\\n\")\n",
    "print(\"\\n---------train-----------\\n\")\n",
    "print(train.columns[(train.isna().sum() < (train.shape[0]/2)) & (train.isna().sum() != 0)])\n",
    "\n",
    "print(\"\\n---------test-----------\\n\")\n",
    "print(test.columns[(test.isna().sum() < (test.shape[0]/2)) & (test.isna().sum() != 0)])"
   ]
  },
  {
   "cell_type": "markdown",
   "metadata": {},
   "source": [
    "Since the columns `belongs_to_collection` and `homepage` have more than half of its values missing, I will get rid of these two variables from the `train` and the `test` set."
   ]
  },
  {
   "cell_type": "code",
   "execution_count": 14,
   "metadata": {},
   "outputs": [],
   "source": [
    "train.drop(['belongs_to_collection', 'homepage'], axis=1, inplace=True)\n",
    "test.drop(['belongs_to_collection', 'homepage'], axis=1, inplace=True)"
   ]
  },
  {
   "cell_type": "markdown",
   "metadata": {},
   "source": [
    "Since there are only few missing values in the `runtime` column, I will try to fill them with data from the internet."
   ]
  },
  {
   "cell_type": "code",
   "execution_count": 15,
   "metadata": {},
   "outputs": [
    {
     "data": {
      "text/html": [
       "<div>\n",
       "<style scoped>\n",
       "    .dataframe tbody tr th:only-of-type {\n",
       "        vertical-align: middle;\n",
       "    }\n",
       "\n",
       "    .dataframe tbody tr th {\n",
       "        vertical-align: top;\n",
       "    }\n",
       "\n",
       "    .dataframe thead th {\n",
       "        text-align: right;\n",
       "    }\n",
       "</style>\n",
       "<table border=\"1\" class=\"dataframe\">\n",
       "  <thead>\n",
       "    <tr style=\"text-align: right;\">\n",
       "      <th></th>\n",
       "      <th>id</th>\n",
       "      <th>budget</th>\n",
       "      <th>genres</th>\n",
       "      <th>imdb_id</th>\n",
       "      <th>original_language</th>\n",
       "      <th>original_title</th>\n",
       "      <th>overview</th>\n",
       "      <th>popularity</th>\n",
       "      <th>poster_path</th>\n",
       "      <th>production_companies</th>\n",
       "      <th>...</th>\n",
       "      <th>release_date</th>\n",
       "      <th>runtime</th>\n",
       "      <th>spoken_languages</th>\n",
       "      <th>status</th>\n",
       "      <th>tagline</th>\n",
       "      <th>title</th>\n",
       "      <th>Keywords</th>\n",
       "      <th>cast</th>\n",
       "      <th>crew</th>\n",
       "      <th>revenue</th>\n",
       "    </tr>\n",
       "  </thead>\n",
       "  <tbody>\n",
       "    <tr>\n",
       "      <th>1335</th>\n",
       "      <td>1336</td>\n",
       "      <td>6000000</td>\n",
       "      <td>[{'id': 18, 'name': 'Drama'}]</td>\n",
       "      <td>tt1107828</td>\n",
       "      <td>ru</td>\n",
       "      <td>Королёв</td>\n",
       "      <td>NaN</td>\n",
       "      <td>0.292296</td>\n",
       "      <td>/2XcRiIvliLUUGqv5qOvpc76WeCU.jpg</td>\n",
       "      <td>NaN</td>\n",
       "      <td>...</td>\n",
       "      <td>10/29/07</td>\n",
       "      <td>NaN</td>\n",
       "      <td>NaN</td>\n",
       "      <td>Released</td>\n",
       "      <td>NaN</td>\n",
       "      <td>Королёв</td>\n",
       "      <td>NaN</td>\n",
       "      <td>[{'cast_id': 3, 'character': '–°–µ—Ä–≥–µ–π –ö–...</td>\n",
       "      <td>[{'credit_id': '52fe4db29251416c7513d819', 'de...</td>\n",
       "      <td>31000</td>\n",
       "    </tr>\n",
       "    <tr>\n",
       "      <th>2302</th>\n",
       "      <td>2303</td>\n",
       "      <td>0</td>\n",
       "      <td>[{'id': 35, 'name': 'Comedy'}]</td>\n",
       "      <td>tt0116485</td>\n",
       "      <td>de</td>\n",
       "      <td>Happy Weekend</td>\n",
       "      <td>NaN</td>\n",
       "      <td>0.002229</td>\n",
       "      <td>NaN</td>\n",
       "      <td>[{'name': 'Senator Film Produktion', 'id': 191}]</td>\n",
       "      <td>...</td>\n",
       "      <td>3/14/96</td>\n",
       "      <td>NaN</td>\n",
       "      <td>[{'iso_639_1': 'de', 'name': 'Deutsch'}]</td>\n",
       "      <td>Released</td>\n",
       "      <td>NaN</td>\n",
       "      <td>Happy Weekend</td>\n",
       "      <td>[{'id': 572, 'name': 'sex'}, {'id': 596, 'name...</td>\n",
       "      <td>[{'cast_id': 0, 'character': 'Joachim Krippo',...</td>\n",
       "      <td>NaN</td>\n",
       "      <td>65335</td>\n",
       "    </tr>\n",
       "  </tbody>\n",
       "</table>\n",
       "<p>2 rows × 21 columns</p>\n",
       "</div>"
      ],
      "text/plain": [
       "        id   budget                          genres    imdb_id  \\\n",
       "1335  1336  6000000   [{'id': 18, 'name': 'Drama'}]  tt1107828   \n",
       "2302  2303        0  [{'id': 35, 'name': 'Comedy'}]  tt0116485   \n",
       "\n",
       "     original_language original_title overview  popularity  \\\n",
       "1335                ru        Королёв      NaN    0.292296   \n",
       "2302                de  Happy Weekend      NaN    0.002229   \n",
       "\n",
       "                           poster_path  \\\n",
       "1335  /2XcRiIvliLUUGqv5qOvpc76WeCU.jpg   \n",
       "2302                               NaN   \n",
       "\n",
       "                                  production_companies  ... release_date  \\\n",
       "1335                                               NaN  ...     10/29/07   \n",
       "2302  [{'name': 'Senator Film Produktion', 'id': 191}]  ...      3/14/96   \n",
       "\n",
       "     runtime                          spoken_languages    status tagline  \\\n",
       "1335     NaN                                       NaN  Released     NaN   \n",
       "2302     NaN  [{'iso_639_1': 'de', 'name': 'Deutsch'}]  Released     NaN   \n",
       "\n",
       "              title                                           Keywords  \\\n",
       "1335        Королёв                                                NaN   \n",
       "2302  Happy Weekend  [{'id': 572, 'name': 'sex'}, {'id': 596, 'name...   \n",
       "\n",
       "                                                   cast  \\\n",
       "1335  [{'cast_id': 3, 'character': '–°–µ—Ä–≥–µ–π –ö–...   \n",
       "2302  [{'cast_id': 0, 'character': 'Joachim Krippo',...   \n",
       "\n",
       "                                                   crew revenue  \n",
       "1335  [{'credit_id': '52fe4db29251416c7513d819', 'de...   31000  \n",
       "2302                                                NaN   65335  \n",
       "\n",
       "[2 rows x 21 columns]"
      ]
     },
     "execution_count": 15,
     "metadata": {},
     "output_type": "execute_result"
    }
   ],
   "source": [
    "train[train['runtime'].isnull()]"
   ]
  },
  {
   "cell_type": "markdown",
   "metadata": {},
   "source": [
    "The runtime of the movie named 'Королёв' is 2hrs and 10 mins (i.e., 130 mins), that of 'Happy Weekend'is 1hr and 26 mins (i.e., 86 mins)."
   ]
  },
  {
   "cell_type": "code",
   "execution_count": 16,
   "metadata": {},
   "outputs": [],
   "source": [
    "train.loc[train['title'] == 'Королёв', 'runtime'] = 130\n",
    "train.loc[train['title'] == 'Happy Weekend', 'runtime'] = 86"
   ]
  },
  {
   "cell_type": "code",
   "execution_count": 17,
   "metadata": {},
   "outputs": [
    {
     "data": {
      "text/html": [
       "<div>\n",
       "<style scoped>\n",
       "    .dataframe tbody tr th:only-of-type {\n",
       "        vertical-align: middle;\n",
       "    }\n",
       "\n",
       "    .dataframe tbody tr th {\n",
       "        vertical-align: top;\n",
       "    }\n",
       "\n",
       "    .dataframe thead th {\n",
       "        text-align: right;\n",
       "    }\n",
       "</style>\n",
       "<table border=\"1\" class=\"dataframe\">\n",
       "  <thead>\n",
       "    <tr style=\"text-align: right;\">\n",
       "      <th></th>\n",
       "      <th>id</th>\n",
       "      <th>budget</th>\n",
       "      <th>genres</th>\n",
       "      <th>imdb_id</th>\n",
       "      <th>original_language</th>\n",
       "      <th>original_title</th>\n",
       "      <th>overview</th>\n",
       "      <th>popularity</th>\n",
       "      <th>poster_path</th>\n",
       "      <th>production_companies</th>\n",
       "      <th>...</th>\n",
       "      <th>release_date</th>\n",
       "      <th>runtime</th>\n",
       "      <th>spoken_languages</th>\n",
       "      <th>status</th>\n",
       "      <th>tagline</th>\n",
       "      <th>title</th>\n",
       "      <th>Keywords</th>\n",
       "      <th>cast</th>\n",
       "      <th>crew</th>\n",
       "      <th>revenue</th>\n",
       "    </tr>\n",
       "  </thead>\n",
       "  <tbody>\n",
       "    <tr>\n",
       "      <th>2302</th>\n",
       "      <td>2303</td>\n",
       "      <td>0</td>\n",
       "      <td>[{'id': 35, 'name': 'Comedy'}]</td>\n",
       "      <td>tt0116485</td>\n",
       "      <td>de</td>\n",
       "      <td>Happy Weekend</td>\n",
       "      <td>NaN</td>\n",
       "      <td>0.002229</td>\n",
       "      <td>NaN</td>\n",
       "      <td>[{'name': 'Senator Film Produktion', 'id': 191}]</td>\n",
       "      <td>...</td>\n",
       "      <td>3/14/96</td>\n",
       "      <td>86.0</td>\n",
       "      <td>[{'iso_639_1': 'de', 'name': 'Deutsch'}]</td>\n",
       "      <td>Released</td>\n",
       "      <td>NaN</td>\n",
       "      <td>Happy Weekend</td>\n",
       "      <td>[{'id': 572, 'name': 'sex'}, {'id': 596, 'name...</td>\n",
       "      <td>[{'cast_id': 0, 'character': 'Joachim Krippo',...</td>\n",
       "      <td>NaN</td>\n",
       "      <td>65335</td>\n",
       "    </tr>\n",
       "  </tbody>\n",
       "</table>\n",
       "<p>1 rows × 21 columns</p>\n",
       "</div>"
      ],
      "text/plain": [
       "        id  budget                          genres    imdb_id  \\\n",
       "2302  2303       0  [{'id': 35, 'name': 'Comedy'}]  tt0116485   \n",
       "\n",
       "     original_language original_title overview  popularity poster_path  \\\n",
       "2302                de  Happy Weekend      NaN    0.002229         NaN   \n",
       "\n",
       "                                  production_companies  ... release_date  \\\n",
       "2302  [{'name': 'Senator Film Produktion', 'id': 191}]  ...      3/14/96   \n",
       "\n",
       "     runtime                          spoken_languages    status tagline  \\\n",
       "2302    86.0  [{'iso_639_1': 'de', 'name': 'Deutsch'}]  Released     NaN   \n",
       "\n",
       "              title                                           Keywords  \\\n",
       "2302  Happy Weekend  [{'id': 572, 'name': 'sex'}, {'id': 596, 'name...   \n",
       "\n",
       "                                                   cast crew revenue  \n",
       "2302  [{'cast_id': 0, 'character': 'Joachim Krippo',...  NaN   65335  \n",
       "\n",
       "[1 rows x 21 columns]"
      ]
     },
     "execution_count": 17,
     "metadata": {},
     "output_type": "execute_result"
    }
   ],
   "source": [
    "train[train['title'] == 'Happy Weekend']"
   ]
  },
  {
   "cell_type": "code",
   "execution_count": 18,
   "metadata": {},
   "outputs": [
    {
     "data": {
      "text/html": [
       "<div>\n",
       "<style scoped>\n",
       "    .dataframe tbody tr th:only-of-type {\n",
       "        vertical-align: middle;\n",
       "    }\n",
       "\n",
       "    .dataframe tbody tr th {\n",
       "        vertical-align: top;\n",
       "    }\n",
       "\n",
       "    .dataframe thead th {\n",
       "        text-align: right;\n",
       "    }\n",
       "</style>\n",
       "<table border=\"1\" class=\"dataframe\">\n",
       "  <thead>\n",
       "    <tr style=\"text-align: right;\">\n",
       "      <th></th>\n",
       "      <th>id</th>\n",
       "      <th>budget</th>\n",
       "      <th>genres</th>\n",
       "      <th>imdb_id</th>\n",
       "      <th>original_language</th>\n",
       "      <th>original_title</th>\n",
       "      <th>overview</th>\n",
       "      <th>popularity</th>\n",
       "      <th>poster_path</th>\n",
       "      <th>production_companies</th>\n",
       "      <th>...</th>\n",
       "      <th>release_date</th>\n",
       "      <th>runtime</th>\n",
       "      <th>spoken_languages</th>\n",
       "      <th>status</th>\n",
       "      <th>tagline</th>\n",
       "      <th>title</th>\n",
       "      <th>Keywords</th>\n",
       "      <th>cast</th>\n",
       "      <th>crew</th>\n",
       "      <th>revenue</th>\n",
       "    </tr>\n",
       "  </thead>\n",
       "  <tbody>\n",
       "    <tr>\n",
       "      <th>1335</th>\n",
       "      <td>1336</td>\n",
       "      <td>6000000</td>\n",
       "      <td>[{'id': 18, 'name': 'Drama'}]</td>\n",
       "      <td>tt1107828</td>\n",
       "      <td>ru</td>\n",
       "      <td>Королёв</td>\n",
       "      <td>NaN</td>\n",
       "      <td>0.292296</td>\n",
       "      <td>/2XcRiIvliLUUGqv5qOvpc76WeCU.jpg</td>\n",
       "      <td>NaN</td>\n",
       "      <td>...</td>\n",
       "      <td>10/29/07</td>\n",
       "      <td>130.0</td>\n",
       "      <td>NaN</td>\n",
       "      <td>Released</td>\n",
       "      <td>NaN</td>\n",
       "      <td>Королёв</td>\n",
       "      <td>NaN</td>\n",
       "      <td>[{'cast_id': 3, 'character': '–°–µ—Ä–≥–µ–π –ö–...</td>\n",
       "      <td>[{'credit_id': '52fe4db29251416c7513d819', 'de...</td>\n",
       "      <td>31000</td>\n",
       "    </tr>\n",
       "  </tbody>\n",
       "</table>\n",
       "<p>1 rows × 21 columns</p>\n",
       "</div>"
      ],
      "text/plain": [
       "        id   budget                         genres    imdb_id  \\\n",
       "1335  1336  6000000  [{'id': 18, 'name': 'Drama'}]  tt1107828   \n",
       "\n",
       "     original_language original_title overview  popularity  \\\n",
       "1335                ru        Королёв      NaN    0.292296   \n",
       "\n",
       "                           poster_path production_companies  ... release_date  \\\n",
       "1335  /2XcRiIvliLUUGqv5qOvpc76WeCU.jpg                  NaN  ...     10/29/07   \n",
       "\n",
       "     runtime  spoken_languages    status tagline    title Keywords  \\\n",
       "1335   130.0               NaN  Released     NaN  Королёв      NaN   \n",
       "\n",
       "                                                   cast  \\\n",
       "1335  [{'cast_id': 3, 'character': '–°–µ—Ä–≥–µ–π –ö–...   \n",
       "\n",
       "                                                   crew revenue  \n",
       "1335  [{'credit_id': '52fe4db29251416c7513d819', 'de...   31000  \n",
       "\n",
       "[1 rows x 21 columns]"
      ]
     },
     "execution_count": 18,
     "metadata": {},
     "output_type": "execute_result"
    }
   ],
   "source": [
    "train[train['title'] == 'Королёв']"
   ]
  },
  {
   "cell_type": "code",
   "execution_count": 19,
   "metadata": {},
   "outputs": [
    {
     "data": {
      "text/html": [
       "<div>\n",
       "<style scoped>\n",
       "    .dataframe tbody tr th:only-of-type {\n",
       "        vertical-align: middle;\n",
       "    }\n",
       "\n",
       "    .dataframe tbody tr th {\n",
       "        vertical-align: top;\n",
       "    }\n",
       "\n",
       "    .dataframe thead th {\n",
       "        text-align: right;\n",
       "    }\n",
       "</style>\n",
       "<table border=\"1\" class=\"dataframe\">\n",
       "  <thead>\n",
       "    <tr style=\"text-align: right;\">\n",
       "      <th></th>\n",
       "      <th>id</th>\n",
       "      <th>budget</th>\n",
       "      <th>genres</th>\n",
       "      <th>imdb_id</th>\n",
       "      <th>original_language</th>\n",
       "      <th>original_title</th>\n",
       "      <th>overview</th>\n",
       "      <th>popularity</th>\n",
       "      <th>poster_path</th>\n",
       "      <th>production_companies</th>\n",
       "      <th>production_countries</th>\n",
       "      <th>release_date</th>\n",
       "      <th>runtime</th>\n",
       "      <th>spoken_languages</th>\n",
       "      <th>status</th>\n",
       "      <th>tagline</th>\n",
       "      <th>title</th>\n",
       "      <th>Keywords</th>\n",
       "      <th>cast</th>\n",
       "      <th>crew</th>\n",
       "    </tr>\n",
       "  </thead>\n",
       "  <tbody>\n",
       "    <tr>\n",
       "      <th>243</th>\n",
       "      <td>3244</td>\n",
       "      <td>0</td>\n",
       "      <td>[{'id': 35, 'name': 'Comedy'}]</td>\n",
       "      <td>tt0082131</td>\n",
       "      <td>es</td>\n",
       "      <td>La caliente niña Julietta</td>\n",
       "      <td>NaN</td>\n",
       "      <td>0.000464</td>\n",
       "      <td>/6ANZPgGGzplpAUuqx97nmAtmgEH.jpg</td>\n",
       "      <td>[{'name': 'IFI Producción S.A.', 'id': 16675}]</td>\n",
       "      <td>[{'iso_3166_1': 'ES', 'name': 'Spain'}]</td>\n",
       "      <td>3/20/81</td>\n",
       "      <td>NaN</td>\n",
       "      <td>[{'iso_639_1': 'es', 'name': 'Español'}]</td>\n",
       "      <td>Released</td>\n",
       "      <td>NaN</td>\n",
       "      <td>La caliente niña Julietta</td>\n",
       "      <td>[{'id': 293, 'name': 'female nudity'}, {'id': ...</td>\n",
       "      <td>[{'cast_id': 7, 'character': 'Julietta Santigo...</td>\n",
       "      <td>[{'credit_id': '55678cf992514156b600069f', 'de...</td>\n",
       "    </tr>\n",
       "    <tr>\n",
       "      <th>1489</th>\n",
       "      <td>4490</td>\n",
       "      <td>0</td>\n",
       "      <td>[{'id': 35, 'name': 'Comedy'}]</td>\n",
       "      <td>tt3132094</td>\n",
       "      <td>es</td>\n",
       "      <td>Pancho, el perro millonario</td>\n",
       "      <td>NaN</td>\n",
       "      <td>0.661399</td>\n",
       "      <td>/h1n1RXda54WmuFmrcPU7iXZN0ta.jpg</td>\n",
       "      <td>[{'name': 'Atresmedia Cine', 'id': 29566}, {'n...</td>\n",
       "      <td>[{'iso_3166_1': 'ES', 'name': 'Spain'}]</td>\n",
       "      <td>6/6/14</td>\n",
       "      <td>NaN</td>\n",
       "      <td>[{'iso_639_1': 'es', 'name': 'Español'}]</td>\n",
       "      <td>Released</td>\n",
       "      <td>NaN</td>\n",
       "      <td>Pancho, el perro millonario</td>\n",
       "      <td>[{'id': 11493, 'name': 'animal as human'}, {'i...</td>\n",
       "      <td>[{'cast_id': 3, 'character': 'Alberto', 'credi...</td>\n",
       "      <td>[{'credit_id': '52fe4e1c9251416c91126d43', 'de...</td>\n",
       "    </tr>\n",
       "    <tr>\n",
       "      <th>1632</th>\n",
       "      <td>4633</td>\n",
       "      <td>0</td>\n",
       "      <td>[{'id': 35, 'name': 'Comedy'}]</td>\n",
       "      <td>tt0078010</td>\n",
       "      <td>es</td>\n",
       "      <td>Nunca en horas de clase</td>\n",
       "      <td>NaN</td>\n",
       "      <td>0.281500</td>\n",
       "      <td>/wVDY6zJV5GCkZF07CMYE8s37Rx7.jpg</td>\n",
       "      <td>[{'name': 'Films Zodíaco', 'id': 36421}]</td>\n",
       "      <td>[{'iso_3166_1': 'ES', 'name': 'Spain'}]</td>\n",
       "      <td>11/3/78</td>\n",
       "      <td>NaN</td>\n",
       "      <td>[{'iso_639_1': 'es', 'name': 'Español'}]</td>\n",
       "      <td>Released</td>\n",
       "      <td>NaN</td>\n",
       "      <td>Nunca en horas de clase</td>\n",
       "      <td>[{'id': 107, 'name': 'barcelona spain'}, {'id'...</td>\n",
       "      <td>[{'cast_id': 6, 'character': 'Susy', 'credit_i...</td>\n",
       "      <td>[{'credit_id': '544d2dd20e0a2608c2002879', 'de...</td>\n",
       "    </tr>\n",
       "    <tr>\n",
       "      <th>3817</th>\n",
       "      <td>6818</td>\n",
       "      <td>0</td>\n",
       "      <td>NaN</td>\n",
       "      <td>tt2192844</td>\n",
       "      <td>fi</td>\n",
       "      <td>Miesten välisiä keskusteluja</td>\n",
       "      <td>NaN</td>\n",
       "      <td>0.011427</td>\n",
       "      <td>/iGykvX2LgYFz9EKAjqGoni9xmCf.jpg</td>\n",
       "      <td>[{'name': 'Vegetarian Films', 'id': 80999}]</td>\n",
       "      <td>[{'iso_3166_1': 'FI', 'name': 'Finland'}]</td>\n",
       "      <td>1/4/13</td>\n",
       "      <td>NaN</td>\n",
       "      <td>[{'iso_639_1': 'fi', 'name': 'suomi'}]</td>\n",
       "      <td>Released</td>\n",
       "      <td>NaN</td>\n",
       "      <td>Miesten välisiä keskusteluja</td>\n",
       "      <td>NaN</td>\n",
       "      <td>[{'cast_id': 0, 'character': 'Kari Mairisaari'...</td>\n",
       "      <td>[{'credit_id': '57cad03a9251411ac50030a1', 'de...</td>\n",
       "    </tr>\n",
       "  </tbody>\n",
       "</table>\n",
       "</div>"
      ],
      "text/plain": [
       "        id  budget                          genres    imdb_id  \\\n",
       "243   3244       0  [{'id': 35, 'name': 'Comedy'}]  tt0082131   \n",
       "1489  4490       0  [{'id': 35, 'name': 'Comedy'}]  tt3132094   \n",
       "1632  4633       0  [{'id': 35, 'name': 'Comedy'}]  tt0078010   \n",
       "3817  6818       0                             NaN  tt2192844   \n",
       "\n",
       "     original_language                original_title overview  popularity  \\\n",
       "243                 es     La caliente niña Julietta      NaN    0.000464   \n",
       "1489                es   Pancho, el perro millonario      NaN    0.661399   \n",
       "1632                es       Nunca en horas de clase      NaN    0.281500   \n",
       "3817                fi  Miesten välisiä keskusteluja      NaN    0.011427   \n",
       "\n",
       "                           poster_path  \\\n",
       "243   /6ANZPgGGzplpAUuqx97nmAtmgEH.jpg   \n",
       "1489  /h1n1RXda54WmuFmrcPU7iXZN0ta.jpg   \n",
       "1632  /wVDY6zJV5GCkZF07CMYE8s37Rx7.jpg   \n",
       "3817  /iGykvX2LgYFz9EKAjqGoni9xmCf.jpg   \n",
       "\n",
       "                                   production_companies  \\\n",
       "243      [{'name': 'IFI Producción S.A.', 'id': 16675}]   \n",
       "1489  [{'name': 'Atresmedia Cine', 'id': 29566}, {'n...   \n",
       "1632           [{'name': 'Films Zodíaco', 'id': 36421}]   \n",
       "3817        [{'name': 'Vegetarian Films', 'id': 80999}]   \n",
       "\n",
       "                           production_countries release_date  runtime  \\\n",
       "243     [{'iso_3166_1': 'ES', 'name': 'Spain'}]      3/20/81      NaN   \n",
       "1489    [{'iso_3166_1': 'ES', 'name': 'Spain'}]       6/6/14      NaN   \n",
       "1632    [{'iso_3166_1': 'ES', 'name': 'Spain'}]      11/3/78      NaN   \n",
       "3817  [{'iso_3166_1': 'FI', 'name': 'Finland'}]       1/4/13      NaN   \n",
       "\n",
       "                              spoken_languages    status tagline  \\\n",
       "243   [{'iso_639_1': 'es', 'name': 'Español'}]  Released     NaN   \n",
       "1489  [{'iso_639_1': 'es', 'name': 'Español'}]  Released     NaN   \n",
       "1632  [{'iso_639_1': 'es', 'name': 'Español'}]  Released     NaN   \n",
       "3817    [{'iso_639_1': 'fi', 'name': 'suomi'}]  Released     NaN   \n",
       "\n",
       "                             title  \\\n",
       "243      La caliente niña Julietta   \n",
       "1489   Pancho, el perro millonario   \n",
       "1632       Nunca en horas de clase   \n",
       "3817  Miesten välisiä keskusteluja   \n",
       "\n",
       "                                               Keywords  \\\n",
       "243   [{'id': 293, 'name': 'female nudity'}, {'id': ...   \n",
       "1489  [{'id': 11493, 'name': 'animal as human'}, {'i...   \n",
       "1632  [{'id': 107, 'name': 'barcelona spain'}, {'id'...   \n",
       "3817                                                NaN   \n",
       "\n",
       "                                                   cast  \\\n",
       "243   [{'cast_id': 7, 'character': 'Julietta Santigo...   \n",
       "1489  [{'cast_id': 3, 'character': 'Alberto', 'credi...   \n",
       "1632  [{'cast_id': 6, 'character': 'Susy', 'credit_i...   \n",
       "3817  [{'cast_id': 0, 'character': 'Kari Mairisaari'...   \n",
       "\n",
       "                                                   crew  \n",
       "243   [{'credit_id': '55678cf992514156b600069f', 'de...  \n",
       "1489  [{'credit_id': '52fe4e1c9251416c91126d43', 'de...  \n",
       "1632  [{'credit_id': '544d2dd20e0a2608c2002879', 'de...  \n",
       "3817  [{'credit_id': '57cad03a9251411ac50030a1', 'de...  "
      ]
     },
     "execution_count": 19,
     "metadata": {},
     "output_type": "execute_result"
    }
   ],
   "source": [
    "test[test['runtime'].isnull()]"
   ]
  },
  {
   "cell_type": "markdown",
   "metadata": {},
   "source": [
    "The `runtime` for the movies are as follows:\n",
    "* La caliente niña Julietta = 93 mins\n",
    "* Pancho, el perro millonario = 91 mins\n",
    "* Nunca en horas de clase = 100 mins\n",
    "* Miesten välisiä keskusteluja\t= 90 mins"
   ]
  },
  {
   "cell_type": "code",
   "execution_count": 20,
   "metadata": {},
   "outputs": [],
   "source": [
    "test.loc[test['title'] == 'La caliente niña Julietta', 'runtime'] = 93\n",
    "test.loc[test['title'] == 'Pancho, el perro millonario', 'runtime'] = 91\n",
    "test.loc[test['title'] == 'Nunca en horas de clase', 'runtime'] = 100\n",
    "test.loc[test['title'] == 'Miesten välisiä keskusteluja', 'runtime'] = 90"
   ]
  },
  {
   "cell_type": "code",
   "execution_count": 21,
   "metadata": {},
   "outputs": [
    {
     "data": {
      "text/html": [
       "<div>\n",
       "<style scoped>\n",
       "    .dataframe tbody tr th:only-of-type {\n",
       "        vertical-align: middle;\n",
       "    }\n",
       "\n",
       "    .dataframe tbody tr th {\n",
       "        vertical-align: top;\n",
       "    }\n",
       "\n",
       "    .dataframe thead th {\n",
       "        text-align: right;\n",
       "    }\n",
       "</style>\n",
       "<table border=\"1\" class=\"dataframe\">\n",
       "  <thead>\n",
       "    <tr style=\"text-align: right;\">\n",
       "      <th></th>\n",
       "      <th>id</th>\n",
       "      <th>budget</th>\n",
       "      <th>genres</th>\n",
       "      <th>imdb_id</th>\n",
       "      <th>original_language</th>\n",
       "      <th>original_title</th>\n",
       "      <th>overview</th>\n",
       "      <th>popularity</th>\n",
       "      <th>poster_path</th>\n",
       "      <th>production_companies</th>\n",
       "      <th>production_countries</th>\n",
       "      <th>release_date</th>\n",
       "      <th>runtime</th>\n",
       "      <th>spoken_languages</th>\n",
       "      <th>status</th>\n",
       "      <th>tagline</th>\n",
       "      <th>title</th>\n",
       "      <th>Keywords</th>\n",
       "      <th>cast</th>\n",
       "      <th>crew</th>\n",
       "    </tr>\n",
       "  </thead>\n",
       "  <tbody>\n",
       "  </tbody>\n",
       "</table>\n",
       "</div>"
      ],
      "text/plain": [
       "Empty DataFrame\n",
       "Columns: [id, budget, genres, imdb_id, original_language, original_title, overview, popularity, poster_path, production_companies, production_countries, release_date, runtime, spoken_languages, status, tagline, title, Keywords, cast, crew]\n",
       "Index: []"
      ]
     },
     "execution_count": 21,
     "metadata": {},
     "output_type": "execute_result"
    }
   ],
   "source": [
    "test[test['runtime'].isnull()]"
   ]
  },
  {
   "cell_type": "code",
   "execution_count": 22,
   "metadata": {},
   "outputs": [
    {
     "data": {
      "text/html": [
       "<div>\n",
       "<style scoped>\n",
       "    .dataframe tbody tr th:only-of-type {\n",
       "        vertical-align: middle;\n",
       "    }\n",
       "\n",
       "    .dataframe tbody tr th {\n",
       "        vertical-align: top;\n",
       "    }\n",
       "\n",
       "    .dataframe thead th {\n",
       "        text-align: right;\n",
       "    }\n",
       "</style>\n",
       "<table border=\"1\" class=\"dataframe\">\n",
       "  <thead>\n",
       "    <tr style=\"text-align: right;\">\n",
       "      <th></th>\n",
       "      <th>id</th>\n",
       "      <th>budget</th>\n",
       "      <th>genres</th>\n",
       "      <th>imdb_id</th>\n",
       "      <th>original_language</th>\n",
       "      <th>original_title</th>\n",
       "      <th>overview</th>\n",
       "      <th>popularity</th>\n",
       "      <th>poster_path</th>\n",
       "      <th>production_companies</th>\n",
       "      <th>...</th>\n",
       "      <th>release_date</th>\n",
       "      <th>runtime</th>\n",
       "      <th>spoken_languages</th>\n",
       "      <th>status</th>\n",
       "      <th>tagline</th>\n",
       "      <th>title</th>\n",
       "      <th>Keywords</th>\n",
       "      <th>cast</th>\n",
       "      <th>crew</th>\n",
       "      <th>revenue</th>\n",
       "    </tr>\n",
       "  </thead>\n",
       "  <tbody>\n",
       "  </tbody>\n",
       "</table>\n",
       "<p>0 rows × 21 columns</p>\n",
       "</div>"
      ],
      "text/plain": [
       "Empty DataFrame\n",
       "Columns: [id, budget, genres, imdb_id, original_language, original_title, overview, popularity, poster_path, production_companies, production_countries, release_date, runtime, spoken_languages, status, tagline, title, Keywords, cast, crew, revenue]\n",
       "Index: []\n",
       "\n",
       "[0 rows x 21 columns]"
      ]
     },
     "execution_count": 22,
     "metadata": {},
     "output_type": "execute_result"
    }
   ],
   "source": [
    "train[train['runtime'].isnull()]"
   ]
  },
  {
   "cell_type": "markdown",
   "metadata": {},
   "source": [
    "Since there is only one missing value in the `release_date` column in the test data, I will fill that from the internet as well."
   ]
  },
  {
   "cell_type": "code",
   "execution_count": 23,
   "metadata": {},
   "outputs": [
    {
     "data": {
      "text/html": [
       "<div>\n",
       "<style scoped>\n",
       "    .dataframe tbody tr th:only-of-type {\n",
       "        vertical-align: middle;\n",
       "    }\n",
       "\n",
       "    .dataframe tbody tr th {\n",
       "        vertical-align: top;\n",
       "    }\n",
       "\n",
       "    .dataframe thead th {\n",
       "        text-align: right;\n",
       "    }\n",
       "</style>\n",
       "<table border=\"1\" class=\"dataframe\">\n",
       "  <thead>\n",
       "    <tr style=\"text-align: right;\">\n",
       "      <th></th>\n",
       "      <th>id</th>\n",
       "      <th>budget</th>\n",
       "      <th>genres</th>\n",
       "      <th>imdb_id</th>\n",
       "      <th>original_language</th>\n",
       "      <th>original_title</th>\n",
       "      <th>overview</th>\n",
       "      <th>popularity</th>\n",
       "      <th>poster_path</th>\n",
       "      <th>production_companies</th>\n",
       "      <th>production_countries</th>\n",
       "      <th>release_date</th>\n",
       "      <th>runtime</th>\n",
       "      <th>spoken_languages</th>\n",
       "      <th>status</th>\n",
       "      <th>tagline</th>\n",
       "      <th>title</th>\n",
       "      <th>Keywords</th>\n",
       "      <th>cast</th>\n",
       "      <th>crew</th>\n",
       "    </tr>\n",
       "  </thead>\n",
       "  <tbody>\n",
       "    <tr>\n",
       "      <th>828</th>\n",
       "      <td>3829</td>\n",
       "      <td>0</td>\n",
       "      <td>[{'id': 18, 'name': 'Drama'}]</td>\n",
       "      <td>tt0210130</td>\n",
       "      <td>en</td>\n",
       "      <td>Jails, Hospitals &amp; Hip-Hop</td>\n",
       "      <td>Jails, Hospitals &amp;amp; Hip-Hop is a cinematic ...</td>\n",
       "      <td>0.009057</td>\n",
       "      <td>NaN</td>\n",
       "      <td>NaN</td>\n",
       "      <td>NaN</td>\n",
       "      <td>NaN</td>\n",
       "      <td>90.0</td>\n",
       "      <td>NaN</td>\n",
       "      <td>NaN</td>\n",
       "      <td>three worlds / two million voices / one genera...</td>\n",
       "      <td>Jails, Hospitals &amp; Hip-Hop</td>\n",
       "      <td>NaN</td>\n",
       "      <td>[]</td>\n",
       "      <td>NaN</td>\n",
       "    </tr>\n",
       "  </tbody>\n",
       "</table>\n",
       "</div>"
      ],
      "text/plain": [
       "       id  budget                         genres    imdb_id original_language  \\\n",
       "828  3829       0  [{'id': 18, 'name': 'Drama'}]  tt0210130                en   \n",
       "\n",
       "                 original_title  \\\n",
       "828  Jails, Hospitals & Hip-Hop   \n",
       "\n",
       "                                              overview  popularity  \\\n",
       "828  Jails, Hospitals &amp; Hip-Hop is a cinematic ...    0.009057   \n",
       "\n",
       "    poster_path production_companies production_countries release_date  \\\n",
       "828         NaN                  NaN                  NaN          NaN   \n",
       "\n",
       "     runtime spoken_languages status  \\\n",
       "828     90.0              NaN    NaN   \n",
       "\n",
       "                                               tagline  \\\n",
       "828  three worlds / two million voices / one genera...   \n",
       "\n",
       "                          title Keywords cast crew  \n",
       "828  Jails, Hospitals & Hip-Hop      NaN   []  NaN  "
      ]
     },
     "execution_count": 23,
     "metadata": {},
     "output_type": "execute_result"
    }
   ],
   "source": [
    "test[test[\"release_date\"].isnull()]"
   ]
  },
  {
   "cell_type": "markdown",
   "metadata": {},
   "source": [
    "The release date for this film was 05.01.2000."
   ]
  },
  {
   "cell_type": "code",
   "execution_count": 24,
   "metadata": {},
   "outputs": [
    {
     "data": {
      "text/html": [
       "<div>\n",
       "<style scoped>\n",
       "    .dataframe tbody tr th:only-of-type {\n",
       "        vertical-align: middle;\n",
       "    }\n",
       "\n",
       "    .dataframe tbody tr th {\n",
       "        vertical-align: top;\n",
       "    }\n",
       "\n",
       "    .dataframe thead th {\n",
       "        text-align: right;\n",
       "    }\n",
       "</style>\n",
       "<table border=\"1\" class=\"dataframe\">\n",
       "  <thead>\n",
       "    <tr style=\"text-align: right;\">\n",
       "      <th></th>\n",
       "      <th>id</th>\n",
       "      <th>budget</th>\n",
       "      <th>genres</th>\n",
       "      <th>imdb_id</th>\n",
       "      <th>original_language</th>\n",
       "      <th>original_title</th>\n",
       "      <th>overview</th>\n",
       "      <th>popularity</th>\n",
       "      <th>poster_path</th>\n",
       "      <th>production_companies</th>\n",
       "      <th>production_countries</th>\n",
       "      <th>release_date</th>\n",
       "      <th>runtime</th>\n",
       "      <th>spoken_languages</th>\n",
       "      <th>status</th>\n",
       "      <th>tagline</th>\n",
       "      <th>title</th>\n",
       "      <th>Keywords</th>\n",
       "      <th>cast</th>\n",
       "      <th>crew</th>\n",
       "    </tr>\n",
       "  </thead>\n",
       "  <tbody>\n",
       "    <tr>\n",
       "      <th>828</th>\n",
       "      <td>3829</td>\n",
       "      <td>0</td>\n",
       "      <td>[{'id': 18, 'name': 'Drama'}]</td>\n",
       "      <td>tt0210130</td>\n",
       "      <td>en</td>\n",
       "      <td>Jails, Hospitals &amp; Hip-Hop</td>\n",
       "      <td>Jails, Hospitals &amp;amp; Hip-Hop is a cinematic ...</td>\n",
       "      <td>0.009057</td>\n",
       "      <td>NaN</td>\n",
       "      <td>NaN</td>\n",
       "      <td>NaN</td>\n",
       "      <td>5/1/00</td>\n",
       "      <td>90.0</td>\n",
       "      <td>NaN</td>\n",
       "      <td>NaN</td>\n",
       "      <td>three worlds / two million voices / one genera...</td>\n",
       "      <td>Jails, Hospitals &amp; Hip-Hop</td>\n",
       "      <td>NaN</td>\n",
       "      <td>[]</td>\n",
       "      <td>NaN</td>\n",
       "    </tr>\n",
       "    <tr>\n",
       "      <th>1731</th>\n",
       "      <td>4732</td>\n",
       "      <td>103000000</td>\n",
       "      <td>[{'id': 28, 'name': 'Action'}, {'id': 18, 'nam...</td>\n",
       "      <td>tt0172495</td>\n",
       "      <td>en</td>\n",
       "      <td>Gladiator</td>\n",
       "      <td>In the year 180, the death of emperor Marcus A...</td>\n",
       "      <td>23.186667</td>\n",
       "      <td>/6WBIzCgmDCYrqh64yDREGeDk9d3.jpg</td>\n",
       "      <td>[{'name': 'DreamWorks SKG', 'id': 27}, {'name'...</td>\n",
       "      <td>[{'iso_3166_1': 'GB', 'name': 'United Kingdom'...</td>\n",
       "      <td>5/1/00</td>\n",
       "      <td>155.0</td>\n",
       "      <td>[{'iso_639_1': 'en', 'name': 'English'}]</td>\n",
       "      <td>Released</td>\n",
       "      <td>A Hero Will Rise.</td>\n",
       "      <td>Gladiator</td>\n",
       "      <td>[{'id': 588, 'name': 'rome'}, {'id': 1394, 'na...</td>\n",
       "      <td>[{'cast_id': 8, 'character': 'Maximus', 'credi...</td>\n",
       "      <td>[{'credit_id': '52fe4217c3a36847f800340d', 'de...</td>\n",
       "    </tr>\n",
       "  </tbody>\n",
       "</table>\n",
       "</div>"
      ],
      "text/plain": [
       "        id     budget                                             genres  \\\n",
       "828   3829          0                      [{'id': 18, 'name': 'Drama'}]   \n",
       "1731  4732  103000000  [{'id': 28, 'name': 'Action'}, {'id': 18, 'nam...   \n",
       "\n",
       "        imdb_id original_language              original_title  \\\n",
       "828   tt0210130                en  Jails, Hospitals & Hip-Hop   \n",
       "1731  tt0172495                en                   Gladiator   \n",
       "\n",
       "                                               overview  popularity  \\\n",
       "828   Jails, Hospitals &amp; Hip-Hop is a cinematic ...    0.009057   \n",
       "1731  In the year 180, the death of emperor Marcus A...   23.186667   \n",
       "\n",
       "                           poster_path  \\\n",
       "828                                NaN   \n",
       "1731  /6WBIzCgmDCYrqh64yDREGeDk9d3.jpg   \n",
       "\n",
       "                                   production_companies  \\\n",
       "828                                                 NaN   \n",
       "1731  [{'name': 'DreamWorks SKG', 'id': 27}, {'name'...   \n",
       "\n",
       "                                   production_countries release_date  runtime  \\\n",
       "828                                                 NaN       5/1/00     90.0   \n",
       "1731  [{'iso_3166_1': 'GB', 'name': 'United Kingdom'...       5/1/00    155.0   \n",
       "\n",
       "                              spoken_languages    status  \\\n",
       "828                                        NaN       NaN   \n",
       "1731  [{'iso_639_1': 'en', 'name': 'English'}]  Released   \n",
       "\n",
       "                                                tagline  \\\n",
       "828   three worlds / two million voices / one genera...   \n",
       "1731                                  A Hero Will Rise.   \n",
       "\n",
       "                           title  \\\n",
       "828   Jails, Hospitals & Hip-Hop   \n",
       "1731                   Gladiator   \n",
       "\n",
       "                                               Keywords  \\\n",
       "828                                                 NaN   \n",
       "1731  [{'id': 588, 'name': 'rome'}, {'id': 1394, 'na...   \n",
       "\n",
       "                                                   cast  \\\n",
       "828                                                  []   \n",
       "1731  [{'cast_id': 8, 'character': 'Maximus', 'credi...   \n",
       "\n",
       "                                                   crew  \n",
       "828                                                 NaN  \n",
       "1731  [{'credit_id': '52fe4217c3a36847f800340d', 'de...  "
      ]
     },
     "execution_count": 24,
     "metadata": {},
     "output_type": "execute_result"
    }
   ],
   "source": [
    "test.loc[test['release_date'].isnull()==True, 'release_date']= '5/1/00'\n",
    "test[test[\"release_date\"]== '5/1/00']"
   ]
  },
  {
   "cell_type": "markdown",
   "metadata": {},
   "source": [
    "For nominal data columns, I am filling the null values with \"none\"."
   ]
  },
  {
   "cell_type": "code",
   "execution_count": 25,
   "metadata": {},
   "outputs": [],
   "source": [
    "train[['genres',\n",
    "       'spoken_languages', \n",
    "       'status', \n",
    "       'production_countries', \n",
    "       'production_companies', \n",
    "       'cast',\n",
    "       'crew']] = train[['genres',\n",
    "         'spoken_languages',\n",
    "         'status', \n",
    "         'production_countries',\n",
    "         'production_companies', \n",
    "         'cast',\n",
    "         'crew']].fillna(\"none\")\n",
    "\n",
    "test[['genres',\n",
    "       'spoken_languages', \n",
    "       'status', \n",
    "       'production_countries', \n",
    "       'production_companies', \n",
    "       'cast',\n",
    "       'crew']] = test[['genres',\n",
    "         'spoken_languages',\n",
    "         'status', \n",
    "         'production_countries',\n",
    "         'production_companies', \n",
    "         'cast',\n",
    "         'crew']].fillna(\"none\")"
   ]
  },
  {
   "cell_type": "code",
   "execution_count": 26,
   "metadata": {},
   "outputs": [
    {
     "data": {
      "text/plain": [
       "id                        0\n",
       "budget                    0\n",
       "genres                    0\n",
       "imdb_id                   0\n",
       "original_language         0\n",
       "original_title            0\n",
       "overview                  8\n",
       "popularity                0\n",
       "poster_path               1\n",
       "production_companies      0\n",
       "production_countries      0\n",
       "release_date              0\n",
       "runtime                   0\n",
       "spoken_languages          0\n",
       "status                    0\n",
       "tagline                 597\n",
       "title                     0\n",
       "Keywords                276\n",
       "cast                      0\n",
       "crew                      0\n",
       "revenue                   0\n",
       "dtype: int64"
      ]
     },
     "execution_count": 26,
     "metadata": {},
     "output_type": "execute_result"
    }
   ],
   "source": [
    "train.isna().sum()"
   ]
  },
  {
   "cell_type": "code",
   "execution_count": 27,
   "metadata": {},
   "outputs": [
    {
     "data": {
      "text/plain": [
       "id                        0\n",
       "budget                    0\n",
       "genres                    0\n",
       "imdb_id                   0\n",
       "original_language         0\n",
       "original_title            0\n",
       "overview                 14\n",
       "popularity                0\n",
       "poster_path               1\n",
       "production_companies      0\n",
       "production_countries      0\n",
       "release_date              0\n",
       "runtime                   0\n",
       "spoken_languages          0\n",
       "status                    0\n",
       "tagline                 863\n",
       "title                     3\n",
       "Keywords                393\n",
       "cast                      0\n",
       "crew                      0\n",
       "dtype: int64"
      ]
     },
     "execution_count": 27,
     "metadata": {},
     "output_type": "execute_result"
    }
   ],
   "source": [
    "test.isna().sum()"
   ]
  },
  {
   "cell_type": "markdown",
   "metadata": {},
   "source": [
    "The only missing values now are in the columns `overview`, `poster_path`, `tagline` and `Keywords`. However, since I am not going to use them for the Box Office revenue predictions, I will leave those at they are."
   ]
  },
  {
   "cell_type": "markdown",
   "metadata": {},
   "source": [
    "## 4. Formatting the dates:\n",
    "\n",
    "Converting the dates in datetime format and creating new columns named `release_year`, `release_month` and `release_day`."
   ]
  },
  {
   "cell_type": "code",
   "execution_count": 28,
   "metadata": {},
   "outputs": [],
   "source": [
    "train['release_date'] = pd.to_datetime(train['release_date'], format='%m/%d/%y')\n",
    "test['release_date'] = pd.to_datetime(test['release_date'], format='%m/%d/%y')\n",
    "\n",
    "train[\"release_year\"] = pd.to_datetime(train[\"release_date\"]).dt.year.astype(int)\n",
    "train[\"release_day\"] = pd.to_datetime(train[\"release_date\"]).dt.dayofweek.astype(int)\n",
    "train[\"release_month\"] = pd.to_datetime(train[\"release_date\"]).dt.month.astype(int)\n",
    "test[\"release_year\"] = pd.to_datetime(test[\"release_date\"]).dt.year.astype(int)\n",
    "test[\"release_day\"] = pd.to_datetime(test[\"release_date\"]).dt.dayofweek.astype(int)\n",
    "test[\"release_month\"] = pd.to_datetime(test[\"release_date\"]).dt.month.astype(int)"
   ]
  },
  {
   "cell_type": "code",
   "execution_count": 29,
   "metadata": {},
   "outputs": [
    {
     "data": {
      "text/plain": [
       "2068"
      ]
     },
     "execution_count": 29,
     "metadata": {},
     "output_type": "execute_result"
    }
   ],
   "source": [
    "train['release_year'].max()"
   ]
  },
  {
   "cell_type": "markdown",
   "metadata": {},
   "source": [
    "Since this competition was released in the year 2019, there should not be any date of release after 2019. "
   ]
  },
  {
   "cell_type": "code",
   "execution_count": 30,
   "metadata": {},
   "outputs": [],
   "source": [
    "# Fixing the dates\n",
    "def fix_date(x):\n",
    "    if x > 2019:\n",
    "        return x - 100\n",
    "    else:\n",
    "        return x \n",
    "\n",
    "train['release_year'] = train['release_year'].apply(lambda x: fix_date(x))\n",
    "test['release_year'] = test['release_year'].apply(lambda x: fix_date(x))"
   ]
  },
  {
   "cell_type": "code",
   "execution_count": 31,
   "metadata": {},
   "outputs": [
    {
     "data": {
      "text/plain": [
       "2017"
      ]
     },
     "execution_count": 31,
     "metadata": {},
     "output_type": "execute_result"
    }
   ],
   "source": [
    "train['release_year'].max()"
   ]
  },
  {
   "cell_type": "markdown",
   "metadata": {},
   "source": [
    "Now this is alright!!"
   ]
  },
  {
   "cell_type": "markdown",
   "metadata": {},
   "source": [
    "## 5. Exploratory Data Analysis:\n",
    "\n",
    "First I look at the `revenue`:"
   ]
  },
  {
   "cell_type": "code",
   "execution_count": 32,
   "metadata": {},
   "outputs": [
    {
     "data": {
      "text/plain": [
       "<matplotlib.axes._subplots.AxesSubplot at 0x1cd85064340>"
      ]
     },
     "execution_count": 32,
     "metadata": {},
     "output_type": "execute_result"
    },
    {
     "data": {
      "image/png": "[encoded data removed]",
      "text/plain": [
       "<Figure size 864x576 with 4 Axes>"
      ]
     },
     "metadata": {
      "needs_background": "light"
     },
     "output_type": "display_data"
    }
   ],
   "source": [
    "train['log_revenue'] = np.log(train['revenue'])\n",
    "\n",
    "fig, ax = plt.subplots(2, 2, figsize = (12, 8), tight_layout=True)\n",
    "train.hist(column= [\"revenue\"], ax=ax[0][0], color='green')\n",
    "train.hist(column= ['log_revenue'], ax=ax[0][1], color='purple')\n",
    "train.boxplot(column= [\"revenue\"], ax=ax[1][0])\n",
    "train.boxplot(column= ['log_revenue'], ax=ax[1][1])"
   ]
  },
  {
   "cell_type": "markdown",
   "metadata": {},
   "source": [
    "Next, I explore `budget` and `popularity`:"
   ]
  },
  {
   "cell_type": "code",
   "execution_count": 33,
   "metadata": {},
   "outputs": [
    {
     "data": {
      "text/plain": [
       "<matplotlib.axes._subplots.AxesSubplot at 0x1cd8527d700>"
      ]
     },
     "execution_count": 33,
     "metadata": {},
     "output_type": "execute_result"
    },
    {
     "data": {
      "image/png": "[encoded data removed]",
      "text/plain": [
       "<Figure size 864x576 with 4 Axes>"
      ]
     },
     "metadata": {
      "needs_background": "light"
     },
     "output_type": "display_data"
    }
   ],
   "source": [
    "fig, ax = plt.subplots(2, 2, figsize = (12, 8), tight_layout=True)\n",
    "train.hist(column= [\"budget\"], ax=ax[0][0], color='orange')\n",
    "train.hist(column= ['popularity'], ax=ax[0][1], color='brown')\n",
    "train.boxplot(column= ['budget'], ax=ax[1][0])\n",
    "train.boxplot(column= ['popularity'], ax=ax[1][1])"
   ]
  },
  {
   "cell_type": "markdown",
   "metadata": {},
   "source": [
    "Next, I look into the `runtime` and the `release_year`:"
   ]
  },
  {
   "cell_type": "code",
   "execution_count": 34,
   "metadata": {},
   "outputs": [
    {
     "data": {
      "text/plain": [
       "<matplotlib.axes._subplots.AxesSubplot at 0x1cd8a96f6a0>"
      ]
     },
     "execution_count": 34,
     "metadata": {},
     "output_type": "execute_result"
    },
    {
     "data": {
      "image/png": "[encoded data removed]",
      "text/plain": [
       "<Figure size 864x576 with 4 Axes>"
      ]
     },
     "metadata": {
      "needs_background": "light"
     },
     "output_type": "display_data"
    }
   ],
   "source": [
    "fig, ax = plt.subplots(2, 2, figsize = (12, 8), tight_layout=True)\n",
    "train.hist(column= [\"runtime\"], ax=ax[0][0], color='slateblue')\n",
    "train.hist(column= ['release_year'], ax=ax[0][1], color='blue')\n",
    "train.boxplot(column= ['runtime'], ax=ax[1][0])\n",
    "train.boxplot(column= ['release_year'], ax=ax[1][1])"
   ]
  },
  {
   "cell_type": "code",
   "execution_count": 35,
   "metadata": {},
   "outputs": [
    {
     "data": {
      "image/png": "[encoded data removed]",
      "text/plain": [
       "<Figure size 720x720 with 4 Axes>"
      ]
     },
     "metadata": {
      "needs_background": "light"
     },
     "output_type": "display_data"
    }
   ],
   "source": [
    "fig, ax = plt.subplots(4, 1, tight_layout=True)\n",
    "plt.grid()\n",
    "\n",
    "train.groupby('release_year')['revenue'].mean().plot(ax=ax[0], figsize=(10, 10), linewidth=3, color='green').set_title('Revenue over the Years', fontweight=\"bold\")\n",
    "ax[0].grid()\n",
    "\n",
    "train.groupby('release_year')['budget'].mean().plot(ax=ax[1], figsize=(10, 10), linewidth=3, color='orange').set_title('Budget over the Years', fontweight=\"bold\")\n",
    "ax[1].grid()\n",
    "\n",
    "train.groupby('release_year')['popularity'].mean().plot(ax=ax[2], figsize=(10, 10), linewidth=3, color='brown').set_title('Popularity over the Years', fontweight=\"bold\")\n",
    "ax[2].grid()\n",
    "\n",
    "train.groupby('release_year')['runtime'].mean().plot(ax=ax[3], figsize=(10, 10), linewidth=3, color='slateblue').set_title('Runtime over the Years', fontweight=\"bold\")\n",
    "ax[3].grid()\n",
    "\n",
    "fig.tight_layout(pad=2.0)\n",
    "plt.show()"
   ]
  },
  {
   "cell_type": "code",
   "execution_count": 41,
   "metadata": {},
   "outputs": [
    {
     "data": {
      "image/png": "[encoded data removed]",
      "text/plain": [
       "<Figure size 1080x504 with 6 Axes>"
      ]
     },
     "metadata": {
      "needs_background": "light"
     },
     "output_type": "display_data"
    }
   ],
   "source": [
    "fig, ax = plt.subplots(2, 3, figsize=(15, 7), tight_layout=True)\n",
    "\n",
    "train.plot(ax=ax[0][0], x='budget', y='revenue', style='o', colormap='GnBu').set_title('Revenue & Budget', fontweight=\"bold\")\n",
    "ax[0][0].grid()\n",
    "plt.ylabel('revenue')\n",
    "\n",
    "train.plot(ax=ax[0][1], x='popularity', y='revenue', style='o').set_title('Revenue & Popularity', fontweight=\"bold\")\n",
    "ax[0][1].grid()\n",
    "plt.ylabel('revenue')\n",
    "\n",
    "train.plot(ax=ax[0][2], x='runtime', y='revenue', style='o', colormap='BrBG').set_title('Revenue & Runtime', fontweight=\"bold\")\n",
    "ax[0][2].grid()\n",
    "plt.ylabel('revenue')\n",
    "\n",
    "train.plot(ax=ax[1][0], x='budget', y='popularity', style='o', colormap='ocean').set_title('Popularity & Budget', fontweight=\"bold\")\n",
    "ax[1][0].grid()\n",
    "plt.ylabel('popularity')\n",
    "\n",
    "train.plot(ax=ax[1][1], x='runtime', y='budget', style='o', colormap='coolwarm').set_title('Runtime & Budget', fontweight=\"bold\")\n",
    "ax[1][1].grid()\n",
    "plt.ylabel('budget')\n",
    "\n",
    "train.plot(ax=ax[1][2], x='runtime', y='popularity', style='o', colormap='viridis').set_title('Popularity & Runtime', fontweight=\"bold\")\n",
    "ax[1][2].grid()\n",
    "plt.ylabel('popularity')\n",
    "\n",
    "fig.tight_layout(pad=4.0)\n",
    "plt.show()"
   ]
  },
  {
   "cell_type": "markdown",
   "metadata": {},
   "source": [
    "## 6. Feature Engineering:\n",
    "\n",
    "Many features are in JSON format. First, I convert the features in JSON format to nominal format. Then, I am counting the occurances in those features which I plan to use in the model, unless they are not redundant."
   ]
  },
  {
   "cell_type": "code",
   "execution_count": 42,
   "metadata": {},
   "outputs": [
    {
     "name": "stdout",
     "output_type": "stream",
     "text": [
      "(0, \"[{'id': 12, 'name': 'Adventure'}, {'id': 16, 'name': 'Animation'}, {'id': 10751, 'name': 'Family'}, {'id': 14, 'name': 'Fantasy'}]\")\n",
      "(1, \"[{'id': 27, 'name': 'Horror'}, {'id': 878, 'name': 'Science Fiction'}]\")\n",
      "(2, \"[{'id': 35, 'name': 'Comedy'}, {'id': 10749, 'name': 'Romance'}]\")\n",
      "(3, \"[{'id': 18, 'name': 'Drama'}, {'id': 10752, 'name': 'War'}, {'id': 9648, 'name': 'Mystery'}]\")\n",
      "(4, \"[{'id': 36, 'name': 'History'}, {'id': 99, 'name': 'Documentary'}]\")\n",
      "(5, \"[{'id': 35, 'name': 'Comedy'}, {'id': 18, 'name': 'Drama'}]\")\n",
      "(6, \"[{'id': 10749, 'name': 'Romance'}, {'id': 18, 'name': 'Drama'}, {'id': 35, 'name': 'Comedy'}]\")\n",
      "(7, \"[{'id': 16, 'name': 'Animation'}, {'id': 10751, 'name': 'Family'}]\")\n",
      "(8, \"[{'id': 18, 'name': 'Drama'}, {'id': 10749, 'name': 'Romance'}]\")\n",
      "(9, \"[{'id': 16, 'name': 'Animation'}, {'id': 35, 'name': 'Comedy'}, {'id': 10751, 'name': 'Family'}]\")\n"
     ]
    }
   ],
   "source": [
    "for e in enumerate(test['genres'][:10]):\n",
    "    print(e)"
   ]
  },
  {
   "cell_type": "code",
   "execution_count": 43,
   "metadata": {},
   "outputs": [],
   "source": [
    "def get_dictionary(s):\n",
    "    try:\n",
    "        d = eval(s)\n",
    "    except:\n",
    "        d = {}\n",
    "    return d"
   ]
  },
  {
   "cell_type": "code",
   "execution_count": 44,
   "metadata": {},
   "outputs": [
    {
     "data": {
      "text/plain": [
       "0    Adam Blum,Allison Gordin,Andrew Panay,Annabell...\n",
       "1    Bruce Green,Charles Minsky,Debra Martin Chase,...\n",
       "2    Alicia Hadaway,Andy Ross,Barbara Harris,Ben Wi...\n",
       "3                  Sujoy Ghosh,Sujoy Ghosh,Sujoy Ghosh\n",
       "4                        Jong-seok Yoon,Jong-seok Yoon\n",
       "Name: crew, dtype: object"
      ]
     },
     "execution_count": 44,
     "metadata": {},
     "output_type": "execute_result"
    }
   ],
   "source": [
    "train.genres = train.genres.map(lambda x: sorted([d['name'] for d in get_dictionary(x)])).map(lambda x: ','.join(map(str, x)))\n",
    "train.spoken_languages = train.spoken_languages.map(lambda x: sorted([d['name'] for d in get_dictionary(x)])).map(lambda x: ','.join(map(str, x)))\n",
    "train.cast = train.cast.map(lambda x: sorted([d['name'] for d in get_dictionary(x)])).map(lambda x: ','.join(map(str, x)))\n",
    "train.crew = train.crew.map(lambda x: sorted([d['name'] for d in get_dictionary(x)])).map(lambda x: ','.join(map(str, x)))\n",
    "\n",
    "test.genres = test.genres.map(lambda x: sorted([d['name'] for d in get_dictionary(x)])).map(lambda x: ','.join(map(str, x)))\n",
    "test.spoken_languages = test.spoken_languages.map(lambda x: sorted([d['name'] for d in get_dictionary(x)])).map(lambda x: ','.join(map(str, x)))\n",
    "test.cast = test.cast.map(lambda x: sorted([d['name'] for d in get_dictionary(x)])).map(lambda x: ','.join(map(str, x)))\n",
    "test.crew = test.crew.map(lambda x: sorted([d['name'] for d in get_dictionary(x)])).map(lambda x: ','.join(map(str, x)))\n",
    "\n",
    "train.crew.head()"
   ]
  },
  {
   "cell_type": "code",
   "execution_count": 45,
   "metadata": {},
   "outputs": [
    {
     "data": {
      "text/plain": [
       "0       4\n",
       "1       2\n",
       "2       2\n",
       "3       3\n",
       "4       2\n",
       "       ..\n",
       "4393    1\n",
       "4394    4\n",
       "4395    1\n",
       "4396    2\n",
       "4397    1\n",
       "Name: genres_count, Length: 4398, dtype: int64"
      ]
     },
     "execution_count": 45,
     "metadata": {},
     "output_type": "execute_result"
    }
   ],
   "source": [
    "train['genres_count'] = train['genres'].str.count(',') + 1\n",
    "train['spoken_languages_count'] = train['spoken_languages'].str.count(',') + 1\n",
    "train['cast_count'] = train['cast'].str.count(',') + 1\n",
    "train['crew_count'] = train['crew'].str.count(',') + 1\n",
    "\n",
    "test['genres_count'] = test['genres'].str.count(',') + 1\n",
    "test['spoken_languages_count'] = test['spoken_languages'].str.count(',') + 1\n",
    "test['cast_count'] = test['cast'].str.count(',') + 1\n",
    "test['crew_count'] = test['crew'].str.count(',') + 1\n",
    "test['genres_count']"
   ]
  },
  {
   "cell_type": "markdown",
   "metadata": {},
   "source": [
    "Converting nominal data to numerical:"
   ]
  },
  {
   "cell_type": "code",
   "execution_count": 46,
   "metadata": {},
   "outputs": [
    {
     "data": {
      "text/plain": [
       "0       316\n",
       "1       316\n",
       "2       316\n",
       "3       210\n",
       "4       236\n",
       "       ... \n",
       "2995    316\n",
       "2996    111\n",
       "2997    316\n",
       "2998    316\n",
       "2999    316\n",
       "Name: production_countries, Length: 3000, dtype: int16"
      ]
     },
     "execution_count": 46,
     "metadata": {},
     "output_type": "execute_result"
    }
   ],
   "source": [
    "train[['status', \n",
    "      'original_language', \n",
    "      'production_companies', \n",
    "      'production_countries']] = train[['status', \n",
    "               'original_language', \n",
    "               'production_companies',\n",
    "               'production_countries']].astype('category')\n",
    "\n",
    "train['status'] = train['status'].cat.codes\n",
    "train['original_language'] = train['original_language'].cat.codes\n",
    "train['production_companies'] = train['production_companies'].cat.codes\n",
    "train['production_countries'] = train['production_countries'].cat.codes\n",
    "\n",
    "test[['status', \n",
    "      'original_language', \n",
    "      'production_companies', \n",
    "      'production_countries']] = test[['status', \n",
    "               'original_language', \n",
    "               'production_companies',\n",
    "               'production_countries']].astype('category')\n",
    "\n",
    "test['status'] = test['status'].cat.codes\n",
    "test['original_language'] = test['original_language'].cat.codes\n",
    "test['production_companies'] = test['production_companies'].cat.codes\n",
    "test['production_countries'] = test['production_countries'].cat.codes\n",
    "\n",
    "train['production_countries']"
   ]
  },
  {
   "cell_type": "markdown",
   "metadata": {},
   "source": [
    "Budget has zero values for many movies including some high budget movies. Additionally, it does not make sense to have movies with 0 runtimes. \n",
    "\n",
    "So, I am imputing those zero values with mean."
   ]
  },
  {
   "cell_type": "code",
   "execution_count": 47,
   "metadata": {},
   "outputs": [],
   "source": [
    "train['budget'] = train['budget'].replace(0, train['budget'].mean())  \n",
    "train['runtime'] = train['runtime'].replace(0, train['runtime'].mean())  \n",
    "\n",
    "test['budget'] = test['budget'].replace(0, test['budget'].mean())  \n",
    "test['runtime'] = test['runtime'].replace(0, test['runtime'].mean())  "
   ]
  },
  {
   "cell_type": "markdown",
   "metadata": {},
   "source": [
    "## 7. Preparing the data for model fitting:"
   ]
  },
  {
   "cell_type": "markdown",
   "metadata": {},
   "source": [
    "First I separate out the target and the feature columns."
   ]
  },
  {
   "cell_type": "code",
   "execution_count": 48,
   "metadata": {},
   "outputs": [],
   "source": [
    "y = train['log_revenue']\n",
    "X = train.drop(['log_revenue', 'revenue'], axis=1)"
   ]
  },
  {
   "cell_type": "code",
   "execution_count": 50,
   "metadata": {},
   "outputs": [],
   "source": [
    "# Creating the list of features\n",
    "feature_names = ['release_year', 'release_day', 'release_month', 'status', 'original_language',\n",
    "                 'budget', 'popularity', 'genres_count', 'production_companies', 'production_countries',\n",
    "                'spoken_languages_count', 'cast_count', 'crew_count', 'runtime']"
   ]
  },
  {
   "cell_type": "code",
   "execution_count": 51,
   "metadata": {},
   "outputs": [],
   "source": [
    "X_feat = X[feature_names]"
   ]
  },
  {
   "cell_type": "markdown",
   "metadata": {},
   "source": [
    "## 8. Modelling:"
   ]
  },
  {
   "cell_type": "markdown",
   "metadata": {},
   "source": [
    "### 8.1 Random Forest model:"
   ]
  },
  {
   "cell_type": "code",
   "execution_count": 52,
   "metadata": {},
   "outputs": [
    {
     "name": "stdout",
     "output_type": "stream",
     "text": [
      "Fold 1: MAE = 1.3529269477147203\n",
      "Fold 2: MAE = 1.335235956155954\n",
      "Fold 3: MAE = 1.314054298483006\n",
      "Fold 4: MAE = 1.4291252480025518\n",
      "Fold 5: MAE = 1.3890576226072453\n",
      "Fold 6: MAE = 1.2889085395419988\n",
      "Fold 7: MAE = 1.5539389151825818\n",
      "Fold 8: MAE = 1.5007365306559148\n",
      "Fold 9: MAE = 1.514624060494875\n",
      "Fold 10: MAE = 1.432852871539571\n",
      "Average MAE from RF model =  1.432852871539571\n"
     ]
    }
   ],
   "source": [
    "kf = KFold(n_splits=10, random_state=42, shuffle=True)\n",
    "rf_err = []\n",
    "\n",
    "for i, (train_index, val_index) in enumerate(kf.split(train)):\n",
    "    X_train, X_val = X_feat.loc[train_index], X_feat.loc[val_index]\n",
    "    y_train, y_val = y.loc[train_index], y.loc[val_index]\n",
    "    \n",
    "    ## Random forest model\n",
    "    rf_model = RandomForestRegressor(n_estimators = 100, random_state = 1)\n",
    "    \n",
    "    ## Fitting the model:\n",
    "    rf_model.fit(X_train, y_train)\n",
    "    \n",
    "    ## Model prediction:\n",
    "    rf_pred = rf_model.predict(X_val)\n",
    "    \n",
    "    ## Model Evaluation:\n",
    "    rf_mae = mean_absolute_error(y_val, rf_pred)\n",
    "    print(f\"Fold {i+1}: MAE = {rf_mae}\")\n",
    "    rf_err.append(rf_mae)\n",
    "    \n",
    "print(\"Average MAE from RF model = \", np.mean(rf_mae))"
   ]
  },
  {
   "cell_type": "code",
   "execution_count": 53,
   "metadata": {},
   "outputs": [
    {
     "data": {
      "text/plain": [
       "<matplotlib.axes._subplots.AxesSubplot at 0x1cd8bb56be0>"
      ]
     },
     "execution_count": 53,
     "metadata": {},
     "output_type": "execute_result"
    },
    {
     "data": {
      "image/png": "[encoded data removed]",
      "text/plain": [
       "<Figure size 432x288 with 1 Axes>"
      ]
     },
     "metadata": {
      "needs_background": "light"
     },
     "output_type": "display_data"
    }
   ],
   "source": [
    "# Calculating feature importance\n",
    "feat_importances = pd.Series(rf_model.feature_importances_, index=X_feat.columns)\n",
    "feat_importances.nlargest(10).plot(kind='barh')"
   ]
  },
  {
   "cell_type": "markdown",
   "metadata": {},
   "source": [
    "### 8.2 XGBoost Model:"
   ]
  },
  {
   "cell_type": "code",
   "execution_count": 55,
   "metadata": {},
   "outputs": [
    {
     "name": "stdout",
     "output_type": "stream",
     "text": [
      "Fold 1: MAE = 2.683043079000712\n",
      "Fold 2: MAE = 2.502387098249896\n",
      "Fold 3: MAE = 2.618024908367063\n",
      "Fold 4: MAE = 2.562489799519476\n",
      "Fold 5: MAE = 2.721297261828958\n",
      "Fold 6: MAE = 2.5640164071276246\n",
      "Fold 7: MAE = 2.853337451609376\n",
      "Fold 8: MAE = 2.664484773300827\n",
      "Fold 9: MAE = 2.7268057792995397\n",
      "Fold 10: MAE = 2.821547595965816\n",
      "Average MAE from XGBoost model =  2.821547595965816\n"
     ]
    }
   ],
   "source": [
    "kf = KFold(n_splits=10, random_state=42, shuffle=True)\n",
    "xgb_err = []\n",
    "\n",
    "for i, (train_index, val_index) in enumerate(kf.split(train)):\n",
    "    X_train, X_val = X_feat.loc[train_index], X_feat.loc[val_index]\n",
    "    y_train, y_val = y.loc[train_index], y.loc[val_index]\n",
    "    \n",
    "    ## XGBoost model\n",
    "    xgb_model = XGBRegressor(n_estimators = 200,\n",
    "                             max_depth = 9,\n",
    "                             learning_rate = 0.01,\n",
    "                             colsample_bytree = 0.7,\n",
    "                             subsample = 0.8,\n",
    "                             random_state = 1)\n",
    "    \n",
    "    ## Fitting the model:\n",
    "    xgb_model.fit(X_train, y_train)\n",
    "    \n",
    "    ## Model prediction:\n",
    "    xgb_pred = xgb_model.predict(X_val)\n",
    "    \n",
    "    ## Model Evaluation:\n",
    "    xgb_mae = mean_absolute_error(y_val, xgb_pred)\n",
    "    print(f\"Fold {i+1}: MAE = {xgb_mae}\")\n",
    "    xgb_err.append(xgb_mae)\n",
    "    \n",
    "print(\"Average MAE from XGBoost model = \", np.mean(xgb_mae))"
   ]
  },
  {
   "cell_type": "code",
   "execution_count": 56,
   "metadata": {},
   "outputs": [
    {
     "data": {
      "text/plain": [
       "<matplotlib.axes._subplots.AxesSubplot at 0x1cd8da3d640>"
      ]
     },
     "execution_count": 56,
     "metadata": {},
     "output_type": "execute_result"
    },
    {
     "data": {
      "image/png": "[encoded data removed]",
      "text/plain": [
       "<Figure size 432x288 with 1 Axes>"
      ]
     },
     "metadata": {
      "needs_background": "light"
     },
     "output_type": "display_data"
    }
   ],
   "source": [
    "# Calculating feature importance\n",
    "feat_importances = pd.Series(xgb_model.feature_importances_, index=X_feat.columns)\n",
    "feat_importances.nlargest(10).plot(kind='barh')"
   ]
  },
  {
   "cell_type": "markdown",
   "metadata": {},
   "source": [
    "### 8.3 LightGBM model:"
   ]
  },
  {
   "cell_type": "code",
   "execution_count": 60,
   "metadata": {},
   "outputs": [
    {
     "name": "stderr",
     "output_type": "stream",
     "text": [
      "C:\\ProgramData\\Anaconda3\\lib\\site-packages\\lightgbm\\sklearn.py:726: UserWarning: 'early_stopping_rounds' argument is deprecated and will be removed in a future release of LightGBM. Pass 'early_stopping()' callback via 'callbacks' argument instead.\n",
      "  _log_warning(\"'early_stopping_rounds' argument is deprecated and will be removed in a future release of LightGBM. \"\n"
     ]
    },
    {
     "name": "stdout",
     "output_type": "stream",
     "text": [
      "Training until validation scores don't improve for 100 rounds\n",
      "Fold 1: MAE = 1.4498781303506598\n",
      "Training until validation scores don't improve for 100 rounds\n"
     ]
    },
    {
     "name": "stderr",
     "output_type": "stream",
     "text": [
      "C:\\ProgramData\\Anaconda3\\lib\\site-packages\\lightgbm\\sklearn.py:726: UserWarning: 'early_stopping_rounds' argument is deprecated and will be removed in a future release of LightGBM. Pass 'early_stopping()' callback via 'callbacks' argument instead.\n",
      "  _log_warning(\"'early_stopping_rounds' argument is deprecated and will be removed in a future release of LightGBM. \"\n"
     ]
    },
    {
     "name": "stdout",
     "output_type": "stream",
     "text": [
      "Did not meet early stopping. Best iteration is:\n",
      "[200]\tvalid_0's l1: 1.49136\n",
      "Fold 2: MAE = 1.4913570371954772\n",
      "Training until validation scores don't improve for 100 rounds\n"
     ]
    },
    {
     "name": "stderr",
     "output_type": "stream",
     "text": [
      "C:\\ProgramData\\Anaconda3\\lib\\site-packages\\lightgbm\\sklearn.py:726: UserWarning: 'early_stopping_rounds' argument is deprecated and will be removed in a future release of LightGBM. Pass 'early_stopping()' callback via 'callbacks' argument instead.\n",
      "  _log_warning(\"'early_stopping_rounds' argument is deprecated and will be removed in a future release of LightGBM. \"\n"
     ]
    },
    {
     "name": "stdout",
     "output_type": "stream",
     "text": [
      "Did not meet early stopping. Best iteration is:\n",
      "[200]\tvalid_0's l1: 1.37195\n",
      "Fold 3: MAE = 1.3719459522548494\n",
      "Training until validation scores don't improve for 100 rounds\n"
     ]
    },
    {
     "name": "stderr",
     "output_type": "stream",
     "text": [
      "C:\\ProgramData\\Anaconda3\\lib\\site-packages\\lightgbm\\sklearn.py:726: UserWarning: 'early_stopping_rounds' argument is deprecated and will be removed in a future release of LightGBM. Pass 'early_stopping()' callback via 'callbacks' argument instead.\n",
      "  _log_warning(\"'early_stopping_rounds' argument is deprecated and will be removed in a future release of LightGBM. \"\n"
     ]
    },
    {
     "name": "stdout",
     "output_type": "stream",
     "text": [
      "Did not meet early stopping. Best iteration is:\n",
      "[200]\tvalid_0's l1: 1.48013\n",
      "Fold 4: MAE = 1.4801265791998535\n",
      "Training until validation scores don't improve for 100 rounds\n"
     ]
    },
    {
     "name": "stderr",
     "output_type": "stream",
     "text": [
      "C:\\ProgramData\\Anaconda3\\lib\\site-packages\\lightgbm\\sklearn.py:726: UserWarning: 'early_stopping_rounds' argument is deprecated and will be removed in a future release of LightGBM. Pass 'early_stopping()' callback via 'callbacks' argument instead.\n",
      "  _log_warning(\"'early_stopping_rounds' argument is deprecated and will be removed in a future release of LightGBM. \"\n"
     ]
    },
    {
     "name": "stdout",
     "output_type": "stream",
     "text": [
      "Did not meet early stopping. Best iteration is:\n",
      "[200]\tvalid_0's l1: 1.48232\n",
      "Fold 5: MAE = 1.4823204795995022\n",
      "Training until validation scores don't improve for 100 rounds\n"
     ]
    },
    {
     "name": "stderr",
     "output_type": "stream",
     "text": [
      "C:\\ProgramData\\Anaconda3\\lib\\site-packages\\lightgbm\\sklearn.py:726: UserWarning: 'early_stopping_rounds' argument is deprecated and will be removed in a future release of LightGBM. Pass 'early_stopping()' callback via 'callbacks' argument instead.\n",
      "  _log_warning(\"'early_stopping_rounds' argument is deprecated and will be removed in a future release of LightGBM. \"\n"
     ]
    },
    {
     "name": "stdout",
     "output_type": "stream",
     "text": [
      "Did not meet early stopping. Best iteration is:\n",
      "[200]\tvalid_0's l1: 1.31379\n",
      "Fold 6: MAE = 1.3137871564462393\n",
      "Training until validation scores don't improve for 100 rounds\n"
     ]
    },
    {
     "name": "stderr",
     "output_type": "stream",
     "text": [
      "C:\\ProgramData\\Anaconda3\\lib\\site-packages\\lightgbm\\sklearn.py:726: UserWarning: 'early_stopping_rounds' argument is deprecated and will be removed in a future release of LightGBM. Pass 'early_stopping()' callback via 'callbacks' argument instead.\n",
      "  _log_warning(\"'early_stopping_rounds' argument is deprecated and will be removed in a future release of LightGBM. \"\n"
     ]
    },
    {
     "name": "stdout",
     "output_type": "stream",
     "text": [
      "Did not meet early stopping. Best iteration is:\n",
      "[200]\tvalid_0's l1: 1.5717\n",
      "Fold 7: MAE = 1.5717026369254286\n",
      "Training until validation scores don't improve for 100 rounds\n"
     ]
    },
    {
     "name": "stderr",
     "output_type": "stream",
     "text": [
      "C:\\ProgramData\\Anaconda3\\lib\\site-packages\\lightgbm\\sklearn.py:726: UserWarning: 'early_stopping_rounds' argument is deprecated and will be removed in a future release of LightGBM. Pass 'early_stopping()' callback via 'callbacks' argument instead.\n",
      "  _log_warning(\"'early_stopping_rounds' argument is deprecated and will be removed in a future release of LightGBM. \"\n"
     ]
    },
    {
     "name": "stdout",
     "output_type": "stream",
     "text": [
      "Did not meet early stopping. Best iteration is:\n",
      "[200]\tvalid_0's l1: 1.59673\n",
      "Fold 8: MAE = 1.596725962718311\n",
      "Training until validation scores don't improve for 100 rounds\n"
     ]
    },
    {
     "name": "stderr",
     "output_type": "stream",
     "text": [
      "C:\\ProgramData\\Anaconda3\\lib\\site-packages\\lightgbm\\sklearn.py:726: UserWarning: 'early_stopping_rounds' argument is deprecated and will be removed in a future release of LightGBM. Pass 'early_stopping()' callback via 'callbacks' argument instead.\n",
      "  _log_warning(\"'early_stopping_rounds' argument is deprecated and will be removed in a future release of LightGBM. \"\n"
     ]
    },
    {
     "name": "stdout",
     "output_type": "stream",
     "text": [
      "Did not meet early stopping. Best iteration is:\n",
      "[200]\tvalid_0's l1: 1.54562\n",
      "Fold 9: MAE = 1.5456199999202376\n",
      "Training until validation scores don't improve for 100 rounds\n"
     ]
    },
    {
     "name": "stderr",
     "output_type": "stream",
     "text": [
      "C:\\ProgramData\\Anaconda3\\lib\\site-packages\\lightgbm\\sklearn.py:726: UserWarning: 'early_stopping_rounds' argument is deprecated and will be removed in a future release of LightGBM. Pass 'early_stopping()' callback via 'callbacks' argument instead.\n",
      "  _log_warning(\"'early_stopping_rounds' argument is deprecated and will be removed in a future release of LightGBM. \"\n"
     ]
    },
    {
     "name": "stdout",
     "output_type": "stream",
     "text": [
      "Did not meet early stopping. Best iteration is:\n",
      "[200]\tvalid_0's l1: 1.43471\n",
      "Fold 10: MAE = 1.4347145279119586\n",
      "Average MAE from Light GBM model =  1.4347145279119586\n"
     ]
    }
   ],
   "source": [
    "kf = KFold(n_splits=10, random_state=42, shuffle=True)\n",
    "lgb_err = []\n",
    "\n",
    "for i, (train_index, val_index) in enumerate(kf.split(train)):\n",
    "    X_train, X_val = X_feat.loc[train_index], X_feat.loc[val_index]\n",
    "    y_train, y_val = y.loc[train_index], y.loc[val_index]\n",
    "    \n",
    "    ## Light GBM model\n",
    "    lgb_model = LGBMRegressor(learning_rate=0.01,\n",
    "                          max_depth=9,\n",
    "                          num_leaves=90,\n",
    "                          colsample_bytree=0.8,\n",
    "                          subsample=0.9,\n",
    "                          subsample_freq=5,\n",
    "                          min_child_samples=36,\n",
    "                          reg_lambda=28,\n",
    "                          n_estimators=200,\n",
    "                          metric='mae',\n",
    "                          random_state=1)\n",
    "    \n",
    "    ## Fitting the model:\n",
    "    lgb_model.fit(X_train.values,\n",
    "                  y_train,\n",
    "                  early_stopping_rounds=100,\n",
    "                  eval_set = [(X_val.values, y_val)],\n",
    "                  callbacks=[lightgbm.early_stopping(100, verbose=True)])\n",
    "    \n",
    "    ## Model prediction:\n",
    "    lgb_pred = lgb_model.predict(X_val)\n",
    "    \n",
    "    ## Model Evaluation:\n",
    "    lgb_mae = mean_absolute_error(y_val, lgb_pred)\n",
    "    print(f\"Fold {i+1}: MAE = {lgb_mae}\")\n",
    "    lgb_err.append(lgb_mae)\n",
    "    \n",
    "print(\"Average MAE from Light GBM model = \", np.mean(lgb_mae))"
   ]
  },
  {
   "cell_type": "markdown",
   "metadata": {},
   "source": [
    "## 9. Final Prediction on test set:"
   ]
  },
  {
   "cell_type": "markdown",
   "metadata": {},
   "source": [
    "Since the Random Forest Regressor performs best among the three models I have tried, I will be using it for the final prediction on the test set."
   ]
  },
  {
   "cell_type": "code",
   "execution_count": 61,
   "metadata": {},
   "outputs": [],
   "source": [
    "X = train[feature_names]\n",
    "X_test = test[feature_names]"
   ]
  },
  {
   "cell_type": "code",
   "execution_count": 62,
   "metadata": {},
   "outputs": [
    {
     "data": {
      "text/plain": [
       "RandomForestRegressor(random_state=1)"
      ]
     },
     "execution_count": 62,
     "metadata": {},
     "output_type": "execute_result"
    }
   ],
   "source": [
    "final_model = RandomForestRegressor(n_estimators = 100, random_state = 1)\n",
    "\n",
    "final_model.fit(X, y)"
   ]
  },
  {
   "cell_type": "code",
   "execution_count": 63,
   "metadata": {},
   "outputs": [],
   "source": [
    "y_pred_final = final_model.predict(X_test)\n",
    "pred = pd.DataFrame(y_pred_final)"
   ]
  },
  {
   "cell_type": "code",
   "execution_count": 64,
   "metadata": {},
   "outputs": [],
   "source": [
    "datasets = pd.concat([submission['id'], pred], axis=1)\n",
    "datasets.columns =['id', 'revenue']\n",
    "datasets.to_csv('submission.csv', index=False)"
   ]
  },
  {
   "cell_type": "code",
   "execution_count": null,
   "metadata": {},
   "outputs": [],
   "source": []
  }
 ],
 "metadata": {
  "kernelspec": {
   "display_name": "Python 3",
   "language": "python",
   "name": "python3"
  },
  "language_info": {
   "codemirror_mode": {
    "name": "ipython",
    "version": 3
   },
   "file_extension": ".py",
   "mimetype": "text/x-python",
   "name": "python",
   "nbconvert_exporter": "python",
   "pygments_lexer": "ipython3",
   "version": "3.8.3"
  }
 },
 "nbformat": 4,
 "nbformat_minor": 4
}
