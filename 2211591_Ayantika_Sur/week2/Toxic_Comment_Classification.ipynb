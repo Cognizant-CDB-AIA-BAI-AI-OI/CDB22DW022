{
  "nbformat": 4,
  "nbformat_minor": 0,
  "metadata": {
    "colab": {
      "provenance": []
    },
    "kernelspec": {
      "name": "python3",
      "display_name": "Python 3"
    },
    "language_info": {
      "name": "python"
    }
  },
  "cells": [
    {
      "cell_type": "markdown",
      "source": [
        "# **Importing Libraries**"
      ],
      "metadata": {
        "id": "Iiu6Ucf1oQQX"
      }
    },
    {
      "cell_type": "code",
      "execution_count": 1,
      "metadata": {
        "id": "RSDcwgoAfkir",
        "colab": {
          "base_uri": "https://localhost:8080/"
        },
        "outputId": "3d32230b-e020-44bd-fc02-ebc7d7fad63c"
      },
      "outputs": [
        {
          "output_type": "stream",
          "name": "stderr",
          "text": [
            "/usr/local/lib/python3.9/dist-packages/torch/cuda/__init__.py:497: UserWarning: Can't initialize NVML\n",
            "  warnings.warn(\"Can't initialize NVML\")\n"
          ]
        }
      ],
      "source": [
        "import numpy as np \n",
        "import pandas as pd\n",
        "import spacy\n",
        "from spacy.util import minibatch, compounding \n",
        "#'minibatch'divide the training data into batches\n",
        "#compounding gradually increasing the batch size over time\n",
        "from spacy.training import Example\n",
        "import random"
      ]
    },
    {
      "cell_type": "markdown",
      "source": [
        "# **Reading Dataset**"
      ],
      "metadata": {
        "id": "V-Lt_tnwoaxw"
      }
    },
    {
      "cell_type": "code",
      "source": [
        "train_data = pd.read_csv('train.csv')\n",
        "test_data = pd.read_csv('test.csv')"
      ],
      "metadata": {
        "id": "O-b7UA6PjMUw"
      },
      "execution_count": 2,
      "outputs": []
    },
    {
      "cell_type": "markdown",
      "source": [
        "#**Texts Processing**"
      ],
      "metadata": {
        "id": "A6D03j-YsnaT"
      }
    },
    {
      "cell_type": "code",
      "source": [
        "train_data.head()"
      ],
      "metadata": {
        "colab": {
          "base_uri": "https://localhost:8080/",
          "height": 206
        },
        "id": "ob5gyrf1jsMS",
        "outputId": "8f778e5f-deea-4083-894c-3d829feb0635"
      },
      "execution_count": 3,
      "outputs": [
        {
          "output_type": "execute_result",
          "data": {
            "text/plain": [
              "                 id                                       comment_text  toxic  \\\n",
              "0  0000997932d777bf  Explanation\\nWhy the edits made under my usern...      0   \n",
              "1  000103f0d9cfb60f  D'aww! He matches this background colour I'm s...      0   \n",
              "2  000113f07ec002fd  Hey man, I'm really not trying to edit war. It...      0   \n",
              "3  0001b41b1c6bb37e  \"\\nMore\\nI can't make any real suggestions on ...      0   \n",
              "4  0001d958c54c6e35  You, sir, are my hero. Any chance you remember...      0   \n",
              "\n",
              "   severe_toxic  obscene  threat  insult  identity_hate  \n",
              "0             0        0       0       0              0  \n",
              "1             0        0       0       0              0  \n",
              "2             0        0       0       0              0  \n",
              "3             0        0       0       0              0  \n",
              "4             0        0       0       0              0  "
            ],
            "text/html": [
              "\n",
              "  <div id=\"df-e624a18f-77a6-4ed6-9453-25106febc401\">\n",
              "    <div class=\"colab-df-container\">\n",
              "      <div>\n",
              "<style scoped>\n",
              "    .dataframe tbody tr th:only-of-type {\n",
              "        vertical-align: middle;\n",
              "    }\n",
              "\n",
              "    .dataframe tbody tr th {\n",
              "        vertical-align: top;\n",
              "    }\n",
              "\n",
              "    .dataframe thead th {\n",
              "        text-align: right;\n",
              "    }\n",
              "</style>\n",
              "<table border=\"1\" class=\"dataframe\">\n",
              "  <thead>\n",
              "    <tr style=\"text-align: right;\">\n",
              "      <th></th>\n",
              "      <th>id</th>\n",
              "      <th>comment_text</th>\n",
              "      <th>toxic</th>\n",
              "      <th>severe_toxic</th>\n",
              "      <th>obscene</th>\n",
              "      <th>threat</th>\n",
              "      <th>insult</th>\n",
              "      <th>identity_hate</th>\n",
              "    </tr>\n",
              "  </thead>\n",
              "  <tbody>\n",
              "    <tr>\n",
              "      <th>0</th>\n",
              "      <td>0000997932d777bf</td>\n",
              "      <td>Explanation\\nWhy the edits made under my usern...</td>\n",
              "      <td>0</td>\n",
              "      <td>0</td>\n",
              "      <td>0</td>\n",
              "      <td>0</td>\n",
              "      <td>0</td>\n",
              "      <td>0</td>\n",
              "    </tr>\n",
              "    <tr>\n",
              "      <th>1</th>\n",
              "      <td>000103f0d9cfb60f</td>\n",
              "      <td>D'aww! He matches this background colour I'm s...</td>\n",
              "      <td>0</td>\n",
              "      <td>0</td>\n",
              "      <td>0</td>\n",
              "      <td>0</td>\n",
              "      <td>0</td>\n",
              "      <td>0</td>\n",
              "    </tr>\n",
              "    <tr>\n",
              "      <th>2</th>\n",
              "      <td>000113f07ec002fd</td>\n",
              "      <td>Hey man, I'm really not trying to edit war. It...</td>\n",
              "      <td>0</td>\n",
              "      <td>0</td>\n",
              "      <td>0</td>\n",
              "      <td>0</td>\n",
              "      <td>0</td>\n",
              "      <td>0</td>\n",
              "    </tr>\n",
              "    <tr>\n",
              "      <th>3</th>\n",
              "      <td>0001b41b1c6bb37e</td>\n",
              "      <td>\"\\nMore\\nI can't make any real suggestions on ...</td>\n",
              "      <td>0</td>\n",
              "      <td>0</td>\n",
              "      <td>0</td>\n",
              "      <td>0</td>\n",
              "      <td>0</td>\n",
              "      <td>0</td>\n",
              "    </tr>\n",
              "    <tr>\n",
              "      <th>4</th>\n",
              "      <td>0001d958c54c6e35</td>\n",
              "      <td>You, sir, are my hero. Any chance you remember...</td>\n",
              "      <td>0</td>\n",
              "      <td>0</td>\n",
              "      <td>0</td>\n",
              "      <td>0</td>\n",
              "      <td>0</td>\n",
              "      <td>0</td>\n",
              "    </tr>\n",
              "  </tbody>\n",
              "</table>\n",
              "</div>\n",
              "      <button class=\"colab-df-convert\" onclick=\"convertToInteractive('df-e624a18f-77a6-4ed6-9453-25106febc401')\"\n",
              "              title=\"Convert this dataframe to an interactive table.\"\n",
              "              style=\"display:none;\">\n",
              "        \n",
              "  <svg xmlns=\"http://www.w3.org/2000/svg\" height=\"24px\"viewBox=\"0 0 24 24\"\n",
              "       width=\"24px\">\n",
              "    <path d=\"M0 0h24v24H0V0z\" fill=\"none\"/>\n",
              "    <path d=\"M18.56 5.44l.94 2.06.94-2.06 2.06-.94-2.06-.94-.94-2.06-.94 2.06-2.06.94zm-11 1L8.5 8.5l.94-2.06 2.06-.94-2.06-.94L8.5 2.5l-.94 2.06-2.06.94zm10 10l.94 2.06.94-2.06 2.06-.94-2.06-.94-.94-2.06-.94 2.06-2.06.94z\"/><path d=\"M17.41 7.96l-1.37-1.37c-.4-.4-.92-.59-1.43-.59-.52 0-1.04.2-1.43.59L10.3 9.45l-7.72 7.72c-.78.78-.78 2.05 0 2.83L4 21.41c.39.39.9.59 1.41.59.51 0 1.02-.2 1.41-.59l7.78-7.78 2.81-2.81c.8-.78.8-2.07 0-2.86zM5.41 20L4 18.59l7.72-7.72 1.47 1.35L5.41 20z\"/>\n",
              "  </svg>\n",
              "      </button>\n",
              "      \n",
              "  <style>\n",
              "    .colab-df-container {\n",
              "      display:flex;\n",
              "      flex-wrap:wrap;\n",
              "      gap: 12px;\n",
              "    }\n",
              "\n",
              "    .colab-df-convert {\n",
              "      background-color: #E8F0FE;\n",
              "      border: none;\n",
              "      border-radius: 50%;\n",
              "      cursor: pointer;\n",
              "      display: none;\n",
              "      fill: #1967D2;\n",
              "      height: 32px;\n",
              "      padding: 0 0 0 0;\n",
              "      width: 32px;\n",
              "    }\n",
              "\n",
              "    .colab-df-convert:hover {\n",
              "      background-color: #E2EBFA;\n",
              "      box-shadow: 0px 1px 2px rgba(60, 64, 67, 0.3), 0px 1px 3px 1px rgba(60, 64, 67, 0.15);\n",
              "      fill: #174EA6;\n",
              "    }\n",
              "\n",
              "    [theme=dark] .colab-df-convert {\n",
              "      background-color: #3B4455;\n",
              "      fill: #D2E3FC;\n",
              "    }\n",
              "\n",
              "    [theme=dark] .colab-df-convert:hover {\n",
              "      background-color: #434B5C;\n",
              "      box-shadow: 0px 1px 3px 1px rgba(0, 0, 0, 0.15);\n",
              "      filter: drop-shadow(0px 1px 2px rgba(0, 0, 0, 0.3));\n",
              "      fill: #FFFFFF;\n",
              "    }\n",
              "  </style>\n",
              "\n",
              "      <script>\n",
              "        const buttonEl =\n",
              "          document.querySelector('#df-e624a18f-77a6-4ed6-9453-25106febc401 button.colab-df-convert');\n",
              "        buttonEl.style.display =\n",
              "          google.colab.kernel.accessAllowed ? 'block' : 'none';\n",
              "\n",
              "        async function convertToInteractive(key) {\n",
              "          const element = document.querySelector('#df-e624a18f-77a6-4ed6-9453-25106febc401');\n",
              "          const dataTable =\n",
              "            await google.colab.kernel.invokeFunction('convertToInteractive',\n",
              "                                                     [key], {});\n",
              "          if (!dataTable) return;\n",
              "\n",
              "          const docLinkHtml = 'Like what you see? Visit the ' +\n",
              "            '<a target=\"_blank\" href=https://colab.research.google.com/notebooks/data_table.ipynb>data table notebook</a>'\n",
              "            + ' to learn more about interactive tables.';\n",
              "          element.innerHTML = '';\n",
              "          dataTable['output_type'] = 'display_data';\n",
              "          await google.colab.output.renderOutput(dataTable, element);\n",
              "          const docLink = document.createElement('div');\n",
              "          docLink.innerHTML = docLinkHtml;\n",
              "          element.appendChild(docLink);\n",
              "        }\n",
              "      </script>\n",
              "    </div>\n",
              "  </div>\n",
              "  "
            ]
          },
          "metadata": {},
          "execution_count": 3
        }
      ]
    },
    {
      "cell_type": "code",
      "source": [
        "#Removing Newline Characters\n",
        "train_data['text'] = train_data.comment_text.apply(lambda x: x.replace('\\n', ' '))\n",
        "test_data['text'] = test_data.comment_text.apply(lambda x: x.replace('\\n', ' '))"
      ],
      "metadata": {
        "id": "5ZRZyVvPjudh"
      },
      "execution_count": 4,
      "outputs": []
    },
    {
      "cell_type": "code",
      "source": [
        "cats = ['toxic', 'severe_toxic', 'obscene', 'threat', 'insult', 'identity_hate']\n",
        "train_prepared_data = []\n",
        "\n",
        "def format_text_spacy(text):\n",
        "    return (text.text, {'cats': {cat: text[cat] for cat in cats}})\n",
        "    \n",
        "for i in range(0,len(train_data)):\n",
        "    text = train_data.iloc[i]\n",
        "    train_prepared_data.append(format_text_spacy(text))"
      ],
      "metadata": {
        "id": "bwykjE9mjulF"
      },
      "execution_count": 5,
      "outputs": []
    },
    {
      "cell_type": "code",
      "source": [
        "train_prepared_data[0:5]"
      ],
      "metadata": {
        "colab": {
          "base_uri": "https://localhost:8080/"
        },
        "id": "uXPMTX8gjunR",
        "outputId": "b9d60b2d-9275-4ee3-a0a7-446cee57eff9"
      },
      "execution_count": 6,
      "outputs": [
        {
          "output_type": "execute_result",
          "data": {
            "text/plain": [
              "[(\"Explanation Why the edits made under my username Hardcore Metallica Fan were reverted? They weren't vandalisms, just closure on some GAs after I voted at New York Dolls FAC. And please don't remove the template from the talk page since I'm retired now.89.205.38.27\",\n",
              "  {'cats': {'toxic': 0,\n",
              "    'severe_toxic': 0,\n",
              "    'obscene': 0,\n",
              "    'threat': 0,\n",
              "    'insult': 0,\n",
              "    'identity_hate': 0}}),\n",
              " (\"D'aww! He matches this background colour I'm seemingly stuck with. Thanks.  (talk) 21:51, January 11, 2016 (UTC)\",\n",
              "  {'cats': {'toxic': 0,\n",
              "    'severe_toxic': 0,\n",
              "    'obscene': 0,\n",
              "    'threat': 0,\n",
              "    'insult': 0,\n",
              "    'identity_hate': 0}}),\n",
              " (\"Hey man, I'm really not trying to edit war. It's just that this guy is constantly removing relevant information and talking to me through edits instead of my talk page. He seems to care more about the formatting than the actual info.\",\n",
              "  {'cats': {'toxic': 0,\n",
              "    'severe_toxic': 0,\n",
              "    'obscene': 0,\n",
              "    'threat': 0,\n",
              "    'insult': 0,\n",
              "    'identity_hate': 0}}),\n",
              " ('\" More I can\\'t make any real suggestions on improvement - I wondered if the section statistics should be later on, or a subsection of \"\"types of accidents\"\"  -I think the references may need tidying so that they are all in the exact same format ie date format etc. I can do that later on, if no-one else does first - if you have any preferences for formatting style on references or want to do it yourself please let me know.  There appears to be a backlog on articles for review so I guess there may be a delay until a reviewer turns up. It\\'s listed in the relevant form eg Wikipedia:Good_article_nominations#Transport  \"',\n",
              "  {'cats': {'toxic': 0,\n",
              "    'severe_toxic': 0,\n",
              "    'obscene': 0,\n",
              "    'threat': 0,\n",
              "    'insult': 0,\n",
              "    'identity_hate': 0}}),\n",
              " (\"You, sir, are my hero. Any chance you remember what page that's on?\",\n",
              "  {'cats': {'toxic': 0,\n",
              "    'severe_toxic': 0,\n",
              "    'obscene': 0,\n",
              "    'threat': 0,\n",
              "    'insult': 0,\n",
              "    'identity_hate': 0}})]"
            ]
          },
          "metadata": {},
          "execution_count": 6
        }
      ]
    },
    {
      "cell_type": "code",
      "source": [
        "nlp = spacy.blank(\"en\")\n",
        "textcat = nlp.add_pipe(\"textcat_multilabel\")\n",
        "textcat.add_label(\"toxic\")\n",
        "textcat.add_label(\"severe_toxic\")\n",
        "textcat.add_label(\"obscene\")\n",
        "textcat.add_label(\"threat\")\n",
        "textcat.add_label(\"insult\")\n",
        "textcat.add_label(\"identity_hate\")"
      ],
      "metadata": {
        "colab": {
          "base_uri": "https://localhost:8080/"
        },
        "id": "T0QgcwUHjutO",
        "outputId": "ca71093f-139c-4d88-d6cc-6da6428cfa24"
      },
      "execution_count": 7,
      "outputs": [
        {
          "output_type": "execute_result",
          "data": {
            "text/plain": [
              "1"
            ]
          },
          "metadata": {},
          "execution_count": 7
        }
      ]
    },
    {
      "cell_type": "markdown",
      "source": [
        " * The pipeline is now fully set up to handle the text classification task.\n",
        " * The model can now be trained on the prepared data using the 'textcat' pipe, and then used to classify new text samples based on their toxicity levels."
      ],
      "metadata": {
        "id": "B6w4kH3s0HI6"
      }
    },
    {
      "cell_type": "markdown",
      "source": [
        "# **Training and Testing Data**"
      ],
      "metadata": {
        "id": "TWeBaKLt2um1"
      }
    },
    {
      "cell_type": "code",
      "source": [
        "other_pipes = [pipe for pipe in nlp.pipe_names if pipe != 'textcat_multilabel']\n",
        "with nlp.disable_pipes(*other_pipes):  # only train textcat\n",
        "    optimizer = nlp.begin_training()\n",
        "    print(\"Training the model...\")\n",
        "    for epoch in range(10):\n",
        "        losses = {}\n",
        "        batches = minibatch(train_prepared_data[0:10000], size=compounding(4.0, 32.0, 1.001))\n",
        "        for batch in batches:\n",
        "            examples = []\n",
        "            for text, annot in batch:\n",
        "                examples.append(Example.from_dict(nlp.make_doc(text), annot))\n",
        "            nlp.update(examples, sgd=optimizer, drop=0.2, losses=losses)\n",
        "        print(\"Epoch: {} Loss: {}\".format(epoch+1, losses))"
      ],
      "metadata": {
        "colab": {
          "base_uri": "https://localhost:8080/"
        },
        "id": "2L7bSVDVkSG9",
        "outputId": "1b4a65d7-38ca-4540-d090-ccdf7e5a616f"
      },
      "execution_count": 9,
      "outputs": [
        {
          "output_type": "stream",
          "name": "stdout",
          "text": [
            "Training the model...\n",
            "Epoch: 1 Loss: {'textcat_multilabel': 38.21415030779394}\n",
            "Epoch: 2 Loss: {'textcat_multilabel': 23.74933233314141}\n",
            "Epoch: 3 Loss: {'textcat_multilabel': 18.941587105632607}\n",
            "Epoch: 4 Loss: {'textcat_multilabel': 14.51262758230223}\n",
            "Epoch: 5 Loss: {'textcat_multilabel': 11.978524126807088}\n",
            "Epoch: 6 Loss: {'textcat_multilabel': 10.099753917691714}\n",
            "Epoch: 7 Loss: {'textcat_multilabel': 8.380332477777529}\n",
            "Epoch: 8 Loss: {'textcat_multilabel': 7.092953461811078}\n",
            "Epoch: 9 Loss: {'textcat_multilabel': 5.893946531348661}\n",
            "Epoch: 10 Loss: {'textcat_multilabel': 5.364915788115653}\n"
          ]
        }
      ]
    },
    {
      "cell_type": "code",
      "source": [
        "test = nlp(\"Hey man, I'm really not trying to edit war. It's just that this guy is constantly removing relevant information and talking to me through edits instead of my talk page. He seems to care more about the formatting than the actual info.\")"
      ],
      "metadata": {
        "id": "hlYaRC79kTXS"
      },
      "execution_count": 10,
      "outputs": []
    },
    {
      "cell_type": "code",
      "source": [
        "test.cats"
      ],
      "metadata": {
        "colab": {
          "base_uri": "https://localhost:8080/"
        },
        "id": "GLZ13AopkTaT",
        "outputId": "198e90f4-221b-46d3-dec5-68f8fc83ed34"
      },
      "execution_count": 11,
      "outputs": [
        {
          "output_type": "execute_result",
          "data": {
            "text/plain": [
              "{'toxic': 0.011529107578098774,\n",
              " 'severe_toxic': 0.0011514670914039016,\n",
              " 'obscene': 0.0020827658008784056,\n",
              " 'threat': 0.002530499827116728,\n",
              " 'insult': 0.0007587347063235939,\n",
              " 'identity_hate': 0.0008342122309841216}"
            ]
          },
          "metadata": {},
          "execution_count": 11
        }
      ]
    },
    {
      "cell_type": "code",
      "source": [
        "test_data[\"text\"][153163]"
      ],
      "metadata": {
        "colab": {
          "base_uri": "https://localhost:8080/",
          "height": 35
        },
        "id": "zOgi2qG25TSJ",
        "outputId": "703801eb-fd90-4f4d-815e-84224282706b"
      },
      "execution_count": 22,
      "outputs": [
        {
          "output_type": "execute_result",
          "data": {
            "text/plain": [
              "'\"   :::Stop already. Your bullshit is not welcome here. I\\'m no fool, and if you think that kind of explination is enough, well pity you.    \"'"
            ],
            "application/vnd.google.colaboratory.intrinsic+json": {
              "type": "string"
            }
          },
          "metadata": {},
          "execution_count": 22
        }
      ]
    },
    {
      "cell_type": "code",
      "source": [
        "test_2=nlp(\"   :::Stop already. Your bullshit is not welcome here. I'm no fool, and if you think that kind of explination is enough, well pity you.    \")"
      ],
      "metadata": {
        "id": "o2T8f8r57WOe"
      },
      "execution_count": 23,
      "outputs": []
    },
    {
      "cell_type": "code",
      "source": [
        "test_2.cats"
      ],
      "metadata": {
        "colab": {
          "base_uri": "https://localhost:8080/"
        },
        "id": "NcZPY_dn6dUT",
        "outputId": "8c47282e-ddb9-4962-d4d1-65ca4c11e9aa"
      },
      "execution_count": 24,
      "outputs": [
        {
          "output_type": "execute_result",
          "data": {
            "text/plain": [
              "{'toxic': 0.7894149422645569,\n",
              " 'severe_toxic': 0.0008440674864687026,\n",
              " 'obscene': 0.31717610359191895,\n",
              " 'threat': 0.004593106918036938,\n",
              " 'insult': 0.02608342468738556,\n",
              " 'identity_hate': 0.006667386740446091}"
            ]
          },
          "metadata": {},
          "execution_count": 24
        }
      ]
    }
  ]
}