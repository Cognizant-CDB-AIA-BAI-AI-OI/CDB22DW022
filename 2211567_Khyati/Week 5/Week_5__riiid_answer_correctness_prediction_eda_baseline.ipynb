{
  "cells": [
    {
      "cell_type": "markdown",
      "id": "458e036d",
      "metadata": {
        "papermill": {
          "duration": 0.037928,
          "end_time": "2021-12-02T19:48:37.553193",
          "exception": false,
          "start_time": "2021-12-02T19:48:37.515265",
          "status": "completed"
        },
        "tags": [],
        "id": "458e036d"
      },
      "source": [
        "### Riiid Answer Correctness Prediction \n",
        "https://www.kaggle.com/c/riiid-test-answer-prediction\n",
        "\n",
        "In this competition, your challenge is to create algorithms for \"Knowledge Tracing,\" the modeling of student knowledge over time. The goal is to accurately predict how students will perform on future interactions. You will pair your machine learning skills using Riiid’s EdNet data."
      ]
    },
    {
      "cell_type": "markdown",
      "id": "b52b6dcd",
      "metadata": {
        "papermill": {
          "duration": 0.038033,
          "end_time": "2021-12-02T19:48:37.629135",
          "exception": false,
          "start_time": "2021-12-02T19:48:37.591102",
          "status": "completed"
        },
        "tags": [],
        "id": "b52b6dcd"
      },
      "source": [
        "Inspired by: https://www.kaggle.com/erikbruin/riiid-comprehensive-eda-baseline/notebook"
      ]
    },
    {
      "cell_type": "code",
      "execution_count": null,
      "id": "689e00d6",
      "metadata": {
        "_cell_guid": "b1076dfc-b9ad-4769-8c92-a6c4dae69d19",
        "_uuid": "8f2839f25d086af736a60e9eeb907d3b93b6e0e5",
        "execution": {
          "iopub.execute_input": "2021-12-02T19:48:37.714126Z",
          "iopub.status.busy": "2021-12-02T19:48:37.708207Z",
          "iopub.status.idle": "2021-12-02T19:48:38.677656Z",
          "shell.execute_reply": "2021-12-02T19:48:38.676341Z",
          "shell.execute_reply.started": "2021-12-02T14:14:11.273894Z"
        },
        "papermill": {
          "duration": 1.010867,
          "end_time": "2021-12-02T19:48:38.677848",
          "exception": false,
          "start_time": "2021-12-02T19:48:37.666981",
          "status": "completed"
        },
        "tags": [],
        "id": "689e00d6",
        "outputId": "1eefe663-ba55-420f-a8f5-f1c7183d0a87"
      },
      "outputs": [
        {
          "name": "stdout",
          "output_type": "stream",
          "text": [
            "/kaggle/input/riiid-train-data-multiple-formats/riiid_train.pkl.gzip\n",
            "/kaggle/input/riiid-train-data-multiple-formats/riiid_train.parquet\n",
            "/kaggle/input/riiid-train-data-multiple-formats/riiid_train.feather\n",
            "/kaggle/input/riiid-train-data-multiple-formats/riiid_train.h5\n",
            "/kaggle/input/riiid-train-data-multiple-formats/riiid_train.jay\n",
            "/kaggle/input/riiid-test-answer-prediction/example_sample_submission.csv\n",
            "/kaggle/input/riiid-test-answer-prediction/example_test.csv\n",
            "/kaggle/input/riiid-test-answer-prediction/questions.csv\n",
            "/kaggle/input/riiid-test-answer-prediction/train.csv\n",
            "/kaggle/input/riiid-test-answer-prediction/lectures.csv\n",
            "/kaggle/input/riiid-test-answer-prediction/riiideducation/competition.cpython-37m-x86_64-linux-gnu.so\n",
            "/kaggle/input/riiid-test-answer-prediction/riiideducation/__init__.py\n",
            "/kaggle/input/riiid-cross-validation-files/cv3_valid.pickle\n",
            "/kaggle/input/riiid-cross-validation-files/cv1_train.pickle\n",
            "/kaggle/input/riiid-cross-validation-files/cv3_train.pickle\n",
            "/kaggle/input/riiid-cross-validation-files/cv5_train.pickle\n",
            "/kaggle/input/riiid-cross-validation-files/cv4_train.pickle\n",
            "/kaggle/input/riiid-cross-validation-files/cv1_valid.pickle\n",
            "/kaggle/input/riiid-cross-validation-files/cv2_valid.pickle\n",
            "/kaggle/input/riiid-cross-validation-files/cv2_train.pickle\n",
            "/kaggle/input/riiid-cross-validation-files/cv5_valid.pickle\n",
            "/kaggle/input/riiid-cross-validation-files/cv4_valid.pickle\n"
          ]
        }
      ],
      "source": [
        "# This Python 3 environment comes with many helpful analytics libraries installed\n",
        "# It is defined by the kaggle/python Docker image: https://github.com/kaggle/docker-python\n",
        "# For example, here's several helpful packages to load\n",
        "\n",
        "import numpy as np # linear algebra\n",
        "import pandas as pd # data processing, CSV file I/O (e.g. pd.read_csv)\n",
        "import matplotlib.pyplot as plt\n",
        "%matplotlib inline\n",
        "import matplotlib.style as style\n",
        "style.use('fivethirtyeight')\n",
        "import seaborn as sns\n",
        "from matplotlib.ticker import FuncFormatter\n",
        "\n",
        "# Input data files are available in the read-only \"../input/\" directory\n",
        "# For example, running this (by clicking run or pressing Shift+Enter) will list all files under the input directory\n",
        "\n",
        "import os\n",
        "for dirname, _, filenames in os.walk('/kaggle/input'):\n",
        "    for filename in filenames:\n",
        "        print(os.path.join(dirname, filename))\n",
        "\n",
        "# You can write up to 20GB to the current directory (/kaggle/working/) that gets preserved as output when you create a version using \"Save & Run All\" \n",
        "# You can also write temporary files to /kaggle/temp/, but they won't be saved outside of the current session"
      ]
    },
    {
      "cell_type": "markdown",
      "source": [
        "The code imports libraries such as numpy, pandas, matplotlib, and seaborn, which are commonly used in data science projects.\n",
        "\n",
        "Then, it sets the style of the plots to the \"fivethirtyeight\" style using matplotlib, and defines a formatter function to customize the tick labels in the plot.\n",
        "\n",
        "Finally, it checks the files available in the input directory, which is a read-only directory where the input data is stored.\n",
        "\n",
        "The last two comments explain the write permissions and the possibility of creating temporary files in the working and temp directories, respectively."
      ],
      "metadata": {
        "id": "EPD5YAy1EQTC"
      },
      "id": "EPD5YAy1EQTC"
    },
    {
      "cell_type": "code",
      "execution_count": null,
      "id": "e39aeeac",
      "metadata": {
        "execution": {
          "iopub.execute_input": "2021-12-02T19:48:38.760949Z",
          "iopub.status.busy": "2021-12-02T19:48:38.760183Z",
          "iopub.status.idle": "2021-12-02T19:49:56.000526Z",
          "shell.execute_reply": "2021-12-02T19:49:56.001044Z",
          "shell.execute_reply.started": "2021-12-02T14:14:12.326266Z"
        },
        "papermill": {
          "duration": 77.28433,
          "end_time": "2021-12-02T19:49:56.001238",
          "exception": false,
          "start_time": "2021-12-02T19:48:38.716908",
          "status": "completed"
        },
        "tags": [],
        "id": "e39aeeac",
        "outputId": "5b446764-07a7-481e-9859-fa654f140b5b"
      },
      "outputs": [
        {
          "name": "stdout",
          "output_type": "stream",
          "text": [
            "Train size: (101230332, 10)\n",
            "CPU times: user 36.4 s, sys: 12.1 s, total: 48.5 s\n",
            "Wall time: 1min 17s\n"
          ]
        }
      ],
      "source": [
        "%%time\n",
        "\n",
        "train = pd.read_pickle(\"../input/riiid-train-data-multiple-formats/riiid_train.pkl.gzip\")\n",
        "train['prior_question_had_explanation'] = train['prior_question_had_explanation'].astype('boolean')\n",
        "print(\"Train size:\", train.shape)"
      ]
    },
    {
      "cell_type": "markdown",
      "source": [
        "This code reads a large pickle file containing training data for a machine learning model. The `%%time` magic command is used to measure the time taken to execute the code block. \n",
        "\n",
        "The `pd.read_pickle()` function from pandas library is used to read the pickle file, which is compressed using gzip. The file path is given as the argument to the function. \n",
        "\n",
        "After reading the file, the code converts the 'prior_question_had_explanation' column to boolean data type, which could be a binary flag indicating whether the user saw an explanation for the previous question or not.\n",
        "\n",
        "Finally, the code prints the shape of the `train` dataframe to check the number of rows and columns."
      ],
      "metadata": {
        "id": "Y1FhzvrCEapZ"
      },
      "id": "Y1FhzvrCEapZ"
    },
    {
      "cell_type": "code",
      "execution_count": null,
      "id": "5bd9dd28",
      "metadata": {
        "execution": {
          "iopub.execute_input": "2021-12-02T19:49:56.093010Z",
          "iopub.status.busy": "2021-12-02T19:49:56.092059Z",
          "iopub.status.idle": "2021-12-02T19:49:56.096121Z",
          "shell.execute_reply": "2021-12-02T19:49:56.096678Z",
          "shell.execute_reply.started": "2021-12-02T14:15:21.765788Z"
        },
        "papermill": {
          "duration": 0.056889,
          "end_time": "2021-12-02T19:49:56.096866",
          "exception": false,
          "start_time": "2021-12-02T19:49:56.039977",
          "status": "completed"
        },
        "tags": [],
        "id": "5bd9dd28",
        "outputId": "32d6dca6-cef1-4c76-b4e0-9984abb204b2"
      },
      "outputs": [
        {
          "data": {
            "text/plain": [
              "Index                                   128\n",
              "row_id                            809842656\n",
              "timestamp                         809842656\n",
              "user_id                           404921328\n",
              "content_id                        202460664\n",
              "content_type_id                   101230332\n",
              "task_container_id                 202460664\n",
              "user_answer                       101230332\n",
              "answered_correctly                101230332\n",
              "prior_question_elapsed_time       404921328\n",
              "prior_question_had_explanation    202460664\n",
              "dtype: int64"
            ]
          },
          "execution_count": 3,
          "metadata": {},
          "output_type": "execute_result"
        }
      ],
      "source": [
        "train.memory_usage(deep=True)"
      ]
    },
    {
      "cell_type": "code",
      "execution_count": null,
      "id": "4fb4c2bb",
      "metadata": {
        "execution": {
          "iopub.execute_input": "2021-12-02T19:49:56.181129Z",
          "iopub.status.busy": "2021-12-02T19:49:56.180140Z",
          "iopub.status.idle": "2021-12-02T19:49:56.200377Z",
          "shell.execute_reply": "2021-12-02T19:49:56.200982Z",
          "shell.execute_reply.started": "2021-12-02T14:15:21.778797Z"
        },
        "papermill": {
          "duration": 0.064392,
          "end_time": "2021-12-02T19:49:56.201169",
          "exception": false,
          "start_time": "2021-12-02T19:49:56.136777",
          "status": "completed"
        },
        "tags": [],
        "id": "4fb4c2bb",
        "outputId": "dc1b3677-7be4-487c-fa1f-b69a9ca4b79b"
      },
      "outputs": [
        {
          "name": "stdout",
          "output_type": "stream",
          "text": [
            "<class 'pandas.core.frame.DataFrame'>\n",
            "RangeIndex: 101230332 entries, 0 to 101230331\n",
            "Data columns (total 10 columns):\n",
            " #   Column                          Dtype  \n",
            "---  ------                          -----  \n",
            " 0   row_id                          int64  \n",
            " 1   timestamp                       int64  \n",
            " 2   user_id                         int32  \n",
            " 3   content_id                      int16  \n",
            " 4   content_type_id                 bool   \n",
            " 5   task_container_id               int16  \n",
            " 6   user_answer                     int8   \n",
            " 7   answered_correctly              int8   \n",
            " 8   prior_question_elapsed_time     float32\n",
            " 9   prior_question_had_explanation  boolean\n",
            "dtypes: bool(1), boolean(1), float32(1), int16(2), int32(1), int64(2), int8(2)\n",
            "memory usage: 3.1 GB\n"
          ]
        }
      ],
      "source": [
        "train.info()"
      ]
    },
    {
      "cell_type": "code",
      "execution_count": null,
      "id": "a6028c38",
      "metadata": {
        "execution": {
          "iopub.execute_input": "2021-12-02T19:49:56.352463Z",
          "iopub.status.busy": "2021-12-02T19:49:56.351522Z",
          "iopub.status.idle": "2021-12-02T19:49:56.421629Z",
          "shell.execute_reply": "2021-12-02T19:49:56.422135Z",
          "shell.execute_reply.started": "2021-12-02T14:15:21.809351Z"
        },
        "papermill": {
          "duration": 0.181268,
          "end_time": "2021-12-02T19:49:56.422365",
          "exception": false,
          "start_time": "2021-12-02T19:49:56.241097",
          "status": "completed"
        },
        "tags": [],
        "id": "a6028c38",
        "outputId": "c1892fa1-42e9-4152-f674-43eea7e64d76"
      },
      "outputs": [
        {
          "name": "stdout",
          "output_type": "stream",
          "text": [
            "CPU times: user 15.1 ms, sys: 8.35 ms, total: 23.5 ms\n",
            "Wall time: 66.3 ms\n"
          ]
        }
      ],
      "source": [
        "%%time\n",
        "\n",
        "questions = pd.read_csv('/kaggle/input/riiid-test-answer-prediction/questions.csv')\n",
        "lectures = pd.read_csv('/kaggle/input/riiid-test-answer-prediction/lectures.csv')\n",
        "example_test = pd.read_csv('/kaggle/input/riiid-test-answer-prediction/example_test.csv')\n",
        "example_sample_submission = pd.read_csv('/kaggle/input/riiid-test-answer-prediction/example_sample_submission.csv')"
      ]
    },
    {
      "cell_type": "code",
      "execution_count": null,
      "id": "608a5967",
      "metadata": {
        "execution": {
          "iopub.execute_input": "2021-12-02T19:49:56.507433Z",
          "iopub.status.busy": "2021-12-02T19:49:56.506614Z",
          "iopub.status.idle": "2021-12-02T19:49:57.554222Z",
          "shell.execute_reply": "2021-12-02T19:49:57.554768Z",
          "shell.execute_reply.started": "2021-12-02T14:15:21.873873Z"
        },
        "papermill": {
          "duration": 1.091628,
          "end_time": "2021-12-02T19:49:57.554942",
          "exception": false,
          "start_time": "2021-12-02T19:49:56.463314",
          "status": "completed"
        },
        "tags": [],
        "id": "608a5967",
        "outputId": "4c11c0be-c03c-4aff-f6e5-d9ceeaec08f1"
      },
      "outputs": [
        {
          "data": {
            "image/png": "[encoded data removed]",
            "text/plain": [
              "<Figure size 864x432 with 1 Axes>"
            ]
          },
          "metadata": {},
          "output_type": "display_data"
        }
      ],
      "source": [
        "cids = train.content_id.value_counts()[:30]\n",
        "\n",
        "fig = plt.figure(figsize=(12,6))\n",
        "ax = cids.plot.bar()\n",
        "plt.title(\"Thirty most used content id's\")\n",
        "plt.xticks(rotation=90)\n",
        "ax.get_yaxis().set_major_formatter(FuncFormatter(lambda x, p: format(int(x), ','))) #add thousands separator\n",
        "plt.show()"
      ]
    },
    {
      "cell_type": "code",
      "execution_count": null,
      "id": "a806ef5b",
      "metadata": {
        "execution": {
          "iopub.execute_input": "2021-12-02T19:49:57.641342Z",
          "iopub.status.busy": "2021-12-02T19:49:57.640634Z",
          "iopub.status.idle": "2021-12-02T19:50:15.252050Z",
          "shell.execute_reply": "2021-12-02T19:50:15.252658Z",
          "shell.execute_reply.started": "2021-12-02T14:15:22.805819Z"
        },
        "papermill": {
          "duration": 17.657191,
          "end_time": "2021-12-02T19:50:15.252848",
          "exception": false,
          "start_time": "2021-12-02T19:49:57.595657",
          "status": "completed"
        },
        "tags": [],
        "id": "a806ef5b",
        "outputId": "3f4d7361-b1f4-475e-84a1-e4dac6e7e787"
      },
      "outputs": [
        {
          "data": {
            "image/png": "[encoded data removed]",
            "text/plain": [
              "<Figure size 864x432 with 1 Axes>"
            ]
          },
          "metadata": {},
          "output_type": "display_data"
        }
      ],
      "source": [
        "#1 year = 31536000000 ms\n",
        "ts = train['timestamp']/(31536000000/12)\n",
        "fig = plt.figure(figsize=(12,6))\n",
        "ts.plot.hist(bins=100)\n",
        "plt.title(\"Histogram of timestamp\")\n",
        "plt.xticks(rotation=0)\n",
        "plt.xlabel(\"Months between this user interaction and the first event completion from that user\")\n",
        "plt.show()"
      ]
    },
    {
      "cell_type": "code",
      "execution_count": null,
      "id": "164e15c6",
      "metadata": {
        "execution": {
          "iopub.execute_input": "2021-12-02T19:50:15.345225Z",
          "iopub.status.busy": "2021-12-02T19:50:15.344496Z",
          "iopub.status.idle": "2021-12-02T19:50:21.886195Z",
          "shell.execute_reply": "2021-12-02T19:50:21.885626Z",
          "shell.execute_reply.started": "2021-12-02T14:15:38.35534Z"
        },
        "papermill": {
          "duration": 6.591126,
          "end_time": "2021-12-02T19:50:21.886365",
          "exception": false,
          "start_time": "2021-12-02T19:50:15.295239",
          "status": "completed"
        },
        "tags": [],
        "id": "164e15c6",
        "outputId": "c925833e-7219-4e69-e4ed-62e279f9bbd4"
      },
      "outputs": [
        {
          "data": {
            "image/png": "[encoded data removed]",
            "text/plain": [
              "<Figure size 864x288 with 1 Axes>"
            ]
          },
          "metadata": {},
          "output_type": "display_data"
        }
      ],
      "source": [
        "correct = train[train.answered_correctly != -1].answered_correctly.value_counts(ascending=True)\n",
        "\n",
        "fig = plt.figure(figsize=(12,4))\n",
        "correct.plot.barh()\n",
        "for i, v in zip(correct.index, correct.values):\n",
        "    plt.text(v, i, '{:,}'.format(v), color='white', fontweight='bold', fontsize=14, ha='right', va='center')\n",
        "plt.title(\"Questions answered correctly\")\n",
        "plt.xticks(rotation=0)\n",
        "plt.show()"
      ]
    },
    {
      "cell_type": "code",
      "execution_count": null,
      "id": "8da7d9c0",
      "metadata": {
        "execution": {
          "iopub.execute_input": "2021-12-02T19:50:21.976646Z",
          "iopub.status.busy": "2021-12-02T19:50:21.975971Z",
          "iopub.status.idle": "2021-12-02T19:50:33.066461Z",
          "shell.execute_reply": "2021-12-02T19:50:33.065865Z",
          "shell.execute_reply.started": "2021-12-02T14:15:44.907432Z"
        },
        "papermill": {
          "duration": 11.136844,
          "end_time": "2021-12-02T19:50:33.066615",
          "exception": false,
          "start_time": "2021-12-02T19:50:21.929771",
          "status": "completed"
        },
        "tags": [],
        "id": "8da7d9c0",
        "outputId": "981e8645-bfce-4c59-b46f-e6cbed443c99"
      },
      "outputs": [
        {
          "name": "stdout",
          "output_type": "stream",
          "text": [
            "the highest number of questions answered by a user is 17609\n"
          ]
        }
      ],
      "source": [
        "user_percent = train[train.answered_correctly != -1].groupby('user_id')['answered_correctly'].agg(Mean='mean', Answers='count')\n",
        "print(f'the highest number of questions answered by a user is {user_percent.Answers.max()}')"
      ]
    },
    {
      "cell_type": "code",
      "execution_count": null,
      "id": "983c108b",
      "metadata": {
        "execution": {
          "iopub.execute_input": "2021-12-02T19:50:33.156615Z",
          "iopub.status.busy": "2021-12-02T19:50:33.155916Z",
          "iopub.status.idle": "2021-12-02T19:50:33.439094Z",
          "shell.execute_reply": "2021-12-02T19:50:33.439631Z",
          "shell.execute_reply.started": "2021-12-02T14:15:56.306058Z"
        },
        "papermill": {
          "duration": 0.329859,
          "end_time": "2021-12-02T19:50:33.439818",
          "exception": false,
          "start_time": "2021-12-02T19:50:33.109959",
          "status": "completed"
        },
        "tags": [],
        "id": "983c108b",
        "outputId": "774eee5e-aa62-4c38-885e-7c8db7664030"
      },
      "outputs": [
        {
          "data": {
            "image/png": "[encoded data removed]",
            "text/plain": [
              "<Figure size 864x432 with 1 Axes>"
            ]
          },
          "metadata": {},
          "output_type": "display_data"
        }
      ],
      "source": [
        "user_percent = user_percent.query('Answers <= 1000').sample(n=200, random_state=1)\n",
        "\n",
        "fig = plt.figure(figsize=(12,6))\n",
        "x = user_percent.Answers\n",
        "y = user_percent.Mean\n",
        "plt.scatter(x, y, marker='o')\n",
        "plt.title(\"Percent answered correctly versus number of questions answered User\")\n",
        "plt.xticks(rotation=0)\n",
        "plt.xlabel(\"Number of questions answered\")\n",
        "plt.ylabel(\"Percent answered correctly\")\n",
        "z = np.polyfit(x, y, 1)\n",
        "p = np.poly1d(z)\n",
        "plt.plot(x,p(x),\"r--\")\n",
        "\n",
        "plt.show()"
      ]
    },
    {
      "cell_type": "markdown",
      "id": "61de61d4",
      "metadata": {
        "papermill": {
          "duration": 0.044851,
          "end_time": "2021-12-02T19:50:33.530021",
          "exception": false,
          "start_time": "2021-12-02T19:50:33.485170",
          "status": "completed"
        },
        "tags": [],
        "id": "61de61d4"
      },
      "source": [
        "### Test data"
      ]
    },
    {
      "cell_type": "code",
      "execution_count": null,
      "id": "215fb4cf",
      "metadata": {
        "execution": {
          "iopub.execute_input": "2021-12-02T19:50:33.626056Z",
          "iopub.status.busy": "2021-12-02T19:50:33.625183Z",
          "iopub.status.idle": "2021-12-02T19:50:33.628420Z",
          "shell.execute_reply": "2021-12-02T19:50:33.628959Z",
          "shell.execute_reply.started": "2021-12-02T14:15:56.591665Z"
        },
        "papermill": {
          "duration": 0.054073,
          "end_time": "2021-12-02T19:50:33.629124",
          "exception": false,
          "start_time": "2021-12-02T19:50:33.575051",
          "status": "completed"
        },
        "tags": [],
        "id": "215fb4cf",
        "outputId": "5620fa95-7cbb-46fb-84b9-9d350c9178cb"
      },
      "outputs": [
        {
          "data": {
            "text/plain": [
              "(104, 11)"
            ]
          },
          "execution_count": 11,
          "metadata": {},
          "output_type": "execute_result"
        }
      ],
      "source": [
        "example_test.shape"
      ]
    },
    {
      "cell_type": "code",
      "execution_count": null,
      "id": "35b357c0",
      "metadata": {
        "execution": {
          "iopub.execute_input": "2021-12-02T19:50:33.726764Z",
          "iopub.status.busy": "2021-12-02T19:50:33.726017Z",
          "iopub.status.idle": "2021-12-02T19:50:33.741021Z",
          "shell.execute_reply": "2021-12-02T19:50:33.741538Z",
          "shell.execute_reply.started": "2021-12-02T14:15:56.600479Z"
        },
        "papermill": {
          "duration": 0.067021,
          "end_time": "2021-12-02T19:50:33.741719",
          "exception": false,
          "start_time": "2021-12-02T19:50:33.674698",
          "status": "completed"
        },
        "tags": [],
        "id": "35b357c0",
        "outputId": "0a4c84b0-e660-43d2-d7ce-8f0aa22f41f6"
      },
      "outputs": [
        {
          "data": {
            "text/html": [
              "<div>\n",
              "<style scoped>\n",
              "    .dataframe tbody tr th:only-of-type {\n",
              "        vertical-align: middle;\n",
              "    }\n",
              "\n",
              "    .dataframe tbody tr th {\n",
              "        vertical-align: top;\n",
              "    }\n",
              "\n",
              "    .dataframe thead th {\n",
              "        text-align: right;\n",
              "    }\n",
              "</style>\n",
              "<table border=\"1\" class=\"dataframe\">\n",
              "  <thead>\n",
              "    <tr style=\"text-align: right;\">\n",
              "      <th></th>\n",
              "      <th>row_id</th>\n",
              "      <th>group_num</th>\n",
              "      <th>timestamp</th>\n",
              "      <th>user_id</th>\n",
              "      <th>content_id</th>\n",
              "      <th>content_type_id</th>\n",
              "      <th>task_container_id</th>\n",
              "      <th>prior_question_elapsed_time</th>\n",
              "      <th>prior_question_had_explanation</th>\n",
              "      <th>prior_group_answers_correct</th>\n",
              "      <th>prior_group_responses</th>\n",
              "    </tr>\n",
              "  </thead>\n",
              "  <tbody>\n",
              "    <tr>\n",
              "      <th>0</th>\n",
              "      <td>0</td>\n",
              "      <td>0</td>\n",
              "      <td>0</td>\n",
              "      <td>275030867</td>\n",
              "      <td>5729</td>\n",
              "      <td>0</td>\n",
              "      <td>0</td>\n",
              "      <td>NaN</td>\n",
              "      <td>NaN</td>\n",
              "      <td>[]</td>\n",
              "      <td>[]</td>\n",
              "    </tr>\n",
              "    <tr>\n",
              "      <th>1</th>\n",
              "      <td>1</td>\n",
              "      <td>0</td>\n",
              "      <td>13309898705</td>\n",
              "      <td>554169193</td>\n",
              "      <td>12010</td>\n",
              "      <td>0</td>\n",
              "      <td>4427</td>\n",
              "      <td>19000.0</td>\n",
              "      <td>True</td>\n",
              "      <td>NaN</td>\n",
              "      <td>NaN</td>\n",
              "    </tr>\n",
              "    <tr>\n",
              "      <th>2</th>\n",
              "      <td>2</td>\n",
              "      <td>0</td>\n",
              "      <td>4213672059</td>\n",
              "      <td>1720860329</td>\n",
              "      <td>457</td>\n",
              "      <td>0</td>\n",
              "      <td>240</td>\n",
              "      <td>17000.0</td>\n",
              "      <td>True</td>\n",
              "      <td>NaN</td>\n",
              "      <td>NaN</td>\n",
              "    </tr>\n",
              "    <tr>\n",
              "      <th>3</th>\n",
              "      <td>3</td>\n",
              "      <td>0</td>\n",
              "      <td>62798072960</td>\n",
              "      <td>288641214</td>\n",
              "      <td>13262</td>\n",
              "      <td>0</td>\n",
              "      <td>266</td>\n",
              "      <td>23000.0</td>\n",
              "      <td>True</td>\n",
              "      <td>NaN</td>\n",
              "      <td>NaN</td>\n",
              "    </tr>\n",
              "    <tr>\n",
              "      <th>4</th>\n",
              "      <td>4</td>\n",
              "      <td>0</td>\n",
              "      <td>10585422061</td>\n",
              "      <td>1728340777</td>\n",
              "      <td>6119</td>\n",
              "      <td>0</td>\n",
              "      <td>162</td>\n",
              "      <td>72400.0</td>\n",
              "      <td>True</td>\n",
              "      <td>NaN</td>\n",
              "      <td>NaN</td>\n",
              "    </tr>\n",
              "  </tbody>\n",
              "</table>\n",
              "</div>"
            ],
            "text/plain": [
              "   row_id  group_num    timestamp     user_id  content_id  content_type_id  \\\n",
              "0       0          0            0   275030867        5729                0   \n",
              "1       1          0  13309898705   554169193       12010                0   \n",
              "2       2          0   4213672059  1720860329         457                0   \n",
              "3       3          0  62798072960   288641214       13262                0   \n",
              "4       4          0  10585422061  1728340777        6119                0   \n",
              "\n",
              "   task_container_id  prior_question_elapsed_time  \\\n",
              "0                  0                          NaN   \n",
              "1               4427                      19000.0   \n",
              "2                240                      17000.0   \n",
              "3                266                      23000.0   \n",
              "4                162                      72400.0   \n",
              "\n",
              "  prior_question_had_explanation prior_group_answers_correct  \\\n",
              "0                            NaN                          []   \n",
              "1                           True                         NaN   \n",
              "2                           True                         NaN   \n",
              "3                           True                         NaN   \n",
              "4                           True                         NaN   \n",
              "\n",
              "  prior_group_responses  \n",
              "0                    []  \n",
              "1                   NaN  \n",
              "2                   NaN  \n",
              "3                   NaN  \n",
              "4                   NaN  "
            ]
          },
          "execution_count": 12,
          "metadata": {},
          "output_type": "execute_result"
        }
      ],
      "source": [
        "example_test.head()"
      ]
    },
    {
      "cell_type": "code",
      "execution_count": null,
      "id": "19ef83ea",
      "metadata": {
        "execution": {
          "iopub.execute_input": "2021-12-02T19:50:33.838256Z",
          "iopub.status.busy": "2021-12-02T19:50:33.837605Z",
          "iopub.status.idle": "2021-12-02T19:50:34.539735Z",
          "shell.execute_reply": "2021-12-02T19:50:34.539004Z",
          "shell.execute_reply.started": "2021-12-02T14:15:56.625931Z"
        },
        "papermill": {
          "duration": 0.750885,
          "end_time": "2021-12-02T19:50:34.539886",
          "exception": false,
          "start_time": "2021-12-02T19:50:33.789001",
          "status": "completed"
        },
        "tags": [],
        "id": "19ef83ea",
        "outputId": "8afc5757-50cd-4690-b172-c36c3885ed94"
      },
      "outputs": [
        {
          "name": "stdout",
          "output_type": "stream",
          "text": [
            "All batches in example_test are also in train is True.\n"
          ]
        }
      ],
      "source": [
        "batches_test = set(list(example_test.task_container_id.unique()))\n",
        "batches_train = set(list(train.task_container_id.unique()))\n",
        "print(f'All batches in example_test are also in train is {batches_test.issubset(batches_train)}.')"
      ]
    },
    {
      "cell_type": "code",
      "execution_count": null,
      "id": "d700eba1",
      "metadata": {
        "execution": {
          "iopub.execute_input": "2021-12-02T19:50:34.638941Z",
          "iopub.status.busy": "2021-12-02T19:50:34.638194Z",
          "iopub.status.idle": "2021-12-02T19:50:35.272900Z",
          "shell.execute_reply": "2021-12-02T19:50:35.273398Z",
          "shell.execute_reply.started": "2021-12-02T14:15:57.33891Z"
        },
        "papermill": {
          "duration": 0.687234,
          "end_time": "2021-12-02T19:50:35.273585",
          "exception": false,
          "start_time": "2021-12-02T19:50:34.586351",
          "status": "completed"
        },
        "tags": [],
        "id": "d700eba1",
        "outputId": "51377282-3d12-4579-e8b9-db4789047942"
      },
      "outputs": [
        {
          "name": "stdout",
          "output_type": "stream",
          "text": [
            "User_ids in example_test but not in train: {275030867}.\n"
          ]
        }
      ],
      "source": [
        "user_test = set(list(example_test.user_id.unique()))\n",
        "user_train = set(list(train.user_id.unique()))\n",
        "\n",
        "print(f'User_ids in example_test but not in train: {user_test - user_train}.')"
      ]
    },
    {
      "cell_type": "markdown",
      "id": "daa6e2ed",
      "metadata": {
        "papermill": {
          "duration": 0.046526,
          "end_time": "2021-12-02T19:50:35.366825",
          "exception": false,
          "start_time": "2021-12-02T19:50:35.320299",
          "status": "completed"
        },
        "tags": [],
        "id": "daa6e2ed"
      },
      "source": [
        "### Baseline model"
      ]
    },
    {
      "cell_type": "code",
      "execution_count": null,
      "id": "4d638d75",
      "metadata": {
        "execution": {
          "iopub.execute_input": "2021-12-02T19:50:35.933941Z",
          "iopub.status.busy": "2021-12-02T19:50:35.675096Z",
          "iopub.status.idle": "2021-12-02T19:50:35.937441Z",
          "shell.execute_reply": "2021-12-02T19:50:35.936883Z",
          "shell.execute_reply.started": "2021-12-02T14:15:57.958656Z"
        },
        "papermill": {
          "duration": 0.524088,
          "end_time": "2021-12-02T19:50:35.937593",
          "exception": false,
          "start_time": "2021-12-02T19:50:35.413505",
          "status": "completed"
        },
        "tags": [],
        "id": "4d638d75"
      },
      "outputs": [],
      "source": [
        "#this clears everything loaded in RAM, including the libraries\n",
        "%reset -f"
      ]
    },
    {
      "cell_type": "code",
      "execution_count": null,
      "id": "6ca96952",
      "metadata": {
        "execution": {
          "iopub.execute_input": "2021-12-02T19:50:36.037828Z",
          "iopub.status.busy": "2021-12-02T19:50:36.037122Z",
          "iopub.status.idle": "2021-12-02T19:50:36.050650Z",
          "shell.execute_reply": "2021-12-02T19:50:36.049987Z",
          "shell.execute_reply.started": "2021-12-02T14:15:58.45075Z"
        },
        "papermill": {
          "duration": 0.066241,
          "end_time": "2021-12-02T19:50:36.050803",
          "exception": false,
          "start_time": "2021-12-02T19:50:35.984562",
          "status": "completed"
        },
        "tags": [],
        "id": "6ca96952",
        "outputId": "7d5cd69e-315a-449a-e162-73eec1c8f205"
      },
      "outputs": [
        {
          "name": "stdout",
          "output_type": "stream",
          "text": [
            "/kaggle/input/riiid-train-data-multiple-formats/riiid_train.pkl.gzip\n",
            "/kaggle/input/riiid-train-data-multiple-formats/riiid_train.parquet\n",
            "/kaggle/input/riiid-train-data-multiple-formats/riiid_train.feather\n",
            "/kaggle/input/riiid-train-data-multiple-formats/riiid_train.h5\n",
            "/kaggle/input/riiid-train-data-multiple-formats/riiid_train.jay\n",
            "/kaggle/input/riiid-test-answer-prediction/example_sample_submission.csv\n",
            "/kaggle/input/riiid-test-answer-prediction/example_test.csv\n",
            "/kaggle/input/riiid-test-answer-prediction/questions.csv\n",
            "/kaggle/input/riiid-test-answer-prediction/train.csv\n",
            "/kaggle/input/riiid-test-answer-prediction/lectures.csv\n",
            "/kaggle/input/riiid-test-answer-prediction/riiideducation/competition.cpython-37m-x86_64-linux-gnu.so\n",
            "/kaggle/input/riiid-test-answer-prediction/riiideducation/__init__.py\n",
            "/kaggle/input/riiid-cross-validation-files/cv3_valid.pickle\n",
            "/kaggle/input/riiid-cross-validation-files/cv1_train.pickle\n",
            "/kaggle/input/riiid-cross-validation-files/cv3_train.pickle\n",
            "/kaggle/input/riiid-cross-validation-files/cv5_train.pickle\n",
            "/kaggle/input/riiid-cross-validation-files/cv4_train.pickle\n",
            "/kaggle/input/riiid-cross-validation-files/cv1_valid.pickle\n",
            "/kaggle/input/riiid-cross-validation-files/cv2_valid.pickle\n",
            "/kaggle/input/riiid-cross-validation-files/cv2_train.pickle\n",
            "/kaggle/input/riiid-cross-validation-files/cv5_valid.pickle\n",
            "/kaggle/input/riiid-cross-validation-files/cv4_valid.pickle\n"
          ]
        }
      ],
      "source": [
        "import os\n",
        "for dirname, _, filenames in os.walk('/kaggle/input'):\n",
        "    for filename in filenames:\n",
        "        print(os.path.join(dirname, filename))"
      ]
    },
    {
      "cell_type": "markdown",
      "source": [
        "This code block lists all the files and directories in the `/kaggle/input` directory. \n",
        "\n",
        "The `os.walk()` function is used to traverse the directory tree, starting from the given directory path. It returns a tuple of three values for each directory it visits: the path to the directory, a list of subdirectories, and a list of files.\n",
        "\n",
        "The loop iterates through each filename in the list of files and prints the full path to the file using the `os.path.join()` function. \n",
        "\n",
        "This code can be useful to check if the required input files are present in the directory or to locate the path of a file that needs to be read."
      ],
      "metadata": {
        "id": "HWaZCvEyE3J9"
      },
      "id": "HWaZCvEyE3J9"
    },
    {
      "cell_type": "code",
      "execution_count": null,
      "id": "70f3e53e",
      "metadata": {
        "execution": {
          "iopub.execute_input": "2021-12-02T19:50:36.150517Z",
          "iopub.status.busy": "2021-12-02T19:50:36.149644Z",
          "iopub.status.idle": "2021-12-02T19:50:36.178052Z",
          "shell.execute_reply": "2021-12-02T19:50:36.178753Z",
          "shell.execute_reply.started": "2021-12-02T14:15:58.474333Z"
        },
        "papermill": {
          "duration": 0.080954,
          "end_time": "2021-12-02T19:50:36.178931",
          "exception": false,
          "start_time": "2021-12-02T19:50:36.097977",
          "status": "completed"
        },
        "tags": [],
        "id": "70f3e53e"
      },
      "outputs": [],
      "source": [
        "import sys\n",
        "sys.path.append('/kaggle/input/riiid-test-answer-prediction')\n",
        "import riiideducation"
      ]
    },
    {
      "cell_type": "markdown",
      "source": [
        "This code block imports a module named `riideducation` from the file `riiideducation.py`, which is located in the `/kaggle/input/riiid-test-answer-prediction` directory. \n",
        "\n",
        "The `sys.path.append()` function adds the specified directory to the system path, which tells Python where to search for modules to import. This is necessary because the file is located in a directory other than the current working directory. \n",
        "\n",
        "After importing the module, it can be used to simulate the test environment for the Riiid AIEd Challenge on Kaggle, which is a competition that requires participants to develop algorithms that can predict student responses to future interactions in an educational platform. The `riideducation` module provides functions to simulate the data pipeline and evaluation of the models."
      ],
      "metadata": {
        "id": "hePFgCQlFDk6"
      },
      "id": "hePFgCQlFDk6"
    },
    {
      "cell_type": "code",
      "execution_count": null,
      "id": "49a17286",
      "metadata": {
        "execution": {
          "iopub.execute_input": "2021-12-02T19:50:36.283184Z",
          "iopub.status.busy": "2021-12-02T19:50:36.282497Z",
          "iopub.status.idle": "2021-12-02T19:50:37.401435Z",
          "shell.execute_reply": "2021-12-02T19:50:37.400395Z",
          "shell.execute_reply.started": "2021-12-02T14:15:58.513724Z"
        },
        "papermill": {
          "duration": 1.174764,
          "end_time": "2021-12-02T19:50:37.401594",
          "exception": false,
          "start_time": "2021-12-02T19:50:36.226830",
          "status": "completed"
        },
        "tags": [],
        "id": "49a17286",
        "outputId": "d349fecf-b539-414a-e3e7-cde089b8004a"
      },
      "outputs": [
        {
          "data": {
            "text/html": [
              "<style type='text/css'>\n",
              ".datatable table.frame { margin-bottom: 0; }\n",
              ".datatable table.frame thead { border-bottom: none; }\n",
              ".datatable table.frame tr.coltypes td {  color: #FFFFFF;  line-height: 6px;  padding: 0 0.5em;}\n",
              ".datatable .bool    { background: #DDDD99; }\n",
              ".datatable .object  { background: #565656; }\n",
              ".datatable .int     { background: #5D9E5D; }\n",
              ".datatable .float   { background: #4040CC; }\n",
              ".datatable .str     { background: #CC4040; }\n",
              ".datatable .time    { background: #40CC40; }\n",
              ".datatable .row_index {  background: var(--jp-border-color3);  border-right: 1px solid var(--jp-border-color0);  color: var(--jp-ui-font-color3);  font-size: 9px;}\n",
              ".datatable .frame tbody td { text-align: left; }\n",
              ".datatable .frame tr.coltypes .row_index {  background: var(--jp-border-color0);}\n",
              ".datatable th:nth-child(2) { padding-left: 12px; }\n",
              ".datatable .hellipsis {  color: var(--jp-cell-editor-border-color);}\n",
              ".datatable .vellipsis {  background: var(--jp-layout-color0);  color: var(--jp-cell-editor-border-color);}\n",
              ".datatable .na {  color: var(--jp-cell-editor-border-color);  font-size: 80%;}\n",
              ".datatable .sp {  opacity: 0.25;}\n",
              ".datatable .footer { font-size: 9px; }\n",
              ".datatable .frame_dimensions {  background: var(--jp-border-color3);  border-top: 1px solid var(--jp-border-color0);  color: var(--jp-ui-font-color3);  display: inline-block;  opacity: 0.6;  padding: 1px 10px 1px 5px;}\n",
              ".datatable .frame thead tr.colnames {  background-image: url('data:image/png;base64,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');  background-repeat: repeat-x;  background-size: 14px;  height: 28px;}\n",
              "</style>\n"
            ],
            "text/plain": [
              "<IPython.core.display.HTML object>"
            ]
          },
          "metadata": {},
          "output_type": "display_data"
        }
      ],
      "source": [
        "import numpy as np\n",
        "import pandas as pd\n",
        "\n",
        "import matplotlib.pyplot as plt\n",
        "%matplotlib inline\n",
        "import matplotlib.style as style\n",
        "style.use('fivethirtyeight')\n",
        "import seaborn as sns\n",
        "\n",
        "import lightgbm as lgb\n",
        "from sklearn.metrics import roc_auc_score\n",
        "from sklearn.preprocessing import LabelEncoder\n",
        "\n",
        "import gc\n",
        "import sys\n",
        "pd.set_option('display.max_rows', None)"
      ]
    },
    {
      "cell_type": "markdown",
      "source": [
        "This code block imports several libraries for data analysis, visualization, and machine learning:\n",
        "\n",
        "- `numpy` and `pandas` are used for data manipulation and analysis.\n",
        "- `matplotlib` and `seaborn` are used for data visualization.\n",
        "- `lightgbm` is a gradient boosting framework for machine learning.\n",
        "- `sklearn` is a machine learning library that provides various algorithms and tools for data preprocessing, model selection, and evaluation.\n",
        "\n",
        "The `gc` module is used for garbage collection, which is a process of freeing up the memory used by unused objects in the code. \n",
        "\n",
        "The `pd.set_option()` function is used to set the maximum number of rows to display in the output of pandas dataframes. In this case, the `None` value means that all rows will be displayed."
      ],
      "metadata": {
        "id": "1tIM4lwYFN3G"
      },
      "id": "1tIM4lwYFN3G"
    },
    {
      "cell_type": "code",
      "execution_count": null,
      "id": "37e928a2",
      "metadata": {
        "execution": {
          "iopub.execute_input": "2021-12-02T19:50:37.504087Z",
          "iopub.status.busy": "2021-12-02T19:50:37.503382Z",
          "iopub.status.idle": "2021-12-02T19:51:38.214021Z",
          "shell.execute_reply": "2021-12-02T19:51:38.214791Z",
          "shell.execute_reply.started": "2021-12-02T14:15:59.667906Z"
        },
        "papermill": {
          "duration": 60.764997,
          "end_time": "2021-12-02T19:51:38.215040",
          "exception": false,
          "start_time": "2021-12-02T19:50:37.450043",
          "status": "completed"
        },
        "tags": [],
        "id": "37e928a2",
        "outputId": "3180eb60-7950-4b42-b89e-17cd90449646"
      },
      "outputs": [
        {
          "name": "stdout",
          "output_type": "stream",
          "text": [
            "Train size: (101230332, 6)\n",
            "CPU times: user 39.8 s, sys: 9.99 s, total: 49.8 s\n",
            "Wall time: 1min\n"
          ]
        }
      ],
      "source": [
        "%%time\n",
        "cols_to_load = ['row_id', 'user_id', 'answered_correctly', 'content_id', 'prior_question_had_explanation', 'prior_question_elapsed_time']\n",
        "train = pd.read_pickle(\"../input/riiid-train-data-multiple-formats/riiid_train.pkl.gzip\")[cols_to_load]\n",
        "train['prior_question_had_explanation'] = train['prior_question_had_explanation'].astype('boolean')\n",
        "\n",
        "print(\"Train size:\", train.shape)"
      ]
    },
    {
      "cell_type": "markdown",
      "source": [
        "This code block is similar to the one we discussed earlier. It reads a large pickle file containing training data for a machine learning model. \n",
        "\n",
        "The `cols_to_load` list specifies the columns to load from the file. This can be useful when dealing with large datasets where not all columns are needed for analysis or modeling.\n",
        "\n",
        "The `%%time` magic command is used to measure the time taken to execute the code block.\n",
        "\n",
        "The `pd.read_pickle()` function is used to read the pickle file, and only the specified columns are loaded into the `train` dataframe. \n",
        "\n",
        "After reading the file, the code converts the 'prior_question_had_explanation' column to boolean data type, which could be a binary flag indicating whether the user saw an explanation for the previous question or not.\n",
        "\n",
        "Finally, the code prints the shape of the `train` dataframe to check the number of rows and columns."
      ],
      "metadata": {
        "id": "D9TZdix1FZG1"
      },
      "id": "D9TZdix1FZG1"
    },
    {
      "cell_type": "code",
      "execution_count": null,
      "id": "ed576925",
      "metadata": {
        "execution": {
          "iopub.execute_input": "2021-12-02T19:51:38.318192Z",
          "iopub.status.busy": "2021-12-02T19:51:38.317510Z",
          "iopub.status.idle": "2021-12-02T19:51:38.345991Z",
          "shell.execute_reply": "2021-12-02T19:51:38.346634Z",
          "shell.execute_reply.started": "2021-12-02T14:16:56.059601Z"
        },
        "papermill": {
          "duration": 0.08275,
          "end_time": "2021-12-02T19:51:38.346822",
          "exception": false,
          "start_time": "2021-12-02T19:51:38.264072",
          "status": "completed"
        },
        "tags": [],
        "id": "ed576925",
        "outputId": "a5b39c33-a572-4f18-ca42-3f71df057093"
      },
      "outputs": [
        {
          "name": "stdout",
          "output_type": "stream",
          "text": [
            "CPU times: user 13.8 ms, sys: 1.92 ms, total: 15.7 ms\n",
            "Wall time: 25.6 ms\n"
          ]
        }
      ],
      "source": [
        "%%time\n",
        "\n",
        "questions = pd.read_csv('/kaggle/input/riiid-test-answer-prediction/questions.csv')\n",
        "lectures = pd.read_csv('/kaggle/input/riiid-test-answer-prediction/lectures.csv')\n",
        "example_test = pd.read_csv('/kaggle/input/riiid-test-answer-prediction/example_test.csv')\n",
        "example_sample_submission = pd.read_csv('/kaggle/input/riiid-test-answer-prediction/example_sample_submission.csv')"
      ]
    },
    {
      "cell_type": "code",
      "execution_count": null,
      "id": "b7f60dfd",
      "metadata": {
        "execution": {
          "iopub.execute_input": "2021-12-02T19:51:38.447634Z",
          "iopub.status.busy": "2021-12-02T19:51:38.446933Z",
          "iopub.status.idle": "2021-12-02T19:51:38.459266Z",
          "shell.execute_reply": "2021-12-02T19:51:38.460112Z",
          "shell.execute_reply.started": "2021-12-02T14:16:56.095686Z"
        },
        "papermill": {
          "duration": 0.064318,
          "end_time": "2021-12-02T19:51:38.460358",
          "exception": false,
          "start_time": "2021-12-02T19:51:38.396040",
          "status": "completed"
        },
        "tags": [],
        "id": "b7f60dfd",
        "outputId": "6c41c23d-29ec-4878-811a-264e7e78f2cb"
      },
      "outputs": [
        {
          "name": "stdout",
          "output_type": "stream",
          "text": [
            "(101230332, 6)\n"
          ]
        },
        {
          "data": {
            "text/html": [
              "<div>\n",
              "<style scoped>\n",
              "    .dataframe tbody tr th:only-of-type {\n",
              "        vertical-align: middle;\n",
              "    }\n",
              "\n",
              "    .dataframe tbody tr th {\n",
              "        vertical-align: top;\n",
              "    }\n",
              "\n",
              "    .dataframe thead th {\n",
              "        text-align: right;\n",
              "    }\n",
              "</style>\n",
              "<table border=\"1\" class=\"dataframe\">\n",
              "  <thead>\n",
              "    <tr style=\"text-align: right;\">\n",
              "      <th></th>\n",
              "      <th>row_id</th>\n",
              "      <th>user_id</th>\n",
              "      <th>answered_correctly</th>\n",
              "      <th>content_id</th>\n",
              "      <th>prior_question_had_explanation</th>\n",
              "      <th>prior_question_elapsed_time</th>\n",
              "    </tr>\n",
              "  </thead>\n",
              "  <tbody>\n",
              "    <tr>\n",
              "      <th>0</th>\n",
              "      <td>0</td>\n",
              "      <td>115</td>\n",
              "      <td>1</td>\n",
              "      <td>5692</td>\n",
              "      <td>&lt;NA&gt;</td>\n",
              "      <td>NaN</td>\n",
              "    </tr>\n",
              "    <tr>\n",
              "      <th>1</th>\n",
              "      <td>1</td>\n",
              "      <td>115</td>\n",
              "      <td>1</td>\n",
              "      <td>5716</td>\n",
              "      <td>False</td>\n",
              "      <td>37000.0</td>\n",
              "    </tr>\n",
              "    <tr>\n",
              "      <th>2</th>\n",
              "      <td>2</td>\n",
              "      <td>115</td>\n",
              "      <td>1</td>\n",
              "      <td>128</td>\n",
              "      <td>False</td>\n",
              "      <td>55000.0</td>\n",
              "    </tr>\n",
              "    <tr>\n",
              "      <th>3</th>\n",
              "      <td>3</td>\n",
              "      <td>115</td>\n",
              "      <td>1</td>\n",
              "      <td>7860</td>\n",
              "      <td>False</td>\n",
              "      <td>19000.0</td>\n",
              "    </tr>\n",
              "    <tr>\n",
              "      <th>4</th>\n",
              "      <td>4</td>\n",
              "      <td>115</td>\n",
              "      <td>1</td>\n",
              "      <td>7922</td>\n",
              "      <td>False</td>\n",
              "      <td>11000.0</td>\n",
              "    </tr>\n",
              "  </tbody>\n",
              "</table>\n",
              "</div>"
            ],
            "text/plain": [
              "   row_id  user_id  answered_correctly  content_id  \\\n",
              "0       0      115                   1        5692   \n",
              "1       1      115                   1        5716   \n",
              "2       2      115                   1         128   \n",
              "3       3      115                   1        7860   \n",
              "4       4      115                   1        7922   \n",
              "\n",
              "   prior_question_had_explanation  prior_question_elapsed_time  \n",
              "0                            <NA>                          NaN  \n",
              "1                           False                      37000.0  \n",
              "2                           False                      55000.0  \n",
              "3                           False                      19000.0  \n",
              "4                           False                      11000.0  "
            ]
          },
          "execution_count": 21,
          "metadata": {},
          "output_type": "execute_result"
        }
      ],
      "source": [
        "print(train.shape)\n",
        "train.head()"
      ]
    },
    {
      "cell_type": "code",
      "execution_count": null,
      "id": "47d3f50e",
      "metadata": {
        "execution": {
          "iopub.execute_input": "2021-12-02T19:51:38.562437Z",
          "iopub.status.busy": "2021-12-02T19:51:38.561758Z",
          "iopub.status.idle": "2021-12-02T19:51:55.616104Z",
          "shell.execute_reply": "2021-12-02T19:51:55.616638Z",
          "shell.execute_reply.started": "2021-12-02T14:16:56.111358Z"
        },
        "papermill": {
          "duration": 17.106842,
          "end_time": "2021-12-02T19:51:55.616834",
          "exception": false,
          "start_time": "2021-12-02T19:51:38.509992",
          "status": "completed"
        },
        "tags": [],
        "id": "47d3f50e",
        "outputId": "5bf60f7a-8962-4e1c-965a-bf0ef4d3636a"
      },
      "outputs": [
        {
          "name": "stdout",
          "output_type": "stream",
          "text": [
            "CPU times: user 11.9 s, sys: 5.07 s, total: 17 s\n",
            "Wall time: 17 s\n"
          ]
        },
        {
          "data": {
            "text/html": [
              "<div>\n",
              "<style scoped>\n",
              "    .dataframe tbody tr th:only-of-type {\n",
              "        vertical-align: middle;\n",
              "    }\n",
              "\n",
              "    .dataframe tbody tr th {\n",
              "        vertical-align: top;\n",
              "    }\n",
              "\n",
              "    .dataframe thead th {\n",
              "        text-align: right;\n",
              "    }\n",
              "</style>\n",
              "<table border=\"1\" class=\"dataframe\">\n",
              "  <thead>\n",
              "    <tr style=\"text-align: right;\">\n",
              "      <th></th>\n",
              "      <th>user_id</th>\n",
              "      <th>user_questions</th>\n",
              "      <th>user_mean</th>\n",
              "      <th>watches_lecture</th>\n",
              "    </tr>\n",
              "  </thead>\n",
              "  <tbody>\n",
              "    <tr>\n",
              "      <th>0</th>\n",
              "      <td>115</td>\n",
              "      <td>46</td>\n",
              "      <td>0.695652</td>\n",
              "      <td>0</td>\n",
              "    </tr>\n",
              "    <tr>\n",
              "      <th>1</th>\n",
              "      <td>124</td>\n",
              "      <td>30</td>\n",
              "      <td>0.233333</td>\n",
              "      <td>0</td>\n",
              "    </tr>\n",
              "    <tr>\n",
              "      <th>2</th>\n",
              "      <td>2746</td>\n",
              "      <td>19</td>\n",
              "      <td>0.578947</td>\n",
              "      <td>1</td>\n",
              "    </tr>\n",
              "    <tr>\n",
              "      <th>3</th>\n",
              "      <td>5382</td>\n",
              "      <td>125</td>\n",
              "      <td>0.672000</td>\n",
              "      <td>1</td>\n",
              "    </tr>\n",
              "    <tr>\n",
              "      <th>4</th>\n",
              "      <td>8623</td>\n",
              "      <td>109</td>\n",
              "      <td>0.642202</td>\n",
              "      <td>1</td>\n",
              "    </tr>\n",
              "  </tbody>\n",
              "</table>\n",
              "</div>"
            ],
            "text/plain": [
              "   user_id  user_questions  user_mean  watches_lecture\n",
              "0      115              46   0.695652                0\n",
              "1      124              30   0.233333                0\n",
              "2     2746              19   0.578947                1\n",
              "3     5382             125   0.672000                1\n",
              "4     8623             109   0.642202                1"
            ]
          },
          "execution_count": 22,
          "metadata": {},
          "output_type": "execute_result"
        }
      ],
      "source": [
        "%%time\n",
        "#adding user features\n",
        "user_df = train[train.answered_correctly != -1].groupby('user_id').agg({'answered_correctly': ['count', 'mean']}).reset_index()\n",
        "user_df.columns = ['user_id', 'user_questions', 'user_mean']\n",
        "\n",
        "user_lect = train.groupby([\"user_id\", \"answered_correctly\"]).size().unstack()\n",
        "user_lect.columns = ['Lecture', 'Wrong', 'Right']\n",
        "user_lect = user_lect[['Lecture']].fillna(0).astype('int8')\n",
        "#user_lect = user_lect.astype('int8')\n",
        "user_lect['watches_lecture'] = np.where(user_lect.Lecture > 0, 1, 0)\n",
        "user_lect = user_lect.reset_index()\n",
        "user_lect = user_lect[['user_id', 'watches_lecture']]\n",
        "\n",
        "user_df = user_df.merge(user_lect, on = \"user_id\", how = \"left\")\n",
        "del user_lect\n",
        "user_df.head()"
      ]
    },
    {
      "cell_type": "markdown",
      "source": [
        "This code block creates new user-level features based on the training data. The `train` dataframe contains information about the interactions between users and questions, including whether a user answered a question correctly, the content ID of the question, whether the user saw an explanation for the previous question, and how much time elapsed between the previous question and the current question.\n",
        "\n",
        "The code first filters out rows where `answered_correctly` is `-1`. These are lecture events, not question events, so they are not relevant for computing user-level features.\n",
        "\n",
        "Next, the code groups the remaining rows by `user_id` and aggregates the `answered_correctly` column by counting the number of questions answered by each user and computing the mean accuracy of the user's answers.\n",
        "\n",
        "The resulting dataframe is renamed to `user_df` with columns `user_id`, `user_questions`, and `user_mean`.\n",
        "\n",
        "The code then creates a new dataframe `user_lect` by grouping the `train` dataframe by `user_id` and `answered_correctly`. It computes the number of lectures, wrong answers, and right answers for each user, then selects the `Lecture` column and fills missing values with 0. The `Lecture` column is then converted to an integer data type and a new `watches_lecture` column is created, which is 1 if the user watched at least one lecture, and 0 otherwise.\n",
        "\n",
        "The resulting `user_lect` dataframe is then merged with the `user_df` dataframe on `user_id`, using a left join to keep all users in the `user_df` dataframe. The resulting `user_df` dataframe now includes a new column `watches_lecture`, indicating whether each user watched at least one lecture.\n",
        "\n",
        "Finally, the `user_lect` dataframe is deleted to free up memory."
      ],
      "metadata": {
        "id": "VQ0wvxWtFuFa"
      },
      "id": "VQ0wvxWtFuFa"
    },
    {
      "cell_type": "code",
      "execution_count": null,
      "id": "2a3f8a83",
      "metadata": {
        "execution": {
          "iopub.execute_input": "2021-12-02T19:51:55.721713Z",
          "iopub.status.busy": "2021-12-02T19:51:55.721024Z",
          "iopub.status.idle": "2021-12-02T19:52:05.325930Z",
          "shell.execute_reply": "2021-12-02T19:52:05.325385Z",
          "shell.execute_reply.started": "2021-12-02T14:17:12.634456Z"
        },
        "papermill": {
          "duration": 9.65762,
          "end_time": "2021-12-02T19:52:05.326106",
          "exception": false,
          "start_time": "2021-12-02T19:51:55.668486",
          "status": "completed"
        },
        "tags": [],
        "id": "2a3f8a83",
        "outputId": "149425e1-fed8-40dd-b55e-9fc4f4f58af0"
      },
      "outputs": [
        {
          "name": "stdout",
          "output_type": "stream",
          "text": [
            "CPU times: user 7.32 s, sys: 2.27 s, total: 9.59 s\n",
            "Wall time: 9.59 s\n"
          ]
        },
        {
          "data": {
            "text/html": [
              "<div>\n",
              "<style scoped>\n",
              "    .dataframe tbody tr th:only-of-type {\n",
              "        vertical-align: middle;\n",
              "    }\n",
              "\n",
              "    .dataframe tbody tr th {\n",
              "        vertical-align: top;\n",
              "    }\n",
              "\n",
              "    .dataframe thead th {\n",
              "        text-align: right;\n",
              "    }\n",
              "</style>\n",
              "<table border=\"1\" class=\"dataframe\">\n",
              "  <thead>\n",
              "    <tr style=\"text-align: right;\">\n",
              "      <th></th>\n",
              "      <th>content_id</th>\n",
              "      <th>content_questions</th>\n",
              "      <th>content_mean</th>\n",
              "    </tr>\n",
              "  </thead>\n",
              "  <tbody>\n",
              "    <tr>\n",
              "      <th>0</th>\n",
              "      <td>0</td>\n",
              "      <td>6903</td>\n",
              "      <td>0.907721</td>\n",
              "    </tr>\n",
              "    <tr>\n",
              "      <th>1</th>\n",
              "      <td>1</td>\n",
              "      <td>7398</td>\n",
              "      <td>0.890646</td>\n",
              "    </tr>\n",
              "    <tr>\n",
              "      <th>2</th>\n",
              "      <td>2</td>\n",
              "      <td>44905</td>\n",
              "      <td>0.554281</td>\n",
              "    </tr>\n",
              "    <tr>\n",
              "      <th>3</th>\n",
              "      <td>3</td>\n",
              "      <td>22973</td>\n",
              "      <td>0.779437</td>\n",
              "    </tr>\n",
              "    <tr>\n",
              "      <th>4</th>\n",
              "      <td>4</td>\n",
              "      <td>31736</td>\n",
              "      <td>0.613215</td>\n",
              "    </tr>\n",
              "  </tbody>\n",
              "</table>\n",
              "</div>"
            ],
            "text/plain": [
              "   content_id  content_questions  content_mean\n",
              "0           0               6903      0.907721\n",
              "1           1               7398      0.890646\n",
              "2           2              44905      0.554281\n",
              "3           3              22973      0.779437\n",
              "4           4              31736      0.613215"
            ]
          },
          "execution_count": 23,
          "metadata": {},
          "output_type": "execute_result"
        }
      ],
      "source": [
        "%%time\n",
        "#adding content features\n",
        "content_df = train[train.answered_correctly != -1].groupby('content_id').agg({'answered_correctly': ['count', 'mean']}).reset_index()\n",
        "content_df.columns = ['content_id', 'content_questions', 'content_mean']\n",
        "content_df.head()"
      ]
    },
    {
      "cell_type": "code",
      "execution_count": null,
      "id": "5ce23284",
      "metadata": {
        "execution": {
          "iopub.execute_input": "2021-12-02T19:52:05.436869Z",
          "iopub.status.busy": "2021-12-02T19:52:05.436130Z",
          "iopub.status.idle": "2021-12-02T19:52:57.353457Z",
          "shell.execute_reply": "2021-12-02T19:52:57.354911Z",
          "shell.execute_reply.started": "2021-12-02T14:17:20.810859Z"
        },
        "papermill": {
          "duration": 51.97607,
          "end_time": "2021-12-02T19:52:57.355347",
          "exception": false,
          "start_time": "2021-12-02T19:52:05.379277",
          "status": "completed"
        },
        "tags": [],
        "id": "5ce23284",
        "outputId": "e91ded02-7b91-499a-92af-668ae8513f30"
      },
      "outputs": [
        {
          "name": "stdout",
          "output_type": "stream",
          "text": [
            "CPU times: user 2.32 s, sys: 8.84 s, total: 11.2 s\n",
            "Wall time: 51.8 s\n"
          ]
        }
      ],
      "source": [
        "%%time\n",
        "#using one of the validation sets composed by tito\n",
        "cv2_train = pd.read_pickle(\"../input/riiid-cross-validation-files/cv2_train.pickle\")['row_id']\n",
        "cv2_valid = pd.read_pickle(\"../input/riiid-cross-validation-files/cv2_valid.pickle\")['row_id']"
      ]
    },
    {
      "cell_type": "code",
      "execution_count": null,
      "id": "a31f5df6",
      "metadata": {
        "execution": {
          "iopub.execute_input": "2021-12-02T19:52:57.493453Z",
          "iopub.status.busy": "2021-12-02T19:52:57.492754Z",
          "iopub.status.idle": "2021-12-02T19:53:39.714094Z",
          "shell.execute_reply": "2021-12-02T19:53:39.714743Z",
          "shell.execute_reply.started": "2021-12-02T14:18:11.492225Z"
        },
        "papermill": {
          "duration": 42.305206,
          "end_time": "2021-12-02T19:53:39.715089",
          "exception": false,
          "start_time": "2021-12-02T19:52:57.409883",
          "status": "completed"
        },
        "tags": [],
        "id": "a31f5df6",
        "outputId": "4e355e75-eda0-404e-e196-f509eadb5c06"
      },
      "outputs": [
        {
          "data": {
            "text/plain": [
              "97"
            ]
          },
          "execution_count": 25,
          "metadata": {},
          "output_type": "execute_result"
        }
      ],
      "source": [
        "train = train[train.answered_correctly != -1]\n",
        "\n",
        "#save mean before splitting\n",
        "#please be aware that there is an issues with train.prior_question_elapsed_time.mean()\n",
        "#see https://www.kaggle.com/c/riiid-test-answer-prediction/discussion/195032\n",
        "mean_prior = train.prior_question_elapsed_time.astype(\"float64\").mean()\n",
        "\n",
        "validation = train[train.row_id.isin(cv2_valid)]\n",
        "train = train[train.row_id.isin(cv2_train)]\n",
        "\n",
        "validation = validation.drop(columns = \"row_id\")\n",
        "train = train.drop(columns = \"row_id\")\n",
        "\n",
        "del cv2_train, cv2_valid\n",
        "gc.collect()"
      ]
    },
    {
      "cell_type": "code",
      "execution_count": null,
      "id": "5d596dce",
      "metadata": {
        "execution": {
          "iopub.execute_input": "2021-12-02T19:53:39.823583Z",
          "iopub.status.busy": "2021-12-02T19:53:39.822892Z",
          "iopub.status.idle": "2021-12-02T19:53:39.831930Z",
          "shell.execute_reply": "2021-12-02T19:53:39.832474Z",
          "shell.execute_reply.started": "2021-12-02T14:18:38.125077Z"
        },
        "papermill": {
          "duration": 0.065373,
          "end_time": "2021-12-02T19:53:39.832646",
          "exception": false,
          "start_time": "2021-12-02T19:53:39.767273",
          "status": "completed"
        },
        "tags": [],
        "id": "5d596dce"
      },
      "outputs": [],
      "source": [
        "def data_pipeline(df, user_df, content_df, label_enc, mode='train'):\n",
        "    df = df.merge(user_df, on = \"user_id\", how = \"left\")\n",
        "    df = df.merge(content_df, on = \"content_id\", how = \"left\")\n",
        "    df['content_questions'].fillna(0, inplace = True)\n",
        "    df['content_mean'].fillna(0.5, inplace = True)\n",
        "    df['watches_lecture'].fillna(0, inplace = True)\n",
        "    df['user_questions'].fillna(0, inplace = True)\n",
        "    df['user_mean'].fillna(0.5, inplace = True)\n",
        "    df['prior_question_elapsed_time'].fillna(mean_prior, inplace = True)\n",
        "    df['prior_question_had_explanation'].fillna(False, inplace = True)\n",
        "\n",
        "    if mode =='train':\n",
        "        label_enc.fit(df['prior_question_had_explanation'])\n",
        "\n",
        "    df['prior_question_had_explanation'] = label_enc.transform(df['prior_question_had_explanation'])    \n",
        "    df[['content_questions', 'user_questions']] = df[['content_questions', 'user_questions']].astype(int)\n",
        "    return df, label_enc"
      ]
    },
    {
      "cell_type": "markdown",
      "source": [
        "This function takes in several data frames, an encoder, and a mode. It merges the data frames and encodes the `prior_question_had_explanation` column, fills in any missing values, and returns the resulting data frame along with the encoder. It appears to be a part of a larger data preprocessing pipeline."
      ],
      "metadata": {
        "id": "Ds1B7kbNF_NA"
      },
      "id": "Ds1B7kbNF_NA"
    },
    {
      "cell_type": "code",
      "execution_count": null,
      "id": "42f63e9f",
      "metadata": {
        "execution": {
          "iopub.execute_input": "2021-12-02T19:53:39.939234Z",
          "iopub.status.busy": "2021-12-02T19:53:39.937867Z",
          "iopub.status.idle": "2021-12-02T19:53:39.941140Z",
          "shell.execute_reply": "2021-12-02T19:53:39.941840Z",
          "shell.execute_reply.started": "2021-12-02T14:18:38.136839Z"
        },
        "papermill": {
          "duration": 0.058032,
          "end_time": "2021-12-02T19:53:39.942005",
          "exception": false,
          "start_time": "2021-12-02T19:53:39.883973",
          "status": "completed"
        },
        "tags": [],
        "id": "42f63e9f"
      },
      "outputs": [],
      "source": [
        "#Your notebook tried to allocate more memory than is available. It has restarted.\n",
        "#label_enc = LabelEncoder()\n",
        "#train, label_enc = data_pipeline(train, user_df, content_df, label_enc, mode='train')\n",
        "#train.sample(5)"
      ]
    },
    {
      "cell_type": "code",
      "execution_count": null,
      "id": "03fcb90c",
      "metadata": {
        "execution": {
          "iopub.execute_input": "2021-12-02T19:53:40.051018Z",
          "iopub.status.busy": "2021-12-02T19:53:40.050324Z",
          "iopub.status.idle": "2021-12-02T19:53:40.051879Z",
          "shell.execute_reply": "2021-12-02T19:53:40.052488Z",
          "shell.execute_reply.started": "2021-12-02T14:18:38.153916Z"
        },
        "papermill": {
          "duration": 0.059026,
          "end_time": "2021-12-02T19:53:40.052652",
          "exception": false,
          "start_time": "2021-12-02T19:53:39.993626",
          "status": "completed"
        },
        "tags": [],
        "id": "03fcb90c"
      },
      "outputs": [],
      "source": [
        "#validation, _ = data_pipeline(validation, user_df, content_df, label_enc, mode='validation')\n",
        "#validation.sample(5)"
      ]
    },
    {
      "cell_type": "code",
      "execution_count": null,
      "id": "c590bceb",
      "metadata": {
        "execution": {
          "iopub.execute_input": "2021-12-02T19:53:40.167025Z",
          "iopub.status.busy": "2021-12-02T19:53:40.165628Z",
          "iopub.status.idle": "2021-12-02T19:55:16.198237Z",
          "shell.execute_reply": "2021-12-02T19:55:16.198879Z",
          "shell.execute_reply.started": "2021-12-02T14:18:38.165191Z"
        },
        "papermill": {
          "duration": 96.095083,
          "end_time": "2021-12-02T19:55:16.199123",
          "exception": false,
          "start_time": "2021-12-02T19:53:40.104040",
          "status": "completed"
        },
        "tags": [],
        "id": "c590bceb",
        "outputId": "5fcd99c9-7704-48b0-fd7b-ef594d608bc6"
      },
      "outputs": [
        {
          "data": {
            "text/html": [
              "<div>\n",
              "<style scoped>\n",
              "    .dataframe tbody tr th:only-of-type {\n",
              "        vertical-align: middle;\n",
              "    }\n",
              "\n",
              "    .dataframe tbody tr th {\n",
              "        vertical-align: top;\n",
              "    }\n",
              "\n",
              "    .dataframe thead th {\n",
              "        text-align: right;\n",
              "    }\n",
              "</style>\n",
              "<table border=\"1\" class=\"dataframe\">\n",
              "  <thead>\n",
              "    <tr style=\"text-align: right;\">\n",
              "      <th></th>\n",
              "      <th>user_id</th>\n",
              "      <th>answered_correctly</th>\n",
              "      <th>content_id</th>\n",
              "      <th>prior_question_had_explanation</th>\n",
              "      <th>prior_question_elapsed_time</th>\n",
              "      <th>user_questions</th>\n",
              "      <th>user_mean</th>\n",
              "      <th>watches_lecture</th>\n",
              "      <th>content_questions</th>\n",
              "      <th>content_mean</th>\n",
              "    </tr>\n",
              "  </thead>\n",
              "  <tbody>\n",
              "    <tr>\n",
              "      <th>1594580</th>\n",
              "      <td>35985407</td>\n",
              "      <td>1</td>\n",
              "      <td>3476</td>\n",
              "      <td>1</td>\n",
              "      <td>7000.0</td>\n",
              "      <td>602</td>\n",
              "      <td>0.534884</td>\n",
              "      <td>0</td>\n",
              "      <td>11057</td>\n",
              "      <td>0.926562</td>\n",
              "    </tr>\n",
              "    <tr>\n",
              "      <th>34449318</th>\n",
              "      <td>788802326</td>\n",
              "      <td>1</td>\n",
              "      <td>10510</td>\n",
              "      <td>1</td>\n",
              "      <td>24000.0</td>\n",
              "      <td>340</td>\n",
              "      <td>0.661765</td>\n",
              "      <td>1</td>\n",
              "      <td>5688</td>\n",
              "      <td>0.954466</td>\n",
              "    </tr>\n",
              "    <tr>\n",
              "      <th>167592</th>\n",
              "      <td>3824269</td>\n",
              "      <td>1</td>\n",
              "      <td>5256</td>\n",
              "      <td>1</td>\n",
              "      <td>15000.0</td>\n",
              "      <td>4299</td>\n",
              "      <td>0.693184</td>\n",
              "      <td>1</td>\n",
              "      <td>27974</td>\n",
              "      <td>0.616108</td>\n",
              "    </tr>\n",
              "    <tr>\n",
              "      <th>68074565</th>\n",
              "      <td>1553169289</td>\n",
              "      <td>1</td>\n",
              "      <td>1212</td>\n",
              "      <td>1</td>\n",
              "      <td>18000.0</td>\n",
              "      <td>332</td>\n",
              "      <td>0.662651</td>\n",
              "      <td>1</td>\n",
              "      <td>18368</td>\n",
              "      <td>0.789035</td>\n",
              "    </tr>\n",
              "    <tr>\n",
              "      <th>48018692</th>\n",
              "      <td>1091811254</td>\n",
              "      <td>1</td>\n",
              "      <td>10717</td>\n",
              "      <td>1</td>\n",
              "      <td>23666.0</td>\n",
              "      <td>3867</td>\n",
              "      <td>0.762607</td>\n",
              "      <td>1</td>\n",
              "      <td>10869</td>\n",
              "      <td>0.733186</td>\n",
              "    </tr>\n",
              "  </tbody>\n",
              "</table>\n",
              "</div>"
            ],
            "text/plain": [
              "             user_id  answered_correctly  content_id  \\\n",
              "1594580     35985407                   1        3476   \n",
              "34449318   788802326                   1       10510   \n",
              "167592       3824269                   1        5256   \n",
              "68074565  1553169289                   1        1212   \n",
              "48018692  1091811254                   1       10717   \n",
              "\n",
              "          prior_question_had_explanation  prior_question_elapsed_time  \\\n",
              "1594580                                1                       7000.0   \n",
              "34449318                               1                      24000.0   \n",
              "167592                                 1                      15000.0   \n",
              "68074565                               1                      18000.0   \n",
              "48018692                               1                      23666.0   \n",
              "\n",
              "          user_questions  user_mean  watches_lecture  content_questions  \\\n",
              "1594580              602   0.534884                0              11057   \n",
              "34449318             340   0.661765                1               5688   \n",
              "167592              4299   0.693184                1              27974   \n",
              "68074565             332   0.662651                1              18368   \n",
              "48018692            3867   0.762607                1              10869   \n",
              "\n",
              "          content_mean  \n",
              "1594580       0.926562  \n",
              "34449318      0.954466  \n",
              "167592        0.616108  \n",
              "68074565      0.789035  \n",
              "48018692      0.733186  "
            ]
          },
          "execution_count": 29,
          "metadata": {},
          "output_type": "execute_result"
        }
      ],
      "source": [
        "label_enc = LabelEncoder()\n",
        "\n",
        "train = train.merge(user_df, on = \"user_id\", how = \"left\")\n",
        "train = train.merge(content_df, on = \"content_id\", how = \"left\")\n",
        "train['content_questions'].fillna(0, inplace = True)\n",
        "train['content_mean'].fillna(0.5, inplace = True)\n",
        "train['watches_lecture'].fillna(0, inplace = True)\n",
        "train['user_questions'].fillna(0, inplace = True)\n",
        "train['user_mean'].fillna(0.5, inplace = True)\n",
        "train['prior_question_elapsed_time'].fillna(mean_prior, inplace = True)\n",
        "train['prior_question_had_explanation'].fillna(False, inplace = True)\n",
        "\n",
        "label_enc.fit(train['prior_question_had_explanation'])\n",
        "\n",
        "train['prior_question_had_explanation'] = label_enc.transform(train['prior_question_had_explanation'])\n",
        "train[['content_questions', 'user_questions']] = train[['content_questions', 'user_questions']].astype(int)\n",
        "train.sample(5)"
      ]
    },
    {
      "cell_type": "code",
      "execution_count": null,
      "id": "6eced687",
      "metadata": {
        "execution": {
          "iopub.execute_input": "2021-12-02T19:55:16.313618Z",
          "iopub.status.busy": "2021-12-02T19:55:16.312898Z",
          "iopub.status.idle": "2021-12-02T19:55:18.279023Z",
          "shell.execute_reply": "2021-12-02T19:55:18.279517Z",
          "shell.execute_reply.started": "2021-12-02T14:20:06.116388Z"
        },
        "papermill": {
          "duration": 2.026461,
          "end_time": "2021-12-02T19:55:18.279713",
          "exception": false,
          "start_time": "2021-12-02T19:55:16.253252",
          "status": "completed"
        },
        "tags": [],
        "id": "6eced687",
        "outputId": "0d6c87e5-1439-4b8d-8a19-434ded849eb8"
      },
      "outputs": [
        {
          "data": {
            "text/html": [
              "<div>\n",
              "<style scoped>\n",
              "    .dataframe tbody tr th:only-of-type {\n",
              "        vertical-align: middle;\n",
              "    }\n",
              "\n",
              "    .dataframe tbody tr th {\n",
              "        vertical-align: top;\n",
              "    }\n",
              "\n",
              "    .dataframe thead th {\n",
              "        text-align: right;\n",
              "    }\n",
              "</style>\n",
              "<table border=\"1\" class=\"dataframe\">\n",
              "  <thead>\n",
              "    <tr style=\"text-align: right;\">\n",
              "      <th></th>\n",
              "      <th>user_id</th>\n",
              "      <th>answered_correctly</th>\n",
              "      <th>content_id</th>\n",
              "      <th>prior_question_had_explanation</th>\n",
              "      <th>prior_question_elapsed_time</th>\n",
              "      <th>user_questions</th>\n",
              "      <th>user_mean</th>\n",
              "      <th>watches_lecture</th>\n",
              "      <th>content_questions</th>\n",
              "      <th>content_mean</th>\n",
              "    </tr>\n",
              "  </thead>\n",
              "  <tbody>\n",
              "    <tr>\n",
              "      <th>2406679</th>\n",
              "      <td>2104257572</td>\n",
              "      <td>1</td>\n",
              "      <td>5620</td>\n",
              "      <td>1</td>\n",
              "      <td>32000.0</td>\n",
              "      <td>215</td>\n",
              "      <td>0.637209</td>\n",
              "      <td>1</td>\n",
              "      <td>42692</td>\n",
              "      <td>0.594725</td>\n",
              "    </tr>\n",
              "    <tr>\n",
              "      <th>849005</th>\n",
              "      <td>765650908</td>\n",
              "      <td>1</td>\n",
              "      <td>4074</td>\n",
              "      <td>1</td>\n",
              "      <td>15000.0</td>\n",
              "      <td>4977</td>\n",
              "      <td>0.618043</td>\n",
              "      <td>1</td>\n",
              "      <td>45865</td>\n",
              "      <td>0.614608</td>\n",
              "    </tr>\n",
              "    <tr>\n",
              "      <th>835567</th>\n",
              "      <td>758587521</td>\n",
              "      <td>1</td>\n",
              "      <td>1357</td>\n",
              "      <td>1</td>\n",
              "      <td>18000.0</td>\n",
              "      <td>633</td>\n",
              "      <td>0.729858</td>\n",
              "      <td>1</td>\n",
              "      <td>11415</td>\n",
              "      <td>0.787385</td>\n",
              "    </tr>\n",
              "    <tr>\n",
              "      <th>1126104</th>\n",
              "      <td>995557668</td>\n",
              "      <td>1</td>\n",
              "      <td>2073</td>\n",
              "      <td>1</td>\n",
              "      <td>25666.0</td>\n",
              "      <td>1300</td>\n",
              "      <td>0.700769</td>\n",
              "      <td>1</td>\n",
              "      <td>16187</td>\n",
              "      <td>0.946747</td>\n",
              "    </tr>\n",
              "    <tr>\n",
              "      <th>963948</th>\n",
              "      <td>872985840</td>\n",
              "      <td>0</td>\n",
              "      <td>3854</td>\n",
              "      <td>1</td>\n",
              "      <td>37000.0</td>\n",
              "      <td>904</td>\n",
              "      <td>0.625000</td>\n",
              "      <td>1</td>\n",
              "      <td>54038</td>\n",
              "      <td>0.466116</td>\n",
              "    </tr>\n",
              "  </tbody>\n",
              "</table>\n",
              "</div>"
            ],
            "text/plain": [
              "            user_id  answered_correctly  content_id  \\\n",
              "2406679  2104257572                   1        5620   \n",
              "849005    765650908                   1        4074   \n",
              "835567    758587521                   1        1357   \n",
              "1126104   995557668                   1        2073   \n",
              "963948    872985840                   0        3854   \n",
              "\n",
              "         prior_question_had_explanation  prior_question_elapsed_time  \\\n",
              "2406679                               1                      32000.0   \n",
              "849005                                1                      15000.0   \n",
              "835567                                1                      18000.0   \n",
              "1126104                               1                      25666.0   \n",
              "963948                                1                      37000.0   \n",
              "\n",
              "         user_questions  user_mean  watches_lecture  content_questions  \\\n",
              "2406679             215   0.637209                1              42692   \n",
              "849005             4977   0.618043                1              45865   \n",
              "835567              633   0.729858                1              11415   \n",
              "1126104            1300   0.700769                1              16187   \n",
              "963948              904   0.625000                1              54038   \n",
              "\n",
              "         content_mean  \n",
              "2406679      0.594725  \n",
              "849005       0.614608  \n",
              "835567       0.787385  \n",
              "1126104      0.946747  \n",
              "963948       0.466116  "
            ]
          },
          "execution_count": 30,
          "metadata": {},
          "output_type": "execute_result"
        }
      ],
      "source": [
        "validation = validation.merge(user_df, on = \"user_id\", how = \"left\")\n",
        "validation = validation.merge(content_df, on = \"content_id\", how = \"left\")\n",
        "validation['content_questions'].fillna(0, inplace = True)\n",
        "validation['content_mean'].fillna(0.5, inplace = True)\n",
        "validation['watches_lecture'].fillna(0, inplace = True)\n",
        "validation['user_questions'].fillna(0, inplace = True)\n",
        "validation['user_mean'].fillna(0.5, inplace = True)\n",
        "validation['prior_question_elapsed_time'].fillna(mean_prior, inplace = True)\n",
        "validation['prior_question_had_explanation'].fillna(False, inplace = True)\n",
        "\n",
        "validation['prior_question_had_explanation'] = label_enc.transform(validation['prior_question_had_explanation'])\n",
        "validation[['content_questions', 'user_questions']] = validation[['content_questions', 'user_questions']].astype(int)\n",
        "validation.sample(5)"
      ]
    },
    {
      "cell_type": "code",
      "execution_count": null,
      "id": "8c4783a7",
      "metadata": {
        "execution": {
          "iopub.execute_input": "2021-12-02T19:55:18.393472Z",
          "iopub.status.busy": "2021-12-02T19:55:18.392751Z",
          "iopub.status.idle": "2021-12-02T19:55:29.406809Z",
          "shell.execute_reply": "2021-12-02T19:55:29.406054Z",
          "shell.execute_reply.started": "2021-12-02T14:20:07.93593Z"
        },
        "papermill": {
          "duration": 11.074167,
          "end_time": "2021-12-02T19:55:29.406967",
          "exception": false,
          "start_time": "2021-12-02T19:55:18.332800",
          "status": "completed"
        },
        "tags": [],
        "id": "8c4783a7"
      },
      "outputs": [],
      "source": [
        "# features = ['user_questions', 'user_mean', 'content_questions', 'content_mean', 'watches_lecture',\n",
        "#             'prior_question_elapsed_time', 'prior_question_had_explanation']\n",
        "\n",
        "features = ['user_questions', 'user_mean', 'content_questions', 'content_mean', 'prior_question_elapsed_time']\n",
        "\n",
        "\n",
        "#for now just taking 10.000.000 rows for training\n",
        "train = train.sample(n=10_000_000, random_state = 1)\n",
        "\n",
        "y_train = train['answered_correctly']\n",
        "train = train[features]\n",
        "\n",
        "y_val = validation['answered_correctly']\n",
        "validation = validation[features]"
      ]
    },
    {
      "cell_type": "code",
      "execution_count": null,
      "id": "1c39a9f1",
      "metadata": {
        "execution": {
          "iopub.execute_input": "2021-12-02T19:55:29.519361Z",
          "iopub.status.busy": "2021-12-02T19:55:29.518682Z",
          "iopub.status.idle": "2021-12-02T19:55:29.522111Z",
          "shell.execute_reply": "2021-12-02T19:55:29.521522Z",
          "shell.execute_reply.started": "2021-12-02T14:20:16.294116Z"
        },
        "papermill": {
          "duration": 0.062208,
          "end_time": "2021-12-02T19:55:29.522261",
          "exception": false,
          "start_time": "2021-12-02T19:55:29.460053",
          "status": "completed"
        },
        "tags": [],
        "id": "1c39a9f1"
      },
      "outputs": [],
      "source": [
        "params = {'objective': 'binary',\n",
        "          'metric': 'auc',\n",
        "          'seed': 2020,\n",
        "          'learning_rate': 0.1, #default\n",
        "          \"boosting_type\": \"gbdt\" #default\n",
        "         }"
      ]
    },
    {
      "cell_type": "code",
      "execution_count": null,
      "id": "5aabc21a",
      "metadata": {
        "execution": {
          "iopub.execute_input": "2021-12-02T19:55:29.795493Z",
          "iopub.status.busy": "2021-12-02T19:55:29.794517Z",
          "iopub.status.idle": "2021-12-02T19:55:29.798527Z",
          "shell.execute_reply": "2021-12-02T19:55:29.797943Z",
          "shell.execute_reply.started": "2021-12-02T14:20:16.300571Z"
        },
        "papermill": {
          "duration": 0.222412,
          "end_time": "2021-12-02T19:55:29.798672",
          "exception": false,
          "start_time": "2021-12-02T19:55:29.576260",
          "status": "completed"
        },
        "tags": [],
        "id": "5aabc21a",
        "outputId": "2303ef25-fae7-4f45-a308-5f919d3f8a20"
      },
      "outputs": [
        {
          "data": {
            "text/plain": [
              "63"
            ]
          },
          "execution_count": 33,
          "metadata": {},
          "output_type": "execute_result"
        }
      ],
      "source": [
        "lgb_train = lgb.Dataset(train, y_train, categorical_feature = None)\n",
        "lgb_eval = lgb.Dataset(validation, y_val, categorical_feature = None)\n",
        "\n",
        "del train, y_train, validation, y_val\n",
        "gc.collect()"
      ]
    },
    {
      "cell_type": "code",
      "execution_count": null,
      "id": "b615eb95",
      "metadata": {
        "execution": {
          "iopub.execute_input": "2021-12-02T19:55:29.914170Z",
          "iopub.status.busy": "2021-12-02T19:55:29.913372Z",
          "iopub.status.idle": "2021-12-02T20:15:04.876760Z",
          "shell.execute_reply": "2021-12-02T20:15:04.877532Z",
          "shell.execute_reply.started": "2021-12-02T14:20:16.441351Z"
        },
        "papermill": {
          "duration": 1175.025546,
          "end_time": "2021-12-02T20:15:04.877945",
          "exception": false,
          "start_time": "2021-12-02T19:55:29.852399",
          "status": "completed"
        },
        "tags": [],
        "id": "b615eb95",
        "outputId": "90f8b683-6547-45af-91a8-f3e715e656eb"
      },
      "outputs": [
        {
          "name": "stdout",
          "output_type": "stream",
          "text": [
            "[LightGBM] [Info] Number of positive: 6576597, number of negative: 3423403\n",
            "[LightGBM] [Warning] Auto-choosing row-wise multi-threading, the overhead of testing was 0.101678 seconds.\n",
            "You can set `force_row_wise=true` to remove the overhead.\n",
            "And if memory is not enough, you can set `force_col_wise=true`.\n",
            "[LightGBM] [Info] Total Bins 1272\n",
            "[LightGBM] [Info] Number of data points in the train set: 10000000, number of used features: 5\n",
            "[LightGBM] [Info] [binary:BoostFromScore]: pavg=0.657660 -> initscore=0.652882\n",
            "[LightGBM] [Info] Start training from score 0.652882\n",
            "Training until validation scores don't improve for 8 rounds\n",
            "[50]\ttraining's auc: 0.757064\tvalid_1's auc: 0.762685\n",
            "[100]\ttraining's auc: 0.757592\tvalid_1's auc: 0.763157\n",
            "[150]\ttraining's auc: 0.757775\tvalid_1's auc: 0.76326\n",
            "[200]\ttraining's auc: 0.757942\tvalid_1's auc: 0.763345\n",
            "[250]\ttraining's auc: 0.758084\tvalid_1's auc: 0.763419\n",
            "[300]\ttraining's auc: 0.758222\tvalid_1's auc: 0.763476\n",
            "[350]\ttraining's auc: 0.758353\tvalid_1's auc: 0.763517\n",
            "[400]\ttraining's auc: 0.758483\tvalid_1's auc: 0.763563\n",
            "Early stopping, best iteration is:\n",
            "[434]\ttraining's auc: 0.758579\tvalid_1's auc: 0.7636\n",
            "CPU times: user 52min 55s, sys: 22.3 s, total: 53min 17s\n",
            "Wall time: 19min 34s\n"
          ]
        }
      ],
      "source": [
        "%%time\n",
        "model = lgb.train(\n",
        "    params, lgb_train,\n",
        "    valid_sets=[lgb_train, lgb_eval],\n",
        "    verbose_eval=50,\n",
        "    num_boost_round=10000,\n",
        "    early_stopping_rounds=8\n",
        ")"
      ]
    },
    {
      "cell_type": "code",
      "execution_count": null,
      "id": "93908e76",
      "metadata": {
        "execution": {
          "iopub.execute_input": "2021-12-02T20:15:05.007575Z",
          "iopub.status.busy": "2021-12-02T20:15:05.004017Z",
          "iopub.status.idle": "2021-12-02T20:15:05.255392Z",
          "shell.execute_reply": "2021-12-02T20:15:05.256019Z",
          "shell.execute_reply.started": "2021-12-02T14:39:24.474054Z"
        },
        "papermill": {
          "duration": 0.32007,
          "end_time": "2021-12-02T20:15:05.256199",
          "exception": false,
          "start_time": "2021-12-02T20:15:04.936129",
          "status": "completed"
        },
        "tags": [],
        "id": "93908e76",
        "outputId": "3fbd5847-e1e9-436a-fa84-907378f07b92"
      },
      "outputs": [
        {
          "data": {
            "image/png": "[encoded data removed]",
            "text/plain": [
              "<Figure size 432x288 with 1 Axes>"
            ]
          },
          "metadata": {},
          "output_type": "display_data"
        }
      ],
      "source": [
        "lgb.plot_importance(model)\n",
        "plt.show()"
      ]
    },
    {
      "cell_type": "markdown",
      "id": "78ce1d3b",
      "metadata": {
        "papermill": {
          "duration": 0.058363,
          "end_time": "2021-12-02T20:15:05.373450",
          "exception": false,
          "start_time": "2021-12-02T20:15:05.315087",
          "status": "completed"
        },
        "tags": [],
        "id": "78ce1d3b"
      },
      "source": [
        "### Lets use the Competition API to bring in the test data and make a submission\n",
        "https://www.kaggle.com/sohier/competition-api-detailed-introduction/notebook"
      ]
    },
    {
      "cell_type": "code",
      "execution_count": null,
      "id": "27de6f09",
      "metadata": {
        "execution": {
          "iopub.execute_input": "2021-12-02T20:15:05.501085Z",
          "iopub.status.busy": "2021-12-02T20:15:05.499968Z",
          "iopub.status.idle": "2021-12-02T20:15:05.502914Z",
          "shell.execute_reply": "2021-12-02T20:15:05.502316Z",
          "shell.execute_reply.started": "2021-12-02T14:39:24.738934Z"
        },
        "papermill": {
          "duration": 0.069975,
          "end_time": "2021-12-02T20:15:05.503059",
          "exception": false,
          "start_time": "2021-12-02T20:15:05.433084",
          "status": "completed"
        },
        "tags": [],
        "id": "27de6f09"
      },
      "outputs": [],
      "source": [
        "env = riiideducation.make_env()"
      ]
    },
    {
      "cell_type": "code",
      "execution_count": null,
      "id": "b3b5be78",
      "metadata": {
        "execution": {
          "iopub.execute_input": "2021-12-02T20:15:05.625565Z",
          "iopub.status.busy": "2021-12-02T20:15:05.624851Z",
          "iopub.status.idle": "2021-12-02T20:15:05.626414Z",
          "shell.execute_reply": "2021-12-02T20:15:05.626863Z",
          "shell.execute_reply.started": "2021-12-02T14:39:24.746106Z"
        },
        "papermill": {
          "duration": 0.06534,
          "end_time": "2021-12-02T20:15:05.627036",
          "exception": false,
          "start_time": "2021-12-02T20:15:05.561696",
          "status": "completed"
        },
        "tags": [],
        "id": "b3b5be78"
      },
      "outputs": [],
      "source": [
        "iter_test = env.iter_test()"
      ]
    },
    {
      "cell_type": "code",
      "execution_count": null,
      "id": "247bbd14",
      "metadata": {
        "execution": {
          "iopub.execute_input": "2021-12-02T20:15:05.753042Z",
          "iopub.status.busy": "2021-12-02T20:15:05.752279Z",
          "iopub.status.idle": "2021-12-02T20:15:06.164717Z",
          "shell.execute_reply": "2021-12-02T20:15:06.163875Z",
          "shell.execute_reply.started": "2021-12-02T14:39:24.760255Z"
        },
        "papermill": {
          "duration": 0.479385,
          "end_time": "2021-12-02T20:15:06.164933",
          "exception": false,
          "start_time": "2021-12-02T20:15:05.685548",
          "status": "completed"
        },
        "tags": [],
        "id": "247bbd14"
      },
      "outputs": [],
      "source": [
        "for (test_df, sample_prediction_df) in iter_test:\n",
        "    test_df = test_df.merge(user_df, on = \"user_id\", how = \"left\")\n",
        "    test_df = test_df.merge(content_df, on = \"content_id\", how = \"left\")\n",
        "    test_df['content_questions'].fillna(0, inplace = True)\n",
        "    test_df['content_mean'].fillna(0.5, inplace = True)\n",
        "    test_df['watches_lecture'].fillna(0, inplace = True)\n",
        "    test_df['user_questions'].fillna(0, inplace = True)\n",
        "    test_df['user_mean'].fillna(0.5, inplace = True)\n",
        "    test_df['prior_question_elapsed_time'].fillna(mean_prior, inplace = True)\n",
        "    test_df['prior_question_had_explanation'].fillna(False, inplace = True)\n",
        "    test_df['prior_question_had_explanation'] = label_enc.transform(test_df['prior_question_had_explanation'])\n",
        "    test_df[['content_questions', 'user_questions']] = test_df[['content_questions', 'user_questions']].astype(int)\n",
        "    test_df['answered_correctly'] =  model.predict(test_df[features])\n",
        "    env.predict(test_df.loc[test_df['content_type_id'] == 0, ['row_id', 'answered_correctly']])"
      ]
    },
    {
      "cell_type": "code",
      "execution_count": null,
      "id": "b7b625df",
      "metadata": {
        "execution": {
          "iopub.execute_input": "2021-12-02T20:15:06.295708Z",
          "iopub.status.busy": "2021-12-02T20:15:06.294598Z",
          "iopub.status.idle": "2021-12-02T20:15:06.297164Z",
          "shell.execute_reply": "2021-12-02T20:15:06.296630Z",
          "shell.execute_reply.started": "2021-12-02T14:39:25.100042Z"
        },
        "papermill": {
          "duration": 0.066999,
          "end_time": "2021-12-02T20:15:06.297326",
          "exception": false,
          "start_time": "2021-12-02T20:15:06.230327",
          "status": "completed"
        },
        "tags": [],
        "id": "b7b625df"
      },
      "outputs": [],
      "source": [
        "#last batch overview\n",
        "#submission_test_df = test_df.loc[test_df['content_type_id'] == 0, ['row_id', 'answered_correctly']]\n",
        "#submission_test_df.to_csv('submission.csv')"
      ]
    },
    {
      "cell_type": "code",
      "execution_count": null,
      "id": "37e0253f",
      "metadata": {
        "execution": {
          "iopub.execute_input": "2021-12-02T20:15:06.420635Z",
          "iopub.status.busy": "2021-12-02T20:15:06.419529Z",
          "iopub.status.idle": "2021-12-02T20:15:06.421483Z",
          "shell.execute_reply": "2021-12-02T20:15:06.421981Z",
          "shell.execute_reply.started": "2021-12-02T14:39:25.109857Z"
        },
        "papermill": {
          "duration": 0.066044,
          "end_time": "2021-12-02T20:15:06.422150",
          "exception": false,
          "start_time": "2021-12-02T20:15:06.356106",
          "status": "completed"
        },
        "tags": [],
        "id": "37e0253f"
      },
      "outputs": [],
      "source": [
        "#submission_test_df.shape"
      ]
    },
    {
      "cell_type": "code",
      "execution_count": null,
      "id": "5a0f8994",
      "metadata": {
        "execution": {
          "iopub.execute_input": "2021-12-02T20:15:06.544409Z",
          "iopub.status.busy": "2021-12-02T20:15:06.543352Z",
          "iopub.status.idle": "2021-12-02T20:15:06.546841Z",
          "shell.execute_reply": "2021-12-02T20:15:06.547472Z",
          "shell.execute_reply.started": "2021-12-02T14:39:25.131996Z"
        },
        "papermill": {
          "duration": 0.066024,
          "end_time": "2021-12-02T20:15:06.547652",
          "exception": false,
          "start_time": "2021-12-02T20:15:06.481628",
          "status": "completed"
        },
        "tags": [],
        "id": "5a0f8994"
      },
      "outputs": [],
      "source": [
        "#submission_test_df"
      ]
    },
    {
      "cell_type": "code",
      "execution_count": null,
      "id": "103161c5",
      "metadata": {
        "papermill": {
          "duration": 0.05815,
          "end_time": "2021-12-02T20:15:06.666693",
          "exception": false,
          "start_time": "2021-12-02T20:15:06.608543",
          "status": "completed"
        },
        "tags": [],
        "id": "103161c5"
      },
      "outputs": [],
      "source": []
    },
    {
      "cell_type": "code",
      "execution_count": null,
      "id": "57df925a",
      "metadata": {
        "papermill": {
          "duration": 0.05975,
          "end_time": "2021-12-02T20:15:06.785150",
          "exception": false,
          "start_time": "2021-12-02T20:15:06.725400",
          "status": "completed"
        },
        "tags": [],
        "id": "57df925a"
      },
      "outputs": [],
      "source": []
    }
  ],
  "metadata": {
    "kernelspec": {
      "display_name": "Python 3",
      "language": "python",
      "name": "python3"
    },
    "language_info": {
      "codemirror_mode": {
        "name": "ipython",
        "version": 3
      },
      "file_extension": ".py",
      "mimetype": "text/x-python",
      "name": "python",
      "nbconvert_exporter": "python",
      "pygments_lexer": "ipython3",
      "version": "3.7.10"
    },
    "papermill": {
      "default_parameters": {},
      "duration": 1600.017062,
      "end_time": "2021-12-02T20:15:08.081631",
      "environment_variables": {},
      "exception": null,
      "input_path": "__notebook__.ipynb",
      "output_path": "__notebook__.ipynb",
      "parameters": {},
      "start_time": "2021-12-02T19:48:28.064569",
      "version": "2.3.3"
    },
    "colab": {
      "provenance": []
    }
  },
  "nbformat": 4,
  "nbformat_minor": 5
}