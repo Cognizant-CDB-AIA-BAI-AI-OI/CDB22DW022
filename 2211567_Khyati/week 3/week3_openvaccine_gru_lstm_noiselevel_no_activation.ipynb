{
  "cells": [
    {
      "cell_type": "markdown",
      "metadata": {
        "papermill": {
          "duration": 0.042122,
          "end_time": "2020-10-04T17:01:27.145396",
          "exception": false,
          "start_time": "2020-10-04T17:01:27.103274",
          "status": "completed"
        },
        "tags": [],
        "id": "Ii0z2xQwtYGe"
      },
      "source": [
        "This kernel is a mere copy from https://www.kaggle.com/tuckerarrants/openvaccine-gru-lstm, my only contribution is to show how much the scoring is affected by training only on \"signal_to_noise\" levels higher than 1."
      ]
    },
    {
      "cell_type": "code",
      "execution_count": null,
      "metadata": {
        "_cell_guid": "79c7e3d0-c299-4dcb-8224-4455121ee9b0",
        "_uuid": "d629ff2d2480ee46fbb7e2d37f6b5fab8052498a",
        "execution": {
          "iopub.execute_input": "2020-10-04T17:01:27.232002Z",
          "iopub.status.busy": "2020-10-04T17:01:27.231174Z",
          "iopub.status.idle": "2020-10-04T17:01:34.369932Z",
          "shell.execute_reply": "2020-10-04T17:01:34.369326Z"
        },
        "papermill": {
          "duration": 7.185524,
          "end_time": "2020-10-04T17:01:34.370058",
          "exception": false,
          "start_time": "2020-10-04T17:01:27.184534",
          "status": "completed"
        },
        "tags": [],
        "id": "iJCn8ZDUtYGh",
        "outputId": "bbceabec-d0f3-4dde-cef9-1e6b43d430a2"
      },
      "outputs": [
        {
          "name": "stdout",
          "output_type": "stream",
          "text": [
            "set up complete!\n"
          ]
        }
      ],
      "source": [
        "import warnings\n",
        "warnings.filterwarnings('ignore')\n",
        "\n",
        "#the basics\n",
        "import pandas as pd, numpy as np\n",
        "import math, json, gc, random, os, sys\n",
        "from matplotlib import pyplot as plt\n",
        "from tqdm import tqdm\n",
        "\n",
        "#tensorflow deep learning basics\n",
        "import tensorflow as tf\n",
        "import tensorflow_addons as tfa\n",
        "import tensorflow.keras.backend as K\n",
        "import tensorflow.keras.layers as L\n",
        "from tensorflow import keras\n",
        "from tensorflow.keras import layers\n",
        "\n",
        "from tensorflow.keras.layers import LSTM\n",
        "\n",
        "\n",
        "#for model evaluation\n",
        "from sklearn.model_selection import train_test_split, KFold\n",
        "\n",
        "\n",
        "print(\"set up complete!\")"
      ]
    },
    {
      "cell_type": "markdown",
      "source": [
        "Sure, let me explain the code snippet you provided.\n",
        "\n",
        "First, the `warnings` library is imported and its `filterwarnings` function is used to ignore warnings. This is done to suppress any warning messages that may be generated during the code execution.\n",
        "\n",
        "Next, various Python libraries are imported including `pandas` and `numpy` for data manipulation, `math` for mathematical operations, `json` for working with JSON data, `gc` for garbage collection, `random` for generating random numbers, `os` for accessing the operating system functionalities, `sys` for system-specific parameters and functions, `matplotlib` for data visualization, and `tqdm` for progress bar visualization.\n",
        "\n",
        "After that, the TensorFlow library is imported along with its add-ons library `tensorflow_addons`. `keras` is imported from TensorFlow for creating and training neural networks. `layers` is also imported from `tensorflow.keras` for creating layers in neural networks. `LSTM` is a specific type of layer used for sequence modeling.\n",
        "\n",
        "Lastly, the `train_test_split` and `KFold` functions are imported from `sklearn.model_selection` library for splitting data into training and testing sets, and for performing k-fold cross-validation, respectively.\n",
        "\n",
        "The last line simply prints a message indicating that the setup is complete.\n",
        "\n",
        "Overall, this code sets up the necessary libraries and tools needed for deep learning with TensorFlow and other useful libraries."
      ],
      "metadata": {
        "id": "Iqo9F31tu90R"
      }
    },
    {
      "cell_type": "markdown",
      "metadata": {
        "papermill": {
          "duration": 0.039334,
          "end_time": "2020-10-04T17:01:34.449200",
          "exception": false,
          "start_time": "2020-10-04T17:01:34.409866",
          "status": "completed"
        },
        "tags": [],
        "id": "BDB35F7atYGk"
      },
      "source": [
        "# Competition Overview\n",
        "\n",
        "**In this [new competition](https://www.kaggle.com/c/stanford-covid-vaccine/overview) we are helping to fight against the worldwide pandemic COVID-19. mRNA vaccines are the fastest vaccine candidates to treat COVID-19 but they currently facing several limitations. In particular, it is a challenge to design stable messenger RNA molecules. Typical vaccines are packaged in syringes and shipped under refrigeration around the world, but that is not possible for mRNA vaccines (currently).**\n",
        "\n",
        "**Researches have noticed that RNA molecules tend to spontaneously degrade, which is highly problematic because a single cut can render mRNA vaccines useless. Not much is known about which part of the backbone of a particular RNA is most susceptible to being damaged.**\n",
        "\n",
        "**Without this knowledge, the current mRNA vaccines are shopped under intense refrigeration and are unlikely to reach enough humans unless they can be stabilized. This is our task as Kagglers: we must create a model to predict the most likely degradation rates at each base of an RNA molecule.**\n",
        "\n",
        "**We are given a subset of an Eterna dataset comprised of over 3000 RNA molecules and their degradation rates at each position. Our models are then tested on the new generation of RNA sequences that were just created by Eterna players for COVID-19 mRNA vaccines**"
      ]
    },
    {
      "cell_type": "code",
      "execution_count": null,
      "metadata": {
        "execution": {
          "iopub.execute_input": "2020-10-04T17:01:34.533634Z",
          "iopub.status.busy": "2020-10-04T17:01:34.532799Z",
          "iopub.status.idle": "2020-10-04T17:01:35.587094Z",
          "shell.execute_reply": "2020-10-04T17:01:35.587759Z"
        },
        "papermill": {
          "duration": 1.099401,
          "end_time": "2020-10-04T17:01:35.587932",
          "exception": false,
          "start_time": "2020-10-04T17:01:34.488531",
          "status": "completed"
        },
        "tags": [],
        "id": "MWHX6usRtYGm",
        "outputId": "b89fe7f0-b428-4ff1-b83c-6d303ae70ca8"
      },
      "outputs": [
        {
          "name": "stdout",
          "output_type": "stream",
          "text": [
            "Data Load Complete\n"
          ]
        }
      ],
      "source": [
        "#get comp data\n",
        "train = pd.read_json('/kaggle/input/stanford-covid-vaccine/train.json', lines=True)\n",
        "test = pd.read_json('/kaggle/input/stanford-covid-vaccine/test.json', lines=True)\n",
        "sample_sub = pd.read_csv('/kaggle/input/stanford-covid-vaccine/sample_submission.csv')\n",
        "\n",
        "\n",
        "print (\"Data Load Complete\")"
      ]
    },
    {
      "cell_type": "markdown",
      "metadata": {
        "papermill": {
          "duration": 0.041759,
          "end_time": "2020-10-04T17:01:35.672435",
          "exception": false,
          "start_time": "2020-10-04T17:01:35.630676",
          "status": "completed"
        },
        "tags": [],
        "id": "S-dwqjW6tYGn"
      },
      "source": [
        "# Brief EDA"
      ]
    },
    {
      "cell_type": "code",
      "execution_count": null,
      "metadata": {
        "execution": {
          "iopub.execute_input": "2020-10-04T17:01:35.828821Z",
          "iopub.status.busy": "2020-10-04T17:01:35.767087Z",
          "iopub.status.idle": "2020-10-04T17:01:35.894707Z",
          "shell.execute_reply": "2020-10-04T17:01:35.895335Z"
        },
        "papermill": {
          "duration": 0.179998,
          "end_time": "2020-10-04T17:01:35.895512",
          "exception": false,
          "start_time": "2020-10-04T17:01:35.715514",
          "status": "completed"
        },
        "tags": [],
        "id": "5g3LRHCGtYGo",
        "outputId": "2f3255e2-dedb-4e6a-9dac-82365800a57b"
      },
      "outputs": [
        {
          "name": "stdout",
          "output_type": "stream",
          "text": [
            "(2400, 19)\n",
            "No missing values\n"
          ]
        },
        {
          "data": {
            "text/html": [
              "<div>\n",
              "<style scoped>\n",
              "    .dataframe tbody tr th:only-of-type {\n",
              "        vertical-align: middle;\n",
              "    }\n",
              "\n",
              "    .dataframe tbody tr th {\n",
              "        vertical-align: top;\n",
              "    }\n",
              "\n",
              "    .dataframe thead th {\n",
              "        text-align: right;\n",
              "    }\n",
              "</style>\n",
              "<table border=\"1\" class=\"dataframe\">\n",
              "  <thead>\n",
              "    <tr style=\"text-align: right;\">\n",
              "      <th></th>\n",
              "      <th>index</th>\n",
              "      <th>id</th>\n",
              "      <th>sequence</th>\n",
              "      <th>structure</th>\n",
              "      <th>predicted_loop_type</th>\n",
              "      <th>signal_to_noise</th>\n",
              "      <th>SN_filter</th>\n",
              "      <th>seq_length</th>\n",
              "      <th>seq_scored</th>\n",
              "      <th>reactivity_error</th>\n",
              "      <th>deg_error_Mg_pH10</th>\n",
              "      <th>deg_error_pH10</th>\n",
              "      <th>deg_error_Mg_50C</th>\n",
              "      <th>deg_error_50C</th>\n",
              "      <th>reactivity</th>\n",
              "      <th>deg_Mg_pH10</th>\n",
              "      <th>deg_pH10</th>\n",
              "      <th>deg_Mg_50C</th>\n",
              "      <th>deg_50C</th>\n",
              "    </tr>\n",
              "  </thead>\n",
              "  <tbody>\n",
              "    <tr>\n",
              "      <th>0</th>\n",
              "      <td>0</td>\n",
              "      <td>id_001f94081</td>\n",
              "      <td>GGAAAAGCUCUAAUAACAGGAGACUAGGACUACGUAUUUCUAGGUA...</td>\n",
              "      <td>.....((((((.......)))).)).((.....((..((((((......</td>\n",
              "      <td>EEEEESSSSSSHHHHHHHSSSSBSSXSSIIIIISSIISSSSSSHHH...</td>\n",
              "      <td>6.894</td>\n",
              "      <td>1</td>\n",
              "      <td>107</td>\n",
              "      <td>68</td>\n",
              "      <td>[0.1359, 0.20700000000000002, 0.1633, 0.1452, ...</td>\n",
              "      <td>[0.26130000000000003, 0.38420000000000004, 0.1...</td>\n",
              "      <td>[0.2631, 0.28600000000000003, 0.0964, 0.1574, ...</td>\n",
              "      <td>[0.1501, 0.275, 0.0947, 0.18660000000000002, 0...</td>\n",
              "      <td>[0.2167, 0.34750000000000003, 0.188, 0.2124, 0...</td>\n",
              "      <td>[0.3297, 1.5693000000000001, 1.1227, 0.8686, 0...</td>\n",
              "      <td>[0.7556, 2.983, 0.2526, 1.3789, 0.637600000000...</td>\n",
              "      <td>[2.3375, 3.5060000000000002, 0.3008, 1.0108, 0...</td>\n",
              "      <td>[0.35810000000000003, 2.9683, 0.2589, 1.4552, ...</td>\n",
              "      <td>[0.6382, 3.4773, 0.9988, 1.3228, 0.78770000000...</td>\n",
              "    </tr>\n",
              "    <tr>\n",
              "      <th>1</th>\n",
              "      <td>1</td>\n",
              "      <td>id_0049f53ba</td>\n",
              "      <td>GGAAAAAGCGCGCGCGGUUAGCGCGCGCUUUUGCGCGCGCUGUACC...</td>\n",
              "      <td>.....(((((((((((((((((((((((....)))))))))).)))...</td>\n",
              "      <td>EEEEESSSSSSSSSSSSSSSSSSSSSSSHHHHSSSSSSSSSSBSSS...</td>\n",
              "      <td>0.193</td>\n",
              "      <td>0</td>\n",
              "      <td>107</td>\n",
              "      <td>68</td>\n",
              "      <td>[2.8272, 2.8272, 2.8272, 4.7343, 2.5676, 2.567...</td>\n",
              "      <td>[73705.3985, 73705.3985, 73705.3985, 73705.398...</td>\n",
              "      <td>[10.1986, 9.2418, 5.0933, 5.0933, 5.0933, 5.09...</td>\n",
              "      <td>[16.6174, 13.868, 8.1968, 8.1968, 8.1968, 8.19...</td>\n",
              "      <td>[15.4857, 7.9596, 13.3957, 5.8777, 5.8777, 5.8...</td>\n",
              "      <td>[0.0, 0.0, 0.0, 2.2965, 0.0, 0.0, 0.0, 0.0, 0....</td>\n",
              "      <td>[0.0, 0.0, 0.0, 0.0, 0.0, 0.0, 0.0, 0.0, 0.0, ...</td>\n",
              "      <td>[4.947, 4.4523, 0.0, 0.0, 0.0, 0.0, 0.0, 0.0, ...</td>\n",
              "      <td>[4.8511, 4.0426, 0.0, 0.0, 0.0, 0.0, 0.0, 0.0,...</td>\n",
              "      <td>[7.6692, 0.0, 10.9561, 0.0, 0.0, 0.0, 0.0, 0.0...</td>\n",
              "    </tr>\n",
              "    <tr>\n",
              "      <th>2</th>\n",
              "      <td>2</td>\n",
              "      <td>id_006f36f57</td>\n",
              "      <td>GGAAAGUGCUCAGAUAAGCUAAGCUCGAAUAGCAAUCGAAUAGAAU...</td>\n",
              "      <td>.....((((.((.....((((.(((.....)))..((((......)...</td>\n",
              "      <td>EEEEESSSSISSIIIIISSSSMSSSHHHHHSSSMMSSSSHHHHHHS...</td>\n",
              "      <td>8.800</td>\n",
              "      <td>1</td>\n",
              "      <td>107</td>\n",
              "      <td>68</td>\n",
              "      <td>[0.0931, 0.13290000000000002, 0.11280000000000...</td>\n",
              "      <td>[0.1365, 0.2237, 0.1812, 0.1333, 0.1148, 0.160...</td>\n",
              "      <td>[0.17020000000000002, 0.178, 0.111, 0.091, 0.0...</td>\n",
              "      <td>[0.1033, 0.1464, 0.1126, 0.09620000000000001, ...</td>\n",
              "      <td>[0.14980000000000002, 0.1761, 0.1517, 0.116700...</td>\n",
              "      <td>[0.44820000000000004, 1.4822, 1.1819, 0.743400...</td>\n",
              "      <td>[0.2504, 1.4021, 0.9804, 0.49670000000000003, ...</td>\n",
              "      <td>[2.243, 2.9361, 1.0553, 0.721, 0.6396000000000...</td>\n",
              "      <td>[0.5163, 1.6823000000000001, 1.0426, 0.7902, 0...</td>\n",
              "      <td>[0.9501000000000001, 1.7974999999999999, 1.499...</td>\n",
              "    </tr>\n",
              "    <tr>\n",
              "      <th>3</th>\n",
              "      <td>3</td>\n",
              "      <td>id_0082d463b</td>\n",
              "      <td>GGAAAAGCGCGCGCGCGCGCGCGAAAAAGCGCGCGCGCGCGCGCGC...</td>\n",
              "      <td>......((((((((((((((((......))))))))))))))))((...</td>\n",
              "      <td>EEEEEESSSSSSSSSSSSSSSSHHHHHHSSSSSSSSSSSSSSSSSS...</td>\n",
              "      <td>0.104</td>\n",
              "      <td>0</td>\n",
              "      <td>107</td>\n",
              "      <td>68</td>\n",
              "      <td>[3.5229, 6.0748, 3.0374, 3.0374, 3.0374, 3.037...</td>\n",
              "      <td>[73705.3985, 73705.3985, 73705.3985, 73705.398...</td>\n",
              "      <td>[11.8007, 12.7566, 5.7733, 5.7733, 5.7733, 5.7...</td>\n",
              "      <td>[121286.7181, 121286.7182, 121286.7181, 121286...</td>\n",
              "      <td>[15.3995, 8.1124, 7.7824, 7.7824, 7.7824, 7.78...</td>\n",
              "      <td>[0.0, 2.2399, 0.0, 0.0, 0.0, 0.0, 0.0, 0.0, 0....</td>\n",
              "      <td>[0.0, -0.5083, 0.0, 0.0, 0.0, 0.0, 0.0, 0.0, 0...</td>\n",
              "      <td>[3.4248, 6.8128, 0.0, 0.0, 0.0, 0.0, 0.0, 0.0,...</td>\n",
              "      <td>[0.0, -0.8365, 0.0, 0.0, 0.0, 0.0, 0.0, 0.0, 0...</td>\n",
              "      <td>[7.6692, -1.3223, 0.0, 0.0, 0.0, 0.0, 0.0, 0.0...</td>\n",
              "    </tr>\n",
              "    <tr>\n",
              "      <th>4</th>\n",
              "      <td>4</td>\n",
              "      <td>id_0087940f4</td>\n",
              "      <td>GGAAAAUAUAUAAUAUAUUAUAUAAAUAUAUUAUAGAAGUAUAAUA...</td>\n",
              "      <td>.....(((((((.((((((((((((.(((((((((....)))))))...</td>\n",
              "      <td>EEEEESSSSSSSBSSSSSSSSSSSSBSSSSSSSSSHHHHSSSSSSS...</td>\n",
              "      <td>0.423</td>\n",
              "      <td>0</td>\n",
              "      <td>107</td>\n",
              "      <td>68</td>\n",
              "      <td>[1.665, 2.1728, 2.0041, 1.2405, 0.620200000000...</td>\n",
              "      <td>[4.2139, 3.9637000000000002, 3.2467, 2.4716, 1...</td>\n",
              "      <td>[3.0942, 3.015, 2.1212, 2.0552, 0.881500000000...</td>\n",
              "      <td>[2.6717, 2.4818, 1.9919, 2.5484999999999998, 1...</td>\n",
              "      <td>[1.3285, 3.6173, 1.3057, 1.3021, 1.1507, 1.150...</td>\n",
              "      <td>[0.8267, 2.6577, 2.8481, 0.40090000000000003, ...</td>\n",
              "      <td>[2.1058, 3.138, 2.5437000000000003, 1.0932, 0....</td>\n",
              "      <td>[4.7366, 4.6243, 1.2068, 1.1538, 0.0, 0.0, 0.7...</td>\n",
              "      <td>[2.2052, 1.7947000000000002, 0.7457, 3.1233, 0...</td>\n",
              "      <td>[0.0, 5.1198, -0.3551, -0.3518, 0.0, 0.0, 0.0,...</td>\n",
              "    </tr>\n",
              "  </tbody>\n",
              "</table>\n",
              "</div>"
            ],
            "text/plain": [
              "   index            id                                           sequence  \\\n",
              "0      0  id_001f94081  GGAAAAGCUCUAAUAACAGGAGACUAGGACUACGUAUUUCUAGGUA...   \n",
              "1      1  id_0049f53ba  GGAAAAAGCGCGCGCGGUUAGCGCGCGCUUUUGCGCGCGCUGUACC...   \n",
              "2      2  id_006f36f57  GGAAAGUGCUCAGAUAAGCUAAGCUCGAAUAGCAAUCGAAUAGAAU...   \n",
              "3      3  id_0082d463b  GGAAAAGCGCGCGCGCGCGCGCGAAAAAGCGCGCGCGCGCGCGCGC...   \n",
              "4      4  id_0087940f4  GGAAAAUAUAUAAUAUAUUAUAUAAAUAUAUUAUAGAAGUAUAAUA...   \n",
              "\n",
              "                                           structure  \\\n",
              "0  .....((((((.......)))).)).((.....((..((((((......   \n",
              "1  .....(((((((((((((((((((((((....)))))))))).)))...   \n",
              "2  .....((((.((.....((((.(((.....)))..((((......)...   \n",
              "3  ......((((((((((((((((......))))))))))))))))((...   \n",
              "4  .....(((((((.((((((((((((.(((((((((....)))))))...   \n",
              "\n",
              "                                 predicted_loop_type  signal_to_noise  \\\n",
              "0  EEEEESSSSSSHHHHHHHSSSSBSSXSSIIIIISSIISSSSSSHHH...            6.894   \n",
              "1  EEEEESSSSSSSSSSSSSSSSSSSSSSSHHHHSSSSSSSSSSBSSS...            0.193   \n",
              "2  EEEEESSSSISSIIIIISSSSMSSSHHHHHSSSMMSSSSHHHHHHS...            8.800   \n",
              "3  EEEEEESSSSSSSSSSSSSSSSHHHHHHSSSSSSSSSSSSSSSSSS...            0.104   \n",
              "4  EEEEESSSSSSSBSSSSSSSSSSSSBSSSSSSSSSHHHHSSSSSSS...            0.423   \n",
              "\n",
              "   SN_filter  seq_length  seq_scored  \\\n",
              "0          1         107          68   \n",
              "1          0         107          68   \n",
              "2          1         107          68   \n",
              "3          0         107          68   \n",
              "4          0         107          68   \n",
              "\n",
              "                                    reactivity_error  \\\n",
              "0  [0.1359, 0.20700000000000002, 0.1633, 0.1452, ...   \n",
              "1  [2.8272, 2.8272, 2.8272, 4.7343, 2.5676, 2.567...   \n",
              "2  [0.0931, 0.13290000000000002, 0.11280000000000...   \n",
              "3  [3.5229, 6.0748, 3.0374, 3.0374, 3.0374, 3.037...   \n",
              "4  [1.665, 2.1728, 2.0041, 1.2405, 0.620200000000...   \n",
              "\n",
              "                                   deg_error_Mg_pH10  \\\n",
              "0  [0.26130000000000003, 0.38420000000000004, 0.1...   \n",
              "1  [73705.3985, 73705.3985, 73705.3985, 73705.398...   \n",
              "2  [0.1365, 0.2237, 0.1812, 0.1333, 0.1148, 0.160...   \n",
              "3  [73705.3985, 73705.3985, 73705.3985, 73705.398...   \n",
              "4  [4.2139, 3.9637000000000002, 3.2467, 2.4716, 1...   \n",
              "\n",
              "                                      deg_error_pH10  \\\n",
              "0  [0.2631, 0.28600000000000003, 0.0964, 0.1574, ...   \n",
              "1  [10.1986, 9.2418, 5.0933, 5.0933, 5.0933, 5.09...   \n",
              "2  [0.17020000000000002, 0.178, 0.111, 0.091, 0.0...   \n",
              "3  [11.8007, 12.7566, 5.7733, 5.7733, 5.7733, 5.7...   \n",
              "4  [3.0942, 3.015, 2.1212, 2.0552, 0.881500000000...   \n",
              "\n",
              "                                    deg_error_Mg_50C  \\\n",
              "0  [0.1501, 0.275, 0.0947, 0.18660000000000002, 0...   \n",
              "1  [16.6174, 13.868, 8.1968, 8.1968, 8.1968, 8.19...   \n",
              "2  [0.1033, 0.1464, 0.1126, 0.09620000000000001, ...   \n",
              "3  [121286.7181, 121286.7182, 121286.7181, 121286...   \n",
              "4  [2.6717, 2.4818, 1.9919, 2.5484999999999998, 1...   \n",
              "\n",
              "                                       deg_error_50C  \\\n",
              "0  [0.2167, 0.34750000000000003, 0.188, 0.2124, 0...   \n",
              "1  [15.4857, 7.9596, 13.3957, 5.8777, 5.8777, 5.8...   \n",
              "2  [0.14980000000000002, 0.1761, 0.1517, 0.116700...   \n",
              "3  [15.3995, 8.1124, 7.7824, 7.7824, 7.7824, 7.78...   \n",
              "4  [1.3285, 3.6173, 1.3057, 1.3021, 1.1507, 1.150...   \n",
              "\n",
              "                                          reactivity  \\\n",
              "0  [0.3297, 1.5693000000000001, 1.1227, 0.8686, 0...   \n",
              "1  [0.0, 0.0, 0.0, 2.2965, 0.0, 0.0, 0.0, 0.0, 0....   \n",
              "2  [0.44820000000000004, 1.4822, 1.1819, 0.743400...   \n",
              "3  [0.0, 2.2399, 0.0, 0.0, 0.0, 0.0, 0.0, 0.0, 0....   \n",
              "4  [0.8267, 2.6577, 2.8481, 0.40090000000000003, ...   \n",
              "\n",
              "                                         deg_Mg_pH10  \\\n",
              "0  [0.7556, 2.983, 0.2526, 1.3789, 0.637600000000...   \n",
              "1  [0.0, 0.0, 0.0, 0.0, 0.0, 0.0, 0.0, 0.0, 0.0, ...   \n",
              "2  [0.2504, 1.4021, 0.9804, 0.49670000000000003, ...   \n",
              "3  [0.0, -0.5083, 0.0, 0.0, 0.0, 0.0, 0.0, 0.0, 0...   \n",
              "4  [2.1058, 3.138, 2.5437000000000003, 1.0932, 0....   \n",
              "\n",
              "                                            deg_pH10  \\\n",
              "0  [2.3375, 3.5060000000000002, 0.3008, 1.0108, 0...   \n",
              "1  [4.947, 4.4523, 0.0, 0.0, 0.0, 0.0, 0.0, 0.0, ...   \n",
              "2  [2.243, 2.9361, 1.0553, 0.721, 0.6396000000000...   \n",
              "3  [3.4248, 6.8128, 0.0, 0.0, 0.0, 0.0, 0.0, 0.0,...   \n",
              "4  [4.7366, 4.6243, 1.2068, 1.1538, 0.0, 0.0, 0.7...   \n",
              "\n",
              "                                          deg_Mg_50C  \\\n",
              "0  [0.35810000000000003, 2.9683, 0.2589, 1.4552, ...   \n",
              "1  [4.8511, 4.0426, 0.0, 0.0, 0.0, 0.0, 0.0, 0.0,...   \n",
              "2  [0.5163, 1.6823000000000001, 1.0426, 0.7902, 0...   \n",
              "3  [0.0, -0.8365, 0.0, 0.0, 0.0, 0.0, 0.0, 0.0, 0...   \n",
              "4  [2.2052, 1.7947000000000002, 0.7457, 3.1233, 0...   \n",
              "\n",
              "                                             deg_50C  \n",
              "0  [0.6382, 3.4773, 0.9988, 1.3228, 0.78770000000...  \n",
              "1  [7.6692, 0.0, 10.9561, 0.0, 0.0, 0.0, 0.0, 0.0...  \n",
              "2  [0.9501000000000001, 1.7974999999999999, 1.499...  \n",
              "3  [7.6692, -1.3223, 0.0, 0.0, 0.0, 0.0, 0.0, 0.0...  \n",
              "4  [0.0, 5.1198, -0.3551, -0.3518, 0.0, 0.0, 0.0,...  "
            ]
          },
          "execution_count": 3,
          "metadata": {},
          "output_type": "execute_result"
        }
      ],
      "source": [
        "#sneak peak\n",
        "print(train.shape)\n",
        "if ~ train.isnull().values.any(): print('No missing values')\n",
        "train.head()"
      ]
    },
    {
      "cell_type": "code",
      "execution_count": null,
      "metadata": {
        "execution": {
          "iopub.execute_input": "2020-10-04T17:01:35.998862Z",
          "iopub.status.busy": "2020-10-04T17:01:35.998071Z",
          "iopub.status.idle": "2020-10-04T17:01:36.002577Z",
          "shell.execute_reply": "2020-10-04T17:01:36.001992Z"
        },
        "papermill": {
          "duration": 0.059553,
          "end_time": "2020-10-04T17:01:36.002699",
          "exception": false,
          "start_time": "2020-10-04T17:01:35.943146",
          "status": "completed"
        },
        "tags": [],
        "id": "cOr3-ERgtYGo"
      },
      "outputs": [],
      "source": [
        "\n",
        "def add_list(test_list1, test_list2):\n",
        "    res_list = [] \n",
        "    for i in range(0, len(test_list1)): \n",
        "        res_list.append(test_list1[i] + test_list2[i])\n",
        "    return res_list\n",
        "\n",
        "def subtract_list(test_list1, test_list2):\n",
        "    res_list = [] \n",
        "    for i in range(0, len(test_list1)): \n",
        "        res_list.append(test_list1[i] - test_list2[i])\n",
        "    return res_list"
      ]
    },
    {
      "cell_type": "code",
      "execution_count": null,
      "metadata": {
        "execution": {
          "iopub.execute_input": "2020-10-04T17:01:36.101063Z",
          "iopub.status.busy": "2020-10-04T17:01:36.094881Z",
          "iopub.status.idle": "2020-10-04T17:01:37.652378Z",
          "shell.execute_reply": "2020-10-04T17:01:37.653123Z"
        },
        "papermill": {
          "duration": 1.608527,
          "end_time": "2020-10-04T17:01:37.653325",
          "exception": false,
          "start_time": "2020-10-04T17:01:36.044798",
          "status": "completed"
        },
        "tags": [],
        "id": "47JYsEAetYGp",
        "outputId": "6ed0f02b-afc0-4b52-845d-0fcfb98c4968"
      },
      "outputs": [
        {
          "name": "stdout",
          "output_type": "stream",
          "text": [
            "Additional target variables created!\n"
          ]
        }
      ],
      "source": [
        "#Create additional target features\n",
        "\n",
        "#adding the errors - this will overpredict the target variables\n",
        "train['reactivity_over'] = train.apply(lambda x: add_list(x.reactivity,x.reactivity_error), axis=1)\n",
        "train['deg_Mg_pH10_over'] = train.apply(lambda x: add_list(x.deg_Mg_pH10,x.deg_error_Mg_pH10), axis=1)\n",
        "train['deg_pH10_over'] = train.apply(lambda x: add_list(x.deg_pH10,x.deg_error_pH10), axis=1)\n",
        "train['deg_Mg_50C_over'] = train.apply(lambda x: add_list(x.deg_Mg_50C,x.deg_error_Mg_50C), axis=1)\n",
        "train['deg_50C_over'] = train.apply(lambda x: add_list(x.deg_50C,x.deg_error_50C), axis=1)\n",
        "\n",
        "#subtracting the errors - this will underpredict the target variables\n",
        "train['reactivity_under'] = train.apply(lambda x: subtract_list(x.reactivity,x.reactivity_error), axis=1)\n",
        "train['deg_Mg_pH10_under'] = train.apply(lambda x: subtract_list(x.deg_Mg_pH10,x.deg_error_Mg_pH10), axis=1)\n",
        "train['deg_pH10_under'] = train.apply(lambda x: subtract_list(x.deg_pH10,x.deg_error_pH10), axis=1)\n",
        "train['deg_Mg_50C_under'] = train.apply(lambda x: subtract_list(x.deg_Mg_50C,x.deg_error_Mg_50C), axis=1)\n",
        "train['deg_50C_under'] = train.apply(lambda x: subtract_list(x.deg_50C,x.deg_error_50C), axis=1)\n",
        "\n",
        "print (\"Additional target variables created!\")"
      ]
    },
    {
      "cell_type": "code",
      "execution_count": null,
      "metadata": {
        "execution": {
          "iopub.execute_input": "2020-10-04T17:01:37.756520Z",
          "iopub.status.busy": "2020-10-04T17:01:37.755441Z",
          "iopub.status.idle": "2020-10-04T17:01:37.876129Z",
          "shell.execute_reply": "2020-10-04T17:01:37.876749Z"
        },
        "papermill": {
          "duration": 0.182258,
          "end_time": "2020-10-04T17:01:37.876900",
          "exception": false,
          "start_time": "2020-10-04T17:01:37.694642",
          "status": "completed"
        },
        "tags": [],
        "id": "ogkzA5lTtYGp",
        "outputId": "304b17c0-4dd9-43bb-851e-a4bb76e62266"
      },
      "outputs": [
        {
          "data": {
            "text/html": [
              "<div>\n",
              "<style scoped>\n",
              "    .dataframe tbody tr th:only-of-type {\n",
              "        vertical-align: middle;\n",
              "    }\n",
              "\n",
              "    .dataframe tbody tr th {\n",
              "        vertical-align: top;\n",
              "    }\n",
              "\n",
              "    .dataframe thead th {\n",
              "        text-align: right;\n",
              "    }\n",
              "</style>\n",
              "<table border=\"1\" class=\"dataframe\">\n",
              "  <thead>\n",
              "    <tr style=\"text-align: right;\">\n",
              "      <th></th>\n",
              "      <th>index</th>\n",
              "      <th>id</th>\n",
              "      <th>sequence</th>\n",
              "      <th>structure</th>\n",
              "      <th>predicted_loop_type</th>\n",
              "      <th>signal_to_noise</th>\n",
              "      <th>SN_filter</th>\n",
              "      <th>seq_length</th>\n",
              "      <th>seq_scored</th>\n",
              "      <th>reactivity_error</th>\n",
              "      <th>...</th>\n",
              "      <th>reactivity_over</th>\n",
              "      <th>deg_Mg_pH10_over</th>\n",
              "      <th>deg_pH10_over</th>\n",
              "      <th>deg_Mg_50C_over</th>\n",
              "      <th>deg_50C_over</th>\n",
              "      <th>reactivity_under</th>\n",
              "      <th>deg_Mg_pH10_under</th>\n",
              "      <th>deg_pH10_under</th>\n",
              "      <th>deg_Mg_50C_under</th>\n",
              "      <th>deg_50C_under</th>\n",
              "    </tr>\n",
              "  </thead>\n",
              "  <tbody>\n",
              "    <tr>\n",
              "      <th>0</th>\n",
              "      <td>0</td>\n",
              "      <td>id_001f94081</td>\n",
              "      <td>GGAAAAGCUCUAAUAACAGGAGACUAGGACUACGUAUUUCUAGGUA...</td>\n",
              "      <td>.....((((((.......)))).)).((.....((..((((((......</td>\n",
              "      <td>EEEEESSSSSSHHHHHHHSSSSBSSXSSIIIIISSIISSSSSSHHH...</td>\n",
              "      <td>6.894</td>\n",
              "      <td>1</td>\n",
              "      <td>107</td>\n",
              "      <td>68</td>\n",
              "      <td>[0.1359, 0.20700000000000002, 0.1633, 0.1452, ...</td>\n",
              "      <td>...</td>\n",
              "      <td>[0.4656, 1.7763000000000002, 1.286, 1.0138, 0....</td>\n",
              "      <td>[1.0169000000000001, 3.3672, 0.389800000000000...</td>\n",
              "      <td>[2.6006, 3.7920000000000003, 0.3972, 1.1682, 0...</td>\n",
              "      <td>[0.5082, 3.2433, 0.3536, 1.6418000000000001, 0...</td>\n",
              "      <td>[0.8549, 3.8248, 1.1868, 1.5352, 0.95800000000...</td>\n",
              "      <td>[0.1938, 1.3623, 0.9594, 0.7234, 0.5903, 0.333...</td>\n",
              "      <td>[0.4943, 2.5988, 0.11539999999999997, 1.1258, ...</td>\n",
              "      <td>[2.0744, 3.22, 0.20440000000000003, 0.85339999...</td>\n",
              "      <td>[0.20800000000000002, 2.6933000000000002, 0.16...</td>\n",
              "      <td>[0.4215, 3.1298, 0.8108, 1.1104, 0.61740000000...</td>\n",
              "    </tr>\n",
              "    <tr>\n",
              "      <th>1</th>\n",
              "      <td>1</td>\n",
              "      <td>id_0049f53ba</td>\n",
              "      <td>GGAAAAAGCGCGCGCGGUUAGCGCGCGCUUUUGCGCGCGCUGUACC...</td>\n",
              "      <td>.....(((((((((((((((((((((((....)))))))))).)))...</td>\n",
              "      <td>EEEEESSSSSSSSSSSSSSSSSSSSSSSHHHHSSSSSSSSSSBSSS...</td>\n",
              "      <td>0.193</td>\n",
              "      <td>0</td>\n",
              "      <td>107</td>\n",
              "      <td>68</td>\n",
              "      <td>[2.8272, 2.8272, 2.8272, 4.7343, 2.5676, 2.567...</td>\n",
              "      <td>...</td>\n",
              "      <td>[2.8272, 2.8272, 2.8272, 7.0308, 2.5676, 2.567...</td>\n",
              "      <td>[73705.3985, 73705.3985, 73705.3985, 73705.398...</td>\n",
              "      <td>[15.145600000000002, 13.694099999999999, 5.093...</td>\n",
              "      <td>[21.4685, 17.910600000000002, 8.1968, 8.1968, ...</td>\n",
              "      <td>[23.154899999999998, 7.9596, 24.35179999999999...</td>\n",
              "      <td>[-2.8272, -2.8272, -2.8272, -2.4378, -2.5676, ...</td>\n",
              "      <td>[-73705.3985, -73705.3985, -73705.3985, -73705...</td>\n",
              "      <td>[-5.251600000000001, -4.789499999999999, -5.09...</td>\n",
              "      <td>[-11.766300000000001, -9.8254, -8.1968, -8.196...</td>\n",
              "      <td>[-7.8165, -7.9596, -2.4396000000000004, -5.877...</td>\n",
              "    </tr>\n",
              "    <tr>\n",
              "      <th>2</th>\n",
              "      <td>2</td>\n",
              "      <td>id_006f36f57</td>\n",
              "      <td>GGAAAGUGCUCAGAUAAGCUAAGCUCGAAUAGCAAUCGAAUAGAAU...</td>\n",
              "      <td>.....((((.((.....((((.(((.....)))..((((......)...</td>\n",
              "      <td>EEEEESSSSISSIIIIISSSSMSSSHHHHHSSSMMSSSSHHHHHHS...</td>\n",
              "      <td>8.800</td>\n",
              "      <td>1</td>\n",
              "      <td>107</td>\n",
              "      <td>68</td>\n",
              "      <td>[0.0931, 0.13290000000000002, 0.11280000000000...</td>\n",
              "      <td>...</td>\n",
              "      <td>[0.5413, 1.6151, 1.2947, 0.8325, 0.7992, 0.733...</td>\n",
              "      <td>[0.3869, 1.6258, 1.1616, 0.63, 0.4801, 1.0575,...</td>\n",
              "      <td>[2.4132, 3.1141, 1.1663, 0.8119999999999999, 0...</td>\n",
              "      <td>[0.6195999999999999, 1.8287000000000002, 1.155...</td>\n",
              "      <td>[1.0999, 1.9735999999999998, 1.6508, 0.9853000...</td>\n",
              "      <td>[0.3551, 1.3493, 1.0691, 0.6543000000000001, 0...</td>\n",
              "      <td>[0.1139, 1.1784, 0.7992, 0.36340000000000006, ...</td>\n",
              "      <td>[2.0728, 2.7581, 0.9442999999999999, 0.63, 0.5...</td>\n",
              "      <td>[0.413, 1.5359, 0.9299999999999999, 0.694, 0.6...</td>\n",
              "      <td>[0.8003, 1.6214, 1.3474000000000002, 0.7519, 0...</td>\n",
              "    </tr>\n",
              "    <tr>\n",
              "      <th>3</th>\n",
              "      <td>3</td>\n",
              "      <td>id_0082d463b</td>\n",
              "      <td>GGAAAAGCGCGCGCGCGCGCGCGAAAAAGCGCGCGCGCGCGCGCGC...</td>\n",
              "      <td>......((((((((((((((((......))))))))))))))))((...</td>\n",
              "      <td>EEEEEESSSSSSSSSSSSSSSSHHHHHHSSSSSSSSSSSSSSSSSS...</td>\n",
              "      <td>0.104</td>\n",
              "      <td>0</td>\n",
              "      <td>107</td>\n",
              "      <td>68</td>\n",
              "      <td>[3.5229, 6.0748, 3.0374, 3.0374, 3.0374, 3.037...</td>\n",
              "      <td>...</td>\n",
              "      <td>[3.5229, 8.3147, 3.0374, 3.0374, 3.0374, 3.037...</td>\n",
              "      <td>[73705.3985, 73704.8902, 73705.3985, 73705.398...</td>\n",
              "      <td>[15.2255, 19.5694, 5.7733, 5.7733, 5.7733, 5.7...</td>\n",
              "      <td>[121286.7181, 121285.8817, 121286.7181, 121286...</td>\n",
              "      <td>[23.0687, 6.790099999999999, 7.7824, 7.7824, 7...</td>\n",
              "      <td>[-3.5229, -3.8348999999999998, -3.0374, -3.037...</td>\n",
              "      <td>[-73705.3985, -73705.9068, -73705.3985, -73705...</td>\n",
              "      <td>[-8.375900000000001, -5.9438, -5.7733, -5.7733...</td>\n",
              "      <td>[-121286.7181, -121287.55470000001, -121286.71...</td>\n",
              "      <td>[-7.7303, -9.4347, -7.7824, -7.7824, -7.7824, ...</td>\n",
              "    </tr>\n",
              "    <tr>\n",
              "      <th>4</th>\n",
              "      <td>4</td>\n",
              "      <td>id_0087940f4</td>\n",
              "      <td>GGAAAAUAUAUAAUAUAUUAUAUAAAUAUAUUAUAGAAGUAUAAUA...</td>\n",
              "      <td>.....(((((((.((((((((((((.(((((((((....)))))))...</td>\n",
              "      <td>EEEEESSSSSSSBSSSSSSSSSSSSBSSSSSSSSSHHHHSSSSSSS...</td>\n",
              "      <td>0.423</td>\n",
              "      <td>0</td>\n",
              "      <td>107</td>\n",
              "      <td>68</td>\n",
              "      <td>[1.665, 2.1728, 2.0041, 1.2405, 0.620200000000...</td>\n",
              "      <td>...</td>\n",
              "      <td>[2.4917, 4.830500000000001, 4.8522, 1.6414, 0....</td>\n",
              "      <td>[6.319699999999999, 7.1017, 5.7904, 3.5648, 1....</td>\n",
              "      <td>[7.8308, 7.6393, 3.3280000000000003, 3.209, 0....</td>\n",
              "      <td>[4.8769, 4.2765, 2.7376, 5.671799999999999, 2....</td>\n",
              "      <td>[1.3285, 8.7371, 0.9506000000000001, 0.9503, 1...</td>\n",
              "      <td>[-0.8383, 0.4849000000000001, 0.84399999999999...</td>\n",
              "      <td>[-2.1081, -0.8257000000000003, -0.702999999999...</td>\n",
              "      <td>[1.6424000000000003, 1.6092999999999997, -0.91...</td>\n",
              "      <td>[-0.4664999999999999, -0.6870999999999996, -1....</td>\n",
              "      <td>[-1.3285, 1.5024999999999995, -1.6608, -1.6539...</td>\n",
              "    </tr>\n",
              "  </tbody>\n",
              "</table>\n",
              "<p>5 rows × 29 columns</p>\n",
              "</div>"
            ],
            "text/plain": [
              "   index            id                                           sequence  \\\n",
              "0      0  id_001f94081  GGAAAAGCUCUAAUAACAGGAGACUAGGACUACGUAUUUCUAGGUA...   \n",
              "1      1  id_0049f53ba  GGAAAAAGCGCGCGCGGUUAGCGCGCGCUUUUGCGCGCGCUGUACC...   \n",
              "2      2  id_006f36f57  GGAAAGUGCUCAGAUAAGCUAAGCUCGAAUAGCAAUCGAAUAGAAU...   \n",
              "3      3  id_0082d463b  GGAAAAGCGCGCGCGCGCGCGCGAAAAAGCGCGCGCGCGCGCGCGC...   \n",
              "4      4  id_0087940f4  GGAAAAUAUAUAAUAUAUUAUAUAAAUAUAUUAUAGAAGUAUAAUA...   \n",
              "\n",
              "                                           structure  \\\n",
              "0  .....((((((.......)))).)).((.....((..((((((......   \n",
              "1  .....(((((((((((((((((((((((....)))))))))).)))...   \n",
              "2  .....((((.((.....((((.(((.....)))..((((......)...   \n",
              "3  ......((((((((((((((((......))))))))))))))))((...   \n",
              "4  .....(((((((.((((((((((((.(((((((((....)))))))...   \n",
              "\n",
              "                                 predicted_loop_type  signal_to_noise  \\\n",
              "0  EEEEESSSSSSHHHHHHHSSSSBSSXSSIIIIISSIISSSSSSHHH...            6.894   \n",
              "1  EEEEESSSSSSSSSSSSSSSSSSSSSSSHHHHSSSSSSSSSSBSSS...            0.193   \n",
              "2  EEEEESSSSISSIIIIISSSSMSSSHHHHHSSSMMSSSSHHHHHHS...            8.800   \n",
              "3  EEEEEESSSSSSSSSSSSSSSSHHHHHHSSSSSSSSSSSSSSSSSS...            0.104   \n",
              "4  EEEEESSSSSSSBSSSSSSSSSSSSBSSSSSSSSSHHHHSSSSSSS...            0.423   \n",
              "\n",
              "   SN_filter  seq_length  seq_scored  \\\n",
              "0          1         107          68   \n",
              "1          0         107          68   \n",
              "2          1         107          68   \n",
              "3          0         107          68   \n",
              "4          0         107          68   \n",
              "\n",
              "                                    reactivity_error  ...  \\\n",
              "0  [0.1359, 0.20700000000000002, 0.1633, 0.1452, ...  ...   \n",
              "1  [2.8272, 2.8272, 2.8272, 4.7343, 2.5676, 2.567...  ...   \n",
              "2  [0.0931, 0.13290000000000002, 0.11280000000000...  ...   \n",
              "3  [3.5229, 6.0748, 3.0374, 3.0374, 3.0374, 3.037...  ...   \n",
              "4  [1.665, 2.1728, 2.0041, 1.2405, 0.620200000000...  ...   \n",
              "\n",
              "                                     reactivity_over  \\\n",
              "0  [0.4656, 1.7763000000000002, 1.286, 1.0138, 0....   \n",
              "1  [2.8272, 2.8272, 2.8272, 7.0308, 2.5676, 2.567...   \n",
              "2  [0.5413, 1.6151, 1.2947, 0.8325, 0.7992, 0.733...   \n",
              "3  [3.5229, 8.3147, 3.0374, 3.0374, 3.0374, 3.037...   \n",
              "4  [2.4917, 4.830500000000001, 4.8522, 1.6414, 0....   \n",
              "\n",
              "                                    deg_Mg_pH10_over  \\\n",
              "0  [1.0169000000000001, 3.3672, 0.389800000000000...   \n",
              "1  [73705.3985, 73705.3985, 73705.3985, 73705.398...   \n",
              "2  [0.3869, 1.6258, 1.1616, 0.63, 0.4801, 1.0575,...   \n",
              "3  [73705.3985, 73704.8902, 73705.3985, 73705.398...   \n",
              "4  [6.319699999999999, 7.1017, 5.7904, 3.5648, 1....   \n",
              "\n",
              "                                       deg_pH10_over  \\\n",
              "0  [2.6006, 3.7920000000000003, 0.3972, 1.1682, 0...   \n",
              "1  [15.145600000000002, 13.694099999999999, 5.093...   \n",
              "2  [2.4132, 3.1141, 1.1663, 0.8119999999999999, 0...   \n",
              "3  [15.2255, 19.5694, 5.7733, 5.7733, 5.7733, 5.7...   \n",
              "4  [7.8308, 7.6393, 3.3280000000000003, 3.209, 0....   \n",
              "\n",
              "                                     deg_Mg_50C_over  \\\n",
              "0  [0.5082, 3.2433, 0.3536, 1.6418000000000001, 0...   \n",
              "1  [21.4685, 17.910600000000002, 8.1968, 8.1968, ...   \n",
              "2  [0.6195999999999999, 1.8287000000000002, 1.155...   \n",
              "3  [121286.7181, 121285.8817, 121286.7181, 121286...   \n",
              "4  [4.8769, 4.2765, 2.7376, 5.671799999999999, 2....   \n",
              "\n",
              "                                        deg_50C_over  \\\n",
              "0  [0.8549, 3.8248, 1.1868, 1.5352, 0.95800000000...   \n",
              "1  [23.154899999999998, 7.9596, 24.35179999999999...   \n",
              "2  [1.0999, 1.9735999999999998, 1.6508, 0.9853000...   \n",
              "3  [23.0687, 6.790099999999999, 7.7824, 7.7824, 7...   \n",
              "4  [1.3285, 8.7371, 0.9506000000000001, 0.9503, 1...   \n",
              "\n",
              "                                    reactivity_under  \\\n",
              "0  [0.1938, 1.3623, 0.9594, 0.7234, 0.5903, 0.333...   \n",
              "1  [-2.8272, -2.8272, -2.8272, -2.4378, -2.5676, ...   \n",
              "2  [0.3551, 1.3493, 1.0691, 0.6543000000000001, 0...   \n",
              "3  [-3.5229, -3.8348999999999998, -3.0374, -3.037...   \n",
              "4  [-0.8383, 0.4849000000000001, 0.84399999999999...   \n",
              "\n",
              "                                   deg_Mg_pH10_under  \\\n",
              "0  [0.4943, 2.5988, 0.11539999999999997, 1.1258, ...   \n",
              "1  [-73705.3985, -73705.3985, -73705.3985, -73705...   \n",
              "2  [0.1139, 1.1784, 0.7992, 0.36340000000000006, ...   \n",
              "3  [-73705.3985, -73705.9068, -73705.3985, -73705...   \n",
              "4  [-2.1081, -0.8257000000000003, -0.702999999999...   \n",
              "\n",
              "                                      deg_pH10_under  \\\n",
              "0  [2.0744, 3.22, 0.20440000000000003, 0.85339999...   \n",
              "1  [-5.251600000000001, -4.789499999999999, -5.09...   \n",
              "2  [2.0728, 2.7581, 0.9442999999999999, 0.63, 0.5...   \n",
              "3  [-8.375900000000001, -5.9438, -5.7733, -5.7733...   \n",
              "4  [1.6424000000000003, 1.6092999999999997, -0.91...   \n",
              "\n",
              "                                    deg_Mg_50C_under  \\\n",
              "0  [0.20800000000000002, 2.6933000000000002, 0.16...   \n",
              "1  [-11.766300000000001, -9.8254, -8.1968, -8.196...   \n",
              "2  [0.413, 1.5359, 0.9299999999999999, 0.694, 0.6...   \n",
              "3  [-121286.7181, -121287.55470000001, -121286.71...   \n",
              "4  [-0.4664999999999999, -0.6870999999999996, -1....   \n",
              "\n",
              "                                       deg_50C_under  \n",
              "0  [0.4215, 3.1298, 0.8108, 1.1104, 0.61740000000...  \n",
              "1  [-7.8165, -7.9596, -2.4396000000000004, -5.877...  \n",
              "2  [0.8003, 1.6214, 1.3474000000000002, 0.7519, 0...  \n",
              "3  [-7.7303, -9.4347, -7.7824, -7.7824, -7.7824, ...  \n",
              "4  [-1.3285, 1.5024999999999995, -1.6608, -1.6539...  \n",
              "\n",
              "[5 rows x 29 columns]"
            ]
          },
          "execution_count": 6,
          "metadata": {},
          "output_type": "execute_result"
        }
      ],
      "source": [
        "train.head()"
      ]
    },
    {
      "cell_type": "code",
      "execution_count": null,
      "metadata": {
        "execution": {
          "iopub.execute_input": "2020-10-04T17:01:37.983152Z",
          "iopub.status.busy": "2020-10-04T17:01:37.982173Z",
          "iopub.status.idle": "2020-10-04T17:01:37.997456Z",
          "shell.execute_reply": "2020-10-04T17:01:37.996806Z"
        },
        "papermill": {
          "duration": 0.071695,
          "end_time": "2020-10-04T17:01:37.997558",
          "exception": false,
          "start_time": "2020-10-04T17:01:37.925863",
          "status": "completed"
        },
        "tags": [],
        "id": "TUpHVvKJtYGq",
        "outputId": "510a162b-cb3b-4975-a104-f9176c249c6a"
      },
      "outputs": [
        {
          "name": "stdout",
          "output_type": "stream",
          "text": [
            "(3634, 7)\n",
            "No missing values\n"
          ]
        },
        {
          "data": {
            "text/html": [
              "<div>\n",
              "<style scoped>\n",
              "    .dataframe tbody tr th:only-of-type {\n",
              "        vertical-align: middle;\n",
              "    }\n",
              "\n",
              "    .dataframe tbody tr th {\n",
              "        vertical-align: top;\n",
              "    }\n",
              "\n",
              "    .dataframe thead th {\n",
              "        text-align: right;\n",
              "    }\n",
              "</style>\n",
              "<table border=\"1\" class=\"dataframe\">\n",
              "  <thead>\n",
              "    <tr style=\"text-align: right;\">\n",
              "      <th></th>\n",
              "      <th>index</th>\n",
              "      <th>id</th>\n",
              "      <th>sequence</th>\n",
              "      <th>structure</th>\n",
              "      <th>predicted_loop_type</th>\n",
              "      <th>seq_length</th>\n",
              "      <th>seq_scored</th>\n",
              "    </tr>\n",
              "  </thead>\n",
              "  <tbody>\n",
              "    <tr>\n",
              "      <th>0</th>\n",
              "      <td>0</td>\n",
              "      <td>id_00073f8be</td>\n",
              "      <td>GGAAAAGUACGACUUGAGUACGGAAAACGUACCAACUCGAUUAAAA...</td>\n",
              "      <td>......((((((((((.(((((.....))))))))((((((((......</td>\n",
              "      <td>EEEEEESSSSSSSSSSBSSSSSHHHHHSSSSSSSSSSSSSSSSHHH...</td>\n",
              "      <td>107</td>\n",
              "      <td>68</td>\n",
              "    </tr>\n",
              "    <tr>\n",
              "      <th>1</th>\n",
              "      <td>1</td>\n",
              "      <td>id_000ae4237</td>\n",
              "      <td>GGAAACGGGUUCCGCGGAUUGCUGCUAAUAAGAGUAAUCUCUAAAU...</td>\n",
              "      <td>.....((((..((((((...(((((.....((((....)))).......</td>\n",
              "      <td>EEEEESSSSIISSSSSSIIISSSSSIIIIISSSSHHHHSSSSIIII...</td>\n",
              "      <td>130</td>\n",
              "      <td>91</td>\n",
              "    </tr>\n",
              "    <tr>\n",
              "      <th>2</th>\n",
              "      <td>2</td>\n",
              "      <td>id_00131c573</td>\n",
              "      <td>GGAAAACAAAACGGCCUGGAAGACGAAGGAAUUCGGCGCGAAGGCC...</td>\n",
              "      <td>...........((.(((.(.(..((..((..((((...))))..))...</td>\n",
              "      <td>EEEEEEEEEEESSISSSISISIISSIISSIISSSSHHHSSSSIISS...</td>\n",
              "      <td>107</td>\n",
              "      <td>68</td>\n",
              "    </tr>\n",
              "    <tr>\n",
              "      <th>3</th>\n",
              "      <td>3</td>\n",
              "      <td>id_00181fd34</td>\n",
              "      <td>GGAAAGGAUCUCUAUCGAAGGAUAGAGAUCGCUCGCGACGGCACGA...</td>\n",
              "      <td>......((((((((((....))))))))))((((((..((.(((.....</td>\n",
              "      <td>EEEEEESSSSSSSSSSHHHHSSSSSSSSSSSSSSSSIISSISSSHH...</td>\n",
              "      <td>107</td>\n",
              "      <td>68</td>\n",
              "    </tr>\n",
              "    <tr>\n",
              "      <th>4</th>\n",
              "      <td>4</td>\n",
              "      <td>id_0020473f7</td>\n",
              "      <td>GGAAACCCGCCCGCGCCCGCCCGCGCUGCUGCCGUGCCUCCUCUCC...</td>\n",
              "      <td>.....(((((((((((((((((((((((((((((((((((((((((...</td>\n",
              "      <td>EEEEESSSSSSSSSSSSSSSSSSSSSSSSSSSSSSSSSSSSSSSSS...</td>\n",
              "      <td>130</td>\n",
              "      <td>91</td>\n",
              "    </tr>\n",
              "  </tbody>\n",
              "</table>\n",
              "</div>"
            ],
            "text/plain": [
              "   index            id                                           sequence  \\\n",
              "0      0  id_00073f8be  GGAAAAGUACGACUUGAGUACGGAAAACGUACCAACUCGAUUAAAA...   \n",
              "1      1  id_000ae4237  GGAAACGGGUUCCGCGGAUUGCUGCUAAUAAGAGUAAUCUCUAAAU...   \n",
              "2      2  id_00131c573  GGAAAACAAAACGGCCUGGAAGACGAAGGAAUUCGGCGCGAAGGCC...   \n",
              "3      3  id_00181fd34  GGAAAGGAUCUCUAUCGAAGGAUAGAGAUCGCUCGCGACGGCACGA...   \n",
              "4      4  id_0020473f7  GGAAACCCGCCCGCGCCCGCCCGCGCUGCUGCCGUGCCUCCUCUCC...   \n",
              "\n",
              "                                           structure  \\\n",
              "0  ......((((((((((.(((((.....))))))))((((((((......   \n",
              "1  .....((((..((((((...(((((.....((((....)))).......   \n",
              "2  ...........((.(((.(.(..((..((..((((...))))..))...   \n",
              "3  ......((((((((((....))))))))))((((((..((.(((.....   \n",
              "4  .....(((((((((((((((((((((((((((((((((((((((((...   \n",
              "\n",
              "                                 predicted_loop_type  seq_length  seq_scored  \n",
              "0  EEEEEESSSSSSSSSSBSSSSSHHHHHSSSSSSSSSSSSSSSSHHH...         107          68  \n",
              "1  EEEEESSSSIISSSSSSIIISSSSSIIIIISSSSHHHHSSSSIIII...         130          91  \n",
              "2  EEEEEEEEEEESSISSSISISIISSIISSIISSSSHHHSSSSIISS...         107          68  \n",
              "3  EEEEEESSSSSSSSSSHHHHSSSSSSSSSSSSSSSSIISSISSSHH...         107          68  \n",
              "4  EEEEESSSSSSSSSSSSSSSSSSSSSSSSSSSSSSSSSSSSSSSSS...         130          91  "
            ]
          },
          "execution_count": 7,
          "metadata": {},
          "output_type": "execute_result"
        }
      ],
      "source": [
        "#sneak peak\n",
        "print(test.shape)\n",
        "if ~ test.isnull().values.any(): print('No missing values')\n",
        "test.head()"
      ]
    },
    {
      "cell_type": "code",
      "execution_count": null,
      "metadata": {
        "execution": {
          "iopub.execute_input": "2020-10-04T17:01:38.091458Z",
          "iopub.status.busy": "2020-10-04T17:01:38.090442Z",
          "iopub.status.idle": "2020-10-04T17:01:38.158612Z",
          "shell.execute_reply": "2020-10-04T17:01:38.159146Z"
        },
        "papermill": {
          "duration": 0.117347,
          "end_time": "2020-10-04T17:01:38.159285",
          "exception": false,
          "start_time": "2020-10-04T17:01:38.041938",
          "status": "completed"
        },
        "tags": [],
        "id": "Z3wo6qhItYGq",
        "outputId": "b2495636-866e-4549-ef9e-fc5c6b03e949"
      },
      "outputs": [
        {
          "name": "stdout",
          "output_type": "stream",
          "text": [
            "(457953, 6)\n",
            "No missing values\n"
          ]
        },
        {
          "data": {
            "text/html": [
              "<div>\n",
              "<style scoped>\n",
              "    .dataframe tbody tr th:only-of-type {\n",
              "        vertical-align: middle;\n",
              "    }\n",
              "\n",
              "    .dataframe tbody tr th {\n",
              "        vertical-align: top;\n",
              "    }\n",
              "\n",
              "    .dataframe thead th {\n",
              "        text-align: right;\n",
              "    }\n",
              "</style>\n",
              "<table border=\"1\" class=\"dataframe\">\n",
              "  <thead>\n",
              "    <tr style=\"text-align: right;\">\n",
              "      <th></th>\n",
              "      <th>id_seqpos</th>\n",
              "      <th>reactivity</th>\n",
              "      <th>deg_Mg_pH10</th>\n",
              "      <th>deg_pH10</th>\n",
              "      <th>deg_Mg_50C</th>\n",
              "      <th>deg_50C</th>\n",
              "    </tr>\n",
              "  </thead>\n",
              "  <tbody>\n",
              "    <tr>\n",
              "      <th>0</th>\n",
              "      <td>id_00073f8be_0</td>\n",
              "      <td>0.0</td>\n",
              "      <td>0.0</td>\n",
              "      <td>0.0</td>\n",
              "      <td>0.0</td>\n",
              "      <td>0.0</td>\n",
              "    </tr>\n",
              "    <tr>\n",
              "      <th>1</th>\n",
              "      <td>id_00073f8be_1</td>\n",
              "      <td>0.0</td>\n",
              "      <td>0.0</td>\n",
              "      <td>0.0</td>\n",
              "      <td>0.0</td>\n",
              "      <td>0.0</td>\n",
              "    </tr>\n",
              "    <tr>\n",
              "      <th>2</th>\n",
              "      <td>id_00073f8be_2</td>\n",
              "      <td>0.0</td>\n",
              "      <td>0.0</td>\n",
              "      <td>0.0</td>\n",
              "      <td>0.0</td>\n",
              "      <td>0.0</td>\n",
              "    </tr>\n",
              "    <tr>\n",
              "      <th>3</th>\n",
              "      <td>id_00073f8be_3</td>\n",
              "      <td>0.0</td>\n",
              "      <td>0.0</td>\n",
              "      <td>0.0</td>\n",
              "      <td>0.0</td>\n",
              "      <td>0.0</td>\n",
              "    </tr>\n",
              "    <tr>\n",
              "      <th>4</th>\n",
              "      <td>id_00073f8be_4</td>\n",
              "      <td>0.0</td>\n",
              "      <td>0.0</td>\n",
              "      <td>0.0</td>\n",
              "      <td>0.0</td>\n",
              "      <td>0.0</td>\n",
              "    </tr>\n",
              "  </tbody>\n",
              "</table>\n",
              "</div>"
            ],
            "text/plain": [
              "        id_seqpos  reactivity  deg_Mg_pH10  deg_pH10  deg_Mg_50C  deg_50C\n",
              "0  id_00073f8be_0         0.0          0.0       0.0         0.0      0.0\n",
              "1  id_00073f8be_1         0.0          0.0       0.0         0.0      0.0\n",
              "2  id_00073f8be_2         0.0          0.0       0.0         0.0      0.0\n",
              "3  id_00073f8be_3         0.0          0.0       0.0         0.0      0.0\n",
              "4  id_00073f8be_4         0.0          0.0       0.0         0.0      0.0"
            ]
          },
          "execution_count": 8,
          "metadata": {},
          "output_type": "execute_result"
        }
      ],
      "source": [
        "#sneak peak\n",
        "print(sample_sub.shape)\n",
        "if ~ sample_sub.isnull().values.any(): print('No missing values')\n",
        "sample_sub.head()"
      ]
    },
    {
      "cell_type": "markdown",
      "metadata": {
        "papermill": {
          "duration": 0.044313,
          "end_time": "2020-10-04T17:01:38.249879",
          "exception": false,
          "start_time": "2020-10-04T17:01:38.205566",
          "status": "completed"
        },
        "tags": [],
        "id": "EoGhqMXYtYGr"
      },
      "source": [
        "# Processing\n",
        "\n",
        "**From the data [description tab](https://www.kaggle.com/c/stanford-covid-vaccine/data), we must predict multiple ground truths in this competition, 5 to be exact. While the submission requires all 5, only 3 are scored: `reactivity`, `deg_Mg_pH10` and `deg_Mg_50C`**\n",
        "\n",
        "**The training features we are given are as follows:**\n",
        "\n",
        "* **id** - An arbitrary identifier for each sample.\n",
        "* **seq_scored** - (68 in Train and Public Test, 91 in Private Test) Integer value denoting the number of positions used in scoring with predicted values. This should match the length of `reactivity`, `deg_*` and `*_error_*` columns. Note that molecules used for the Private Test will be longer than those in the Train and Public Test data, so the size of this vector will be different.\n",
        "* **seq_length** - (107 in Train and Public Test, 130 in Private Test) Integer values, denotes the length of `sequence`. Note that molecules used for the Private Test will be longer than those in the Train and Public Test data, so the size of this vector will be different.\n",
        "* **sequence** - (1x107 string in Train and Public Test, 130 in Private Test) Describes the RNA sequence, a combination of `A`, `G`, `U`, and `C` for each sample. Should be 107 characters long, and the first 68 bases should correspond to the 68 positions specified in `seq_scored` (note: indexed starting at 0).\n",
        "* **structure** - (1x107 string in Train and Public Test, 130 in Private Test) An array of `(`, `)`, and `.` characters that describe whether a base is estimated to be paired or unpaired. Paired bases are denoted by opening and closing parentheses e.g. (....) means that base 0 is paired to base 5, and bases 1-4 are unpaired.\n",
        "* **reactivity** - (1x68 vector in Train and Public Test, 1x91 in Private Test) An array of floating point numbers, should have the same length as `seq_scored`. These numbers are reactivity values for the first 68 bases as denoted in `sequence`, and used to determine the likely secondary structure of the RNA sample.\n",
        "* **deg_pH10** - (1x68 vector in Train and Public Test, 1x91 in Private Test) An array of floating point numbers, should have the same length as `seq_scored`. These numbers are reactivity values for the first 68 bases as denoted in `sequence`, and used to determine the likelihood of degradation at the base/linkage after incubating without magnesium at high pH (pH 10).\n",
        "* **deg_Mg_pH10** - (1x68 vector in Train and Public Test, 1x91 in Private Test) An array of floating point numbers, should have the same length as `seq_scored`. These numbers are reactivity values for the first 68 bases as denoted in `sequence`, and used to determine the likelihood of degradation at the base/linkage after incubating with magnesium in high pH (pH 10).\n",
        "* **deg_50C** - (1x68 vector in Train and Public Test, 1x91 in Private Test) An array of floating point numbers, should have the same length as `seq_scored`. These numbers are reactivity values for the first 68 bases as denoted in `sequence`, and used to determine the likelihood of degradation at the base/linkage after incubating without magnesium at high temperature (50 degrees Celsius).\n",
        "* **deg_Mg_50C** - (1x68 vector in Train and Public Test, 1x91 in Private Test) An array of floating point numbers, should have the same length as `seq_scored`. These numbers are reactivity values for the first 68 bases as denoted in `sequence`, and used to determine the likelihood of degradation at the base/linkage after incubating with magnesium at high temperature (50 degrees Celsius).\n",
        "* **`*_error_*`** - An array of floating point numbers, should have the same length as the corresponding `reactivity` or `deg_*` columns, calculated errors in experimental values obtained in `reactivity` and `deg_*` columns.\n",
        "* **predicted_loop_type** - (1x107 string) Describes the structural context (also referred to as 'loop type')of each character in `sequence`. Loop types assigned by bpRNA from Vienna RNAfold 2 structure. From the bpRNA_documentation: S: paired \"Stem\" M: Multiloop I: Internal loop B: Bulge H: Hairpin loop E: dangling End X: eXternal loop"
      ]
    },
    {
      "cell_type": "code",
      "execution_count": null,
      "metadata": {
        "execution": {
          "iopub.execute_input": "2020-10-04T17:01:38.345070Z",
          "iopub.status.busy": "2020-10-04T17:01:38.344232Z",
          "iopub.status.idle": "2020-10-04T17:01:38.346651Z",
          "shell.execute_reply": "2020-10-04T17:01:38.347227Z"
        },
        "papermill": {
          "duration": 0.052887,
          "end_time": "2020-10-04T17:01:38.347343",
          "exception": false,
          "start_time": "2020-10-04T17:01:38.294456",
          "status": "completed"
        },
        "tags": [],
        "id": "kwQmIZNKtYGr"
      },
      "outputs": [],
      "source": [
        "#target columns\n",
        "target_cols_actual = ['reactivity', 'deg_Mg_pH10', 'deg_pH10', 'deg_Mg_50C', 'deg_50C']\n",
        "target_cols_over = ['reactivity_over', 'deg_Mg_pH10_over', 'deg_pH10_over', 'deg_Mg_50C_over', 'deg_50C_over']\n",
        "target_cols_under = ['reactivity_under', 'deg_Mg_pH10_under', 'deg_pH10_under', 'deg_Mg_50C_under', 'deg_50C_under']"
      ]
    },
    {
      "cell_type": "markdown",
      "metadata": {
        "papermill": {
          "duration": 0.044879,
          "end_time": "2020-10-04T17:01:38.436623",
          "exception": false,
          "start_time": "2020-10-04T17:01:38.391744",
          "status": "completed"
        },
        "tags": [],
        "id": "OExtMyohtYGr"
      },
      "source": [
        "**Now we create a dictionary to help us map `sequence`, `structure`, and `predicted_loop_type` to columns we can feed a model:**"
      ]
    },
    {
      "cell_type": "code",
      "execution_count": null,
      "metadata": {
        "execution": {
          "iopub.execute_input": "2020-10-04T17:01:38.537851Z",
          "iopub.status.busy": "2020-10-04T17:01:38.536942Z",
          "iopub.status.idle": "2020-10-04T17:01:38.540020Z",
          "shell.execute_reply": "2020-10-04T17:01:38.539534Z"
        },
        "papermill": {
          "duration": 0.058425,
          "end_time": "2020-10-04T17:01:38.540123",
          "exception": false,
          "start_time": "2020-10-04T17:01:38.481698",
          "status": "completed"
        },
        "tags": [],
        "id": "xLpTrfOxtYGs"
      },
      "outputs": [],
      "source": [
        "token2int = {x:i for i, x in enumerate('().ACGUBEHIMSX')}"
      ]
    },
    {
      "cell_type": "code",
      "execution_count": null,
      "metadata": {
        "execution": {
          "iopub.execute_input": "2020-10-04T17:01:38.635310Z",
          "iopub.status.busy": "2020-10-04T17:01:38.634378Z",
          "iopub.status.idle": "2020-10-04T17:01:38.638800Z",
          "shell.execute_reply": "2020-10-04T17:01:38.638203Z"
        },
        "papermill": {
          "duration": 0.055047,
          "end_time": "2020-10-04T17:01:38.638921",
          "exception": false,
          "start_time": "2020-10-04T17:01:38.583874",
          "status": "completed"
        },
        "tags": [],
        "id": "MGHB1wGitYGs",
        "outputId": "4265009c-3f3c-4943-b5e8-d31900d3c690"
      },
      "outputs": [
        {
          "data": {
            "text/plain": [
              "6"
            ]
          },
          "execution_count": 11,
          "metadata": {},
          "output_type": "execute_result"
        }
      ],
      "source": [
        "token2int['U']"
      ]
    },
    {
      "cell_type": "code",
      "execution_count": null,
      "metadata": {
        "execution": {
          "iopub.execute_input": "2020-10-04T17:01:38.758146Z",
          "iopub.status.busy": "2020-10-04T17:01:38.738871Z",
          "iopub.status.idle": "2020-10-04T17:01:38.889761Z",
          "shell.execute_reply": "2020-10-04T17:01:38.890276Z"
        },
        "papermill": {
          "duration": 0.20562,
          "end_time": "2020-10-04T17:01:38.890427",
          "exception": false,
          "start_time": "2020-10-04T17:01:38.684807",
          "status": "completed"
        },
        "tags": [],
        "id": "NbhIvKk7tYGs",
        "outputId": "2fcaba45-1c71-469c-f4f8-f8702822a1ba"
      },
      "outputs": [
        {
          "data": {
            "text/html": [
              "<div>\n",
              "<style scoped>\n",
              "    .dataframe tbody tr th:only-of-type {\n",
              "        vertical-align: middle;\n",
              "    }\n",
              "\n",
              "    .dataframe tbody tr th {\n",
              "        vertical-align: top;\n",
              "    }\n",
              "\n",
              "    .dataframe thead th {\n",
              "        text-align: right;\n",
              "    }\n",
              "</style>\n",
              "<table border=\"1\" class=\"dataframe\">\n",
              "  <thead>\n",
              "    <tr style=\"text-align: right;\">\n",
              "      <th></th>\n",
              "      <th>sequence</th>\n",
              "      <th>structure</th>\n",
              "      <th>predicted_loop_type</th>\n",
              "    </tr>\n",
              "  </thead>\n",
              "  <tbody>\n",
              "    <tr>\n",
              "      <th>0</th>\n",
              "      <td>[5, 5, 3, 3, 3, 3, 5, 4, 6, 4, 6, 3, 3, 6, 3, ...</td>\n",
              "      <td>[2, 2, 2, 2, 2, 0, 0, 0, 0, 0, 0, 2, 2, 2, 2, ...</td>\n",
              "      <td>[8, 8, 8, 8, 8, 12, 12, 12, 12, 12, 12, 9, 9, ...</td>\n",
              "    </tr>\n",
              "    <tr>\n",
              "      <th>1</th>\n",
              "      <td>[5, 5, 3, 3, 3, 3, 3, 5, 4, 5, 4, 5, 4, 5, 4, ...</td>\n",
              "      <td>[2, 2, 2, 2, 2, 0, 0, 0, 0, 0, 0, 0, 0, 0, 0, ...</td>\n",
              "      <td>[8, 8, 8, 8, 8, 12, 12, 12, 12, 12, 12, 12, 12...</td>\n",
              "    </tr>\n",
              "    <tr>\n",
              "      <th>2</th>\n",
              "      <td>[5, 5, 3, 3, 3, 5, 6, 5, 4, 6, 4, 3, 5, 3, 6, ...</td>\n",
              "      <td>[2, 2, 2, 2, 2, 0, 0, 0, 0, 2, 0, 0, 2, 2, 2, ...</td>\n",
              "      <td>[8, 8, 8, 8, 8, 12, 12, 12, 12, 10, 12, 12, 10...</td>\n",
              "    </tr>\n",
              "    <tr>\n",
              "      <th>3</th>\n",
              "      <td>[5, 5, 3, 3, 3, 3, 5, 4, 5, 4, 5, 4, 5, 4, 5, ...</td>\n",
              "      <td>[2, 2, 2, 2, 2, 2, 0, 0, 0, 0, 0, 0, 0, 0, 0, ...</td>\n",
              "      <td>[8, 8, 8, 8, 8, 8, 12, 12, 12, 12, 12, 12, 12,...</td>\n",
              "    </tr>\n",
              "    <tr>\n",
              "      <th>4</th>\n",
              "      <td>[5, 5, 3, 3, 3, 3, 6, 3, 6, 3, 6, 3, 3, 6, 3, ...</td>\n",
              "      <td>[2, 2, 2, 2, 2, 0, 0, 0, 0, 0, 0, 0, 2, 0, 0, ...</td>\n",
              "      <td>[8, 8, 8, 8, 8, 12, 12, 12, 12, 12, 12, 12, 7,...</td>\n",
              "    </tr>\n",
              "    <tr>\n",
              "      <th>...</th>\n",
              "      <td>...</td>\n",
              "      <td>...</td>\n",
              "      <td>...</td>\n",
              "    </tr>\n",
              "    <tr>\n",
              "      <th>2395</th>\n",
              "      <td>[5, 5, 3, 3, 3, 3, 6, 3, 5, 4, 3, 5, 3, 5, 5, ...</td>\n",
              "      <td>[2, 2, 2, 2, 2, 2, 2, 2, 0, 0, 2, 2, 0, 0, 2, ...</td>\n",
              "      <td>[8, 8, 8, 8, 8, 8, 8, 8, 12, 12, 10, 10, 12, 1...</td>\n",
              "    </tr>\n",
              "    <tr>\n",
              "      <th>2396</th>\n",
              "      <td>[5, 5, 3, 3, 3, 3, 4, 3, 3, 3, 3, 3, 4, 3, 3, ...</td>\n",
              "      <td>[2, 2, 2, 2, 2, 2, 2, 2, 2, 2, 2, 2, 2, 2, 2, ...</td>\n",
              "      <td>[8, 8, 8, 8, 8, 8, 8, 8, 8, 8, 8, 8, 8, 8, 8, ...</td>\n",
              "    </tr>\n",
              "    <tr>\n",
              "      <th>2397</th>\n",
              "      <td>[5, 5, 3, 3, 3, 5, 4, 4, 3, 6, 3, 4, 4, 6, 3, ...</td>\n",
              "      <td>[2, 2, 2, 2, 2, 0, 0, 0, 0, 0, 0, 0, 0, 0, 0, ...</td>\n",
              "      <td>[8, 8, 8, 8, 8, 12, 12, 12, 12, 12, 12, 12, 12...</td>\n",
              "    </tr>\n",
              "    <tr>\n",
              "      <th>2398</th>\n",
              "      <td>[5, 5, 3, 3, 3, 4, 5, 3, 6, 3, 5, 4, 3, 5, 3, ...</td>\n",
              "      <td>[2, 2, 2, 2, 2, 0, 0, 0, 0, 2, 2, 0, 2, 2, 2, ...</td>\n",
              "      <td>[8, 8, 8, 8, 8, 12, 12, 12, 12, 10, 10, 12, 9,...</td>\n",
              "    </tr>\n",
              "    <tr>\n",
              "      <th>2399</th>\n",
              "      <td>[5, 5, 3, 3, 3, 5, 4, 6, 3, 5, 5, 3, 4, 5, 6, ...</td>\n",
              "      <td>[2, 2, 2, 2, 2, 0, 0, 0, 0, 0, 0, 0, 0, 0, 0, ...</td>\n",
              "      <td>[8, 8, 8, 8, 8, 12, 12, 12, 12, 12, 12, 12, 12...</td>\n",
              "    </tr>\n",
              "  </tbody>\n",
              "</table>\n",
              "<p>2400 rows × 3 columns</p>\n",
              "</div>"
            ],
            "text/plain": [
              "                                               sequence  \\\n",
              "0     [5, 5, 3, 3, 3, 3, 5, 4, 6, 4, 6, 3, 3, 6, 3, ...   \n",
              "1     [5, 5, 3, 3, 3, 3, 3, 5, 4, 5, 4, 5, 4, 5, 4, ...   \n",
              "2     [5, 5, 3, 3, 3, 5, 6, 5, 4, 6, 4, 3, 5, 3, 6, ...   \n",
              "3     [5, 5, 3, 3, 3, 3, 5, 4, 5, 4, 5, 4, 5, 4, 5, ...   \n",
              "4     [5, 5, 3, 3, 3, 3, 6, 3, 6, 3, 6, 3, 3, 6, 3, ...   \n",
              "...                                                 ...   \n",
              "2395  [5, 5, 3, 3, 3, 3, 6, 3, 5, 4, 3, 5, 3, 5, 5, ...   \n",
              "2396  [5, 5, 3, 3, 3, 3, 4, 3, 3, 3, 3, 3, 4, 3, 3, ...   \n",
              "2397  [5, 5, 3, 3, 3, 5, 4, 4, 3, 6, 3, 4, 4, 6, 3, ...   \n",
              "2398  [5, 5, 3, 3, 3, 4, 5, 3, 6, 3, 5, 4, 3, 5, 3, ...   \n",
              "2399  [5, 5, 3, 3, 3, 5, 4, 6, 3, 5, 5, 3, 4, 5, 6, ...   \n",
              "\n",
              "                                              structure  \\\n",
              "0     [2, 2, 2, 2, 2, 0, 0, 0, 0, 0, 0, 2, 2, 2, 2, ...   \n",
              "1     [2, 2, 2, 2, 2, 0, 0, 0, 0, 0, 0, 0, 0, 0, 0, ...   \n",
              "2     [2, 2, 2, 2, 2, 0, 0, 0, 0, 2, 0, 0, 2, 2, 2, ...   \n",
              "3     [2, 2, 2, 2, 2, 2, 0, 0, 0, 0, 0, 0, 0, 0, 0, ...   \n",
              "4     [2, 2, 2, 2, 2, 0, 0, 0, 0, 0, 0, 0, 2, 0, 0, ...   \n",
              "...                                                 ...   \n",
              "2395  [2, 2, 2, 2, 2, 2, 2, 2, 0, 0, 2, 2, 0, 0, 2, ...   \n",
              "2396  [2, 2, 2, 2, 2, 2, 2, 2, 2, 2, 2, 2, 2, 2, 2, ...   \n",
              "2397  [2, 2, 2, 2, 2, 0, 0, 0, 0, 0, 0, 0, 0, 0, 0, ...   \n",
              "2398  [2, 2, 2, 2, 2, 0, 0, 0, 0, 2, 2, 0, 2, 2, 2, ...   \n",
              "2399  [2, 2, 2, 2, 2, 0, 0, 0, 0, 0, 0, 0, 0, 0, 0, ...   \n",
              "\n",
              "                                    predicted_loop_type  \n",
              "0     [8, 8, 8, 8, 8, 12, 12, 12, 12, 12, 12, 9, 9, ...  \n",
              "1     [8, 8, 8, 8, 8, 12, 12, 12, 12, 12, 12, 12, 12...  \n",
              "2     [8, 8, 8, 8, 8, 12, 12, 12, 12, 10, 12, 12, 10...  \n",
              "3     [8, 8, 8, 8, 8, 8, 12, 12, 12, 12, 12, 12, 12,...  \n",
              "4     [8, 8, 8, 8, 8, 12, 12, 12, 12, 12, 12, 12, 7,...  \n",
              "...                                                 ...  \n",
              "2395  [8, 8, 8, 8, 8, 8, 8, 8, 12, 12, 10, 10, 12, 1...  \n",
              "2396  [8, 8, 8, 8, 8, 8, 8, 8, 8, 8, 8, 8, 8, 8, 8, ...  \n",
              "2397  [8, 8, 8, 8, 8, 12, 12, 12, 12, 12, 12, 12, 12...  \n",
              "2398  [8, 8, 8, 8, 8, 12, 12, 12, 12, 10, 10, 12, 9,...  \n",
              "2399  [8, 8, 8, 8, 8, 12, 12, 12, 12, 12, 12, 12, 12...  \n",
              "\n",
              "[2400 rows x 3 columns]"
            ]
          },
          "execution_count": 12,
          "metadata": {},
          "output_type": "execute_result"
        }
      ],
      "source": [
        "cols=['sequence', 'structure', 'predicted_loop_type']\n",
        "train[cols].applymap(lambda seq: [token2int[x] for x in seq])"
      ]
    },
    {
      "cell_type": "code",
      "execution_count": null,
      "metadata": {
        "execution": {
          "iopub.execute_input": "2020-10-04T17:01:38.989812Z",
          "iopub.status.busy": "2020-10-04T17:01:38.988829Z",
          "iopub.status.idle": "2020-10-04T17:01:38.992102Z",
          "shell.execute_reply": "2020-10-04T17:01:38.991517Z"
        },
        "papermill": {
          "duration": 0.055901,
          "end_time": "2020-10-04T17:01:38.992234",
          "exception": false,
          "start_time": "2020-10-04T17:01:38.936333",
          "status": "completed"
        },
        "tags": [],
        "id": "yWUAEEzatYGs"
      },
      "outputs": [],
      "source": [
        "def preprocess_inputs(df, cols=['sequence', 'structure', 'predicted_loop_type']):\n",
        "    return np.transpose(\n",
        "        np.array(\n",
        "            df[cols]\n",
        "            .applymap(lambda seq: [token2int[x] for x in seq])\n",
        "            .values\n",
        "            .tolist()\n",
        "        ),\n",
        "        (0, 2, 1)\n",
        "    )\n"
      ]
    },
    {
      "cell_type": "markdown",
      "source": [
        "This code defines a function called `preprocess_inputs` that takes in a Pandas DataFrame `df` and a list of column names `cols` as input. \n",
        "\n",
        "The function applies a series of transformations to the data in the specified columns. Specifically, it maps each sequence element in each specified column to an integer using a dictionary called `token2int` (which is assumed to be defined elsewhere in the code), and then converts the resulting DataFrame to a 3-dimensional numpy array.\n",
        "\n",
        "The first dimension of the resulting numpy array corresponds to the number of rows in the DataFrame. The second dimension corresponds to the maximum length of any sequence in the specified columns (i.e., the maximum length of any sequence in `cols`). The third dimension corresponds to the number of columns in `cols`.\n",
        "\n",
        "Finally, the function transposes the resulting numpy array to change the order of the dimensions. The first dimension now corresponds to the number of rows in the DataFrame, the second dimension corresponds to the number of columns in `cols`, and the third dimension corresponds to the maximum length of any sequence in `cols`.\n",
        "\n",
        "The resulting numpy array can be used as input to a neural network for training or prediction."
      ],
      "metadata": {
        "id": "1cEX9hphvfUS"
      }
    },
    {
      "cell_type": "code",
      "execution_count": null,
      "metadata": {
        "execution": {
          "iopub.execute_input": "2020-10-04T17:01:39.093821Z",
          "iopub.status.busy": "2020-10-04T17:01:39.092936Z",
          "iopub.status.idle": "2020-10-04T17:01:39.588001Z",
          "shell.execute_reply": "2020-10-04T17:01:39.587429Z"
        },
        "papermill": {
          "duration": 0.549193,
          "end_time": "2020-10-04T17:01:39.588143",
          "exception": false,
          "start_time": "2020-10-04T17:01:39.038950",
          "status": "completed"
        },
        "tags": [],
        "id": "ihjsGJAqtYGt"
      },
      "outputs": [],
      "source": [
        "train_inputs = preprocess_inputs(train[train.signal_to_noise > 1])\n",
        "train_y_actual = np.array(train[train.signal_to_noise > 1][target_cols_actual].values.tolist()).transpose((0, 2, 1))\n",
        "train_y_over = np.array(train[train.signal_to_noise > 1][target_cols_over].values.tolist()).transpose((0, 2, 1))\n",
        "train_y_under = np.array(train[train.signal_to_noise > 1][target_cols_under].values.tolist()).transpose((0, 2, 1))"
      ]
    },
    {
      "cell_type": "code",
      "execution_count": null,
      "metadata": {
        "execution": {
          "iopub.execute_input": "2020-10-04T17:01:39.690075Z",
          "iopub.status.busy": "2020-10-04T17:01:39.689251Z",
          "iopub.status.idle": "2020-10-04T17:01:39.694441Z",
          "shell.execute_reply": "2020-10-04T17:01:39.693721Z"
        },
        "papermill": {
          "duration": 0.058313,
          "end_time": "2020-10-04T17:01:39.694577",
          "exception": false,
          "start_time": "2020-10-04T17:01:39.636264",
          "status": "completed"
        },
        "tags": [],
        "id": "noYy25i5tYGt",
        "outputId": "ee262359-ea28-4ab4-8e12-f4391f905786"
      },
      "outputs": [
        {
          "name": "stdout",
          "output_type": "stream",
          "text": [
            "(2096, 107, 3)\n",
            "(2096, 68, 5)\n",
            "(2096, 68, 5)\n",
            "(2096, 68, 5)\n"
          ]
        }
      ],
      "source": [
        "print (train_inputs.shape)\n",
        "\n",
        "print (train_y_actual.shape)\n",
        "print (train_y_over.shape)\n",
        "print (train_y_under.shape)"
      ]
    },
    {
      "cell_type": "markdown",
      "metadata": {
        "papermill": {
          "duration": 0.045817,
          "end_time": "2020-10-04T17:01:39.788905",
          "exception": false,
          "start_time": "2020-10-04T17:01:39.743088",
          "status": "completed"
        },
        "tags": [],
        "id": "GLk3lgP4tYGt"
      },
      "source": [
        "# Model\n",
        "\n",
        "**We begin with a simple GRU model taken from the one and only [Xhlulu](https://www.kaggle.com/xhlulu)'s notebook [here](https://www.kaggle.com/xhlulu/openvaccine-simple-gru-model)**\n",
        "\n",
        "**From the documentation of this competition, you can read that due to technical reasons, measurements cannot be carried out on the final bases of the RNA sequences we have just have experimental data (as ground truths) in 5 conditions for the first 68 bases. This means we must truncate the output of our model:**"
      ]
    },
    {
      "cell_type": "code",
      "execution_count": null,
      "metadata": {
        "execution": {
          "iopub.execute_input": "2020-10-04T17:01:39.889655Z",
          "iopub.status.busy": "2020-10-04T17:01:39.889014Z",
          "iopub.status.idle": "2020-10-04T17:01:42.820519Z",
          "shell.execute_reply": "2020-10-04T17:01:42.819284Z"
        },
        "papermill": {
          "duration": 2.984471,
          "end_time": "2020-10-04T17:01:42.820637",
          "exception": false,
          "start_time": "2020-10-04T17:01:39.836166",
          "status": "completed"
        },
        "tags": [],
        "id": "fnq2pUCftYGt"
      },
      "outputs": [],
      "source": [
        "inputs = tf.keras.layers.Input(shape=(107, 3))\n",
        "embed = tf.keras.layers.Embedding(input_dim=len(token2int), output_dim=75)(inputs)\n",
        "reshaped = tf.reshape(\n",
        "        embed, shape=(-1, embed.shape[1],  embed.shape[2] * embed.shape[3]))"
      ]
    },
    {
      "cell_type": "markdown",
      "source": [
        "This code defines a Keras input layer with a shape of `(107, 3)`. This means that each input sequence has a maximum length of 107, and there are 3 input features.\n",
        "\n",
        "An embedding layer is then defined with an input dimension of `len(token2int)` (i.e., the number of unique tokens in the input data) and an output dimension of 75. This layer maps each integer value in the input sequences to a 75-dimensional vector.\n",
        "\n",
        "The `embed` tensor is then reshaped using the `tf.reshape` function. The resulting shape of the `embed` tensor is `(batch_size, 107, 3, 75)`. The `reshape` operation flattens the last two dimensions of the tensor, resulting in a tensor with shape `(batch_size, 107, 225)`.\n",
        "\n",
        "The resulting `reshaped` tensor can be fed into subsequent layers in a neural network."
      ],
      "metadata": {
        "id": "m3-HoGDjvqH3"
      }
    },
    {
      "cell_type": "code",
      "execution_count": null,
      "metadata": {
        "execution": {
          "iopub.execute_input": "2020-10-04T17:01:42.923271Z",
          "iopub.status.busy": "2020-10-04T17:01:42.921757Z",
          "iopub.status.idle": "2020-10-04T17:01:42.926348Z",
          "shell.execute_reply": "2020-10-04T17:01:42.925811Z"
        },
        "papermill": {
          "duration": 0.057203,
          "end_time": "2020-10-04T17:01:42.926464",
          "exception": false,
          "start_time": "2020-10-04T17:01:42.869261",
          "status": "completed"
        },
        "tags": [],
        "id": "rSyWzhaltYGu",
        "outputId": "cd270599-af40-4bf1-f317-c1898d0445b1"
      },
      "outputs": [
        {
          "data": {
            "text/plain": [
              "TensorShape([None, 107, 3, 75])"
            ]
          },
          "execution_count": 17,
          "metadata": {},
          "output_type": "execute_result"
        }
      ],
      "source": [
        "embed.shape"
      ]
    },
    {
      "cell_type": "code",
      "execution_count": null,
      "metadata": {
        "execution": {
          "iopub.execute_input": "2020-10-04T17:01:43.046703Z",
          "iopub.status.busy": "2020-10-04T17:01:43.042493Z",
          "iopub.status.idle": "2020-10-04T17:01:43.050062Z",
          "shell.execute_reply": "2020-10-04T17:01:43.050542Z"
        },
        "papermill": {
          "duration": 0.075969,
          "end_time": "2020-10-04T17:01:43.050661",
          "exception": false,
          "start_time": "2020-10-04T17:01:42.974692",
          "status": "completed"
        },
        "tags": [],
        "id": "3lWZ_wXrtYGu",
        "outputId": "17e1d0c1-ecb9-4130-b12a-ae1a19cb233b"
      },
      "outputs": [
        {
          "name": "stdout",
          "output_type": "stream",
          "text": [
            "Model structure defined\n"
          ]
        }
      ],
      "source": [
        "def gru_layer(hidden_dim, dropout):\n",
        "    return tf.keras.layers.Bidirectional(\n",
        "                                tf.keras.layers.GRU(hidden_dim,\n",
        "                                dropout=dropout,\n",
        "                                return_sequences=True,\n",
        "                                kernel_initializer = 'orthogonal'))\n",
        "\n",
        "def lstm_layer(hidden_dim, dropout):\n",
        "    return tf.keras.layers.Bidirectional(\n",
        "                                tf.keras.layers.LSTM(hidden_dim,\n",
        "                                dropout=dropout,\n",
        "                                return_sequences=True,\n",
        "                                kernel_initializer = 'orthogonal'))\n",
        "\n",
        "def build_model(gru=False,seq_len=107, pred_len=68, dropout=0.5,\n",
        "                embed_dim=100, hidden_dim=128):\n",
        "    \n",
        "    inputs = tf.keras.layers.Input(shape=(seq_len, 3))\n",
        "\n",
        "    embed = tf.keras.layers.Embedding(input_dim=len(token2int), output_dim=embed_dim)(inputs)\n",
        "    reshaped = tf.reshape(\n",
        "        embed, shape=(-1, embed.shape[1],  embed.shape[2] * embed.shape[3]))\n",
        "    \n",
        "    reshaped = tf.keras.layers.SpatialDropout1D(.2)(reshaped)\n",
        "    \n",
        "    if gru:\n",
        "        hidden = gru_layer(hidden_dim, dropout)(reshaped)\n",
        "        hidden = gru_layer(hidden_dim, dropout)(hidden)\n",
        "        hidden = gru_layer(hidden_dim, dropout)(hidden)\n",
        "        \n",
        "    else:\n",
        "        hidden = lstm_layer(hidden_dim, dropout)(reshaped)\n",
        "        hidden = lstm_layer(hidden_dim, dropout)(hidden)\n",
        "        hidden = lstm_layer(hidden_dim, dropout)(hidden)\n",
        "    \n",
        "    #only making predictions on the first part of each sequence\n",
        "    dense_layer_1 = tf.keras.layers.Dense(100, activation = 'linear')(hidden)\n",
        "    dense_layer_2 = tf.keras.layers.Dense(50, activation = 'linear')(dense_layer_1)\n",
        "    dropout_layer = tf.keras.layers.Dropout(dropout)(dense_layer_2)\n",
        "    truncated = hidden[:, :pred_len]\n",
        "    \n",
        "    out = tf.keras.layers.Dense(5, activation='linear')(truncated)\n",
        "\n",
        "    model = tf.keras.Model(inputs=inputs, outputs=out)\n",
        "\n",
        "    #some optimizers\n",
        "    adam = tf.optimizers.Adam(learning_rate = 0.01, decay = 0.0001)\n",
        "    radam = tfa.optimizers.RectifiedAdam()\n",
        "    lookahead = tfa.optimizers.Lookahead(adam, sync_period=6)\n",
        "    ranger = tfa.optimizers.Lookahead(radam, sync_period=6)\n",
        "    \n",
        "    model.compile(optimizer = adam, loss='mse')\n",
        "    \n",
        "    return model\n",
        "\n",
        "print (\"Model structure defined\")"
      ]
    },
    {
      "cell_type": "markdown",
      "source": [
        "This code defines three helper functions for building GRU and LSTM layers, as well as a main function `build_model()` that constructs a Keras model for RNA secondary structure prediction.\n",
        "\n",
        "The `gru_layer()` function takes two arguments, `hidden_dim` and `dropout`, and returns a Bidirectional GRU layer with `hidden_dim` units, `dropout` rate, and an `orthogonal` kernel initializer.\n",
        "\n",
        "The `lstm_layer()` function takes the same arguments and returns a Bidirectional LSTM layer instead.\n",
        "\n",
        "The `build_model()` function constructs a Keras model for RNA secondary structure prediction. It takes several arguments, including `gru` (a boolean flag indicating whether to use GRU or LSTM layers), `seq_len` (the maximum length of the input sequence), `pred_len` (the length of the sequence to predict), `dropout` (the dropout rate for regularization), `embed_dim` (the dimensionality of the embedding layer), and `hidden_dim` (the number of units in the hidden layers).\n",
        "\n",
        "The function defines an input layer with shape `(seq_len, 3)` and applies an embedding layer with input dimension `len(token2int)` and output dimension `embed_dim`. The resulting tensor is then reshaped using `tf.reshape()` and a `SpatialDropout1D()` layer is applied.\n",
        "\n",
        "The function then applies either GRU or LSTM layers, depending on the `gru` flag. In both cases, three bidirectional layers are used. The output of the last hidden layer is truncated to the length of the predicted sequence and passed through several dense layers before a final output layer with 5 units (one for each predicted value) is applied.\n",
        "\n",
        "The function also defines several optimizers (Adam, RectifiedAdam, Lookahead, and Ranger) but ultimately compiles the model using Adam with mean squared error (MSE) loss.\n",
        "\n",
        "Finally, the function returns the compiled model."
      ],
      "metadata": {
        "id": "6AuVtLOSv6Rq"
      }
    },
    {
      "cell_type": "code",
      "execution_count": null,
      "metadata": {
        "execution": {
          "iopub.execute_input": "2020-10-04T17:01:43.165150Z",
          "iopub.status.busy": "2020-10-04T17:01:43.164234Z",
          "iopub.status.idle": "2020-10-04T17:01:43.168524Z",
          "shell.execute_reply": "2020-10-04T17:01:43.167946Z"
        },
        "papermill": {
          "duration": 0.068974,
          "end_time": "2020-10-04T17:01:43.168624",
          "exception": false,
          "start_time": "2020-10-04T17:01:43.099650",
          "status": "completed"
        },
        "tags": [],
        "id": "qvZO4pq4tYGu"
      },
      "outputs": [],
      "source": [
        "#designing an LSTM\n",
        "\n",
        "\n",
        "def lstm_model (seq_len = 107,output_dim = 100,dropout = 0.5, pred_len = 68):\n",
        "    \n",
        "    \n",
        "    inputs = tf.keras.layers.Input(shape=(seq_len, 3))\n",
        "\n",
        "    embed = tf.keras.layers.Embedding(input_dim=len(token2int), output_dim=output_dim)(inputs)\n",
        "    reshaped = tf.keras.layers.Reshape((seq_len,3*output_dim), input_shape=(seq_len, 3, output_dim))(embed)\n",
        "    \n",
        "\n",
        "\n",
        "    hidden = tf.keras.layers.Bidirectional(tf.keras.layers.LSTM (128,  dropout = dropout,kernel_initializer = 'orthogonal', return_sequences = True ))(reshaped)\n",
        "    hidden = tf.keras.layers.Bidirectional(tf.keras.layers.LSTM (128,  dropout = dropout,kernel_initializer = 'orthogonal', return_sequences = True ))(hidden)\n",
        "    hidden = tf.keras.layers.Bidirectional(tf.keras.layers.LSTM (128,  dropout = dropout,kernel_initializer = 'orthogonal', return_sequences = True ))(hidden)\n",
        "    dense_layer_1 = tf.keras.layers.Dense(100, activation = 'linear')(hidden)\n",
        "    dense_layer_2 = tf.keras.layers.Dense(50, activation = 'linear')(dense_layer_1)\n",
        "    dropout_layer = tf.keras.layers.Dropout(dropout)(dense_layer_2)\n",
        "    \n",
        "    truncated = dropout_layer[:,:pred_len]\n",
        "    output = tf.keras.layers.Dense(5, activation='linear')(truncated)\n",
        "    \n",
        "    model = tf.keras.Model(inputs=inputs, outputs=output)\n",
        "\n",
        "    adam = tf.optimizers.Adam(learning_rate = 0.01, decay = 0.0001)\n",
        "\n",
        "    model.compile(loss='mse',\n",
        "                optimizer= adam ,\n",
        "                )\n",
        "    return model\n",
        "\n",
        "\n"
      ]
    },
    {
      "cell_type": "markdown",
      "source": [
        "The above code defines a function called `lstm_model` that creates a Keras LSTM model. The function takes in several parameters, including `seq_len` (sequence length), `output_dim` (dimensionality of the output space), `dropout` (dropout rate), and `pred_len` (prediction length). \n",
        "\n",
        "The function starts by defining the model input layer with a shape of `(seq_len, 3)` and creates an embedding layer with an input dimension of `len(token2int)` and an output dimension of `output_dim`. The embedded output is then reshaped to a shape of `(seq_len, 3*output_dim)`.\n",
        "\n",
        "Next, the function creates three bidirectional LSTM layers with a hidden dimension of 128, a dropout rate of `dropout`, and a kernel initializer of 'orthogonal'. The output of the last LSTM layer is passed through two dense layers with 100 and 50 units respectively, and a linear activation function. A dropout layer with a rate of `dropout` is added after the dense layers. The final output is truncated to a length of `pred_len` and passed through a dense layer with 5 units and a linear activation function.\n",
        "\n",
        "Finally, the function compiles the model with the mean squared error loss function and the Adam optimizer with a learning rate of 0.01 and decay rate of 0.0001. The function returns the compiled model."
      ],
      "metadata": {
        "id": "-miN5IuOwKvi"
      }
    },
    {
      "cell_type": "markdown",
      "metadata": {
        "papermill": {
          "duration": 0.049267,
          "end_time": "2020-10-04T17:01:43.266252",
          "exception": false,
          "start_time": "2020-10-04T17:01:43.216985",
          "status": "completed"
        },
        "tags": [],
        "id": "KWC4Q00ZtYGu"
      },
      "source": [
        "# Training\n",
        "\n",
        "**Create train/val split now so both models are trained and evaluated on the same samples:**"
      ]
    },
    {
      "cell_type": "code",
      "execution_count": null,
      "metadata": {
        "execution": {
          "iopub.execute_input": "2020-10-04T17:01:43.371181Z",
          "iopub.status.busy": "2020-10-04T17:01:43.370078Z",
          "iopub.status.idle": "2020-10-04T17:01:43.393460Z",
          "shell.execute_reply": "2020-10-04T17:01:43.392819Z"
        },
        "papermill": {
          "duration": 0.07852,
          "end_time": "2020-10-04T17:01:43.393584",
          "exception": false,
          "start_time": "2020-10-04T17:01:43.315064",
          "status": "completed"
        },
        "tags": [],
        "id": "AtEogQX9tYGv"
      },
      "outputs": [],
      "source": [
        "# preparing data for simple LSTM and GRU\n",
        "train_data, val_data, train_labels, val_labels = train_test_split(train_inputs, train_y_actual,\n",
        "                                                                     test_size=.2, random_state=4)\n",
        "\n",
        "# preparing data for simple LSTM - over prediction\n",
        "train_data_over, val_data_over, train_labels_over, val_labels_over = train_test_split(train_inputs, train_y_over,\n",
        "                                                                     test_size=.2, random_state=4)\n",
        "\n",
        "# preparing data for simple LSTM - under prediction\n",
        "train_data_under, val_data_under, train_labels_under, val_labels_under = train_test_split(train_inputs, train_y_under,\n",
        "                                                                     test_size=.2, random_state=4)"
      ]
    },
    {
      "cell_type": "markdown",
      "metadata": {
        "papermill": {
          "duration": 0.049372,
          "end_time": "2020-10-04T17:01:43.491827",
          "exception": false,
          "start_time": "2020-10-04T17:01:43.442455",
          "status": "completed"
        },
        "tags": [],
        "id": "D3F01ACqtYGv"
      },
      "source": [
        "**We will use a simple learning rate callback for now:**"
      ]
    },
    {
      "cell_type": "code",
      "execution_count": null,
      "metadata": {
        "execution": {
          "iopub.execute_input": "2020-10-04T17:01:43.596472Z",
          "iopub.status.busy": "2020-10-04T17:01:43.594671Z",
          "iopub.status.idle": "2020-10-04T17:01:43.597118Z",
          "shell.execute_reply": "2020-10-04T17:01:43.597645Z"
        },
        "papermill": {
          "duration": 0.057069,
          "end_time": "2020-10-04T17:01:43.597774",
          "exception": false,
          "start_time": "2020-10-04T17:01:43.540705",
          "status": "completed"
        },
        "tags": [],
        "id": "YR5reJcQtYGv"
      },
      "outputs": [],
      "source": [
        "lr_callback = tf.keras.callbacks.ReduceLROnPlateau()"
      ]
    },
    {
      "cell_type": "markdown",
      "metadata": {
        "papermill": {
          "duration": 0.049247,
          "end_time": "2020-10-04T17:01:43.697372",
          "exception": false,
          "start_time": "2020-10-04T17:01:43.648125",
          "status": "completed"
        },
        "tags": [],
        "id": "LYADwhnztYGv"
      },
      "source": [
        "### 1. Simple LSTM - actual "
      ]
    },
    {
      "cell_type": "code",
      "execution_count": null,
      "metadata": {
        "execution": {
          "iopub.execute_input": "2020-10-04T17:01:43.805470Z",
          "iopub.status.busy": "2020-10-04T17:01:43.804489Z",
          "iopub.status.idle": "2020-10-04T17:01:45.992993Z",
          "shell.execute_reply": "2020-10-04T17:01:45.992337Z"
        },
        "papermill": {
          "duration": 2.24662,
          "end_time": "2020-10-04T17:01:45.993116",
          "exception": false,
          "start_time": "2020-10-04T17:01:43.746496",
          "status": "completed"
        },
        "tags": [],
        "id": "NJcqqGb_tYGv"
      },
      "outputs": [],
      "source": [
        "smpl_lstm_actual = lstm_model(seq_len = 107,output_dim = 100,dropout = 0.5, pred_len = 68)\n",
        "sv_smpl_lstm_actual = tf.keras.callbacks.ModelCheckpoint('model_smpl_lstm_actual.h5')"
      ]
    },
    {
      "cell_type": "code",
      "execution_count": null,
      "metadata": {
        "execution": {
          "iopub.execute_input": "2020-10-04T17:01:46.100078Z",
          "iopub.status.busy": "2020-10-04T17:01:46.098798Z",
          "iopub.status.idle": "2020-10-04T17:01:46.111306Z",
          "shell.execute_reply": "2020-10-04T17:01:46.110636Z"
        },
        "papermill": {
          "duration": 0.067618,
          "end_time": "2020-10-04T17:01:46.111462",
          "exception": false,
          "start_time": "2020-10-04T17:01:46.043844",
          "status": "completed"
        },
        "tags": [],
        "id": "wi1wQmobtYGw",
        "outputId": "ebd0082d-8e58-4241-a06c-80c98f77aa5a"
      },
      "outputs": [
        {
          "name": "stdout",
          "output_type": "stream",
          "text": [
            "Model: \"functional_1\"\n",
            "_________________________________________________________________\n",
            "Layer (type)                 Output Shape              Param #   \n",
            "=================================================================\n",
            "input_2 (InputLayer)         [(None, 107, 3)]          0         \n",
            "_________________________________________________________________\n",
            "embedding_1 (Embedding)      (None, 107, 3, 100)       1400      \n",
            "_________________________________________________________________\n",
            "reshape (Reshape)            (None, 107, 300)          0         \n",
            "_________________________________________________________________\n",
            "bidirectional (Bidirectional (None, 107, 256)          439296    \n",
            "_________________________________________________________________\n",
            "bidirectional_1 (Bidirection (None, 107, 256)          394240    \n",
            "_________________________________________________________________\n",
            "bidirectional_2 (Bidirection (None, 107, 256)          394240    \n",
            "_________________________________________________________________\n",
            "dense (Dense)                (None, 107, 100)          25700     \n",
            "_________________________________________________________________\n",
            "dense_1 (Dense)              (None, 107, 50)           5050      \n",
            "_________________________________________________________________\n",
            "dropout (Dropout)            (None, 107, 50)           0         \n",
            "_________________________________________________________________\n",
            "tf_op_layer_strided_slice (T [(None, 68, 50)]          0         \n",
            "_________________________________________________________________\n",
            "dense_2 (Dense)              (None, 68, 5)             255       \n",
            "=================================================================\n",
            "Total params: 1,260,181\n",
            "Trainable params: 1,260,181\n",
            "Non-trainable params: 0\n",
            "_________________________________________________________________\n"
          ]
        }
      ],
      "source": [
        "smpl_lstm_actual.summary()"
      ]
    },
    {
      "cell_type": "code",
      "execution_count": null,
      "metadata": {
        "execution": {
          "iopub.execute_input": "2020-10-04T17:01:46.218610Z",
          "iopub.status.busy": "2020-10-04T17:01:46.217893Z",
          "iopub.status.idle": "2020-10-04T17:04:32.906274Z",
          "shell.execute_reply": "2020-10-04T17:04:32.905711Z"
        },
        "papermill": {
          "duration": 166.744634,
          "end_time": "2020-10-04T17:04:32.906398",
          "exception": false,
          "start_time": "2020-10-04T17:01:46.161764",
          "status": "completed"
        },
        "tags": [],
        "id": "kw5He6P0tYGw",
        "outputId": "88ddae2c-df89-4ca4-9843-b8fd8796eed5"
      },
      "outputs": [
        {
          "name": "stdout",
          "output_type": "stream",
          "text": [
            "Epoch 1/90\n",
            "27/27 - 4s - loss: 0.4456 - val_loss: 0.2117\n",
            "Epoch 2/90\n",
            "27/27 - 2s - loss: 0.2063 - val_loss: 0.1712\n",
            "Epoch 3/90\n",
            "27/27 - 2s - loss: 0.1814 - val_loss: 0.1592\n",
            "Epoch 4/90\n",
            "27/27 - 2s - loss: 0.1674 - val_loss: 0.1499\n",
            "Epoch 5/90\n",
            "27/27 - 2s - loss: 0.1568 - val_loss: 0.1414\n",
            "Epoch 6/90\n",
            "27/27 - 2s - loss: 0.1496 - val_loss: 0.1421\n",
            "Epoch 7/90\n",
            "27/27 - 2s - loss: 0.1466 - val_loss: 0.1366\n",
            "Epoch 8/90\n",
            "27/27 - 2s - loss: 0.1415 - val_loss: 0.1299\n",
            "Epoch 9/90\n",
            "27/27 - 2s - loss: 0.1363 - val_loss: 0.1246\n",
            "Epoch 10/90\n",
            "27/27 - 2s - loss: 0.1323 - val_loss: 0.1214\n",
            "Epoch 11/90\n",
            "27/27 - 2s - loss: 0.1289 - val_loss: 0.1209\n",
            "Epoch 12/90\n",
            "27/27 - 2s - loss: 0.1245 - val_loss: 0.1129\n",
            "Epoch 13/90\n",
            "27/27 - 2s - loss: 0.1208 - val_loss: 0.1101\n",
            "Epoch 14/90\n",
            "27/27 - 2s - loss: 0.1190 - val_loss: 0.1102\n",
            "Epoch 15/90\n",
            "27/27 - 2s - loss: 0.1150 - val_loss: 0.1035\n",
            "Epoch 16/90\n",
            "27/27 - 2s - loss: 0.1112 - val_loss: 0.1045\n",
            "Epoch 17/90\n",
            "27/27 - 2s - loss: 0.1095 - val_loss: 0.1046\n",
            "Epoch 18/90\n",
            "27/27 - 2s - loss: 0.1069 - val_loss: 0.0963\n",
            "Epoch 19/90\n",
            "27/27 - 2s - loss: 0.1046 - val_loss: 0.1009\n",
            "Epoch 20/90\n",
            "27/27 - 2s - loss: 0.1020 - val_loss: 0.0936\n",
            "Epoch 21/90\n",
            "27/27 - 2s - loss: 0.0989 - val_loss: 0.0949\n",
            "Epoch 22/90\n",
            "27/27 - 2s - loss: 0.0981 - val_loss: 0.0923\n",
            "Epoch 23/90\n",
            "27/27 - 2s - loss: 0.0955 - val_loss: 0.0889\n",
            "Epoch 24/90\n",
            "27/27 - 2s - loss: 0.0952 - val_loss: 0.0893\n",
            "Epoch 25/90\n",
            "27/27 - 2s - loss: 0.0938 - val_loss: 0.0859\n",
            "Epoch 26/90\n",
            "27/27 - 2s - loss: 0.0918 - val_loss: 0.0849\n",
            "Epoch 27/90\n",
            "27/27 - 2s - loss: 0.0906 - val_loss: 0.0830\n",
            "Epoch 28/90\n",
            "27/27 - 2s - loss: 0.0888 - val_loss: 0.0830\n",
            "Epoch 29/90\n",
            "27/27 - 2s - loss: 0.0877 - val_loss: 0.0810\n",
            "Epoch 30/90\n",
            "27/27 - 2s - loss: 0.0864 - val_loss: 0.0819\n",
            "Epoch 31/90\n",
            "27/27 - 2s - loss: 0.0860 - val_loss: 0.0818\n",
            "Epoch 32/90\n",
            "27/27 - 2s - loss: 0.0869 - val_loss: 0.0786\n",
            "Epoch 33/90\n",
            "27/27 - 2s - loss: 0.0838 - val_loss: 0.0776\n",
            "Epoch 34/90\n",
            "27/27 - 2s - loss: 0.0833 - val_loss: 0.0789\n",
            "Epoch 35/90\n",
            "27/27 - 2s - loss: 0.0814 - val_loss: 0.0754\n",
            "Epoch 36/90\n",
            "27/27 - 2s - loss: 0.0804 - val_loss: 0.0760\n",
            "Epoch 37/90\n",
            "27/27 - 2s - loss: 0.0804 - val_loss: 0.0765\n",
            "Epoch 38/90\n",
            "27/27 - 2s - loss: 0.0795 - val_loss: 0.0751\n",
            "Epoch 39/90\n",
            "27/27 - 2s - loss: 0.0792 - val_loss: 0.0742\n",
            "Epoch 40/90\n",
            "27/27 - 2s - loss: 0.0787 - val_loss: 0.0747\n",
            "Epoch 41/90\n",
            "27/27 - 2s - loss: 0.0775 - val_loss: 0.0746\n",
            "Epoch 42/90\n",
            "27/27 - 2s - loss: 0.0761 - val_loss: 0.0741\n",
            "Epoch 43/90\n",
            "27/27 - 2s - loss: 0.0756 - val_loss: 0.0733\n",
            "Epoch 44/90\n",
            "27/27 - 2s - loss: 0.0756 - val_loss: 0.0740\n",
            "Epoch 45/90\n",
            "27/27 - 2s - loss: 0.0754 - val_loss: 0.0728\n",
            "Epoch 46/90\n",
            "27/27 - 2s - loss: 0.0743 - val_loss: 0.0725\n",
            "Epoch 47/90\n",
            "27/27 - 2s - loss: 0.0738 - val_loss: 0.0716\n",
            "Epoch 48/90\n",
            "27/27 - 2s - loss: 0.0726 - val_loss: 0.0706\n",
            "Epoch 49/90\n",
            "27/27 - 2s - loss: 0.0725 - val_loss: 0.0705\n",
            "Epoch 50/90\n",
            "27/27 - 2s - loss: 0.0712 - val_loss: 0.0701\n",
            "Epoch 51/90\n",
            "27/27 - 2s - loss: 0.0710 - val_loss: 0.0713\n",
            "Epoch 52/90\n",
            "27/27 - 2s - loss: 0.0709 - val_loss: 0.0708\n",
            "Epoch 53/90\n",
            "27/27 - 2s - loss: 0.0713 - val_loss: 0.0715\n",
            "Epoch 54/90\n",
            "27/27 - 2s - loss: 0.0699 - val_loss: 0.0694\n",
            "Epoch 55/90\n",
            "27/27 - 2s - loss: 0.0695 - val_loss: 0.0705\n",
            "Epoch 56/90\n",
            "27/27 - 2s - loss: 0.0692 - val_loss: 0.0703\n",
            "Epoch 57/90\n",
            "27/27 - 2s - loss: 0.0688 - val_loss: 0.0698\n",
            "Epoch 58/90\n",
            "27/27 - 2s - loss: 0.0676 - val_loss: 0.0701\n",
            "Epoch 59/90\n",
            "27/27 - 2s - loss: 0.0687 - val_loss: 0.0709\n",
            "Epoch 60/90\n",
            "27/27 - 2s - loss: 0.0673 - val_loss: 0.0691\n",
            "Epoch 61/90\n",
            "27/27 - 2s - loss: 0.0675 - val_loss: 0.0680\n",
            "Epoch 62/90\n",
            "27/27 - 2s - loss: 0.0662 - val_loss: 0.0691\n",
            "Epoch 63/90\n",
            "27/27 - 2s - loss: 0.0656 - val_loss: 0.0679\n",
            "Epoch 64/90\n",
            "27/27 - 2s - loss: 0.0652 - val_loss: 0.0675\n",
            "Epoch 65/90\n",
            "27/27 - 2s - loss: 0.0642 - val_loss: 0.0679\n",
            "Epoch 66/90\n",
            "27/27 - 2s - loss: 0.0644 - val_loss: 0.0682\n",
            "Epoch 67/90\n",
            "27/27 - 2s - loss: 0.0639 - val_loss: 0.0690\n",
            "Epoch 68/90\n",
            "27/27 - 2s - loss: 0.0646 - val_loss: 0.0691\n",
            "Epoch 69/90\n",
            "27/27 - 2s - loss: 0.0633 - val_loss: 0.0678\n",
            "Epoch 70/90\n",
            "27/27 - 2s - loss: 0.0622 - val_loss: 0.0669\n",
            "Epoch 71/90\n",
            "27/27 - 2s - loss: 0.0630 - val_loss: 0.0688\n",
            "Epoch 72/90\n",
            "27/27 - 2s - loss: 0.0637 - val_loss: 0.0684\n",
            "Epoch 73/90\n",
            "27/27 - 2s - loss: 0.0620 - val_loss: 0.0664\n",
            "Epoch 74/90\n",
            "27/27 - 2s - loss: 0.0615 - val_loss: 0.0688\n",
            "Epoch 75/90\n",
            "27/27 - 2s - loss: 0.0623 - val_loss: 0.0672\n",
            "Epoch 76/90\n",
            "27/27 - 2s - loss: 0.0612 - val_loss: 0.0676\n",
            "Epoch 77/90\n",
            "27/27 - 2s - loss: 0.0613 - val_loss: 0.0653\n",
            "Epoch 78/90\n",
            "27/27 - 2s - loss: 0.0603 - val_loss: 0.0654\n",
            "Epoch 79/90\n",
            "27/27 - 2s - loss: 0.0603 - val_loss: 0.0663\n",
            "Epoch 80/90\n",
            "27/27 - 2s - loss: 0.0598 - val_loss: 0.0654\n",
            "Epoch 81/90\n",
            "27/27 - 2s - loss: 0.0592 - val_loss: 0.0689\n",
            "Epoch 82/90\n",
            "27/27 - 2s - loss: 0.0590 - val_loss: 0.0646\n",
            "Epoch 83/90\n",
            "27/27 - 2s - loss: 0.0586 - val_loss: 0.0648\n",
            "Epoch 84/90\n",
            "27/27 - 2s - loss: 0.0588 - val_loss: 0.0647\n",
            "Epoch 85/90\n",
            "27/27 - 2s - loss: 0.0586 - val_loss: 0.0661\n",
            "Epoch 86/90\n",
            "27/27 - 2s - loss: 0.0577 - val_loss: 0.0644\n",
            "Epoch 87/90\n",
            "27/27 - 2s - loss: 0.0581 - val_loss: 0.0643\n",
            "Epoch 88/90\n",
            "27/27 - 2s - loss: 0.0575 - val_loss: 0.0649\n",
            "Epoch 89/90\n",
            "27/27 - 2s - loss: 0.0576 - val_loss: 0.0645\n",
            "Epoch 90/90\n",
            "27/27 - 2s - loss: 0.0572 - val_loss: 0.0649\n",
            "Min training loss=0.05721202865242958, min validation loss=0.06429175287485123\n"
          ]
        }
      ],
      "source": [
        "\n",
        "history_smpl_lstm_actual = smpl_lstm_actual.fit(\n",
        "    train_data, train_labels, \n",
        "    validation_data=(val_data,val_labels),\n",
        "    batch_size=64,\n",
        "    epochs=90,\n",
        "    callbacks=[lr_callback,sv_smpl_lstm_actual],\n",
        "    verbose = 2\n",
        ")\n",
        "\n",
        "print(f\"Min training loss={min(history_smpl_lstm_actual.history['loss'])}, min validation loss={min(history_smpl_lstm_actual.history['val_loss'])}\")"
      ]
    },
    {
      "cell_type": "markdown",
      "metadata": {
        "papermill": {
          "duration": 0.115745,
          "end_time": "2020-10-04T17:04:33.142348",
          "exception": false,
          "start_time": "2020-10-04T17:04:33.026603",
          "status": "completed"
        },
        "tags": [],
        "id": "F1u8DckrtYGw"
      },
      "source": [
        "### LSTM - over prediction"
      ]
    },
    {
      "cell_type": "code",
      "execution_count": null,
      "metadata": {
        "execution": {
          "iopub.execute_input": "2020-10-04T17:04:33.383472Z",
          "iopub.status.busy": "2020-10-04T17:04:33.382853Z",
          "iopub.status.idle": "2020-10-04T17:04:35.438577Z",
          "shell.execute_reply": "2020-10-04T17:04:35.437948Z"
        },
        "papermill": {
          "duration": 2.179754,
          "end_time": "2020-10-04T17:04:35.438713",
          "exception": false,
          "start_time": "2020-10-04T17:04:33.258959",
          "status": "completed"
        },
        "tags": [],
        "id": "lIH9T6S0tYGw"
      },
      "outputs": [],
      "source": [
        "smpl_lstm_over = lstm_model(seq_len = 107,output_dim = 100,dropout = 0.5, pred_len = 68)\n",
        "sv_smpl_lstm_over = tf.keras.callbacks.ModelCheckpoint('model_smpl_lstm_over.h5')"
      ]
    },
    {
      "cell_type": "code",
      "execution_count": null,
      "metadata": {
        "execution": {
          "iopub.execute_input": "2020-10-04T17:04:35.683011Z",
          "iopub.status.busy": "2020-10-04T17:04:35.681897Z",
          "iopub.status.idle": "2020-10-04T17:07:01.662697Z",
          "shell.execute_reply": "2020-10-04T17:07:01.664111Z"
        },
        "papermill": {
          "duration": 146.107324,
          "end_time": "2020-10-04T17:07:01.664323",
          "exception": false,
          "start_time": "2020-10-04T17:04:35.556999",
          "status": "completed"
        },
        "tags": [],
        "id": "-nyE4DK7tYGw",
        "outputId": "9a511a74-51e9-431c-a593-3f2637fe0ea9"
      },
      "outputs": [
        {
          "name": "stdout",
          "output_type": "stream",
          "text": [
            "Epoch 1/80\n",
            "27/27 - 4s - loss: 0.8215 - val_loss: 0.3210\n",
            "Epoch 2/80\n",
            "27/27 - 2s - loss: 0.2856 - val_loss: 0.2366\n",
            "Epoch 3/80\n",
            "27/27 - 2s - loss: 0.2431 - val_loss: 0.2212\n",
            "Epoch 4/80\n",
            "27/27 - 2s - loss: 0.2198 - val_loss: 0.1917\n",
            "Epoch 5/80\n",
            "27/27 - 2s - loss: 0.2039 - val_loss: 0.1848\n",
            "Epoch 6/80\n",
            "27/27 - 2s - loss: 0.1943 - val_loss: 0.1755\n",
            "Epoch 7/80\n",
            "27/27 - 2s - loss: 0.1879 - val_loss: 0.1790\n",
            "Epoch 8/80\n",
            "27/27 - 2s - loss: 0.1834 - val_loss: 0.1704\n",
            "Epoch 9/80\n",
            "27/27 - 2s - loss: 0.1775 - val_loss: 0.1630\n",
            "Epoch 10/80\n",
            "27/27 - 2s - loss: 0.1705 - val_loss: 0.1598\n",
            "Epoch 11/80\n",
            "27/27 - 2s - loss: 0.1663 - val_loss: 0.1644\n",
            "Epoch 12/80\n",
            "27/27 - 2s - loss: 0.1652 - val_loss: 0.1569\n",
            "Epoch 13/80\n",
            "27/27 - 2s - loss: 0.1579 - val_loss: 0.1461\n",
            "Epoch 14/80\n",
            "27/27 - 2s - loss: 0.1527 - val_loss: 0.1424\n",
            "Epoch 15/80\n",
            "27/27 - 2s - loss: 0.1495 - val_loss: 0.1397\n",
            "Epoch 16/80\n",
            "27/27 - 2s - loss: 0.1479 - val_loss: 0.1364\n",
            "Epoch 17/80\n",
            "27/27 - 2s - loss: 0.1426 - val_loss: 0.1348\n",
            "Epoch 18/80\n",
            "27/27 - 2s - loss: 0.1402 - val_loss: 0.1320\n",
            "Epoch 19/80\n",
            "27/27 - 2s - loss: 0.1387 - val_loss: 0.1339\n",
            "Epoch 20/80\n",
            "27/27 - 2s - loss: 0.1363 - val_loss: 0.1280\n",
            "Epoch 21/80\n",
            "27/27 - 2s - loss: 0.1338 - val_loss: 0.1285\n",
            "Epoch 22/80\n",
            "27/27 - 2s - loss: 0.1316 - val_loss: 0.1261\n",
            "Epoch 23/80\n",
            "27/27 - 2s - loss: 0.1279 - val_loss: 0.1312\n",
            "Epoch 24/80\n",
            "27/27 - 2s - loss: 0.1285 - val_loss: 0.1238\n",
            "Epoch 25/80\n",
            "27/27 - 2s - loss: 0.1262 - val_loss: 0.1234\n",
            "Epoch 26/80\n",
            "27/27 - 2s - loss: 0.1255 - val_loss: 0.1202\n",
            "Epoch 27/80\n",
            "27/27 - 2s - loss: 0.1220 - val_loss: 0.1190\n",
            "Epoch 28/80\n",
            "27/27 - 2s - loss: 0.1227 - val_loss: 0.1170\n",
            "Epoch 29/80\n",
            "27/27 - 2s - loss: 0.1191 - val_loss: 0.1150\n",
            "Epoch 30/80\n",
            "27/27 - 2s - loss: 0.1178 - val_loss: 0.1144\n",
            "Epoch 31/80\n",
            "27/27 - 2s - loss: 0.1163 - val_loss: 0.1114\n",
            "Epoch 32/80\n",
            "27/27 - 2s - loss: 0.1151 - val_loss: 0.1126\n",
            "Epoch 33/80\n",
            "27/27 - 2s - loss: 0.1145 - val_loss: 0.1137\n",
            "Epoch 34/80\n",
            "27/27 - 2s - loss: 0.1118 - val_loss: 0.1097\n",
            "Epoch 35/80\n",
            "27/27 - 2s - loss: 0.1105 - val_loss: 0.1075\n",
            "Epoch 36/80\n",
            "27/27 - 2s - loss: 0.1091 - val_loss: 0.1106\n",
            "Epoch 37/80\n",
            "27/27 - 2s - loss: 0.1105 - val_loss: 0.1106\n",
            "Epoch 38/80\n",
            "27/27 - 2s - loss: 0.1085 - val_loss: 0.1096\n",
            "Epoch 39/80\n",
            "27/27 - 2s - loss: 0.1049 - val_loss: 0.1070\n",
            "Epoch 40/80\n",
            "27/27 - 2s - loss: 0.1038 - val_loss: 0.1045\n",
            "Epoch 41/80\n",
            "27/27 - 2s - loss: 0.1022 - val_loss: 0.1030\n",
            "Epoch 42/80\n",
            "27/27 - 2s - loss: 0.1028 - val_loss: 0.1077\n",
            "Epoch 43/80\n",
            "27/27 - 2s - loss: 0.1015 - val_loss: 0.1057\n",
            "Epoch 44/80\n",
            "27/27 - 2s - loss: 0.1004 - val_loss: 0.1012\n",
            "Epoch 45/80\n",
            "27/27 - 2s - loss: 0.0985 - val_loss: 0.1015\n",
            "Epoch 46/80\n",
            "27/27 - 2s - loss: 0.0982 - val_loss: 0.1065\n",
            "Epoch 47/80\n",
            "27/27 - 2s - loss: 0.0979 - val_loss: 0.1025\n",
            "Epoch 48/80\n",
            "27/27 - 2s - loss: 0.0955 - val_loss: 0.1009\n",
            "Epoch 49/80\n",
            "27/27 - 2s - loss: 0.0955 - val_loss: 0.1086\n",
            "Epoch 50/80\n",
            "27/27 - 2s - loss: 0.0967 - val_loss: 0.0986\n",
            "Epoch 51/80\n",
            "27/27 - 2s - loss: 0.0935 - val_loss: 0.1031\n",
            "Epoch 52/80\n",
            "27/27 - 2s - loss: 0.0935 - val_loss: 0.0989\n",
            "Epoch 53/80\n",
            "27/27 - 2s - loss: 0.0923 - val_loss: 0.0990\n",
            "Epoch 54/80\n",
            "27/27 - 2s - loss: 0.0908 - val_loss: 0.0973\n",
            "Epoch 55/80\n",
            "27/27 - 2s - loss: 0.0892 - val_loss: 0.0971\n",
            "Epoch 56/80\n",
            "27/27 - 2s - loss: 0.0896 - val_loss: 0.1003\n",
            "Epoch 57/80\n",
            "27/27 - 2s - loss: 0.0904 - val_loss: 0.0976\n",
            "Epoch 58/80\n",
            "27/27 - 2s - loss: 0.0889 - val_loss: 0.0965\n",
            "Epoch 59/80\n",
            "27/27 - 2s - loss: 0.0881 - val_loss: 0.0995\n",
            "Epoch 60/80\n",
            "27/27 - 2s - loss: 0.0877 - val_loss: 0.0973\n",
            "Epoch 61/80\n",
            "27/27 - 2s - loss: 0.0870 - val_loss: 0.0961\n",
            "Epoch 62/80\n",
            "27/27 - 2s - loss: 0.0867 - val_loss: 0.0967\n",
            "Epoch 63/80\n",
            "27/27 - 2s - loss: 0.0851 - val_loss: 0.0949\n",
            "Epoch 64/80\n",
            "27/27 - 2s - loss: 0.0845 - val_loss: 0.0941\n",
            "Epoch 65/80\n",
            "27/27 - 2s - loss: 0.0841 - val_loss: 0.0941\n",
            "Epoch 66/80\n",
            "27/27 - 2s - loss: 0.0837 - val_loss: 0.0938\n",
            "Epoch 67/80\n",
            "27/27 - 2s - loss: 0.0826 - val_loss: 0.0949\n",
            "Epoch 68/80\n",
            "27/27 - 2s - loss: 0.0866 - val_loss: 0.0964\n",
            "Epoch 69/80\n",
            "27/27 - 2s - loss: 0.0839 - val_loss: 0.0946\n",
            "Epoch 70/80\n",
            "27/27 - 2s - loss: 0.0813 - val_loss: 0.0987\n",
            "Epoch 71/80\n",
            "27/27 - 2s - loss: 0.0819 - val_loss: 0.0937\n",
            "Epoch 72/80\n",
            "27/27 - 2s - loss: 0.0810 - val_loss: 0.0950\n",
            "Epoch 73/80\n",
            "27/27 - 2s - loss: 0.0803 - val_loss: 0.0933\n",
            "Epoch 74/80\n",
            "27/27 - 2s - loss: 0.0792 - val_loss: 0.0935\n",
            "Epoch 75/80\n",
            "27/27 - 2s - loss: 0.0796 - val_loss: 0.0942\n",
            "Epoch 76/80\n",
            "27/27 - 2s - loss: 0.0797 - val_loss: 0.0923\n",
            "Epoch 77/80\n",
            "27/27 - 2s - loss: 0.0787 - val_loss: 0.0919\n",
            "Epoch 78/80\n",
            "27/27 - 2s - loss: 0.0782 - val_loss: 0.0922\n",
            "Epoch 79/80\n",
            "27/27 - 2s - loss: 0.0772 - val_loss: 0.0936\n",
            "Epoch 80/80\n",
            "27/27 - 2s - loss: 0.0764 - val_loss: 0.0918\n",
            "Min training loss=0.07636725902557373, min validation loss=0.0917864590883255\n"
          ]
        }
      ],
      "source": [
        "history_smpl_lstm_over = smpl_lstm_over.fit(\n",
        "    train_data_over, train_labels_over, \n",
        "    validation_data=(val_data_over,val_labels_over),\n",
        "    batch_size=64,\n",
        "    epochs=80,\n",
        "    callbacks=[lr_callback,sv_smpl_lstm_over],\n",
        "    verbose = 2\n",
        ")\n",
        "\n",
        "print(f\"Min training loss={min(history_smpl_lstm_over.history['loss'])}, min validation loss={min(history_smpl_lstm_over.history['val_loss'])}\")"
      ]
    },
    {
      "cell_type": "markdown",
      "metadata": {
        "papermill": {
          "duration": 0.173473,
          "end_time": "2020-10-04T17:07:02.114233",
          "exception": false,
          "start_time": "2020-10-04T17:07:01.940760",
          "status": "completed"
        },
        "tags": [],
        "id": "iwHsqWCytYGw"
      },
      "source": [
        "### LSTM - under prediction"
      ]
    },
    {
      "cell_type": "code",
      "execution_count": null,
      "metadata": {
        "execution": {
          "iopub.execute_input": "2020-10-04T17:07:02.474429Z",
          "iopub.status.busy": "2020-10-04T17:07:02.473305Z",
          "iopub.status.idle": "2020-10-04T17:07:04.404556Z",
          "shell.execute_reply": "2020-10-04T17:07:04.403872Z"
        },
        "papermill": {
          "duration": 2.115407,
          "end_time": "2020-10-04T17:07:04.404696",
          "exception": false,
          "start_time": "2020-10-04T17:07:02.289289",
          "status": "completed"
        },
        "tags": [],
        "id": "aDPc6lgktYGx"
      },
      "outputs": [],
      "source": [
        "smpl_lstm_under = lstm_model(seq_len = 107,output_dim = 100,dropout = 0.5, pred_len = 68)\n",
        "sv_smpl_lstm_under = tf.keras.callbacks.ModelCheckpoint('model_smpl_lstm_under.h5')"
      ]
    },
    {
      "cell_type": "markdown",
      "source": [
        "This code defines a TensorFlow Keras model called `smpl_lstm_under` using the `lstm_model` function. The model takes input sequences of length 107 with 3 features. The output of the model is a sequence of length 68 with 5 features. The model architecture includes three bidirectional LSTM layers, each with 128 units and a dropout rate of 0.5. The output of the last LSTM layer is fed through two dense layers with 100 and 50 units, respectively, and a final dropout layer. The truncated output is passed through a dense layer with 5 units to obtain the final output. \n",
        "\n",
        "The `sv_smpl_lstm_under` callback is used to save the best model during training. The best model is determined by monitoring the validation loss. The model will be saved to a file called `model_smpl_lstm_under.h5`."
      ],
      "metadata": {
        "id": "_0zpWBAIwkiG"
      }
    },
    {
      "cell_type": "code",
      "execution_count": null,
      "metadata": {
        "execution": {
          "iopub.execute_input": "2020-10-04T17:07:04.774703Z",
          "iopub.status.busy": "2020-10-04T17:07:04.773670Z",
          "iopub.status.idle": "2020-10-04T17:09:30.912582Z",
          "shell.execute_reply": "2020-10-04T17:09:30.913143Z"
        },
        "papermill": {
          "duration": 146.329096,
          "end_time": "2020-10-04T17:09:30.913295",
          "exception": false,
          "start_time": "2020-10-04T17:07:04.584199",
          "status": "completed"
        },
        "tags": [],
        "id": "WVBKjcxKtYGx",
        "outputId": "91351f49-3f8d-44aa-e0b4-a80ac8c47e9f"
      },
      "outputs": [
        {
          "name": "stdout",
          "output_type": "stream",
          "text": [
            "Epoch 1/80\n",
            "27/27 - 4s - loss: 0.4370 - val_loss: 0.1857\n",
            "Epoch 2/80\n",
            "27/27 - 2s - loss: 0.1854 - val_loss: 0.1593\n",
            "Epoch 3/80\n",
            "27/27 - 2s - loss: 0.1661 - val_loss: 0.1524\n",
            "Epoch 4/80\n",
            "27/27 - 2s - loss: 0.1549 - val_loss: 0.1407\n",
            "Epoch 5/80\n",
            "27/27 - 2s - loss: 0.1467 - val_loss: 0.1392\n",
            "Epoch 6/80\n",
            "27/27 - 2s - loss: 0.1384 - val_loss: 0.1308\n",
            "Epoch 7/80\n",
            "27/27 - 2s - loss: 0.1317 - val_loss: 0.1211\n",
            "Epoch 8/80\n",
            "27/27 - 2s - loss: 0.1287 - val_loss: 0.1278\n",
            "Epoch 9/80\n",
            "27/27 - 2s - loss: 0.1279 - val_loss: 0.1151\n",
            "Epoch 10/80\n",
            "27/27 - 2s - loss: 0.1227 - val_loss: 0.1186\n",
            "Epoch 11/80\n",
            "27/27 - 2s - loss: 0.1193 - val_loss: 0.1133\n",
            "Epoch 12/80\n",
            "27/27 - 2s - loss: 0.1165 - val_loss: 0.1083\n",
            "Epoch 13/80\n",
            "27/27 - 2s - loss: 0.1135 - val_loss: 0.1028\n",
            "Epoch 14/80\n",
            "27/27 - 2s - loss: 0.1108 - val_loss: 0.1012\n",
            "Epoch 15/80\n",
            "27/27 - 2s - loss: 0.1061 - val_loss: 0.0977\n",
            "Epoch 16/80\n",
            "27/27 - 2s - loss: 0.1036 - val_loss: 0.0983\n",
            "Epoch 17/80\n",
            "27/27 - 2s - loss: 0.1009 - val_loss: 0.0933\n",
            "Epoch 18/80\n",
            "27/27 - 2s - loss: 0.0992 - val_loss: 0.0909\n",
            "Epoch 19/80\n",
            "27/27 - 2s - loss: 0.0974 - val_loss: 0.0890\n",
            "Epoch 20/80\n",
            "27/27 - 2s - loss: 0.0944 - val_loss: 0.0915\n",
            "Epoch 21/80\n",
            "27/27 - 2s - loss: 0.0937 - val_loss: 0.0885\n",
            "Epoch 22/80\n",
            "27/27 - 2s - loss: 0.0914 - val_loss: 0.0861\n",
            "Epoch 23/80\n",
            "27/27 - 2s - loss: 0.0920 - val_loss: 0.0862\n",
            "Epoch 24/80\n",
            "27/27 - 2s - loss: 0.0891 - val_loss: 0.0821\n",
            "Epoch 25/80\n",
            "27/27 - 2s - loss: 0.0864 - val_loss: 0.0804\n",
            "Epoch 26/80\n",
            "27/27 - 2s - loss: 0.0858 - val_loss: 0.0805\n",
            "Epoch 27/80\n",
            "27/27 - 2s - loss: 0.0849 - val_loss: 0.0783\n",
            "Epoch 28/80\n",
            "27/27 - 2s - loss: 0.0827 - val_loss: 0.0772\n",
            "Epoch 29/80\n",
            "27/27 - 2s - loss: 0.0816 - val_loss: 0.0842\n",
            "Epoch 30/80\n",
            "27/27 - 2s - loss: 0.0820 - val_loss: 0.0763\n",
            "Epoch 31/80\n",
            "27/27 - 2s - loss: 0.0794 - val_loss: 0.0769\n",
            "Epoch 32/80\n",
            "27/27 - 2s - loss: 0.0798 - val_loss: 0.0742\n",
            "Epoch 33/80\n",
            "27/27 - 2s - loss: 0.0773 - val_loss: 0.0753\n",
            "Epoch 34/80\n",
            "27/27 - 2s - loss: 0.0774 - val_loss: 0.0736\n",
            "Epoch 35/80\n",
            "27/27 - 2s - loss: 0.0761 - val_loss: 0.0717\n",
            "Epoch 36/80\n",
            "27/27 - 2s - loss: 0.0752 - val_loss: 0.0709\n",
            "Epoch 37/80\n",
            "27/27 - 2s - loss: 0.0740 - val_loss: 0.0740\n",
            "Epoch 38/80\n",
            "27/27 - 2s - loss: 0.0744 - val_loss: 0.0700\n",
            "Epoch 39/80\n",
            "27/27 - 2s - loss: 0.0718 - val_loss: 0.0724\n",
            "Epoch 40/80\n",
            "27/27 - 2s - loss: 0.0722 - val_loss: 0.0704\n",
            "Epoch 41/80\n",
            "27/27 - 2s - loss: 0.0720 - val_loss: 0.0699\n",
            "Epoch 42/80\n",
            "27/27 - 2s - loss: 0.0704 - val_loss: 0.0694\n",
            "Epoch 43/80\n",
            "27/27 - 2s - loss: 0.0700 - val_loss: 0.0689\n",
            "Epoch 44/80\n",
            "27/27 - 2s - loss: 0.0694 - val_loss: 0.0681\n",
            "Epoch 45/80\n",
            "27/27 - 2s - loss: 0.0692 - val_loss: 0.0696\n",
            "Epoch 46/80\n",
            "27/27 - 2s - loss: 0.0682 - val_loss: 0.0682\n",
            "Epoch 47/80\n",
            "27/27 - 2s - loss: 0.0666 - val_loss: 0.0666\n",
            "Epoch 48/80\n",
            "27/27 - 2s - loss: 0.0673 - val_loss: 0.0680\n",
            "Epoch 49/80\n",
            "27/27 - 2s - loss: 0.0656 - val_loss: 0.0668\n",
            "Epoch 50/80\n",
            "27/27 - 2s - loss: 0.0658 - val_loss: 0.0672\n",
            "Epoch 51/80\n",
            "27/27 - 2s - loss: 0.0650 - val_loss: 0.0687\n",
            "Epoch 52/80\n",
            "27/27 - 2s - loss: 0.0638 - val_loss: 0.0657\n",
            "Epoch 53/80\n",
            "27/27 - 2s - loss: 0.0633 - val_loss: 0.0672\n",
            "Epoch 54/80\n",
            "27/27 - 2s - loss: 0.0638 - val_loss: 0.0681\n",
            "Epoch 55/80\n",
            "27/27 - 2s - loss: 0.0631 - val_loss: 0.0665\n",
            "Epoch 56/80\n",
            "27/27 - 2s - loss: 0.0618 - val_loss: 0.0652\n",
            "Epoch 57/80\n",
            "27/27 - 2s - loss: 0.0610 - val_loss: 0.0646\n",
            "Epoch 58/80\n",
            "27/27 - 2s - loss: 0.0607 - val_loss: 0.0648\n",
            "Epoch 59/80\n",
            "27/27 - 2s - loss: 0.0600 - val_loss: 0.0654\n",
            "Epoch 60/80\n",
            "27/27 - 2s - loss: 0.0594 - val_loss: 0.0639\n",
            "Epoch 61/80\n",
            "27/27 - 2s - loss: 0.0586 - val_loss: 0.0642\n",
            "Epoch 62/80\n",
            "27/27 - 2s - loss: 0.0589 - val_loss: 0.0654\n",
            "Epoch 63/80\n",
            "27/27 - 2s - loss: 0.0594 - val_loss: 0.0707\n",
            "Epoch 64/80\n",
            "27/27 - 2s - loss: 0.0604 - val_loss: 0.0638\n",
            "Epoch 65/80\n",
            "27/27 - 2s - loss: 0.0579 - val_loss: 0.0642\n",
            "Epoch 66/80\n",
            "27/27 - 2s - loss: 0.0580 - val_loss: 0.0638\n",
            "Epoch 67/80\n",
            "27/27 - 2s - loss: 0.0584 - val_loss: 0.0653\n",
            "Epoch 68/80\n",
            "27/27 - 2s - loss: 0.0583 - val_loss: 0.0645\n",
            "Epoch 69/80\n",
            "27/27 - 2s - loss: 0.0564 - val_loss: 0.0637\n",
            "Epoch 70/80\n",
            "27/27 - 2s - loss: 0.0570 - val_loss: 0.0639\n",
            "Epoch 71/80\n",
            "27/27 - 2s - loss: 0.0561 - val_loss: 0.0644\n",
            "Epoch 72/80\n",
            "27/27 - 2s - loss: 0.0549 - val_loss: 0.0629\n",
            "Epoch 73/80\n",
            "27/27 - 2s - loss: 0.0549 - val_loss: 0.0642\n",
            "Epoch 74/80\n",
            "27/27 - 2s - loss: 0.0545 - val_loss: 0.0630\n",
            "Epoch 75/80\n",
            "27/27 - 2s - loss: 0.0539 - val_loss: 0.0642\n",
            "Epoch 76/80\n",
            "27/27 - 2s - loss: 0.0537 - val_loss: 0.0636\n",
            "Epoch 77/80\n",
            "27/27 - 2s - loss: 0.0537 - val_loss: 0.0629\n",
            "Epoch 78/80\n",
            "27/27 - 2s - loss: 0.0526 - val_loss: 0.0637\n",
            "Epoch 79/80\n",
            "27/27 - 2s - loss: 0.0517 - val_loss: 0.0625\n",
            "Epoch 80/80\n",
            "27/27 - 2s - loss: 0.0523 - val_loss: 0.0648\n",
            "Min training loss=0.051746223121881485, min validation loss=0.06254435330629349\n"
          ]
        }
      ],
      "source": [
        "history_smpl_lstm_under = smpl_lstm_under.fit(\n",
        "    train_data_under, train_labels_under, \n",
        "    validation_data=(val_data_under,val_labels_under),\n",
        "    batch_size=64,\n",
        "    epochs=80,\n",
        "    callbacks=[lr_callback,sv_smpl_lstm_under],\n",
        "    verbose = 2\n",
        ")\n",
        "\n",
        "print(f\"Min training loss={min(history_smpl_lstm_under.history['loss'])}, min validation loss={min(history_smpl_lstm_under.history['val_loss'])}\")"
      ]
    },
    {
      "cell_type": "markdown",
      "metadata": {
        "papermill": {
          "duration": 0.224732,
          "end_time": "2020-10-04T17:09:31.371938",
          "exception": false,
          "start_time": "2020-10-04T17:09:31.147206",
          "status": "completed"
        },
        "tags": [],
        "id": "zwrruQ3StYGx"
      },
      "source": [
        "### 2. GRU"
      ]
    },
    {
      "cell_type": "code",
      "execution_count": null,
      "metadata": {
        "execution": {
          "iopub.execute_input": "2020-10-04T17:09:31.834462Z",
          "iopub.status.busy": "2020-10-04T17:09:31.833453Z",
          "iopub.status.idle": "2020-10-04T17:09:33.312603Z",
          "shell.execute_reply": "2020-10-04T17:09:33.313261Z"
        },
        "papermill": {
          "duration": 1.714619,
          "end_time": "2020-10-04T17:09:33.313435",
          "exception": false,
          "start_time": "2020-10-04T17:09:31.598816",
          "status": "completed"
        },
        "tags": [],
        "id": "pBZvJjqftYGx"
      },
      "outputs": [],
      "source": [
        "gru = build_model(gru=True)\n",
        "sv_gru = tf.keras.callbacks.ModelCheckpoint('model_gru.h5')"
      ]
    },
    {
      "cell_type": "code",
      "execution_count": null,
      "metadata": {
        "execution": {
          "iopub.execute_input": "2020-10-04T17:09:33.801423Z",
          "iopub.status.busy": "2020-10-04T17:09:33.794701Z",
          "iopub.status.idle": "2020-10-04T17:09:33.806622Z",
          "shell.execute_reply": "2020-10-04T17:09:33.807566Z"
        },
        "papermill": {
          "duration": 0.26529,
          "end_time": "2020-10-04T17:09:33.807778",
          "exception": false,
          "start_time": "2020-10-04T17:09:33.542488",
          "status": "completed"
        },
        "tags": [],
        "id": "QDH21EgEtYGx",
        "outputId": "df7dfc06-5bb3-472c-cc9d-e252427defa1"
      },
      "outputs": [
        {
          "name": "stdout",
          "output_type": "stream",
          "text": [
            "Model: \"functional_7\"\n",
            "_________________________________________________________________\n",
            "Layer (type)                 Output Shape              Param #   \n",
            "=================================================================\n",
            "input_5 (InputLayer)         [(None, 107, 3)]          0         \n",
            "_________________________________________________________________\n",
            "embedding_4 (Embedding)      (None, 107, 3, 100)       1400      \n",
            "_________________________________________________________________\n",
            "tf_op_layer_Reshape_1 (Tenso [(None, 107, 300)]        0         \n",
            "_________________________________________________________________\n",
            "spatial_dropout1d (SpatialDr (None, 107, 300)          0         \n",
            "_________________________________________________________________\n",
            "bidirectional_9 (Bidirection (None, 107, 256)          330240    \n",
            "_________________________________________________________________\n",
            "bidirectional_10 (Bidirectio (None, 107, 256)          296448    \n",
            "_________________________________________________________________\n",
            "bidirectional_11 (Bidirectio (None, 107, 256)          296448    \n",
            "_________________________________________________________________\n",
            "tf_op_layer_strided_slice_3  [(None, 68, 256)]         0         \n",
            "_________________________________________________________________\n",
            "dense_11 (Dense)             (None, 68, 5)             1285      \n",
            "=================================================================\n",
            "Total params: 925,821\n",
            "Trainable params: 925,821\n",
            "Non-trainable params: 0\n",
            "_________________________________________________________________\n"
          ]
        }
      ],
      "source": [
        "gru.summary()"
      ]
    },
    {
      "cell_type": "code",
      "execution_count": null,
      "metadata": {
        "execution": {
          "iopub.execute_input": "2020-10-04T17:09:34.270065Z",
          "iopub.status.busy": "2020-10-04T17:09:34.268949Z",
          "iopub.status.idle": "2020-10-04T17:11:28.619429Z",
          "shell.execute_reply": "2020-10-04T17:11:28.620050Z"
        },
        "papermill": {
          "duration": 114.584377,
          "end_time": "2020-10-04T17:11:28.620218",
          "exception": false,
          "start_time": "2020-10-04T17:09:34.035841",
          "status": "completed"
        },
        "tags": [],
        "id": "Z5mtnE68tYGx",
        "outputId": "c6ea4812-e40b-4122-939e-43a7f1b9d846"
      },
      "outputs": [
        {
          "name": "stdout",
          "output_type": "stream",
          "text": [
            "Epoch 1/75\n",
            "27/27 - 3s - loss: 0.5287 - val_loss: 0.2021\n",
            "Epoch 2/75\n",
            "27/27 - 1s - loss: 0.1784 - val_loss: 0.1577\n",
            "Epoch 3/75\n",
            "27/27 - 1s - loss: 0.1492 - val_loss: 0.1375\n",
            "Epoch 4/75\n",
            "27/27 - 1s - loss: 0.1365 - val_loss: 0.1301\n",
            "Epoch 5/75\n",
            "27/27 - 1s - loss: 0.1296 - val_loss: 0.1243\n",
            "Epoch 6/75\n",
            "27/27 - 1s - loss: 0.1240 - val_loss: 0.1224\n",
            "Epoch 7/75\n",
            "27/27 - 1s - loss: 0.1193 - val_loss: 0.1145\n",
            "Epoch 8/75\n",
            "27/27 - 1s - loss: 0.1131 - val_loss: 0.1064\n",
            "Epoch 9/75\n",
            "27/27 - 1s - loss: 0.1080 - val_loss: 0.1043\n",
            "Epoch 10/75\n",
            "27/27 - 1s - loss: 0.1050 - val_loss: 0.0987\n",
            "Epoch 11/75\n",
            "27/27 - 1s - loss: 0.0995 - val_loss: 0.0968\n",
            "Epoch 12/75\n",
            "27/27 - 1s - loss: 0.0964 - val_loss: 0.0914\n",
            "Epoch 13/75\n",
            "27/27 - 1s - loss: 0.0929 - val_loss: 0.0923\n",
            "Epoch 14/75\n",
            "27/27 - 1s - loss: 0.0947 - val_loss: 0.0874\n",
            "Epoch 15/75\n",
            "27/27 - 1s - loss: 0.0884 - val_loss: 0.0869\n",
            "Epoch 16/75\n",
            "27/27 - 2s - loss: 0.0855 - val_loss: 0.0832\n",
            "Epoch 17/75\n",
            "27/27 - 1s - loss: 0.0842 - val_loss: 0.0844\n",
            "Epoch 18/75\n",
            "27/27 - 1s - loss: 0.0831 - val_loss: 0.0803\n",
            "Epoch 19/75\n",
            "27/27 - 1s - loss: 0.0795 - val_loss: 0.0802\n",
            "Epoch 20/75\n",
            "27/27 - 1s - loss: 0.0781 - val_loss: 0.0792\n",
            "Epoch 21/75\n",
            "27/27 - 1s - loss: 0.0768 - val_loss: 0.0779\n",
            "Epoch 22/75\n",
            "27/27 - 1s - loss: 0.0749 - val_loss: 0.0794\n",
            "Epoch 23/75\n",
            "27/27 - 1s - loss: 0.0742 - val_loss: 0.0756\n",
            "Epoch 24/75\n",
            "27/27 - 1s - loss: 0.0729 - val_loss: 0.0787\n",
            "Epoch 25/75\n",
            "27/27 - 1s - loss: 0.0725 - val_loss: 0.0767\n",
            "Epoch 26/75\n",
            "27/27 - 1s - loss: 0.0708 - val_loss: 0.0758\n",
            "Epoch 27/75\n",
            "27/27 - 1s - loss: 0.0696 - val_loss: 0.0750\n",
            "Epoch 28/75\n",
            "27/27 - 1s - loss: 0.0682 - val_loss: 0.0749\n",
            "Epoch 29/75\n",
            "27/27 - 1s - loss: 0.0677 - val_loss: 0.0745\n",
            "Epoch 30/75\n",
            "27/27 - 1s - loss: 0.0667 - val_loss: 0.0743\n",
            "Epoch 31/75\n",
            "27/27 - 1s - loss: 0.0654 - val_loss: 0.0727\n",
            "Epoch 32/75\n",
            "27/27 - 1s - loss: 0.0641 - val_loss: 0.0747\n",
            "Epoch 33/75\n",
            "27/27 - 1s - loss: 0.0638 - val_loss: 0.0739\n",
            "Epoch 34/75\n",
            "27/27 - 1s - loss: 0.0640 - val_loss: 0.0721\n",
            "Epoch 35/75\n",
            "27/27 - 1s - loss: 0.0633 - val_loss: 0.0718\n",
            "Epoch 36/75\n",
            "27/27 - 1s - loss: 0.0613 - val_loss: 0.0714\n",
            "Epoch 37/75\n",
            "27/27 - 1s - loss: 0.0610 - val_loss: 0.0707\n",
            "Epoch 38/75\n",
            "27/27 - 1s - loss: 0.0608 - val_loss: 0.0744\n",
            "Epoch 39/75\n",
            "27/27 - 1s - loss: 0.0602 - val_loss: 0.0704\n",
            "Epoch 40/75\n",
            "27/27 - 1s - loss: 0.0594 - val_loss: 0.0701\n",
            "Epoch 41/75\n",
            "27/27 - 1s - loss: 0.0588 - val_loss: 0.0714\n",
            "Epoch 42/75\n",
            "27/27 - 1s - loss: 0.0587 - val_loss: 0.0705\n",
            "Epoch 43/75\n",
            "27/27 - 1s - loss: 0.0582 - val_loss: 0.0702\n",
            "Epoch 44/75\n",
            "27/27 - 1s - loss: 0.0579 - val_loss: 0.0702\n",
            "Epoch 45/75\n",
            "27/27 - 1s - loss: 0.0567 - val_loss: 0.0705\n",
            "Epoch 46/75\n",
            "27/27 - 1s - loss: 0.0558 - val_loss: 0.0686\n",
            "Epoch 47/75\n",
            "27/27 - 1s - loss: 0.0554 - val_loss: 0.0689\n",
            "Epoch 48/75\n",
            "27/27 - 1s - loss: 0.0552 - val_loss: 0.0705\n",
            "Epoch 49/75\n",
            "27/27 - 1s - loss: 0.0548 - val_loss: 0.0699\n",
            "Epoch 50/75\n",
            "27/27 - 1s - loss: 0.0544 - val_loss: 0.0711\n",
            "Epoch 51/75\n",
            "27/27 - 1s - loss: 0.0541 - val_loss: 0.0688\n",
            "Epoch 52/75\n",
            "27/27 - 1s - loss: 0.0533 - val_loss: 0.0676\n",
            "Epoch 53/75\n",
            "27/27 - 1s - loss: 0.0527 - val_loss: 0.0697\n",
            "Epoch 54/75\n",
            "27/27 - 1s - loss: 0.0527 - val_loss: 0.0683\n",
            "Epoch 55/75\n",
            "27/27 - 1s - loss: 0.0522 - val_loss: 0.0680\n",
            "Epoch 56/75\n",
            "27/27 - 1s - loss: 0.0532 - val_loss: 0.0707\n",
            "Epoch 57/75\n",
            "27/27 - 1s - loss: 0.0534 - val_loss: 0.0687\n",
            "Epoch 58/75\n",
            "27/27 - 1s - loss: 0.0520 - val_loss: 0.0679\n",
            "Epoch 59/75\n",
            "27/27 - 1s - loss: 0.0509 - val_loss: 0.0673\n",
            "Epoch 60/75\n",
            "27/27 - 1s - loss: 0.0509 - val_loss: 0.0678\n",
            "Epoch 61/75\n",
            "27/27 - 1s - loss: 0.0503 - val_loss: 0.0669\n",
            "Epoch 62/75\n",
            "27/27 - 1s - loss: 0.0498 - val_loss: 0.0677\n",
            "Epoch 63/75\n",
            "27/27 - 1s - loss: 0.0499 - val_loss: 0.0678\n",
            "Epoch 64/75\n",
            "27/27 - 1s - loss: 0.0495 - val_loss: 0.0664\n",
            "Epoch 65/75\n",
            "27/27 - 1s - loss: 0.0490 - val_loss: 0.0665\n",
            "Epoch 66/75\n",
            "27/27 - 1s - loss: 0.0491 - val_loss: 0.0667\n",
            "Epoch 67/75\n",
            "27/27 - 1s - loss: 0.0481 - val_loss: 0.0662\n",
            "Epoch 68/75\n",
            "27/27 - 1s - loss: 0.0481 - val_loss: 0.0664\n",
            "Epoch 69/75\n",
            "27/27 - 1s - loss: 0.0490 - val_loss: 0.0679\n",
            "Epoch 70/75\n",
            "27/27 - 1s - loss: 0.0488 - val_loss: 0.0681\n",
            "Epoch 71/75\n",
            "27/27 - 1s - loss: 0.0481 - val_loss: 0.0660\n",
            "Epoch 72/75\n",
            "27/27 - 1s - loss: 0.0474 - val_loss: 0.0670\n",
            "Epoch 73/75\n",
            "27/27 - 1s - loss: 0.0471 - val_loss: 0.0679\n",
            "Epoch 74/75\n",
            "27/27 - 1s - loss: 0.0474 - val_loss: 0.0664\n",
            "Epoch 75/75\n",
            "27/27 - 1s - loss: 0.0467 - val_loss: 0.0658\n",
            "Min training loss=0.046743351966142654, min validation loss=0.06579792499542236\n"
          ]
        }
      ],
      "source": [
        "\n",
        "\n",
        "history_gru = gru.fit(\n",
        "    train_data, train_labels, \n",
        "    validation_data=(val_data,val_labels),\n",
        "    batch_size=64,\n",
        "    epochs=75,\n",
        "    callbacks=[lr_callback,sv_gru],\n",
        "    verbose = 2\n",
        ")\n",
        "\n",
        "print(f\"Min training loss={min(history_gru.history['loss'])}, min validation loss={min(history_gru.history['val_loss'])}\")"
      ]
    },
    {
      "cell_type": "markdown",
      "metadata": {
        "papermill": {
          "duration": 0.277866,
          "end_time": "2020-10-04T17:11:29.178129",
          "exception": false,
          "start_time": "2020-10-04T17:11:28.900263",
          "status": "completed"
        },
        "tags": [],
        "id": "yYNmReoJtYGy"
      },
      "source": [
        "# Model Evaluation"
      ]
    },
    {
      "cell_type": "code",
      "execution_count": null,
      "metadata": {
        "_kg_hide-input": true,
        "execution": {
          "iopub.execute_input": "2020-10-04T17:11:29.755124Z",
          "iopub.status.busy": "2020-10-04T17:11:29.754536Z",
          "iopub.status.idle": "2020-10-04T17:11:30.544911Z",
          "shell.execute_reply": "2020-10-04T17:11:30.545456Z"
        },
        "papermill": {
          "duration": 1.091615,
          "end_time": "2020-10-04T17:11:30.545592",
          "exception": false,
          "start_time": "2020-10-04T17:11:29.453977",
          "status": "completed"
        },
        "tags": [],
        "id": "R-WfEMAntYGy",
        "outputId": "07bd380c-b05e-4438-a722-81e08e84356e"
      },
      "outputs": [
        {
          "data": {
            "text/plain": [
              "Text(0.5, 0, 'Epoch')"
            ]
          },
          "execution_count": 32,
          "metadata": {},
          "output_type": "execute_result"
        },
        {
          "data": {
            "image/png": "[encoded data removed]",
            "text/plain": [
              "<Figure size 1440x720 with 4 Axes>"
            ]
          },
          "metadata": {
            "needs_background": "light"
          },
          "output_type": "display_data"
        }
      ],
      "source": [
        "fig, ax = plt.subplots(1, 4,  figsize = (20, 10))\n",
        "\n",
        "ax[0].plot(history_gru.history['loss'])\n",
        "ax[0].plot(history_gru.history['val_loss'])\n",
        "\n",
        "ax[1].plot(history_smpl_lstm_actual.history['loss'])\n",
        "ax[1].plot(history_smpl_lstm_actual.history['val_loss'])\n",
        "\n",
        "ax[2].plot(history_smpl_lstm_over.history['loss'])\n",
        "ax[2].plot(history_smpl_lstm_over.history['val_loss'])\n",
        "\n",
        "ax[3].plot(history_smpl_lstm_under.history['loss'])\n",
        "ax[3].plot(history_smpl_lstm_under.history['val_loss'])\n",
        "\n",
        "ax[0].set_title('GRU')\n",
        "ax[1].set_title('SMPL_LSTM_ACTUAL')\n",
        "ax[2].set_title('SMPL_LSTM_OVER')\n",
        "ax[3].set_title('SMPL_LSTM_UNDER')\n",
        "\n",
        "ax[0].legend(['train', 'validation'], loc = 'upper right')\n",
        "ax[1].legend(['train', 'validation'], loc = 'upper right')\n",
        "ax[2].legend(['train', 'validation'], loc = 'upper right')\n",
        "ax[3].legend(['train', 'validation'], loc = 'upper right')\n",
        "\n",
        "ax[0].set_ylabel('Loss')\n",
        "ax[0].set_xlabel('Epoch')\n",
        "ax[1].set_ylabel('Loss')\n",
        "ax[1].set_xlabel('Epoch')\n",
        "ax[2].set_ylabel('Loss')\n",
        "ax[2].set_xlabel('Epoch')\n",
        "ax[3].set_ylabel('Loss')\n",
        "ax[3].set_xlabel('Epoch')\n"
      ]
    },
    {
      "cell_type": "markdown",
      "metadata": {
        "papermill": {
          "duration": 0.304315,
          "end_time": "2020-10-04T17:11:31.160841",
          "exception": false,
          "start_time": "2020-10-04T17:11:30.856526",
          "status": "completed"
        },
        "tags": [],
        "id": "RM_MRHLHtYGy"
      },
      "source": [
        "# Inference and Submission"
      ]
    },
    {
      "cell_type": "code",
      "execution_count": null,
      "metadata": {
        "execution": {
          "iopub.execute_input": "2020-10-04T17:11:31.757912Z",
          "iopub.status.busy": "2020-10-04T17:11:31.756667Z",
          "iopub.status.idle": "2020-10-04T17:11:32.204815Z",
          "shell.execute_reply": "2020-10-04T17:11:32.205371Z"
        },
        "papermill": {
          "duration": 0.749166,
          "end_time": "2020-10-04T17:11:32.205547",
          "exception": false,
          "start_time": "2020-10-04T17:11:31.456381",
          "status": "completed"
        },
        "tags": [],
        "id": "O1zR1UkDtYGy",
        "outputId": "c9422800-9b10-4f23-e9e3-cc9b934696a9"
      },
      "outputs": [
        {
          "name": "stdout",
          "output_type": "stream",
          "text": [
            "Test data prepared!\n"
          ]
        }
      ],
      "source": [
        "public_df = test.query(\"seq_length == 107\").copy()\n",
        "private_df = test.query(\"seq_length == 130\").copy()\n",
        "\n",
        "public_inputs = preprocess_inputs(public_df)\n",
        "private_inputs = preprocess_inputs(private_df )\n",
        "\n",
        "print (\"Test data prepared!\")"
      ]
    },
    {
      "cell_type": "code",
      "execution_count": null,
      "metadata": {
        "execution": {
          "iopub.execute_input": "2020-10-04T17:11:32.793114Z",
          "iopub.status.busy": "2020-10-04T17:11:32.777339Z",
          "iopub.status.idle": "2020-10-04T17:11:33.451787Z",
          "shell.execute_reply": "2020-10-04T17:11:33.451204Z"
        },
        "papermill": {
          "duration": 0.96746,
          "end_time": "2020-10-04T17:11:33.451919",
          "exception": false,
          "start_time": "2020-10-04T17:11:32.484459",
          "status": "completed"
        },
        "tags": [],
        "id": "iSQteHUYtYGy",
        "outputId": "1de33627-cb7e-4e4b-c0cf-ffe3084f0fd8"
      },
      "outputs": [
        {
          "ename": "ValueError",
          "evalue": "axes don't match array",
          "output_type": "error",
          "traceback": [
            "\u001b[0;31m---------------------------------------------------------------------------\u001b[0m",
            "\u001b[0;31mValueError\u001b[0m                                Traceback (most recent call last)",
            "\u001b[0;32m<ipython-input-34-a1fccd12955b>\u001b[0m in \u001b[0;36m<module>\u001b[0;34m\u001b[0m\n\u001b[1;32m      7\u001b[0m             \u001b[0;34m.\u001b[0m\u001b[0mtolist\u001b[0m\u001b[0;34m(\u001b[0m\u001b[0;34m)\u001b[0m\u001b[0;34m\u001b[0m\u001b[0;34m\u001b[0m\u001b[0m\n\u001b[1;32m      8\u001b[0m         ),\n\u001b[0;32m----> 9\u001b[0;31m         \u001b[0;34m(\u001b[0m\u001b[0;36m0\u001b[0m\u001b[0;34m,\u001b[0m \u001b[0;36m2\u001b[0m\u001b[0;34m,\u001b[0m \u001b[0;36m1\u001b[0m\u001b[0;34m)\u001b[0m\u001b[0;34m\u001b[0m\u001b[0;34m\u001b[0m\u001b[0m\n\u001b[0m\u001b[1;32m     10\u001b[0m     )\n",
            "\u001b[0;32m<__array_function__ internals>\u001b[0m in \u001b[0;36mtranspose\u001b[0;34m(*args, **kwargs)\u001b[0m\n",
            "\u001b[0;32m/opt/conda/lib/python3.7/site-packages/numpy/core/fromnumeric.py\u001b[0m in \u001b[0;36mtranspose\u001b[0;34m(a, axes)\u001b[0m\n\u001b[1;32m    649\u001b[0m \u001b[0;34m\u001b[0m\u001b[0m\n\u001b[1;32m    650\u001b[0m     \"\"\"\n\u001b[0;32m--> 651\u001b[0;31m     \u001b[0;32mreturn\u001b[0m \u001b[0m_wrapfunc\u001b[0m\u001b[0;34m(\u001b[0m\u001b[0ma\u001b[0m\u001b[0;34m,\u001b[0m \u001b[0;34m'transpose'\u001b[0m\u001b[0;34m,\u001b[0m \u001b[0maxes\u001b[0m\u001b[0;34m)\u001b[0m\u001b[0;34m\u001b[0m\u001b[0;34m\u001b[0m\u001b[0m\n\u001b[0m\u001b[1;32m    652\u001b[0m \u001b[0;34m\u001b[0m\u001b[0m\n\u001b[1;32m    653\u001b[0m \u001b[0;34m\u001b[0m\u001b[0m\n",
            "\u001b[0;32m/opt/conda/lib/python3.7/site-packages/numpy/core/fromnumeric.py\u001b[0m in \u001b[0;36m_wrapfunc\u001b[0;34m(obj, method, *args, **kwds)\u001b[0m\n\u001b[1;32m     59\u001b[0m \u001b[0;34m\u001b[0m\u001b[0m\n\u001b[1;32m     60\u001b[0m     \u001b[0;32mtry\u001b[0m\u001b[0;34m:\u001b[0m\u001b[0;34m\u001b[0m\u001b[0;34m\u001b[0m\u001b[0m\n\u001b[0;32m---> 61\u001b[0;31m         \u001b[0;32mreturn\u001b[0m \u001b[0mbound\u001b[0m\u001b[0;34m(\u001b[0m\u001b[0;34m*\u001b[0m\u001b[0margs\u001b[0m\u001b[0;34m,\u001b[0m \u001b[0;34m**\u001b[0m\u001b[0mkwds\u001b[0m\u001b[0;34m)\u001b[0m\u001b[0;34m\u001b[0m\u001b[0;34m\u001b[0m\u001b[0m\n\u001b[0m\u001b[1;32m     62\u001b[0m     \u001b[0;32mexcept\u001b[0m \u001b[0mTypeError\u001b[0m\u001b[0;34m:\u001b[0m\u001b[0;34m\u001b[0m\u001b[0;34m\u001b[0m\u001b[0m\n\u001b[1;32m     63\u001b[0m         \u001b[0;31m# A TypeError occurs if the object does have such a method in its\u001b[0m\u001b[0;34m\u001b[0m\u001b[0;34m\u001b[0m\u001b[0;34m\u001b[0m\u001b[0m\n",
            "\u001b[0;31mValueError\u001b[0m: axes don't match array"
          ]
        }
      ],
      "source": [
        "cols=['sequence', 'structure', 'predicted_loop_type']\n",
        "np.transpose(\n",
        "        np.array(\n",
        "            test[cols]\n",
        "            .applymap(lambda seq: [token2int[x] for x in seq])\n",
        "            .values\n",
        "            .tolist()\n",
        "        ),\n",
        "        (0, 2, 1)\n",
        "    )"
      ]
    },
    {
      "cell_type": "markdown",
      "metadata": {
        "papermill": {
          "duration": 0.283402,
          "end_time": "2020-10-04T17:11:34.017573",
          "exception": false,
          "start_time": "2020-10-04T17:11:33.734171",
          "status": "completed"
        },
        "tags": [],
        "id": "fe39rId1tYGy"
      },
      "source": [
        "**Predict twice, one for the public leaderboard, the other for the private leaderboard:**"
      ]
    },
    {
      "cell_type": "code",
      "execution_count": null,
      "metadata": {
        "execution": {
          "iopub.execute_input": "2020-10-04T17:11:34.591493Z",
          "iopub.status.busy": "2020-10-04T17:11:34.588484Z",
          "iopub.status.idle": "2020-10-04T17:11:49.503771Z",
          "shell.execute_reply": "2020-10-04T17:11:49.504883Z"
        },
        "papermill": {
          "duration": 15.207995,
          "end_time": "2020-10-04T17:11:49.505077",
          "exception": false,
          "start_time": "2020-10-04T17:11:34.297082",
          "status": "completed"
        },
        "tags": [],
        "id": "ATOL5yBQtYGy",
        "outputId": "c85e6414-f8bc-4bae-f796-c1a70af78f05"
      },
      "outputs": [
        {
          "name": "stdout",
          "output_type": "stream",
          "text": [
            "models built and trained\n"
          ]
        }
      ],
      "source": [
        "#build all models\n",
        "gru_short = build_model(gru=True, seq_len=107, pred_len=107)\n",
        "gru_long = build_model(gru=True, seq_len=130, pred_len=130)\n",
        "lstm_short_actual = lstm_model(seq_len = 107,output_dim = 100,dropout = 0.5, pred_len = 107)\n",
        "lstm_long_actual = lstm_model(seq_len = 130,output_dim = 100,dropout = 0.5, pred_len = 130)\n",
        "lstm_short_over = lstm_model(seq_len = 107,output_dim = 100,dropout = 0.5, pred_len = 107)\n",
        "lstm_long_over = lstm_model(seq_len = 130,output_dim = 100,dropout = 0.5, pred_len = 130)\n",
        "lstm_short_under = lstm_model(seq_len = 107,output_dim = 100,dropout = 0.5, pred_len = 107)\n",
        "lstm_long_under = lstm_model(seq_len = 130,output_dim = 100,dropout = 0.5, pred_len = 130)\n",
        "\n",
        "#load pre-trained model weights\n",
        "gru_short.load_weights('model_gru.h5')\n",
        "gru_long.load_weights('model_gru.h5')\n",
        "lstm_short_actual.load_weights('model_smpl_lstm_actual.h5')\n",
        "lstm_long_actual.load_weights('model_smpl_lstm_actual.h5')\n",
        "lstm_short_over.load_weights('model_smpl_lstm_over.h5')\n",
        "lstm_long_over.load_weights('model_smpl_lstm_over.h5')\n",
        "lstm_short_under.load_weights('model_smpl_lstm_under.h5')\n",
        "lstm_long_under.load_weights('model_smpl_lstm_under.h5')\n",
        "\n",
        "print (\"models built and trained\")"
      ]
    },
    {
      "cell_type": "markdown",
      "source": [
        "This code segment is building and loading the pre-trained weights for eight different models used in a machine learning task. The models are a combination of GRU and LSTM architectures, with different sequence lengths and prediction lengths. The purpose of these models is to predict the prices of a particular asset based on historical price data.\n",
        "\n",
        "The eight models are:\n",
        "\n",
        "1. `gru_short`: a GRU-based model with a sequence length of 107 and a prediction length of 107.\n",
        "2. `gru_long`: a GRU-based model with a sequence length of 130 and a prediction length of 130.\n",
        "3. `lstm_short_actual`: an LSTM-based model with a sequence length of 107, a prediction length of 107, and actual data.\n",
        "4. `lstm_long_actual`: an LSTM-based model with a sequence length of 130, a prediction length of 130, and actual data.\n",
        "5. `lstm_short_over`: an LSTM-based model with a sequence length of 107, a prediction length of 107, and overfitting data.\n",
        "6. `lstm_long_over`: an LSTM-based model with a sequence length of 130, a prediction length of 130, and overfitting data.\n",
        "7. `lstm_short_under`: an LSTM-based model with a sequence length of 107, a prediction length of 107, and underfitting data.\n",
        "8. `lstm_long_under`: an LSTM-based model with a sequence length of 130, a prediction length of 130, and underfitting data.\n",
        "\n",
        "After building the models, the pre-trained weights for each model are loaded from their respective checkpoint files. The print statement at the end of the code segment confirms that the models have been built and trained."
      ],
      "metadata": {
        "id": "QHFBWlCYxNOz"
      }
    },
    {
      "cell_type": "code",
      "execution_count": null,
      "metadata": {
        "execution": {
          "iopub.execute_input": "2020-10-04T17:11:50.075622Z",
          "iopub.status.busy": "2020-10-04T17:11:50.074498Z",
          "iopub.status.idle": "2020-10-04T17:12:13.535035Z",
          "shell.execute_reply": "2020-10-04T17:12:13.534357Z"
        },
        "papermill": {
          "duration": 23.747758,
          "end_time": "2020-10-04T17:12:13.535158",
          "exception": false,
          "start_time": "2020-10-04T17:11:49.787400",
          "status": "completed"
        },
        "tags": [],
        "id": "UTIFBK2ctYGz"
      },
      "outputs": [],
      "source": [
        "#and predict\n",
        "gru_public_preds = gru_short.predict(public_inputs)\n",
        "gru_private_preds = gru_long.predict(private_inputs)\n",
        "lstm_public_actual_preds = lstm_short_actual.predict(public_inputs)\n",
        "lstm_private_actual_preds = lstm_long_actual.predict(private_inputs)\n",
        "lstm_public_over_preds = lstm_short_over.predict(public_inputs)\n",
        "lstm_private_over_preds = lstm_long_over.predict(private_inputs)\n",
        "lstm_public_under_preds = lstm_short_under.predict(public_inputs)\n",
        "lstm_private_under_preds = lstm_long_under.predict(private_inputs)"
      ]
    },
    {
      "cell_type": "markdown",
      "metadata": {
        "papermill": {
          "duration": 0.28949,
          "end_time": "2020-10-04T17:12:14.113517",
          "exception": false,
          "start_time": "2020-10-04T17:12:13.824027",
          "status": "completed"
        },
        "tags": [],
        "id": "qS-_wI2DtYGz"
      },
      "source": [
        "**Now we just need to change the shape of each sample to the long format:**"
      ]
    },
    {
      "cell_type": "code",
      "execution_count": null,
      "metadata": {
        "execution": {
          "iopub.execute_input": "2020-10-04T17:12:14.718687Z",
          "iopub.status.busy": "2020-10-04T17:12:14.716722Z",
          "iopub.status.idle": "2020-10-04T17:12:19.307898Z",
          "shell.execute_reply": "2020-10-04T17:12:19.308397Z"
        },
        "papermill": {
          "duration": 4.912739,
          "end_time": "2020-10-04T17:12:19.308573",
          "exception": false,
          "start_time": "2020-10-04T17:12:14.395834",
          "status": "completed"
        },
        "tags": [],
        "id": "pfoAeOgLtYGz",
        "outputId": "e73698c7-7795-4799-e36a-a45f606e09c4"
      },
      "outputs": [
        {
          "data": {
            "text/html": [
              "<div>\n",
              "<style scoped>\n",
              "    .dataframe tbody tr th:only-of-type {\n",
              "        vertical-align: middle;\n",
              "    }\n",
              "\n",
              "    .dataframe tbody tr th {\n",
              "        vertical-align: top;\n",
              "    }\n",
              "\n",
              "    .dataframe thead th {\n",
              "        text-align: right;\n",
              "    }\n",
              "</style>\n",
              "<table border=\"1\" class=\"dataframe\">\n",
              "  <thead>\n",
              "    <tr style=\"text-align: right;\">\n",
              "      <th></th>\n",
              "      <th>reactivity</th>\n",
              "      <th>deg_Mg_pH10</th>\n",
              "      <th>deg_pH10</th>\n",
              "      <th>deg_Mg_50C</th>\n",
              "      <th>deg_50C</th>\n",
              "      <th>id_seqpos</th>\n",
              "    </tr>\n",
              "  </thead>\n",
              "  <tbody>\n",
              "    <tr>\n",
              "      <th>0</th>\n",
              "      <td>0.660071</td>\n",
              "      <td>0.607149</td>\n",
              "      <td>1.988912</td>\n",
              "      <td>0.578402</td>\n",
              "      <td>0.698077</td>\n",
              "      <td>id_00073f8be_0</td>\n",
              "    </tr>\n",
              "    <tr>\n",
              "      <th>1</th>\n",
              "      <td>2.134140</td>\n",
              "      <td>2.832841</td>\n",
              "      <td>3.835249</td>\n",
              "      <td>2.868127</td>\n",
              "      <td>2.570489</td>\n",
              "      <td>id_00073f8be_1</td>\n",
              "    </tr>\n",
              "    <tr>\n",
              "      <th>2</th>\n",
              "      <td>1.331981</td>\n",
              "      <td>0.611766</td>\n",
              "      <td>0.722372</td>\n",
              "      <td>0.830197</td>\n",
              "      <td>0.873406</td>\n",
              "      <td>id_00073f8be_2</td>\n",
              "    </tr>\n",
              "    <tr>\n",
              "      <th>3</th>\n",
              "      <td>1.262206</td>\n",
              "      <td>1.044615</td>\n",
              "      <td>1.233786</td>\n",
              "      <td>1.566160</td>\n",
              "      <td>1.651897</td>\n",
              "      <td>id_00073f8be_3</td>\n",
              "    </tr>\n",
              "    <tr>\n",
              "      <th>4</th>\n",
              "      <td>0.838457</td>\n",
              "      <td>0.517449</td>\n",
              "      <td>0.701548</td>\n",
              "      <td>0.913583</td>\n",
              "      <td>0.974706</td>\n",
              "      <td>id_00073f8be_4</td>\n",
              "    </tr>\n",
              "  </tbody>\n",
              "</table>\n",
              "</div>"
            ],
            "text/plain": [
              "   reactivity  deg_Mg_pH10  deg_pH10  deg_Mg_50C   deg_50C       id_seqpos\n",
              "0    0.660071     0.607149  1.988912    0.578402  0.698077  id_00073f8be_0\n",
              "1    2.134140     2.832841  3.835249    2.868127  2.570489  id_00073f8be_1\n",
              "2    1.331981     0.611766  0.722372    0.830197  0.873406  id_00073f8be_2\n",
              "3    1.262206     1.044615  1.233786    1.566160  1.651897  id_00073f8be_3\n",
              "4    0.838457     0.517449  0.701548    0.913583  0.974706  id_00073f8be_4"
            ]
          },
          "execution_count": 37,
          "metadata": {},
          "output_type": "execute_result"
        }
      ],
      "source": [
        "preds_gru = []\n",
        "\n",
        "for df, preds in [(public_df, gru_public_preds), (private_df, gru_private_preds)]:\n",
        "    for i, uid in enumerate(df.id):\n",
        "        single_pred = preds[i]\n",
        "\n",
        "        single_df = pd.DataFrame(single_pred, columns=target_cols_actual)\n",
        "        single_df['id_seqpos'] = [f'{uid}_{x}' for x in range(single_df.shape[0])]\n",
        "\n",
        "        preds_gru.append(single_df)\n",
        "\n",
        "preds_gru_df = pd.concat(preds_gru)\n",
        "preds_gru_df.head()"
      ]
    },
    {
      "cell_type": "markdown",
      "metadata": {
        "papermill": {
          "duration": 0.43644,
          "end_time": "2020-10-04T17:12:20.064215",
          "exception": false,
          "start_time": "2020-10-04T17:12:19.627775",
          "status": "completed"
        },
        "tags": [],
        "id": "WzmxNr-wtYGz"
      },
      "source": [
        "**Now we do the same for the LSTM model so we can blend their predictions:**"
      ]
    },
    {
      "cell_type": "code",
      "execution_count": null,
      "metadata": {
        "execution": {
          "iopub.execute_input": "2020-10-04T17:12:20.844810Z",
          "iopub.status.busy": "2020-10-04T17:12:20.782654Z",
          "iopub.status.idle": "2020-10-04T17:12:24.405531Z",
          "shell.execute_reply": "2020-10-04T17:12:24.404664Z"
        },
        "papermill": {
          "duration": 3.937498,
          "end_time": "2020-10-04T17:12:24.405687",
          "exception": false,
          "start_time": "2020-10-04T17:12:20.468189",
          "status": "completed"
        },
        "tags": [],
        "id": "pxFOrIx5tYGz",
        "outputId": "af3883b2-12c0-4818-db95-3639c736c5f2"
      },
      "outputs": [
        {
          "data": {
            "text/html": [
              "<div>\n",
              "<style scoped>\n",
              "    .dataframe tbody tr th:only-of-type {\n",
              "        vertical-align: middle;\n",
              "    }\n",
              "\n",
              "    .dataframe tbody tr th {\n",
              "        vertical-align: top;\n",
              "    }\n",
              "\n",
              "    .dataframe thead th {\n",
              "        text-align: right;\n",
              "    }\n",
              "</style>\n",
              "<table border=\"1\" class=\"dataframe\">\n",
              "  <thead>\n",
              "    <tr style=\"text-align: right;\">\n",
              "      <th></th>\n",
              "      <th>reactivity</th>\n",
              "      <th>deg_Mg_pH10</th>\n",
              "      <th>deg_pH10</th>\n",
              "      <th>deg_Mg_50C</th>\n",
              "      <th>deg_50C</th>\n",
              "      <th>id_seqpos</th>\n",
              "    </tr>\n",
              "  </thead>\n",
              "  <tbody>\n",
              "    <tr>\n",
              "      <th>0</th>\n",
              "      <td>0.686361</td>\n",
              "      <td>0.750660</td>\n",
              "      <td>1.932345</td>\n",
              "      <td>0.648361</td>\n",
              "      <td>0.779083</td>\n",
              "      <td>id_00073f8be_0</td>\n",
              "    </tr>\n",
              "    <tr>\n",
              "      <th>1</th>\n",
              "      <td>2.028031</td>\n",
              "      <td>3.043442</td>\n",
              "      <td>4.064053</td>\n",
              "      <td>3.147829</td>\n",
              "      <td>2.671132</td>\n",
              "      <td>id_00073f8be_1</td>\n",
              "    </tr>\n",
              "    <tr>\n",
              "      <th>2</th>\n",
              "      <td>1.324224</td>\n",
              "      <td>0.625590</td>\n",
              "      <td>0.748306</td>\n",
              "      <td>0.716241</td>\n",
              "      <td>0.787987</td>\n",
              "      <td>id_00073f8be_2</td>\n",
              "    </tr>\n",
              "    <tr>\n",
              "      <th>3</th>\n",
              "      <td>1.220480</td>\n",
              "      <td>1.141737</td>\n",
              "      <td>1.232030</td>\n",
              "      <td>1.573864</td>\n",
              "      <td>1.545292</td>\n",
              "      <td>id_00073f8be_3</td>\n",
              "    </tr>\n",
              "    <tr>\n",
              "      <th>4</th>\n",
              "      <td>0.830357</td>\n",
              "      <td>0.631680</td>\n",
              "      <td>0.620884</td>\n",
              "      <td>0.804762</td>\n",
              "      <td>0.862158</td>\n",
              "      <td>id_00073f8be_4</td>\n",
              "    </tr>\n",
              "  </tbody>\n",
              "</table>\n",
              "</div>"
            ],
            "text/plain": [
              "   reactivity  deg_Mg_pH10  deg_pH10  deg_Mg_50C   deg_50C       id_seqpos\n",
              "0    0.686361     0.750660  1.932345    0.648361  0.779083  id_00073f8be_0\n",
              "1    2.028031     3.043442  4.064053    3.147829  2.671132  id_00073f8be_1\n",
              "2    1.324224     0.625590  0.748306    0.716241  0.787987  id_00073f8be_2\n",
              "3    1.220480     1.141737  1.232030    1.573864  1.545292  id_00073f8be_3\n",
              "4    0.830357     0.631680  0.620884    0.804762  0.862158  id_00073f8be_4"
            ]
          },
          "execution_count": 38,
          "metadata": {},
          "output_type": "execute_result"
        }
      ],
      "source": [
        "preds_lstm_actual = []\n",
        "\n",
        "for df, preds in [(public_df, lstm_public_actual_preds), (private_df, lstm_private_actual_preds)]:\n",
        "    for i, uid in enumerate(df.id):\n",
        "        single_pred = preds[i]\n",
        "\n",
        "        single_df = pd.DataFrame(single_pred, columns=target_cols_actual)\n",
        "        single_df['id_seqpos'] = [f'{uid}_{x}' for x in range(single_df.shape[0])]\n",
        "\n",
        "        preds_lstm_actual.append(single_df)\n",
        "\n",
        "preds_lstm_actual_df = pd.concat(preds_lstm_actual)\n",
        "preds_lstm_actual_df.head()"
      ]
    },
    {
      "cell_type": "code",
      "execution_count": null,
      "metadata": {
        "execution": {
          "iopub.execute_input": "2020-10-04T17:12:25.033595Z",
          "iopub.status.busy": "2020-10-04T17:12:25.021496Z",
          "iopub.status.idle": "2020-10-04T17:12:28.659836Z",
          "shell.execute_reply": "2020-10-04T17:12:28.659229Z"
        },
        "papermill": {
          "duration": 3.940795,
          "end_time": "2020-10-04T17:12:28.659962",
          "exception": false,
          "start_time": "2020-10-04T17:12:24.719167",
          "status": "completed"
        },
        "tags": [],
        "id": "wrhCIDYxtYGz",
        "outputId": "4a5e68ed-2c71-475f-9be2-2ea5fc52daf8"
      },
      "outputs": [
        {
          "data": {
            "text/html": [
              "<div>\n",
              "<style scoped>\n",
              "    .dataframe tbody tr th:only-of-type {\n",
              "        vertical-align: middle;\n",
              "    }\n",
              "\n",
              "    .dataframe tbody tr th {\n",
              "        vertical-align: top;\n",
              "    }\n",
              "\n",
              "    .dataframe thead th {\n",
              "        text-align: right;\n",
              "    }\n",
              "</style>\n",
              "<table border=\"1\" class=\"dataframe\">\n",
              "  <thead>\n",
              "    <tr style=\"text-align: right;\">\n",
              "      <th></th>\n",
              "      <th>reactivity_over</th>\n",
              "      <th>deg_Mg_pH10_over</th>\n",
              "      <th>deg_pH10_over</th>\n",
              "      <th>deg_Mg_50C_over</th>\n",
              "      <th>deg_50C_over</th>\n",
              "      <th>id_seqpos</th>\n",
              "    </tr>\n",
              "  </thead>\n",
              "  <tbody>\n",
              "    <tr>\n",
              "      <th>0</th>\n",
              "      <td>1.042678</td>\n",
              "      <td>1.024409</td>\n",
              "      <td>2.116910</td>\n",
              "      <td>0.871608</td>\n",
              "      <td>1.023929</td>\n",
              "      <td>id_00073f8be_0</td>\n",
              "    </tr>\n",
              "    <tr>\n",
              "      <th>1</th>\n",
              "      <td>3.028073</td>\n",
              "      <td>3.944280</td>\n",
              "      <td>4.954854</td>\n",
              "      <td>3.760402</td>\n",
              "      <td>3.309914</td>\n",
              "      <td>id_00073f8be_1</td>\n",
              "    </tr>\n",
              "    <tr>\n",
              "      <th>2</th>\n",
              "      <td>1.471270</td>\n",
              "      <td>0.737479</td>\n",
              "      <td>0.899208</td>\n",
              "      <td>0.731312</td>\n",
              "      <td>0.957566</td>\n",
              "      <td>id_00073f8be_2</td>\n",
              "    </tr>\n",
              "    <tr>\n",
              "      <th>3</th>\n",
              "      <td>1.461824</td>\n",
              "      <td>1.422878</td>\n",
              "      <td>1.618409</td>\n",
              "      <td>1.766843</td>\n",
              "      <td>1.776807</td>\n",
              "      <td>id_00073f8be_3</td>\n",
              "    </tr>\n",
              "    <tr>\n",
              "      <th>4</th>\n",
              "      <td>0.997847</td>\n",
              "      <td>0.889768</td>\n",
              "      <td>1.022648</td>\n",
              "      <td>1.032568</td>\n",
              "      <td>1.143623</td>\n",
              "      <td>id_00073f8be_4</td>\n",
              "    </tr>\n",
              "  </tbody>\n",
              "</table>\n",
              "</div>"
            ],
            "text/plain": [
              "   reactivity_over  deg_Mg_pH10_over  deg_pH10_over  deg_Mg_50C_over  \\\n",
              "0         1.042678          1.024409       2.116910         0.871608   \n",
              "1         3.028073          3.944280       4.954854         3.760402   \n",
              "2         1.471270          0.737479       0.899208         0.731312   \n",
              "3         1.461824          1.422878       1.618409         1.766843   \n",
              "4         0.997847          0.889768       1.022648         1.032568   \n",
              "\n",
              "   deg_50C_over       id_seqpos  \n",
              "0      1.023929  id_00073f8be_0  \n",
              "1      3.309914  id_00073f8be_1  \n",
              "2      0.957566  id_00073f8be_2  \n",
              "3      1.776807  id_00073f8be_3  \n",
              "4      1.143623  id_00073f8be_4  "
            ]
          },
          "execution_count": 39,
          "metadata": {},
          "output_type": "execute_result"
        }
      ],
      "source": [
        "# overpredicting\n",
        "preds_lstm_over = []\n",
        "\n",
        "for df, preds in [(public_df, lstm_public_over_preds), (private_df, lstm_private_over_preds)]:\n",
        "    for i, uid in enumerate(df.id):\n",
        "        single_pred = preds[i]\n",
        "\n",
        "        single_df = pd.DataFrame(single_pred, columns=target_cols_over)\n",
        "        single_df['id_seqpos'] = [f'{uid}_{x}' for x in range(single_df.shape[0])]\n",
        "\n",
        "        preds_lstm_over.append(single_df)\n",
        "\n",
        "preds_lstm_over_df = pd.concat(preds_lstm_over)\n",
        "preds_lstm_over_df.head()"
      ]
    },
    {
      "cell_type": "code",
      "execution_count": null,
      "metadata": {
        "execution": {
          "iopub.execute_input": "2020-10-04T17:12:29.303837Z",
          "iopub.status.busy": "2020-10-04T17:12:29.302770Z",
          "iopub.status.idle": "2020-10-04T17:12:33.208616Z",
          "shell.execute_reply": "2020-10-04T17:12:33.207816Z"
        },
        "papermill": {
          "duration": 4.223427,
          "end_time": "2020-10-04T17:12:33.208786",
          "exception": false,
          "start_time": "2020-10-04T17:12:28.985359",
          "status": "completed"
        },
        "tags": [],
        "id": "krELFRdDtYGz",
        "outputId": "ef871e54-3e3a-49f3-99e2-9b41e809c4f5"
      },
      "outputs": [
        {
          "data": {
            "text/html": [
              "<div>\n",
              "<style scoped>\n",
              "    .dataframe tbody tr th:only-of-type {\n",
              "        vertical-align: middle;\n",
              "    }\n",
              "\n",
              "    .dataframe tbody tr th {\n",
              "        vertical-align: top;\n",
              "    }\n",
              "\n",
              "    .dataframe thead th {\n",
              "        text-align: right;\n",
              "    }\n",
              "</style>\n",
              "<table border=\"1\" class=\"dataframe\">\n",
              "  <thead>\n",
              "    <tr style=\"text-align: right;\">\n",
              "      <th></th>\n",
              "      <th>reactivity_under</th>\n",
              "      <th>deg_Mg_pH10_under</th>\n",
              "      <th>deg_pH10_under</th>\n",
              "      <th>deg_Mg_50C_under</th>\n",
              "      <th>deg_50C_under</th>\n",
              "      <th>id_seqpos</th>\n",
              "    </tr>\n",
              "  </thead>\n",
              "  <tbody>\n",
              "    <tr>\n",
              "      <th>0</th>\n",
              "      <td>0.454122</td>\n",
              "      <td>0.431645</td>\n",
              "      <td>1.664176</td>\n",
              "      <td>0.414742</td>\n",
              "      <td>0.498714</td>\n",
              "      <td>id_00073f8be_0</td>\n",
              "    </tr>\n",
              "    <tr>\n",
              "      <th>1</th>\n",
              "      <td>1.593761</td>\n",
              "      <td>2.792307</td>\n",
              "      <td>3.568632</td>\n",
              "      <td>2.802125</td>\n",
              "      <td>2.289668</td>\n",
              "      <td>id_00073f8be_1</td>\n",
              "    </tr>\n",
              "    <tr>\n",
              "      <th>2</th>\n",
              "      <td>1.020973</td>\n",
              "      <td>0.400110</td>\n",
              "      <td>0.507811</td>\n",
              "      <td>0.533069</td>\n",
              "      <td>0.562263</td>\n",
              "      <td>id_00073f8be_2</td>\n",
              "    </tr>\n",
              "    <tr>\n",
              "      <th>3</th>\n",
              "      <td>0.978592</td>\n",
              "      <td>0.907282</td>\n",
              "      <td>0.970635</td>\n",
              "      <td>1.314391</td>\n",
              "      <td>1.274081</td>\n",
              "      <td>id_00073f8be_3</td>\n",
              "    </tr>\n",
              "    <tr>\n",
              "      <th>4</th>\n",
              "      <td>0.672317</td>\n",
              "      <td>0.450749</td>\n",
              "      <td>0.475850</td>\n",
              "      <td>0.675210</td>\n",
              "      <td>0.670872</td>\n",
              "      <td>id_00073f8be_4</td>\n",
              "    </tr>\n",
              "  </tbody>\n",
              "</table>\n",
              "</div>"
            ],
            "text/plain": [
              "   reactivity_under  deg_Mg_pH10_under  deg_pH10_under  deg_Mg_50C_under  \\\n",
              "0          0.454122           0.431645        1.664176          0.414742   \n",
              "1          1.593761           2.792307        3.568632          2.802125   \n",
              "2          1.020973           0.400110        0.507811          0.533069   \n",
              "3          0.978592           0.907282        0.970635          1.314391   \n",
              "4          0.672317           0.450749        0.475850          0.675210   \n",
              "\n",
              "   deg_50C_under       id_seqpos  \n",
              "0       0.498714  id_00073f8be_0  \n",
              "1       2.289668  id_00073f8be_1  \n",
              "2       0.562263  id_00073f8be_2  \n",
              "3       1.274081  id_00073f8be_3  \n",
              "4       0.670872  id_00073f8be_4  "
            ]
          },
          "execution_count": 40,
          "metadata": {},
          "output_type": "execute_result"
        }
      ],
      "source": [
        "# Underpredicting\n",
        "preds_lstm_under = []\n",
        "\n",
        "for df, preds in [(public_df, lstm_public_under_preds), (private_df, lstm_private_under_preds)]:\n",
        "    for i, uid in enumerate(df.id):\n",
        "        single_pred = preds[i]\n",
        "\n",
        "        single_df = pd.DataFrame(single_pred, columns=target_cols_under)\n",
        "        single_df['id_seqpos'] = [f'{uid}_{x}' for x in range(single_df.shape[0])]\n",
        "\n",
        "        preds_lstm_under.append(single_df)\n",
        "\n",
        "preds_lstm_under_df = pd.concat(preds_lstm_under)\n",
        "preds_lstm_under_df.head()"
      ]
    },
    {
      "cell_type": "markdown",
      "metadata": {
        "papermill": {
          "duration": 0.287503,
          "end_time": "2020-10-04T17:12:33.807798",
          "exception": false,
          "start_time": "2020-10-04T17:12:33.520295",
          "status": "completed"
        },
        "tags": [],
        "id": "T5WYsUystYG0"
      },
      "source": [
        "**And now we blend:**"
      ]
    },
    {
      "cell_type": "code",
      "execution_count": null,
      "metadata": {
        "execution": {
          "iopub.execute_input": "2020-10-04T17:12:34.451982Z",
          "iopub.status.busy": "2020-10-04T17:12:34.405262Z",
          "iopub.status.idle": "2020-10-04T17:12:34.525847Z",
          "shell.execute_reply": "2020-10-04T17:12:34.525214Z"
        },
        "papermill": {
          "duration": 0.418775,
          "end_time": "2020-10-04T17:12:34.525987",
          "exception": false,
          "start_time": "2020-10-04T17:12:34.107212",
          "status": "completed"
        },
        "tags": [],
        "id": "MTRWk3dltYG0"
      },
      "outputs": [],
      "source": [
        "lstm_weight_actual = 0.65\n",
        "lstm_weight_over = 0\n",
        "lstm_weight_under = 0\n",
        "gru_weight = 0.35\n",
        "blend_preds_df = pd.DataFrame()\n",
        "blend_preds_df['id_seqpos'] = preds_gru_df['id_seqpos']\n",
        "\n",
        "blend_preds_df['reactivity'] = gru_weight*preds_gru_df['reactivity'] + lstm_weight_over*preds_lstm_over_df['reactivity_over']+lstm_weight_under*preds_lstm_under_df['reactivity_under'] +lstm_weight_actual*preds_lstm_actual_df['reactivity']\n",
        "\n",
        "blend_preds_df['deg_Mg_pH10'] = gru_weight*preds_gru_df['deg_Mg_pH10'] + lstm_weight_over*preds_lstm_over_df['deg_Mg_pH10_over']+lstm_weight_under*preds_lstm_under_df['deg_Mg_pH10_under'] + lstm_weight_actual*preds_lstm_actual_df['deg_Mg_pH10']\n",
        "    \n",
        "blend_preds_df['deg_pH10'] = gru_weight*preds_gru_df['deg_pH10'] + lstm_weight_over*preds_lstm_over_df['deg_pH10_over']+lstm_weight_under*preds_lstm_under_df['deg_pH10_under'] + lstm_weight_actual*preds_lstm_actual_df['deg_pH10']\n",
        "\n",
        "blend_preds_df['deg_Mg_50C'] = gru_weight*preds_gru_df['deg_Mg_50C'] + lstm_weight_over*preds_lstm_over_df['deg_Mg_50C_over']+lstm_weight_under*preds_lstm_under_df['deg_Mg_50C_under'] + lstm_weight_actual*preds_lstm_actual_df['deg_Mg_50C']\n",
        "\n",
        "blend_preds_df['deg_50C'] = gru_weight*preds_gru_df['deg_50C'] + lstm_weight_over*preds_lstm_over_df['deg_50C_over']+lstm_weight_under*preds_lstm_under_df['deg_50C_under'] + lstm_weight_actual*preds_lstm_actual_df['deg_50C']"
      ]
    },
    {
      "cell_type": "markdown",
      "source": [
        "This code blends the predictions from multiple models to create a final prediction. The blend is weighted based on the model's performance on the validation set. \n",
        "\n",
        "`lstm_weight_actual`, `lstm_weight_over`, `lstm_weight_under`, and `gru_weight` are the weights assigned to each model. In this code snippet, the `lstm_weight_actual` is set to 0.65, which means that the LSTM model trained on actual data will have a higher weight in the final prediction. The other LSTM models (`lstm_weight_over`, `lstm_weight_under`) have zero weight, and the GRU model (`gru_weight`) has a weight of 0.35. \n",
        "\n",
        "`blend_preds_df` is a pandas dataframe that contains the final predictions. The code blends the predictions for each target variable (`reactivity`, `deg_Mg_pH10`, `deg_pH10`, `deg_Mg_50C`, and `deg_50C`) from each model. The blended prediction for each target variable is the weighted average of the predictions from each model. \n",
        "\n",
        "For example, to calculate the blended prediction for `reactivity`, the code multiplies the predictions from the GRU model by `gru_weight`, the predictions from the LSTM model trained on actual data by `lstm_weight_actual`, and the predictions from the other LSTM models by zero weight (`lstm_weight_over` and `lstm_weight_under` are both zero). The weighted predictions are then summed, and the result is assigned to `blend_preds_df['reactivity']`. This process is repeated for each target variable."
      ],
      "metadata": {
        "id": "PNDnbQG7xgJR"
      }
    },
    {
      "cell_type": "code",
      "execution_count": null,
      "metadata": {
        "execution": {
          "iopub.execute_input": "2020-10-04T17:12:35.099591Z",
          "iopub.status.busy": "2020-10-04T17:12:35.098701Z",
          "iopub.status.idle": "2020-10-04T17:12:35.622908Z",
          "shell.execute_reply": "2020-10-04T17:12:35.623422Z"
        },
        "papermill": {
          "duration": 0.814664,
          "end_time": "2020-10-04T17:12:35.623555",
          "exception": false,
          "start_time": "2020-10-04T17:12:34.808891",
          "status": "completed"
        },
        "tags": [],
        "id": "60Pxc4eEtYG0",
        "outputId": "62a686f4-00d5-4b70-91a9-8f4ac7e17288"
      },
      "outputs": [
        {
          "data": {
            "text/html": [
              "<div>\n",
              "<style scoped>\n",
              "    .dataframe tbody tr th:only-of-type {\n",
              "        vertical-align: middle;\n",
              "    }\n",
              "\n",
              "    .dataframe tbody tr th {\n",
              "        vertical-align: top;\n",
              "    }\n",
              "\n",
              "    .dataframe thead th {\n",
              "        text-align: right;\n",
              "    }\n",
              "</style>\n",
              "<table border=\"1\" class=\"dataframe\">\n",
              "  <thead>\n",
              "    <tr style=\"text-align: right;\">\n",
              "      <th></th>\n",
              "      <th>id_seqpos</th>\n",
              "      <th>reactivity</th>\n",
              "      <th>deg_Mg_pH10</th>\n",
              "      <th>deg_pH10</th>\n",
              "      <th>deg_Mg_50C</th>\n",
              "      <th>deg_50C</th>\n",
              "    </tr>\n",
              "  </thead>\n",
              "  <tbody>\n",
              "    <tr>\n",
              "      <th>0</th>\n",
              "      <td>id_00073f8be_0</td>\n",
              "      <td>0.677159</td>\n",
              "      <td>0.700431</td>\n",
              "      <td>1.952143</td>\n",
              "      <td>0.623875</td>\n",
              "      <td>0.750731</td>\n",
              "    </tr>\n",
              "    <tr>\n",
              "      <th>1</th>\n",
              "      <td>id_00073f8be_1</td>\n",
              "      <td>2.065169</td>\n",
              "      <td>2.969731</td>\n",
              "      <td>3.983972</td>\n",
              "      <td>3.049933</td>\n",
              "      <td>2.635907</td>\n",
              "    </tr>\n",
              "    <tr>\n",
              "      <th>2</th>\n",
              "      <td>id_00073f8be_2</td>\n",
              "      <td>1.326939</td>\n",
              "      <td>0.620752</td>\n",
              "      <td>0.739229</td>\n",
              "      <td>0.756126</td>\n",
              "      <td>0.817884</td>\n",
              "    </tr>\n",
              "    <tr>\n",
              "      <th>3</th>\n",
              "      <td>id_00073f8be_3</td>\n",
              "      <td>1.235084</td>\n",
              "      <td>1.107744</td>\n",
              "      <td>1.232644</td>\n",
              "      <td>1.571167</td>\n",
              "      <td>1.582604</td>\n",
              "    </tr>\n",
              "    <tr>\n",
              "      <th>4</th>\n",
              "      <td>id_00073f8be_4</td>\n",
              "      <td>0.833192</td>\n",
              "      <td>0.591699</td>\n",
              "      <td>0.649116</td>\n",
              "      <td>0.842849</td>\n",
              "      <td>0.901550</td>\n",
              "    </tr>\n",
              "  </tbody>\n",
              "</table>\n",
              "</div>"
            ],
            "text/plain": [
              "        id_seqpos  reactivity  deg_Mg_pH10  deg_pH10  deg_Mg_50C   deg_50C\n",
              "0  id_00073f8be_0    0.677159     0.700431  1.952143    0.623875  0.750731\n",
              "1  id_00073f8be_1    2.065169     2.969731  3.983972    3.049933  2.635907\n",
              "2  id_00073f8be_2    1.326939     0.620752  0.739229    0.756126  0.817884\n",
              "3  id_00073f8be_3    1.235084     1.107744  1.232644    1.571167  1.582604\n",
              "4  id_00073f8be_4    0.833192     0.591699  0.649116    0.842849  0.901550"
            ]
          },
          "execution_count": 42,
          "metadata": {},
          "output_type": "execute_result"
        }
      ],
      "source": [
        "submission = sample_sub[['id_seqpos']].merge(blend_preds_df, on=['id_seqpos'])\n",
        "\n",
        "#sanity check\n",
        "\n",
        "len(submission)\n",
        "submission.head()"
      ]
    },
    {
      "cell_type": "code",
      "execution_count": null,
      "metadata": {
        "execution": {
          "iopub.execute_input": "2020-10-04T17:12:36.220826Z",
          "iopub.status.busy": "2020-10-04T17:12:36.220184Z",
          "iopub.status.idle": "2020-10-04T17:12:42.590010Z",
          "shell.execute_reply": "2020-10-04T17:12:42.588273Z"
        },
        "papermill": {
          "duration": 6.658468,
          "end_time": "2020-10-04T17:12:42.590161",
          "exception": false,
          "start_time": "2020-10-04T17:12:35.931693",
          "status": "completed"
        },
        "tags": [],
        "id": "Zc0_SDuftYG0",
        "outputId": "8f3216fc-f492-4efd-a5ae-6bce51ea0b75"
      },
      "outputs": [
        {
          "name": "stdout",
          "output_type": "stream",
          "text": [
            "Submission saved\n"
          ]
        }
      ],
      "source": [
        "submission.to_csv('submission.csv', index=False)\n",
        "print('Submission saved')"
      ]
    }
  ],
  "metadata": {
    "kernelspec": {
      "display_name": "Python 3",
      "language": "python",
      "name": "python3"
    },
    "language_info": {
      "codemirror_mode": {
        "name": "ipython",
        "version": 3
      },
      "file_extension": ".py",
      "mimetype": "text/x-python",
      "name": "python",
      "nbconvert_exporter": "python",
      "pygments_lexer": "ipython3",
      "version": "3.7.6"
    },
    "papermill": {
      "duration": 682.347382,
      "end_time": "2020-10-04T17:12:44.861154",
      "environment_variables": {},
      "exception": null,
      "input_path": "__notebook__.ipynb",
      "output_path": "__notebook__.ipynb",
      "parameters": {},
      "start_time": "2020-10-04T17:01:22.513772",
      "version": "2.1.0"
    },
    "colab": {
      "provenance": []
    }
  },
  "nbformat": 4,
  "nbformat_minor": 0
}