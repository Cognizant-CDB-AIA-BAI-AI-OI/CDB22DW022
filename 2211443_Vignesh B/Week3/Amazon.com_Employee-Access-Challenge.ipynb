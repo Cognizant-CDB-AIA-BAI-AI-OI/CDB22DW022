{
 "cells": [
  {
   "cell_type": "markdown",
   "metadata": {},
   "source": [
    "# **Amazon.com---Employee-Access-Challenge**\n",
    "\n",
    "When an employee at any company starts work, they first need to obtain the computer access necessary to fulfill their role. This access may allow an employee to read/manipulate resources through various applications or web portals. It is assumed that employees fulfilling the functions of a given role will access the same or similar resources. It is often the case that employees figure out the access they need as they encounter roadblocks during their daily work (e.g. not able to log into a reporting portal). A knowledgeable supervisor then takes time to manually grant the needed access in order to overcome access obstacles. As employees move throughout a company, this access discovery/recovery cycle wastes a nontrivial amount of time and money.\n",
    "\n",
    "There is a considerable amount of data regarding an employee’s role within an organization and the resources to which they have access. Given the data related to current employees and their provisioned access, models can be built that automatically determine access privileges as employees enter and leave roles within a company. These auto-access models seek to minimize the human involvement required to grant or revoke employee access.\n",
    "\n",
    "## **Objective**\n",
    "\n",
    "The objective of this competition is to build a model,learned using historical data, that will determine an employee's access needs, such that manual access transactions (grants and revokes) are minimized as the employee's attributes change over time. The model will take an employee's role information and a resource code and will return whether or not access should be granted.\n",
    "\n",
    "The data consists of real historical data collected from 2010 & 2011. Employees are manually allowed or denied access to resources over time. You must create an algorithm capable of learning from this historical data to predict approval/denial for an unseen set of employees.\n",
    "\n",
    "## **Data**\n",
    "\n",
    "File Descriptions\n",
    "train.csv - The training set. Each row has the ACTION (ground truth), RESOURCE, and information about the employee's role at the time of approval\n",
    "\n",
    "test.csv - The test set for which predictions should be made. Each row asks whether an employee having the listed characteristics should have access to the listed resource.\n",
    "\n",
    "## **Column Descriptions**\n",
    "\n",
    "Column Name Description ACTION ACTION is 1 if the resource was approved, 0 if the resource was no\n",
    "\n",
    "RESOURCE An ID for each resource\n",
    "\n",
    "MGR_ID The EMPLOYEE ID of the manager of the current EMPLOYEE ID record; an employee may have only one manager at a time\n",
    "\n",
    "ROLE_ROLLUP_1 Company role grouping category id 1 (e.g. US Engineering)\n",
    "\n",
    "ROLE_ROLLUP_2 Company role grouping category id 2 (e.g. US Retail)\n",
    "\n",
    "ROLE_DEPTNAME Company role department description (e.g. Retail)\n",
    "\n",
    "ROLE_TITLE Company role business title description (e.g. Senior Engineering Retail Manager)\n",
    "\n",
    "ROLE_FAMILY_DESC Company role family extended description (e.g. Retail Manager, Software Engineering)\n",
    "\n",
    "ROLE_FAMILY Company role family description (e.g. Retail Manager)\n",
    "\n",
    "ROLE_CODE Company role code; this code is unique to each role (e.g. Manager)"
   ]
  },
  {
   "cell_type": "markdown",
   "metadata": {
    "papermill": {
     "duration": 0.031854,
     "end_time": "2022-12-05T02:40:41.444622",
     "exception": false,
     "start_time": "2022-12-05T02:40:41.412768",
     "status": "completed"
    },
    "tags": []
   },
   "source": [
    "## Import Library & Dataset"
   ]
  },
  {
   "cell_type": "code",
   "execution_count": 1,
   "metadata": {
    "execution": {
     "iopub.execute_input": "2022-12-05T02:40:41.507157Z",
     "iopub.status.busy": "2022-12-05T02:40:41.506469Z",
     "iopub.status.idle": "2022-12-05T02:40:42.484251Z",
     "shell.execute_reply": "2022-12-05T02:40:42.483474Z",
     "shell.execute_reply.started": "2022-12-05T02:32:55.041689Z"
    },
    "papermill": {
     "duration": 1.010145,
     "end_time": "2022-12-05T02:40:42.484377",
     "exception": false,
     "start_time": "2022-12-05T02:40:41.474232",
     "status": "completed"
    },
    "tags": []
   },
   "outputs": [],
   "source": [
    "import matplotlib.pyplot as plt\n",
    "import seaborn as sns\n",
    "import numpy as np\n",
    "import pandas as pd\n",
    "\n",
    "import warnings\n",
    "warnings.filterwarnings(\"ignore\")"
   ]
  },
  {
   "cell_type": "code",
   "execution_count": 2,
   "metadata": {
    "execution": {
     "iopub.execute_input": "2022-12-05T02:40:42.553338Z",
     "iopub.status.busy": "2022-12-05T02:40:42.552679Z",
     "iopub.status.idle": "2022-12-05T02:40:42.677841Z",
     "shell.execute_reply": "2022-12-05T02:40:42.678493Z",
     "shell.execute_reply.started": "2022-12-05T02:32:55.047923Z"
    },
    "papermill": {
     "duration": 0.164133,
     "end_time": "2022-12-05T02:40:42.678665",
     "exception": false,
     "start_time": "2022-12-05T02:40:42.514532",
     "status": "completed"
    },
    "tags": []
   },
   "outputs": [
    {
     "name": "stdout",
     "output_type": "stream",
     "text": [
      "(32769, 10)\n"
     ]
    },
    {
     "data": {
      "text/html": [
       "<div>\n",
       "<style scoped>\n",
       "    .dataframe tbody tr th:only-of-type {\n",
       "        vertical-align: middle;\n",
       "    }\n",
       "\n",
       "    .dataframe tbody tr th {\n",
       "        vertical-align: top;\n",
       "    }\n",
       "\n",
       "    .dataframe thead th {\n",
       "        text-align: right;\n",
       "    }\n",
       "</style>\n",
       "<table border=\"1\" class=\"dataframe\">\n",
       "  <thead>\n",
       "    <tr style=\"text-align: right;\">\n",
       "      <th></th>\n",
       "      <th>ACTION</th>\n",
       "      <th>RESOURCE</th>\n",
       "      <th>MGR_ID</th>\n",
       "      <th>ROLE_ROLLUP_1</th>\n",
       "      <th>ROLE_ROLLUP_2</th>\n",
       "      <th>ROLE_DEPTNAME</th>\n",
       "      <th>ROLE_TITLE</th>\n",
       "      <th>ROLE_FAMILY_DESC</th>\n",
       "      <th>ROLE_FAMILY</th>\n",
       "      <th>ROLE_CODE</th>\n",
       "    </tr>\n",
       "  </thead>\n",
       "  <tbody>\n",
       "    <tr>\n",
       "      <th>0</th>\n",
       "      <td>1</td>\n",
       "      <td>39353</td>\n",
       "      <td>85475</td>\n",
       "      <td>117961</td>\n",
       "      <td>118300</td>\n",
       "      <td>123472</td>\n",
       "      <td>117905</td>\n",
       "      <td>117906</td>\n",
       "      <td>290919</td>\n",
       "      <td>117908</td>\n",
       "    </tr>\n",
       "    <tr>\n",
       "      <th>1</th>\n",
       "      <td>1</td>\n",
       "      <td>17183</td>\n",
       "      <td>1540</td>\n",
       "      <td>117961</td>\n",
       "      <td>118343</td>\n",
       "      <td>123125</td>\n",
       "      <td>118536</td>\n",
       "      <td>118536</td>\n",
       "      <td>308574</td>\n",
       "      <td>118539</td>\n",
       "    </tr>\n",
       "    <tr>\n",
       "      <th>2</th>\n",
       "      <td>1</td>\n",
       "      <td>36724</td>\n",
       "      <td>14457</td>\n",
       "      <td>118219</td>\n",
       "      <td>118220</td>\n",
       "      <td>117884</td>\n",
       "      <td>117879</td>\n",
       "      <td>267952</td>\n",
       "      <td>19721</td>\n",
       "      <td>117880</td>\n",
       "    </tr>\n",
       "    <tr>\n",
       "      <th>3</th>\n",
       "      <td>1</td>\n",
       "      <td>36135</td>\n",
       "      <td>5396</td>\n",
       "      <td>117961</td>\n",
       "      <td>118343</td>\n",
       "      <td>119993</td>\n",
       "      <td>118321</td>\n",
       "      <td>240983</td>\n",
       "      <td>290919</td>\n",
       "      <td>118322</td>\n",
       "    </tr>\n",
       "    <tr>\n",
       "      <th>4</th>\n",
       "      <td>1</td>\n",
       "      <td>42680</td>\n",
       "      <td>5905</td>\n",
       "      <td>117929</td>\n",
       "      <td>117930</td>\n",
       "      <td>119569</td>\n",
       "      <td>119323</td>\n",
       "      <td>123932</td>\n",
       "      <td>19793</td>\n",
       "      <td>119325</td>\n",
       "    </tr>\n",
       "  </tbody>\n",
       "</table>\n",
       "</div>"
      ],
      "text/plain": [
       "   ACTION  RESOURCE  MGR_ID  ROLE_ROLLUP_1  ROLE_ROLLUP_2  ROLE_DEPTNAME  \\\n",
       "0       1     39353   85475         117961         118300         123472   \n",
       "1       1     17183    1540         117961         118343         123125   \n",
       "2       1     36724   14457         118219         118220         117884   \n",
       "3       1     36135    5396         117961         118343         119993   \n",
       "4       1     42680    5905         117929         117930         119569   \n",
       "\n",
       "   ROLE_TITLE  ROLE_FAMILY_DESC  ROLE_FAMILY  ROLE_CODE  \n",
       "0      117905            117906       290919     117908  \n",
       "1      118536            118536       308574     118539  \n",
       "2      117879            267952        19721     117880  \n",
       "3      118321            240983       290919     118322  \n",
       "4      119323            123932        19793     119325  "
      ]
     },
     "execution_count": 2,
     "metadata": {},
     "output_type": "execute_result"
    }
   ],
   "source": [
    "data = pd.read_csv('amazon-employee-access-challenge_train.csv')\n",
    "print(data.shape)\n",
    "data.head()"
   ]
  },
  {
   "cell_type": "markdown",
   "metadata": {
    "papermill": {
     "duration": 0.030363,
     "end_time": "2022-12-05T02:40:42.740001",
     "exception": false,
     "start_time": "2022-12-05T02:40:42.709638",
     "status": "completed"
    },
    "tags": []
   },
   "source": [
    "## Data Exploration"
   ]
  },
  {
   "cell_type": "code",
   "execution_count": 3,
   "metadata": {
    "execution": {
     "iopub.execute_input": "2022-12-05T02:40:42.806271Z",
     "iopub.status.busy": "2022-12-05T02:40:42.805594Z",
     "iopub.status.idle": "2022-12-05T02:40:42.810976Z",
     "shell.execute_reply": "2022-12-05T02:40:42.810374Z",
     "shell.execute_reply.started": "2022-12-05T02:32:55.110965Z"
    },
    "papermill": {
     "duration": 0.040308,
     "end_time": "2022-12-05T02:40:42.811101",
     "exception": false,
     "start_time": "2022-12-05T02:40:42.770793",
     "status": "completed"
    },
    "tags": []
   },
   "outputs": [],
   "source": [
    "data_explore = data.copy()"
   ]
  },
  {
   "cell_type": "code",
   "execution_count": 4,
   "metadata": {
    "execution": {
     "iopub.execute_input": "2022-12-05T02:40:42.879355Z",
     "iopub.status.busy": "2022-12-05T02:40:42.878632Z",
     "iopub.status.idle": "2022-12-05T02:40:42.892411Z",
     "shell.execute_reply": "2022-12-05T02:40:42.893018Z",
     "shell.execute_reply.started": "2022-12-05T02:32:55.118683Z"
    },
    "papermill": {
     "duration": 0.049955,
     "end_time": "2022-12-05T02:40:42.893170",
     "exception": false,
     "start_time": "2022-12-05T02:40:42.843215",
     "status": "completed"
    },
    "tags": []
   },
   "outputs": [
    {
     "name": "stdout",
     "output_type": "stream",
     "text": [
      "<class 'pandas.core.frame.DataFrame'>\n",
      "RangeIndex: 32769 entries, 0 to 32768\n",
      "Data columns (total 10 columns):\n",
      " #   Column            Non-Null Count  Dtype\n",
      "---  ------            --------------  -----\n",
      " 0   ACTION            32769 non-null  int64\n",
      " 1   RESOURCE          32769 non-null  int64\n",
      " 2   MGR_ID            32769 non-null  int64\n",
      " 3   ROLE_ROLLUP_1     32769 non-null  int64\n",
      " 4   ROLE_ROLLUP_2     32769 non-null  int64\n",
      " 5   ROLE_DEPTNAME     32769 non-null  int64\n",
      " 6   ROLE_TITLE        32769 non-null  int64\n",
      " 7   ROLE_FAMILY_DESC  32769 non-null  int64\n",
      " 8   ROLE_FAMILY       32769 non-null  int64\n",
      " 9   ROLE_CODE         32769 non-null  int64\n",
      "dtypes: int64(10)\n",
      "memory usage: 2.5 MB\n"
     ]
    }
   ],
   "source": [
    "data_explore.info()"
   ]
  },
  {
   "cell_type": "markdown",
   "metadata": {
    "papermill": {
     "duration": 0.030336,
     "end_time": "2022-12-05T02:40:42.954134",
     "exception": false,
     "start_time": "2022-12-05T02:40:42.923798",
     "status": "completed"
    },
    "tags": []
   },
   "source": [
    "There is no column with null values."
   ]
  },
  {
   "cell_type": "code",
   "execution_count": 5,
   "metadata": {
    "execution": {
     "iopub.execute_input": "2022-12-05T02:40:43.020928Z",
     "iopub.status.busy": "2022-12-05T02:40:43.020012Z",
     "iopub.status.idle": "2022-12-05T02:40:43.033164Z",
     "shell.execute_reply": "2022-12-05T02:40:43.033931Z",
     "shell.execute_reply.started": "2022-12-05T02:32:55.139499Z"
    },
    "papermill": {
     "duration": 0.0491,
     "end_time": "2022-12-05T02:40:43.034115",
     "exception": false,
     "start_time": "2022-12-05T02:40:42.985015",
     "status": "completed"
    },
    "tags": []
   },
   "outputs": [
    {
     "data": {
      "text/plain": [
       "ACTION                 2\n",
       "RESOURCE            7518\n",
       "MGR_ID              4243\n",
       "ROLE_ROLLUP_1        128\n",
       "ROLE_ROLLUP_2        177\n",
       "ROLE_DEPTNAME        449\n",
       "ROLE_TITLE           343\n",
       "ROLE_FAMILY_DESC    2358\n",
       "ROLE_FAMILY           67\n",
       "ROLE_CODE            343\n",
       "dtype: int64"
      ]
     },
     "execution_count": 5,
     "metadata": {},
     "output_type": "execute_result"
    }
   ],
   "source": [
    "data_explore.nunique()"
   ]
  },
  {
   "cell_type": "markdown",
   "metadata": {
    "papermill": {
     "duration": 0.032284,
     "end_time": "2022-12-05T02:40:43.097375",
     "exception": false,
     "start_time": "2022-12-05T02:40:43.065091",
     "status": "completed"
    },
    "tags": []
   },
   "source": [
    "- In dataset description it is mention that an employee can have only one manager at a time, then we can consider that the dataset contains information of maximum 4243 employees.\n",
    "- There are same number of unique values for ROLE_TITLE and ROLE_CODE. There is 1-to-1 mapping between these columns. So for our problem only one feature is sufficent."
   ]
  },
  {
   "cell_type": "code",
   "execution_count": 6,
   "metadata": {
    "execution": {
     "iopub.execute_input": "2022-12-05T02:40:43.163112Z",
     "iopub.status.busy": "2022-12-05T02:40:43.162452Z",
     "iopub.status.idle": "2022-12-05T02:40:43.324095Z",
     "shell.execute_reply": "2022-12-05T02:40:43.323397Z",
     "shell.execute_reply.started": "2022-12-05T02:32:55.488004Z"
    },
    "papermill": {
     "duration": 0.195953,
     "end_time": "2022-12-05T02:40:43.324217",
     "exception": false,
     "start_time": "2022-12-05T02:40:43.128264",
     "status": "completed"
    },
    "tags": []
   },
   "outputs": [
    {
     "data": {
      "text/plain": [
       "<matplotlib.axes._subplots.AxesSubplot at 0x7fbda5691bd0>"
      ]
     },
     "execution_count": 6,
     "metadata": {},
     "output_type": "execute_result"
    },
    {
     "data": {
      "image/png": "[encoded data removed]",
      "text/plain": [
       "<Figure size 432x288 with 1 Axes>"
      ]
     },
     "metadata": {
      "needs_background": "light"
     },
     "output_type": "display_data"
    }
   ],
   "source": [
    "sns.countplot(x='ACTION', data=data_explore)"
   ]
  },
  {
   "cell_type": "markdown",
   "metadata": {
    "papermill": {
     "duration": 0.032042,
     "end_time": "2022-12-05T02:40:43.388712",
     "exception": false,
     "start_time": "2022-12-05T02:40:43.356670",
     "status": "completed"
    },
    "tags": []
   },
   "source": [
    "- We can see that we have imbalance dataset. There are very less records of not granting the access."
   ]
  },
  {
   "cell_type": "markdown",
   "metadata": {
    "papermill": {
     "duration": 0.031767,
     "end_time": "2022-12-05T02:40:43.452727",
     "exception": false,
     "start_time": "2022-12-05T02:40:43.420960",
     "status": "completed"
    },
    "tags": []
   },
   "source": [
    "- Lets find out top 15 Resources, Role department, Role family, Role codes for which most access is requested."
   ]
  },
  {
   "cell_type": "code",
   "execution_count": 7,
   "metadata": {
    "execution": {
     "iopub.execute_input": "2022-12-05T02:40:43.525260Z",
     "iopub.status.busy": "2022-12-05T02:40:43.524566Z",
     "iopub.status.idle": "2022-12-05T02:40:43.540989Z",
     "shell.execute_reply": "2022-12-05T02:40:43.540274Z",
     "shell.execute_reply.started": "2022-12-05T02:32:55.754284Z"
    },
    "papermill": {
     "duration": 0.056355,
     "end_time": "2022-12-05T02:40:43.541122",
     "exception": false,
     "start_time": "2022-12-05T02:40:43.484767",
     "status": "completed"
    },
    "tags": []
   },
   "outputs": [
    {
     "data": {
      "text/html": [
       "<div>\n",
       "<style scoped>\n",
       "    .dataframe tbody tr th:only-of-type {\n",
       "        vertical-align: middle;\n",
       "    }\n",
       "\n",
       "    .dataframe tbody tr th {\n",
       "        vertical-align: top;\n",
       "    }\n",
       "\n",
       "    .dataframe thead th {\n",
       "        text-align: right;\n",
       "    }\n",
       "</style>\n",
       "<table border=\"1\" class=\"dataframe\">\n",
       "  <thead>\n",
       "    <tr style=\"text-align: right;\">\n",
       "      <th>RESOURCE</th>\n",
       "      <th>4675</th>\n",
       "      <th>79092</th>\n",
       "      <th>25993</th>\n",
       "      <th>75078</th>\n",
       "      <th>3853</th>\n",
       "      <th>75834</th>\n",
       "      <th>6977</th>\n",
       "      <th>32270</th>\n",
       "      <th>42085</th>\n",
       "      <th>17308</th>\n",
       "      <th>1020</th>\n",
       "      <th>13878</th>\n",
       "      <th>42093</th>\n",
       "      <th>18418</th>\n",
       "      <th>7543</th>\n",
       "    </tr>\n",
       "  </thead>\n",
       "  <tbody>\n",
       "    <tr>\n",
       "      <th>ACTION</th>\n",
       "      <td>839</td>\n",
       "      <td>484</td>\n",
       "      <td>409</td>\n",
       "      <td>409</td>\n",
       "      <td>404</td>\n",
       "      <td>299</td>\n",
       "      <td>299</td>\n",
       "      <td>295</td>\n",
       "      <td>247</td>\n",
       "      <td>239</td>\n",
       "      <td>236</td>\n",
       "      <td>220</td>\n",
       "      <td>204</td>\n",
       "      <td>192</td>\n",
       "      <td>186</td>\n",
       "    </tr>\n",
       "  </tbody>\n",
       "</table>\n",
       "</div>"
      ],
      "text/plain": [
       "RESOURCE  4675   79092  25993  75078  3853   75834  6977   32270  42085  \\\n",
       "ACTION      839    484    409    409    404    299    299    295    247   \n",
       "\n",
       "RESOURCE  17308  1020   13878  42093  18418  7543   \n",
       "ACTION      239    236    220    204    192    186  "
      ]
     },
     "execution_count": 7,
     "metadata": {},
     "output_type": "execute_result"
    }
   ],
   "source": [
    "data_explore_resources = data_explore[['RESOURCE', \"ACTION\"]].groupby(by='RESOURCE').count()\n",
    "data_explore_resources.sort_values('ACTION', ascending=False).head(n=15).transpose()"
   ]
  },
  {
   "cell_type": "code",
   "execution_count": 8,
   "metadata": {
    "execution": {
     "iopub.execute_input": "2022-12-05T02:40:43.614173Z",
     "iopub.status.busy": "2022-12-05T02:40:43.613514Z",
     "iopub.status.idle": "2022-12-05T02:40:43.627753Z",
     "shell.execute_reply": "2022-12-05T02:40:43.626909Z",
     "shell.execute_reply.started": "2022-12-05T02:32:55.776387Z"
    },
    "papermill": {
     "duration": 0.054454,
     "end_time": "2022-12-05T02:40:43.627906",
     "exception": false,
     "start_time": "2022-12-05T02:40:43.573452",
     "status": "completed"
    },
    "tags": []
   },
   "outputs": [
    {
     "data": {
      "text/html": [
       "<div>\n",
       "<style scoped>\n",
       "    .dataframe tbody tr th:only-of-type {\n",
       "        vertical-align: middle;\n",
       "    }\n",
       "\n",
       "    .dataframe tbody tr th {\n",
       "        vertical-align: top;\n",
       "    }\n",
       "\n",
       "    .dataframe thead th {\n",
       "        text-align: right;\n",
       "    }\n",
       "</style>\n",
       "<table border=\"1\" class=\"dataframe\">\n",
       "  <thead>\n",
       "    <tr style=\"text-align: right;\">\n",
       "      <th>ROLE_DEPTNAME</th>\n",
       "      <th>117878</th>\n",
       "      <th>117941</th>\n",
       "      <th>117945</th>\n",
       "      <th>118514</th>\n",
       "      <th>117920</th>\n",
       "      <th>117884</th>\n",
       "      <th>119598</th>\n",
       "      <th>118403</th>\n",
       "      <th>119181</th>\n",
       "      <th>120722</th>\n",
       "      <th>118320</th>\n",
       "      <th>117895</th>\n",
       "      <th>118746</th>\n",
       "      <th>118783</th>\n",
       "      <th>120663</th>\n",
       "    </tr>\n",
       "  </thead>\n",
       "  <tbody>\n",
       "    <tr>\n",
       "      <th>ACTION</th>\n",
       "      <td>1135</td>\n",
       "      <td>763</td>\n",
       "      <td>659</td>\n",
       "      <td>601</td>\n",
       "      <td>597</td>\n",
       "      <td>546</td>\n",
       "      <td>543</td>\n",
       "      <td>532</td>\n",
       "      <td>525</td>\n",
       "      <td>501</td>\n",
       "      <td>435</td>\n",
       "      <td>431</td>\n",
       "      <td>415</td>\n",
       "      <td>366</td>\n",
       "      <td>335</td>\n",
       "    </tr>\n",
       "  </tbody>\n",
       "</table>\n",
       "</div>"
      ],
      "text/plain": [
       "ROLE_DEPTNAME  117878  117941  117945  118514  117920  117884  119598  118403  \\\n",
       "ACTION           1135     763     659     601     597     546     543     532   \n",
       "\n",
       "ROLE_DEPTNAME  119181  120722  118320  117895  118746  118783  120663  \n",
       "ACTION            525     501     435     431     415     366     335  "
      ]
     },
     "execution_count": 8,
     "metadata": {},
     "output_type": "execute_result"
    }
   ],
   "source": [
    "data_explore_role_dept = data_explore[['ROLE_DEPTNAME', \"ACTION\"]].groupby(by='ROLE_DEPTNAME').count()\n",
    "data_explore_role_dept.sort_values('ACTION', ascending=False).head(n=15).transpose()"
   ]
  },
  {
   "cell_type": "code",
   "execution_count": 9,
   "metadata": {
    "execution": {
     "iopub.execute_input": "2022-12-05T02:40:43.702513Z",
     "iopub.status.busy": "2022-12-05T02:40:43.701776Z",
     "iopub.status.idle": "2022-12-05T02:40:43.715948Z",
     "shell.execute_reply": "2022-12-05T02:40:43.715227Z",
     "shell.execute_reply.started": "2022-12-05T02:32:55.796031Z"
    },
    "papermill": {
     "duration": 0.054704,
     "end_time": "2022-12-05T02:40:43.716075",
     "exception": false,
     "start_time": "2022-12-05T02:40:43.661371",
     "status": "completed"
    },
    "tags": []
   },
   "outputs": [
    {
     "data": {
      "text/html": [
       "<div>\n",
       "<style scoped>\n",
       "    .dataframe tbody tr th:only-of-type {\n",
       "        vertical-align: middle;\n",
       "    }\n",
       "\n",
       "    .dataframe tbody tr th {\n",
       "        vertical-align: top;\n",
       "    }\n",
       "\n",
       "    .dataframe thead th {\n",
       "        text-align: right;\n",
       "    }\n",
       "</style>\n",
       "<table border=\"1\" class=\"dataframe\">\n",
       "  <thead>\n",
       "    <tr style=\"text-align: right;\">\n",
       "      <th>ROLE_CODE</th>\n",
       "      <th>118322</th>\n",
       "      <th>117908</th>\n",
       "      <th>118786</th>\n",
       "      <th>117880</th>\n",
       "      <th>118570</th>\n",
       "      <th>117888</th>\n",
       "      <th>118055</th>\n",
       "      <th>118687</th>\n",
       "      <th>118779</th>\n",
       "      <th>118454</th>\n",
       "      <th>120346</th>\n",
       "      <th>118332</th>\n",
       "      <th>119082</th>\n",
       "      <th>117973</th>\n",
       "      <th>118425</th>\n",
       "    </tr>\n",
       "  </thead>\n",
       "  <tbody>\n",
       "    <tr>\n",
       "      <th>ACTION</th>\n",
       "      <td>4649</td>\n",
       "      <td>3583</td>\n",
       "      <td>1772</td>\n",
       "      <td>1256</td>\n",
       "      <td>1043</td>\n",
       "      <td>806</td>\n",
       "      <td>774</td>\n",
       "      <td>597</td>\n",
       "      <td>566</td>\n",
       "      <td>521</td>\n",
       "      <td>473</td>\n",
       "      <td>467</td>\n",
       "      <td>394</td>\n",
       "      <td>384</td>\n",
       "      <td>376</td>\n",
       "    </tr>\n",
       "  </tbody>\n",
       "</table>\n",
       "</div>"
      ],
      "text/plain": [
       "ROLE_CODE  118322  117908  118786  117880  118570  117888  118055  118687  \\\n",
       "ACTION       4649    3583    1772    1256    1043     806     774     597   \n",
       "\n",
       "ROLE_CODE  118779  118454  120346  118332  119082  117973  118425  \n",
       "ACTION        566     521     473     467     394     384     376  "
      ]
     },
     "execution_count": 9,
     "metadata": {},
     "output_type": "execute_result"
    }
   ],
   "source": [
    "data_explore_role_codes = data_explore[['ROLE_CODE', \"ACTION\"]].groupby(by='ROLE_CODE').count()\n",
    "data_explore_role_codes.sort_values('ACTION', ascending=False).head(n=15).transpose()"
   ]
  },
  {
   "cell_type": "code",
   "execution_count": 10,
   "metadata": {
    "execution": {
     "iopub.execute_input": "2022-12-05T02:40:43.791742Z",
     "iopub.status.busy": "2022-12-05T02:40:43.791003Z",
     "iopub.status.idle": "2022-12-05T02:40:43.805371Z",
     "shell.execute_reply": "2022-12-05T02:40:43.804729Z",
     "shell.execute_reply.started": "2022-12-05T02:32:55.818869Z"
    },
    "papermill": {
     "duration": 0.055518,
     "end_time": "2022-12-05T02:40:43.805524",
     "exception": false,
     "start_time": "2022-12-05T02:40:43.750006",
     "status": "completed"
    },
    "tags": []
   },
   "outputs": [
    {
     "data": {
      "text/html": [
       "<div>\n",
       "<style scoped>\n",
       "    .dataframe tbody tr th:only-of-type {\n",
       "        vertical-align: middle;\n",
       "    }\n",
       "\n",
       "    .dataframe tbody tr th {\n",
       "        vertical-align: top;\n",
       "    }\n",
       "\n",
       "    .dataframe thead th {\n",
       "        text-align: right;\n",
       "    }\n",
       "</style>\n",
       "<table border=\"1\" class=\"dataframe\">\n",
       "  <thead>\n",
       "    <tr style=\"text-align: right;\">\n",
       "      <th>ROLE_FAMILY</th>\n",
       "      <th>290919</th>\n",
       "      <th>118424</th>\n",
       "      <th>19721</th>\n",
       "      <th>117887</th>\n",
       "      <th>292795</th>\n",
       "      <th>118398</th>\n",
       "      <th>308574</th>\n",
       "      <th>118453</th>\n",
       "      <th>118331</th>\n",
       "      <th>118643</th>\n",
       "      <th>118638</th>\n",
       "      <th>270488</th>\n",
       "      <th>118295</th>\n",
       "      <th>118960</th>\n",
       "      <th>118205</th>\n",
       "    </tr>\n",
       "  </thead>\n",
       "  <tbody>\n",
       "    <tr>\n",
       "      <th>ACTION</th>\n",
       "      <td>10980</td>\n",
       "      <td>2690</td>\n",
       "      <td>2636</td>\n",
       "      <td>2400</td>\n",
       "      <td>1318</td>\n",
       "      <td>1294</td>\n",
       "      <td>1287</td>\n",
       "      <td>941</td>\n",
       "      <td>892</td>\n",
       "      <td>783</td>\n",
       "      <td>783</td>\n",
       "      <td>689</td>\n",
       "      <td>493</td>\n",
       "      <td>465</td>\n",
       "      <td>449</td>\n",
       "    </tr>\n",
       "  </tbody>\n",
       "</table>\n",
       "</div>"
      ],
      "text/plain": [
       "ROLE_FAMILY  290919  118424  19721   117887  292795  118398  308574  118453  \\\n",
       "ACTION        10980    2690    2636    2400    1318    1294    1287     941   \n",
       "\n",
       "ROLE_FAMILY  118331  118643  118638  270488  118295  118960  118205  \n",
       "ACTION          892     783     783     689     493     465     449  "
      ]
     },
     "execution_count": 10,
     "metadata": {},
     "output_type": "execute_result"
    }
   ],
   "source": [
    "data_explore_role_family = data_explore[['ROLE_FAMILY', \"ACTION\"]].groupby(by='ROLE_FAMILY').count()\n",
    "data_explore_role_family.sort_values('ACTION', ascending=False).head(n=15).transpose()"
   ]
  },
  {
   "cell_type": "code",
   "execution_count": 11,
   "metadata": {
    "execution": {
     "iopub.execute_input": "2022-12-05T02:40:43.880307Z",
     "iopub.status.busy": "2022-12-05T02:40:43.879595Z",
     "iopub.status.idle": "2022-12-05T02:40:44.470185Z",
     "shell.execute_reply": "2022-12-05T02:40:44.469588Z",
     "shell.execute_reply.started": "2022-12-05T02:32:55.841108Z"
    },
    "papermill": {
     "duration": 0.630733,
     "end_time": "2022-12-05T02:40:44.470335",
     "exception": false,
     "start_time": "2022-12-05T02:40:43.839602",
     "status": "completed"
    },
    "tags": []
   },
   "outputs": [
    {
     "data": {
      "image/png": "[encoded data removed]",
      "text/plain": [
       "<Figure size 864x504 with 1 Axes>"
      ]
     },
     "metadata": {
      "needs_background": "light"
     },
     "output_type": "display_data"
    }
   ],
   "source": [
    "plt.figure(figsize=(12, 7))\n",
    "corr_matrix = data_explore.corr()\n",
    "sns.heatmap(corr_matrix, mask=np.zeros_like(corr_matrix, dtype=np.bool), square=True, annot=True, cbar=False)\n",
    "plt.tight_layout()"
   ]
  },
  {
   "cell_type": "code",
   "execution_count": 12,
   "metadata": {
    "execution": {
     "iopub.execute_input": "2022-12-05T02:40:44.550257Z",
     "iopub.status.busy": "2022-12-05T02:40:44.549495Z",
     "iopub.status.idle": "2022-12-05T02:40:44.552406Z",
     "shell.execute_reply": "2022-12-05T02:40:44.552963Z",
     "shell.execute_reply.started": "2022-12-05T02:32:56.241770Z"
    },
    "papermill": {
     "duration": 0.046229,
     "end_time": "2022-12-05T02:40:44.553115",
     "exception": false,
     "start_time": "2022-12-05T02:40:44.506886",
     "status": "completed"
    },
    "tags": []
   },
   "outputs": [
    {
     "data": {
      "text/plain": [
       "ACTION              1.000000\n",
       "ROLE_CODE           0.017147\n",
       "ROLE_ROLLUP_2       0.005179\n",
       "ROLE_FAMILY_DESC    0.003565\n",
       "ROLE_DEPTNAME       0.001025\n",
       "ROLE_FAMILY         0.000502\n",
       "RESOURCE            0.000185\n",
       "MGR_ID             -0.005167\n",
       "ROLE_TITLE         -0.010169\n",
       "ROLE_ROLLUP_1      -0.013702\n",
       "Name: ACTION, dtype: float64"
      ]
     },
     "execution_count": 12,
     "metadata": {},
     "output_type": "execute_result"
    }
   ],
   "source": [
    "corr_matrix['ACTION'].sort_values(ascending=False)"
   ]
  },
  {
   "cell_type": "markdown",
   "metadata": {
    "papermill": {
     "duration": 0.036992,
     "end_time": "2022-12-05T02:40:44.628366",
     "exception": false,
     "start_time": "2022-12-05T02:40:44.591374",
     "status": "completed"
    },
    "tags": []
   },
   "source": [
    "- There is no attribute to which target variable is strongly correlated."
   ]
  },
  {
   "cell_type": "markdown",
   "metadata": {
    "papermill": {
     "duration": 0.042068,
     "end_time": "2022-12-05T02:40:44.713901",
     "exception": false,
     "start_time": "2022-12-05T02:40:44.671833",
     "status": "completed"
    },
    "tags": []
   },
   "source": [
    "## Data Preprocessing"
   ]
  },
  {
   "cell_type": "code",
   "execution_count": 13,
   "metadata": {
    "execution": {
     "iopub.execute_input": "2022-12-05T02:40:44.792631Z",
     "iopub.status.busy": "2022-12-05T02:40:44.791925Z",
     "iopub.status.idle": "2022-12-05T02:40:45.087022Z",
     "shell.execute_reply": "2022-12-05T02:40:45.087581Z",
     "shell.execute_reply.started": "2022-12-05T02:32:56.252162Z"
    },
    "papermill": {
     "duration": 0.335809,
     "end_time": "2022-12-05T02:40:45.087762",
     "exception": false,
     "start_time": "2022-12-05T02:40:44.751953",
     "status": "completed"
    },
    "tags": []
   },
   "outputs": [],
   "source": [
    "from sklearn.impute import SimpleImputer\n",
    "from sklearn.preprocessing import OrdinalEncoder, OneHotEncoder\n",
    "from sklearn.pipeline import Pipeline\n",
    "from sklearn.compose import ColumnTransformer"
   ]
  },
  {
   "cell_type": "code",
   "execution_count": 14,
   "metadata": {
    "execution": {
     "iopub.execute_input": "2022-12-05T02:40:45.163541Z",
     "iopub.status.busy": "2022-12-05T02:40:45.162863Z",
     "iopub.status.idle": "2022-12-05T02:40:45.174977Z",
     "shell.execute_reply": "2022-12-05T02:40:45.175554Z",
     "shell.execute_reply.started": "2022-12-05T02:32:56.261542Z"
    },
    "papermill": {
     "duration": 0.051444,
     "end_time": "2022-12-05T02:40:45.175711",
     "exception": false,
     "start_time": "2022-12-05T02:40:45.124267",
     "status": "completed"
    },
    "tags": []
   },
   "outputs": [
    {
     "data": {
      "text/plain": [
       "((32769, 9), (32769,))"
      ]
     },
     "execution_count": 14,
     "metadata": {},
     "output_type": "execute_result"
    }
   ],
   "source": [
    "X = data.drop(columns=['ACTION'], axis=1).copy()\n",
    "y = data['ACTION'].copy()\n",
    "X.shape, y.shape"
   ]
  },
  {
   "cell_type": "code",
   "execution_count": 15,
   "metadata": {
    "execution": {
     "iopub.execute_input": "2022-12-05T02:40:45.252128Z",
     "iopub.status.busy": "2022-12-05T02:40:45.251408Z",
     "iopub.status.idle": "2022-12-05T02:40:45.256293Z",
     "shell.execute_reply": "2022-12-05T02:40:45.256863Z",
     "shell.execute_reply.started": "2022-12-05T02:32:56.279331Z"
    },
    "papermill": {
     "duration": 0.044638,
     "end_time": "2022-12-05T02:40:45.257023",
     "exception": false,
     "start_time": "2022-12-05T02:40:45.212385",
     "status": "completed"
    },
    "tags": []
   },
   "outputs": [
    {
     "data": {
      "text/plain": [
       "['RESOURCE',\n",
       " 'MGR_ID',\n",
       " 'ROLE_ROLLUP_1',\n",
       " 'ROLE_ROLLUP_2',\n",
       " 'ROLE_DEPTNAME',\n",
       " 'ROLE_TITLE',\n",
       " 'ROLE_FAMILY_DESC',\n",
       " 'ROLE_FAMILY',\n",
       " 'ROLE_CODE']"
      ]
     },
     "execution_count": 15,
     "metadata": {},
     "output_type": "execute_result"
    }
   ],
   "source": [
    "cat_attrs = list(X.columns)\n",
    "cat_attrs"
   ]
  },
  {
   "cell_type": "code",
   "execution_count": 16,
   "metadata": {
    "execution": {
     "iopub.execute_input": "2022-12-05T02:40:45.341278Z",
     "iopub.status.busy": "2022-12-05T02:40:45.340572Z",
     "iopub.status.idle": "2022-12-05T02:40:45.376545Z",
     "shell.execute_reply": "2022-12-05T02:40:45.375968Z",
     "shell.execute_reply.started": "2022-12-05T02:32:56.289694Z"
    },
    "papermill": {
     "duration": 0.082129,
     "end_time": "2022-12-05T02:40:45.376679",
     "exception": false,
     "start_time": "2022-12-05T02:40:45.294550",
     "status": "completed"
    },
    "tags": []
   },
   "outputs": [
    {
     "data": {
      "text/plain": [
       "((26215, 9), (6554, 9))"
      ]
     },
     "execution_count": 16,
     "metadata": {},
     "output_type": "execute_result"
    }
   ],
   "source": [
    "from sklearn.model_selection import StratifiedShuffleSplit\n",
    "\n",
    "split = StratifiedShuffleSplit(n_splits=1, test_size=0.2, random_state=42)\n",
    "\n",
    "for train_index, test_index in split.split(X, y):\n",
    "    strat_train_set = data.iloc[train_index]\n",
    "    strat_test_set = data.iloc[test_index]\n",
    "\n",
    "X_train = strat_train_set.drop('ACTION', axis=1)\n",
    "y_train = strat_train_set['ACTION'].copy()\n",
    "X_test = strat_test_set.drop('ACTION', axis=1)\n",
    "y_test = strat_test_set['ACTION'].copy()\n",
    "X_train.shape, X_test.shape"
   ]
  },
  {
   "cell_type": "code",
   "execution_count": 17,
   "metadata": {
    "execution": {
     "iopub.execute_input": "2022-12-05T02:40:45.469167Z",
     "iopub.status.busy": "2022-12-05T02:40:45.468079Z",
     "iopub.status.idle": "2022-12-05T02:40:45.566038Z",
     "shell.execute_reply": "2022-12-05T02:40:45.566547Z",
     "shell.execute_reply.started": "2022-12-05T02:32:56.321420Z"
    },
    "papermill": {
     "duration": 0.148217,
     "end_time": "2022-12-05T02:40:45.566718",
     "exception": false,
     "start_time": "2022-12-05T02:40:45.418501",
     "status": "completed"
    },
    "tags": []
   },
   "outputs": [
    {
     "data": {
      "text/plain": [
       "((26215, 14410), (6554, 14410))"
      ]
     },
     "execution_count": 17,
     "metadata": {},
     "output_type": "execute_result"
    }
   ],
   "source": [
    "cat_pipeline = Pipeline([('imputer', SimpleImputer(strategy='most_frequent')),\n",
    "                         ('cat_enc', OneHotEncoder(handle_unknown='ignore'))])\n",
    "\n",
    "pre_process = ColumnTransformer([('cat_process', cat_pipeline, cat_attrs)], remainder='passthrough')\n",
    "\n",
    "X_train_transformed = pre_process.fit_transform(X_train)\n",
    "X_test_transformed = pre_process.transform(X_test)\n",
    "X_train_transformed.shape, X_test_transformed.shape"
   ]
  },
  {
   "cell_type": "markdown",
   "metadata": {
    "papermill": {
     "duration": 0.039746,
     "end_time": "2022-12-05T02:40:45.643763",
     "exception": false,
     "start_time": "2022-12-05T02:40:45.604017",
     "status": "completed"
    },
    "tags": []
   },
   "source": [
    "- Since I will be using CatBoost Classifier. For CatBoost model, there is no need of encoding categorical model. Hence I will be creating a separate preprocessing pipeline for CatBoost model."
   ]
  },
  {
   "cell_type": "code",
   "execution_count": 18,
   "metadata": {
    "execution": {
     "iopub.execute_input": "2022-12-05T02:40:45.728960Z",
     "iopub.status.busy": "2022-12-05T02:40:45.727903Z",
     "iopub.status.idle": "2022-12-05T02:40:45.759626Z",
     "shell.execute_reply": "2022-12-05T02:40:45.760218Z",
     "shell.execute_reply.started": "2022-12-05T02:32:56.402786Z"
    },
    "papermill": {
     "duration": 0.078743,
     "end_time": "2022-12-05T02:40:45.760366",
     "exception": false,
     "start_time": "2022-12-05T02:40:45.681623",
     "status": "completed"
    },
    "tags": []
   },
   "outputs": [
    {
     "data": {
      "text/plain": [
       "((26215, 9), (6554, 9))"
      ]
     },
     "execution_count": 18,
     "metadata": {},
     "output_type": "execute_result"
    }
   ],
   "source": [
    "cat_boost_pre_process = ColumnTransformer([('imputer', SimpleImputer(strategy='most_frequent'), cat_attrs)], remainder='passthrough')\n",
    "\n",
    "X_cb_train_transformed = cat_boost_pre_process.fit_transform(X_train)\n",
    "X_cb_test_transformed = cat_boost_pre_process.transform(X_test)\n",
    "X_cb_train_transformed.shape, X_cb_test_transformed.shape"
   ]
  },
  {
   "cell_type": "code",
   "execution_count": 19,
   "metadata": {
    "execution": {
     "iopub.execute_input": "2022-12-05T02:40:45.839342Z",
     "iopub.status.busy": "2022-12-05T02:40:45.838340Z",
     "iopub.status.idle": "2022-12-05T02:40:45.859372Z",
     "shell.execute_reply": "2022-12-05T02:40:45.859908Z",
     "shell.execute_reply.started": "2022-12-05T02:32:56.439834Z"
    },
    "papermill": {
     "duration": 0.061927,
     "end_time": "2022-12-05T02:40:45.860067",
     "exception": false,
     "start_time": "2022-12-05T02:40:45.798140",
     "status": "completed"
    },
    "tags": []
   },
   "outputs": [
    {
     "data": {
      "text/plain": [
       "14410"
      ]
     },
     "execution_count": 19,
     "metadata": {},
     "output_type": "execute_result"
    }
   ],
   "source": [
    "feature_columns = list(pre_process.transformers_[0][1]['cat_enc'].get_feature_names(cat_attrs))\n",
    "len(feature_columns)"
   ]
  },
  {
   "cell_type": "markdown",
   "metadata": {
    "papermill": {
     "duration": 0.037235,
     "end_time": "2022-12-05T02:40:45.935161",
     "exception": false,
     "start_time": "2022-12-05T02:40:45.897926",
     "status": "completed"
    },
    "tags": []
   },
   "source": [
    "## Modelling"
   ]
  },
  {
   "cell_type": "markdown",
   "metadata": {
    "papermill": {
     "duration": 0.038332,
     "end_time": "2022-12-05T02:40:46.011342",
     "exception": false,
     "start_time": "2022-12-05T02:40:45.973010",
     "status": "completed"
    },
    "tags": []
   },
   "source": [
    "- Evaluation metric for this competition is ROC AUC Score.\n",
    "- Since we have imbalance dataset, I will use Matthews correlation coefficient (MCC) as another evaluation metric. \n",
    "- Value of MCC is lies between -1 to +1. A coefficient of +1 represents a perfect prediction, 0 an average random prediction and -1 an inverse prediction.\n",
    "    - ${MCC} = \\frac{(TP + TN) * (FP + FN)}{\\sqrt{( (TP +FP) * (TP + FN) * (TN + FP) * (TN + FN))}}$\n",
    "    \n",
    "- MCC value will be high only if model has high accuracy on predictions of negative data instances as well as of positive data instances.\n",
    "- I will be selecting the best model with highest ROC AUC Score."
   ]
  },
  {
   "cell_type": "code",
   "execution_count": 20,
   "metadata": {
    "execution": {
     "iopub.execute_input": "2022-12-05T02:40:46.090255Z",
     "iopub.status.busy": "2022-12-05T02:40:46.089545Z",
     "iopub.status.idle": "2022-12-05T02:40:46.094606Z",
     "shell.execute_reply": "2022-12-05T02:40:46.094043Z",
     "shell.execute_reply.started": "2022-12-05T02:32:56.463238Z"
    },
    "papermill": {
     "duration": 0.045544,
     "end_time": "2022-12-05T02:40:46.094745",
     "exception": false,
     "start_time": "2022-12-05T02:40:46.049201",
     "status": "completed"
    },
    "tags": []
   },
   "outputs": [],
   "source": [
    "from sklearn.model_selection import KFold, cross_val_score\n",
    "\n",
    "kf = KFold(n_splits=5, shuffle=True, random_state=42)"
   ]
  },
  {
   "cell_type": "code",
   "execution_count": 21,
   "metadata": {
    "execution": {
     "iopub.execute_input": "2022-12-05T02:40:46.175234Z",
     "iopub.status.busy": "2022-12-05T02:40:46.174559Z",
     "iopub.status.idle": "2022-12-05T02:40:46.271192Z",
     "shell.execute_reply": "2022-12-05T02:40:46.270488Z",
     "shell.execute_reply.started": "2022-12-05T02:32:56.474003Z"
    },
    "papermill": {
     "duration": 0.138443,
     "end_time": "2022-12-05T02:40:46.271311",
     "exception": false,
     "start_time": "2022-12-05T02:40:46.132868",
     "status": "completed"
    },
    "tags": []
   },
   "outputs": [],
   "source": [
    "from sklearn.metrics import matthews_corrcoef, make_scorer, roc_auc_score, roc_curve\n",
    "Matthew = make_scorer(matthews_corrcoef)\n",
    "\n",
    "results = []\n",
    "\n",
    "def plot_custom_roc_curve(clf_name, y_true, y_scores):\n",
    "    auc_score = np.round(roc_auc_score(y_true, y_scores), 3)\n",
    "    fpr, tpr, thresholds = roc_curve(y_true, y_scores)\n",
    "    plt.plot(fpr, tpr, linewidth=2, label=clf_name+\" (AUC Score: {})\".format(str(auc_score)))\n",
    "    plt.plot([0, 1], [0, 1], 'k--') # Dashed diagonal\n",
    "    plt.axis([0, 1, 0, 1])\n",
    "    plt.xlabel(\"FPR\", fontsize=16)\n",
    "    plt.ylabel(\"TPR\", fontsize=16)\n",
    "    plt.legend()\n",
    "    \n",
    "    \n",
    "def performance_measures(model, X_tr=X_train_transformed, y_tr=y_train, X_ts=X_test_transformed, y_ts=y_test,\n",
    "                         store_results=True):\n",
    "    train_mcc = cross_val_score(model, X_tr, y_tr, scoring=Matthew, cv=kf, n_jobs=-1)\n",
    "    test_mcc = cross_val_score(model, X_ts, y_ts, scoring=Matthew, cv=kf, n_jobs=-1)\n",
    "    print(\"Mean Train MCC: {}\\nMean Test MCC: {}\".format(train_mcc.mean(), test_mcc.mean()))\n",
    "\n",
    "    \n",
    "    train_roc_auc = cross_val_score(model, X_tr, y_tr, scoring='roc_auc', cv=kf, n_jobs=-1)\n",
    "    test_roc_auc = cross_val_score(model, X_ts, y_ts, scoring='roc_auc', cv=kf, n_jobs=-1)\n",
    "    print(\"Mean Train ROC AUC Score: {}\\nMean Test ROC AUC Score: {}\".format(train_roc_auc.mean(), test_roc_auc.mean()))\n",
    "    \n",
    "    if store_results:\n",
    "        results.append([model.__class__.__name__, np.round(np.mean(train_roc_auc), 3), np.round(np.mean(test_roc_auc), 3), np.round(np.mean(train_mcc), 3), np.round(np.mean(test_mcc), 3)])"
   ]
  },
  {
   "cell_type": "code",
   "execution_count": 22,
   "metadata": {
    "execution": {
     "iopub.execute_input": "2022-12-05T02:40:46.356649Z",
     "iopub.status.busy": "2022-12-05T02:40:46.355956Z",
     "iopub.status.idle": "2022-12-05T02:40:46.358878Z",
     "shell.execute_reply": "2022-12-05T02:40:46.358284Z",
     "shell.execute_reply.started": "2022-12-05T02:32:56.491117Z"
    },
    "papermill": {
     "duration": 0.049747,
     "end_time": "2022-12-05T02:40:46.358994",
     "exception": false,
     "start_time": "2022-12-05T02:40:46.309247",
     "status": "completed"
    },
    "tags": []
   },
   "outputs": [],
   "source": [
    "def plot_feature_importance(feature_columns, importance_values, top_n_features=10):\n",
    "    feature_imp = [ col for col in zip(feature_columns, importance_values)]\n",
    "    feature_imp.sort(key=lambda x:x[1], reverse=True)\n",
    "    \n",
    "    if top_n_features:\n",
    "        imp = pd.DataFrame(feature_imp[0:top_n_features], columns=['feature', 'importance'])\n",
    "    else:\n",
    "        imp = pd.DataFrame(feature_imp, columns=['feature', 'importance'])\n",
    "    plt.figure(figsize=(10, 8))\n",
    "    sns.barplot(y='feature', x='importance', data=imp, orient='h')\n",
    "    plt.title('Most Important Features', fontsize=16)\n",
    "    plt.ylabel(\"Feature\", fontsize=16)\n",
    "    plt.xlabel(\"\")\n",
    "    plt.show()"
   ]
  },
  {
   "cell_type": "markdown",
   "metadata": {
    "papermill": {
     "duration": 0.037994,
     "end_time": "2022-12-05T02:40:46.434935",
     "exception": false,
     "start_time": "2022-12-05T02:40:46.396941",
     "status": "completed"
    },
    "tags": []
   },
   "source": [
    "# **XGBoost**"
   ]
  },
  {
   "cell_type": "code",
   "execution_count": 23,
   "metadata": {
    "execution": {
     "iopub.execute_input": "2022-12-05T02:40:46.516617Z",
     "iopub.status.busy": "2022-12-05T02:40:46.515875Z",
     "iopub.status.idle": "2022-12-05T02:41:08.713728Z",
     "shell.execute_reply": "2022-12-05T02:41:08.712980Z",
     "shell.execute_reply.started": "2022-12-05T02:32:56.510894Z"
    },
    "papermill": {
     "duration": 22.241074,
     "end_time": "2022-12-05T02:41:08.713867",
     "exception": false,
     "start_time": "2022-12-05T02:40:46.472793",
     "status": "completed"
    },
    "tags": []
   },
   "outputs": [
    {
     "data": {
      "text/plain": [
       "XGBClassifier(base_score=0.5, booster='gbtree', colsample_bylevel=1,\n",
       "              colsample_bynode=1, colsample_bytree=1, gamma=0, gpu_id=-1,\n",
       "              importance_type='gain', interaction_constraints='',\n",
       "              learning_rate=0.1, max_delta_step=0, max_depth=16,\n",
       "              min_child_weight=1, missing=nan, monotone_constraints='()',\n",
       "              n_estimators=300, n_jobs=-1, num_parallel_tree=1, random_state=42,\n",
       "              reg_alpha=0, reg_lambda=1, scale_pos_weight=1, subsample=1,\n",
       "              tree_method='exact', validate_parameters=1, verbosity=None)"
      ]
     },
     "execution_count": 23,
     "metadata": {},
     "output_type": "execute_result"
    }
   ],
   "source": [
    "from xgboost import XGBClassifier\n",
    "\n",
    "xgb_clf = XGBClassifier(n_estimators=300, max_depth=16, learning_rate=0.1, random_state=42, n_jobs=-1)\n",
    "xgb_clf.fit(X_train_transformed, y_train)"
   ]
  },
  {
   "cell_type": "code",
   "execution_count": 24,
   "metadata": {
    "execution": {
     "iopub.execute_input": "2022-12-05T02:41:08.800143Z",
     "iopub.status.busy": "2022-12-05T02:41:08.799168Z",
     "iopub.status.idle": "2022-12-05T02:41:09.271942Z",
     "shell.execute_reply": "2022-12-05T02:41:09.272878Z",
     "shell.execute_reply.started": "2022-12-05T02:33:14.334016Z"
    },
    "papermill": {
     "duration": 0.516927,
     "end_time": "2022-12-05T02:41:09.273053",
     "exception": false,
     "start_time": "2022-12-05T02:41:08.756126",
     "status": "completed"
    },
    "tags": []
   },
   "outputs": [
    {
     "data": {
      "image/png": "[encoded data removed]",
      "text/plain": [
       "<Figure size 720x576 with 1 Axes>"
      ]
     },
     "metadata": {
      "needs_background": "light"
     },
     "output_type": "display_data"
    }
   ],
   "source": [
    "plot_feature_importance(feature_columns, xgb_clf.feature_importances_, top_n_features=15)"
   ]
  },
  {
   "cell_type": "code",
   "execution_count": 25,
   "metadata": {
    "execution": {
     "iopub.execute_input": "2022-12-05T02:41:09.358669Z",
     "iopub.status.busy": "2022-12-05T02:41:09.357917Z",
     "iopub.status.idle": "2022-12-05T02:44:04.941063Z",
     "shell.execute_reply": "2022-12-05T02:44:04.941709Z",
     "shell.execute_reply.started": "2022-12-05T02:33:14.716671Z"
    },
    "papermill": {
     "duration": 175.628203,
     "end_time": "2022-12-05T02:44:04.941899",
     "exception": false,
     "start_time": "2022-12-05T02:41:09.313696",
     "status": "completed"
    },
    "tags": []
   },
   "outputs": [
    {
     "name": "stdout",
     "output_type": "stream",
     "text": [
      "Mean Train MCC: 0.39076287637260154\n",
      "Mean Test MCC: 0.22660323395234597\n",
      "Mean Train ROC AUC Score: 0.8358825281806868\n",
      "Mean Test ROC AUC Score: 0.7254743012261117\n"
     ]
    }
   ],
   "source": [
    "performance_measures(xgb_clf)"
   ]
  },
  {
   "cell_type": "markdown",
   "metadata": {
    "papermill": {
     "duration": 0.041171,
     "end_time": "2022-12-05T02:44:05.025588",
     "exception": false,
     "start_time": "2022-12-05T02:44:04.984417",
     "status": "completed"
    },
    "tags": []
   },
   "source": [
    "# **CatBoost**"
   ]
  },
  {
   "cell_type": "code",
   "execution_count": 26,
   "metadata": {
    "execution": {
     "iopub.execute_input": "2022-12-05T02:44:05.112580Z",
     "iopub.status.busy": "2022-12-05T02:44:05.111884Z",
     "iopub.status.idle": "2022-12-05T02:44:26.640529Z",
     "shell.execute_reply": "2022-12-05T02:44:26.639382Z",
     "shell.execute_reply.started": "2022-12-05T02:35:28.206283Z"
    },
    "papermill": {
     "duration": 21.573867,
     "end_time": "2022-12-05T02:44:26.640717",
     "exception": false,
     "start_time": "2022-12-05T02:44:05.066850",
     "status": "completed"
    },
    "tags": []
   },
   "outputs": [
    {
     "data": {
      "text/plain": [
       "<catboost.core.CatBoostClassifier at 0x7fbd9196e1d0>"
      ]
     },
     "execution_count": 26,
     "metadata": {},
     "output_type": "execute_result"
    }
   ],
   "source": [
    "from catboost import CatBoostClassifier\n",
    "\n",
    "catboost_clf = CatBoostClassifier(loss_function='Logloss', iterations=500, depth=6, l2_leaf_reg=1, \n",
    "                                  cat_features=list(range(X_cb_train_transformed.shape[1])), \n",
    "                                  eval_metric='AUC', random_state=42, verbose=0)\n",
    "catboost_clf.fit(X_cb_train_transformed, y_train)"
   ]
  },
  {
   "cell_type": "code",
   "execution_count": 27,
   "metadata": {
    "execution": {
     "iopub.execute_input": "2022-12-05T02:44:26.744281Z",
     "iopub.status.busy": "2022-12-05T02:44:26.743595Z",
     "iopub.status.idle": "2022-12-05T02:48:48.713021Z",
     "shell.execute_reply": "2022-12-05T02:48:48.713845Z",
     "shell.execute_reply.started": "2022-12-05T02:35:46.892724Z"
    },
    "papermill": {
     "duration": 262.024083,
     "end_time": "2022-12-05T02:48:48.714094",
     "exception": false,
     "start_time": "2022-12-05T02:44:26.690011",
     "status": "completed"
    },
    "tags": []
   },
   "outputs": [
    {
     "name": "stdout",
     "output_type": "stream",
     "text": [
      "Mean Train MCC: 0.4899121724824883\n",
      "Mean Test MCC: 0.25841488658401285\n",
      "Mean Train ROC AUC Score: 0.8815015986047451\n",
      "Mean Test ROC AUC Score: 0.7782526101252574\n"
     ]
    }
   ],
   "source": [
    "performance_measures(catboost_clf, X_tr=X_cb_train_transformed, X_ts=X_cb_test_transformed)"
   ]
  },
  {
   "cell_type": "code",
   "execution_count": 28,
   "metadata": {
    "execution": {
     "iopub.execute_input": "2022-12-05T02:48:48.822053Z",
     "iopub.status.busy": "2022-12-05T02:48:48.819738Z",
     "iopub.status.idle": "2022-12-05T02:48:48.993000Z",
     "shell.execute_reply": "2022-12-05T02:48:48.992283Z",
     "shell.execute_reply.started": "2022-12-05T02:39:15.936826Z"
    },
    "papermill": {
     "duration": 0.236636,
     "end_time": "2022-12-05T02:48:48.993123",
     "exception": false,
     "start_time": "2022-12-05T02:48:48.756487",
     "status": "completed"
    },
    "tags": []
   },
   "outputs": [
    {
     "data": {
      "image/png": "[encoded data removed]",
      "text/plain": [
       "<Figure size 720x576 with 1 Axes>"
      ]
     },
     "metadata": {
      "needs_background": "light"
     },
     "output_type": "display_data"
    }
   ],
   "source": [
    "plot_feature_importance(feature_columns, catboost_clf.feature_importances_, top_n_features=15)"
   ]
  },
  {
   "cell_type": "markdown",
   "metadata": {
    "papermill": {
     "duration": 0.042241,
     "end_time": "2022-12-05T02:48:49.077422",
     "exception": false,
     "start_time": "2022-12-05T02:48:49.035181",
     "status": "completed"
    },
    "tags": []
   },
   "source": [
    "# **LightGBM**"
   ]
  },
  {
   "cell_type": "code",
   "execution_count": 29,
   "metadata": {
    "execution": {
     "iopub.execute_input": "2022-12-05T02:48:49.167633Z",
     "iopub.status.busy": "2022-12-05T02:48:49.166926Z",
     "iopub.status.idle": "2022-12-05T02:48:50.258974Z",
     "shell.execute_reply": "2022-12-05T02:48:50.259564Z",
     "shell.execute_reply.started": "2022-12-05T02:39:16.102739Z"
    },
    "papermill": {
     "duration": 1.140201,
     "end_time": "2022-12-05T02:48:50.259735",
     "exception": false,
     "start_time": "2022-12-05T02:48:49.119534",
     "status": "completed"
    },
    "tags": []
   },
   "outputs": [
    {
     "data": {
      "text/plain": [
       "LGBMClassifier()"
      ]
     },
     "execution_count": 29,
     "metadata": {},
     "output_type": "execute_result"
    }
   ],
   "source": [
    "from lightgbm import LGBMClassifier\n",
    "model = LGBMClassifier()\n",
    "model.fit(X_train_transformed, y_train)"
   ]
  },
  {
   "cell_type": "code",
   "execution_count": 30,
   "metadata": {
    "execution": {
     "iopub.execute_input": "2022-12-05T02:48:50.347791Z",
     "iopub.status.busy": "2022-12-05T02:48:50.347102Z",
     "iopub.status.idle": "2022-12-05T02:48:50.595340Z",
     "shell.execute_reply": "2022-12-05T02:48:50.594816Z",
     "shell.execute_reply.started": "2022-12-05T02:39:16.951549Z"
    },
    "papermill": {
     "duration": 0.293248,
     "end_time": "2022-12-05T02:48:50.595485",
     "exception": false,
     "start_time": "2022-12-05T02:48:50.302237",
     "status": "completed"
    },
    "tags": []
   },
   "outputs": [
    {
     "data": {
      "image/png": "[encoded data removed]",
      "text/plain": [
       "<Figure size 720x576 with 1 Axes>"
      ]
     },
     "metadata": {
      "needs_background": "light"
     },
     "output_type": "display_data"
    }
   ],
   "source": [
    "plot_feature_importance(feature_columns, model.feature_importances_, top_n_features=15)"
   ]
  },
  {
   "cell_type": "code",
   "execution_count": 31,
   "metadata": {
    "execution": {
     "iopub.execute_input": "2022-12-05T02:48:50.707675Z",
     "iopub.status.busy": "2022-12-05T02:48:50.706517Z",
     "iopub.status.idle": "2022-12-05T02:48:58.485038Z",
     "shell.execute_reply": "2022-12-05T02:48:58.484213Z",
     "shell.execute_reply.started": "2022-12-05T02:39:17.163341Z"
    },
    "papermill": {
     "duration": 7.841533,
     "end_time": "2022-12-05T02:48:58.485227",
     "exception": false,
     "start_time": "2022-12-05T02:48:50.643694",
     "status": "completed"
    },
    "tags": []
   },
   "outputs": [
    {
     "name": "stdout",
     "output_type": "stream",
     "text": [
      "Mean Train MCC: 0.22872969209445185\n",
      "Mean Test MCC: 0.1584894411305095\n",
      "Mean Train ROC AUC Score: 0.8177179830855893\n",
      "Mean Test ROC AUC Score: 0.7109834573207993\n"
     ]
    }
   ],
   "source": [
    "performance_measures(model)"
   ]
  },
  {
   "cell_type": "code",
   "execution_count": 32,
   "metadata": {
    "execution": {
     "iopub.execute_input": "2022-12-05T02:48:58.577002Z",
     "iopub.status.busy": "2022-12-05T02:48:58.576300Z",
     "iopub.status.idle": "2022-12-05T02:48:58.582531Z",
     "shell.execute_reply": "2022-12-05T02:48:58.583143Z",
     "shell.execute_reply.started": "2022-12-05T02:39:23.281622Z"
    },
    "papermill": {
     "duration": 0.05365,
     "end_time": "2022-12-05T02:48:58.583307",
     "exception": false,
     "start_time": "2022-12-05T02:48:58.529657",
     "status": "completed"
    },
    "tags": []
   },
   "outputs": [],
   "source": [
    "xgb_clf_pipeline = Pipeline([('pre_process', pre_process), ('xgb_clf', xgb_clf)])\n",
    "catboost_clf_pipeline = Pipeline([('pre_process', cat_boost_pre_process), ('catboost_clf', catboost_clf)])\n",
    "model_pipeline = Pipeline([('pre_process', pre_process), ('model', model)])\n",
    "\n",
    "named_estimators = [('xgb_clf', xgb_clf_pipeline), ('catboost_clf', catboost_clf_pipeline), ('model', model_pipeline)]"
   ]
  },
  {
   "cell_type": "markdown",
   "metadata": {
    "papermill": {
     "duration": 0.043779,
     "end_time": "2022-12-05T02:48:58.671752",
     "exception": false,
     "start_time": "2022-12-05T02:48:58.627973",
     "status": "completed"
    },
    "tags": []
   },
   "source": [
    "## Model Evaluation"
   ]
  },
  {
   "cell_type": "code",
   "execution_count": 33,
   "metadata": {
    "execution": {
     "iopub.execute_input": "2022-12-05T02:48:58.764411Z",
     "iopub.status.busy": "2022-12-05T02:48:58.763758Z",
     "iopub.status.idle": "2022-12-05T02:48:58.780712Z",
     "shell.execute_reply": "2022-12-05T02:48:58.781356Z",
     "shell.execute_reply.started": "2022-12-05T02:39:23.289856Z"
    },
    "papermill": {
     "duration": 0.064392,
     "end_time": "2022-12-05T02:48:58.781526",
     "exception": false,
     "start_time": "2022-12-05T02:48:58.717134",
     "status": "completed"
    },
    "tags": []
   },
   "outputs": [
    {
     "data": {
      "text/html": [
       "<div>\n",
       "<style scoped>\n",
       "    .dataframe tbody tr th:only-of-type {\n",
       "        vertical-align: middle;\n",
       "    }\n",
       "\n",
       "    .dataframe tbody tr th {\n",
       "        vertical-align: top;\n",
       "    }\n",
       "\n",
       "    .dataframe thead th {\n",
       "        text-align: right;\n",
       "    }\n",
       "</style>\n",
       "<table border=\"1\" class=\"dataframe\">\n",
       "  <thead>\n",
       "    <tr style=\"text-align: right;\">\n",
       "      <th></th>\n",
       "      <th>Model</th>\n",
       "      <th>CV Train AUC Score</th>\n",
       "      <th>CV Test AUC Score</th>\n",
       "      <th>CV Train MCC</th>\n",
       "      <th>CV Test MCC</th>\n",
       "    </tr>\n",
       "  </thead>\n",
       "  <tbody>\n",
       "    <tr>\n",
       "      <th>0</th>\n",
       "      <td>XGBClassifier</td>\n",
       "      <td>0.836</td>\n",
       "      <td>0.725</td>\n",
       "      <td>0.391</td>\n",
       "      <td>0.227</td>\n",
       "    </tr>\n",
       "    <tr>\n",
       "      <th>1</th>\n",
       "      <td>CatBoostClassifier</td>\n",
       "      <td>0.882</td>\n",
       "      <td>0.778</td>\n",
       "      <td>0.490</td>\n",
       "      <td>0.258</td>\n",
       "    </tr>\n",
       "    <tr>\n",
       "      <th>2</th>\n",
       "      <td>LGBMClassifier</td>\n",
       "      <td>0.818</td>\n",
       "      <td>0.711</td>\n",
       "      <td>0.229</td>\n",
       "      <td>0.158</td>\n",
       "    </tr>\n",
       "  </tbody>\n",
       "</table>\n",
       "</div>"
      ],
      "text/plain": [
       "                Model  CV Train AUC Score  CV Test AUC Score  CV Train MCC  \\\n",
       "0       XGBClassifier               0.836              0.725         0.391   \n",
       "1  CatBoostClassifier               0.882              0.778         0.490   \n",
       "2      LGBMClassifier               0.818              0.711         0.229   \n",
       "\n",
       "   CV Test MCC  \n",
       "0        0.227  \n",
       "1        0.258  \n",
       "2        0.158  "
      ]
     },
     "execution_count": 33,
     "metadata": {},
     "output_type": "execute_result"
    }
   ],
   "source": [
    "result_df = pd.DataFrame(results, columns=['Model', 'CV Train AUC Score', 'CV Test AUC Score', 'CV Train MCC', 'CV Test MCC'])\n",
    "result_df"
   ]
  },
  {
   "cell_type": "code",
   "execution_count": 34,
   "metadata": {
    "execution": {
     "iopub.execute_input": "2022-12-05T02:48:58.874174Z",
     "iopub.status.busy": "2022-12-05T02:48:58.873503Z",
     "iopub.status.idle": "2022-12-05T02:48:59.321207Z",
     "shell.execute_reply": "2022-12-05T02:48:59.320591Z",
     "shell.execute_reply.started": "2022-12-05T02:39:23.320560Z"
    },
    "papermill": {
     "duration": 0.495393,
     "end_time": "2022-12-05T02:48:59.321328",
     "exception": false,
     "start_time": "2022-12-05T02:48:58.825935",
     "status": "completed"
    },
    "tags": []
   },
   "outputs": [
    {
     "data": {
      "image/png": "[encoded data removed]",
      "text/plain": [
       "<Figure size 576x360 with 1 Axes>"
      ]
     },
     "metadata": {
      "needs_background": "light"
     },
     "output_type": "display_data"
    }
   ],
   "source": [
    "plt.figure(figsize=(8, 5))\n",
    "plot_custom_roc_curve('XGBoost', y_test, xgb_clf.predict_proba(X_test_transformed)[:,1])\n",
    "plot_custom_roc_curve('CatBoost', y_test, catboost_clf.predict_proba(X_cb_test_transformed)[:,1])\n",
    "plot_custom_roc_curve('LightGBM', y_test, model.predict_proba(X_test_transformed)[:,1])\n",
    "plt.show()"
   ]
  }
 ],
 "metadata": {
  "kernelspec": {
   "display_name": "Python 3 (ipykernel)",
   "language": "python",
   "name": "python3"
  },
  "language_info": {
   "codemirror_mode": {
    "name": "ipython",
    "version": 3
   },
   "file_extension": ".py",
   "mimetype": "text/x-python",
   "name": "python",
   "nbconvert_exporter": "python",
   "pygments_lexer": "ipython3",
   "version": "3.9.12"
  },
  "papermill": {
   "duration": 502.410386,
   "end_time": "2022-12-05T02:48:59.488495",
   "environment_variables": {},
   "exception": null,
   "input_path": "__notebook__.ipynb",
   "output_path": "__notebook__.ipynb",
   "parameters": {},
   "start_time": "2022-12-05T02:40:37.078109",
   "version": "2.1.0"
  }
 },
 "nbformat": 4,
 "nbformat_minor": 4
}
